{
 "cells": [
  {
   "cell_type": "code",
   "execution_count": 1,
   "metadata": {},
   "outputs": [],
   "source": [
    "import pandas as pd\n",
    "import os\n",
    "import numpy as np\n",
    "import plotly.graph_objects as go\n",
    "import plotly.express as px"
   ]
  },
  {
   "cell_type": "code",
   "execution_count": 2,
   "metadata": {},
   "outputs": [],
   "source": [
    "df = pd.read_csv(os.path.join('WWR per cluster','WWR per cluster.gz'))"
   ]
  },
  {
   "cell_type": "code",
   "execution_count": 3,
   "metadata": {},
   "outputs": [
    {
     "data": {
      "text/plain": [
       "['X',\n",
       " 'Y',\n",
       " 'CI',\n",
       " 'GroundwaterDepth',\n",
       " 'IrrigatedArea',\n",
       " 'Population',\n",
       " 'Region',\n",
       " 'TDS',\n",
       " 'geometry',\n",
       " 'prec_1',\n",
       " 'prec_2',\n",
       " 'prec_3',\n",
       " 'prec_4',\n",
       " 'prec_5',\n",
       " 'prec_6',\n",
       " 'prec_7',\n",
       " 'prec_8',\n",
       " 'prec_9',\n",
       " 'prec_10',\n",
       " 'prec_11',\n",
       " 'prec_12',\n",
       " 'wind_1',\n",
       " 'wind_2',\n",
       " 'wind_3',\n",
       " 'wind_4',\n",
       " 'wind_5',\n",
       " 'wind_6',\n",
       " 'wind_7',\n",
       " 'wind_8',\n",
       " 'wind_9',\n",
       " 'wind_10',\n",
       " 'wind_11',\n",
       " 'wind_12',\n",
       " 'tmin_1',\n",
       " 'tmin_2',\n",
       " 'tmin_3',\n",
       " 'tmin_4',\n",
       " 'tmin_5',\n",
       " 'tmin_6',\n",
       " 'tmin_7',\n",
       " 'tmin_8',\n",
       " 'tmin_9',\n",
       " 'tmin_10',\n",
       " 'tmin_11',\n",
       " 'tmin_12',\n",
       " 'tmax_1',\n",
       " 'tmax_2',\n",
       " 'tmax_3',\n",
       " 'tmax_4',\n",
       " 'tmax_5',\n",
       " 'tmax_6',\n",
       " 'tmax_7',\n",
       " 'tmax_8',\n",
       " 'tmax_9',\n",
       " 'tmax_10',\n",
       " 'tmax_11',\n",
       " 'tmax_12',\n",
       " 'tavg_1',\n",
       " 'tavg_2',\n",
       " 'tavg_3',\n",
       " 'tavg_4',\n",
       " 'tavg_5',\n",
       " 'tavg_6',\n",
       " 'tavg_7',\n",
       " 'tavg_8',\n",
       " 'tavg_9',\n",
       " 'tavg_10',\n",
       " 'tavg_11',\n",
       " 'tavg_12',\n",
       " 'elevation',\n",
       " 'lat',\n",
       " 'long',\n",
       " 'srad_1',\n",
       " 'srad_2',\n",
       " 'srad_3',\n",
       " 'srad_4',\n",
       " 'srad_5',\n",
       " 'srad_6',\n",
       " 'srad_7',\n",
       " 'srad_8',\n",
       " 'srad_9',\n",
       " 'srad_10',\n",
       " 'srad_11',\n",
       " 'srad_12',\n",
       " 'crop_share',\n",
       " 'ETo_1',\n",
       " 'ETo_2',\n",
       " 'ETo_3',\n",
       " 'ETo_4',\n",
       " 'ETo_5',\n",
       " 'ETo_6',\n",
       " 'ETo_7',\n",
       " 'ETo_8',\n",
       " 'ETo_9',\n",
       " 'ETo_10',\n",
       " 'ETo_11',\n",
       " 'ETo_12',\n",
       " 'eff_1',\n",
       " 'eff_2',\n",
       " 'eff_3',\n",
       " 'eff_4',\n",
       " 'eff_5',\n",
       " 'eff_6',\n",
       " 'eff_7',\n",
       " 'eff_8',\n",
       " 'eff_9',\n",
       " 'eff_10',\n",
       " 'eff_11',\n",
       " 'eff_12',\n",
       " 'PCWR_1',\n",
       " 'PWD_1',\n",
       " 'SSWD_1',\n",
       " 'PCWR_2',\n",
       " 'PWD_2',\n",
       " 'SSWD_2',\n",
       " 'PCWR_3',\n",
       " 'PWD_3',\n",
       " 'SSWD_3',\n",
       " 'PCWR_4',\n",
       " 'PWD_4',\n",
       " 'SSWD_4',\n",
       " 'PCWR_5',\n",
       " 'PWD_5',\n",
       " 'SSWD_5',\n",
       " 'PCWR_6',\n",
       " 'PWD_6',\n",
       " 'SSWD_6',\n",
       " 'PCWR_7',\n",
       " 'PWD_7',\n",
       " 'SSWD_7',\n",
       " 'PCWR_8',\n",
       " 'PWD_8',\n",
       " 'SSWD_8',\n",
       " 'PCWR_9',\n",
       " 'PWD_9',\n",
       " 'SSWD_9',\n",
       " 'PCWR_10',\n",
       " 'PWD_10',\n",
       " 'SSWD_10',\n",
       " 'PCWR_11',\n",
       " 'PWD_11',\n",
       " 'SSWD_11',\n",
       " 'PCWR_12',\n",
       " 'PWD_12',\n",
       " 'SSWD_12',\n",
       " 'kc_1_dates',\n",
       " 'ACWR_1_dates',\n",
       " 'harvest_1_dates',\n",
       " 'kc_2_dates',\n",
       " 'ACWR_2_dates',\n",
       " 'harvest_2_dates',\n",
       " 'kc_3_dates',\n",
       " 'ACWR_3_dates',\n",
       " 'harvest_3_dates',\n",
       " 'kc_4_dates',\n",
       " 'ACWR_4_dates',\n",
       " 'harvest_4_dates',\n",
       " 'kc_5_dates',\n",
       " 'ACWR_5_dates',\n",
       " 'harvest_5_dates',\n",
       " 'kc_6_dates',\n",
       " 'ACWR_6_dates',\n",
       " 'harvest_6_dates',\n",
       " 'kc_7_dates',\n",
       " 'ACWR_7_dates',\n",
       " 'harvest_7_dates',\n",
       " 'kc_8_dates',\n",
       " 'ACWR_8_dates',\n",
       " 'harvest_8_dates',\n",
       " 'kc_9_dates',\n",
       " 'ACWR_9_dates',\n",
       " 'harvest_9_dates',\n",
       " 'kc_10_dates',\n",
       " 'ACWR_10_dates',\n",
       " 'harvest_10_dates',\n",
       " 'kc_11_dates',\n",
       " 'ACWR_11_dates',\n",
       " 'harvest_11_dates',\n",
       " 'kc_12_dates',\n",
       " 'ACWR_12_dates',\n",
       " 'harvest_12_dates',\n",
       " 'AgWaterReq',\n",
       " 'IsUrban',\n",
       " 'PopulationFuture',\n",
       " 'IrrigatedAreaFuture',\n",
       " 'IrrigationWater',\n",
       " 'PopulationWater',\n",
       " 'TotalWithdrawals',\n",
       " 'RechargeRate',\n",
       " 'EnvironmentalFlow',\n",
       " 'GroundwaterStress',\n",
       " 'GWPumpingEnergy',\n",
       " 'GroundwaterSolutes',\n",
       " 'GroundwaterTemperature',\n",
       " 'DesalinationEnergy',\n",
       " 'IrrigationPumpingEnergy',\n",
       " 'IrrigationDesalinationEnergy',\n",
       " 'IrrigationEnergyTotal',\n",
       " 'Cluster',\n",
       " 'PopulationPerCluster',\n",
       " 'PopulationFuturePerCluster',\n",
       " 'IrrigatedAreaPerCluster',\n",
       " 'IrrigatedAreaFuturePerCluster',\n",
       " 'PopulationWaterPerCluster',\n",
       " 'PopulationWaterFuturePerCluster',\n",
       " 'IrrigationWaterPerCluster',\n",
       " 'PopulationReclaimedWater',\n",
       " 'IrrigationReclaimedWater',\n",
       " 'PopulationFutureReclaimedWater',\n",
       " 'IrrigationFutureReclaimedWater',\n",
       " 'eto_1',\n",
       " 'eto_2',\n",
       " 'eto_3',\n",
       " 'eto_4',\n",
       " 'eto_5',\n",
       " 'eto_6',\n",
       " 'eto_7',\n",
       " 'eto_8',\n",
       " 'eto_9',\n",
       " 'eto_10',\n",
       " 'eto_11',\n",
       " 'eto_12',\n",
       " 'available_storage',\n",
       " 'leakage_month',\n",
       " 'stored_1',\n",
       " 'stored_percentage_1',\n",
       " 'stored_2',\n",
       " 'stored_percentage_2',\n",
       " 'stored_3',\n",
       " 'stored_percentage_3',\n",
       " 'stored_4',\n",
       " 'stored_percentage_4',\n",
       " 'stored_5',\n",
       " 'stored_percentage_5',\n",
       " 'stored_6',\n",
       " 'stored_percentage_6',\n",
       " 'stored_7',\n",
       " 'stored_percentage_7',\n",
       " 'stored_8',\n",
       " 'stored_percentage_8',\n",
       " 'stored_9',\n",
       " 'stored_percentage_9',\n",
       " 'stored_10',\n",
       " 'stored_percentage_10',\n",
       " 'stored_11',\n",
       " 'stored_percentage_11',\n",
       " 'stored_12',\n",
       " 'stored_percentage_12',\n",
       " 'IrrigationReusedWater',\n",
       " 'FinalIrrigationWater',\n",
       " 'PopulationReusedWater',\n",
       " 'FinalWaterWithdrawals',\n",
       " 'PopulationGrowthPerCluster',\n",
       " 'IrrigatedGrowthPerCluster',\n",
       " 'ExtendedAerationCAPEX',\n",
       " 'ExtendedAerationEnergy',\n",
       " 'Membrane BioreactorCAPEX',\n",
       " 'Membrane BioreactorEnergy',\n",
       " 'SequencingBatchReactorCAPEX',\n",
       " 'SequencingBatchReactorEnergy',\n",
       " 'RotatingBiologicalContractorsCAPEX',\n",
       " 'RotatingBiologicalContractorsEnergy',\n",
       " 'IntermittentSandFilterCAPEX',\n",
       " 'IntermittentSandFilterEnergy',\n",
       " 'TricklingFilterCAPEX',\n",
       " 'TricklingFilterEnergy',\n",
       " 'MovingBedBiofilmReactorCAPEX',\n",
       " 'MovingBedBiofilmReactorEnergy',\n",
       " 'PondSystemCAPEX',\n",
       " 'PondSystemEnergy',\n",
       " 'WetlandsCAPEX',\n",
       " 'WetlandsEnergy',\n",
       " 'ExtendedAerationLCOW_CAPEX',\n",
       " 'ExtendedAerationLCOW_OPEX',\n",
       " 'ExtendedAerationLCOW',\n",
       " 'ExtendedAerationCAPEX_LCOW',\n",
       " 'ExtendedAerationOPEX_LCOW',\n",
       " 'Membrane BioreactorLCOW_CAPEX',\n",
       " 'Membrane BioreactorLCOW_OPEX',\n",
       " 'Membrane BioreactorLCOW',\n",
       " 'Membrane BioreactorCAPEX_LCOW',\n",
       " 'Membrane BioreactorOPEX_LCOW',\n",
       " 'SequencingBatchReactorLCOW_CAPEX',\n",
       " 'SequencingBatchReactorLCOW_OPEX',\n",
       " 'SequencingBatchReactorLCOW',\n",
       " 'SequencingBatchReactorCAPEX_LCOW',\n",
       " 'SequencingBatchReactorOPEX_LCOW',\n",
       " 'RotatingBiologicalContractorsLCOW_CAPEX',\n",
       " 'RotatingBiologicalContractorsLCOW_OPEX',\n",
       " 'RotatingBiologicalContractorsLCOW',\n",
       " 'RotatingBiologicalContractorsCAPEX_LCOW',\n",
       " 'RotatingBiologicalContractorsOPEX_LCOW',\n",
       " 'IntermittentSandFilterLCOW_CAPEX',\n",
       " 'IntermittentSandFilterLCOW_OPEX',\n",
       " 'IntermittentSandFilterLCOW',\n",
       " 'IntermittentSandFilterCAPEX_LCOW',\n",
       " 'IntermittentSandFilterOPEX_LCOW',\n",
       " 'TricklingFilterLCOW_CAPEX',\n",
       " 'TricklingFilterLCOW_OPEX',\n",
       " 'TricklingFilterLCOW',\n",
       " 'TricklingFilterCAPEX_LCOW',\n",
       " 'TricklingFilterOPEX_LCOW',\n",
       " 'MovingBedBiofilmReactorLCOW_CAPEX',\n",
       " 'MovingBedBiofilmReactorLCOW_OPEX',\n",
       " 'MovingBedBiofilmReactorLCOW',\n",
       " 'MovingBedBiofilmReactorCAPEX_LCOW',\n",
       " 'MovingBedBiofilmReactorOPEX_LCOW',\n",
       " 'PondSystemLCOW_CAPEX',\n",
       " 'PondSystemLCOW_OPEX',\n",
       " 'PondSystemLCOW',\n",
       " 'PondSystemCAPEX_LCOW',\n",
       " 'PondSystemOPEX_LCOW',\n",
       " 'WetlandsLCOW_CAPEX',\n",
       " 'WetlandsLCOW_OPEX',\n",
       " 'WetlandsLCOW',\n",
       " 'WetlandsCAPEX_LCOW',\n",
       " 'WetlandsOPEX_LCOW',\n",
       " 'PopulationLeastCostTechnology',\n",
       " 'PopulationLeastCost',\n",
       " 'IrrigationLeastCostTechnology',\n",
       " 'IrrigationLeastCost',\n",
       " 'LeastCostSystem',\n",
       " 'FinalPumpingEnergy',\n",
       " 'FinalDesalinationEnergy',\n",
       " 'FinalIrrigationEnergy',\n",
       " 'FinalPopTreatmentEnergy',\n",
       " 'FinalAgriTreatmentEnergy',\n",
       " 'FinalTreatmentEnergy',\n",
       " 'GroundwaterStressEnd']"
      ]
     },
     "execution_count": 3,
     "metadata": {},
     "output_type": "execute_result"
    }
   ],
   "source": [
    "list(df)"
   ]
  },
  {
   "cell_type": "code",
   "execution_count": 4,
   "metadata": {},
   "outputs": [],
   "source": [
    "dff_water = df.groupby('Cluster').agg({'IrrigationWater': 'sum', 'PopulationWater': 'sum', 'TDS': 'mean', 'GroundwaterDepth': 'mean'})"
   ]
  },
  {
   "cell_type": "code",
   "execution_count": 5,
   "metadata": {},
   "outputs": [],
   "source": [
    "dff_water.reset_index(inplace=True)"
   ]
  },
  {
   "cell_type": "code",
   "execution_count": 22,
   "metadata": {},
   "outputs": [
    {
     "data": {
      "application/vnd.plotly.v1+json": {
       "config": {
        "plotlyServerURL": "https://plot.ly"
       },
       "data": [
        {
         "marker": {
          "color": "#e66101",
          "line": {
           "color": "Grey",
           "width": 0
          }
         },
         "name": "Irrigation water extractions",
         "orientation": "h",
         "type": "bar",
         "x": [
          48.97019976324512,
          11.732133611342308,
          81.16065316903759,
          249.82104961398906,
          91.707143269394,
          2.624440137921875,
          5.645706115292491,
          822.8583286431398,
          382.0414022052159,
          97.60112995316254,
          102.43469029633592,
          69.76185177616463,
          71.93132150838797,
          353.24380503638656,
          211.2169729306439,
          320.01481986959624,
          145.26179538153065,
          71.02953044292259,
          65.85114294399662,
          43.516639734307674,
          66.09088059110843,
          12.910706041212844,
          24.024157097705483,
          27.404742108774283,
          25.815460453698602,
          328.8152396618138,
          204.31820909739753,
          41.422592285207074,
          25.648790853332013,
          138.65753793790515,
          319.11642257979753,
          269.90686456824,
          64.80948329660377,
          13.235150133825156,
          80.69041015671036,
          30.745868896159216,
          6.3815182897284215,
          87.39361115030097,
          8.148802717423974,
          181.33320614877798
         ],
         "y": [
          0,
          1,
          2,
          3,
          4,
          5,
          6,
          7,
          8,
          9,
          10,
          11,
          12,
          13,
          14,
          15,
          16,
          17,
          18,
          19,
          20,
          21,
          22,
          23,
          24,
          25,
          26,
          27,
          28,
          29,
          30,
          31,
          32,
          33,
          34,
          35,
          36,
          37,
          38,
          39
         ]
        },
        {
         "marker": {
          "color": "#fdb863",
          "line": {
           "color": "Grey",
           "width": 0
          }
         },
         "name": "Population water extractions",
         "orientation": "h",
         "type": "bar",
         "x": [
          7.3561168633230025,
          2.2358112275879924,
          5.9190877310196175,
          0.8801649031132143,
          0.8100192321974329,
          0.7506821225023872,
          0.6625838838569965,
          24.000221323652607,
          0.6018328883554347,
          20.038567617079217,
          3.2549758243349585,
          14.196678118671853,
          3.9222812561426244,
          23.19225255753355,
          6.34238689678655,
          11.666177713767668,
          0.1839079865689419,
          0.9556913828191245,
          3.3936541521589225,
          1.3499534509607882,
          8.222796652433328,
          2.779202236982975,
          1.6558885326749468,
          3.575434824863891,
          1.3851016566079015,
          20.66338893736386,
          16.384589231632088,
          13.282269910840277,
          0.09187390632512697,
          11.013587997505542,
          6.2415798295567075,
          17.556650070240362,
          7.962968933323987,
          0.010293050555677231,
          9.398895860981984,
          4.7988383812092765,
          3.3431455155545873,
          5.845880242227826,
          7.7732226568006295,
          0.34824138721723585
         ],
         "y": [
          0,
          1,
          2,
          3,
          4,
          5,
          6,
          7,
          8,
          9,
          10,
          11,
          12,
          13,
          14,
          15,
          16,
          17,
          18,
          19,
          20,
          21,
          22,
          23,
          24,
          25,
          26,
          27,
          28,
          29,
          30,
          31,
          32,
          33,
          34,
          35,
          36,
          37,
          38,
          39
         ]
        }
       ],
       "layout": {
        "barmode": "stack",
        "height": 700,
        "legend": {
         "orientation": "h",
         "x": 0,
         "xanchor": "left",
         "y": 1.02,
         "yanchor": "bottom"
        },
        "margin": {
         "b": 0,
         "l": 0,
         "r": 0,
         "t": 0
        },
        "template": {
         "data": {
          "bar": [
           {
            "error_x": {
             "color": "#2a3f5f"
            },
            "error_y": {
             "color": "#2a3f5f"
            },
            "marker": {
             "line": {
              "color": "white",
              "width": 0.5
             }
            },
            "type": "bar"
           }
          ],
          "barpolar": [
           {
            "marker": {
             "line": {
              "color": "white",
              "width": 0.5
             }
            },
            "type": "barpolar"
           }
          ],
          "carpet": [
           {
            "aaxis": {
             "endlinecolor": "#2a3f5f",
             "gridcolor": "#C8D4E3",
             "linecolor": "#C8D4E3",
             "minorgridcolor": "#C8D4E3",
             "startlinecolor": "#2a3f5f"
            },
            "baxis": {
             "endlinecolor": "#2a3f5f",
             "gridcolor": "#C8D4E3",
             "linecolor": "#C8D4E3",
             "minorgridcolor": "#C8D4E3",
             "startlinecolor": "#2a3f5f"
            },
            "type": "carpet"
           }
          ],
          "choropleth": [
           {
            "colorbar": {
             "outlinewidth": 0,
             "ticks": ""
            },
            "type": "choropleth"
           }
          ],
          "contour": [
           {
            "colorbar": {
             "outlinewidth": 0,
             "ticks": ""
            },
            "colorscale": [
             [
              0,
              "#0d0887"
             ],
             [
              0.1111111111111111,
              "#46039f"
             ],
             [
              0.2222222222222222,
              "#7201a8"
             ],
             [
              0.3333333333333333,
              "#9c179e"
             ],
             [
              0.4444444444444444,
              "#bd3786"
             ],
             [
              0.5555555555555556,
              "#d8576b"
             ],
             [
              0.6666666666666666,
              "#ed7953"
             ],
             [
              0.7777777777777778,
              "#fb9f3a"
             ],
             [
              0.8888888888888888,
              "#fdca26"
             ],
             [
              1,
              "#f0f921"
             ]
            ],
            "type": "contour"
           }
          ],
          "contourcarpet": [
           {
            "colorbar": {
             "outlinewidth": 0,
             "ticks": ""
            },
            "type": "contourcarpet"
           }
          ],
          "heatmap": [
           {
            "colorbar": {
             "outlinewidth": 0,
             "ticks": ""
            },
            "colorscale": [
             [
              0,
              "#0d0887"
             ],
             [
              0.1111111111111111,
              "#46039f"
             ],
             [
              0.2222222222222222,
              "#7201a8"
             ],
             [
              0.3333333333333333,
              "#9c179e"
             ],
             [
              0.4444444444444444,
              "#bd3786"
             ],
             [
              0.5555555555555556,
              "#d8576b"
             ],
             [
              0.6666666666666666,
              "#ed7953"
             ],
             [
              0.7777777777777778,
              "#fb9f3a"
             ],
             [
              0.8888888888888888,
              "#fdca26"
             ],
             [
              1,
              "#f0f921"
             ]
            ],
            "type": "heatmap"
           }
          ],
          "heatmapgl": [
           {
            "colorbar": {
             "outlinewidth": 0,
             "ticks": ""
            },
            "colorscale": [
             [
              0,
              "#0d0887"
             ],
             [
              0.1111111111111111,
              "#46039f"
             ],
             [
              0.2222222222222222,
              "#7201a8"
             ],
             [
              0.3333333333333333,
              "#9c179e"
             ],
             [
              0.4444444444444444,
              "#bd3786"
             ],
             [
              0.5555555555555556,
              "#d8576b"
             ],
             [
              0.6666666666666666,
              "#ed7953"
             ],
             [
              0.7777777777777778,
              "#fb9f3a"
             ],
             [
              0.8888888888888888,
              "#fdca26"
             ],
             [
              1,
              "#f0f921"
             ]
            ],
            "type": "heatmapgl"
           }
          ],
          "histogram": [
           {
            "marker": {
             "colorbar": {
              "outlinewidth": 0,
              "ticks": ""
             }
            },
            "type": "histogram"
           }
          ],
          "histogram2d": [
           {
            "colorbar": {
             "outlinewidth": 0,
             "ticks": ""
            },
            "colorscale": [
             [
              0,
              "#0d0887"
             ],
             [
              0.1111111111111111,
              "#46039f"
             ],
             [
              0.2222222222222222,
              "#7201a8"
             ],
             [
              0.3333333333333333,
              "#9c179e"
             ],
             [
              0.4444444444444444,
              "#bd3786"
             ],
             [
              0.5555555555555556,
              "#d8576b"
             ],
             [
              0.6666666666666666,
              "#ed7953"
             ],
             [
              0.7777777777777778,
              "#fb9f3a"
             ],
             [
              0.8888888888888888,
              "#fdca26"
             ],
             [
              1,
              "#f0f921"
             ]
            ],
            "type": "histogram2d"
           }
          ],
          "histogram2dcontour": [
           {
            "colorbar": {
             "outlinewidth": 0,
             "ticks": ""
            },
            "colorscale": [
             [
              0,
              "#0d0887"
             ],
             [
              0.1111111111111111,
              "#46039f"
             ],
             [
              0.2222222222222222,
              "#7201a8"
             ],
             [
              0.3333333333333333,
              "#9c179e"
             ],
             [
              0.4444444444444444,
              "#bd3786"
             ],
             [
              0.5555555555555556,
              "#d8576b"
             ],
             [
              0.6666666666666666,
              "#ed7953"
             ],
             [
              0.7777777777777778,
              "#fb9f3a"
             ],
             [
              0.8888888888888888,
              "#fdca26"
             ],
             [
              1,
              "#f0f921"
             ]
            ],
            "type": "histogram2dcontour"
           }
          ],
          "mesh3d": [
           {
            "colorbar": {
             "outlinewidth": 0,
             "ticks": ""
            },
            "type": "mesh3d"
           }
          ],
          "parcoords": [
           {
            "line": {
             "colorbar": {
              "outlinewidth": 0,
              "ticks": ""
             }
            },
            "type": "parcoords"
           }
          ],
          "pie": [
           {
            "automargin": true,
            "type": "pie"
           }
          ],
          "scatter": [
           {
            "marker": {
             "colorbar": {
              "outlinewidth": 0,
              "ticks": ""
             }
            },
            "type": "scatter"
           }
          ],
          "scatter3d": [
           {
            "line": {
             "colorbar": {
              "outlinewidth": 0,
              "ticks": ""
             }
            },
            "marker": {
             "colorbar": {
              "outlinewidth": 0,
              "ticks": ""
             }
            },
            "type": "scatter3d"
           }
          ],
          "scattercarpet": [
           {
            "marker": {
             "colorbar": {
              "outlinewidth": 0,
              "ticks": ""
             }
            },
            "type": "scattercarpet"
           }
          ],
          "scattergeo": [
           {
            "marker": {
             "colorbar": {
              "outlinewidth": 0,
              "ticks": ""
             }
            },
            "type": "scattergeo"
           }
          ],
          "scattergl": [
           {
            "marker": {
             "colorbar": {
              "outlinewidth": 0,
              "ticks": ""
             }
            },
            "type": "scattergl"
           }
          ],
          "scattermapbox": [
           {
            "marker": {
             "colorbar": {
              "outlinewidth": 0,
              "ticks": ""
             }
            },
            "type": "scattermapbox"
           }
          ],
          "scatterpolar": [
           {
            "marker": {
             "colorbar": {
              "outlinewidth": 0,
              "ticks": ""
             }
            },
            "type": "scatterpolar"
           }
          ],
          "scatterpolargl": [
           {
            "marker": {
             "colorbar": {
              "outlinewidth": 0,
              "ticks": ""
             }
            },
            "type": "scatterpolargl"
           }
          ],
          "scatterternary": [
           {
            "marker": {
             "colorbar": {
              "outlinewidth": 0,
              "ticks": ""
             }
            },
            "type": "scatterternary"
           }
          ],
          "surface": [
           {
            "colorbar": {
             "outlinewidth": 0,
             "ticks": ""
            },
            "colorscale": [
             [
              0,
              "#0d0887"
             ],
             [
              0.1111111111111111,
              "#46039f"
             ],
             [
              0.2222222222222222,
              "#7201a8"
             ],
             [
              0.3333333333333333,
              "#9c179e"
             ],
             [
              0.4444444444444444,
              "#bd3786"
             ],
             [
              0.5555555555555556,
              "#d8576b"
             ],
             [
              0.6666666666666666,
              "#ed7953"
             ],
             [
              0.7777777777777778,
              "#fb9f3a"
             ],
             [
              0.8888888888888888,
              "#fdca26"
             ],
             [
              1,
              "#f0f921"
             ]
            ],
            "type": "surface"
           }
          ],
          "table": [
           {
            "cells": {
             "fill": {
              "color": "#EBF0F8"
             },
             "line": {
              "color": "white"
             }
            },
            "header": {
             "fill": {
              "color": "#C8D4E3"
             },
             "line": {
              "color": "white"
             }
            },
            "type": "table"
           }
          ]
         },
         "layout": {
          "annotationdefaults": {
           "arrowcolor": "#2a3f5f",
           "arrowhead": 0,
           "arrowwidth": 1
          },
          "coloraxis": {
           "colorbar": {
            "outlinewidth": 0,
            "ticks": ""
           }
          },
          "colorscale": {
           "diverging": [
            [
             0,
             "#8e0152"
            ],
            [
             0.1,
             "#c51b7d"
            ],
            [
             0.2,
             "#de77ae"
            ],
            [
             0.3,
             "#f1b6da"
            ],
            [
             0.4,
             "#fde0ef"
            ],
            [
             0.5,
             "#f7f7f7"
            ],
            [
             0.6,
             "#e6f5d0"
            ],
            [
             0.7,
             "#b8e186"
            ],
            [
             0.8,
             "#7fbc41"
            ],
            [
             0.9,
             "#4d9221"
            ],
            [
             1,
             "#276419"
            ]
           ],
           "sequential": [
            [
             0,
             "#0d0887"
            ],
            [
             0.1111111111111111,
             "#46039f"
            ],
            [
             0.2222222222222222,
             "#7201a8"
            ],
            [
             0.3333333333333333,
             "#9c179e"
            ],
            [
             0.4444444444444444,
             "#bd3786"
            ],
            [
             0.5555555555555556,
             "#d8576b"
            ],
            [
             0.6666666666666666,
             "#ed7953"
            ],
            [
             0.7777777777777778,
             "#fb9f3a"
            ],
            [
             0.8888888888888888,
             "#fdca26"
            ],
            [
             1,
             "#f0f921"
            ]
           ],
           "sequentialminus": [
            [
             0,
             "#0d0887"
            ],
            [
             0.1111111111111111,
             "#46039f"
            ],
            [
             0.2222222222222222,
             "#7201a8"
            ],
            [
             0.3333333333333333,
             "#9c179e"
            ],
            [
             0.4444444444444444,
             "#bd3786"
            ],
            [
             0.5555555555555556,
             "#d8576b"
            ],
            [
             0.6666666666666666,
             "#ed7953"
            ],
            [
             0.7777777777777778,
             "#fb9f3a"
            ],
            [
             0.8888888888888888,
             "#fdca26"
            ],
            [
             1,
             "#f0f921"
            ]
           ]
          },
          "colorway": [
           "#636efa",
           "#EF553B",
           "#00cc96",
           "#ab63fa",
           "#FFA15A",
           "#19d3f3",
           "#FF6692",
           "#B6E880",
           "#FF97FF",
           "#FECB52"
          ],
          "font": {
           "color": "#2a3f5f"
          },
          "geo": {
           "bgcolor": "white",
           "lakecolor": "white",
           "landcolor": "white",
           "showlakes": true,
           "showland": true,
           "subunitcolor": "#C8D4E3"
          },
          "hoverlabel": {
           "align": "left"
          },
          "hovermode": "closest",
          "mapbox": {
           "style": "light"
          },
          "paper_bgcolor": "white",
          "plot_bgcolor": "white",
          "polar": {
           "angularaxis": {
            "gridcolor": "#EBF0F8",
            "linecolor": "#EBF0F8",
            "ticks": ""
           },
           "bgcolor": "white",
           "radialaxis": {
            "gridcolor": "#EBF0F8",
            "linecolor": "#EBF0F8",
            "ticks": ""
           }
          },
          "scene": {
           "xaxis": {
            "backgroundcolor": "white",
            "gridcolor": "#DFE8F3",
            "gridwidth": 2,
            "linecolor": "#EBF0F8",
            "showbackground": true,
            "ticks": "",
            "zerolinecolor": "#EBF0F8"
           },
           "yaxis": {
            "backgroundcolor": "white",
            "gridcolor": "#DFE8F3",
            "gridwidth": 2,
            "linecolor": "#EBF0F8",
            "showbackground": true,
            "ticks": "",
            "zerolinecolor": "#EBF0F8"
           },
           "zaxis": {
            "backgroundcolor": "white",
            "gridcolor": "#DFE8F3",
            "gridwidth": 2,
            "linecolor": "#EBF0F8",
            "showbackground": true,
            "ticks": "",
            "zerolinecolor": "#EBF0F8"
           }
          },
          "shapedefaults": {
           "line": {
            "color": "#2a3f5f"
           }
          },
          "ternary": {
           "aaxis": {
            "gridcolor": "#DFE8F3",
            "linecolor": "#A2B1C6",
            "ticks": ""
           },
           "baxis": {
            "gridcolor": "#DFE8F3",
            "linecolor": "#A2B1C6",
            "ticks": ""
           },
           "bgcolor": "white",
           "caxis": {
            "gridcolor": "#DFE8F3",
            "linecolor": "#A2B1C6",
            "ticks": ""
           }
          },
          "title": {
           "x": 0.05
          },
          "xaxis": {
           "automargin": true,
           "gridcolor": "#EBF0F8",
           "linecolor": "#EBF0F8",
           "ticks": "",
           "title": {
            "standoff": 15
           },
           "zerolinecolor": "#EBF0F8",
           "zerolinewidth": 2
          },
          "yaxis": {
           "automargin": true,
           "gridcolor": "#EBF0F8",
           "linecolor": "#EBF0F8",
           "ticks": "",
           "title": {
            "standoff": 15
           },
           "zerolinecolor": "#EBF0F8",
           "zerolinewidth": 2
          }
         }
        },
        "xaxis": {
         "title": {
          "text": "Million cubic meters of water per year (Mm<sup>3</sup>/yr)"
         }
        },
        "yaxis": {
         "categoryorder": "sum ascending",
         "ticks": "outside",
         "title": {
          "text": "Cluster"
         },
         "type": "category"
        }
       }
      },
      "text/html": [
       "<div>\n",
       "        \n",
       "        \n",
       "            <div id=\"26c3d852-a0db-4bd6-a325-0ca225e7552e\" class=\"plotly-graph-div\" style=\"height:700px; width:100%;\"></div>\n",
       "            <script type=\"text/javascript\">\n",
       "                require([\"plotly\"], function(Plotly) {\n",
       "                    window.PLOTLYENV=window.PLOTLYENV || {};\n",
       "                    \n",
       "                if (document.getElementById(\"26c3d852-a0db-4bd6-a325-0ca225e7552e\")) {\n",
       "                    Plotly.newPlot(\n",
       "                        '26c3d852-a0db-4bd6-a325-0ca225e7552e',\n",
       "                        [{\"marker\": {\"color\": \"#e66101\", \"line\": {\"color\": \"Grey\", \"width\": 0}}, \"name\": \"Irrigation water extractions\", \"orientation\": \"h\", \"type\": \"bar\", \"x\": [48.97019976324512, 11.732133611342308, 81.16065316903759, 249.82104961398906, 91.707143269394, 2.624440137921875, 5.645706115292491, 822.8583286431398, 382.0414022052159, 97.60112995316254, 102.43469029633592, 69.76185177616463, 71.93132150838797, 353.24380503638656, 211.2169729306439, 320.01481986959624, 145.26179538153065, 71.02953044292259, 65.85114294399662, 43.516639734307674, 66.09088059110843, 12.910706041212844, 24.024157097705483, 27.404742108774283, 25.815460453698602, 328.8152396618138, 204.31820909739753, 41.422592285207074, 25.648790853332013, 138.65753793790515, 319.11642257979753, 269.90686456824, 64.80948329660377, 13.235150133825156, 80.69041015671036, 30.745868896159216, 6.3815182897284215, 87.39361115030097, 8.148802717423974, 181.33320614877798], \"y\": [0.0, 1.0, 2.0, 3.0, 4.0, 5.0, 6.0, 7.0, 8.0, 9.0, 10.0, 11.0, 12.0, 13.0, 14.0, 15.0, 16.0, 17.0, 18.0, 19.0, 20.0, 21.0, 22.0, 23.0, 24.0, 25.0, 26.0, 27.0, 28.0, 29.0, 30.0, 31.0, 32.0, 33.0, 34.0, 35.0, 36.0, 37.0, 38.0, 39.0]}, {\"marker\": {\"color\": \"#fdb863\", \"line\": {\"color\": \"Grey\", \"width\": 0}}, \"name\": \"Population water extractions\", \"orientation\": \"h\", \"type\": \"bar\", \"x\": [7.3561168633230025, 2.2358112275879924, 5.9190877310196175, 0.8801649031132143, 0.8100192321974329, 0.7506821225023872, 0.6625838838569965, 24.000221323652607, 0.6018328883554347, 20.038567617079217, 3.2549758243349585, 14.196678118671853, 3.9222812561426244, 23.19225255753355, 6.34238689678655, 11.666177713767668, 0.1839079865689419, 0.9556913828191245, 3.3936541521589225, 1.3499534509607882, 8.222796652433328, 2.779202236982975, 1.6558885326749468, 3.575434824863891, 1.3851016566079015, 20.66338893736386, 16.384589231632088, 13.282269910840277, 0.09187390632512697, 11.013587997505542, 6.2415798295567075, 17.556650070240362, 7.962968933323987, 0.010293050555677231, 9.398895860981984, 4.7988383812092765, 3.3431455155545873, 5.845880242227826, 7.7732226568006295, 0.34824138721723585], \"y\": [0.0, 1.0, 2.0, 3.0, 4.0, 5.0, 6.0, 7.0, 8.0, 9.0, 10.0, 11.0, 12.0, 13.0, 14.0, 15.0, 16.0, 17.0, 18.0, 19.0, 20.0, 21.0, 22.0, 23.0, 24.0, 25.0, 26.0, 27.0, 28.0, 29.0, 30.0, 31.0, 32.0, 33.0, 34.0, 35.0, 36.0, 37.0, 38.0, 39.0]}],\n",
       "                        {\"barmode\": \"stack\", \"height\": 700, \"legend\": {\"orientation\": \"h\", \"x\": 0, \"xanchor\": \"left\", \"y\": 1.02, \"yanchor\": \"bottom\"}, \"margin\": {\"b\": 0, \"l\": 0, \"r\": 0, \"t\": 0}, \"template\": {\"data\": {\"bar\": [{\"error_x\": {\"color\": \"#2a3f5f\"}, \"error_y\": {\"color\": \"#2a3f5f\"}, \"marker\": {\"line\": {\"color\": \"white\", \"width\": 0.5}}, \"type\": \"bar\"}], \"barpolar\": [{\"marker\": {\"line\": {\"color\": \"white\", \"width\": 0.5}}, \"type\": \"barpolar\"}], \"carpet\": [{\"aaxis\": {\"endlinecolor\": \"#2a3f5f\", \"gridcolor\": \"#C8D4E3\", \"linecolor\": \"#C8D4E3\", \"minorgridcolor\": \"#C8D4E3\", \"startlinecolor\": \"#2a3f5f\"}, \"baxis\": {\"endlinecolor\": \"#2a3f5f\", \"gridcolor\": \"#C8D4E3\", \"linecolor\": \"#C8D4E3\", \"minorgridcolor\": \"#C8D4E3\", \"startlinecolor\": \"#2a3f5f\"}, \"type\": \"carpet\"}], \"choropleth\": [{\"colorbar\": {\"outlinewidth\": 0, \"ticks\": \"\"}, \"type\": \"choropleth\"}], \"contour\": [{\"colorbar\": {\"outlinewidth\": 0, \"ticks\": \"\"}, \"colorscale\": [[0.0, \"#0d0887\"], [0.1111111111111111, \"#46039f\"], [0.2222222222222222, \"#7201a8\"], [0.3333333333333333, \"#9c179e\"], [0.4444444444444444, \"#bd3786\"], [0.5555555555555556, \"#d8576b\"], [0.6666666666666666, \"#ed7953\"], [0.7777777777777778, \"#fb9f3a\"], [0.8888888888888888, \"#fdca26\"], [1.0, \"#f0f921\"]], \"type\": \"contour\"}], \"contourcarpet\": [{\"colorbar\": {\"outlinewidth\": 0, \"ticks\": \"\"}, \"type\": \"contourcarpet\"}], \"heatmap\": [{\"colorbar\": {\"outlinewidth\": 0, \"ticks\": \"\"}, \"colorscale\": [[0.0, \"#0d0887\"], [0.1111111111111111, \"#46039f\"], [0.2222222222222222, \"#7201a8\"], [0.3333333333333333, \"#9c179e\"], [0.4444444444444444, \"#bd3786\"], [0.5555555555555556, \"#d8576b\"], [0.6666666666666666, \"#ed7953\"], [0.7777777777777778, \"#fb9f3a\"], [0.8888888888888888, \"#fdca26\"], [1.0, \"#f0f921\"]], \"type\": \"heatmap\"}], \"heatmapgl\": [{\"colorbar\": {\"outlinewidth\": 0, \"ticks\": \"\"}, \"colorscale\": [[0.0, \"#0d0887\"], [0.1111111111111111, \"#46039f\"], [0.2222222222222222, \"#7201a8\"], [0.3333333333333333, \"#9c179e\"], [0.4444444444444444, \"#bd3786\"], [0.5555555555555556, \"#d8576b\"], [0.6666666666666666, \"#ed7953\"], [0.7777777777777778, \"#fb9f3a\"], [0.8888888888888888, \"#fdca26\"], [1.0, \"#f0f921\"]], \"type\": \"heatmapgl\"}], \"histogram\": [{\"marker\": {\"colorbar\": {\"outlinewidth\": 0, \"ticks\": \"\"}}, \"type\": \"histogram\"}], \"histogram2d\": [{\"colorbar\": {\"outlinewidth\": 0, \"ticks\": \"\"}, \"colorscale\": [[0.0, \"#0d0887\"], [0.1111111111111111, \"#46039f\"], [0.2222222222222222, \"#7201a8\"], [0.3333333333333333, \"#9c179e\"], [0.4444444444444444, \"#bd3786\"], [0.5555555555555556, \"#d8576b\"], [0.6666666666666666, \"#ed7953\"], [0.7777777777777778, \"#fb9f3a\"], [0.8888888888888888, \"#fdca26\"], [1.0, \"#f0f921\"]], \"type\": \"histogram2d\"}], \"histogram2dcontour\": [{\"colorbar\": {\"outlinewidth\": 0, \"ticks\": \"\"}, \"colorscale\": [[0.0, \"#0d0887\"], [0.1111111111111111, \"#46039f\"], [0.2222222222222222, \"#7201a8\"], [0.3333333333333333, \"#9c179e\"], [0.4444444444444444, \"#bd3786\"], [0.5555555555555556, \"#d8576b\"], [0.6666666666666666, \"#ed7953\"], [0.7777777777777778, \"#fb9f3a\"], [0.8888888888888888, \"#fdca26\"], [1.0, \"#f0f921\"]], \"type\": \"histogram2dcontour\"}], \"mesh3d\": [{\"colorbar\": {\"outlinewidth\": 0, \"ticks\": \"\"}, \"type\": \"mesh3d\"}], \"parcoords\": [{\"line\": {\"colorbar\": {\"outlinewidth\": 0, \"ticks\": \"\"}}, \"type\": \"parcoords\"}], \"pie\": [{\"automargin\": true, \"type\": \"pie\"}], \"scatter\": [{\"marker\": {\"colorbar\": {\"outlinewidth\": 0, \"ticks\": \"\"}}, \"type\": \"scatter\"}], \"scatter3d\": [{\"line\": {\"colorbar\": {\"outlinewidth\": 0, \"ticks\": \"\"}}, \"marker\": {\"colorbar\": {\"outlinewidth\": 0, \"ticks\": \"\"}}, \"type\": \"scatter3d\"}], \"scattercarpet\": [{\"marker\": {\"colorbar\": {\"outlinewidth\": 0, \"ticks\": \"\"}}, \"type\": \"scattercarpet\"}], \"scattergeo\": [{\"marker\": {\"colorbar\": {\"outlinewidth\": 0, \"ticks\": \"\"}}, \"type\": \"scattergeo\"}], \"scattergl\": [{\"marker\": {\"colorbar\": {\"outlinewidth\": 0, \"ticks\": \"\"}}, \"type\": \"scattergl\"}], \"scattermapbox\": [{\"marker\": {\"colorbar\": {\"outlinewidth\": 0, \"ticks\": \"\"}}, \"type\": \"scattermapbox\"}], \"scatterpolar\": [{\"marker\": {\"colorbar\": {\"outlinewidth\": 0, \"ticks\": \"\"}}, \"type\": \"scatterpolar\"}], \"scatterpolargl\": [{\"marker\": {\"colorbar\": {\"outlinewidth\": 0, \"ticks\": \"\"}}, \"type\": \"scatterpolargl\"}], \"scatterternary\": [{\"marker\": {\"colorbar\": {\"outlinewidth\": 0, \"ticks\": \"\"}}, \"type\": \"scatterternary\"}], \"surface\": [{\"colorbar\": {\"outlinewidth\": 0, \"ticks\": \"\"}, \"colorscale\": [[0.0, \"#0d0887\"], [0.1111111111111111, \"#46039f\"], [0.2222222222222222, \"#7201a8\"], [0.3333333333333333, \"#9c179e\"], [0.4444444444444444, \"#bd3786\"], [0.5555555555555556, \"#d8576b\"], [0.6666666666666666, \"#ed7953\"], [0.7777777777777778, \"#fb9f3a\"], [0.8888888888888888, \"#fdca26\"], [1.0, \"#f0f921\"]], \"type\": \"surface\"}], \"table\": [{\"cells\": {\"fill\": {\"color\": \"#EBF0F8\"}, \"line\": {\"color\": \"white\"}}, \"header\": {\"fill\": {\"color\": \"#C8D4E3\"}, \"line\": {\"color\": \"white\"}}, \"type\": \"table\"}]}, \"layout\": {\"annotationdefaults\": {\"arrowcolor\": \"#2a3f5f\", \"arrowhead\": 0, \"arrowwidth\": 1}, \"coloraxis\": {\"colorbar\": {\"outlinewidth\": 0, \"ticks\": \"\"}}, \"colorscale\": {\"diverging\": [[0, \"#8e0152\"], [0.1, \"#c51b7d\"], [0.2, \"#de77ae\"], [0.3, \"#f1b6da\"], [0.4, \"#fde0ef\"], [0.5, \"#f7f7f7\"], [0.6, \"#e6f5d0\"], [0.7, \"#b8e186\"], [0.8, \"#7fbc41\"], [0.9, \"#4d9221\"], [1, \"#276419\"]], \"sequential\": [[0.0, \"#0d0887\"], [0.1111111111111111, \"#46039f\"], [0.2222222222222222, \"#7201a8\"], [0.3333333333333333, \"#9c179e\"], [0.4444444444444444, \"#bd3786\"], [0.5555555555555556, \"#d8576b\"], [0.6666666666666666, \"#ed7953\"], [0.7777777777777778, \"#fb9f3a\"], [0.8888888888888888, \"#fdca26\"], [1.0, \"#f0f921\"]], \"sequentialminus\": [[0.0, \"#0d0887\"], [0.1111111111111111, \"#46039f\"], [0.2222222222222222, \"#7201a8\"], [0.3333333333333333, \"#9c179e\"], [0.4444444444444444, \"#bd3786\"], [0.5555555555555556, \"#d8576b\"], [0.6666666666666666, \"#ed7953\"], [0.7777777777777778, \"#fb9f3a\"], [0.8888888888888888, \"#fdca26\"], [1.0, \"#f0f921\"]]}, \"colorway\": [\"#636efa\", \"#EF553B\", \"#00cc96\", \"#ab63fa\", \"#FFA15A\", \"#19d3f3\", \"#FF6692\", \"#B6E880\", \"#FF97FF\", \"#FECB52\"], \"font\": {\"color\": \"#2a3f5f\"}, \"geo\": {\"bgcolor\": \"white\", \"lakecolor\": \"white\", \"landcolor\": \"white\", \"showlakes\": true, \"showland\": true, \"subunitcolor\": \"#C8D4E3\"}, \"hoverlabel\": {\"align\": \"left\"}, \"hovermode\": \"closest\", \"mapbox\": {\"style\": \"light\"}, \"paper_bgcolor\": \"white\", \"plot_bgcolor\": \"white\", \"polar\": {\"angularaxis\": {\"gridcolor\": \"#EBF0F8\", \"linecolor\": \"#EBF0F8\", \"ticks\": \"\"}, \"bgcolor\": \"white\", \"radialaxis\": {\"gridcolor\": \"#EBF0F8\", \"linecolor\": \"#EBF0F8\", \"ticks\": \"\"}}, \"scene\": {\"xaxis\": {\"backgroundcolor\": \"white\", \"gridcolor\": \"#DFE8F3\", \"gridwidth\": 2, \"linecolor\": \"#EBF0F8\", \"showbackground\": true, \"ticks\": \"\", \"zerolinecolor\": \"#EBF0F8\"}, \"yaxis\": {\"backgroundcolor\": \"white\", \"gridcolor\": \"#DFE8F3\", \"gridwidth\": 2, \"linecolor\": \"#EBF0F8\", \"showbackground\": true, \"ticks\": \"\", \"zerolinecolor\": \"#EBF0F8\"}, \"zaxis\": {\"backgroundcolor\": \"white\", \"gridcolor\": \"#DFE8F3\", \"gridwidth\": 2, \"linecolor\": \"#EBF0F8\", \"showbackground\": true, \"ticks\": \"\", \"zerolinecolor\": \"#EBF0F8\"}}, \"shapedefaults\": {\"line\": {\"color\": \"#2a3f5f\"}}, \"ternary\": {\"aaxis\": {\"gridcolor\": \"#DFE8F3\", \"linecolor\": \"#A2B1C6\", \"ticks\": \"\"}, \"baxis\": {\"gridcolor\": \"#DFE8F3\", \"linecolor\": \"#A2B1C6\", \"ticks\": \"\"}, \"bgcolor\": \"white\", \"caxis\": {\"gridcolor\": \"#DFE8F3\", \"linecolor\": \"#A2B1C6\", \"ticks\": \"\"}}, \"title\": {\"x\": 0.05}, \"xaxis\": {\"automargin\": true, \"gridcolor\": \"#EBF0F8\", \"linecolor\": \"#EBF0F8\", \"ticks\": \"\", \"title\": {\"standoff\": 15}, \"zerolinecolor\": \"#EBF0F8\", \"zerolinewidth\": 2}, \"yaxis\": {\"automargin\": true, \"gridcolor\": \"#EBF0F8\", \"linecolor\": \"#EBF0F8\", \"ticks\": \"\", \"title\": {\"standoff\": 15}, \"zerolinecolor\": \"#EBF0F8\", \"zerolinewidth\": 2}}}, \"xaxis\": {\"title\": {\"text\": \"Million cubic meters of water per year (Mm<sup>3</sup>/yr)\"}}, \"yaxis\": {\"categoryorder\": \"sum ascending\", \"ticks\": \"outside\", \"title\": {\"text\": \"Cluster\"}, \"type\": \"category\"}},\n",
       "                        {\"responsive\": true}\n",
       "                    ).then(function(){\n",
       "                            \n",
       "var gd = document.getElementById('26c3d852-a0db-4bd6-a325-0ca225e7552e');\n",
       "var x = new MutationObserver(function (mutations, observer) {{\n",
       "        var display = window.getComputedStyle(gd).display;\n",
       "        if (!display || display === 'none') {{\n",
       "            console.log([gd, 'removed!']);\n",
       "            Plotly.purge(gd);\n",
       "            observer.disconnect();\n",
       "        }}\n",
       "}});\n",
       "\n",
       "// Listen for the removal of the full notebook cells\n",
       "var notebookContainer = gd.closest('#notebook-container');\n",
       "if (notebookContainer) {{\n",
       "    x.observe(notebookContainer, {childList: true});\n",
       "}}\n",
       "\n",
       "// Listen for the clearing of the current output cell\n",
       "var outputEl = gd.closest('.output');\n",
       "if (outputEl) {{\n",
       "    x.observe(outputEl, {childList: true});\n",
       "}}\n",
       "\n",
       "                        })\n",
       "                };\n",
       "                });\n",
       "            </script>\n",
       "        </div>"
      ]
     },
     "metadata": {},
     "output_type": "display_data"
    }
   ],
   "source": [
    "fig = go.Figure()\n",
    "dff = dff_water\n",
    "\n",
    "fig.add_trace(go.Bar(y=dff['Cluster'], x=dff['IrrigationWater']/1000000, orientation='h', name='Irrigation water extractions', marker=dict(color='#e66101', line=dict(width=0, color='Grey'))))\n",
    "fig.add_trace(go.Bar(y=dff['Cluster'], x=dff['PopulationWater']/1000000, orientation='h', name='Population water extractions', marker=dict(color='#fdb863', line=dict(width=0, color='Grey'))))\n",
    "\n",
    "fig.update_layout(barmode='stack', height=700, template='plotly_white',\n",
    "                  yaxis={'categoryorder':'sum ascending', 'title': 'Cluster', 'type': 'category', 'ticks': \"outside\"}, \n",
    "                  xaxis={'title': 'Million cubic meters of water per year (Mm<sup>3</sup>/yr)'},\n",
    "                  legend=dict(\n",
    "                            orientation=\"h\",\n",
    "                            yanchor=\"bottom\",\n",
    "                            y=1.02,\n",
    "                            xanchor=\"left\",\n",
    "                            x=0\n",
    "                ),\n",
    "                 margin=dict(b=0, l=0, r=0, t=0))\n",
    "fig.show()\n",
    "fig.write_image('BaselineWater2.pdf')"
   ]
  },
  {
   "cell_type": "code",
   "execution_count": 26,
   "metadata": {},
   "outputs": [],
   "source": [
    "dff_energy = df.groupby('Cluster').agg({'IrrigationPumpingEnergy': 'sum', 'IrrigationDesalinationEnergy': 'sum'})"
   ]
  },
  {
   "cell_type": "code",
   "execution_count": 27,
   "metadata": {},
   "outputs": [],
   "source": [
    "dff_energy.reset_index(inplace=True)"
   ]
  },
  {
   "cell_type": "code",
   "execution_count": 34,
   "metadata": {},
   "outputs": [
    {
     "data": {
      "application/vnd.plotly.v1+json": {
       "config": {
        "plotlyServerURL": "https://plot.ly"
       },
       "data": [
        {
         "marker": {
          "color": "#fc8d62",
          "line": {
           "color": "Grey",
           "width": 1
          }
         },
         "name": "Pumping Energy",
         "type": "bar",
         "x": [
          "0",
          "1",
          "2",
          "3",
          "4",
          "5",
          "6",
          "7",
          "8",
          "9",
          "10",
          "11",
          "12",
          "13",
          "14",
          "15",
          "16",
          "17",
          "18",
          "19",
          "20",
          "21",
          "22",
          "23",
          "24",
          "25",
          "26",
          "27",
          "28",
          "29",
          "30",
          "31",
          "32",
          "33",
          "34",
          "35",
          "36",
          "37",
          "38",
          "39"
         ],
         "y": [
          47.09780977229737,
          10.29984300378108,
          72.57596846812217,
          85.07025274848577,
          73.46401487472532,
          2.524093897354274,
          5.3895750351576295,
          265.65832136093496,
          293.6977405548202,
          78.22443503599055,
          45.799254369721915,
          58.376592138606014,
          57.65934164030616,
          139.6284845597015,
          168.53650524334245,
          92.4964375367717,
          94.91217496962177,
          63.72713699215078,
          63.33330512554972,
          34.877306845878934,
          21.369074121171224,
          12.417061398460593,
          9.436079602645778,
          26.356913734027025,
          20.690332275390794,
          263.5357435524816,
          72.44749450737116,
          38.71005010724507,
          15.80804153815522,
          44.45197539774003,
          255.76242692057255,
          172.65947209586147,
          46.91653201312261,
          12.21466446594925,
          64.67099049324561,
          11.139877384319187,
          3.321300694924357,
          64.37864502668586,
          7.837230848816587,
          142.69696792036828
         ]
        },
        {
         "marker": {
          "color": "#66c2a5",
          "line": {
           "color": "Grey",
           "width": 1
          }
         },
         "name": "Desalination Energy",
         "type": "bar",
         "x": [
          "0",
          "1",
          "2",
          "3",
          "4",
          "5",
          "6",
          "7",
          "8",
          "9",
          "10",
          "11",
          "12",
          "13",
          "14",
          "15",
          "16",
          "17",
          "18",
          "19",
          "20",
          "21",
          "22",
          "23",
          "24",
          "25",
          "26",
          "27",
          "28",
          "29",
          "30",
          "31",
          "32",
          "33",
          "34",
          "35",
          "36",
          "37",
          "38",
          "39"
         ],
         "y": [
          2.1930701619331803,
          0.7881137594876503,
          4.797724252418312,
          22.3457344348867,
          5.922924267074016,
          0.09369434214582333,
          0.33438296868269424,
          64.05504250018807,
          36.25057063630379,
          15.309908657160854,
          7.204610391845098,
          5.019110540859987,
          3.234184157751827,
          29.366537145250355,
          16.628796254105605,
          22.66197715792931,
          12.994214326619861,
          3.963384267523978,
          4.423593657506425,
          2.0272050913636606,
          2.6368317852342655,
          0.5781900895925216,
          2.377117632547657,
          1.8409315003244748,
          1.7341704642197096,
          31.558673344365307,
          17.718890547668472,
          2.9168077276392608,
          1.7267063028969991,
          12.419214569223405,
          21.897191481852925,
          29.367326493909236,
          5.376581434984866,
          0.5927199192065222,
          8.466391549436485,
          1.431674200060945,
          0.42868267078844063,
          5.872173711120435,
          0.6224405578798828,
          20.301961483473633
         ]
        }
       ],
       "layout": {
        "barmode": "stack",
        "legend": {
         "orientation": "h",
         "x": 1,
         "xanchor": "right",
         "y": 1.02,
         "yanchor": "bottom"
        },
        "margin": {
         "b": 0,
         "l": 0,
         "r": 0,
         "t": 0
        },
        "template": {
         "data": {
          "bar": [
           {
            "error_x": {
             "color": "#2a3f5f"
            },
            "error_y": {
             "color": "#2a3f5f"
            },
            "marker": {
             "line": {
              "color": "white",
              "width": 0.5
             }
            },
            "type": "bar"
           }
          ],
          "barpolar": [
           {
            "marker": {
             "line": {
              "color": "white",
              "width": 0.5
             }
            },
            "type": "barpolar"
           }
          ],
          "carpet": [
           {
            "aaxis": {
             "endlinecolor": "#2a3f5f",
             "gridcolor": "#C8D4E3",
             "linecolor": "#C8D4E3",
             "minorgridcolor": "#C8D4E3",
             "startlinecolor": "#2a3f5f"
            },
            "baxis": {
             "endlinecolor": "#2a3f5f",
             "gridcolor": "#C8D4E3",
             "linecolor": "#C8D4E3",
             "minorgridcolor": "#C8D4E3",
             "startlinecolor": "#2a3f5f"
            },
            "type": "carpet"
           }
          ],
          "choropleth": [
           {
            "colorbar": {
             "outlinewidth": 0,
             "ticks": ""
            },
            "type": "choropleth"
           }
          ],
          "contour": [
           {
            "colorbar": {
             "outlinewidth": 0,
             "ticks": ""
            },
            "colorscale": [
             [
              0,
              "#0d0887"
             ],
             [
              0.1111111111111111,
              "#46039f"
             ],
             [
              0.2222222222222222,
              "#7201a8"
             ],
             [
              0.3333333333333333,
              "#9c179e"
             ],
             [
              0.4444444444444444,
              "#bd3786"
             ],
             [
              0.5555555555555556,
              "#d8576b"
             ],
             [
              0.6666666666666666,
              "#ed7953"
             ],
             [
              0.7777777777777778,
              "#fb9f3a"
             ],
             [
              0.8888888888888888,
              "#fdca26"
             ],
             [
              1,
              "#f0f921"
             ]
            ],
            "type": "contour"
           }
          ],
          "contourcarpet": [
           {
            "colorbar": {
             "outlinewidth": 0,
             "ticks": ""
            },
            "type": "contourcarpet"
           }
          ],
          "heatmap": [
           {
            "colorbar": {
             "outlinewidth": 0,
             "ticks": ""
            },
            "colorscale": [
             [
              0,
              "#0d0887"
             ],
             [
              0.1111111111111111,
              "#46039f"
             ],
             [
              0.2222222222222222,
              "#7201a8"
             ],
             [
              0.3333333333333333,
              "#9c179e"
             ],
             [
              0.4444444444444444,
              "#bd3786"
             ],
             [
              0.5555555555555556,
              "#d8576b"
             ],
             [
              0.6666666666666666,
              "#ed7953"
             ],
             [
              0.7777777777777778,
              "#fb9f3a"
             ],
             [
              0.8888888888888888,
              "#fdca26"
             ],
             [
              1,
              "#f0f921"
             ]
            ],
            "type": "heatmap"
           }
          ],
          "heatmapgl": [
           {
            "colorbar": {
             "outlinewidth": 0,
             "ticks": ""
            },
            "colorscale": [
             [
              0,
              "#0d0887"
             ],
             [
              0.1111111111111111,
              "#46039f"
             ],
             [
              0.2222222222222222,
              "#7201a8"
             ],
             [
              0.3333333333333333,
              "#9c179e"
             ],
             [
              0.4444444444444444,
              "#bd3786"
             ],
             [
              0.5555555555555556,
              "#d8576b"
             ],
             [
              0.6666666666666666,
              "#ed7953"
             ],
             [
              0.7777777777777778,
              "#fb9f3a"
             ],
             [
              0.8888888888888888,
              "#fdca26"
             ],
             [
              1,
              "#f0f921"
             ]
            ],
            "type": "heatmapgl"
           }
          ],
          "histogram": [
           {
            "marker": {
             "colorbar": {
              "outlinewidth": 0,
              "ticks": ""
             }
            },
            "type": "histogram"
           }
          ],
          "histogram2d": [
           {
            "colorbar": {
             "outlinewidth": 0,
             "ticks": ""
            },
            "colorscale": [
             [
              0,
              "#0d0887"
             ],
             [
              0.1111111111111111,
              "#46039f"
             ],
             [
              0.2222222222222222,
              "#7201a8"
             ],
             [
              0.3333333333333333,
              "#9c179e"
             ],
             [
              0.4444444444444444,
              "#bd3786"
             ],
             [
              0.5555555555555556,
              "#d8576b"
             ],
             [
              0.6666666666666666,
              "#ed7953"
             ],
             [
              0.7777777777777778,
              "#fb9f3a"
             ],
             [
              0.8888888888888888,
              "#fdca26"
             ],
             [
              1,
              "#f0f921"
             ]
            ],
            "type": "histogram2d"
           }
          ],
          "histogram2dcontour": [
           {
            "colorbar": {
             "outlinewidth": 0,
             "ticks": ""
            },
            "colorscale": [
             [
              0,
              "#0d0887"
             ],
             [
              0.1111111111111111,
              "#46039f"
             ],
             [
              0.2222222222222222,
              "#7201a8"
             ],
             [
              0.3333333333333333,
              "#9c179e"
             ],
             [
              0.4444444444444444,
              "#bd3786"
             ],
             [
              0.5555555555555556,
              "#d8576b"
             ],
             [
              0.6666666666666666,
              "#ed7953"
             ],
             [
              0.7777777777777778,
              "#fb9f3a"
             ],
             [
              0.8888888888888888,
              "#fdca26"
             ],
             [
              1,
              "#f0f921"
             ]
            ],
            "type": "histogram2dcontour"
           }
          ],
          "mesh3d": [
           {
            "colorbar": {
             "outlinewidth": 0,
             "ticks": ""
            },
            "type": "mesh3d"
           }
          ],
          "parcoords": [
           {
            "line": {
             "colorbar": {
              "outlinewidth": 0,
              "ticks": ""
             }
            },
            "type": "parcoords"
           }
          ],
          "pie": [
           {
            "automargin": true,
            "type": "pie"
           }
          ],
          "scatter": [
           {
            "marker": {
             "colorbar": {
              "outlinewidth": 0,
              "ticks": ""
             }
            },
            "type": "scatter"
           }
          ],
          "scatter3d": [
           {
            "line": {
             "colorbar": {
              "outlinewidth": 0,
              "ticks": ""
             }
            },
            "marker": {
             "colorbar": {
              "outlinewidth": 0,
              "ticks": ""
             }
            },
            "type": "scatter3d"
           }
          ],
          "scattercarpet": [
           {
            "marker": {
             "colorbar": {
              "outlinewidth": 0,
              "ticks": ""
             }
            },
            "type": "scattercarpet"
           }
          ],
          "scattergeo": [
           {
            "marker": {
             "colorbar": {
              "outlinewidth": 0,
              "ticks": ""
             }
            },
            "type": "scattergeo"
           }
          ],
          "scattergl": [
           {
            "marker": {
             "colorbar": {
              "outlinewidth": 0,
              "ticks": ""
             }
            },
            "type": "scattergl"
           }
          ],
          "scattermapbox": [
           {
            "marker": {
             "colorbar": {
              "outlinewidth": 0,
              "ticks": ""
             }
            },
            "type": "scattermapbox"
           }
          ],
          "scatterpolar": [
           {
            "marker": {
             "colorbar": {
              "outlinewidth": 0,
              "ticks": ""
             }
            },
            "type": "scatterpolar"
           }
          ],
          "scatterpolargl": [
           {
            "marker": {
             "colorbar": {
              "outlinewidth": 0,
              "ticks": ""
             }
            },
            "type": "scatterpolargl"
           }
          ],
          "scatterternary": [
           {
            "marker": {
             "colorbar": {
              "outlinewidth": 0,
              "ticks": ""
             }
            },
            "type": "scatterternary"
           }
          ],
          "surface": [
           {
            "colorbar": {
             "outlinewidth": 0,
             "ticks": ""
            },
            "colorscale": [
             [
              0,
              "#0d0887"
             ],
             [
              0.1111111111111111,
              "#46039f"
             ],
             [
              0.2222222222222222,
              "#7201a8"
             ],
             [
              0.3333333333333333,
              "#9c179e"
             ],
             [
              0.4444444444444444,
              "#bd3786"
             ],
             [
              0.5555555555555556,
              "#d8576b"
             ],
             [
              0.6666666666666666,
              "#ed7953"
             ],
             [
              0.7777777777777778,
              "#fb9f3a"
             ],
             [
              0.8888888888888888,
              "#fdca26"
             ],
             [
              1,
              "#f0f921"
             ]
            ],
            "type": "surface"
           }
          ],
          "table": [
           {
            "cells": {
             "fill": {
              "color": "#EBF0F8"
             },
             "line": {
              "color": "white"
             }
            },
            "header": {
             "fill": {
              "color": "#C8D4E3"
             },
             "line": {
              "color": "white"
             }
            },
            "type": "table"
           }
          ]
         },
         "layout": {
          "annotationdefaults": {
           "arrowcolor": "#2a3f5f",
           "arrowhead": 0,
           "arrowwidth": 1
          },
          "coloraxis": {
           "colorbar": {
            "outlinewidth": 0,
            "ticks": ""
           }
          },
          "colorscale": {
           "diverging": [
            [
             0,
             "#8e0152"
            ],
            [
             0.1,
             "#c51b7d"
            ],
            [
             0.2,
             "#de77ae"
            ],
            [
             0.3,
             "#f1b6da"
            ],
            [
             0.4,
             "#fde0ef"
            ],
            [
             0.5,
             "#f7f7f7"
            ],
            [
             0.6,
             "#e6f5d0"
            ],
            [
             0.7,
             "#b8e186"
            ],
            [
             0.8,
             "#7fbc41"
            ],
            [
             0.9,
             "#4d9221"
            ],
            [
             1,
             "#276419"
            ]
           ],
           "sequential": [
            [
             0,
             "#0d0887"
            ],
            [
             0.1111111111111111,
             "#46039f"
            ],
            [
             0.2222222222222222,
             "#7201a8"
            ],
            [
             0.3333333333333333,
             "#9c179e"
            ],
            [
             0.4444444444444444,
             "#bd3786"
            ],
            [
             0.5555555555555556,
             "#d8576b"
            ],
            [
             0.6666666666666666,
             "#ed7953"
            ],
            [
             0.7777777777777778,
             "#fb9f3a"
            ],
            [
             0.8888888888888888,
             "#fdca26"
            ],
            [
             1,
             "#f0f921"
            ]
           ],
           "sequentialminus": [
            [
             0,
             "#0d0887"
            ],
            [
             0.1111111111111111,
             "#46039f"
            ],
            [
             0.2222222222222222,
             "#7201a8"
            ],
            [
             0.3333333333333333,
             "#9c179e"
            ],
            [
             0.4444444444444444,
             "#bd3786"
            ],
            [
             0.5555555555555556,
             "#d8576b"
            ],
            [
             0.6666666666666666,
             "#ed7953"
            ],
            [
             0.7777777777777778,
             "#fb9f3a"
            ],
            [
             0.8888888888888888,
             "#fdca26"
            ],
            [
             1,
             "#f0f921"
            ]
           ]
          },
          "colorway": [
           "#636efa",
           "#EF553B",
           "#00cc96",
           "#ab63fa",
           "#FFA15A",
           "#19d3f3",
           "#FF6692",
           "#B6E880",
           "#FF97FF",
           "#FECB52"
          ],
          "font": {
           "color": "#2a3f5f"
          },
          "geo": {
           "bgcolor": "white",
           "lakecolor": "white",
           "landcolor": "white",
           "showlakes": true,
           "showland": true,
           "subunitcolor": "#C8D4E3"
          },
          "hoverlabel": {
           "align": "left"
          },
          "hovermode": "closest",
          "mapbox": {
           "style": "light"
          },
          "paper_bgcolor": "white",
          "plot_bgcolor": "white",
          "polar": {
           "angularaxis": {
            "gridcolor": "#EBF0F8",
            "linecolor": "#EBF0F8",
            "ticks": ""
           },
           "bgcolor": "white",
           "radialaxis": {
            "gridcolor": "#EBF0F8",
            "linecolor": "#EBF0F8",
            "ticks": ""
           }
          },
          "scene": {
           "xaxis": {
            "backgroundcolor": "white",
            "gridcolor": "#DFE8F3",
            "gridwidth": 2,
            "linecolor": "#EBF0F8",
            "showbackground": true,
            "ticks": "",
            "zerolinecolor": "#EBF0F8"
           },
           "yaxis": {
            "backgroundcolor": "white",
            "gridcolor": "#DFE8F3",
            "gridwidth": 2,
            "linecolor": "#EBF0F8",
            "showbackground": true,
            "ticks": "",
            "zerolinecolor": "#EBF0F8"
           },
           "zaxis": {
            "backgroundcolor": "white",
            "gridcolor": "#DFE8F3",
            "gridwidth": 2,
            "linecolor": "#EBF0F8",
            "showbackground": true,
            "ticks": "",
            "zerolinecolor": "#EBF0F8"
           }
          },
          "shapedefaults": {
           "line": {
            "color": "#2a3f5f"
           }
          },
          "ternary": {
           "aaxis": {
            "gridcolor": "#DFE8F3",
            "linecolor": "#A2B1C6",
            "ticks": ""
           },
           "baxis": {
            "gridcolor": "#DFE8F3",
            "linecolor": "#A2B1C6",
            "ticks": ""
           },
           "bgcolor": "white",
           "caxis": {
            "gridcolor": "#DFE8F3",
            "linecolor": "#A2B1C6",
            "ticks": ""
           }
          },
          "title": {
           "x": 0.05
          },
          "xaxis": {
           "automargin": true,
           "gridcolor": "#EBF0F8",
           "linecolor": "#EBF0F8",
           "ticks": "",
           "title": {
            "standoff": 15
           },
           "zerolinecolor": "#EBF0F8",
           "zerolinewidth": 2
          },
          "yaxis": {
           "automargin": true,
           "gridcolor": "#EBF0F8",
           "linecolor": "#EBF0F8",
           "ticks": "",
           "title": {
            "standoff": 15
           },
           "zerolinecolor": "#EBF0F8",
           "zerolinewidth": 2
          }
         }
        },
        "width": 900,
        "xaxis": {
         "categoryorder": "sum descending",
         "ticks": "outside",
         "title": {
          "text": "Cluster"
         },
         "type": "category"
        },
        "yaxis": {
         "title": {
          "text": "Energy (GWh/yr)"
         }
        }
       }
      },
      "text/html": [
       "<div>\n",
       "        \n",
       "        \n",
       "            <div id=\"1d0188f5-c9e6-40c6-a789-aae1d9b48f9c\" class=\"plotly-graph-div\" style=\"height:525px; width:900px;\"></div>\n",
       "            <script type=\"text/javascript\">\n",
       "                require([\"plotly\"], function(Plotly) {\n",
       "                    window.PLOTLYENV=window.PLOTLYENV || {};\n",
       "                    \n",
       "                if (document.getElementById(\"1d0188f5-c9e6-40c6-a789-aae1d9b48f9c\")) {\n",
       "                    Plotly.newPlot(\n",
       "                        '1d0188f5-c9e6-40c6-a789-aae1d9b48f9c',\n",
       "                        [{\"marker\": {\"color\": \"#fc8d62\", \"line\": {\"color\": \"Grey\", \"width\": 1}}, \"name\": \"Pumping Energy\", \"type\": \"bar\", \"x\": [\"0\", \"1\", \"2\", \"3\", \"4\", \"5\", \"6\", \"7\", \"8\", \"9\", \"10\", \"11\", \"12\", \"13\", \"14\", \"15\", \"16\", \"17\", \"18\", \"19\", \"20\", \"21\", \"22\", \"23\", \"24\", \"25\", \"26\", \"27\", \"28\", \"29\", \"30\", \"31\", \"32\", \"33\", \"34\", \"35\", \"36\", \"37\", \"38\", \"39\"], \"y\": [47.09780977229737, 10.29984300378108, 72.57596846812217, 85.07025274848577, 73.46401487472532, 2.524093897354274, 5.3895750351576295, 265.65832136093496, 293.6977405548202, 78.22443503599055, 45.799254369721915, 58.376592138606014, 57.65934164030616, 139.6284845597015, 168.53650524334245, 92.4964375367717, 94.91217496962177, 63.72713699215078, 63.33330512554972, 34.877306845878934, 21.369074121171224, 12.417061398460593, 9.436079602645778, 26.356913734027025, 20.690332275390794, 263.5357435524816, 72.44749450737116, 38.71005010724507, 15.80804153815522, 44.45197539774003, 255.76242692057255, 172.65947209586147, 46.91653201312261, 12.21466446594925, 64.67099049324561, 11.139877384319187, 3.321300694924357, 64.37864502668586, 7.837230848816587, 142.69696792036828]}, {\"marker\": {\"color\": \"#66c2a5\", \"line\": {\"color\": \"Grey\", \"width\": 1}}, \"name\": \"Desalination Energy\", \"type\": \"bar\", \"x\": [\"0\", \"1\", \"2\", \"3\", \"4\", \"5\", \"6\", \"7\", \"8\", \"9\", \"10\", \"11\", \"12\", \"13\", \"14\", \"15\", \"16\", \"17\", \"18\", \"19\", \"20\", \"21\", \"22\", \"23\", \"24\", \"25\", \"26\", \"27\", \"28\", \"29\", \"30\", \"31\", \"32\", \"33\", \"34\", \"35\", \"36\", \"37\", \"38\", \"39\"], \"y\": [2.1930701619331803, 0.7881137594876503, 4.797724252418312, 22.3457344348867, 5.922924267074016, 0.09369434214582333, 0.33438296868269424, 64.05504250018807, 36.25057063630379, 15.309908657160854, 7.204610391845098, 5.019110540859987, 3.234184157751827, 29.366537145250355, 16.628796254105605, 22.66197715792931, 12.994214326619861, 3.963384267523978, 4.423593657506425, 2.0272050913636606, 2.6368317852342655, 0.5781900895925216, 2.377117632547657, 1.8409315003244748, 1.7341704642197096, 31.558673344365307, 17.718890547668472, 2.9168077276392608, 1.7267063028969991, 12.419214569223405, 21.897191481852925, 29.367326493909236, 5.376581434984866, 0.5927199192065222, 8.466391549436485, 1.431674200060945, 0.42868267078844063, 5.872173711120435, 0.6224405578798828, 20.301961483473633]}],\n",
       "                        {\"barmode\": \"stack\", \"legend\": {\"orientation\": \"h\", \"x\": 1, \"xanchor\": \"right\", \"y\": 1.02, \"yanchor\": \"bottom\"}, \"margin\": {\"b\": 0, \"l\": 0, \"r\": 0, \"t\": 0}, \"template\": {\"data\": {\"bar\": [{\"error_x\": {\"color\": \"#2a3f5f\"}, \"error_y\": {\"color\": \"#2a3f5f\"}, \"marker\": {\"line\": {\"color\": \"white\", \"width\": 0.5}}, \"type\": \"bar\"}], \"barpolar\": [{\"marker\": {\"line\": {\"color\": \"white\", \"width\": 0.5}}, \"type\": \"barpolar\"}], \"carpet\": [{\"aaxis\": {\"endlinecolor\": \"#2a3f5f\", \"gridcolor\": \"#C8D4E3\", \"linecolor\": \"#C8D4E3\", \"minorgridcolor\": \"#C8D4E3\", \"startlinecolor\": \"#2a3f5f\"}, \"baxis\": {\"endlinecolor\": \"#2a3f5f\", \"gridcolor\": \"#C8D4E3\", \"linecolor\": \"#C8D4E3\", \"minorgridcolor\": \"#C8D4E3\", \"startlinecolor\": \"#2a3f5f\"}, \"type\": \"carpet\"}], \"choropleth\": [{\"colorbar\": {\"outlinewidth\": 0, \"ticks\": \"\"}, \"type\": \"choropleth\"}], \"contour\": [{\"colorbar\": {\"outlinewidth\": 0, \"ticks\": \"\"}, \"colorscale\": [[0.0, \"#0d0887\"], [0.1111111111111111, \"#46039f\"], [0.2222222222222222, \"#7201a8\"], [0.3333333333333333, \"#9c179e\"], [0.4444444444444444, \"#bd3786\"], [0.5555555555555556, \"#d8576b\"], [0.6666666666666666, \"#ed7953\"], [0.7777777777777778, \"#fb9f3a\"], [0.8888888888888888, \"#fdca26\"], [1.0, \"#f0f921\"]], \"type\": \"contour\"}], \"contourcarpet\": [{\"colorbar\": {\"outlinewidth\": 0, \"ticks\": \"\"}, \"type\": \"contourcarpet\"}], \"heatmap\": [{\"colorbar\": {\"outlinewidth\": 0, \"ticks\": \"\"}, \"colorscale\": [[0.0, \"#0d0887\"], [0.1111111111111111, \"#46039f\"], [0.2222222222222222, \"#7201a8\"], [0.3333333333333333, \"#9c179e\"], [0.4444444444444444, \"#bd3786\"], [0.5555555555555556, \"#d8576b\"], [0.6666666666666666, \"#ed7953\"], [0.7777777777777778, \"#fb9f3a\"], [0.8888888888888888, \"#fdca26\"], [1.0, \"#f0f921\"]], \"type\": \"heatmap\"}], \"heatmapgl\": [{\"colorbar\": {\"outlinewidth\": 0, \"ticks\": \"\"}, \"colorscale\": [[0.0, \"#0d0887\"], [0.1111111111111111, \"#46039f\"], [0.2222222222222222, \"#7201a8\"], [0.3333333333333333, \"#9c179e\"], [0.4444444444444444, \"#bd3786\"], [0.5555555555555556, \"#d8576b\"], [0.6666666666666666, \"#ed7953\"], [0.7777777777777778, \"#fb9f3a\"], [0.8888888888888888, \"#fdca26\"], [1.0, \"#f0f921\"]], \"type\": \"heatmapgl\"}], \"histogram\": [{\"marker\": {\"colorbar\": {\"outlinewidth\": 0, \"ticks\": \"\"}}, \"type\": \"histogram\"}], \"histogram2d\": [{\"colorbar\": {\"outlinewidth\": 0, \"ticks\": \"\"}, \"colorscale\": [[0.0, \"#0d0887\"], [0.1111111111111111, \"#46039f\"], [0.2222222222222222, \"#7201a8\"], [0.3333333333333333, \"#9c179e\"], [0.4444444444444444, \"#bd3786\"], [0.5555555555555556, \"#d8576b\"], [0.6666666666666666, \"#ed7953\"], [0.7777777777777778, \"#fb9f3a\"], [0.8888888888888888, \"#fdca26\"], [1.0, \"#f0f921\"]], \"type\": \"histogram2d\"}], \"histogram2dcontour\": [{\"colorbar\": {\"outlinewidth\": 0, \"ticks\": \"\"}, \"colorscale\": [[0.0, \"#0d0887\"], [0.1111111111111111, \"#46039f\"], [0.2222222222222222, \"#7201a8\"], [0.3333333333333333, \"#9c179e\"], [0.4444444444444444, \"#bd3786\"], [0.5555555555555556, \"#d8576b\"], [0.6666666666666666, \"#ed7953\"], [0.7777777777777778, \"#fb9f3a\"], [0.8888888888888888, \"#fdca26\"], [1.0, \"#f0f921\"]], \"type\": \"histogram2dcontour\"}], \"mesh3d\": [{\"colorbar\": {\"outlinewidth\": 0, \"ticks\": \"\"}, \"type\": \"mesh3d\"}], \"parcoords\": [{\"line\": {\"colorbar\": {\"outlinewidth\": 0, \"ticks\": \"\"}}, \"type\": \"parcoords\"}], \"pie\": [{\"automargin\": true, \"type\": \"pie\"}], \"scatter\": [{\"marker\": {\"colorbar\": {\"outlinewidth\": 0, \"ticks\": \"\"}}, \"type\": \"scatter\"}], \"scatter3d\": [{\"line\": {\"colorbar\": {\"outlinewidth\": 0, \"ticks\": \"\"}}, \"marker\": {\"colorbar\": {\"outlinewidth\": 0, \"ticks\": \"\"}}, \"type\": \"scatter3d\"}], \"scattercarpet\": [{\"marker\": {\"colorbar\": {\"outlinewidth\": 0, \"ticks\": \"\"}}, \"type\": \"scattercarpet\"}], \"scattergeo\": [{\"marker\": {\"colorbar\": {\"outlinewidth\": 0, \"ticks\": \"\"}}, \"type\": \"scattergeo\"}], \"scattergl\": [{\"marker\": {\"colorbar\": {\"outlinewidth\": 0, \"ticks\": \"\"}}, \"type\": \"scattergl\"}], \"scattermapbox\": [{\"marker\": {\"colorbar\": {\"outlinewidth\": 0, \"ticks\": \"\"}}, \"type\": \"scattermapbox\"}], \"scatterpolar\": [{\"marker\": {\"colorbar\": {\"outlinewidth\": 0, \"ticks\": \"\"}}, \"type\": \"scatterpolar\"}], \"scatterpolargl\": [{\"marker\": {\"colorbar\": {\"outlinewidth\": 0, \"ticks\": \"\"}}, \"type\": \"scatterpolargl\"}], \"scatterternary\": [{\"marker\": {\"colorbar\": {\"outlinewidth\": 0, \"ticks\": \"\"}}, \"type\": \"scatterternary\"}], \"surface\": [{\"colorbar\": {\"outlinewidth\": 0, \"ticks\": \"\"}, \"colorscale\": [[0.0, \"#0d0887\"], [0.1111111111111111, \"#46039f\"], [0.2222222222222222, \"#7201a8\"], [0.3333333333333333, \"#9c179e\"], [0.4444444444444444, \"#bd3786\"], [0.5555555555555556, \"#d8576b\"], [0.6666666666666666, \"#ed7953\"], [0.7777777777777778, \"#fb9f3a\"], [0.8888888888888888, \"#fdca26\"], [1.0, \"#f0f921\"]], \"type\": \"surface\"}], \"table\": [{\"cells\": {\"fill\": {\"color\": \"#EBF0F8\"}, \"line\": {\"color\": \"white\"}}, \"header\": {\"fill\": {\"color\": \"#C8D4E3\"}, \"line\": {\"color\": \"white\"}}, \"type\": \"table\"}]}, \"layout\": {\"annotationdefaults\": {\"arrowcolor\": \"#2a3f5f\", \"arrowhead\": 0, \"arrowwidth\": 1}, \"coloraxis\": {\"colorbar\": {\"outlinewidth\": 0, \"ticks\": \"\"}}, \"colorscale\": {\"diverging\": [[0, \"#8e0152\"], [0.1, \"#c51b7d\"], [0.2, \"#de77ae\"], [0.3, \"#f1b6da\"], [0.4, \"#fde0ef\"], [0.5, \"#f7f7f7\"], [0.6, \"#e6f5d0\"], [0.7, \"#b8e186\"], [0.8, \"#7fbc41\"], [0.9, \"#4d9221\"], [1, \"#276419\"]], \"sequential\": [[0.0, \"#0d0887\"], [0.1111111111111111, \"#46039f\"], [0.2222222222222222, \"#7201a8\"], [0.3333333333333333, \"#9c179e\"], [0.4444444444444444, \"#bd3786\"], [0.5555555555555556, \"#d8576b\"], [0.6666666666666666, \"#ed7953\"], [0.7777777777777778, \"#fb9f3a\"], [0.8888888888888888, \"#fdca26\"], [1.0, \"#f0f921\"]], \"sequentialminus\": [[0.0, \"#0d0887\"], [0.1111111111111111, \"#46039f\"], [0.2222222222222222, \"#7201a8\"], [0.3333333333333333, \"#9c179e\"], [0.4444444444444444, \"#bd3786\"], [0.5555555555555556, \"#d8576b\"], [0.6666666666666666, \"#ed7953\"], [0.7777777777777778, \"#fb9f3a\"], [0.8888888888888888, \"#fdca26\"], [1.0, \"#f0f921\"]]}, \"colorway\": [\"#636efa\", \"#EF553B\", \"#00cc96\", \"#ab63fa\", \"#FFA15A\", \"#19d3f3\", \"#FF6692\", \"#B6E880\", \"#FF97FF\", \"#FECB52\"], \"font\": {\"color\": \"#2a3f5f\"}, \"geo\": {\"bgcolor\": \"white\", \"lakecolor\": \"white\", \"landcolor\": \"white\", \"showlakes\": true, \"showland\": true, \"subunitcolor\": \"#C8D4E3\"}, \"hoverlabel\": {\"align\": \"left\"}, \"hovermode\": \"closest\", \"mapbox\": {\"style\": \"light\"}, \"paper_bgcolor\": \"white\", \"plot_bgcolor\": \"white\", \"polar\": {\"angularaxis\": {\"gridcolor\": \"#EBF0F8\", \"linecolor\": \"#EBF0F8\", \"ticks\": \"\"}, \"bgcolor\": \"white\", \"radialaxis\": {\"gridcolor\": \"#EBF0F8\", \"linecolor\": \"#EBF0F8\", \"ticks\": \"\"}}, \"scene\": {\"xaxis\": {\"backgroundcolor\": \"white\", \"gridcolor\": \"#DFE8F3\", \"gridwidth\": 2, \"linecolor\": \"#EBF0F8\", \"showbackground\": true, \"ticks\": \"\", \"zerolinecolor\": \"#EBF0F8\"}, \"yaxis\": {\"backgroundcolor\": \"white\", \"gridcolor\": \"#DFE8F3\", \"gridwidth\": 2, \"linecolor\": \"#EBF0F8\", \"showbackground\": true, \"ticks\": \"\", \"zerolinecolor\": \"#EBF0F8\"}, \"zaxis\": {\"backgroundcolor\": \"white\", \"gridcolor\": \"#DFE8F3\", \"gridwidth\": 2, \"linecolor\": \"#EBF0F8\", \"showbackground\": true, \"ticks\": \"\", \"zerolinecolor\": \"#EBF0F8\"}}, \"shapedefaults\": {\"line\": {\"color\": \"#2a3f5f\"}}, \"ternary\": {\"aaxis\": {\"gridcolor\": \"#DFE8F3\", \"linecolor\": \"#A2B1C6\", \"ticks\": \"\"}, \"baxis\": {\"gridcolor\": \"#DFE8F3\", \"linecolor\": \"#A2B1C6\", \"ticks\": \"\"}, \"bgcolor\": \"white\", \"caxis\": {\"gridcolor\": \"#DFE8F3\", \"linecolor\": \"#A2B1C6\", \"ticks\": \"\"}}, \"title\": {\"x\": 0.05}, \"xaxis\": {\"automargin\": true, \"gridcolor\": \"#EBF0F8\", \"linecolor\": \"#EBF0F8\", \"ticks\": \"\", \"title\": {\"standoff\": 15}, \"zerolinecolor\": \"#EBF0F8\", \"zerolinewidth\": 2}, \"yaxis\": {\"automargin\": true, \"gridcolor\": \"#EBF0F8\", \"linecolor\": \"#EBF0F8\", \"ticks\": \"\", \"title\": {\"standoff\": 15}, \"zerolinecolor\": \"#EBF0F8\", \"zerolinewidth\": 2}}}, \"width\": 900, \"xaxis\": {\"categoryorder\": \"sum descending\", \"ticks\": \"outside\", \"title\": {\"text\": \"Cluster\"}, \"type\": \"category\"}, \"yaxis\": {\"title\": {\"text\": \"Energy (GWh/yr)\"}}},\n",
       "                        {\"responsive\": true}\n",
       "                    ).then(function(){\n",
       "                            \n",
       "var gd = document.getElementById('1d0188f5-c9e6-40c6-a789-aae1d9b48f9c');\n",
       "var x = new MutationObserver(function (mutations, observer) {{\n",
       "        var display = window.getComputedStyle(gd).display;\n",
       "        if (!display || display === 'none') {{\n",
       "            console.log([gd, 'removed!']);\n",
       "            Plotly.purge(gd);\n",
       "            observer.disconnect();\n",
       "        }}\n",
       "}});\n",
       "\n",
       "// Listen for the removal of the full notebook cells\n",
       "var notebookContainer = gd.closest('#notebook-container');\n",
       "if (notebookContainer) {{\n",
       "    x.observe(notebookContainer, {childList: true});\n",
       "}}\n",
       "\n",
       "// Listen for the clearing of the current output cell\n",
       "var outputEl = gd.closest('.output');\n",
       "if (outputEl) {{\n",
       "    x.observe(outputEl, {childList: true});\n",
       "}}\n",
       "\n",
       "                        })\n",
       "                };\n",
       "                });\n",
       "            </script>\n",
       "        </div>"
      ]
     },
     "metadata": {},
     "output_type": "display_data"
    }
   ],
   "source": [
    "fig = go.Figure()\n",
    "dff = dff_energy\n",
    "\n",
    "fig.add_trace(go.Bar(x=dff['Cluster'], y=dff['IrrigationPumpingEnergy']/1000000, name='Pumping Energy', marker=dict(color='#fc8d62', line=dict(width=1, color='Grey'))))\n",
    "fig.add_trace(go.Bar(x=dff['Cluster'], y=dff['IrrigationDesalinationEnergy']/1000000, name='Desalination Energy', marker=dict(color='#66c2a5', line=dict(width=1, color='Grey'))))\n",
    "\n",
    "fig.update_layout(barmode='stack', width=900, template='plotly_white',\n",
    "                  xaxis={'categoryorder':'sum descending', 'title': 'Cluster', 'type': 'category', 'ticks': \"outside\"}, \n",
    "                  yaxis={'title': 'Energy (GWh/yr)'},\n",
    "                  legend=dict(\n",
    "                            orientation=\"h\",\n",
    "                            yanchor=\"bottom\",\n",
    "                            y=1.02,\n",
    "                            xanchor=\"right\",\n",
    "                            x=1\n",
    "                ),\n",
    "                 margin=dict(b=0, l=0, r=0, t=0))\n",
    "fig.show()\n",
    "fig.write_image('BaselineEnergy.pdf')"
   ]
  },
  {
   "cell_type": "code",
   "execution_count": 35,
   "metadata": {},
   "outputs": [],
   "source": [
    "scenarios = np.array([x[1] for x in os.walk('.')][0])"
   ]
  },
  {
   "cell_type": "code",
   "execution_count": 36,
   "metadata": {},
   "outputs": [],
   "source": [
    "scenarios = np.delete(scenarios, 0)"
   ]
  },
  {
   "cell_type": "code",
   "execution_count": 37,
   "metadata": {},
   "outputs": [],
   "source": [
    "for scenario in scenarios:\n",
    "    df = pd.read_csv(os.path.join(scenario, scenario.replace('agri','ag') + '.gz'))\n",
    "    dff = df.groupby('Cluster').agg({'FinalPumpingEnergy': 'sum', 'FinalDesalinationEnergy': 'sum', 'FinalTreatmentEnergy': 'first'})\n",
    "    dff.reset_index(inplace=True)\n",
    "    dff['Cluster'] = dff['Cluster'].astype(int).astype(str)\n",
    "    \n",
    "    fig = go.Figure()\n",
    "\n",
    "    fig.add_trace(go.Bar(x=dff['Cluster'], y=dff['FinalTreatmentEnergy']/1000000, name='Treatment Energy', \n",
    "                         marker=dict(color='#8da0cb', line=dict(width=1, color='Grey'))))\n",
    "    fig.add_trace(go.Bar(x=dff['Cluster'], y=dff['FinalPumpingEnergy']/1000000, name='Pumping Energy', \n",
    "                         marker=dict(color='#fc8d62', line=dict(width=1, color='Grey'))))\n",
    "    fig.add_trace(go.Bar(x=dff['Cluster'], y=dff['FinalDesalinationEnergy']/1000000, name='Desalination Energy', \n",
    "                         marker=dict(color='#66c2a5', line=dict(width=1, color='Grey'))))\n",
    "\n",
    "    fig.update_layout(barmode='stack', width=900, template='plotly_white',\n",
    "                      xaxis={'categoryorder':'sum descending', 'title': 'Cluster', 'type': 'category', 'ticks': \"outside\"}, \n",
    "                      yaxis={'title': 'Energy (GWh/yr)'},\n",
    "                      legend=dict(\n",
    "                            orientation=\"h\",\n",
    "                            yanchor=\"bottom\",\n",
    "                            y=1.02,\n",
    "                            xanchor=\"right\",\n",
    "                            x=1\n",
    "                            ),\n",
    "                     margin=dict(b=0, l=0, r=0, t=0))\n",
    "    fig.write_image(os.path.join(scenario,'EnergyPerCluster2.pdf'))"
   ]
  },
  {
   "cell_type": "code",
   "execution_count": 34,
   "metadata": {},
   "outputs": [
    {
     "data": {
      "text/plain": [
       "0     3.146789\n",
       "1     2.879277\n",
       "2     2.873699\n",
       "3     1.151660\n",
       "4     2.547099\n",
       "5     3.077698\n",
       "6     2.971967\n",
       "7     1.059600\n",
       "8     2.355352\n",
       "9     2.622324\n",
       "10    1.430181\n",
       "11    2.708937\n",
       "12    2.623005\n",
       "13    1.439344\n",
       "14    2.508038\n",
       "15    1.000000\n",
       "16    2.112251\n",
       "17    2.953453\n",
       "18    3.146789\n",
       "19    2.622324\n",
       "20    1.092606\n",
       "21    3.119407\n",
       "22    1.265100\n",
       "23    3.146789\n",
       "24    2.622324\n",
       "25    2.622324\n",
       "26    1.253972\n",
       "27    3.047807\n",
       "28    1.842023\n",
       "29    1.048930\n",
       "30    2.622324\n",
       "31    1.845623\n",
       "32    2.432178\n",
       "33    2.958622\n",
       "34    2.622324\n",
       "35    1.093814\n",
       "36    1.581023\n",
       "37    2.172281\n",
       "38    3.146789\n",
       "39    2.574749\n",
       "Name: GroundwaterDepth, dtype: float64"
      ]
     },
     "execution_count": 34,
     "metadata": {},
     "output_type": "execute_result"
    }
   ],
   "source": [
    "dff['GroundwaterDepth']/dff['GroundwaterDepth'].min()"
   ]
  },
  {
   "cell_type": "code",
   "execution_count": 47,
   "metadata": {},
   "outputs": [
    {
     "data": {
      "application/vnd.plotly.v1+json": {
       "config": {
        "plotlyServerURL": "https://plot.ly"
       },
       "data": [
        {
         "marker": {
          "color": [
           300,
           274.496644295302,
           273.96486825595986,
           109.79381443298969,
           242.82841823056302,
           293.41317365269464,
           283.3333333333333,
           101.01729399796541,
           224.54810495626822,
           250,
           136.34669151910532,
           258.257299270073,
           250.06493506493507,
           137.22028841372452,
           239.1044776119403,
           95.33527696793003,
           201.37204850031907,
           281.5682281059063,
           300,
           250,
           104.16391275611367,
           297.38955823293173,
           120.6086956521739,
           300,
           250,
           250,
           119.54781319495923,
           290.56356487549147,
           175.609756097561,
           100,
           250,
           175.95298602287167,
           231.87234042553192,
           282.0610687022901,
           250,
           104.27910562837317,
           150.72727272727272,
           207.0949720670391,
           300,
           245.46436285097192
          ],
          "colorscale": [
           [
            0,
            "#440154"
           ],
           [
            0.1111111111111111,
            "#482878"
           ],
           [
            0.2222222222222222,
            "#3e4989"
           ],
           [
            0.3333333333333333,
            "#31688e"
           ],
           [
            0.4444444444444444,
            "#26828e"
           ],
           [
            0.5555555555555556,
            "#1f9e89"
           ],
           [
            0.6666666666666666,
            "#35b779"
           ],
           [
            0.7777777777777778,
            "#6ece58"
           ],
           [
            0.8888888888888888,
            "#b5de2b"
           ],
           [
            1,
            "#fde725"
           ]
          ],
          "showscale": true,
          "size": [
           10,
           15,
           13.074027603513175,
           19.93127147766323,
           14.483914209115284,
           10.134730538922156,
           13.033333333333331,
           17.49406578501187,
           21.583090379008745,
           36.457564575645755,
           15.661696178937559,
           15.51551094890511,
           10.045454545454543,
           19.087518647439087,
           17.73134328358209,
           15.271137026239066,
           19.961710274409697,
           13.299389002036659,
           15,
           10.61042524005487,
           10.194976867151356,
           10,
           22.843478260869567,
           15,
           15,
           21.735637779941577,
           18.93254262416605,
           15.235910878112712,
           15.060975609756097,
           20,
           15.234641638225256,
           24.27890724269377,
           17.78723404255319,
           10,
           24.839883551673942,
           10.019275250578257,
           14.972727272727273,
           15.022346368715084,
           19.527027027027025,
           25
          ]
         },
         "mode": "markers",
         "text": [
          "Cluster: 0",
          "Cluster: 1",
          "Cluster: 2",
          "Cluster: 3",
          "Cluster: 4",
          "Cluster: 5",
          "Cluster: 6",
          "Cluster: 7",
          "Cluster: 8",
          "Cluster: 9",
          "Cluster: 10",
          "Cluster: 11",
          "Cluster: 12",
          "Cluster: 13",
          "Cluster: 14",
          "Cluster: 15",
          "Cluster: 16",
          "Cluster: 17",
          "Cluster: 18",
          "Cluster: 19",
          "Cluster: 20",
          "Cluster: 21",
          "Cluster: 22",
          "Cluster: 23",
          "Cluster: 24",
          "Cluster: 25",
          "Cluster: 26",
          "Cluster: 27",
          "Cluster: 28",
          "Cluster: 29",
          "Cluster: 30",
          "Cluster: 31",
          "Cluster: 32",
          "Cluster: 33",
          "Cluster: 34",
          "Cluster: 35",
          "Cluster: 36",
          "Cluster: 37",
          "Cluster: 38",
          "Cluster: 39"
         ],
         "type": "scatter",
         "x": [
          56.32631662656812,
          13.967944838930299,
          87.0797409000572,
          250.70121451710227,
          92.51716250159143,
          3.3751222604242623,
          6.308289999149487,
          846.8585499667923,
          382.6432350935713,
          117.63969757024175,
          105.68966612067088,
          83.95852989483649,
          75.85360276453059,
          376.4360575939201,
          217.55935982743043,
          331.6809975833639,
          145.44570336809957,
          71.98522182574172,
          69.24479709615554,
          44.866593185268464,
          74.31367724354176,
          15.68990827819582,
          25.68004563038043,
          30.980176933638173,
          27.2005621103065,
          349.4786285991777,
          220.70279832902963,
          54.70486219604735,
          25.74066475965714,
          149.67112593541069,
          325.3580024093542,
          287.4635146384804,
          72.77245222992775,
          13.245443184380836,
          90.08930601769234,
          35.544707277368495,
          9.72466380528301,
          93.23949139252879,
          15.922025374224603,
          181.68144753599518
         ],
         "y": [
          49.29087993423055,
          11.08795676326873,
          77.37369272054048,
          107.41598718337247,
          79.38693914179935,
          2.6177882395000975,
          5.723958003840323,
          329.713363861123,
          329.94831119112393,
          93.5343436931514,
          53.00386476156701,
          63.395702679466005,
          60.893525798057986,
          168.99502170495185,
          185.16530149744807,
          115.15841469470102,
          107.90638929624164,
          67.69052125967475,
          67.75689878305614,
          36.904511937242596,
          24.00590590640549,
          12.995251488053116,
          11.813197235193435,
          28.1978452343515,
          22.4245027396105,
          295.0944168968469,
          90.16638505503963,
          41.626857834884326,
          17.53474784105222,
          56.871189966963435,
          277.65961840242545,
          202.0267985897707,
          52.293113448107476,
          12.807384385155773,
          73.13738204268209,
          12.571551584380131,
          3.7499833657127972,
          70.25081873780628,
          8.459671406696469,
          162.9989294038419
         ]
        }
       ],
       "layout": {
        "legend": {
         "orientation": "h",
         "x": 1,
         "xanchor": "right",
         "y": 1.02,
         "yanchor": "bottom"
        },
        "margin": {
         "b": 0,
         "l": 0,
         "r": 0,
         "t": 0
        },
        "template": {
         "data": {
          "bar": [
           {
            "error_x": {
             "color": "#2a3f5f"
            },
            "error_y": {
             "color": "#2a3f5f"
            },
            "marker": {
             "line": {
              "color": "white",
              "width": 0.5
             }
            },
            "type": "bar"
           }
          ],
          "barpolar": [
           {
            "marker": {
             "line": {
              "color": "white",
              "width": 0.5
             }
            },
            "type": "barpolar"
           }
          ],
          "carpet": [
           {
            "aaxis": {
             "endlinecolor": "#2a3f5f",
             "gridcolor": "#C8D4E3",
             "linecolor": "#C8D4E3",
             "minorgridcolor": "#C8D4E3",
             "startlinecolor": "#2a3f5f"
            },
            "baxis": {
             "endlinecolor": "#2a3f5f",
             "gridcolor": "#C8D4E3",
             "linecolor": "#C8D4E3",
             "minorgridcolor": "#C8D4E3",
             "startlinecolor": "#2a3f5f"
            },
            "type": "carpet"
           }
          ],
          "choropleth": [
           {
            "colorbar": {
             "outlinewidth": 0,
             "ticks": ""
            },
            "type": "choropleth"
           }
          ],
          "contour": [
           {
            "colorbar": {
             "outlinewidth": 0,
             "ticks": ""
            },
            "colorscale": [
             [
              0,
              "#0d0887"
             ],
             [
              0.1111111111111111,
              "#46039f"
             ],
             [
              0.2222222222222222,
              "#7201a8"
             ],
             [
              0.3333333333333333,
              "#9c179e"
             ],
             [
              0.4444444444444444,
              "#bd3786"
             ],
             [
              0.5555555555555556,
              "#d8576b"
             ],
             [
              0.6666666666666666,
              "#ed7953"
             ],
             [
              0.7777777777777778,
              "#fb9f3a"
             ],
             [
              0.8888888888888888,
              "#fdca26"
             ],
             [
              1,
              "#f0f921"
             ]
            ],
            "type": "contour"
           }
          ],
          "contourcarpet": [
           {
            "colorbar": {
             "outlinewidth": 0,
             "ticks": ""
            },
            "type": "contourcarpet"
           }
          ],
          "heatmap": [
           {
            "colorbar": {
             "outlinewidth": 0,
             "ticks": ""
            },
            "colorscale": [
             [
              0,
              "#0d0887"
             ],
             [
              0.1111111111111111,
              "#46039f"
             ],
             [
              0.2222222222222222,
              "#7201a8"
             ],
             [
              0.3333333333333333,
              "#9c179e"
             ],
             [
              0.4444444444444444,
              "#bd3786"
             ],
             [
              0.5555555555555556,
              "#d8576b"
             ],
             [
              0.6666666666666666,
              "#ed7953"
             ],
             [
              0.7777777777777778,
              "#fb9f3a"
             ],
             [
              0.8888888888888888,
              "#fdca26"
             ],
             [
              1,
              "#f0f921"
             ]
            ],
            "type": "heatmap"
           }
          ],
          "heatmapgl": [
           {
            "colorbar": {
             "outlinewidth": 0,
             "ticks": ""
            },
            "colorscale": [
             [
              0,
              "#0d0887"
             ],
             [
              0.1111111111111111,
              "#46039f"
             ],
             [
              0.2222222222222222,
              "#7201a8"
             ],
             [
              0.3333333333333333,
              "#9c179e"
             ],
             [
              0.4444444444444444,
              "#bd3786"
             ],
             [
              0.5555555555555556,
              "#d8576b"
             ],
             [
              0.6666666666666666,
              "#ed7953"
             ],
             [
              0.7777777777777778,
              "#fb9f3a"
             ],
             [
              0.8888888888888888,
              "#fdca26"
             ],
             [
              1,
              "#f0f921"
             ]
            ],
            "type": "heatmapgl"
           }
          ],
          "histogram": [
           {
            "marker": {
             "colorbar": {
              "outlinewidth": 0,
              "ticks": ""
             }
            },
            "type": "histogram"
           }
          ],
          "histogram2d": [
           {
            "colorbar": {
             "outlinewidth": 0,
             "ticks": ""
            },
            "colorscale": [
             [
              0,
              "#0d0887"
             ],
             [
              0.1111111111111111,
              "#46039f"
             ],
             [
              0.2222222222222222,
              "#7201a8"
             ],
             [
              0.3333333333333333,
              "#9c179e"
             ],
             [
              0.4444444444444444,
              "#bd3786"
             ],
             [
              0.5555555555555556,
              "#d8576b"
             ],
             [
              0.6666666666666666,
              "#ed7953"
             ],
             [
              0.7777777777777778,
              "#fb9f3a"
             ],
             [
              0.8888888888888888,
              "#fdca26"
             ],
             [
              1,
              "#f0f921"
             ]
            ],
            "type": "histogram2d"
           }
          ],
          "histogram2dcontour": [
           {
            "colorbar": {
             "outlinewidth": 0,
             "ticks": ""
            },
            "colorscale": [
             [
              0,
              "#0d0887"
             ],
             [
              0.1111111111111111,
              "#46039f"
             ],
             [
              0.2222222222222222,
              "#7201a8"
             ],
             [
              0.3333333333333333,
              "#9c179e"
             ],
             [
              0.4444444444444444,
              "#bd3786"
             ],
             [
              0.5555555555555556,
              "#d8576b"
             ],
             [
              0.6666666666666666,
              "#ed7953"
             ],
             [
              0.7777777777777778,
              "#fb9f3a"
             ],
             [
              0.8888888888888888,
              "#fdca26"
             ],
             [
              1,
              "#f0f921"
             ]
            ],
            "type": "histogram2dcontour"
           }
          ],
          "mesh3d": [
           {
            "colorbar": {
             "outlinewidth": 0,
             "ticks": ""
            },
            "type": "mesh3d"
           }
          ],
          "parcoords": [
           {
            "line": {
             "colorbar": {
              "outlinewidth": 0,
              "ticks": ""
             }
            },
            "type": "parcoords"
           }
          ],
          "pie": [
           {
            "automargin": true,
            "type": "pie"
           }
          ],
          "scatter": [
           {
            "marker": {
             "colorbar": {
              "outlinewidth": 0,
              "ticks": ""
             }
            },
            "type": "scatter"
           }
          ],
          "scatter3d": [
           {
            "line": {
             "colorbar": {
              "outlinewidth": 0,
              "ticks": ""
             }
            },
            "marker": {
             "colorbar": {
              "outlinewidth": 0,
              "ticks": ""
             }
            },
            "type": "scatter3d"
           }
          ],
          "scattercarpet": [
           {
            "marker": {
             "colorbar": {
              "outlinewidth": 0,
              "ticks": ""
             }
            },
            "type": "scattercarpet"
           }
          ],
          "scattergeo": [
           {
            "marker": {
             "colorbar": {
              "outlinewidth": 0,
              "ticks": ""
             }
            },
            "type": "scattergeo"
           }
          ],
          "scattergl": [
           {
            "marker": {
             "colorbar": {
              "outlinewidth": 0,
              "ticks": ""
             }
            },
            "type": "scattergl"
           }
          ],
          "scattermapbox": [
           {
            "marker": {
             "colorbar": {
              "outlinewidth": 0,
              "ticks": ""
             }
            },
            "type": "scattermapbox"
           }
          ],
          "scatterpolar": [
           {
            "marker": {
             "colorbar": {
              "outlinewidth": 0,
              "ticks": ""
             }
            },
            "type": "scatterpolar"
           }
          ],
          "scatterpolargl": [
           {
            "marker": {
             "colorbar": {
              "outlinewidth": 0,
              "ticks": ""
             }
            },
            "type": "scatterpolargl"
           }
          ],
          "scatterternary": [
           {
            "marker": {
             "colorbar": {
              "outlinewidth": 0,
              "ticks": ""
             }
            },
            "type": "scatterternary"
           }
          ],
          "surface": [
           {
            "colorbar": {
             "outlinewidth": 0,
             "ticks": ""
            },
            "colorscale": [
             [
              0,
              "#0d0887"
             ],
             [
              0.1111111111111111,
              "#46039f"
             ],
             [
              0.2222222222222222,
              "#7201a8"
             ],
             [
              0.3333333333333333,
              "#9c179e"
             ],
             [
              0.4444444444444444,
              "#bd3786"
             ],
             [
              0.5555555555555556,
              "#d8576b"
             ],
             [
              0.6666666666666666,
              "#ed7953"
             ],
             [
              0.7777777777777778,
              "#fb9f3a"
             ],
             [
              0.8888888888888888,
              "#fdca26"
             ],
             [
              1,
              "#f0f921"
             ]
            ],
            "type": "surface"
           }
          ],
          "table": [
           {
            "cells": {
             "fill": {
              "color": "#EBF0F8"
             },
             "line": {
              "color": "white"
             }
            },
            "header": {
             "fill": {
              "color": "#C8D4E3"
             },
             "line": {
              "color": "white"
             }
            },
            "type": "table"
           }
          ]
         },
         "layout": {
          "annotationdefaults": {
           "arrowcolor": "#2a3f5f",
           "arrowhead": 0,
           "arrowwidth": 1
          },
          "coloraxis": {
           "colorbar": {
            "outlinewidth": 0,
            "ticks": ""
           }
          },
          "colorscale": {
           "diverging": [
            [
             0,
             "#8e0152"
            ],
            [
             0.1,
             "#c51b7d"
            ],
            [
             0.2,
             "#de77ae"
            ],
            [
             0.3,
             "#f1b6da"
            ],
            [
             0.4,
             "#fde0ef"
            ],
            [
             0.5,
             "#f7f7f7"
            ],
            [
             0.6,
             "#e6f5d0"
            ],
            [
             0.7,
             "#b8e186"
            ],
            [
             0.8,
             "#7fbc41"
            ],
            [
             0.9,
             "#4d9221"
            ],
            [
             1,
             "#276419"
            ]
           ],
           "sequential": [
            [
             0,
             "#0d0887"
            ],
            [
             0.1111111111111111,
             "#46039f"
            ],
            [
             0.2222222222222222,
             "#7201a8"
            ],
            [
             0.3333333333333333,
             "#9c179e"
            ],
            [
             0.4444444444444444,
             "#bd3786"
            ],
            [
             0.5555555555555556,
             "#d8576b"
            ],
            [
             0.6666666666666666,
             "#ed7953"
            ],
            [
             0.7777777777777778,
             "#fb9f3a"
            ],
            [
             0.8888888888888888,
             "#fdca26"
            ],
            [
             1,
             "#f0f921"
            ]
           ],
           "sequentialminus": [
            [
             0,
             "#0d0887"
            ],
            [
             0.1111111111111111,
             "#46039f"
            ],
            [
             0.2222222222222222,
             "#7201a8"
            ],
            [
             0.3333333333333333,
             "#9c179e"
            ],
            [
             0.4444444444444444,
             "#bd3786"
            ],
            [
             0.5555555555555556,
             "#d8576b"
            ],
            [
             0.6666666666666666,
             "#ed7953"
            ],
            [
             0.7777777777777778,
             "#fb9f3a"
            ],
            [
             0.8888888888888888,
             "#fdca26"
            ],
            [
             1,
             "#f0f921"
            ]
           ]
          },
          "colorway": [
           "#636efa",
           "#EF553B",
           "#00cc96",
           "#ab63fa",
           "#FFA15A",
           "#19d3f3",
           "#FF6692",
           "#B6E880",
           "#FF97FF",
           "#FECB52"
          ],
          "font": {
           "color": "#2a3f5f"
          },
          "geo": {
           "bgcolor": "white",
           "lakecolor": "white",
           "landcolor": "white",
           "showlakes": true,
           "showland": true,
           "subunitcolor": "#C8D4E3"
          },
          "hoverlabel": {
           "align": "left"
          },
          "hovermode": "closest",
          "mapbox": {
           "style": "light"
          },
          "paper_bgcolor": "white",
          "plot_bgcolor": "white",
          "polar": {
           "angularaxis": {
            "gridcolor": "#EBF0F8",
            "linecolor": "#EBF0F8",
            "ticks": ""
           },
           "bgcolor": "white",
           "radialaxis": {
            "gridcolor": "#EBF0F8",
            "linecolor": "#EBF0F8",
            "ticks": ""
           }
          },
          "scene": {
           "xaxis": {
            "backgroundcolor": "white",
            "gridcolor": "#DFE8F3",
            "gridwidth": 2,
            "linecolor": "#EBF0F8",
            "showbackground": true,
            "ticks": "",
            "zerolinecolor": "#EBF0F8"
           },
           "yaxis": {
            "backgroundcolor": "white",
            "gridcolor": "#DFE8F3",
            "gridwidth": 2,
            "linecolor": "#EBF0F8",
            "showbackground": true,
            "ticks": "",
            "zerolinecolor": "#EBF0F8"
           },
           "zaxis": {
            "backgroundcolor": "white",
            "gridcolor": "#DFE8F3",
            "gridwidth": 2,
            "linecolor": "#EBF0F8",
            "showbackground": true,
            "ticks": "",
            "zerolinecolor": "#EBF0F8"
           }
          },
          "shapedefaults": {
           "line": {
            "color": "#2a3f5f"
           }
          },
          "ternary": {
           "aaxis": {
            "gridcolor": "#DFE8F3",
            "linecolor": "#A2B1C6",
            "ticks": ""
           },
           "baxis": {
            "gridcolor": "#DFE8F3",
            "linecolor": "#A2B1C6",
            "ticks": ""
           },
           "bgcolor": "white",
           "caxis": {
            "gridcolor": "#DFE8F3",
            "linecolor": "#A2B1C6",
            "ticks": ""
           }
          },
          "title": {
           "x": 0.05
          },
          "xaxis": {
           "automargin": true,
           "gridcolor": "#EBF0F8",
           "linecolor": "#EBF0F8",
           "ticks": "",
           "title": {
            "standoff": 15
           },
           "zerolinecolor": "#EBF0F8",
           "zerolinewidth": 2
          },
          "yaxis": {
           "automargin": true,
           "gridcolor": "#EBF0F8",
           "linecolor": "#EBF0F8",
           "ticks": "",
           "title": {
            "standoff": 15
           },
           "zerolinecolor": "#EBF0F8",
           "zerolinewidth": 2
          }
         }
        },
        "width": 900,
        "xaxis": {
         "categoryorder": "sum descending",
         "title": {
          "text": "Water (Mm<sup>3</sup>/yr)"
         }
        },
        "yaxis": {
         "title": {
          "text": "Energy (GWh/yr)"
         }
        }
       }
      },
      "text/html": [
       "<div>\n",
       "        \n",
       "        \n",
       "            <div id=\"73218a8a-7c21-44a1-9a1e-f0eb5dfe8d6a\" class=\"plotly-graph-div\" style=\"height:525px; width:900px;\"></div>\n",
       "            <script type=\"text/javascript\">\n",
       "                require([\"plotly\"], function(Plotly) {\n",
       "                    window.PLOTLYENV=window.PLOTLYENV || {};\n",
       "                    \n",
       "                if (document.getElementById(\"73218a8a-7c21-44a1-9a1e-f0eb5dfe8d6a\")) {\n",
       "                    Plotly.newPlot(\n",
       "                        '73218a8a-7c21-44a1-9a1e-f0eb5dfe8d6a',\n",
       "                        [{\"marker\": {\"color\": [300.0, 274.496644295302, 273.96486825595986, 109.79381443298969, 242.82841823056302, 293.41317365269464, 283.3333333333333, 101.01729399796541, 224.54810495626822, 250.0, 136.34669151910532, 258.257299270073, 250.06493506493507, 137.22028841372452, 239.1044776119403, 95.33527696793003, 201.37204850031907, 281.5682281059063, 300.0, 250.0, 104.16391275611367, 297.38955823293173, 120.6086956521739, 300.0, 250.0, 250.0, 119.54781319495923, 290.56356487549147, 175.609756097561, 100.0, 250.0, 175.95298602287167, 231.87234042553192, 282.0610687022901, 250.0, 104.27910562837317, 150.72727272727272, 207.0949720670391, 300.0, 245.46436285097192], \"colorscale\": [[0.0, \"#440154\"], [0.1111111111111111, \"#482878\"], [0.2222222222222222, \"#3e4989\"], [0.3333333333333333, \"#31688e\"], [0.4444444444444444, \"#26828e\"], [0.5555555555555556, \"#1f9e89\"], [0.6666666666666666, \"#35b779\"], [0.7777777777777778, \"#6ece58\"], [0.8888888888888888, \"#b5de2b\"], [1.0, \"#fde725\"]], \"showscale\": true, \"size\": [10.0, 15.0, 13.074027603513175, 19.93127147766323, 14.483914209115284, 10.134730538922156, 13.033333333333331, 17.49406578501187, 21.583090379008745, 36.457564575645755, 15.661696178937559, 15.51551094890511, 10.045454545454543, 19.087518647439087, 17.73134328358209, 15.271137026239066, 19.961710274409697, 13.299389002036659, 15.0, 10.61042524005487, 10.194976867151356, 10.0, 22.843478260869567, 15.0, 15.0, 21.735637779941577, 18.93254262416605, 15.235910878112712, 15.060975609756097, 20.0, 15.234641638225256, 24.27890724269377, 17.78723404255319, 10.0, 24.839883551673942, 10.019275250578257, 14.972727272727273, 15.022346368715084, 19.527027027027025, 25.0]}, \"mode\": \"markers\", \"text\": [\"Cluster: 0\", \"Cluster: 1\", \"Cluster: 2\", \"Cluster: 3\", \"Cluster: 4\", \"Cluster: 5\", \"Cluster: 6\", \"Cluster: 7\", \"Cluster: 8\", \"Cluster: 9\", \"Cluster: 10\", \"Cluster: 11\", \"Cluster: 12\", \"Cluster: 13\", \"Cluster: 14\", \"Cluster: 15\", \"Cluster: 16\", \"Cluster: 17\", \"Cluster: 18\", \"Cluster: 19\", \"Cluster: 20\", \"Cluster: 21\", \"Cluster: 22\", \"Cluster: 23\", \"Cluster: 24\", \"Cluster: 25\", \"Cluster: 26\", \"Cluster: 27\", \"Cluster: 28\", \"Cluster: 29\", \"Cluster: 30\", \"Cluster: 31\", \"Cluster: 32\", \"Cluster: 33\", \"Cluster: 34\", \"Cluster: 35\", \"Cluster: 36\", \"Cluster: 37\", \"Cluster: 38\", \"Cluster: 39\"], \"type\": \"scatter\", \"x\": [56.32631662656812, 13.967944838930299, 87.0797409000572, 250.70121451710227, 92.51716250159143, 3.3751222604242623, 6.308289999149487, 846.8585499667923, 382.6432350935713, 117.63969757024175, 105.68966612067088, 83.95852989483649, 75.85360276453059, 376.4360575939201, 217.55935982743043, 331.6809975833639, 145.44570336809957, 71.98522182574172, 69.24479709615554, 44.866593185268464, 74.31367724354176, 15.68990827819582, 25.68004563038043, 30.980176933638173, 27.2005621103065, 349.4786285991777, 220.70279832902963, 54.70486219604735, 25.74066475965714, 149.67112593541069, 325.3580024093542, 287.4635146384804, 72.77245222992775, 13.245443184380836, 90.08930601769234, 35.544707277368495, 9.72466380528301, 93.23949139252879, 15.922025374224603, 181.68144753599518], \"y\": [49.29087993423055, 11.08795676326873, 77.37369272054048, 107.41598718337247, 79.38693914179935, 2.6177882395000975, 5.723958003840323, 329.713363861123, 329.94831119112393, 93.5343436931514, 53.00386476156701, 63.395702679466005, 60.893525798057986, 168.99502170495185, 185.16530149744807, 115.15841469470102, 107.90638929624164, 67.69052125967475, 67.75689878305614, 36.904511937242596, 24.00590590640549, 12.995251488053116, 11.813197235193435, 28.1978452343515, 22.4245027396105, 295.0944168968469, 90.16638505503963, 41.626857834884326, 17.53474784105222, 56.871189966963435, 277.65961840242545, 202.0267985897707, 52.293113448107476, 12.807384385155773, 73.13738204268209, 12.571551584380131, 3.7499833657127972, 70.25081873780628, 8.459671406696469, 162.9989294038419]}],\n",
       "                        {\"legend\": {\"orientation\": \"h\", \"x\": 1, \"xanchor\": \"right\", \"y\": 1.02, \"yanchor\": \"bottom\"}, \"margin\": {\"b\": 0, \"l\": 0, \"r\": 0, \"t\": 0}, \"template\": {\"data\": {\"bar\": [{\"error_x\": {\"color\": \"#2a3f5f\"}, \"error_y\": {\"color\": \"#2a3f5f\"}, \"marker\": {\"line\": {\"color\": \"white\", \"width\": 0.5}}, \"type\": \"bar\"}], \"barpolar\": [{\"marker\": {\"line\": {\"color\": \"white\", \"width\": 0.5}}, \"type\": \"barpolar\"}], \"carpet\": [{\"aaxis\": {\"endlinecolor\": \"#2a3f5f\", \"gridcolor\": \"#C8D4E3\", \"linecolor\": \"#C8D4E3\", \"minorgridcolor\": \"#C8D4E3\", \"startlinecolor\": \"#2a3f5f\"}, \"baxis\": {\"endlinecolor\": \"#2a3f5f\", \"gridcolor\": \"#C8D4E3\", \"linecolor\": \"#C8D4E3\", \"minorgridcolor\": \"#C8D4E3\", \"startlinecolor\": \"#2a3f5f\"}, \"type\": \"carpet\"}], \"choropleth\": [{\"colorbar\": {\"outlinewidth\": 0, \"ticks\": \"\"}, \"type\": \"choropleth\"}], \"contour\": [{\"colorbar\": {\"outlinewidth\": 0, \"ticks\": \"\"}, \"colorscale\": [[0.0, \"#0d0887\"], [0.1111111111111111, \"#46039f\"], [0.2222222222222222, \"#7201a8\"], [0.3333333333333333, \"#9c179e\"], [0.4444444444444444, \"#bd3786\"], [0.5555555555555556, \"#d8576b\"], [0.6666666666666666, \"#ed7953\"], [0.7777777777777778, \"#fb9f3a\"], [0.8888888888888888, \"#fdca26\"], [1.0, \"#f0f921\"]], \"type\": \"contour\"}], \"contourcarpet\": [{\"colorbar\": {\"outlinewidth\": 0, \"ticks\": \"\"}, \"type\": \"contourcarpet\"}], \"heatmap\": [{\"colorbar\": {\"outlinewidth\": 0, \"ticks\": \"\"}, \"colorscale\": [[0.0, \"#0d0887\"], [0.1111111111111111, \"#46039f\"], [0.2222222222222222, \"#7201a8\"], [0.3333333333333333, \"#9c179e\"], [0.4444444444444444, \"#bd3786\"], [0.5555555555555556, \"#d8576b\"], [0.6666666666666666, \"#ed7953\"], [0.7777777777777778, \"#fb9f3a\"], [0.8888888888888888, \"#fdca26\"], [1.0, \"#f0f921\"]], \"type\": \"heatmap\"}], \"heatmapgl\": [{\"colorbar\": {\"outlinewidth\": 0, \"ticks\": \"\"}, \"colorscale\": [[0.0, \"#0d0887\"], [0.1111111111111111, \"#46039f\"], [0.2222222222222222, \"#7201a8\"], [0.3333333333333333, \"#9c179e\"], [0.4444444444444444, \"#bd3786\"], [0.5555555555555556, \"#d8576b\"], [0.6666666666666666, \"#ed7953\"], [0.7777777777777778, \"#fb9f3a\"], [0.8888888888888888, \"#fdca26\"], [1.0, \"#f0f921\"]], \"type\": \"heatmapgl\"}], \"histogram\": [{\"marker\": {\"colorbar\": {\"outlinewidth\": 0, \"ticks\": \"\"}}, \"type\": \"histogram\"}], \"histogram2d\": [{\"colorbar\": {\"outlinewidth\": 0, \"ticks\": \"\"}, \"colorscale\": [[0.0, \"#0d0887\"], [0.1111111111111111, \"#46039f\"], [0.2222222222222222, \"#7201a8\"], [0.3333333333333333, \"#9c179e\"], [0.4444444444444444, \"#bd3786\"], [0.5555555555555556, \"#d8576b\"], [0.6666666666666666, \"#ed7953\"], [0.7777777777777778, \"#fb9f3a\"], [0.8888888888888888, \"#fdca26\"], [1.0, \"#f0f921\"]], \"type\": \"histogram2d\"}], \"histogram2dcontour\": [{\"colorbar\": {\"outlinewidth\": 0, \"ticks\": \"\"}, \"colorscale\": [[0.0, \"#0d0887\"], [0.1111111111111111, \"#46039f\"], [0.2222222222222222, \"#7201a8\"], [0.3333333333333333, \"#9c179e\"], [0.4444444444444444, \"#bd3786\"], [0.5555555555555556, \"#d8576b\"], [0.6666666666666666, \"#ed7953\"], [0.7777777777777778, \"#fb9f3a\"], [0.8888888888888888, \"#fdca26\"], [1.0, \"#f0f921\"]], \"type\": \"histogram2dcontour\"}], \"mesh3d\": [{\"colorbar\": {\"outlinewidth\": 0, \"ticks\": \"\"}, \"type\": \"mesh3d\"}], \"parcoords\": [{\"line\": {\"colorbar\": {\"outlinewidth\": 0, \"ticks\": \"\"}}, \"type\": \"parcoords\"}], \"pie\": [{\"automargin\": true, \"type\": \"pie\"}], \"scatter\": [{\"marker\": {\"colorbar\": {\"outlinewidth\": 0, \"ticks\": \"\"}}, \"type\": \"scatter\"}], \"scatter3d\": [{\"line\": {\"colorbar\": {\"outlinewidth\": 0, \"ticks\": \"\"}}, \"marker\": {\"colorbar\": {\"outlinewidth\": 0, \"ticks\": \"\"}}, \"type\": \"scatter3d\"}], \"scattercarpet\": [{\"marker\": {\"colorbar\": {\"outlinewidth\": 0, \"ticks\": \"\"}}, \"type\": \"scattercarpet\"}], \"scattergeo\": [{\"marker\": {\"colorbar\": {\"outlinewidth\": 0, \"ticks\": \"\"}}, \"type\": \"scattergeo\"}], \"scattergl\": [{\"marker\": {\"colorbar\": {\"outlinewidth\": 0, \"ticks\": \"\"}}, \"type\": \"scattergl\"}], \"scattermapbox\": [{\"marker\": {\"colorbar\": {\"outlinewidth\": 0, \"ticks\": \"\"}}, \"type\": \"scattermapbox\"}], \"scatterpolar\": [{\"marker\": {\"colorbar\": {\"outlinewidth\": 0, \"ticks\": \"\"}}, \"type\": \"scatterpolar\"}], \"scatterpolargl\": [{\"marker\": {\"colorbar\": {\"outlinewidth\": 0, \"ticks\": \"\"}}, \"type\": \"scatterpolargl\"}], \"scatterternary\": [{\"marker\": {\"colorbar\": {\"outlinewidth\": 0, \"ticks\": \"\"}}, \"type\": \"scatterternary\"}], \"surface\": [{\"colorbar\": {\"outlinewidth\": 0, \"ticks\": \"\"}, \"colorscale\": [[0.0, \"#0d0887\"], [0.1111111111111111, \"#46039f\"], [0.2222222222222222, \"#7201a8\"], [0.3333333333333333, \"#9c179e\"], [0.4444444444444444, \"#bd3786\"], [0.5555555555555556, \"#d8576b\"], [0.6666666666666666, \"#ed7953\"], [0.7777777777777778, \"#fb9f3a\"], [0.8888888888888888, \"#fdca26\"], [1.0, \"#f0f921\"]], \"type\": \"surface\"}], \"table\": [{\"cells\": {\"fill\": {\"color\": \"#EBF0F8\"}, \"line\": {\"color\": \"white\"}}, \"header\": {\"fill\": {\"color\": \"#C8D4E3\"}, \"line\": {\"color\": \"white\"}}, \"type\": \"table\"}]}, \"layout\": {\"annotationdefaults\": {\"arrowcolor\": \"#2a3f5f\", \"arrowhead\": 0, \"arrowwidth\": 1}, \"coloraxis\": {\"colorbar\": {\"outlinewidth\": 0, \"ticks\": \"\"}}, \"colorscale\": {\"diverging\": [[0, \"#8e0152\"], [0.1, \"#c51b7d\"], [0.2, \"#de77ae\"], [0.3, \"#f1b6da\"], [0.4, \"#fde0ef\"], [0.5, \"#f7f7f7\"], [0.6, \"#e6f5d0\"], [0.7, \"#b8e186\"], [0.8, \"#7fbc41\"], [0.9, \"#4d9221\"], [1, \"#276419\"]], \"sequential\": [[0.0, \"#0d0887\"], [0.1111111111111111, \"#46039f\"], [0.2222222222222222, \"#7201a8\"], [0.3333333333333333, \"#9c179e\"], [0.4444444444444444, \"#bd3786\"], [0.5555555555555556, \"#d8576b\"], [0.6666666666666666, \"#ed7953\"], [0.7777777777777778, \"#fb9f3a\"], [0.8888888888888888, \"#fdca26\"], [1.0, \"#f0f921\"]], \"sequentialminus\": [[0.0, \"#0d0887\"], [0.1111111111111111, \"#46039f\"], [0.2222222222222222, \"#7201a8\"], [0.3333333333333333, \"#9c179e\"], [0.4444444444444444, \"#bd3786\"], [0.5555555555555556, \"#d8576b\"], [0.6666666666666666, \"#ed7953\"], [0.7777777777777778, \"#fb9f3a\"], [0.8888888888888888, \"#fdca26\"], [1.0, \"#f0f921\"]]}, \"colorway\": [\"#636efa\", \"#EF553B\", \"#00cc96\", \"#ab63fa\", \"#FFA15A\", \"#19d3f3\", \"#FF6692\", \"#B6E880\", \"#FF97FF\", \"#FECB52\"], \"font\": {\"color\": \"#2a3f5f\"}, \"geo\": {\"bgcolor\": \"white\", \"lakecolor\": \"white\", \"landcolor\": \"white\", \"showlakes\": true, \"showland\": true, \"subunitcolor\": \"#C8D4E3\"}, \"hoverlabel\": {\"align\": \"left\"}, \"hovermode\": \"closest\", \"mapbox\": {\"style\": \"light\"}, \"paper_bgcolor\": \"white\", \"plot_bgcolor\": \"white\", \"polar\": {\"angularaxis\": {\"gridcolor\": \"#EBF0F8\", \"linecolor\": \"#EBF0F8\", \"ticks\": \"\"}, \"bgcolor\": \"white\", \"radialaxis\": {\"gridcolor\": \"#EBF0F8\", \"linecolor\": \"#EBF0F8\", \"ticks\": \"\"}}, \"scene\": {\"xaxis\": {\"backgroundcolor\": \"white\", \"gridcolor\": \"#DFE8F3\", \"gridwidth\": 2, \"linecolor\": \"#EBF0F8\", \"showbackground\": true, \"ticks\": \"\", \"zerolinecolor\": \"#EBF0F8\"}, \"yaxis\": {\"backgroundcolor\": \"white\", \"gridcolor\": \"#DFE8F3\", \"gridwidth\": 2, \"linecolor\": \"#EBF0F8\", \"showbackground\": true, \"ticks\": \"\", \"zerolinecolor\": \"#EBF0F8\"}, \"zaxis\": {\"backgroundcolor\": \"white\", \"gridcolor\": \"#DFE8F3\", \"gridwidth\": 2, \"linecolor\": \"#EBF0F8\", \"showbackground\": true, \"ticks\": \"\", \"zerolinecolor\": \"#EBF0F8\"}}, \"shapedefaults\": {\"line\": {\"color\": \"#2a3f5f\"}}, \"ternary\": {\"aaxis\": {\"gridcolor\": \"#DFE8F3\", \"linecolor\": \"#A2B1C6\", \"ticks\": \"\"}, \"baxis\": {\"gridcolor\": \"#DFE8F3\", \"linecolor\": \"#A2B1C6\", \"ticks\": \"\"}, \"bgcolor\": \"white\", \"caxis\": {\"gridcolor\": \"#DFE8F3\", \"linecolor\": \"#A2B1C6\", \"ticks\": \"\"}}, \"title\": {\"x\": 0.05}, \"xaxis\": {\"automargin\": true, \"gridcolor\": \"#EBF0F8\", \"linecolor\": \"#EBF0F8\", \"ticks\": \"\", \"title\": {\"standoff\": 15}, \"zerolinecolor\": \"#EBF0F8\", \"zerolinewidth\": 2}, \"yaxis\": {\"automargin\": true, \"gridcolor\": \"#EBF0F8\", \"linecolor\": \"#EBF0F8\", \"ticks\": \"\", \"title\": {\"standoff\": 15}, \"zerolinecolor\": \"#EBF0F8\", \"zerolinewidth\": 2}}}, \"width\": 900, \"xaxis\": {\"categoryorder\": \"sum descending\", \"title\": {\"text\": \"Water (Mm<sup>3</sup>/yr)\"}}, \"yaxis\": {\"title\": {\"text\": \"Energy (GWh/yr)\"}}},\n",
       "                        {\"responsive\": true}\n",
       "                    ).then(function(){\n",
       "                            \n",
       "var gd = document.getElementById('73218a8a-7c21-44a1-9a1e-f0eb5dfe8d6a');\n",
       "var x = new MutationObserver(function (mutations, observer) {{\n",
       "        var display = window.getComputedStyle(gd).display;\n",
       "        if (!display || display === 'none') {{\n",
       "            console.log([gd, 'removed!']);\n",
       "            Plotly.purge(gd);\n",
       "            observer.disconnect();\n",
       "        }}\n",
       "}});\n",
       "\n",
       "// Listen for the removal of the full notebook cells\n",
       "var notebookContainer = gd.closest('#notebook-container');\n",
       "if (notebookContainer) {{\n",
       "    x.observe(notebookContainer, {childList: true});\n",
       "}}\n",
       "\n",
       "// Listen for the clearing of the current output cell\n",
       "var outputEl = gd.closest('.output');\n",
       "if (outputEl) {{\n",
       "    x.observe(outputEl, {childList: true});\n",
       "}}\n",
       "\n",
       "                        })\n",
       "                };\n",
       "                });\n",
       "            </script>\n",
       "        </div>"
      ]
     },
     "metadata": {},
     "output_type": "display_data"
    }
   ],
   "source": [
    "fig = go.Figure()\n",
    "dff = dff_energy.merge(dff_water)\n",
    "\n",
    "\n",
    "fig.add_trace(go.Scatter(x=dff[['IrrigationWater','PopulationWater']].sum(axis=1)/1000000, \n",
    "                         y=dff[['IrrigationPumpingEnergy','IrrigationDesalinationEnergy']].sum(axis=1)/1000000,\n",
    "                         mode='markers',\n",
    "                         text='Cluster: ' + dff['Cluster'].astype(int).astype(str),\n",
    "                         marker=dict(size = dff['TDS']/dff['TDS'].min()*10,\n",
    "                                    color=dff['GroundwaterDepth'],\n",
    "                                    colorscale='viridis',\n",
    "                                    showscale=True\n",
    "                        )))\n",
    "# fig.add_trace(go.Bar(x=dff['Cluster'], y=dff['IrrigationDesalinationEnergy']/1000000, name='Desalination Energy', marker=dict(color='#66c2a5', line=dict(width=1, color='Grey'))))\n",
    "\n",
    "fig.update_layout(width=900, template='plotly_white',\n",
    "                  xaxis={'categoryorder':'sum descending', 'title': 'Water (Mm<sup>3</sup>/yr)'}, \n",
    "                  yaxis={'title': 'Energy (GWh/yr)'},\n",
    "                  legend=dict(\n",
    "                            orientation=\"h\",\n",
    "                            yanchor=\"bottom\",\n",
    "                            y=1.02,\n",
    "                            xanchor=\"right\",\n",
    "                            x=1\n",
    "                ),\n",
    "                 margin=dict(b=0, l=0, r=0, t=0))\n",
    "fig.show()\n",
    "# fig.write_image('BaselineEnergy.pdf')"
   ]
  },
  {
   "cell_type": "code",
   "execution_count": 48,
   "metadata": {},
   "outputs": [],
   "source": [
    "dff.to_csv('DataForNexusPlot.csv')"
   ]
  }
 ],
 "metadata": {
  "kernelspec": {
   "display_name": "Python 3",
   "language": "python",
   "name": "python3"
  },
  "language_info": {
   "codemirror_mode": {
    "name": "ipython",
    "version": 3
   },
   "file_extension": ".py",
   "mimetype": "text/x-python",
   "name": "python",
   "nbconvert_exporter": "python",
   "pygments_lexer": "ipython3",
   "version": "3.8.2"
  }
 },
 "nbformat": 4,
 "nbformat_minor": 4
}
