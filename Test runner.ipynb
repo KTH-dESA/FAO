{
 "cells": [
  {
   "cell_type": "code",
   "execution_count": 1,
   "metadata": {},
   "outputs": [],
   "source": [
    "import nexus_tool"
   ]
  },
  {
   "cell_type": "code",
   "execution_count": 2,
   "metadata": {},
   "outputs": [],
   "source": [
    "df = nexus_tool.read_csv(r'test_data/NWSAS_input_data.csv')"
   ]
  },
  {
   "cell_type": "code",
   "execution_count": 3,
   "metadata": {},
   "outputs": [],
   "source": [
    "crop_calendar = nexus_tool.read_excel(r'test_data/NWSAS_crop_calendar.xlsx')"
   ]
  },
  {
   "cell_type": "code",
   "execution_count": 4,
   "metadata": {},
   "outputs": [],
   "source": [
    "nwsas = nexus_tool.Model(df, crop_calendar = crop_calendar,\n",
    "                       pumping_hours_per_day=10, deff= 1, aeff= 0.65)"
   ]
  },
  {
   "cell_type": "code",
   "execution_count": 10,
   "metadata": {},
   "outputs": [],
   "source": [
    "#defines the cropland share for each region, i.e. specifying the percentage of land cultivated per crop type \n",
    "crop_dic = {'dates':0.5,'vegetable':0.5,'olives':0}\n",
    "nwsas.set_cropland_share(crop_dic, inplace = True)\n",
    "\n",
    "nwsas.set_cropland_share({'dates':0.7,'vegetable':0.3,'olives':0}, \n",
    "                          geo_boundary = 'province', \n",
    "                          boundary_name = 'Jufrah', inplace = True)\n",
    "nwsas.set_cropland_share({'dates':0,'vegetable':0.3,'olives':0.7}, \n",
    "                          geo_boundary = 'province', \n",
    "                          boundary_name = 'Gharyan', inplace = True)\n",
    "\n",
    "nwsas.ky_dict = {'dates':0.5,'vegetable':1.1,'olives':0.8} #ky values for each crop\n",
    "nwsas.kc_dict = {'dates': [0.8,0.9,1,0.8], \n",
    "           'vegetable':[0.5,1,1,0.8], \n",
    "           'olives':[0.45,0.55,0.55,0.6]} #kc values for each crop in each growing season\n",
    "\n",
    "output_file = 'water_demand.csv' #output file name"
   ]
  },
  {
   "cell_type": "code",
   "execution_count": 6,
   "metadata": {},
   "outputs": [],
   "source": [
    "nwsas.get_eto(inplace = True)\n",
    "nwsas.get_effective_rainfall(inplace = True)\n",
    "nwsas.get_calendar_days(inplace = True)\n",
    "nwsas.get_kc_values(inplace = True)"
   ]
  },
  {
   "cell_type": "code",
   "execution_count": 7,
   "metadata": {},
   "outputs": [],
   "source": [
    "nwsas.get_water_demand(inplace = True)"
   ]
  },
  {
   "cell_type": "code",
   "execution_count": 8,
   "metadata": {},
   "outputs": [
    {
     "data": {
      "text/html": [
       "<div>\n",
       "<style scoped>\n",
       "    .dataframe tbody tr th:only-of-type {\n",
       "        vertical-align: middle;\n",
       "    }\n",
       "\n",
       "    .dataframe tbody tr th {\n",
       "        vertical-align: top;\n",
       "    }\n",
       "\n",
       "    .dataframe thead th {\n",
       "        text-align: right;\n",
       "    }\n",
       "</style>\n",
       "<table border=\"1\" class=\"dataframe\">\n",
       "  <thead>\n",
       "    <tr style=\"text-align: right;\">\n",
       "      <th>province</th>\n",
       "      <th>Adrar</th>\n",
       "      <th>Biskra</th>\n",
       "      <th>Djelfa</th>\n",
       "      <th>El Oued</th>\n",
       "      <th>Gabes</th>\n",
       "      <th>Ghadamis</th>\n",
       "      <th>Ghardaia</th>\n",
       "      <th>Gharyan</th>\n",
       "      <th>Illizi</th>\n",
       "      <th>Jufrah</th>\n",
       "      <th>Kebili</th>\n",
       "      <th>Khenchela</th>\n",
       "      <th>Laghouat</th>\n",
       "      <th>Musrata</th>\n",
       "      <th>Ouargla</th>\n",
       "      <th>Tamanrasset</th>\n",
       "      <th>Tataouine</th>\n",
       "      <th>Tebessa</th>\n",
       "      <th>Tozeur</th>\n",
       "    </tr>\n",
       "  </thead>\n",
       "  <tbody>\n",
       "    <tr>\n",
       "      <th>Irrigated area (ha)</th>\n",
       "      <td>24101.816848</td>\n",
       "      <td>5749.995666</td>\n",
       "      <td>3449.972096</td>\n",
       "      <td>68999.985344</td>\n",
       "      <td>2874.983928</td>\n",
       "      <td>5353.213079</td>\n",
       "      <td>34499.998422</td>\n",
       "      <td>8557.616421</td>\n",
       "      <td>1770.396215</td>\n",
       "      <td>7963.713904</td>\n",
       "      <td>27412.511949</td>\n",
       "      <td>1149.970213</td>\n",
       "      <td>5749.994721</td>\n",
       "      <td>21082.919486</td>\n",
       "      <td>32699.346634</td>\n",
       "      <td>4868.857546</td>\n",
       "      <td>1833.775565</td>\n",
       "      <td>4599.970966</td>\n",
       "      <td>9617.446033</td>\n",
       "    </tr>\n",
       "    <tr>\n",
       "      <th>Water intensity (m3/ha)</th>\n",
       "      <td>10934.163102</td>\n",
       "      <td>6946.421798</td>\n",
       "      <td>7133.087402</td>\n",
       "      <td>7940.932714</td>\n",
       "      <td>6974.411600</td>\n",
       "      <td>7279.941702</td>\n",
       "      <td>8844.340440</td>\n",
       "      <td>7489.888117</td>\n",
       "      <td>9809.723887</td>\n",
       "      <td>10463.012448</td>\n",
       "      <td>7758.884332</td>\n",
       "      <td>7498.094407</td>\n",
       "      <td>6981.596567</td>\n",
       "      <td>6155.054675</td>\n",
       "      <td>8570.160759</td>\n",
       "      <td>10839.006764</td>\n",
       "      <td>7072.361917</td>\n",
       "      <td>7565.076505</td>\n",
       "      <td>7472.868053</td>\n",
       "    </tr>\n",
       "    <tr>\n",
       "      <th>Water demand (Mm3)</th>\n",
       "      <td>263.533196</td>\n",
       "      <td>39.941895</td>\n",
       "      <td>24.608952</td>\n",
       "      <td>547.924241</td>\n",
       "      <td>20.051321</td>\n",
       "      <td>38.971079</td>\n",
       "      <td>305.129731</td>\n",
       "      <td>64.095590</td>\n",
       "      <td>17.367098</td>\n",
       "      <td>83.324438</td>\n",
       "      <td>212.690509</td>\n",
       "      <td>8.622585</td>\n",
       "      <td>40.144143</td>\n",
       "      <td>129.766522</td>\n",
       "      <td>280.238657</td>\n",
       "      <td>52.773580</td>\n",
       "      <td>12.969124</td>\n",
       "      <td>34.799132</td>\n",
       "      <td>71.869905</td>\n",
       "    </tr>\n",
       "  </tbody>\n",
       "</table>\n",
       "</div>"
      ],
      "text/plain": [
       "province                        Adrar       Biskra       Djelfa       El Oued  \\\n",
       "Irrigated area (ha)      24101.816848  5749.995666  3449.972096  68999.985344   \n",
       "Water intensity (m3/ha)  10934.163102  6946.421798  7133.087402   7940.932714   \n",
       "Water demand (Mm3)         263.533196    39.941895    24.608952    547.924241   \n",
       "\n",
       "province                       Gabes     Ghadamis      Ghardaia      Gharyan  \\\n",
       "Irrigated area (ha)      2874.983928  5353.213079  34499.998422  8557.616421   \n",
       "Water intensity (m3/ha)  6974.411600  7279.941702   8844.340440  7489.888117   \n",
       "Water demand (Mm3)         20.051321    38.971079    305.129731    64.095590   \n",
       "\n",
       "province                      Illizi        Jufrah        Kebili    Khenchela  \\\n",
       "Irrigated area (ha)      1770.396215   7963.713904  27412.511949  1149.970213   \n",
       "Water intensity (m3/ha)  9809.723887  10463.012448   7758.884332  7498.094407   \n",
       "Water demand (Mm3)         17.367098     83.324438    212.690509     8.622585   \n",
       "\n",
       "province                    Laghouat       Musrata       Ouargla  \\\n",
       "Irrigated area (ha)      5749.994721  21082.919486  32699.346634   \n",
       "Water intensity (m3/ha)  6981.596567   6155.054675   8570.160759   \n",
       "Water demand (Mm3)         40.144143    129.766522    280.238657   \n",
       "\n",
       "province                  Tamanrasset    Tataouine      Tebessa       Tozeur  \n",
       "Irrigated area (ha)       4868.857546  1833.775565  4599.970966  9617.446033  \n",
       "Water intensity (m3/ha)  10839.006764  7072.361917  7565.076505  7472.868053  \n",
       "Water demand (Mm3)          52.773580    12.969124    34.799132    71.869905  "
      ]
     },
     "execution_count": 8,
     "metadata": {},
     "output_type": "execute_result"
    }
   ],
   "source": [
    "nwsas.print_summary(geo_boundary = 'province')"
   ]
  },
  {
   "cell_type": "code",
   "execution_count": 11,
   "metadata": {},
   "outputs": [],
   "source": [
    "nwsas.df.to_csv(output_file, index = False)"
   ]
  }
 ],
 "metadata": {
  "kernelspec": {
   "display_name": "Python 3",
   "language": "python",
   "name": "python3"
  },
  "language_info": {
   "codemirror_mode": {
    "name": "ipython",
    "version": 3
   },
   "file_extension": ".py",
   "mimetype": "text/x-python",
   "name": "python",
   "nbconvert_exporter": "python",
   "pygments_lexer": "ipython3",
   "version": "3.7.3"
  }
 },
 "nbformat": 4,
 "nbformat_minor": 2
}
