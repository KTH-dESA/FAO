{
 "cells": [
  {
   "cell_type": "code",
   "execution_count": 1,
   "metadata": {},
   "outputs": [],
   "source": [
    "import agrodem"
   ]
  },
  {
   "cell_type": "code",
   "execution_count": 2,
   "metadata": {},
   "outputs": [],
   "source": [
    "df = agrodem.read_csv(r'test_data/NWSAS_input_data.csv')"
   ]
  },
  {
   "cell_type": "code",
   "execution_count": 3,
   "metadata": {},
   "outputs": [],
   "source": [
    "crop_calendar = agrodem.read_excel(r'test_data/NWSAS_crop_calendar.xlsx')"
   ]
  },
  {
   "cell_type": "code",
   "execution_count": 4,
   "metadata": {},
   "outputs": [],
   "source": [
    "jordan = agrodem.Model(df, crop_calendar = crop_calendar,\n",
    "                       pumping_hours_per_day=10, deff= 1, aeff= 0.65)"
   ]
  },
  {
   "cell_type": "code",
   "execution_count": 5,
   "metadata": {},
   "outputs": [],
   "source": [
    "#defines the cropland share for each region, i.e. specifying the percentage of land cultivated per crop type \n",
    "crop_dic = {'dates':0.5,'vegetable':0.5,'olives':0}\n",
    "jordan.set_cropland_share(crop_dic, inplace = True)\n",
    "jordan.set_cropland_share({'dates':0,'vegetable':0.3,'olives':0.7}, \n",
    "                          geo_boundary = 'province', \n",
    "                          boundary_name = 'B', inplace = True)\n",
    "\n",
    "jordan.ky_dict = {'dates':0.5,'vegetable':1.1,'olives':0.8} #ky values for each crop\n",
    "jordan.kc_dict = {'dates': [0.8,0.9,1,0.8], \n",
    "           'vegetable':[0.5,1,1,0.8], \n",
    "           'olives':[0.45,0.55,0.55,0.6]} #kc values for each crop in each growing season\n",
    "\n",
    "output_file = 'water_demand' #output file name"
   ]
  },
  {
   "cell_type": "code",
   "execution_count": 6,
   "metadata": {},
   "outputs": [],
   "source": [
    "jordan.get_eto(inplace = True)\n",
    "jordan.get_effective_rainfall(inplace = True)\n",
    "jordan.get_calendar_days(inplace = True)\n",
    "jordan.get_kc_values(inplace = True)"
   ]
  },
  {
   "cell_type": "code",
   "execution_count": 7,
   "metadata": {},
   "outputs": [],
   "source": []
  },
  {
   "cell_type": "code",
   "execution_count": null,
   "metadata": {},
   "outputs": [],
   "source": []
  }
 ],
 "metadata": {
  "kernelspec": {
   "display_name": "Python 3",
   "language": "python",
   "name": "python3"
  },
  "language_info": {
   "codemirror_mode": {
    "name": "ipython",
    "version": 3
   },
   "file_extension": ".py",
   "mimetype": "text/x-python",
   "name": "python",
   "nbconvert_exporter": "python",
   "pygments_lexer": "ipython3",
   "version": "3.7.3"
  }
 },
 "nbformat": 4,
 "nbformat_minor": 2
}
