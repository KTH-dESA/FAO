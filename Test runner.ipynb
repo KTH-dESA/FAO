{
 "cells": [
  {
   "cell_type": "code",
   "execution_count": 1,
   "metadata": {},
   "outputs": [],
   "source": [
    "import agrodem"
   ]
  },
  {
   "cell_type": "code",
   "execution_count": 2,
   "metadata": {},
   "outputs": [],
   "source": [
    "df = agrodem.read_csv(r'test_data/input_data.csv')"
   ]
  },
  {
   "cell_type": "code",
   "execution_count": 3,
   "metadata": {},
   "outputs": [],
   "source": [
    "jordan = agrodem.Model(df, pumping_hours_per_day=10, deff= 1, aeff= 0.65)"
   ]
  },
  {
   "cell_type": "code",
   "execution_count": 4,
   "metadata": {},
   "outputs": [],
   "source": [
    "#defines the agricultural mode for each region, i.e. specifying the percentage of land cultivated per crop type \n",
    "crop_dic = {'dates':0.5,'vegetable':0.5,'olives':0}\n",
    "jordan.set_cropland_share(crop_dic, inplace = True)\n",
    "jordan.set_cropland_share({'dates':0,'vegetable':0.3,'olives':0.7}, \n",
    "                          geo_boundary = 'Province', \n",
    "                          boundary_name = 'B', inplace = True)\n",
    "\n",
    "ky_dict = {'dates':0.5,'vegetable':1.1,'olives':0.8} #ky values for each crop\n",
    "kc_dict = {'dates': [0.8,0.9,1,0.8], \n",
    "           'vegetable':[0.5,1,1,0.8], \n",
    "           'olives':[0.45,0.55,0.55,0.6]} #kc values for each crop in each growing season\n",
    "\n",
    "output_file = 'water_demand' #output file name"
   ]
  },
  {
   "cell_type": "code",
   "execution_count": 9,
   "metadata": {},
   "outputs": [
    {
     "data": {
      "text/html": [
       "<div>\n",
       "<style scoped>\n",
       "    .dataframe tbody tr th:only-of-type {\n",
       "        vertical-align: middle;\n",
       "    }\n",
       "\n",
       "    .dataframe tbody tr th {\n",
       "        vertical-align: top;\n",
       "    }\n",
       "\n",
       "    .dataframe thead th {\n",
       "        text-align: right;\n",
       "    }\n",
       "</style>\n",
       "<table border=\"1\" class=\"dataframe\">\n",
       "  <thead>\n",
       "    <tr style=\"text-align: right;\">\n",
       "      <th></th>\n",
       "      <th>X</th>\n",
       "      <th>Y</th>\n",
       "      <th>Crop</th>\n",
       "      <th>Province</th>\n",
       "      <th>CropShare</th>\n",
       "    </tr>\n",
       "  </thead>\n",
       "  <tbody>\n",
       "    <tr>\n",
       "      <th>0</th>\n",
       "      <td>1</td>\n",
       "      <td>2</td>\n",
       "      <td>dates</td>\n",
       "      <td>A</td>\n",
       "      <td>{'dates': 0.5, 'vegetable': 0.5, 'olives': 0}</td>\n",
       "    </tr>\n",
       "    <tr>\n",
       "      <th>1</th>\n",
       "      <td>3</td>\n",
       "      <td>4</td>\n",
       "      <td>olives</td>\n",
       "      <td>B</td>\n",
       "      <td>{'dates': 0, 'vegetable': 0.3, 'olives': 0.7}</td>\n",
       "    </tr>\n",
       "    <tr>\n",
       "      <th>2</th>\n",
       "      <td>5</td>\n",
       "      <td>6</td>\n",
       "      <td>vegetables</td>\n",
       "      <td>C</td>\n",
       "      <td>{'dates': 0.5, 'vegetable': 0.5, 'olives': 0}</td>\n",
       "    </tr>\n",
       "  </tbody>\n",
       "</table>\n",
       "</div>"
      ],
      "text/plain": [
       "   X  Y        Crop Province                                      CropShare\n",
       "0  1  2       dates        A  {'dates': 0.5, 'vegetable': 0.5, 'olives': 0}\n",
       "1  3  4      olives        B  {'dates': 0, 'vegetable': 0.3, 'olives': 0.7}\n",
       "2  5  6  vegetables        C  {'dates': 0.5, 'vegetable': 0.5, 'olives': 0}"
      ]
     },
     "execution_count": 9,
     "metadata": {},
     "output_type": "execute_result"
    }
   ],
   "source": [
    "jordan.df"
   ]
  },
  {
   "cell_type": "code",
   "execution_count": null,
   "metadata": {},
   "outputs": [],
   "source": []
  }
 ],
 "metadata": {
  "kernelspec": {
   "display_name": "Python 3",
   "language": "python",
   "name": "python3"
  },
  "language_info": {
   "codemirror_mode": {
    "name": "ipython",
    "version": 3
   },
   "file_extension": ".py",
   "mimetype": "text/x-python",
   "name": "python",
   "nbconvert_exporter": "python",
   "pygments_lexer": "ipython3",
   "version": "3.7.3"
  }
 },
 "nbformat": 4,
 "nbformat_minor": 2
}
