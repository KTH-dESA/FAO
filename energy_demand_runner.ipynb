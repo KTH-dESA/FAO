{
 "cells": [
  {
   "cell_type": "markdown",
   "metadata": {},
   "source": [
    "# NEXUS tool: case study for the NWSAS basin - energy demand calculations\n",
    "In this notebook a case study for the NWSAS basin is covered using the `nexus_tool` package. The water requirements for agricultural irrigation were previously calculated (check the water demand case study). In this case study, the energy requirements for pumping and desalination of brackish water are estimated.\n",
    "\n",
    "First import the package by running the following block:"
   ]
  },
  {
   "cell_type": "code",
   "execution_count": 135,
   "metadata": {},
   "outputs": [
    {
     "name": "stdout",
     "output_type": "stream",
     "text": [
      "The autoreload extension is already loaded. To reload it, use:\n",
      "  %reload_ext autoreload\n"
     ]
    }
   ],
   "source": [
    "%load_ext autoreload"
   ]
  },
  {
   "cell_type": "code",
   "execution_count": 136,
   "metadata": {},
   "outputs": [],
   "source": [
    "%autoreload\n",
    "import nexus_tool"
   ]
  },
  {
   "cell_type": "markdown",
   "metadata": {},
   "source": [
    "After importing all required packages, the input GIS data is loaded into the variable `df`. Change the `file_path` variable to reflect the name and relative location of your data file. This dataset should already have the water demand for irrigation data."
   ]
  },
  {
   "cell_type": "code",
   "execution_count": 137,
   "metadata": {},
   "outputs": [],
   "source": [
    "file_path = r'nwsas_results/water_demand.csv'\n",
    "df = nexus_tool.read_csv(file_path)"
   ]
  },
  {
   "cell_type": "markdown",
   "metadata": {},
   "source": [
    "## 1. Calculating pumping energy requirements\n",
    "### 1.1. Creating the model\n",
    "To create a model simply create an instance of the `nexus_tool.Model()` class and store it in a variable name. The `nexus_tool.Model()` class requires a dataframe as input data. Several other properties and parameter values can be defined by explicitly passing values to them. To see a full list of parameters and their explaination refer to the documentation of the package."
   ]
  },
  {
   "cell_type": "code",
   "execution_count": 138,
   "metadata": {},
   "outputs": [],
   "source": [
    "nwsas = nexus_tool.Model(df)"
   ]
  },
  {
   "cell_type": "markdown",
   "metadata": {},
   "source": [
    "### 1.2. Changing default values for inputs\n",
    "The names of the properties of the model can be chaned at any time. This is important for the model to know how each property is called withing your input data. To check the current property names run the `nwsas.print_properties()` method, a list with the names of each property and its current value wil be displayed:"
   ]
  },
  {
   "cell_type": "code",
   "execution_count": 139,
   "metadata": {},
   "outputs": [
    {
     "name": "stdout",
     "output_type": "stream",
     "text": [
      "Properties names:\n",
      "    - Reference evapotranspiration (.eto): ETo_\n",
      "    - Latitude (.lat): lat\n",
      "    - Elevation (.elevation): elevation\n",
      "    - Wind speed (.wind): wind\n",
      "    - Solar radiation (.srad): srad\n",
      "    - Min temperature (.tmin): tmin\n",
      "    - Max temperature (.tmax): tmax\n",
      "    - Avegarage temperature (.tavg): tavg\n",
      "    - Cropland share column (.crop_share): crop_share\n",
      "    - Cropland area column (.crop_area): crop_area\n",
      "    - Harvest seasons names (.seasons): ['init', 'dev', 'mid', 'late']\n",
      "    - Seasson start suffix (.start): _start\n",
      "    - Seasson end suffix (.end): _end\n",
      "    - Cropland column (.crop_column): crop\n",
      "    - Groundwater table depth (.gw_depth): gw_depth\n",
      "    - Total dynamic head (.tdh_gw): tdh_gw\n"
     ]
    }
   ],
   "source": [
    "nwsas.print_properties()"
   ]
  },
  {
   "cell_type": "markdown",
   "metadata": {},
   "source": [
    "Then you can provide the right names for each property, calling them and assigning a value as:\n",
    "```python\n",
    "nwsas.crop_column = 'cropland'\n",
    "nwsas.seasons = ['initial', 'development', 'mid-season', 'harvest']\n",
    "nwsas.gw_depth = 'name_of_ground_water_depth'\n",
    "```"
   ]
  },
  {
   "cell_type": "markdown",
   "metadata": {},
   "source": [
    "### 1.3. Calculating the Total Dinamic Head (tdh)\n",
    "First, we will calculate the Total Dinamic Head (tdh), which is a measure in meters that accounts for the depth to groundwater, the water drawdown (wdd), the operating application pressure (oap) and the pressure loss in distribution (pld).\n",
    "\n",
    "For that, run the `nwsas.get_gw_tdh()` method passing the `wdd`, `oap` and `pld` values (their default value is 0). Also, make sure that the name for the groundwater depth column of the dataframe, matches the name of the `gw_depth` variable in the model as described in the previous step."
   ]
  },
  {
   "cell_type": "code",
   "execution_count": 140,
   "metadata": {},
   "outputs": [],
   "source": [
    "nwsas.get_gw_tdh(inplace = True)"
   ]
  },
  {
   "cell_type": "markdown",
   "metadata": {},
   "source": [
    "### 1.4. Calculating the energy efficiency of the pumping system\n",
    "To second step compute the energy requirements for pumping water from a groundwater aquifer, first the pumping system efficiency needs to be defined:\n",
    "\n",
    "$$\\text{pumping plant efficiency (%)}= \\text{fuel efficiency (%)} \\times \\text{power unit eff (%)} \\times  \\text{transmission eff (%)} \\times \\text{pump eff (%)} \\times 100\\%$$\n",
    "\n",
    "**The Power Unit:** can be diesel engine or electric engine. In the first we call it (diesel powered pump) and the second (electric powered pump).\n",
    " \n",
    "Value obtained from FAO1992, pages 26-27:\n",
    "\n",
    "* Diesel powered pump:\n",
    "    * Worst case: $0.9\\times 0.3\\times 0.9\\times 0.4 = 10\\%\\ (0.1)$\n",
    "    * Best case: $1\\times 0.4\\times 1\\times 0.8 = 32\\%\\ (0.32)$\n",
    "    \n",
    "* Electric powered pump:\n",
    "    * Worst case: $0.9\\times 0.75\\times 0.9\\times 0.4 = 25\\%\\ (0.25)$\n",
    "    * Best case: $1\\times 0.85\\times 1\\times0.8 = 70\\%\\ (0.7)$\n",
    "\n",
    "The $\\text{fuel efficiency}$ and the $\\text{power unit efficiency}$ values can be directly passed to the `.get_pumping_energy()` method, whereas the remaining two efficiency values can be accounted later in the least-cost supply options calculations.\n",
    "\n",
    "After all required inputs and parameters are computed, the `nwsas.get_pumping_energy()` method can used to compute the groundwater pumping energy requirements."
   ]
  },
  {
   "cell_type": "code",
   "execution_count": 141,
   "metadata": {},
   "outputs": [],
   "source": [
    "nwsas.trans_eff = 0.9\n",
    "nwsas.pump_eff = 0.4\n",
    "nwsas.get_pumping_energy(inplace = True)"
   ]
  },
  {
   "cell_type": "markdown",
   "metadata": {},
   "source": [
    "## 2. Displaying and saving the results\n",
    "After the calculations are completed, display a summary of results by running the `nwsas.print_summary()` method. If you run the method without any argument, then the summary values will be dispayed for the entire region, under the label of \"Glogal\". However, if you like to summarize by regions, then pass the argument `geo_boundary` to the function, specifing the variable that you want the results to be grouped by. "
   ]
  },
  {
   "cell_type": "code",
   "execution_count": 142,
   "metadata": {},
   "outputs": [
    {
     "data": {
      "text/html": [
       "<div>\n",
       "<style scoped>\n",
       "    .dataframe tbody tr th:only-of-type {\n",
       "        vertical-align: middle;\n",
       "    }\n",
       "\n",
       "    .dataframe tbody tr th {\n",
       "        vertical-align: top;\n",
       "    }\n",
       "\n",
       "    .dataframe thead th {\n",
       "        text-align: right;\n",
       "    }\n",
       "</style>\n",
       "<table border=\"1\" class=\"dataframe\">\n",
       "  <thead>\n",
       "    <tr style=\"text-align: right;\">\n",
       "      <th></th>\n",
       "      <th>Irrigated area (ha)</th>\n",
       "      <th>Water intensity (m3/ha)</th>\n",
       "      <th>Water demand (Mm3)</th>\n",
       "      <th>Total demand (GWh)</th>\n",
       "    </tr>\n",
       "    <tr>\n",
       "      <th>province</th>\n",
       "      <th></th>\n",
       "      <th></th>\n",
       "      <th></th>\n",
       "      <th></th>\n",
       "    </tr>\n",
       "  </thead>\n",
       "  <tbody>\n",
       "    <tr>\n",
       "      <th>Adrar</th>\n",
       "      <td>24101.816848</td>\n",
       "      <td>15793.791148</td>\n",
       "      <td>380.659062</td>\n",
       "      <td>117.426808</td>\n",
       "    </tr>\n",
       "    <tr>\n",
       "      <th>Biskra</th>\n",
       "      <td>5749.995666</td>\n",
       "      <td>10033.720376</td>\n",
       "      <td>57.693849</td>\n",
       "      <td>20.410051</td>\n",
       "    </tr>\n",
       "    <tr>\n",
       "      <th>Djelfa</th>\n",
       "      <td>3449.972096</td>\n",
       "      <td>10303.348469</td>\n",
       "      <td>35.546265</td>\n",
       "      <td>3.153813</td>\n",
       "    </tr>\n",
       "    <tr>\n",
       "      <th>El Oued</th>\n",
       "      <td>68999.985344</td>\n",
       "      <td>11470.236142</td>\n",
       "      <td>791.446126</td>\n",
       "      <td>200.007164</td>\n",
       "    </tr>\n",
       "    <tr>\n",
       "      <th>Gabes</th>\n",
       "      <td>2874.983928</td>\n",
       "      <td>10074.150089</td>\n",
       "      <td>28.963020</td>\n",
       "      <td>10.892591</td>\n",
       "    </tr>\n",
       "    <tr>\n",
       "      <th>Ghadamis</th>\n",
       "      <td>5353.213079</td>\n",
       "      <td>10515.471347</td>\n",
       "      <td>56.291559</td>\n",
       "      <td>34.139752</td>\n",
       "    </tr>\n",
       "    <tr>\n",
       "      <th>Ghardaia</th>\n",
       "      <td>34499.998422</td>\n",
       "      <td>12775.158413</td>\n",
       "      <td>440.742945</td>\n",
       "      <td>83.861694</td>\n",
       "    </tr>\n",
       "    <tr>\n",
       "      <th>Gharyan</th>\n",
       "      <td>8557.616421</td>\n",
       "      <td>10818.727280</td>\n",
       "      <td>92.582518</td>\n",
       "      <td>37.951196</td>\n",
       "    </tr>\n",
       "    <tr>\n",
       "      <th>Illizi</th>\n",
       "      <td>1770.396215</td>\n",
       "      <td>14169.601170</td>\n",
       "      <td>25.085808</td>\n",
       "      <td>7.996085</td>\n",
       "    </tr>\n",
       "    <tr>\n",
       "      <th>Jufrah</th>\n",
       "      <td>7963.713904</td>\n",
       "      <td>15113.240202</td>\n",
       "      <td>120.357521</td>\n",
       "      <td>30.436329</td>\n",
       "    </tr>\n",
       "    <tr>\n",
       "      <th>Kebili</th>\n",
       "      <td>27412.511949</td>\n",
       "      <td>11207.277369</td>\n",
       "      <td>307.219625</td>\n",
       "      <td>20.871984</td>\n",
       "    </tr>\n",
       "    <tr>\n",
       "      <th>Khenchela</th>\n",
       "      <td>1149.970213</td>\n",
       "      <td>10830.580811</td>\n",
       "      <td>12.454845</td>\n",
       "      <td>4.852861</td>\n",
       "    </tr>\n",
       "    <tr>\n",
       "      <th>Laghouat</th>\n",
       "      <td>5749.994721</td>\n",
       "      <td>10084.528374</td>\n",
       "      <td>57.985985</td>\n",
       "      <td>1.553661</td>\n",
       "    </tr>\n",
       "    <tr>\n",
       "      <th>Musrata</th>\n",
       "      <td>21082.919486</td>\n",
       "      <td>8890.634530</td>\n",
       "      <td>187.440532</td>\n",
       "      <td>47.423894</td>\n",
       "    </tr>\n",
       "    <tr>\n",
       "      <th>Ouargla</th>\n",
       "      <td>32699.346634</td>\n",
       "      <td>12379.121096</td>\n",
       "      <td>404.789172</td>\n",
       "      <td>46.392685</td>\n",
       "    </tr>\n",
       "    <tr>\n",
       "      <th>Tamanrasset</th>\n",
       "      <td>4868.857546</td>\n",
       "      <td>15656.343103</td>\n",
       "      <td>76.228504</td>\n",
       "      <td>11.531595</td>\n",
       "    </tr>\n",
       "    <tr>\n",
       "      <th>Tataouine</th>\n",
       "      <td>1833.775565</td>\n",
       "      <td>10215.633880</td>\n",
       "      <td>18.733180</td>\n",
       "      <td>10.289599</td>\n",
       "    </tr>\n",
       "    <tr>\n",
       "      <th>Tebessa</th>\n",
       "      <td>4599.970966</td>\n",
       "      <td>10927.332730</td>\n",
       "      <td>50.265413</td>\n",
       "      <td>13.398558</td>\n",
       "    </tr>\n",
       "    <tr>\n",
       "      <th>Tozeur</th>\n",
       "      <td>9617.446033</td>\n",
       "      <td>10794.142744</td>\n",
       "      <td>103.812085</td>\n",
       "      <td>25.285805</td>\n",
       "    </tr>\n",
       "  </tbody>\n",
       "</table>\n",
       "</div>"
      ],
      "text/plain": [
       "             Irrigated area (ha)  Water intensity (m3/ha)  Water demand (Mm3)  \\\n",
       "province                                                                        \n",
       "Adrar               24101.816848             15793.791148          380.659062   \n",
       "Biskra               5749.995666             10033.720376           57.693849   \n",
       "Djelfa               3449.972096             10303.348469           35.546265   \n",
       "El Oued             68999.985344             11470.236142          791.446126   \n",
       "Gabes                2874.983928             10074.150089           28.963020   \n",
       "Ghadamis             5353.213079             10515.471347           56.291559   \n",
       "Ghardaia            34499.998422             12775.158413          440.742945   \n",
       "Gharyan              8557.616421             10818.727280           92.582518   \n",
       "Illizi               1770.396215             14169.601170           25.085808   \n",
       "Jufrah               7963.713904             15113.240202          120.357521   \n",
       "Kebili              27412.511949             11207.277369          307.219625   \n",
       "Khenchela            1149.970213             10830.580811           12.454845   \n",
       "Laghouat             5749.994721             10084.528374           57.985985   \n",
       "Musrata             21082.919486              8890.634530          187.440532   \n",
       "Ouargla             32699.346634             12379.121096          404.789172   \n",
       "Tamanrasset          4868.857546             15656.343103           76.228504   \n",
       "Tataouine            1833.775565             10215.633880           18.733180   \n",
       "Tebessa              4599.970966             10927.332730           50.265413   \n",
       "Tozeur               9617.446033             10794.142744          103.812085   \n",
       "\n",
       "             Total demand (GWh)  \n",
       "province                         \n",
       "Adrar                117.426808  \n",
       "Biskra                20.410051  \n",
       "Djelfa                 3.153813  \n",
       "El Oued              200.007164  \n",
       "Gabes                 10.892591  \n",
       "Ghadamis              34.139752  \n",
       "Ghardaia              83.861694  \n",
       "Gharyan               37.951196  \n",
       "Illizi                 7.996085  \n",
       "Jufrah                30.436329  \n",
       "Kebili                20.871984  \n",
       "Khenchela              4.852861  \n",
       "Laghouat               1.553661  \n",
       "Musrata               47.423894  \n",
       "Ouargla               46.392685  \n",
       "Tamanrasset           11.531595  \n",
       "Tataouine             10.289599  \n",
       "Tebessa               13.398558  \n",
       "Tozeur                25.285805  "
      ]
     },
     "execution_count": 142,
     "metadata": {},
     "output_type": "execute_result"
    }
   ],
   "source": [
    "nwsas.print_summary(geo_boundary = 'province')"
   ]
  },
  {
   "cell_type": "markdown",
   "metadata": {},
   "source": [
    "Finally, save the results in .csv format, by specifing an output file name and location (`output_file`) and running the `nwsas.df.to_csv(output_file, index = False)` method."
   ]
  },
  {
   "cell_type": "code",
   "execution_count": 143,
   "metadata": {},
   "outputs": [],
   "source": [
    "output_file = r'nwsas_results/pumping_energy.csv'\n",
    "nwsas.df.to_csv(output_file, index = False)"
   ]
  }
 ],
 "metadata": {
  "kernelspec": {
   "display_name": "Python 3",
   "language": "python",
   "name": "python3"
  },
  "language_info": {
   "codemirror_mode": {
    "name": "ipython",
    "version": 3
   },
   "file_extension": ".py",
   "mimetype": "text/x-python",
   "name": "python",
   "nbconvert_exporter": "python",
   "pygments_lexer": "ipython3",
   "version": "3.7.3"
  }
 },
 "nbformat": 4,
 "nbformat_minor": 2
}
