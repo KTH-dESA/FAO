{
 "cells": [
  {
   "cell_type": "markdown",
   "metadata": {},
   "source": [
    "# NEXUS tool: case study for the NWSAS basin - energy demand calculations\n",
    "In this notebook a case study for the NWSAS basin is covered using the `nexus_tool` package. The water requirements for agricultural irrigation were previously calculated (check the water demand case study). In this case study, the energy requirements for pumping and desalination of brackish water are estimated.\n",
    "\n",
    "First import the package by running the following block:"
   ]
  },
  {
   "cell_type": "code",
   "execution_count": null,
   "metadata": {},
   "outputs": [],
   "source": [
    "%load_ext autoreload"
   ]
  },
  {
   "cell_type": "code",
   "execution_count": 54,
   "metadata": {},
   "outputs": [],
   "source": [
    "%autoreload\n",
    "import nexus_tool"
   ]
  },
  {
   "cell_type": "markdown",
   "metadata": {},
   "source": [
    "After importing all required packages, the input GIS data is loaded into the variable `df`. Change the `file_path` variable to reflect the name and relative location of your data file. This dataset should already have the water demand for irrigation data."
   ]
  },
  {
   "cell_type": "code",
   "execution_count": 41,
   "metadata": {},
   "outputs": [],
   "source": [
    "file_path = r'nwsas_results/water_demand.csv'\n",
    "df = nexus_tool.read_csv(file_path)"
   ]
  },
  {
   "cell_type": "markdown",
   "metadata": {},
   "source": [
    "## 1. Creating the model\n",
    "To create a model simply create an instance of the `nexus_tool.Model()` class and store it in a variable name. The `nexus_tool.Model()` class requires a dataframe as input data. Several other properties and parameter values can be defined by explicitly passing values to them. To see a full list of parameters and their explaination refer to the documentation of the package."
   ]
  },
  {
   "cell_type": "code",
   "execution_count": 55,
   "metadata": {},
   "outputs": [],
   "source": [
    "nwsas = nexus_tool.Model(df)"
   ]
  },
  {
   "cell_type": "markdown",
   "metadata": {},
   "source": [
    "### 1.1. Changing default values for inputs\n",
    "The names of the properties of the model can be chaned at any time. This is important for the model to know how each property is called withing your input data. To check the current property names run the `nwsas.print_properties()` method, a list with the names of each property and its current value wil be displayed:"
   ]
  },
  {
   "cell_type": "code",
   "execution_count": 43,
   "metadata": {},
   "outputs": [
    {
     "name": "stdout",
     "output_type": "stream",
     "text": [
      "Properties names:\n",
      "    - Reference evapotranspiration (.eto): ETo_\n",
      "    - Latitude (.lat): lat\n",
      "    - Elevation (.elevation): elevation\n",
      "    - Wind speed (.wind): wind\n",
      "    - Solar radiation (.srad): srad\n",
      "    - Min temperature (.tmin): tmin\n",
      "    - Max temperature (.tmax): tmax\n",
      "    - Avegarage temperature (.tavg): tavg\n",
      "    - Cropland share column (.crop_share): crop_share\n",
      "    - Cropland area column (.crop_area): crop_area\n",
      "    - Harvest seasons names (.seasons): ['init', 'dev', 'mid', 'late']\n",
      "    - Seasson start suffix (.start): _start\n",
      "    - Seasson end suffix (.end): _end\n",
      "    - Cropland column (.crop_column): crop\n",
      "    - Groundwater table depth (.gw_depth): gw_depth\n",
      "    - Total dynamic head (.tdh_gw): tdh_gw\n"
     ]
    }
   ],
   "source": [
    "nwsas.print_properties()"
   ]
  },
  {
   "cell_type": "markdown",
   "metadata": {},
   "source": [
    "Then you can provide the right names for each property, calling them and assigning a value as:\n",
    "```python\n",
    "nwsas.crop_column = 'cropland'\n",
    "nwsas.seasons = ['initial', 'development', 'mid-season', 'harvest']\n",
    "nwsas.gw_depth = 'name_of_ground_water_depth'\n",
    "```"
   ]
  },
  {
   "cell_type": "markdown",
   "metadata": {},
   "source": [
    "### 1.2. Calculating the Total Dinamic Head (tdh)\n",
    "First, we will calculate the Total Dinamic Head (tdh), which is a measure in meters that accounts for the depth to groundwater, the water drawdown (wdd), the operating application pressure (oap) and the pressure loss in distribution (pld).\n",
    "\n",
    "For that, run the `nwsas.get_gw_tdh()` method passing the `wdd`, `oap` and `pld` values (their default value is 0). Also, make sure that the name for the groundwater depth column of the dataframe, matches the name of the `gw_depth` variable in the model as described in the previous step."
   ]
  },
  {
   "cell_type": "code",
   "execution_count": 56,
   "metadata": {},
   "outputs": [],
   "source": [
    "nwsas.get_gw_tdh(inplace = True)"
   ]
  },
  {
   "cell_type": "markdown",
   "metadata": {},
   "source": [
    "### Pumping plant efficiency:\n",
    "$$\\text{pumping plant efficiency (%)}= \\text{fuel efficiency (%)} \\times \\text{power unit eff (%)} \\times  \\text{transmission eff (%)} \\times \\text{pump eff (%)} \\times 100\\%$$\n",
    "\n",
    "**The Power Unit:** can be diesel engine or electric engine. In the first we call it (diesel powered pump) and the second (electric powered pump).\n",
    " \n",
    "### Value obtained from FAO1992, pages 26-27:\n",
    "\n",
    "#### Diesel powered pump:\n",
    "* **Worst case:** $0.9\\times 0.3\\times 0.9\\times 0.4 = 10\\%\\ (0.1)$\n",
    "* **Best case:** $1\\times 0.4\\times 1\\times 0.8 = 32\\%\\ (0.32)$\n",
    "\n",
    "#### Electric powered pump:\n",
    "* **Worst case:** $0.9\\times 0.75\\times 0.9\\times 0.4 = 25\\%\\ (0.25)$\n",
    "* **Best case:** $1\\times 0.85\\times 1\\times0.8 = 70\\%\\ (0.7)$"
   ]
  },
  {
   "cell_type": "markdown",
   "metadata": {},
   "source": [
    "### Calculating the pumping energy requirements"
   ]
  },
  {
   "cell_type": "code",
   "execution_count": 58,
   "metadata": {},
   "outputs": [],
   "source": [
    "nwsas.get_pumping_energy(inplace = True)"
   ]
  },
  {
   "cell_type": "code",
   "execution_count": null,
   "metadata": {},
   "outputs": [],
   "source": []
  }
 ],
 "metadata": {
  "kernelspec": {
   "display_name": "Python 3",
   "language": "python",
   "name": "python3"
  },
  "language_info": {
   "codemirror_mode": {
    "name": "ipython",
    "version": 3
   },
   "file_extension": ".py",
   "mimetype": "text/x-python",
   "name": "python",
   "nbconvert_exporter": "python",
   "pygments_lexer": "ipython3",
   "version": "3.7.3"
  }
 },
 "nbformat": 4,
 "nbformat_minor": 2
}
