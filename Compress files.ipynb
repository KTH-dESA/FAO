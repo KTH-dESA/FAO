{
 "cells": [
  {
   "cell_type": "code",
   "execution_count": 1,
   "metadata": {},
   "outputs": [],
   "source": [
    "import pandas as pd\n",
    "import os"
   ]
  },
  {
   "cell_type": "code",
   "execution_count": 18,
   "metadata": {},
   "outputs": [],
   "source": [
    "results_folder = 'data'\n",
    "for scenario in os.listdir(results_folder):\n",
    "    scenario_folder = os.path.join(results_folder, scenario)\n",
    "    for sub_scenario in os.listdir(scenario_folder):\n",
    "        sub_scenario_folder = os.path.join(scenario_folder, sub_scenario)\n",
    "        for sub_sub_scenario in os.listdir(sub_scenario_folder):\n",
    "            if '.csv' not in sub_sub_scenario:\n",
    "                sub_sub_scenario_folder = os.path.join(sub_scenario_folder, sub_sub_scenario)\n",
    "\n",
    "                df = pd.read_csv(os.path.join(sub_sub_scenario_folder, 'lcoe.csv'))\n",
    "                df.drop(columns=['water demand', 'required capacity', 'energy demand'], inplace=True)\n",
    "                df.to_csv(os.path.join(sub_sub_scenario_folder, 'lcoe.csv'), index=False, compression='zip')"
   ]
  },
  {
   "cell_type": "code",
   "execution_count": null,
   "metadata": {},
   "outputs": [],
   "source": []
  }
 ],
 "metadata": {
  "kernelspec": {
   "display_name": "Python 3",
   "language": "python",
   "name": "python3"
  },
  "language_info": {
   "codemirror_mode": {
    "name": "ipython",
    "version": 3
   },
   "file_extension": ".py",
   "mimetype": "text/x-python",
   "name": "python",
   "nbconvert_exporter": "python",
   "pygments_lexer": "ipython3",
   "version": "3.7.3"
  }
 },
 "nbformat": 4,
 "nbformat_minor": 4
}
