{
 "cells": [
  {
   "cell_type": "code",
   "execution_count": null,
   "metadata": {},
   "outputs": [],
   "source": [
    "%load_ext autoreload"
   ]
  },
  {
   "cell_type": "code",
   "execution_count": null,
   "metadata": {},
   "outputs": [],
   "source": [
    "%autoreload\n",
    "import sys\n",
    "sys.path.append(\"..\") #this is to add the avobe folder to the package directory\n",
    "import geopandas as gpd\n",
    "import shapely\n",
    "import pandas as pd\n",
    "import numpy as np\n",
    "import fiona\n",
    "import rasterio\n",
    "import rasterio.mask\n",
    "import rasterio.merge\n",
    "from rasterio.warp import calculate_default_transform, reproject, Resampling\n",
    "from rasterio.fill import fillnodata\n",
    "from rasterio.plot import show\n",
    "import nexus_tool.weap_tools as wp\n",
    "import os\n",
    "import matplotlib.pyplot as plt\n",
    "from shutil import copyfile\n",
    "from datetime import date"
   ]
  },
  {
   "cell_type": "markdown",
   "metadata": {},
   "source": [
    "## Reading files"
   ]
  },
  {
   "cell_type": "code",
   "execution_count": null,
   "metadata": {},
   "outputs": [],
   "source": [
    "provinces = gpd.read_file('Data/GIS/Admin/Provinces.gpkg', encoding='utf-8')\n",
    "groundwater = gpd.read_file('Data/Schematic/Groundwater.kml', encoding='utf-8')\n",
    "wwtp = gpd.read_file('Data/Schematic/Wastewater Treatment Plants.kml', encoding='utf-8')\n",
    "other_supply = gpd.read_file('Data/Schematic/Other Supplies.kml', encoding='utf-8')\n",
    "river_withdrawals = gpd.read_file('Data/Schematic/River Withdrawals.kml', encoding='utf-8')\n",
    "demand_sites = gpd.read_file('Data/Schematic/Demand Sites.kml', encoding='utf-8')\n",
    "catchments = gpd.read_file('Data/Schematic/Catchments.kml', encoding='utf-8')\n",
    "diversion = gpd.read_file('Data/Schematic/Diversions.kml', encoding='utf-8')\n",
    "reservoirs = gpd.read_file('Data/Schematic/Reservoirs.kml', encoding='utf-8')\n",
    "links = gpd.read_file('Data/Schematic/Transmission Links.kml', encoding='utf-8')"
   ]
  },
  {
   "cell_type": "markdown",
   "metadata": {},
   "source": [
    "## Converting geometries and dropping unecesary columns"
   ]
  },
  {
   "cell_type": "code",
   "execution_count": null,
   "metadata": {},
   "outputs": [],
   "source": [
    "for gdf in [groundwater, wwtp, other_supply, river_withdrawals,\n",
    "            demand_sites, catchments, diversion, reservoirs, links]:\n",
    "    gdf['geometry'] = wp.polyz_to_poly(gdf)\n",
    "    gdf.drop(columns='Description', inplace=True)"
   ]
  },
  {
   "cell_type": "code",
   "execution_count": null,
   "metadata": {},
   "outputs": [],
   "source": [
    "for gdf in [groundwater, wwtp, other_supply, river_withdrawals,\n",
    "            reservoirs, demand_sites, catchments]:\n",
    "    gdf.rename(columns={'Name': 'point'}, inplace=True)\n",
    "\n",
    "links.rename(columns={'Name': 'links'}, inplace=True)\n",
    "diversion.rename(columns={'Name': 'diversion'}, inplace=True)"
   ]
  },
  {
   "cell_type": "markdown",
   "metadata": {},
   "source": [
    "## Defining types"
   ]
  },
  {
   "cell_type": "code",
   "execution_count": null,
   "metadata": {},
   "outputs": [],
   "source": [
    "groundwater['type'] = 'Groundwater supply'\n",
    "wwtp['type'] = 'WWTP'\n",
    "other_supply['type'] = 'Other supply'\n",
    "river_withdrawals['type'] = 'Surfacewater withdrawal'\n",
    "reservoirs['type'] = 'Reservoir supply'\n",
    "catchments['type'] = 'Catchment'\n",
    "demand_sites['type'] = 'Demand site'\n",
    "diversion['type'] = 'Transmission Pipeline'\n",
    "links['type'] = 'Transmission links'"
   ]
  },
  {
   "cell_type": "code",
   "execution_count": null,
   "metadata": {},
   "outputs": [],
   "source": [
    "# other_supply['point'] = 'Prelevement 3'\n",
    "supply_points = groundwater.append([other_supply, reservoirs, river_withdrawals, wwtp], ignore_index=True, sort=False)\n",
    "demand_points = demand_sites.append(catchments, ignore_index=True, sort=False)\n",
    "links['links'] = links.links.str.replace('Groundwater','GW')\n",
    "links['links'] = links.links.str.replace('Grounwater','GW')\n",
    "links['links'] = links.links.str.replace('GW of ','')\n",
    "links['links'] = links.links.str.replace('GW ','')\n",
    "links['links'] = links.links.str.strip()\n",
    "links['links'] = links.links.str.replace(' El Guerdane',' I_El Guerdane')"
   ]
  },
  {
   "cell_type": "code",
   "execution_count": null,
   "metadata": {},
   "outputs": [],
   "source": [
    "demand_links = gpd.sjoin(demand_points, links, how='inner', op='intersects')\n",
    "supply_links = gpd.sjoin(supply_points, links, how='inner', op='intersects')"
   ]
  },
  {
   "cell_type": "code",
   "execution_count": null,
   "metadata": {},
   "outputs": [],
   "source": [
    "demand_links.rename(columns={'type_left': 'type'}, inplace=True)\n",
    "demand_links.drop(columns=['type_right', 'index_right'], inplace=True)\n",
    "supply_links.rename(columns={'type_left': 'type'}, inplace=True)\n",
    "supply_links.drop(columns=['type_right', 'index_right'], inplace=True)"
   ]
  },
  {
   "cell_type": "code",
   "execution_count": null,
   "metadata": {},
   "outputs": [],
   "source": [
    "dff = gpd.sjoin(demand_links, provinces[['Province','geometry']], how='inner', op='within')\n",
    "dff.drop(columns=['index_right'], inplace=True)\n",
    "df_temp = demand_links.loc[~demand_links.point.isin(dff.point.unique())].copy()\n",
    "df_temp['Province'] = 'Tiznit'\n",
    "demand_links = dff.append(df_temp, sort=False)"
   ]
  },
  {
   "cell_type": "code",
   "execution_count": null,
   "metadata": {},
   "outputs": [],
   "source": [
    "dff = gpd.sjoin(supply_links, provinces[['Province','geometry']], how='inner', op='within')\n",
    "dff.drop(columns=['index_right'], inplace=True)\n",
    "df_temp = supply_links.loc[~supply_links.point.isin(dff.point.unique())].copy()\n",
    "supply_links = dff.append(df_temp, sort=False)\n",
    "df_temp['Province'] = 'Chtouka-Aït Baha'\n",
    "supply_links = dff.append(df_temp, sort=False)"
   ]
  },
  {
   "cell_type": "code",
   "execution_count": null,
   "metadata": {},
   "outputs": [],
   "source": [
    "base = provinces.plot(color='white', edgecolor='black', figsize=(12, 12))\n",
    "data = demand_links.append([supply_links, wwtp, diversion, links], ignore_index=True, sort=False)\n",
    "data.plot(ax=base, column='type', cmap='Spectral_r', legend=True)\n",
    "plt.show()"
   ]
  },
  {
   "cell_type": "code",
   "execution_count": null,
   "metadata": {},
   "outputs": [],
   "source": [
    "out_image, out_meta = wp.mask_raster('Data/GIS/wtd/Africa_model_wtd_v2.nc', \n",
    "                                  'Data/GIS/Admin/Provinces.gpkg', 'EPSG:4326')\n",
    "       \n",
    "with rasterio.open(\"Data/GIS/wtd//Souss-Massa WTD.tif\", \"w\", **out_meta) as dest:\n",
    "    dest.write(out_image)"
   ]
  },
  {
   "cell_type": "code",
   "execution_count": null,
   "metadata": {},
   "outputs": [],
   "source": [
    "with rasterio.open(\"Data/GIS/wtd//Souss-Massa WTD.tif\") as src:\n",
    "    fig, ax = plt.subplots(figsize=(12, 12))\n",
    "    show(src, ax=ax, aspect='auto')"
   ]
  },
  {
   "cell_type": "code",
   "execution_count": null,
   "metadata": {},
   "outputs": [],
   "source": [
    "groundwater['wtd_m'] = wp.sample_raster(\"Data/GIS/wtd/Africa_model_wtd_v2.nc\", \n",
    "                                         groundwater)\n",
    "groundwater.loc[groundwater.point=='Souss GW','wtd_m'] = 170\n",
    "groundwater.loc[groundwater.point=='Chtouka GW','wtd_m'] = 85"
   ]
  },
  {
   "cell_type": "code",
   "execution_count": null,
   "metadata": {},
   "outputs": [],
   "source": [
    "groundwater"
   ]
  },
  {
   "cell_type": "code",
   "execution_count": null,
   "metadata": {},
   "outputs": [],
   "source": [
    "wp.merge_rasters('Data/GIS/DEM/*', 'EPSG:4326', \n",
    "                 \"Data/GIS/DEM//Souss-Massa DEM.tif\")\n",
    "\n",
    "with rasterio.open(\"Data/GIS/DEM//Souss-Massa DEM.tif\") as src:\n",
    "    fig, ax = plt.subplots(figsize=(12, 12))\n",
    "    show(src, ax=ax, aspect='auto', cmap='terrain')"
   ]
  },
  {
   "cell_type": "code",
   "execution_count": null,
   "metadata": {},
   "outputs": [],
   "source": [
    "supply_links['elevation'] = wp.sample_raster(\"Data/GIS/DEM//Souss-Massa DEM.tif\", \n",
    "                                               supply_links)\n",
    "demand_links['elevation'] = wp.sample_raster(\"Data/GIS/DEM//Souss-Massa DEM.tif\", \n",
    "                                               demand_links)\n",
    "wwtp['elevation'] = wp.sample_raster(\"Data/GIS/DEM//Souss-Massa DEM.tif\", \n",
    "                                       wwtp)"
   ]
  },
  {
   "cell_type": "code",
   "execution_count": null,
   "metadata": {},
   "outputs": [],
   "source": []
  },
  {
   "cell_type": "code",
   "execution_count": null,
   "metadata": {},
   "outputs": [],
   "source": [
    "diversions = gpd.sjoin(diversion, reservoirs, how='inner', op='intersects')\n",
    "diversions.drop(columns=['index_right'], inplace=True)\n",
    "diversions.rename(columns={'type_right': 'type_supply'}, inplace=True)\n",
    "diversions = gpd.sjoin(diversions, river_withdrawals, how='inner', op='intersects')\n",
    "diversions.drop(columns=['index_right'], inplace=True)\n",
    "diversions.rename(columns={'point_left': 'Supply point', 'point_right': 'Demand point',\n",
    "                           'type_left': 'type', 'type': 'type_demand'}, inplace=True)"
   ]
  },
  {
   "cell_type": "code",
   "execution_count": null,
   "metadata": {},
   "outputs": [],
   "source": [
    "dff1 = river_withdrawals.loc[river_withdrawals.point.isin(diversions['Demand point'])].copy()\n",
    "dff1['diversion'] = dff1.point.map(diversions.set_index('Demand point').diversion)\n",
    "dff1['elevation'] = wp.sample_raster(\"Data/GIS/DEM//Souss-Massa DEM.tif\", \n",
    "                                       dff1)"
   ]
  },
  {
   "cell_type": "code",
   "execution_count": null,
   "metadata": {},
   "outputs": [],
   "source": [
    "dff2 = reservoirs.loc[reservoirs.point.isin(diversions['Supply point'])].copy()\n",
    "dff2['diversion'] = dff2.point.map(diversions.groupby('Supply point').agg({'diversion': 'first'})['diversion'])\n",
    "dff2['elevation'] = wp.sample_raster(\"Data/GIS/DEM//Souss-Massa DEM.tif\", \n",
    "                                       dff2)\n",
    "MerchidSudMoroc = 26192\n",
    "dff2.to_crs(f'epsg:{MerchidSudMoroc}', inplace=True)"
   ]
  },
  {
   "cell_type": "code",
   "execution_count": null,
   "metadata": {},
   "outputs": [],
   "source": [
    "dff1.to_crs(f'epsg:{MerchidSudMoroc}', inplace=True)\n",
    "dff1.set_index('diversion', inplace=True)\n",
    "dff1['distance'] = dff1.distance(dff2.set_index('diversion')).copy()"
   ]
  },
  {
   "cell_type": "code",
   "execution_count": null,
   "metadata": {},
   "outputs": [],
   "source": [
    "diversions['distance'] = diversions['Demand point'].map(dff1.set_index('point')['distance'])\n",
    "diversions['elevation_diff'] = diversions['Demand point'].map(dff1.set_index('point')['elevation']) - \\\n",
    "                               diversions['Supply point'].map(dff2.set_index('point')['elevation'])"
   ]
  },
  {
   "cell_type": "code",
   "execution_count": null,
   "metadata": {},
   "outputs": [],
   "source": [
    "all_points = supply_links.append(demand_links, sort=False, ignore_index=True)\n",
    "all_points.drop_duplicates(subset=\"point\", inplace=True)"
   ]
  },
  {
   "cell_type": "code",
   "execution_count": null,
   "metadata": {},
   "outputs": [],
   "source": [
    "# files_dict = {'Desalination': {'Trend': ['SoussMassa Results - Reference.xlsx'],\n",
    "#                                'Climate Change': ['SoussMassa Results - Reference CC.xlsx']},\n",
    "#               'Reference': {'Trend': ['SoussMassa Results - No Desal.xlsx'],\n",
    "#                             'Climate Change': ['SoussMassa Results - No Desal CC.xlsx']},\n",
    "#               'Irrigation intensification': {'Trend': ['SoussMassa Results - Irrigation Intensification.xlsx'],\n",
    "#                                              'Climate Change': ['SoussMassa Results - Irrigation Intensification CC.xlsx']}\n",
    "#              }\n",
    "\n",
    "files_dict = {'Reference': {'Trend': ['Results - Reference - Trend.xlsx']}\n",
    "             }\n",
    "\n",
    "raw_data = os.path.join('Data', 'WEAP Results')\n",
    "results_path = os.path.join('Data', 'Test')\n",
    "wp.create_folder(results_path)\n",
    "for scenario, files in files_dict.items():\n",
    "    scenario_path = os.path.join(results_path, scenario)\n",
    "    wp.create_folder(scenario_path)\n",
    "    for folder, file in files.items():\n",
    "        folder_path = os.path.join(scenario_path, folder)\n",
    "        wp.create_folder(folder_path)\n",
    "        for i, f in enumerate(file):\n",
    "#             dst = os.path.join(folder_path, f'level_{i+1}')\n",
    "#             wp.create_folder(dst)\n",
    "            copyfile(os.path.join(raw_data, f), os.path.join(folder_path, 'results.xlsx'))"
   ]
  },
  {
   "cell_type": "code",
   "execution_count": null,
   "metadata": {},
   "outputs": [],
   "source": [
    "def integrate_data(sheet_name, category, dff_dict, var_name='links', target='point'):\n",
    "    df = data.parse(sheet_name, skiprows=3)\n",
    "    df.rename(columns={'Unnamed: 0': 'Date'}, inplace=True)\n",
    "    df.columns = df.columns.str.replace('\"', '').str.strip()\n",
    "\n",
    "    df.columns = df.columns.str.replace('Groundwater','GW')\n",
    "    df.columns = df.columns.str.replace('Grounwater','GW')\n",
    "    df.columns = df.columns.str.replace('GW of ','')\n",
    "    df.columns = df.columns.str.replace('GW ','')\n",
    "\n",
    "    for link in demand_links.links:\n",
    "        if np.array(df.columns[df.columns.str.contains(link)]).size > 0:\n",
    "            df.rename(columns={df.columns[df.columns.str.contains(link)][0]: link}, inplace=True)\n",
    "\n",
    "    df = df.loc[df.Date!='Sum']\n",
    "    df.Date = pd.to_datetime(df.Date)\n",
    "    df['Year'] = df.Date.dt.year\n",
    "    df['Month'] = df.Date.dt.month\n",
    "    \n",
    "    drop_columns = []\n",
    "    if 'Sum' in df.columns:\n",
    "        drop_columns.append('Sum')\n",
    "    df.drop(columns=drop_columns, inplace=True)\n",
    "\n",
    "    df = df.melt(id_vars=['Date', 'Year', 'Month'])\n",
    "    \n",
    "    for name, dff in dff_dict.items():\n",
    "        df_temp = dff.set_index(var_name)\n",
    "        if var_name!=target:\n",
    "            df[name] = df.variable.map(df_temp[target])\n",
    "    \n",
    "    df['type'] = category\n",
    "    df.rename(columns={'variable': var_name}, inplace=True)\n",
    "    if df.loc[~df[var_name].isin(df.dropna()[var_name].unique()),var_name].unique().size > 0:\n",
    "        print(\"The following links were not found:\")\n",
    "        print(df.loc[~df[var_name].isin(df.dropna()[var_name].unique()),var_name].unique())\n",
    "    return df"
   ]
  },
  {
   "cell_type": "code",
   "execution_count": null,
   "metadata": {},
   "outputs": [],
   "source": [
    "# scenarios = ['Reference', 'Desalination', 'Irrigation intensification']\n",
    "scenarios = ['Reference']\n",
    "processed_data = os.path.join('Data', 'Test')\n",
    "wp.create_folder(processed_data)\n",
    "for scenario in scenarios:\n",
    "    scenario_folder = os.path.join(results_path, scenario)\n",
    "    wp.create_folder(os.path.join(processed_data, scenario))\n",
    "    for sub_scenario in os.listdir(scenario_folder):\n",
    "        sub_scenario_folder = os.path.join(scenario_folder, sub_scenario)\n",
    "        wp.create_folder(os.path.join(processed_data, scenario, sub_scenario))\n",
    "\n",
    "        output_folder = os.path.join(processed_data, scenario, sub_scenario)\n",
    "        file = os.path.join(sub_scenario_folder, 'results.xlsx')\n",
    "        data = pd.ExcelFile(file)\n",
    "\n",
    "        sheet_names = {'Desalination': 'DS Agriculture', \n",
    "                       'GP Irrigation': 'GW Agriculture', \n",
    "                       'GP Domestic': 'GW Domestic',\n",
    "                       'MAR': 'Aquifer recharge',\n",
    "                       'SW Irrigation': 'SW Agriculture',\n",
    "                       'SW Domestic': 'SW Domestic',\n",
    "                       'Wastewater Reuse AG': 'WWR Agriculture',\n",
    "                       'Wastewater Reuse Agadir': 'WWR Domestic'}\n",
    "\n",
    "        df = pd.DataFrame()\n",
    "        for sheet_name, category in sheet_names.items():\n",
    "            df = df.append(integrate_data(sheet_name, category, {'Demand point': demand_links, \n",
    "                                                                 'Supply point': supply_links}))\n",
    "\n",
    "        df['wtd'] = df['Supply point'].map(groundwater.set_index('point')['wtd_m'])\n",
    "\n",
    "        wtd_change = integrate_data('GW Change in Elev', 'GW wtd', {'GW': groundwater}, 'point', 'point')\n",
    "        df.set_index(['Date', 'Supply point'], inplace=True)\n",
    "        df['wtd'] -= df.index.map(wtd_change.set_index(['Date', 'point']).value)\n",
    "        df.reset_index(inplace=True)\n",
    "\n",
    "        df['elevation_diff'] = df.links.map(demand_links.set_index('links').elevation) - \\\n",
    "                               df.links.map(supply_links.set_index('links').elevation)\n",
    "\n",
    "        dff = df.loc[df['Supply point'].isin(diversions['Demand point'].unique())].groupby(['Date','Supply point','Year','Month']).agg({'value': 'sum'}).reset_index()\n",
    "        dff.rename(columns={'Supply point': 'Demand point'}, inplace=True)\n",
    "        dff['Supply point'] = dff['Demand point'].map(diversions.set_index('Demand point')['Supply point'])\n",
    "        dff['elevation_diff'] = dff['Demand point'].map(diversions.set_index('Demand point')['elevation_diff'])\n",
    "        dff['Province'] = dff['Supply point'].map(supply_links.drop_duplicates('point').set_index('point')['Province'])\n",
    "        dff['type'] = 'Transmission Pipeline'\n",
    "\n",
    "        df = df.append(dff, sort=False, ignore_index=True)\n",
    "\n",
    "        df.loc[df.Province.isna(),'Province'] = df['Demand point'].map(demand_links.drop_duplicates('point').set_index('point')['Province'])\n",
    "\n",
    "        supply = gpd.GeoDataFrame(geometry=df['Supply point'].map(all_points.set_index('point').geometry), crs='epsg:4326')\n",
    "#             supply.dropna(inplace=True)\n",
    "        supply.to_crs(f'epsg:{MerchidSudMoroc}', inplace=True)\n",
    "        demand = gpd.GeoDataFrame(geometry=df['Demand point'].map(all_points.set_index('point').geometry), crs='epsg:4326')\n",
    "#             demand.dropna(inplace=True)\n",
    "        demand.to_crs(f'epsg:{MerchidSudMoroc}', inplace=True)\n",
    "        df['distance'] = supply.distance(demand)\n",
    "\n",
    "        df.loc[df['type'].str.contains('GW'), 'distance'] = df.loc[df['type'].str.contains('GW'), 'wtd']\n",
    "        df.loc[df['type'].str.contains('GW'), 'elevation_diff'] = df.loc[df['type'].str.contains('GW'), 'wtd']\n",
    "\n",
    "        #temporal fix due to inacurate pleasment of demand points\n",
    "        df.loc[df['type'].str.contains('SW'), 'distance'] = np.nan\n",
    "        df.loc[df['type'].str.contains('SW'), 'elevation_diff'] = np.nan\n",
    "\n",
    "        #define the delainated water for agriculture and for domestic use\n",
    "        df.loc[(df['type']=='DS Agriculture')&(df['Demand point']=='Agadir'), 'type'] = 'DS Domestic'\n",
    "\n",
    "        df_wwtp = integrate_data('WWTP Inflow', 'wwtp', {'WWTP': wwtp}, 'point', 'point')\n",
    "\n",
    "        sheet_names = {'AgWaterDemand': 'Agriculture', \n",
    "                       'DomWaterDemand': 'Domestic'}\n",
    "\n",
    "        df_required = pd.DataFrame()\n",
    "        for sheet_name, category in sheet_names.items():\n",
    "            df_required = df_required.append(integrate_data(sheet_name, category, {'Demand point': demand_links}, 'point', 'point'))\n",
    "\n",
    "        df['water_required'] = df.set_index(['Date','Demand point']).index.map(df_required.set_index(['Date','point']).value)\n",
    "\n",
    "        df_unmet_month = 1 - (df.groupby(['Date', 'Demand point'])['value'].sum() / \\\n",
    "                       df.groupby(['Date', 'Demand point'])['water_required'].mean())\n",
    "\n",
    "        df['unmet_demand_month'] = df.set_index(['Date','Demand point']).index.map(df_unmet_month)\n",
    "\n",
    "        water_req_year = df.groupby(['Year', 'Date', 'Demand point'])['water_required'].mean().reset_index().groupby(['Year', 'Demand point'])['water_required'].sum()\n",
    "\n",
    "        df_unmet_year = 1 - (df.groupby(['Year', 'Demand point'])['value'].sum() / \\\n",
    "                             water_req_year)\n",
    "\n",
    "        df['unmet_demand_year'] = df.set_index(['Year','Demand point']).index.map(df_unmet_year)\n",
    "\n",
    "        df.loc[df.unmet_demand_year<0, 'unmet_demand_year'] = 0\n",
    "        df.loc[df.unmet_demand_month<0, 'unmet_demand_month'] = 0\n",
    "\n",
    "        df.fillna({'unmet_demand_year': 0, 'unmet_demand_month': 0}, inplace=True)\n",
    "\n",
    "#         df.to_csv(os.path.join(output_folder, 'demand_data.gz'), index=False)\n",
    "#         df_wwtp.to_csv(os.path.join(output_folder, 'wwtp_inflow.gz'), index=False)            "
   ]
  },
  {
   "cell_type": "code",
   "execution_count": null,
   "metadata": {},
   "outputs": [],
   "source": [
    "df['type'].unique()"
   ]
  },
  {
   "cell_type": "code",
   "execution_count": null,
   "metadata": {},
   "outputs": [],
   "source": [
    "water_req_year"
   ]
  },
  {
   "cell_type": "code",
   "execution_count": null,
   "metadata": {},
   "outputs": [],
   "source": [
    "# df.groupby(['Date','Demand point']).unmet_demand_month.mean().reset_index().pivot('Date', 'Demand point', 'unmet_demand_month').plot(subplots=True,\n",
    "#                                                                                                                          figsize=(16,100),\n",
    "#                                                                                                                                   sharey=True)"
   ]
  },
  {
   "cell_type": "code",
   "execution_count": null,
   "metadata": {},
   "outputs": [],
   "source": [
    "df"
   ]
  },
  {
   "cell_type": "markdown",
   "metadata": {},
   "source": [
    "The previous printed lines will show transmision links if there was any missmatch between the names in the schematic and the names in the data.\n",
    "\n",
    "The following block will print the transmission links that are not found in the results. In the current data these are 4, I already rised this with Biran and he said he will fix it for the scenario runs."
   ]
  },
  {
   "cell_type": "code",
   "execution_count": null,
   "metadata": {},
   "outputs": [],
   "source": [
    "demand_links.loc[~demand_links['links'].isin(df['links'].unique()), 'links'].unique()"
   ]
  },
  {
   "cell_type": "code",
   "execution_count": null,
   "metadata": {},
   "outputs": [],
   "source": [
    "df.loc[df['Demand point']=='Agadir', ['water_required','value']].sum()"
   ]
  },
  {
   "cell_type": "code",
   "execution_count": null,
   "metadata": {},
   "outputs": [],
   "source": [
    "68600588 + 11162.5 + 24972213 + 1849399400"
   ]
  },
  {
   "cell_type": "code",
   "execution_count": null,
   "metadata": {},
   "outputs": [],
   "source": [
    "df.loc[df['Demand point'].str.contains('Agadir')].groupby('Date')['water_required'].mean().sum()"
   ]
  },
  {
   "cell_type": "code",
   "execution_count": null,
   "metadata": {},
   "outputs": [],
   "source": [
    "folder = r'../Morocco dashboard/spatial_data'\n",
    "wp.create_folder(folder)\n",
    "demand_links.to_file(os.path.join(folder, 'Demand_points.gpkg'), driver=\"GPKG\")\n",
    "supply_links.to_file(os.path.join(folder, 'Supply_points.gpkg'), driver=\"GPKG\")\n",
    "wwtp.to_file(os.path.join(folder, 'wwtp.gpkg'), driver=\"GPKG\")\n",
    "diversions.to_file(os.path.join(folder, 'Pipelines.gpkg'), driver=\"GPKG\")\n",
    "groundwater.to_file(os.path.join(folder, 'Groundwater.gpkg'), driver=\"GPKG\")\n",
    "all_points.to_file(os.path.join(folder, 'all_points.gpkg'), driver=\"GPKG\")"
   ]
  },
  {
   "cell_type": "code",
   "execution_count": null,
   "metadata": {},
   "outputs": [],
   "source": [
    "df = pd.read_csv(r\"C:\\Users\\camilorg\\Box Sync\\FAO\\Morocco model\\test dash results\\data\\Desalination\\Climate Change\\results.gz\")"
   ]
  },
  {
   "cell_type": "code",
   "execution_count": null,
   "metadata": {},
   "outputs": [],
   "source": [
    "df"
   ]
  },
  {
   "cell_type": "code",
   "execution_count": null,
   "metadata": {},
   "outputs": [],
   "source": [
    "df.loc[df['Supply point']=='Desalination'].groupby('links')[['elevation_diff', 'distance']].mean()"
   ]
  },
  {
   "cell_type": "code",
   "execution_count": null,
   "metadata": {},
   "outputs": [],
   "source": [
    "import pandas as pd"
   ]
  },
  {
   "cell_type": "code",
   "execution_count": null,
   "metadata": {},
   "outputs": [],
   "source": [
    "df = pd.read_csv(\"C:\\Users\\camilorg\\Box Sync\\FAO\\Morocco model\\Data\\Processed results\\Increased Water Productivity\\Climate Change\\demand_data.gz\")"
   ]
  },
  {
   "cell_type": "code",
   "execution_count": null,
   "metadata": {},
   "outputs": [],
   "source": []
  }
 ],
 "metadata": {
  "kernelspec": {
   "display_name": "Python 3",
   "language": "python",
   "name": "python3"
  },
  "language_info": {
   "codemirror_mode": {
    "name": "ipython",
    "version": 3
   },
   "file_extension": ".py",
   "mimetype": "text/x-python",
   "name": "python",
   "nbconvert_exporter": "python",
   "pygments_lexer": "ipython3",
   "version": "3.8.5"
  }
 },
 "nbformat": 4,
 "nbformat_minor": 2
}
