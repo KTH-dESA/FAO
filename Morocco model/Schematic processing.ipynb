{
 "cells": [
  {
   "cell_type": "code",
   "execution_count": null,
   "metadata": {},
   "outputs": [],
   "source": [
    "import sys\n",
    "sys.path.append(\"..\") #this is to add the avobe folder to the package directory\n",
    "import geopandas as gpd\n",
    "import rasterio\n",
    "from rasterio.plot import show\n",
    "import nexustool.weap_tools as wp\n",
    "import os\n",
    "import matplotlib.pyplot as plt\n",
    "from nexustool.gis_tools import download_data\n",
    "import fiona\n",
    "fiona.drvsupport.supported_drivers['kml'] = 'rw' # enable KML support which is disabled by default\n",
    "fiona.drvsupport.supported_drivers['LIBKML'] = 'rw' # enable KML support which is disabled by default"
   ]
  },
  {
   "cell_type": "markdown",
   "metadata": {},
   "source": [
    "## Reading files"
   ]
  },
  {
   "cell_type": "code",
   "execution_count": null,
   "metadata": {},
   "outputs": [],
   "source": [
    "gis_folder = os.path.join('data', 'gis')\n",
    "sch_folder = os.path.join('data', 'schematic')\n",
    "\n",
    "provinces = gpd.read_file(os.path.join(gis_folder, 'admin', 'provinces.gpkg'), encoding='utf-8')\n",
    "groundwater = gpd.read_file(os.path.join(sch_folder, 'Groundwater.kml'), encoding='utf-8')\n",
    "wwtp = gpd.read_file(os.path.join(sch_folder, 'Wastewater Treatment Plants.kml'), encoding='utf-8')\n",
    "other_supply = gpd.read_file(os.path.join(sch_folder, 'Other Supplies.kml'), encoding='utf-8')\n",
    "river_withdrawals = gpd.read_file(os.path.join(sch_folder, 'River Withdrawals.kml'), encoding='utf-8')\n",
    "demand_sites = gpd.read_file(os.path.join(sch_folder, 'Demand Sites.kml'), encoding='utf-8')\n",
    "catchments = gpd.read_file(os.path.join(sch_folder, 'Catchments.kml'), encoding='utf-8')\n",
    "diversion = gpd.read_file(os.path.join(sch_folder, 'Diversions.kml'), encoding='utf-8')\n",
    "reservoirs = gpd.read_file(os.path.join(sch_folder, 'Reservoirs.kml'), encoding='utf-8')\n",
    "links = gpd.read_file(os.path.join(sch_folder, 'Transmission Links.kml'), encoding='utf-8')"
   ]
  },
  {
   "cell_type": "markdown",
   "metadata": {},
   "source": [
    "## Downloading the GIS data"
   ]
  },
  {
   "cell_type": "code",
   "execution_count": null,
   "metadata": {},
   "outputs": [],
   "source": [
    "url = 'http://viewfinderpanoramas.org/dem3/I29.zip'\n",
    "file_path = os.path.join('data', 'gis', 'dem', 'I29.zip')\n",
    "download_data(url, file_path)\n",
    "\n",
    "url = 'http://viewfinderpanoramas.org/dem3/H29.zip'\n",
    "file_path = os.path.join('data', 'gis', 'dem', 'H29.zip')\n",
    "download_data(url, file_path)\n",
    "\n",
    "url = 'https://souss-massa-dev.s3.us-east-2.amazonaws.com/post_build/Africa_model_wtd_v2.nc'\n",
    "file_path = os.path.join('data', 'gis', 'wtd', 'Africa_model_wtd_v2.nc')\n",
    "download_data(url, file_path)"
   ]
  },
  {
   "cell_type": "markdown",
   "metadata": {},
   "source": [
    "## Converting geometries and dropping unecesary columns"
   ]
  },
  {
   "cell_type": "code",
   "execution_count": null,
   "metadata": {},
   "outputs": [],
   "source": [
    "for gdf in [groundwater, wwtp, other_supply, river_withdrawals,\n",
    "            demand_sites, catchments, diversion, reservoirs, links]:\n",
    "    gdf['geometry'] = wp.polyz_to_poly(gdf)\n",
    "    gdf.drop(gdf.columns.difference(['Name','geometry']), 1, inplace=True)"
   ]
  },
  {
   "cell_type": "code",
   "execution_count": null,
   "metadata": {},
   "outputs": [],
   "source": [
    "for gdf in [groundwater, wwtp, other_supply, river_withdrawals,\n",
    "            reservoirs, demand_sites, catchments]:\n",
    "    gdf.rename(columns={'Name': 'point'}, inplace=True)\n",
    "\n",
    "links.rename(columns={'Name': 'links'}, inplace=True)\n",
    "diversion.rename(columns={'Name': 'diversion'}, inplace=True)"
   ]
  },
  {
   "cell_type": "markdown",
   "metadata": {},
   "source": [
    "## Defining types"
   ]
  },
  {
   "cell_type": "code",
   "execution_count": null,
   "metadata": {},
   "outputs": [],
   "source": [
    "groundwater['type'] = 'Groundwater supply'\n",
    "wwtp['type'] = 'WWTP'\n",
    "other_supply['type'] = 'Other supply'\n",
    "river_withdrawals['type'] = 'Surfacewater withdrawal'\n",
    "reservoirs['type'] = 'Reservoir supply'\n",
    "catchments['type'] = 'Catchment'\n",
    "demand_sites['type'] = 'Demand site'\n",
    "diversion['type'] = 'Transmission Pipeline'\n",
    "links['type'] = 'Transmission links'"
   ]
  },
  {
   "cell_type": "markdown",
   "metadata": {},
   "source": [
    "## Cleaning up the data"
   ]
  },
  {
   "cell_type": "code",
   "execution_count": null,
   "metadata": {},
   "outputs": [],
   "source": [
    "supply_points = groundwater.append([other_supply, reservoirs, river_withdrawals, wwtp], ignore_index=True, sort=False)\n",
    "demand_points = demand_sites.append(catchments, ignore_index=True, sort=False)\n",
    "links['links'] = links.links.str.replace('Groundwater','GW')\n",
    "links['links'] = links.links.str.replace('Grounwater','GW')\n",
    "links['links'] = links.links.str.replace('GW of ','')\n",
    "links['links'] = links.links.str.replace('GW ','')\n",
    "links['links'] = links.links.str.strip()\n",
    "links['links'] = links.links.str.replace(' El Guerdane',' I_El Guerdane')"
   ]
  },
  {
   "cell_type": "markdown",
   "metadata": {},
   "source": [
    "## Spatially joining some layers"
   ]
  },
  {
   "cell_type": "code",
   "execution_count": null,
   "metadata": {},
   "outputs": [],
   "source": [
    "demand_links = gpd.sjoin(demand_points, links, how='inner', op='intersects')\n",
    "supply_links = gpd.sjoin(supply_points, links, how='inner', op='intersects')"
   ]
  },
  {
   "cell_type": "code",
   "execution_count": null,
   "metadata": {},
   "outputs": [],
   "source": [
    "demand_links.rename(columns={'type_left': 'type'}, inplace=True)\n",
    "demand_links.drop(columns=['type_right', 'index_right'], inplace=True)\n",
    "supply_links.rename(columns={'type_left': 'type'}, inplace=True)\n",
    "supply_links.drop(columns=['type_right', 'index_right'], inplace=True)"
   ]
  },
  {
   "cell_type": "code",
   "execution_count": null,
   "metadata": {},
   "outputs": [],
   "source": [
    "dff = gpd.sjoin(demand_links, provinces[['Province','geometry']], how='inner', op='within')\n",
    "dff.drop(columns=['index_right'], inplace=True)\n",
    "df_temp = demand_links.loc[~demand_links.point.isin(dff.point.unique())].copy()\n",
    "df_temp['Province'] = 'Tiznit'\n",
    "demand_links = dff.append(df_temp, sort=False)"
   ]
  },
  {
   "cell_type": "code",
   "execution_count": null,
   "metadata": {},
   "outputs": [],
   "source": [
    "dff = gpd.sjoin(supply_links, provinces[['Province','geometry']], how='inner', op='within')\n",
    "dff.drop(columns=['index_right'], inplace=True)\n",
    "df_temp = supply_links.loc[~supply_links.point.isin(dff.point.unique())].copy()\n",
    "supply_links = dff.append(df_temp, sort=False)\n",
    "df_temp['Province'] = 'Chtouka-Aït Baha'\n",
    "supply_links = dff.append(df_temp, sort=False)"
   ]
  },
  {
   "cell_type": "markdown",
   "metadata": {},
   "source": [
    "## Displaying the system"
   ]
  },
  {
   "cell_type": "code",
   "execution_count": null,
   "metadata": {},
   "outputs": [],
   "source": [
    "base = provinces.plot(color='white', edgecolor='black', figsize=(12, 12))\n",
    "data = demand_links.append([supply_links, wwtp, diversion, links], ignore_index=True, sort=False)\n",
    "data.plot(ax=base, column='type', cmap='Spectral_r', legend=True)"
   ]
  },
  {
   "cell_type": "markdown",
   "metadata": {},
   "source": [
    "## Masking and displaying rasters"
   ]
  },
  {
   "cell_type": "code",
   "execution_count": null,
   "metadata": {},
   "outputs": [],
   "source": [
    "out_image, out_meta = wp.mask_raster(os.path.join(gis_folder, 'wtd', 'Africa_model_wtd_v2.nc'), \n",
    "                                  os.path.join(gis_folder, 'admin', 'provinces.gpkg'), 'EPSG:4326')\n",
    "       \n",
    "with rasterio.open(os.path.join(gis_folder, 'wtd', 'Souss-Massa WTD.tif'), 'w', **out_meta) as dest:\n",
    "    dest.write(out_image)"
   ]
  },
  {
   "cell_type": "code",
   "execution_count": null,
   "metadata": {},
   "outputs": [],
   "source": [
    "with rasterio.open(os.path.join(gis_folder, 'wtd', 'Souss-Massa WTD.tif')) as src:\n",
    "    fig, ax = plt.subplots(figsize=(12, 12))\n",
    "    show(src, ax=ax, aspect='auto', cmap='gist_earth')"
   ]
  },
  {
   "cell_type": "code",
   "execution_count": null,
   "metadata": {},
   "outputs": [],
   "source": [
    "dem_path = os.path.join(gis_folder, 'dem', 'Souss-Massa DEM.tif')\n",
    "if not os.path.exists(dem_path):\n",
    "    wp.merge_rasters(os.path.join(gis_folder, 'dem', '*', '*.hgt'), \n",
    "                     'EPSG:4326', \n",
    "                     dem_path)\n",
    "\n",
    "with rasterio.open(os.path.join(gis_folder, 'dem', 'Souss-Massa DEM.tif')) as src:\n",
    "    fig, ax = plt.subplots(figsize=(12, 12))\n",
    "    show(src, ax=ax, aspect='auto', cmap='terrain')"
   ]
  },
  {
   "cell_type": "markdown",
   "metadata": {},
   "source": [
    "## Sampling raster data"
   ]
  },
  {
   "cell_type": "code",
   "execution_count": null,
   "metadata": {},
   "outputs": [],
   "source": [
    "groundwater['wtd_m'] = wp.sample_raster(os.path.join(gis_folder, 'wtd', 'Africa_model_wtd_v2.nc'), \n",
    "                                        groundwater)\n",
    "groundwater.loc[groundwater.point=='Souss GW','wtd_m'] = 170\n",
    "groundwater.loc[groundwater.point=='Chtouka GW','wtd_m'] = 85"
   ]
  },
  {
   "cell_type": "code",
   "execution_count": null,
   "metadata": {},
   "outputs": [],
   "source": [
    "supply_links['elevation'] = wp.sample_raster(dem_path, supply_links)\n",
    "demand_links['elevation'] = wp.sample_raster(dem_path, demand_links)\n",
    "wwtp['elevation'] = wp.sample_raster(dem_path, wwtp)"
   ]
  },
  {
   "cell_type": "markdown",
   "metadata": {},
   "source": [
    "## Spatially joining diversions with reservoirs and river withdrawals"
   ]
  },
  {
   "cell_type": "code",
   "execution_count": null,
   "metadata": {},
   "outputs": [],
   "source": [
    "diversions = gpd.sjoin(diversion, reservoirs, how='inner', op='intersects')\n",
    "diversions.drop(columns=['index_right'], inplace=True)\n",
    "diversions.rename(columns={'type_right': 'type_supply'}, inplace=True)\n",
    "diversions = gpd.sjoin(diversions, river_withdrawals, how='inner', op='intersects')\n",
    "diversions.drop(columns=['index_right'], inplace=True)\n",
    "diversions.rename(columns={'point_left': 'Supply point', 'point_right': 'Demand point',\n",
    "                           'type_left': 'type', 'type': 'type_demand'}, inplace=True)"
   ]
  },
  {
   "cell_type": "markdown",
   "metadata": {},
   "source": [
    "## Sampling elevation data"
   ]
  },
  {
   "cell_type": "code",
   "execution_count": null,
   "metadata": {},
   "outputs": [],
   "source": [
    "dff1 = river_withdrawals.loc[river_withdrawals.point.isin(diversions['Demand point'])].copy()\n",
    "dff1['diversion'] = dff1.point.map(diversions.set_index('Demand point').diversion)\n",
    "dff1['elevation'] = wp.sample_raster(dem_path, dff1)"
   ]
  },
  {
   "cell_type": "code",
   "execution_count": null,
   "metadata": {},
   "outputs": [],
   "source": [
    "dff2 = reservoirs.loc[reservoirs.point.isin(diversions['Supply point'])].copy()\n",
    "dff2['diversion'] = dff2.point.map(diversions.groupby('Supply point').agg({'diversion': 'first'})['diversion'])\n",
    "dff2['elevation'] = wp.sample_raster(dem_path, dff2)\n",
    "MerchidSudMoroc = 26192\n",
    "dff2.crs = 4326\n",
    "dff2.to_crs(f'epsg:{MerchidSudMoroc}', inplace=True)"
   ]
  },
  {
   "cell_type": "markdown",
   "metadata": {},
   "source": [
    "## Calculating pipelines distance"
   ]
  },
  {
   "cell_type": "code",
   "execution_count": null,
   "metadata": {},
   "outputs": [],
   "source": [
    "dff1.crs = 4326\n",
    "dff1.to_crs(f'epsg:{MerchidSudMoroc}', inplace=True)\n",
    "dff1.set_index('diversion', inplace=True)\n",
    "dff1['distance'] = dff1.distance(dff2.set_index('diversion')).copy()"
   ]
  },
  {
   "cell_type": "markdown",
   "metadata": {},
   "source": [
    "## Calculating elevation defference"
   ]
  },
  {
   "cell_type": "code",
   "execution_count": null,
   "metadata": {},
   "outputs": [],
   "source": [
    "diversions['distance'] = diversions['Demand point'].map(dff1.set_index('point')['distance'])\n",
    "diversions['elevation_diff'] = diversions['Demand point'].map(dff1.set_index('point')['elevation']) - \\\n",
    "                               diversions['Supply point'].map(dff2.set_index('point')['elevation'])"
   ]
  },
  {
   "cell_type": "code",
   "execution_count": null,
   "metadata": {},
   "outputs": [],
   "source": [
    "all_points = supply_links.append(demand_links, sort=False, ignore_index=True)\n",
    "all_points.drop_duplicates(subset=\"point\", inplace=True)"
   ]
  },
  {
   "cell_type": "markdown",
   "metadata": {},
   "source": [
    "## Saving the processed layers"
   ]
  },
  {
   "cell_type": "code",
   "execution_count": null,
   "metadata": {},
   "outputs": [],
   "source": [
    "output_folder = os.path.join('data', 'gis', 'processed layers')\n",
    "os.makedirs(output_folder, exist_ok = True)\n",
    "\n",
    "demand_links.to_file(os.path.join(output_folder, 'demand_points.gpkg'), driver=\"GPKG\", OVERWRITE='YES')\n",
    "supply_links.to_file(os.path.join(output_folder, 'supply_points.gpkg'), driver=\"GPKG\", OVERWRITE='YES')\n",
    "wwtp.to_file(os.path.join(output_folder, 'wwtp.gpkg'), driver=\"GPKG\", OVERWRITE='YES')\n",
    "diversions.to_file(os.path.join(output_folder, 'pipelines.gpkg'), driver=\"GPKG\", OVERWRITE='YES')\n",
    "groundwater.to_file(os.path.join(output_folder, 'groundwater.gpkg'), driver=\"GPKG\", OVERWRITE='YES')\n",
    "all_points.to_file(os.path.join(output_folder, 'all_points.gpkg'), driver=\"GPKG\", OVERWRITE='YES')"
   ]
  }
 ],
 "metadata": {
  "kernelspec": {
   "display_name": "Python 3",
   "language": "python",
   "name": "python3"
  },
  "language_info": {
   "codemirror_mode": {
    "name": "ipython",
    "version": 3
   },
   "file_extension": ".py",
   "mimetype": "text/x-python",
   "name": "python",
   "nbconvert_exporter": "python",
   "pygments_lexer": "ipython3",
   "version": "3.8.5"
  }
 },
 "nbformat": 4,
 "nbformat_minor": 2
}
