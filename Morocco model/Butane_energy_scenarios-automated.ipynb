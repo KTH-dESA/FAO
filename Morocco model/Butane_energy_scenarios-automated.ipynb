{
 "cells": [
  {
   "cell_type": "markdown",
   "metadata": {},
   "source": [
    "# NEXUS tool: case study for the Souss-Massa basin - energy demand calculations\n",
    "In this notebook a case study for the Souss-Massa basin is covered using the `nexus_tool` package. The water requirements for agricultural irrigation, residential, industrial and tourism use were previously calculated using the Water Evaluation and Planning System (WEAP) model. In this case study, the energy requirements for groundwater pumping, wastewater treatment, desalination of seawater and pumping for water conveyance are estimated.\n",
    "\n",
    "First import the package by running the following block:"
   ]
  },
  {
   "cell_type": "code",
   "execution_count": 3,
   "metadata": {},
   "outputs": [],
   "source": [
    "%load_ext autoreload"
   ]
  },
  {
   "cell_type": "code",
   "execution_count": 4,
   "metadata": {},
   "outputs": [],
   "source": [
    "%autoreload\n",
    "import sys\n",
    "sys.path.append(\"..\") #this is to add the above folder to the package directory\n",
    "import os\n",
    "import nexus_tool\n",
    "from nexus_tool.weap_tools import create_folder\n",
    "from nexus_tool.weap_tools import create_learning_curve\n",
    "#import matplotlib.pyplot as plt\n",
    "import pandas as pd\n",
    "import numpy as np\n",
    "# from pandas.plotting import register_matplotlib_converters\n",
    "import plotly.express as px\n",
    "# register_matplotlib_converters()\n",
    "from functools import reduce"
   ]
  },
  {
   "cell_type": "markdown",
   "metadata": {},
   "source": [
    "## Reading the input files\n",
    "\n"
   ]
  },
  {
   "cell_type": "code",
   "execution_count": 5,
   "metadata": {},
   "outputs": [],
   "source": [
    " #Define the path to read the cropland and builtup are data and reads it in\n",
    "folder_path = os.path.join('Data')\n",
    "cropland_path = os.path.join(folder_path, 'Cropland and Builtarea', 'cropland.gz')\n",
    "cropland = nexus_tool.read_csv(cropland_path)\n",
    "weap = pd.read_csv(os.path.join('../Morocco dashboard','data', 'Desalination','Climate Change', 'results.gz'))\n",
    "weap.loc[weap['Province']=='Chtouka-Ait Baha', 'Province'] = 'Chtouka-Aït Baha'\n",
    "weap.loc[weap['Province']=='Inezgane-Ait Melloul', 'Province'] = 'Inezgane-Aït Melloul'\n",
    "weap.loc[weap['Province']=='Agadir-Ida-Ou-Tanane', 'Province'] = 'Agadir-Ida ou Tanane'\n",
    "\n",
    "#weap: the results of the enegy model based on weap demand nodes\n",
    "\n",
    "cropland = cropland.loc[cropland.Date.isin(weap.Date.unique())] #this should be the results dataframe\n"
   ]
  },
  {
   "cell_type": "code",
   "execution_count": 21,
   "metadata": {},
   "outputs": [],
   "source": [
    "summary_provinces_agri = weap.loc[weap['type'].str.contains('Agriculture')].groupby(['Province', 'Date'])[['sswd', 'pwd', 'swpa_e', 'swpp_e']].sum()\n",
    "temp_cropland_provinces = cropland[['province', 'Date']].copy()\n",
    "temp_cropland_provinces.loc[temp_cropland_provinces['province']=='Inezgane-Aït Melloul', 'province'] = 'Taroudannt'\n",
    "for feature in list(summary_provinces_agri):\n",
    "    cropland[feature] = temp_cropland_provinces.set_index(['province', 'Date']).index.map(summary_provinces_agri[feature]) * cropland['area_share']\n",
    "        "
   ]
  },
  {
   "cell_type": "code",
   "execution_count": 22,
   "metadata": {},
   "outputs": [],
   "source": [
    "cropland.rename(columns={'sswd':'water_demand(m3)',\n",
    "                'pwd':'peak_water(m3)',\n",
    "                'swpp_e':'peak_load(KW)',\n",
    "                'swpa_e':'energy_demand(KWh)'}, inplace=True)"
   ]
  },
  {
   "cell_type": "code",
   "execution_count": 23,
   "metadata": {},
   "outputs": [
    {
     "data": {
      "text/plain": [
       "Index(['Year', 'Demand point', 'province', 'area_m2', 'wtd', 'Month', 'srad',\n",
       "       'wind', 'Date', 'area_share', 'water_demand(m3)', 'peak_water(m3)',\n",
       "       'energy_demand(KWh)', 'peak_load(KW)'],\n",
       "      dtype='object')"
      ]
     },
     "execution_count": 23,
     "metadata": {},
     "output_type": "execute_result"
    }
   ],
   "source": [
    "cropland.columns"
   ]
  },
  {
   "cell_type": "code",
   "execution_count": 24,
   "metadata": {},
   "outputs": [
    {
     "data": {
      "text/plain": [
       "array(['Agadir-Ida ou Tanane', 'Chtouka-Aït Baha', 'Taroudannt', 'Tiznit',\n",
       "       'Inezgane-Aït Melloul'], dtype=object)"
      ]
     },
     "execution_count": 24,
     "metadata": {},
     "output_type": "execute_result"
    }
   ],
   "source": [
    "weap['Province'].unique()"
   ]
  },
  {
   "cell_type": "code",
   "execution_count": 25,
   "metadata": {},
   "outputs": [
    {
     "data": {
      "text/plain": [
       "array(['Agadir-Ida ou Tanane', 'Chtouka-Aït Baha', 'Inezgane-Aït Melloul',\n",
       "       'Taroudannt', 'Tiznit'], dtype=object)"
      ]
     },
     "execution_count": 25,
     "metadata": {},
     "output_type": "execute_result"
    }
   ],
   "source": [
    "cropland['province'].unique()"
   ]
  },
  {
   "cell_type": "markdown",
   "metadata": {},
   "source": [
    "## Running Scenarios: \n",
    "### This analysis will consider three phase out scenarios for Butane as follows: \n",
    "1. Business as usual scebaruio (bau): which assumes the current share of butane use to continue into the future\n",
    "2. Late Phase out (late_po): which assumes compelte phase out of butane by 2040.\n",
    "3. Early Phase out (early_po): which assumes compelte phase out of butane by 2030.\n",
    "\n",
    "For all the three main scenarios, we will explore two levels of PV share in the region.\n",
    "\n",
    "a. Low PV Share (low_PV): which assumes the current level of PV share of 10% to continue in the future\n",
    "b. High PV Share (high_PV): whcih assumes an increase of PV share from 10% to 20% by 2040. "
   ]
  },
  {
   "cell_type": "code",
   "execution_count": 70,
   "metadata": {},
   "outputs": [
    {
     "name": "stdout",
     "output_type": "stream",
     "text": [
      "Wall time: 1min 22s\n"
     ]
    }
   ],
   "source": [
    "%%time\n",
    "butane_phaseout_scenarios = [None, 2040, 2030]\n",
    "pv_levels = [10, 20, 50]\n",
    "pv_year = 2040\n",
    "\n",
    "# scenarios = ['late_po']\n",
    "# pv_levels = ['high_PV']\n",
    "\n",
    "             \n",
    "# load_folder = os.path.join('Data','Butane_calculations')\n",
    "load_folder = os.path.join('test dash results','Butane_calculations')\n",
    "#results_folder = os.path.join('../Results', 'Butane_results')\n",
    "#os.makedirs(results_folder, exist_ok = True)\n",
    "for butane_phaseout in butane_phaseout_scenarios:\n",
    "    scenario_folder = os.path.join(load_folder, f'phaseout_{butane_phaseout}')\n",
    "    os.makedirs(scenario_folder, exist_ok = True)\n",
    "    for pv_level in pv_levels:\n",
    "        pv_folder = os.path.join(scenario_folder, f'{pv_level}_PV')\n",
    "        os.makedirs(pv_folder, exist_ok = True)\n",
    "        # Step1: Reading the input data file\n",
    "#         file_path = os.path.join(load_folder, 'cropland.csv')\n",
    "#         df = pd.read_csv(file_path)\n",
    "        df = cropland\n",
    "        \n",
    "        # Step2: Modeling Butane Phase out rate\n",
    "        def create_tech_dist(iyear, eyear, share1, rates, method, order=2):\n",
    "            tech_dist = pd.DataFrame({'Year': range(iyear, eyear+1)})\n",
    "            if method!='step':\n",
    "                for year, rate in rates.items():\n",
    "                    tech_dist.loc[tech_dist.Year==year, 'rate'] = rate\n",
    "                tech_dist['share'] = (1-tech_dist['rate']) * share1\n",
    "                tech_dist['share'] = tech_dist.share.interpolate(method=method, order=order)\n",
    "            else:\n",
    "                for year, rate in rates.items():\n",
    "                    tech_dist.loc[tech_dist.Year>=year, 'rate'] = rate\n",
    "                tech_dist['share'] = (1-tech_dist['rate']) * share1\n",
    "            return tech_dist.set_index('Year').share\n",
    "        \n",
    "                        \n",
    "#         butane_change ={'bau':0,'late_po':1,'early_po':1 }\n",
    "        if butane_phaseout:\n",
    "            butane_share = 1\n",
    "            year = butane_phaseout\n",
    "        else:\n",
    "            butane_share = 0\n",
    "            year = 2050\n",
    "                \n",
    "        \n",
    "# #         end_year ={'bau':2050,'late_po':2040,'early_po':2030 }\n",
    "#         year = end_year[scenario]\n",
    "        \n",
    "#         pv_year ={'bau':2040,'late_po':2040,'early_po':2040}\n",
    "        \n",
    "#         pv_change ={'low_PV':0, 'mid_PV':-1, 'high_PV':-4} #The negative sign means increase in share. \n",
    "#         pv_share = pv_change[pv_level]\n",
    "        pv_share = 1 - pv_level / 10\n",
    "                \n",
    "        butane_share1 = 0.2\n",
    "        pv_share1 = 0.1\n",
    "        df.start_year = 2020\n",
    "        df.end_year = year\n",
    "#         pv_year = pv_year[scenario]\n",
    "        df.mid_year = ((df.start_year+df.end_year)/2)\n",
    "        bt_rates = {df.start_year: 0, df.mid_year: butane_share*0.5, df.end_year: butane_share}\n",
    "        pv_rates = {df.start_year: 0, 2030: pv_share*0.5, pv_year: pv_share, 2050: pv_share*1.2}\n",
    "        butane_dist = create_tech_dist(df.start_year, df.end_year, butane_share1, bt_rates, 'polynomial')\n",
    "        pv_dist = create_tech_dist(df.start_year, pv_year, pv_share1, pv_rates, 'polynomial')\n",
    "\n",
    "        #Step3: PV learning curve and crop in PV CAPEX\n",
    "        def create_learning_curve(iyear, eyear, cc, rates, method, order=2):\n",
    "            learning_curve = pd.DataFrame({'Year': range(iyear, eyear+1)})\n",
    "            if method!='step':\n",
    "                for year, rate in rates.items():\n",
    "                    learning_curve.loc[learning_curve.Year==year, 'rate'] = rate\n",
    "                learning_curve['capital_cost'] = (1-learning_curve['rate']) * cc\n",
    "                learning_curve['capital_cost'] = learning_curve.capital_cost.interpolate(method=method, order=order)\n",
    "            else:\n",
    "                for year, rate in rates.items():\n",
    "                    learning_curve.loc[learning_curve.Year>=year, 'rate'] = rate\n",
    "                learning_curve['capital_cost'] = (1-learning_curve['rate']) * cc\n",
    "            return learning_curve.set_index('Year').capital_cost\n",
    "        \n",
    "        pv_rate = 0.4 #Assuming 40% drop in PV capex by 2040.\n",
    "        cc = 7 #\n",
    "        #pv_cf = 0.25\n",
    "        pv_life=15\n",
    "        df.start_year=2020\n",
    "        df.end_year= 2050\n",
    "        #capital_cost = 1000\n",
    "        rates = {2020: 0, 2030: pv_rate*0.3, 2040: pv_rate, 2050: pv_rate*1.3}\n",
    "        cc_solar_curve = create_learning_curve(df.start_year, df.end_year, cc, rates, 'polynomial')\n",
    "        om_cost=0.01 \n",
    "        efficiency=1\n",
    "        \n",
    "        dist = pd.DataFrame({'butane_share':pd.Series(butane_dist),\n",
    "                   'pv_share':pd.Series(pv_dist),\n",
    "                   'pv_cc':pd.Series(cc_solar_curve)})\n",
    "        \n",
    "        dist['butane_share'].fillna(method='ffill',inplace=True) #This method fills any missing data with the previous value.\n",
    "        dist['pv_share'].fillna(method='ffill',inplace=True)\n",
    "        dist['pv_cc'].fillna(method='ffill',inplace=True)\n",
    "        dist['grid_share']= 1-(dist['pv_share']+dist['butane_share'])\n",
    "        \n",
    "        \n",
    "        souss_massa = pd.merge(df, dist, on='Year')\n",
    "        \n",
    "        butane_req = 1/12.58 # LHV = 12.58 KWh/Kg (amount of butane (kg) required to produce 1 KWh) \n",
    "        butane_em = 6.67 #kg CO\"/Gallon\n",
    "        gallon2liter = 3.78541 #l/Gallon\n",
    "        butane_density = 573 #kg/m3\n",
    "        butane_ef = butane_em / (gallon2liter/1000 * butane_density) #kgCO2/kg\n",
    "        butane_em_fac = butane_ef * 1000 ##kgCO2/ton\n",
    "#         butane_em_fac = 3079.5\n",
    "        bpump_eff = 0.2 #efficiency of butane \n",
    "        epump_eff = 0.45 #assumption\n",
    "        conv_fac = 1000000000 # to convert emissions from kgCO2 to Million meteric tons of CO2 MtCO2\n",
    "\n",
    "        souss_massa['pv_load(KW)'] = souss_massa['peak_load(KW)']*souss_massa['pv_share']\n",
    "        souss_massa['pv_demand(KWh)'] = souss_massa['energy_demand(KWh)']*souss_massa['pv_share']\n",
    "        souss_massa['butane_demand(KWh)'] = souss_massa['energy_demand(KWh)']*souss_massa['butane_share']\n",
    "        souss_massa['grid_demand(KWh)'] = souss_massa['energy_demand(KWh)']*souss_massa['grid_share']\n",
    "\n",
    "\n",
    "        souss_massa['pv_elec(KWh)'] = souss_massa['pv_demand(KWh)']/epump_eff\n",
    "        souss_massa['grid_elec(KWh)'] = souss_massa['grid_demand(KWh)']/epump_eff\n",
    "\n",
    "        souss_massa['butane_cons(kg)'] = (souss_massa['butane_demand(KWh)']*butane_req)/bpump_eff\n",
    "        souss_massa['butane_cons(tonnes)'] = souss_massa['butane_cons(kg)']/1000\n",
    "        souss_massa['butane_emissions(MtCO2)'] = souss_massa['butane_cons(tonnes)'] * butane_em_fac/conv_fac\n",
    "\n",
    "        souss_massa['butane_FARcost(mMAD)'] = (souss_massa['butane_cons(kg)']*(40/12))/1000000 #in million MAD, this is what farmers pay\n",
    "        souss_massa['butane_ACTcost(mMAD)'] = (souss_massa['butane_cons(kg)']*(120/12))/1000000 #in million MAD, this is what farmers pay\n",
    "        souss_massa['butane_SUBSIDY(mMAD)'] = (souss_massa['butane_cons(kg)']*(80/12))/1000000 #in million MAD, this is the total subsidy cost\n",
    "\n",
    "        \n",
    "        # Estimating the electriicty from the grid and emissions\n",
    "        grid_em_fac = 0.7 #kgco2/kwh  , This is based on data from IEA, Morocco 2019 \n",
    "        grid_cost = 0.57 # MAD/KWh, Assumption and to be updated \n",
    "\n",
    "        #scenario1['grid_elec (kwh)'] = scenario1['grid_demand_kwh']/epump_eff #already calculated above\n",
    "        souss_massa['grid_emissions(MtCO2)'] = souss_massa['grid_elec(KWh)']*grid_em_fac/conv_fac\n",
    "        souss_massa['grid_cost(mMAD)'] = (souss_massa['grid_elec(KWh)']*grid_cost)/1000000\n",
    "        souss_massa['Total_emissions(MtCO2)'] = (souss_massa['grid_emissions(MtCO2)'] + souss_massa['butane_emissions(MtCO2)'])\n",
    "\n",
    "        # Estimating the required monthly capacity of pv NOTE: 1 kWh = 3600 kJ\n",
    "\n",
    "        souss_massa['cf'] = souss_massa['srad'] / (24*60*60) #This will give the cf in solar rad: (kJ/(m2.day))*30.day/month*1h/(24h*60m*60s) =kWh/(m2.month)*30/(60*60)\n",
    "        souss_massa['cap_m(MW)'] = souss_massa['pv_load(KW)'] / souss_massa['cf']/1000   #to convert to MW, check the units\n",
    "        \n",
    "        souss_massa1 = souss_massa.groupby(['Demand point','Year', 'province', 'area_m2'])[['water_demand(m3)','energy_demand(KWh)', \n",
    "                                                                                 'pv_elec(KWh)', 'grid_elec(KWh)',\n",
    "                                                                                 'butane_cons(tonnes)', 'butane_FARcost(mMAD)', \n",
    "                                                                                 'butane_ACTcost(mMAD)','butane_SUBSIDY(mMAD)',\n",
    "                                                                                 'butane_emissions(MtCO2)','grid_emissions(MtCO2)',\n",
    "                                                                                 'Total_emissions(MtCO2)','grid_cost(mMAD)',\n",
    "                                                                                 'pv_demand(KWh)', 'butane_demand(KWh)', 'grid_demand(KWh)']].sum()\n",
    "\n",
    "        #souss_massa1['Province'] = (souss_massa.groupby(['Demand point','Year'])['province'])\n",
    "        souss_massa1['GWdepth'] = (souss_massa.groupby(['Demand point','Year'])['wtd'].mean())\n",
    "        souss_massa1['srad'] = (souss_massa.groupby(['Demand point','Year'])['srad'].mean())\n",
    "        souss_massa1['wind'] = (souss_massa.groupby(['Demand point','Year'])['wind'].mean())\n",
    "        souss_massa1['cap_m(MW)'] = (souss_massa.groupby(['Demand point','Year'])['cap_m(MW)'].mean())\n",
    "        souss_massa1['cap_a(MW)'] = (souss_massa.groupby(['Demand point','Year'])['cap_m(MW)'].max())\n",
    "        souss_massa1['pv_cc'] = (souss_massa.groupby(['Demand point','Year'])['pv_cc'].mean())\n",
    "\n",
    "        souss_massa1.reset_index(inplace=True)\n",
    "        souss_massa1.loc[souss_massa1['Year']==2020, 'PV_new_cap(MW)'] = souss_massa1['cap_a(MW)']\n",
    "        souss_massa1.loc[souss_massa1['Year']!=2020, 'PV_new_cap(MW)'] = souss_massa1['cap_a(MW)'] - souss_massa1['cap_a(MW)'].shift(1)\n",
    "        souss_massa1.loc[souss_massa1['PV_new_cap(MW)']<0, 'PV_new_cap(MW)'] =0\n",
    "        \n",
    "        #PV reinvestment calculations\n",
    "#         souss_massa2 = pd.DataFrame()\n",
    "#         for index, group in souss_massa1.groupby(['Demand point']):\n",
    "#             dff = group.copy()\n",
    "#             dff['reinv_cap(MW)'] = dff['PV_new_cap(MW)'].shift(pv_life).fillna(0)\n",
    "#             souss_massa2 = souss_massa2.append(dff, ignore_index=True)\n",
    "            \n",
    "#             souss_massa2['PV_Capex(mMAD)']=(souss_massa2['PV_new_cap(MW)']+souss_massa2['reinv_cap(MW)'])*souss_massa2['pv_cc']\n",
    "#             souss_massa2['PV_Opex(mMAD)']=(souss_massa2['PV_Capex(mMAD)']*om_cost)\n",
    "        \n",
    "        souss_massa1['reinv_cap(MW)'] = souss_massa1['PV_new_cap(MW)'].shift(pv_life).fillna(0)\n",
    "        souss_massa1.loc[souss_massa1['Year']<(2020+pv_life), 'reinv_cap(MW)'] = 0\n",
    "        souss_massa1['PV_Capex(mMAD)']=(souss_massa1['PV_new_cap(MW)']+souss_massa1['reinv_cap(MW)'])*souss_massa1['pv_cc']\n",
    "        souss_massa1['PV_Opex(mMAD)']=(souss_massa1['PV_Capex(mMAD)']*om_cost)\n",
    "\n",
    "        souss_massa1_summary = souss_massa1.groupby(['Year'])[['water_demand(m3)','energy_demand(KWh)', 'cap_a(MW)', 'pv_elec(KWh)', \n",
    "                                                               'grid_elec(KWh)','butane_cons(tonnes)', 'butane_FARcost(mMAD)',\n",
    "                                                               'PV_new_cap(MW)','reinv_cap(MW)', 'butane_emissions(MtCO2)',\n",
    "                                                               'grid_emissions(MtCO2)','Total_emissions(MtCO2)',\n",
    "                                                               'butane_SUBSIDY(mMAD)','grid_cost(mMAD)','PV_Capex(mMAD)',\n",
    "                                                               'pv_demand(KWh)', 'butane_demand(KWh)', 'grid_demand(KWh)']].sum()\n",
    "\n",
    "        # Step: Saving Results\n",
    "        output_folder = os.path.join(pv_folder)\n",
    "        os.makedirs(output_folder, exist_ok = True)\n",
    "#         souss_massa1.to_csv(os.path.join(output_folder, 'results.csv'), index=False)\n",
    "        souss_massa1_summary.to_csv(os.path.join(output_folder, 'summary_results.gz'))"
   ]
  },
  {
   "cell_type": "code",
   "execution_count": 87,
   "metadata": {},
   "outputs": [
    {
     "data": {
      "text/plain": [
       "Index(['Demand point', 'Year', 'province', 'area_m2', 'water_demand(m3)',\n",
       "       'energy_demand(KWh)', 'pv_elec(KWh)', 'grid_elec(KWh)',\n",
       "       'butane_cons(tonnes)', 'butane_FARcost(mMAD)', 'butane_ACTcost(mMAD)',\n",
       "       'butane_SUBSIDY(mMAD)', 'butane_emissions(MtCO2)',\n",
       "       'grid_emissions(MtCO2)', 'Total_emissions(MtCO2)', 'grid_cost(mMAD)',\n",
       "       'pv_demand(KWh)', 'butane_demand(KWh)', 'grid_demand(KWh)', 'GWdepth',\n",
       "       'srad', 'wind', 'cap_m(MW)', 'cap_a(MW)', 'pv_cc', 'PV_new_cap(MW)',\n",
       "       'reinv_cap(MW)', 'PV_Capex(mMAD)', 'PV_Opex(mMAD)'],\n",
       "      dtype='object')"
      ]
     },
     "execution_count": 87,
     "metadata": {},
     "output_type": "execute_result"
    }
   ],
   "source": [
    "souss_massa1.columns"
   ]
  },
  {
   "cell_type": "markdown",
   "metadata": {},
   "source": [
    "## Comparing scenarios"
   ]
  },
  {
   "cell_type": "code",
   "execution_count": 1,
   "metadata": {},
   "outputs": [],
   "source": [
    "import pandas as pd\n",
    "import os\n",
    "\n",
    "# Reading results files\n",
    "bau_folder = os.path.join('test dash results', 'Butane_calculations', 'phaseout_None')\n",
    "late_folder = os.path.join('test dash results', 'Butane_calculations', 'phaseout_2040')\n",
    "early_folder = os.path.join('test dash results', 'Butane_calculations', 'phaseout_2030')\n",
    "\n",
    "bau1 = pd.read_csv(os.path.join(bau_folder, '10_PV', 'summary_results.gz'))\n",
    "# bau = bau.add_prefix('bau_')\n",
    "bau1['butane_phaseout'] = 'None'\n",
    "bau1['pv_adoption'] = '10%'\n",
    "bau2 = pd.read_csv(os.path.join(bau_folder, '20_PV', 'summary_results.gz'))\n",
    "bau2['butane_phaseout'] = 'None'\n",
    "bau2['pv_adoption'] = '20%'\n",
    "bau3 = pd.read_csv(os.path.join(bau_folder, '50_PV', 'summary_results.gz'))\n",
    "bau3['butane_phaseout'] = 'None'\n",
    "bau3['pv_adoption'] = '50%'\n",
    "\n",
    "\n",
    "latePV10 = pd.read_csv(os.path.join(late_folder, '10_PV', 'summary_results.gz'))\n",
    "# latePV10 = latePV10.add_prefix('LP1_')\n",
    "latePV10['butane_phaseout'] = 'by 2040'\n",
    "latePV10['pv_adoption'] = '10%'\n",
    "latePV20 = pd.read_csv(os.path.join(late_folder, '20_PV', 'summary_results.gz'))\n",
    "# latePV20 = latePV20.add_prefix('LP2_')\n",
    "latePV20['butane_phaseout'] = 'by 2040'\n",
    "latePV20['pv_adoption'] = '20%'\n",
    "latePV40 = pd.read_csv(os.path.join(late_folder, '50_PV', 'summary_results.gz'))\n",
    "# latePV20 = latePV20.add_prefix('LP2_')\n",
    "latePV40['butane_phaseout'] = 'by 2040'\n",
    "latePV40['pv_adoption'] = '50%'\n",
    "\n",
    "\n",
    "earlyPV10 = pd.read_csv(os.path.join(early_folder, '10_PV', 'summary_results.gz'))\n",
    "# earlyPV10 = earlyPV10.add_prefix('EP1_')\n",
    "earlyPV10['butane_phaseout'] = 'by 2030'\n",
    "earlyPV10['pv_adoption'] = '10%'\n",
    "earlyPV20 = pd.read_csv(os.path.join(early_folder, '20_PV', 'summary_results.gz'))\n",
    "# earlyPV20 = earlyPV20.add_prefix('EP2_')\n",
    "earlyPV20['butane_phaseout'] = 'by 2030'\n",
    "earlyPV20['pv_adoption'] = '20%'\n",
    "earlyPV40 = pd.read_csv(os.path.join(early_folder, '50_PV', 'summary_results.gz'))\n",
    "# earlyPV20 = earlyPV20.add_prefix('EP2_')\n",
    "earlyPV40['butane_phaseout'] = 'by 2030'\n",
    "earlyPV40['pv_adoption'] = '50%'"
   ]
  },
  {
   "cell_type": "code",
   "execution_count": 2,
   "metadata": {},
   "outputs": [],
   "source": [
    "import plotly.express as px"
   ]
  },
  {
   "cell_type": "code",
   "execution_count": 3,
   "metadata": {},
   "outputs": [
    {
     "data": {
      "text/plain": [
       "Index(['Year', 'water_demand(m3)', 'energy_demand(KWh)', 'cap_a(MW)',\n",
       "       'pv_elec(KWh)', 'grid_elec(KWh)', 'butane_cons(tonnes)',\n",
       "       'butane_FARcost(mMAD)', 'PV_new_cap(MW)', 'reinv_cap(MW)',\n",
       "       'butane_emissions(MtCO2)', 'grid_emissions(MtCO2)',\n",
       "       'Total_emissions(MtCO2)', 'butane_SUBSIDY(mMAD)', 'grid_cost(mMAD)',\n",
       "       'PV_Capex(mMAD)', 'pv_demand(KWh)', 'butane_demand(KWh)',\n",
       "       'grid_demand(KWh)', 'butane_phaseout', 'pv_adoption'],\n",
       "      dtype='object')"
      ]
     },
     "execution_count": 3,
     "metadata": {},
     "output_type": "execute_result"
    }
   ],
   "source": [
    "bau1.columns"
   ]
  },
  {
   "cell_type": "code",
   "execution_count": 5,
   "metadata": {},
   "outputs": [
    {
     "data": {
      "application/vnd.plotly.v1+json": {
       "config": {
        "plotlyServerURL": "https://plot.ly"
       },
       "data": [
        {
         "alignmentgroup": "True",
         "hovertemplate": "Year=%{x}<br>PV new capacity (MW)=%{y}<extra></extra>",
         "legendgroup": "",
         "marker": {
          "color": "#636efa"
         },
         "name": "",
         "offsetgroup": "",
         "orientation": "v",
         "showlegend": false,
         "textposition": "auto",
         "type": "bar",
         "x": [
          2021,
          2022,
          2023,
          2024,
          2025,
          2026,
          2027,
          2028,
          2029,
          2030,
          2031,
          2032,
          2033,
          2034,
          2035,
          2036,
          2037,
          2038,
          2039,
          2040,
          2041,
          2042,
          2043,
          2044,
          2045,
          2046,
          2047,
          2048,
          2049,
          2050
         ],
         "xaxis": "x",
         "y": [
          5.279406327168561,
          1.9066219714470087,
          1.2463206981924315,
          1.4637840558885542,
          5.6641330946391415,
          0.07286261535760792,
          2.135724937919067,
          10.009990846871377,
          8.98809154807868,
          27.343437575368814,
          0.07739616623879916,
          0.04386524918372951,
          17.52470655345845,
          0.024472932806217325,
          0.06442674204170917,
          16.15909802635932,
          9.785245189950446,
          1.207136825063669,
          1.2875938339699646,
          0.8951479690196936,
          0.0561957934331928,
          20.81021423214991,
          1.3224510556483535,
          0.3607490518066113,
          4.456649919170434,
          3.112140893131621,
          0.0474139680051904,
          0.051051900703078586,
          0.04951261941361275,
          19.046292941413736
         ],
         "yaxis": "y"
        }
       ],
       "layout": {
        "barmode": "relative",
        "legend": {
         "tracegroupgap": 0
        },
        "template": {
         "data": {
          "bar": [
           {
            "error_x": {
             "color": "#2a3f5f"
            },
            "error_y": {
             "color": "#2a3f5f"
            },
            "marker": {
             "line": {
              "color": "#E5ECF6",
              "width": 0.5
             }
            },
            "type": "bar"
           }
          ],
          "barpolar": [
           {
            "marker": {
             "line": {
              "color": "#E5ECF6",
              "width": 0.5
             }
            },
            "type": "barpolar"
           }
          ],
          "carpet": [
           {
            "aaxis": {
             "endlinecolor": "#2a3f5f",
             "gridcolor": "white",
             "linecolor": "white",
             "minorgridcolor": "white",
             "startlinecolor": "#2a3f5f"
            },
            "baxis": {
             "endlinecolor": "#2a3f5f",
             "gridcolor": "white",
             "linecolor": "white",
             "minorgridcolor": "white",
             "startlinecolor": "#2a3f5f"
            },
            "type": "carpet"
           }
          ],
          "choropleth": [
           {
            "colorbar": {
             "outlinewidth": 0,
             "ticks": ""
            },
            "type": "choropleth"
           }
          ],
          "contour": [
           {
            "colorbar": {
             "outlinewidth": 0,
             "ticks": ""
            },
            "colorscale": [
             [
              0,
              "#0d0887"
             ],
             [
              0.1111111111111111,
              "#46039f"
             ],
             [
              0.2222222222222222,
              "#7201a8"
             ],
             [
              0.3333333333333333,
              "#9c179e"
             ],
             [
              0.4444444444444444,
              "#bd3786"
             ],
             [
              0.5555555555555556,
              "#d8576b"
             ],
             [
              0.6666666666666666,
              "#ed7953"
             ],
             [
              0.7777777777777778,
              "#fb9f3a"
             ],
             [
              0.8888888888888888,
              "#fdca26"
             ],
             [
              1,
              "#f0f921"
             ]
            ],
            "type": "contour"
           }
          ],
          "contourcarpet": [
           {
            "colorbar": {
             "outlinewidth": 0,
             "ticks": ""
            },
            "type": "contourcarpet"
           }
          ],
          "heatmap": [
           {
            "colorbar": {
             "outlinewidth": 0,
             "ticks": ""
            },
            "colorscale": [
             [
              0,
              "#0d0887"
             ],
             [
              0.1111111111111111,
              "#46039f"
             ],
             [
              0.2222222222222222,
              "#7201a8"
             ],
             [
              0.3333333333333333,
              "#9c179e"
             ],
             [
              0.4444444444444444,
              "#bd3786"
             ],
             [
              0.5555555555555556,
              "#d8576b"
             ],
             [
              0.6666666666666666,
              "#ed7953"
             ],
             [
              0.7777777777777778,
              "#fb9f3a"
             ],
             [
              0.8888888888888888,
              "#fdca26"
             ],
             [
              1,
              "#f0f921"
             ]
            ],
            "type": "heatmap"
           }
          ],
          "heatmapgl": [
           {
            "colorbar": {
             "outlinewidth": 0,
             "ticks": ""
            },
            "colorscale": [
             [
              0,
              "#0d0887"
             ],
             [
              0.1111111111111111,
              "#46039f"
             ],
             [
              0.2222222222222222,
              "#7201a8"
             ],
             [
              0.3333333333333333,
              "#9c179e"
             ],
             [
              0.4444444444444444,
              "#bd3786"
             ],
             [
              0.5555555555555556,
              "#d8576b"
             ],
             [
              0.6666666666666666,
              "#ed7953"
             ],
             [
              0.7777777777777778,
              "#fb9f3a"
             ],
             [
              0.8888888888888888,
              "#fdca26"
             ],
             [
              1,
              "#f0f921"
             ]
            ],
            "type": "heatmapgl"
           }
          ],
          "histogram": [
           {
            "marker": {
             "colorbar": {
              "outlinewidth": 0,
              "ticks": ""
             }
            },
            "type": "histogram"
           }
          ],
          "histogram2d": [
           {
            "colorbar": {
             "outlinewidth": 0,
             "ticks": ""
            },
            "colorscale": [
             [
              0,
              "#0d0887"
             ],
             [
              0.1111111111111111,
              "#46039f"
             ],
             [
              0.2222222222222222,
              "#7201a8"
             ],
             [
              0.3333333333333333,
              "#9c179e"
             ],
             [
              0.4444444444444444,
              "#bd3786"
             ],
             [
              0.5555555555555556,
              "#d8576b"
             ],
             [
              0.6666666666666666,
              "#ed7953"
             ],
             [
              0.7777777777777778,
              "#fb9f3a"
             ],
             [
              0.8888888888888888,
              "#fdca26"
             ],
             [
              1,
              "#f0f921"
             ]
            ],
            "type": "histogram2d"
           }
          ],
          "histogram2dcontour": [
           {
            "colorbar": {
             "outlinewidth": 0,
             "ticks": ""
            },
            "colorscale": [
             [
              0,
              "#0d0887"
             ],
             [
              0.1111111111111111,
              "#46039f"
             ],
             [
              0.2222222222222222,
              "#7201a8"
             ],
             [
              0.3333333333333333,
              "#9c179e"
             ],
             [
              0.4444444444444444,
              "#bd3786"
             ],
             [
              0.5555555555555556,
              "#d8576b"
             ],
             [
              0.6666666666666666,
              "#ed7953"
             ],
             [
              0.7777777777777778,
              "#fb9f3a"
             ],
             [
              0.8888888888888888,
              "#fdca26"
             ],
             [
              1,
              "#f0f921"
             ]
            ],
            "type": "histogram2dcontour"
           }
          ],
          "mesh3d": [
           {
            "colorbar": {
             "outlinewidth": 0,
             "ticks": ""
            },
            "type": "mesh3d"
           }
          ],
          "parcoords": [
           {
            "line": {
             "colorbar": {
              "outlinewidth": 0,
              "ticks": ""
             }
            },
            "type": "parcoords"
           }
          ],
          "pie": [
           {
            "automargin": true,
            "type": "pie"
           }
          ],
          "scatter": [
           {
            "marker": {
             "colorbar": {
              "outlinewidth": 0,
              "ticks": ""
             }
            },
            "type": "scatter"
           }
          ],
          "scatter3d": [
           {
            "line": {
             "colorbar": {
              "outlinewidth": 0,
              "ticks": ""
             }
            },
            "marker": {
             "colorbar": {
              "outlinewidth": 0,
              "ticks": ""
             }
            },
            "type": "scatter3d"
           }
          ],
          "scattercarpet": [
           {
            "marker": {
             "colorbar": {
              "outlinewidth": 0,
              "ticks": ""
             }
            },
            "type": "scattercarpet"
           }
          ],
          "scattergeo": [
           {
            "marker": {
             "colorbar": {
              "outlinewidth": 0,
              "ticks": ""
             }
            },
            "type": "scattergeo"
           }
          ],
          "scattergl": [
           {
            "marker": {
             "colorbar": {
              "outlinewidth": 0,
              "ticks": ""
             }
            },
            "type": "scattergl"
           }
          ],
          "scattermapbox": [
           {
            "marker": {
             "colorbar": {
              "outlinewidth": 0,
              "ticks": ""
             }
            },
            "type": "scattermapbox"
           }
          ],
          "scatterpolar": [
           {
            "marker": {
             "colorbar": {
              "outlinewidth": 0,
              "ticks": ""
             }
            },
            "type": "scatterpolar"
           }
          ],
          "scatterpolargl": [
           {
            "marker": {
             "colorbar": {
              "outlinewidth": 0,
              "ticks": ""
             }
            },
            "type": "scatterpolargl"
           }
          ],
          "scatterternary": [
           {
            "marker": {
             "colorbar": {
              "outlinewidth": 0,
              "ticks": ""
             }
            },
            "type": "scatterternary"
           }
          ],
          "surface": [
           {
            "colorbar": {
             "outlinewidth": 0,
             "ticks": ""
            },
            "colorscale": [
             [
              0,
              "#0d0887"
             ],
             [
              0.1111111111111111,
              "#46039f"
             ],
             [
              0.2222222222222222,
              "#7201a8"
             ],
             [
              0.3333333333333333,
              "#9c179e"
             ],
             [
              0.4444444444444444,
              "#bd3786"
             ],
             [
              0.5555555555555556,
              "#d8576b"
             ],
             [
              0.6666666666666666,
              "#ed7953"
             ],
             [
              0.7777777777777778,
              "#fb9f3a"
             ],
             [
              0.8888888888888888,
              "#fdca26"
             ],
             [
              1,
              "#f0f921"
             ]
            ],
            "type": "surface"
           }
          ],
          "table": [
           {
            "cells": {
             "fill": {
              "color": "#EBF0F8"
             },
             "line": {
              "color": "white"
             }
            },
            "header": {
             "fill": {
              "color": "#C8D4E3"
             },
             "line": {
              "color": "white"
             }
            },
            "type": "table"
           }
          ]
         },
         "layout": {
          "annotationdefaults": {
           "arrowcolor": "#2a3f5f",
           "arrowhead": 0,
           "arrowwidth": 1
          },
          "coloraxis": {
           "colorbar": {
            "outlinewidth": 0,
            "ticks": ""
           }
          },
          "colorscale": {
           "diverging": [
            [
             0,
             "#8e0152"
            ],
            [
             0.1,
             "#c51b7d"
            ],
            [
             0.2,
             "#de77ae"
            ],
            [
             0.3,
             "#f1b6da"
            ],
            [
             0.4,
             "#fde0ef"
            ],
            [
             0.5,
             "#f7f7f7"
            ],
            [
             0.6,
             "#e6f5d0"
            ],
            [
             0.7,
             "#b8e186"
            ],
            [
             0.8,
             "#7fbc41"
            ],
            [
             0.9,
             "#4d9221"
            ],
            [
             1,
             "#276419"
            ]
           ],
           "sequential": [
            [
             0,
             "#0d0887"
            ],
            [
             0.1111111111111111,
             "#46039f"
            ],
            [
             0.2222222222222222,
             "#7201a8"
            ],
            [
             0.3333333333333333,
             "#9c179e"
            ],
            [
             0.4444444444444444,
             "#bd3786"
            ],
            [
             0.5555555555555556,
             "#d8576b"
            ],
            [
             0.6666666666666666,
             "#ed7953"
            ],
            [
             0.7777777777777778,
             "#fb9f3a"
            ],
            [
             0.8888888888888888,
             "#fdca26"
            ],
            [
             1,
             "#f0f921"
            ]
           ],
           "sequentialminus": [
            [
             0,
             "#0d0887"
            ],
            [
             0.1111111111111111,
             "#46039f"
            ],
            [
             0.2222222222222222,
             "#7201a8"
            ],
            [
             0.3333333333333333,
             "#9c179e"
            ],
            [
             0.4444444444444444,
             "#bd3786"
            ],
            [
             0.5555555555555556,
             "#d8576b"
            ],
            [
             0.6666666666666666,
             "#ed7953"
            ],
            [
             0.7777777777777778,
             "#fb9f3a"
            ],
            [
             0.8888888888888888,
             "#fdca26"
            ],
            [
             1,
             "#f0f921"
            ]
           ]
          },
          "colorway": [
           "#636efa",
           "#EF553B",
           "#00cc96",
           "#ab63fa",
           "#FFA15A",
           "#19d3f3",
           "#FF6692",
           "#B6E880",
           "#FF97FF",
           "#FECB52"
          ],
          "font": {
           "color": "#2a3f5f"
          },
          "geo": {
           "bgcolor": "white",
           "lakecolor": "white",
           "landcolor": "#E5ECF6",
           "showlakes": true,
           "showland": true,
           "subunitcolor": "white"
          },
          "hoverlabel": {
           "align": "left"
          },
          "hovermode": "closest",
          "mapbox": {
           "style": "light"
          },
          "paper_bgcolor": "white",
          "plot_bgcolor": "#E5ECF6",
          "polar": {
           "angularaxis": {
            "gridcolor": "white",
            "linecolor": "white",
            "ticks": ""
           },
           "bgcolor": "#E5ECF6",
           "radialaxis": {
            "gridcolor": "white",
            "linecolor": "white",
            "ticks": ""
           }
          },
          "scene": {
           "xaxis": {
            "backgroundcolor": "#E5ECF6",
            "gridcolor": "white",
            "gridwidth": 2,
            "linecolor": "white",
            "showbackground": true,
            "ticks": "",
            "zerolinecolor": "white"
           },
           "yaxis": {
            "backgroundcolor": "#E5ECF6",
            "gridcolor": "white",
            "gridwidth": 2,
            "linecolor": "white",
            "showbackground": true,
            "ticks": "",
            "zerolinecolor": "white"
           },
           "zaxis": {
            "backgroundcolor": "#E5ECF6",
            "gridcolor": "white",
            "gridwidth": 2,
            "linecolor": "white",
            "showbackground": true,
            "ticks": "",
            "zerolinecolor": "white"
           }
          },
          "shapedefaults": {
           "line": {
            "color": "#2a3f5f"
           }
          },
          "ternary": {
           "aaxis": {
            "gridcolor": "white",
            "linecolor": "white",
            "ticks": ""
           },
           "baxis": {
            "gridcolor": "white",
            "linecolor": "white",
            "ticks": ""
           },
           "bgcolor": "#E5ECF6",
           "caxis": {
            "gridcolor": "white",
            "linecolor": "white",
            "ticks": ""
           }
          },
          "title": {
           "x": 0.05
          },
          "xaxis": {
           "automargin": true,
           "gridcolor": "white",
           "linecolor": "white",
           "ticks": "",
           "title": {
            "standoff": 15
           },
           "zerolinecolor": "white",
           "zerolinewidth": 2
          },
          "yaxis": {
           "automargin": true,
           "gridcolor": "white",
           "linecolor": "white",
           "ticks": "",
           "title": {
            "standoff": 15
           },
           "zerolinecolor": "white",
           "zerolinewidth": 2
          }
         }
        },
        "title": {
         "text": "PV new installed capacity (MW)"
        },
        "xaxis": {
         "anchor": "y",
         "domain": [
          0,
          1
         ],
         "title": {
          "text": "Year"
         }
        },
        "yaxis": {
         "anchor": "x",
         "domain": [
          0,
          1
         ],
         "title": {
          "text": "PV new capacity (MW)"
         }
        }
       }
      },
      "text/html": [
       "<div>\n",
       "        \n",
       "        \n",
       "            <div id=\"5d7e9d4a-a33a-4c43-b884-e30a8c69653a\" class=\"plotly-graph-div\" style=\"height:525px; width:100%;\"></div>\n",
       "            <script type=\"text/javascript\">\n",
       "                require([\"plotly\"], function(Plotly) {\n",
       "                    window.PLOTLYENV=window.PLOTLYENV || {};\n",
       "                    \n",
       "                if (document.getElementById(\"5d7e9d4a-a33a-4c43-b884-e30a8c69653a\")) {\n",
       "                    Plotly.newPlot(\n",
       "                        '5d7e9d4a-a33a-4c43-b884-e30a8c69653a',\n",
       "                        [{\"alignmentgroup\": \"True\", \"hovertemplate\": \"Year=%{x}<br>PV new capacity (MW)=%{y}<extra></extra>\", \"legendgroup\": \"\", \"marker\": {\"color\": \"#636efa\"}, \"name\": \"\", \"offsetgroup\": \"\", \"orientation\": \"v\", \"showlegend\": false, \"textposition\": \"auto\", \"type\": \"bar\", \"x\": [2021, 2022, 2023, 2024, 2025, 2026, 2027, 2028, 2029, 2030, 2031, 2032, 2033, 2034, 2035, 2036, 2037, 2038, 2039, 2040, 2041, 2042, 2043, 2044, 2045, 2046, 2047, 2048, 2049, 2050], \"xaxis\": \"x\", \"y\": [5.279406327168561, 1.9066219714470087, 1.2463206981924315, 1.4637840558885542, 5.6641330946391415, 0.07286261535760792, 2.135724937919067, 10.009990846871377, 8.98809154807868, 27.343437575368814, 0.07739616623879916, 0.04386524918372951, 17.52470655345845, 0.024472932806217325, 0.06442674204170917, 16.15909802635932, 9.785245189950446, 1.207136825063669, 1.2875938339699646, 0.8951479690196936, 0.0561957934331928, 20.81021423214991, 1.3224510556483535, 0.3607490518066113, 4.456649919170434, 3.112140893131621, 0.0474139680051904, 0.051051900703078586, 0.04951261941361275, 19.046292941413736], \"yaxis\": \"y\"}],\n",
       "                        {\"barmode\": \"relative\", \"legend\": {\"tracegroupgap\": 0}, \"template\": {\"data\": {\"bar\": [{\"error_x\": {\"color\": \"#2a3f5f\"}, \"error_y\": {\"color\": \"#2a3f5f\"}, \"marker\": {\"line\": {\"color\": \"#E5ECF6\", \"width\": 0.5}}, \"type\": \"bar\"}], \"barpolar\": [{\"marker\": {\"line\": {\"color\": \"#E5ECF6\", \"width\": 0.5}}, \"type\": \"barpolar\"}], \"carpet\": [{\"aaxis\": {\"endlinecolor\": \"#2a3f5f\", \"gridcolor\": \"white\", \"linecolor\": \"white\", \"minorgridcolor\": \"white\", \"startlinecolor\": \"#2a3f5f\"}, \"baxis\": {\"endlinecolor\": \"#2a3f5f\", \"gridcolor\": \"white\", \"linecolor\": \"white\", \"minorgridcolor\": \"white\", \"startlinecolor\": \"#2a3f5f\"}, \"type\": \"carpet\"}], \"choropleth\": [{\"colorbar\": {\"outlinewidth\": 0, \"ticks\": \"\"}, \"type\": \"choropleth\"}], \"contour\": [{\"colorbar\": {\"outlinewidth\": 0, \"ticks\": \"\"}, \"colorscale\": [[0.0, \"#0d0887\"], [0.1111111111111111, \"#46039f\"], [0.2222222222222222, \"#7201a8\"], [0.3333333333333333, \"#9c179e\"], [0.4444444444444444, \"#bd3786\"], [0.5555555555555556, \"#d8576b\"], [0.6666666666666666, \"#ed7953\"], [0.7777777777777778, \"#fb9f3a\"], [0.8888888888888888, \"#fdca26\"], [1.0, \"#f0f921\"]], \"type\": \"contour\"}], \"contourcarpet\": [{\"colorbar\": {\"outlinewidth\": 0, \"ticks\": \"\"}, \"type\": \"contourcarpet\"}], \"heatmap\": [{\"colorbar\": {\"outlinewidth\": 0, \"ticks\": \"\"}, \"colorscale\": [[0.0, \"#0d0887\"], [0.1111111111111111, \"#46039f\"], [0.2222222222222222, \"#7201a8\"], [0.3333333333333333, \"#9c179e\"], [0.4444444444444444, \"#bd3786\"], [0.5555555555555556, \"#d8576b\"], [0.6666666666666666, \"#ed7953\"], [0.7777777777777778, \"#fb9f3a\"], [0.8888888888888888, \"#fdca26\"], [1.0, \"#f0f921\"]], \"type\": \"heatmap\"}], \"heatmapgl\": [{\"colorbar\": {\"outlinewidth\": 0, \"ticks\": \"\"}, \"colorscale\": [[0.0, \"#0d0887\"], [0.1111111111111111, \"#46039f\"], [0.2222222222222222, \"#7201a8\"], [0.3333333333333333, \"#9c179e\"], [0.4444444444444444, \"#bd3786\"], [0.5555555555555556, \"#d8576b\"], [0.6666666666666666, \"#ed7953\"], [0.7777777777777778, \"#fb9f3a\"], [0.8888888888888888, \"#fdca26\"], [1.0, \"#f0f921\"]], \"type\": \"heatmapgl\"}], \"histogram\": [{\"marker\": {\"colorbar\": {\"outlinewidth\": 0, \"ticks\": \"\"}}, \"type\": \"histogram\"}], \"histogram2d\": [{\"colorbar\": {\"outlinewidth\": 0, \"ticks\": \"\"}, \"colorscale\": [[0.0, \"#0d0887\"], [0.1111111111111111, \"#46039f\"], [0.2222222222222222, \"#7201a8\"], [0.3333333333333333, \"#9c179e\"], [0.4444444444444444, \"#bd3786\"], [0.5555555555555556, \"#d8576b\"], [0.6666666666666666, \"#ed7953\"], [0.7777777777777778, \"#fb9f3a\"], [0.8888888888888888, \"#fdca26\"], [1.0, \"#f0f921\"]], \"type\": \"histogram2d\"}], \"histogram2dcontour\": [{\"colorbar\": {\"outlinewidth\": 0, \"ticks\": \"\"}, \"colorscale\": [[0.0, \"#0d0887\"], [0.1111111111111111, \"#46039f\"], [0.2222222222222222, \"#7201a8\"], [0.3333333333333333, \"#9c179e\"], [0.4444444444444444, \"#bd3786\"], [0.5555555555555556, \"#d8576b\"], [0.6666666666666666, \"#ed7953\"], [0.7777777777777778, \"#fb9f3a\"], [0.8888888888888888, \"#fdca26\"], [1.0, \"#f0f921\"]], \"type\": \"histogram2dcontour\"}], \"mesh3d\": [{\"colorbar\": {\"outlinewidth\": 0, \"ticks\": \"\"}, \"type\": \"mesh3d\"}], \"parcoords\": [{\"line\": {\"colorbar\": {\"outlinewidth\": 0, \"ticks\": \"\"}}, \"type\": \"parcoords\"}], \"pie\": [{\"automargin\": true, \"type\": \"pie\"}], \"scatter\": [{\"marker\": {\"colorbar\": {\"outlinewidth\": 0, \"ticks\": \"\"}}, \"type\": \"scatter\"}], \"scatter3d\": [{\"line\": {\"colorbar\": {\"outlinewidth\": 0, \"ticks\": \"\"}}, \"marker\": {\"colorbar\": {\"outlinewidth\": 0, \"ticks\": \"\"}}, \"type\": \"scatter3d\"}], \"scattercarpet\": [{\"marker\": {\"colorbar\": {\"outlinewidth\": 0, \"ticks\": \"\"}}, \"type\": \"scattercarpet\"}], \"scattergeo\": [{\"marker\": {\"colorbar\": {\"outlinewidth\": 0, \"ticks\": \"\"}}, \"type\": \"scattergeo\"}], \"scattergl\": [{\"marker\": {\"colorbar\": {\"outlinewidth\": 0, \"ticks\": \"\"}}, \"type\": \"scattergl\"}], \"scattermapbox\": [{\"marker\": {\"colorbar\": {\"outlinewidth\": 0, \"ticks\": \"\"}}, \"type\": \"scattermapbox\"}], \"scatterpolar\": [{\"marker\": {\"colorbar\": {\"outlinewidth\": 0, \"ticks\": \"\"}}, \"type\": \"scatterpolar\"}], \"scatterpolargl\": [{\"marker\": {\"colorbar\": {\"outlinewidth\": 0, \"ticks\": \"\"}}, \"type\": \"scatterpolargl\"}], \"scatterternary\": [{\"marker\": {\"colorbar\": {\"outlinewidth\": 0, \"ticks\": \"\"}}, \"type\": \"scatterternary\"}], \"surface\": [{\"colorbar\": {\"outlinewidth\": 0, \"ticks\": \"\"}, \"colorscale\": [[0.0, \"#0d0887\"], [0.1111111111111111, \"#46039f\"], [0.2222222222222222, \"#7201a8\"], [0.3333333333333333, \"#9c179e\"], [0.4444444444444444, \"#bd3786\"], [0.5555555555555556, \"#d8576b\"], [0.6666666666666666, \"#ed7953\"], [0.7777777777777778, \"#fb9f3a\"], [0.8888888888888888, \"#fdca26\"], [1.0, \"#f0f921\"]], \"type\": \"surface\"}], \"table\": [{\"cells\": {\"fill\": {\"color\": \"#EBF0F8\"}, \"line\": {\"color\": \"white\"}}, \"header\": {\"fill\": {\"color\": \"#C8D4E3\"}, \"line\": {\"color\": \"white\"}}, \"type\": \"table\"}]}, \"layout\": {\"annotationdefaults\": {\"arrowcolor\": \"#2a3f5f\", \"arrowhead\": 0, \"arrowwidth\": 1}, \"coloraxis\": {\"colorbar\": {\"outlinewidth\": 0, \"ticks\": \"\"}}, \"colorscale\": {\"diverging\": [[0, \"#8e0152\"], [0.1, \"#c51b7d\"], [0.2, \"#de77ae\"], [0.3, \"#f1b6da\"], [0.4, \"#fde0ef\"], [0.5, \"#f7f7f7\"], [0.6, \"#e6f5d0\"], [0.7, \"#b8e186\"], [0.8, \"#7fbc41\"], [0.9, \"#4d9221\"], [1, \"#276419\"]], \"sequential\": [[0.0, \"#0d0887\"], [0.1111111111111111, \"#46039f\"], [0.2222222222222222, \"#7201a8\"], [0.3333333333333333, \"#9c179e\"], [0.4444444444444444, \"#bd3786\"], [0.5555555555555556, \"#d8576b\"], [0.6666666666666666, \"#ed7953\"], [0.7777777777777778, \"#fb9f3a\"], [0.8888888888888888, \"#fdca26\"], [1.0, \"#f0f921\"]], \"sequentialminus\": [[0.0, \"#0d0887\"], [0.1111111111111111, \"#46039f\"], [0.2222222222222222, \"#7201a8\"], [0.3333333333333333, \"#9c179e\"], [0.4444444444444444, \"#bd3786\"], [0.5555555555555556, \"#d8576b\"], [0.6666666666666666, \"#ed7953\"], [0.7777777777777778, \"#fb9f3a\"], [0.8888888888888888, \"#fdca26\"], [1.0, \"#f0f921\"]]}, \"colorway\": [\"#636efa\", \"#EF553B\", \"#00cc96\", \"#ab63fa\", \"#FFA15A\", \"#19d3f3\", \"#FF6692\", \"#B6E880\", \"#FF97FF\", \"#FECB52\"], \"font\": {\"color\": \"#2a3f5f\"}, \"geo\": {\"bgcolor\": \"white\", \"lakecolor\": \"white\", \"landcolor\": \"#E5ECF6\", \"showlakes\": true, \"showland\": true, \"subunitcolor\": \"white\"}, \"hoverlabel\": {\"align\": \"left\"}, \"hovermode\": \"closest\", \"mapbox\": {\"style\": \"light\"}, \"paper_bgcolor\": \"white\", \"plot_bgcolor\": \"#E5ECF6\", \"polar\": {\"angularaxis\": {\"gridcolor\": \"white\", \"linecolor\": \"white\", \"ticks\": \"\"}, \"bgcolor\": \"#E5ECF6\", \"radialaxis\": {\"gridcolor\": \"white\", \"linecolor\": \"white\", \"ticks\": \"\"}}, \"scene\": {\"xaxis\": {\"backgroundcolor\": \"#E5ECF6\", \"gridcolor\": \"white\", \"gridwidth\": 2, \"linecolor\": \"white\", \"showbackground\": true, \"ticks\": \"\", \"zerolinecolor\": \"white\"}, \"yaxis\": {\"backgroundcolor\": \"#E5ECF6\", \"gridcolor\": \"white\", \"gridwidth\": 2, \"linecolor\": \"white\", \"showbackground\": true, \"ticks\": \"\", \"zerolinecolor\": \"white\"}, \"zaxis\": {\"backgroundcolor\": \"#E5ECF6\", \"gridcolor\": \"white\", \"gridwidth\": 2, \"linecolor\": \"white\", \"showbackground\": true, \"ticks\": \"\", \"zerolinecolor\": \"white\"}}, \"shapedefaults\": {\"line\": {\"color\": \"#2a3f5f\"}}, \"ternary\": {\"aaxis\": {\"gridcolor\": \"white\", \"linecolor\": \"white\", \"ticks\": \"\"}, \"baxis\": {\"gridcolor\": \"white\", \"linecolor\": \"white\", \"ticks\": \"\"}, \"bgcolor\": \"#E5ECF6\", \"caxis\": {\"gridcolor\": \"white\", \"linecolor\": \"white\", \"ticks\": \"\"}}, \"title\": {\"x\": 0.05}, \"xaxis\": {\"automargin\": true, \"gridcolor\": \"white\", \"linecolor\": \"white\", \"ticks\": \"\", \"title\": {\"standoff\": 15}, \"zerolinecolor\": \"white\", \"zerolinewidth\": 2}, \"yaxis\": {\"automargin\": true, \"gridcolor\": \"white\", \"linecolor\": \"white\", \"ticks\": \"\", \"title\": {\"standoff\": 15}, \"zerolinecolor\": \"white\", \"zerolinewidth\": 2}}}, \"title\": {\"text\": \"PV new installed capacity (MW)\"}, \"xaxis\": {\"anchor\": \"y\", \"domain\": [0.0, 1.0], \"title\": {\"text\": \"Year\"}}, \"yaxis\": {\"anchor\": \"x\", \"domain\": [0.0, 1.0], \"title\": {\"text\": \"PV new capacity (MW)\"}}},\n",
       "                        {\"responsive\": true}\n",
       "                    ).then(function(){\n",
       "                            \n",
       "var gd = document.getElementById('5d7e9d4a-a33a-4c43-b884-e30a8c69653a');\n",
       "var x = new MutationObserver(function (mutations, observer) {{\n",
       "        var display = window.getComputedStyle(gd).display;\n",
       "        if (!display || display === 'none') {{\n",
       "            console.log([gd, 'removed!']);\n",
       "            Plotly.purge(gd);\n",
       "            observer.disconnect();\n",
       "        }}\n",
       "}});\n",
       "\n",
       "// Listen for the removal of the full notebook cells\n",
       "var notebookContainer = gd.closest('#notebook-container');\n",
       "if (notebookContainer) {{\n",
       "    x.observe(notebookContainer, {childList: true});\n",
       "}}\n",
       "\n",
       "// Listen for the clearing of the current output cell\n",
       "var outputEl = gd.closest('.output');\n",
       "if (outputEl) {{\n",
       "    x.observe(outputEl, {childList: true});\n",
       "}}\n",
       "\n",
       "                        })\n",
       "                };\n",
       "                });\n",
       "            </script>\n",
       "        </div>"
      ]
     },
     "metadata": {},
     "output_type": "display_data"
    }
   ],
   "source": [
    "df = latePV10.loc[latePV10.Year>2020]\n",
    "\n",
    "fig = px.bar(df, x='Year', y='PV_new_cap(MW)', #color='variable',\n",
    "             title='PV new installed capacity (MW)',\n",
    "#              color_discrete_sequence=px.colors.qualitative.Set2,\n",
    "             labels={\"PV_new_cap(MW)\": \"PV new capacity (MW)\"}\n",
    "            )\n",
    "fig.show()"
   ]
  },
  {
   "cell_type": "code",
   "execution_count": 6,
   "metadata": {},
   "outputs": [
    {
     "data": {
      "application/vnd.plotly.v1+json": {
       "config": {
        "plotlyServerURL": "https://plot.ly"
       },
       "data": [
        {
         "alignmentgroup": "True",
         "hovertemplate": "variable=previous_capacity(MW)<br>Year=%{x}<br>value=%{y}<extra></extra>",
         "legendgroup": "previous_capacity(MW)",
         "marker": {
          "color": "#636efa"
         },
         "name": "previous_capacity(MW)",
         "offsetgroup": "previous_capacity(MW)",
         "orientation": "v",
         "showlegend": true,
         "textposition": "auto",
         "type": "bar",
         "x": [
          2020,
          2021,
          2022,
          2023,
          2024,
          2025,
          2026,
          2027,
          2028,
          2029,
          2030,
          2031,
          2032,
          2033,
          2034,
          2035,
          2036,
          2037,
          2038,
          2039,
          2040,
          2041,
          2042,
          2043,
          2044,
          2045,
          2046,
          2047,
          2048,
          2049,
          2050
         ],
         "xaxis": "x",
         "y": [
          96.25705273071512,
          96.257052730715,
          106.30233373069345,
          111.30844118933317,
          113.3339281444119,
          119.77878463685234,
          124.84291471771907,
          125.05624348663646,
          130.16727314092452,
          139.72543000147408,
          153.29408652662715,
          184.38988246117955,
          186.24615266166512,
          189.33042037713702,
          222.2020510075201,
          205.19538963149895,
          196.09470758299153,
          229.6874386434069,
          253.2375818307751,
          259.9138977160524,
          267.9267699341832,
          232.98898767159648,
          227.51091046759143,
          268.5176999658525,
          269.8814505427085,
          270.49973672968616,
          279.41045944874185,
          273.5254800464282,
          256.80652071051657,
          235.35137049464748,
          235.3881730464985
         ],
         "yaxis": "y"
        },
        {
         "alignmentgroup": "True",
         "hovertemplate": "variable=PV_new_cap(MW)<br>Year=%{x}<br>value=%{y}<extra></extra>",
         "legendgroup": "PV_new_cap(MW)",
         "marker": {
          "color": "#EF553B"
         },
         "name": "PV_new_cap(MW)",
         "offsetgroup": "PV_new_cap(MW)",
         "orientation": "v",
         "showlegend": true,
         "textposition": "auto",
         "type": "bar",
         "x": [
          2020,
          2021,
          2022,
          2023,
          2024,
          2025,
          2026,
          2027,
          2028,
          2029,
          2030,
          2031,
          2032,
          2033,
          2034,
          2035,
          2036,
          2037,
          2038,
          2039,
          2040,
          2041,
          2042,
          2043,
          2044,
          2045,
          2046,
          2047,
          2048,
          2049,
          2050
         ],
         "xaxis": "x",
         "y": [
          0,
          10.354066544667203,
          6.660127800943497,
          2.0254869550783927,
          6.444856492440825,
          12.07094906150108,
          0.2133287689172463,
          7.446250622864839,
          18.398816205849236,
          13.568656525153095,
          46.3011593467298,
          1.8562702004857743,
          5.475057837420976,
          33.31138944551202,
          1.6479383792686462,
          0.2506080673807376,
          33.59273106041502,
          24.48291023039186,
          7.735267368256401,
          8.012872218130031,
          6.914342007937754,
          0.1123915868663856,
          41.62042846429982,
          2.644902111296707,
          0.7214981036132226,
          8.913299838340865,
          6.224281786263242,
          0.0948279360103808,
          0.1021038014061572,
          0.0990252388272255,
          38.09258588282747
         ],
         "yaxis": "y"
        }
       ],
       "layout": {
        "barmode": "relative",
        "legend": {
         "title": {
          "text": "variable"
         },
         "tracegroupgap": 0
        },
        "template": {
         "data": {
          "bar": [
           {
            "error_x": {
             "color": "#2a3f5f"
            },
            "error_y": {
             "color": "#2a3f5f"
            },
            "marker": {
             "line": {
              "color": "#E5ECF6",
              "width": 0.5
             }
            },
            "type": "bar"
           }
          ],
          "barpolar": [
           {
            "marker": {
             "line": {
              "color": "#E5ECF6",
              "width": 0.5
             }
            },
            "type": "barpolar"
           }
          ],
          "carpet": [
           {
            "aaxis": {
             "endlinecolor": "#2a3f5f",
             "gridcolor": "white",
             "linecolor": "white",
             "minorgridcolor": "white",
             "startlinecolor": "#2a3f5f"
            },
            "baxis": {
             "endlinecolor": "#2a3f5f",
             "gridcolor": "white",
             "linecolor": "white",
             "minorgridcolor": "white",
             "startlinecolor": "#2a3f5f"
            },
            "type": "carpet"
           }
          ],
          "choropleth": [
           {
            "colorbar": {
             "outlinewidth": 0,
             "ticks": ""
            },
            "type": "choropleth"
           }
          ],
          "contour": [
           {
            "colorbar": {
             "outlinewidth": 0,
             "ticks": ""
            },
            "colorscale": [
             [
              0,
              "#0d0887"
             ],
             [
              0.1111111111111111,
              "#46039f"
             ],
             [
              0.2222222222222222,
              "#7201a8"
             ],
             [
              0.3333333333333333,
              "#9c179e"
             ],
             [
              0.4444444444444444,
              "#bd3786"
             ],
             [
              0.5555555555555556,
              "#d8576b"
             ],
             [
              0.6666666666666666,
              "#ed7953"
             ],
             [
              0.7777777777777778,
              "#fb9f3a"
             ],
             [
              0.8888888888888888,
              "#fdca26"
             ],
             [
              1,
              "#f0f921"
             ]
            ],
            "type": "contour"
           }
          ],
          "contourcarpet": [
           {
            "colorbar": {
             "outlinewidth": 0,
             "ticks": ""
            },
            "type": "contourcarpet"
           }
          ],
          "heatmap": [
           {
            "colorbar": {
             "outlinewidth": 0,
             "ticks": ""
            },
            "colorscale": [
             [
              0,
              "#0d0887"
             ],
             [
              0.1111111111111111,
              "#46039f"
             ],
             [
              0.2222222222222222,
              "#7201a8"
             ],
             [
              0.3333333333333333,
              "#9c179e"
             ],
             [
              0.4444444444444444,
              "#bd3786"
             ],
             [
              0.5555555555555556,
              "#d8576b"
             ],
             [
              0.6666666666666666,
              "#ed7953"
             ],
             [
              0.7777777777777778,
              "#fb9f3a"
             ],
             [
              0.8888888888888888,
              "#fdca26"
             ],
             [
              1,
              "#f0f921"
             ]
            ],
            "type": "heatmap"
           }
          ],
          "heatmapgl": [
           {
            "colorbar": {
             "outlinewidth": 0,
             "ticks": ""
            },
            "colorscale": [
             [
              0,
              "#0d0887"
             ],
             [
              0.1111111111111111,
              "#46039f"
             ],
             [
              0.2222222222222222,
              "#7201a8"
             ],
             [
              0.3333333333333333,
              "#9c179e"
             ],
             [
              0.4444444444444444,
              "#bd3786"
             ],
             [
              0.5555555555555556,
              "#d8576b"
             ],
             [
              0.6666666666666666,
              "#ed7953"
             ],
             [
              0.7777777777777778,
              "#fb9f3a"
             ],
             [
              0.8888888888888888,
              "#fdca26"
             ],
             [
              1,
              "#f0f921"
             ]
            ],
            "type": "heatmapgl"
           }
          ],
          "histogram": [
           {
            "marker": {
             "colorbar": {
              "outlinewidth": 0,
              "ticks": ""
             }
            },
            "type": "histogram"
           }
          ],
          "histogram2d": [
           {
            "colorbar": {
             "outlinewidth": 0,
             "ticks": ""
            },
            "colorscale": [
             [
              0,
              "#0d0887"
             ],
             [
              0.1111111111111111,
              "#46039f"
             ],
             [
              0.2222222222222222,
              "#7201a8"
             ],
             [
              0.3333333333333333,
              "#9c179e"
             ],
             [
              0.4444444444444444,
              "#bd3786"
             ],
             [
              0.5555555555555556,
              "#d8576b"
             ],
             [
              0.6666666666666666,
              "#ed7953"
             ],
             [
              0.7777777777777778,
              "#fb9f3a"
             ],
             [
              0.8888888888888888,
              "#fdca26"
             ],
             [
              1,
              "#f0f921"
             ]
            ],
            "type": "histogram2d"
           }
          ],
          "histogram2dcontour": [
           {
            "colorbar": {
             "outlinewidth": 0,
             "ticks": ""
            },
            "colorscale": [
             [
              0,
              "#0d0887"
             ],
             [
              0.1111111111111111,
              "#46039f"
             ],
             [
              0.2222222222222222,
              "#7201a8"
             ],
             [
              0.3333333333333333,
              "#9c179e"
             ],
             [
              0.4444444444444444,
              "#bd3786"
             ],
             [
              0.5555555555555556,
              "#d8576b"
             ],
             [
              0.6666666666666666,
              "#ed7953"
             ],
             [
              0.7777777777777778,
              "#fb9f3a"
             ],
             [
              0.8888888888888888,
              "#fdca26"
             ],
             [
              1,
              "#f0f921"
             ]
            ],
            "type": "histogram2dcontour"
           }
          ],
          "mesh3d": [
           {
            "colorbar": {
             "outlinewidth": 0,
             "ticks": ""
            },
            "type": "mesh3d"
           }
          ],
          "parcoords": [
           {
            "line": {
             "colorbar": {
              "outlinewidth": 0,
              "ticks": ""
             }
            },
            "type": "parcoords"
           }
          ],
          "pie": [
           {
            "automargin": true,
            "type": "pie"
           }
          ],
          "scatter": [
           {
            "marker": {
             "colorbar": {
              "outlinewidth": 0,
              "ticks": ""
             }
            },
            "type": "scatter"
           }
          ],
          "scatter3d": [
           {
            "line": {
             "colorbar": {
              "outlinewidth": 0,
              "ticks": ""
             }
            },
            "marker": {
             "colorbar": {
              "outlinewidth": 0,
              "ticks": ""
             }
            },
            "type": "scatter3d"
           }
          ],
          "scattercarpet": [
           {
            "marker": {
             "colorbar": {
              "outlinewidth": 0,
              "ticks": ""
             }
            },
            "type": "scattercarpet"
           }
          ],
          "scattergeo": [
           {
            "marker": {
             "colorbar": {
              "outlinewidth": 0,
              "ticks": ""
             }
            },
            "type": "scattergeo"
           }
          ],
          "scattergl": [
           {
            "marker": {
             "colorbar": {
              "outlinewidth": 0,
              "ticks": ""
             }
            },
            "type": "scattergl"
           }
          ],
          "scattermapbox": [
           {
            "marker": {
             "colorbar": {
              "outlinewidth": 0,
              "ticks": ""
             }
            },
            "type": "scattermapbox"
           }
          ],
          "scatterpolar": [
           {
            "marker": {
             "colorbar": {
              "outlinewidth": 0,
              "ticks": ""
             }
            },
            "type": "scatterpolar"
           }
          ],
          "scatterpolargl": [
           {
            "marker": {
             "colorbar": {
              "outlinewidth": 0,
              "ticks": ""
             }
            },
            "type": "scatterpolargl"
           }
          ],
          "scatterternary": [
           {
            "marker": {
             "colorbar": {
              "outlinewidth": 0,
              "ticks": ""
             }
            },
            "type": "scatterternary"
           }
          ],
          "surface": [
           {
            "colorbar": {
             "outlinewidth": 0,
             "ticks": ""
            },
            "colorscale": [
             [
              0,
              "#0d0887"
             ],
             [
              0.1111111111111111,
              "#46039f"
             ],
             [
              0.2222222222222222,
              "#7201a8"
             ],
             [
              0.3333333333333333,
              "#9c179e"
             ],
             [
              0.4444444444444444,
              "#bd3786"
             ],
             [
              0.5555555555555556,
              "#d8576b"
             ],
             [
              0.6666666666666666,
              "#ed7953"
             ],
             [
              0.7777777777777778,
              "#fb9f3a"
             ],
             [
              0.8888888888888888,
              "#fdca26"
             ],
             [
              1,
              "#f0f921"
             ]
            ],
            "type": "surface"
           }
          ],
          "table": [
           {
            "cells": {
             "fill": {
              "color": "#EBF0F8"
             },
             "line": {
              "color": "white"
             }
            },
            "header": {
             "fill": {
              "color": "#C8D4E3"
             },
             "line": {
              "color": "white"
             }
            },
            "type": "table"
           }
          ]
         },
         "layout": {
          "annotationdefaults": {
           "arrowcolor": "#2a3f5f",
           "arrowhead": 0,
           "arrowwidth": 1
          },
          "coloraxis": {
           "colorbar": {
            "outlinewidth": 0,
            "ticks": ""
           }
          },
          "colorscale": {
           "diverging": [
            [
             0,
             "#8e0152"
            ],
            [
             0.1,
             "#c51b7d"
            ],
            [
             0.2,
             "#de77ae"
            ],
            [
             0.3,
             "#f1b6da"
            ],
            [
             0.4,
             "#fde0ef"
            ],
            [
             0.5,
             "#f7f7f7"
            ],
            [
             0.6,
             "#e6f5d0"
            ],
            [
             0.7,
             "#b8e186"
            ],
            [
             0.8,
             "#7fbc41"
            ],
            [
             0.9,
             "#4d9221"
            ],
            [
             1,
             "#276419"
            ]
           ],
           "sequential": [
            [
             0,
             "#0d0887"
            ],
            [
             0.1111111111111111,
             "#46039f"
            ],
            [
             0.2222222222222222,
             "#7201a8"
            ],
            [
             0.3333333333333333,
             "#9c179e"
            ],
            [
             0.4444444444444444,
             "#bd3786"
            ],
            [
             0.5555555555555556,
             "#d8576b"
            ],
            [
             0.6666666666666666,
             "#ed7953"
            ],
            [
             0.7777777777777778,
             "#fb9f3a"
            ],
            [
             0.8888888888888888,
             "#fdca26"
            ],
            [
             1,
             "#f0f921"
            ]
           ],
           "sequentialminus": [
            [
             0,
             "#0d0887"
            ],
            [
             0.1111111111111111,
             "#46039f"
            ],
            [
             0.2222222222222222,
             "#7201a8"
            ],
            [
             0.3333333333333333,
             "#9c179e"
            ],
            [
             0.4444444444444444,
             "#bd3786"
            ],
            [
             0.5555555555555556,
             "#d8576b"
            ],
            [
             0.6666666666666666,
             "#ed7953"
            ],
            [
             0.7777777777777778,
             "#fb9f3a"
            ],
            [
             0.8888888888888888,
             "#fdca26"
            ],
            [
             1,
             "#f0f921"
            ]
           ]
          },
          "colorway": [
           "#636efa",
           "#EF553B",
           "#00cc96",
           "#ab63fa",
           "#FFA15A",
           "#19d3f3",
           "#FF6692",
           "#B6E880",
           "#FF97FF",
           "#FECB52"
          ],
          "font": {
           "color": "#2a3f5f"
          },
          "geo": {
           "bgcolor": "white",
           "lakecolor": "white",
           "landcolor": "#E5ECF6",
           "showlakes": true,
           "showland": true,
           "subunitcolor": "white"
          },
          "hoverlabel": {
           "align": "left"
          },
          "hovermode": "closest",
          "mapbox": {
           "style": "light"
          },
          "paper_bgcolor": "white",
          "plot_bgcolor": "#E5ECF6",
          "polar": {
           "angularaxis": {
            "gridcolor": "white",
            "linecolor": "white",
            "ticks": ""
           },
           "bgcolor": "#E5ECF6",
           "radialaxis": {
            "gridcolor": "white",
            "linecolor": "white",
            "ticks": ""
           }
          },
          "scene": {
           "xaxis": {
            "backgroundcolor": "#E5ECF6",
            "gridcolor": "white",
            "gridwidth": 2,
            "linecolor": "white",
            "showbackground": true,
            "ticks": "",
            "zerolinecolor": "white"
           },
           "yaxis": {
            "backgroundcolor": "#E5ECF6",
            "gridcolor": "white",
            "gridwidth": 2,
            "linecolor": "white",
            "showbackground": true,
            "ticks": "",
            "zerolinecolor": "white"
           },
           "zaxis": {
            "backgroundcolor": "#E5ECF6",
            "gridcolor": "white",
            "gridwidth": 2,
            "linecolor": "white",
            "showbackground": true,
            "ticks": "",
            "zerolinecolor": "white"
           }
          },
          "shapedefaults": {
           "line": {
            "color": "#2a3f5f"
           }
          },
          "ternary": {
           "aaxis": {
            "gridcolor": "white",
            "linecolor": "white",
            "ticks": ""
           },
           "baxis": {
            "gridcolor": "white",
            "linecolor": "white",
            "ticks": ""
           },
           "bgcolor": "#E5ECF6",
           "caxis": {
            "gridcolor": "white",
            "linecolor": "white",
            "ticks": ""
           }
          },
          "title": {
           "x": 0.05
          },
          "xaxis": {
           "automargin": true,
           "gridcolor": "white",
           "linecolor": "white",
           "ticks": "",
           "title": {
            "standoff": 15
           },
           "zerolinecolor": "white",
           "zerolinewidth": 2
          },
          "yaxis": {
           "automargin": true,
           "gridcolor": "white",
           "linecolor": "white",
           "ticks": "",
           "title": {
            "standoff": 15
           },
           "zerolinecolor": "white",
           "zerolinewidth": 2
          }
         }
        },
        "title": {
         "text": "PV new installed capacity (MW)"
        },
        "xaxis": {
         "anchor": "y",
         "domain": [
          0,
          1
         ],
         "title": {
          "text": "Year"
         }
        },
        "yaxis": {
         "anchor": "x",
         "domain": [
          0,
          1
         ],
         "title": {
          "text": "value"
         }
        }
       }
      },
      "text/html": [
       "<div>\n",
       "        \n",
       "        \n",
       "            <div id=\"afe21e63-484f-4337-8936-f5c5aa8f11d1\" class=\"plotly-graph-div\" style=\"height:525px; width:100%;\"></div>\n",
       "            <script type=\"text/javascript\">\n",
       "                require([\"plotly\"], function(Plotly) {\n",
       "                    window.PLOTLYENV=window.PLOTLYENV || {};\n",
       "                    \n",
       "                if (document.getElementById(\"afe21e63-484f-4337-8936-f5c5aa8f11d1\")) {\n",
       "                    Plotly.newPlot(\n",
       "                        'afe21e63-484f-4337-8936-f5c5aa8f11d1',\n",
       "                        [{\"alignmentgroup\": \"True\", \"hovertemplate\": \"variable=previous_capacity(MW)<br>Year=%{x}<br>value=%{y}<extra></extra>\", \"legendgroup\": \"previous_capacity(MW)\", \"marker\": {\"color\": \"#636efa\"}, \"name\": \"previous_capacity(MW)\", \"offsetgroup\": \"previous_capacity(MW)\", \"orientation\": \"v\", \"showlegend\": true, \"textposition\": \"auto\", \"type\": \"bar\", \"x\": [2020, 2021, 2022, 2023, 2024, 2025, 2026, 2027, 2028, 2029, 2030, 2031, 2032, 2033, 2034, 2035, 2036, 2037, 2038, 2039, 2040, 2041, 2042, 2043, 2044, 2045, 2046, 2047, 2048, 2049, 2050], \"xaxis\": \"x\", \"y\": [96.25705273071512, 96.257052730715, 106.30233373069345, 111.30844118933317, 113.3339281444119, 119.77878463685234, 124.84291471771907, 125.05624348663646, 130.16727314092452, 139.72543000147408, 153.29408652662715, 184.38988246117955, 186.24615266166512, 189.33042037713702, 222.2020510075201, 205.19538963149895, 196.09470758299153, 229.6874386434069, 253.2375818307751, 259.9138977160524, 267.9267699341832, 232.98898767159648, 227.51091046759143, 268.5176999658525, 269.8814505427085, 270.49973672968616, 279.41045944874185, 273.5254800464282, 256.80652071051657, 235.35137049464748, 235.3881730464985], \"yaxis\": \"y\"}, {\"alignmentgroup\": \"True\", \"hovertemplate\": \"variable=PV_new_cap(MW)<br>Year=%{x}<br>value=%{y}<extra></extra>\", \"legendgroup\": \"PV_new_cap(MW)\", \"marker\": {\"color\": \"#EF553B\"}, \"name\": \"PV_new_cap(MW)\", \"offsetgroup\": \"PV_new_cap(MW)\", \"orientation\": \"v\", \"showlegend\": true, \"textposition\": \"auto\", \"type\": \"bar\", \"x\": [2020, 2021, 2022, 2023, 2024, 2025, 2026, 2027, 2028, 2029, 2030, 2031, 2032, 2033, 2034, 2035, 2036, 2037, 2038, 2039, 2040, 2041, 2042, 2043, 2044, 2045, 2046, 2047, 2048, 2049, 2050], \"xaxis\": \"x\", \"y\": [0.0, 10.354066544667203, 6.660127800943497, 2.0254869550783927, 6.444856492440825, 12.07094906150108, 0.2133287689172463, 7.446250622864839, 18.398816205849236, 13.568656525153095, 46.3011593467298, 1.8562702004857743, 5.475057837420976, 33.31138944551202, 1.6479383792686462, 0.2506080673807376, 33.59273106041502, 24.48291023039186, 7.735267368256401, 8.012872218130031, 6.914342007937754, 0.1123915868663856, 41.62042846429982, 2.644902111296707, 0.7214981036132226, 8.913299838340865, 6.224281786263242, 0.0948279360103808, 0.1021038014061572, 0.0990252388272255, 38.09258588282747], \"yaxis\": \"y\"}],\n",
       "                        {\"barmode\": \"relative\", \"legend\": {\"title\": {\"text\": \"variable\"}, \"tracegroupgap\": 0}, \"template\": {\"data\": {\"bar\": [{\"error_x\": {\"color\": \"#2a3f5f\"}, \"error_y\": {\"color\": \"#2a3f5f\"}, \"marker\": {\"line\": {\"color\": \"#E5ECF6\", \"width\": 0.5}}, \"type\": \"bar\"}], \"barpolar\": [{\"marker\": {\"line\": {\"color\": \"#E5ECF6\", \"width\": 0.5}}, \"type\": \"barpolar\"}], \"carpet\": [{\"aaxis\": {\"endlinecolor\": \"#2a3f5f\", \"gridcolor\": \"white\", \"linecolor\": \"white\", \"minorgridcolor\": \"white\", \"startlinecolor\": \"#2a3f5f\"}, \"baxis\": {\"endlinecolor\": \"#2a3f5f\", \"gridcolor\": \"white\", \"linecolor\": \"white\", \"minorgridcolor\": \"white\", \"startlinecolor\": \"#2a3f5f\"}, \"type\": \"carpet\"}], \"choropleth\": [{\"colorbar\": {\"outlinewidth\": 0, \"ticks\": \"\"}, \"type\": \"choropleth\"}], \"contour\": [{\"colorbar\": {\"outlinewidth\": 0, \"ticks\": \"\"}, \"colorscale\": [[0.0, \"#0d0887\"], [0.1111111111111111, \"#46039f\"], [0.2222222222222222, \"#7201a8\"], [0.3333333333333333, \"#9c179e\"], [0.4444444444444444, \"#bd3786\"], [0.5555555555555556, \"#d8576b\"], [0.6666666666666666, \"#ed7953\"], [0.7777777777777778, \"#fb9f3a\"], [0.8888888888888888, \"#fdca26\"], [1.0, \"#f0f921\"]], \"type\": \"contour\"}], \"contourcarpet\": [{\"colorbar\": {\"outlinewidth\": 0, \"ticks\": \"\"}, \"type\": \"contourcarpet\"}], \"heatmap\": [{\"colorbar\": {\"outlinewidth\": 0, \"ticks\": \"\"}, \"colorscale\": [[0.0, \"#0d0887\"], [0.1111111111111111, \"#46039f\"], [0.2222222222222222, \"#7201a8\"], [0.3333333333333333, \"#9c179e\"], [0.4444444444444444, \"#bd3786\"], [0.5555555555555556, \"#d8576b\"], [0.6666666666666666, \"#ed7953\"], [0.7777777777777778, \"#fb9f3a\"], [0.8888888888888888, \"#fdca26\"], [1.0, \"#f0f921\"]], \"type\": \"heatmap\"}], \"heatmapgl\": [{\"colorbar\": {\"outlinewidth\": 0, \"ticks\": \"\"}, \"colorscale\": [[0.0, \"#0d0887\"], [0.1111111111111111, \"#46039f\"], [0.2222222222222222, \"#7201a8\"], [0.3333333333333333, \"#9c179e\"], [0.4444444444444444, \"#bd3786\"], [0.5555555555555556, \"#d8576b\"], [0.6666666666666666, \"#ed7953\"], [0.7777777777777778, \"#fb9f3a\"], [0.8888888888888888, \"#fdca26\"], [1.0, \"#f0f921\"]], \"type\": \"heatmapgl\"}], \"histogram\": [{\"marker\": {\"colorbar\": {\"outlinewidth\": 0, \"ticks\": \"\"}}, \"type\": \"histogram\"}], \"histogram2d\": [{\"colorbar\": {\"outlinewidth\": 0, \"ticks\": \"\"}, \"colorscale\": [[0.0, \"#0d0887\"], [0.1111111111111111, \"#46039f\"], [0.2222222222222222, \"#7201a8\"], [0.3333333333333333, \"#9c179e\"], [0.4444444444444444, \"#bd3786\"], [0.5555555555555556, \"#d8576b\"], [0.6666666666666666, \"#ed7953\"], [0.7777777777777778, \"#fb9f3a\"], [0.8888888888888888, \"#fdca26\"], [1.0, \"#f0f921\"]], \"type\": \"histogram2d\"}], \"histogram2dcontour\": [{\"colorbar\": {\"outlinewidth\": 0, \"ticks\": \"\"}, \"colorscale\": [[0.0, \"#0d0887\"], [0.1111111111111111, \"#46039f\"], [0.2222222222222222, \"#7201a8\"], [0.3333333333333333, \"#9c179e\"], [0.4444444444444444, \"#bd3786\"], [0.5555555555555556, \"#d8576b\"], [0.6666666666666666, \"#ed7953\"], [0.7777777777777778, \"#fb9f3a\"], [0.8888888888888888, \"#fdca26\"], [1.0, \"#f0f921\"]], \"type\": \"histogram2dcontour\"}], \"mesh3d\": [{\"colorbar\": {\"outlinewidth\": 0, \"ticks\": \"\"}, \"type\": \"mesh3d\"}], \"parcoords\": [{\"line\": {\"colorbar\": {\"outlinewidth\": 0, \"ticks\": \"\"}}, \"type\": \"parcoords\"}], \"pie\": [{\"automargin\": true, \"type\": \"pie\"}], \"scatter\": [{\"marker\": {\"colorbar\": {\"outlinewidth\": 0, \"ticks\": \"\"}}, \"type\": \"scatter\"}], \"scatter3d\": [{\"line\": {\"colorbar\": {\"outlinewidth\": 0, \"ticks\": \"\"}}, \"marker\": {\"colorbar\": {\"outlinewidth\": 0, \"ticks\": \"\"}}, \"type\": \"scatter3d\"}], \"scattercarpet\": [{\"marker\": {\"colorbar\": {\"outlinewidth\": 0, \"ticks\": \"\"}}, \"type\": \"scattercarpet\"}], \"scattergeo\": [{\"marker\": {\"colorbar\": {\"outlinewidth\": 0, \"ticks\": \"\"}}, \"type\": \"scattergeo\"}], \"scattergl\": [{\"marker\": {\"colorbar\": {\"outlinewidth\": 0, \"ticks\": \"\"}}, \"type\": \"scattergl\"}], \"scattermapbox\": [{\"marker\": {\"colorbar\": {\"outlinewidth\": 0, \"ticks\": \"\"}}, \"type\": \"scattermapbox\"}], \"scatterpolar\": [{\"marker\": {\"colorbar\": {\"outlinewidth\": 0, \"ticks\": \"\"}}, \"type\": \"scatterpolar\"}], \"scatterpolargl\": [{\"marker\": {\"colorbar\": {\"outlinewidth\": 0, \"ticks\": \"\"}}, \"type\": \"scatterpolargl\"}], \"scatterternary\": [{\"marker\": {\"colorbar\": {\"outlinewidth\": 0, \"ticks\": \"\"}}, \"type\": \"scatterternary\"}], \"surface\": [{\"colorbar\": {\"outlinewidth\": 0, \"ticks\": \"\"}, \"colorscale\": [[0.0, \"#0d0887\"], [0.1111111111111111, \"#46039f\"], [0.2222222222222222, \"#7201a8\"], [0.3333333333333333, \"#9c179e\"], [0.4444444444444444, \"#bd3786\"], [0.5555555555555556, \"#d8576b\"], [0.6666666666666666, \"#ed7953\"], [0.7777777777777778, \"#fb9f3a\"], [0.8888888888888888, \"#fdca26\"], [1.0, \"#f0f921\"]], \"type\": \"surface\"}], \"table\": [{\"cells\": {\"fill\": {\"color\": \"#EBF0F8\"}, \"line\": {\"color\": \"white\"}}, \"header\": {\"fill\": {\"color\": \"#C8D4E3\"}, \"line\": {\"color\": \"white\"}}, \"type\": \"table\"}]}, \"layout\": {\"annotationdefaults\": {\"arrowcolor\": \"#2a3f5f\", \"arrowhead\": 0, \"arrowwidth\": 1}, \"coloraxis\": {\"colorbar\": {\"outlinewidth\": 0, \"ticks\": \"\"}}, \"colorscale\": {\"diverging\": [[0, \"#8e0152\"], [0.1, \"#c51b7d\"], [0.2, \"#de77ae\"], [0.3, \"#f1b6da\"], [0.4, \"#fde0ef\"], [0.5, \"#f7f7f7\"], [0.6, \"#e6f5d0\"], [0.7, \"#b8e186\"], [0.8, \"#7fbc41\"], [0.9, \"#4d9221\"], [1, \"#276419\"]], \"sequential\": [[0.0, \"#0d0887\"], [0.1111111111111111, \"#46039f\"], [0.2222222222222222, \"#7201a8\"], [0.3333333333333333, \"#9c179e\"], [0.4444444444444444, \"#bd3786\"], [0.5555555555555556, \"#d8576b\"], [0.6666666666666666, \"#ed7953\"], [0.7777777777777778, \"#fb9f3a\"], [0.8888888888888888, \"#fdca26\"], [1.0, \"#f0f921\"]], \"sequentialminus\": [[0.0, \"#0d0887\"], [0.1111111111111111, \"#46039f\"], [0.2222222222222222, \"#7201a8\"], [0.3333333333333333, \"#9c179e\"], [0.4444444444444444, \"#bd3786\"], [0.5555555555555556, \"#d8576b\"], [0.6666666666666666, \"#ed7953\"], [0.7777777777777778, \"#fb9f3a\"], [0.8888888888888888, \"#fdca26\"], [1.0, \"#f0f921\"]]}, \"colorway\": [\"#636efa\", \"#EF553B\", \"#00cc96\", \"#ab63fa\", \"#FFA15A\", \"#19d3f3\", \"#FF6692\", \"#B6E880\", \"#FF97FF\", \"#FECB52\"], \"font\": {\"color\": \"#2a3f5f\"}, \"geo\": {\"bgcolor\": \"white\", \"lakecolor\": \"white\", \"landcolor\": \"#E5ECF6\", \"showlakes\": true, \"showland\": true, \"subunitcolor\": \"white\"}, \"hoverlabel\": {\"align\": \"left\"}, \"hovermode\": \"closest\", \"mapbox\": {\"style\": \"light\"}, \"paper_bgcolor\": \"white\", \"plot_bgcolor\": \"#E5ECF6\", \"polar\": {\"angularaxis\": {\"gridcolor\": \"white\", \"linecolor\": \"white\", \"ticks\": \"\"}, \"bgcolor\": \"#E5ECF6\", \"radialaxis\": {\"gridcolor\": \"white\", \"linecolor\": \"white\", \"ticks\": \"\"}}, \"scene\": {\"xaxis\": {\"backgroundcolor\": \"#E5ECF6\", \"gridcolor\": \"white\", \"gridwidth\": 2, \"linecolor\": \"white\", \"showbackground\": true, \"ticks\": \"\", \"zerolinecolor\": \"white\"}, \"yaxis\": {\"backgroundcolor\": \"#E5ECF6\", \"gridcolor\": \"white\", \"gridwidth\": 2, \"linecolor\": \"white\", \"showbackground\": true, \"ticks\": \"\", \"zerolinecolor\": \"white\"}, \"zaxis\": {\"backgroundcolor\": \"#E5ECF6\", \"gridcolor\": \"white\", \"gridwidth\": 2, \"linecolor\": \"white\", \"showbackground\": true, \"ticks\": \"\", \"zerolinecolor\": \"white\"}}, \"shapedefaults\": {\"line\": {\"color\": \"#2a3f5f\"}}, \"ternary\": {\"aaxis\": {\"gridcolor\": \"white\", \"linecolor\": \"white\", \"ticks\": \"\"}, \"baxis\": {\"gridcolor\": \"white\", \"linecolor\": \"white\", \"ticks\": \"\"}, \"bgcolor\": \"#E5ECF6\", \"caxis\": {\"gridcolor\": \"white\", \"linecolor\": \"white\", \"ticks\": \"\"}}, \"title\": {\"x\": 0.05}, \"xaxis\": {\"automargin\": true, \"gridcolor\": \"white\", \"linecolor\": \"white\", \"ticks\": \"\", \"title\": {\"standoff\": 15}, \"zerolinecolor\": \"white\", \"zerolinewidth\": 2}, \"yaxis\": {\"automargin\": true, \"gridcolor\": \"white\", \"linecolor\": \"white\", \"ticks\": \"\", \"title\": {\"standoff\": 15}, \"zerolinecolor\": \"white\", \"zerolinewidth\": 2}}}, \"title\": {\"text\": \"PV new installed capacity (MW)\"}, \"xaxis\": {\"anchor\": \"y\", \"domain\": [0.0, 1.0], \"title\": {\"text\": \"Year\"}}, \"yaxis\": {\"anchor\": \"x\", \"domain\": [0.0, 1.0], \"title\": {\"text\": \"value\"}}},\n",
       "                        {\"responsive\": true}\n",
       "                    ).then(function(){\n",
       "                            \n",
       "var gd = document.getElementById('afe21e63-484f-4337-8936-f5c5aa8f11d1');\n",
       "var x = new MutationObserver(function (mutations, observer) {{\n",
       "        var display = window.getComputedStyle(gd).display;\n",
       "        if (!display || display === 'none') {{\n",
       "            console.log([gd, 'removed!']);\n",
       "            Plotly.purge(gd);\n",
       "            observer.disconnect();\n",
       "        }}\n",
       "}});\n",
       "\n",
       "// Listen for the removal of the full notebook cells\n",
       "var notebookContainer = gd.closest('#notebook-container');\n",
       "if (notebookContainer) {{\n",
       "    x.observe(notebookContainer, {childList: true});\n",
       "}}\n",
       "\n",
       "// Listen for the clearing of the current output cell\n",
       "var outputEl = gd.closest('.output');\n",
       "if (outputEl) {{\n",
       "    x.observe(outputEl, {childList: true});\n",
       "}}\n",
       "\n",
       "                        })\n",
       "                };\n",
       "                });\n",
       "            </script>\n",
       "        </div>"
      ]
     },
     "metadata": {},
     "output_type": "display_data"
    }
   ],
   "source": [
    "df = bau2\n",
    "df.loc[df.Year==2020,'PV_new_cap(MW)'] = 0\n",
    "df['previous_capacity(MW)'] = df['cap_a(MW)'] - df['PV_new_cap(MW)']\n",
    "df = df.melt(value_vars=['previous_capacity(MW)', 'PV_new_cap(MW)'], id_vars=['Year'])\n",
    "\n",
    "fig = px.bar(df, x='Year', y='value', color='variable',\n",
    "             title='PV new installed capacity (MW)',\n",
    "#              color_discrete_sequence=px.colors.qualitative.Set2,\n",
    "             labels={\"cap_m(MW)\": \"PV required capacity (MW)\"}\n",
    "            )\n",
    "fig.show()"
   ]
  },
  {
   "cell_type": "code",
   "execution_count": 7,
   "metadata": {},
   "outputs": [
    {
     "data": {
      "application/vnd.plotly.v1+json": {
       "config": {
        "plotlyServerURL": "https://plot.ly"
       },
       "data": [
        {
         "alignmentgroup": "True",
         "hovertemplate": "=PV<br>Year=%{x}<br>Energy demand (kWh)=%{y}<extra></extra>",
         "legendgroup": "PV",
         "marker": {
          "color": "rgb(102,194,165)"
         },
         "name": "PV",
         "offsetgroup": "PV",
         "orientation": "v",
         "showlegend": true,
         "textposition": "auto",
         "type": "bar",
         "x": [
          2020,
          2021,
          2022,
          2023,
          2024,
          2025,
          2026,
          2027,
          2028,
          2029,
          2030,
          2031,
          2032,
          2033,
          2034,
          2035,
          2036,
          2037,
          2038,
          2039,
          2040,
          2041,
          2042,
          2043,
          2044,
          2045,
          2046,
          2047,
          2048,
          2049,
          2050
         ],
         "xaxis": "x",
         "y": [
          37477859.19062927,
          48404704.75411586,
          46567484.54263777,
          53781281.33806618,
          56472495.090899795,
          54906556.73366562,
          57732695.39312393,
          59206400.12521414,
          59110218.86020933,
          64432371.71529507,
          82254460.67643662,
          79474924.00036481,
          93554007.6772376,
          90427952.71525323,
          99348264.1453183,
          92777584.05022271,
          81151805.88677832,
          97204357.93613386,
          106829547.36791793,
          104962442.98359966,
          119240058.2910613,
          117179417.87991652,
          111364867.58786568,
          110560562.85061888,
          108972165.77196372,
          118110527.87256028,
          109989516.2827113,
          120774062.1414019,
          118427852.53163576,
          111599271.72963545,
          92213414.26633082
         ],
         "yaxis": "y"
        },
        {
         "alignmentgroup": "True",
         "hovertemplate": "=Butane<br>Year=%{x}<br>Energy demand (kWh)=%{y}<extra></extra>",
         "legendgroup": "Butane",
         "marker": {
          "color": "rgb(252,141,98)"
         },
         "name": "Butane",
         "offsetgroup": "Butane",
         "orientation": "v",
         "showlegend": true,
         "textposition": "auto",
         "type": "bar",
         "x": [
          2020,
          2021,
          2022,
          2023,
          2024,
          2025,
          2026,
          2027,
          2028,
          2029,
          2030,
          2031,
          2032,
          2033,
          2034,
          2035,
          2036,
          2037,
          2038,
          2039,
          2040,
          2041,
          2042,
          2043,
          2044,
          2045,
          2046,
          2047,
          2048,
          2049,
          2050
         ],
         "xaxis": "x",
         "y": [
          74955718.38125855,
          92199437.62688687,
          84668153.71388696,
          93532663.19663729,
          94120825.15150014,
          87850490.77386518,
          88819531.37403673,
          87713185.37068774,
          84443169.80029903,
          88872236.84868258,
          109672614.23524876,
          102548289.03272858,
          116942509.59654704,
          109609639.65485267,
          116880310.75919811,
          106031524.62882604,
          90168673.20753138,
          105085792.36338836,
          112452155.12412444,
          107653787.67548704,
          119240058.2910613,
          117179417.87991652,
          111364867.58786568,
          110560562.85061888,
          108972165.77196372,
          118110527.8725603,
          109989516.28271134,
          120774062.14140192,
          118427852.53163576,
          111599271.7296354,
          92213414.26633082
         ],
         "yaxis": "y"
        },
        {
         "alignmentgroup": "True",
         "hovertemplate": "=Grid<br>Year=%{x}<br>Energy demand (kWh)=%{y}<extra></extra>",
         "legendgroup": "Grid",
         "marker": {
          "color": "rgb(141,160,203)"
         },
         "name": "Grid",
         "offsetgroup": "Grid",
         "orientation": "v",
         "showlegend": true,
         "textposition": "auto",
         "type": "bar",
         "x": [
          2020,
          2021,
          2022,
          2023,
          2024,
          2025,
          2026,
          2027,
          2028,
          2029,
          2030,
          2031,
          2032,
          2033,
          2034,
          2035,
          2036,
          2037,
          2038,
          2039,
          2040,
          2041,
          2042,
          2043,
          2044,
          2045,
          2046,
          2047,
          2048,
          2049,
          2050
         ],
         "xaxis": "x",
         "y": [
          262345014.33440647,
          320393045.75343287,
          292105130.31290925,
          320349371.4484806,
          320010805.5150995,
          296495406.36179465,
          297545430.103024,
          291646341.35753703,
          278662460.34098625,
          291056575.67943615,
          356435996.26455784,
          330718232.13055164,
          374216030.7089503,
          348010605.90415776,
          368172978.8914741,
          331348514.4650812,
          279522886.94334656,
          323138811.51741964,
          342979073.12857985,
          325652707.71834815,
          357720174.8731833,
          351538253.6397504,
          334094602.76359665,
          331681688.5518569,
          326916497.31589043,
          354331583.6176791,
          329968548.84813464,
          362322186.42420566,
          355283557.5949058,
          334797815.18890625,
          276640242.79899186
         ],
         "yaxis": "y"
        }
       ],
       "layout": {
        "barmode": "relative",
        "legend": {
         "title": {
          "text": ""
         },
         "tracegroupgap": 0
        },
        "template": {
         "data": {
          "bar": [
           {
            "error_x": {
             "color": "#2a3f5f"
            },
            "error_y": {
             "color": "#2a3f5f"
            },
            "marker": {
             "line": {
              "color": "#E5ECF6",
              "width": 0.5
             }
            },
            "type": "bar"
           }
          ],
          "barpolar": [
           {
            "marker": {
             "line": {
              "color": "#E5ECF6",
              "width": 0.5
             }
            },
            "type": "barpolar"
           }
          ],
          "carpet": [
           {
            "aaxis": {
             "endlinecolor": "#2a3f5f",
             "gridcolor": "white",
             "linecolor": "white",
             "minorgridcolor": "white",
             "startlinecolor": "#2a3f5f"
            },
            "baxis": {
             "endlinecolor": "#2a3f5f",
             "gridcolor": "white",
             "linecolor": "white",
             "minorgridcolor": "white",
             "startlinecolor": "#2a3f5f"
            },
            "type": "carpet"
           }
          ],
          "choropleth": [
           {
            "colorbar": {
             "outlinewidth": 0,
             "ticks": ""
            },
            "type": "choropleth"
           }
          ],
          "contour": [
           {
            "colorbar": {
             "outlinewidth": 0,
             "ticks": ""
            },
            "colorscale": [
             [
              0,
              "#0d0887"
             ],
             [
              0.1111111111111111,
              "#46039f"
             ],
             [
              0.2222222222222222,
              "#7201a8"
             ],
             [
              0.3333333333333333,
              "#9c179e"
             ],
             [
              0.4444444444444444,
              "#bd3786"
             ],
             [
              0.5555555555555556,
              "#d8576b"
             ],
             [
              0.6666666666666666,
              "#ed7953"
             ],
             [
              0.7777777777777778,
              "#fb9f3a"
             ],
             [
              0.8888888888888888,
              "#fdca26"
             ],
             [
              1,
              "#f0f921"
             ]
            ],
            "type": "contour"
           }
          ],
          "contourcarpet": [
           {
            "colorbar": {
             "outlinewidth": 0,
             "ticks": ""
            },
            "type": "contourcarpet"
           }
          ],
          "heatmap": [
           {
            "colorbar": {
             "outlinewidth": 0,
             "ticks": ""
            },
            "colorscale": [
             [
              0,
              "#0d0887"
             ],
             [
              0.1111111111111111,
              "#46039f"
             ],
             [
              0.2222222222222222,
              "#7201a8"
             ],
             [
              0.3333333333333333,
              "#9c179e"
             ],
             [
              0.4444444444444444,
              "#bd3786"
             ],
             [
              0.5555555555555556,
              "#d8576b"
             ],
             [
              0.6666666666666666,
              "#ed7953"
             ],
             [
              0.7777777777777778,
              "#fb9f3a"
             ],
             [
              0.8888888888888888,
              "#fdca26"
             ],
             [
              1,
              "#f0f921"
             ]
            ],
            "type": "heatmap"
           }
          ],
          "heatmapgl": [
           {
            "colorbar": {
             "outlinewidth": 0,
             "ticks": ""
            },
            "colorscale": [
             [
              0,
              "#0d0887"
             ],
             [
              0.1111111111111111,
              "#46039f"
             ],
             [
              0.2222222222222222,
              "#7201a8"
             ],
             [
              0.3333333333333333,
              "#9c179e"
             ],
             [
              0.4444444444444444,
              "#bd3786"
             ],
             [
              0.5555555555555556,
              "#d8576b"
             ],
             [
              0.6666666666666666,
              "#ed7953"
             ],
             [
              0.7777777777777778,
              "#fb9f3a"
             ],
             [
              0.8888888888888888,
              "#fdca26"
             ],
             [
              1,
              "#f0f921"
             ]
            ],
            "type": "heatmapgl"
           }
          ],
          "histogram": [
           {
            "marker": {
             "colorbar": {
              "outlinewidth": 0,
              "ticks": ""
             }
            },
            "type": "histogram"
           }
          ],
          "histogram2d": [
           {
            "colorbar": {
             "outlinewidth": 0,
             "ticks": ""
            },
            "colorscale": [
             [
              0,
              "#0d0887"
             ],
             [
              0.1111111111111111,
              "#46039f"
             ],
             [
              0.2222222222222222,
              "#7201a8"
             ],
             [
              0.3333333333333333,
              "#9c179e"
             ],
             [
              0.4444444444444444,
              "#bd3786"
             ],
             [
              0.5555555555555556,
              "#d8576b"
             ],
             [
              0.6666666666666666,
              "#ed7953"
             ],
             [
              0.7777777777777778,
              "#fb9f3a"
             ],
             [
              0.8888888888888888,
              "#fdca26"
             ],
             [
              1,
              "#f0f921"
             ]
            ],
            "type": "histogram2d"
           }
          ],
          "histogram2dcontour": [
           {
            "colorbar": {
             "outlinewidth": 0,
             "ticks": ""
            },
            "colorscale": [
             [
              0,
              "#0d0887"
             ],
             [
              0.1111111111111111,
              "#46039f"
             ],
             [
              0.2222222222222222,
              "#7201a8"
             ],
             [
              0.3333333333333333,
              "#9c179e"
             ],
             [
              0.4444444444444444,
              "#bd3786"
             ],
             [
              0.5555555555555556,
              "#d8576b"
             ],
             [
              0.6666666666666666,
              "#ed7953"
             ],
             [
              0.7777777777777778,
              "#fb9f3a"
             ],
             [
              0.8888888888888888,
              "#fdca26"
             ],
             [
              1,
              "#f0f921"
             ]
            ],
            "type": "histogram2dcontour"
           }
          ],
          "mesh3d": [
           {
            "colorbar": {
             "outlinewidth": 0,
             "ticks": ""
            },
            "type": "mesh3d"
           }
          ],
          "parcoords": [
           {
            "line": {
             "colorbar": {
              "outlinewidth": 0,
              "ticks": ""
             }
            },
            "type": "parcoords"
           }
          ],
          "pie": [
           {
            "automargin": true,
            "type": "pie"
           }
          ],
          "scatter": [
           {
            "marker": {
             "colorbar": {
              "outlinewidth": 0,
              "ticks": ""
             }
            },
            "type": "scatter"
           }
          ],
          "scatter3d": [
           {
            "line": {
             "colorbar": {
              "outlinewidth": 0,
              "ticks": ""
             }
            },
            "marker": {
             "colorbar": {
              "outlinewidth": 0,
              "ticks": ""
             }
            },
            "type": "scatter3d"
           }
          ],
          "scattercarpet": [
           {
            "marker": {
             "colorbar": {
              "outlinewidth": 0,
              "ticks": ""
             }
            },
            "type": "scattercarpet"
           }
          ],
          "scattergeo": [
           {
            "marker": {
             "colorbar": {
              "outlinewidth": 0,
              "ticks": ""
             }
            },
            "type": "scattergeo"
           }
          ],
          "scattergl": [
           {
            "marker": {
             "colorbar": {
              "outlinewidth": 0,
              "ticks": ""
             }
            },
            "type": "scattergl"
           }
          ],
          "scattermapbox": [
           {
            "marker": {
             "colorbar": {
              "outlinewidth": 0,
              "ticks": ""
             }
            },
            "type": "scattermapbox"
           }
          ],
          "scatterpolar": [
           {
            "marker": {
             "colorbar": {
              "outlinewidth": 0,
              "ticks": ""
             }
            },
            "type": "scatterpolar"
           }
          ],
          "scatterpolargl": [
           {
            "marker": {
             "colorbar": {
              "outlinewidth": 0,
              "ticks": ""
             }
            },
            "type": "scatterpolargl"
           }
          ],
          "scatterternary": [
           {
            "marker": {
             "colorbar": {
              "outlinewidth": 0,
              "ticks": ""
             }
            },
            "type": "scatterternary"
           }
          ],
          "surface": [
           {
            "colorbar": {
             "outlinewidth": 0,
             "ticks": ""
            },
            "colorscale": [
             [
              0,
              "#0d0887"
             ],
             [
              0.1111111111111111,
              "#46039f"
             ],
             [
              0.2222222222222222,
              "#7201a8"
             ],
             [
              0.3333333333333333,
              "#9c179e"
             ],
             [
              0.4444444444444444,
              "#bd3786"
             ],
             [
              0.5555555555555556,
              "#d8576b"
             ],
             [
              0.6666666666666666,
              "#ed7953"
             ],
             [
              0.7777777777777778,
              "#fb9f3a"
             ],
             [
              0.8888888888888888,
              "#fdca26"
             ],
             [
              1,
              "#f0f921"
             ]
            ],
            "type": "surface"
           }
          ],
          "table": [
           {
            "cells": {
             "fill": {
              "color": "#EBF0F8"
             },
             "line": {
              "color": "white"
             }
            },
            "header": {
             "fill": {
              "color": "#C8D4E3"
             },
             "line": {
              "color": "white"
             }
            },
            "type": "table"
           }
          ]
         },
         "layout": {
          "annotationdefaults": {
           "arrowcolor": "#2a3f5f",
           "arrowhead": 0,
           "arrowwidth": 1
          },
          "coloraxis": {
           "colorbar": {
            "outlinewidth": 0,
            "ticks": ""
           }
          },
          "colorscale": {
           "diverging": [
            [
             0,
             "#8e0152"
            ],
            [
             0.1,
             "#c51b7d"
            ],
            [
             0.2,
             "#de77ae"
            ],
            [
             0.3,
             "#f1b6da"
            ],
            [
             0.4,
             "#fde0ef"
            ],
            [
             0.5,
             "#f7f7f7"
            ],
            [
             0.6,
             "#e6f5d0"
            ],
            [
             0.7,
             "#b8e186"
            ],
            [
             0.8,
             "#7fbc41"
            ],
            [
             0.9,
             "#4d9221"
            ],
            [
             1,
             "#276419"
            ]
           ],
           "sequential": [
            [
             0,
             "#0d0887"
            ],
            [
             0.1111111111111111,
             "#46039f"
            ],
            [
             0.2222222222222222,
             "#7201a8"
            ],
            [
             0.3333333333333333,
             "#9c179e"
            ],
            [
             0.4444444444444444,
             "#bd3786"
            ],
            [
             0.5555555555555556,
             "#d8576b"
            ],
            [
             0.6666666666666666,
             "#ed7953"
            ],
            [
             0.7777777777777778,
             "#fb9f3a"
            ],
            [
             0.8888888888888888,
             "#fdca26"
            ],
            [
             1,
             "#f0f921"
            ]
           ],
           "sequentialminus": [
            [
             0,
             "#0d0887"
            ],
            [
             0.1111111111111111,
             "#46039f"
            ],
            [
             0.2222222222222222,
             "#7201a8"
            ],
            [
             0.3333333333333333,
             "#9c179e"
            ],
            [
             0.4444444444444444,
             "#bd3786"
            ],
            [
             0.5555555555555556,
             "#d8576b"
            ],
            [
             0.6666666666666666,
             "#ed7953"
            ],
            [
             0.7777777777777778,
             "#fb9f3a"
            ],
            [
             0.8888888888888888,
             "#fdca26"
            ],
            [
             1,
             "#f0f921"
            ]
           ]
          },
          "colorway": [
           "#636efa",
           "#EF553B",
           "#00cc96",
           "#ab63fa",
           "#FFA15A",
           "#19d3f3",
           "#FF6692",
           "#B6E880",
           "#FF97FF",
           "#FECB52"
          ],
          "font": {
           "color": "#2a3f5f"
          },
          "geo": {
           "bgcolor": "white",
           "lakecolor": "white",
           "landcolor": "#E5ECF6",
           "showlakes": true,
           "showland": true,
           "subunitcolor": "white"
          },
          "hoverlabel": {
           "align": "left"
          },
          "hovermode": "closest",
          "mapbox": {
           "style": "light"
          },
          "paper_bgcolor": "white",
          "plot_bgcolor": "#E5ECF6",
          "polar": {
           "angularaxis": {
            "gridcolor": "white",
            "linecolor": "white",
            "ticks": ""
           },
           "bgcolor": "#E5ECF6",
           "radialaxis": {
            "gridcolor": "white",
            "linecolor": "white",
            "ticks": ""
           }
          },
          "scene": {
           "xaxis": {
            "backgroundcolor": "#E5ECF6",
            "gridcolor": "white",
            "gridwidth": 2,
            "linecolor": "white",
            "showbackground": true,
            "ticks": "",
            "zerolinecolor": "white"
           },
           "yaxis": {
            "backgroundcolor": "#E5ECF6",
            "gridcolor": "white",
            "gridwidth": 2,
            "linecolor": "white",
            "showbackground": true,
            "ticks": "",
            "zerolinecolor": "white"
           },
           "zaxis": {
            "backgroundcolor": "#E5ECF6",
            "gridcolor": "white",
            "gridwidth": 2,
            "linecolor": "white",
            "showbackground": true,
            "ticks": "",
            "zerolinecolor": "white"
           }
          },
          "shapedefaults": {
           "line": {
            "color": "#2a3f5f"
           }
          },
          "ternary": {
           "aaxis": {
            "gridcolor": "white",
            "linecolor": "white",
            "ticks": ""
           },
           "baxis": {
            "gridcolor": "white",
            "linecolor": "white",
            "ticks": ""
           },
           "bgcolor": "#E5ECF6",
           "caxis": {
            "gridcolor": "white",
            "linecolor": "white",
            "ticks": ""
           }
          },
          "title": {
           "x": 0.05
          },
          "xaxis": {
           "automargin": true,
           "gridcolor": "white",
           "linecolor": "white",
           "ticks": "",
           "title": {
            "standoff": 15
           },
           "zerolinecolor": "white",
           "zerolinewidth": 2
          },
          "yaxis": {
           "automargin": true,
           "gridcolor": "white",
           "linecolor": "white",
           "ticks": "",
           "title": {
            "standoff": 15
           },
           "zerolinecolor": "white",
           "zerolinewidth": 2
          }
         }
        },
        "title": {
         "text": "Energy demand in agriculture water pumping"
        },
        "xaxis": {
         "anchor": "y",
         "domain": [
          0,
          1
         ],
         "title": {
          "text": "Year"
         }
        },
        "yaxis": {
         "anchor": "x",
         "domain": [
          0,
          1
         ],
         "title": {
          "text": "Energy demand (kWh)"
         }
        }
       }
      },
      "text/html": [
       "<div>\n",
       "        \n",
       "        \n",
       "            <div id=\"26f501b9-83fb-437a-b939-775d86736625\" class=\"plotly-graph-div\" style=\"height:525px; width:100%;\"></div>\n",
       "            <script type=\"text/javascript\">\n",
       "                require([\"plotly\"], function(Plotly) {\n",
       "                    window.PLOTLYENV=window.PLOTLYENV || {};\n",
       "                    \n",
       "                if (document.getElementById(\"26f501b9-83fb-437a-b939-775d86736625\")) {\n",
       "                    Plotly.newPlot(\n",
       "                        '26f501b9-83fb-437a-b939-775d86736625',\n",
       "                        [{\"alignmentgroup\": \"True\", \"hovertemplate\": \"=PV<br>Year=%{x}<br>Energy demand (kWh)=%{y}<extra></extra>\", \"legendgroup\": \"PV\", \"marker\": {\"color\": \"rgb(102,194,165)\"}, \"name\": \"PV\", \"offsetgroup\": \"PV\", \"orientation\": \"v\", \"showlegend\": true, \"textposition\": \"auto\", \"type\": \"bar\", \"x\": [2020, 2021, 2022, 2023, 2024, 2025, 2026, 2027, 2028, 2029, 2030, 2031, 2032, 2033, 2034, 2035, 2036, 2037, 2038, 2039, 2040, 2041, 2042, 2043, 2044, 2045, 2046, 2047, 2048, 2049, 2050], \"xaxis\": \"x\", \"y\": [37477859.19062927, 48404704.75411586, 46567484.54263777, 53781281.33806618, 56472495.090899795, 54906556.73366562, 57732695.39312393, 59206400.12521414, 59110218.86020933, 64432371.71529507, 82254460.67643662, 79474924.00036481, 93554007.6772376, 90427952.71525323, 99348264.1453183, 92777584.05022271, 81151805.88677832, 97204357.93613386, 106829547.36791793, 104962442.98359966, 119240058.2910613, 117179417.87991652, 111364867.58786568, 110560562.85061888, 108972165.77196372, 118110527.87256028, 109989516.2827113, 120774062.1414019, 118427852.53163576, 111599271.72963545, 92213414.26633082], \"yaxis\": \"y\"}, {\"alignmentgroup\": \"True\", \"hovertemplate\": \"=Butane<br>Year=%{x}<br>Energy demand (kWh)=%{y}<extra></extra>\", \"legendgroup\": \"Butane\", \"marker\": {\"color\": \"rgb(252,141,98)\"}, \"name\": \"Butane\", \"offsetgroup\": \"Butane\", \"orientation\": \"v\", \"showlegend\": true, \"textposition\": \"auto\", \"type\": \"bar\", \"x\": [2020, 2021, 2022, 2023, 2024, 2025, 2026, 2027, 2028, 2029, 2030, 2031, 2032, 2033, 2034, 2035, 2036, 2037, 2038, 2039, 2040, 2041, 2042, 2043, 2044, 2045, 2046, 2047, 2048, 2049, 2050], \"xaxis\": \"x\", \"y\": [74955718.38125855, 92199437.62688687, 84668153.71388696, 93532663.19663729, 94120825.15150014, 87850490.77386518, 88819531.37403673, 87713185.37068774, 84443169.80029903, 88872236.84868258, 109672614.23524876, 102548289.03272858, 116942509.59654704, 109609639.65485267, 116880310.75919811, 106031524.62882604, 90168673.20753138, 105085792.36338836, 112452155.12412444, 107653787.67548704, 119240058.2910613, 117179417.87991652, 111364867.58786568, 110560562.85061888, 108972165.77196372, 118110527.8725603, 109989516.28271134, 120774062.14140192, 118427852.53163576, 111599271.7296354, 92213414.26633082], \"yaxis\": \"y\"}, {\"alignmentgroup\": \"True\", \"hovertemplate\": \"=Grid<br>Year=%{x}<br>Energy demand (kWh)=%{y}<extra></extra>\", \"legendgroup\": \"Grid\", \"marker\": {\"color\": \"rgb(141,160,203)\"}, \"name\": \"Grid\", \"offsetgroup\": \"Grid\", \"orientation\": \"v\", \"showlegend\": true, \"textposition\": \"auto\", \"type\": \"bar\", \"x\": [2020, 2021, 2022, 2023, 2024, 2025, 2026, 2027, 2028, 2029, 2030, 2031, 2032, 2033, 2034, 2035, 2036, 2037, 2038, 2039, 2040, 2041, 2042, 2043, 2044, 2045, 2046, 2047, 2048, 2049, 2050], \"xaxis\": \"x\", \"y\": [262345014.33440647, 320393045.75343287, 292105130.31290925, 320349371.4484806, 320010805.5150995, 296495406.36179465, 297545430.103024, 291646341.35753703, 278662460.34098625, 291056575.67943615, 356435996.26455784, 330718232.13055164, 374216030.7089503, 348010605.90415776, 368172978.8914741, 331348514.4650812, 279522886.94334656, 323138811.51741964, 342979073.12857985, 325652707.71834815, 357720174.8731833, 351538253.6397504, 334094602.76359665, 331681688.5518569, 326916497.31589043, 354331583.6176791, 329968548.84813464, 362322186.42420566, 355283557.5949058, 334797815.18890625, 276640242.79899186], \"yaxis\": \"y\"}],\n",
       "                        {\"barmode\": \"relative\", \"legend\": {\"title\": {\"text\": \"\"}, \"tracegroupgap\": 0}, \"template\": {\"data\": {\"bar\": [{\"error_x\": {\"color\": \"#2a3f5f\"}, \"error_y\": {\"color\": \"#2a3f5f\"}, \"marker\": {\"line\": {\"color\": \"#E5ECF6\", \"width\": 0.5}}, \"type\": \"bar\"}], \"barpolar\": [{\"marker\": {\"line\": {\"color\": \"#E5ECF6\", \"width\": 0.5}}, \"type\": \"barpolar\"}], \"carpet\": [{\"aaxis\": {\"endlinecolor\": \"#2a3f5f\", \"gridcolor\": \"white\", \"linecolor\": \"white\", \"minorgridcolor\": \"white\", \"startlinecolor\": \"#2a3f5f\"}, \"baxis\": {\"endlinecolor\": \"#2a3f5f\", \"gridcolor\": \"white\", \"linecolor\": \"white\", \"minorgridcolor\": \"white\", \"startlinecolor\": \"#2a3f5f\"}, \"type\": \"carpet\"}], \"choropleth\": [{\"colorbar\": {\"outlinewidth\": 0, \"ticks\": \"\"}, \"type\": \"choropleth\"}], \"contour\": [{\"colorbar\": {\"outlinewidth\": 0, \"ticks\": \"\"}, \"colorscale\": [[0.0, \"#0d0887\"], [0.1111111111111111, \"#46039f\"], [0.2222222222222222, \"#7201a8\"], [0.3333333333333333, \"#9c179e\"], [0.4444444444444444, \"#bd3786\"], [0.5555555555555556, \"#d8576b\"], [0.6666666666666666, \"#ed7953\"], [0.7777777777777778, \"#fb9f3a\"], [0.8888888888888888, \"#fdca26\"], [1.0, \"#f0f921\"]], \"type\": \"contour\"}], \"contourcarpet\": [{\"colorbar\": {\"outlinewidth\": 0, \"ticks\": \"\"}, \"type\": \"contourcarpet\"}], \"heatmap\": [{\"colorbar\": {\"outlinewidth\": 0, \"ticks\": \"\"}, \"colorscale\": [[0.0, \"#0d0887\"], [0.1111111111111111, \"#46039f\"], [0.2222222222222222, \"#7201a8\"], [0.3333333333333333, \"#9c179e\"], [0.4444444444444444, \"#bd3786\"], [0.5555555555555556, \"#d8576b\"], [0.6666666666666666, \"#ed7953\"], [0.7777777777777778, \"#fb9f3a\"], [0.8888888888888888, \"#fdca26\"], [1.0, \"#f0f921\"]], \"type\": \"heatmap\"}], \"heatmapgl\": [{\"colorbar\": {\"outlinewidth\": 0, \"ticks\": \"\"}, \"colorscale\": [[0.0, \"#0d0887\"], [0.1111111111111111, \"#46039f\"], [0.2222222222222222, \"#7201a8\"], [0.3333333333333333, \"#9c179e\"], [0.4444444444444444, \"#bd3786\"], [0.5555555555555556, \"#d8576b\"], [0.6666666666666666, \"#ed7953\"], [0.7777777777777778, \"#fb9f3a\"], [0.8888888888888888, \"#fdca26\"], [1.0, \"#f0f921\"]], \"type\": \"heatmapgl\"}], \"histogram\": [{\"marker\": {\"colorbar\": {\"outlinewidth\": 0, \"ticks\": \"\"}}, \"type\": \"histogram\"}], \"histogram2d\": [{\"colorbar\": {\"outlinewidth\": 0, \"ticks\": \"\"}, \"colorscale\": [[0.0, \"#0d0887\"], [0.1111111111111111, \"#46039f\"], [0.2222222222222222, \"#7201a8\"], [0.3333333333333333, \"#9c179e\"], [0.4444444444444444, \"#bd3786\"], [0.5555555555555556, \"#d8576b\"], [0.6666666666666666, \"#ed7953\"], [0.7777777777777778, \"#fb9f3a\"], [0.8888888888888888, \"#fdca26\"], [1.0, \"#f0f921\"]], \"type\": \"histogram2d\"}], \"histogram2dcontour\": [{\"colorbar\": {\"outlinewidth\": 0, \"ticks\": \"\"}, \"colorscale\": [[0.0, \"#0d0887\"], [0.1111111111111111, \"#46039f\"], [0.2222222222222222, \"#7201a8\"], [0.3333333333333333, \"#9c179e\"], [0.4444444444444444, \"#bd3786\"], [0.5555555555555556, \"#d8576b\"], [0.6666666666666666, \"#ed7953\"], [0.7777777777777778, \"#fb9f3a\"], [0.8888888888888888, \"#fdca26\"], [1.0, \"#f0f921\"]], \"type\": \"histogram2dcontour\"}], \"mesh3d\": [{\"colorbar\": {\"outlinewidth\": 0, \"ticks\": \"\"}, \"type\": \"mesh3d\"}], \"parcoords\": [{\"line\": {\"colorbar\": {\"outlinewidth\": 0, \"ticks\": \"\"}}, \"type\": \"parcoords\"}], \"pie\": [{\"automargin\": true, \"type\": \"pie\"}], \"scatter\": [{\"marker\": {\"colorbar\": {\"outlinewidth\": 0, \"ticks\": \"\"}}, \"type\": \"scatter\"}], \"scatter3d\": [{\"line\": {\"colorbar\": {\"outlinewidth\": 0, \"ticks\": \"\"}}, \"marker\": {\"colorbar\": {\"outlinewidth\": 0, \"ticks\": \"\"}}, \"type\": \"scatter3d\"}], \"scattercarpet\": [{\"marker\": {\"colorbar\": {\"outlinewidth\": 0, \"ticks\": \"\"}}, \"type\": \"scattercarpet\"}], \"scattergeo\": [{\"marker\": {\"colorbar\": {\"outlinewidth\": 0, \"ticks\": \"\"}}, \"type\": \"scattergeo\"}], \"scattergl\": [{\"marker\": {\"colorbar\": {\"outlinewidth\": 0, \"ticks\": \"\"}}, \"type\": \"scattergl\"}], \"scattermapbox\": [{\"marker\": {\"colorbar\": {\"outlinewidth\": 0, \"ticks\": \"\"}}, \"type\": \"scattermapbox\"}], \"scatterpolar\": [{\"marker\": {\"colorbar\": {\"outlinewidth\": 0, \"ticks\": \"\"}}, \"type\": \"scatterpolar\"}], \"scatterpolargl\": [{\"marker\": {\"colorbar\": {\"outlinewidth\": 0, \"ticks\": \"\"}}, \"type\": \"scatterpolargl\"}], \"scatterternary\": [{\"marker\": {\"colorbar\": {\"outlinewidth\": 0, \"ticks\": \"\"}}, \"type\": \"scatterternary\"}], \"surface\": [{\"colorbar\": {\"outlinewidth\": 0, \"ticks\": \"\"}, \"colorscale\": [[0.0, \"#0d0887\"], [0.1111111111111111, \"#46039f\"], [0.2222222222222222, \"#7201a8\"], [0.3333333333333333, \"#9c179e\"], [0.4444444444444444, \"#bd3786\"], [0.5555555555555556, \"#d8576b\"], [0.6666666666666666, \"#ed7953\"], [0.7777777777777778, \"#fb9f3a\"], [0.8888888888888888, \"#fdca26\"], [1.0, \"#f0f921\"]], \"type\": \"surface\"}], \"table\": [{\"cells\": {\"fill\": {\"color\": \"#EBF0F8\"}, \"line\": {\"color\": \"white\"}}, \"header\": {\"fill\": {\"color\": \"#C8D4E3\"}, \"line\": {\"color\": \"white\"}}, \"type\": \"table\"}]}, \"layout\": {\"annotationdefaults\": {\"arrowcolor\": \"#2a3f5f\", \"arrowhead\": 0, \"arrowwidth\": 1}, \"coloraxis\": {\"colorbar\": {\"outlinewidth\": 0, \"ticks\": \"\"}}, \"colorscale\": {\"diverging\": [[0, \"#8e0152\"], [0.1, \"#c51b7d\"], [0.2, \"#de77ae\"], [0.3, \"#f1b6da\"], [0.4, \"#fde0ef\"], [0.5, \"#f7f7f7\"], [0.6, \"#e6f5d0\"], [0.7, \"#b8e186\"], [0.8, \"#7fbc41\"], [0.9, \"#4d9221\"], [1, \"#276419\"]], \"sequential\": [[0.0, \"#0d0887\"], [0.1111111111111111, \"#46039f\"], [0.2222222222222222, \"#7201a8\"], [0.3333333333333333, \"#9c179e\"], [0.4444444444444444, \"#bd3786\"], [0.5555555555555556, \"#d8576b\"], [0.6666666666666666, \"#ed7953\"], [0.7777777777777778, \"#fb9f3a\"], [0.8888888888888888, \"#fdca26\"], [1.0, \"#f0f921\"]], \"sequentialminus\": [[0.0, \"#0d0887\"], [0.1111111111111111, \"#46039f\"], [0.2222222222222222, \"#7201a8\"], [0.3333333333333333, \"#9c179e\"], [0.4444444444444444, \"#bd3786\"], [0.5555555555555556, \"#d8576b\"], [0.6666666666666666, \"#ed7953\"], [0.7777777777777778, \"#fb9f3a\"], [0.8888888888888888, \"#fdca26\"], [1.0, \"#f0f921\"]]}, \"colorway\": [\"#636efa\", \"#EF553B\", \"#00cc96\", \"#ab63fa\", \"#FFA15A\", \"#19d3f3\", \"#FF6692\", \"#B6E880\", \"#FF97FF\", \"#FECB52\"], \"font\": {\"color\": \"#2a3f5f\"}, \"geo\": {\"bgcolor\": \"white\", \"lakecolor\": \"white\", \"landcolor\": \"#E5ECF6\", \"showlakes\": true, \"showland\": true, \"subunitcolor\": \"white\"}, \"hoverlabel\": {\"align\": \"left\"}, \"hovermode\": \"closest\", \"mapbox\": {\"style\": \"light\"}, \"paper_bgcolor\": \"white\", \"plot_bgcolor\": \"#E5ECF6\", \"polar\": {\"angularaxis\": {\"gridcolor\": \"white\", \"linecolor\": \"white\", \"ticks\": \"\"}, \"bgcolor\": \"#E5ECF6\", \"radialaxis\": {\"gridcolor\": \"white\", \"linecolor\": \"white\", \"ticks\": \"\"}}, \"scene\": {\"xaxis\": {\"backgroundcolor\": \"#E5ECF6\", \"gridcolor\": \"white\", \"gridwidth\": 2, \"linecolor\": \"white\", \"showbackground\": true, \"ticks\": \"\", \"zerolinecolor\": \"white\"}, \"yaxis\": {\"backgroundcolor\": \"#E5ECF6\", \"gridcolor\": \"white\", \"gridwidth\": 2, \"linecolor\": \"white\", \"showbackground\": true, \"ticks\": \"\", \"zerolinecolor\": \"white\"}, \"zaxis\": {\"backgroundcolor\": \"#E5ECF6\", \"gridcolor\": \"white\", \"gridwidth\": 2, \"linecolor\": \"white\", \"showbackground\": true, \"ticks\": \"\", \"zerolinecolor\": \"white\"}}, \"shapedefaults\": {\"line\": {\"color\": \"#2a3f5f\"}}, \"ternary\": {\"aaxis\": {\"gridcolor\": \"white\", \"linecolor\": \"white\", \"ticks\": \"\"}, \"baxis\": {\"gridcolor\": \"white\", \"linecolor\": \"white\", \"ticks\": \"\"}, \"bgcolor\": \"#E5ECF6\", \"caxis\": {\"gridcolor\": \"white\", \"linecolor\": \"white\", \"ticks\": \"\"}}, \"title\": {\"x\": 0.05}, \"xaxis\": {\"automargin\": true, \"gridcolor\": \"white\", \"linecolor\": \"white\", \"ticks\": \"\", \"title\": {\"standoff\": 15}, \"zerolinecolor\": \"white\", \"zerolinewidth\": 2}, \"yaxis\": {\"automargin\": true, \"gridcolor\": \"white\", \"linecolor\": \"white\", \"ticks\": \"\", \"title\": {\"standoff\": 15}, \"zerolinecolor\": \"white\", \"zerolinewidth\": 2}}}, \"title\": {\"text\": \"Energy demand in agriculture water pumping\"}, \"xaxis\": {\"anchor\": \"y\", \"domain\": [0.0, 1.0], \"title\": {\"text\": \"Year\"}}, \"yaxis\": {\"anchor\": \"x\", \"domain\": [0.0, 1.0], \"title\": {\"text\": \"Energy demand (kWh)\"}}},\n",
       "                        {\"responsive\": true}\n",
       "                    ).then(function(){\n",
       "                            \n",
       "var gd = document.getElementById('26f501b9-83fb-437a-b939-775d86736625');\n",
       "var x = new MutationObserver(function (mutations, observer) {{\n",
       "        var display = window.getComputedStyle(gd).display;\n",
       "        if (!display || display === 'none') {{\n",
       "            console.log([gd, 'removed!']);\n",
       "            Plotly.purge(gd);\n",
       "            observer.disconnect();\n",
       "        }}\n",
       "}});\n",
       "\n",
       "// Listen for the removal of the full notebook cells\n",
       "var notebookContainer = gd.closest('#notebook-container');\n",
       "if (notebookContainer) {{\n",
       "    x.observe(notebookContainer, {childList: true});\n",
       "}}\n",
       "\n",
       "// Listen for the clearing of the current output cell\n",
       "var outputEl = gd.closest('.output');\n",
       "if (outputEl) {{\n",
       "    x.observe(outputEl, {childList: true});\n",
       "}}\n",
       "\n",
       "                        })\n",
       "                };\n",
       "                });\n",
       "            </script>\n",
       "        </div>"
      ]
     },
     "metadata": {},
     "output_type": "display_data"
    }
   ],
   "source": [
    "df = bau2.melt(value_vars=['pv_demand(KWh)', 'butane_demand(KWh)', 'grid_demand(KWh)'], \n",
    "                   id_vars=['Year'])\n",
    "\n",
    "df.loc[df['variable']=='butane_demand(KWh)', 'variable'] = \"Butane\"\n",
    "df.loc[df['variable']=='grid_demand(KWh)', 'variable'] = \"Grid\"\n",
    "df.loc[df['variable']=='pv_demand(KWh)', 'variable'] = \"PV\"\n",
    "\n",
    "fig = px.bar(df, x='Year',  y='value', color='variable',\n",
    "             title='Energy demand in agriculture water pumping',\n",
    "             color_discrete_sequence=px.colors.qualitative.Set2,\n",
    "             labels={'value': 'Energy demand (kWh)',\n",
    "                     'variable': ''}\n",
    "            )\n",
    "fig.show()"
   ]
  },
  {
   "cell_type": "code",
   "execution_count": 8,
   "metadata": {},
   "outputs": [
    {
     "data": {
      "application/vnd.plotly.v1+json": {
       "config": {
        "plotlyServerURL": "https://plot.ly"
       },
       "data": [
        {
         "alignmentgroup": "True",
         "hovertemplate": "=Butane<br>Year=%{x}<br>Emissions (MtCO2)=%{y}<extra></extra>",
         "legendgroup": "Butane",
         "marker": {
          "color": "#636efa"
         },
         "name": "Butane",
         "offsetgroup": "Butane",
         "orientation": "v",
         "showlegend": true,
         "textposition": "auto",
         "type": "bar",
         "x": [
          2020,
          2021,
          2022,
          2023,
          2024,
          2025,
          2026,
          2027,
          2028,
          2029,
          2030,
          2031,
          2032,
          2033,
          2034,
          2035,
          2036,
          2037,
          2038,
          2039,
          2040,
          2041,
          2042,
          2043,
          2044,
          2045,
          2046,
          2047,
          2048,
          2049,
          2050
         ],
         "xaxis": "x",
         "y": [
          0.09161201192127401,
          0.1126875462128986,
          0.10348269718309114,
          0.1143170346552409,
          0.11503589508622775,
          0.10737219763712376,
          0.1085565737051852,
          0.10720438089806272,
          0.10320771844339206,
          0.10862099113291256,
          0.13404352676138254,
          0.1253360688184876,
          0.14292890275255182,
          0.13396655827739473,
          0.14285288239344146,
          0.1295933320112852,
          0.11020551524564164,
          0.1284374437422286,
          0.13744072364704335,
          0.1315760864265546,
          0.14573700149320962,
          0.14321845563722818,
          0.13611182438645736,
          0.13512879097995745,
          0.1331874280626496,
          0.1443564723434677,
          0.1344308492335962,
          0.14761188418474633,
          0.1447443113379825,
          0.13639831667142216,
          0.11270462867287635
         ],
         "yaxis": "y"
        },
        {
         "alignmentgroup": "True",
         "hovertemplate": "=Grid<br>Year=%{x}<br>Emissions (MtCO2)=%{y}<extra></extra>",
         "legendgroup": "Grid",
         "marker": {
          "color": "#EF553B"
         },
         "name": "Grid",
         "offsetgroup": "Grid",
         "orientation": "v",
         "showlegend": true,
         "textposition": "auto",
         "type": "bar",
         "x": [
          2020,
          2021,
          2022,
          2023,
          2024,
          2025,
          2026,
          2027,
          2028,
          2029,
          2030,
          2031,
          2032,
          2033,
          2034,
          2035,
          2036,
          2037,
          2038,
          2039,
          2040,
          2041,
          2042,
          2043,
          2044,
          2045,
          2046,
          2047,
          2048,
          2049,
          2050
         ],
         "xaxis": "x",
         "y": [
          0.40809224452018855,
          0.4983891822831162,
          0.4543857582645269,
          0.4983212444754156,
          0.4977945863568194,
          0.4612150765627919,
          0.4628484468269254,
          0.4536720865561688,
          0.4334749383082005,
          0.4527546732791228,
          0.554455994189313,
          0.5144505833141911,
          0.5821138255472587,
          0.5413498314064651,
          0.5727135227200715,
          0.5154310225012365,
          0.4348133796896501,
          0.5026603734715395,
          0.5335230026444582,
          0.5065708786729861,
          0.5564536053582866,
          0.5468372834396092,
          0.5197027154100431,
          0.5159492933028855,
          0.5085367736024939,
          0.5511824634052803,
          0.5132844093193188,
          0.5636122899932083,
          0.552663311814299,
          0.5207966014049653,
          0.4303292665762095
         ],
         "yaxis": "y"
        }
       ],
       "layout": {
        "barmode": "relative",
        "legend": {
         "orientation": "h",
         "title": {
          "text": ""
         },
         "tracegroupgap": 0,
         "x": 0,
         "xanchor": "left",
         "y": -0.2,
         "yanchor": "bottom"
        },
        "template": {
         "data": {
          "bar": [
           {
            "error_x": {
             "color": "#2a3f5f"
            },
            "error_y": {
             "color": "#2a3f5f"
            },
            "marker": {
             "line": {
              "color": "#E5ECF6",
              "width": 0.5
             }
            },
            "type": "bar"
           }
          ],
          "barpolar": [
           {
            "marker": {
             "line": {
              "color": "#E5ECF6",
              "width": 0.5
             }
            },
            "type": "barpolar"
           }
          ],
          "carpet": [
           {
            "aaxis": {
             "endlinecolor": "#2a3f5f",
             "gridcolor": "white",
             "linecolor": "white",
             "minorgridcolor": "white",
             "startlinecolor": "#2a3f5f"
            },
            "baxis": {
             "endlinecolor": "#2a3f5f",
             "gridcolor": "white",
             "linecolor": "white",
             "minorgridcolor": "white",
             "startlinecolor": "#2a3f5f"
            },
            "type": "carpet"
           }
          ],
          "choropleth": [
           {
            "colorbar": {
             "outlinewidth": 0,
             "ticks": ""
            },
            "type": "choropleth"
           }
          ],
          "contour": [
           {
            "colorbar": {
             "outlinewidth": 0,
             "ticks": ""
            },
            "colorscale": [
             [
              0,
              "#0d0887"
             ],
             [
              0.1111111111111111,
              "#46039f"
             ],
             [
              0.2222222222222222,
              "#7201a8"
             ],
             [
              0.3333333333333333,
              "#9c179e"
             ],
             [
              0.4444444444444444,
              "#bd3786"
             ],
             [
              0.5555555555555556,
              "#d8576b"
             ],
             [
              0.6666666666666666,
              "#ed7953"
             ],
             [
              0.7777777777777778,
              "#fb9f3a"
             ],
             [
              0.8888888888888888,
              "#fdca26"
             ],
             [
              1,
              "#f0f921"
             ]
            ],
            "type": "contour"
           }
          ],
          "contourcarpet": [
           {
            "colorbar": {
             "outlinewidth": 0,
             "ticks": ""
            },
            "type": "contourcarpet"
           }
          ],
          "heatmap": [
           {
            "colorbar": {
             "outlinewidth": 0,
             "ticks": ""
            },
            "colorscale": [
             [
              0,
              "#0d0887"
             ],
             [
              0.1111111111111111,
              "#46039f"
             ],
             [
              0.2222222222222222,
              "#7201a8"
             ],
             [
              0.3333333333333333,
              "#9c179e"
             ],
             [
              0.4444444444444444,
              "#bd3786"
             ],
             [
              0.5555555555555556,
              "#d8576b"
             ],
             [
              0.6666666666666666,
              "#ed7953"
             ],
             [
              0.7777777777777778,
              "#fb9f3a"
             ],
             [
              0.8888888888888888,
              "#fdca26"
             ],
             [
              1,
              "#f0f921"
             ]
            ],
            "type": "heatmap"
           }
          ],
          "heatmapgl": [
           {
            "colorbar": {
             "outlinewidth": 0,
             "ticks": ""
            },
            "colorscale": [
             [
              0,
              "#0d0887"
             ],
             [
              0.1111111111111111,
              "#46039f"
             ],
             [
              0.2222222222222222,
              "#7201a8"
             ],
             [
              0.3333333333333333,
              "#9c179e"
             ],
             [
              0.4444444444444444,
              "#bd3786"
             ],
             [
              0.5555555555555556,
              "#d8576b"
             ],
             [
              0.6666666666666666,
              "#ed7953"
             ],
             [
              0.7777777777777778,
              "#fb9f3a"
             ],
             [
              0.8888888888888888,
              "#fdca26"
             ],
             [
              1,
              "#f0f921"
             ]
            ],
            "type": "heatmapgl"
           }
          ],
          "histogram": [
           {
            "marker": {
             "colorbar": {
              "outlinewidth": 0,
              "ticks": ""
             }
            },
            "type": "histogram"
           }
          ],
          "histogram2d": [
           {
            "colorbar": {
             "outlinewidth": 0,
             "ticks": ""
            },
            "colorscale": [
             [
              0,
              "#0d0887"
             ],
             [
              0.1111111111111111,
              "#46039f"
             ],
             [
              0.2222222222222222,
              "#7201a8"
             ],
             [
              0.3333333333333333,
              "#9c179e"
             ],
             [
              0.4444444444444444,
              "#bd3786"
             ],
             [
              0.5555555555555556,
              "#d8576b"
             ],
             [
              0.6666666666666666,
              "#ed7953"
             ],
             [
              0.7777777777777778,
              "#fb9f3a"
             ],
             [
              0.8888888888888888,
              "#fdca26"
             ],
             [
              1,
              "#f0f921"
             ]
            ],
            "type": "histogram2d"
           }
          ],
          "histogram2dcontour": [
           {
            "colorbar": {
             "outlinewidth": 0,
             "ticks": ""
            },
            "colorscale": [
             [
              0,
              "#0d0887"
             ],
             [
              0.1111111111111111,
              "#46039f"
             ],
             [
              0.2222222222222222,
              "#7201a8"
             ],
             [
              0.3333333333333333,
              "#9c179e"
             ],
             [
              0.4444444444444444,
              "#bd3786"
             ],
             [
              0.5555555555555556,
              "#d8576b"
             ],
             [
              0.6666666666666666,
              "#ed7953"
             ],
             [
              0.7777777777777778,
              "#fb9f3a"
             ],
             [
              0.8888888888888888,
              "#fdca26"
             ],
             [
              1,
              "#f0f921"
             ]
            ],
            "type": "histogram2dcontour"
           }
          ],
          "mesh3d": [
           {
            "colorbar": {
             "outlinewidth": 0,
             "ticks": ""
            },
            "type": "mesh3d"
           }
          ],
          "parcoords": [
           {
            "line": {
             "colorbar": {
              "outlinewidth": 0,
              "ticks": ""
             }
            },
            "type": "parcoords"
           }
          ],
          "pie": [
           {
            "automargin": true,
            "type": "pie"
           }
          ],
          "scatter": [
           {
            "marker": {
             "colorbar": {
              "outlinewidth": 0,
              "ticks": ""
             }
            },
            "type": "scatter"
           }
          ],
          "scatter3d": [
           {
            "line": {
             "colorbar": {
              "outlinewidth": 0,
              "ticks": ""
             }
            },
            "marker": {
             "colorbar": {
              "outlinewidth": 0,
              "ticks": ""
             }
            },
            "type": "scatter3d"
           }
          ],
          "scattercarpet": [
           {
            "marker": {
             "colorbar": {
              "outlinewidth": 0,
              "ticks": ""
             }
            },
            "type": "scattercarpet"
           }
          ],
          "scattergeo": [
           {
            "marker": {
             "colorbar": {
              "outlinewidth": 0,
              "ticks": ""
             }
            },
            "type": "scattergeo"
           }
          ],
          "scattergl": [
           {
            "marker": {
             "colorbar": {
              "outlinewidth": 0,
              "ticks": ""
             }
            },
            "type": "scattergl"
           }
          ],
          "scattermapbox": [
           {
            "marker": {
             "colorbar": {
              "outlinewidth": 0,
              "ticks": ""
             }
            },
            "type": "scattermapbox"
           }
          ],
          "scatterpolar": [
           {
            "marker": {
             "colorbar": {
              "outlinewidth": 0,
              "ticks": ""
             }
            },
            "type": "scatterpolar"
           }
          ],
          "scatterpolargl": [
           {
            "marker": {
             "colorbar": {
              "outlinewidth": 0,
              "ticks": ""
             }
            },
            "type": "scatterpolargl"
           }
          ],
          "scatterternary": [
           {
            "marker": {
             "colorbar": {
              "outlinewidth": 0,
              "ticks": ""
             }
            },
            "type": "scatterternary"
           }
          ],
          "surface": [
           {
            "colorbar": {
             "outlinewidth": 0,
             "ticks": ""
            },
            "colorscale": [
             [
              0,
              "#0d0887"
             ],
             [
              0.1111111111111111,
              "#46039f"
             ],
             [
              0.2222222222222222,
              "#7201a8"
             ],
             [
              0.3333333333333333,
              "#9c179e"
             ],
             [
              0.4444444444444444,
              "#bd3786"
             ],
             [
              0.5555555555555556,
              "#d8576b"
             ],
             [
              0.6666666666666666,
              "#ed7953"
             ],
             [
              0.7777777777777778,
              "#fb9f3a"
             ],
             [
              0.8888888888888888,
              "#fdca26"
             ],
             [
              1,
              "#f0f921"
             ]
            ],
            "type": "surface"
           }
          ],
          "table": [
           {
            "cells": {
             "fill": {
              "color": "#EBF0F8"
             },
             "line": {
              "color": "white"
             }
            },
            "header": {
             "fill": {
              "color": "#C8D4E3"
             },
             "line": {
              "color": "white"
             }
            },
            "type": "table"
           }
          ]
         },
         "layout": {
          "annotationdefaults": {
           "arrowcolor": "#2a3f5f",
           "arrowhead": 0,
           "arrowwidth": 1
          },
          "coloraxis": {
           "colorbar": {
            "outlinewidth": 0,
            "ticks": ""
           }
          },
          "colorscale": {
           "diverging": [
            [
             0,
             "#8e0152"
            ],
            [
             0.1,
             "#c51b7d"
            ],
            [
             0.2,
             "#de77ae"
            ],
            [
             0.3,
             "#f1b6da"
            ],
            [
             0.4,
             "#fde0ef"
            ],
            [
             0.5,
             "#f7f7f7"
            ],
            [
             0.6,
             "#e6f5d0"
            ],
            [
             0.7,
             "#b8e186"
            ],
            [
             0.8,
             "#7fbc41"
            ],
            [
             0.9,
             "#4d9221"
            ],
            [
             1,
             "#276419"
            ]
           ],
           "sequential": [
            [
             0,
             "#0d0887"
            ],
            [
             0.1111111111111111,
             "#46039f"
            ],
            [
             0.2222222222222222,
             "#7201a8"
            ],
            [
             0.3333333333333333,
             "#9c179e"
            ],
            [
             0.4444444444444444,
             "#bd3786"
            ],
            [
             0.5555555555555556,
             "#d8576b"
            ],
            [
             0.6666666666666666,
             "#ed7953"
            ],
            [
             0.7777777777777778,
             "#fb9f3a"
            ],
            [
             0.8888888888888888,
             "#fdca26"
            ],
            [
             1,
             "#f0f921"
            ]
           ],
           "sequentialminus": [
            [
             0,
             "#0d0887"
            ],
            [
             0.1111111111111111,
             "#46039f"
            ],
            [
             0.2222222222222222,
             "#7201a8"
            ],
            [
             0.3333333333333333,
             "#9c179e"
            ],
            [
             0.4444444444444444,
             "#bd3786"
            ],
            [
             0.5555555555555556,
             "#d8576b"
            ],
            [
             0.6666666666666666,
             "#ed7953"
            ],
            [
             0.7777777777777778,
             "#fb9f3a"
            ],
            [
             0.8888888888888888,
             "#fdca26"
            ],
            [
             1,
             "#f0f921"
            ]
           ]
          },
          "colorway": [
           "#636efa",
           "#EF553B",
           "#00cc96",
           "#ab63fa",
           "#FFA15A",
           "#19d3f3",
           "#FF6692",
           "#B6E880",
           "#FF97FF",
           "#FECB52"
          ],
          "font": {
           "color": "#2a3f5f"
          },
          "geo": {
           "bgcolor": "white",
           "lakecolor": "white",
           "landcolor": "#E5ECF6",
           "showlakes": true,
           "showland": true,
           "subunitcolor": "white"
          },
          "hoverlabel": {
           "align": "left"
          },
          "hovermode": "closest",
          "mapbox": {
           "style": "light"
          },
          "paper_bgcolor": "white",
          "plot_bgcolor": "#E5ECF6",
          "polar": {
           "angularaxis": {
            "gridcolor": "white",
            "linecolor": "white",
            "ticks": ""
           },
           "bgcolor": "#E5ECF6",
           "radialaxis": {
            "gridcolor": "white",
            "linecolor": "white",
            "ticks": ""
           }
          },
          "scene": {
           "xaxis": {
            "backgroundcolor": "#E5ECF6",
            "gridcolor": "white",
            "gridwidth": 2,
            "linecolor": "white",
            "showbackground": true,
            "ticks": "",
            "zerolinecolor": "white"
           },
           "yaxis": {
            "backgroundcolor": "#E5ECF6",
            "gridcolor": "white",
            "gridwidth": 2,
            "linecolor": "white",
            "showbackground": true,
            "ticks": "",
            "zerolinecolor": "white"
           },
           "zaxis": {
            "backgroundcolor": "#E5ECF6",
            "gridcolor": "white",
            "gridwidth": 2,
            "linecolor": "white",
            "showbackground": true,
            "ticks": "",
            "zerolinecolor": "white"
           }
          },
          "shapedefaults": {
           "line": {
            "color": "#2a3f5f"
           }
          },
          "ternary": {
           "aaxis": {
            "gridcolor": "white",
            "linecolor": "white",
            "ticks": ""
           },
           "baxis": {
            "gridcolor": "white",
            "linecolor": "white",
            "ticks": ""
           },
           "bgcolor": "#E5ECF6",
           "caxis": {
            "gridcolor": "white",
            "linecolor": "white",
            "ticks": ""
           }
          },
          "title": {
           "x": 0.05
          },
          "xaxis": {
           "automargin": true,
           "gridcolor": "white",
           "linecolor": "white",
           "ticks": "",
           "title": {
            "standoff": 15
           },
           "zerolinecolor": "white",
           "zerolinewidth": 2
          },
          "yaxis": {
           "automargin": true,
           "gridcolor": "white",
           "linecolor": "white",
           "ticks": "",
           "title": {
            "standoff": 15
           },
           "zerolinecolor": "white",
           "zerolinewidth": 2
          }
         }
        },
        "title": {
         "text": "Yearly emissions"
        },
        "xaxis": {
         "anchor": "y",
         "domain": [
          0,
          1
         ],
         "title": {
          "text": "Year"
         }
        },
        "yaxis": {
         "anchor": "x",
         "domain": [
          0,
          1
         ],
         "title": {
          "text": "Emissions (MtCO2)"
         }
        }
       }
      },
      "text/html": [
       "<div>\n",
       "        \n",
       "        \n",
       "            <div id=\"37c6af8d-fe78-4c62-8bcf-7f4c4f89bfe8\" class=\"plotly-graph-div\" style=\"height:525px; width:100%;\"></div>\n",
       "            <script type=\"text/javascript\">\n",
       "                require([\"plotly\"], function(Plotly) {\n",
       "                    window.PLOTLYENV=window.PLOTLYENV || {};\n",
       "                    \n",
       "                if (document.getElementById(\"37c6af8d-fe78-4c62-8bcf-7f4c4f89bfe8\")) {\n",
       "                    Plotly.newPlot(\n",
       "                        '37c6af8d-fe78-4c62-8bcf-7f4c4f89bfe8',\n",
       "                        [{\"alignmentgroup\": \"True\", \"hovertemplate\": \"=Butane<br>Year=%{x}<br>Emissions (MtCO2)=%{y}<extra></extra>\", \"legendgroup\": \"Butane\", \"marker\": {\"color\": \"#636efa\"}, \"name\": \"Butane\", \"offsetgroup\": \"Butane\", \"orientation\": \"v\", \"showlegend\": true, \"textposition\": \"auto\", \"type\": \"bar\", \"x\": [2020, 2021, 2022, 2023, 2024, 2025, 2026, 2027, 2028, 2029, 2030, 2031, 2032, 2033, 2034, 2035, 2036, 2037, 2038, 2039, 2040, 2041, 2042, 2043, 2044, 2045, 2046, 2047, 2048, 2049, 2050], \"xaxis\": \"x\", \"y\": [0.09161201192127401, 0.1126875462128986, 0.10348269718309114, 0.1143170346552409, 0.11503589508622775, 0.10737219763712376, 0.1085565737051852, 0.10720438089806272, 0.10320771844339206, 0.10862099113291256, 0.13404352676138254, 0.1253360688184876, 0.14292890275255182, 0.13396655827739473, 0.14285288239344146, 0.1295933320112852, 0.11020551524564164, 0.1284374437422286, 0.13744072364704335, 0.1315760864265546, 0.14573700149320962, 0.14321845563722818, 0.13611182438645736, 0.13512879097995745, 0.1331874280626496, 0.1443564723434677, 0.1344308492335962, 0.14761188418474633, 0.1447443113379825, 0.13639831667142216, 0.11270462867287635], \"yaxis\": \"y\"}, {\"alignmentgroup\": \"True\", \"hovertemplate\": \"=Grid<br>Year=%{x}<br>Emissions (MtCO2)=%{y}<extra></extra>\", \"legendgroup\": \"Grid\", \"marker\": {\"color\": \"#EF553B\"}, \"name\": \"Grid\", \"offsetgroup\": \"Grid\", \"orientation\": \"v\", \"showlegend\": true, \"textposition\": \"auto\", \"type\": \"bar\", \"x\": [2020, 2021, 2022, 2023, 2024, 2025, 2026, 2027, 2028, 2029, 2030, 2031, 2032, 2033, 2034, 2035, 2036, 2037, 2038, 2039, 2040, 2041, 2042, 2043, 2044, 2045, 2046, 2047, 2048, 2049, 2050], \"xaxis\": \"x\", \"y\": [0.40809224452018855, 0.4983891822831162, 0.4543857582645269, 0.4983212444754156, 0.4977945863568194, 0.4612150765627919, 0.4628484468269254, 0.4536720865561688, 0.4334749383082005, 0.4527546732791228, 0.554455994189313, 0.5144505833141911, 0.5821138255472587, 0.5413498314064651, 0.5727135227200715, 0.5154310225012365, 0.4348133796896501, 0.5026603734715395, 0.5335230026444582, 0.5065708786729861, 0.5564536053582866, 0.5468372834396092, 0.5197027154100431, 0.5159492933028855, 0.5085367736024939, 0.5511824634052803, 0.5132844093193188, 0.5636122899932083, 0.552663311814299, 0.5207966014049653, 0.4303292665762095], \"yaxis\": \"y\"}],\n",
       "                        {\"barmode\": \"relative\", \"legend\": {\"orientation\": \"h\", \"title\": {\"text\": \"\"}, \"tracegroupgap\": 0, \"x\": 0, \"xanchor\": \"left\", \"y\": -0.2, \"yanchor\": \"bottom\"}, \"template\": {\"data\": {\"bar\": [{\"error_x\": {\"color\": \"#2a3f5f\"}, \"error_y\": {\"color\": \"#2a3f5f\"}, \"marker\": {\"line\": {\"color\": \"#E5ECF6\", \"width\": 0.5}}, \"type\": \"bar\"}], \"barpolar\": [{\"marker\": {\"line\": {\"color\": \"#E5ECF6\", \"width\": 0.5}}, \"type\": \"barpolar\"}], \"carpet\": [{\"aaxis\": {\"endlinecolor\": \"#2a3f5f\", \"gridcolor\": \"white\", \"linecolor\": \"white\", \"minorgridcolor\": \"white\", \"startlinecolor\": \"#2a3f5f\"}, \"baxis\": {\"endlinecolor\": \"#2a3f5f\", \"gridcolor\": \"white\", \"linecolor\": \"white\", \"minorgridcolor\": \"white\", \"startlinecolor\": \"#2a3f5f\"}, \"type\": \"carpet\"}], \"choropleth\": [{\"colorbar\": {\"outlinewidth\": 0, \"ticks\": \"\"}, \"type\": \"choropleth\"}], \"contour\": [{\"colorbar\": {\"outlinewidth\": 0, \"ticks\": \"\"}, \"colorscale\": [[0.0, \"#0d0887\"], [0.1111111111111111, \"#46039f\"], [0.2222222222222222, \"#7201a8\"], [0.3333333333333333, \"#9c179e\"], [0.4444444444444444, \"#bd3786\"], [0.5555555555555556, \"#d8576b\"], [0.6666666666666666, \"#ed7953\"], [0.7777777777777778, \"#fb9f3a\"], [0.8888888888888888, \"#fdca26\"], [1.0, \"#f0f921\"]], \"type\": \"contour\"}], \"contourcarpet\": [{\"colorbar\": {\"outlinewidth\": 0, \"ticks\": \"\"}, \"type\": \"contourcarpet\"}], \"heatmap\": [{\"colorbar\": {\"outlinewidth\": 0, \"ticks\": \"\"}, \"colorscale\": [[0.0, \"#0d0887\"], [0.1111111111111111, \"#46039f\"], [0.2222222222222222, \"#7201a8\"], [0.3333333333333333, \"#9c179e\"], [0.4444444444444444, \"#bd3786\"], [0.5555555555555556, \"#d8576b\"], [0.6666666666666666, \"#ed7953\"], [0.7777777777777778, \"#fb9f3a\"], [0.8888888888888888, \"#fdca26\"], [1.0, \"#f0f921\"]], \"type\": \"heatmap\"}], \"heatmapgl\": [{\"colorbar\": {\"outlinewidth\": 0, \"ticks\": \"\"}, \"colorscale\": [[0.0, \"#0d0887\"], [0.1111111111111111, \"#46039f\"], [0.2222222222222222, \"#7201a8\"], [0.3333333333333333, \"#9c179e\"], [0.4444444444444444, \"#bd3786\"], [0.5555555555555556, \"#d8576b\"], [0.6666666666666666, \"#ed7953\"], [0.7777777777777778, \"#fb9f3a\"], [0.8888888888888888, \"#fdca26\"], [1.0, \"#f0f921\"]], \"type\": \"heatmapgl\"}], \"histogram\": [{\"marker\": {\"colorbar\": {\"outlinewidth\": 0, \"ticks\": \"\"}}, \"type\": \"histogram\"}], \"histogram2d\": [{\"colorbar\": {\"outlinewidth\": 0, \"ticks\": \"\"}, \"colorscale\": [[0.0, \"#0d0887\"], [0.1111111111111111, \"#46039f\"], [0.2222222222222222, \"#7201a8\"], [0.3333333333333333, \"#9c179e\"], [0.4444444444444444, \"#bd3786\"], [0.5555555555555556, \"#d8576b\"], [0.6666666666666666, \"#ed7953\"], [0.7777777777777778, \"#fb9f3a\"], [0.8888888888888888, \"#fdca26\"], [1.0, \"#f0f921\"]], \"type\": \"histogram2d\"}], \"histogram2dcontour\": [{\"colorbar\": {\"outlinewidth\": 0, \"ticks\": \"\"}, \"colorscale\": [[0.0, \"#0d0887\"], [0.1111111111111111, \"#46039f\"], [0.2222222222222222, \"#7201a8\"], [0.3333333333333333, \"#9c179e\"], [0.4444444444444444, \"#bd3786\"], [0.5555555555555556, \"#d8576b\"], [0.6666666666666666, \"#ed7953\"], [0.7777777777777778, \"#fb9f3a\"], [0.8888888888888888, \"#fdca26\"], [1.0, \"#f0f921\"]], \"type\": \"histogram2dcontour\"}], \"mesh3d\": [{\"colorbar\": {\"outlinewidth\": 0, \"ticks\": \"\"}, \"type\": \"mesh3d\"}], \"parcoords\": [{\"line\": {\"colorbar\": {\"outlinewidth\": 0, \"ticks\": \"\"}}, \"type\": \"parcoords\"}], \"pie\": [{\"automargin\": true, \"type\": \"pie\"}], \"scatter\": [{\"marker\": {\"colorbar\": {\"outlinewidth\": 0, \"ticks\": \"\"}}, \"type\": \"scatter\"}], \"scatter3d\": [{\"line\": {\"colorbar\": {\"outlinewidth\": 0, \"ticks\": \"\"}}, \"marker\": {\"colorbar\": {\"outlinewidth\": 0, \"ticks\": \"\"}}, \"type\": \"scatter3d\"}], \"scattercarpet\": [{\"marker\": {\"colorbar\": {\"outlinewidth\": 0, \"ticks\": \"\"}}, \"type\": \"scattercarpet\"}], \"scattergeo\": [{\"marker\": {\"colorbar\": {\"outlinewidth\": 0, \"ticks\": \"\"}}, \"type\": \"scattergeo\"}], \"scattergl\": [{\"marker\": {\"colorbar\": {\"outlinewidth\": 0, \"ticks\": \"\"}}, \"type\": \"scattergl\"}], \"scattermapbox\": [{\"marker\": {\"colorbar\": {\"outlinewidth\": 0, \"ticks\": \"\"}}, \"type\": \"scattermapbox\"}], \"scatterpolar\": [{\"marker\": {\"colorbar\": {\"outlinewidth\": 0, \"ticks\": \"\"}}, \"type\": \"scatterpolar\"}], \"scatterpolargl\": [{\"marker\": {\"colorbar\": {\"outlinewidth\": 0, \"ticks\": \"\"}}, \"type\": \"scatterpolargl\"}], \"scatterternary\": [{\"marker\": {\"colorbar\": {\"outlinewidth\": 0, \"ticks\": \"\"}}, \"type\": \"scatterternary\"}], \"surface\": [{\"colorbar\": {\"outlinewidth\": 0, \"ticks\": \"\"}, \"colorscale\": [[0.0, \"#0d0887\"], [0.1111111111111111, \"#46039f\"], [0.2222222222222222, \"#7201a8\"], [0.3333333333333333, \"#9c179e\"], [0.4444444444444444, \"#bd3786\"], [0.5555555555555556, \"#d8576b\"], [0.6666666666666666, \"#ed7953\"], [0.7777777777777778, \"#fb9f3a\"], [0.8888888888888888, \"#fdca26\"], [1.0, \"#f0f921\"]], \"type\": \"surface\"}], \"table\": [{\"cells\": {\"fill\": {\"color\": \"#EBF0F8\"}, \"line\": {\"color\": \"white\"}}, \"header\": {\"fill\": {\"color\": \"#C8D4E3\"}, \"line\": {\"color\": \"white\"}}, \"type\": \"table\"}]}, \"layout\": {\"annotationdefaults\": {\"arrowcolor\": \"#2a3f5f\", \"arrowhead\": 0, \"arrowwidth\": 1}, \"coloraxis\": {\"colorbar\": {\"outlinewidth\": 0, \"ticks\": \"\"}}, \"colorscale\": {\"diverging\": [[0, \"#8e0152\"], [0.1, \"#c51b7d\"], [0.2, \"#de77ae\"], [0.3, \"#f1b6da\"], [0.4, \"#fde0ef\"], [0.5, \"#f7f7f7\"], [0.6, \"#e6f5d0\"], [0.7, \"#b8e186\"], [0.8, \"#7fbc41\"], [0.9, \"#4d9221\"], [1, \"#276419\"]], \"sequential\": [[0.0, \"#0d0887\"], [0.1111111111111111, \"#46039f\"], [0.2222222222222222, \"#7201a8\"], [0.3333333333333333, \"#9c179e\"], [0.4444444444444444, \"#bd3786\"], [0.5555555555555556, \"#d8576b\"], [0.6666666666666666, \"#ed7953\"], [0.7777777777777778, \"#fb9f3a\"], [0.8888888888888888, \"#fdca26\"], [1.0, \"#f0f921\"]], \"sequentialminus\": [[0.0, \"#0d0887\"], [0.1111111111111111, \"#46039f\"], [0.2222222222222222, \"#7201a8\"], [0.3333333333333333, \"#9c179e\"], [0.4444444444444444, \"#bd3786\"], [0.5555555555555556, \"#d8576b\"], [0.6666666666666666, \"#ed7953\"], [0.7777777777777778, \"#fb9f3a\"], [0.8888888888888888, \"#fdca26\"], [1.0, \"#f0f921\"]]}, \"colorway\": [\"#636efa\", \"#EF553B\", \"#00cc96\", \"#ab63fa\", \"#FFA15A\", \"#19d3f3\", \"#FF6692\", \"#B6E880\", \"#FF97FF\", \"#FECB52\"], \"font\": {\"color\": \"#2a3f5f\"}, \"geo\": {\"bgcolor\": \"white\", \"lakecolor\": \"white\", \"landcolor\": \"#E5ECF6\", \"showlakes\": true, \"showland\": true, \"subunitcolor\": \"white\"}, \"hoverlabel\": {\"align\": \"left\"}, \"hovermode\": \"closest\", \"mapbox\": {\"style\": \"light\"}, \"paper_bgcolor\": \"white\", \"plot_bgcolor\": \"#E5ECF6\", \"polar\": {\"angularaxis\": {\"gridcolor\": \"white\", \"linecolor\": \"white\", \"ticks\": \"\"}, \"bgcolor\": \"#E5ECF6\", \"radialaxis\": {\"gridcolor\": \"white\", \"linecolor\": \"white\", \"ticks\": \"\"}}, \"scene\": {\"xaxis\": {\"backgroundcolor\": \"#E5ECF6\", \"gridcolor\": \"white\", \"gridwidth\": 2, \"linecolor\": \"white\", \"showbackground\": true, \"ticks\": \"\", \"zerolinecolor\": \"white\"}, \"yaxis\": {\"backgroundcolor\": \"#E5ECF6\", \"gridcolor\": \"white\", \"gridwidth\": 2, \"linecolor\": \"white\", \"showbackground\": true, \"ticks\": \"\", \"zerolinecolor\": \"white\"}, \"zaxis\": {\"backgroundcolor\": \"#E5ECF6\", \"gridcolor\": \"white\", \"gridwidth\": 2, \"linecolor\": \"white\", \"showbackground\": true, \"ticks\": \"\", \"zerolinecolor\": \"white\"}}, \"shapedefaults\": {\"line\": {\"color\": \"#2a3f5f\"}}, \"ternary\": {\"aaxis\": {\"gridcolor\": \"white\", \"linecolor\": \"white\", \"ticks\": \"\"}, \"baxis\": {\"gridcolor\": \"white\", \"linecolor\": \"white\", \"ticks\": \"\"}, \"bgcolor\": \"#E5ECF6\", \"caxis\": {\"gridcolor\": \"white\", \"linecolor\": \"white\", \"ticks\": \"\"}}, \"title\": {\"x\": 0.05}, \"xaxis\": {\"automargin\": true, \"gridcolor\": \"white\", \"linecolor\": \"white\", \"ticks\": \"\", \"title\": {\"standoff\": 15}, \"zerolinecolor\": \"white\", \"zerolinewidth\": 2}, \"yaxis\": {\"automargin\": true, \"gridcolor\": \"white\", \"linecolor\": \"white\", \"ticks\": \"\", \"title\": {\"standoff\": 15}, \"zerolinecolor\": \"white\", \"zerolinewidth\": 2}}}, \"title\": {\"text\": \"Yearly emissions\"}, \"xaxis\": {\"anchor\": \"y\", \"domain\": [0.0, 1.0], \"title\": {\"text\": \"Year\"}}, \"yaxis\": {\"anchor\": \"x\", \"domain\": [0.0, 1.0], \"title\": {\"text\": \"Emissions (MtCO2)\"}}},\n",
       "                        {\"responsive\": true}\n",
       "                    ).then(function(){\n",
       "                            \n",
       "var gd = document.getElementById('37c6af8d-fe78-4c62-8bcf-7f4c4f89bfe8');\n",
       "var x = new MutationObserver(function (mutations, observer) {{\n",
       "        var display = window.getComputedStyle(gd).display;\n",
       "        if (!display || display === 'none') {{\n",
       "            console.log([gd, 'removed!']);\n",
       "            Plotly.purge(gd);\n",
       "            observer.disconnect();\n",
       "        }}\n",
       "}});\n",
       "\n",
       "// Listen for the removal of the full notebook cells\n",
       "var notebookContainer = gd.closest('#notebook-container');\n",
       "if (notebookContainer) {{\n",
       "    x.observe(notebookContainer, {childList: true});\n",
       "}}\n",
       "\n",
       "// Listen for the clearing of the current output cell\n",
       "var outputEl = gd.closest('.output');\n",
       "if (outputEl) {{\n",
       "    x.observe(outputEl, {childList: true});\n",
       "}}\n",
       "\n",
       "                        })\n",
       "                };\n",
       "                });\n",
       "            </script>\n",
       "        </div>"
      ]
     },
     "metadata": {},
     "output_type": "display_data"
    }
   ],
   "source": [
    "df = bau2.melt(value_vars=['butane_emissions(MtCO2)', 'grid_emissions(MtCO2)'], \n",
    "                   id_vars=['Year'])\n",
    "\n",
    "df.loc[df['variable']=='butane_emissions(MtCO2)', 'variable'] = \"Butane\"\n",
    "df.loc[df['variable']=='grid_emissions(MtCO2)', 'variable'] = \"Grid\"\n",
    "\n",
    "fig = px.bar(df, x='Year', y='value', color='variable',\n",
    "             title='Yearly emissions',\n",
    "#              color_discrete_sequence=px.colors.qualitative.Set2,\n",
    "             labels={'value': 'Emissions (MtCO2)',\n",
    "                     'variable': ''}\n",
    "            )\n",
    "fig.update_layout(legend=dict(\n",
    "                            orientation=\"h\",\n",
    "                            yanchor=\"bottom\",\n",
    "                            y=-0.2,\n",
    "                            xanchor=\"left\",\n",
    "                            x=0\n",
    "))\n",
    "fig.show()"
   ]
  },
  {
   "cell_type": "code",
   "execution_count": 9,
   "metadata": {},
   "outputs": [
    {
     "data": {
      "text/plain": [
       "Index(['Year', 'water_demand(m3)', 'energy_demand(KWh)', 'cap_a(MW)',\n",
       "       'pv_elec(KWh)', 'grid_elec(KWh)', 'butane_cons(tonnes)',\n",
       "       'butane_FARcost(mMAD)', 'PV_new_cap(MW)', 'reinv_cap(MW)',\n",
       "       'butane_emissions(MtCO2)', 'grid_emissions(MtCO2)',\n",
       "       'Total_emissions(MtCO2)', 'butane_SUBSIDY(mMAD)', 'grid_cost(mMAD)',\n",
       "       'PV_Capex(mMAD)', 'pv_demand(KWh)', 'butane_demand(KWh)',\n",
       "       'grid_demand(KWh)', 'butane_phaseout', 'pv_adoption'],\n",
       "      dtype='object')"
      ]
     },
     "execution_count": 9,
     "metadata": {},
     "output_type": "execute_result"
    }
   ],
   "source": [
    "#bau.columns\n",
    "#bau['bau_PV_new_cap(MW)']\n",
    "# earlyPV20['EP2_reinv_cap(MW)']#-earlyPV20['bau_PV_new_cap(MW)']\n",
    "earlyPV20.columns"
   ]
  },
  {
   "cell_type": "code",
   "execution_count": 10,
   "metadata": {},
   "outputs": [],
   "source": [
    "# all_dfs = pd.concat([bau, latePV10,latePV20,earlyPV10,earlyPV20], axis=1)\n",
    "# all_dfs.drop(['LP1_Year','LP2_Year','EP1_Year','EP2_Year',\n",
    "#               'LP1_water_demand(m3)','LP2_water_demand(m3)','EP1_water_demand(m3)','EP2_water_demand(m3)',\n",
    "#              'LP1_energy_demand(KWh)','LP2_energy_demand(KWh)','EP1_energy_demand(KWh)','EP2_energy_demand(KWh)'], axis=1, inplace=True)\n",
    "# all_dfs.rename({'bau_Year':'Year',\n",
    "#                'bau_water_demand(m3)':'water_demand(m3)',\n",
    "#                'bau_energy_demand(KWh)':'energy_demand(KWh)'}, axis=1, inplace=True)\n",
    "\n",
    "\n",
    "# conv_fac = 1000000000 # to convert emissions from kgCO2 to Million meteric tons of CO2 MtCO2\n",
    "# butane_em = 6.67 #kg CO\"/Gallon\n",
    "# gallon2liter = 3.78541 #l/Gallon\n",
    "# butane_density = 573 #kg/m3\n",
    "# butane_ef = butane_em / (gallon2liter/1000 * butane_density) #kgCO2/kg\n",
    "# butane_em_fac = butane_ef * 1000 ##kgCO2/ton\n",
    "# grid_em_fac = 0.7\n",
    "# epump_eff_old = 0.45\n",
    "# epump_eff = 0.45\n",
    "# butane_req = 1/12.58 #LHV = 12.58 KWh/Kg (amount of butane (kg) required to produce 1 KWh) \n",
    "\n",
    "all_dfs = bau1.append([bau2,bau3,latePV10,latePV20,latePV40,earlyPV10,earlyPV20,earlyPV40], ignore_index=True)\n",
    "# all_dfs['butane_emissions(MtCO2)'] = all_dfs['butane_cons(tonnes)'] * butane_em_fac / conv_fac\n",
    "# all_dfs['grid_elec(KWh)'] = all_dfs['grid_elec(KWh)']/epump_eff*epump_eff_old\n",
    "# all_dfs['pv_elec(KWh)'] = all_dfs['pv_elec(KWh)']/epump_eff*epump_eff_old\n",
    "# all_dfs['grid_emissions(MtCO2)'] = all_dfs['grid_elec(KWh)']*grid_em_fac/conv_fac\n",
    "# all_dfs['butane_energy(KWh)'] = all_dfs['butane_cons(tonnes)'] / (butane_req/1000) * 0.2 \n",
    "\n",
    "# all_dfs['grid_cost(mMAD)'] /= 100\n",
    "# all_dfs['grid_emissions(MtCO2)'] /= 100"
   ]
  },
  {
   "cell_type": "code",
   "execution_count": 11,
   "metadata": {},
   "outputs": [],
   "source": [
    "# all_dfs['total_energy(KWh)'] = all_dfs[['pv_elec(KWh)','grid_elec(KWh)', 'butane_energy(KWh)']].sum(axis=1)\n",
    "# all_dfs['pv_share'] = all_dfs['pv_elec(KWh)'] / all_dfs['total_energy(KWh)']\n",
    "# all_dfs['grid_share'] = all_dfs['grid_elec(KWh)'] / all_dfs['total_energy(KWh)']\n",
    "# all_dfs['butane_share'] = all_dfs['butane_energy(KWh)'] / all_dfs['total_energy(KWh)']\n",
    "# all_dfs"
   ]
  },
  {
   "cell_type": "code",
   "execution_count": 12,
   "metadata": {},
   "outputs": [
    {
     "data": {
      "text/plain": [
       "Index(['Year', 'water_demand(m3)', 'energy_demand(KWh)', 'cap_a(MW)',\n",
       "       'pv_elec(KWh)', 'grid_elec(KWh)', 'butane_cons(tonnes)',\n",
       "       'butane_FARcost(mMAD)', 'PV_new_cap(MW)', 'reinv_cap(MW)',\n",
       "       'butane_emissions(MtCO2)', 'grid_emissions(MtCO2)',\n",
       "       'Total_emissions(MtCO2)', 'butane_SUBSIDY(mMAD)', 'grid_cost(mMAD)',\n",
       "       'PV_Capex(mMAD)', 'pv_demand(KWh)', 'butane_demand(KWh)',\n",
       "       'grid_demand(KWh)', 'butane_phaseout', 'pv_adoption',\n",
       "       'previous_capacity(MW)'],\n",
       "      dtype='object')"
      ]
     },
     "execution_count": 12,
     "metadata": {},
     "output_type": "execute_result"
    }
   ],
   "source": [
    "all_dfs.columns"
   ]
  },
  {
   "cell_type": "code",
   "execution_count": 13,
   "metadata": {},
   "outputs": [],
   "source": [
    "df = all_dfs.loc[all_dfs.Year >= 2021].groupby(['butane_phaseout', 'pv_adoption'])[['water_demand(m3)', 'energy_demand(KWh)', 'pv_elec(KWh)',\n",
    "                                              'grid_elec(KWh)', 'butane_cons(tonnes)', 'butane_FARcost(mMAD)',\n",
    "                                              'PV_new_cap(MW)', 'reinv_cap(MW)', 'butane_emissions(MtCO2)',\n",
    "                                              'grid_emissions(MtCO2)', 'Total_emissions(MtCO2)',\n",
    "                                              'butane_SUBSIDY(mMAD)', 'grid_cost(mMAD)', 'PV_Capex(mMAD)',\n",
    "                                              'pv_demand(KWh)', 'butane_demand(KWh)', 'grid_demand(KWh)']].sum().reset_index()"
   ]
  },
  {
   "cell_type": "code",
   "execution_count": 14,
   "metadata": {},
   "outputs": [
    {
     "data": {
      "application/vnd.plotly.v1+json": {
       "config": {
        "plotlyServerURL": "https://plot.ly"
       },
       "data": [
        {
         "alignmentgroup": "True",
         "hovertemplate": "Source=Butane<br>PV adoption by 2040=10%<br>Butane phase-out=%{x}<br>Total costs (mMAD)=%{y}<extra></extra>",
         "legendgroup": "Butane",
         "marker": {
          "color": "rgb(102,194,165)"
         },
         "name": "Butane",
         "offsetgroup": "Butane",
         "orientation": "v",
         "showlegend": true,
         "textposition": "auto",
         "type": "bar",
         "x": [
          "None",
          "by 2030",
          "by 2040"
         ],
         "xaxis": "x",
         "y": [
          8260.987565819063,
          1071.0181434990327,
          2388.264091902082
         ],
         "yaxis": "y"
        },
        {
         "alignmentgroup": "True",
         "hovertemplate": "Source=Butane<br>PV adoption by 2040=20%<br>Butane phase-out=%{x}<br>Total costs (mMAD)=%{y}<extra></extra>",
         "legendgroup": "Butane",
         "marker": {
          "color": "rgb(102,194,165)"
         },
         "name": "Butane",
         "offsetgroup": "Butane",
         "orientation": "v",
         "showlegend": false,
         "textposition": "auto",
         "type": "bar",
         "x": [
          "None",
          "by 2030",
          "by 2040"
         ],
         "xaxis": "x2",
         "y": [
          8260.987565819063,
          1071.0181434990327,
          2388.264091902082
         ],
         "yaxis": "y2"
        },
        {
         "alignmentgroup": "True",
         "hovertemplate": "Source=Butane<br>PV adoption by 2040=50%<br>Butane phase-out=%{x}<br>Total costs (mMAD)=%{y}<extra></extra>",
         "legendgroup": "Butane",
         "marker": {
          "color": "rgb(102,194,165)"
         },
         "name": "Butane",
         "offsetgroup": "Butane",
         "orientation": "v",
         "showlegend": false,
         "textposition": "auto",
         "type": "bar",
         "x": [
          "None",
          "by 2030",
          "by 2040"
         ],
         "xaxis": "x3",
         "y": [
          8260.987565819063,
          1071.0181434990327,
          2388.264091902082
         ],
         "yaxis": "y3"
        },
        {
         "alignmentgroup": "True",
         "hovertemplate": "Source=Grid<br>PV adoption by 2040=10%<br>Butane phase-out=%{x}<br>Total costs (mMAD)=%{y}<extra></extra>",
         "legendgroup": "Grid",
         "marker": {
          "color": "rgb(252,141,98)"
         },
         "name": "Grid",
         "offsetgroup": "Grid",
         "orientation": "v",
         "showlegend": true,
         "textposition": "auto",
         "type": "bar",
         "x": [
          "None",
          "by 2030",
          "by 2040"
         ],
         "xaxis": "x",
         "y": [
          13821.788735874505,
          17258.88171852036,
          16629.185465345785
         ],
         "yaxis": "y"
        },
        {
         "alignmentgroup": "True",
         "hovertemplate": "Source=Grid<br>PV adoption by 2040=20%<br>Butane phase-out=%{x}<br>Total costs (mMAD)=%{y}<extra></extra>",
         "legendgroup": "Grid",
         "marker": {
          "color": "rgb(252,141,98)"
         },
         "name": "Grid",
         "offsetgroup": "Grid",
         "orientation": "v",
         "showlegend": false,
         "textposition": "auto",
         "type": "bar",
         "x": [
          "None",
          "by 2030",
          "by 2040"
         ],
         "xaxis": "x2",
         "y": [
          12418.090371138873,
          15855.183353784745,
          15225.487100610148
         ],
         "yaxis": "y2"
        },
        {
         "alignmentgroup": "True",
         "hovertemplate": "Source=Grid<br>PV adoption by 2040=50%<br>Butane phase-out=%{x}<br>Total costs (mMAD)=%{y}<extra></extra>",
         "legendgroup": "Grid",
         "marker": {
          "color": "rgb(252,141,98)"
         },
         "name": "Grid",
         "offsetgroup": "Grid",
         "orientation": "v",
         "showlegend": false,
         "textposition": "auto",
         "type": "bar",
         "x": [
          "None",
          "by 2030",
          "by 2040"
         ],
         "xaxis": "x3",
         "y": [
          8206.99527693196,
          11644.088259577826,
          11014.392006403235
         ],
         "yaxis": "y3"
        },
        {
         "alignmentgroup": "True",
         "hovertemplate": "Source=PV<br>PV adoption by 2040=10%<br>Butane phase-out=%{x}<br>Total costs (mMAD)=%{y}<extra></extra>",
         "legendgroup": "PV",
         "marker": {
          "color": "rgb(141,160,203)"
         },
         "name": "PV",
         "offsetgroup": "PV",
         "orientation": "v",
         "showlegend": true,
         "textposition": "auto",
         "type": "bar",
         "x": [
          "None",
          "by 2030",
          "by 2040"
         ],
         "xaxis": "x",
         "y": [
          1639.7816919975173,
          1639.7816919975173,
          1639.7816919975173
         ],
         "yaxis": "y"
        },
        {
         "alignmentgroup": "True",
         "hovertemplate": "Source=PV<br>PV adoption by 2040=20%<br>Butane phase-out=%{x}<br>Total costs (mMAD)=%{y}<extra></extra>",
         "legendgroup": "PV",
         "marker": {
          "color": "rgb(141,160,203)"
         },
         "name": "PV",
         "offsetgroup": "PV",
         "orientation": "v",
         "showlegend": false,
         "textposition": "auto",
         "type": "bar",
         "x": [
          "None",
          "by 2030",
          "by 2040"
         ],
         "xaxis": "x2",
         "y": [
          2910.1606581211217,
          2910.1606581211217,
          2910.1606581211217
         ],
         "yaxis": "y2"
        },
        {
         "alignmentgroup": "True",
         "hovertemplate": "Source=PV<br>PV adoption by 2040=50%<br>Butane phase-out=%{x}<br>Total costs (mMAD)=%{y}<extra></extra>",
         "legendgroup": "PV",
         "marker": {
          "color": "rgb(141,160,203)"
         },
         "name": "PV",
         "offsetgroup": "PV",
         "orientation": "v",
         "showlegend": false,
         "textposition": "auto",
         "type": "bar",
         "x": [
          "None",
          "by 2030",
          "by 2040"
         ],
         "xaxis": "x3",
         "y": [
          6983.538949226706,
          6983.538949226706,
          6983.538949226706
         ],
         "yaxis": "y3"
        }
       ],
       "layout": {
        "annotations": [
         {
          "font": {},
          "showarrow": false,
          "text": "PV adoption by 2040=10%",
          "x": 0.15999999999999998,
          "xanchor": "center",
          "xref": "paper",
          "y": 1,
          "yanchor": "bottom",
          "yref": "paper"
         },
         {
          "font": {},
          "showarrow": false,
          "text": "PV adoption by 2040=20%",
          "x": 0.49999999999999994,
          "xanchor": "center",
          "xref": "paper",
          "y": 1,
          "yanchor": "bottom",
          "yref": "paper"
         },
         {
          "font": {},
          "showarrow": false,
          "text": "PV adoption by 2040=50%",
          "x": 0.8399999999999999,
          "xanchor": "center",
          "xref": "paper",
          "y": 1,
          "yanchor": "bottom",
          "yref": "paper"
         }
        ],
        "barmode": "relative",
        "legend": {
         "title": {
          "text": "Source"
         },
         "tracegroupgap": 0
        },
        "template": {
         "data": {
          "bar": [
           {
            "error_x": {
             "color": "#2a3f5f"
            },
            "error_y": {
             "color": "#2a3f5f"
            },
            "marker": {
             "line": {
              "color": "#E5ECF6",
              "width": 0.5
             }
            },
            "type": "bar"
           }
          ],
          "barpolar": [
           {
            "marker": {
             "line": {
              "color": "#E5ECF6",
              "width": 0.5
             }
            },
            "type": "barpolar"
           }
          ],
          "carpet": [
           {
            "aaxis": {
             "endlinecolor": "#2a3f5f",
             "gridcolor": "white",
             "linecolor": "white",
             "minorgridcolor": "white",
             "startlinecolor": "#2a3f5f"
            },
            "baxis": {
             "endlinecolor": "#2a3f5f",
             "gridcolor": "white",
             "linecolor": "white",
             "minorgridcolor": "white",
             "startlinecolor": "#2a3f5f"
            },
            "type": "carpet"
           }
          ],
          "choropleth": [
           {
            "colorbar": {
             "outlinewidth": 0,
             "ticks": ""
            },
            "type": "choropleth"
           }
          ],
          "contour": [
           {
            "colorbar": {
             "outlinewidth": 0,
             "ticks": ""
            },
            "colorscale": [
             [
              0,
              "#0d0887"
             ],
             [
              0.1111111111111111,
              "#46039f"
             ],
             [
              0.2222222222222222,
              "#7201a8"
             ],
             [
              0.3333333333333333,
              "#9c179e"
             ],
             [
              0.4444444444444444,
              "#bd3786"
             ],
             [
              0.5555555555555556,
              "#d8576b"
             ],
             [
              0.6666666666666666,
              "#ed7953"
             ],
             [
              0.7777777777777778,
              "#fb9f3a"
             ],
             [
              0.8888888888888888,
              "#fdca26"
             ],
             [
              1,
              "#f0f921"
             ]
            ],
            "type": "contour"
           }
          ],
          "contourcarpet": [
           {
            "colorbar": {
             "outlinewidth": 0,
             "ticks": ""
            },
            "type": "contourcarpet"
           }
          ],
          "heatmap": [
           {
            "colorbar": {
             "outlinewidth": 0,
             "ticks": ""
            },
            "colorscale": [
             [
              0,
              "#0d0887"
             ],
             [
              0.1111111111111111,
              "#46039f"
             ],
             [
              0.2222222222222222,
              "#7201a8"
             ],
             [
              0.3333333333333333,
              "#9c179e"
             ],
             [
              0.4444444444444444,
              "#bd3786"
             ],
             [
              0.5555555555555556,
              "#d8576b"
             ],
             [
              0.6666666666666666,
              "#ed7953"
             ],
             [
              0.7777777777777778,
              "#fb9f3a"
             ],
             [
              0.8888888888888888,
              "#fdca26"
             ],
             [
              1,
              "#f0f921"
             ]
            ],
            "type": "heatmap"
           }
          ],
          "heatmapgl": [
           {
            "colorbar": {
             "outlinewidth": 0,
             "ticks": ""
            },
            "colorscale": [
             [
              0,
              "#0d0887"
             ],
             [
              0.1111111111111111,
              "#46039f"
             ],
             [
              0.2222222222222222,
              "#7201a8"
             ],
             [
              0.3333333333333333,
              "#9c179e"
             ],
             [
              0.4444444444444444,
              "#bd3786"
             ],
             [
              0.5555555555555556,
              "#d8576b"
             ],
             [
              0.6666666666666666,
              "#ed7953"
             ],
             [
              0.7777777777777778,
              "#fb9f3a"
             ],
             [
              0.8888888888888888,
              "#fdca26"
             ],
             [
              1,
              "#f0f921"
             ]
            ],
            "type": "heatmapgl"
           }
          ],
          "histogram": [
           {
            "marker": {
             "colorbar": {
              "outlinewidth": 0,
              "ticks": ""
             }
            },
            "type": "histogram"
           }
          ],
          "histogram2d": [
           {
            "colorbar": {
             "outlinewidth": 0,
             "ticks": ""
            },
            "colorscale": [
             [
              0,
              "#0d0887"
             ],
             [
              0.1111111111111111,
              "#46039f"
             ],
             [
              0.2222222222222222,
              "#7201a8"
             ],
             [
              0.3333333333333333,
              "#9c179e"
             ],
             [
              0.4444444444444444,
              "#bd3786"
             ],
             [
              0.5555555555555556,
              "#d8576b"
             ],
             [
              0.6666666666666666,
              "#ed7953"
             ],
             [
              0.7777777777777778,
              "#fb9f3a"
             ],
             [
              0.8888888888888888,
              "#fdca26"
             ],
             [
              1,
              "#f0f921"
             ]
            ],
            "type": "histogram2d"
           }
          ],
          "histogram2dcontour": [
           {
            "colorbar": {
             "outlinewidth": 0,
             "ticks": ""
            },
            "colorscale": [
             [
              0,
              "#0d0887"
             ],
             [
              0.1111111111111111,
              "#46039f"
             ],
             [
              0.2222222222222222,
              "#7201a8"
             ],
             [
              0.3333333333333333,
              "#9c179e"
             ],
             [
              0.4444444444444444,
              "#bd3786"
             ],
             [
              0.5555555555555556,
              "#d8576b"
             ],
             [
              0.6666666666666666,
              "#ed7953"
             ],
             [
              0.7777777777777778,
              "#fb9f3a"
             ],
             [
              0.8888888888888888,
              "#fdca26"
             ],
             [
              1,
              "#f0f921"
             ]
            ],
            "type": "histogram2dcontour"
           }
          ],
          "mesh3d": [
           {
            "colorbar": {
             "outlinewidth": 0,
             "ticks": ""
            },
            "type": "mesh3d"
           }
          ],
          "parcoords": [
           {
            "line": {
             "colorbar": {
              "outlinewidth": 0,
              "ticks": ""
             }
            },
            "type": "parcoords"
           }
          ],
          "pie": [
           {
            "automargin": true,
            "type": "pie"
           }
          ],
          "scatter": [
           {
            "marker": {
             "colorbar": {
              "outlinewidth": 0,
              "ticks": ""
             }
            },
            "type": "scatter"
           }
          ],
          "scatter3d": [
           {
            "line": {
             "colorbar": {
              "outlinewidth": 0,
              "ticks": ""
             }
            },
            "marker": {
             "colorbar": {
              "outlinewidth": 0,
              "ticks": ""
             }
            },
            "type": "scatter3d"
           }
          ],
          "scattercarpet": [
           {
            "marker": {
             "colorbar": {
              "outlinewidth": 0,
              "ticks": ""
             }
            },
            "type": "scattercarpet"
           }
          ],
          "scattergeo": [
           {
            "marker": {
             "colorbar": {
              "outlinewidth": 0,
              "ticks": ""
             }
            },
            "type": "scattergeo"
           }
          ],
          "scattergl": [
           {
            "marker": {
             "colorbar": {
              "outlinewidth": 0,
              "ticks": ""
             }
            },
            "type": "scattergl"
           }
          ],
          "scattermapbox": [
           {
            "marker": {
             "colorbar": {
              "outlinewidth": 0,
              "ticks": ""
             }
            },
            "type": "scattermapbox"
           }
          ],
          "scatterpolar": [
           {
            "marker": {
             "colorbar": {
              "outlinewidth": 0,
              "ticks": ""
             }
            },
            "type": "scatterpolar"
           }
          ],
          "scatterpolargl": [
           {
            "marker": {
             "colorbar": {
              "outlinewidth": 0,
              "ticks": ""
             }
            },
            "type": "scatterpolargl"
           }
          ],
          "scatterternary": [
           {
            "marker": {
             "colorbar": {
              "outlinewidth": 0,
              "ticks": ""
             }
            },
            "type": "scatterternary"
           }
          ],
          "surface": [
           {
            "colorbar": {
             "outlinewidth": 0,
             "ticks": ""
            },
            "colorscale": [
             [
              0,
              "#0d0887"
             ],
             [
              0.1111111111111111,
              "#46039f"
             ],
             [
              0.2222222222222222,
              "#7201a8"
             ],
             [
              0.3333333333333333,
              "#9c179e"
             ],
             [
              0.4444444444444444,
              "#bd3786"
             ],
             [
              0.5555555555555556,
              "#d8576b"
             ],
             [
              0.6666666666666666,
              "#ed7953"
             ],
             [
              0.7777777777777778,
              "#fb9f3a"
             ],
             [
              0.8888888888888888,
              "#fdca26"
             ],
             [
              1,
              "#f0f921"
             ]
            ],
            "type": "surface"
           }
          ],
          "table": [
           {
            "cells": {
             "fill": {
              "color": "#EBF0F8"
             },
             "line": {
              "color": "white"
             }
            },
            "header": {
             "fill": {
              "color": "#C8D4E3"
             },
             "line": {
              "color": "white"
             }
            },
            "type": "table"
           }
          ]
         },
         "layout": {
          "annotationdefaults": {
           "arrowcolor": "#2a3f5f",
           "arrowhead": 0,
           "arrowwidth": 1
          },
          "coloraxis": {
           "colorbar": {
            "outlinewidth": 0,
            "ticks": ""
           }
          },
          "colorscale": {
           "diverging": [
            [
             0,
             "#8e0152"
            ],
            [
             0.1,
             "#c51b7d"
            ],
            [
             0.2,
             "#de77ae"
            ],
            [
             0.3,
             "#f1b6da"
            ],
            [
             0.4,
             "#fde0ef"
            ],
            [
             0.5,
             "#f7f7f7"
            ],
            [
             0.6,
             "#e6f5d0"
            ],
            [
             0.7,
             "#b8e186"
            ],
            [
             0.8,
             "#7fbc41"
            ],
            [
             0.9,
             "#4d9221"
            ],
            [
             1,
             "#276419"
            ]
           ],
           "sequential": [
            [
             0,
             "#0d0887"
            ],
            [
             0.1111111111111111,
             "#46039f"
            ],
            [
             0.2222222222222222,
             "#7201a8"
            ],
            [
             0.3333333333333333,
             "#9c179e"
            ],
            [
             0.4444444444444444,
             "#bd3786"
            ],
            [
             0.5555555555555556,
             "#d8576b"
            ],
            [
             0.6666666666666666,
             "#ed7953"
            ],
            [
             0.7777777777777778,
             "#fb9f3a"
            ],
            [
             0.8888888888888888,
             "#fdca26"
            ],
            [
             1,
             "#f0f921"
            ]
           ],
           "sequentialminus": [
            [
             0,
             "#0d0887"
            ],
            [
             0.1111111111111111,
             "#46039f"
            ],
            [
             0.2222222222222222,
             "#7201a8"
            ],
            [
             0.3333333333333333,
             "#9c179e"
            ],
            [
             0.4444444444444444,
             "#bd3786"
            ],
            [
             0.5555555555555556,
             "#d8576b"
            ],
            [
             0.6666666666666666,
             "#ed7953"
            ],
            [
             0.7777777777777778,
             "#fb9f3a"
            ],
            [
             0.8888888888888888,
             "#fdca26"
            ],
            [
             1,
             "#f0f921"
            ]
           ]
          },
          "colorway": [
           "#636efa",
           "#EF553B",
           "#00cc96",
           "#ab63fa",
           "#FFA15A",
           "#19d3f3",
           "#FF6692",
           "#B6E880",
           "#FF97FF",
           "#FECB52"
          ],
          "font": {
           "color": "#2a3f5f"
          },
          "geo": {
           "bgcolor": "white",
           "lakecolor": "white",
           "landcolor": "#E5ECF6",
           "showlakes": true,
           "showland": true,
           "subunitcolor": "white"
          },
          "hoverlabel": {
           "align": "left"
          },
          "hovermode": "closest",
          "mapbox": {
           "style": "light"
          },
          "paper_bgcolor": "white",
          "plot_bgcolor": "#E5ECF6",
          "polar": {
           "angularaxis": {
            "gridcolor": "white",
            "linecolor": "white",
            "ticks": ""
           },
           "bgcolor": "#E5ECF6",
           "radialaxis": {
            "gridcolor": "white",
            "linecolor": "white",
            "ticks": ""
           }
          },
          "scene": {
           "xaxis": {
            "backgroundcolor": "#E5ECF6",
            "gridcolor": "white",
            "gridwidth": 2,
            "linecolor": "white",
            "showbackground": true,
            "ticks": "",
            "zerolinecolor": "white"
           },
           "yaxis": {
            "backgroundcolor": "#E5ECF6",
            "gridcolor": "white",
            "gridwidth": 2,
            "linecolor": "white",
            "showbackground": true,
            "ticks": "",
            "zerolinecolor": "white"
           },
           "zaxis": {
            "backgroundcolor": "#E5ECF6",
            "gridcolor": "white",
            "gridwidth": 2,
            "linecolor": "white",
            "showbackground": true,
            "ticks": "",
            "zerolinecolor": "white"
           }
          },
          "shapedefaults": {
           "line": {
            "color": "#2a3f5f"
           }
          },
          "ternary": {
           "aaxis": {
            "gridcolor": "white",
            "linecolor": "white",
            "ticks": ""
           },
           "baxis": {
            "gridcolor": "white",
            "linecolor": "white",
            "ticks": ""
           },
           "bgcolor": "#E5ECF6",
           "caxis": {
            "gridcolor": "white",
            "linecolor": "white",
            "ticks": ""
           }
          },
          "title": {
           "x": 0.05
          },
          "xaxis": {
           "automargin": true,
           "gridcolor": "white",
           "linecolor": "white",
           "ticks": "",
           "title": {
            "standoff": 15
           },
           "zerolinecolor": "white",
           "zerolinewidth": 2
          },
          "yaxis": {
           "automargin": true,
           "gridcolor": "white",
           "linecolor": "white",
           "ticks": "",
           "title": {
            "standoff": 15
           },
           "zerolinecolor": "white",
           "zerolinewidth": 2
          }
         }
        },
        "title": {
         "text": "Total cost under different butane phaseout scenarios and PV adoption"
        },
        "xaxis": {
         "anchor": "y",
         "categoryorder": "total descending",
         "domain": [
          0,
          0.31999999999999995
         ],
         "title": {
          "text": "Butane phase-out"
         }
        },
        "xaxis2": {
         "anchor": "y2",
         "domain": [
          0.33999999999999997,
          0.6599999999999999
         ],
         "matches": "x",
         "title": {
          "text": "Butane phase-out"
         }
        },
        "xaxis3": {
         "anchor": "y3",
         "domain": [
          0.6799999999999999,
          0.9999999999999999
         ],
         "matches": "x",
         "title": {
          "text": "Butane phase-out"
         }
        },
        "yaxis": {
         "anchor": "x",
         "domain": [
          0,
          1
         ],
         "title": {
          "text": "Total costs (mMAD)"
         }
        },
        "yaxis2": {
         "anchor": "x2",
         "domain": [
          0,
          1
         ],
         "matches": "y",
         "showticklabels": false
        },
        "yaxis3": {
         "anchor": "x3",
         "domain": [
          0,
          1
         ],
         "matches": "y",
         "showticklabels": false
        }
       }
      },
      "text/html": [
       "<div>\n",
       "        \n",
       "        \n",
       "            <div id=\"66f2c546-ac3c-4665-94e3-024487164236\" class=\"plotly-graph-div\" style=\"height:525px; width:100%;\"></div>\n",
       "            <script type=\"text/javascript\">\n",
       "                require([\"plotly\"], function(Plotly) {\n",
       "                    window.PLOTLYENV=window.PLOTLYENV || {};\n",
       "                    \n",
       "                if (document.getElementById(\"66f2c546-ac3c-4665-94e3-024487164236\")) {\n",
       "                    Plotly.newPlot(\n",
       "                        '66f2c546-ac3c-4665-94e3-024487164236',\n",
       "                        [{\"alignmentgroup\": \"True\", \"hovertemplate\": \"Source=Butane<br>PV adoption by 2040=10%<br>Butane phase-out=%{x}<br>Total costs (mMAD)=%{y}<extra></extra>\", \"legendgroup\": \"Butane\", \"marker\": {\"color\": \"rgb(102,194,165)\"}, \"name\": \"Butane\", \"offsetgroup\": \"Butane\", \"orientation\": \"v\", \"showlegend\": true, \"textposition\": \"auto\", \"type\": \"bar\", \"x\": [\"None\", \"by 2030\", \"by 2040\"], \"xaxis\": \"x\", \"y\": [8260.987565819063, 1071.0181434990327, 2388.264091902082], \"yaxis\": \"y\"}, {\"alignmentgroup\": \"True\", \"hovertemplate\": \"Source=Butane<br>PV adoption by 2040=20%<br>Butane phase-out=%{x}<br>Total costs (mMAD)=%{y}<extra></extra>\", \"legendgroup\": \"Butane\", \"marker\": {\"color\": \"rgb(102,194,165)\"}, \"name\": \"Butane\", \"offsetgroup\": \"Butane\", \"orientation\": \"v\", \"showlegend\": false, \"textposition\": \"auto\", \"type\": \"bar\", \"x\": [\"None\", \"by 2030\", \"by 2040\"], \"xaxis\": \"x2\", \"y\": [8260.987565819063, 1071.0181434990327, 2388.264091902082], \"yaxis\": \"y2\"}, {\"alignmentgroup\": \"True\", \"hovertemplate\": \"Source=Butane<br>PV adoption by 2040=50%<br>Butane phase-out=%{x}<br>Total costs (mMAD)=%{y}<extra></extra>\", \"legendgroup\": \"Butane\", \"marker\": {\"color\": \"rgb(102,194,165)\"}, \"name\": \"Butane\", \"offsetgroup\": \"Butane\", \"orientation\": \"v\", \"showlegend\": false, \"textposition\": \"auto\", \"type\": \"bar\", \"x\": [\"None\", \"by 2030\", \"by 2040\"], \"xaxis\": \"x3\", \"y\": [8260.987565819063, 1071.0181434990327, 2388.264091902082], \"yaxis\": \"y3\"}, {\"alignmentgroup\": \"True\", \"hovertemplate\": \"Source=Grid<br>PV adoption by 2040=10%<br>Butane phase-out=%{x}<br>Total costs (mMAD)=%{y}<extra></extra>\", \"legendgroup\": \"Grid\", \"marker\": {\"color\": \"rgb(252,141,98)\"}, \"name\": \"Grid\", \"offsetgroup\": \"Grid\", \"orientation\": \"v\", \"showlegend\": true, \"textposition\": \"auto\", \"type\": \"bar\", \"x\": [\"None\", \"by 2030\", \"by 2040\"], \"xaxis\": \"x\", \"y\": [13821.788735874505, 17258.88171852036, 16629.185465345785], \"yaxis\": \"y\"}, {\"alignmentgroup\": \"True\", \"hovertemplate\": \"Source=Grid<br>PV adoption by 2040=20%<br>Butane phase-out=%{x}<br>Total costs (mMAD)=%{y}<extra></extra>\", \"legendgroup\": \"Grid\", \"marker\": {\"color\": \"rgb(252,141,98)\"}, \"name\": \"Grid\", \"offsetgroup\": \"Grid\", \"orientation\": \"v\", \"showlegend\": false, \"textposition\": \"auto\", \"type\": \"bar\", \"x\": [\"None\", \"by 2030\", \"by 2040\"], \"xaxis\": \"x2\", \"y\": [12418.090371138873, 15855.183353784745, 15225.487100610148], \"yaxis\": \"y2\"}, {\"alignmentgroup\": \"True\", \"hovertemplate\": \"Source=Grid<br>PV adoption by 2040=50%<br>Butane phase-out=%{x}<br>Total costs (mMAD)=%{y}<extra></extra>\", \"legendgroup\": \"Grid\", \"marker\": {\"color\": \"rgb(252,141,98)\"}, \"name\": \"Grid\", \"offsetgroup\": \"Grid\", \"orientation\": \"v\", \"showlegend\": false, \"textposition\": \"auto\", \"type\": \"bar\", \"x\": [\"None\", \"by 2030\", \"by 2040\"], \"xaxis\": \"x3\", \"y\": [8206.99527693196, 11644.088259577826, 11014.392006403235], \"yaxis\": \"y3\"}, {\"alignmentgroup\": \"True\", \"hovertemplate\": \"Source=PV<br>PV adoption by 2040=10%<br>Butane phase-out=%{x}<br>Total costs (mMAD)=%{y}<extra></extra>\", \"legendgroup\": \"PV\", \"marker\": {\"color\": \"rgb(141,160,203)\"}, \"name\": \"PV\", \"offsetgroup\": \"PV\", \"orientation\": \"v\", \"showlegend\": true, \"textposition\": \"auto\", \"type\": \"bar\", \"x\": [\"None\", \"by 2030\", \"by 2040\"], \"xaxis\": \"x\", \"y\": [1639.7816919975173, 1639.7816919975173, 1639.7816919975173], \"yaxis\": \"y\"}, {\"alignmentgroup\": \"True\", \"hovertemplate\": \"Source=PV<br>PV adoption by 2040=20%<br>Butane phase-out=%{x}<br>Total costs (mMAD)=%{y}<extra></extra>\", \"legendgroup\": \"PV\", \"marker\": {\"color\": \"rgb(141,160,203)\"}, \"name\": \"PV\", \"offsetgroup\": \"PV\", \"orientation\": \"v\", \"showlegend\": false, \"textposition\": \"auto\", \"type\": \"bar\", \"x\": [\"None\", \"by 2030\", \"by 2040\"], \"xaxis\": \"x2\", \"y\": [2910.1606581211217, 2910.1606581211217, 2910.1606581211217], \"yaxis\": \"y2\"}, {\"alignmentgroup\": \"True\", \"hovertemplate\": \"Source=PV<br>PV adoption by 2040=50%<br>Butane phase-out=%{x}<br>Total costs (mMAD)=%{y}<extra></extra>\", \"legendgroup\": \"PV\", \"marker\": {\"color\": \"rgb(141,160,203)\"}, \"name\": \"PV\", \"offsetgroup\": \"PV\", \"orientation\": \"v\", \"showlegend\": false, \"textposition\": \"auto\", \"type\": \"bar\", \"x\": [\"None\", \"by 2030\", \"by 2040\"], \"xaxis\": \"x3\", \"y\": [6983.538949226706, 6983.538949226706, 6983.538949226706], \"yaxis\": \"y3\"}],\n",
       "                        {\"annotations\": [{\"font\": {}, \"showarrow\": false, \"text\": \"PV adoption by 2040=10%\", \"x\": 0.15999999999999998, \"xanchor\": \"center\", \"xref\": \"paper\", \"y\": 1.0, \"yanchor\": \"bottom\", \"yref\": \"paper\"}, {\"font\": {}, \"showarrow\": false, \"text\": \"PV adoption by 2040=20%\", \"x\": 0.49999999999999994, \"xanchor\": \"center\", \"xref\": \"paper\", \"y\": 1.0, \"yanchor\": \"bottom\", \"yref\": \"paper\"}, {\"font\": {}, \"showarrow\": false, \"text\": \"PV adoption by 2040=50%\", \"x\": 0.8399999999999999, \"xanchor\": \"center\", \"xref\": \"paper\", \"y\": 1.0, \"yanchor\": \"bottom\", \"yref\": \"paper\"}], \"barmode\": \"relative\", \"legend\": {\"title\": {\"text\": \"Source\"}, \"tracegroupgap\": 0}, \"template\": {\"data\": {\"bar\": [{\"error_x\": {\"color\": \"#2a3f5f\"}, \"error_y\": {\"color\": \"#2a3f5f\"}, \"marker\": {\"line\": {\"color\": \"#E5ECF6\", \"width\": 0.5}}, \"type\": \"bar\"}], \"barpolar\": [{\"marker\": {\"line\": {\"color\": \"#E5ECF6\", \"width\": 0.5}}, \"type\": \"barpolar\"}], \"carpet\": [{\"aaxis\": {\"endlinecolor\": \"#2a3f5f\", \"gridcolor\": \"white\", \"linecolor\": \"white\", \"minorgridcolor\": \"white\", \"startlinecolor\": \"#2a3f5f\"}, \"baxis\": {\"endlinecolor\": \"#2a3f5f\", \"gridcolor\": \"white\", \"linecolor\": \"white\", \"minorgridcolor\": \"white\", \"startlinecolor\": \"#2a3f5f\"}, \"type\": \"carpet\"}], \"choropleth\": [{\"colorbar\": {\"outlinewidth\": 0, \"ticks\": \"\"}, \"type\": \"choropleth\"}], \"contour\": [{\"colorbar\": {\"outlinewidth\": 0, \"ticks\": \"\"}, \"colorscale\": [[0.0, \"#0d0887\"], [0.1111111111111111, \"#46039f\"], [0.2222222222222222, \"#7201a8\"], [0.3333333333333333, \"#9c179e\"], [0.4444444444444444, \"#bd3786\"], [0.5555555555555556, \"#d8576b\"], [0.6666666666666666, \"#ed7953\"], [0.7777777777777778, \"#fb9f3a\"], [0.8888888888888888, \"#fdca26\"], [1.0, \"#f0f921\"]], \"type\": \"contour\"}], \"contourcarpet\": [{\"colorbar\": {\"outlinewidth\": 0, \"ticks\": \"\"}, \"type\": \"contourcarpet\"}], \"heatmap\": [{\"colorbar\": {\"outlinewidth\": 0, \"ticks\": \"\"}, \"colorscale\": [[0.0, \"#0d0887\"], [0.1111111111111111, \"#46039f\"], [0.2222222222222222, \"#7201a8\"], [0.3333333333333333, \"#9c179e\"], [0.4444444444444444, \"#bd3786\"], [0.5555555555555556, \"#d8576b\"], [0.6666666666666666, \"#ed7953\"], [0.7777777777777778, \"#fb9f3a\"], [0.8888888888888888, \"#fdca26\"], [1.0, \"#f0f921\"]], \"type\": \"heatmap\"}], \"heatmapgl\": [{\"colorbar\": {\"outlinewidth\": 0, \"ticks\": \"\"}, \"colorscale\": [[0.0, \"#0d0887\"], [0.1111111111111111, \"#46039f\"], [0.2222222222222222, \"#7201a8\"], [0.3333333333333333, \"#9c179e\"], [0.4444444444444444, \"#bd3786\"], [0.5555555555555556, \"#d8576b\"], [0.6666666666666666, \"#ed7953\"], [0.7777777777777778, \"#fb9f3a\"], [0.8888888888888888, \"#fdca26\"], [1.0, \"#f0f921\"]], \"type\": \"heatmapgl\"}], \"histogram\": [{\"marker\": {\"colorbar\": {\"outlinewidth\": 0, \"ticks\": \"\"}}, \"type\": \"histogram\"}], \"histogram2d\": [{\"colorbar\": {\"outlinewidth\": 0, \"ticks\": \"\"}, \"colorscale\": [[0.0, \"#0d0887\"], [0.1111111111111111, \"#46039f\"], [0.2222222222222222, \"#7201a8\"], [0.3333333333333333, \"#9c179e\"], [0.4444444444444444, \"#bd3786\"], [0.5555555555555556, \"#d8576b\"], [0.6666666666666666, \"#ed7953\"], [0.7777777777777778, \"#fb9f3a\"], [0.8888888888888888, \"#fdca26\"], [1.0, \"#f0f921\"]], \"type\": \"histogram2d\"}], \"histogram2dcontour\": [{\"colorbar\": {\"outlinewidth\": 0, \"ticks\": \"\"}, \"colorscale\": [[0.0, \"#0d0887\"], [0.1111111111111111, \"#46039f\"], [0.2222222222222222, \"#7201a8\"], [0.3333333333333333, \"#9c179e\"], [0.4444444444444444, \"#bd3786\"], [0.5555555555555556, \"#d8576b\"], [0.6666666666666666, \"#ed7953\"], [0.7777777777777778, \"#fb9f3a\"], [0.8888888888888888, \"#fdca26\"], [1.0, \"#f0f921\"]], \"type\": \"histogram2dcontour\"}], \"mesh3d\": [{\"colorbar\": {\"outlinewidth\": 0, \"ticks\": \"\"}, \"type\": \"mesh3d\"}], \"parcoords\": [{\"line\": {\"colorbar\": {\"outlinewidth\": 0, \"ticks\": \"\"}}, \"type\": \"parcoords\"}], \"pie\": [{\"automargin\": true, \"type\": \"pie\"}], \"scatter\": [{\"marker\": {\"colorbar\": {\"outlinewidth\": 0, \"ticks\": \"\"}}, \"type\": \"scatter\"}], \"scatter3d\": [{\"line\": {\"colorbar\": {\"outlinewidth\": 0, \"ticks\": \"\"}}, \"marker\": {\"colorbar\": {\"outlinewidth\": 0, \"ticks\": \"\"}}, \"type\": \"scatter3d\"}], \"scattercarpet\": [{\"marker\": {\"colorbar\": {\"outlinewidth\": 0, \"ticks\": \"\"}}, \"type\": \"scattercarpet\"}], \"scattergeo\": [{\"marker\": {\"colorbar\": {\"outlinewidth\": 0, \"ticks\": \"\"}}, \"type\": \"scattergeo\"}], \"scattergl\": [{\"marker\": {\"colorbar\": {\"outlinewidth\": 0, \"ticks\": \"\"}}, \"type\": \"scattergl\"}], \"scattermapbox\": [{\"marker\": {\"colorbar\": {\"outlinewidth\": 0, \"ticks\": \"\"}}, \"type\": \"scattermapbox\"}], \"scatterpolar\": [{\"marker\": {\"colorbar\": {\"outlinewidth\": 0, \"ticks\": \"\"}}, \"type\": \"scatterpolar\"}], \"scatterpolargl\": [{\"marker\": {\"colorbar\": {\"outlinewidth\": 0, \"ticks\": \"\"}}, \"type\": \"scatterpolargl\"}], \"scatterternary\": [{\"marker\": {\"colorbar\": {\"outlinewidth\": 0, \"ticks\": \"\"}}, \"type\": \"scatterternary\"}], \"surface\": [{\"colorbar\": {\"outlinewidth\": 0, \"ticks\": \"\"}, \"colorscale\": [[0.0, \"#0d0887\"], [0.1111111111111111, \"#46039f\"], [0.2222222222222222, \"#7201a8\"], [0.3333333333333333, \"#9c179e\"], [0.4444444444444444, \"#bd3786\"], [0.5555555555555556, \"#d8576b\"], [0.6666666666666666, \"#ed7953\"], [0.7777777777777778, \"#fb9f3a\"], [0.8888888888888888, \"#fdca26\"], [1.0, \"#f0f921\"]], \"type\": \"surface\"}], \"table\": [{\"cells\": {\"fill\": {\"color\": \"#EBF0F8\"}, \"line\": {\"color\": \"white\"}}, \"header\": {\"fill\": {\"color\": \"#C8D4E3\"}, \"line\": {\"color\": \"white\"}}, \"type\": \"table\"}]}, \"layout\": {\"annotationdefaults\": {\"arrowcolor\": \"#2a3f5f\", \"arrowhead\": 0, \"arrowwidth\": 1}, \"coloraxis\": {\"colorbar\": {\"outlinewidth\": 0, \"ticks\": \"\"}}, \"colorscale\": {\"diverging\": [[0, \"#8e0152\"], [0.1, \"#c51b7d\"], [0.2, \"#de77ae\"], [0.3, \"#f1b6da\"], [0.4, \"#fde0ef\"], [0.5, \"#f7f7f7\"], [0.6, \"#e6f5d0\"], [0.7, \"#b8e186\"], [0.8, \"#7fbc41\"], [0.9, \"#4d9221\"], [1, \"#276419\"]], \"sequential\": [[0.0, \"#0d0887\"], [0.1111111111111111, \"#46039f\"], [0.2222222222222222, \"#7201a8\"], [0.3333333333333333, \"#9c179e\"], [0.4444444444444444, \"#bd3786\"], [0.5555555555555556, \"#d8576b\"], [0.6666666666666666, \"#ed7953\"], [0.7777777777777778, \"#fb9f3a\"], [0.8888888888888888, \"#fdca26\"], [1.0, \"#f0f921\"]], \"sequentialminus\": [[0.0, \"#0d0887\"], [0.1111111111111111, \"#46039f\"], [0.2222222222222222, \"#7201a8\"], [0.3333333333333333, \"#9c179e\"], [0.4444444444444444, \"#bd3786\"], [0.5555555555555556, \"#d8576b\"], [0.6666666666666666, \"#ed7953\"], [0.7777777777777778, \"#fb9f3a\"], [0.8888888888888888, \"#fdca26\"], [1.0, \"#f0f921\"]]}, \"colorway\": [\"#636efa\", \"#EF553B\", \"#00cc96\", \"#ab63fa\", \"#FFA15A\", \"#19d3f3\", \"#FF6692\", \"#B6E880\", \"#FF97FF\", \"#FECB52\"], \"font\": {\"color\": \"#2a3f5f\"}, \"geo\": {\"bgcolor\": \"white\", \"lakecolor\": \"white\", \"landcolor\": \"#E5ECF6\", \"showlakes\": true, \"showland\": true, \"subunitcolor\": \"white\"}, \"hoverlabel\": {\"align\": \"left\"}, \"hovermode\": \"closest\", \"mapbox\": {\"style\": \"light\"}, \"paper_bgcolor\": \"white\", \"plot_bgcolor\": \"#E5ECF6\", \"polar\": {\"angularaxis\": {\"gridcolor\": \"white\", \"linecolor\": \"white\", \"ticks\": \"\"}, \"bgcolor\": \"#E5ECF6\", \"radialaxis\": {\"gridcolor\": \"white\", \"linecolor\": \"white\", \"ticks\": \"\"}}, \"scene\": {\"xaxis\": {\"backgroundcolor\": \"#E5ECF6\", \"gridcolor\": \"white\", \"gridwidth\": 2, \"linecolor\": \"white\", \"showbackground\": true, \"ticks\": \"\", \"zerolinecolor\": \"white\"}, \"yaxis\": {\"backgroundcolor\": \"#E5ECF6\", \"gridcolor\": \"white\", \"gridwidth\": 2, \"linecolor\": \"white\", \"showbackground\": true, \"ticks\": \"\", \"zerolinecolor\": \"white\"}, \"zaxis\": {\"backgroundcolor\": \"#E5ECF6\", \"gridcolor\": \"white\", \"gridwidth\": 2, \"linecolor\": \"white\", \"showbackground\": true, \"ticks\": \"\", \"zerolinecolor\": \"white\"}}, \"shapedefaults\": {\"line\": {\"color\": \"#2a3f5f\"}}, \"ternary\": {\"aaxis\": {\"gridcolor\": \"white\", \"linecolor\": \"white\", \"ticks\": \"\"}, \"baxis\": {\"gridcolor\": \"white\", \"linecolor\": \"white\", \"ticks\": \"\"}, \"bgcolor\": \"#E5ECF6\", \"caxis\": {\"gridcolor\": \"white\", \"linecolor\": \"white\", \"ticks\": \"\"}}, \"title\": {\"x\": 0.05}, \"xaxis\": {\"automargin\": true, \"gridcolor\": \"white\", \"linecolor\": \"white\", \"ticks\": \"\", \"title\": {\"standoff\": 15}, \"zerolinecolor\": \"white\", \"zerolinewidth\": 2}, \"yaxis\": {\"automargin\": true, \"gridcolor\": \"white\", \"linecolor\": \"white\", \"ticks\": \"\", \"title\": {\"standoff\": 15}, \"zerolinecolor\": \"white\", \"zerolinewidth\": 2}}}, \"title\": {\"text\": \"Total cost under different butane phaseout scenarios and PV adoption\"}, \"xaxis\": {\"anchor\": \"y\", \"categoryorder\": \"total descending\", \"domain\": [0.0, 0.31999999999999995], \"title\": {\"text\": \"Butane phase-out\"}}, \"xaxis2\": {\"anchor\": \"y2\", \"domain\": [0.33999999999999997, 0.6599999999999999], \"matches\": \"x\", \"title\": {\"text\": \"Butane phase-out\"}}, \"xaxis3\": {\"anchor\": \"y3\", \"domain\": [0.6799999999999999, 0.9999999999999999], \"matches\": \"x\", \"title\": {\"text\": \"Butane phase-out\"}}, \"yaxis\": {\"anchor\": \"x\", \"domain\": [0.0, 1.0], \"title\": {\"text\": \"Total costs (mMAD)\"}}, \"yaxis2\": {\"anchor\": \"x2\", \"domain\": [0.0, 1.0], \"matches\": \"y\", \"showticklabels\": false}, \"yaxis3\": {\"anchor\": \"x3\", \"domain\": [0.0, 1.0], \"matches\": \"y\", \"showticklabels\": false}},\n",
       "                        {\"responsive\": true}\n",
       "                    ).then(function(){\n",
       "                            \n",
       "var gd = document.getElementById('66f2c546-ac3c-4665-94e3-024487164236');\n",
       "var x = new MutationObserver(function (mutations, observer) {{\n",
       "        var display = window.getComputedStyle(gd).display;\n",
       "        if (!display || display === 'none') {{\n",
       "            console.log([gd, 'removed!']);\n",
       "            Plotly.purge(gd);\n",
       "            observer.disconnect();\n",
       "        }}\n",
       "}});\n",
       "\n",
       "// Listen for the removal of the full notebook cells\n",
       "var notebookContainer = gd.closest('#notebook-container');\n",
       "if (notebookContainer) {{\n",
       "    x.observe(notebookContainer, {childList: true});\n",
       "}}\n",
       "\n",
       "// Listen for the clearing of the current output cell\n",
       "var outputEl = gd.closest('.output');\n",
       "if (outputEl) {{\n",
       "    x.observe(outputEl, {childList: true});\n",
       "}}\n",
       "\n",
       "                        })\n",
       "                };\n",
       "                });\n",
       "            </script>\n",
       "        </div>"
      ]
     },
     "metadata": {},
     "output_type": "display_data"
    }
   ],
   "source": [
    "dff = df.copy().melt(value_vars=['butane_SUBSIDY(mMAD)', 'grid_cost(mMAD)', 'PV_Capex(mMAD)'], \n",
    "         id_vars=['butane_phaseout', 'pv_adoption'])\n",
    "\n",
    "dff.loc[dff['variable']==\"butane_SUBSIDY(mMAD)\", 'variable'] = \"Butane\"\n",
    "dff.loc[dff['variable']==\"grid_cost(mMAD)\", 'variable'] = \"Grid\"\n",
    "dff.loc[dff['variable']==\"PV_Capex(mMAD)\", 'variable'] = \"PV\"\n",
    "\n",
    "fig = px.bar(dff, x='butane_phaseout', y='value', color='variable',\n",
    "             facet_col='pv_adoption', title='Total cost under different butane phaseout scenarios and PV adoption',\n",
    "             color_discrete_sequence=px.colors.qualitative.Set2,\n",
    "             labels={\n",
    "                     \"butane_phaseout\": \"Butane phase-out\",\n",
    "                     \"pv_adoption\": \"PV adoption by 2040\",\n",
    "                     \"value\": \"Total costs (mMAD)\",\n",
    "                     \"variable\": 'Source'\n",
    "                     }\n",
    "            )\n",
    "fig.update_layout(xaxis={'categoryorder':'total descending'})\n",
    "fig.show()\n",
    "# fig.write_image('TotalCosts.pdf', width=900)"
   ]
  },
  {
   "cell_type": "code",
   "execution_count": 65,
   "metadata": {},
   "outputs": [
    {
     "data": {
      "application/vnd.plotly.v1+json": {
       "config": {
        "plotlyServerURL": "https://plot.ly"
       },
       "data": [
        {
         "hovertemplate": "Butane phase-out=None<br>PV adoption by 2040=10%<br>Year=%{x}<br>Emissions (MtCO2)=%{y}<extra></extra>",
         "legendgroup": "None",
         "line": {
          "color": "#4C78A8",
          "dash": "solid"
         },
         "mode": "lines",
         "name": "None",
         "orientation": "v",
         "showlegend": true,
         "type": "scatter",
         "x": [
          2020,
          2021,
          2022,
          2023,
          2024,
          2025,
          2026,
          2027,
          2028,
          2029,
          2030,
          2031,
          2032,
          2033,
          2034,
          2035,
          2036,
          2037,
          2038,
          2039,
          2040,
          2041,
          2042,
          2043,
          2044,
          2045,
          2046,
          2047,
          2048,
          2049,
          2050
         ],
         "xaxis": "x",
         "y": [
          0.49970425644146255,
          0.6156867222217272,
          0.5663353109390438,
          0.6266682450908854,
          0.6316547356717267,
          0.590550000963351,
          0.5980510062058273,
          0.5915762278042132,
          0.5704600847254245,
          0.6013683604985848,
          0.743336087910368,
          0.6961884783596791,
          0.7952085665372498,
          0.7465629930602143,
          0.7973830103314042,
          0.7245483748072251,
          0.6171541753129967,
          0.7204211639796597,
          0.772171145472677,
          0.740418548003238,
          0.8214312301620247,
          0.8085377335066241,
          0.7696547626927782,
          0.7653246017038753,
          0.7555401944427702,
          0.8202118591982072,
          0.765038086795932,
          0.8413925470751836,
          0.8263631815481043,
          0.7799548837586648,
          0.6454938998643143
         ],
         "yaxis": "y"
        },
        {
         "hovertemplate": "Butane phase-out=None<br>PV adoption by 2040=20%<br>Year=%{x}<br>Emissions (MtCO2)=%{y}<extra></extra>",
         "legendgroup": "None",
         "line": {
          "color": "#4C78A8",
          "dash": "solid"
         },
         "mode": "lines",
         "name": "None",
         "orientation": "v",
         "showlegend": false,
         "type": "scatter",
         "x": [
          2020,
          2021,
          2022,
          2023,
          2024,
          2025,
          2026,
          2027,
          2028,
          2029,
          2030,
          2031,
          2032,
          2033,
          2034,
          2035,
          2036,
          2037,
          2038,
          2039,
          2040,
          2041,
          2042,
          2043,
          2044,
          2045,
          2046,
          2047,
          2048,
          2049,
          2050
         ],
         "xaxis": "x2",
         "y": [
          0.49970425644146255,
          0.6121011885362384,
          0.5597500100946305,
          0.6157561010512763,
          0.6170137184259373,
          0.5734679610906556,
          0.5773264488852184,
          0.5676987495644139,
          0.5441888763431081,
          0.5702630776015459,
          0.7006856268188828,
          0.6523205991623451,
          0.7406353953921968,
          0.6911492307902588,
          0.7337481744736194,
          0.6626966521070783,
          0.561049223094976,
          0.6509477790283096,
          0.6934546368857896,
          0.6608743604430171,
          0.7286889626023096,
          0.717398186266689,
          0.6830376434577721,
          0.679333052820061,
          0.6707840655090213,
          0.7283481152973237,
          0.6794906852427149,
          0.7474571654096478,
          0.7342526295790558,
          0.6931554501911691,
          0.5737723554349474
         ],
         "yaxis": "y2"
        },
        {
         "hovertemplate": "Butane phase-out=None<br>PV adoption by 2040=50%<br>Year=%{x}<br>Emissions (MtCO2)=%{y}<extra></extra>",
         "legendgroup": "None",
         "line": {
          "color": "#4C78A8",
          "dash": "solid"
         },
         "mode": "lines",
         "name": "None",
         "orientation": "v",
         "showlegend": false,
         "type": "scatter",
         "x": [
          2020,
          2021,
          2022,
          2023,
          2024,
          2025,
          2026,
          2027,
          2028,
          2029,
          2030,
          2031,
          2032,
          2033,
          2034,
          2035,
          2036,
          2037,
          2038,
          2039,
          2040,
          2041,
          2042,
          2043,
          2044,
          2045,
          2046,
          2047,
          2048,
          2049,
          2050
         ],
         "xaxis": "x3",
         "y": [
          0.49970425644146255,
          0.6013445874797666,
          0.539994107561389,
          0.5830196689324534,
          0.5730906666885698,
          0.5222218414725682,
          0.5151527769233919,
          0.496066314845019,
          0.4653752511961625,
          0.47694722891042873,
          0.572734243544425,
          0.5207169615703412,
          0.5769158819570279,
          0.5249079439804005,
          0.5428436669002639,
          0.477141484006632,
          0.39273436644091786,
          0.44252762417425395,
          0.45730511112512884,
          0.422241797762354,
          0.4504621599231656,
          0.44397954454688404,
          0.42318628575275197,
          0.42135840616861653,
          0.4165156787077765,
          0.4527568835946843,
          0.42284848058305374,
          0.46565102041304257,
          0.45792097367190576,
          0.4327571494886862,
          0.3586077221468412
         ],
         "yaxis": "y3"
        },
        {
         "hovertemplate": "Butane phase-out=by 2030<br>PV adoption by 2040=10%<br>Year=%{x}<br>Emissions (MtCO2)=%{y}<extra></extra>",
         "legendgroup": "by 2030",
         "line": {
          "color": "#F58518",
          "dash": "solid"
         },
         "mode": "lines",
         "name": "by 2030",
         "orientation": "v",
         "showlegend": true,
         "type": "scatter",
         "x": [
          2020,
          2021,
          2022,
          2023,
          2024,
          2025,
          2026,
          2027,
          2028,
          2029,
          2030,
          2031,
          2032,
          2033,
          2034,
          2035,
          2036,
          2037,
          2038,
          2039,
          2040,
          2041,
          2042,
          2043,
          2044,
          2045,
          2046,
          2047,
          2048,
          2049,
          2050
         ],
         "xaxis": "x",
         "y": [
          0.49970425644146255,
          0.6177356423021746,
          0.570098420233066,
          0.6329038889321227,
          0.6400212096375009,
          0.6003113747448318,
          0.6098938629120435,
          0.6052207920245785,
          0.5854725239084563,
          0.6191431868776092,
          0.767708299646741,
          0.7178380232291036,
          0.8185975671758304,
          0.7672674775839664,
          0.8181621753143893,
          0.742220672401779,
          0.6311807124527192,
          0.735600546543718,
          0.7871650858688719,
          0.7535765137284081,
          0.8346804080374313,
          0.8202559251594203,
          0.7795540731150622,
          0.7739239399543323,
          0.7628051604037437,
          0.8267736951079191,
          0.7699266139789765,
          0.8454184349898154,
          0.8289949677214461,
          0.7811949021074508,
          0.6454938998643143
         ],
         "yaxis": "y"
        },
        {
         "hovertemplate": "Butane phase-out=by 2030<br>PV adoption by 2040=20%<br>Year=%{x}<br>Emissions (MtCO2)=%{y}<extra></extra>",
         "legendgroup": "by 2030",
         "line": {
          "color": "#F58518",
          "dash": "solid"
         },
         "mode": "lines",
         "name": "by 2030",
         "orientation": "v",
         "showlegend": false,
         "type": "scatter",
         "x": [
          2020,
          2021,
          2022,
          2023,
          2024,
          2025,
          2026,
          2027,
          2028,
          2029,
          2030,
          2031,
          2032,
          2033,
          2034,
          2035,
          2036,
          2037,
          2038,
          2039,
          2040,
          2041,
          2042,
          2043,
          2044,
          2045,
          2046,
          2047,
          2048,
          2049,
          2050
         ],
         "xaxis": "x2",
         "y": [
          0.49970425644146255,
          0.614150108616684,
          0.5635131193886525,
          0.6219917448925153,
          0.6253801923917128,
          0.5832293348721364,
          0.5891693055914324,
          0.5813433137847809,
          0.5592013155261412,
          0.5880379039805681,
          0.7250578385552565,
          0.673970144031768,
          0.7640243960307771,
          0.7118537153140124,
          0.7545273394565996,
          0.6803689497016351,
          0.5750757602346989,
          0.6661271615923665,
          0.7084485772819828,
          0.6740323261681882,
          0.7419381404777156,
          0.7291163779194808,
          0.6929369538800568,
          0.6879323910705182,
          0.6780490314699934,
          0.7349099512070405,
          0.6843792124257596,
          0.7514830533242765,
          0.7368844157523993,
          0.6943954685399565,
          0.5737723554349474
         ],
         "yaxis": "y2"
        },
        {
         "hovertemplate": "Butane phase-out=by 2030<br>PV adoption by 2040=50%<br>Year=%{x}<br>Emissions (MtCO2)=%{y}<extra></extra>",
         "legendgroup": "by 2030",
         "line": {
          "color": "#F58518",
          "dash": "solid"
         },
         "mode": "lines",
         "name": "by 2030",
         "orientation": "v",
         "showlegend": false,
         "type": "scatter",
         "x": [
          2020,
          2021,
          2022,
          2023,
          2024,
          2025,
          2026,
          2027,
          2028,
          2029,
          2030,
          2031,
          2032,
          2033,
          2034,
          2035,
          2036,
          2037,
          2038,
          2039,
          2040,
          2041,
          2042,
          2043,
          2044,
          2045,
          2046,
          2047,
          2048,
          2049,
          2050
         ],
         "xaxis": "x3",
         "y": [
          0.49970425644146255,
          0.6033935075602147,
          0.5437572168554143,
          0.5892553127736924,
          0.5814571406543454,
          0.5319832152540488,
          0.5269956336296076,
          0.5097108790653853,
          0.4803876903791968,
          0.4947220552894516,
          0.5971064552808001,
          0.5423665064397674,
          0.6003048825956089,
          0.5456124285041549,
          0.5636228318832457,
          0.4948137816011878,
          0.4067609035806409,
          0.4577070067383127,
          0.4722990515213215,
          0.43539976348752535,
          0.4637113377985724,
          0.4556977361996756,
          0.4330855961750344,
          0.429957744419073,
          0.4237806446687451,
          0.4593187195044003,
          0.42773700776609785,
          0.4696769083276754,
          0.4605527598452504,
          0.43399716783747133,
          0.3586077221468412
         ],
         "yaxis": "y3"
        },
        {
         "hovertemplate": "Butane phase-out=by 2040<br>PV adoption by 2040=10%<br>Year=%{x}<br>Emissions (MtCO2)=%{y}<extra></extra>",
         "legendgroup": "by 2040",
         "line": {
          "color": "#E45756",
          "dash": "solid"
         },
         "mode": "lines",
         "name": "by 2040",
         "orientation": "v",
         "showlegend": true,
         "type": "scatter",
         "x": [
          2020,
          2021,
          2022,
          2023,
          2024,
          2025,
          2026,
          2027,
          2028,
          2029,
          2030,
          2031,
          2032,
          2033,
          2034,
          2035,
          2036,
          2037,
          2038,
          2039,
          2040,
          2041,
          2042,
          2043,
          2044,
          2045,
          2046,
          2047,
          2048,
          2049,
          2050
         ],
         "xaxis": "x",
         "y": [
          0.49970425644146255,
          0.6161989522418398,
          0.5672760882625483,
          0.6282271560511927,
          0.6337463541631686,
          0.5929903444087234,
          0.6010117203823798,
          0.5949873688593055,
          0.5742131945211814,
          0.6058120670933405,
          0.7494291408444644,
          0.7024554518745139,
          0.803004900083443,
          0.7544794136134153,
          0.806473895011458,
          0.7333845236045042,
          0.625169339392839,
          0.7303461448869268,
          0.7834166007698207,
          0.7517822456749759,
          0.8346804080374313,
          0.8202559251594203,
          0.7795540731150622,
          0.7739239399543323,
          0.7628051604037437,
          0.8267736951079191,
          0.7699266139789765,
          0.8454184349898154,
          0.8289949677214461,
          0.7811949021074508,
          0.6454938998643143
         ],
         "yaxis": "y"
        },
        {
         "hovertemplate": "Butane phase-out=by 2040<br>PV adoption by 2040=20%<br>Year=%{x}<br>Emissions (MtCO2)=%{y}<extra></extra>",
         "legendgroup": "by 2040",
         "line": {
          "color": "#E45756",
          "dash": "solid"
         },
         "mode": "lines",
         "name": "by 2040",
         "orientation": "v",
         "showlegend": false,
         "type": "scatter",
         "x": [
          2020,
          2021,
          2022,
          2023,
          2024,
          2025,
          2026,
          2027,
          2028,
          2029,
          2030,
          2031,
          2032,
          2033,
          2034,
          2035,
          2036,
          2037,
          2038,
          2039,
          2040,
          2041,
          2042,
          2043,
          2044,
          2045,
          2046,
          2047,
          2048,
          2049,
          2050
         ],
         "xaxis": "x2",
         "y": [
          0.49970425644146255,
          0.6126134185563499,
          0.5606907874181357,
          0.6173150120115849,
          0.6191053369173795,
          0.5759083045360273,
          0.580287163061773,
          0.5711098906195052,
          0.5479419861388667,
          0.5747067841963025,
          0.7067786797529765,
          0.6585875726771802,
          0.7484317289383899,
          0.6990656513434618,
          0.7428390591536763,
          0.6715328009043546,
          0.5690643871748173,
          0.6608727599355769,
          0.7047000921829325,
          0.6722380581147575,
          0.7419381404777156,
          0.7291163779194808,
          0.6929369538800568,
          0.6879323910705182,
          0.6780490314699934,
          0.7349099512070405,
          0.6843792124257596,
          0.7514830533242765,
          0.7368844157523993,
          0.6943954685399565,
          0.5737723554349474
         ],
         "yaxis": "y2"
        },
        {
         "hovertemplate": "Butane phase-out=by 2040<br>PV adoption by 2040=50%<br>Year=%{x}<br>Emissions (MtCO2)=%{y}<extra></extra>",
         "legendgroup": "by 2040",
         "line": {
          "color": "#E45756",
          "dash": "solid"
         },
         "mode": "lines",
         "name": "by 2040",
         "orientation": "v",
         "showlegend": false,
         "type": "scatter",
         "x": [
          2020,
          2021,
          2022,
          2023,
          2024,
          2025,
          2026,
          2027,
          2028,
          2029,
          2030,
          2031,
          2032,
          2033,
          2034,
          2035,
          2036,
          2037,
          2038,
          2039,
          2040,
          2041,
          2042,
          2043,
          2044,
          2045,
          2046,
          2047,
          2048,
          2049,
          2050
         ],
         "xaxis": "x3",
         "y": [
          0.49970425644146255,
          0.6018568174998787,
          0.5409348848848955,
          0.5845785798927621,
          0.5751822851800157,
          0.5246621849179367,
          0.5181134910999466,
          0.4994774559001124,
          0.46912836099192085,
          0.4813909355051847,
          0.5788272964785188,
          0.5269839350851758,
          0.5847122155032219,
          0.5328243645336008,
          0.5519345515803172,
          0.4859776328039079,
          0.4007495305207593,
          0.4524526050815228,
          0.46855056642227483,
          0.43360549543409305,
          0.4637113377985724,
          0.4556977361996756,
          0.4330855961750344,
          0.429957744419073,
          0.4237806446687451,
          0.4593187195044003,
          0.42773700776609785,
          0.4696769083276754,
          0.4605527598452504,
          0.43399716783747133,
          0.3586077221468412
         ],
         "yaxis": "y3"
        }
       ],
       "layout": {
        "annotations": [
         {
          "font": {},
          "showarrow": false,
          "text": "PV adoption by 2040=10%",
          "x": 0.14666666666666667,
          "xanchor": "center",
          "xref": "paper",
          "y": 1,
          "yanchor": "bottom",
          "yref": "paper"
         },
         {
          "font": {},
          "showarrow": false,
          "text": "PV adoption by 2040=20%",
          "x": 0.5,
          "xanchor": "center",
          "xref": "paper",
          "y": 1,
          "yanchor": "bottom",
          "yref": "paper"
         },
         {
          "font": {},
          "showarrow": false,
          "text": "PV adoption by 2040=50%",
          "x": 0.8533333333333333,
          "xanchor": "center",
          "xref": "paper",
          "y": 1,
          "yanchor": "bottom",
          "yref": "paper"
         }
        ],
        "legend": {
         "title": {
          "text": "Butane phase-out"
         },
         "tracegroupgap": 0
        },
        "template": {
         "data": {
          "bar": [
           {
            "error_x": {
             "color": "#2a3f5f"
            },
            "error_y": {
             "color": "#2a3f5f"
            },
            "marker": {
             "line": {
              "color": "#E5ECF6",
              "width": 0.5
             }
            },
            "type": "bar"
           }
          ],
          "barpolar": [
           {
            "marker": {
             "line": {
              "color": "#E5ECF6",
              "width": 0.5
             }
            },
            "type": "barpolar"
           }
          ],
          "carpet": [
           {
            "aaxis": {
             "endlinecolor": "#2a3f5f",
             "gridcolor": "white",
             "linecolor": "white",
             "minorgridcolor": "white",
             "startlinecolor": "#2a3f5f"
            },
            "baxis": {
             "endlinecolor": "#2a3f5f",
             "gridcolor": "white",
             "linecolor": "white",
             "minorgridcolor": "white",
             "startlinecolor": "#2a3f5f"
            },
            "type": "carpet"
           }
          ],
          "choropleth": [
           {
            "colorbar": {
             "outlinewidth": 0,
             "ticks": ""
            },
            "type": "choropleth"
           }
          ],
          "contour": [
           {
            "colorbar": {
             "outlinewidth": 0,
             "ticks": ""
            },
            "colorscale": [
             [
              0,
              "#0d0887"
             ],
             [
              0.1111111111111111,
              "#46039f"
             ],
             [
              0.2222222222222222,
              "#7201a8"
             ],
             [
              0.3333333333333333,
              "#9c179e"
             ],
             [
              0.4444444444444444,
              "#bd3786"
             ],
             [
              0.5555555555555556,
              "#d8576b"
             ],
             [
              0.6666666666666666,
              "#ed7953"
             ],
             [
              0.7777777777777778,
              "#fb9f3a"
             ],
             [
              0.8888888888888888,
              "#fdca26"
             ],
             [
              1,
              "#f0f921"
             ]
            ],
            "type": "contour"
           }
          ],
          "contourcarpet": [
           {
            "colorbar": {
             "outlinewidth": 0,
             "ticks": ""
            },
            "type": "contourcarpet"
           }
          ],
          "heatmap": [
           {
            "colorbar": {
             "outlinewidth": 0,
             "ticks": ""
            },
            "colorscale": [
             [
              0,
              "#0d0887"
             ],
             [
              0.1111111111111111,
              "#46039f"
             ],
             [
              0.2222222222222222,
              "#7201a8"
             ],
             [
              0.3333333333333333,
              "#9c179e"
             ],
             [
              0.4444444444444444,
              "#bd3786"
             ],
             [
              0.5555555555555556,
              "#d8576b"
             ],
             [
              0.6666666666666666,
              "#ed7953"
             ],
             [
              0.7777777777777778,
              "#fb9f3a"
             ],
             [
              0.8888888888888888,
              "#fdca26"
             ],
             [
              1,
              "#f0f921"
             ]
            ],
            "type": "heatmap"
           }
          ],
          "heatmapgl": [
           {
            "colorbar": {
             "outlinewidth": 0,
             "ticks": ""
            },
            "colorscale": [
             [
              0,
              "#0d0887"
             ],
             [
              0.1111111111111111,
              "#46039f"
             ],
             [
              0.2222222222222222,
              "#7201a8"
             ],
             [
              0.3333333333333333,
              "#9c179e"
             ],
             [
              0.4444444444444444,
              "#bd3786"
             ],
             [
              0.5555555555555556,
              "#d8576b"
             ],
             [
              0.6666666666666666,
              "#ed7953"
             ],
             [
              0.7777777777777778,
              "#fb9f3a"
             ],
             [
              0.8888888888888888,
              "#fdca26"
             ],
             [
              1,
              "#f0f921"
             ]
            ],
            "type": "heatmapgl"
           }
          ],
          "histogram": [
           {
            "marker": {
             "colorbar": {
              "outlinewidth": 0,
              "ticks": ""
             }
            },
            "type": "histogram"
           }
          ],
          "histogram2d": [
           {
            "colorbar": {
             "outlinewidth": 0,
             "ticks": ""
            },
            "colorscale": [
             [
              0,
              "#0d0887"
             ],
             [
              0.1111111111111111,
              "#46039f"
             ],
             [
              0.2222222222222222,
              "#7201a8"
             ],
             [
              0.3333333333333333,
              "#9c179e"
             ],
             [
              0.4444444444444444,
              "#bd3786"
             ],
             [
              0.5555555555555556,
              "#d8576b"
             ],
             [
              0.6666666666666666,
              "#ed7953"
             ],
             [
              0.7777777777777778,
              "#fb9f3a"
             ],
             [
              0.8888888888888888,
              "#fdca26"
             ],
             [
              1,
              "#f0f921"
             ]
            ],
            "type": "histogram2d"
           }
          ],
          "histogram2dcontour": [
           {
            "colorbar": {
             "outlinewidth": 0,
             "ticks": ""
            },
            "colorscale": [
             [
              0,
              "#0d0887"
             ],
             [
              0.1111111111111111,
              "#46039f"
             ],
             [
              0.2222222222222222,
              "#7201a8"
             ],
             [
              0.3333333333333333,
              "#9c179e"
             ],
             [
              0.4444444444444444,
              "#bd3786"
             ],
             [
              0.5555555555555556,
              "#d8576b"
             ],
             [
              0.6666666666666666,
              "#ed7953"
             ],
             [
              0.7777777777777778,
              "#fb9f3a"
             ],
             [
              0.8888888888888888,
              "#fdca26"
             ],
             [
              1,
              "#f0f921"
             ]
            ],
            "type": "histogram2dcontour"
           }
          ],
          "mesh3d": [
           {
            "colorbar": {
             "outlinewidth": 0,
             "ticks": ""
            },
            "type": "mesh3d"
           }
          ],
          "parcoords": [
           {
            "line": {
             "colorbar": {
              "outlinewidth": 0,
              "ticks": ""
             }
            },
            "type": "parcoords"
           }
          ],
          "pie": [
           {
            "automargin": true,
            "type": "pie"
           }
          ],
          "scatter": [
           {
            "marker": {
             "colorbar": {
              "outlinewidth": 0,
              "ticks": ""
             }
            },
            "type": "scatter"
           }
          ],
          "scatter3d": [
           {
            "line": {
             "colorbar": {
              "outlinewidth": 0,
              "ticks": ""
             }
            },
            "marker": {
             "colorbar": {
              "outlinewidth": 0,
              "ticks": ""
             }
            },
            "type": "scatter3d"
           }
          ],
          "scattercarpet": [
           {
            "marker": {
             "colorbar": {
              "outlinewidth": 0,
              "ticks": ""
             }
            },
            "type": "scattercarpet"
           }
          ],
          "scattergeo": [
           {
            "marker": {
             "colorbar": {
              "outlinewidth": 0,
              "ticks": ""
             }
            },
            "type": "scattergeo"
           }
          ],
          "scattergl": [
           {
            "marker": {
             "colorbar": {
              "outlinewidth": 0,
              "ticks": ""
             }
            },
            "type": "scattergl"
           }
          ],
          "scattermapbox": [
           {
            "marker": {
             "colorbar": {
              "outlinewidth": 0,
              "ticks": ""
             }
            },
            "type": "scattermapbox"
           }
          ],
          "scatterpolar": [
           {
            "marker": {
             "colorbar": {
              "outlinewidth": 0,
              "ticks": ""
             }
            },
            "type": "scatterpolar"
           }
          ],
          "scatterpolargl": [
           {
            "marker": {
             "colorbar": {
              "outlinewidth": 0,
              "ticks": ""
             }
            },
            "type": "scatterpolargl"
           }
          ],
          "scatterternary": [
           {
            "marker": {
             "colorbar": {
              "outlinewidth": 0,
              "ticks": ""
             }
            },
            "type": "scatterternary"
           }
          ],
          "surface": [
           {
            "colorbar": {
             "outlinewidth": 0,
             "ticks": ""
            },
            "colorscale": [
             [
              0,
              "#0d0887"
             ],
             [
              0.1111111111111111,
              "#46039f"
             ],
             [
              0.2222222222222222,
              "#7201a8"
             ],
             [
              0.3333333333333333,
              "#9c179e"
             ],
             [
              0.4444444444444444,
              "#bd3786"
             ],
             [
              0.5555555555555556,
              "#d8576b"
             ],
             [
              0.6666666666666666,
              "#ed7953"
             ],
             [
              0.7777777777777778,
              "#fb9f3a"
             ],
             [
              0.8888888888888888,
              "#fdca26"
             ],
             [
              1,
              "#f0f921"
             ]
            ],
            "type": "surface"
           }
          ],
          "table": [
           {
            "cells": {
             "fill": {
              "color": "#EBF0F8"
             },
             "line": {
              "color": "white"
             }
            },
            "header": {
             "fill": {
              "color": "#C8D4E3"
             },
             "line": {
              "color": "white"
             }
            },
            "type": "table"
           }
          ]
         },
         "layout": {
          "annotationdefaults": {
           "arrowcolor": "#2a3f5f",
           "arrowhead": 0,
           "arrowwidth": 1
          },
          "coloraxis": {
           "colorbar": {
            "outlinewidth": 0,
            "ticks": ""
           }
          },
          "colorscale": {
           "diverging": [
            [
             0,
             "#8e0152"
            ],
            [
             0.1,
             "#c51b7d"
            ],
            [
             0.2,
             "#de77ae"
            ],
            [
             0.3,
             "#f1b6da"
            ],
            [
             0.4,
             "#fde0ef"
            ],
            [
             0.5,
             "#f7f7f7"
            ],
            [
             0.6,
             "#e6f5d0"
            ],
            [
             0.7,
             "#b8e186"
            ],
            [
             0.8,
             "#7fbc41"
            ],
            [
             0.9,
             "#4d9221"
            ],
            [
             1,
             "#276419"
            ]
           ],
           "sequential": [
            [
             0,
             "#0d0887"
            ],
            [
             0.1111111111111111,
             "#46039f"
            ],
            [
             0.2222222222222222,
             "#7201a8"
            ],
            [
             0.3333333333333333,
             "#9c179e"
            ],
            [
             0.4444444444444444,
             "#bd3786"
            ],
            [
             0.5555555555555556,
             "#d8576b"
            ],
            [
             0.6666666666666666,
             "#ed7953"
            ],
            [
             0.7777777777777778,
             "#fb9f3a"
            ],
            [
             0.8888888888888888,
             "#fdca26"
            ],
            [
             1,
             "#f0f921"
            ]
           ],
           "sequentialminus": [
            [
             0,
             "#0d0887"
            ],
            [
             0.1111111111111111,
             "#46039f"
            ],
            [
             0.2222222222222222,
             "#7201a8"
            ],
            [
             0.3333333333333333,
             "#9c179e"
            ],
            [
             0.4444444444444444,
             "#bd3786"
            ],
            [
             0.5555555555555556,
             "#d8576b"
            ],
            [
             0.6666666666666666,
             "#ed7953"
            ],
            [
             0.7777777777777778,
             "#fb9f3a"
            ],
            [
             0.8888888888888888,
             "#fdca26"
            ],
            [
             1,
             "#f0f921"
            ]
           ]
          },
          "colorway": [
           "#636efa",
           "#EF553B",
           "#00cc96",
           "#ab63fa",
           "#FFA15A",
           "#19d3f3",
           "#FF6692",
           "#B6E880",
           "#FF97FF",
           "#FECB52"
          ],
          "font": {
           "color": "#2a3f5f"
          },
          "geo": {
           "bgcolor": "white",
           "lakecolor": "white",
           "landcolor": "#E5ECF6",
           "showlakes": true,
           "showland": true,
           "subunitcolor": "white"
          },
          "hoverlabel": {
           "align": "left"
          },
          "hovermode": "closest",
          "mapbox": {
           "style": "light"
          },
          "paper_bgcolor": "white",
          "plot_bgcolor": "#E5ECF6",
          "polar": {
           "angularaxis": {
            "gridcolor": "white",
            "linecolor": "white",
            "ticks": ""
           },
           "bgcolor": "#E5ECF6",
           "radialaxis": {
            "gridcolor": "white",
            "linecolor": "white",
            "ticks": ""
           }
          },
          "scene": {
           "xaxis": {
            "backgroundcolor": "#E5ECF6",
            "gridcolor": "white",
            "gridwidth": 2,
            "linecolor": "white",
            "showbackground": true,
            "ticks": "",
            "zerolinecolor": "white"
           },
           "yaxis": {
            "backgroundcolor": "#E5ECF6",
            "gridcolor": "white",
            "gridwidth": 2,
            "linecolor": "white",
            "showbackground": true,
            "ticks": "",
            "zerolinecolor": "white"
           },
           "zaxis": {
            "backgroundcolor": "#E5ECF6",
            "gridcolor": "white",
            "gridwidth": 2,
            "linecolor": "white",
            "showbackground": true,
            "ticks": "",
            "zerolinecolor": "white"
           }
          },
          "shapedefaults": {
           "line": {
            "color": "#2a3f5f"
           }
          },
          "ternary": {
           "aaxis": {
            "gridcolor": "white",
            "linecolor": "white",
            "ticks": ""
           },
           "baxis": {
            "gridcolor": "white",
            "linecolor": "white",
            "ticks": ""
           },
           "bgcolor": "#E5ECF6",
           "caxis": {
            "gridcolor": "white",
            "linecolor": "white",
            "ticks": ""
           }
          },
          "title": {
           "x": 0.05
          },
          "xaxis": {
           "automargin": true,
           "gridcolor": "white",
           "linecolor": "white",
           "ticks": "",
           "title": {
            "standoff": 15
           },
           "zerolinecolor": "white",
           "zerolinewidth": 2
          },
          "yaxis": {
           "automargin": true,
           "gridcolor": "white",
           "linecolor": "white",
           "ticks": "",
           "title": {
            "standoff": 15
           },
           "zerolinecolor": "white",
           "zerolinewidth": 2
          }
         }
        },
        "title": {
         "text": "Annual emissions under different butane phaseout scenarios and PV adoption"
        },
        "xaxis": {
         "anchor": "y",
         "domain": [
          0,
          0.29333333333333333
         ],
         "title": {
          "text": "Year"
         }
        },
        "xaxis2": {
         "anchor": "y2",
         "domain": [
          0.35333333333333333,
          0.6466666666666667
         ],
         "matches": "x",
         "title": {
          "text": "Year"
         }
        },
        "xaxis3": {
         "anchor": "y3",
         "domain": [
          0.7066666666666667,
          1
         ],
         "matches": "x",
         "title": {
          "text": "Year"
         }
        },
        "yaxis": {
         "anchor": "x",
         "domain": [
          0,
          1
         ],
         "title": {
          "text": "Emissions (MtCO2)"
         }
        },
        "yaxis2": {
         "anchor": "x2",
         "domain": [
          0,
          1
         ],
         "matches": "y",
         "showticklabels": false
        },
        "yaxis3": {
         "anchor": "x3",
         "domain": [
          0,
          1
         ],
         "matches": "y",
         "showticklabels": false
        }
       }
      },
      "text/html": [
       "<div>\n",
       "        \n",
       "        \n",
       "            <div id=\"1cd9a9dd-8959-4c0b-a978-2e4817a133b1\" class=\"plotly-graph-div\" style=\"height:525px; width:100%;\"></div>\n",
       "            <script type=\"text/javascript\">\n",
       "                require([\"plotly\"], function(Plotly) {\n",
       "                    window.PLOTLYENV=window.PLOTLYENV || {};\n",
       "                    \n",
       "                if (document.getElementById(\"1cd9a9dd-8959-4c0b-a978-2e4817a133b1\")) {\n",
       "                    Plotly.newPlot(\n",
       "                        '1cd9a9dd-8959-4c0b-a978-2e4817a133b1',\n",
       "                        [{\"hovertemplate\": \"Butane phase-out=None<br>PV adoption by 2040=10%<br>Year=%{x}<br>Emissions (MtCO2)=%{y}<extra></extra>\", \"legendgroup\": \"None\", \"line\": {\"color\": \"#4C78A8\", \"dash\": \"solid\"}, \"mode\": \"lines\", \"name\": \"None\", \"orientation\": \"v\", \"showlegend\": true, \"type\": \"scatter\", \"x\": [2020, 2021, 2022, 2023, 2024, 2025, 2026, 2027, 2028, 2029, 2030, 2031, 2032, 2033, 2034, 2035, 2036, 2037, 2038, 2039, 2040, 2041, 2042, 2043, 2044, 2045, 2046, 2047, 2048, 2049, 2050], \"xaxis\": \"x\", \"y\": [0.49970425644146255, 0.6156867222217272, 0.5663353109390438, 0.6266682450908854, 0.6316547356717267, 0.590550000963351, 0.5980510062058273, 0.5915762278042132, 0.5704600847254245, 0.6013683604985848, 0.743336087910368, 0.6961884783596791, 0.7952085665372498, 0.7465629930602143, 0.7973830103314042, 0.7245483748072251, 0.6171541753129967, 0.7204211639796597, 0.772171145472677, 0.740418548003238, 0.8214312301620247, 0.8085377335066241, 0.7696547626927782, 0.7653246017038753, 0.7555401944427702, 0.8202118591982072, 0.765038086795932, 0.8413925470751836, 0.8263631815481043, 0.7799548837586648, 0.6454938998643143], \"yaxis\": \"y\"}, {\"hovertemplate\": \"Butane phase-out=None<br>PV adoption by 2040=20%<br>Year=%{x}<br>Emissions (MtCO2)=%{y}<extra></extra>\", \"legendgroup\": \"None\", \"line\": {\"color\": \"#4C78A8\", \"dash\": \"solid\"}, \"mode\": \"lines\", \"name\": \"None\", \"orientation\": \"v\", \"showlegend\": false, \"type\": \"scatter\", \"x\": [2020, 2021, 2022, 2023, 2024, 2025, 2026, 2027, 2028, 2029, 2030, 2031, 2032, 2033, 2034, 2035, 2036, 2037, 2038, 2039, 2040, 2041, 2042, 2043, 2044, 2045, 2046, 2047, 2048, 2049, 2050], \"xaxis\": \"x2\", \"y\": [0.49970425644146255, 0.6121011885362384, 0.5597500100946305, 0.6157561010512763, 0.6170137184259373, 0.5734679610906556, 0.5773264488852184, 0.5676987495644139, 0.5441888763431081, 0.5702630776015459, 0.7006856268188828, 0.6523205991623451, 0.7406353953921968, 0.6911492307902588, 0.7337481744736194, 0.6626966521070783, 0.561049223094976, 0.6509477790283096, 0.6934546368857896, 0.6608743604430171, 0.7286889626023096, 0.717398186266689, 0.6830376434577721, 0.679333052820061, 0.6707840655090213, 0.7283481152973237, 0.6794906852427149, 0.7474571654096478, 0.7342526295790558, 0.6931554501911691, 0.5737723554349474], \"yaxis\": \"y2\"}, {\"hovertemplate\": \"Butane phase-out=None<br>PV adoption by 2040=50%<br>Year=%{x}<br>Emissions (MtCO2)=%{y}<extra></extra>\", \"legendgroup\": \"None\", \"line\": {\"color\": \"#4C78A8\", \"dash\": \"solid\"}, \"mode\": \"lines\", \"name\": \"None\", \"orientation\": \"v\", \"showlegend\": false, \"type\": \"scatter\", \"x\": [2020, 2021, 2022, 2023, 2024, 2025, 2026, 2027, 2028, 2029, 2030, 2031, 2032, 2033, 2034, 2035, 2036, 2037, 2038, 2039, 2040, 2041, 2042, 2043, 2044, 2045, 2046, 2047, 2048, 2049, 2050], \"xaxis\": \"x3\", \"y\": [0.49970425644146255, 0.6013445874797666, 0.539994107561389, 0.5830196689324534, 0.5730906666885698, 0.5222218414725682, 0.5151527769233919, 0.496066314845019, 0.4653752511961625, 0.47694722891042873, 0.572734243544425, 0.5207169615703412, 0.5769158819570279, 0.5249079439804005, 0.5428436669002639, 0.477141484006632, 0.39273436644091786, 0.44252762417425395, 0.45730511112512884, 0.422241797762354, 0.4504621599231656, 0.44397954454688404, 0.42318628575275197, 0.42135840616861653, 0.4165156787077765, 0.4527568835946843, 0.42284848058305374, 0.46565102041304257, 0.45792097367190576, 0.4327571494886862, 0.3586077221468412], \"yaxis\": \"y3\"}, {\"hovertemplate\": \"Butane phase-out=by 2030<br>PV adoption by 2040=10%<br>Year=%{x}<br>Emissions (MtCO2)=%{y}<extra></extra>\", \"legendgroup\": \"by 2030\", \"line\": {\"color\": \"#F58518\", \"dash\": \"solid\"}, \"mode\": \"lines\", \"name\": \"by 2030\", \"orientation\": \"v\", \"showlegend\": true, \"type\": \"scatter\", \"x\": [2020, 2021, 2022, 2023, 2024, 2025, 2026, 2027, 2028, 2029, 2030, 2031, 2032, 2033, 2034, 2035, 2036, 2037, 2038, 2039, 2040, 2041, 2042, 2043, 2044, 2045, 2046, 2047, 2048, 2049, 2050], \"xaxis\": \"x\", \"y\": [0.49970425644146255, 0.6177356423021746, 0.570098420233066, 0.6329038889321227, 0.6400212096375009, 0.6003113747448318, 0.6098938629120435, 0.6052207920245785, 0.5854725239084563, 0.6191431868776092, 0.767708299646741, 0.7178380232291036, 0.8185975671758304, 0.7672674775839664, 0.8181621753143893, 0.742220672401779, 0.6311807124527192, 0.735600546543718, 0.7871650858688719, 0.7535765137284081, 0.8346804080374313, 0.8202559251594203, 0.7795540731150622, 0.7739239399543323, 0.7628051604037437, 0.8267736951079191, 0.7699266139789765, 0.8454184349898154, 0.8289949677214461, 0.7811949021074508, 0.6454938998643143], \"yaxis\": \"y\"}, {\"hovertemplate\": \"Butane phase-out=by 2030<br>PV adoption by 2040=20%<br>Year=%{x}<br>Emissions (MtCO2)=%{y}<extra></extra>\", \"legendgroup\": \"by 2030\", \"line\": {\"color\": \"#F58518\", \"dash\": \"solid\"}, \"mode\": \"lines\", \"name\": \"by 2030\", \"orientation\": \"v\", \"showlegend\": false, \"type\": \"scatter\", \"x\": [2020, 2021, 2022, 2023, 2024, 2025, 2026, 2027, 2028, 2029, 2030, 2031, 2032, 2033, 2034, 2035, 2036, 2037, 2038, 2039, 2040, 2041, 2042, 2043, 2044, 2045, 2046, 2047, 2048, 2049, 2050], \"xaxis\": \"x2\", \"y\": [0.49970425644146255, 0.614150108616684, 0.5635131193886525, 0.6219917448925153, 0.6253801923917128, 0.5832293348721364, 0.5891693055914324, 0.5813433137847809, 0.5592013155261412, 0.5880379039805681, 0.7250578385552565, 0.673970144031768, 0.7640243960307771, 0.7118537153140124, 0.7545273394565996, 0.6803689497016351, 0.5750757602346989, 0.6661271615923665, 0.7084485772819828, 0.6740323261681882, 0.7419381404777156, 0.7291163779194808, 0.6929369538800568, 0.6879323910705182, 0.6780490314699934, 0.7349099512070405, 0.6843792124257596, 0.7514830533242765, 0.7368844157523993, 0.6943954685399565, 0.5737723554349474], \"yaxis\": \"y2\"}, {\"hovertemplate\": \"Butane phase-out=by 2030<br>PV adoption by 2040=50%<br>Year=%{x}<br>Emissions (MtCO2)=%{y}<extra></extra>\", \"legendgroup\": \"by 2030\", \"line\": {\"color\": \"#F58518\", \"dash\": \"solid\"}, \"mode\": \"lines\", \"name\": \"by 2030\", \"orientation\": \"v\", \"showlegend\": false, \"type\": \"scatter\", \"x\": [2020, 2021, 2022, 2023, 2024, 2025, 2026, 2027, 2028, 2029, 2030, 2031, 2032, 2033, 2034, 2035, 2036, 2037, 2038, 2039, 2040, 2041, 2042, 2043, 2044, 2045, 2046, 2047, 2048, 2049, 2050], \"xaxis\": \"x3\", \"y\": [0.49970425644146255, 0.6033935075602147, 0.5437572168554143, 0.5892553127736924, 0.5814571406543454, 0.5319832152540488, 0.5269956336296076, 0.5097108790653853, 0.4803876903791968, 0.4947220552894516, 0.5971064552808001, 0.5423665064397674, 0.6003048825956089, 0.5456124285041549, 0.5636228318832457, 0.4948137816011878, 0.4067609035806409, 0.4577070067383127, 0.4722990515213215, 0.43539976348752535, 0.4637113377985724, 0.4556977361996756, 0.4330855961750344, 0.429957744419073, 0.4237806446687451, 0.4593187195044003, 0.42773700776609785, 0.4696769083276754, 0.4605527598452504, 0.43399716783747133, 0.3586077221468412], \"yaxis\": \"y3\"}, {\"hovertemplate\": \"Butane phase-out=by 2040<br>PV adoption by 2040=10%<br>Year=%{x}<br>Emissions (MtCO2)=%{y}<extra></extra>\", \"legendgroup\": \"by 2040\", \"line\": {\"color\": \"#E45756\", \"dash\": \"solid\"}, \"mode\": \"lines\", \"name\": \"by 2040\", \"orientation\": \"v\", \"showlegend\": true, \"type\": \"scatter\", \"x\": [2020, 2021, 2022, 2023, 2024, 2025, 2026, 2027, 2028, 2029, 2030, 2031, 2032, 2033, 2034, 2035, 2036, 2037, 2038, 2039, 2040, 2041, 2042, 2043, 2044, 2045, 2046, 2047, 2048, 2049, 2050], \"xaxis\": \"x\", \"y\": [0.49970425644146255, 0.6161989522418398, 0.5672760882625483, 0.6282271560511927, 0.6337463541631686, 0.5929903444087234, 0.6010117203823798, 0.5949873688593055, 0.5742131945211814, 0.6058120670933405, 0.7494291408444644, 0.7024554518745139, 0.803004900083443, 0.7544794136134153, 0.806473895011458, 0.7333845236045042, 0.625169339392839, 0.7303461448869268, 0.7834166007698207, 0.7517822456749759, 0.8346804080374313, 0.8202559251594203, 0.7795540731150622, 0.7739239399543323, 0.7628051604037437, 0.8267736951079191, 0.7699266139789765, 0.8454184349898154, 0.8289949677214461, 0.7811949021074508, 0.6454938998643143], \"yaxis\": \"y\"}, {\"hovertemplate\": \"Butane phase-out=by 2040<br>PV adoption by 2040=20%<br>Year=%{x}<br>Emissions (MtCO2)=%{y}<extra></extra>\", \"legendgroup\": \"by 2040\", \"line\": {\"color\": \"#E45756\", \"dash\": \"solid\"}, \"mode\": \"lines\", \"name\": \"by 2040\", \"orientation\": \"v\", \"showlegend\": false, \"type\": \"scatter\", \"x\": [2020, 2021, 2022, 2023, 2024, 2025, 2026, 2027, 2028, 2029, 2030, 2031, 2032, 2033, 2034, 2035, 2036, 2037, 2038, 2039, 2040, 2041, 2042, 2043, 2044, 2045, 2046, 2047, 2048, 2049, 2050], \"xaxis\": \"x2\", \"y\": [0.49970425644146255, 0.6126134185563499, 0.5606907874181357, 0.6173150120115849, 0.6191053369173795, 0.5759083045360273, 0.580287163061773, 0.5711098906195052, 0.5479419861388667, 0.5747067841963025, 0.7067786797529765, 0.6585875726771802, 0.7484317289383899, 0.6990656513434618, 0.7428390591536763, 0.6715328009043546, 0.5690643871748173, 0.6608727599355769, 0.7047000921829325, 0.6722380581147575, 0.7419381404777156, 0.7291163779194808, 0.6929369538800568, 0.6879323910705182, 0.6780490314699934, 0.7349099512070405, 0.6843792124257596, 0.7514830533242765, 0.7368844157523993, 0.6943954685399565, 0.5737723554349474], \"yaxis\": \"y2\"}, {\"hovertemplate\": \"Butane phase-out=by 2040<br>PV adoption by 2040=50%<br>Year=%{x}<br>Emissions (MtCO2)=%{y}<extra></extra>\", \"legendgroup\": \"by 2040\", \"line\": {\"color\": \"#E45756\", \"dash\": \"solid\"}, \"mode\": \"lines\", \"name\": \"by 2040\", \"orientation\": \"v\", \"showlegend\": false, \"type\": \"scatter\", \"x\": [2020, 2021, 2022, 2023, 2024, 2025, 2026, 2027, 2028, 2029, 2030, 2031, 2032, 2033, 2034, 2035, 2036, 2037, 2038, 2039, 2040, 2041, 2042, 2043, 2044, 2045, 2046, 2047, 2048, 2049, 2050], \"xaxis\": \"x3\", \"y\": [0.49970425644146255, 0.6018568174998787, 0.5409348848848955, 0.5845785798927621, 0.5751822851800157, 0.5246621849179367, 0.5181134910999466, 0.4994774559001124, 0.46912836099192085, 0.4813909355051847, 0.5788272964785188, 0.5269839350851758, 0.5847122155032219, 0.5328243645336008, 0.5519345515803172, 0.4859776328039079, 0.4007495305207593, 0.4524526050815228, 0.46855056642227483, 0.43360549543409305, 0.4637113377985724, 0.4556977361996756, 0.4330855961750344, 0.429957744419073, 0.4237806446687451, 0.4593187195044003, 0.42773700776609785, 0.4696769083276754, 0.4605527598452504, 0.43399716783747133, 0.3586077221468412], \"yaxis\": \"y3\"}],\n",
       "                        {\"annotations\": [{\"font\": {}, \"showarrow\": false, \"text\": \"PV adoption by 2040=10%\", \"x\": 0.14666666666666667, \"xanchor\": \"center\", \"xref\": \"paper\", \"y\": 1.0, \"yanchor\": \"bottom\", \"yref\": \"paper\"}, {\"font\": {}, \"showarrow\": false, \"text\": \"PV adoption by 2040=20%\", \"x\": 0.5, \"xanchor\": \"center\", \"xref\": \"paper\", \"y\": 1.0, \"yanchor\": \"bottom\", \"yref\": \"paper\"}, {\"font\": {}, \"showarrow\": false, \"text\": \"PV adoption by 2040=50%\", \"x\": 0.8533333333333333, \"xanchor\": \"center\", \"xref\": \"paper\", \"y\": 1.0, \"yanchor\": \"bottom\", \"yref\": \"paper\"}], \"legend\": {\"title\": {\"text\": \"Butane phase-out\"}, \"tracegroupgap\": 0}, \"template\": {\"data\": {\"bar\": [{\"error_x\": {\"color\": \"#2a3f5f\"}, \"error_y\": {\"color\": \"#2a3f5f\"}, \"marker\": {\"line\": {\"color\": \"#E5ECF6\", \"width\": 0.5}}, \"type\": \"bar\"}], \"barpolar\": [{\"marker\": {\"line\": {\"color\": \"#E5ECF6\", \"width\": 0.5}}, \"type\": \"barpolar\"}], \"carpet\": [{\"aaxis\": {\"endlinecolor\": \"#2a3f5f\", \"gridcolor\": \"white\", \"linecolor\": \"white\", \"minorgridcolor\": \"white\", \"startlinecolor\": \"#2a3f5f\"}, \"baxis\": {\"endlinecolor\": \"#2a3f5f\", \"gridcolor\": \"white\", \"linecolor\": \"white\", \"minorgridcolor\": \"white\", \"startlinecolor\": \"#2a3f5f\"}, \"type\": \"carpet\"}], \"choropleth\": [{\"colorbar\": {\"outlinewidth\": 0, \"ticks\": \"\"}, \"type\": \"choropleth\"}], \"contour\": [{\"colorbar\": {\"outlinewidth\": 0, \"ticks\": \"\"}, \"colorscale\": [[0.0, \"#0d0887\"], [0.1111111111111111, \"#46039f\"], [0.2222222222222222, \"#7201a8\"], [0.3333333333333333, \"#9c179e\"], [0.4444444444444444, \"#bd3786\"], [0.5555555555555556, \"#d8576b\"], [0.6666666666666666, \"#ed7953\"], [0.7777777777777778, \"#fb9f3a\"], [0.8888888888888888, \"#fdca26\"], [1.0, \"#f0f921\"]], \"type\": \"contour\"}], \"contourcarpet\": [{\"colorbar\": {\"outlinewidth\": 0, \"ticks\": \"\"}, \"type\": \"contourcarpet\"}], \"heatmap\": [{\"colorbar\": {\"outlinewidth\": 0, \"ticks\": \"\"}, \"colorscale\": [[0.0, \"#0d0887\"], [0.1111111111111111, \"#46039f\"], [0.2222222222222222, \"#7201a8\"], [0.3333333333333333, \"#9c179e\"], [0.4444444444444444, \"#bd3786\"], [0.5555555555555556, \"#d8576b\"], [0.6666666666666666, \"#ed7953\"], [0.7777777777777778, \"#fb9f3a\"], [0.8888888888888888, \"#fdca26\"], [1.0, \"#f0f921\"]], \"type\": \"heatmap\"}], \"heatmapgl\": [{\"colorbar\": {\"outlinewidth\": 0, \"ticks\": \"\"}, \"colorscale\": [[0.0, \"#0d0887\"], [0.1111111111111111, \"#46039f\"], [0.2222222222222222, \"#7201a8\"], [0.3333333333333333, \"#9c179e\"], [0.4444444444444444, \"#bd3786\"], [0.5555555555555556, \"#d8576b\"], [0.6666666666666666, \"#ed7953\"], [0.7777777777777778, \"#fb9f3a\"], [0.8888888888888888, \"#fdca26\"], [1.0, \"#f0f921\"]], \"type\": \"heatmapgl\"}], \"histogram\": [{\"marker\": {\"colorbar\": {\"outlinewidth\": 0, \"ticks\": \"\"}}, \"type\": \"histogram\"}], \"histogram2d\": [{\"colorbar\": {\"outlinewidth\": 0, \"ticks\": \"\"}, \"colorscale\": [[0.0, \"#0d0887\"], [0.1111111111111111, \"#46039f\"], [0.2222222222222222, \"#7201a8\"], [0.3333333333333333, \"#9c179e\"], [0.4444444444444444, \"#bd3786\"], [0.5555555555555556, \"#d8576b\"], [0.6666666666666666, \"#ed7953\"], [0.7777777777777778, \"#fb9f3a\"], [0.8888888888888888, \"#fdca26\"], [1.0, \"#f0f921\"]], \"type\": \"histogram2d\"}], \"histogram2dcontour\": [{\"colorbar\": {\"outlinewidth\": 0, \"ticks\": \"\"}, \"colorscale\": [[0.0, \"#0d0887\"], [0.1111111111111111, \"#46039f\"], [0.2222222222222222, \"#7201a8\"], [0.3333333333333333, \"#9c179e\"], [0.4444444444444444, \"#bd3786\"], [0.5555555555555556, \"#d8576b\"], [0.6666666666666666, \"#ed7953\"], [0.7777777777777778, \"#fb9f3a\"], [0.8888888888888888, \"#fdca26\"], [1.0, \"#f0f921\"]], \"type\": \"histogram2dcontour\"}], \"mesh3d\": [{\"colorbar\": {\"outlinewidth\": 0, \"ticks\": \"\"}, \"type\": \"mesh3d\"}], \"parcoords\": [{\"line\": {\"colorbar\": {\"outlinewidth\": 0, \"ticks\": \"\"}}, \"type\": \"parcoords\"}], \"pie\": [{\"automargin\": true, \"type\": \"pie\"}], \"scatter\": [{\"marker\": {\"colorbar\": {\"outlinewidth\": 0, \"ticks\": \"\"}}, \"type\": \"scatter\"}], \"scatter3d\": [{\"line\": {\"colorbar\": {\"outlinewidth\": 0, \"ticks\": \"\"}}, \"marker\": {\"colorbar\": {\"outlinewidth\": 0, \"ticks\": \"\"}}, \"type\": \"scatter3d\"}], \"scattercarpet\": [{\"marker\": {\"colorbar\": {\"outlinewidth\": 0, \"ticks\": \"\"}}, \"type\": \"scattercarpet\"}], \"scattergeo\": [{\"marker\": {\"colorbar\": {\"outlinewidth\": 0, \"ticks\": \"\"}}, \"type\": \"scattergeo\"}], \"scattergl\": [{\"marker\": {\"colorbar\": {\"outlinewidth\": 0, \"ticks\": \"\"}}, \"type\": \"scattergl\"}], \"scattermapbox\": [{\"marker\": {\"colorbar\": {\"outlinewidth\": 0, \"ticks\": \"\"}}, \"type\": \"scattermapbox\"}], \"scatterpolar\": [{\"marker\": {\"colorbar\": {\"outlinewidth\": 0, \"ticks\": \"\"}}, \"type\": \"scatterpolar\"}], \"scatterpolargl\": [{\"marker\": {\"colorbar\": {\"outlinewidth\": 0, \"ticks\": \"\"}}, \"type\": \"scatterpolargl\"}], \"scatterternary\": [{\"marker\": {\"colorbar\": {\"outlinewidth\": 0, \"ticks\": \"\"}}, \"type\": \"scatterternary\"}], \"surface\": [{\"colorbar\": {\"outlinewidth\": 0, \"ticks\": \"\"}, \"colorscale\": [[0.0, \"#0d0887\"], [0.1111111111111111, \"#46039f\"], [0.2222222222222222, \"#7201a8\"], [0.3333333333333333, \"#9c179e\"], [0.4444444444444444, \"#bd3786\"], [0.5555555555555556, \"#d8576b\"], [0.6666666666666666, \"#ed7953\"], [0.7777777777777778, \"#fb9f3a\"], [0.8888888888888888, \"#fdca26\"], [1.0, \"#f0f921\"]], \"type\": \"surface\"}], \"table\": [{\"cells\": {\"fill\": {\"color\": \"#EBF0F8\"}, \"line\": {\"color\": \"white\"}}, \"header\": {\"fill\": {\"color\": \"#C8D4E3\"}, \"line\": {\"color\": \"white\"}}, \"type\": \"table\"}]}, \"layout\": {\"annotationdefaults\": {\"arrowcolor\": \"#2a3f5f\", \"arrowhead\": 0, \"arrowwidth\": 1}, \"coloraxis\": {\"colorbar\": {\"outlinewidth\": 0, \"ticks\": \"\"}}, \"colorscale\": {\"diverging\": [[0, \"#8e0152\"], [0.1, \"#c51b7d\"], [0.2, \"#de77ae\"], [0.3, \"#f1b6da\"], [0.4, \"#fde0ef\"], [0.5, \"#f7f7f7\"], [0.6, \"#e6f5d0\"], [0.7, \"#b8e186\"], [0.8, \"#7fbc41\"], [0.9, \"#4d9221\"], [1, \"#276419\"]], \"sequential\": [[0.0, \"#0d0887\"], [0.1111111111111111, \"#46039f\"], [0.2222222222222222, \"#7201a8\"], [0.3333333333333333, \"#9c179e\"], [0.4444444444444444, \"#bd3786\"], [0.5555555555555556, \"#d8576b\"], [0.6666666666666666, \"#ed7953\"], [0.7777777777777778, \"#fb9f3a\"], [0.8888888888888888, \"#fdca26\"], [1.0, \"#f0f921\"]], \"sequentialminus\": [[0.0, \"#0d0887\"], [0.1111111111111111, \"#46039f\"], [0.2222222222222222, \"#7201a8\"], [0.3333333333333333, \"#9c179e\"], [0.4444444444444444, \"#bd3786\"], [0.5555555555555556, \"#d8576b\"], [0.6666666666666666, \"#ed7953\"], [0.7777777777777778, \"#fb9f3a\"], [0.8888888888888888, \"#fdca26\"], [1.0, \"#f0f921\"]]}, \"colorway\": [\"#636efa\", \"#EF553B\", \"#00cc96\", \"#ab63fa\", \"#FFA15A\", \"#19d3f3\", \"#FF6692\", \"#B6E880\", \"#FF97FF\", \"#FECB52\"], \"font\": {\"color\": \"#2a3f5f\"}, \"geo\": {\"bgcolor\": \"white\", \"lakecolor\": \"white\", \"landcolor\": \"#E5ECF6\", \"showlakes\": true, \"showland\": true, \"subunitcolor\": \"white\"}, \"hoverlabel\": {\"align\": \"left\"}, \"hovermode\": \"closest\", \"mapbox\": {\"style\": \"light\"}, \"paper_bgcolor\": \"white\", \"plot_bgcolor\": \"#E5ECF6\", \"polar\": {\"angularaxis\": {\"gridcolor\": \"white\", \"linecolor\": \"white\", \"ticks\": \"\"}, \"bgcolor\": \"#E5ECF6\", \"radialaxis\": {\"gridcolor\": \"white\", \"linecolor\": \"white\", \"ticks\": \"\"}}, \"scene\": {\"xaxis\": {\"backgroundcolor\": \"#E5ECF6\", \"gridcolor\": \"white\", \"gridwidth\": 2, \"linecolor\": \"white\", \"showbackground\": true, \"ticks\": \"\", \"zerolinecolor\": \"white\"}, \"yaxis\": {\"backgroundcolor\": \"#E5ECF6\", \"gridcolor\": \"white\", \"gridwidth\": 2, \"linecolor\": \"white\", \"showbackground\": true, \"ticks\": \"\", \"zerolinecolor\": \"white\"}, \"zaxis\": {\"backgroundcolor\": \"#E5ECF6\", \"gridcolor\": \"white\", \"gridwidth\": 2, \"linecolor\": \"white\", \"showbackground\": true, \"ticks\": \"\", \"zerolinecolor\": \"white\"}}, \"shapedefaults\": {\"line\": {\"color\": \"#2a3f5f\"}}, \"ternary\": {\"aaxis\": {\"gridcolor\": \"white\", \"linecolor\": \"white\", \"ticks\": \"\"}, \"baxis\": {\"gridcolor\": \"white\", \"linecolor\": \"white\", \"ticks\": \"\"}, \"bgcolor\": \"#E5ECF6\", \"caxis\": {\"gridcolor\": \"white\", \"linecolor\": \"white\", \"ticks\": \"\"}}, \"title\": {\"x\": 0.05}, \"xaxis\": {\"automargin\": true, \"gridcolor\": \"white\", \"linecolor\": \"white\", \"ticks\": \"\", \"title\": {\"standoff\": 15}, \"zerolinecolor\": \"white\", \"zerolinewidth\": 2}, \"yaxis\": {\"automargin\": true, \"gridcolor\": \"white\", \"linecolor\": \"white\", \"ticks\": \"\", \"title\": {\"standoff\": 15}, \"zerolinecolor\": \"white\", \"zerolinewidth\": 2}}}, \"title\": {\"text\": \"Annual emissions under different butane phaseout scenarios and PV adoption\"}, \"xaxis\": {\"anchor\": \"y\", \"domain\": [0.0, 0.29333333333333333], \"title\": {\"text\": \"Year\"}}, \"xaxis2\": {\"anchor\": \"y2\", \"domain\": [0.35333333333333333, 0.6466666666666667], \"matches\": \"x\", \"title\": {\"text\": \"Year\"}}, \"xaxis3\": {\"anchor\": \"y3\", \"domain\": [0.7066666666666667, 1.0], \"matches\": \"x\", \"title\": {\"text\": \"Year\"}}, \"yaxis\": {\"anchor\": \"x\", \"domain\": [0.0, 1.0], \"title\": {\"text\": \"Emissions (MtCO2)\"}}, \"yaxis2\": {\"anchor\": \"x2\", \"domain\": [0.0, 1.0], \"matches\": \"y\", \"showticklabels\": false}, \"yaxis3\": {\"anchor\": \"x3\", \"domain\": [0.0, 1.0], \"matches\": \"y\", \"showticklabels\": false}},\n",
       "                        {\"responsive\": true}\n",
       "                    ).then(function(){\n",
       "                            \n",
       "var gd = document.getElementById('1cd9a9dd-8959-4c0b-a978-2e4817a133b1');\n",
       "var x = new MutationObserver(function (mutations, observer) {{\n",
       "        var display = window.getComputedStyle(gd).display;\n",
       "        if (!display || display === 'none') {{\n",
       "            console.log([gd, 'removed!']);\n",
       "            Plotly.purge(gd);\n",
       "            observer.disconnect();\n",
       "        }}\n",
       "}});\n",
       "\n",
       "// Listen for the removal of the full notebook cells\n",
       "var notebookContainer = gd.closest('#notebook-container');\n",
       "if (notebookContainer) {{\n",
       "    x.observe(notebookContainer, {childList: true});\n",
       "}}\n",
       "\n",
       "// Listen for the clearing of the current output cell\n",
       "var outputEl = gd.closest('.output');\n",
       "if (outputEl) {{\n",
       "    x.observe(outputEl, {childList: true});\n",
       "}}\n",
       "\n",
       "                        })\n",
       "                };\n",
       "                });\n",
       "            </script>\n",
       "        </div>"
      ]
     },
     "metadata": {},
     "output_type": "display_data"
    }
   ],
   "source": [
    "all_dfs['Total_emissions(MtCO2)'] = all_dfs[['butane_emissions(MtCO2)', 'grid_emissions(MtCO2)']].sum(axis=1)\n",
    "dff = all_dfs.groupby(['Year','butane_phaseout', 'pv_adoption'])['Total_emissions(MtCO2)'].sum().reset_index()\n",
    "\n",
    "dff = dff.copy().melt(value_vars=['Total_emissions(MtCO2)'], \n",
    "         id_vars=['Year','butane_phaseout', 'pv_adoption'])\n",
    "\n",
    "fig = px.line(dff, x='Year', y='value', color='butane_phaseout',\n",
    "             facet_col='pv_adoption', title='Annual emissions under different butane phaseout scenarios and PV adoption',\n",
    "             color_discrete_sequence=px.colors.qualitative.T10,\n",
    "             labels={\n",
    "                     \"butane_phaseout\": \"Butane phase-out\",\n",
    "                     \"pv_adoption\": \"PV adoption by 2040\",\n",
    "                     \"value\": \"Emissions (MtCO2)\"\n",
    "                     },\n",
    "#              facet_row_spacing=0.04, # default is 0.07 when facet_col_wrap is used\n",
    "             facet_col_spacing=0.06,\n",
    "             )\n",
    "fig.show()\n",
    "# fig.write_image('AnnualEmissions.pdf', width=900)"
   ]
  },
  {
   "cell_type": "code",
   "execution_count": 66,
   "metadata": {},
   "outputs": [
    {
     "data": {
      "application/vnd.plotly.v1+json": {
       "config": {
        "plotlyServerURL": "https://plot.ly"
       },
       "data": [
        {
         "alignmentgroup": "True",
         "hovertemplate": "Source=Butane<br>PV adoption by 2040=10%<br>Butane phase-out=%{x}<br>Emissions (MtCO2)=%{y}<extra></extra>",
         "legendgroup": "Butane",
         "marker": {
          "color": "rgb(229, 134, 6)"
         },
         "name": "Butane",
         "offsetgroup": "Butane",
         "orientation": "v",
         "showlegend": true,
         "textposition": "auto",
         "type": "bar",
         "x": [
          "None",
          "by 2030",
          "by 2040"
         ],
         "xaxis": "x",
         "y": [
          1.7569850041294999,
          0.49402209602051134,
          1.10162021035179
         ],
         "yaxis": "y"
        },
        {
         "alignmentgroup": "True",
         "hovertemplate": "Source=Butane<br>PV adoption by 2040=20%<br>Butane phase-out=%{x}<br>Emissions (MtCO2)=%{y}<extra></extra>",
         "legendgroup": "Butane",
         "marker": {
          "color": "rgb(229, 134, 6)"
         },
         "name": "Butane",
         "offsetgroup": "Butane",
         "orientation": "v",
         "showlegend": false,
         "textposition": "auto",
         "type": "bar",
         "x": [
          "None",
          "by 2030",
          "by 2040"
         ],
         "xaxis": "x2",
         "y": [
          1.7569850041294999,
          0.49402209602051134,
          1.10162021035179
         ],
         "yaxis": "y2"
        },
        {
         "alignmentgroup": "True",
         "hovertemplate": "Source=Butane<br>PV adoption by 2040=50%<br>Butane phase-out=%{x}<br>Emissions (MtCO2)=%{y}<extra></extra>",
         "legendgroup": "Butane",
         "marker": {
          "color": "rgb(229, 134, 6)"
         },
         "name": "Butane",
         "offsetgroup": "Butane",
         "orientation": "v",
         "showlegend": false,
         "textposition": "auto",
         "type": "bar",
         "x": [
          "None",
          "by 2030",
          "by 2040"
         ],
         "xaxis": "x3",
         "y": [
          1.7569850041294999,
          0.49402209602051134,
          1.10162021035179
         ],
         "yaxis": "y3"
        },
        {
         "alignmentgroup": "True",
         "hovertemplate": "Source=Grid<br>PV adoption by 2040=10%<br>Butane phase-out=%{x}<br>Emissions (MtCO2)=%{y}<extra></extra>",
         "legendgroup": "Grid",
         "marker": {
          "color": "rgb(93, 105, 177)"
         },
         "name": "Grid",
         "offsetgroup": "Grid",
         "orientation": "v",
         "showlegend": true,
         "textposition": "auto",
         "type": "bar",
         "x": [
          "None",
          "by 2030",
          "by 2040"
         ],
         "xaxis": "x",
         "y": [
          19.587701214514475,
          21.195117899937316,
          20.421806711828168
         ],
         "yaxis": "y"
        },
        {
         "alignmentgroup": "True",
         "hovertemplate": "Source=Grid<br>PV adoption by 2040=20%<br>Butane phase-out=%{x}<br>Emissions (MtCO2)=%{y}<extra></extra>",
         "legendgroup": "Grid",
         "marker": {
          "color": "rgb(93, 105, 177)"
         },
         "name": "Grid",
         "offsetgroup": "Grid",
         "orientation": "v",
         "showlegend": false,
         "textposition": "auto",
         "type": "bar",
         "x": [
          "None",
          "by 2030",
          "by 2040"
         ],
         "xaxis": "x2",
         "y": [
          17.863861117470712,
          19.47127780289354,
          18.697966614784402
         ],
         "yaxis": "y2"
        },
        {
         "alignmentgroup": "True",
         "hovertemplate": "Source=Grid<br>PV adoption by 2040=50%<br>Butane phase-out=%{x}<br>Emissions (MtCO2)=%{y}<extra></extra>",
         "legendgroup": "Grid",
         "marker": {
          "color": "rgb(93, 105, 177)"
         },
         "name": "Grid",
         "offsetgroup": "Grid",
         "orientation": "v",
         "showlegend": false,
         "textposition": "auto",
         "type": "bar",
         "x": [
          "None",
          "by 2030",
          "by 2040"
         ],
         "xaxis": "x3",
         "y": [
          12.692340826339406,
          14.29975751176225,
          13.526446323653095
         ],
         "yaxis": "y3"
        }
       ],
       "layout": {
        "annotations": [
         {
          "font": {},
          "showarrow": false,
          "text": "PV adoption by 2040=10%",
          "x": 0.15999999999999998,
          "xanchor": "center",
          "xref": "paper",
          "y": 1,
          "yanchor": "bottom",
          "yref": "paper"
         },
         {
          "font": {},
          "showarrow": false,
          "text": "PV adoption by 2040=20%",
          "x": 0.49999999999999994,
          "xanchor": "center",
          "xref": "paper",
          "y": 1,
          "yanchor": "bottom",
          "yref": "paper"
         },
         {
          "font": {},
          "showarrow": false,
          "text": "PV adoption by 2040=50%",
          "x": 0.8399999999999999,
          "xanchor": "center",
          "xref": "paper",
          "y": 1,
          "yanchor": "bottom",
          "yref": "paper"
         }
        ],
        "barmode": "relative",
        "legend": {
         "title": {
          "text": "Source"
         },
         "tracegroupgap": 0
        },
        "template": {
         "data": {
          "bar": [
           {
            "error_x": {
             "color": "#2a3f5f"
            },
            "error_y": {
             "color": "#2a3f5f"
            },
            "marker": {
             "line": {
              "color": "#E5ECF6",
              "width": 0.5
             }
            },
            "type": "bar"
           }
          ],
          "barpolar": [
           {
            "marker": {
             "line": {
              "color": "#E5ECF6",
              "width": 0.5
             }
            },
            "type": "barpolar"
           }
          ],
          "carpet": [
           {
            "aaxis": {
             "endlinecolor": "#2a3f5f",
             "gridcolor": "white",
             "linecolor": "white",
             "minorgridcolor": "white",
             "startlinecolor": "#2a3f5f"
            },
            "baxis": {
             "endlinecolor": "#2a3f5f",
             "gridcolor": "white",
             "linecolor": "white",
             "minorgridcolor": "white",
             "startlinecolor": "#2a3f5f"
            },
            "type": "carpet"
           }
          ],
          "choropleth": [
           {
            "colorbar": {
             "outlinewidth": 0,
             "ticks": ""
            },
            "type": "choropleth"
           }
          ],
          "contour": [
           {
            "colorbar": {
             "outlinewidth": 0,
             "ticks": ""
            },
            "colorscale": [
             [
              0,
              "#0d0887"
             ],
             [
              0.1111111111111111,
              "#46039f"
             ],
             [
              0.2222222222222222,
              "#7201a8"
             ],
             [
              0.3333333333333333,
              "#9c179e"
             ],
             [
              0.4444444444444444,
              "#bd3786"
             ],
             [
              0.5555555555555556,
              "#d8576b"
             ],
             [
              0.6666666666666666,
              "#ed7953"
             ],
             [
              0.7777777777777778,
              "#fb9f3a"
             ],
             [
              0.8888888888888888,
              "#fdca26"
             ],
             [
              1,
              "#f0f921"
             ]
            ],
            "type": "contour"
           }
          ],
          "contourcarpet": [
           {
            "colorbar": {
             "outlinewidth": 0,
             "ticks": ""
            },
            "type": "contourcarpet"
           }
          ],
          "heatmap": [
           {
            "colorbar": {
             "outlinewidth": 0,
             "ticks": ""
            },
            "colorscale": [
             [
              0,
              "#0d0887"
             ],
             [
              0.1111111111111111,
              "#46039f"
             ],
             [
              0.2222222222222222,
              "#7201a8"
             ],
             [
              0.3333333333333333,
              "#9c179e"
             ],
             [
              0.4444444444444444,
              "#bd3786"
             ],
             [
              0.5555555555555556,
              "#d8576b"
             ],
             [
              0.6666666666666666,
              "#ed7953"
             ],
             [
              0.7777777777777778,
              "#fb9f3a"
             ],
             [
              0.8888888888888888,
              "#fdca26"
             ],
             [
              1,
              "#f0f921"
             ]
            ],
            "type": "heatmap"
           }
          ],
          "heatmapgl": [
           {
            "colorbar": {
             "outlinewidth": 0,
             "ticks": ""
            },
            "colorscale": [
             [
              0,
              "#0d0887"
             ],
             [
              0.1111111111111111,
              "#46039f"
             ],
             [
              0.2222222222222222,
              "#7201a8"
             ],
             [
              0.3333333333333333,
              "#9c179e"
             ],
             [
              0.4444444444444444,
              "#bd3786"
             ],
             [
              0.5555555555555556,
              "#d8576b"
             ],
             [
              0.6666666666666666,
              "#ed7953"
             ],
             [
              0.7777777777777778,
              "#fb9f3a"
             ],
             [
              0.8888888888888888,
              "#fdca26"
             ],
             [
              1,
              "#f0f921"
             ]
            ],
            "type": "heatmapgl"
           }
          ],
          "histogram": [
           {
            "marker": {
             "colorbar": {
              "outlinewidth": 0,
              "ticks": ""
             }
            },
            "type": "histogram"
           }
          ],
          "histogram2d": [
           {
            "colorbar": {
             "outlinewidth": 0,
             "ticks": ""
            },
            "colorscale": [
             [
              0,
              "#0d0887"
             ],
             [
              0.1111111111111111,
              "#46039f"
             ],
             [
              0.2222222222222222,
              "#7201a8"
             ],
             [
              0.3333333333333333,
              "#9c179e"
             ],
             [
              0.4444444444444444,
              "#bd3786"
             ],
             [
              0.5555555555555556,
              "#d8576b"
             ],
             [
              0.6666666666666666,
              "#ed7953"
             ],
             [
              0.7777777777777778,
              "#fb9f3a"
             ],
             [
              0.8888888888888888,
              "#fdca26"
             ],
             [
              1,
              "#f0f921"
             ]
            ],
            "type": "histogram2d"
           }
          ],
          "histogram2dcontour": [
           {
            "colorbar": {
             "outlinewidth": 0,
             "ticks": ""
            },
            "colorscale": [
             [
              0,
              "#0d0887"
             ],
             [
              0.1111111111111111,
              "#46039f"
             ],
             [
              0.2222222222222222,
              "#7201a8"
             ],
             [
              0.3333333333333333,
              "#9c179e"
             ],
             [
              0.4444444444444444,
              "#bd3786"
             ],
             [
              0.5555555555555556,
              "#d8576b"
             ],
             [
              0.6666666666666666,
              "#ed7953"
             ],
             [
              0.7777777777777778,
              "#fb9f3a"
             ],
             [
              0.8888888888888888,
              "#fdca26"
             ],
             [
              1,
              "#f0f921"
             ]
            ],
            "type": "histogram2dcontour"
           }
          ],
          "mesh3d": [
           {
            "colorbar": {
             "outlinewidth": 0,
             "ticks": ""
            },
            "type": "mesh3d"
           }
          ],
          "parcoords": [
           {
            "line": {
             "colorbar": {
              "outlinewidth": 0,
              "ticks": ""
             }
            },
            "type": "parcoords"
           }
          ],
          "pie": [
           {
            "automargin": true,
            "type": "pie"
           }
          ],
          "scatter": [
           {
            "marker": {
             "colorbar": {
              "outlinewidth": 0,
              "ticks": ""
             }
            },
            "type": "scatter"
           }
          ],
          "scatter3d": [
           {
            "line": {
             "colorbar": {
              "outlinewidth": 0,
              "ticks": ""
             }
            },
            "marker": {
             "colorbar": {
              "outlinewidth": 0,
              "ticks": ""
             }
            },
            "type": "scatter3d"
           }
          ],
          "scattercarpet": [
           {
            "marker": {
             "colorbar": {
              "outlinewidth": 0,
              "ticks": ""
             }
            },
            "type": "scattercarpet"
           }
          ],
          "scattergeo": [
           {
            "marker": {
             "colorbar": {
              "outlinewidth": 0,
              "ticks": ""
             }
            },
            "type": "scattergeo"
           }
          ],
          "scattergl": [
           {
            "marker": {
             "colorbar": {
              "outlinewidth": 0,
              "ticks": ""
             }
            },
            "type": "scattergl"
           }
          ],
          "scattermapbox": [
           {
            "marker": {
             "colorbar": {
              "outlinewidth": 0,
              "ticks": ""
             }
            },
            "type": "scattermapbox"
           }
          ],
          "scatterpolar": [
           {
            "marker": {
             "colorbar": {
              "outlinewidth": 0,
              "ticks": ""
             }
            },
            "type": "scatterpolar"
           }
          ],
          "scatterpolargl": [
           {
            "marker": {
             "colorbar": {
              "outlinewidth": 0,
              "ticks": ""
             }
            },
            "type": "scatterpolargl"
           }
          ],
          "scatterternary": [
           {
            "marker": {
             "colorbar": {
              "outlinewidth": 0,
              "ticks": ""
             }
            },
            "type": "scatterternary"
           }
          ],
          "surface": [
           {
            "colorbar": {
             "outlinewidth": 0,
             "ticks": ""
            },
            "colorscale": [
             [
              0,
              "#0d0887"
             ],
             [
              0.1111111111111111,
              "#46039f"
             ],
             [
              0.2222222222222222,
              "#7201a8"
             ],
             [
              0.3333333333333333,
              "#9c179e"
             ],
             [
              0.4444444444444444,
              "#bd3786"
             ],
             [
              0.5555555555555556,
              "#d8576b"
             ],
             [
              0.6666666666666666,
              "#ed7953"
             ],
             [
              0.7777777777777778,
              "#fb9f3a"
             ],
             [
              0.8888888888888888,
              "#fdca26"
             ],
             [
              1,
              "#f0f921"
             ]
            ],
            "type": "surface"
           }
          ],
          "table": [
           {
            "cells": {
             "fill": {
              "color": "#EBF0F8"
             },
             "line": {
              "color": "white"
             }
            },
            "header": {
             "fill": {
              "color": "#C8D4E3"
             },
             "line": {
              "color": "white"
             }
            },
            "type": "table"
           }
          ]
         },
         "layout": {
          "annotationdefaults": {
           "arrowcolor": "#2a3f5f",
           "arrowhead": 0,
           "arrowwidth": 1
          },
          "coloraxis": {
           "colorbar": {
            "outlinewidth": 0,
            "ticks": ""
           }
          },
          "colorscale": {
           "diverging": [
            [
             0,
             "#8e0152"
            ],
            [
             0.1,
             "#c51b7d"
            ],
            [
             0.2,
             "#de77ae"
            ],
            [
             0.3,
             "#f1b6da"
            ],
            [
             0.4,
             "#fde0ef"
            ],
            [
             0.5,
             "#f7f7f7"
            ],
            [
             0.6,
             "#e6f5d0"
            ],
            [
             0.7,
             "#b8e186"
            ],
            [
             0.8,
             "#7fbc41"
            ],
            [
             0.9,
             "#4d9221"
            ],
            [
             1,
             "#276419"
            ]
           ],
           "sequential": [
            [
             0,
             "#0d0887"
            ],
            [
             0.1111111111111111,
             "#46039f"
            ],
            [
             0.2222222222222222,
             "#7201a8"
            ],
            [
             0.3333333333333333,
             "#9c179e"
            ],
            [
             0.4444444444444444,
             "#bd3786"
            ],
            [
             0.5555555555555556,
             "#d8576b"
            ],
            [
             0.6666666666666666,
             "#ed7953"
            ],
            [
             0.7777777777777778,
             "#fb9f3a"
            ],
            [
             0.8888888888888888,
             "#fdca26"
            ],
            [
             1,
             "#f0f921"
            ]
           ],
           "sequentialminus": [
            [
             0,
             "#0d0887"
            ],
            [
             0.1111111111111111,
             "#46039f"
            ],
            [
             0.2222222222222222,
             "#7201a8"
            ],
            [
             0.3333333333333333,
             "#9c179e"
            ],
            [
             0.4444444444444444,
             "#bd3786"
            ],
            [
             0.5555555555555556,
             "#d8576b"
            ],
            [
             0.6666666666666666,
             "#ed7953"
            ],
            [
             0.7777777777777778,
             "#fb9f3a"
            ],
            [
             0.8888888888888888,
             "#fdca26"
            ],
            [
             1,
             "#f0f921"
            ]
           ]
          },
          "colorway": [
           "#636efa",
           "#EF553B",
           "#00cc96",
           "#ab63fa",
           "#FFA15A",
           "#19d3f3",
           "#FF6692",
           "#B6E880",
           "#FF97FF",
           "#FECB52"
          ],
          "font": {
           "color": "#2a3f5f"
          },
          "geo": {
           "bgcolor": "white",
           "lakecolor": "white",
           "landcolor": "#E5ECF6",
           "showlakes": true,
           "showland": true,
           "subunitcolor": "white"
          },
          "hoverlabel": {
           "align": "left"
          },
          "hovermode": "closest",
          "mapbox": {
           "style": "light"
          },
          "paper_bgcolor": "white",
          "plot_bgcolor": "#E5ECF6",
          "polar": {
           "angularaxis": {
            "gridcolor": "white",
            "linecolor": "white",
            "ticks": ""
           },
           "bgcolor": "#E5ECF6",
           "radialaxis": {
            "gridcolor": "white",
            "linecolor": "white",
            "ticks": ""
           }
          },
          "scene": {
           "xaxis": {
            "backgroundcolor": "#E5ECF6",
            "gridcolor": "white",
            "gridwidth": 2,
            "linecolor": "white",
            "showbackground": true,
            "ticks": "",
            "zerolinecolor": "white"
           },
           "yaxis": {
            "backgroundcolor": "#E5ECF6",
            "gridcolor": "white",
            "gridwidth": 2,
            "linecolor": "white",
            "showbackground": true,
            "ticks": "",
            "zerolinecolor": "white"
           },
           "zaxis": {
            "backgroundcolor": "#E5ECF6",
            "gridcolor": "white",
            "gridwidth": 2,
            "linecolor": "white",
            "showbackground": true,
            "ticks": "",
            "zerolinecolor": "white"
           }
          },
          "shapedefaults": {
           "line": {
            "color": "#2a3f5f"
           }
          },
          "ternary": {
           "aaxis": {
            "gridcolor": "white",
            "linecolor": "white",
            "ticks": ""
           },
           "baxis": {
            "gridcolor": "white",
            "linecolor": "white",
            "ticks": ""
           },
           "bgcolor": "#E5ECF6",
           "caxis": {
            "gridcolor": "white",
            "linecolor": "white",
            "ticks": ""
           }
          },
          "title": {
           "x": 0.05
          },
          "xaxis": {
           "automargin": true,
           "gridcolor": "white",
           "linecolor": "white",
           "ticks": "",
           "title": {
            "standoff": 15
           },
           "zerolinecolor": "white",
           "zerolinewidth": 2
          },
          "yaxis": {
           "automargin": true,
           "gridcolor": "white",
           "linecolor": "white",
           "ticks": "",
           "title": {
            "standoff": 15
           },
           "zerolinecolor": "white",
           "zerolinewidth": 2
          }
         }
        },
        "title": {
         "text": "Total emissions under different butane phaseout scenarios and PV adoption"
        },
        "xaxis": {
         "anchor": "y",
         "categoryarray": [
          "None",
          "by 2040",
          "by 2030"
         ],
         "categoryorder": "array",
         "domain": [
          0,
          0.31999999999999995
         ],
         "title": {
          "text": "Butane phase-out"
         }
        },
        "xaxis2": {
         "anchor": "y2",
         "domain": [
          0.33999999999999997,
          0.6599999999999999
         ],
         "matches": "x",
         "title": {
          "text": "Butane phase-out"
         }
        },
        "xaxis3": {
         "anchor": "y3",
         "domain": [
          0.6799999999999999,
          0.9999999999999999
         ],
         "matches": "x",
         "title": {
          "text": "Butane phase-out"
         }
        },
        "yaxis": {
         "anchor": "x",
         "domain": [
          0,
          1
         ],
         "title": {
          "text": "Emissions (MtCO2)"
         }
        },
        "yaxis2": {
         "anchor": "x2",
         "domain": [
          0,
          1
         ],
         "matches": "y",
         "showticklabels": false
        },
        "yaxis3": {
         "anchor": "x3",
         "domain": [
          0,
          1
         ],
         "matches": "y",
         "showticklabels": false
        }
       }
      },
      "text/html": [
       "<div>\n",
       "        \n",
       "        \n",
       "            <div id=\"0657528b-68af-4d07-9831-67f051857c4a\" class=\"plotly-graph-div\" style=\"height:525px; width:100%;\"></div>\n",
       "            <script type=\"text/javascript\">\n",
       "                require([\"plotly\"], function(Plotly) {\n",
       "                    window.PLOTLYENV=window.PLOTLYENV || {};\n",
       "                    \n",
       "                if (document.getElementById(\"0657528b-68af-4d07-9831-67f051857c4a\")) {\n",
       "                    Plotly.newPlot(\n",
       "                        '0657528b-68af-4d07-9831-67f051857c4a',\n",
       "                        [{\"alignmentgroup\": \"True\", \"hovertemplate\": \"Source=Butane<br>PV adoption by 2040=10%<br>Butane phase-out=%{x}<br>Emissions (MtCO2)=%{y}<extra></extra>\", \"legendgroup\": \"Butane\", \"marker\": {\"color\": \"rgb(229, 134, 6)\"}, \"name\": \"Butane\", \"offsetgroup\": \"Butane\", \"orientation\": \"v\", \"showlegend\": true, \"textposition\": \"auto\", \"type\": \"bar\", \"x\": [\"None\", \"by 2030\", \"by 2040\"], \"xaxis\": \"x\", \"y\": [1.7569850041294999, 0.49402209602051134, 1.10162021035179], \"yaxis\": \"y\"}, {\"alignmentgroup\": \"True\", \"hovertemplate\": \"Source=Butane<br>PV adoption by 2040=20%<br>Butane phase-out=%{x}<br>Emissions (MtCO2)=%{y}<extra></extra>\", \"legendgroup\": \"Butane\", \"marker\": {\"color\": \"rgb(229, 134, 6)\"}, \"name\": \"Butane\", \"offsetgroup\": \"Butane\", \"orientation\": \"v\", \"showlegend\": false, \"textposition\": \"auto\", \"type\": \"bar\", \"x\": [\"None\", \"by 2030\", \"by 2040\"], \"xaxis\": \"x2\", \"y\": [1.7569850041294999, 0.49402209602051134, 1.10162021035179], \"yaxis\": \"y2\"}, {\"alignmentgroup\": \"True\", \"hovertemplate\": \"Source=Butane<br>PV adoption by 2040=50%<br>Butane phase-out=%{x}<br>Emissions (MtCO2)=%{y}<extra></extra>\", \"legendgroup\": \"Butane\", \"marker\": {\"color\": \"rgb(229, 134, 6)\"}, \"name\": \"Butane\", \"offsetgroup\": \"Butane\", \"orientation\": \"v\", \"showlegend\": false, \"textposition\": \"auto\", \"type\": \"bar\", \"x\": [\"None\", \"by 2030\", \"by 2040\"], \"xaxis\": \"x3\", \"y\": [1.7569850041294999, 0.49402209602051134, 1.10162021035179], \"yaxis\": \"y3\"}, {\"alignmentgroup\": \"True\", \"hovertemplate\": \"Source=Grid<br>PV adoption by 2040=10%<br>Butane phase-out=%{x}<br>Emissions (MtCO2)=%{y}<extra></extra>\", \"legendgroup\": \"Grid\", \"marker\": {\"color\": \"rgb(93, 105, 177)\"}, \"name\": \"Grid\", \"offsetgroup\": \"Grid\", \"orientation\": \"v\", \"showlegend\": true, \"textposition\": \"auto\", \"type\": \"bar\", \"x\": [\"None\", \"by 2030\", \"by 2040\"], \"xaxis\": \"x\", \"y\": [19.587701214514475, 21.195117899937316, 20.421806711828168], \"yaxis\": \"y\"}, {\"alignmentgroup\": \"True\", \"hovertemplate\": \"Source=Grid<br>PV adoption by 2040=20%<br>Butane phase-out=%{x}<br>Emissions (MtCO2)=%{y}<extra></extra>\", \"legendgroup\": \"Grid\", \"marker\": {\"color\": \"rgb(93, 105, 177)\"}, \"name\": \"Grid\", \"offsetgroup\": \"Grid\", \"orientation\": \"v\", \"showlegend\": false, \"textposition\": \"auto\", \"type\": \"bar\", \"x\": [\"None\", \"by 2030\", \"by 2040\"], \"xaxis\": \"x2\", \"y\": [17.863861117470712, 19.47127780289354, 18.697966614784402], \"yaxis\": \"y2\"}, {\"alignmentgroup\": \"True\", \"hovertemplate\": \"Source=Grid<br>PV adoption by 2040=50%<br>Butane phase-out=%{x}<br>Emissions (MtCO2)=%{y}<extra></extra>\", \"legendgroup\": \"Grid\", \"marker\": {\"color\": \"rgb(93, 105, 177)\"}, \"name\": \"Grid\", \"offsetgroup\": \"Grid\", \"orientation\": \"v\", \"showlegend\": false, \"textposition\": \"auto\", \"type\": \"bar\", \"x\": [\"None\", \"by 2030\", \"by 2040\"], \"xaxis\": \"x3\", \"y\": [12.692340826339406, 14.29975751176225, 13.526446323653095], \"yaxis\": \"y3\"}],\n",
       "                        {\"annotations\": [{\"font\": {}, \"showarrow\": false, \"text\": \"PV adoption by 2040=10%\", \"x\": 0.15999999999999998, \"xanchor\": \"center\", \"xref\": \"paper\", \"y\": 1.0, \"yanchor\": \"bottom\", \"yref\": \"paper\"}, {\"font\": {}, \"showarrow\": false, \"text\": \"PV adoption by 2040=20%\", \"x\": 0.49999999999999994, \"xanchor\": \"center\", \"xref\": \"paper\", \"y\": 1.0, \"yanchor\": \"bottom\", \"yref\": \"paper\"}, {\"font\": {}, \"showarrow\": false, \"text\": \"PV adoption by 2040=50%\", \"x\": 0.8399999999999999, \"xanchor\": \"center\", \"xref\": \"paper\", \"y\": 1.0, \"yanchor\": \"bottom\", \"yref\": \"paper\"}], \"barmode\": \"relative\", \"legend\": {\"title\": {\"text\": \"Source\"}, \"tracegroupgap\": 0}, \"template\": {\"data\": {\"bar\": [{\"error_x\": {\"color\": \"#2a3f5f\"}, \"error_y\": {\"color\": \"#2a3f5f\"}, \"marker\": {\"line\": {\"color\": \"#E5ECF6\", \"width\": 0.5}}, \"type\": \"bar\"}], \"barpolar\": [{\"marker\": {\"line\": {\"color\": \"#E5ECF6\", \"width\": 0.5}}, \"type\": \"barpolar\"}], \"carpet\": [{\"aaxis\": {\"endlinecolor\": \"#2a3f5f\", \"gridcolor\": \"white\", \"linecolor\": \"white\", \"minorgridcolor\": \"white\", \"startlinecolor\": \"#2a3f5f\"}, \"baxis\": {\"endlinecolor\": \"#2a3f5f\", \"gridcolor\": \"white\", \"linecolor\": \"white\", \"minorgridcolor\": \"white\", \"startlinecolor\": \"#2a3f5f\"}, \"type\": \"carpet\"}], \"choropleth\": [{\"colorbar\": {\"outlinewidth\": 0, \"ticks\": \"\"}, \"type\": \"choropleth\"}], \"contour\": [{\"colorbar\": {\"outlinewidth\": 0, \"ticks\": \"\"}, \"colorscale\": [[0.0, \"#0d0887\"], [0.1111111111111111, \"#46039f\"], [0.2222222222222222, \"#7201a8\"], [0.3333333333333333, \"#9c179e\"], [0.4444444444444444, \"#bd3786\"], [0.5555555555555556, \"#d8576b\"], [0.6666666666666666, \"#ed7953\"], [0.7777777777777778, \"#fb9f3a\"], [0.8888888888888888, \"#fdca26\"], [1.0, \"#f0f921\"]], \"type\": \"contour\"}], \"contourcarpet\": [{\"colorbar\": {\"outlinewidth\": 0, \"ticks\": \"\"}, \"type\": \"contourcarpet\"}], \"heatmap\": [{\"colorbar\": {\"outlinewidth\": 0, \"ticks\": \"\"}, \"colorscale\": [[0.0, \"#0d0887\"], [0.1111111111111111, \"#46039f\"], [0.2222222222222222, \"#7201a8\"], [0.3333333333333333, \"#9c179e\"], [0.4444444444444444, \"#bd3786\"], [0.5555555555555556, \"#d8576b\"], [0.6666666666666666, \"#ed7953\"], [0.7777777777777778, \"#fb9f3a\"], [0.8888888888888888, \"#fdca26\"], [1.0, \"#f0f921\"]], \"type\": \"heatmap\"}], \"heatmapgl\": [{\"colorbar\": {\"outlinewidth\": 0, \"ticks\": \"\"}, \"colorscale\": [[0.0, \"#0d0887\"], [0.1111111111111111, \"#46039f\"], [0.2222222222222222, \"#7201a8\"], [0.3333333333333333, \"#9c179e\"], [0.4444444444444444, \"#bd3786\"], [0.5555555555555556, \"#d8576b\"], [0.6666666666666666, \"#ed7953\"], [0.7777777777777778, \"#fb9f3a\"], [0.8888888888888888, \"#fdca26\"], [1.0, \"#f0f921\"]], \"type\": \"heatmapgl\"}], \"histogram\": [{\"marker\": {\"colorbar\": {\"outlinewidth\": 0, \"ticks\": \"\"}}, \"type\": \"histogram\"}], \"histogram2d\": [{\"colorbar\": {\"outlinewidth\": 0, \"ticks\": \"\"}, \"colorscale\": [[0.0, \"#0d0887\"], [0.1111111111111111, \"#46039f\"], [0.2222222222222222, \"#7201a8\"], [0.3333333333333333, \"#9c179e\"], [0.4444444444444444, \"#bd3786\"], [0.5555555555555556, \"#d8576b\"], [0.6666666666666666, \"#ed7953\"], [0.7777777777777778, \"#fb9f3a\"], [0.8888888888888888, \"#fdca26\"], [1.0, \"#f0f921\"]], \"type\": \"histogram2d\"}], \"histogram2dcontour\": [{\"colorbar\": {\"outlinewidth\": 0, \"ticks\": \"\"}, \"colorscale\": [[0.0, \"#0d0887\"], [0.1111111111111111, \"#46039f\"], [0.2222222222222222, \"#7201a8\"], [0.3333333333333333, \"#9c179e\"], [0.4444444444444444, \"#bd3786\"], [0.5555555555555556, \"#d8576b\"], [0.6666666666666666, \"#ed7953\"], [0.7777777777777778, \"#fb9f3a\"], [0.8888888888888888, \"#fdca26\"], [1.0, \"#f0f921\"]], \"type\": \"histogram2dcontour\"}], \"mesh3d\": [{\"colorbar\": {\"outlinewidth\": 0, \"ticks\": \"\"}, \"type\": \"mesh3d\"}], \"parcoords\": [{\"line\": {\"colorbar\": {\"outlinewidth\": 0, \"ticks\": \"\"}}, \"type\": \"parcoords\"}], \"pie\": [{\"automargin\": true, \"type\": \"pie\"}], \"scatter\": [{\"marker\": {\"colorbar\": {\"outlinewidth\": 0, \"ticks\": \"\"}}, \"type\": \"scatter\"}], \"scatter3d\": [{\"line\": {\"colorbar\": {\"outlinewidth\": 0, \"ticks\": \"\"}}, \"marker\": {\"colorbar\": {\"outlinewidth\": 0, \"ticks\": \"\"}}, \"type\": \"scatter3d\"}], \"scattercarpet\": [{\"marker\": {\"colorbar\": {\"outlinewidth\": 0, \"ticks\": \"\"}}, \"type\": \"scattercarpet\"}], \"scattergeo\": [{\"marker\": {\"colorbar\": {\"outlinewidth\": 0, \"ticks\": \"\"}}, \"type\": \"scattergeo\"}], \"scattergl\": [{\"marker\": {\"colorbar\": {\"outlinewidth\": 0, \"ticks\": \"\"}}, \"type\": \"scattergl\"}], \"scattermapbox\": [{\"marker\": {\"colorbar\": {\"outlinewidth\": 0, \"ticks\": \"\"}}, \"type\": \"scattermapbox\"}], \"scatterpolar\": [{\"marker\": {\"colorbar\": {\"outlinewidth\": 0, \"ticks\": \"\"}}, \"type\": \"scatterpolar\"}], \"scatterpolargl\": [{\"marker\": {\"colorbar\": {\"outlinewidth\": 0, \"ticks\": \"\"}}, \"type\": \"scatterpolargl\"}], \"scatterternary\": [{\"marker\": {\"colorbar\": {\"outlinewidth\": 0, \"ticks\": \"\"}}, \"type\": \"scatterternary\"}], \"surface\": [{\"colorbar\": {\"outlinewidth\": 0, \"ticks\": \"\"}, \"colorscale\": [[0.0, \"#0d0887\"], [0.1111111111111111, \"#46039f\"], [0.2222222222222222, \"#7201a8\"], [0.3333333333333333, \"#9c179e\"], [0.4444444444444444, \"#bd3786\"], [0.5555555555555556, \"#d8576b\"], [0.6666666666666666, \"#ed7953\"], [0.7777777777777778, \"#fb9f3a\"], [0.8888888888888888, \"#fdca26\"], [1.0, \"#f0f921\"]], \"type\": \"surface\"}], \"table\": [{\"cells\": {\"fill\": {\"color\": \"#EBF0F8\"}, \"line\": {\"color\": \"white\"}}, \"header\": {\"fill\": {\"color\": \"#C8D4E3\"}, \"line\": {\"color\": \"white\"}}, \"type\": \"table\"}]}, \"layout\": {\"annotationdefaults\": {\"arrowcolor\": \"#2a3f5f\", \"arrowhead\": 0, \"arrowwidth\": 1}, \"coloraxis\": {\"colorbar\": {\"outlinewidth\": 0, \"ticks\": \"\"}}, \"colorscale\": {\"diverging\": [[0, \"#8e0152\"], [0.1, \"#c51b7d\"], [0.2, \"#de77ae\"], [0.3, \"#f1b6da\"], [0.4, \"#fde0ef\"], [0.5, \"#f7f7f7\"], [0.6, \"#e6f5d0\"], [0.7, \"#b8e186\"], [0.8, \"#7fbc41\"], [0.9, \"#4d9221\"], [1, \"#276419\"]], \"sequential\": [[0.0, \"#0d0887\"], [0.1111111111111111, \"#46039f\"], [0.2222222222222222, \"#7201a8\"], [0.3333333333333333, \"#9c179e\"], [0.4444444444444444, \"#bd3786\"], [0.5555555555555556, \"#d8576b\"], [0.6666666666666666, \"#ed7953\"], [0.7777777777777778, \"#fb9f3a\"], [0.8888888888888888, \"#fdca26\"], [1.0, \"#f0f921\"]], \"sequentialminus\": [[0.0, \"#0d0887\"], [0.1111111111111111, \"#46039f\"], [0.2222222222222222, \"#7201a8\"], [0.3333333333333333, \"#9c179e\"], [0.4444444444444444, \"#bd3786\"], [0.5555555555555556, \"#d8576b\"], [0.6666666666666666, \"#ed7953\"], [0.7777777777777778, \"#fb9f3a\"], [0.8888888888888888, \"#fdca26\"], [1.0, \"#f0f921\"]]}, \"colorway\": [\"#636efa\", \"#EF553B\", \"#00cc96\", \"#ab63fa\", \"#FFA15A\", \"#19d3f3\", \"#FF6692\", \"#B6E880\", \"#FF97FF\", \"#FECB52\"], \"font\": {\"color\": \"#2a3f5f\"}, \"geo\": {\"bgcolor\": \"white\", \"lakecolor\": \"white\", \"landcolor\": \"#E5ECF6\", \"showlakes\": true, \"showland\": true, \"subunitcolor\": \"white\"}, \"hoverlabel\": {\"align\": \"left\"}, \"hovermode\": \"closest\", \"mapbox\": {\"style\": \"light\"}, \"paper_bgcolor\": \"white\", \"plot_bgcolor\": \"#E5ECF6\", \"polar\": {\"angularaxis\": {\"gridcolor\": \"white\", \"linecolor\": \"white\", \"ticks\": \"\"}, \"bgcolor\": \"#E5ECF6\", \"radialaxis\": {\"gridcolor\": \"white\", \"linecolor\": \"white\", \"ticks\": \"\"}}, \"scene\": {\"xaxis\": {\"backgroundcolor\": \"#E5ECF6\", \"gridcolor\": \"white\", \"gridwidth\": 2, \"linecolor\": \"white\", \"showbackground\": true, \"ticks\": \"\", \"zerolinecolor\": \"white\"}, \"yaxis\": {\"backgroundcolor\": \"#E5ECF6\", \"gridcolor\": \"white\", \"gridwidth\": 2, \"linecolor\": \"white\", \"showbackground\": true, \"ticks\": \"\", \"zerolinecolor\": \"white\"}, \"zaxis\": {\"backgroundcolor\": \"#E5ECF6\", \"gridcolor\": \"white\", \"gridwidth\": 2, \"linecolor\": \"white\", \"showbackground\": true, \"ticks\": \"\", \"zerolinecolor\": \"white\"}}, \"shapedefaults\": {\"line\": {\"color\": \"#2a3f5f\"}}, \"ternary\": {\"aaxis\": {\"gridcolor\": \"white\", \"linecolor\": \"white\", \"ticks\": \"\"}, \"baxis\": {\"gridcolor\": \"white\", \"linecolor\": \"white\", \"ticks\": \"\"}, \"bgcolor\": \"#E5ECF6\", \"caxis\": {\"gridcolor\": \"white\", \"linecolor\": \"white\", \"ticks\": \"\"}}, \"title\": {\"x\": 0.05}, \"xaxis\": {\"automargin\": true, \"gridcolor\": \"white\", \"linecolor\": \"white\", \"ticks\": \"\", \"title\": {\"standoff\": 15}, \"zerolinecolor\": \"white\", \"zerolinewidth\": 2}, \"yaxis\": {\"automargin\": true, \"gridcolor\": \"white\", \"linecolor\": \"white\", \"ticks\": \"\", \"title\": {\"standoff\": 15}, \"zerolinecolor\": \"white\", \"zerolinewidth\": 2}}}, \"title\": {\"text\": \"Total emissions under different butane phaseout scenarios and PV adoption\"}, \"xaxis\": {\"anchor\": \"y\", \"categoryarray\": [\"None\", \"by 2040\", \"by 2030\"], \"categoryorder\": \"array\", \"domain\": [0.0, 0.31999999999999995], \"title\": {\"text\": \"Butane phase-out\"}}, \"xaxis2\": {\"anchor\": \"y2\", \"domain\": [0.33999999999999997, 0.6599999999999999], \"matches\": \"x\", \"title\": {\"text\": \"Butane phase-out\"}}, \"xaxis3\": {\"anchor\": \"y3\", \"domain\": [0.6799999999999999, 0.9999999999999999], \"matches\": \"x\", \"title\": {\"text\": \"Butane phase-out\"}}, \"yaxis\": {\"anchor\": \"x\", \"domain\": [0.0, 1.0], \"title\": {\"text\": \"Emissions (MtCO2)\"}}, \"yaxis2\": {\"anchor\": \"x2\", \"domain\": [0.0, 1.0], \"matches\": \"y\", \"showticklabels\": false}, \"yaxis3\": {\"anchor\": \"x3\", \"domain\": [0.0, 1.0], \"matches\": \"y\", \"showticklabels\": false}},\n",
       "                        {\"responsive\": true}\n",
       "                    ).then(function(){\n",
       "                            \n",
       "var gd = document.getElementById('0657528b-68af-4d07-9831-67f051857c4a');\n",
       "var x = new MutationObserver(function (mutations, observer) {{\n",
       "        var display = window.getComputedStyle(gd).display;\n",
       "        if (!display || display === 'none') {{\n",
       "            console.log([gd, 'removed!']);\n",
       "            Plotly.purge(gd);\n",
       "            observer.disconnect();\n",
       "        }}\n",
       "}});\n",
       "\n",
       "// Listen for the removal of the full notebook cells\n",
       "var notebookContainer = gd.closest('#notebook-container');\n",
       "if (notebookContainer) {{\n",
       "    x.observe(notebookContainer, {childList: true});\n",
       "}}\n",
       "\n",
       "// Listen for the clearing of the current output cell\n",
       "var outputEl = gd.closest('.output');\n",
       "if (outputEl) {{\n",
       "    x.observe(outputEl, {childList: true});\n",
       "}}\n",
       "\n",
       "                        })\n",
       "                };\n",
       "                });\n",
       "            </script>\n",
       "        </div>"
      ]
     },
     "metadata": {},
     "output_type": "display_data"
    }
   ],
   "source": [
    "dff = df.copy().melt(value_vars=['butane_emissions(MtCO2)', 'grid_emissions(MtCO2)'], \n",
    "         id_vars=['butane_phaseout', 'pv_adoption'])\n",
    "\n",
    "dff.loc[dff['variable']==\"butane_emissions(MtCO2)\", 'variable'] = \"Butane\"\n",
    "dff.loc[dff['variable']==\"grid_emissions(MtCO2)\", 'variable'] = \"Grid\"\n",
    "\n",
    "fig = px.bar(dff, x='butane_phaseout', y='value', color='variable',\n",
    "             facet_col='pv_adoption', title='Total emissions under different butane phaseout scenarios and PV adoption',\n",
    "             color_discrete_sequence=px.colors.qualitative.Vivid,\n",
    "             labels={\n",
    "                     \"butane_phaseout\": \"Butane phase-out\",\n",
    "                     \"pv_adoption\": \"PV adoption by 2040\",\n",
    "                     \"value\": \"Emissions (MtCO2)\",\n",
    "                     \"variable\": 'Source'\n",
    "                     }\n",
    "            )\n",
    "\n",
    "fig.update_layout(xaxis={'categoryorder':'array', 'categoryarray':['None','by 2040','by 2030']})\n",
    "\n",
    "fig.show()\n",
    "# fig.write_image('TotalEmissions.pdf', width=900)"
   ]
  },
  {
   "cell_type": "code",
   "execution_count": 67,
   "metadata": {
    "scrolled": false
   },
   "outputs": [
    {
     "data": {
      "application/vnd.plotly.v1+json": {
       "config": {
        "plotlyServerURL": "https://plot.ly"
       },
       "data": [
        {
         "hovertemplate": "Butane phase-out=None<br>Total costs (mMAD)=%{x}<br>Emissions (MtCO2)=%{y}<br>PV share by 2040=%{marker.size}<extra></extra>",
         "legendgroup": "None",
         "marker": {
          "color": "rgb(229, 134, 6)",
          "size": [
           0.1,
           0.2,
           0.5
          ],
          "sizemode": "area",
          "sizeref": 0.00125,
          "symbol": "circle"
         },
         "mode": "markers",
         "name": "None",
         "orientation": "v",
         "showlegend": true,
         "type": "scatter",
         "x": [
          20809.004584538525,
          20669.465901425552,
          20513.091244821382
         ],
         "xaxis": "x",
         "y": [
          20.699192318779662,
          19.047073766165266,
          14.090718108322063
         ],
         "yaxis": "y"
        },
        {
         "hovertemplate": "Butane phase-out=by 2030<br>Total costs (mMAD)=%{x}<br>Emissions (MtCO2)=%{y}<br>PV share by 2040=%{marker.size}<extra></extra>",
         "legendgroup": "by 2030",
         "marker": {
          "color": "rgb(93, 105, 177)",
          "size": [
           0.1,
           0.2,
           0.5
          ],
          "sizemode": "area",
          "sizeref": 0.00125,
          "symbol": "circle"
         },
         "mode": "markers",
         "name": "by 2030",
         "orientation": "v",
         "showlegend": true,
         "type": "scatter",
         "x": [
          19379.853074562416,
          19240.314391449454,
          19083.939734845277
         ],
         "xaxis": "x",
         "y": [
          21.04364609609351,
          19.391527543479103,
          14.43517188563592
         ],
         "yaxis": "y"
        },
        {
         "hovertemplate": "Butane phase-out=by 2040<br>Total costs (mMAD)=%{x}<br>Emissions (MtCO2)=%{y}<br>PV share by 2040=%{marker.size}<extra></extra>",
         "legendgroup": "by 2040",
         "marker": {
          "color": "rgb(82, 188, 163)",
          "size": [
           0.1,
           0.2,
           0.5
          ],
          "sizemode": "area",
          "sizeref": 0.00125,
          "symbol": "circle"
         },
         "mode": "markers",
         "name": "by 2040",
         "orientation": "v",
         "showlegend": true,
         "type": "scatter",
         "x": [
          20067.40276979089,
          19927.864086677906,
          19771.48943007374
         ],
         "xaxis": "x",
         "y": [
          20.87793302231564,
          19.22581446970124,
          14.269458811858048
         ],
         "yaxis": "y"
        }
       ],
       "layout": {
        "legend": {
         "itemsizing": "constant",
         "title": {
          "text": "Butane phase-out"
         },
         "tracegroupgap": 0
        },
        "template": {
         "data": {
          "bar": [
           {
            "error_x": {
             "color": "#2a3f5f"
            },
            "error_y": {
             "color": "#2a3f5f"
            },
            "marker": {
             "line": {
              "color": "#E5ECF6",
              "width": 0.5
             }
            },
            "type": "bar"
           }
          ],
          "barpolar": [
           {
            "marker": {
             "line": {
              "color": "#E5ECF6",
              "width": 0.5
             }
            },
            "type": "barpolar"
           }
          ],
          "carpet": [
           {
            "aaxis": {
             "endlinecolor": "#2a3f5f",
             "gridcolor": "white",
             "linecolor": "white",
             "minorgridcolor": "white",
             "startlinecolor": "#2a3f5f"
            },
            "baxis": {
             "endlinecolor": "#2a3f5f",
             "gridcolor": "white",
             "linecolor": "white",
             "minorgridcolor": "white",
             "startlinecolor": "#2a3f5f"
            },
            "type": "carpet"
           }
          ],
          "choropleth": [
           {
            "colorbar": {
             "outlinewidth": 0,
             "ticks": ""
            },
            "type": "choropleth"
           }
          ],
          "contour": [
           {
            "colorbar": {
             "outlinewidth": 0,
             "ticks": ""
            },
            "colorscale": [
             [
              0,
              "#0d0887"
             ],
             [
              0.1111111111111111,
              "#46039f"
             ],
             [
              0.2222222222222222,
              "#7201a8"
             ],
             [
              0.3333333333333333,
              "#9c179e"
             ],
             [
              0.4444444444444444,
              "#bd3786"
             ],
             [
              0.5555555555555556,
              "#d8576b"
             ],
             [
              0.6666666666666666,
              "#ed7953"
             ],
             [
              0.7777777777777778,
              "#fb9f3a"
             ],
             [
              0.8888888888888888,
              "#fdca26"
             ],
             [
              1,
              "#f0f921"
             ]
            ],
            "type": "contour"
           }
          ],
          "contourcarpet": [
           {
            "colorbar": {
             "outlinewidth": 0,
             "ticks": ""
            },
            "type": "contourcarpet"
           }
          ],
          "heatmap": [
           {
            "colorbar": {
             "outlinewidth": 0,
             "ticks": ""
            },
            "colorscale": [
             [
              0,
              "#0d0887"
             ],
             [
              0.1111111111111111,
              "#46039f"
             ],
             [
              0.2222222222222222,
              "#7201a8"
             ],
             [
              0.3333333333333333,
              "#9c179e"
             ],
             [
              0.4444444444444444,
              "#bd3786"
             ],
             [
              0.5555555555555556,
              "#d8576b"
             ],
             [
              0.6666666666666666,
              "#ed7953"
             ],
             [
              0.7777777777777778,
              "#fb9f3a"
             ],
             [
              0.8888888888888888,
              "#fdca26"
             ],
             [
              1,
              "#f0f921"
             ]
            ],
            "type": "heatmap"
           }
          ],
          "heatmapgl": [
           {
            "colorbar": {
             "outlinewidth": 0,
             "ticks": ""
            },
            "colorscale": [
             [
              0,
              "#0d0887"
             ],
             [
              0.1111111111111111,
              "#46039f"
             ],
             [
              0.2222222222222222,
              "#7201a8"
             ],
             [
              0.3333333333333333,
              "#9c179e"
             ],
             [
              0.4444444444444444,
              "#bd3786"
             ],
             [
              0.5555555555555556,
              "#d8576b"
             ],
             [
              0.6666666666666666,
              "#ed7953"
             ],
             [
              0.7777777777777778,
              "#fb9f3a"
             ],
             [
              0.8888888888888888,
              "#fdca26"
             ],
             [
              1,
              "#f0f921"
             ]
            ],
            "type": "heatmapgl"
           }
          ],
          "histogram": [
           {
            "marker": {
             "colorbar": {
              "outlinewidth": 0,
              "ticks": ""
             }
            },
            "type": "histogram"
           }
          ],
          "histogram2d": [
           {
            "colorbar": {
             "outlinewidth": 0,
             "ticks": ""
            },
            "colorscale": [
             [
              0,
              "#0d0887"
             ],
             [
              0.1111111111111111,
              "#46039f"
             ],
             [
              0.2222222222222222,
              "#7201a8"
             ],
             [
              0.3333333333333333,
              "#9c179e"
             ],
             [
              0.4444444444444444,
              "#bd3786"
             ],
             [
              0.5555555555555556,
              "#d8576b"
             ],
             [
              0.6666666666666666,
              "#ed7953"
             ],
             [
              0.7777777777777778,
              "#fb9f3a"
             ],
             [
              0.8888888888888888,
              "#fdca26"
             ],
             [
              1,
              "#f0f921"
             ]
            ],
            "type": "histogram2d"
           }
          ],
          "histogram2dcontour": [
           {
            "colorbar": {
             "outlinewidth": 0,
             "ticks": ""
            },
            "colorscale": [
             [
              0,
              "#0d0887"
             ],
             [
              0.1111111111111111,
              "#46039f"
             ],
             [
              0.2222222222222222,
              "#7201a8"
             ],
             [
              0.3333333333333333,
              "#9c179e"
             ],
             [
              0.4444444444444444,
              "#bd3786"
             ],
             [
              0.5555555555555556,
              "#d8576b"
             ],
             [
              0.6666666666666666,
              "#ed7953"
             ],
             [
              0.7777777777777778,
              "#fb9f3a"
             ],
             [
              0.8888888888888888,
              "#fdca26"
             ],
             [
              1,
              "#f0f921"
             ]
            ],
            "type": "histogram2dcontour"
           }
          ],
          "mesh3d": [
           {
            "colorbar": {
             "outlinewidth": 0,
             "ticks": ""
            },
            "type": "mesh3d"
           }
          ],
          "parcoords": [
           {
            "line": {
             "colorbar": {
              "outlinewidth": 0,
              "ticks": ""
             }
            },
            "type": "parcoords"
           }
          ],
          "pie": [
           {
            "automargin": true,
            "type": "pie"
           }
          ],
          "scatter": [
           {
            "marker": {
             "colorbar": {
              "outlinewidth": 0,
              "ticks": ""
             }
            },
            "type": "scatter"
           }
          ],
          "scatter3d": [
           {
            "line": {
             "colorbar": {
              "outlinewidth": 0,
              "ticks": ""
             }
            },
            "marker": {
             "colorbar": {
              "outlinewidth": 0,
              "ticks": ""
             }
            },
            "type": "scatter3d"
           }
          ],
          "scattercarpet": [
           {
            "marker": {
             "colorbar": {
              "outlinewidth": 0,
              "ticks": ""
             }
            },
            "type": "scattercarpet"
           }
          ],
          "scattergeo": [
           {
            "marker": {
             "colorbar": {
              "outlinewidth": 0,
              "ticks": ""
             }
            },
            "type": "scattergeo"
           }
          ],
          "scattergl": [
           {
            "marker": {
             "colorbar": {
              "outlinewidth": 0,
              "ticks": ""
             }
            },
            "type": "scattergl"
           }
          ],
          "scattermapbox": [
           {
            "marker": {
             "colorbar": {
              "outlinewidth": 0,
              "ticks": ""
             }
            },
            "type": "scattermapbox"
           }
          ],
          "scatterpolar": [
           {
            "marker": {
             "colorbar": {
              "outlinewidth": 0,
              "ticks": ""
             }
            },
            "type": "scatterpolar"
           }
          ],
          "scatterpolargl": [
           {
            "marker": {
             "colorbar": {
              "outlinewidth": 0,
              "ticks": ""
             }
            },
            "type": "scatterpolargl"
           }
          ],
          "scatterternary": [
           {
            "marker": {
             "colorbar": {
              "outlinewidth": 0,
              "ticks": ""
             }
            },
            "type": "scatterternary"
           }
          ],
          "surface": [
           {
            "colorbar": {
             "outlinewidth": 0,
             "ticks": ""
            },
            "colorscale": [
             [
              0,
              "#0d0887"
             ],
             [
              0.1111111111111111,
              "#46039f"
             ],
             [
              0.2222222222222222,
              "#7201a8"
             ],
             [
              0.3333333333333333,
              "#9c179e"
             ],
             [
              0.4444444444444444,
              "#bd3786"
             ],
             [
              0.5555555555555556,
              "#d8576b"
             ],
             [
              0.6666666666666666,
              "#ed7953"
             ],
             [
              0.7777777777777778,
              "#fb9f3a"
             ],
             [
              0.8888888888888888,
              "#fdca26"
             ],
             [
              1,
              "#f0f921"
             ]
            ],
            "type": "surface"
           }
          ],
          "table": [
           {
            "cells": {
             "fill": {
              "color": "#EBF0F8"
             },
             "line": {
              "color": "white"
             }
            },
            "header": {
             "fill": {
              "color": "#C8D4E3"
             },
             "line": {
              "color": "white"
             }
            },
            "type": "table"
           }
          ]
         },
         "layout": {
          "annotationdefaults": {
           "arrowcolor": "#2a3f5f",
           "arrowhead": 0,
           "arrowwidth": 1
          },
          "coloraxis": {
           "colorbar": {
            "outlinewidth": 0,
            "ticks": ""
           }
          },
          "colorscale": {
           "diverging": [
            [
             0,
             "#8e0152"
            ],
            [
             0.1,
             "#c51b7d"
            ],
            [
             0.2,
             "#de77ae"
            ],
            [
             0.3,
             "#f1b6da"
            ],
            [
             0.4,
             "#fde0ef"
            ],
            [
             0.5,
             "#f7f7f7"
            ],
            [
             0.6,
             "#e6f5d0"
            ],
            [
             0.7,
             "#b8e186"
            ],
            [
             0.8,
             "#7fbc41"
            ],
            [
             0.9,
             "#4d9221"
            ],
            [
             1,
             "#276419"
            ]
           ],
           "sequential": [
            [
             0,
             "#0d0887"
            ],
            [
             0.1111111111111111,
             "#46039f"
            ],
            [
             0.2222222222222222,
             "#7201a8"
            ],
            [
             0.3333333333333333,
             "#9c179e"
            ],
            [
             0.4444444444444444,
             "#bd3786"
            ],
            [
             0.5555555555555556,
             "#d8576b"
            ],
            [
             0.6666666666666666,
             "#ed7953"
            ],
            [
             0.7777777777777778,
             "#fb9f3a"
            ],
            [
             0.8888888888888888,
             "#fdca26"
            ],
            [
             1,
             "#f0f921"
            ]
           ],
           "sequentialminus": [
            [
             0,
             "#0d0887"
            ],
            [
             0.1111111111111111,
             "#46039f"
            ],
            [
             0.2222222222222222,
             "#7201a8"
            ],
            [
             0.3333333333333333,
             "#9c179e"
            ],
            [
             0.4444444444444444,
             "#bd3786"
            ],
            [
             0.5555555555555556,
             "#d8576b"
            ],
            [
             0.6666666666666666,
             "#ed7953"
            ],
            [
             0.7777777777777778,
             "#fb9f3a"
            ],
            [
             0.8888888888888888,
             "#fdca26"
            ],
            [
             1,
             "#f0f921"
            ]
           ]
          },
          "colorway": [
           "#636efa",
           "#EF553B",
           "#00cc96",
           "#ab63fa",
           "#FFA15A",
           "#19d3f3",
           "#FF6692",
           "#B6E880",
           "#FF97FF",
           "#FECB52"
          ],
          "font": {
           "color": "#2a3f5f"
          },
          "geo": {
           "bgcolor": "white",
           "lakecolor": "white",
           "landcolor": "#E5ECF6",
           "showlakes": true,
           "showland": true,
           "subunitcolor": "white"
          },
          "hoverlabel": {
           "align": "left"
          },
          "hovermode": "closest",
          "mapbox": {
           "style": "light"
          },
          "paper_bgcolor": "white",
          "plot_bgcolor": "#E5ECF6",
          "polar": {
           "angularaxis": {
            "gridcolor": "white",
            "linecolor": "white",
            "ticks": ""
           },
           "bgcolor": "#E5ECF6",
           "radialaxis": {
            "gridcolor": "white",
            "linecolor": "white",
            "ticks": ""
           }
          },
          "scene": {
           "xaxis": {
            "backgroundcolor": "#E5ECF6",
            "gridcolor": "white",
            "gridwidth": 2,
            "linecolor": "white",
            "showbackground": true,
            "ticks": "",
            "zerolinecolor": "white"
           },
           "yaxis": {
            "backgroundcolor": "#E5ECF6",
            "gridcolor": "white",
            "gridwidth": 2,
            "linecolor": "white",
            "showbackground": true,
            "ticks": "",
            "zerolinecolor": "white"
           },
           "zaxis": {
            "backgroundcolor": "#E5ECF6",
            "gridcolor": "white",
            "gridwidth": 2,
            "linecolor": "white",
            "showbackground": true,
            "ticks": "",
            "zerolinecolor": "white"
           }
          },
          "shapedefaults": {
           "line": {
            "color": "#2a3f5f"
           }
          },
          "ternary": {
           "aaxis": {
            "gridcolor": "white",
            "linecolor": "white",
            "ticks": ""
           },
           "baxis": {
            "gridcolor": "white",
            "linecolor": "white",
            "ticks": ""
           },
           "bgcolor": "#E5ECF6",
           "caxis": {
            "gridcolor": "white",
            "linecolor": "white",
            "ticks": ""
           }
          },
          "title": {
           "x": 0.05
          },
          "xaxis": {
           "automargin": true,
           "gridcolor": "white",
           "linecolor": "white",
           "ticks": "",
           "title": {
            "standoff": 15
           },
           "zerolinecolor": "white",
           "zerolinewidth": 2
          },
          "yaxis": {
           "automargin": true,
           "gridcolor": "white",
           "linecolor": "white",
           "ticks": "",
           "title": {
            "standoff": 15
           },
           "zerolinecolor": "white",
           "zerolinewidth": 2
          }
         }
        },
        "title": {
         "text": "Total emissions and costs under different butane phaseout scenarios and PV adoption"
        },
        "xaxis": {
         "anchor": "y",
         "domain": [
          0,
          1
         ],
         "title": {
          "text": "Total costs (mMAD)"
         }
        },
        "yaxis": {
         "anchor": "x",
         "domain": [
          0,
          1
         ],
         "title": {
          "text": "Emissions (MtCO2)"
         }
        }
       }
      },
      "text/html": [
       "<div>\n",
       "        \n",
       "        \n",
       "            <div id=\"fc5ba6c2-05ca-4628-a035-6aa57981ef03\" class=\"plotly-graph-div\" style=\"height:525px; width:100%;\"></div>\n",
       "            <script type=\"text/javascript\">\n",
       "                require([\"plotly\"], function(Plotly) {\n",
       "                    window.PLOTLYENV=window.PLOTLYENV || {};\n",
       "                    \n",
       "                if (document.getElementById(\"fc5ba6c2-05ca-4628-a035-6aa57981ef03\")) {\n",
       "                    Plotly.newPlot(\n",
       "                        'fc5ba6c2-05ca-4628-a035-6aa57981ef03',\n",
       "                        [{\"hovertemplate\": \"Butane phase-out=None<br>Total costs (mMAD)=%{x}<br>Emissions (MtCO2)=%{y}<br>PV share by 2040=%{marker.size}<extra></extra>\", \"legendgroup\": \"None\", \"marker\": {\"color\": \"rgb(229, 134, 6)\", \"size\": [0.1, 0.2, 0.5], \"sizemode\": \"area\", \"sizeref\": 0.00125, \"symbol\": \"circle\"}, \"mode\": \"markers\", \"name\": \"None\", \"orientation\": \"v\", \"showlegend\": true, \"type\": \"scatter\", \"x\": [20809.004584538525, 20669.465901425552, 20513.091244821382], \"xaxis\": \"x\", \"y\": [20.699192318779662, 19.047073766165266, 14.090718108322063], \"yaxis\": \"y\"}, {\"hovertemplate\": \"Butane phase-out=by 2030<br>Total costs (mMAD)=%{x}<br>Emissions (MtCO2)=%{y}<br>PV share by 2040=%{marker.size}<extra></extra>\", \"legendgroup\": \"by 2030\", \"marker\": {\"color\": \"rgb(93, 105, 177)\", \"size\": [0.1, 0.2, 0.5], \"sizemode\": \"area\", \"sizeref\": 0.00125, \"symbol\": \"circle\"}, \"mode\": \"markers\", \"name\": \"by 2030\", \"orientation\": \"v\", \"showlegend\": true, \"type\": \"scatter\", \"x\": [19379.853074562416, 19240.314391449454, 19083.939734845277], \"xaxis\": \"x\", \"y\": [21.04364609609351, 19.391527543479103, 14.43517188563592], \"yaxis\": \"y\"}, {\"hovertemplate\": \"Butane phase-out=by 2040<br>Total costs (mMAD)=%{x}<br>Emissions (MtCO2)=%{y}<br>PV share by 2040=%{marker.size}<extra></extra>\", \"legendgroup\": \"by 2040\", \"marker\": {\"color\": \"rgb(82, 188, 163)\", \"size\": [0.1, 0.2, 0.5], \"sizemode\": \"area\", \"sizeref\": 0.00125, \"symbol\": \"circle\"}, \"mode\": \"markers\", \"name\": \"by 2040\", \"orientation\": \"v\", \"showlegend\": true, \"type\": \"scatter\", \"x\": [20067.40276979089, 19927.864086677906, 19771.48943007374], \"xaxis\": \"x\", \"y\": [20.87793302231564, 19.22581446970124, 14.269458811858048], \"yaxis\": \"y\"}],\n",
       "                        {\"legend\": {\"itemsizing\": \"constant\", \"title\": {\"text\": \"Butane phase-out\"}, \"tracegroupgap\": 0}, \"template\": {\"data\": {\"bar\": [{\"error_x\": {\"color\": \"#2a3f5f\"}, \"error_y\": {\"color\": \"#2a3f5f\"}, \"marker\": {\"line\": {\"color\": \"#E5ECF6\", \"width\": 0.5}}, \"type\": \"bar\"}], \"barpolar\": [{\"marker\": {\"line\": {\"color\": \"#E5ECF6\", \"width\": 0.5}}, \"type\": \"barpolar\"}], \"carpet\": [{\"aaxis\": {\"endlinecolor\": \"#2a3f5f\", \"gridcolor\": \"white\", \"linecolor\": \"white\", \"minorgridcolor\": \"white\", \"startlinecolor\": \"#2a3f5f\"}, \"baxis\": {\"endlinecolor\": \"#2a3f5f\", \"gridcolor\": \"white\", \"linecolor\": \"white\", \"minorgridcolor\": \"white\", \"startlinecolor\": \"#2a3f5f\"}, \"type\": \"carpet\"}], \"choropleth\": [{\"colorbar\": {\"outlinewidth\": 0, \"ticks\": \"\"}, \"type\": \"choropleth\"}], \"contour\": [{\"colorbar\": {\"outlinewidth\": 0, \"ticks\": \"\"}, \"colorscale\": [[0.0, \"#0d0887\"], [0.1111111111111111, \"#46039f\"], [0.2222222222222222, \"#7201a8\"], [0.3333333333333333, \"#9c179e\"], [0.4444444444444444, \"#bd3786\"], [0.5555555555555556, \"#d8576b\"], [0.6666666666666666, \"#ed7953\"], [0.7777777777777778, \"#fb9f3a\"], [0.8888888888888888, \"#fdca26\"], [1.0, \"#f0f921\"]], \"type\": \"contour\"}], \"contourcarpet\": [{\"colorbar\": {\"outlinewidth\": 0, \"ticks\": \"\"}, \"type\": \"contourcarpet\"}], \"heatmap\": [{\"colorbar\": {\"outlinewidth\": 0, \"ticks\": \"\"}, \"colorscale\": [[0.0, \"#0d0887\"], [0.1111111111111111, \"#46039f\"], [0.2222222222222222, \"#7201a8\"], [0.3333333333333333, \"#9c179e\"], [0.4444444444444444, \"#bd3786\"], [0.5555555555555556, \"#d8576b\"], [0.6666666666666666, \"#ed7953\"], [0.7777777777777778, \"#fb9f3a\"], [0.8888888888888888, \"#fdca26\"], [1.0, \"#f0f921\"]], \"type\": \"heatmap\"}], \"heatmapgl\": [{\"colorbar\": {\"outlinewidth\": 0, \"ticks\": \"\"}, \"colorscale\": [[0.0, \"#0d0887\"], [0.1111111111111111, \"#46039f\"], [0.2222222222222222, \"#7201a8\"], [0.3333333333333333, \"#9c179e\"], [0.4444444444444444, \"#bd3786\"], [0.5555555555555556, \"#d8576b\"], [0.6666666666666666, \"#ed7953\"], [0.7777777777777778, \"#fb9f3a\"], [0.8888888888888888, \"#fdca26\"], [1.0, \"#f0f921\"]], \"type\": \"heatmapgl\"}], \"histogram\": [{\"marker\": {\"colorbar\": {\"outlinewidth\": 0, \"ticks\": \"\"}}, \"type\": \"histogram\"}], \"histogram2d\": [{\"colorbar\": {\"outlinewidth\": 0, \"ticks\": \"\"}, \"colorscale\": [[0.0, \"#0d0887\"], [0.1111111111111111, \"#46039f\"], [0.2222222222222222, \"#7201a8\"], [0.3333333333333333, \"#9c179e\"], [0.4444444444444444, \"#bd3786\"], [0.5555555555555556, \"#d8576b\"], [0.6666666666666666, \"#ed7953\"], [0.7777777777777778, \"#fb9f3a\"], [0.8888888888888888, \"#fdca26\"], [1.0, \"#f0f921\"]], \"type\": \"histogram2d\"}], \"histogram2dcontour\": [{\"colorbar\": {\"outlinewidth\": 0, \"ticks\": \"\"}, \"colorscale\": [[0.0, \"#0d0887\"], [0.1111111111111111, \"#46039f\"], [0.2222222222222222, \"#7201a8\"], [0.3333333333333333, \"#9c179e\"], [0.4444444444444444, \"#bd3786\"], [0.5555555555555556, \"#d8576b\"], [0.6666666666666666, \"#ed7953\"], [0.7777777777777778, \"#fb9f3a\"], [0.8888888888888888, \"#fdca26\"], [1.0, \"#f0f921\"]], \"type\": \"histogram2dcontour\"}], \"mesh3d\": [{\"colorbar\": {\"outlinewidth\": 0, \"ticks\": \"\"}, \"type\": \"mesh3d\"}], \"parcoords\": [{\"line\": {\"colorbar\": {\"outlinewidth\": 0, \"ticks\": \"\"}}, \"type\": \"parcoords\"}], \"pie\": [{\"automargin\": true, \"type\": \"pie\"}], \"scatter\": [{\"marker\": {\"colorbar\": {\"outlinewidth\": 0, \"ticks\": \"\"}}, \"type\": \"scatter\"}], \"scatter3d\": [{\"line\": {\"colorbar\": {\"outlinewidth\": 0, \"ticks\": \"\"}}, \"marker\": {\"colorbar\": {\"outlinewidth\": 0, \"ticks\": \"\"}}, \"type\": \"scatter3d\"}], \"scattercarpet\": [{\"marker\": {\"colorbar\": {\"outlinewidth\": 0, \"ticks\": \"\"}}, \"type\": \"scattercarpet\"}], \"scattergeo\": [{\"marker\": {\"colorbar\": {\"outlinewidth\": 0, \"ticks\": \"\"}}, \"type\": \"scattergeo\"}], \"scattergl\": [{\"marker\": {\"colorbar\": {\"outlinewidth\": 0, \"ticks\": \"\"}}, \"type\": \"scattergl\"}], \"scattermapbox\": [{\"marker\": {\"colorbar\": {\"outlinewidth\": 0, \"ticks\": \"\"}}, \"type\": \"scattermapbox\"}], \"scatterpolar\": [{\"marker\": {\"colorbar\": {\"outlinewidth\": 0, \"ticks\": \"\"}}, \"type\": \"scatterpolar\"}], \"scatterpolargl\": [{\"marker\": {\"colorbar\": {\"outlinewidth\": 0, \"ticks\": \"\"}}, \"type\": \"scatterpolargl\"}], \"scatterternary\": [{\"marker\": {\"colorbar\": {\"outlinewidth\": 0, \"ticks\": \"\"}}, \"type\": \"scatterternary\"}], \"surface\": [{\"colorbar\": {\"outlinewidth\": 0, \"ticks\": \"\"}, \"colorscale\": [[0.0, \"#0d0887\"], [0.1111111111111111, \"#46039f\"], [0.2222222222222222, \"#7201a8\"], [0.3333333333333333, \"#9c179e\"], [0.4444444444444444, \"#bd3786\"], [0.5555555555555556, \"#d8576b\"], [0.6666666666666666, \"#ed7953\"], [0.7777777777777778, \"#fb9f3a\"], [0.8888888888888888, \"#fdca26\"], [1.0, \"#f0f921\"]], \"type\": \"surface\"}], \"table\": [{\"cells\": {\"fill\": {\"color\": \"#EBF0F8\"}, \"line\": {\"color\": \"white\"}}, \"header\": {\"fill\": {\"color\": \"#C8D4E3\"}, \"line\": {\"color\": \"white\"}}, \"type\": \"table\"}]}, \"layout\": {\"annotationdefaults\": {\"arrowcolor\": \"#2a3f5f\", \"arrowhead\": 0, \"arrowwidth\": 1}, \"coloraxis\": {\"colorbar\": {\"outlinewidth\": 0, \"ticks\": \"\"}}, \"colorscale\": {\"diverging\": [[0, \"#8e0152\"], [0.1, \"#c51b7d\"], [0.2, \"#de77ae\"], [0.3, \"#f1b6da\"], [0.4, \"#fde0ef\"], [0.5, \"#f7f7f7\"], [0.6, \"#e6f5d0\"], [0.7, \"#b8e186\"], [0.8, \"#7fbc41\"], [0.9, \"#4d9221\"], [1, \"#276419\"]], \"sequential\": [[0.0, \"#0d0887\"], [0.1111111111111111, \"#46039f\"], [0.2222222222222222, \"#7201a8\"], [0.3333333333333333, \"#9c179e\"], [0.4444444444444444, \"#bd3786\"], [0.5555555555555556, \"#d8576b\"], [0.6666666666666666, \"#ed7953\"], [0.7777777777777778, \"#fb9f3a\"], [0.8888888888888888, \"#fdca26\"], [1.0, \"#f0f921\"]], \"sequentialminus\": [[0.0, \"#0d0887\"], [0.1111111111111111, \"#46039f\"], [0.2222222222222222, \"#7201a8\"], [0.3333333333333333, \"#9c179e\"], [0.4444444444444444, \"#bd3786\"], [0.5555555555555556, \"#d8576b\"], [0.6666666666666666, \"#ed7953\"], [0.7777777777777778, \"#fb9f3a\"], [0.8888888888888888, \"#fdca26\"], [1.0, \"#f0f921\"]]}, \"colorway\": [\"#636efa\", \"#EF553B\", \"#00cc96\", \"#ab63fa\", \"#FFA15A\", \"#19d3f3\", \"#FF6692\", \"#B6E880\", \"#FF97FF\", \"#FECB52\"], \"font\": {\"color\": \"#2a3f5f\"}, \"geo\": {\"bgcolor\": \"white\", \"lakecolor\": \"white\", \"landcolor\": \"#E5ECF6\", \"showlakes\": true, \"showland\": true, \"subunitcolor\": \"white\"}, \"hoverlabel\": {\"align\": \"left\"}, \"hovermode\": \"closest\", \"mapbox\": {\"style\": \"light\"}, \"paper_bgcolor\": \"white\", \"plot_bgcolor\": \"#E5ECF6\", \"polar\": {\"angularaxis\": {\"gridcolor\": \"white\", \"linecolor\": \"white\", \"ticks\": \"\"}, \"bgcolor\": \"#E5ECF6\", \"radialaxis\": {\"gridcolor\": \"white\", \"linecolor\": \"white\", \"ticks\": \"\"}}, \"scene\": {\"xaxis\": {\"backgroundcolor\": \"#E5ECF6\", \"gridcolor\": \"white\", \"gridwidth\": 2, \"linecolor\": \"white\", \"showbackground\": true, \"ticks\": \"\", \"zerolinecolor\": \"white\"}, \"yaxis\": {\"backgroundcolor\": \"#E5ECF6\", \"gridcolor\": \"white\", \"gridwidth\": 2, \"linecolor\": \"white\", \"showbackground\": true, \"ticks\": \"\", \"zerolinecolor\": \"white\"}, \"zaxis\": {\"backgroundcolor\": \"#E5ECF6\", \"gridcolor\": \"white\", \"gridwidth\": 2, \"linecolor\": \"white\", \"showbackground\": true, \"ticks\": \"\", \"zerolinecolor\": \"white\"}}, \"shapedefaults\": {\"line\": {\"color\": \"#2a3f5f\"}}, \"ternary\": {\"aaxis\": {\"gridcolor\": \"white\", \"linecolor\": \"white\", \"ticks\": \"\"}, \"baxis\": {\"gridcolor\": \"white\", \"linecolor\": \"white\", \"ticks\": \"\"}, \"bgcolor\": \"#E5ECF6\", \"caxis\": {\"gridcolor\": \"white\", \"linecolor\": \"white\", \"ticks\": \"\"}}, \"title\": {\"x\": 0.05}, \"xaxis\": {\"automargin\": true, \"gridcolor\": \"white\", \"linecolor\": \"white\", \"ticks\": \"\", \"title\": {\"standoff\": 15}, \"zerolinecolor\": \"white\", \"zerolinewidth\": 2}, \"yaxis\": {\"automargin\": true, \"gridcolor\": \"white\", \"linecolor\": \"white\", \"ticks\": \"\", \"title\": {\"standoff\": 15}, \"zerolinecolor\": \"white\", \"zerolinewidth\": 2}}}, \"title\": {\"text\": \"Total emissions and costs under different butane phaseout scenarios and PV adoption\"}, \"xaxis\": {\"anchor\": \"y\", \"domain\": [0.0, 1.0], \"title\": {\"text\": \"Total costs (mMAD)\"}}, \"yaxis\": {\"anchor\": \"x\", \"domain\": [0.0, 1.0], \"title\": {\"text\": \"Emissions (MtCO2)\"}}},\n",
       "                        {\"responsive\": true}\n",
       "                    ).then(function(){\n",
       "                            \n",
       "var gd = document.getElementById('fc5ba6c2-05ca-4628-a035-6aa57981ef03');\n",
       "var x = new MutationObserver(function (mutations, observer) {{\n",
       "        var display = window.getComputedStyle(gd).display;\n",
       "        if (!display || display === 'none') {{\n",
       "            console.log([gd, 'removed!']);\n",
       "            Plotly.purge(gd);\n",
       "            observer.disconnect();\n",
       "        }}\n",
       "}});\n",
       "\n",
       "// Listen for the removal of the full notebook cells\n",
       "var notebookContainer = gd.closest('#notebook-container');\n",
       "if (notebookContainer) {{\n",
       "    x.observe(notebookContainer, {childList: true});\n",
       "}}\n",
       "\n",
       "// Listen for the clearing of the current output cell\n",
       "var outputEl = gd.closest('.output');\n",
       "if (outputEl) {{\n",
       "    x.observe(outputEl, {childList: true});\n",
       "}}\n",
       "\n",
       "                        })\n",
       "                };\n",
       "                });\n",
       "            </script>\n",
       "        </div>"
      ]
     },
     "metadata": {},
     "output_type": "display_data"
    }
   ],
   "source": [
    "df = all_dfs.loc[(all_dfs.Year >= 2021) & (all_dfs.Year < 2050)].copy()\n",
    "\n",
    "df['Total_emissions(MtCO2)'] = df[['butane_emissions(MtCO2)', 'grid_emissions(MtCO2)']].sum(axis=1)\n",
    "df['Total_costs(mMAD)'] = df[['butane_SUBSIDY(mMAD)', 'grid_cost(mMAD)', 'PV_Capex(mMAD)']].sum(axis=1)\n",
    "\n",
    "dff = pd.DataFrame()\n",
    "for key, group in df.groupby(['butane_phaseout', 'pv_adoption']):\n",
    "#     print(key)\n",
    "    _dff = group.copy()\n",
    "    \n",
    "    _dff['Cumulative emissions (MtCO2)'] = _dff['Total_emissions(MtCO2)'].cumsum()\n",
    "    _dff['Cumulative costs (mMAD)'] = _dff['Total_costs(mMAD)'].cumsum()\n",
    "#     print(_dff)\n",
    "    dff = dff.append(_dff, ignore_index=True)\n",
    "\n",
    "# dff['Cumulative emissions (MtCO2)'] = dff['Total_emissions(MtCO2)'].cumsum()\n",
    "# dff['Cumulative costs (mMAD)'] = dff['Total_costs(mMAD)'].cumsum()\n",
    "\n",
    "pv_adop_dic = {'10%': 0.1, '20%': 0.2, '50%': 0.5}\n",
    "\n",
    "dff = dff.groupby(['butane_phaseout', 'pv_adoption']).sum().reset_index()\n",
    "\n",
    "dff['pv_adoption_number'] = [pv_adop_dic[i] for i in dff['pv_adoption']]\n",
    "\n",
    "# dff = dff.melt(value_vars=['Total_emissions(MtCO2)', 'Total_costs(mMAD)'], \n",
    "#          id_vars=['butane_phaseout', 'pv_adoption'])\n",
    "\n",
    "fig = px.scatter(dff, x='Total_costs(mMAD)', y='Total_emissions(MtCO2)',\n",
    "                 title='Total emissions and costs under different butane phaseout scenarios and PV adoption', \n",
    "                 color='butane_phaseout', size='pv_adoption_number',\n",
    "#              animation_frame=\"Year\", animation_group=\"pv_adoption\", hover_name=\"pv_adoption\",\n",
    "#              range_x=[dff['pv_elec(KWh)'].min(),dff['pv_elec(KWh)'].max()], size_max=55,\n",
    "#              range_y=[dff['Total_emissions(MtCO2)'].min(),dff['Total_emissions(MtCO2)'].max()],\n",
    "                 color_discrete_sequence=px.colors.qualitative.Vivid,\n",
    "                 labels={\n",
    "                         \"butane_phaseout\": \"Butane phase-out\",\n",
    "                         \"pv_adoption\": \"PV adoption share by 2040\",\n",
    "                         \"Total_emissions(MtCO2)\": \"Emissions (MtCO2)\",\n",
    "                         \"Total_costs(mMAD)\": 'Total costs (mMAD)',\n",
    "                         \"pv_adoption_number\": 'PV share by 2040'\n",
    "                         }\n",
    "                )\n",
    "\n",
    "fig.show()\n",
    "# fig.write_image('EmissionsVsCosts.pdf', width=900)"
   ]
  },
  {
   "cell_type": "code",
   "execution_count": 68,
   "metadata": {
    "scrolled": false
   },
   "outputs": [
    {
     "data": {
      "application/vnd.plotly.v1+json": {
       "config": {
        "plotlyServerURL": "https://plot.ly"
       },
       "data": [
        {
         "alignmentgroup": "True",
         "hovertemplate": "Source=PV<br>phaseout=None<br>PV adoption by 2040=10%<br>Year=%{x}<br>Energy (GWh)=%{y}<extra></extra>",
         "legendgroup": "PV",
         "marker": {
          "color": "rgb(102,194,165)"
         },
         "name": "PV",
         "offsetgroup": "PV",
         "orientation": "v",
         "showlegend": true,
         "textposition": "auto",
         "type": "bar",
         "x": [
          2020,
          2021,
          2022,
          2023,
          2024,
          2025,
          2026,
          2027,
          2028,
          2029,
          2030,
          2031,
          2032,
          2033,
          2034,
          2035,
          2036,
          2037,
          2038,
          2039,
          2040,
          2041,
          2042,
          2043,
          2044,
          2045,
          2046,
          2047,
          2048,
          2049,
          2050
         ],
         "xaxis": "x7",
         "y": [
          37.477859190629275,
          46.09971881344345,
          42.33407685694348,
          46.76633159831865,
          47.06041257575007,
          43.92524538693258,
          44.40976568701838,
          43.85659268534387,
          42.221584900149516,
          44.4361184243413,
          54.836307117624386,
          51.27414451636429,
          58.471254798273534,
          54.804819827426336,
          58.44015537959907,
          53.01576231441303,
          45.08433660376569,
          52.54289618169418,
          56.22607756206224,
          53.82689383774352,
          59.62002914553065,
          58.589708939958264,
          55.68243379393284,
          55.28028142530944,
          54.48608288598186,
          59.055263936280156,
          54.994758141355646,
          60.38703107070095,
          59.213926265817875,
          55.79963586481772,
          46.106707133165415
         ],
         "yaxis": "y7"
        },
        {
         "alignmentgroup": "True",
         "hovertemplate": "Source=PV<br>phaseout=None<br>PV adoption by 2040=20%<br>Year=%{x}<br>Energy (GWh)=%{y}<extra></extra>",
         "legendgroup": "PV",
         "marker": {
          "color": "rgb(102,194,165)"
         },
         "name": "PV",
         "offsetgroup": "PV",
         "orientation": "v",
         "showlegend": false,
         "textposition": "auto",
         "type": "bar",
         "x": [
          2020,
          2021,
          2022,
          2023,
          2024,
          2025,
          2026,
          2027,
          2028,
          2029,
          2030,
          2031,
          2032,
          2033,
          2034,
          2035,
          2036,
          2037,
          2038,
          2039,
          2040,
          2041,
          2042,
          2043,
          2044,
          2045,
          2046,
          2047,
          2048,
          2049,
          2050
         ],
         "xaxis": "x8",
         "y": [
          37.477859190629275,
          48.404704754115855,
          46.56748454263777,
          53.78128133806619,
          56.4724950908998,
          54.906556733665624,
          57.73269539312393,
          59.20640012521414,
          59.11021886020933,
          64.43237171529506,
          82.25446067643662,
          79.47492400036481,
          93.5540076772376,
          90.42795271525324,
          99.3482641453183,
          92.77758405022271,
          81.15180588677832,
          97.20435793613386,
          106.82954736791793,
          104.96244298359966,
          119.2400582910613,
          117.17941787991651,
          111.36486758786567,
          110.56056285061888,
          108.97216577196372,
          118.11052787256028,
          109.98951628271129,
          120.7740621414019,
          118.42785253163576,
          111.59927172963545,
          92.21341426633083
         ],
         "yaxis": "y8"
        },
        {
         "alignmentgroup": "True",
         "hovertemplate": "Source=PV<br>phaseout=None<br>PV adoption by 2040=50%<br>Year=%{x}<br>Energy (GWh)=%{y}<extra></extra>",
         "legendgroup": "PV",
         "marker": {
          "color": "rgb(102,194,165)"
         },
         "name": "PV",
         "offsetgroup": "PV",
         "orientation": "v",
         "showlegend": false,
         "textposition": "auto",
         "type": "bar",
         "x": [
          2020,
          2021,
          2022,
          2023,
          2024,
          2025,
          2026,
          2027,
          2028,
          2029,
          2030,
          2031,
          2032,
          2033,
          2034,
          2035,
          2036,
          2037,
          2038,
          2039,
          2040,
          2041,
          2042,
          2043,
          2044,
          2045,
          2046,
          2047,
          2048,
          2049,
          2050
         ],
         "xaxis": "x9",
         "y": [
          37.477859190629275,
          55.31966257613208,
          59.267707599720936,
          74.82613055730948,
          84.70874263635002,
          87.85049077386516,
          97.70148451144068,
          105.25582244482527,
          109.77612074038889,
          124.42113158815582,
          164.50892135287324,
          164.07726245236668,
          198.8022663141301,
          197.29735137873416,
          222.07259044247664,
          212.0630492576521,
          189.35421373581585,
          231.18874319945468,
          258.6399567854857,
          258.3690904211681,
          298.1001457276541,
          292.9485446997917,
          278.4121689696641,
          276.4014071265473,
          272.4304144299072,
          295.27631968139934,
          274.9737907067782,
          301.9351553535049,
          296.0696313290888,
          278.9981793240886,
          230.53353566582692
         ],
         "yaxis": "y9"
        },
        {
         "alignmentgroup": "True",
         "hovertemplate": "Source=PV<br>phaseout=by 2030<br>PV adoption by 2040=10%<br>Year=%{x}<br>Energy (GWh)=%{y}<extra></extra>",
         "legendgroup": "PV",
         "marker": {
          "color": "rgb(102,194,165)"
         },
         "name": "PV",
         "offsetgroup": "PV",
         "orientation": "v",
         "showlegend": false,
         "textposition": "auto",
         "type": "bar",
         "x": [
          2020,
          2021,
          2022,
          2023,
          2024,
          2025,
          2026,
          2027,
          2028,
          2029,
          2030,
          2031,
          2032,
          2033,
          2034,
          2035,
          2036,
          2037,
          2038,
          2039,
          2040,
          2041,
          2042,
          2043,
          2044,
          2045,
          2046,
          2047,
          2048,
          2049,
          2050
         ],
         "xaxis": "x4",
         "y": [
          37.477859190629275,
          46.09971881344345,
          42.33407685694348,
          46.76633159831865,
          47.06041257575007,
          43.92524538693258,
          44.40976568701838,
          43.85659268534387,
          42.221584900149516,
          44.4361184243413,
          54.836307117624386,
          51.27414451636429,
          58.471254798273534,
          54.804819827426336,
          58.44015537959907,
          53.01576231441303,
          45.08433660376569,
          52.54289618169418,
          56.22607756206224,
          53.82689383774352,
          59.62002914553065,
          58.589708939958264,
          55.68243379393284,
          55.28028142530944,
          54.48608288598186,
          59.055263936280156,
          54.994758141355646,
          60.38703107070095,
          59.213926265817875,
          55.79963586481772,
          46.106707133165415
         ],
         "yaxis": "y4"
        },
        {
         "alignmentgroup": "True",
         "hovertemplate": "Source=PV<br>phaseout=by 2030<br>PV adoption by 2040=20%<br>Year=%{x}<br>Energy (GWh)=%{y}<extra></extra>",
         "legendgroup": "PV",
         "marker": {
          "color": "rgb(102,194,165)"
         },
         "name": "PV",
         "offsetgroup": "PV",
         "orientation": "v",
         "showlegend": false,
         "textposition": "auto",
         "type": "bar",
         "x": [
          2020,
          2021,
          2022,
          2023,
          2024,
          2025,
          2026,
          2027,
          2028,
          2029,
          2030,
          2031,
          2032,
          2033,
          2034,
          2035,
          2036,
          2037,
          2038,
          2039,
          2040,
          2041,
          2042,
          2043,
          2044,
          2045,
          2046,
          2047,
          2048,
          2049,
          2050
         ],
         "xaxis": "x5",
         "y": [
          37.477859190629275,
          48.404704754115855,
          46.56748454263777,
          53.78128133806619,
          56.4724950908998,
          54.906556733665624,
          57.73269539312393,
          59.20640012521414,
          59.11021886020933,
          64.43237171529506,
          82.25446067643662,
          79.47492400036481,
          93.5540076772376,
          90.42795271525324,
          99.3482641453183,
          92.77758405022271,
          81.15180588677832,
          97.20435793613386,
          106.82954736791793,
          104.96244298359966,
          119.2400582910613,
          117.17941787991651,
          111.36486758786567,
          110.56056285061888,
          108.97216577196372,
          118.11052787256028,
          109.98951628271129,
          120.7740621414019,
          118.42785253163576,
          111.59927172963545,
          92.21341426633083
         ],
         "yaxis": "y5"
        },
        {
         "alignmentgroup": "True",
         "hovertemplate": "Source=PV<br>phaseout=by 2030<br>PV adoption by 2040=50%<br>Year=%{x}<br>Energy (GWh)=%{y}<extra></extra>",
         "legendgroup": "PV",
         "marker": {
          "color": "rgb(102,194,165)"
         },
         "name": "PV",
         "offsetgroup": "PV",
         "orientation": "v",
         "showlegend": false,
         "textposition": "auto",
         "type": "bar",
         "x": [
          2020,
          2021,
          2022,
          2023,
          2024,
          2025,
          2026,
          2027,
          2028,
          2029,
          2030,
          2031,
          2032,
          2033,
          2034,
          2035,
          2036,
          2037,
          2038,
          2039,
          2040,
          2041,
          2042,
          2043,
          2044,
          2045,
          2046,
          2047,
          2048,
          2049,
          2050
         ],
         "xaxis": "x6",
         "y": [
          37.477859190629275,
          55.31966257613208,
          59.267707599720936,
          74.82613055730948,
          84.70874263635002,
          87.85049077386516,
          97.70148451144068,
          105.25582244482527,
          109.77612074038889,
          124.42113158815582,
          164.50892135287324,
          164.07726245236668,
          198.8022663141301,
          197.29735137873416,
          222.07259044247664,
          212.0630492576521,
          189.35421373581585,
          231.18874319945468,
          258.6399567854857,
          258.3690904211681,
          298.1001457276541,
          292.9485446997917,
          278.4121689696641,
          276.4014071265473,
          272.4304144299072,
          295.27631968139934,
          274.9737907067782,
          301.9351553535049,
          296.0696313290888,
          278.9981793240886,
          230.53353566582692
         ],
         "yaxis": "y6"
        },
        {
         "alignmentgroup": "True",
         "hovertemplate": "Source=PV<br>phaseout=by 2040<br>PV adoption by 2040=10%<br>Year=%{x}<br>Energy (GWh)=%{y}<extra></extra>",
         "legendgroup": "PV",
         "marker": {
          "color": "rgb(102,194,165)"
         },
         "name": "PV",
         "offsetgroup": "PV",
         "orientation": "v",
         "showlegend": false,
         "textposition": "auto",
         "type": "bar",
         "x": [
          2020,
          2021,
          2022,
          2023,
          2024,
          2025,
          2026,
          2027,
          2028,
          2029,
          2030,
          2031,
          2032,
          2033,
          2034,
          2035,
          2036,
          2037,
          2038,
          2039,
          2040,
          2041,
          2042,
          2043,
          2044,
          2045,
          2046,
          2047,
          2048,
          2049,
          2050
         ],
         "xaxis": "x",
         "y": [
          37.477859190629275,
          46.09971881344345,
          42.33407685694348,
          46.76633159831865,
          47.06041257575007,
          43.92524538693258,
          44.40976568701838,
          43.85659268534387,
          42.221584900149516,
          44.4361184243413,
          54.836307117624386,
          51.27414451636429,
          58.471254798273534,
          54.804819827426336,
          58.44015537959907,
          53.01576231441303,
          45.08433660376569,
          52.54289618169418,
          56.22607756206224,
          53.82689383774352,
          59.62002914553065,
          58.589708939958264,
          55.68243379393284,
          55.28028142530944,
          54.48608288598186,
          59.055263936280156,
          54.994758141355646,
          60.38703107070095,
          59.213926265817875,
          55.79963586481772,
          46.106707133165415
         ],
         "yaxis": "y"
        },
        {
         "alignmentgroup": "True",
         "hovertemplate": "Source=PV<br>phaseout=by 2040<br>PV adoption by 2040=20%<br>Year=%{x}<br>Energy (GWh)=%{y}<extra></extra>",
         "legendgroup": "PV",
         "marker": {
          "color": "rgb(102,194,165)"
         },
         "name": "PV",
         "offsetgroup": "PV",
         "orientation": "v",
         "showlegend": false,
         "textposition": "auto",
         "type": "bar",
         "x": [
          2020,
          2021,
          2022,
          2023,
          2024,
          2025,
          2026,
          2027,
          2028,
          2029,
          2030,
          2031,
          2032,
          2033,
          2034,
          2035,
          2036,
          2037,
          2038,
          2039,
          2040,
          2041,
          2042,
          2043,
          2044,
          2045,
          2046,
          2047,
          2048,
          2049,
          2050
         ],
         "xaxis": "x2",
         "y": [
          37.477859190629275,
          48.404704754115855,
          46.56748454263777,
          53.78128133806619,
          56.4724950908998,
          54.906556733665624,
          57.73269539312393,
          59.20640012521414,
          59.11021886020933,
          64.43237171529506,
          82.25446067643662,
          79.47492400036481,
          93.5540076772376,
          90.42795271525324,
          99.3482641453183,
          92.77758405022271,
          81.15180588677832,
          97.20435793613386,
          106.82954736791793,
          104.96244298359966,
          119.2400582910613,
          117.17941787991651,
          111.36486758786567,
          110.56056285061888,
          108.97216577196372,
          118.11052787256028,
          109.98951628271129,
          120.7740621414019,
          118.42785253163576,
          111.59927172963545,
          92.21341426633083
         ],
         "yaxis": "y2"
        },
        {
         "alignmentgroup": "True",
         "hovertemplate": "Source=PV<br>phaseout=by 2040<br>PV adoption by 2040=50%<br>Year=%{x}<br>Energy (GWh)=%{y}<extra></extra>",
         "legendgroup": "PV",
         "marker": {
          "color": "rgb(102,194,165)"
         },
         "name": "PV",
         "offsetgroup": "PV",
         "orientation": "v",
         "showlegend": false,
         "textposition": "auto",
         "type": "bar",
         "x": [
          2020,
          2021,
          2022,
          2023,
          2024,
          2025,
          2026,
          2027,
          2028,
          2029,
          2030,
          2031,
          2032,
          2033,
          2034,
          2035,
          2036,
          2037,
          2038,
          2039,
          2040,
          2041,
          2042,
          2043,
          2044,
          2045,
          2046,
          2047,
          2048,
          2049,
          2050
         ],
         "xaxis": "x3",
         "y": [
          37.477859190629275,
          55.31966257613208,
          59.267707599720936,
          74.82613055730948,
          84.70874263635002,
          87.85049077386516,
          97.70148451144068,
          105.25582244482527,
          109.77612074038889,
          124.42113158815582,
          164.50892135287324,
          164.07726245236668,
          198.8022663141301,
          197.29735137873416,
          222.07259044247664,
          212.0630492576521,
          189.35421373581585,
          231.18874319945468,
          258.6399567854857,
          258.3690904211681,
          298.1001457276541,
          292.9485446997917,
          278.4121689696641,
          276.4014071265473,
          272.4304144299072,
          295.27631968139934,
          274.9737907067782,
          301.9351553535049,
          296.0696313290888,
          278.9981793240886,
          230.53353566582692
         ],
         "yaxis": "y3"
        },
        {
         "alignmentgroup": "True",
         "hovertemplate": "Source=Butane<br>phaseout=None<br>PV adoption by 2040=10%<br>Year=%{x}<br>Energy (GWh)=%{y}<extra></extra>",
         "legendgroup": "Butane",
         "marker": {
          "color": "rgb(252,141,98)"
         },
         "name": "Butane",
         "offsetgroup": "Butane",
         "orientation": "v",
         "showlegend": true,
         "textposition": "auto",
         "type": "bar",
         "x": [
          2020,
          2021,
          2022,
          2023,
          2024,
          2025,
          2026,
          2027,
          2028,
          2029,
          2030,
          2031,
          2032,
          2033,
          2034,
          2035,
          2036,
          2037,
          2038,
          2039,
          2040,
          2041,
          2042,
          2043,
          2044,
          2045,
          2046,
          2047,
          2048,
          2049,
          2050
         ],
         "xaxis": "x7",
         "y": [
          74.95571838125855,
          89.12612303932393,
          79.02361013296115,
          84.1793968769735,
          81.57138179796638,
          73.20874231155422,
          71.05562509922957,
          67.24677545086078,
          61.92499118688573,
          62.210565794077894,
          73.11507615683225,
          64.94724972072845,
          70.16550575792834,
          62.11212913774982,
          62.33616573823904,
          53.01576231441303,
          42.07871416351464,
          45.53717669080165,
          44.980862049649694,
          39.47305548101192,
          39.746686097020394,
          35.153825363975116,
          29.697298023431042,
          25.797464665144474,
          21.79443315439269,
          19.68508797876009,
          14.665268837694805,
          12.077406214140217,
          7.895190168775699,
          3.719975724321182,
          0
         ],
         "yaxis": "y7"
        },
        {
         "alignmentgroup": "True",
         "hovertemplate": "Source=Butane<br>phaseout=None<br>PV adoption by 2040=20%<br>Year=%{x}<br>Energy (GWh)=%{y}<extra></extra>",
         "legendgroup": "Butane",
         "marker": {
          "color": "rgb(252,141,98)"
         },
         "name": "Butane",
         "offsetgroup": "Butane",
         "orientation": "v",
         "showlegend": false,
         "textposition": "auto",
         "type": "bar",
         "x": [
          2020,
          2021,
          2022,
          2023,
          2024,
          2025,
          2026,
          2027,
          2028,
          2029,
          2030,
          2031,
          2032,
          2033,
          2034,
          2035,
          2036,
          2037,
          2038,
          2039,
          2040,
          2041,
          2042,
          2043,
          2044,
          2045,
          2046,
          2047,
          2048,
          2049,
          2050
         ],
         "xaxis": "x8",
         "y": [
          74.95571838125855,
          89.12612303932393,
          79.02361013296115,
          84.1793968769735,
          81.57138179796638,
          73.20874231155422,
          71.05562509922957,
          67.24677545086078,
          61.92499118688573,
          62.210565794077894,
          73.11507615683225,
          64.94724972072845,
          70.16550575792834,
          62.11212913774982,
          62.33616573823904,
          53.01576231441303,
          42.07871416351464,
          45.53717669080165,
          44.980862049649694,
          39.47305548101192,
          39.746686097020394,
          35.153825363975116,
          29.697298023431042,
          25.797464665144474,
          21.79443315439269,
          19.68508797876009,
          14.665268837694805,
          12.077406214140217,
          7.895190168775699,
          3.719975724321182,
          0
         ],
         "yaxis": "y8"
        },
        {
         "alignmentgroup": "True",
         "hovertemplate": "Source=Butane<br>phaseout=None<br>PV adoption by 2040=50%<br>Year=%{x}<br>Energy (GWh)=%{y}<extra></extra>",
         "legendgroup": "Butane",
         "marker": {
          "color": "rgb(252,141,98)"
         },
         "name": "Butane",
         "offsetgroup": "Butane",
         "orientation": "v",
         "showlegend": false,
         "textposition": "auto",
         "type": "bar",
         "x": [
          2020,
          2021,
          2022,
          2023,
          2024,
          2025,
          2026,
          2027,
          2028,
          2029,
          2030,
          2031,
          2032,
          2033,
          2034,
          2035,
          2036,
          2037,
          2038,
          2039,
          2040,
          2041,
          2042,
          2043,
          2044,
          2045,
          2046,
          2047,
          2048,
          2049,
          2050
         ],
         "xaxis": "x9",
         "y": [
          74.95571838125855,
          89.12612303932393,
          79.02361013296115,
          84.1793968769735,
          81.57138179796638,
          73.20874231155422,
          71.05562509922957,
          67.24677545086078,
          61.92499118688573,
          62.210565794077894,
          73.11507615683225,
          64.94724972072845,
          70.16550575792834,
          62.11212913774982,
          62.33616573823904,
          53.01576231441303,
          42.07871416351464,
          45.53717669080165,
          44.980862049649694,
          39.47305548101192,
          39.746686097020394,
          35.153825363975116,
          29.697298023431042,
          25.797464665144474,
          21.79443315439269,
          19.68508797876009,
          14.665268837694805,
          12.077406214140217,
          7.895190168775699,
          3.719975724321182,
          0
         ],
         "yaxis": "y9"
        },
        {
         "alignmentgroup": "True",
         "hovertemplate": "Source=Butane<br>phaseout=by 2030<br>PV adoption by 2040=10%<br>Year=%{x}<br>Energy (GWh)=%{y}<extra></extra>",
         "legendgroup": "Butane",
         "marker": {
          "color": "rgb(252,141,98)"
         },
         "name": "Butane",
         "offsetgroup": "Butane",
         "orientation": "v",
         "showlegend": false,
         "textposition": "auto",
         "type": "bar",
         "x": [
          2020,
          2021,
          2022,
          2023,
          2024,
          2025,
          2026,
          2027,
          2028,
          2029,
          2030,
          2031,
          2032,
          2033,
          2034,
          2035,
          2036,
          2037,
          2038,
          2039,
          2040,
          2041,
          2042,
          2043,
          2044,
          2045,
          2046,
          2047,
          2048,
          2049,
          2050
         ],
         "xaxis": "x4",
         "y": [
          74.95571838125855,
          82.97949386419783,
          67.73452297110954,
          65.47286423764594,
          56.4724950908998,
          43.92524538693258,
          35.527812549614794,
          26.313955611206328,
          16.888633960059764,
          8.88722368486824,
          0,
          0,
          0,
          0,
          0,
          0,
          0,
          0,
          0,
          0,
          0,
          0,
          0,
          0,
          0,
          0,
          0,
          0,
          0,
          0,
          0
         ],
         "yaxis": "y4"
        },
        {
         "alignmentgroup": "True",
         "hovertemplate": "Source=Butane<br>phaseout=by 2030<br>PV adoption by 2040=20%<br>Year=%{x}<br>Energy (GWh)=%{y}<extra></extra>",
         "legendgroup": "Butane",
         "marker": {
          "color": "rgb(252,141,98)"
         },
         "name": "Butane",
         "offsetgroup": "Butane",
         "orientation": "v",
         "showlegend": false,
         "textposition": "auto",
         "type": "bar",
         "x": [
          2020,
          2021,
          2022,
          2023,
          2024,
          2025,
          2026,
          2027,
          2028,
          2029,
          2030,
          2031,
          2032,
          2033,
          2034,
          2035,
          2036,
          2037,
          2038,
          2039,
          2040,
          2041,
          2042,
          2043,
          2044,
          2045,
          2046,
          2047,
          2048,
          2049,
          2050
         ],
         "xaxis": "x5",
         "y": [
          74.95571838125855,
          82.97949386419783,
          67.73452297110954,
          65.47286423764594,
          56.4724950908998,
          43.92524538693258,
          35.527812549614794,
          26.313955611206328,
          16.888633960059764,
          8.88722368486824,
          0,
          0,
          0,
          0,
          0,
          0,
          0,
          0,
          0,
          0,
          0,
          0,
          0,
          0,
          0,
          0,
          0,
          0,
          0,
          0,
          0
         ],
         "yaxis": "y5"
        },
        {
         "alignmentgroup": "True",
         "hovertemplate": "Source=Butane<br>phaseout=by 2030<br>PV adoption by 2040=50%<br>Year=%{x}<br>Energy (GWh)=%{y}<extra></extra>",
         "legendgroup": "Butane",
         "marker": {
          "color": "rgb(252,141,98)"
         },
         "name": "Butane",
         "offsetgroup": "Butane",
         "orientation": "v",
         "showlegend": false,
         "textposition": "auto",
         "type": "bar",
         "x": [
          2020,
          2021,
          2022,
          2023,
          2024,
          2025,
          2026,
          2027,
          2028,
          2029,
          2030,
          2031,
          2032,
          2033,
          2034,
          2035,
          2036,
          2037,
          2038,
          2039,
          2040,
          2041,
          2042,
          2043,
          2044,
          2045,
          2046,
          2047,
          2048,
          2049,
          2050
         ],
         "xaxis": "x6",
         "y": [
          74.95571838125855,
          82.97949386419783,
          67.73452297110954,
          65.47286423764594,
          56.4724950908998,
          43.92524538693258,
          35.527812549614794,
          26.313955611206328,
          16.888633960059764,
          8.88722368486824,
          0,
          0,
          0,
          0,
          0,
          0,
          0,
          0,
          0,
          0,
          0,
          0,
          0,
          0,
          0,
          0,
          0,
          0,
          0,
          0,
          0
         ],
         "yaxis": "y6"
        },
        {
         "alignmentgroup": "True",
         "hovertemplate": "Source=Butane<br>phaseout=by 2040<br>PV adoption by 2040=10%<br>Year=%{x}<br>Energy (GWh)=%{y}<extra></extra>",
         "legendgroup": "Butane",
         "marker": {
          "color": "rgb(252,141,98)"
         },
         "name": "Butane",
         "offsetgroup": "Butane",
         "orientation": "v",
         "showlegend": false,
         "textposition": "auto",
         "type": "bar",
         "x": [
          2020,
          2021,
          2022,
          2023,
          2024,
          2025,
          2026,
          2027,
          2028,
          2029,
          2030,
          2031,
          2032,
          2033,
          2034,
          2035,
          2036,
          2037,
          2038,
          2039,
          2040,
          2041,
          2042,
          2043,
          2044,
          2045,
          2046,
          2047,
          2048,
          2049,
          2050
         ],
         "xaxis": "x",
         "y": [
          74.95571838125855,
          87.58946574554258,
          76.20133834249836,
          79.5027637171414,
          75.29666012120023,
          65.88786808039879,
          62.17367196182572,
          57.01357049094692,
          50.66590188017933,
          48.87973026677533,
          54.836307117624386,
          46.14673006472803,
          46.77700383861879,
          38.36337387919846,
          35.064093227759344,
          26.507881157206516,
          18.033734641506275,
          15.762868854508225,
          11.245215512412418,
          5.382689383774351,
          0,
          0,
          0,
          0,
          0,
          0,
          0,
          0,
          0,
          0,
          0
         ],
         "yaxis": "y"
        },
        {
         "alignmentgroup": "True",
         "hovertemplate": "Source=Butane<br>phaseout=by 2040<br>PV adoption by 2040=20%<br>Year=%{x}<br>Energy (GWh)=%{y}<extra></extra>",
         "legendgroup": "Butane",
         "marker": {
          "color": "rgb(252,141,98)"
         },
         "name": "Butane",
         "offsetgroup": "Butane",
         "orientation": "v",
         "showlegend": false,
         "textposition": "auto",
         "type": "bar",
         "x": [
          2020,
          2021,
          2022,
          2023,
          2024,
          2025,
          2026,
          2027,
          2028,
          2029,
          2030,
          2031,
          2032,
          2033,
          2034,
          2035,
          2036,
          2037,
          2038,
          2039,
          2040,
          2041,
          2042,
          2043,
          2044,
          2045,
          2046,
          2047,
          2048,
          2049,
          2050
         ],
         "xaxis": "x2",
         "y": [
          74.95571838125855,
          87.58946574554258,
          76.20133834249836,
          79.5027637171414,
          75.29666012120023,
          65.88786808039879,
          62.17367196182572,
          57.01357049094692,
          50.66590188017933,
          48.87973026677533,
          54.836307117624386,
          46.14673006472803,
          46.77700383861879,
          38.36337387919846,
          35.064093227759344,
          26.507881157206516,
          18.033734641506275,
          15.762868854508225,
          11.245215512412418,
          5.382689383774351,
          0,
          0,
          0,
          0,
          0,
          0,
          0,
          0,
          0,
          0,
          0
         ],
         "yaxis": "y2"
        },
        {
         "alignmentgroup": "True",
         "hovertemplate": "Source=Butane<br>phaseout=by 2040<br>PV adoption by 2040=50%<br>Year=%{x}<br>Energy (GWh)=%{y}<extra></extra>",
         "legendgroup": "Butane",
         "marker": {
          "color": "rgb(252,141,98)"
         },
         "name": "Butane",
         "offsetgroup": "Butane",
         "orientation": "v",
         "showlegend": false,
         "textposition": "auto",
         "type": "bar",
         "x": [
          2020,
          2021,
          2022,
          2023,
          2024,
          2025,
          2026,
          2027,
          2028,
          2029,
          2030,
          2031,
          2032,
          2033,
          2034,
          2035,
          2036,
          2037,
          2038,
          2039,
          2040,
          2041,
          2042,
          2043,
          2044,
          2045,
          2046,
          2047,
          2048,
          2049,
          2050
         ],
         "xaxis": "x3",
         "y": [
          74.95571838125855,
          87.58946574554258,
          76.20133834249836,
          79.5027637171414,
          75.29666012120023,
          65.88786808039879,
          62.17367196182572,
          57.01357049094692,
          50.66590188017933,
          48.87973026677533,
          54.836307117624386,
          46.14673006472803,
          46.77700383861879,
          38.36337387919846,
          35.064093227759344,
          26.507881157206516,
          18.033734641506275,
          15.762868854508225,
          11.245215512412418,
          5.382689383774351,
          0,
          0,
          0,
          0,
          0,
          0,
          0,
          0,
          0,
          0,
          0
         ],
         "yaxis": "y3"
        },
        {
         "alignmentgroup": "True",
         "hovertemplate": "Source=Grid<br>phaseout=None<br>PV adoption by 2040=10%<br>Year=%{x}<br>Energy (GWh)=%{y}<extra></extra>",
         "legendgroup": "Grid",
         "marker": {
          "color": "rgb(141,160,203)"
         },
         "name": "Grid",
         "offsetgroup": "Grid",
         "orientation": "v",
         "showlegend": true,
         "textposition": "auto",
         "type": "bar",
         "x": [
          2020,
          2021,
          2022,
          2023,
          2024,
          2025,
          2026,
          2027,
          2028,
          2029,
          2030,
          2031,
          2032,
          2033,
          2034,
          2035,
          2036,
          2037,
          2038,
          2039,
          2040,
          2041,
          2042,
          2043,
          2044,
          2045,
          2046,
          2047,
          2048,
          2049,
          2050
         ],
         "xaxis": "x7",
         "y": [
          262.34501433440647,
          325.77134628166715,
          301.98308157952886,
          336.7175875078939,
          341.9723313837835,
          322.1184661708379,
          328.6322660839357,
          327.46255871723326,
          318.06927291445913,
          337.7145000249932,
          420.4116879017881,
          396.5200509265533,
          456.07578742653476,
          431.131249309087,
          463.62523267815254,
          424.1260985153042,
          363.6803152703775,
          427.348888944446,
          461.0538360089089,
          444.96898905867795,
          496.83357621275684,
          492.1535550956489,
          471.444606121965,
          471.7250681626412,
          468.58031281944164,
          511.8122874477593,
          480.28755443450666,
          531.4058734221682,
          525.0301462235839,
          498.4767470590382,
          414.96036419848866
         ],
         "yaxis": "y7"
        },
        {
         "alignmentgroup": "True",
         "hovertemplate": "Source=Grid<br>phaseout=None<br>PV adoption by 2040=20%<br>Year=%{x}<br>Energy (GWh)=%{y}<extra></extra>",
         "legendgroup": "Grid",
         "marker": {
          "color": "rgb(141,160,203)"
         },
         "name": "Grid",
         "offsetgroup": "Grid",
         "orientation": "v",
         "showlegend": false,
         "textposition": "auto",
         "type": "bar",
         "x": [
          2020,
          2021,
          2022,
          2023,
          2024,
          2025,
          2026,
          2027,
          2028,
          2029,
          2030,
          2031,
          2032,
          2033,
          2034,
          2035,
          2036,
          2037,
          2038,
          2039,
          2040,
          2041,
          2042,
          2043,
          2044,
          2045,
          2046,
          2047,
          2048,
          2049,
          2050
         ],
         "xaxis": "x8",
         "y": [
          262.34501433440647,
          323.4663603409948,
          297.74967389383613,
          329.70263776814585,
          332.5602488686335,
          311.1371548241055,
          315.309336377831,
          312.1127512773634,
          301.1806389544001,
          317.71824673404086,
          392.9935343429741,
          368.31927144255167,
          420.9930345475702,
          395.50811642126035,
          422.7171239124326,
          384.3642767794953,
          327.61284598736404,
          382.68742719000534,
          410.45036620305524,
          393.8334399128234,
          437.21354706722525,
          433.56384615569067,
          415.7621723280341,
          416.44478673733147,
          414.094229933461,
          452.7570235114798,
          425.29279629315,
          471.01884235146724,
          465.81621995776624,
          442.67711119422063,
          368.8536570653233
         ],
         "yaxis": "y8"
        },
        {
         "alignmentgroup": "True",
         "hovertemplate": "Source=Grid<br>phaseout=None<br>PV adoption by 2040=50%<br>Year=%{x}<br>Energy (GWh)=%{y}<extra></extra>",
         "legendgroup": "Grid",
         "marker": {
          "color": "rgb(141,160,203)"
         },
         "name": "Grid",
         "offsetgroup": "Grid",
         "orientation": "v",
         "showlegend": false,
         "textposition": "auto",
         "type": "bar",
         "x": [
          2020,
          2021,
          2022,
          2023,
          2024,
          2025,
          2026,
          2027,
          2028,
          2029,
          2030,
          2031,
          2032,
          2033,
          2034,
          2035,
          2036,
          2037,
          2038,
          2039,
          2040,
          2041,
          2042,
          2043,
          2044,
          2045,
          2046,
          2047,
          2048,
          2049,
          2050
         ],
         "xaxis": "x9",
         "y": [
          262.34501433440647,
          316.5514025189776,
          285.04945083675284,
          308.65778854890226,
          304.3240013231813,
          278.1932207839063,
          275.34054725951404,
          266.0633289577519,
          250.51473707422036,
          257.7294868611802,
          310.7390736665385,
          283.7169329905508,
          315.74477591067733,
          288.63871775777915,
          299.9927976152743,
          265.0788115720651,
          219.41043813832576,
          248.7030419266861,
          258.63995678548577,
          240.42679247525365,
          258.3534596306335,
          257.79471933581635,
          248.71487094623345,
          250.60394246140265,
          250.6359812755153,
          275.5912317026399,
          260.3085218690834,
          289.85774913936467,
          288.1744411603123,
          275.2782035997681,
          230.53353566582692
         ],
         "yaxis": "y9"
        },
        {
         "alignmentgroup": "True",
         "hovertemplate": "Source=Grid<br>phaseout=by 2030<br>PV adoption by 2040=10%<br>Year=%{x}<br>Energy (GWh)=%{y}<extra></extra>",
         "legendgroup": "Grid",
         "marker": {
          "color": "rgb(141,160,203)"
         },
         "name": "Grid",
         "offsetgroup": "Grid",
         "orientation": "v",
         "showlegend": false,
         "textposition": "auto",
         "type": "bar",
         "x": [
          2020,
          2021,
          2022,
          2023,
          2024,
          2025,
          2026,
          2027,
          2028,
          2029,
          2030,
          2031,
          2032,
          2033,
          2034,
          2035,
          2036,
          2037,
          2038,
          2039,
          2040,
          2041,
          2042,
          2043,
          2044,
          2045,
          2046,
          2047,
          2048,
          2049,
          2050
         ],
         "xaxis": "x4",
         "y": [
          262.34501433440647,
          331.91797545679134,
          313.2721687413813,
          355.4241201472199,
          367.0712180908499,
          351.40196309546064,
          364.16007863355134,
          368.39537855688775,
          363.10563014128275,
          391.03784213420266,
          493.5267640586196,
          461.46730064728007,
          526.2412931844633,
          493.2433784468367,
          525.9613984163904,
          477.1418608297159,
          405.7590294338917,
          472.88606563524655,
          506.0346980585584,
          484.4420445396912,
          536.5802623097774,
          527.3073804596243,
          501.14190414539604,
          497.52253282778565,
          490.3747459738336,
          531.4973754265202,
          494.9528232721984,
          543.4832796363119,
          532.9253363923586,
          502.19672278336145,
          414.96036419848866
         ],
         "yaxis": "y4"
        },
        {
         "alignmentgroup": "True",
         "hovertemplate": "Source=Grid<br>phaseout=by 2030<br>PV adoption by 2040=20%<br>Year=%{x}<br>Energy (GWh)=%{y}<extra></extra>",
         "legendgroup": "Grid",
         "marker": {
          "color": "rgb(141,160,203)"
         },
         "name": "Grid",
         "offsetgroup": "Grid",
         "orientation": "v",
         "showlegend": false,
         "textposition": "auto",
         "type": "bar",
         "x": [
          2020,
          2021,
          2022,
          2023,
          2024,
          2025,
          2026,
          2027,
          2028,
          2029,
          2030,
          2031,
          2032,
          2033,
          2034,
          2035,
          2036,
          2037,
          2038,
          2039,
          2040,
          2041,
          2042,
          2043,
          2044,
          2045,
          2046,
          2047,
          2048,
          2049,
          2050
         ],
         "xaxis": "x5",
         "y": [
          262.34501433440647,
          329.61298951612105,
          309.03876105568736,
          348.40917040747286,
          357.6591355756995,
          340.42065174872783,
          350.83714892744524,
          353.045571117018,
          346.21699618122454,
          371.0415888432494,
          466.1086104998065,
          433.2665211632812,
          491.1585403054992,
          457.6202455590093,
          485.0532896506717,
          437.3800390939081,
          369.69156015087856,
          428.22460388080685,
          455.4312282527033,
          433.3064953938351,
          476.9602331642452,
          468.71767151966606,
          445.4594703514627,
          442.24225140247546,
          435.88866308785487,
          472.44211149024125,
          439.95806513084517,
          483.0962485656076,
          473.711410126543,
          446.3970869185417,
          368.8536570653233
         ],
         "yaxis": "y5"
        },
        {
         "alignmentgroup": "True",
         "hovertemplate": "Source=Grid<br>phaseout=by 2030<br>PV adoption by 2040=50%<br>Year=%{x}<br>Energy (GWh)=%{y}<extra></extra>",
         "legendgroup": "Grid",
         "marker": {
          "color": "rgb(141,160,203)"
         },
         "name": "Grid",
         "offsetgroup": "Grid",
         "orientation": "v",
         "showlegend": false,
         "textposition": "auto",
         "type": "bar",
         "x": [
          2020,
          2021,
          2022,
          2023,
          2024,
          2025,
          2026,
          2027,
          2028,
          2029,
          2030,
          2031,
          2032,
          2033,
          2034,
          2035,
          2036,
          2037,
          2038,
          2039,
          2040,
          2041,
          2042,
          2043,
          2044,
          2045,
          2046,
          2047,
          2048,
          2049,
          2050
         ],
         "xaxis": "x6",
         "y": [
          262.34501433440647,
          322.6980316941043,
          296.33853799860344,
          327.36432118823035,
          329.42288803024985,
          307.47671770852736,
          310.86835980912906,
          306.99614879740665,
          295.55109430104636,
          311.0528289703894,
          383.85414982337085,
          348.66418271127833,
          385.9102816686045,
          350.7508468955283,
          362.3289633535123,
          318.09457388647786,
          261.48915230184065,
          294.24021861748713,
          303.62081883513537,
          279.89984795626543,
          298.1001457276541,
          292.9485446997917,
          278.4121689696641,
          276.4014071265473,
          272.4304144299072,
          295.27631968139934,
          274.9737907067782,
          301.9351553535049,
          296.0696313290888,
          278.9981793240886,
          230.53353566582692
         ],
         "yaxis": "y6"
        },
        {
         "alignmentgroup": "True",
         "hovertemplate": "Source=Grid<br>phaseout=by 2040<br>PV adoption by 2040=10%<br>Year=%{x}<br>Energy (GWh)=%{y}<extra></extra>",
         "legendgroup": "Grid",
         "marker": {
          "color": "rgb(141,160,203)"
         },
         "name": "Grid",
         "offsetgroup": "Grid",
         "orientation": "v",
         "showlegend": false,
         "textposition": "auto",
         "type": "bar",
         "x": [
          2020,
          2021,
          2022,
          2023,
          2024,
          2025,
          2026,
          2027,
          2028,
          2029,
          2030,
          2031,
          2032,
          2033,
          2034,
          2035,
          2036,
          2037,
          2038,
          2039,
          2040,
          2041,
          2042,
          2043,
          2044,
          2045,
          2046,
          2047,
          2048,
          2049,
          2050
         ],
         "xaxis": "x",
         "y": [
          262.34501433440647,
          327.30800357545064,
          304.80535336999344,
          341.39422066772386,
          348.24705306055006,
          329.4393404019936,
          337.51421922134006,
          337.69576367714865,
          329.3283622211654,
          351.0453355522969,
          438.6904569409951,
          415.3205705825527,
          479.46428934584384,
          454.8800045676367,
          490.8973051886314,
          450.6339796725113,
          387.72529479238483,
          457.1231967807394,
          494.789482546147,
          479.05935515591756,
          536.5802623097774,
          527.3073804596243,
          501.14190414539604,
          497.52253282778565,
          490.3747459738336,
          531.4973754265202,
          494.9528232721984,
          543.4832796363119,
          532.9253363923586,
          502.19672278336145,
          414.96036419848866
         ],
         "yaxis": "y"
        },
        {
         "alignmentgroup": "True",
         "hovertemplate": "Source=Grid<br>phaseout=by 2040<br>PV adoption by 2040=20%<br>Year=%{x}<br>Energy (GWh)=%{y}<extra></extra>",
         "legendgroup": "Grid",
         "marker": {
          "color": "rgb(141,160,203)"
         },
         "name": "Grid",
         "offsetgroup": "Grid",
         "orientation": "v",
         "showlegend": false,
         "textposition": "auto",
         "type": "bar",
         "x": [
          2020,
          2021,
          2022,
          2023,
          2024,
          2025,
          2026,
          2027,
          2028,
          2029,
          2030,
          2031,
          2032,
          2033,
          2034,
          2035,
          2036,
          2037,
          2038,
          2039,
          2040,
          2041,
          2042,
          2043,
          2044,
          2045,
          2046,
          2047,
          2048,
          2049,
          2050
         ],
         "xaxis": "x2",
         "y": [
          262.34501433440647,
          325.00301763477654,
          300.5719456842987,
          334.37927092797725,
          338.83497054540004,
          318.45802905525954,
          324.19128951523487,
          322.3459562372775,
          312.43972826110485,
          331.04908226134336,
          411.2723033821838,
          387.1197910985524,
          444.3815364668792,
          419.2568716798109,
          449.9891964229109,
          410.872157936702,
          351.65782550937223,
          412.4617350262996,
          444.18601274028873,
          427.9238060100607,
          476.9602331642452,
          468.71767151966606,
          445.4594703514627,
          442.24225140247546,
          435.88866308785487,
          472.44211149024125,
          439.95806513084517,
          483.0962485656076,
          473.711410126543,
          446.3970869185417,
          368.8536570653233
         ],
         "yaxis": "y2"
        },
        {
         "alignmentgroup": "True",
         "hovertemplate": "Source=Grid<br>phaseout=by 2040<br>PV adoption by 2040=50%<br>Year=%{x}<br>Energy (GWh)=%{y}<extra></extra>",
         "legendgroup": "Grid",
         "marker": {
          "color": "rgb(141,160,203)"
         },
         "name": "Grid",
         "offsetgroup": "Grid",
         "orientation": "v",
         "showlegend": false,
         "textposition": "auto",
         "type": "bar",
         "x": [
          2020,
          2021,
          2022,
          2023,
          2024,
          2025,
          2026,
          2027,
          2028,
          2029,
          2030,
          2031,
          2032,
          2033,
          2034,
          2035,
          2036,
          2037,
          2038,
          2039,
          2040,
          2041,
          2042,
          2043,
          2044,
          2045,
          2046,
          2047,
          2048,
          2049,
          2050
         ],
         "xaxis": "x3",
         "y": [
          262.34501433440647,
          318.08805981275935,
          287.8717226272156,
          313.33442170873417,
          310.5987229999497,
          285.51409501506174,
          284.22250039691824,
          276.2965339176661,
          261.77382638092735,
          271.0603223884815,
          329.01784270574643,
          302.5174526465514,
          339.1332778299878,
          312.387473016329,
          327.2648701257541,
          291.58669272927204,
          243.45541766033435,
          278.4773497629794,
          292.37560332272324,
          274.5171585724905,
          298.1001457276541,
          292.9485446997917,
          278.4121689696641,
          276.4014071265473,
          272.4304144299072,
          295.27631968139934,
          274.9737907067782,
          301.9351553535049,
          296.0696313290888,
          278.9981793240886,
          230.53353566582692
         ],
         "yaxis": "y3"
        }
       ],
       "layout": {
        "annotations": [
         {
          "font": {},
          "showarrow": false,
          "text": "PV adoption by 2040=10%",
          "x": 0.15,
          "xanchor": "center",
          "xref": "paper",
          "y": 0.9999999999999999,
          "yanchor": "bottom",
          "yref": "paper"
         },
         {
          "font": {},
          "showarrow": false,
          "text": "PV adoption by 2040=20%",
          "x": 0.48999999999999994,
          "xanchor": "center",
          "xref": "paper",
          "y": 0.9999999999999999,
          "yanchor": "bottom",
          "yref": "paper"
         },
         {
          "font": {},
          "showarrow": false,
          "text": "PV adoption by 2040=50%",
          "x": 0.83,
          "xanchor": "center",
          "xref": "paper",
          "y": 0.9999999999999999,
          "yanchor": "bottom",
          "yref": "paper"
         },
         {
          "font": {},
          "showarrow": false,
          "text": "phaseout=by 2040",
          "textangle": 90,
          "x": 0.98,
          "xanchor": "left",
          "xref": "paper",
          "y": 0.15333333333333332,
          "yanchor": "middle",
          "yref": "paper"
         },
         {
          "font": {},
          "showarrow": false,
          "text": "phaseout=by 2030",
          "textangle": 90,
          "x": 0.98,
          "xanchor": "left",
          "xref": "paper",
          "y": 0.5,
          "yanchor": "middle",
          "yref": "paper"
         },
         {
          "font": {},
          "showarrow": false,
          "text": "phaseout=None",
          "textangle": 90,
          "x": 0.98,
          "xanchor": "left",
          "xref": "paper",
          "y": 0.8466666666666666,
          "yanchor": "middle",
          "yref": "paper"
         }
        ],
        "barmode": "relative",
        "legend": {
         "title": {
          "text": "Source"
         },
         "tracegroupgap": 0
        },
        "template": {
         "data": {
          "bar": [
           {
            "error_x": {
             "color": "#2a3f5f"
            },
            "error_y": {
             "color": "#2a3f5f"
            },
            "marker": {
             "line": {
              "color": "#E5ECF6",
              "width": 0.5
             }
            },
            "type": "bar"
           }
          ],
          "barpolar": [
           {
            "marker": {
             "line": {
              "color": "#E5ECF6",
              "width": 0.5
             }
            },
            "type": "barpolar"
           }
          ],
          "carpet": [
           {
            "aaxis": {
             "endlinecolor": "#2a3f5f",
             "gridcolor": "white",
             "linecolor": "white",
             "minorgridcolor": "white",
             "startlinecolor": "#2a3f5f"
            },
            "baxis": {
             "endlinecolor": "#2a3f5f",
             "gridcolor": "white",
             "linecolor": "white",
             "minorgridcolor": "white",
             "startlinecolor": "#2a3f5f"
            },
            "type": "carpet"
           }
          ],
          "choropleth": [
           {
            "colorbar": {
             "outlinewidth": 0,
             "ticks": ""
            },
            "type": "choropleth"
           }
          ],
          "contour": [
           {
            "colorbar": {
             "outlinewidth": 0,
             "ticks": ""
            },
            "colorscale": [
             [
              0,
              "#0d0887"
             ],
             [
              0.1111111111111111,
              "#46039f"
             ],
             [
              0.2222222222222222,
              "#7201a8"
             ],
             [
              0.3333333333333333,
              "#9c179e"
             ],
             [
              0.4444444444444444,
              "#bd3786"
             ],
             [
              0.5555555555555556,
              "#d8576b"
             ],
             [
              0.6666666666666666,
              "#ed7953"
             ],
             [
              0.7777777777777778,
              "#fb9f3a"
             ],
             [
              0.8888888888888888,
              "#fdca26"
             ],
             [
              1,
              "#f0f921"
             ]
            ],
            "type": "contour"
           }
          ],
          "contourcarpet": [
           {
            "colorbar": {
             "outlinewidth": 0,
             "ticks": ""
            },
            "type": "contourcarpet"
           }
          ],
          "heatmap": [
           {
            "colorbar": {
             "outlinewidth": 0,
             "ticks": ""
            },
            "colorscale": [
             [
              0,
              "#0d0887"
             ],
             [
              0.1111111111111111,
              "#46039f"
             ],
             [
              0.2222222222222222,
              "#7201a8"
             ],
             [
              0.3333333333333333,
              "#9c179e"
             ],
             [
              0.4444444444444444,
              "#bd3786"
             ],
             [
              0.5555555555555556,
              "#d8576b"
             ],
             [
              0.6666666666666666,
              "#ed7953"
             ],
             [
              0.7777777777777778,
              "#fb9f3a"
             ],
             [
              0.8888888888888888,
              "#fdca26"
             ],
             [
              1,
              "#f0f921"
             ]
            ],
            "type": "heatmap"
           }
          ],
          "heatmapgl": [
           {
            "colorbar": {
             "outlinewidth": 0,
             "ticks": ""
            },
            "colorscale": [
             [
              0,
              "#0d0887"
             ],
             [
              0.1111111111111111,
              "#46039f"
             ],
             [
              0.2222222222222222,
              "#7201a8"
             ],
             [
              0.3333333333333333,
              "#9c179e"
             ],
             [
              0.4444444444444444,
              "#bd3786"
             ],
             [
              0.5555555555555556,
              "#d8576b"
             ],
             [
              0.6666666666666666,
              "#ed7953"
             ],
             [
              0.7777777777777778,
              "#fb9f3a"
             ],
             [
              0.8888888888888888,
              "#fdca26"
             ],
             [
              1,
              "#f0f921"
             ]
            ],
            "type": "heatmapgl"
           }
          ],
          "histogram": [
           {
            "marker": {
             "colorbar": {
              "outlinewidth": 0,
              "ticks": ""
             }
            },
            "type": "histogram"
           }
          ],
          "histogram2d": [
           {
            "colorbar": {
             "outlinewidth": 0,
             "ticks": ""
            },
            "colorscale": [
             [
              0,
              "#0d0887"
             ],
             [
              0.1111111111111111,
              "#46039f"
             ],
             [
              0.2222222222222222,
              "#7201a8"
             ],
             [
              0.3333333333333333,
              "#9c179e"
             ],
             [
              0.4444444444444444,
              "#bd3786"
             ],
             [
              0.5555555555555556,
              "#d8576b"
             ],
             [
              0.6666666666666666,
              "#ed7953"
             ],
             [
              0.7777777777777778,
              "#fb9f3a"
             ],
             [
              0.8888888888888888,
              "#fdca26"
             ],
             [
              1,
              "#f0f921"
             ]
            ],
            "type": "histogram2d"
           }
          ],
          "histogram2dcontour": [
           {
            "colorbar": {
             "outlinewidth": 0,
             "ticks": ""
            },
            "colorscale": [
             [
              0,
              "#0d0887"
             ],
             [
              0.1111111111111111,
              "#46039f"
             ],
             [
              0.2222222222222222,
              "#7201a8"
             ],
             [
              0.3333333333333333,
              "#9c179e"
             ],
             [
              0.4444444444444444,
              "#bd3786"
             ],
             [
              0.5555555555555556,
              "#d8576b"
             ],
             [
              0.6666666666666666,
              "#ed7953"
             ],
             [
              0.7777777777777778,
              "#fb9f3a"
             ],
             [
              0.8888888888888888,
              "#fdca26"
             ],
             [
              1,
              "#f0f921"
             ]
            ],
            "type": "histogram2dcontour"
           }
          ],
          "mesh3d": [
           {
            "colorbar": {
             "outlinewidth": 0,
             "ticks": ""
            },
            "type": "mesh3d"
           }
          ],
          "parcoords": [
           {
            "line": {
             "colorbar": {
              "outlinewidth": 0,
              "ticks": ""
             }
            },
            "type": "parcoords"
           }
          ],
          "pie": [
           {
            "automargin": true,
            "type": "pie"
           }
          ],
          "scatter": [
           {
            "marker": {
             "colorbar": {
              "outlinewidth": 0,
              "ticks": ""
             }
            },
            "type": "scatter"
           }
          ],
          "scatter3d": [
           {
            "line": {
             "colorbar": {
              "outlinewidth": 0,
              "ticks": ""
             }
            },
            "marker": {
             "colorbar": {
              "outlinewidth": 0,
              "ticks": ""
             }
            },
            "type": "scatter3d"
           }
          ],
          "scattercarpet": [
           {
            "marker": {
             "colorbar": {
              "outlinewidth": 0,
              "ticks": ""
             }
            },
            "type": "scattercarpet"
           }
          ],
          "scattergeo": [
           {
            "marker": {
             "colorbar": {
              "outlinewidth": 0,
              "ticks": ""
             }
            },
            "type": "scattergeo"
           }
          ],
          "scattergl": [
           {
            "marker": {
             "colorbar": {
              "outlinewidth": 0,
              "ticks": ""
             }
            },
            "type": "scattergl"
           }
          ],
          "scattermapbox": [
           {
            "marker": {
             "colorbar": {
              "outlinewidth": 0,
              "ticks": ""
             }
            },
            "type": "scattermapbox"
           }
          ],
          "scatterpolar": [
           {
            "marker": {
             "colorbar": {
              "outlinewidth": 0,
              "ticks": ""
             }
            },
            "type": "scatterpolar"
           }
          ],
          "scatterpolargl": [
           {
            "marker": {
             "colorbar": {
              "outlinewidth": 0,
              "ticks": ""
             }
            },
            "type": "scatterpolargl"
           }
          ],
          "scatterternary": [
           {
            "marker": {
             "colorbar": {
              "outlinewidth": 0,
              "ticks": ""
             }
            },
            "type": "scatterternary"
           }
          ],
          "surface": [
           {
            "colorbar": {
             "outlinewidth": 0,
             "ticks": ""
            },
            "colorscale": [
             [
              0,
              "#0d0887"
             ],
             [
              0.1111111111111111,
              "#46039f"
             ],
             [
              0.2222222222222222,
              "#7201a8"
             ],
             [
              0.3333333333333333,
              "#9c179e"
             ],
             [
              0.4444444444444444,
              "#bd3786"
             ],
             [
              0.5555555555555556,
              "#d8576b"
             ],
             [
              0.6666666666666666,
              "#ed7953"
             ],
             [
              0.7777777777777778,
              "#fb9f3a"
             ],
             [
              0.8888888888888888,
              "#fdca26"
             ],
             [
              1,
              "#f0f921"
             ]
            ],
            "type": "surface"
           }
          ],
          "table": [
           {
            "cells": {
             "fill": {
              "color": "#EBF0F8"
             },
             "line": {
              "color": "white"
             }
            },
            "header": {
             "fill": {
              "color": "#C8D4E3"
             },
             "line": {
              "color": "white"
             }
            },
            "type": "table"
           }
          ]
         },
         "layout": {
          "annotationdefaults": {
           "arrowcolor": "#2a3f5f",
           "arrowhead": 0,
           "arrowwidth": 1
          },
          "coloraxis": {
           "colorbar": {
            "outlinewidth": 0,
            "ticks": ""
           }
          },
          "colorscale": {
           "diverging": [
            [
             0,
             "#8e0152"
            ],
            [
             0.1,
             "#c51b7d"
            ],
            [
             0.2,
             "#de77ae"
            ],
            [
             0.3,
             "#f1b6da"
            ],
            [
             0.4,
             "#fde0ef"
            ],
            [
             0.5,
             "#f7f7f7"
            ],
            [
             0.6,
             "#e6f5d0"
            ],
            [
             0.7,
             "#b8e186"
            ],
            [
             0.8,
             "#7fbc41"
            ],
            [
             0.9,
             "#4d9221"
            ],
            [
             1,
             "#276419"
            ]
           ],
           "sequential": [
            [
             0,
             "#0d0887"
            ],
            [
             0.1111111111111111,
             "#46039f"
            ],
            [
             0.2222222222222222,
             "#7201a8"
            ],
            [
             0.3333333333333333,
             "#9c179e"
            ],
            [
             0.4444444444444444,
             "#bd3786"
            ],
            [
             0.5555555555555556,
             "#d8576b"
            ],
            [
             0.6666666666666666,
             "#ed7953"
            ],
            [
             0.7777777777777778,
             "#fb9f3a"
            ],
            [
             0.8888888888888888,
             "#fdca26"
            ],
            [
             1,
             "#f0f921"
            ]
           ],
           "sequentialminus": [
            [
             0,
             "#0d0887"
            ],
            [
             0.1111111111111111,
             "#46039f"
            ],
            [
             0.2222222222222222,
             "#7201a8"
            ],
            [
             0.3333333333333333,
             "#9c179e"
            ],
            [
             0.4444444444444444,
             "#bd3786"
            ],
            [
             0.5555555555555556,
             "#d8576b"
            ],
            [
             0.6666666666666666,
             "#ed7953"
            ],
            [
             0.7777777777777778,
             "#fb9f3a"
            ],
            [
             0.8888888888888888,
             "#fdca26"
            ],
            [
             1,
             "#f0f921"
            ]
           ]
          },
          "colorway": [
           "#636efa",
           "#EF553B",
           "#00cc96",
           "#ab63fa",
           "#FFA15A",
           "#19d3f3",
           "#FF6692",
           "#B6E880",
           "#FF97FF",
           "#FECB52"
          ],
          "font": {
           "color": "#2a3f5f"
          },
          "geo": {
           "bgcolor": "white",
           "lakecolor": "white",
           "landcolor": "#E5ECF6",
           "showlakes": true,
           "showland": true,
           "subunitcolor": "white"
          },
          "hoverlabel": {
           "align": "left"
          },
          "hovermode": "closest",
          "mapbox": {
           "style": "light"
          },
          "paper_bgcolor": "white",
          "plot_bgcolor": "#E5ECF6",
          "polar": {
           "angularaxis": {
            "gridcolor": "white",
            "linecolor": "white",
            "ticks": ""
           },
           "bgcolor": "#E5ECF6",
           "radialaxis": {
            "gridcolor": "white",
            "linecolor": "white",
            "ticks": ""
           }
          },
          "scene": {
           "xaxis": {
            "backgroundcolor": "#E5ECF6",
            "gridcolor": "white",
            "gridwidth": 2,
            "linecolor": "white",
            "showbackground": true,
            "ticks": "",
            "zerolinecolor": "white"
           },
           "yaxis": {
            "backgroundcolor": "#E5ECF6",
            "gridcolor": "white",
            "gridwidth": 2,
            "linecolor": "white",
            "showbackground": true,
            "ticks": "",
            "zerolinecolor": "white"
           },
           "zaxis": {
            "backgroundcolor": "#E5ECF6",
            "gridcolor": "white",
            "gridwidth": 2,
            "linecolor": "white",
            "showbackground": true,
            "ticks": "",
            "zerolinecolor": "white"
           }
          },
          "shapedefaults": {
           "line": {
            "color": "#2a3f5f"
           }
          },
          "ternary": {
           "aaxis": {
            "gridcolor": "white",
            "linecolor": "white",
            "ticks": ""
           },
           "baxis": {
            "gridcolor": "white",
            "linecolor": "white",
            "ticks": ""
           },
           "bgcolor": "#E5ECF6",
           "caxis": {
            "gridcolor": "white",
            "linecolor": "white",
            "ticks": ""
           }
          },
          "title": {
           "x": 0.05
          },
          "xaxis": {
           "automargin": true,
           "gridcolor": "white",
           "linecolor": "white",
           "ticks": "",
           "title": {
            "standoff": 15
           },
           "zerolinecolor": "white",
           "zerolinewidth": 2
          },
          "yaxis": {
           "automargin": true,
           "gridcolor": "white",
           "linecolor": "white",
           "ticks": "",
           "title": {
            "standoff": 15
           },
           "zerolinecolor": "white",
           "zerolinewidth": 2
          }
         }
        },
        "title": {
         "text": "Energy sources under different butane phaseout scenarios and PV adoption"
        },
        "xaxis": {
         "anchor": "y",
         "domain": [
          0,
          0.3
         ],
         "title": {
          "text": "Year"
         }
        },
        "xaxis2": {
         "anchor": "y2",
         "domain": [
          0.33999999999999997,
          0.6399999999999999
         ],
         "matches": "x",
         "title": {
          "text": "Year"
         }
        },
        "xaxis3": {
         "anchor": "y3",
         "domain": [
          0.6799999999999999,
          0.98
         ],
         "matches": "x",
         "title": {
          "text": "Year"
         }
        },
        "xaxis4": {
         "anchor": "y4",
         "domain": [
          0,
          0.3
         ],
         "matches": "x",
         "showticklabels": false
        },
        "xaxis5": {
         "anchor": "y5",
         "domain": [
          0.33999999999999997,
          0.6399999999999999
         ],
         "matches": "x",
         "showticklabels": false
        },
        "xaxis6": {
         "anchor": "y6",
         "domain": [
          0.6799999999999999,
          0.98
         ],
         "matches": "x",
         "showticklabels": false
        },
        "xaxis7": {
         "anchor": "y7",
         "domain": [
          0,
          0.3
         ],
         "matches": "x",
         "showticklabels": false
        },
        "xaxis8": {
         "anchor": "y8",
         "domain": [
          0.33999999999999997,
          0.6399999999999999
         ],
         "matches": "x",
         "showticklabels": false
        },
        "xaxis9": {
         "anchor": "y9",
         "domain": [
          0.6799999999999999,
          0.98
         ],
         "matches": "x",
         "showticklabels": false
        },
        "yaxis": {
         "anchor": "x",
         "domain": [
          0,
          0.30666666666666664
         ],
         "title": {
          "text": "Energy (GWh)"
         }
        },
        "yaxis2": {
         "anchor": "x2",
         "domain": [
          0,
          0.30666666666666664
         ],
         "matches": "y",
         "showticklabels": false
        },
        "yaxis3": {
         "anchor": "x3",
         "domain": [
          0,
          0.30666666666666664
         ],
         "matches": "y",
         "showticklabels": false
        },
        "yaxis4": {
         "anchor": "x4",
         "domain": [
          0.3466666666666666,
          0.6533333333333333
         ],
         "matches": "y",
         "title": {
          "text": "Energy (GWh)"
         }
        },
        "yaxis5": {
         "anchor": "x5",
         "domain": [
          0.3466666666666666,
          0.6533333333333333
         ],
         "matches": "y",
         "showticklabels": false
        },
        "yaxis6": {
         "anchor": "x6",
         "domain": [
          0.3466666666666666,
          0.6533333333333333
         ],
         "matches": "y",
         "showticklabels": false
        },
        "yaxis7": {
         "anchor": "x7",
         "domain": [
          0.6933333333333332,
          0.9999999999999999
         ],
         "matches": "y",
         "title": {
          "text": "Energy (GWh)"
         }
        },
        "yaxis8": {
         "anchor": "x8",
         "domain": [
          0.6933333333333332,
          0.9999999999999999
         ],
         "matches": "y",
         "showticklabels": false
        },
        "yaxis9": {
         "anchor": "x9",
         "domain": [
          0.6933333333333332,
          0.9999999999999999
         ],
         "matches": "y",
         "showticklabels": false
        }
       }
      },
      "text/html": [
       "<div>\n",
       "        \n",
       "        \n",
       "            <div id=\"2f1052af-e07f-4829-ae47-c47f2cc70574\" class=\"plotly-graph-div\" style=\"height:525px; width:100%;\"></div>\n",
       "            <script type=\"text/javascript\">\n",
       "                require([\"plotly\"], function(Plotly) {\n",
       "                    window.PLOTLYENV=window.PLOTLYENV || {};\n",
       "                    \n",
       "                if (document.getElementById(\"2f1052af-e07f-4829-ae47-c47f2cc70574\")) {\n",
       "                    Plotly.newPlot(\n",
       "                        '2f1052af-e07f-4829-ae47-c47f2cc70574',\n",
       "                        [{\"alignmentgroup\": \"True\", \"hovertemplate\": \"Source=PV<br>phaseout=None<br>PV adoption by 2040=10%<br>Year=%{x}<br>Energy (GWh)=%{y}<extra></extra>\", \"legendgroup\": \"PV\", \"marker\": {\"color\": \"rgb(102,194,165)\"}, \"name\": \"PV\", \"offsetgroup\": \"PV\", \"orientation\": \"v\", \"showlegend\": true, \"textposition\": \"auto\", \"type\": \"bar\", \"x\": [2020, 2021, 2022, 2023, 2024, 2025, 2026, 2027, 2028, 2029, 2030, 2031, 2032, 2033, 2034, 2035, 2036, 2037, 2038, 2039, 2040, 2041, 2042, 2043, 2044, 2045, 2046, 2047, 2048, 2049, 2050], \"xaxis\": \"x7\", \"y\": [37.477859190629275, 46.09971881344345, 42.33407685694348, 46.76633159831865, 47.06041257575007, 43.92524538693258, 44.40976568701838, 43.85659268534387, 42.221584900149516, 44.4361184243413, 54.836307117624386, 51.27414451636429, 58.471254798273534, 54.804819827426336, 58.44015537959907, 53.01576231441303, 45.08433660376569, 52.54289618169418, 56.22607756206224, 53.82689383774352, 59.62002914553065, 58.589708939958264, 55.68243379393284, 55.28028142530944, 54.48608288598186, 59.055263936280156, 54.994758141355646, 60.38703107070095, 59.213926265817875, 55.79963586481772, 46.106707133165415], \"yaxis\": \"y7\"}, {\"alignmentgroup\": \"True\", \"hovertemplate\": \"Source=PV<br>phaseout=None<br>PV adoption by 2040=20%<br>Year=%{x}<br>Energy (GWh)=%{y}<extra></extra>\", \"legendgroup\": \"PV\", \"marker\": {\"color\": \"rgb(102,194,165)\"}, \"name\": \"PV\", \"offsetgroup\": \"PV\", \"orientation\": \"v\", \"showlegend\": false, \"textposition\": \"auto\", \"type\": \"bar\", \"x\": [2020, 2021, 2022, 2023, 2024, 2025, 2026, 2027, 2028, 2029, 2030, 2031, 2032, 2033, 2034, 2035, 2036, 2037, 2038, 2039, 2040, 2041, 2042, 2043, 2044, 2045, 2046, 2047, 2048, 2049, 2050], \"xaxis\": \"x8\", \"y\": [37.477859190629275, 48.404704754115855, 46.56748454263777, 53.78128133806619, 56.4724950908998, 54.906556733665624, 57.73269539312393, 59.20640012521414, 59.11021886020933, 64.43237171529506, 82.25446067643662, 79.47492400036481, 93.5540076772376, 90.42795271525324, 99.3482641453183, 92.77758405022271, 81.15180588677832, 97.20435793613386, 106.82954736791793, 104.96244298359966, 119.2400582910613, 117.17941787991651, 111.36486758786567, 110.56056285061888, 108.97216577196372, 118.11052787256028, 109.98951628271129, 120.7740621414019, 118.42785253163576, 111.59927172963545, 92.21341426633083], \"yaxis\": \"y8\"}, {\"alignmentgroup\": \"True\", \"hovertemplate\": \"Source=PV<br>phaseout=None<br>PV adoption by 2040=50%<br>Year=%{x}<br>Energy (GWh)=%{y}<extra></extra>\", \"legendgroup\": \"PV\", \"marker\": {\"color\": \"rgb(102,194,165)\"}, \"name\": \"PV\", \"offsetgroup\": \"PV\", \"orientation\": \"v\", \"showlegend\": false, \"textposition\": \"auto\", \"type\": \"bar\", \"x\": [2020, 2021, 2022, 2023, 2024, 2025, 2026, 2027, 2028, 2029, 2030, 2031, 2032, 2033, 2034, 2035, 2036, 2037, 2038, 2039, 2040, 2041, 2042, 2043, 2044, 2045, 2046, 2047, 2048, 2049, 2050], \"xaxis\": \"x9\", \"y\": [37.477859190629275, 55.31966257613208, 59.267707599720936, 74.82613055730948, 84.70874263635002, 87.85049077386516, 97.70148451144068, 105.25582244482527, 109.77612074038889, 124.42113158815582, 164.50892135287324, 164.07726245236668, 198.8022663141301, 197.29735137873416, 222.07259044247664, 212.0630492576521, 189.35421373581585, 231.18874319945468, 258.6399567854857, 258.3690904211681, 298.1001457276541, 292.9485446997917, 278.4121689696641, 276.4014071265473, 272.4304144299072, 295.27631968139934, 274.9737907067782, 301.9351553535049, 296.0696313290888, 278.9981793240886, 230.53353566582692], \"yaxis\": \"y9\"}, {\"alignmentgroup\": \"True\", \"hovertemplate\": \"Source=PV<br>phaseout=by 2030<br>PV adoption by 2040=10%<br>Year=%{x}<br>Energy (GWh)=%{y}<extra></extra>\", \"legendgroup\": \"PV\", \"marker\": {\"color\": \"rgb(102,194,165)\"}, \"name\": \"PV\", \"offsetgroup\": \"PV\", \"orientation\": \"v\", \"showlegend\": false, \"textposition\": \"auto\", \"type\": \"bar\", \"x\": [2020, 2021, 2022, 2023, 2024, 2025, 2026, 2027, 2028, 2029, 2030, 2031, 2032, 2033, 2034, 2035, 2036, 2037, 2038, 2039, 2040, 2041, 2042, 2043, 2044, 2045, 2046, 2047, 2048, 2049, 2050], \"xaxis\": \"x4\", \"y\": [37.477859190629275, 46.09971881344345, 42.33407685694348, 46.76633159831865, 47.06041257575007, 43.92524538693258, 44.40976568701838, 43.85659268534387, 42.221584900149516, 44.4361184243413, 54.836307117624386, 51.27414451636429, 58.471254798273534, 54.804819827426336, 58.44015537959907, 53.01576231441303, 45.08433660376569, 52.54289618169418, 56.22607756206224, 53.82689383774352, 59.62002914553065, 58.589708939958264, 55.68243379393284, 55.28028142530944, 54.48608288598186, 59.055263936280156, 54.994758141355646, 60.38703107070095, 59.213926265817875, 55.79963586481772, 46.106707133165415], \"yaxis\": \"y4\"}, {\"alignmentgroup\": \"True\", \"hovertemplate\": \"Source=PV<br>phaseout=by 2030<br>PV adoption by 2040=20%<br>Year=%{x}<br>Energy (GWh)=%{y}<extra></extra>\", \"legendgroup\": \"PV\", \"marker\": {\"color\": \"rgb(102,194,165)\"}, \"name\": \"PV\", \"offsetgroup\": \"PV\", \"orientation\": \"v\", \"showlegend\": false, \"textposition\": \"auto\", \"type\": \"bar\", \"x\": [2020, 2021, 2022, 2023, 2024, 2025, 2026, 2027, 2028, 2029, 2030, 2031, 2032, 2033, 2034, 2035, 2036, 2037, 2038, 2039, 2040, 2041, 2042, 2043, 2044, 2045, 2046, 2047, 2048, 2049, 2050], \"xaxis\": \"x5\", \"y\": [37.477859190629275, 48.404704754115855, 46.56748454263777, 53.78128133806619, 56.4724950908998, 54.906556733665624, 57.73269539312393, 59.20640012521414, 59.11021886020933, 64.43237171529506, 82.25446067643662, 79.47492400036481, 93.5540076772376, 90.42795271525324, 99.3482641453183, 92.77758405022271, 81.15180588677832, 97.20435793613386, 106.82954736791793, 104.96244298359966, 119.2400582910613, 117.17941787991651, 111.36486758786567, 110.56056285061888, 108.97216577196372, 118.11052787256028, 109.98951628271129, 120.7740621414019, 118.42785253163576, 111.59927172963545, 92.21341426633083], \"yaxis\": \"y5\"}, {\"alignmentgroup\": \"True\", \"hovertemplate\": \"Source=PV<br>phaseout=by 2030<br>PV adoption by 2040=50%<br>Year=%{x}<br>Energy (GWh)=%{y}<extra></extra>\", \"legendgroup\": \"PV\", \"marker\": {\"color\": \"rgb(102,194,165)\"}, \"name\": \"PV\", \"offsetgroup\": \"PV\", \"orientation\": \"v\", \"showlegend\": false, \"textposition\": \"auto\", \"type\": \"bar\", \"x\": [2020, 2021, 2022, 2023, 2024, 2025, 2026, 2027, 2028, 2029, 2030, 2031, 2032, 2033, 2034, 2035, 2036, 2037, 2038, 2039, 2040, 2041, 2042, 2043, 2044, 2045, 2046, 2047, 2048, 2049, 2050], \"xaxis\": \"x6\", \"y\": [37.477859190629275, 55.31966257613208, 59.267707599720936, 74.82613055730948, 84.70874263635002, 87.85049077386516, 97.70148451144068, 105.25582244482527, 109.77612074038889, 124.42113158815582, 164.50892135287324, 164.07726245236668, 198.8022663141301, 197.29735137873416, 222.07259044247664, 212.0630492576521, 189.35421373581585, 231.18874319945468, 258.6399567854857, 258.3690904211681, 298.1001457276541, 292.9485446997917, 278.4121689696641, 276.4014071265473, 272.4304144299072, 295.27631968139934, 274.9737907067782, 301.9351553535049, 296.0696313290888, 278.9981793240886, 230.53353566582692], \"yaxis\": \"y6\"}, {\"alignmentgroup\": \"True\", \"hovertemplate\": \"Source=PV<br>phaseout=by 2040<br>PV adoption by 2040=10%<br>Year=%{x}<br>Energy (GWh)=%{y}<extra></extra>\", \"legendgroup\": \"PV\", \"marker\": {\"color\": \"rgb(102,194,165)\"}, \"name\": \"PV\", \"offsetgroup\": \"PV\", \"orientation\": \"v\", \"showlegend\": false, \"textposition\": \"auto\", \"type\": \"bar\", \"x\": [2020, 2021, 2022, 2023, 2024, 2025, 2026, 2027, 2028, 2029, 2030, 2031, 2032, 2033, 2034, 2035, 2036, 2037, 2038, 2039, 2040, 2041, 2042, 2043, 2044, 2045, 2046, 2047, 2048, 2049, 2050], \"xaxis\": \"x\", \"y\": [37.477859190629275, 46.09971881344345, 42.33407685694348, 46.76633159831865, 47.06041257575007, 43.92524538693258, 44.40976568701838, 43.85659268534387, 42.221584900149516, 44.4361184243413, 54.836307117624386, 51.27414451636429, 58.471254798273534, 54.804819827426336, 58.44015537959907, 53.01576231441303, 45.08433660376569, 52.54289618169418, 56.22607756206224, 53.82689383774352, 59.62002914553065, 58.589708939958264, 55.68243379393284, 55.28028142530944, 54.48608288598186, 59.055263936280156, 54.994758141355646, 60.38703107070095, 59.213926265817875, 55.79963586481772, 46.106707133165415], \"yaxis\": \"y\"}, {\"alignmentgroup\": \"True\", \"hovertemplate\": \"Source=PV<br>phaseout=by 2040<br>PV adoption by 2040=20%<br>Year=%{x}<br>Energy (GWh)=%{y}<extra></extra>\", \"legendgroup\": \"PV\", \"marker\": {\"color\": \"rgb(102,194,165)\"}, \"name\": \"PV\", \"offsetgroup\": \"PV\", \"orientation\": \"v\", \"showlegend\": false, \"textposition\": \"auto\", \"type\": \"bar\", \"x\": [2020, 2021, 2022, 2023, 2024, 2025, 2026, 2027, 2028, 2029, 2030, 2031, 2032, 2033, 2034, 2035, 2036, 2037, 2038, 2039, 2040, 2041, 2042, 2043, 2044, 2045, 2046, 2047, 2048, 2049, 2050], \"xaxis\": \"x2\", \"y\": [37.477859190629275, 48.404704754115855, 46.56748454263777, 53.78128133806619, 56.4724950908998, 54.906556733665624, 57.73269539312393, 59.20640012521414, 59.11021886020933, 64.43237171529506, 82.25446067643662, 79.47492400036481, 93.5540076772376, 90.42795271525324, 99.3482641453183, 92.77758405022271, 81.15180588677832, 97.20435793613386, 106.82954736791793, 104.96244298359966, 119.2400582910613, 117.17941787991651, 111.36486758786567, 110.56056285061888, 108.97216577196372, 118.11052787256028, 109.98951628271129, 120.7740621414019, 118.42785253163576, 111.59927172963545, 92.21341426633083], \"yaxis\": \"y2\"}, {\"alignmentgroup\": \"True\", \"hovertemplate\": \"Source=PV<br>phaseout=by 2040<br>PV adoption by 2040=50%<br>Year=%{x}<br>Energy (GWh)=%{y}<extra></extra>\", \"legendgroup\": \"PV\", \"marker\": {\"color\": \"rgb(102,194,165)\"}, \"name\": \"PV\", \"offsetgroup\": \"PV\", \"orientation\": \"v\", \"showlegend\": false, \"textposition\": \"auto\", \"type\": \"bar\", \"x\": [2020, 2021, 2022, 2023, 2024, 2025, 2026, 2027, 2028, 2029, 2030, 2031, 2032, 2033, 2034, 2035, 2036, 2037, 2038, 2039, 2040, 2041, 2042, 2043, 2044, 2045, 2046, 2047, 2048, 2049, 2050], \"xaxis\": \"x3\", \"y\": [37.477859190629275, 55.31966257613208, 59.267707599720936, 74.82613055730948, 84.70874263635002, 87.85049077386516, 97.70148451144068, 105.25582244482527, 109.77612074038889, 124.42113158815582, 164.50892135287324, 164.07726245236668, 198.8022663141301, 197.29735137873416, 222.07259044247664, 212.0630492576521, 189.35421373581585, 231.18874319945468, 258.6399567854857, 258.3690904211681, 298.1001457276541, 292.9485446997917, 278.4121689696641, 276.4014071265473, 272.4304144299072, 295.27631968139934, 274.9737907067782, 301.9351553535049, 296.0696313290888, 278.9981793240886, 230.53353566582692], \"yaxis\": \"y3\"}, {\"alignmentgroup\": \"True\", \"hovertemplate\": \"Source=Butane<br>phaseout=None<br>PV adoption by 2040=10%<br>Year=%{x}<br>Energy (GWh)=%{y}<extra></extra>\", \"legendgroup\": \"Butane\", \"marker\": {\"color\": \"rgb(252,141,98)\"}, \"name\": \"Butane\", \"offsetgroup\": \"Butane\", \"orientation\": \"v\", \"showlegend\": true, \"textposition\": \"auto\", \"type\": \"bar\", \"x\": [2020, 2021, 2022, 2023, 2024, 2025, 2026, 2027, 2028, 2029, 2030, 2031, 2032, 2033, 2034, 2035, 2036, 2037, 2038, 2039, 2040, 2041, 2042, 2043, 2044, 2045, 2046, 2047, 2048, 2049, 2050], \"xaxis\": \"x7\", \"y\": [74.95571838125855, 89.12612303932393, 79.02361013296115, 84.1793968769735, 81.57138179796638, 73.20874231155422, 71.05562509922957, 67.24677545086078, 61.92499118688573, 62.210565794077894, 73.11507615683225, 64.94724972072845, 70.16550575792834, 62.11212913774982, 62.33616573823904, 53.01576231441303, 42.07871416351464, 45.53717669080165, 44.980862049649694, 39.47305548101192, 39.746686097020394, 35.153825363975116, 29.697298023431042, 25.797464665144474, 21.79443315439269, 19.68508797876009, 14.665268837694805, 12.077406214140217, 7.895190168775699, 3.719975724321182, 0.0], \"yaxis\": \"y7\"}, {\"alignmentgroup\": \"True\", \"hovertemplate\": \"Source=Butane<br>phaseout=None<br>PV adoption by 2040=20%<br>Year=%{x}<br>Energy (GWh)=%{y}<extra></extra>\", \"legendgroup\": \"Butane\", \"marker\": {\"color\": \"rgb(252,141,98)\"}, \"name\": \"Butane\", \"offsetgroup\": \"Butane\", \"orientation\": \"v\", \"showlegend\": false, \"textposition\": \"auto\", \"type\": \"bar\", \"x\": [2020, 2021, 2022, 2023, 2024, 2025, 2026, 2027, 2028, 2029, 2030, 2031, 2032, 2033, 2034, 2035, 2036, 2037, 2038, 2039, 2040, 2041, 2042, 2043, 2044, 2045, 2046, 2047, 2048, 2049, 2050], \"xaxis\": \"x8\", \"y\": [74.95571838125855, 89.12612303932393, 79.02361013296115, 84.1793968769735, 81.57138179796638, 73.20874231155422, 71.05562509922957, 67.24677545086078, 61.92499118688573, 62.210565794077894, 73.11507615683225, 64.94724972072845, 70.16550575792834, 62.11212913774982, 62.33616573823904, 53.01576231441303, 42.07871416351464, 45.53717669080165, 44.980862049649694, 39.47305548101192, 39.746686097020394, 35.153825363975116, 29.697298023431042, 25.797464665144474, 21.79443315439269, 19.68508797876009, 14.665268837694805, 12.077406214140217, 7.895190168775699, 3.719975724321182, 0.0], \"yaxis\": \"y8\"}, {\"alignmentgroup\": \"True\", \"hovertemplate\": \"Source=Butane<br>phaseout=None<br>PV adoption by 2040=50%<br>Year=%{x}<br>Energy (GWh)=%{y}<extra></extra>\", \"legendgroup\": \"Butane\", \"marker\": {\"color\": \"rgb(252,141,98)\"}, \"name\": \"Butane\", \"offsetgroup\": \"Butane\", \"orientation\": \"v\", \"showlegend\": false, \"textposition\": \"auto\", \"type\": \"bar\", \"x\": [2020, 2021, 2022, 2023, 2024, 2025, 2026, 2027, 2028, 2029, 2030, 2031, 2032, 2033, 2034, 2035, 2036, 2037, 2038, 2039, 2040, 2041, 2042, 2043, 2044, 2045, 2046, 2047, 2048, 2049, 2050], \"xaxis\": \"x9\", \"y\": [74.95571838125855, 89.12612303932393, 79.02361013296115, 84.1793968769735, 81.57138179796638, 73.20874231155422, 71.05562509922957, 67.24677545086078, 61.92499118688573, 62.210565794077894, 73.11507615683225, 64.94724972072845, 70.16550575792834, 62.11212913774982, 62.33616573823904, 53.01576231441303, 42.07871416351464, 45.53717669080165, 44.980862049649694, 39.47305548101192, 39.746686097020394, 35.153825363975116, 29.697298023431042, 25.797464665144474, 21.79443315439269, 19.68508797876009, 14.665268837694805, 12.077406214140217, 7.895190168775699, 3.719975724321182, 0.0], \"yaxis\": \"y9\"}, {\"alignmentgroup\": \"True\", \"hovertemplate\": \"Source=Butane<br>phaseout=by 2030<br>PV adoption by 2040=10%<br>Year=%{x}<br>Energy (GWh)=%{y}<extra></extra>\", \"legendgroup\": \"Butane\", \"marker\": {\"color\": \"rgb(252,141,98)\"}, \"name\": \"Butane\", \"offsetgroup\": \"Butane\", \"orientation\": \"v\", \"showlegend\": false, \"textposition\": \"auto\", \"type\": \"bar\", \"x\": [2020, 2021, 2022, 2023, 2024, 2025, 2026, 2027, 2028, 2029, 2030, 2031, 2032, 2033, 2034, 2035, 2036, 2037, 2038, 2039, 2040, 2041, 2042, 2043, 2044, 2045, 2046, 2047, 2048, 2049, 2050], \"xaxis\": \"x4\", \"y\": [74.95571838125855, 82.97949386419783, 67.73452297110954, 65.47286423764594, 56.4724950908998, 43.92524538693258, 35.527812549614794, 26.313955611206328, 16.888633960059764, 8.88722368486824, 0.0, 0.0, 0.0, 0.0, 0.0, 0.0, 0.0, 0.0, 0.0, 0.0, 0.0, 0.0, 0.0, 0.0, 0.0, 0.0, 0.0, 0.0, 0.0, 0.0, 0.0], \"yaxis\": \"y4\"}, {\"alignmentgroup\": \"True\", \"hovertemplate\": \"Source=Butane<br>phaseout=by 2030<br>PV adoption by 2040=20%<br>Year=%{x}<br>Energy (GWh)=%{y}<extra></extra>\", \"legendgroup\": \"Butane\", \"marker\": {\"color\": \"rgb(252,141,98)\"}, \"name\": \"Butane\", \"offsetgroup\": \"Butane\", \"orientation\": \"v\", \"showlegend\": false, \"textposition\": \"auto\", \"type\": \"bar\", \"x\": [2020, 2021, 2022, 2023, 2024, 2025, 2026, 2027, 2028, 2029, 2030, 2031, 2032, 2033, 2034, 2035, 2036, 2037, 2038, 2039, 2040, 2041, 2042, 2043, 2044, 2045, 2046, 2047, 2048, 2049, 2050], \"xaxis\": \"x5\", \"y\": [74.95571838125855, 82.97949386419783, 67.73452297110954, 65.47286423764594, 56.4724950908998, 43.92524538693258, 35.527812549614794, 26.313955611206328, 16.888633960059764, 8.88722368486824, 0.0, 0.0, 0.0, 0.0, 0.0, 0.0, 0.0, 0.0, 0.0, 0.0, 0.0, 0.0, 0.0, 0.0, 0.0, 0.0, 0.0, 0.0, 0.0, 0.0, 0.0], \"yaxis\": \"y5\"}, {\"alignmentgroup\": \"True\", \"hovertemplate\": \"Source=Butane<br>phaseout=by 2030<br>PV adoption by 2040=50%<br>Year=%{x}<br>Energy (GWh)=%{y}<extra></extra>\", \"legendgroup\": \"Butane\", \"marker\": {\"color\": \"rgb(252,141,98)\"}, \"name\": \"Butane\", \"offsetgroup\": \"Butane\", \"orientation\": \"v\", \"showlegend\": false, \"textposition\": \"auto\", \"type\": \"bar\", \"x\": [2020, 2021, 2022, 2023, 2024, 2025, 2026, 2027, 2028, 2029, 2030, 2031, 2032, 2033, 2034, 2035, 2036, 2037, 2038, 2039, 2040, 2041, 2042, 2043, 2044, 2045, 2046, 2047, 2048, 2049, 2050], \"xaxis\": \"x6\", \"y\": [74.95571838125855, 82.97949386419783, 67.73452297110954, 65.47286423764594, 56.4724950908998, 43.92524538693258, 35.527812549614794, 26.313955611206328, 16.888633960059764, 8.88722368486824, 0.0, 0.0, 0.0, 0.0, 0.0, 0.0, 0.0, 0.0, 0.0, 0.0, 0.0, 0.0, 0.0, 0.0, 0.0, 0.0, 0.0, 0.0, 0.0, 0.0, 0.0], \"yaxis\": \"y6\"}, {\"alignmentgroup\": \"True\", \"hovertemplate\": \"Source=Butane<br>phaseout=by 2040<br>PV adoption by 2040=10%<br>Year=%{x}<br>Energy (GWh)=%{y}<extra></extra>\", \"legendgroup\": \"Butane\", \"marker\": {\"color\": \"rgb(252,141,98)\"}, \"name\": \"Butane\", \"offsetgroup\": \"Butane\", \"orientation\": \"v\", \"showlegend\": false, \"textposition\": \"auto\", \"type\": \"bar\", \"x\": [2020, 2021, 2022, 2023, 2024, 2025, 2026, 2027, 2028, 2029, 2030, 2031, 2032, 2033, 2034, 2035, 2036, 2037, 2038, 2039, 2040, 2041, 2042, 2043, 2044, 2045, 2046, 2047, 2048, 2049, 2050], \"xaxis\": \"x\", \"y\": [74.95571838125855, 87.58946574554258, 76.20133834249836, 79.5027637171414, 75.29666012120023, 65.88786808039879, 62.17367196182572, 57.01357049094692, 50.66590188017933, 48.87973026677533, 54.836307117624386, 46.14673006472803, 46.77700383861879, 38.36337387919846, 35.064093227759344, 26.507881157206516, 18.033734641506275, 15.762868854508225, 11.245215512412418, 5.382689383774351, 0.0, 0.0, 0.0, 0.0, 0.0, 0.0, 0.0, 0.0, 0.0, 0.0, 0.0], \"yaxis\": \"y\"}, {\"alignmentgroup\": \"True\", \"hovertemplate\": \"Source=Butane<br>phaseout=by 2040<br>PV adoption by 2040=20%<br>Year=%{x}<br>Energy (GWh)=%{y}<extra></extra>\", \"legendgroup\": \"Butane\", \"marker\": {\"color\": \"rgb(252,141,98)\"}, \"name\": \"Butane\", \"offsetgroup\": \"Butane\", \"orientation\": \"v\", \"showlegend\": false, \"textposition\": \"auto\", \"type\": \"bar\", \"x\": [2020, 2021, 2022, 2023, 2024, 2025, 2026, 2027, 2028, 2029, 2030, 2031, 2032, 2033, 2034, 2035, 2036, 2037, 2038, 2039, 2040, 2041, 2042, 2043, 2044, 2045, 2046, 2047, 2048, 2049, 2050], \"xaxis\": \"x2\", \"y\": [74.95571838125855, 87.58946574554258, 76.20133834249836, 79.5027637171414, 75.29666012120023, 65.88786808039879, 62.17367196182572, 57.01357049094692, 50.66590188017933, 48.87973026677533, 54.836307117624386, 46.14673006472803, 46.77700383861879, 38.36337387919846, 35.064093227759344, 26.507881157206516, 18.033734641506275, 15.762868854508225, 11.245215512412418, 5.382689383774351, 0.0, 0.0, 0.0, 0.0, 0.0, 0.0, 0.0, 0.0, 0.0, 0.0, 0.0], \"yaxis\": \"y2\"}, {\"alignmentgroup\": \"True\", \"hovertemplate\": \"Source=Butane<br>phaseout=by 2040<br>PV adoption by 2040=50%<br>Year=%{x}<br>Energy (GWh)=%{y}<extra></extra>\", \"legendgroup\": \"Butane\", \"marker\": {\"color\": \"rgb(252,141,98)\"}, \"name\": \"Butane\", \"offsetgroup\": \"Butane\", \"orientation\": \"v\", \"showlegend\": false, \"textposition\": \"auto\", \"type\": \"bar\", \"x\": [2020, 2021, 2022, 2023, 2024, 2025, 2026, 2027, 2028, 2029, 2030, 2031, 2032, 2033, 2034, 2035, 2036, 2037, 2038, 2039, 2040, 2041, 2042, 2043, 2044, 2045, 2046, 2047, 2048, 2049, 2050], \"xaxis\": \"x3\", \"y\": [74.95571838125855, 87.58946574554258, 76.20133834249836, 79.5027637171414, 75.29666012120023, 65.88786808039879, 62.17367196182572, 57.01357049094692, 50.66590188017933, 48.87973026677533, 54.836307117624386, 46.14673006472803, 46.77700383861879, 38.36337387919846, 35.064093227759344, 26.507881157206516, 18.033734641506275, 15.762868854508225, 11.245215512412418, 5.382689383774351, 0.0, 0.0, 0.0, 0.0, 0.0, 0.0, 0.0, 0.0, 0.0, 0.0, 0.0], \"yaxis\": \"y3\"}, {\"alignmentgroup\": \"True\", \"hovertemplate\": \"Source=Grid<br>phaseout=None<br>PV adoption by 2040=10%<br>Year=%{x}<br>Energy (GWh)=%{y}<extra></extra>\", \"legendgroup\": \"Grid\", \"marker\": {\"color\": \"rgb(141,160,203)\"}, \"name\": \"Grid\", \"offsetgroup\": \"Grid\", \"orientation\": \"v\", \"showlegend\": true, \"textposition\": \"auto\", \"type\": \"bar\", \"x\": [2020, 2021, 2022, 2023, 2024, 2025, 2026, 2027, 2028, 2029, 2030, 2031, 2032, 2033, 2034, 2035, 2036, 2037, 2038, 2039, 2040, 2041, 2042, 2043, 2044, 2045, 2046, 2047, 2048, 2049, 2050], \"xaxis\": \"x7\", \"y\": [262.34501433440647, 325.77134628166715, 301.98308157952886, 336.7175875078939, 341.9723313837835, 322.1184661708379, 328.6322660839357, 327.46255871723326, 318.06927291445913, 337.7145000249932, 420.4116879017881, 396.5200509265533, 456.07578742653476, 431.131249309087, 463.62523267815254, 424.1260985153042, 363.6803152703775, 427.348888944446, 461.0538360089089, 444.96898905867795, 496.83357621275684, 492.1535550956489, 471.444606121965, 471.7250681626412, 468.58031281944164, 511.8122874477593, 480.28755443450666, 531.4058734221682, 525.0301462235839, 498.4767470590382, 414.96036419848866], \"yaxis\": \"y7\"}, {\"alignmentgroup\": \"True\", \"hovertemplate\": \"Source=Grid<br>phaseout=None<br>PV adoption by 2040=20%<br>Year=%{x}<br>Energy (GWh)=%{y}<extra></extra>\", \"legendgroup\": \"Grid\", \"marker\": {\"color\": \"rgb(141,160,203)\"}, \"name\": \"Grid\", \"offsetgroup\": \"Grid\", \"orientation\": \"v\", \"showlegend\": false, \"textposition\": \"auto\", \"type\": \"bar\", \"x\": [2020, 2021, 2022, 2023, 2024, 2025, 2026, 2027, 2028, 2029, 2030, 2031, 2032, 2033, 2034, 2035, 2036, 2037, 2038, 2039, 2040, 2041, 2042, 2043, 2044, 2045, 2046, 2047, 2048, 2049, 2050], \"xaxis\": \"x8\", \"y\": [262.34501433440647, 323.4663603409948, 297.74967389383613, 329.70263776814585, 332.5602488686335, 311.1371548241055, 315.309336377831, 312.1127512773634, 301.1806389544001, 317.71824673404086, 392.9935343429741, 368.31927144255167, 420.9930345475702, 395.50811642126035, 422.7171239124326, 384.3642767794953, 327.61284598736404, 382.68742719000534, 410.45036620305524, 393.8334399128234, 437.21354706722525, 433.56384615569067, 415.7621723280341, 416.44478673733147, 414.094229933461, 452.7570235114798, 425.29279629315, 471.01884235146724, 465.81621995776624, 442.67711119422063, 368.8536570653233], \"yaxis\": \"y8\"}, {\"alignmentgroup\": \"True\", \"hovertemplate\": \"Source=Grid<br>phaseout=None<br>PV adoption by 2040=50%<br>Year=%{x}<br>Energy (GWh)=%{y}<extra></extra>\", \"legendgroup\": \"Grid\", \"marker\": {\"color\": \"rgb(141,160,203)\"}, \"name\": \"Grid\", \"offsetgroup\": \"Grid\", \"orientation\": \"v\", \"showlegend\": false, \"textposition\": \"auto\", \"type\": \"bar\", \"x\": [2020, 2021, 2022, 2023, 2024, 2025, 2026, 2027, 2028, 2029, 2030, 2031, 2032, 2033, 2034, 2035, 2036, 2037, 2038, 2039, 2040, 2041, 2042, 2043, 2044, 2045, 2046, 2047, 2048, 2049, 2050], \"xaxis\": \"x9\", \"y\": [262.34501433440647, 316.5514025189776, 285.04945083675284, 308.65778854890226, 304.3240013231813, 278.1932207839063, 275.34054725951404, 266.0633289577519, 250.51473707422036, 257.7294868611802, 310.7390736665385, 283.7169329905508, 315.74477591067733, 288.63871775777915, 299.9927976152743, 265.0788115720651, 219.41043813832576, 248.7030419266861, 258.63995678548577, 240.42679247525365, 258.3534596306335, 257.79471933581635, 248.71487094623345, 250.60394246140265, 250.6359812755153, 275.5912317026399, 260.3085218690834, 289.85774913936467, 288.1744411603123, 275.2782035997681, 230.53353566582692], \"yaxis\": \"y9\"}, {\"alignmentgroup\": \"True\", \"hovertemplate\": \"Source=Grid<br>phaseout=by 2030<br>PV adoption by 2040=10%<br>Year=%{x}<br>Energy (GWh)=%{y}<extra></extra>\", \"legendgroup\": \"Grid\", \"marker\": {\"color\": \"rgb(141,160,203)\"}, \"name\": \"Grid\", \"offsetgroup\": \"Grid\", \"orientation\": \"v\", \"showlegend\": false, \"textposition\": \"auto\", \"type\": \"bar\", \"x\": [2020, 2021, 2022, 2023, 2024, 2025, 2026, 2027, 2028, 2029, 2030, 2031, 2032, 2033, 2034, 2035, 2036, 2037, 2038, 2039, 2040, 2041, 2042, 2043, 2044, 2045, 2046, 2047, 2048, 2049, 2050], \"xaxis\": \"x4\", \"y\": [262.34501433440647, 331.91797545679134, 313.2721687413813, 355.4241201472199, 367.0712180908499, 351.40196309546064, 364.16007863355134, 368.39537855688775, 363.10563014128275, 391.03784213420266, 493.5267640586196, 461.46730064728007, 526.2412931844633, 493.2433784468367, 525.9613984163904, 477.1418608297159, 405.7590294338917, 472.88606563524655, 506.0346980585584, 484.4420445396912, 536.5802623097774, 527.3073804596243, 501.14190414539604, 497.52253282778565, 490.3747459738336, 531.4973754265202, 494.9528232721984, 543.4832796363119, 532.9253363923586, 502.19672278336145, 414.96036419848866], \"yaxis\": \"y4\"}, {\"alignmentgroup\": \"True\", \"hovertemplate\": \"Source=Grid<br>phaseout=by 2030<br>PV adoption by 2040=20%<br>Year=%{x}<br>Energy (GWh)=%{y}<extra></extra>\", \"legendgroup\": \"Grid\", \"marker\": {\"color\": \"rgb(141,160,203)\"}, \"name\": \"Grid\", \"offsetgroup\": \"Grid\", \"orientation\": \"v\", \"showlegend\": false, \"textposition\": \"auto\", \"type\": \"bar\", \"x\": [2020, 2021, 2022, 2023, 2024, 2025, 2026, 2027, 2028, 2029, 2030, 2031, 2032, 2033, 2034, 2035, 2036, 2037, 2038, 2039, 2040, 2041, 2042, 2043, 2044, 2045, 2046, 2047, 2048, 2049, 2050], \"xaxis\": \"x5\", \"y\": [262.34501433440647, 329.61298951612105, 309.03876105568736, 348.40917040747286, 357.6591355756995, 340.42065174872783, 350.83714892744524, 353.045571117018, 346.21699618122454, 371.0415888432494, 466.1086104998065, 433.2665211632812, 491.1585403054992, 457.6202455590093, 485.0532896506717, 437.3800390939081, 369.69156015087856, 428.22460388080685, 455.4312282527033, 433.3064953938351, 476.9602331642452, 468.71767151966606, 445.4594703514627, 442.24225140247546, 435.88866308785487, 472.44211149024125, 439.95806513084517, 483.0962485656076, 473.711410126543, 446.3970869185417, 368.8536570653233], \"yaxis\": \"y5\"}, {\"alignmentgroup\": \"True\", \"hovertemplate\": \"Source=Grid<br>phaseout=by 2030<br>PV adoption by 2040=50%<br>Year=%{x}<br>Energy (GWh)=%{y}<extra></extra>\", \"legendgroup\": \"Grid\", \"marker\": {\"color\": \"rgb(141,160,203)\"}, \"name\": \"Grid\", \"offsetgroup\": \"Grid\", \"orientation\": \"v\", \"showlegend\": false, \"textposition\": \"auto\", \"type\": \"bar\", \"x\": [2020, 2021, 2022, 2023, 2024, 2025, 2026, 2027, 2028, 2029, 2030, 2031, 2032, 2033, 2034, 2035, 2036, 2037, 2038, 2039, 2040, 2041, 2042, 2043, 2044, 2045, 2046, 2047, 2048, 2049, 2050], \"xaxis\": \"x6\", \"y\": [262.34501433440647, 322.6980316941043, 296.33853799860344, 327.36432118823035, 329.42288803024985, 307.47671770852736, 310.86835980912906, 306.99614879740665, 295.55109430104636, 311.0528289703894, 383.85414982337085, 348.66418271127833, 385.9102816686045, 350.7508468955283, 362.3289633535123, 318.09457388647786, 261.48915230184065, 294.24021861748713, 303.62081883513537, 279.89984795626543, 298.1001457276541, 292.9485446997917, 278.4121689696641, 276.4014071265473, 272.4304144299072, 295.27631968139934, 274.9737907067782, 301.9351553535049, 296.0696313290888, 278.9981793240886, 230.53353566582692], \"yaxis\": \"y6\"}, {\"alignmentgroup\": \"True\", \"hovertemplate\": \"Source=Grid<br>phaseout=by 2040<br>PV adoption by 2040=10%<br>Year=%{x}<br>Energy (GWh)=%{y}<extra></extra>\", \"legendgroup\": \"Grid\", \"marker\": {\"color\": \"rgb(141,160,203)\"}, \"name\": \"Grid\", \"offsetgroup\": \"Grid\", \"orientation\": \"v\", \"showlegend\": false, \"textposition\": \"auto\", \"type\": \"bar\", \"x\": [2020, 2021, 2022, 2023, 2024, 2025, 2026, 2027, 2028, 2029, 2030, 2031, 2032, 2033, 2034, 2035, 2036, 2037, 2038, 2039, 2040, 2041, 2042, 2043, 2044, 2045, 2046, 2047, 2048, 2049, 2050], \"xaxis\": \"x\", \"y\": [262.34501433440647, 327.30800357545064, 304.80535336999344, 341.39422066772386, 348.24705306055006, 329.4393404019936, 337.51421922134006, 337.69576367714865, 329.3283622211654, 351.0453355522969, 438.6904569409951, 415.3205705825527, 479.46428934584384, 454.8800045676367, 490.8973051886314, 450.6339796725113, 387.72529479238483, 457.1231967807394, 494.789482546147, 479.05935515591756, 536.5802623097774, 527.3073804596243, 501.14190414539604, 497.52253282778565, 490.3747459738336, 531.4973754265202, 494.9528232721984, 543.4832796363119, 532.9253363923586, 502.19672278336145, 414.96036419848866], \"yaxis\": \"y\"}, {\"alignmentgroup\": \"True\", \"hovertemplate\": \"Source=Grid<br>phaseout=by 2040<br>PV adoption by 2040=20%<br>Year=%{x}<br>Energy (GWh)=%{y}<extra></extra>\", \"legendgroup\": \"Grid\", \"marker\": {\"color\": \"rgb(141,160,203)\"}, \"name\": \"Grid\", \"offsetgroup\": \"Grid\", \"orientation\": \"v\", \"showlegend\": false, \"textposition\": \"auto\", \"type\": \"bar\", \"x\": [2020, 2021, 2022, 2023, 2024, 2025, 2026, 2027, 2028, 2029, 2030, 2031, 2032, 2033, 2034, 2035, 2036, 2037, 2038, 2039, 2040, 2041, 2042, 2043, 2044, 2045, 2046, 2047, 2048, 2049, 2050], \"xaxis\": \"x2\", \"y\": [262.34501433440647, 325.00301763477654, 300.5719456842987, 334.37927092797725, 338.83497054540004, 318.45802905525954, 324.19128951523487, 322.3459562372775, 312.43972826110485, 331.04908226134336, 411.2723033821838, 387.1197910985524, 444.3815364668792, 419.2568716798109, 449.9891964229109, 410.872157936702, 351.65782550937223, 412.4617350262996, 444.18601274028873, 427.9238060100607, 476.9602331642452, 468.71767151966606, 445.4594703514627, 442.24225140247546, 435.88866308785487, 472.44211149024125, 439.95806513084517, 483.0962485656076, 473.711410126543, 446.3970869185417, 368.8536570653233], \"yaxis\": \"y2\"}, {\"alignmentgroup\": \"True\", \"hovertemplate\": \"Source=Grid<br>phaseout=by 2040<br>PV adoption by 2040=50%<br>Year=%{x}<br>Energy (GWh)=%{y}<extra></extra>\", \"legendgroup\": \"Grid\", \"marker\": {\"color\": \"rgb(141,160,203)\"}, \"name\": \"Grid\", \"offsetgroup\": \"Grid\", \"orientation\": \"v\", \"showlegend\": false, \"textposition\": \"auto\", \"type\": \"bar\", \"x\": [2020, 2021, 2022, 2023, 2024, 2025, 2026, 2027, 2028, 2029, 2030, 2031, 2032, 2033, 2034, 2035, 2036, 2037, 2038, 2039, 2040, 2041, 2042, 2043, 2044, 2045, 2046, 2047, 2048, 2049, 2050], \"xaxis\": \"x3\", \"y\": [262.34501433440647, 318.08805981275935, 287.8717226272156, 313.33442170873417, 310.5987229999497, 285.51409501506174, 284.22250039691824, 276.2965339176661, 261.77382638092735, 271.0603223884815, 329.01784270574643, 302.5174526465514, 339.1332778299878, 312.387473016329, 327.2648701257541, 291.58669272927204, 243.45541766033435, 278.4773497629794, 292.37560332272324, 274.5171585724905, 298.1001457276541, 292.9485446997917, 278.4121689696641, 276.4014071265473, 272.4304144299072, 295.27631968139934, 274.9737907067782, 301.9351553535049, 296.0696313290888, 278.9981793240886, 230.53353566582692], \"yaxis\": \"y3\"}],\n",
       "                        {\"annotations\": [{\"font\": {}, \"showarrow\": false, \"text\": \"PV adoption by 2040=10%\", \"x\": 0.15, \"xanchor\": \"center\", \"xref\": \"paper\", \"y\": 0.9999999999999999, \"yanchor\": \"bottom\", \"yref\": \"paper\"}, {\"font\": {}, \"showarrow\": false, \"text\": \"PV adoption by 2040=20%\", \"x\": 0.48999999999999994, \"xanchor\": \"center\", \"xref\": \"paper\", \"y\": 0.9999999999999999, \"yanchor\": \"bottom\", \"yref\": \"paper\"}, {\"font\": {}, \"showarrow\": false, \"text\": \"PV adoption by 2040=50%\", \"x\": 0.83, \"xanchor\": \"center\", \"xref\": \"paper\", \"y\": 0.9999999999999999, \"yanchor\": \"bottom\", \"yref\": \"paper\"}, {\"font\": {}, \"showarrow\": false, \"text\": \"phaseout=by 2040\", \"textangle\": 90, \"x\": 0.98, \"xanchor\": \"left\", \"xref\": \"paper\", \"y\": 0.15333333333333332, \"yanchor\": \"middle\", \"yref\": \"paper\"}, {\"font\": {}, \"showarrow\": false, \"text\": \"phaseout=by 2030\", \"textangle\": 90, \"x\": 0.98, \"xanchor\": \"left\", \"xref\": \"paper\", \"y\": 0.5, \"yanchor\": \"middle\", \"yref\": \"paper\"}, {\"font\": {}, \"showarrow\": false, \"text\": \"phaseout=None\", \"textangle\": 90, \"x\": 0.98, \"xanchor\": \"left\", \"xref\": \"paper\", \"y\": 0.8466666666666666, \"yanchor\": \"middle\", \"yref\": \"paper\"}], \"barmode\": \"relative\", \"legend\": {\"title\": {\"text\": \"Source\"}, \"tracegroupgap\": 0}, \"template\": {\"data\": {\"bar\": [{\"error_x\": {\"color\": \"#2a3f5f\"}, \"error_y\": {\"color\": \"#2a3f5f\"}, \"marker\": {\"line\": {\"color\": \"#E5ECF6\", \"width\": 0.5}}, \"type\": \"bar\"}], \"barpolar\": [{\"marker\": {\"line\": {\"color\": \"#E5ECF6\", \"width\": 0.5}}, \"type\": \"barpolar\"}], \"carpet\": [{\"aaxis\": {\"endlinecolor\": \"#2a3f5f\", \"gridcolor\": \"white\", \"linecolor\": \"white\", \"minorgridcolor\": \"white\", \"startlinecolor\": \"#2a3f5f\"}, \"baxis\": {\"endlinecolor\": \"#2a3f5f\", \"gridcolor\": \"white\", \"linecolor\": \"white\", \"minorgridcolor\": \"white\", \"startlinecolor\": \"#2a3f5f\"}, \"type\": \"carpet\"}], \"choropleth\": [{\"colorbar\": {\"outlinewidth\": 0, \"ticks\": \"\"}, \"type\": \"choropleth\"}], \"contour\": [{\"colorbar\": {\"outlinewidth\": 0, \"ticks\": \"\"}, \"colorscale\": [[0.0, \"#0d0887\"], [0.1111111111111111, \"#46039f\"], [0.2222222222222222, \"#7201a8\"], [0.3333333333333333, \"#9c179e\"], [0.4444444444444444, \"#bd3786\"], [0.5555555555555556, \"#d8576b\"], [0.6666666666666666, \"#ed7953\"], [0.7777777777777778, \"#fb9f3a\"], [0.8888888888888888, \"#fdca26\"], [1.0, \"#f0f921\"]], \"type\": \"contour\"}], \"contourcarpet\": [{\"colorbar\": {\"outlinewidth\": 0, \"ticks\": \"\"}, \"type\": \"contourcarpet\"}], \"heatmap\": [{\"colorbar\": {\"outlinewidth\": 0, \"ticks\": \"\"}, \"colorscale\": [[0.0, \"#0d0887\"], [0.1111111111111111, \"#46039f\"], [0.2222222222222222, \"#7201a8\"], [0.3333333333333333, \"#9c179e\"], [0.4444444444444444, \"#bd3786\"], [0.5555555555555556, \"#d8576b\"], [0.6666666666666666, \"#ed7953\"], [0.7777777777777778, \"#fb9f3a\"], [0.8888888888888888, \"#fdca26\"], [1.0, \"#f0f921\"]], \"type\": \"heatmap\"}], \"heatmapgl\": [{\"colorbar\": {\"outlinewidth\": 0, \"ticks\": \"\"}, \"colorscale\": [[0.0, \"#0d0887\"], [0.1111111111111111, \"#46039f\"], [0.2222222222222222, \"#7201a8\"], [0.3333333333333333, \"#9c179e\"], [0.4444444444444444, \"#bd3786\"], [0.5555555555555556, \"#d8576b\"], [0.6666666666666666, \"#ed7953\"], [0.7777777777777778, \"#fb9f3a\"], [0.8888888888888888, \"#fdca26\"], [1.0, \"#f0f921\"]], \"type\": \"heatmapgl\"}], \"histogram\": [{\"marker\": {\"colorbar\": {\"outlinewidth\": 0, \"ticks\": \"\"}}, \"type\": \"histogram\"}], \"histogram2d\": [{\"colorbar\": {\"outlinewidth\": 0, \"ticks\": \"\"}, \"colorscale\": [[0.0, \"#0d0887\"], [0.1111111111111111, \"#46039f\"], [0.2222222222222222, \"#7201a8\"], [0.3333333333333333, \"#9c179e\"], [0.4444444444444444, \"#bd3786\"], [0.5555555555555556, \"#d8576b\"], [0.6666666666666666, \"#ed7953\"], [0.7777777777777778, \"#fb9f3a\"], [0.8888888888888888, \"#fdca26\"], [1.0, \"#f0f921\"]], \"type\": \"histogram2d\"}], \"histogram2dcontour\": [{\"colorbar\": {\"outlinewidth\": 0, \"ticks\": \"\"}, \"colorscale\": [[0.0, \"#0d0887\"], [0.1111111111111111, \"#46039f\"], [0.2222222222222222, \"#7201a8\"], [0.3333333333333333, \"#9c179e\"], [0.4444444444444444, \"#bd3786\"], [0.5555555555555556, \"#d8576b\"], [0.6666666666666666, \"#ed7953\"], [0.7777777777777778, \"#fb9f3a\"], [0.8888888888888888, \"#fdca26\"], [1.0, \"#f0f921\"]], \"type\": \"histogram2dcontour\"}], \"mesh3d\": [{\"colorbar\": {\"outlinewidth\": 0, \"ticks\": \"\"}, \"type\": \"mesh3d\"}], \"parcoords\": [{\"line\": {\"colorbar\": {\"outlinewidth\": 0, \"ticks\": \"\"}}, \"type\": \"parcoords\"}], \"pie\": [{\"automargin\": true, \"type\": \"pie\"}], \"scatter\": [{\"marker\": {\"colorbar\": {\"outlinewidth\": 0, \"ticks\": \"\"}}, \"type\": \"scatter\"}], \"scatter3d\": [{\"line\": {\"colorbar\": {\"outlinewidth\": 0, \"ticks\": \"\"}}, \"marker\": {\"colorbar\": {\"outlinewidth\": 0, \"ticks\": \"\"}}, \"type\": \"scatter3d\"}], \"scattercarpet\": [{\"marker\": {\"colorbar\": {\"outlinewidth\": 0, \"ticks\": \"\"}}, \"type\": \"scattercarpet\"}], \"scattergeo\": [{\"marker\": {\"colorbar\": {\"outlinewidth\": 0, \"ticks\": \"\"}}, \"type\": \"scattergeo\"}], \"scattergl\": [{\"marker\": {\"colorbar\": {\"outlinewidth\": 0, \"ticks\": \"\"}}, \"type\": \"scattergl\"}], \"scattermapbox\": [{\"marker\": {\"colorbar\": {\"outlinewidth\": 0, \"ticks\": \"\"}}, \"type\": \"scattermapbox\"}], \"scatterpolar\": [{\"marker\": {\"colorbar\": {\"outlinewidth\": 0, \"ticks\": \"\"}}, \"type\": \"scatterpolar\"}], \"scatterpolargl\": [{\"marker\": {\"colorbar\": {\"outlinewidth\": 0, \"ticks\": \"\"}}, \"type\": \"scatterpolargl\"}], \"scatterternary\": [{\"marker\": {\"colorbar\": {\"outlinewidth\": 0, \"ticks\": \"\"}}, \"type\": \"scatterternary\"}], \"surface\": [{\"colorbar\": {\"outlinewidth\": 0, \"ticks\": \"\"}, \"colorscale\": [[0.0, \"#0d0887\"], [0.1111111111111111, \"#46039f\"], [0.2222222222222222, \"#7201a8\"], [0.3333333333333333, \"#9c179e\"], [0.4444444444444444, \"#bd3786\"], [0.5555555555555556, \"#d8576b\"], [0.6666666666666666, \"#ed7953\"], [0.7777777777777778, \"#fb9f3a\"], [0.8888888888888888, \"#fdca26\"], [1.0, \"#f0f921\"]], \"type\": \"surface\"}], \"table\": [{\"cells\": {\"fill\": {\"color\": \"#EBF0F8\"}, \"line\": {\"color\": \"white\"}}, \"header\": {\"fill\": {\"color\": \"#C8D4E3\"}, \"line\": {\"color\": \"white\"}}, \"type\": \"table\"}]}, \"layout\": {\"annotationdefaults\": {\"arrowcolor\": \"#2a3f5f\", \"arrowhead\": 0, \"arrowwidth\": 1}, \"coloraxis\": {\"colorbar\": {\"outlinewidth\": 0, \"ticks\": \"\"}}, \"colorscale\": {\"diverging\": [[0, \"#8e0152\"], [0.1, \"#c51b7d\"], [0.2, \"#de77ae\"], [0.3, \"#f1b6da\"], [0.4, \"#fde0ef\"], [0.5, \"#f7f7f7\"], [0.6, \"#e6f5d0\"], [0.7, \"#b8e186\"], [0.8, \"#7fbc41\"], [0.9, \"#4d9221\"], [1, \"#276419\"]], \"sequential\": [[0.0, \"#0d0887\"], [0.1111111111111111, \"#46039f\"], [0.2222222222222222, \"#7201a8\"], [0.3333333333333333, \"#9c179e\"], [0.4444444444444444, \"#bd3786\"], [0.5555555555555556, \"#d8576b\"], [0.6666666666666666, \"#ed7953\"], [0.7777777777777778, \"#fb9f3a\"], [0.8888888888888888, \"#fdca26\"], [1.0, \"#f0f921\"]], \"sequentialminus\": [[0.0, \"#0d0887\"], [0.1111111111111111, \"#46039f\"], [0.2222222222222222, \"#7201a8\"], [0.3333333333333333, \"#9c179e\"], [0.4444444444444444, \"#bd3786\"], [0.5555555555555556, \"#d8576b\"], [0.6666666666666666, \"#ed7953\"], [0.7777777777777778, \"#fb9f3a\"], [0.8888888888888888, \"#fdca26\"], [1.0, \"#f0f921\"]]}, \"colorway\": [\"#636efa\", \"#EF553B\", \"#00cc96\", \"#ab63fa\", \"#FFA15A\", \"#19d3f3\", \"#FF6692\", \"#B6E880\", \"#FF97FF\", \"#FECB52\"], \"font\": {\"color\": \"#2a3f5f\"}, \"geo\": {\"bgcolor\": \"white\", \"lakecolor\": \"white\", \"landcolor\": \"#E5ECF6\", \"showlakes\": true, \"showland\": true, \"subunitcolor\": \"white\"}, \"hoverlabel\": {\"align\": \"left\"}, \"hovermode\": \"closest\", \"mapbox\": {\"style\": \"light\"}, \"paper_bgcolor\": \"white\", \"plot_bgcolor\": \"#E5ECF6\", \"polar\": {\"angularaxis\": {\"gridcolor\": \"white\", \"linecolor\": \"white\", \"ticks\": \"\"}, \"bgcolor\": \"#E5ECF6\", \"radialaxis\": {\"gridcolor\": \"white\", \"linecolor\": \"white\", \"ticks\": \"\"}}, \"scene\": {\"xaxis\": {\"backgroundcolor\": \"#E5ECF6\", \"gridcolor\": \"white\", \"gridwidth\": 2, \"linecolor\": \"white\", \"showbackground\": true, \"ticks\": \"\", \"zerolinecolor\": \"white\"}, \"yaxis\": {\"backgroundcolor\": \"#E5ECF6\", \"gridcolor\": \"white\", \"gridwidth\": 2, \"linecolor\": \"white\", \"showbackground\": true, \"ticks\": \"\", \"zerolinecolor\": \"white\"}, \"zaxis\": {\"backgroundcolor\": \"#E5ECF6\", \"gridcolor\": \"white\", \"gridwidth\": 2, \"linecolor\": \"white\", \"showbackground\": true, \"ticks\": \"\", \"zerolinecolor\": \"white\"}}, \"shapedefaults\": {\"line\": {\"color\": \"#2a3f5f\"}}, \"ternary\": {\"aaxis\": {\"gridcolor\": \"white\", \"linecolor\": \"white\", \"ticks\": \"\"}, \"baxis\": {\"gridcolor\": \"white\", \"linecolor\": \"white\", \"ticks\": \"\"}, \"bgcolor\": \"#E5ECF6\", \"caxis\": {\"gridcolor\": \"white\", \"linecolor\": \"white\", \"ticks\": \"\"}}, \"title\": {\"x\": 0.05}, \"xaxis\": {\"automargin\": true, \"gridcolor\": \"white\", \"linecolor\": \"white\", \"ticks\": \"\", \"title\": {\"standoff\": 15}, \"zerolinecolor\": \"white\", \"zerolinewidth\": 2}, \"yaxis\": {\"automargin\": true, \"gridcolor\": \"white\", \"linecolor\": \"white\", \"ticks\": \"\", \"title\": {\"standoff\": 15}, \"zerolinecolor\": \"white\", \"zerolinewidth\": 2}}}, \"title\": {\"text\": \"Energy sources under different butane phaseout scenarios and PV adoption\"}, \"xaxis\": {\"anchor\": \"y\", \"domain\": [0.0, 0.3], \"title\": {\"text\": \"Year\"}}, \"xaxis2\": {\"anchor\": \"y2\", \"domain\": [0.33999999999999997, 0.6399999999999999], \"matches\": \"x\", \"title\": {\"text\": \"Year\"}}, \"xaxis3\": {\"anchor\": \"y3\", \"domain\": [0.6799999999999999, 0.98], \"matches\": \"x\", \"title\": {\"text\": \"Year\"}}, \"xaxis4\": {\"anchor\": \"y4\", \"domain\": [0.0, 0.3], \"matches\": \"x\", \"showticklabels\": false}, \"xaxis5\": {\"anchor\": \"y5\", \"domain\": [0.33999999999999997, 0.6399999999999999], \"matches\": \"x\", \"showticklabels\": false}, \"xaxis6\": {\"anchor\": \"y6\", \"domain\": [0.6799999999999999, 0.98], \"matches\": \"x\", \"showticklabels\": false}, \"xaxis7\": {\"anchor\": \"y7\", \"domain\": [0.0, 0.3], \"matches\": \"x\", \"showticklabels\": false}, \"xaxis8\": {\"anchor\": \"y8\", \"domain\": [0.33999999999999997, 0.6399999999999999], \"matches\": \"x\", \"showticklabels\": false}, \"xaxis9\": {\"anchor\": \"y9\", \"domain\": [0.6799999999999999, 0.98], \"matches\": \"x\", \"showticklabels\": false}, \"yaxis\": {\"anchor\": \"x\", \"domain\": [0.0, 0.30666666666666664], \"title\": {\"text\": \"Energy (GWh)\"}}, \"yaxis2\": {\"anchor\": \"x2\", \"domain\": [0.0, 0.30666666666666664], \"matches\": \"y\", \"showticklabels\": false}, \"yaxis3\": {\"anchor\": \"x3\", \"domain\": [0.0, 0.30666666666666664], \"matches\": \"y\", \"showticklabels\": false}, \"yaxis4\": {\"anchor\": \"x4\", \"domain\": [0.3466666666666666, 0.6533333333333333], \"matches\": \"y\", \"title\": {\"text\": \"Energy (GWh)\"}}, \"yaxis5\": {\"anchor\": \"x5\", \"domain\": [0.3466666666666666, 0.6533333333333333], \"matches\": \"y\", \"showticklabels\": false}, \"yaxis6\": {\"anchor\": \"x6\", \"domain\": [0.3466666666666666, 0.6533333333333333], \"matches\": \"y\", \"showticklabels\": false}, \"yaxis7\": {\"anchor\": \"x7\", \"domain\": [0.6933333333333332, 0.9999999999999999], \"matches\": \"y\", \"title\": {\"text\": \"Energy (GWh)\"}}, \"yaxis8\": {\"anchor\": \"x8\", \"domain\": [0.6933333333333332, 0.9999999999999999], \"matches\": \"y\", \"showticklabels\": false}, \"yaxis9\": {\"anchor\": \"x9\", \"domain\": [0.6933333333333332, 0.9999999999999999], \"matches\": \"y\", \"showticklabels\": false}},\n",
       "                        {\"responsive\": true}\n",
       "                    ).then(function(){\n",
       "                            \n",
       "var gd = document.getElementById('2f1052af-e07f-4829-ae47-c47f2cc70574');\n",
       "var x = new MutationObserver(function (mutations, observer) {{\n",
       "        var display = window.getComputedStyle(gd).display;\n",
       "        if (!display || display === 'none') {{\n",
       "            console.log([gd, 'removed!']);\n",
       "            Plotly.purge(gd);\n",
       "            observer.disconnect();\n",
       "        }}\n",
       "}});\n",
       "\n",
       "// Listen for the removal of the full notebook cells\n",
       "var notebookContainer = gd.closest('#notebook-container');\n",
       "if (notebookContainer) {{\n",
       "    x.observe(notebookContainer, {childList: true});\n",
       "}}\n",
       "\n",
       "// Listen for the clearing of the current output cell\n",
       "var outputEl = gd.closest('.output');\n",
       "if (outputEl) {{\n",
       "    x.observe(outputEl, {childList: true});\n",
       "}}\n",
       "\n",
       "                        })\n",
       "                };\n",
       "                });\n",
       "            </script>\n",
       "        </div>"
      ]
     },
     "metadata": {},
     "output_type": "display_data"
    }
   ],
   "source": [
    "dff = all_dfs.groupby(['Year','butane_phaseout', 'pv_adoption'])[['pv_demand(KWh)', 'butane_demand(KWh)', 'grid_demand(KWh)']].sum().reset_index()\n",
    "\n",
    "dff['pv_demand(%)'] = dff['pv_demand(KWh)'] / dff[['pv_demand(KWh)', 'butane_demand(KWh)', 'grid_demand(KWh)']].sum(axis=1)\n",
    "dff['butane_demand(%)'] = dff['butane_demand(KWh)'] / dff[['pv_demand(KWh)', 'butane_demand(KWh)', 'grid_demand(KWh)']].sum(axis=1)\n",
    "dff['grid_demand(%)'] = dff['grid_demand(KWh)'] / dff[['pv_demand(KWh)', 'butane_demand(KWh)', 'grid_demand(KWh)']].sum(axis=1)\n",
    "\n",
    "dff = dff.melt(value_vars=['pv_demand(KWh)', 'butane_demand(KWh)', 'grid_demand(KWh)'], \n",
    "         id_vars=['Year','butane_phaseout', 'pv_adoption'])\n",
    "\n",
    "dff.loc[dff['variable']==\"butane_demand(KWh)\", 'variable'] = \"Butane\"\n",
    "dff.loc[dff['variable']==\"grid_demand(KWh)\", 'variable'] = \"Grid\"\n",
    "dff.loc[dff['variable']==\"pv_demand(KWh)\", 'variable'] = \"PV\"\n",
    "dff['value'] /= 1000000\n",
    "\n",
    "fig = px.bar(dff, x='Year', y='value', color='variable',\n",
    "             facet_col='pv_adoption', facet_row='butane_phaseout', title='Energy sources under different butane phaseout scenarios and PV adoption',\n",
    "             color_discrete_sequence=px.colors.qualitative.Set2,\n",
    "             labels={\n",
    "                     \"butane_phaseout\": \"phaseout\",\n",
    "                     \"pv_adoption\": \"PV adoption by 2040\",\n",
    "                     \"value\": \"Energy (GWh)\",\n",
    "                     \"variable\": 'Source'\n",
    "                     },\n",
    "             facet_row_spacing=0.04, # default is 0.07 when facet_col_wrap is used\n",
    "             facet_col_spacing=0.04,\n",
    "            )\n",
    "# fig.for_each_annotation(lambda a: a.update(text=a.text.split(\"=\")[-1]))\n",
    "# fig.update_layout(xaxis={'categoryorder':'total descending'})\n",
    "fig.show()\n",
    "# fig.write_image('EnergySources.pdf', width=900, height=600)"
   ]
  },
  {
   "cell_type": "code",
   "execution_count": 69,
   "metadata": {},
   "outputs": [
    {
     "data": {
      "application/vnd.plotly.v1+json": {
       "config": {
        "plotlyServerURL": "https://plot.ly"
       },
       "data": [
        {
         "alignmentgroup": "True",
         "hovertemplate": "Source=PV<br>phaseout=None<br>PV adoption by 2040=10%<br>Year=%{x}<br>Energy share=%{y}<extra></extra>",
         "legendgroup": "PV",
         "marker": {
          "color": "rgb(102,194,165)"
         },
         "name": "PV",
         "offsetgroup": "PV",
         "orientation": "v",
         "showlegend": true,
         "textposition": "auto",
         "type": "bar",
         "x": [
          2020,
          2021,
          2022,
          2023,
          2024,
          2025,
          2026,
          2027,
          2028,
          2029,
          2030,
          2031,
          2032,
          2033,
          2034,
          2035,
          2036,
          2037,
          2038,
          2039,
          2040,
          2041,
          2042,
          2043,
          2044,
          2045,
          2046,
          2047,
          2048,
          2049,
          2050
         ],
         "xaxis": "x7",
         "y": [
          0.09999999999999959,
          0.09999999999999999,
          0.10000000000000031,
          0.1000000000000001,
          0.10000000000000016,
          0.10000000000000026,
          0.10000000000000003,
          0.10000000000000019,
          0.1000000000000002,
          0.10000000000000014,
          0.09999999999999984,
          0.0999999999999994,
          0.09999999999999978,
          0.10000000000000005,
          0.1,
          0.1,
          0.09999999999999978,
          0.09999999999999999,
          0.10000000000000028,
          0.10000000000000034,
          0.09999999999999977,
          0.10000000000000005,
          0.09999999999999991,
          0.09999999999999987,
          0.10000000000000044,
          0.10000000000000034,
          0.0999999999999999,
          0.10000000000000003,
          0.10000000000000021,
          0.10000000000000003,
          0.1
         ],
         "yaxis": "y7"
        },
        {
         "alignmentgroup": "True",
         "hovertemplate": "Source=PV<br>phaseout=None<br>PV adoption by 2040=20%<br>Year=%{x}<br>Energy share=%{y}<extra></extra>",
         "legendgroup": "PV",
         "marker": {
          "color": "rgb(102,194,165)"
         },
         "name": "PV",
         "offsetgroup": "PV",
         "orientation": "v",
         "showlegend": false,
         "textposition": "auto",
         "type": "bar",
         "x": [
          2020,
          2021,
          2022,
          2023,
          2024,
          2025,
          2026,
          2027,
          2028,
          2029,
          2030,
          2031,
          2032,
          2033,
          2034,
          2035,
          2036,
          2037,
          2038,
          2039,
          2040,
          2041,
          2042,
          2043,
          2044,
          2045,
          2046,
          2047,
          2048,
          2049,
          2050
         ],
         "xaxis": "x8",
         "y": [
          0.09999999999999959,
          0.1050000000000005,
          0.1099999999999998,
          0.11499999999999967,
          0.11999999999999965,
          0.1249999999999999,
          0.12999999999999987,
          0.13499999999999993,
          0.14000000000000004,
          0.14500000000000016,
          0.1500000000000003,
          0.1549999999999997,
          0.1599999999999997,
          0.1649999999999996,
          0.17,
          0.17499999999999957,
          0.18000000000000013,
          0.1849999999999996,
          0.18999999999999925,
          0.1949999999999997,
          0.19999999999999982,
          0.20000000000000012,
          0.19999999999999912,
          0.19999999999999987,
          0.20000000000000043,
          0.20000000000000043,
          0.20000000000000015,
          0.20000000000000007,
          0.20000000000000037,
          0.19999999999999998,
          0.19999999999999998
         ],
         "yaxis": "y8"
        },
        {
         "alignmentgroup": "True",
         "hovertemplate": "Source=PV<br>phaseout=None<br>PV adoption by 2040=50%<br>Year=%{x}<br>Energy share=%{y}<extra></extra>",
         "legendgroup": "PV",
         "marker": {
          "color": "rgb(102,194,165)"
         },
         "name": "PV",
         "offsetgroup": "PV",
         "orientation": "v",
         "showlegend": false,
         "textposition": "auto",
         "type": "bar",
         "x": [
          2020,
          2021,
          2022,
          2023,
          2024,
          2025,
          2026,
          2027,
          2028,
          2029,
          2030,
          2031,
          2032,
          2033,
          2034,
          2035,
          2036,
          2037,
          2038,
          2039,
          2040,
          2041,
          2042,
          2043,
          2044,
          2045,
          2046,
          2047,
          2048,
          2049,
          2050
         ],
         "xaxis": "x9",
         "y": [
          0.09999999999999959,
          0.1200000000000001,
          0.14000000000000012,
          0.15999999999999967,
          0.18000000000000094,
          0.20000000000000004,
          0.2200000000000003,
          0.24000000000000038,
          0.26000000000000045,
          0.2799999999999998,
          0.30000000000000004,
          0.31999999999999995,
          0.3399999999999999,
          0.359999999999999,
          0.3800000000000007,
          0.4,
          0.4200000000000005,
          0.44,
          0.4599999999999999,
          0.47999999999999987,
          0.5000000000000002,
          0.5000000000000002,
          0.49999999999999956,
          0.5000000000000002,
          0.4999999999999992,
          0.4999999999999995,
          0.5,
          0.5,
          0.5000000000000007,
          0.49999999999999933,
          0.5
         ],
         "yaxis": "y9"
        },
        {
         "alignmentgroup": "True",
         "hovertemplate": "Source=PV<br>phaseout=by 2040<br>PV adoption by 2040=10%<br>Year=%{x}<br>Energy share=%{y}<extra></extra>",
         "legendgroup": "PV",
         "marker": {
          "color": "rgb(102,194,165)"
         },
         "name": "PV",
         "offsetgroup": "PV",
         "orientation": "v",
         "showlegend": false,
         "textposition": "auto",
         "type": "bar",
         "x": [
          2020,
          2021,
          2022,
          2023,
          2024,
          2025,
          2026,
          2027,
          2028,
          2029,
          2030,
          2031,
          2032,
          2033,
          2034,
          2035,
          2036,
          2037,
          2038,
          2039,
          2040,
          2041,
          2042,
          2043,
          2044,
          2045,
          2046,
          2047,
          2048,
          2049,
          2050
         ],
         "xaxis": "x4",
         "y": [
          0.09999999999999959,
          0.09999999999999952,
          0.09999999999999988,
          0.10000000000000056,
          0.10000000000000007,
          0.10000000000000019,
          0.09999999999999991,
          0.09999999999999983,
          0.10000000000000024,
          0.09999999999999988,
          0.09999999999999999,
          0.09999999999999959,
          0.09999999999999987,
          0.10000000000000034,
          0.10000000000000017,
          0.0999999999999999,
          0.10000000000000002,
          0.09999999999999999,
          0.10000000000000012,
          0.09999999999999995,
          0.09999999999999976,
          0.10000000000000003,
          0.09999999999999991,
          0.09999999999999987,
          0.10000000000000057,
          0.1000000000000002,
          0.10000000000000044,
          0.09999999999999944,
          0.1000000000000004,
          0.09999999999999966,
          0.1
         ],
         "yaxis": "y4"
        },
        {
         "alignmentgroup": "True",
         "hovertemplate": "Source=PV<br>phaseout=by 2040<br>PV adoption by 2040=20%<br>Year=%{x}<br>Energy share=%{y}<extra></extra>",
         "legendgroup": "PV",
         "marker": {
          "color": "rgb(102,194,165)"
         },
         "name": "PV",
         "offsetgroup": "PV",
         "orientation": "v",
         "showlegend": false,
         "textposition": "auto",
         "type": "bar",
         "x": [
          2020,
          2021,
          2022,
          2023,
          2024,
          2025,
          2026,
          2027,
          2028,
          2029,
          2030,
          2031,
          2032,
          2033,
          2034,
          2035,
          2036,
          2037,
          2038,
          2039,
          2040,
          2041,
          2042,
          2043,
          2044,
          2045,
          2046,
          2047,
          2048,
          2049,
          2050
         ],
         "xaxis": "x5",
         "y": [
          0.09999999999999959,
          0.10500000000000041,
          0.10999999999999985,
          0.11499999999999985,
          0.11999999999999955,
          0.12500000000000028,
          0.12999999999999987,
          0.13499999999999984,
          0.1400000000000006,
          0.14500000000000016,
          0.14999999999999983,
          0.1549999999999996,
          0.15999999999999984,
          0.16499999999999984,
          0.17000000000000043,
          0.17499999999999952,
          0.18000000000000022,
          0.18499999999999933,
          0.19000000000000053,
          0.19499999999999978,
          0.19999999999999998,
          0.19999999999999998,
          0.19999999999999998,
          0.20000000000000004,
          0.2,
          0.19999999999999996,
          0.2,
          0.19999999999999998,
          0.2,
          0.20000000000000004,
          0.19999999999999998
         ],
         "yaxis": "y5"
        },
        {
         "alignmentgroup": "True",
         "hovertemplate": "Source=PV<br>phaseout=by 2040<br>PV adoption by 2040=50%<br>Year=%{x}<br>Energy share=%{y}<extra></extra>",
         "legendgroup": "PV",
         "marker": {
          "color": "rgb(102,194,165)"
         },
         "name": "PV",
         "offsetgroup": "PV",
         "orientation": "v",
         "showlegend": false,
         "textposition": "auto",
         "type": "bar",
         "x": [
          2020,
          2021,
          2022,
          2023,
          2024,
          2025,
          2026,
          2027,
          2028,
          2029,
          2030,
          2031,
          2032,
          2033,
          2034,
          2035,
          2036,
          2037,
          2038,
          2039,
          2040,
          2041,
          2042,
          2043,
          2044,
          2045,
          2046,
          2047,
          2048,
          2049,
          2050
         ],
         "xaxis": "x6",
         "y": [
          0.09999999999999959,
          0.12000000000000001,
          0.14000000000000012,
          0.15999999999999973,
          0.18000000000000008,
          0.20000000000000007,
          0.2200000000000001,
          0.24000000000000019,
          0.2600000000000001,
          0.28000000000000064,
          0.30000000000000004,
          0.31999999999999984,
          0.3399999999999994,
          0.36,
          0.38000000000000067,
          0.3999999999999997,
          0.42000000000000026,
          0.4400000000000001,
          0.45999999999999985,
          0.4800000000000006,
          0.5,
          0.5,
          0.5,
          0.5,
          0.5,
          0.5,
          0.5,
          0.5,
          0.5,
          0.5,
          0.5
         ],
         "yaxis": "y6"
        },
        {
         "alignmentgroup": "True",
         "hovertemplate": "Source=PV<br>phaseout=by 2030<br>PV adoption by 2040=10%<br>Year=%{x}<br>Energy share=%{y}<extra></extra>",
         "legendgroup": "PV",
         "marker": {
          "color": "rgb(102,194,165)"
         },
         "name": "PV",
         "offsetgroup": "PV",
         "orientation": "v",
         "showlegend": false,
         "textposition": "auto",
         "type": "bar",
         "x": [
          2020,
          2021,
          2022,
          2023,
          2024,
          2025,
          2026,
          2027,
          2028,
          2029,
          2030,
          2031,
          2032,
          2033,
          2034,
          2035,
          2036,
          2037,
          2038,
          2039,
          2040,
          2041,
          2042,
          2043,
          2044,
          2045,
          2046,
          2047,
          2048,
          2049,
          2050
         ],
         "xaxis": "x",
         "y": [
          0.09999999999999959,
          0.10000000000000041,
          0.10000000000000012,
          0.10000000000000044,
          0.10000000000000019,
          0.1,
          0.09999999999999984,
          0.10000000000000017,
          0.10000000000000074,
          0.10000000000000017,
          0.09999999999999998,
          0.09999999999999971,
          0.09999999999999974,
          0.10000000000000006,
          0.10000000000000023,
          0.10000000000000027,
          0.0999999999999999,
          0.10000000000000019,
          0.10000000000000031,
          0.10000000000000009,
          0.09999999999999976,
          0.10000000000000003,
          0.09999999999999991,
          0.09999999999999987,
          0.10000000000000057,
          0.1000000000000002,
          0.10000000000000044,
          0.09999999999999944,
          0.1000000000000004,
          0.09999999999999966,
          0.1
         ],
         "yaxis": "y"
        },
        {
         "alignmentgroup": "True",
         "hovertemplate": "Source=PV<br>phaseout=by 2030<br>PV adoption by 2040=20%<br>Year=%{x}<br>Energy share=%{y}<extra></extra>",
         "legendgroup": "PV",
         "marker": {
          "color": "rgb(102,194,165)"
         },
         "name": "PV",
         "offsetgroup": "PV",
         "orientation": "v",
         "showlegend": false,
         "textposition": "auto",
         "type": "bar",
         "x": [
          2020,
          2021,
          2022,
          2023,
          2024,
          2025,
          2026,
          2027,
          2028,
          2029,
          2030,
          2031,
          2032,
          2033,
          2034,
          2035,
          2036,
          2037,
          2038,
          2039,
          2040,
          2041,
          2042,
          2043,
          2044,
          2045,
          2046,
          2047,
          2048,
          2049,
          2050
         ],
         "xaxis": "x2",
         "y": [
          0.09999999999999959,
          0.10500000000000047,
          0.10999999999999992,
          0.11499999999999982,
          0.1199999999999998,
          0.1249999999999997,
          0.13000000000000003,
          0.13499999999999987,
          0.1400000000000005,
          0.14500000000000052,
          0.15000000000000024,
          0.1549999999999994,
          0.1599999999999995,
          0.16499999999999987,
          0.17,
          0.17499999999999966,
          0.1800000000000002,
          0.18499999999999966,
          0.1899999999999998,
          0.19499999999999978,
          0.19999999999999998,
          0.19999999999999998,
          0.19999999999999998,
          0.20000000000000004,
          0.2,
          0.19999999999999996,
          0.2,
          0.19999999999999998,
          0.2,
          0.20000000000000004,
          0.19999999999999998
         ],
         "yaxis": "y2"
        },
        {
         "alignmentgroup": "True",
         "hovertemplate": "Source=PV<br>phaseout=by 2030<br>PV adoption by 2040=50%<br>Year=%{x}<br>Energy share=%{y}<extra></extra>",
         "legendgroup": "PV",
         "marker": {
          "color": "rgb(102,194,165)"
         },
         "name": "PV",
         "offsetgroup": "PV",
         "orientation": "v",
         "showlegend": false,
         "textposition": "auto",
         "type": "bar",
         "x": [
          2020,
          2021,
          2022,
          2023,
          2024,
          2025,
          2026,
          2027,
          2028,
          2029,
          2030,
          2031,
          2032,
          2033,
          2034,
          2035,
          2036,
          2037,
          2038,
          2039,
          2040,
          2041,
          2042,
          2043,
          2044,
          2045,
          2046,
          2047,
          2048,
          2049,
          2050
         ],
         "xaxis": "x3",
         "y": [
          0.09999999999999959,
          0.11999999999999994,
          0.14000000000000043,
          0.15999999999999948,
          0.1800000000000002,
          0.2000000000000003,
          0.22000000000000017,
          0.2400000000000002,
          0.26000000000000045,
          0.28000000000000014,
          0.3,
          0.3200000000000005,
          0.3400000000000006,
          0.35999999999999943,
          0.38000000000000145,
          0.4000000000000002,
          0.42000000000000026,
          0.4400000000000005,
          0.46,
          0.48,
          0.5,
          0.5,
          0.5,
          0.5,
          0.5,
          0.5,
          0.5,
          0.5,
          0.5,
          0.5,
          0.5
         ],
         "yaxis": "y3"
        },
        {
         "alignmentgroup": "True",
         "hovertemplate": "Source=Butane<br>phaseout=None<br>PV adoption by 2040=10%<br>Year=%{x}<br>Energy share=%{y}<extra></extra>",
         "legendgroup": "Butane",
         "marker": {
          "color": "rgb(252,141,98)"
         },
         "name": "Butane",
         "offsetgroup": "Butane",
         "orientation": "v",
         "showlegend": true,
         "textposition": "auto",
         "type": "bar",
         "x": [
          2020,
          2021,
          2022,
          2023,
          2024,
          2025,
          2026,
          2027,
          2028,
          2029,
          2030,
          2031,
          2032,
          2033,
          2034,
          2035,
          2036,
          2037,
          2038,
          2039,
          2040,
          2041,
          2042,
          2043,
          2044,
          2045,
          2046,
          2047,
          2048,
          2049,
          2050
         ],
         "xaxis": "x7",
         "y": [
          0.19999999999999918,
          0.19333333333333313,
          0.1866666666666672,
          0.18000000000000002,
          0.17333333333333273,
          0.1666666666666669,
          0.16000000000000042,
          0.15333333333333404,
          0.14666666666666642,
          0.14000000000000037,
          0.13333333333333264,
          0.1266666666666666,
          0.11999999999999991,
          0.11333333333333333,
          0.10666666666666673,
          0.1,
          0.09333333333333312,
          0.08666666666666671,
          0.08000000000000006,
          0.07333333333333358,
          0.06666666666666646,
          0.060000000000000296,
          0.05333333333333363,
          0.046666666666666724,
          0.04000000000000008,
          0.03333333333333351,
          0.026666666666666578,
          0.02000000000000005,
          0.013333333333333332,
          0.00666666666666667,
          0
         ],
         "yaxis": "y7"
        },
        {
         "alignmentgroup": "True",
         "hovertemplate": "Source=Butane<br>phaseout=None<br>PV adoption by 2040=20%<br>Year=%{x}<br>Energy share=%{y}<extra></extra>",
         "legendgroup": "Butane",
         "marker": {
          "color": "rgb(252,141,98)"
         },
         "name": "Butane",
         "offsetgroup": "Butane",
         "orientation": "v",
         "showlegend": false,
         "textposition": "auto",
         "type": "bar",
         "x": [
          2020,
          2021,
          2022,
          2023,
          2024,
          2025,
          2026,
          2027,
          2028,
          2029,
          2030,
          2031,
          2032,
          2033,
          2034,
          2035,
          2036,
          2037,
          2038,
          2039,
          2040,
          2041,
          2042,
          2043,
          2044,
          2045,
          2046,
          2047,
          2048,
          2049,
          2050
         ],
         "xaxis": "x8",
         "y": [
          0.19999999999999918,
          0.19333333333333313,
          0.18666666666666654,
          0.18000000000000022,
          0.17333333333333284,
          0.16666666666666666,
          0.16000000000000011,
          0.1533333333333339,
          0.14666666666666614,
          0.1399999999999999,
          0.13333333333333303,
          0.12666666666666687,
          0.12000000000000001,
          0.11333333333333329,
          0.10666666666666685,
          0.09999999999999987,
          0.0933333333333333,
          0.08666666666666686,
          0.07999999999999975,
          0.07333333333333338,
          0.06666666666666654,
          0.0600000000000003,
          0.05333333333333345,
          0.04666666666666676,
          0.03999999999999999,
          0.03333333333333348,
          0.026666666666666623,
          0.02000000000000005,
          0.013333333333333327,
          0.006666666666666667,
          0
         ],
         "yaxis": "y8"
        },
        {
         "alignmentgroup": "True",
         "hovertemplate": "Source=Butane<br>phaseout=None<br>PV adoption by 2040=50%<br>Year=%{x}<br>Energy share=%{y}<extra></extra>",
         "legendgroup": "Butane",
         "marker": {
          "color": "rgb(252,141,98)"
         },
         "name": "Butane",
         "offsetgroup": "Butane",
         "orientation": "v",
         "showlegend": false,
         "textposition": "auto",
         "type": "bar",
         "x": [
          2020,
          2021,
          2022,
          2023,
          2024,
          2025,
          2026,
          2027,
          2028,
          2029,
          2030,
          2031,
          2032,
          2033,
          2034,
          2035,
          2036,
          2037,
          2038,
          2039,
          2040,
          2041,
          2042,
          2043,
          2044,
          2045,
          2046,
          2047,
          2048,
          2049,
          2050
         ],
         "xaxis": "x9",
         "y": [
          0.19999999999999918,
          0.19333333333333352,
          0.18666666666666662,
          0.18000000000000033,
          0.17333333333333356,
          0.16666666666666652,
          0.1600000000000002,
          0.15333333333333402,
          0.1466666666666662,
          0.13999999999999987,
          0.1333333333333328,
          0.1266666666666666,
          0.12000000000000009,
          0.11333333333333333,
          0.10666666666666685,
          0.10000000000000002,
          0.09333333333333345,
          0.08666666666666663,
          0.07999999999999999,
          0.07333333333333356,
          0.06666666666666644,
          0.06000000000000022,
          0.053333333333333656,
          0.04666666666666679,
          0.04000000000000015,
          0.03333333333333353,
          0.02666666666666661,
          0.02000000000000003,
          0.013333333333333348,
          0.00666666666666666,
          0
         ],
         "yaxis": "y9"
        },
        {
         "alignmentgroup": "True",
         "hovertemplate": "Source=Butane<br>phaseout=by 2040<br>PV adoption by 2040=10%<br>Year=%{x}<br>Energy share=%{y}<extra></extra>",
         "legendgroup": "Butane",
         "marker": {
          "color": "rgb(252,141,98)"
         },
         "name": "Butane",
         "offsetgroup": "Butane",
         "orientation": "v",
         "showlegend": false,
         "textposition": "auto",
         "type": "bar",
         "x": [
          2020,
          2021,
          2022,
          2023,
          2024,
          2025,
          2026,
          2027,
          2028,
          2029,
          2030,
          2031,
          2032,
          2033,
          2034,
          2035,
          2036,
          2037,
          2038,
          2039,
          2040,
          2041,
          2042,
          2043,
          2044,
          2045,
          2046,
          2047,
          2048,
          2049,
          2050
         ],
         "xaxis": "x4",
         "y": [
          0.19999999999999918,
          0.18999999999999914,
          0.18000000000000002,
          0.17000000000000032,
          0.16000000000000036,
          0.15000000000000008,
          0.13999999999999985,
          0.12999999999999953,
          0.12000000000000005,
          0.10999999999999965,
          0.09999999999999999,
          0.08999999999999996,
          0.07999999999999984,
          0.07000000000000028,
          0.059999999999999935,
          0.04999999999999995,
          0.04,
          0.02999999999999994,
          0.019999999999999973,
          0.009999999999999995,
          0,
          0,
          0,
          0,
          0,
          0,
          0,
          0,
          0,
          0,
          0
         ],
         "yaxis": "y4"
        },
        {
         "alignmentgroup": "True",
         "hovertemplate": "Source=Butane<br>phaseout=by 2040<br>PV adoption by 2040=20%<br>Year=%{x}<br>Energy share=%{y}<extra></extra>",
         "legendgroup": "Butane",
         "marker": {
          "color": "rgb(252,141,98)"
         },
         "name": "Butane",
         "offsetgroup": "Butane",
         "orientation": "v",
         "showlegend": false,
         "textposition": "auto",
         "type": "bar",
         "x": [
          2020,
          2021,
          2022,
          2023,
          2024,
          2025,
          2026,
          2027,
          2028,
          2029,
          2030,
          2031,
          2032,
          2033,
          2034,
          2035,
          2036,
          2037,
          2038,
          2039,
          2040,
          2041,
          2042,
          2043,
          2044,
          2045,
          2046,
          2047,
          2048,
          2049,
          2050
         ],
         "xaxis": "x5",
         "y": [
          0.19999999999999918,
          0.1899999999999999,
          0.1800000000000002,
          0.16999999999999998,
          0.16000000000000048,
          0.15000000000000044,
          0.13999999999999974,
          0.12999999999999978,
          0.12000000000000026,
          0.1099999999999996,
          0.09999999999999984,
          0.08999999999999991,
          0.0799999999999999,
          0.07000000000000015,
          0.06000000000000005,
          0.04999999999999991,
          0.04,
          0.02999999999999995,
          0.020000000000000066,
          0.010000000000000007,
          0,
          0,
          0,
          0,
          0,
          0,
          0,
          0,
          0,
          0,
          0
         ],
         "yaxis": "y5"
        },
        {
         "alignmentgroup": "True",
         "hovertemplate": "Source=Butane<br>phaseout=by 2040<br>PV adoption by 2040=50%<br>Year=%{x}<br>Energy share=%{y}<extra></extra>",
         "legendgroup": "Butane",
         "marker": {
          "color": "rgb(252,141,98)"
         },
         "name": "Butane",
         "offsetgroup": "Butane",
         "orientation": "v",
         "showlegend": false,
         "textposition": "auto",
         "type": "bar",
         "x": [
          2020,
          2021,
          2022,
          2023,
          2024,
          2025,
          2026,
          2027,
          2028,
          2029,
          2030,
          2031,
          2032,
          2033,
          2034,
          2035,
          2036,
          2037,
          2038,
          2039,
          2040,
          2041,
          2042,
          2043,
          2044,
          2045,
          2046,
          2047,
          2048,
          2049,
          2050
         ],
         "xaxis": "x6",
         "y": [
          0.19999999999999918,
          0.19000000000000028,
          0.1800000000000002,
          0.16999999999999987,
          0.16000000000000053,
          0.14999999999999983,
          0.1399999999999997,
          0.12999999999999987,
          0.11999999999999966,
          0.10999999999999988,
          0.09999999999999998,
          0.08999999999999976,
          0.07999999999999977,
          0.07000000000000027,
          0.059999999999999894,
          0.04999999999999997,
          0.04000000000000003,
          0.02999999999999992,
          0.019999999999999983,
          0.010000000000000044,
          0,
          0,
          0,
          0,
          0,
          0,
          0,
          0,
          0,
          0,
          0
         ],
         "yaxis": "y6"
        },
        {
         "alignmentgroup": "True",
         "hovertemplate": "Source=Butane<br>phaseout=by 2030<br>PV adoption by 2040=10%<br>Year=%{x}<br>Energy share=%{y}<extra></extra>",
         "legendgroup": "Butane",
         "marker": {
          "color": "rgb(252,141,98)"
         },
         "name": "Butane",
         "offsetgroup": "Butane",
         "orientation": "v",
         "showlegend": false,
         "textposition": "auto",
         "type": "bar",
         "x": [
          2020,
          2021,
          2022,
          2023,
          2024,
          2025,
          2026,
          2027,
          2028,
          2029,
          2030,
          2031,
          2032,
          2033,
          2034,
          2035,
          2036,
          2037,
          2038,
          2039,
          2040,
          2041,
          2042,
          2043,
          2044,
          2045,
          2046,
          2047,
          2048,
          2049,
          2050
         ],
         "xaxis": "x",
         "y": [
          0.19999999999999918,
          0.1799999999999999,
          0.16000000000000011,
          0.14000000000000024,
          0.11999999999999961,
          0.1,
          0.08000000000000007,
          0.06000000000000011,
          0.040000000000000195,
          0.019999999999999993,
          0,
          0,
          0,
          0,
          0,
          0,
          0,
          0,
          0,
          0,
          0,
          0,
          0,
          0,
          0,
          0,
          0,
          0,
          0,
          0,
          0
         ],
         "yaxis": "y"
        },
        {
         "alignmentgroup": "True",
         "hovertemplate": "Source=Butane<br>phaseout=by 2030<br>PV adoption by 2040=20%<br>Year=%{x}<br>Energy share=%{y}<extra></extra>",
         "legendgroup": "Butane",
         "marker": {
          "color": "rgb(252,141,98)"
         },
         "name": "Butane",
         "offsetgroup": "Butane",
         "orientation": "v",
         "showlegend": false,
         "textposition": "auto",
         "type": "bar",
         "x": [
          2020,
          2021,
          2022,
          2023,
          2024,
          2025,
          2026,
          2027,
          2028,
          2029,
          2030,
          2031,
          2032,
          2033,
          2034,
          2035,
          2036,
          2037,
          2038,
          2039,
          2040,
          2041,
          2042,
          2043,
          2044,
          2045,
          2046,
          2047,
          2048,
          2049,
          2050
         ],
         "xaxis": "x2",
         "y": [
          0.19999999999999918,
          0.1799999999999991,
          0.16,
          0.1400000000000001,
          0.1199999999999998,
          0.09999999999999995,
          0.08000000000000018,
          0.06000000000000004,
          0.04000000000000004,
          0.019999999999999973,
          0,
          0,
          0,
          0,
          0,
          0,
          0,
          0,
          0,
          0,
          0,
          0,
          0,
          0,
          0,
          0,
          0,
          0,
          0,
          0,
          0
         ],
         "yaxis": "y2"
        },
        {
         "alignmentgroup": "True",
         "hovertemplate": "Source=Butane<br>phaseout=by 2030<br>PV adoption by 2040=50%<br>Year=%{x}<br>Energy share=%{y}<extra></extra>",
         "legendgroup": "Butane",
         "marker": {
          "color": "rgb(252,141,98)"
         },
         "name": "Butane",
         "offsetgroup": "Butane",
         "orientation": "v",
         "showlegend": false,
         "textposition": "auto",
         "type": "bar",
         "x": [
          2020,
          2021,
          2022,
          2023,
          2024,
          2025,
          2026,
          2027,
          2028,
          2029,
          2030,
          2031,
          2032,
          2033,
          2034,
          2035,
          2036,
          2037,
          2038,
          2039,
          2040,
          2041,
          2042,
          2043,
          2044,
          2045,
          2046,
          2047,
          2048,
          2049,
          2050
         ],
         "xaxis": "x3",
         "y": [
          0.19999999999999918,
          0.1799999999999993,
          0.16000000000000025,
          0.13999999999999985,
          0.11999999999999966,
          0.10000000000000014,
          0.08000000000000007,
          0.060000000000000074,
          0.03999999999999991,
          0.019999999999999938,
          0,
          0,
          0,
          0,
          0,
          0,
          0,
          0,
          0,
          0,
          0,
          0,
          0,
          0,
          0,
          0,
          0,
          0,
          0,
          0,
          0
         ],
         "yaxis": "y3"
        },
        {
         "alignmentgroup": "True",
         "hovertemplate": "Source=Grid<br>phaseout=None<br>PV adoption by 2040=10%<br>Year=%{x}<br>Energy share=%{y}<extra></extra>",
         "legendgroup": "Grid",
         "marker": {
          "color": "rgb(141,160,203)"
         },
         "name": "Grid",
         "offsetgroup": "Grid",
         "orientation": "v",
         "showlegend": true,
         "textposition": "auto",
         "type": "bar",
         "x": [
          2020,
          2021,
          2022,
          2023,
          2024,
          2025,
          2026,
          2027,
          2028,
          2029,
          2030,
          2031,
          2032,
          2033,
          2034,
          2035,
          2036,
          2037,
          2038,
          2039,
          2040,
          2041,
          2042,
          2043,
          2044,
          2045,
          2046,
          2047,
          2048,
          2049,
          2050
         ],
         "xaxis": "x7",
         "y": [
          0.7000000000000013,
          0.7066666666666668,
          0.7133333333333325,
          0.7199999999999999,
          0.7266666666666671,
          0.7333333333333328,
          0.7399999999999995,
          0.7466666666666658,
          0.7533333333333334,
          0.7599999999999995,
          0.7666666666666675,
          0.7733333333333341,
          0.7800000000000004,
          0.7866666666666667,
          0.7933333333333332,
          0.7999999999999999,
          0.8066666666666671,
          0.8133333333333334,
          0.8199999999999997,
          0.8266666666666661,
          0.8333333333333338,
          0.8399999999999995,
          0.8466666666666665,
          0.8533333333333334,
          0.8599999999999994,
          0.8666666666666661,
          0.8733333333333336,
          0.8799999999999999,
          0.8866666666666664,
          0.8933333333333333,
          0.9
         ],
         "yaxis": "y7"
        },
        {
         "alignmentgroup": "True",
         "hovertemplate": "Source=Grid<br>phaseout=None<br>PV adoption by 2040=20%<br>Year=%{x}<br>Energy share=%{y}<extra></extra>",
         "legendgroup": "Grid",
         "marker": {
          "color": "rgb(141,160,203)"
         },
         "name": "Grid",
         "offsetgroup": "Grid",
         "orientation": "v",
         "showlegend": false,
         "textposition": "auto",
         "type": "bar",
         "x": [
          2020,
          2021,
          2022,
          2023,
          2024,
          2025,
          2026,
          2027,
          2028,
          2029,
          2030,
          2031,
          2032,
          2033,
          2034,
          2035,
          2036,
          2037,
          2038,
          2039,
          2040,
          2041,
          2042,
          2043,
          2044,
          2045,
          2046,
          2047,
          2048,
          2049,
          2050
         ],
         "xaxis": "x8",
         "y": [
          0.7000000000000013,
          0.7016666666666664,
          0.7033333333333337,
          0.7050000000000002,
          0.7066666666666674,
          0.7083333333333335,
          0.7100000000000001,
          0.7116666666666662,
          0.7133333333333338,
          0.715,
          0.7166666666666666,
          0.7183333333333335,
          0.7200000000000003,
          0.7216666666666672,
          0.723333333333333,
          0.7250000000000005,
          0.7266666666666666,
          0.7283333333333335,
          0.730000000000001,
          0.7316666666666669,
          0.7333333333333336,
          0.7399999999999997,
          0.7466666666666675,
          0.7533333333333334,
          0.7599999999999997,
          0.7666666666666662,
          0.7733333333333332,
          0.78,
          0.7866666666666663,
          0.7933333333333333,
          0.7999999999999999
         ],
         "yaxis": "y8"
        },
        {
         "alignmentgroup": "True",
         "hovertemplate": "Source=Grid<br>phaseout=None<br>PV adoption by 2040=50%<br>Year=%{x}<br>Energy share=%{y}<extra></extra>",
         "legendgroup": "Grid",
         "marker": {
          "color": "rgb(141,160,203)"
         },
         "name": "Grid",
         "offsetgroup": "Grid",
         "orientation": "v",
         "showlegend": false,
         "textposition": "auto",
         "type": "bar",
         "x": [
          2020,
          2021,
          2022,
          2023,
          2024,
          2025,
          2026,
          2027,
          2028,
          2029,
          2030,
          2031,
          2032,
          2033,
          2034,
          2035,
          2036,
          2037,
          2038,
          2039,
          2040,
          2041,
          2042,
          2043,
          2044,
          2045,
          2046,
          2047,
          2048,
          2049,
          2050
         ],
         "xaxis": "x9",
         "y": [
          0.7000000000000013,
          0.6866666666666664,
          0.6733333333333333,
          0.66,
          0.6466666666666655,
          0.6333333333333334,
          0.6199999999999994,
          0.6066666666666656,
          0.5933333333333333,
          0.5800000000000003,
          0.566666666666667,
          0.5533333333333335,
          0.54,
          0.5266666666666676,
          0.5133333333333324,
          0.49999999999999994,
          0.486666666666666,
          0.47333333333333344,
          0.46,
          0.44666666666666655,
          0.4333333333333334,
          0.4399999999999996,
          0.4466666666666666,
          0.45333333333333303,
          0.4600000000000005,
          0.466666666666667,
          0.47333333333333344,
          0.4799999999999999,
          0.48666666666666597,
          0.49333333333333396,
          0.5
         ],
         "yaxis": "y9"
        },
        {
         "alignmentgroup": "True",
         "hovertemplate": "Source=Grid<br>phaseout=by 2040<br>PV adoption by 2040=10%<br>Year=%{x}<br>Energy share=%{y}<extra></extra>",
         "legendgroup": "Grid",
         "marker": {
          "color": "rgb(141,160,203)"
         },
         "name": "Grid",
         "offsetgroup": "Grid",
         "orientation": "v",
         "showlegend": false,
         "textposition": "auto",
         "type": "bar",
         "x": [
          2020,
          2021,
          2022,
          2023,
          2024,
          2025,
          2026,
          2027,
          2028,
          2029,
          2030,
          2031,
          2032,
          2033,
          2034,
          2035,
          2036,
          2037,
          2038,
          2039,
          2040,
          2041,
          2042,
          2043,
          2044,
          2045,
          2046,
          2047,
          2048,
          2049,
          2050
         ],
         "xaxis": "x4",
         "y": [
          0.7000000000000013,
          0.7100000000000013,
          0.7200000000000001,
          0.7299999999999992,
          0.7399999999999995,
          0.7499999999999998,
          0.7600000000000002,
          0.7700000000000006,
          0.7799999999999998,
          0.7900000000000005,
          0.7999999999999999,
          0.8100000000000005,
          0.8200000000000004,
          0.8299999999999995,
          0.84,
          0.8500000000000002,
          0.86,
          0.87,
          0.8799999999999999,
          0.8900000000000001,
          0.9000000000000002,
          0.8999999999999999,
          0.9,
          0.9,
          0.8999999999999995,
          0.8999999999999997,
          0.8999999999999995,
          0.9000000000000005,
          0.8999999999999997,
          0.9000000000000004,
          0.9
         ],
         "yaxis": "y4"
        },
        {
         "alignmentgroup": "True",
         "hovertemplate": "Source=Grid<br>phaseout=by 2040<br>PV adoption by 2040=20%<br>Year=%{x}<br>Energy share=%{y}<extra></extra>",
         "legendgroup": "Grid",
         "marker": {
          "color": "rgb(141,160,203)"
         },
         "name": "Grid",
         "offsetgroup": "Grid",
         "orientation": "v",
         "showlegend": false,
         "textposition": "auto",
         "type": "bar",
         "x": [
          2020,
          2021,
          2022,
          2023,
          2024,
          2025,
          2026,
          2027,
          2028,
          2029,
          2030,
          2031,
          2032,
          2033,
          2034,
          2035,
          2036,
          2037,
          2038,
          2039,
          2040,
          2041,
          2042,
          2043,
          2044,
          2045,
          2046,
          2047,
          2048,
          2049,
          2050
         ],
         "xaxis": "x5",
         "y": [
          0.7000000000000013,
          0.7049999999999997,
          0.71,
          0.7150000000000003,
          0.72,
          0.7249999999999992,
          0.7300000000000004,
          0.7350000000000004,
          0.7399999999999992,
          0.7450000000000002,
          0.7500000000000004,
          0.7550000000000004,
          0.7600000000000002,
          0.765,
          0.7699999999999995,
          0.7750000000000006,
          0.7799999999999998,
          0.7850000000000007,
          0.7899999999999995,
          0.7950000000000002,
          0.7999999999999999,
          0.7999999999999999,
          0.7999999999999999,
          0.8,
          0.8,
          0.7999999999999999,
          0.8,
          0.7999999999999999,
          0.7999999999999999,
          0.7999999999999999,
          0.7999999999999999
         ],
         "yaxis": "y5"
        },
        {
         "alignmentgroup": "True",
         "hovertemplate": "Source=Grid<br>phaseout=by 2040<br>PV adoption by 2040=50%<br>Year=%{x}<br>Energy share=%{y}<extra></extra>",
         "legendgroup": "Grid",
         "marker": {
          "color": "rgb(141,160,203)"
         },
         "name": "Grid",
         "offsetgroup": "Grid",
         "orientation": "v",
         "showlegend": false,
         "textposition": "auto",
         "type": "bar",
         "x": [
          2020,
          2021,
          2022,
          2023,
          2024,
          2025,
          2026,
          2027,
          2028,
          2029,
          2030,
          2031,
          2032,
          2033,
          2034,
          2035,
          2036,
          2037,
          2038,
          2039,
          2040,
          2041,
          2042,
          2043,
          2044,
          2045,
          2046,
          2047,
          2048,
          2049,
          2050
         ],
         "xaxis": "x6",
         "y": [
          0.7000000000000013,
          0.6899999999999997,
          0.6799999999999998,
          0.6700000000000004,
          0.6599999999999995,
          0.65,
          0.6400000000000001,
          0.63,
          0.6200000000000002,
          0.6099999999999995,
          0.6,
          0.5900000000000004,
          0.580000000000001,
          0.5699999999999998,
          0.5599999999999994,
          0.5500000000000004,
          0.5399999999999997,
          0.5299999999999999,
          0.5200000000000002,
          0.5099999999999995,
          0.5,
          0.5,
          0.5,
          0.5,
          0.5,
          0.5,
          0.5,
          0.5,
          0.5,
          0.5,
          0.5
         ],
         "yaxis": "y6"
        },
        {
         "alignmentgroup": "True",
         "hovertemplate": "Source=Grid<br>phaseout=by 2030<br>PV adoption by 2040=10%<br>Year=%{x}<br>Energy share=%{y}<extra></extra>",
         "legendgroup": "Grid",
         "marker": {
          "color": "rgb(141,160,203)"
         },
         "name": "Grid",
         "offsetgroup": "Grid",
         "orientation": "v",
         "showlegend": false,
         "textposition": "auto",
         "type": "bar",
         "x": [
          2020,
          2021,
          2022,
          2023,
          2024,
          2025,
          2026,
          2027,
          2028,
          2029,
          2030,
          2031,
          2032,
          2033,
          2034,
          2035,
          2036,
          2037,
          2038,
          2039,
          2040,
          2041,
          2042,
          2043,
          2044,
          2045,
          2046,
          2047,
          2048,
          2049,
          2050
         ],
         "xaxis": "x",
         "y": [
          0.7000000000000013,
          0.7199999999999996,
          0.7399999999999998,
          0.7599999999999993,
          0.7800000000000001,
          0.8,
          0.8200000000000001,
          0.8399999999999996,
          0.8599999999999991,
          0.8799999999999998,
          0.9,
          0.9000000000000004,
          0.9000000000000002,
          0.9,
          0.8999999999999998,
          0.8999999999999998,
          0.9000000000000001,
          0.8999999999999998,
          0.8999999999999998,
          0.8999999999999999,
          0.9000000000000002,
          0.8999999999999999,
          0.9,
          0.9,
          0.8999999999999995,
          0.8999999999999997,
          0.8999999999999995,
          0.9000000000000005,
          0.8999999999999997,
          0.9000000000000004,
          0.9
         ],
         "yaxis": "y"
        },
        {
         "alignmentgroup": "True",
         "hovertemplate": "Source=Grid<br>phaseout=by 2030<br>PV adoption by 2040=20%<br>Year=%{x}<br>Energy share=%{y}<extra></extra>",
         "legendgroup": "Grid",
         "marker": {
          "color": "rgb(141,160,203)"
         },
         "name": "Grid",
         "offsetgroup": "Grid",
         "orientation": "v",
         "showlegend": false,
         "textposition": "auto",
         "type": "bar",
         "x": [
          2020,
          2021,
          2022,
          2023,
          2024,
          2025,
          2026,
          2027,
          2028,
          2029,
          2030,
          2031,
          2032,
          2033,
          2034,
          2035,
          2036,
          2037,
          2038,
          2039,
          2040,
          2041,
          2042,
          2043,
          2044,
          2045,
          2046,
          2047,
          2048,
          2049,
          2050
         ],
         "xaxis": "x2",
         "y": [
          0.7000000000000013,
          0.7150000000000005,
          0.7300000000000002,
          0.7450000000000001,
          0.7600000000000005,
          0.7750000000000004,
          0.7899999999999998,
          0.8050000000000002,
          0.8199999999999994,
          0.8349999999999995,
          0.8499999999999996,
          0.8450000000000006,
          0.8400000000000004,
          0.8350000000000002,
          0.83,
          0.8250000000000004,
          0.8199999999999997,
          0.8150000000000003,
          0.8100000000000003,
          0.8050000000000003,
          0.7999999999999999,
          0.7999999999999999,
          0.7999999999999999,
          0.8,
          0.8,
          0.7999999999999999,
          0.8,
          0.7999999999999999,
          0.7999999999999999,
          0.7999999999999999,
          0.7999999999999999
         ],
         "yaxis": "y2"
        },
        {
         "alignmentgroup": "True",
         "hovertemplate": "Source=Grid<br>phaseout=by 2030<br>PV adoption by 2040=50%<br>Year=%{x}<br>Energy share=%{y}<extra></extra>",
         "legendgroup": "Grid",
         "marker": {
          "color": "rgb(141,160,203)"
         },
         "name": "Grid",
         "offsetgroup": "Grid",
         "orientation": "v",
         "showlegend": false,
         "textposition": "auto",
         "type": "bar",
         "x": [
          2020,
          2021,
          2022,
          2023,
          2024,
          2025,
          2026,
          2027,
          2028,
          2029,
          2030,
          2031,
          2032,
          2033,
          2034,
          2035,
          2036,
          2037,
          2038,
          2039,
          2040,
          2041,
          2042,
          2043,
          2044,
          2045,
          2046,
          2047,
          2048,
          2049,
          2050
         ],
         "xaxis": "x3",
         "y": [
          0.7000000000000013,
          0.7000000000000007,
          0.6999999999999993,
          0.7000000000000006,
          0.7000000000000002,
          0.6999999999999995,
          0.6999999999999997,
          0.6999999999999997,
          0.6999999999999997,
          0.6999999999999998,
          0.7,
          0.6799999999999994,
          0.6599999999999995,
          0.6400000000000007,
          0.6199999999999986,
          0.5999999999999998,
          0.5799999999999997,
          0.5599999999999995,
          0.5399999999999999,
          0.52,
          0.5,
          0.5,
          0.5,
          0.5,
          0.5,
          0.5,
          0.5,
          0.5,
          0.5,
          0.5,
          0.5
         ],
         "yaxis": "y3"
        }
       ],
       "layout": {
        "annotations": [
         {
          "font": {},
          "showarrow": false,
          "text": "PV adoption by 2040=10%",
          "x": 0.15,
          "xanchor": "center",
          "xref": "paper",
          "y": 0.9999999999999999,
          "yanchor": "bottom",
          "yref": "paper"
         },
         {
          "font": {},
          "showarrow": false,
          "text": "PV adoption by 2040=20%",
          "x": 0.48999999999999994,
          "xanchor": "center",
          "xref": "paper",
          "y": 0.9999999999999999,
          "yanchor": "bottom",
          "yref": "paper"
         },
         {
          "font": {},
          "showarrow": false,
          "text": "PV adoption by 2040=50%",
          "x": 0.83,
          "xanchor": "center",
          "xref": "paper",
          "y": 0.9999999999999999,
          "yanchor": "bottom",
          "yref": "paper"
         },
         {
          "font": {},
          "showarrow": false,
          "text": "phaseout=by 2030",
          "textangle": 90,
          "x": 0.98,
          "xanchor": "left",
          "xref": "paper",
          "y": 0.15333333333333332,
          "yanchor": "middle",
          "yref": "paper"
         },
         {
          "font": {},
          "showarrow": false,
          "text": "phaseout=by 2040",
          "textangle": 90,
          "x": 0.98,
          "xanchor": "left",
          "xref": "paper",
          "y": 0.5,
          "yanchor": "middle",
          "yref": "paper"
         },
         {
          "font": {},
          "showarrow": false,
          "text": "phaseout=None",
          "textangle": 90,
          "x": 0.98,
          "xanchor": "left",
          "xref": "paper",
          "y": 0.8466666666666666,
          "yanchor": "middle",
          "yref": "paper"
         }
        ],
        "barmode": "relative",
        "legend": {
         "title": {
          "text": "Source"
         },
         "tracegroupgap": 0
        },
        "template": {
         "data": {
          "bar": [
           {
            "error_x": {
             "color": "#2a3f5f"
            },
            "error_y": {
             "color": "#2a3f5f"
            },
            "marker": {
             "line": {
              "color": "#E5ECF6",
              "width": 0.5
             }
            },
            "type": "bar"
           }
          ],
          "barpolar": [
           {
            "marker": {
             "line": {
              "color": "#E5ECF6",
              "width": 0.5
             }
            },
            "type": "barpolar"
           }
          ],
          "carpet": [
           {
            "aaxis": {
             "endlinecolor": "#2a3f5f",
             "gridcolor": "white",
             "linecolor": "white",
             "minorgridcolor": "white",
             "startlinecolor": "#2a3f5f"
            },
            "baxis": {
             "endlinecolor": "#2a3f5f",
             "gridcolor": "white",
             "linecolor": "white",
             "minorgridcolor": "white",
             "startlinecolor": "#2a3f5f"
            },
            "type": "carpet"
           }
          ],
          "choropleth": [
           {
            "colorbar": {
             "outlinewidth": 0,
             "ticks": ""
            },
            "type": "choropleth"
           }
          ],
          "contour": [
           {
            "colorbar": {
             "outlinewidth": 0,
             "ticks": ""
            },
            "colorscale": [
             [
              0,
              "#0d0887"
             ],
             [
              0.1111111111111111,
              "#46039f"
             ],
             [
              0.2222222222222222,
              "#7201a8"
             ],
             [
              0.3333333333333333,
              "#9c179e"
             ],
             [
              0.4444444444444444,
              "#bd3786"
             ],
             [
              0.5555555555555556,
              "#d8576b"
             ],
             [
              0.6666666666666666,
              "#ed7953"
             ],
             [
              0.7777777777777778,
              "#fb9f3a"
             ],
             [
              0.8888888888888888,
              "#fdca26"
             ],
             [
              1,
              "#f0f921"
             ]
            ],
            "type": "contour"
           }
          ],
          "contourcarpet": [
           {
            "colorbar": {
             "outlinewidth": 0,
             "ticks": ""
            },
            "type": "contourcarpet"
           }
          ],
          "heatmap": [
           {
            "colorbar": {
             "outlinewidth": 0,
             "ticks": ""
            },
            "colorscale": [
             [
              0,
              "#0d0887"
             ],
             [
              0.1111111111111111,
              "#46039f"
             ],
             [
              0.2222222222222222,
              "#7201a8"
             ],
             [
              0.3333333333333333,
              "#9c179e"
             ],
             [
              0.4444444444444444,
              "#bd3786"
             ],
             [
              0.5555555555555556,
              "#d8576b"
             ],
             [
              0.6666666666666666,
              "#ed7953"
             ],
             [
              0.7777777777777778,
              "#fb9f3a"
             ],
             [
              0.8888888888888888,
              "#fdca26"
             ],
             [
              1,
              "#f0f921"
             ]
            ],
            "type": "heatmap"
           }
          ],
          "heatmapgl": [
           {
            "colorbar": {
             "outlinewidth": 0,
             "ticks": ""
            },
            "colorscale": [
             [
              0,
              "#0d0887"
             ],
             [
              0.1111111111111111,
              "#46039f"
             ],
             [
              0.2222222222222222,
              "#7201a8"
             ],
             [
              0.3333333333333333,
              "#9c179e"
             ],
             [
              0.4444444444444444,
              "#bd3786"
             ],
             [
              0.5555555555555556,
              "#d8576b"
             ],
             [
              0.6666666666666666,
              "#ed7953"
             ],
             [
              0.7777777777777778,
              "#fb9f3a"
             ],
             [
              0.8888888888888888,
              "#fdca26"
             ],
             [
              1,
              "#f0f921"
             ]
            ],
            "type": "heatmapgl"
           }
          ],
          "histogram": [
           {
            "marker": {
             "colorbar": {
              "outlinewidth": 0,
              "ticks": ""
             }
            },
            "type": "histogram"
           }
          ],
          "histogram2d": [
           {
            "colorbar": {
             "outlinewidth": 0,
             "ticks": ""
            },
            "colorscale": [
             [
              0,
              "#0d0887"
             ],
             [
              0.1111111111111111,
              "#46039f"
             ],
             [
              0.2222222222222222,
              "#7201a8"
             ],
             [
              0.3333333333333333,
              "#9c179e"
             ],
             [
              0.4444444444444444,
              "#bd3786"
             ],
             [
              0.5555555555555556,
              "#d8576b"
             ],
             [
              0.6666666666666666,
              "#ed7953"
             ],
             [
              0.7777777777777778,
              "#fb9f3a"
             ],
             [
              0.8888888888888888,
              "#fdca26"
             ],
             [
              1,
              "#f0f921"
             ]
            ],
            "type": "histogram2d"
           }
          ],
          "histogram2dcontour": [
           {
            "colorbar": {
             "outlinewidth": 0,
             "ticks": ""
            },
            "colorscale": [
             [
              0,
              "#0d0887"
             ],
             [
              0.1111111111111111,
              "#46039f"
             ],
             [
              0.2222222222222222,
              "#7201a8"
             ],
             [
              0.3333333333333333,
              "#9c179e"
             ],
             [
              0.4444444444444444,
              "#bd3786"
             ],
             [
              0.5555555555555556,
              "#d8576b"
             ],
             [
              0.6666666666666666,
              "#ed7953"
             ],
             [
              0.7777777777777778,
              "#fb9f3a"
             ],
             [
              0.8888888888888888,
              "#fdca26"
             ],
             [
              1,
              "#f0f921"
             ]
            ],
            "type": "histogram2dcontour"
           }
          ],
          "mesh3d": [
           {
            "colorbar": {
             "outlinewidth": 0,
             "ticks": ""
            },
            "type": "mesh3d"
           }
          ],
          "parcoords": [
           {
            "line": {
             "colorbar": {
              "outlinewidth": 0,
              "ticks": ""
             }
            },
            "type": "parcoords"
           }
          ],
          "pie": [
           {
            "automargin": true,
            "type": "pie"
           }
          ],
          "scatter": [
           {
            "marker": {
             "colorbar": {
              "outlinewidth": 0,
              "ticks": ""
             }
            },
            "type": "scatter"
           }
          ],
          "scatter3d": [
           {
            "line": {
             "colorbar": {
              "outlinewidth": 0,
              "ticks": ""
             }
            },
            "marker": {
             "colorbar": {
              "outlinewidth": 0,
              "ticks": ""
             }
            },
            "type": "scatter3d"
           }
          ],
          "scattercarpet": [
           {
            "marker": {
             "colorbar": {
              "outlinewidth": 0,
              "ticks": ""
             }
            },
            "type": "scattercarpet"
           }
          ],
          "scattergeo": [
           {
            "marker": {
             "colorbar": {
              "outlinewidth": 0,
              "ticks": ""
             }
            },
            "type": "scattergeo"
           }
          ],
          "scattergl": [
           {
            "marker": {
             "colorbar": {
              "outlinewidth": 0,
              "ticks": ""
             }
            },
            "type": "scattergl"
           }
          ],
          "scattermapbox": [
           {
            "marker": {
             "colorbar": {
              "outlinewidth": 0,
              "ticks": ""
             }
            },
            "type": "scattermapbox"
           }
          ],
          "scatterpolar": [
           {
            "marker": {
             "colorbar": {
              "outlinewidth": 0,
              "ticks": ""
             }
            },
            "type": "scatterpolar"
           }
          ],
          "scatterpolargl": [
           {
            "marker": {
             "colorbar": {
              "outlinewidth": 0,
              "ticks": ""
             }
            },
            "type": "scatterpolargl"
           }
          ],
          "scatterternary": [
           {
            "marker": {
             "colorbar": {
              "outlinewidth": 0,
              "ticks": ""
             }
            },
            "type": "scatterternary"
           }
          ],
          "surface": [
           {
            "colorbar": {
             "outlinewidth": 0,
             "ticks": ""
            },
            "colorscale": [
             [
              0,
              "#0d0887"
             ],
             [
              0.1111111111111111,
              "#46039f"
             ],
             [
              0.2222222222222222,
              "#7201a8"
             ],
             [
              0.3333333333333333,
              "#9c179e"
             ],
             [
              0.4444444444444444,
              "#bd3786"
             ],
             [
              0.5555555555555556,
              "#d8576b"
             ],
             [
              0.6666666666666666,
              "#ed7953"
             ],
             [
              0.7777777777777778,
              "#fb9f3a"
             ],
             [
              0.8888888888888888,
              "#fdca26"
             ],
             [
              1,
              "#f0f921"
             ]
            ],
            "type": "surface"
           }
          ],
          "table": [
           {
            "cells": {
             "fill": {
              "color": "#EBF0F8"
             },
             "line": {
              "color": "white"
             }
            },
            "header": {
             "fill": {
              "color": "#C8D4E3"
             },
             "line": {
              "color": "white"
             }
            },
            "type": "table"
           }
          ]
         },
         "layout": {
          "annotationdefaults": {
           "arrowcolor": "#2a3f5f",
           "arrowhead": 0,
           "arrowwidth": 1
          },
          "coloraxis": {
           "colorbar": {
            "outlinewidth": 0,
            "ticks": ""
           }
          },
          "colorscale": {
           "diverging": [
            [
             0,
             "#8e0152"
            ],
            [
             0.1,
             "#c51b7d"
            ],
            [
             0.2,
             "#de77ae"
            ],
            [
             0.3,
             "#f1b6da"
            ],
            [
             0.4,
             "#fde0ef"
            ],
            [
             0.5,
             "#f7f7f7"
            ],
            [
             0.6,
             "#e6f5d0"
            ],
            [
             0.7,
             "#b8e186"
            ],
            [
             0.8,
             "#7fbc41"
            ],
            [
             0.9,
             "#4d9221"
            ],
            [
             1,
             "#276419"
            ]
           ],
           "sequential": [
            [
             0,
             "#0d0887"
            ],
            [
             0.1111111111111111,
             "#46039f"
            ],
            [
             0.2222222222222222,
             "#7201a8"
            ],
            [
             0.3333333333333333,
             "#9c179e"
            ],
            [
             0.4444444444444444,
             "#bd3786"
            ],
            [
             0.5555555555555556,
             "#d8576b"
            ],
            [
             0.6666666666666666,
             "#ed7953"
            ],
            [
             0.7777777777777778,
             "#fb9f3a"
            ],
            [
             0.8888888888888888,
             "#fdca26"
            ],
            [
             1,
             "#f0f921"
            ]
           ],
           "sequentialminus": [
            [
             0,
             "#0d0887"
            ],
            [
             0.1111111111111111,
             "#46039f"
            ],
            [
             0.2222222222222222,
             "#7201a8"
            ],
            [
             0.3333333333333333,
             "#9c179e"
            ],
            [
             0.4444444444444444,
             "#bd3786"
            ],
            [
             0.5555555555555556,
             "#d8576b"
            ],
            [
             0.6666666666666666,
             "#ed7953"
            ],
            [
             0.7777777777777778,
             "#fb9f3a"
            ],
            [
             0.8888888888888888,
             "#fdca26"
            ],
            [
             1,
             "#f0f921"
            ]
           ]
          },
          "colorway": [
           "#636efa",
           "#EF553B",
           "#00cc96",
           "#ab63fa",
           "#FFA15A",
           "#19d3f3",
           "#FF6692",
           "#B6E880",
           "#FF97FF",
           "#FECB52"
          ],
          "font": {
           "color": "#2a3f5f"
          },
          "geo": {
           "bgcolor": "white",
           "lakecolor": "white",
           "landcolor": "#E5ECF6",
           "showlakes": true,
           "showland": true,
           "subunitcolor": "white"
          },
          "hoverlabel": {
           "align": "left"
          },
          "hovermode": "closest",
          "mapbox": {
           "style": "light"
          },
          "paper_bgcolor": "white",
          "plot_bgcolor": "#E5ECF6",
          "polar": {
           "angularaxis": {
            "gridcolor": "white",
            "linecolor": "white",
            "ticks": ""
           },
           "bgcolor": "#E5ECF6",
           "radialaxis": {
            "gridcolor": "white",
            "linecolor": "white",
            "ticks": ""
           }
          },
          "scene": {
           "xaxis": {
            "backgroundcolor": "#E5ECF6",
            "gridcolor": "white",
            "gridwidth": 2,
            "linecolor": "white",
            "showbackground": true,
            "ticks": "",
            "zerolinecolor": "white"
           },
           "yaxis": {
            "backgroundcolor": "#E5ECF6",
            "gridcolor": "white",
            "gridwidth": 2,
            "linecolor": "white",
            "showbackground": true,
            "ticks": "",
            "zerolinecolor": "white"
           },
           "zaxis": {
            "backgroundcolor": "#E5ECF6",
            "gridcolor": "white",
            "gridwidth": 2,
            "linecolor": "white",
            "showbackground": true,
            "ticks": "",
            "zerolinecolor": "white"
           }
          },
          "shapedefaults": {
           "line": {
            "color": "#2a3f5f"
           }
          },
          "ternary": {
           "aaxis": {
            "gridcolor": "white",
            "linecolor": "white",
            "ticks": ""
           },
           "baxis": {
            "gridcolor": "white",
            "linecolor": "white",
            "ticks": ""
           },
           "bgcolor": "#E5ECF6",
           "caxis": {
            "gridcolor": "white",
            "linecolor": "white",
            "ticks": ""
           }
          },
          "title": {
           "x": 0.05
          },
          "xaxis": {
           "automargin": true,
           "gridcolor": "white",
           "linecolor": "white",
           "ticks": "",
           "title": {
            "standoff": 15
           },
           "zerolinecolor": "white",
           "zerolinewidth": 2
          },
          "yaxis": {
           "automargin": true,
           "gridcolor": "white",
           "linecolor": "white",
           "ticks": "",
           "title": {
            "standoff": 15
           },
           "zerolinecolor": "white",
           "zerolinewidth": 2
          }
         }
        },
        "title": {
         "text": "Share of energy sources under different butane phaseout scenarios and PV adoption"
        },
        "xaxis": {
         "anchor": "y",
         "domain": [
          0,
          0.3
         ],
         "title": {
          "text": "Year"
         }
        },
        "xaxis2": {
         "anchor": "y2",
         "domain": [
          0.33999999999999997,
          0.6399999999999999
         ],
         "matches": "x",
         "title": {
          "text": "Year"
         }
        },
        "xaxis3": {
         "anchor": "y3",
         "domain": [
          0.6799999999999999,
          0.98
         ],
         "matches": "x",
         "title": {
          "text": "Year"
         }
        },
        "xaxis4": {
         "anchor": "y4",
         "domain": [
          0,
          0.3
         ],
         "matches": "x",
         "showticklabels": false
        },
        "xaxis5": {
         "anchor": "y5",
         "domain": [
          0.33999999999999997,
          0.6399999999999999
         ],
         "matches": "x",
         "showticklabels": false
        },
        "xaxis6": {
         "anchor": "y6",
         "domain": [
          0.6799999999999999,
          0.98
         ],
         "matches": "x",
         "showticklabels": false
        },
        "xaxis7": {
         "anchor": "y7",
         "domain": [
          0,
          0.3
         ],
         "matches": "x",
         "showticklabels": false
        },
        "xaxis8": {
         "anchor": "y8",
         "domain": [
          0.33999999999999997,
          0.6399999999999999
         ],
         "matches": "x",
         "showticklabels": false
        },
        "xaxis9": {
         "anchor": "y9",
         "domain": [
          0.6799999999999999,
          0.98
         ],
         "matches": "x",
         "showticklabels": false
        },
        "yaxis": {
         "anchor": "x",
         "domain": [
          0,
          0.30666666666666664
         ],
         "title": {
          "text": "Energy share"
         }
        },
        "yaxis2": {
         "anchor": "x2",
         "domain": [
          0,
          0.30666666666666664
         ],
         "matches": "y",
         "showticklabels": false
        },
        "yaxis3": {
         "anchor": "x3",
         "domain": [
          0,
          0.30666666666666664
         ],
         "matches": "y",
         "showticklabels": false
        },
        "yaxis4": {
         "anchor": "x4",
         "domain": [
          0.3466666666666666,
          0.6533333333333333
         ],
         "matches": "y",
         "title": {
          "text": "Energy share"
         }
        },
        "yaxis5": {
         "anchor": "x5",
         "domain": [
          0.3466666666666666,
          0.6533333333333333
         ],
         "matches": "y",
         "showticklabels": false
        },
        "yaxis6": {
         "anchor": "x6",
         "domain": [
          0.3466666666666666,
          0.6533333333333333
         ],
         "matches": "y",
         "showticklabels": false
        },
        "yaxis7": {
         "anchor": "x7",
         "domain": [
          0.6933333333333332,
          0.9999999999999999
         ],
         "matches": "y",
         "title": {
          "text": "Energy share"
         }
        },
        "yaxis8": {
         "anchor": "x8",
         "domain": [
          0.6933333333333332,
          0.9999999999999999
         ],
         "matches": "y",
         "showticklabels": false
        },
        "yaxis9": {
         "anchor": "x9",
         "domain": [
          0.6933333333333332,
          0.9999999999999999
         ],
         "matches": "y",
         "showticklabels": false
        }
       }
      },
      "text/html": [
       "<div>\n",
       "        \n",
       "        \n",
       "            <div id=\"7d5751cc-d252-413d-aec2-374190c5f317\" class=\"plotly-graph-div\" style=\"height:525px; width:100%;\"></div>\n",
       "            <script type=\"text/javascript\">\n",
       "                require([\"plotly\"], function(Plotly) {\n",
       "                    window.PLOTLYENV=window.PLOTLYENV || {};\n",
       "                    \n",
       "                if (document.getElementById(\"7d5751cc-d252-413d-aec2-374190c5f317\")) {\n",
       "                    Plotly.newPlot(\n",
       "                        '7d5751cc-d252-413d-aec2-374190c5f317',\n",
       "                        [{\"alignmentgroup\": \"True\", \"hovertemplate\": \"Source=PV<br>phaseout=None<br>PV adoption by 2040=10%<br>Year=%{x}<br>Energy share=%{y}<extra></extra>\", \"legendgroup\": \"PV\", \"marker\": {\"color\": \"rgb(102,194,165)\"}, \"name\": \"PV\", \"offsetgroup\": \"PV\", \"orientation\": \"v\", \"showlegend\": true, \"textposition\": \"auto\", \"type\": \"bar\", \"x\": [2020, 2021, 2022, 2023, 2024, 2025, 2026, 2027, 2028, 2029, 2030, 2031, 2032, 2033, 2034, 2035, 2036, 2037, 2038, 2039, 2040, 2041, 2042, 2043, 2044, 2045, 2046, 2047, 2048, 2049, 2050], \"xaxis\": \"x7\", \"y\": [0.09999999999999959, 0.09999999999999999, 0.10000000000000031, 0.1000000000000001, 0.10000000000000016, 0.10000000000000026, 0.10000000000000003, 0.10000000000000019, 0.1000000000000002, 0.10000000000000014, 0.09999999999999984, 0.0999999999999994, 0.09999999999999978, 0.10000000000000005, 0.1, 0.1, 0.09999999999999978, 0.09999999999999999, 0.10000000000000028, 0.10000000000000034, 0.09999999999999977, 0.10000000000000005, 0.09999999999999991, 0.09999999999999987, 0.10000000000000044, 0.10000000000000034, 0.0999999999999999, 0.10000000000000003, 0.10000000000000021, 0.10000000000000003, 0.1], \"yaxis\": \"y7\"}, {\"alignmentgroup\": \"True\", \"hovertemplate\": \"Source=PV<br>phaseout=None<br>PV adoption by 2040=20%<br>Year=%{x}<br>Energy share=%{y}<extra></extra>\", \"legendgroup\": \"PV\", \"marker\": {\"color\": \"rgb(102,194,165)\"}, \"name\": \"PV\", \"offsetgroup\": \"PV\", \"orientation\": \"v\", \"showlegend\": false, \"textposition\": \"auto\", \"type\": \"bar\", \"x\": [2020, 2021, 2022, 2023, 2024, 2025, 2026, 2027, 2028, 2029, 2030, 2031, 2032, 2033, 2034, 2035, 2036, 2037, 2038, 2039, 2040, 2041, 2042, 2043, 2044, 2045, 2046, 2047, 2048, 2049, 2050], \"xaxis\": \"x8\", \"y\": [0.09999999999999959, 0.1050000000000005, 0.1099999999999998, 0.11499999999999967, 0.11999999999999965, 0.1249999999999999, 0.12999999999999987, 0.13499999999999993, 0.14000000000000004, 0.14500000000000016, 0.1500000000000003, 0.1549999999999997, 0.1599999999999997, 0.1649999999999996, 0.17, 0.17499999999999957, 0.18000000000000013, 0.1849999999999996, 0.18999999999999925, 0.1949999999999997, 0.19999999999999982, 0.20000000000000012, 0.19999999999999912, 0.19999999999999987, 0.20000000000000043, 0.20000000000000043, 0.20000000000000015, 0.20000000000000007, 0.20000000000000037, 0.19999999999999998, 0.19999999999999998], \"yaxis\": \"y8\"}, {\"alignmentgroup\": \"True\", \"hovertemplate\": \"Source=PV<br>phaseout=None<br>PV adoption by 2040=50%<br>Year=%{x}<br>Energy share=%{y}<extra></extra>\", \"legendgroup\": \"PV\", \"marker\": {\"color\": \"rgb(102,194,165)\"}, \"name\": \"PV\", \"offsetgroup\": \"PV\", \"orientation\": \"v\", \"showlegend\": false, \"textposition\": \"auto\", \"type\": \"bar\", \"x\": [2020, 2021, 2022, 2023, 2024, 2025, 2026, 2027, 2028, 2029, 2030, 2031, 2032, 2033, 2034, 2035, 2036, 2037, 2038, 2039, 2040, 2041, 2042, 2043, 2044, 2045, 2046, 2047, 2048, 2049, 2050], \"xaxis\": \"x9\", \"y\": [0.09999999999999959, 0.1200000000000001, 0.14000000000000012, 0.15999999999999967, 0.18000000000000094, 0.20000000000000004, 0.2200000000000003, 0.24000000000000038, 0.26000000000000045, 0.2799999999999998, 0.30000000000000004, 0.31999999999999995, 0.3399999999999999, 0.359999999999999, 0.3800000000000007, 0.4, 0.4200000000000005, 0.44, 0.4599999999999999, 0.47999999999999987, 0.5000000000000002, 0.5000000000000002, 0.49999999999999956, 0.5000000000000002, 0.4999999999999992, 0.4999999999999995, 0.5, 0.5, 0.5000000000000007, 0.49999999999999933, 0.5], \"yaxis\": \"y9\"}, {\"alignmentgroup\": \"True\", \"hovertemplate\": \"Source=PV<br>phaseout=by 2040<br>PV adoption by 2040=10%<br>Year=%{x}<br>Energy share=%{y}<extra></extra>\", \"legendgroup\": \"PV\", \"marker\": {\"color\": \"rgb(102,194,165)\"}, \"name\": \"PV\", \"offsetgroup\": \"PV\", \"orientation\": \"v\", \"showlegend\": false, \"textposition\": \"auto\", \"type\": \"bar\", \"x\": [2020, 2021, 2022, 2023, 2024, 2025, 2026, 2027, 2028, 2029, 2030, 2031, 2032, 2033, 2034, 2035, 2036, 2037, 2038, 2039, 2040, 2041, 2042, 2043, 2044, 2045, 2046, 2047, 2048, 2049, 2050], \"xaxis\": \"x4\", \"y\": [0.09999999999999959, 0.09999999999999952, 0.09999999999999988, 0.10000000000000056, 0.10000000000000007, 0.10000000000000019, 0.09999999999999991, 0.09999999999999983, 0.10000000000000024, 0.09999999999999988, 0.09999999999999999, 0.09999999999999959, 0.09999999999999987, 0.10000000000000034, 0.10000000000000017, 0.0999999999999999, 0.10000000000000002, 0.09999999999999999, 0.10000000000000012, 0.09999999999999995, 0.09999999999999976, 0.10000000000000003, 0.09999999999999991, 0.09999999999999987, 0.10000000000000057, 0.1000000000000002, 0.10000000000000044, 0.09999999999999944, 0.1000000000000004, 0.09999999999999966, 0.1], \"yaxis\": \"y4\"}, {\"alignmentgroup\": \"True\", \"hovertemplate\": \"Source=PV<br>phaseout=by 2040<br>PV adoption by 2040=20%<br>Year=%{x}<br>Energy share=%{y}<extra></extra>\", \"legendgroup\": \"PV\", \"marker\": {\"color\": \"rgb(102,194,165)\"}, \"name\": \"PV\", \"offsetgroup\": \"PV\", \"orientation\": \"v\", \"showlegend\": false, \"textposition\": \"auto\", \"type\": \"bar\", \"x\": [2020, 2021, 2022, 2023, 2024, 2025, 2026, 2027, 2028, 2029, 2030, 2031, 2032, 2033, 2034, 2035, 2036, 2037, 2038, 2039, 2040, 2041, 2042, 2043, 2044, 2045, 2046, 2047, 2048, 2049, 2050], \"xaxis\": \"x5\", \"y\": [0.09999999999999959, 0.10500000000000041, 0.10999999999999985, 0.11499999999999985, 0.11999999999999955, 0.12500000000000028, 0.12999999999999987, 0.13499999999999984, 0.1400000000000006, 0.14500000000000016, 0.14999999999999983, 0.1549999999999996, 0.15999999999999984, 0.16499999999999984, 0.17000000000000043, 0.17499999999999952, 0.18000000000000022, 0.18499999999999933, 0.19000000000000053, 0.19499999999999978, 0.19999999999999998, 0.19999999999999998, 0.19999999999999998, 0.20000000000000004, 0.2, 0.19999999999999996, 0.2, 0.19999999999999998, 0.2, 0.20000000000000004, 0.19999999999999998], \"yaxis\": \"y5\"}, {\"alignmentgroup\": \"True\", \"hovertemplate\": \"Source=PV<br>phaseout=by 2040<br>PV adoption by 2040=50%<br>Year=%{x}<br>Energy share=%{y}<extra></extra>\", \"legendgroup\": \"PV\", \"marker\": {\"color\": \"rgb(102,194,165)\"}, \"name\": \"PV\", \"offsetgroup\": \"PV\", \"orientation\": \"v\", \"showlegend\": false, \"textposition\": \"auto\", \"type\": \"bar\", \"x\": [2020, 2021, 2022, 2023, 2024, 2025, 2026, 2027, 2028, 2029, 2030, 2031, 2032, 2033, 2034, 2035, 2036, 2037, 2038, 2039, 2040, 2041, 2042, 2043, 2044, 2045, 2046, 2047, 2048, 2049, 2050], \"xaxis\": \"x6\", \"y\": [0.09999999999999959, 0.12000000000000001, 0.14000000000000012, 0.15999999999999973, 0.18000000000000008, 0.20000000000000007, 0.2200000000000001, 0.24000000000000019, 0.2600000000000001, 0.28000000000000064, 0.30000000000000004, 0.31999999999999984, 0.3399999999999994, 0.36, 0.38000000000000067, 0.3999999999999997, 0.42000000000000026, 0.4400000000000001, 0.45999999999999985, 0.4800000000000006, 0.5, 0.5, 0.5, 0.5, 0.5, 0.5, 0.5, 0.5, 0.5, 0.5, 0.5], \"yaxis\": \"y6\"}, {\"alignmentgroup\": \"True\", \"hovertemplate\": \"Source=PV<br>phaseout=by 2030<br>PV adoption by 2040=10%<br>Year=%{x}<br>Energy share=%{y}<extra></extra>\", \"legendgroup\": \"PV\", \"marker\": {\"color\": \"rgb(102,194,165)\"}, \"name\": \"PV\", \"offsetgroup\": \"PV\", \"orientation\": \"v\", \"showlegend\": false, \"textposition\": \"auto\", \"type\": \"bar\", \"x\": [2020, 2021, 2022, 2023, 2024, 2025, 2026, 2027, 2028, 2029, 2030, 2031, 2032, 2033, 2034, 2035, 2036, 2037, 2038, 2039, 2040, 2041, 2042, 2043, 2044, 2045, 2046, 2047, 2048, 2049, 2050], \"xaxis\": \"x\", \"y\": [0.09999999999999959, 0.10000000000000041, 0.10000000000000012, 0.10000000000000044, 0.10000000000000019, 0.1, 0.09999999999999984, 0.10000000000000017, 0.10000000000000074, 0.10000000000000017, 0.09999999999999998, 0.09999999999999971, 0.09999999999999974, 0.10000000000000006, 0.10000000000000023, 0.10000000000000027, 0.0999999999999999, 0.10000000000000019, 0.10000000000000031, 0.10000000000000009, 0.09999999999999976, 0.10000000000000003, 0.09999999999999991, 0.09999999999999987, 0.10000000000000057, 0.1000000000000002, 0.10000000000000044, 0.09999999999999944, 0.1000000000000004, 0.09999999999999966, 0.1], \"yaxis\": \"y\"}, {\"alignmentgroup\": \"True\", \"hovertemplate\": \"Source=PV<br>phaseout=by 2030<br>PV adoption by 2040=20%<br>Year=%{x}<br>Energy share=%{y}<extra></extra>\", \"legendgroup\": \"PV\", \"marker\": {\"color\": \"rgb(102,194,165)\"}, \"name\": \"PV\", \"offsetgroup\": \"PV\", \"orientation\": \"v\", \"showlegend\": false, \"textposition\": \"auto\", \"type\": \"bar\", \"x\": [2020, 2021, 2022, 2023, 2024, 2025, 2026, 2027, 2028, 2029, 2030, 2031, 2032, 2033, 2034, 2035, 2036, 2037, 2038, 2039, 2040, 2041, 2042, 2043, 2044, 2045, 2046, 2047, 2048, 2049, 2050], \"xaxis\": \"x2\", \"y\": [0.09999999999999959, 0.10500000000000047, 0.10999999999999992, 0.11499999999999982, 0.1199999999999998, 0.1249999999999997, 0.13000000000000003, 0.13499999999999987, 0.1400000000000005, 0.14500000000000052, 0.15000000000000024, 0.1549999999999994, 0.1599999999999995, 0.16499999999999987, 0.17, 0.17499999999999966, 0.1800000000000002, 0.18499999999999966, 0.1899999999999998, 0.19499999999999978, 0.19999999999999998, 0.19999999999999998, 0.19999999999999998, 0.20000000000000004, 0.2, 0.19999999999999996, 0.2, 0.19999999999999998, 0.2, 0.20000000000000004, 0.19999999999999998], \"yaxis\": \"y2\"}, {\"alignmentgroup\": \"True\", \"hovertemplate\": \"Source=PV<br>phaseout=by 2030<br>PV adoption by 2040=50%<br>Year=%{x}<br>Energy share=%{y}<extra></extra>\", \"legendgroup\": \"PV\", \"marker\": {\"color\": \"rgb(102,194,165)\"}, \"name\": \"PV\", \"offsetgroup\": \"PV\", \"orientation\": \"v\", \"showlegend\": false, \"textposition\": \"auto\", \"type\": \"bar\", \"x\": [2020, 2021, 2022, 2023, 2024, 2025, 2026, 2027, 2028, 2029, 2030, 2031, 2032, 2033, 2034, 2035, 2036, 2037, 2038, 2039, 2040, 2041, 2042, 2043, 2044, 2045, 2046, 2047, 2048, 2049, 2050], \"xaxis\": \"x3\", \"y\": [0.09999999999999959, 0.11999999999999994, 0.14000000000000043, 0.15999999999999948, 0.1800000000000002, 0.2000000000000003, 0.22000000000000017, 0.2400000000000002, 0.26000000000000045, 0.28000000000000014, 0.3, 0.3200000000000005, 0.3400000000000006, 0.35999999999999943, 0.38000000000000145, 0.4000000000000002, 0.42000000000000026, 0.4400000000000005, 0.46, 0.48, 0.5, 0.5, 0.5, 0.5, 0.5, 0.5, 0.5, 0.5, 0.5, 0.5, 0.5], \"yaxis\": \"y3\"}, {\"alignmentgroup\": \"True\", \"hovertemplate\": \"Source=Butane<br>phaseout=None<br>PV adoption by 2040=10%<br>Year=%{x}<br>Energy share=%{y}<extra></extra>\", \"legendgroup\": \"Butane\", \"marker\": {\"color\": \"rgb(252,141,98)\"}, \"name\": \"Butane\", \"offsetgroup\": \"Butane\", \"orientation\": \"v\", \"showlegend\": true, \"textposition\": \"auto\", \"type\": \"bar\", \"x\": [2020, 2021, 2022, 2023, 2024, 2025, 2026, 2027, 2028, 2029, 2030, 2031, 2032, 2033, 2034, 2035, 2036, 2037, 2038, 2039, 2040, 2041, 2042, 2043, 2044, 2045, 2046, 2047, 2048, 2049, 2050], \"xaxis\": \"x7\", \"y\": [0.19999999999999918, 0.19333333333333313, 0.1866666666666672, 0.18000000000000002, 0.17333333333333273, 0.1666666666666669, 0.16000000000000042, 0.15333333333333404, 0.14666666666666642, 0.14000000000000037, 0.13333333333333264, 0.1266666666666666, 0.11999999999999991, 0.11333333333333333, 0.10666666666666673, 0.1, 0.09333333333333312, 0.08666666666666671, 0.08000000000000006, 0.07333333333333358, 0.06666666666666646, 0.060000000000000296, 0.05333333333333363, 0.046666666666666724, 0.04000000000000008, 0.03333333333333351, 0.026666666666666578, 0.02000000000000005, 0.013333333333333332, 0.00666666666666667, 0.0], \"yaxis\": \"y7\"}, {\"alignmentgroup\": \"True\", \"hovertemplate\": \"Source=Butane<br>phaseout=None<br>PV adoption by 2040=20%<br>Year=%{x}<br>Energy share=%{y}<extra></extra>\", \"legendgroup\": \"Butane\", \"marker\": {\"color\": \"rgb(252,141,98)\"}, \"name\": \"Butane\", \"offsetgroup\": \"Butane\", \"orientation\": \"v\", \"showlegend\": false, \"textposition\": \"auto\", \"type\": \"bar\", \"x\": [2020, 2021, 2022, 2023, 2024, 2025, 2026, 2027, 2028, 2029, 2030, 2031, 2032, 2033, 2034, 2035, 2036, 2037, 2038, 2039, 2040, 2041, 2042, 2043, 2044, 2045, 2046, 2047, 2048, 2049, 2050], \"xaxis\": \"x8\", \"y\": [0.19999999999999918, 0.19333333333333313, 0.18666666666666654, 0.18000000000000022, 0.17333333333333284, 0.16666666666666666, 0.16000000000000011, 0.1533333333333339, 0.14666666666666614, 0.1399999999999999, 0.13333333333333303, 0.12666666666666687, 0.12000000000000001, 0.11333333333333329, 0.10666666666666685, 0.09999999999999987, 0.0933333333333333, 0.08666666666666686, 0.07999999999999975, 0.07333333333333338, 0.06666666666666654, 0.0600000000000003, 0.05333333333333345, 0.04666666666666676, 0.03999999999999999, 0.03333333333333348, 0.026666666666666623, 0.02000000000000005, 0.013333333333333327, 0.006666666666666667, 0.0], \"yaxis\": \"y8\"}, {\"alignmentgroup\": \"True\", \"hovertemplate\": \"Source=Butane<br>phaseout=None<br>PV adoption by 2040=50%<br>Year=%{x}<br>Energy share=%{y}<extra></extra>\", \"legendgroup\": \"Butane\", \"marker\": {\"color\": \"rgb(252,141,98)\"}, \"name\": \"Butane\", \"offsetgroup\": \"Butane\", \"orientation\": \"v\", \"showlegend\": false, \"textposition\": \"auto\", \"type\": \"bar\", \"x\": [2020, 2021, 2022, 2023, 2024, 2025, 2026, 2027, 2028, 2029, 2030, 2031, 2032, 2033, 2034, 2035, 2036, 2037, 2038, 2039, 2040, 2041, 2042, 2043, 2044, 2045, 2046, 2047, 2048, 2049, 2050], \"xaxis\": \"x9\", \"y\": [0.19999999999999918, 0.19333333333333352, 0.18666666666666662, 0.18000000000000033, 0.17333333333333356, 0.16666666666666652, 0.1600000000000002, 0.15333333333333402, 0.1466666666666662, 0.13999999999999987, 0.1333333333333328, 0.1266666666666666, 0.12000000000000009, 0.11333333333333333, 0.10666666666666685, 0.10000000000000002, 0.09333333333333345, 0.08666666666666663, 0.07999999999999999, 0.07333333333333356, 0.06666666666666644, 0.06000000000000022, 0.053333333333333656, 0.04666666666666679, 0.04000000000000015, 0.03333333333333353, 0.02666666666666661, 0.02000000000000003, 0.013333333333333348, 0.00666666666666666, 0.0], \"yaxis\": \"y9\"}, {\"alignmentgroup\": \"True\", \"hovertemplate\": \"Source=Butane<br>phaseout=by 2040<br>PV adoption by 2040=10%<br>Year=%{x}<br>Energy share=%{y}<extra></extra>\", \"legendgroup\": \"Butane\", \"marker\": {\"color\": \"rgb(252,141,98)\"}, \"name\": \"Butane\", \"offsetgroup\": \"Butane\", \"orientation\": \"v\", \"showlegend\": false, \"textposition\": \"auto\", \"type\": \"bar\", \"x\": [2020, 2021, 2022, 2023, 2024, 2025, 2026, 2027, 2028, 2029, 2030, 2031, 2032, 2033, 2034, 2035, 2036, 2037, 2038, 2039, 2040, 2041, 2042, 2043, 2044, 2045, 2046, 2047, 2048, 2049, 2050], \"xaxis\": \"x4\", \"y\": [0.19999999999999918, 0.18999999999999914, 0.18000000000000002, 0.17000000000000032, 0.16000000000000036, 0.15000000000000008, 0.13999999999999985, 0.12999999999999953, 0.12000000000000005, 0.10999999999999965, 0.09999999999999999, 0.08999999999999996, 0.07999999999999984, 0.07000000000000028, 0.059999999999999935, 0.04999999999999995, 0.04, 0.02999999999999994, 0.019999999999999973, 0.009999999999999995, 0.0, 0.0, 0.0, 0.0, 0.0, 0.0, 0.0, 0.0, 0.0, 0.0, 0.0], \"yaxis\": \"y4\"}, {\"alignmentgroup\": \"True\", \"hovertemplate\": \"Source=Butane<br>phaseout=by 2040<br>PV adoption by 2040=20%<br>Year=%{x}<br>Energy share=%{y}<extra></extra>\", \"legendgroup\": \"Butane\", \"marker\": {\"color\": \"rgb(252,141,98)\"}, \"name\": \"Butane\", \"offsetgroup\": \"Butane\", \"orientation\": \"v\", \"showlegend\": false, \"textposition\": \"auto\", \"type\": \"bar\", \"x\": [2020, 2021, 2022, 2023, 2024, 2025, 2026, 2027, 2028, 2029, 2030, 2031, 2032, 2033, 2034, 2035, 2036, 2037, 2038, 2039, 2040, 2041, 2042, 2043, 2044, 2045, 2046, 2047, 2048, 2049, 2050], \"xaxis\": \"x5\", \"y\": [0.19999999999999918, 0.1899999999999999, 0.1800000000000002, 0.16999999999999998, 0.16000000000000048, 0.15000000000000044, 0.13999999999999974, 0.12999999999999978, 0.12000000000000026, 0.1099999999999996, 0.09999999999999984, 0.08999999999999991, 0.0799999999999999, 0.07000000000000015, 0.06000000000000005, 0.04999999999999991, 0.04, 0.02999999999999995, 0.020000000000000066, 0.010000000000000007, 0.0, 0.0, 0.0, 0.0, 0.0, 0.0, 0.0, 0.0, 0.0, 0.0, 0.0], \"yaxis\": \"y5\"}, {\"alignmentgroup\": \"True\", \"hovertemplate\": \"Source=Butane<br>phaseout=by 2040<br>PV adoption by 2040=50%<br>Year=%{x}<br>Energy share=%{y}<extra></extra>\", \"legendgroup\": \"Butane\", \"marker\": {\"color\": \"rgb(252,141,98)\"}, \"name\": \"Butane\", \"offsetgroup\": \"Butane\", \"orientation\": \"v\", \"showlegend\": false, \"textposition\": \"auto\", \"type\": \"bar\", \"x\": [2020, 2021, 2022, 2023, 2024, 2025, 2026, 2027, 2028, 2029, 2030, 2031, 2032, 2033, 2034, 2035, 2036, 2037, 2038, 2039, 2040, 2041, 2042, 2043, 2044, 2045, 2046, 2047, 2048, 2049, 2050], \"xaxis\": \"x6\", \"y\": [0.19999999999999918, 0.19000000000000028, 0.1800000000000002, 0.16999999999999987, 0.16000000000000053, 0.14999999999999983, 0.1399999999999997, 0.12999999999999987, 0.11999999999999966, 0.10999999999999988, 0.09999999999999998, 0.08999999999999976, 0.07999999999999977, 0.07000000000000027, 0.059999999999999894, 0.04999999999999997, 0.04000000000000003, 0.02999999999999992, 0.019999999999999983, 0.010000000000000044, 0.0, 0.0, 0.0, 0.0, 0.0, 0.0, 0.0, 0.0, 0.0, 0.0, 0.0], \"yaxis\": \"y6\"}, {\"alignmentgroup\": \"True\", \"hovertemplate\": \"Source=Butane<br>phaseout=by 2030<br>PV adoption by 2040=10%<br>Year=%{x}<br>Energy share=%{y}<extra></extra>\", \"legendgroup\": \"Butane\", \"marker\": {\"color\": \"rgb(252,141,98)\"}, \"name\": \"Butane\", \"offsetgroup\": \"Butane\", \"orientation\": \"v\", \"showlegend\": false, \"textposition\": \"auto\", \"type\": \"bar\", \"x\": [2020, 2021, 2022, 2023, 2024, 2025, 2026, 2027, 2028, 2029, 2030, 2031, 2032, 2033, 2034, 2035, 2036, 2037, 2038, 2039, 2040, 2041, 2042, 2043, 2044, 2045, 2046, 2047, 2048, 2049, 2050], \"xaxis\": \"x\", \"y\": [0.19999999999999918, 0.1799999999999999, 0.16000000000000011, 0.14000000000000024, 0.11999999999999961, 0.1, 0.08000000000000007, 0.06000000000000011, 0.040000000000000195, 0.019999999999999993, 0.0, 0.0, 0.0, 0.0, 0.0, 0.0, 0.0, 0.0, 0.0, 0.0, 0.0, 0.0, 0.0, 0.0, 0.0, 0.0, 0.0, 0.0, 0.0, 0.0, 0.0], \"yaxis\": \"y\"}, {\"alignmentgroup\": \"True\", \"hovertemplate\": \"Source=Butane<br>phaseout=by 2030<br>PV adoption by 2040=20%<br>Year=%{x}<br>Energy share=%{y}<extra></extra>\", \"legendgroup\": \"Butane\", \"marker\": {\"color\": \"rgb(252,141,98)\"}, \"name\": \"Butane\", \"offsetgroup\": \"Butane\", \"orientation\": \"v\", \"showlegend\": false, \"textposition\": \"auto\", \"type\": \"bar\", \"x\": [2020, 2021, 2022, 2023, 2024, 2025, 2026, 2027, 2028, 2029, 2030, 2031, 2032, 2033, 2034, 2035, 2036, 2037, 2038, 2039, 2040, 2041, 2042, 2043, 2044, 2045, 2046, 2047, 2048, 2049, 2050], \"xaxis\": \"x2\", \"y\": [0.19999999999999918, 0.1799999999999991, 0.16, 0.1400000000000001, 0.1199999999999998, 0.09999999999999995, 0.08000000000000018, 0.06000000000000004, 0.04000000000000004, 0.019999999999999973, 0.0, 0.0, 0.0, 0.0, 0.0, 0.0, 0.0, 0.0, 0.0, 0.0, 0.0, 0.0, 0.0, 0.0, 0.0, 0.0, 0.0, 0.0, 0.0, 0.0, 0.0], \"yaxis\": \"y2\"}, {\"alignmentgroup\": \"True\", \"hovertemplate\": \"Source=Butane<br>phaseout=by 2030<br>PV adoption by 2040=50%<br>Year=%{x}<br>Energy share=%{y}<extra></extra>\", \"legendgroup\": \"Butane\", \"marker\": {\"color\": \"rgb(252,141,98)\"}, \"name\": \"Butane\", \"offsetgroup\": \"Butane\", \"orientation\": \"v\", \"showlegend\": false, \"textposition\": \"auto\", \"type\": \"bar\", \"x\": [2020, 2021, 2022, 2023, 2024, 2025, 2026, 2027, 2028, 2029, 2030, 2031, 2032, 2033, 2034, 2035, 2036, 2037, 2038, 2039, 2040, 2041, 2042, 2043, 2044, 2045, 2046, 2047, 2048, 2049, 2050], \"xaxis\": \"x3\", \"y\": [0.19999999999999918, 0.1799999999999993, 0.16000000000000025, 0.13999999999999985, 0.11999999999999966, 0.10000000000000014, 0.08000000000000007, 0.060000000000000074, 0.03999999999999991, 0.019999999999999938, 0.0, 0.0, 0.0, 0.0, 0.0, 0.0, 0.0, 0.0, 0.0, 0.0, 0.0, 0.0, 0.0, 0.0, 0.0, 0.0, 0.0, 0.0, 0.0, 0.0, 0.0], \"yaxis\": \"y3\"}, {\"alignmentgroup\": \"True\", \"hovertemplate\": \"Source=Grid<br>phaseout=None<br>PV adoption by 2040=10%<br>Year=%{x}<br>Energy share=%{y}<extra></extra>\", \"legendgroup\": \"Grid\", \"marker\": {\"color\": \"rgb(141,160,203)\"}, \"name\": \"Grid\", \"offsetgroup\": \"Grid\", \"orientation\": \"v\", \"showlegend\": true, \"textposition\": \"auto\", \"type\": \"bar\", \"x\": [2020, 2021, 2022, 2023, 2024, 2025, 2026, 2027, 2028, 2029, 2030, 2031, 2032, 2033, 2034, 2035, 2036, 2037, 2038, 2039, 2040, 2041, 2042, 2043, 2044, 2045, 2046, 2047, 2048, 2049, 2050], \"xaxis\": \"x7\", \"y\": [0.7000000000000013, 0.7066666666666668, 0.7133333333333325, 0.7199999999999999, 0.7266666666666671, 0.7333333333333328, 0.7399999999999995, 0.7466666666666658, 0.7533333333333334, 0.7599999999999995, 0.7666666666666675, 0.7733333333333341, 0.7800000000000004, 0.7866666666666667, 0.7933333333333332, 0.7999999999999999, 0.8066666666666671, 0.8133333333333334, 0.8199999999999997, 0.8266666666666661, 0.8333333333333338, 0.8399999999999995, 0.8466666666666665, 0.8533333333333334, 0.8599999999999994, 0.8666666666666661, 0.8733333333333336, 0.8799999999999999, 0.8866666666666664, 0.8933333333333333, 0.9], \"yaxis\": \"y7\"}, {\"alignmentgroup\": \"True\", \"hovertemplate\": \"Source=Grid<br>phaseout=None<br>PV adoption by 2040=20%<br>Year=%{x}<br>Energy share=%{y}<extra></extra>\", \"legendgroup\": \"Grid\", \"marker\": {\"color\": \"rgb(141,160,203)\"}, \"name\": \"Grid\", \"offsetgroup\": \"Grid\", \"orientation\": \"v\", \"showlegend\": false, \"textposition\": \"auto\", \"type\": \"bar\", \"x\": [2020, 2021, 2022, 2023, 2024, 2025, 2026, 2027, 2028, 2029, 2030, 2031, 2032, 2033, 2034, 2035, 2036, 2037, 2038, 2039, 2040, 2041, 2042, 2043, 2044, 2045, 2046, 2047, 2048, 2049, 2050], \"xaxis\": \"x8\", \"y\": [0.7000000000000013, 0.7016666666666664, 0.7033333333333337, 0.7050000000000002, 0.7066666666666674, 0.7083333333333335, 0.7100000000000001, 0.7116666666666662, 0.7133333333333338, 0.715, 0.7166666666666666, 0.7183333333333335, 0.7200000000000003, 0.7216666666666672, 0.723333333333333, 0.7250000000000005, 0.7266666666666666, 0.7283333333333335, 0.730000000000001, 0.7316666666666669, 0.7333333333333336, 0.7399999999999997, 0.7466666666666675, 0.7533333333333334, 0.7599999999999997, 0.7666666666666662, 0.7733333333333332, 0.78, 0.7866666666666663, 0.7933333333333333, 0.7999999999999999], \"yaxis\": \"y8\"}, {\"alignmentgroup\": \"True\", \"hovertemplate\": \"Source=Grid<br>phaseout=None<br>PV adoption by 2040=50%<br>Year=%{x}<br>Energy share=%{y}<extra></extra>\", \"legendgroup\": \"Grid\", \"marker\": {\"color\": \"rgb(141,160,203)\"}, \"name\": \"Grid\", \"offsetgroup\": \"Grid\", \"orientation\": \"v\", \"showlegend\": false, \"textposition\": \"auto\", \"type\": \"bar\", \"x\": [2020, 2021, 2022, 2023, 2024, 2025, 2026, 2027, 2028, 2029, 2030, 2031, 2032, 2033, 2034, 2035, 2036, 2037, 2038, 2039, 2040, 2041, 2042, 2043, 2044, 2045, 2046, 2047, 2048, 2049, 2050], \"xaxis\": \"x9\", \"y\": [0.7000000000000013, 0.6866666666666664, 0.6733333333333333, 0.66, 0.6466666666666655, 0.6333333333333334, 0.6199999999999994, 0.6066666666666656, 0.5933333333333333, 0.5800000000000003, 0.566666666666667, 0.5533333333333335, 0.54, 0.5266666666666676, 0.5133333333333324, 0.49999999999999994, 0.486666666666666, 0.47333333333333344, 0.46, 0.44666666666666655, 0.4333333333333334, 0.4399999999999996, 0.4466666666666666, 0.45333333333333303, 0.4600000000000005, 0.466666666666667, 0.47333333333333344, 0.4799999999999999, 0.48666666666666597, 0.49333333333333396, 0.5], \"yaxis\": \"y9\"}, {\"alignmentgroup\": \"True\", \"hovertemplate\": \"Source=Grid<br>phaseout=by 2040<br>PV adoption by 2040=10%<br>Year=%{x}<br>Energy share=%{y}<extra></extra>\", \"legendgroup\": \"Grid\", \"marker\": {\"color\": \"rgb(141,160,203)\"}, \"name\": \"Grid\", \"offsetgroup\": \"Grid\", \"orientation\": \"v\", \"showlegend\": false, \"textposition\": \"auto\", \"type\": \"bar\", \"x\": [2020, 2021, 2022, 2023, 2024, 2025, 2026, 2027, 2028, 2029, 2030, 2031, 2032, 2033, 2034, 2035, 2036, 2037, 2038, 2039, 2040, 2041, 2042, 2043, 2044, 2045, 2046, 2047, 2048, 2049, 2050], \"xaxis\": \"x4\", \"y\": [0.7000000000000013, 0.7100000000000013, 0.7200000000000001, 0.7299999999999992, 0.7399999999999995, 0.7499999999999998, 0.7600000000000002, 0.7700000000000006, 0.7799999999999998, 0.7900000000000005, 0.7999999999999999, 0.8100000000000005, 0.8200000000000004, 0.8299999999999995, 0.84, 0.8500000000000002, 0.86, 0.87, 0.8799999999999999, 0.8900000000000001, 0.9000000000000002, 0.8999999999999999, 0.9, 0.9, 0.8999999999999995, 0.8999999999999997, 0.8999999999999995, 0.9000000000000005, 0.8999999999999997, 0.9000000000000004, 0.9], \"yaxis\": \"y4\"}, {\"alignmentgroup\": \"True\", \"hovertemplate\": \"Source=Grid<br>phaseout=by 2040<br>PV adoption by 2040=20%<br>Year=%{x}<br>Energy share=%{y}<extra></extra>\", \"legendgroup\": \"Grid\", \"marker\": {\"color\": \"rgb(141,160,203)\"}, \"name\": \"Grid\", \"offsetgroup\": \"Grid\", \"orientation\": \"v\", \"showlegend\": false, \"textposition\": \"auto\", \"type\": \"bar\", \"x\": [2020, 2021, 2022, 2023, 2024, 2025, 2026, 2027, 2028, 2029, 2030, 2031, 2032, 2033, 2034, 2035, 2036, 2037, 2038, 2039, 2040, 2041, 2042, 2043, 2044, 2045, 2046, 2047, 2048, 2049, 2050], \"xaxis\": \"x5\", \"y\": [0.7000000000000013, 0.7049999999999997, 0.71, 0.7150000000000003, 0.72, 0.7249999999999992, 0.7300000000000004, 0.7350000000000004, 0.7399999999999992, 0.7450000000000002, 0.7500000000000004, 0.7550000000000004, 0.7600000000000002, 0.765, 0.7699999999999995, 0.7750000000000006, 0.7799999999999998, 0.7850000000000007, 0.7899999999999995, 0.7950000000000002, 0.7999999999999999, 0.7999999999999999, 0.7999999999999999, 0.8, 0.8, 0.7999999999999999, 0.8, 0.7999999999999999, 0.7999999999999999, 0.7999999999999999, 0.7999999999999999], \"yaxis\": \"y5\"}, {\"alignmentgroup\": \"True\", \"hovertemplate\": \"Source=Grid<br>phaseout=by 2040<br>PV adoption by 2040=50%<br>Year=%{x}<br>Energy share=%{y}<extra></extra>\", \"legendgroup\": \"Grid\", \"marker\": {\"color\": \"rgb(141,160,203)\"}, \"name\": \"Grid\", \"offsetgroup\": \"Grid\", \"orientation\": \"v\", \"showlegend\": false, \"textposition\": \"auto\", \"type\": \"bar\", \"x\": [2020, 2021, 2022, 2023, 2024, 2025, 2026, 2027, 2028, 2029, 2030, 2031, 2032, 2033, 2034, 2035, 2036, 2037, 2038, 2039, 2040, 2041, 2042, 2043, 2044, 2045, 2046, 2047, 2048, 2049, 2050], \"xaxis\": \"x6\", \"y\": [0.7000000000000013, 0.6899999999999997, 0.6799999999999998, 0.6700000000000004, 0.6599999999999995, 0.65, 0.6400000000000001, 0.63, 0.6200000000000002, 0.6099999999999995, 0.6, 0.5900000000000004, 0.580000000000001, 0.5699999999999998, 0.5599999999999994, 0.5500000000000004, 0.5399999999999997, 0.5299999999999999, 0.5200000000000002, 0.5099999999999995, 0.5, 0.5, 0.5, 0.5, 0.5, 0.5, 0.5, 0.5, 0.5, 0.5, 0.5], \"yaxis\": \"y6\"}, {\"alignmentgroup\": \"True\", \"hovertemplate\": \"Source=Grid<br>phaseout=by 2030<br>PV adoption by 2040=10%<br>Year=%{x}<br>Energy share=%{y}<extra></extra>\", \"legendgroup\": \"Grid\", \"marker\": {\"color\": \"rgb(141,160,203)\"}, \"name\": \"Grid\", \"offsetgroup\": \"Grid\", \"orientation\": \"v\", \"showlegend\": false, \"textposition\": \"auto\", \"type\": \"bar\", \"x\": [2020, 2021, 2022, 2023, 2024, 2025, 2026, 2027, 2028, 2029, 2030, 2031, 2032, 2033, 2034, 2035, 2036, 2037, 2038, 2039, 2040, 2041, 2042, 2043, 2044, 2045, 2046, 2047, 2048, 2049, 2050], \"xaxis\": \"x\", \"y\": [0.7000000000000013, 0.7199999999999996, 0.7399999999999998, 0.7599999999999993, 0.7800000000000001, 0.8, 0.8200000000000001, 0.8399999999999996, 0.8599999999999991, 0.8799999999999998, 0.9, 0.9000000000000004, 0.9000000000000002, 0.9, 0.8999999999999998, 0.8999999999999998, 0.9000000000000001, 0.8999999999999998, 0.8999999999999998, 0.8999999999999999, 0.9000000000000002, 0.8999999999999999, 0.9, 0.9, 0.8999999999999995, 0.8999999999999997, 0.8999999999999995, 0.9000000000000005, 0.8999999999999997, 0.9000000000000004, 0.9], \"yaxis\": \"y\"}, {\"alignmentgroup\": \"True\", \"hovertemplate\": \"Source=Grid<br>phaseout=by 2030<br>PV adoption by 2040=20%<br>Year=%{x}<br>Energy share=%{y}<extra></extra>\", \"legendgroup\": \"Grid\", \"marker\": {\"color\": \"rgb(141,160,203)\"}, \"name\": \"Grid\", \"offsetgroup\": \"Grid\", \"orientation\": \"v\", \"showlegend\": false, \"textposition\": \"auto\", \"type\": \"bar\", \"x\": [2020, 2021, 2022, 2023, 2024, 2025, 2026, 2027, 2028, 2029, 2030, 2031, 2032, 2033, 2034, 2035, 2036, 2037, 2038, 2039, 2040, 2041, 2042, 2043, 2044, 2045, 2046, 2047, 2048, 2049, 2050], \"xaxis\": \"x2\", \"y\": [0.7000000000000013, 0.7150000000000005, 0.7300000000000002, 0.7450000000000001, 0.7600000000000005, 0.7750000000000004, 0.7899999999999998, 0.8050000000000002, 0.8199999999999994, 0.8349999999999995, 0.8499999999999996, 0.8450000000000006, 0.8400000000000004, 0.8350000000000002, 0.83, 0.8250000000000004, 0.8199999999999997, 0.8150000000000003, 0.8100000000000003, 0.8050000000000003, 0.7999999999999999, 0.7999999999999999, 0.7999999999999999, 0.8, 0.8, 0.7999999999999999, 0.8, 0.7999999999999999, 0.7999999999999999, 0.7999999999999999, 0.7999999999999999], \"yaxis\": \"y2\"}, {\"alignmentgroup\": \"True\", \"hovertemplate\": \"Source=Grid<br>phaseout=by 2030<br>PV adoption by 2040=50%<br>Year=%{x}<br>Energy share=%{y}<extra></extra>\", \"legendgroup\": \"Grid\", \"marker\": {\"color\": \"rgb(141,160,203)\"}, \"name\": \"Grid\", \"offsetgroup\": \"Grid\", \"orientation\": \"v\", \"showlegend\": false, \"textposition\": \"auto\", \"type\": \"bar\", \"x\": [2020, 2021, 2022, 2023, 2024, 2025, 2026, 2027, 2028, 2029, 2030, 2031, 2032, 2033, 2034, 2035, 2036, 2037, 2038, 2039, 2040, 2041, 2042, 2043, 2044, 2045, 2046, 2047, 2048, 2049, 2050], \"xaxis\": \"x3\", \"y\": [0.7000000000000013, 0.7000000000000007, 0.6999999999999993, 0.7000000000000006, 0.7000000000000002, 0.6999999999999995, 0.6999999999999997, 0.6999999999999997, 0.6999999999999997, 0.6999999999999998, 0.7, 0.6799999999999994, 0.6599999999999995, 0.6400000000000007, 0.6199999999999986, 0.5999999999999998, 0.5799999999999997, 0.5599999999999995, 0.5399999999999999, 0.52, 0.5, 0.5, 0.5, 0.5, 0.5, 0.5, 0.5, 0.5, 0.5, 0.5, 0.5], \"yaxis\": \"y3\"}],\n",
       "                        {\"annotations\": [{\"font\": {}, \"showarrow\": false, \"text\": \"PV adoption by 2040=10%\", \"x\": 0.15, \"xanchor\": \"center\", \"xref\": \"paper\", \"y\": 0.9999999999999999, \"yanchor\": \"bottom\", \"yref\": \"paper\"}, {\"font\": {}, \"showarrow\": false, \"text\": \"PV adoption by 2040=20%\", \"x\": 0.48999999999999994, \"xanchor\": \"center\", \"xref\": \"paper\", \"y\": 0.9999999999999999, \"yanchor\": \"bottom\", \"yref\": \"paper\"}, {\"font\": {}, \"showarrow\": false, \"text\": \"PV adoption by 2040=50%\", \"x\": 0.83, \"xanchor\": \"center\", \"xref\": \"paper\", \"y\": 0.9999999999999999, \"yanchor\": \"bottom\", \"yref\": \"paper\"}, {\"font\": {}, \"showarrow\": false, \"text\": \"phaseout=by 2030\", \"textangle\": 90, \"x\": 0.98, \"xanchor\": \"left\", \"xref\": \"paper\", \"y\": 0.15333333333333332, \"yanchor\": \"middle\", \"yref\": \"paper\"}, {\"font\": {}, \"showarrow\": false, \"text\": \"phaseout=by 2040\", \"textangle\": 90, \"x\": 0.98, \"xanchor\": \"left\", \"xref\": \"paper\", \"y\": 0.5, \"yanchor\": \"middle\", \"yref\": \"paper\"}, {\"font\": {}, \"showarrow\": false, \"text\": \"phaseout=None\", \"textangle\": 90, \"x\": 0.98, \"xanchor\": \"left\", \"xref\": \"paper\", \"y\": 0.8466666666666666, \"yanchor\": \"middle\", \"yref\": \"paper\"}], \"barmode\": \"relative\", \"legend\": {\"title\": {\"text\": \"Source\"}, \"tracegroupgap\": 0}, \"template\": {\"data\": {\"bar\": [{\"error_x\": {\"color\": \"#2a3f5f\"}, \"error_y\": {\"color\": \"#2a3f5f\"}, \"marker\": {\"line\": {\"color\": \"#E5ECF6\", \"width\": 0.5}}, \"type\": \"bar\"}], \"barpolar\": [{\"marker\": {\"line\": {\"color\": \"#E5ECF6\", \"width\": 0.5}}, \"type\": \"barpolar\"}], \"carpet\": [{\"aaxis\": {\"endlinecolor\": \"#2a3f5f\", \"gridcolor\": \"white\", \"linecolor\": \"white\", \"minorgridcolor\": \"white\", \"startlinecolor\": \"#2a3f5f\"}, \"baxis\": {\"endlinecolor\": \"#2a3f5f\", \"gridcolor\": \"white\", \"linecolor\": \"white\", \"minorgridcolor\": \"white\", \"startlinecolor\": \"#2a3f5f\"}, \"type\": \"carpet\"}], \"choropleth\": [{\"colorbar\": {\"outlinewidth\": 0, \"ticks\": \"\"}, \"type\": \"choropleth\"}], \"contour\": [{\"colorbar\": {\"outlinewidth\": 0, \"ticks\": \"\"}, \"colorscale\": [[0.0, \"#0d0887\"], [0.1111111111111111, \"#46039f\"], [0.2222222222222222, \"#7201a8\"], [0.3333333333333333, \"#9c179e\"], [0.4444444444444444, \"#bd3786\"], [0.5555555555555556, \"#d8576b\"], [0.6666666666666666, \"#ed7953\"], [0.7777777777777778, \"#fb9f3a\"], [0.8888888888888888, \"#fdca26\"], [1.0, \"#f0f921\"]], \"type\": \"contour\"}], \"contourcarpet\": [{\"colorbar\": {\"outlinewidth\": 0, \"ticks\": \"\"}, \"type\": \"contourcarpet\"}], \"heatmap\": [{\"colorbar\": {\"outlinewidth\": 0, \"ticks\": \"\"}, \"colorscale\": [[0.0, \"#0d0887\"], [0.1111111111111111, \"#46039f\"], [0.2222222222222222, \"#7201a8\"], [0.3333333333333333, \"#9c179e\"], [0.4444444444444444, \"#bd3786\"], [0.5555555555555556, \"#d8576b\"], [0.6666666666666666, \"#ed7953\"], [0.7777777777777778, \"#fb9f3a\"], [0.8888888888888888, \"#fdca26\"], [1.0, \"#f0f921\"]], \"type\": \"heatmap\"}], \"heatmapgl\": [{\"colorbar\": {\"outlinewidth\": 0, \"ticks\": \"\"}, \"colorscale\": [[0.0, \"#0d0887\"], [0.1111111111111111, \"#46039f\"], [0.2222222222222222, \"#7201a8\"], [0.3333333333333333, \"#9c179e\"], [0.4444444444444444, \"#bd3786\"], [0.5555555555555556, \"#d8576b\"], [0.6666666666666666, \"#ed7953\"], [0.7777777777777778, \"#fb9f3a\"], [0.8888888888888888, \"#fdca26\"], [1.0, \"#f0f921\"]], \"type\": \"heatmapgl\"}], \"histogram\": [{\"marker\": {\"colorbar\": {\"outlinewidth\": 0, \"ticks\": \"\"}}, \"type\": \"histogram\"}], \"histogram2d\": [{\"colorbar\": {\"outlinewidth\": 0, \"ticks\": \"\"}, \"colorscale\": [[0.0, \"#0d0887\"], [0.1111111111111111, \"#46039f\"], [0.2222222222222222, \"#7201a8\"], [0.3333333333333333, \"#9c179e\"], [0.4444444444444444, \"#bd3786\"], [0.5555555555555556, \"#d8576b\"], [0.6666666666666666, \"#ed7953\"], [0.7777777777777778, \"#fb9f3a\"], [0.8888888888888888, \"#fdca26\"], [1.0, \"#f0f921\"]], \"type\": \"histogram2d\"}], \"histogram2dcontour\": [{\"colorbar\": {\"outlinewidth\": 0, \"ticks\": \"\"}, \"colorscale\": [[0.0, \"#0d0887\"], [0.1111111111111111, \"#46039f\"], [0.2222222222222222, \"#7201a8\"], [0.3333333333333333, \"#9c179e\"], [0.4444444444444444, \"#bd3786\"], [0.5555555555555556, \"#d8576b\"], [0.6666666666666666, \"#ed7953\"], [0.7777777777777778, \"#fb9f3a\"], [0.8888888888888888, \"#fdca26\"], [1.0, \"#f0f921\"]], \"type\": \"histogram2dcontour\"}], \"mesh3d\": [{\"colorbar\": {\"outlinewidth\": 0, \"ticks\": \"\"}, \"type\": \"mesh3d\"}], \"parcoords\": [{\"line\": {\"colorbar\": {\"outlinewidth\": 0, \"ticks\": \"\"}}, \"type\": \"parcoords\"}], \"pie\": [{\"automargin\": true, \"type\": \"pie\"}], \"scatter\": [{\"marker\": {\"colorbar\": {\"outlinewidth\": 0, \"ticks\": \"\"}}, \"type\": \"scatter\"}], \"scatter3d\": [{\"line\": {\"colorbar\": {\"outlinewidth\": 0, \"ticks\": \"\"}}, \"marker\": {\"colorbar\": {\"outlinewidth\": 0, \"ticks\": \"\"}}, \"type\": \"scatter3d\"}], \"scattercarpet\": [{\"marker\": {\"colorbar\": {\"outlinewidth\": 0, \"ticks\": \"\"}}, \"type\": \"scattercarpet\"}], \"scattergeo\": [{\"marker\": {\"colorbar\": {\"outlinewidth\": 0, \"ticks\": \"\"}}, \"type\": \"scattergeo\"}], \"scattergl\": [{\"marker\": {\"colorbar\": {\"outlinewidth\": 0, \"ticks\": \"\"}}, \"type\": \"scattergl\"}], \"scattermapbox\": [{\"marker\": {\"colorbar\": {\"outlinewidth\": 0, \"ticks\": \"\"}}, \"type\": \"scattermapbox\"}], \"scatterpolar\": [{\"marker\": {\"colorbar\": {\"outlinewidth\": 0, \"ticks\": \"\"}}, \"type\": \"scatterpolar\"}], \"scatterpolargl\": [{\"marker\": {\"colorbar\": {\"outlinewidth\": 0, \"ticks\": \"\"}}, \"type\": \"scatterpolargl\"}], \"scatterternary\": [{\"marker\": {\"colorbar\": {\"outlinewidth\": 0, \"ticks\": \"\"}}, \"type\": \"scatterternary\"}], \"surface\": [{\"colorbar\": {\"outlinewidth\": 0, \"ticks\": \"\"}, \"colorscale\": [[0.0, \"#0d0887\"], [0.1111111111111111, \"#46039f\"], [0.2222222222222222, \"#7201a8\"], [0.3333333333333333, \"#9c179e\"], [0.4444444444444444, \"#bd3786\"], [0.5555555555555556, \"#d8576b\"], [0.6666666666666666, \"#ed7953\"], [0.7777777777777778, \"#fb9f3a\"], [0.8888888888888888, \"#fdca26\"], [1.0, \"#f0f921\"]], \"type\": \"surface\"}], \"table\": [{\"cells\": {\"fill\": {\"color\": \"#EBF0F8\"}, \"line\": {\"color\": \"white\"}}, \"header\": {\"fill\": {\"color\": \"#C8D4E3\"}, \"line\": {\"color\": \"white\"}}, \"type\": \"table\"}]}, \"layout\": {\"annotationdefaults\": {\"arrowcolor\": \"#2a3f5f\", \"arrowhead\": 0, \"arrowwidth\": 1}, \"coloraxis\": {\"colorbar\": {\"outlinewidth\": 0, \"ticks\": \"\"}}, \"colorscale\": {\"diverging\": [[0, \"#8e0152\"], [0.1, \"#c51b7d\"], [0.2, \"#de77ae\"], [0.3, \"#f1b6da\"], [0.4, \"#fde0ef\"], [0.5, \"#f7f7f7\"], [0.6, \"#e6f5d0\"], [0.7, \"#b8e186\"], [0.8, \"#7fbc41\"], [0.9, \"#4d9221\"], [1, \"#276419\"]], \"sequential\": [[0.0, \"#0d0887\"], [0.1111111111111111, \"#46039f\"], [0.2222222222222222, \"#7201a8\"], [0.3333333333333333, \"#9c179e\"], [0.4444444444444444, \"#bd3786\"], [0.5555555555555556, \"#d8576b\"], [0.6666666666666666, \"#ed7953\"], [0.7777777777777778, \"#fb9f3a\"], [0.8888888888888888, \"#fdca26\"], [1.0, \"#f0f921\"]], \"sequentialminus\": [[0.0, \"#0d0887\"], [0.1111111111111111, \"#46039f\"], [0.2222222222222222, \"#7201a8\"], [0.3333333333333333, \"#9c179e\"], [0.4444444444444444, \"#bd3786\"], [0.5555555555555556, \"#d8576b\"], [0.6666666666666666, \"#ed7953\"], [0.7777777777777778, \"#fb9f3a\"], [0.8888888888888888, \"#fdca26\"], [1.0, \"#f0f921\"]]}, \"colorway\": [\"#636efa\", \"#EF553B\", \"#00cc96\", \"#ab63fa\", \"#FFA15A\", \"#19d3f3\", \"#FF6692\", \"#B6E880\", \"#FF97FF\", \"#FECB52\"], \"font\": {\"color\": \"#2a3f5f\"}, \"geo\": {\"bgcolor\": \"white\", \"lakecolor\": \"white\", \"landcolor\": \"#E5ECF6\", \"showlakes\": true, \"showland\": true, \"subunitcolor\": \"white\"}, \"hoverlabel\": {\"align\": \"left\"}, \"hovermode\": \"closest\", \"mapbox\": {\"style\": \"light\"}, \"paper_bgcolor\": \"white\", \"plot_bgcolor\": \"#E5ECF6\", \"polar\": {\"angularaxis\": {\"gridcolor\": \"white\", \"linecolor\": \"white\", \"ticks\": \"\"}, \"bgcolor\": \"#E5ECF6\", \"radialaxis\": {\"gridcolor\": \"white\", \"linecolor\": \"white\", \"ticks\": \"\"}}, \"scene\": {\"xaxis\": {\"backgroundcolor\": \"#E5ECF6\", \"gridcolor\": \"white\", \"gridwidth\": 2, \"linecolor\": \"white\", \"showbackground\": true, \"ticks\": \"\", \"zerolinecolor\": \"white\"}, \"yaxis\": {\"backgroundcolor\": \"#E5ECF6\", \"gridcolor\": \"white\", \"gridwidth\": 2, \"linecolor\": \"white\", \"showbackground\": true, \"ticks\": \"\", \"zerolinecolor\": \"white\"}, \"zaxis\": {\"backgroundcolor\": \"#E5ECF6\", \"gridcolor\": \"white\", \"gridwidth\": 2, \"linecolor\": \"white\", \"showbackground\": true, \"ticks\": \"\", \"zerolinecolor\": \"white\"}}, \"shapedefaults\": {\"line\": {\"color\": \"#2a3f5f\"}}, \"ternary\": {\"aaxis\": {\"gridcolor\": \"white\", \"linecolor\": \"white\", \"ticks\": \"\"}, \"baxis\": {\"gridcolor\": \"white\", \"linecolor\": \"white\", \"ticks\": \"\"}, \"bgcolor\": \"#E5ECF6\", \"caxis\": {\"gridcolor\": \"white\", \"linecolor\": \"white\", \"ticks\": \"\"}}, \"title\": {\"x\": 0.05}, \"xaxis\": {\"automargin\": true, \"gridcolor\": \"white\", \"linecolor\": \"white\", \"ticks\": \"\", \"title\": {\"standoff\": 15}, \"zerolinecolor\": \"white\", \"zerolinewidth\": 2}, \"yaxis\": {\"automargin\": true, \"gridcolor\": \"white\", \"linecolor\": \"white\", \"ticks\": \"\", \"title\": {\"standoff\": 15}, \"zerolinecolor\": \"white\", \"zerolinewidth\": 2}}}, \"title\": {\"text\": \"Share of energy sources under different butane phaseout scenarios and PV adoption\"}, \"xaxis\": {\"anchor\": \"y\", \"domain\": [0.0, 0.3], \"title\": {\"text\": \"Year\"}}, \"xaxis2\": {\"anchor\": \"y2\", \"domain\": [0.33999999999999997, 0.6399999999999999], \"matches\": \"x\", \"title\": {\"text\": \"Year\"}}, \"xaxis3\": {\"anchor\": \"y3\", \"domain\": [0.6799999999999999, 0.98], \"matches\": \"x\", \"title\": {\"text\": \"Year\"}}, \"xaxis4\": {\"anchor\": \"y4\", \"domain\": [0.0, 0.3], \"matches\": \"x\", \"showticklabels\": false}, \"xaxis5\": {\"anchor\": \"y5\", \"domain\": [0.33999999999999997, 0.6399999999999999], \"matches\": \"x\", \"showticklabels\": false}, \"xaxis6\": {\"anchor\": \"y6\", \"domain\": [0.6799999999999999, 0.98], \"matches\": \"x\", \"showticklabels\": false}, \"xaxis7\": {\"anchor\": \"y7\", \"domain\": [0.0, 0.3], \"matches\": \"x\", \"showticklabels\": false}, \"xaxis8\": {\"anchor\": \"y8\", \"domain\": [0.33999999999999997, 0.6399999999999999], \"matches\": \"x\", \"showticklabels\": false}, \"xaxis9\": {\"anchor\": \"y9\", \"domain\": [0.6799999999999999, 0.98], \"matches\": \"x\", \"showticklabels\": false}, \"yaxis\": {\"anchor\": \"x\", \"domain\": [0.0, 0.30666666666666664], \"title\": {\"text\": \"Energy share\"}}, \"yaxis2\": {\"anchor\": \"x2\", \"domain\": [0.0, 0.30666666666666664], \"matches\": \"y\", \"showticklabels\": false}, \"yaxis3\": {\"anchor\": \"x3\", \"domain\": [0.0, 0.30666666666666664], \"matches\": \"y\", \"showticklabels\": false}, \"yaxis4\": {\"anchor\": \"x4\", \"domain\": [0.3466666666666666, 0.6533333333333333], \"matches\": \"y\", \"title\": {\"text\": \"Energy share\"}}, \"yaxis5\": {\"anchor\": \"x5\", \"domain\": [0.3466666666666666, 0.6533333333333333], \"matches\": \"y\", \"showticklabels\": false}, \"yaxis6\": {\"anchor\": \"x6\", \"domain\": [0.3466666666666666, 0.6533333333333333], \"matches\": \"y\", \"showticklabels\": false}, \"yaxis7\": {\"anchor\": \"x7\", \"domain\": [0.6933333333333332, 0.9999999999999999], \"matches\": \"y\", \"title\": {\"text\": \"Energy share\"}}, \"yaxis8\": {\"anchor\": \"x8\", \"domain\": [0.6933333333333332, 0.9999999999999999], \"matches\": \"y\", \"showticklabels\": false}, \"yaxis9\": {\"anchor\": \"x9\", \"domain\": [0.6933333333333332, 0.9999999999999999], \"matches\": \"y\", \"showticklabels\": false}},\n",
       "                        {\"responsive\": true}\n",
       "                    ).then(function(){\n",
       "                            \n",
       "var gd = document.getElementById('7d5751cc-d252-413d-aec2-374190c5f317');\n",
       "var x = new MutationObserver(function (mutations, observer) {{\n",
       "        var display = window.getComputedStyle(gd).display;\n",
       "        if (!display || display === 'none') {{\n",
       "            console.log([gd, 'removed!']);\n",
       "            Plotly.purge(gd);\n",
       "            observer.disconnect();\n",
       "        }}\n",
       "}});\n",
       "\n",
       "// Listen for the removal of the full notebook cells\n",
       "var notebookContainer = gd.closest('#notebook-container');\n",
       "if (notebookContainer) {{\n",
       "    x.observe(notebookContainer, {childList: true});\n",
       "}}\n",
       "\n",
       "// Listen for the clearing of the current output cell\n",
       "var outputEl = gd.closest('.output');\n",
       "if (outputEl) {{\n",
       "    x.observe(outputEl, {childList: true});\n",
       "}}\n",
       "\n",
       "                        })\n",
       "                };\n",
       "                });\n",
       "            </script>\n",
       "        </div>"
      ]
     },
     "metadata": {},
     "output_type": "display_data"
    }
   ],
   "source": [
    "dff = all_dfs.groupby(['Year','butane_phaseout', 'pv_adoption'])[['pv_demand(KWh)', 'butane_demand(KWh)', 'grid_demand(KWh)']].sum().reset_index()\n",
    "\n",
    "dff['pv_demand(%)'] = dff['pv_demand(KWh)'] / dff[['pv_demand(KWh)', 'butane_demand(KWh)', 'grid_demand(KWh)']].sum(axis=1)\n",
    "dff['butane_demand(%)'] = dff['butane_demand(KWh)'] / dff[['pv_demand(KWh)', 'butane_demand(KWh)', 'grid_demand(KWh)']].sum(axis=1)\n",
    "dff['grid_demand(%)'] = dff['grid_demand(KWh)'] / dff[['pv_demand(KWh)', 'butane_demand(KWh)', 'grid_demand(KWh)']].sum(axis=1)\n",
    "\n",
    "dff = dff.melt(value_vars=['pv_demand(%)', 'butane_demand(%)', 'grid_demand(%)'], \n",
    "         id_vars=['Year','butane_phaseout', 'pv_adoption'])\n",
    "\n",
    "dff.loc[dff['variable']==\"butane_demand(%)\", 'variable'] = \"Butane\"\n",
    "dff.loc[dff['variable']==\"grid_demand(%)\", 'variable'] = \"Grid\"\n",
    "dff.loc[dff['variable']==\"pv_demand(%)\", 'variable'] = \"PV\"\n",
    "\n",
    "fig = px.bar(dff, x='Year', y='value', color='variable',\n",
    "             facet_col='pv_adoption', facet_row='butane_phaseout', title='Share of energy sources under different butane phaseout scenarios and PV adoption',\n",
    "             color_discrete_sequence=px.colors.qualitative.Set2,\n",
    "             labels={\n",
    "                     \"butane_phaseout\": \"phaseout\",\n",
    "                     \"pv_adoption\": \"PV adoption by 2040\",\n",
    "                     \"value\": \"Energy share\",\n",
    "                     \"variable\": 'Source'\n",
    "                     },\n",
    "             category_orders={'butane_phaseout': ['None', 'by 2040', 'by 2030']},\n",
    "             facet_row_spacing=0.04, # default is 0.07 when facet_col_wrap is used\n",
    "             facet_col_spacing=0.04,\n",
    "            )\n",
    "# fig.for_each_annotation(lambda a: a.update(text=a.text.split(\"=\")[-1]))\n",
    "# fig.update_layout(xaxis={'categoryorder':'total descending'})\n",
    "fig.show()\n",
    "# fig.write_image('EnergyShares.pdf', width=900, height=600)"
   ]
  },
  {
   "cell_type": "code",
   "execution_count": 10,
   "metadata": {},
   "outputs": [
    {
     "data": {
      "text/plain": [
       "Year                                                                  378510\n",
       "water_demand(m3)                                                 1.31544e+11\n",
       "energy_demand(KWh)                                               7.91624e+10\n",
       "pv_elec(KWh)                                                     2.35182e+10\n",
       "grid_elec(KWh)                                                   1.34917e+11\n",
       "butane_cons(tonnes)                                              3.12665e+06\n",
       "butane_FARcost(mMAD)                                                 10422.2\n",
       "PV_new_cap(MW)                                                       2248.59\n",
       "reinv_cap(MW)                                                        1491.85\n",
       "butane_emissions(MtCO2)                                             0.662225\n",
       "grid_emissions(MtCO2)                                                2.37049\n",
       "Total_emissions(MtCO2)                                               3.03271\n",
       "butane_SUBSIDY(mMAD)                                                 20844.4\n",
       "grid_cost(mMAD)                                                       134917\n",
       "PV_Capex(mMAD)                                                       19299.8\n",
       "butane_phaseout            NoneNoneNoneNoneNoneNoneNoneNoneNoneNoneNoneNo...\n",
       "pv_adoption                LowLowLowLowLowLowLowLowLowLowLowLowLowLowLowL...\n",
       "dtype: object"
      ]
     },
     "execution_count": 10,
     "metadata": {},
     "output_type": "execute_result"
    }
   ],
   "source": [
    "all_dfs.sum()"
   ]
  },
  {
   "cell_type": "code",
   "execution_count": 11,
   "metadata": {},
   "outputs": [
    {
     "data": {
      "text/html": [
       "<div>\n",
       "<style scoped>\n",
       "    .dataframe tbody tr th:only-of-type {\n",
       "        vertical-align: middle;\n",
       "    }\n",
       "\n",
       "    .dataframe tbody tr th {\n",
       "        vertical-align: top;\n",
       "    }\n",
       "\n",
       "    .dataframe thead th {\n",
       "        text-align: right;\n",
       "    }\n",
       "</style>\n",
       "<table border=\"1\" class=\"dataframe\">\n",
       "  <thead>\n",
       "    <tr style=\"text-align: right;\">\n",
       "      <th></th>\n",
       "      <th>Year</th>\n",
       "      <th>water_demand(m3)</th>\n",
       "      <th>energy_demand(KWh)</th>\n",
       "      <th>pv_elec(KWh)</th>\n",
       "      <th>grid_elec(KWh)</th>\n",
       "      <th>butane_cons(tonnes)</th>\n",
       "      <th>butane_FARcost(mMAD)</th>\n",
       "      <th>PV_new_cap(MW)</th>\n",
       "      <th>reinv_cap(MW)</th>\n",
       "      <th>butane_emissions(MtCO2)</th>\n",
       "      <th>grid_emissions(MtCO2)</th>\n",
       "      <th>Total_emissions(MtCO2)</th>\n",
       "      <th>butane_SUBSIDY(mMAD)</th>\n",
       "      <th>grid_cost(mMAD)</th>\n",
       "      <th>PV_Capex(mMAD)</th>\n",
       "      <th>butane_phaseout</th>\n",
       "      <th>pv_adoption</th>\n",
       "    </tr>\n",
       "  </thead>\n",
       "  <tbody>\n",
       "    <tr>\n",
       "      <th>0</th>\n",
       "      <td>2020</td>\n",
       "      <td>7.479313e+08</td>\n",
       "      <td>3.503796e+08</td>\n",
       "      <td>7.786213e+07</td>\n",
       "      <td>5.450349e+08</td>\n",
       "      <td>27852.112070</td>\n",
       "      <td>92.840374</td>\n",
       "      <td>93.592417</td>\n",
       "      <td>0.000000</td>\n",
       "      <td>0.005899</td>\n",
       "      <td>0.009576</td>\n",
       "      <td>0.015475</td>\n",
       "      <td>185.680747</td>\n",
       "      <td>545.034886</td>\n",
       "      <td>655.146918</td>\n",
       "      <td>None</td>\n",
       "      <td>Low</td>\n",
       "    </tr>\n",
       "    <tr>\n",
       "      <th>1</th>\n",
       "      <td>2021</td>\n",
       "      <td>7.118628e+08</td>\n",
       "      <td>4.118799e+08</td>\n",
       "      <td>9.152887e+07</td>\n",
       "      <td>6.407021e+08</td>\n",
       "      <td>32740.852396</td>\n",
       "      <td>109.136175</td>\n",
       "      <td>0.080980</td>\n",
       "      <td>0.000000</td>\n",
       "      <td>0.006935</td>\n",
       "      <td>0.011257</td>\n",
       "      <td>0.018192</td>\n",
       "      <td>218.272349</td>\n",
       "      <td>640.702103</td>\n",
       "      <td>0.565497</td>\n",
       "      <td>None</td>\n",
       "      <td>Low</td>\n",
       "    </tr>\n",
       "    <tr>\n",
       "      <th>2</th>\n",
       "      <td>2022</td>\n",
       "      <td>7.201413e+08</td>\n",
       "      <td>4.009355e+08</td>\n",
       "      <td>8.909678e+07</td>\n",
       "      <td>6.236774e+08</td>\n",
       "      <td>31870.865706</td>\n",
       "      <td>106.236219</td>\n",
       "      <td>14.638226</td>\n",
       "      <td>0.000000</td>\n",
       "      <td>0.006750</td>\n",
       "      <td>0.010958</td>\n",
       "      <td>0.017708</td>\n",
       "      <td>212.472438</td>\n",
       "      <td>623.677430</td>\n",
       "      <td>101.757138</td>\n",
       "      <td>None</td>\n",
       "      <td>Low</td>\n",
       "    </tr>\n",
       "    <tr>\n",
       "      <th>3</th>\n",
       "      <td>2023</td>\n",
       "      <td>6.442514e+08</td>\n",
       "      <td>4.298114e+08</td>\n",
       "      <td>9.551365e+07</td>\n",
       "      <td>6.685955e+08</td>\n",
       "      <td>34166.249796</td>\n",
       "      <td>113.887499</td>\n",
       "      <td>0.075571</td>\n",
       "      <td>0.000000</td>\n",
       "      <td>0.007236</td>\n",
       "      <td>0.011747</td>\n",
       "      <td>0.018984</td>\n",
       "      <td>227.774999</td>\n",
       "      <td>668.595546</td>\n",
       "      <td>0.521805</td>\n",
       "      <td>None</td>\n",
       "      <td>Low</td>\n",
       "    </tr>\n",
       "    <tr>\n",
       "      <th>4</th>\n",
       "      <td>2024</td>\n",
       "      <td>6.610189e+08</td>\n",
       "      <td>4.181049e+08</td>\n",
       "      <td>9.291220e+07</td>\n",
       "      <td>6.503854e+08</td>\n",
       "      <td>33235.684045</td>\n",
       "      <td>110.785613</td>\n",
       "      <td>1.887994</td>\n",
       "      <td>0.000000</td>\n",
       "      <td>0.007039</td>\n",
       "      <td>0.011427</td>\n",
       "      <td>0.018467</td>\n",
       "      <td>221.571227</td>\n",
       "      <td>650.385408</td>\n",
       "      <td>12.919921</td>\n",
       "      <td>None</td>\n",
       "      <td>Low</td>\n",
       "    </tr>\n",
       "    <tr>\n",
       "      <th>...</th>\n",
       "      <td>...</td>\n",
       "      <td>...</td>\n",
       "      <td>...</td>\n",
       "      <td>...</td>\n",
       "      <td>...</td>\n",
       "      <td>...</td>\n",
       "      <td>...</td>\n",
       "      <td>...</td>\n",
       "      <td>...</td>\n",
       "      <td>...</td>\n",
       "      <td>...</td>\n",
       "      <td>...</td>\n",
       "      <td>...</td>\n",
       "      <td>...</td>\n",
       "      <td>...</td>\n",
       "      <td>...</td>\n",
       "      <td>...</td>\n",
       "    </tr>\n",
       "    <tr>\n",
       "      <th>181</th>\n",
       "      <td>2046</td>\n",
       "      <td>7.937677e+08</td>\n",
       "      <td>4.637520e+08</td>\n",
       "      <td>2.061120e+08</td>\n",
       "      <td>8.244480e+08</td>\n",
       "      <td>0.000000</td>\n",
       "      <td>0.000000</td>\n",
       "      <td>5.929948</td>\n",
       "      <td>0.132203</td>\n",
       "      <td>0.000000</td>\n",
       "      <td>0.014486</td>\n",
       "      <td>0.014486</td>\n",
       "      <td>0.000000</td>\n",
       "      <td>824.448011</td>\n",
       "      <td>21.319373</td>\n",
       "      <td>Early</td>\n",
       "      <td>High</td>\n",
       "    </tr>\n",
       "    <tr>\n",
       "      <th>182</th>\n",
       "      <td>2047</td>\n",
       "      <td>8.019210e+08</td>\n",
       "      <td>4.557931e+08</td>\n",
       "      <td>2.025747e+08</td>\n",
       "      <td>8.102989e+08</td>\n",
       "      <td>0.000000</td>\n",
       "      <td>0.000000</td>\n",
       "      <td>0.156746</td>\n",
       "      <td>2.934964</td>\n",
       "      <td>0.000000</td>\n",
       "      <td>0.014237</td>\n",
       "      <td>0.014237</td>\n",
       "      <td>0.000000</td>\n",
       "      <td>810.298883</td>\n",
       "      <td>10.682477</td>\n",
       "      <td>Early</td>\n",
       "      <td>High</td>\n",
       "    </tr>\n",
       "    <tr>\n",
       "      <th>183</th>\n",
       "      <td>2048</td>\n",
       "      <td>6.778976e+08</td>\n",
       "      <td>4.581649e+08</td>\n",
       "      <td>2.036288e+08</td>\n",
       "      <td>8.145154e+08</td>\n",
       "      <td>0.000000</td>\n",
       "      <td>0.000000</td>\n",
       "      <td>0.154273</td>\n",
       "      <td>19.004605</td>\n",
       "      <td>0.000000</td>\n",
       "      <td>0.014311</td>\n",
       "      <td>0.014311</td>\n",
       "      <td>0.000000</td>\n",
       "      <td>814.515372</td>\n",
       "      <td>65.303674</td>\n",
       "      <td>Early</td>\n",
       "      <td>High</td>\n",
       "    </tr>\n",
       "    <tr>\n",
       "      <th>184</th>\n",
       "      <td>2049</td>\n",
       "      <td>6.590121e+08</td>\n",
       "      <td>4.577538e+08</td>\n",
       "      <td>2.034461e+08</td>\n",
       "      <td>8.137845e+08</td>\n",
       "      <td>0.000000</td>\n",
       "      <td>0.000000</td>\n",
       "      <td>6.136654</td>\n",
       "      <td>38.750699</td>\n",
       "      <td>0.000000</td>\n",
       "      <td>0.014298</td>\n",
       "      <td>0.014298</td>\n",
       "      <td>0.000000</td>\n",
       "      <td>813.784543</td>\n",
       "      <td>151.575614</td>\n",
       "      <td>Early</td>\n",
       "      <td>High</td>\n",
       "    </tr>\n",
       "    <tr>\n",
       "      <th>185</th>\n",
       "      <td>2050</td>\n",
       "      <td>6.031627e+08</td>\n",
       "      <td>3.422603e+08</td>\n",
       "      <td>1.521157e+08</td>\n",
       "      <td>6.084627e+08</td>\n",
       "      <td>0.000000</td>\n",
       "      <td>0.000000</td>\n",
       "      <td>14.737984</td>\n",
       "      <td>0.212523</td>\n",
       "      <td>0.000000</td>\n",
       "      <td>0.010691</td>\n",
       "      <td>0.010691</td>\n",
       "      <td>0.000000</td>\n",
       "      <td>608.462713</td>\n",
       "      <td>50.233703</td>\n",
       "      <td>Early</td>\n",
       "      <td>High</td>\n",
       "    </tr>\n",
       "  </tbody>\n",
       "</table>\n",
       "<p>186 rows × 17 columns</p>\n",
       "</div>"
      ],
      "text/plain": [
       "     Year  water_demand(m3)  energy_demand(KWh)  pv_elec(KWh)  grid_elec(KWh)  \\\n",
       "0    2020      7.479313e+08        3.503796e+08  7.786213e+07    5.450349e+08   \n",
       "1    2021      7.118628e+08        4.118799e+08  9.152887e+07    6.407021e+08   \n",
       "2    2022      7.201413e+08        4.009355e+08  8.909678e+07    6.236774e+08   \n",
       "3    2023      6.442514e+08        4.298114e+08  9.551365e+07    6.685955e+08   \n",
       "4    2024      6.610189e+08        4.181049e+08  9.291220e+07    6.503854e+08   \n",
       "..    ...               ...                 ...           ...             ...   \n",
       "181  2046      7.937677e+08        4.637520e+08  2.061120e+08    8.244480e+08   \n",
       "182  2047      8.019210e+08        4.557931e+08  2.025747e+08    8.102989e+08   \n",
       "183  2048      6.778976e+08        4.581649e+08  2.036288e+08    8.145154e+08   \n",
       "184  2049      6.590121e+08        4.577538e+08  2.034461e+08    8.137845e+08   \n",
       "185  2050      6.031627e+08        3.422603e+08  1.521157e+08    6.084627e+08   \n",
       "\n",
       "     butane_cons(tonnes)  butane_FARcost(mMAD)  PV_new_cap(MW)  reinv_cap(MW)  \\\n",
       "0           27852.112070             92.840374       93.592417       0.000000   \n",
       "1           32740.852396            109.136175        0.080980       0.000000   \n",
       "2           31870.865706            106.236219       14.638226       0.000000   \n",
       "3           34166.249796            113.887499        0.075571       0.000000   \n",
       "4           33235.684045            110.785613        1.887994       0.000000   \n",
       "..                   ...                   ...             ...            ...   \n",
       "181             0.000000              0.000000        5.929948       0.132203   \n",
       "182             0.000000              0.000000        0.156746       2.934964   \n",
       "183             0.000000              0.000000        0.154273      19.004605   \n",
       "184             0.000000              0.000000        6.136654      38.750699   \n",
       "185             0.000000              0.000000       14.737984       0.212523   \n",
       "\n",
       "     butane_emissions(MtCO2)  grid_emissions(MtCO2)  Total_emissions(MtCO2)  \\\n",
       "0                   0.005899               0.009576                0.015475   \n",
       "1                   0.006935               0.011257                0.018192   \n",
       "2                   0.006750               0.010958                0.017708   \n",
       "3                   0.007236               0.011747                0.018984   \n",
       "4                   0.007039               0.011427                0.018467   \n",
       "..                       ...                    ...                     ...   \n",
       "181                 0.000000               0.014486                0.014486   \n",
       "182                 0.000000               0.014237                0.014237   \n",
       "183                 0.000000               0.014311                0.014311   \n",
       "184                 0.000000               0.014298                0.014298   \n",
       "185                 0.000000               0.010691                0.010691   \n",
       "\n",
       "     butane_SUBSIDY(mMAD)  grid_cost(mMAD)  PV_Capex(mMAD) butane_phaseout  \\\n",
       "0              185.680747       545.034886      655.146918            None   \n",
       "1              218.272349       640.702103        0.565497            None   \n",
       "2              212.472438       623.677430      101.757138            None   \n",
       "3              227.774999       668.595546        0.521805            None   \n",
       "4              221.571227       650.385408       12.919921            None   \n",
       "..                    ...              ...             ...             ...   \n",
       "181              0.000000       824.448011       21.319373           Early   \n",
       "182              0.000000       810.298883       10.682477           Early   \n",
       "183              0.000000       814.515372       65.303674           Early   \n",
       "184              0.000000       813.784543      151.575614           Early   \n",
       "185              0.000000       608.462713       50.233703           Early   \n",
       "\n",
       "    pv_adoption  \n",
       "0           Low  \n",
       "1           Low  \n",
       "2           Low  \n",
       "3           Low  \n",
       "4           Low  \n",
       "..          ...  \n",
       "181        High  \n",
       "182        High  \n",
       "183        High  \n",
       "184        High  \n",
       "185        High  \n",
       "\n",
       "[186 rows x 17 columns]"
      ]
     },
     "execution_count": 11,
     "metadata": {},
     "output_type": "execute_result"
    }
   ],
   "source": [
    "all_dfs"
   ]
  },
  {
   "cell_type": "code",
   "execution_count": null,
   "metadata": {},
   "outputs": [],
   "source": []
  },
  {
   "cell_type": "code",
   "execution_count": 14,
   "metadata": {},
   "outputs": [
    {
     "ename": "KeyError",
     "evalue": "\"None of ['bau_butane_SUBSIDY(mMAD)', 'LP1_butane_SUBSIDY(mMAD)', 'LP2_butane_SUBSIDY(mMAD)', 'bau_PV_Capex(mMAD)', 'LP1_PV_Capex(mMAD)', 'LP2_PV_Capex(mMAD)'] are in the columns\"",
     "output_type": "error",
     "traceback": [
      "\u001b[1;31m---------------------------------------------------------------------------\u001b[0m",
      "\u001b[1;31mKeyError\u001b[0m                                  Traceback (most recent call last)",
      "\u001b[1;32m<ipython-input-14-1cca562e814a>\u001b[0m in \u001b[0;36m<module>\u001b[1;34m\u001b[0m\n\u001b[1;32m----> 1\u001b[1;33m dfcost = all_dfs.reset_index().pivot(index='Year', columns=['water_demand(m3)', 'energy_demand(KWh)', \n\u001b[0m\u001b[0;32m      2\u001b[0m                                      \u001b[1;34m'bau_butane_SUBSIDY(mMAD)'\u001b[0m\u001b[1;33m,\u001b[0m\u001b[1;34m'LP1_butane_SUBSIDY(mMAD)'\u001b[0m\u001b[1;33m,\u001b[0m\u001b[1;34m'LP2_butane_SUBSIDY(mMAD)'\u001b[0m\u001b[1;33m,\u001b[0m\u001b[1;33m\u001b[0m\u001b[1;33m\u001b[0m\u001b[0m\n\u001b[0;32m      3\u001b[0m                                      'bau_PV_Capex(mMAD)','LP1_PV_Capex(mMAD)','LP2_PV_Capex(mMAD)'])\n",
      "\u001b[1;32m~\\AppData\\Local\\Continuum\\anaconda3\\envs\\plotly\\lib\\site-packages\\pandas\\core\\frame.py\u001b[0m in \u001b[0;36mpivot\u001b[1;34m(self, index, columns, values)\u001b[0m\n\u001b[0;32m   6665\u001b[0m         \u001b[1;32mfrom\u001b[0m \u001b[0mpandas\u001b[0m\u001b[1;33m.\u001b[0m\u001b[0mcore\u001b[0m\u001b[1;33m.\u001b[0m\u001b[0mreshape\u001b[0m\u001b[1;33m.\u001b[0m\u001b[0mpivot\u001b[0m \u001b[1;32mimport\u001b[0m \u001b[0mpivot\u001b[0m\u001b[1;33m\u001b[0m\u001b[1;33m\u001b[0m\u001b[0m\n\u001b[0;32m   6666\u001b[0m \u001b[1;33m\u001b[0m\u001b[0m\n\u001b[1;32m-> 6667\u001b[1;33m         \u001b[1;32mreturn\u001b[0m \u001b[0mpivot\u001b[0m\u001b[1;33m(\u001b[0m\u001b[0mself\u001b[0m\u001b[1;33m,\u001b[0m \u001b[0mindex\u001b[0m\u001b[1;33m=\u001b[0m\u001b[0mindex\u001b[0m\u001b[1;33m,\u001b[0m \u001b[0mcolumns\u001b[0m\u001b[1;33m=\u001b[0m\u001b[0mcolumns\u001b[0m\u001b[1;33m,\u001b[0m \u001b[0mvalues\u001b[0m\u001b[1;33m=\u001b[0m\u001b[0mvalues\u001b[0m\u001b[1;33m)\u001b[0m\u001b[1;33m\u001b[0m\u001b[1;33m\u001b[0m\u001b[0m\n\u001b[0m\u001b[0;32m   6668\u001b[0m \u001b[1;33m\u001b[0m\u001b[0m\n\u001b[0;32m   6669\u001b[0m     _shared_docs[\n",
      "\u001b[1;32m~\\AppData\\Local\\Continuum\\anaconda3\\envs\\plotly\\lib\\site-packages\\pandas\\core\\reshape\\pivot.py\u001b[0m in \u001b[0;36mpivot\u001b[1;34m(data, index, columns, values)\u001b[0m\n\u001b[0;32m    455\u001b[0m \u001b[1;33m\u001b[0m\u001b[0m\n\u001b[0;32m    456\u001b[0m         \u001b[0mappend\u001b[0m \u001b[1;33m=\u001b[0m \u001b[0mindex\u001b[0m \u001b[1;32mis\u001b[0m \u001b[1;32mNone\u001b[0m\u001b[1;33m\u001b[0m\u001b[1;33m\u001b[0m\u001b[0m\n\u001b[1;32m--> 457\u001b[1;33m         \u001b[0mindexed\u001b[0m \u001b[1;33m=\u001b[0m \u001b[0mdata\u001b[0m\u001b[1;33m.\u001b[0m\u001b[0mset_index\u001b[0m\u001b[1;33m(\u001b[0m\u001b[0mcols\u001b[0m\u001b[1;33m,\u001b[0m \u001b[0mappend\u001b[0m\u001b[1;33m=\u001b[0m\u001b[0mappend\u001b[0m\u001b[1;33m)\u001b[0m\u001b[1;33m\u001b[0m\u001b[1;33m\u001b[0m\u001b[0m\n\u001b[0m\u001b[0;32m    458\u001b[0m     \u001b[1;32melse\u001b[0m\u001b[1;33m:\u001b[0m\u001b[1;33m\u001b[0m\u001b[1;33m\u001b[0m\u001b[0m\n\u001b[0;32m    459\u001b[0m         \u001b[1;32mif\u001b[0m \u001b[0mindex\u001b[0m \u001b[1;32mis\u001b[0m \u001b[1;32mNone\u001b[0m\u001b[1;33m:\u001b[0m\u001b[1;33m\u001b[0m\u001b[1;33m\u001b[0m\u001b[0m\n",
      "\u001b[1;32m~\\AppData\\Local\\Continuum\\anaconda3\\envs\\plotly\\lib\\site-packages\\pandas\\core\\frame.py\u001b[0m in \u001b[0;36mset_index\u001b[1;34m(self, keys, drop, append, inplace, verify_integrity)\u001b[0m\n\u001b[0;32m   4543\u001b[0m \u001b[1;33m\u001b[0m\u001b[0m\n\u001b[0;32m   4544\u001b[0m         \u001b[1;32mif\u001b[0m \u001b[0mmissing\u001b[0m\u001b[1;33m:\u001b[0m\u001b[1;33m\u001b[0m\u001b[1;33m\u001b[0m\u001b[0m\n\u001b[1;32m-> 4545\u001b[1;33m             \u001b[1;32mraise\u001b[0m \u001b[0mKeyError\u001b[0m\u001b[1;33m(\u001b[0m\u001b[1;34mf\"None of {missing} are in the columns\"\u001b[0m\u001b[1;33m)\u001b[0m\u001b[1;33m\u001b[0m\u001b[1;33m\u001b[0m\u001b[0m\n\u001b[0m\u001b[0;32m   4546\u001b[0m \u001b[1;33m\u001b[0m\u001b[0m\n\u001b[0;32m   4547\u001b[0m         \u001b[1;32mif\u001b[0m \u001b[0minplace\u001b[0m\u001b[1;33m:\u001b[0m\u001b[1;33m\u001b[0m\u001b[1;33m\u001b[0m\u001b[0m\n",
      "\u001b[1;31mKeyError\u001b[0m: \"None of ['bau_butane_SUBSIDY(mMAD)', 'LP1_butane_SUBSIDY(mMAD)', 'LP2_butane_SUBSIDY(mMAD)', 'bau_PV_Capex(mMAD)', 'LP1_PV_Capex(mMAD)', 'LP2_PV_Capex(mMAD)'] are in the columns\""
     ]
    }
   ],
   "source": [
    "dfcost = all_dfs.reset_index().pivot(index='Year', columns=['water_demand(m3)', 'energy_demand(KWh)', \n",
    "                                     'bau_butane_SUBSIDY(mMAD)','LP1_butane_SUBSIDY(mMAD)','LP2_butane_SUBSIDY(mMAD)',\n",
    "                                     'bau_PV_Capex(mMAD)','LP1_PV_Capex(mMAD)','LP2_PV_Capex(mMAD)'])"
   ]
  },
  {
   "cell_type": "code",
   "execution_count": 183,
   "metadata": {},
   "outputs": [],
   "source": [
    "costs = pd.DataFrame({'Year':bau['Year'],\n",
    "                       'Ref-Subs(mMAD)':bau['butane_SUBSIDY(mMAD)'],\n",
    "                       'LatePV10-Subs(mMAD)':latePV10['butane_SUBSIDY(mMAD)'],\n",
    "                        'LatePV20-Subs(mMAD)':latePV20['butane_SUBSIDY(mMAD)'],\n",
    "                        'EarlyPV10-Subs(mMAD)':earlyPV10['butane_SUBSIDY(mMAD)'],\n",
    "                        'EarlyPV20-Subs(mMAD)':earlyPV20['butane_SUBSIDY(mMAD)'],\n",
    "                        'Ref-PVInv(mMAD)':bau['PV_Capex(mMAD)'],\n",
    "                       'LatePV10-PVInv(mMAD)':latePV10['PV_Capex(mMAD)'],\n",
    "                        'LatePV20-PVInv(mMAD)':latePV20['PV_Capex(mMAD)'],\n",
    "                        'EarlyPV10-PVInv(mMAD)':earlyPV10['PV_Capex(mMAD)'],\n",
    "                        'EarlyPV20-PVInv(mMAD)':earlyPV20['PV_Capex(mMAD)'],\n",
    "                     'Ref-PVcap(MW)':(bau['PV_new_cap(MW)']+bau['reinv_cap(MW)']),\n",
    "                       'LatePV10-PVcap(MW)':(latePV10['PV_new_cap(MW)']+latePV10['reinv_cap(MW)']),\n",
    "                        'LatePV20-PVcap(MW)':(latePV20['PV_new_cap(MW)']+latePV20['reinv_cap(MW)']),\n",
    "                        'EarlyPV10-PVcap(MW)':(earlyPV10['PV_new_cap(MW)']+earlyPV10['reinv_cap(MW)']),\n",
    "                        'EarlyPV20-PVcap(MW)':(earlyPV20['PV_new_cap(MW)']+earlyPV20['reinv_cap(MW)'])})\n",
    "\n",
    "costs['Ref-Savings'] = costs['Ref-Subs(mMAD)']-costs['Ref-PVInv(mMAD)']\n",
    "costs['LatePV10-Savings'] = costs['LatePV10-Subs(mMAD)']-costs['LatePV10-PVInv(mMAD)']\n",
    "costs['LatePV20-Savings'] = costs['LatePV20-Subs(mMAD)']-costs['LatePV20-PVInv(mMAD)']\n",
    "costs['EarlyPV10-Savings'] = costs['EarlyPV10-Subs(mMAD)']-costs['EarlyPV10-PVInv(mMAD)']\n",
    "costs['EarlyPV20-Savings'] = costs['EarlyPV20-Subs(mMAD)']-costs['EarlyPV20-PVInv(mMAD)']"
   ]
  },
  {
   "cell_type": "code",
   "execution_count": 184,
   "metadata": {},
   "outputs": [],
   "source": [
    "#costs1= costs.loc[costs['Year'] < 2041]\n",
    "costs.to_csv('cost_summary_all.csv')"
   ]
  },
  {
   "cell_type": "code",
   "execution_count": 134,
   "metadata": {},
   "outputs": [],
   "source": [
    "\n",
    "\n"
   ]
  },
  {
   "cell_type": "markdown",
   "metadata": {},
   "source": [
    "## Baseline Scenario\n",
    "\n",
    "No phaseout of Butane. The distribution of all technologies (Butane, PV and Grid) will continue to be the same as the current distribution which is: \n",
    "\n",
    "* PV = 10% \n",
    "* Butane = 20%\n",
    "* Grid = 70% "
   ]
  },
  {
   "cell_type": "code",
   "execution_count": 93,
   "metadata": {},
   "outputs": [
    {
     "ename": "KeyError",
     "evalue": "'type'",
     "output_type": "error",
     "traceback": [
      "\u001b[1;31m---------------------------------------------------------------------------\u001b[0m",
      "\u001b[1;31mKeyError\u001b[0m                                  Traceback (most recent call last)",
      "\u001b[1;32m~\\AppData\\Local\\Continuum\\anaconda3\\lib\\site-packages\\pandas\\core\\indexes\\base.py\u001b[0m in \u001b[0;36mget_loc\u001b[1;34m(self, key, method, tolerance)\u001b[0m\n\u001b[0;32m   2656\u001b[0m             \u001b[1;32mtry\u001b[0m\u001b[1;33m:\u001b[0m\u001b[1;33m\u001b[0m\u001b[1;33m\u001b[0m\u001b[0m\n\u001b[1;32m-> 2657\u001b[1;33m                 \u001b[1;32mreturn\u001b[0m \u001b[0mself\u001b[0m\u001b[1;33m.\u001b[0m\u001b[0m_engine\u001b[0m\u001b[1;33m.\u001b[0m\u001b[0mget_loc\u001b[0m\u001b[1;33m(\u001b[0m\u001b[0mkey\u001b[0m\u001b[1;33m)\u001b[0m\u001b[1;33m\u001b[0m\u001b[1;33m\u001b[0m\u001b[0m\n\u001b[0m\u001b[0;32m   2658\u001b[0m             \u001b[1;32mexcept\u001b[0m \u001b[0mKeyError\u001b[0m\u001b[1;33m:\u001b[0m\u001b[1;33m\u001b[0m\u001b[1;33m\u001b[0m\u001b[0m\n",
      "\u001b[1;32mpandas/_libs/index.pyx\u001b[0m in \u001b[0;36mpandas._libs.index.IndexEngine.get_loc\u001b[1;34m()\u001b[0m\n",
      "\u001b[1;32mpandas/_libs/index.pyx\u001b[0m in \u001b[0;36mpandas._libs.index.IndexEngine.get_loc\u001b[1;34m()\u001b[0m\n",
      "\u001b[1;32mpandas/_libs/hashtable_class_helper.pxi\u001b[0m in \u001b[0;36mpandas._libs.hashtable.PyObjectHashTable.get_item\u001b[1;34m()\u001b[0m\n",
      "\u001b[1;32mpandas/_libs/hashtable_class_helper.pxi\u001b[0m in \u001b[0;36mpandas._libs.hashtable.PyObjectHashTable.get_item\u001b[1;34m()\u001b[0m\n",
      "\u001b[1;31mKeyError\u001b[0m: 'type'",
      "\nDuring handling of the above exception, another exception occurred:\n",
      "\u001b[1;31mKeyError\u001b[0m                                  Traceback (most recent call last)",
      "\u001b[1;32m<ipython-input-93-8a396b884f3f>\u001b[0m in \u001b[0;36m<module>\u001b[1;34m\u001b[0m\n\u001b[0;32m      1\u001b[0m \u001b[0myear\u001b[0m \u001b[1;33m=\u001b[0m \u001b[1;36m2020\u001b[0m\u001b[1;33m\u001b[0m\u001b[1;33m\u001b[0m\u001b[0m\n\u001b[0;32m      2\u001b[0m \u001b[1;31m#df = bau.df.loc[(bau.df.Year==year)].copy()\u001b[0m\u001b[1;33m\u001b[0m\u001b[1;33m\u001b[0m\u001b[1;33m\u001b[0m\u001b[0m\n\u001b[1;32m----> 3\u001b[1;33m \u001b[0mdf\u001b[0m\u001b[1;33m.\u001b[0m\u001b[0mloc\u001b[0m\u001b[1;33m[\u001b[0m\u001b[0mdf\u001b[0m\u001b[1;33m[\u001b[0m\u001b[1;34m'type'\u001b[0m\u001b[1;33m]\u001b[0m\u001b[1;33m.\u001b[0m\u001b[0mstr\u001b[0m\u001b[1;33m.\u001b[0m\u001b[0mcontains\u001b[0m\u001b[1;33m(\u001b[0m\u001b[1;34m'DS'\u001b[0m\u001b[1;33m)\u001b[0m\u001b[1;33m,\u001b[0m \u001b[1;34m'type'\u001b[0m\u001b[1;33m]\u001b[0m \u001b[1;33m=\u001b[0m \u001b[1;34m'Desalinated water'\u001b[0m\u001b[1;33m\u001b[0m\u001b[1;33m\u001b[0m\u001b[0m\n\u001b[0m\u001b[0;32m      4\u001b[0m \u001b[0mdf\u001b[0m\u001b[1;33m.\u001b[0m\u001b[0mloc\u001b[0m\u001b[1;33m[\u001b[0m\u001b[0mdf\u001b[0m\u001b[1;33m[\u001b[0m\u001b[1;34m'type'\u001b[0m\u001b[1;33m]\u001b[0m\u001b[1;33m.\u001b[0m\u001b[0mstr\u001b[0m\u001b[1;33m.\u001b[0m\u001b[0mcontains\u001b[0m\u001b[1;33m(\u001b[0m\u001b[1;34m'Pipeline'\u001b[0m\u001b[1;33m)\u001b[0m\u001b[1;33m,\u001b[0m \u001b[1;34m'type'\u001b[0m\u001b[1;33m]\u001b[0m \u001b[1;33m=\u001b[0m \u001b[1;34m'Conveyance'\u001b[0m\u001b[1;33m\u001b[0m\u001b[1;33m\u001b[0m\u001b[0m\n\u001b[0;32m      5\u001b[0m \u001b[0mdf\u001b[0m\u001b[1;33m.\u001b[0m\u001b[0mloc\u001b[0m\u001b[1;33m[\u001b[0m\u001b[0mdf\u001b[0m\u001b[1;33m[\u001b[0m\u001b[1;34m'type'\u001b[0m\u001b[1;33m]\u001b[0m\u001b[1;33m.\u001b[0m\u001b[0mstr\u001b[0m\u001b[1;33m.\u001b[0m\u001b[0mcontains\u001b[0m\u001b[1;33m(\u001b[0m\u001b[1;34m'Pipeline'\u001b[0m\u001b[1;33m)\u001b[0m\u001b[1;33m,\u001b[0m \u001b[1;34m'type'\u001b[0m\u001b[1;33m]\u001b[0m \u001b[1;33m=\u001b[0m \u001b[1;34m'Conveyance'\u001b[0m\u001b[1;33m\u001b[0m\u001b[1;33m\u001b[0m\u001b[0m\n",
      "\u001b[1;32m~\\AppData\\Local\\Continuum\\anaconda3\\lib\\site-packages\\pandas\\core\\frame.py\u001b[0m in \u001b[0;36m__getitem__\u001b[1;34m(self, key)\u001b[0m\n\u001b[0;32m   2925\u001b[0m             \u001b[1;32mif\u001b[0m \u001b[0mself\u001b[0m\u001b[1;33m.\u001b[0m\u001b[0mcolumns\u001b[0m\u001b[1;33m.\u001b[0m\u001b[0mnlevels\u001b[0m \u001b[1;33m>\u001b[0m \u001b[1;36m1\u001b[0m\u001b[1;33m:\u001b[0m\u001b[1;33m\u001b[0m\u001b[1;33m\u001b[0m\u001b[0m\n\u001b[0;32m   2926\u001b[0m                 \u001b[1;32mreturn\u001b[0m \u001b[0mself\u001b[0m\u001b[1;33m.\u001b[0m\u001b[0m_getitem_multilevel\u001b[0m\u001b[1;33m(\u001b[0m\u001b[0mkey\u001b[0m\u001b[1;33m)\u001b[0m\u001b[1;33m\u001b[0m\u001b[1;33m\u001b[0m\u001b[0m\n\u001b[1;32m-> 2927\u001b[1;33m             \u001b[0mindexer\u001b[0m \u001b[1;33m=\u001b[0m \u001b[0mself\u001b[0m\u001b[1;33m.\u001b[0m\u001b[0mcolumns\u001b[0m\u001b[1;33m.\u001b[0m\u001b[0mget_loc\u001b[0m\u001b[1;33m(\u001b[0m\u001b[0mkey\u001b[0m\u001b[1;33m)\u001b[0m\u001b[1;33m\u001b[0m\u001b[1;33m\u001b[0m\u001b[0m\n\u001b[0m\u001b[0;32m   2928\u001b[0m             \u001b[1;32mif\u001b[0m \u001b[0mis_integer\u001b[0m\u001b[1;33m(\u001b[0m\u001b[0mindexer\u001b[0m\u001b[1;33m)\u001b[0m\u001b[1;33m:\u001b[0m\u001b[1;33m\u001b[0m\u001b[1;33m\u001b[0m\u001b[0m\n\u001b[0;32m   2929\u001b[0m                 \u001b[0mindexer\u001b[0m \u001b[1;33m=\u001b[0m \u001b[1;33m[\u001b[0m\u001b[0mindexer\u001b[0m\u001b[1;33m]\u001b[0m\u001b[1;33m\u001b[0m\u001b[1;33m\u001b[0m\u001b[0m\n",
      "\u001b[1;32m~\\AppData\\Local\\Continuum\\anaconda3\\lib\\site-packages\\pandas\\core\\indexes\\base.py\u001b[0m in \u001b[0;36mget_loc\u001b[1;34m(self, key, method, tolerance)\u001b[0m\n\u001b[0;32m   2657\u001b[0m                 \u001b[1;32mreturn\u001b[0m \u001b[0mself\u001b[0m\u001b[1;33m.\u001b[0m\u001b[0m_engine\u001b[0m\u001b[1;33m.\u001b[0m\u001b[0mget_loc\u001b[0m\u001b[1;33m(\u001b[0m\u001b[0mkey\u001b[0m\u001b[1;33m)\u001b[0m\u001b[1;33m\u001b[0m\u001b[1;33m\u001b[0m\u001b[0m\n\u001b[0;32m   2658\u001b[0m             \u001b[1;32mexcept\u001b[0m \u001b[0mKeyError\u001b[0m\u001b[1;33m:\u001b[0m\u001b[1;33m\u001b[0m\u001b[1;33m\u001b[0m\u001b[0m\n\u001b[1;32m-> 2659\u001b[1;33m                 \u001b[1;32mreturn\u001b[0m \u001b[0mself\u001b[0m\u001b[1;33m.\u001b[0m\u001b[0m_engine\u001b[0m\u001b[1;33m.\u001b[0m\u001b[0mget_loc\u001b[0m\u001b[1;33m(\u001b[0m\u001b[0mself\u001b[0m\u001b[1;33m.\u001b[0m\u001b[0m_maybe_cast_indexer\u001b[0m\u001b[1;33m(\u001b[0m\u001b[0mkey\u001b[0m\u001b[1;33m)\u001b[0m\u001b[1;33m)\u001b[0m\u001b[1;33m\u001b[0m\u001b[1;33m\u001b[0m\u001b[0m\n\u001b[0m\u001b[0;32m   2660\u001b[0m         \u001b[0mindexer\u001b[0m \u001b[1;33m=\u001b[0m \u001b[0mself\u001b[0m\u001b[1;33m.\u001b[0m\u001b[0mget_indexer\u001b[0m\u001b[1;33m(\u001b[0m\u001b[1;33m[\u001b[0m\u001b[0mkey\u001b[0m\u001b[1;33m]\u001b[0m\u001b[1;33m,\u001b[0m \u001b[0mmethod\u001b[0m\u001b[1;33m=\u001b[0m\u001b[0mmethod\u001b[0m\u001b[1;33m,\u001b[0m \u001b[0mtolerance\u001b[0m\u001b[1;33m=\u001b[0m\u001b[0mtolerance\u001b[0m\u001b[1;33m)\u001b[0m\u001b[1;33m\u001b[0m\u001b[1;33m\u001b[0m\u001b[0m\n\u001b[0;32m   2661\u001b[0m         \u001b[1;32mif\u001b[0m \u001b[0mindexer\u001b[0m\u001b[1;33m.\u001b[0m\u001b[0mndim\u001b[0m \u001b[1;33m>\u001b[0m \u001b[1;36m1\u001b[0m \u001b[1;32mor\u001b[0m \u001b[0mindexer\u001b[0m\u001b[1;33m.\u001b[0m\u001b[0msize\u001b[0m \u001b[1;33m>\u001b[0m \u001b[1;36m1\u001b[0m\u001b[1;33m:\u001b[0m\u001b[1;33m\u001b[0m\u001b[1;33m\u001b[0m\u001b[0m\n",
      "\u001b[1;32mpandas/_libs/index.pyx\u001b[0m in \u001b[0;36mpandas._libs.index.IndexEngine.get_loc\u001b[1;34m()\u001b[0m\n",
      "\u001b[1;32mpandas/_libs/index.pyx\u001b[0m in \u001b[0;36mpandas._libs.index.IndexEngine.get_loc\u001b[1;34m()\u001b[0m\n",
      "\u001b[1;32mpandas/_libs/hashtable_class_helper.pxi\u001b[0m in \u001b[0;36mpandas._libs.hashtable.PyObjectHashTable.get_item\u001b[1;34m()\u001b[0m\n",
      "\u001b[1;32mpandas/_libs/hashtable_class_helper.pxi\u001b[0m in \u001b[0;36mpandas._libs.hashtable.PyObjectHashTable.get_item\u001b[1;34m()\u001b[0m\n",
      "\u001b[1;31mKeyError\u001b[0m: 'type'"
     ]
    }
   ],
   "source": [
    "year = 2020\n",
    "#df = bau.df.loc[(bau.df.Year==year)].copy()\n",
    "df.loc[df['type'].str.contains('DS'), 'type'] = 'Desalinated water'\n",
    "df.loc[df['type'].str.contains('Pipeline'), 'type'] = 'Conveyance'\n",
    "df.loc[df['type'].str.contains('Pipeline'), 'type'] = 'Conveyance'\n",
    "\n",
    "\n",
    "df_group = df.groupby(['Province','type'])[['sswd', 'swpa_e']].sum()/1000000\n",
    "df_group.rename(columns={'sswd': 'Water demand [Mm3]', 'swpa_e': 'Energy demand [GWh]'}, inplace=True)\n",
    "df_group['Energy intensity [kWh/m3]'] = df_group['Energy demand [GWh]'] / df_group['Water demand [Mm3]']\n",
    "# df_group.reset_index(inplace=True)\n",
    "# df_group.to_csv('Sumary for Ref scenario with Desal and no CC.csv')\n",
    "df_group"
   ]
  },
  {
   "cell_type": "markdown",
   "metadata": {},
   "source": [
    "### Step 1: Technologies distribution calculations"
   ]
  },
  {
   "cell_type": "code",
   "execution_count": 7,
   "metadata": {},
   "outputs": [],
   "source": [
    "df = cropland.copy()"
   ]
  },
  {
   "cell_type": "code",
   "execution_count": null,
   "metadata": {},
   "outputs": [],
   "source": [
    "# Original code: \n",
    "pv_change = [0] #the negative sign means increase\n",
    "butane_change = [0]\n",
    "for pv_share in pv_change:\n",
    "    for butane_share in butane_change:\n",
    "        pv_share1 = 0.1\n",
    "        butane_share1 = 0.2\n",
    "        df.start_year = 2020\n",
    "        df.end_year = 2050\n",
    "        bt_rates = {2020: 0, 2030: butane_share*0.5, 2040: butane_share*0.2, 2050: butane_share}\n",
    "        pv_rates = {2020: 0, 2030: pv_share*0.5, 2040: pv_share*0.2, 2050: pv_share}\n",
    "        butane_dist = create_tech_dist(df.start_year, df.end_year, butane_share1, bt_rates, 'polynomial')\n",
    "        pv_dist = create_tech_dist(df.start_year, df.end_year, pv_share1, pv_rates, 'polynomial')\n",
    "        grid_dist = (1-(butane_dist+pv_dist))"
   ]
  },
  {
   "cell_type": "code",
   "execution_count": 184,
   "metadata": {},
   "outputs": [],
   "source": [
    "#This function can be moved to the nexus tool later:\n",
    "\n",
    "def create_tech_dist(iyear, eyear, share1, rates, method, order=2):\n",
    "    tech_dist = pd.DataFrame({'Year': range(iyear, eyear+1)})\n",
    "    if method!='step':\n",
    "        for year, rate in rates.items():\n",
    "            tech_dist.loc[tech_dist.Year==year, 'rate'] = rate\n",
    "        tech_dist['share'] = (1-tech_dist['rate']) * share1\n",
    "        tech_dist['share'] = tech_dist.share.interpolate(method=method, order=order)\n",
    "    else:\n",
    "        for year, rate in rates.items():\n",
    "            tech_dist.loc[tech_dist.Year>=year, 'rate'] = rate\n",
    "        tech_dist['share'] = (1-tech_dist['rate']) * share1\n",
    "    return tech_dist.set_index('Year').share"
   ]
  },
  {
   "cell_type": "code",
   "execution_count": 189,
   "metadata": {},
   "outputs": [],
   "source": [
    "#copy1\n",
    "scenarios = ['bau','late_po','early_po']\n",
    "pv_levels = ['low_PV', 'high_PV']\n",
    "\n",
    "for scenario in scenarios:\n",
    "    for pv_level in pv_levels:\n",
    "        \n",
    "        butane_change ={'bau':0,'late_po':1,'early_po':1 }\n",
    "        butane_share = butane_change[scenario]\n",
    "        \n",
    "        end_year ={'bau':2040,'late_po':2040,'early_po':2040 }\n",
    "        year = end_year[scenario]\n",
    "\n",
    "        pv_change ={'low_PV':0,'high_PV':1}\n",
    "        pv_share = pv_change[pv_level]\n",
    "\n",
    "\n",
    "        pv_change = [-0.3] #the negative sign means increase\n",
    "        butane_change = [1]\n",
    "        for pv_share in pv_change:\n",
    "            for butane_share in butane_change:\n",
    "                pv_share1 = 0.1\n",
    "                butane_share1 = 0.2\n",
    "                df.start_year = 2020\n",
    "                df.mid_year = ((df.start_year+df.end_year)/2)\n",
    "                df.end_year = year\n",
    "                \n",
    "                bt_rates = {df.start_year: 0, df.mid_year: butane_share*0.5, df.end_year: butane_share}\n",
    "                pv_rates = {df.start_year: 0, df.mid_year: pv_share*0.5, df.end_year: pv_share}\n",
    "                \n",
    "                butane_dist = create_tech_dist(df.start_year, df.end_year, butane_share1, bt_rates, 'polynomial')\n",
    "                pv_dist = create_tech_dist(df.start_year, df.end_year, pv_share1, pv_rates, 'polynomial')\n",
    "\n",
    "        "
   ]
  },
  {
   "cell_type": "code",
   "execution_count": 190,
   "metadata": {},
   "outputs": [
    {
     "ename": "ValueError",
     "evalue": "Must have equal len keys and value when setting with an iterable",
     "output_type": "error",
     "traceback": [
      "\u001b[1;31m---------------------------------------------------------------------------\u001b[0m",
      "\u001b[1;31mValueError\u001b[0m                                Traceback (most recent call last)",
      "\u001b[1;32m<ipython-input-190-fd4b9c1beb55>\u001b[0m in \u001b[0;36m<module>\u001b[1;34m\u001b[0m\n\u001b[0;32m     33\u001b[0m                 \u001b[0mbt_rate\u001b[0m\u001b[1;33m=\u001b[0m\u001b[0mbt_rates\u001b[0m\u001b[1;33m[\u001b[0m\u001b[0mscenario\u001b[0m\u001b[1;33m]\u001b[0m\u001b[1;33m\u001b[0m\u001b[1;33m\u001b[0m\u001b[0m\n\u001b[0;32m     34\u001b[0m \u001b[1;33m\u001b[0m\u001b[0m\n\u001b[1;32m---> 35\u001b[1;33m                 \u001b[0mbutane_dist\u001b[0m \u001b[1;33m=\u001b[0m \u001b[0mcreate_tech_dist\u001b[0m\u001b[1;33m(\u001b[0m\u001b[0mdf\u001b[0m\u001b[1;33m.\u001b[0m\u001b[0mstart_year\u001b[0m\u001b[1;33m,\u001b[0m \u001b[0mdf\u001b[0m\u001b[1;33m.\u001b[0m\u001b[0mend_year\u001b[0m\u001b[1;33m,\u001b[0m \u001b[0mbutane_share1\u001b[0m\u001b[1;33m,\u001b[0m \u001b[0mbt_rates\u001b[0m\u001b[1;33m,\u001b[0m \u001b[1;34m'polynomial'\u001b[0m\u001b[1;33m)\u001b[0m\u001b[1;33m\u001b[0m\u001b[1;33m\u001b[0m\u001b[0m\n\u001b[0m\u001b[0;32m     36\u001b[0m                 \u001b[0mpv_dist\u001b[0m \u001b[1;33m=\u001b[0m \u001b[0mcreate_tech_dist\u001b[0m\u001b[1;33m(\u001b[0m\u001b[0mdf\u001b[0m\u001b[1;33m.\u001b[0m\u001b[0mstart_year\u001b[0m\u001b[1;33m,\u001b[0m \u001b[0mdf\u001b[0m\u001b[1;33m.\u001b[0m\u001b[0mend_year\u001b[0m\u001b[1;33m,\u001b[0m \u001b[0mpv_share1\u001b[0m\u001b[1;33m,\u001b[0m \u001b[0mpv_rates\u001b[0m\u001b[1;33m,\u001b[0m \u001b[1;34m'polynomial'\u001b[0m\u001b[1;33m)\u001b[0m\u001b[1;33m\u001b[0m\u001b[1;33m\u001b[0m\u001b[0m\n\u001b[0;32m     37\u001b[0m \u001b[1;33m\u001b[0m\u001b[0m\n",
      "\u001b[1;32m<ipython-input-188-5c7aedf1135d>\u001b[0m in \u001b[0;36mcreate_tech_dist\u001b[1;34m(iyear, eyear, share1, rates, method, order)\u001b[0m\n\u001b[0;32m     20\u001b[0m             \u001b[1;32mif\u001b[0m \u001b[0mmethod\u001b[0m\u001b[1;33m!=\u001b[0m\u001b[1;34m'step'\u001b[0m\u001b[1;33m:\u001b[0m\u001b[1;33m\u001b[0m\u001b[1;33m\u001b[0m\u001b[0m\n\u001b[0;32m     21\u001b[0m                 \u001b[1;32mfor\u001b[0m \u001b[0myear\u001b[0m\u001b[1;33m,\u001b[0m \u001b[0mrate\u001b[0m \u001b[1;32min\u001b[0m \u001b[0mrates\u001b[0m\u001b[1;33m.\u001b[0m\u001b[0mitems\u001b[0m\u001b[1;33m(\u001b[0m\u001b[1;33m)\u001b[0m\u001b[1;33m:\u001b[0m\u001b[1;33m\u001b[0m\u001b[1;33m\u001b[0m\u001b[0m\n\u001b[1;32m---> 22\u001b[1;33m                     \u001b[0mtech_dist\u001b[0m\u001b[1;33m.\u001b[0m\u001b[0mloc\u001b[0m\u001b[1;33m[\u001b[0m\u001b[0mtech_dist\u001b[0m\u001b[1;33m.\u001b[0m\u001b[0mYear\u001b[0m\u001b[1;33m==\u001b[0m\u001b[0myear\u001b[0m\u001b[1;33m,\u001b[0m \u001b[1;34m'rate'\u001b[0m\u001b[1;33m]\u001b[0m \u001b[1;33m=\u001b[0m \u001b[0mrate\u001b[0m\u001b[1;33m\u001b[0m\u001b[1;33m\u001b[0m\u001b[0m\n\u001b[0m\u001b[0;32m     23\u001b[0m                 \u001b[0mtech_dist\u001b[0m\u001b[1;33m[\u001b[0m\u001b[1;34m'share'\u001b[0m\u001b[1;33m]\u001b[0m \u001b[1;33m=\u001b[0m \u001b[1;33m(\u001b[0m\u001b[1;36m1\u001b[0m\u001b[1;33m-\u001b[0m\u001b[0mtech_dist\u001b[0m\u001b[1;33m[\u001b[0m\u001b[1;34m'rate'\u001b[0m\u001b[1;33m]\u001b[0m\u001b[1;33m)\u001b[0m \u001b[1;33m*\u001b[0m \u001b[0mshare1\u001b[0m\u001b[1;33m\u001b[0m\u001b[1;33m\u001b[0m\u001b[0m\n\u001b[0;32m     24\u001b[0m                 \u001b[0mtech_dist\u001b[0m\u001b[1;33m[\u001b[0m\u001b[1;34m'share'\u001b[0m\u001b[1;33m]\u001b[0m \u001b[1;33m=\u001b[0m \u001b[0mtech_dist\u001b[0m\u001b[1;33m.\u001b[0m\u001b[0mshare\u001b[0m\u001b[1;33m.\u001b[0m\u001b[0minterpolate\u001b[0m\u001b[1;33m(\u001b[0m\u001b[0mmethod\u001b[0m\u001b[1;33m=\u001b[0m\u001b[0mmethod\u001b[0m\u001b[1;33m,\u001b[0m \u001b[0morder\u001b[0m\u001b[1;33m=\u001b[0m\u001b[0morder\u001b[0m\u001b[1;33m)\u001b[0m\u001b[1;33m\u001b[0m\u001b[1;33m\u001b[0m\u001b[0m\n",
      "\u001b[1;32m~\\AppData\\Local\\Continuum\\anaconda3\\lib\\site-packages\\pandas\\core\\indexing.py\u001b[0m in \u001b[0;36m__setitem__\u001b[1;34m(self, key, value)\u001b[0m\n\u001b[0;32m    188\u001b[0m             \u001b[0mkey\u001b[0m \u001b[1;33m=\u001b[0m \u001b[0mcom\u001b[0m\u001b[1;33m.\u001b[0m\u001b[0mapply_if_callable\u001b[0m\u001b[1;33m(\u001b[0m\u001b[0mkey\u001b[0m\u001b[1;33m,\u001b[0m \u001b[0mself\u001b[0m\u001b[1;33m.\u001b[0m\u001b[0mobj\u001b[0m\u001b[1;33m)\u001b[0m\u001b[1;33m\u001b[0m\u001b[1;33m\u001b[0m\u001b[0m\n\u001b[0;32m    189\u001b[0m         \u001b[0mindexer\u001b[0m \u001b[1;33m=\u001b[0m \u001b[0mself\u001b[0m\u001b[1;33m.\u001b[0m\u001b[0m_get_setitem_indexer\u001b[0m\u001b[1;33m(\u001b[0m\u001b[0mkey\u001b[0m\u001b[1;33m)\u001b[0m\u001b[1;33m\u001b[0m\u001b[1;33m\u001b[0m\u001b[0m\n\u001b[1;32m--> 190\u001b[1;33m         \u001b[0mself\u001b[0m\u001b[1;33m.\u001b[0m\u001b[0m_setitem_with_indexer\u001b[0m\u001b[1;33m(\u001b[0m\u001b[0mindexer\u001b[0m\u001b[1;33m,\u001b[0m \u001b[0mvalue\u001b[0m\u001b[1;33m)\u001b[0m\u001b[1;33m\u001b[0m\u001b[1;33m\u001b[0m\u001b[0m\n\u001b[0m\u001b[0;32m    191\u001b[0m \u001b[1;33m\u001b[0m\u001b[0m\n\u001b[0;32m    192\u001b[0m     \u001b[1;32mdef\u001b[0m \u001b[0m_validate_key\u001b[0m\u001b[1;33m(\u001b[0m\u001b[0mself\u001b[0m\u001b[1;33m,\u001b[0m \u001b[0mkey\u001b[0m\u001b[1;33m,\u001b[0m \u001b[0maxis\u001b[0m\u001b[1;33m)\u001b[0m\u001b[1;33m:\u001b[0m\u001b[1;33m\u001b[0m\u001b[1;33m\u001b[0m\u001b[0m\n",
      "\u001b[1;32m~\\AppData\\Local\\Continuum\\anaconda3\\lib\\site-packages\\pandas\\core\\indexing.py\u001b[0m in \u001b[0;36m_setitem_with_indexer\u001b[1;34m(self, indexer, value)\u001b[0m\n\u001b[0;32m    364\u001b[0m                         new_indexer = convert_from_missing_indexer_tuple(\n\u001b[0;32m    365\u001b[0m                             indexer, self.obj.axes)\n\u001b[1;32m--> 366\u001b[1;33m                         \u001b[0mself\u001b[0m\u001b[1;33m.\u001b[0m\u001b[0m_setitem_with_indexer\u001b[0m\u001b[1;33m(\u001b[0m\u001b[0mnew_indexer\u001b[0m\u001b[1;33m,\u001b[0m \u001b[0mvalue\u001b[0m\u001b[1;33m)\u001b[0m\u001b[1;33m\u001b[0m\u001b[1;33m\u001b[0m\u001b[0m\n\u001b[0m\u001b[0;32m    367\u001b[0m \u001b[1;33m\u001b[0m\u001b[0m\n\u001b[0;32m    368\u001b[0m                         \u001b[1;32mreturn\u001b[0m \u001b[0mself\u001b[0m\u001b[1;33m.\u001b[0m\u001b[0mobj\u001b[0m\u001b[1;33m\u001b[0m\u001b[1;33m\u001b[0m\u001b[0m\n",
      "\u001b[1;32m~\\AppData\\Local\\Continuum\\anaconda3\\lib\\site-packages\\pandas\\core\\indexing.py\u001b[0m in \u001b[0;36m_setitem_with_indexer\u001b[1;34m(self, indexer, value)\u001b[0m\n\u001b[0;32m    609\u001b[0m \u001b[1;33m\u001b[0m\u001b[0m\n\u001b[0;32m    610\u001b[0m                     \u001b[1;32mif\u001b[0m \u001b[0mlen\u001b[0m\u001b[1;33m(\u001b[0m\u001b[0mlabels\u001b[0m\u001b[1;33m)\u001b[0m \u001b[1;33m!=\u001b[0m \u001b[0mlen\u001b[0m\u001b[1;33m(\u001b[0m\u001b[0mvalue\u001b[0m\u001b[1;33m)\u001b[0m\u001b[1;33m:\u001b[0m\u001b[1;33m\u001b[0m\u001b[1;33m\u001b[0m\u001b[0m\n\u001b[1;32m--> 611\u001b[1;33m                         raise ValueError('Must have equal len keys and value '\n\u001b[0m\u001b[0;32m    612\u001b[0m                                          'when setting with an iterable')\n\u001b[0;32m    613\u001b[0m \u001b[1;33m\u001b[0m\u001b[0m\n",
      "\u001b[1;31mValueError\u001b[0m: Must have equal len keys and value when setting with an iterable"
     ]
    }
   ],
   "source": [
    "#copy2\n",
    "scenarios = ['bau','late_po','early_po']\n",
    "pv_levels = ['low_PV', 'high_PV']\n",
    "\n",
    "for scenario in scenarios:\n",
    "    for pv_level in pv_levels:\n",
    "        \n",
    "        butane_change ={'bau':0,'late_po':1,'early_po':1 }\n",
    "        butane_share = butane_change[scenario]\n",
    "        \n",
    "        end_year ={'bau':2050,'late_po':2040,'early_po':2040 }\n",
    "        year = end_year[scenario]\n",
    "\n",
    "        pv_change ={'low_PV':0,'high_PV':1}\n",
    "        pv_share = pv_change[pv_level]\n",
    "        \n",
    "        pv_change = [-0.3] #the negative sign means increase\n",
    "        butane_change = [1]\n",
    "        for pv_share in pv_change:\n",
    "            for butane_share in butane_change:\n",
    "                pv_share1 = 0.1\n",
    "                butane_share1 = 0.2\n",
    "                df.start_year = 2020\n",
    "                df.end_year = 2050\n",
    "                \n",
    "                bt_bau = {2020: 0, 2025: 0, 2030: 0, 2040: 0, 2050: 0}\n",
    "                bt_early = {2020: 0, 2025: butane_share*0.7, 2030: butane_share, 2040: butane_share*1.1, 2050: butane_share*1.2}\n",
    "                bt_late = {2020: 0, 2030: butane_share*0.5, 2040: butane_share, 2050: butane_share*1.2}\n",
    "                \n",
    "                pv_rates = {2020: 0, 2025: pv_share*0.7, 2030: pv_share*0.5, 2040: pv_share*0.3, 2050: pv_share}\n",
    "                \n",
    "                bt_rates ={'bau':bt_bau,'late_po':bt_late,'early_po':bt_early }\n",
    "                bt_rate=bt_rates[scenario]\n",
    "                \n",
    "                butane_dist = create_tech_dist(df.start_year, df.end_year, butane_share1, bt_rates, 'polynomial')\n",
    "                pv_dist = create_tech_dist(df.start_year, df.end_year, pv_share1, pv_rates, 'polynomial')\n",
    "\n",
    " "
   ]
  },
  {
   "cell_type": "code",
   "execution_count": 179,
   "metadata": {},
   "outputs": [],
   "source": [
    "def create_learning_curve(iyear, eyear, cc, rates, method, order=2):\n",
    "    learning_curve = pd.DataFrame({'Year': range(iyear, eyear+1)})\n",
    "    if method!='step':\n",
    "        for year, rate in rates.items():\n",
    "            learning_curve.loc[learning_curve.Year==year, 'rate'] = rate\n",
    "        learning_curve['capital_cost'] = (1-learning_curve['rate']) * cc\n",
    "        learning_curve['capital_cost'] = learning_curve.capital_cost.interpolate(method=method, order=order)\n",
    "    else:\n",
    "        for year, rate in rates.items():\n",
    "            learning_curve.loc[learning_curve.Year>=year, 'rate'] = rate\n",
    "        learning_curve['capital_cost'] = (1-learning_curve['rate']) * cc\n",
    "    return learning_curve.set_index('Year').capital_cost"
   ]
  },
  {
   "cell_type": "code",
   "execution_count": 180,
   "metadata": {},
   "outputs": [],
   "source": [
    "# The capital cost of PV in Morocco is 7 MAD/ Wp  (excluding tax) = 7000 (MAD/KW) or = 7 (mMAD/MW)\n",
    "\n",
    "pv_rate = 0.3 #This assumes 30% drop in PV CAPEX by 2040. \n",
    "cc = 7\n",
    "pv_cf = 0.25\n",
    "pv_life=15\n",
    "df.start_year=2020\n",
    "df.end_year=2050\n",
    "#capital_cost = 1000\n",
    "rates = {2020: 0, 2030: pv_rate*0.3, 2040: pv_rate, 2050: pv_rate*1.3}\n",
    "cc_solar_curve = create_learning_curve(df.start_year, df.end_year, cc, rates, 'polynomial')\n",
    "om_cost=0.01 \n",
    "efficiency=1"
   ]
  },
  {
   "cell_type": "code",
   "execution_count": 181,
   "metadata": {},
   "outputs": [
    {
     "data": {
      "text/html": [
       "<div>\n",
       "<style scoped>\n",
       "    .dataframe tbody tr th:only-of-type {\n",
       "        vertical-align: middle;\n",
       "    }\n",
       "\n",
       "    .dataframe tbody tr th {\n",
       "        vertical-align: top;\n",
       "    }\n",
       "\n",
       "    .dataframe thead th {\n",
       "        text-align: right;\n",
       "    }\n",
       "</style>\n",
       "<table border=\"1\" class=\"dataframe\">\n",
       "  <thead>\n",
       "    <tr style=\"text-align: right;\">\n",
       "      <th></th>\n",
       "      <th>butane_share</th>\n",
       "      <th>pv_share</th>\n",
       "      <th>grid_share</th>\n",
       "      <th>pv_cc</th>\n",
       "    </tr>\n",
       "    <tr>\n",
       "      <th>Year</th>\n",
       "      <th></th>\n",
       "      <th></th>\n",
       "      <th></th>\n",
       "      <th></th>\n",
       "    </tr>\n",
       "  </thead>\n",
       "  <tbody>\n",
       "    <tr>\n",
       "      <th>2020</th>\n",
       "      <td>0.20000</td>\n",
       "      <td>0.100000</td>\n",
       "      <td>0.700000</td>\n",
       "      <td>7.0000</td>\n",
       "    </tr>\n",
       "    <tr>\n",
       "      <th>2021</th>\n",
       "      <td>0.19045</td>\n",
       "      <td>0.106721</td>\n",
       "      <td>0.702829</td>\n",
       "      <td>6.9874</td>\n",
       "    </tr>\n",
       "    <tr>\n",
       "      <th>2022</th>\n",
       "      <td>0.18080</td>\n",
       "      <td>0.112182</td>\n",
       "      <td>0.707018</td>\n",
       "      <td>6.9636</td>\n",
       "    </tr>\n",
       "    <tr>\n",
       "      <th>2023</th>\n",
       "      <td>0.17105</td>\n",
       "      <td>0.116382</td>\n",
       "      <td>0.712568</td>\n",
       "      <td>6.9286</td>\n",
       "    </tr>\n",
       "    <tr>\n",
       "      <th>2024</th>\n",
       "      <td>0.16120</td>\n",
       "      <td>0.119321</td>\n",
       "      <td>0.719479</td>\n",
       "      <td>6.8824</td>\n",
       "    </tr>\n",
       "    <tr>\n",
       "      <th>2025</th>\n",
       "      <td>0.15125</td>\n",
       "      <td>0.121000</td>\n",
       "      <td>0.727750</td>\n",
       "      <td>6.8250</td>\n",
       "    </tr>\n",
       "    <tr>\n",
       "      <th>2026</th>\n",
       "      <td>0.14120</td>\n",
       "      <td>0.121418</td>\n",
       "      <td>0.737382</td>\n",
       "      <td>6.7564</td>\n",
       "    </tr>\n",
       "    <tr>\n",
       "      <th>2027</th>\n",
       "      <td>0.13105</td>\n",
       "      <td>0.120576</td>\n",
       "      <td>0.748374</td>\n",
       "      <td>6.6766</td>\n",
       "    </tr>\n",
       "    <tr>\n",
       "      <th>2028</th>\n",
       "      <td>0.12080</td>\n",
       "      <td>0.118654</td>\n",
       "      <td>0.760546</td>\n",
       "      <td>6.5856</td>\n",
       "    </tr>\n",
       "    <tr>\n",
       "      <th>2029</th>\n",
       "      <td>0.11045</td>\n",
       "      <td>0.116735</td>\n",
       "      <td>0.772815</td>\n",
       "      <td>6.4834</td>\n",
       "    </tr>\n",
       "    <tr>\n",
       "      <th>2030</th>\n",
       "      <td>0.10000</td>\n",
       "      <td>0.115000</td>\n",
       "      <td>0.785000</td>\n",
       "      <td>6.3700</td>\n",
       "    </tr>\n",
       "    <tr>\n",
       "      <th>2031</th>\n",
       "      <td>0.08945</td>\n",
       "      <td>0.113449</td>\n",
       "      <td>0.797101</td>\n",
       "      <td>6.2454</td>\n",
       "    </tr>\n",
       "    <tr>\n",
       "      <th>2032</th>\n",
       "      <td>0.07880</td>\n",
       "      <td>0.112082</td>\n",
       "      <td>0.809118</td>\n",
       "      <td>6.1096</td>\n",
       "    </tr>\n",
       "    <tr>\n",
       "      <th>2033</th>\n",
       "      <td>0.06805</td>\n",
       "      <td>0.110899</td>\n",
       "      <td>0.821051</td>\n",
       "      <td>5.9626</td>\n",
       "    </tr>\n",
       "    <tr>\n",
       "      <th>2034</th>\n",
       "      <td>0.05720</td>\n",
       "      <td>0.109901</td>\n",
       "      <td>0.832899</td>\n",
       "      <td>5.8044</td>\n",
       "    </tr>\n",
       "    <tr>\n",
       "      <th>2035</th>\n",
       "      <td>0.04625</td>\n",
       "      <td>0.109086</td>\n",
       "      <td>0.844664</td>\n",
       "      <td>5.6350</td>\n",
       "    </tr>\n",
       "    <tr>\n",
       "      <th>2036</th>\n",
       "      <td>0.03560</td>\n",
       "      <td>0.108504</td>\n",
       "      <td>0.855896</td>\n",
       "      <td>5.4656</td>\n",
       "    </tr>\n",
       "    <tr>\n",
       "      <th>2037</th>\n",
       "      <td>0.02565</td>\n",
       "      <td>0.108205</td>\n",
       "      <td>0.866145</td>\n",
       "      <td>5.3074</td>\n",
       "    </tr>\n",
       "    <tr>\n",
       "      <th>2038</th>\n",
       "      <td>0.01640</td>\n",
       "      <td>0.108187</td>\n",
       "      <td>0.875413</td>\n",
       "      <td>5.1604</td>\n",
       "    </tr>\n",
       "    <tr>\n",
       "      <th>2039</th>\n",
       "      <td>0.00785</td>\n",
       "      <td>0.108453</td>\n",
       "      <td>0.883697</td>\n",
       "      <td>5.0246</td>\n",
       "    </tr>\n",
       "    <tr>\n",
       "      <th>2040</th>\n",
       "      <td>0.00000</td>\n",
       "      <td>0.109000</td>\n",
       "      <td>0.891000</td>\n",
       "      <td>4.9000</td>\n",
       "    </tr>\n",
       "    <tr>\n",
       "      <th>2041</th>\n",
       "      <td>0.00000</td>\n",
       "      <td>0.109830</td>\n",
       "      <td>0.890170</td>\n",
       "      <td>4.7866</td>\n",
       "    </tr>\n",
       "    <tr>\n",
       "      <th>2042</th>\n",
       "      <td>0.00000</td>\n",
       "      <td>0.110942</td>\n",
       "      <td>0.889058</td>\n",
       "      <td>4.6844</td>\n",
       "    </tr>\n",
       "    <tr>\n",
       "      <th>2043</th>\n",
       "      <td>0.00000</td>\n",
       "      <td>0.112336</td>\n",
       "      <td>0.887664</td>\n",
       "      <td>4.5934</td>\n",
       "    </tr>\n",
       "    <tr>\n",
       "      <th>2044</th>\n",
       "      <td>0.00000</td>\n",
       "      <td>0.114013</td>\n",
       "      <td>0.885987</td>\n",
       "      <td>4.5136</td>\n",
       "    </tr>\n",
       "    <tr>\n",
       "      <th>2045</th>\n",
       "      <td>0.00000</td>\n",
       "      <td>0.115971</td>\n",
       "      <td>0.884029</td>\n",
       "      <td>4.4450</td>\n",
       "    </tr>\n",
       "    <tr>\n",
       "      <th>2046</th>\n",
       "      <td>0.00000</td>\n",
       "      <td>0.118213</td>\n",
       "      <td>0.881787</td>\n",
       "      <td>4.3876</td>\n",
       "    </tr>\n",
       "    <tr>\n",
       "      <th>2047</th>\n",
       "      <td>0.00000</td>\n",
       "      <td>0.120736</td>\n",
       "      <td>0.879264</td>\n",
       "      <td>4.3414</td>\n",
       "    </tr>\n",
       "    <tr>\n",
       "      <th>2048</th>\n",
       "      <td>0.00000</td>\n",
       "      <td>0.123542</td>\n",
       "      <td>0.876458</td>\n",
       "      <td>4.3064</td>\n",
       "    </tr>\n",
       "    <tr>\n",
       "      <th>2049</th>\n",
       "      <td>0.00000</td>\n",
       "      <td>0.126630</td>\n",
       "      <td>0.873370</td>\n",
       "      <td>4.2826</td>\n",
       "    </tr>\n",
       "    <tr>\n",
       "      <th>2050</th>\n",
       "      <td>0.00000</td>\n",
       "      <td>0.130000</td>\n",
       "      <td>0.870000</td>\n",
       "      <td>4.2700</td>\n",
       "    </tr>\n",
       "  </tbody>\n",
       "</table>\n",
       "</div>"
      ],
      "text/plain": [
       "      butane_share  pv_share  grid_share   pv_cc\n",
       "Year                                            \n",
       "2020       0.20000  0.100000    0.700000  7.0000\n",
       "2021       0.19045  0.106721    0.702829  6.9874\n",
       "2022       0.18080  0.112182    0.707018  6.9636\n",
       "2023       0.17105  0.116382    0.712568  6.9286\n",
       "2024       0.16120  0.119321    0.719479  6.8824\n",
       "2025       0.15125  0.121000    0.727750  6.8250\n",
       "2026       0.14120  0.121418    0.737382  6.7564\n",
       "2027       0.13105  0.120576    0.748374  6.6766\n",
       "2028       0.12080  0.118654    0.760546  6.5856\n",
       "2029       0.11045  0.116735    0.772815  6.4834\n",
       "2030       0.10000  0.115000    0.785000  6.3700\n",
       "2031       0.08945  0.113449    0.797101  6.2454\n",
       "2032       0.07880  0.112082    0.809118  6.1096\n",
       "2033       0.06805  0.110899    0.821051  5.9626\n",
       "2034       0.05720  0.109901    0.832899  5.8044\n",
       "2035       0.04625  0.109086    0.844664  5.6350\n",
       "2036       0.03560  0.108504    0.855896  5.4656\n",
       "2037       0.02565  0.108205    0.866145  5.3074\n",
       "2038       0.01640  0.108187    0.875413  5.1604\n",
       "2039       0.00785  0.108453    0.883697  5.0246\n",
       "2040       0.00000  0.109000    0.891000  4.9000\n",
       "2041       0.00000  0.109830    0.890170  4.7866\n",
       "2042       0.00000  0.110942    0.889058  4.6844\n",
       "2043       0.00000  0.112336    0.887664  4.5934\n",
       "2044       0.00000  0.114013    0.885987  4.5136\n",
       "2045       0.00000  0.115971    0.884029  4.4450\n",
       "2046       0.00000  0.118213    0.881787  4.3876\n",
       "2047       0.00000  0.120736    0.879264  4.3414\n",
       "2048       0.00000  0.123542    0.876458  4.3064\n",
       "2049       0.00000  0.126630    0.873370  4.2826\n",
       "2050       0.00000  0.130000    0.870000  4.2700"
      ]
     },
     "execution_count": 181,
     "metadata": {},
     "output_type": "execute_result"
    }
   ],
   "source": [
    "dist = pd.DataFrame({'butane_share':pd.Series(butane_dist),\n",
    "                   'pv_share':pd.Series(pv_dist),\n",
    "                   'grid_share':pd.Series(grid_dist),\n",
    "                    'pv_cc':pd.Series(cc_solar_curve)})\n",
    "\n",
    "dist['butane_share'].fillna(method='ffill',inplace=True)\n",
    "dist['pv_share'].fillna(method='ffill',inplace=True)\n",
    "\n",
    "dist.loc[dist['butane_share']<0, 'butane_share'] =0\n",
    "dist.loc[dist['pv_share']<0, 'pv_share'] =0\n",
    "\n",
    "dist['grid_share']= 1-(dist['pv_share']+dist['butane_share'])\n",
    "\n",
    "dist\n",
    "#Check how to set the end year for phaseout to 2040 and take the same distibution for other years. "
   ]
  },
  {
   "cell_type": "code",
   "execution_count": 107,
   "metadata": {},
   "outputs": [],
   "source": [
    "bau = pd.merge(cropland, dist, on='Year')"
   ]
  },
  {
   "cell_type": "markdown",
   "metadata": {},
   "source": [
    "### Step 2: Butane calculations"
   ]
  },
  {
   "cell_type": "code",
   "execution_count": 37,
   "metadata": {},
   "outputs": [],
   "source": [
    "butane_req = 1/12.58 # LHV = 12.58 KWh/Kg (amount of butane (kg) required to produce 1 KWh) \n",
    "butane_em_fac = 211.8 # Butane emission factor = 211.77 kg CO2 per tons\n",
    "bpump_eff = 0.2 #efficiency of butane \n",
    "epump_eff = 0.45 #assumption\n",
    "conv_fac = 1000000000 # to convert emissions from kgCO2 to Million meteric tons of CO2 MtCO2\n",
    "\n",
    "bau['pv_load(KW)'] = bau['peak_load(KW)']*bau['pv_share']\n",
    "bau['pv_demand(KWh)'] = bau['energy_demand(KWh)']*bau['pv_share']\n",
    "bau['butane_demand(KWh)'] = bau['energy_demand(KWh)']*bau['butane_share']\n",
    "bau['grid_demand(KWh)'] = bau['energy_demand(KWh)']*bau['grid_share']\n",
    "\n",
    "\n",
    "bau['pv_elec(KWh)'] = bau['pv_demand(KWh)']/epump_eff\n",
    "bau['grid_elec(KWh)'] = bau['grid_demand(KWh)']/epump_eff\n",
    "\n",
    "bau['butane_cons(kg)'] = (bau['butane_demand(KWh)']*butane_req)/bpump_eff\n",
    "bau['butane_cons(tonnes)'] = bau['butane_cons(kg)']/1000\n",
    "bau['butane_emissions(MtCO2)'] = bau['butane_cons(tonnes)'] * butane_em_fac/conv_fac\n",
    "\n",
    "bau['butane_FARcost(mMAD)'] = (bau['butane_cons(kg)']*(40/12))/1000000 #in million MAD, this is what farmers pay\n",
    "bau['butane_ACTcost(mMAD)'] = (bau['butane_cons(kg)']*(120/12))/1000000 #in million MAD, this is what farmers pay\n",
    "bau['butane_SUBSIDY(mMAD)'] = (bau['butane_cons(kg)']*(80/12))/1000000 #in million MAD, this is the total subsidy cost\n",
    "\n"
   ]
  },
  {
   "cell_type": "markdown",
   "metadata": {},
   "source": [
    "### Step 3: Grid calculations"
   ]
  },
  {
   "cell_type": "code",
   "execution_count": 38,
   "metadata": {},
   "outputs": [],
   "source": [
    "# Estimating the electriicty from the grid and emissions\n",
    "grid_em_fac = 1.757 #kgco2/kwh  , This is based on data from IEA, Morocco 2019 \n",
    "grid_cost =100 # MAD/KWh, Assumption and to be updated \n",
    "\n",
    "#scenario1['grid_elec (kwh)'] = scenario1['grid_demand_kwh']/epump_eff #already calculated above\n",
    "bau['grid_emissions(MtCO2)'] = bau['grid_elec(KWh)']*grid_em_fac/conv_fac\n",
    "bau['grid_cost(mMAD)'] = (bau['grid_elec(KWh)']*grid_cost)/1000000\n",
    "bau['Total_emissions(MtCO2)'] = (bau['grid_emissions(MtCO2)'] + bau['butane_emissions(MtCO2)'])"
   ]
  },
  {
   "cell_type": "code",
   "execution_count": null,
   "metadata": {},
   "outputs": [],
   "source": []
  },
  {
   "cell_type": "markdown",
   "metadata": {},
   "source": [
    "### Step 4: Solar PV  calculations"
   ]
  },
  {
   "cell_type": "code",
   "execution_count": 44,
   "metadata": {},
   "outputs": [],
   "source": [
    "# Estimating the required monthly capacity of pv NOTE: 1 kWh = 3600 kJ\n",
    "\n",
    "bau['cf'] = bau['srad'] / (24*60*60) #This will give the cf in solar rad: (kJ/(m2.day))*30.day/month*1h/(24h*60m*60s) =kWh/(m2.month)*30/(60*60)\n",
    "bau['cap_m(MW)'] = bau['pv_load(KW)'] / bau['cf']/1000   #to convert to MW, check the units\n"
   ]
  },
  {
   "cell_type": "code",
   "execution_count": 48,
   "metadata": {},
   "outputs": [],
   "source": [
    "bau1 = bau.groupby(['Demand point','Year'])[['water_demand(m3)','energy_demand(KWh)', 'pv_elec(KWh)', 'grid_elec(KWh)','butane_cons(tonnes)', 'butane_FARcost(mMAD)', 'butane_ACTcost(mMAD)','butane_SUBSIDY(mMAD)','butane_emissions(MtCO2)','grid_emissions(MtCO2)','Total_emissions(MtCO2)','grid_cost(mMAD)']].sum()\n",
    "\n",
    "bau1['GWdepth'] = (bau.groupby(['Demand point','Year'])['wtd'].mean())\n",
    "bau1['srad'] = (bau.groupby(['Demand point','Year'])['srad'].mean())\n",
    "bau1['wind'] = (bau.groupby(['Demand point','Year'])['wind'].mean())\n",
    "bau1['cap_m(MW)'] = (bau.groupby(['Demand point','Year'])['cap_m(MW)'].mean())\n",
    "bau1['cap_a(MW)'] = (bau.groupby(['Demand point','Year'])['cap_m(MW)'].max())\n",
    "bau1['pv_cc'] = (bau.groupby(['Demand point','Year'])['pv_cc'].mean())\n"
   ]
  },
  {
   "cell_type": "code",
   "execution_count": 50,
   "metadata": {},
   "outputs": [],
   "source": [
    "bau1.reset_index(inplace=True)\n",
    "bau1.loc[bau1['Year']==2020, 'PV_new_cap(MW)'] = bau1['cap_a(MW)']\n",
    "bau1.loc[bau1['Year']!=2020, 'PV_new_cap(MW)'] = bau1['cap_a(MW)'] - bau1['cap_a(MW)'].shift(1)\n",
    "bau1.loc[bau1['PV_new_cap(MW)']<0, 'PV_new_cap(MW)'] =0\n",
    "bau1['reinv_cap(MW)'] = bau1['cap_a(MW)'].shift(pv_life).fillna(0)\n",
    "bau1['PV_Capex(mMAD)']=(bau1['PV_new_cap(MW)']+bau1['reinv_cap(MW)'])*bau1['pv_cc']\n",
    "bau1['PV_Opex(mMAD)']=(bau1['PV_Capex(mMAD)']*om_cost)"
   ]
  },
  {
   "cell_type": "code",
   "execution_count": null,
   "metadata": {},
   "outputs": [],
   "source": []
  },
  {
   "cell_type": "code",
   "execution_count": 51,
   "metadata": {},
   "outputs": [],
   "source": [
    "bau1_summary = bau1.groupby(['Year'])[['water_demand(m3)','energy_demand(KWh)', 'pv_elec(KWh)', 'grid_elec(KWh)','butane_cons(tonnes)', 'butane_FARcost(mMAD)','PV_new_cap(MW)', 'butane_emissions(MtCO2)','grid_emissions(MtCO2)','Total_emissions(MtCO2)','butane_SUBSIDY(mMAD)','grid_cost(mMAD)','PV_Capex(mMAD)']].sum()"
   ]
  },
  {
   "cell_type": "code",
   "execution_count": 52,
   "metadata": {},
   "outputs": [
    {
     "data": {
      "text/html": [
       "<div>\n",
       "<style scoped>\n",
       "    .dataframe tbody tr th:only-of-type {\n",
       "        vertical-align: middle;\n",
       "    }\n",
       "\n",
       "    .dataframe tbody tr th {\n",
       "        vertical-align: top;\n",
       "    }\n",
       "\n",
       "    .dataframe thead th {\n",
       "        text-align: right;\n",
       "    }\n",
       "</style>\n",
       "<table border=\"1\" class=\"dataframe\">\n",
       "  <thead>\n",
       "    <tr style=\"text-align: right;\">\n",
       "      <th></th>\n",
       "      <th>water_demand(m3)</th>\n",
       "      <th>energy_demand(KWh)</th>\n",
       "      <th>pv_elec(KWh)</th>\n",
       "      <th>grid_elec(KWh)</th>\n",
       "      <th>butane_cons(tonnes)</th>\n",
       "      <th>butane_FARcost(mMAD)</th>\n",
       "      <th>PV_new_cap(MW)</th>\n",
       "      <th>butane_emissions(MtCO2)</th>\n",
       "      <th>grid_emissions(MtCO2)</th>\n",
       "      <th>Total_emissions(MtCO2)</th>\n",
       "      <th>butane_SUBSIDY(mMAD)</th>\n",
       "      <th>grid_cost(mMAD)</th>\n",
       "      <th>PV_Capex(mMAD)</th>\n",
       "    </tr>\n",
       "    <tr>\n",
       "      <th>Year</th>\n",
       "      <th></th>\n",
       "      <th></th>\n",
       "      <th></th>\n",
       "      <th></th>\n",
       "      <th></th>\n",
       "      <th></th>\n",
       "      <th></th>\n",
       "      <th></th>\n",
       "      <th></th>\n",
       "      <th></th>\n",
       "      <th></th>\n",
       "      <th></th>\n",
       "      <th></th>\n",
       "    </tr>\n",
       "  </thead>\n",
       "  <tbody>\n",
       "    <tr>\n",
       "      <th>2020</th>\n",
       "      <td>7.479313e+08</td>\n",
       "      <td>3.503796e+08</td>\n",
       "      <td>7.786213e+07</td>\n",
       "      <td>5.450349e+08</td>\n",
       "      <td>27852.112070</td>\n",
       "      <td>92.840374</td>\n",
       "      <td>93.592417</td>\n",
       "      <td>0.005899</td>\n",
       "      <td>0.957626</td>\n",
       "      <td>0.963525</td>\n",
       "      <td>185.680747</td>\n",
       "      <td>54503.488643</td>\n",
       "      <td>1436.212053</td>\n",
       "    </tr>\n",
       "    <tr>\n",
       "      <th>2021</th>\n",
       "      <td>7.118628e+08</td>\n",
       "      <td>4.118799e+08</td>\n",
       "      <td>9.152887e+07</td>\n",
       "      <td>6.407021e+08</td>\n",
       "      <td>32740.852396</td>\n",
       "      <td>109.136175</td>\n",
       "      <td>0.080980</td>\n",
       "      <td>0.006935</td>\n",
       "      <td>1.125714</td>\n",
       "      <td>1.132648</td>\n",
       "      <td>218.272349</td>\n",
       "      <td>64070.210266</td>\n",
       "      <td>782.865444</td>\n",
       "    </tr>\n",
       "    <tr>\n",
       "      <th>2022</th>\n",
       "      <td>7.201413e+08</td>\n",
       "      <td>4.009355e+08</td>\n",
       "      <td>8.909678e+07</td>\n",
       "      <td>6.236774e+08</td>\n",
       "      <td>31870.865706</td>\n",
       "      <td>106.236219</td>\n",
       "      <td>14.638226</td>\n",
       "      <td>0.006750</td>\n",
       "      <td>1.095801</td>\n",
       "      <td>1.102551</td>\n",
       "      <td>212.472438</td>\n",
       "      <td>62367.742979</td>\n",
       "      <td>898.672770</td>\n",
       "    </tr>\n",
       "    <tr>\n",
       "      <th>2023</th>\n",
       "      <td>6.442514e+08</td>\n",
       "      <td>4.298114e+08</td>\n",
       "      <td>9.551365e+07</td>\n",
       "      <td>6.685955e+08</td>\n",
       "      <td>34166.249796</td>\n",
       "      <td>113.887499</td>\n",
       "      <td>0.075571</td>\n",
       "      <td>0.007236</td>\n",
       "      <td>1.174722</td>\n",
       "      <td>1.181959</td>\n",
       "      <td>227.774999</td>\n",
       "      <td>66859.554601</td>\n",
       "      <td>795.010274</td>\n",
       "    </tr>\n",
       "    <tr>\n",
       "      <th>2024</th>\n",
       "      <td>6.610189e+08</td>\n",
       "      <td>4.181049e+08</td>\n",
       "      <td>9.291220e+07</td>\n",
       "      <td>6.503854e+08</td>\n",
       "      <td>33235.684045</td>\n",
       "      <td>110.785613</td>\n",
       "      <td>1.887994</td>\n",
       "      <td>0.007039</td>\n",
       "      <td>1.142727</td>\n",
       "      <td>1.149766</td>\n",
       "      <td>221.571227</td>\n",
       "      <td>65038.540823</td>\n",
       "      <td>609.778120</td>\n",
       "    </tr>\n",
       "  </tbody>\n",
       "</table>\n",
       "</div>"
      ],
      "text/plain": [
       "      water_demand(m3)  energy_demand(KWh)  pv_elec(KWh)  grid_elec(KWh)  \\\n",
       "Year                                                                       \n",
       "2020      7.479313e+08        3.503796e+08  7.786213e+07    5.450349e+08   \n",
       "2021      7.118628e+08        4.118799e+08  9.152887e+07    6.407021e+08   \n",
       "2022      7.201413e+08        4.009355e+08  8.909678e+07    6.236774e+08   \n",
       "2023      6.442514e+08        4.298114e+08  9.551365e+07    6.685955e+08   \n",
       "2024      6.610189e+08        4.181049e+08  9.291220e+07    6.503854e+08   \n",
       "\n",
       "      butane_cons(tonnes)  butane_FARcost(mMAD)  PV_new_cap(MW)  \\\n",
       "Year                                                              \n",
       "2020         27852.112070             92.840374       93.592417   \n",
       "2021         32740.852396            109.136175        0.080980   \n",
       "2022         31870.865706            106.236219       14.638226   \n",
       "2023         34166.249796            113.887499        0.075571   \n",
       "2024         33235.684045            110.785613        1.887994   \n",
       "\n",
       "      butane_emissions(MtCO2)  grid_emissions(MtCO2)  Total_emissions(MtCO2)  \\\n",
       "Year                                                                           \n",
       "2020                 0.005899               0.957626                0.963525   \n",
       "2021                 0.006935               1.125714                1.132648   \n",
       "2022                 0.006750               1.095801                1.102551   \n",
       "2023                 0.007236               1.174722                1.181959   \n",
       "2024                 0.007039               1.142727                1.149766   \n",
       "\n",
       "      butane_SUBSIDY(mMAD)  grid_cost(mMAD)  PV_Capex(mMAD)  \n",
       "Year                                                         \n",
       "2020            185.680747     54503.488643     1436.212053  \n",
       "2021            218.272349     64070.210266      782.865444  \n",
       "2022            212.472438     62367.742979      898.672770  \n",
       "2023            227.774999     66859.554601      795.010274  \n",
       "2024            221.571227     65038.540823      609.778120  "
      ]
     },
     "execution_count": 52,
     "metadata": {},
     "output_type": "execute_result"
    }
   ],
   "source": [
    "bau1_summary.head()"
   ]
  },
  {
   "cell_type": "markdown",
   "metadata": {},
   "source": [
    "## Phaseout scenarios"
   ]
  },
  {
   "cell_type": "code",
   "execution_count": 21,
   "metadata": {},
   "outputs": [],
   "source": [
    "df2=df3=cropland.copy()"
   ]
  },
  {
   "cell_type": "markdown",
   "metadata": {},
   "source": [
    "### Step 1: Technologies distribution calculations"
   ]
  },
  {
   "cell_type": "code",
   "execution_count": 22,
   "metadata": {},
   "outputs": [],
   "source": [
    "#This function can be moved to the nexus tool later:\n",
    "\n",
    "def create_tech_dist(iyear, eyear, share1, rates, method, order=2):\n",
    "    tech_dist = pd.DataFrame({'Year': range(iyear, eyear+1)})\n",
    "    if method!='step':\n",
    "        for year, rate in rates.items():\n",
    "            tech_dist.loc[tech_dist.Year==year, 'rate'] = rate\n",
    "        tech_dist['share'] = (1-tech_dist['rate']) * share1\n",
    "        tech_dist['share'] = tech_dist.share.interpolate(method=method, order=order)\n",
    "    else:\n",
    "        for year, rate in rates.items():\n",
    "            tech_dist.loc[tech_dist.Year>=year, 'rate'] = rate\n",
    "        tech_dist['share'] = (1-tech_dist['rate']) * share1\n",
    "    return tech_dist.set_index('Year').share"
   ]
  },
  {
   "cell_type": "code",
   "execution_count": 23,
   "metadata": {},
   "outputs": [],
   "source": [
    "pv_change = [-0.8] #the negative sign means increase\n",
    "butane_change = [1]\n",
    "for pv_share in pv_change:\n",
    "    for butane_share in butane_change:\n",
    "        pv_share1 = 0.1\n",
    "        butane_share1 = 0.2\n",
    "        df2.start_year = 2020\n",
    "        df2.end_year = 2030\n",
    "        bt_rates = {2020: 0, 2025: butane_share*0.5, 2030: butane_share}\n",
    "        pv_rates = {2020: 0, 2030: pv_share*0.5, 2040: pv_share*0.2, 2050: pv_share}\n",
    "        butane_dist = create_tech_dist(df.start_year, df.end_year, butane_share1, bt_rates, 'polynomial')\n",
    "        pv_dist = create_tech_dist(df.start_year, df.end_year, pv_share1, pv_rates, 'polynomial')\n",
    "        \n",
    "        "
   ]
  },
  {
   "cell_type": "code",
   "execution_count": 24,
   "metadata": {},
   "outputs": [],
   "source": [
    "def create_learning_curve(iyear, eyear, cc, rates, method, order=2):\n",
    "    learning_curve = pd.DataFrame({'Year': range(iyear, eyear+1)})\n",
    "    if method!='step':\n",
    "        for year, rate in rates.items():\n",
    "            learning_curve.loc[learning_curve.Year==year, 'rate'] = rate\n",
    "        learning_curve['capital_cost'] = (1-learning_curve['rate']) * cc\n",
    "        learning_curve['capital_cost'] = learning_curve.capital_cost.interpolate(method=method, order=order)\n",
    "    else:\n",
    "        for year, rate in rates.items():\n",
    "            learning_curve.loc[learning_curve.Year>=year, 'rate'] = rate\n",
    "        learning_curve['capital_cost'] = (1-learning_curve['rate']) * cc\n",
    "    return learning_curve.set_index('Year').capital_cost"
   ]
  },
  {
   "cell_type": "code",
   "execution_count": 25,
   "metadata": {},
   "outputs": [],
   "source": [
    "pv_rate = 0.3\n",
    "cc = 1000\n",
    "pv_cf = 0.25\n",
    "df3.start_year=2020\n",
    "df3.end_year=2050\n",
    "#capital_cost = 1000\n",
    "rates = {2020: 0, 2030: pv_rate*0.3, 2040: pv_rate, 2050: pv_rate*1.3}\n",
    "cc_solar_curve = create_learning_curve(df3.start_year, df3.end_year, cc, rates, 'polynomial')\n",
    "om_cost=0.01 \n",
    "efficiency=1"
   ]
  },
  {
   "cell_type": "code",
   "execution_count": null,
   "metadata": {},
   "outputs": [],
   "source": []
  },
  {
   "cell_type": "code",
   "execution_count": 26,
   "metadata": {},
   "outputs": [
    {
     "data": {
      "text/html": [
       "<div>\n",
       "<style scoped>\n",
       "    .dataframe tbody tr th:only-of-type {\n",
       "        vertical-align: middle;\n",
       "    }\n",
       "\n",
       "    .dataframe tbody tr th {\n",
       "        vertical-align: top;\n",
       "    }\n",
       "\n",
       "    .dataframe thead th {\n",
       "        text-align: right;\n",
       "    }\n",
       "</style>\n",
       "<table border=\"1\" class=\"dataframe\">\n",
       "  <thead>\n",
       "    <tr style=\"text-align: right;\">\n",
       "      <th></th>\n",
       "      <th>Year</th>\n",
       "      <th>butane_share</th>\n",
       "      <th>pv_share</th>\n",
       "      <th>pv_cc</th>\n",
       "      <th>grid_share</th>\n",
       "    </tr>\n",
       "  </thead>\n",
       "  <tbody>\n",
       "    <tr>\n",
       "      <th>0</th>\n",
       "      <td>2020</td>\n",
       "      <td>0.20</td>\n",
       "      <td>0.100000</td>\n",
       "      <td>1000.0</td>\n",
       "      <td>0.700000</td>\n",
       "    </tr>\n",
       "    <tr>\n",
       "      <th>1</th>\n",
       "      <td>2021</td>\n",
       "      <td>0.18</td>\n",
       "      <td>0.108020</td>\n",
       "      <td>998.2</td>\n",
       "      <td>0.711980</td>\n",
       "    </tr>\n",
       "    <tr>\n",
       "      <th>2</th>\n",
       "      <td>2022</td>\n",
       "      <td>0.16</td>\n",
       "      <td>0.115147</td>\n",
       "      <td>994.8</td>\n",
       "      <td>0.724853</td>\n",
       "    </tr>\n",
       "    <tr>\n",
       "      <th>3</th>\n",
       "      <td>2023</td>\n",
       "      <td>0.14</td>\n",
       "      <td>0.121380</td>\n",
       "      <td>989.8</td>\n",
       "      <td>0.738620</td>\n",
       "    </tr>\n",
       "    <tr>\n",
       "      <th>4</th>\n",
       "      <td>2024</td>\n",
       "      <td>0.12</td>\n",
       "      <td>0.126720</td>\n",
       "      <td>983.2</td>\n",
       "      <td>0.753280</td>\n",
       "    </tr>\n",
       "    <tr>\n",
       "      <th>5</th>\n",
       "      <td>2025</td>\n",
       "      <td>0.10</td>\n",
       "      <td>0.131167</td>\n",
       "      <td>975.0</td>\n",
       "      <td>0.768833</td>\n",
       "    </tr>\n",
       "    <tr>\n",
       "      <th>6</th>\n",
       "      <td>2026</td>\n",
       "      <td>0.08</td>\n",
       "      <td>0.134720</td>\n",
       "      <td>965.2</td>\n",
       "      <td>0.785280</td>\n",
       "    </tr>\n",
       "    <tr>\n",
       "      <th>7</th>\n",
       "      <td>2027</td>\n",
       "      <td>0.06</td>\n",
       "      <td>0.137380</td>\n",
       "      <td>953.8</td>\n",
       "      <td>0.802620</td>\n",
       "    </tr>\n",
       "    <tr>\n",
       "      <th>8</th>\n",
       "      <td>2028</td>\n",
       "      <td>0.04</td>\n",
       "      <td>0.139147</td>\n",
       "      <td>940.8</td>\n",
       "      <td>0.820853</td>\n",
       "    </tr>\n",
       "    <tr>\n",
       "      <th>9</th>\n",
       "      <td>2029</td>\n",
       "      <td>0.02</td>\n",
       "      <td>0.140020</td>\n",
       "      <td>926.2</td>\n",
       "      <td>0.839980</td>\n",
       "    </tr>\n",
       "    <tr>\n",
       "      <th>10</th>\n",
       "      <td>2030</td>\n",
       "      <td>0.00</td>\n",
       "      <td>0.140000</td>\n",
       "      <td>910.0</td>\n",
       "      <td>0.860000</td>\n",
       "    </tr>\n",
       "    <tr>\n",
       "      <th>11</th>\n",
       "      <td>2031</td>\n",
       "      <td>0.00</td>\n",
       "      <td>0.139087</td>\n",
       "      <td>892.2</td>\n",
       "      <td>0.860913</td>\n",
       "    </tr>\n",
       "    <tr>\n",
       "      <th>12</th>\n",
       "      <td>2032</td>\n",
       "      <td>0.00</td>\n",
       "      <td>0.137280</td>\n",
       "      <td>872.8</td>\n",
       "      <td>0.862720</td>\n",
       "    </tr>\n",
       "    <tr>\n",
       "      <th>13</th>\n",
       "      <td>2033</td>\n",
       "      <td>0.00</td>\n",
       "      <td>0.134580</td>\n",
       "      <td>851.8</td>\n",
       "      <td>0.865420</td>\n",
       "    </tr>\n",
       "    <tr>\n",
       "      <th>14</th>\n",
       "      <td>2034</td>\n",
       "      <td>0.00</td>\n",
       "      <td>0.130987</td>\n",
       "      <td>829.2</td>\n",
       "      <td>0.869013</td>\n",
       "    </tr>\n",
       "    <tr>\n",
       "      <th>15</th>\n",
       "      <td>2035</td>\n",
       "      <td>0.00</td>\n",
       "      <td>0.126500</td>\n",
       "      <td>805.0</td>\n",
       "      <td>0.873500</td>\n",
       "    </tr>\n",
       "    <tr>\n",
       "      <th>16</th>\n",
       "      <td>2036</td>\n",
       "      <td>0.00</td>\n",
       "      <td>0.122133</td>\n",
       "      <td>780.8</td>\n",
       "      <td>0.877867</td>\n",
       "    </tr>\n",
       "    <tr>\n",
       "      <th>17</th>\n",
       "      <td>2037</td>\n",
       "      <td>0.00</td>\n",
       "      <td>0.118900</td>\n",
       "      <td>758.2</td>\n",
       "      <td>0.881100</td>\n",
       "    </tr>\n",
       "    <tr>\n",
       "      <th>18</th>\n",
       "      <td>2038</td>\n",
       "      <td>0.00</td>\n",
       "      <td>0.116800</td>\n",
       "      <td>737.2</td>\n",
       "      <td>0.883200</td>\n",
       "    </tr>\n",
       "    <tr>\n",
       "      <th>19</th>\n",
       "      <td>2039</td>\n",
       "      <td>0.00</td>\n",
       "      <td>0.115833</td>\n",
       "      <td>717.8</td>\n",
       "      <td>0.884167</td>\n",
       "    </tr>\n",
       "    <tr>\n",
       "      <th>20</th>\n",
       "      <td>2040</td>\n",
       "      <td>0.00</td>\n",
       "      <td>0.116000</td>\n",
       "      <td>700.0</td>\n",
       "      <td>0.884000</td>\n",
       "    </tr>\n",
       "    <tr>\n",
       "      <th>21</th>\n",
       "      <td>2041</td>\n",
       "      <td>0.00</td>\n",
       "      <td>0.117300</td>\n",
       "      <td>683.8</td>\n",
       "      <td>0.882700</td>\n",
       "    </tr>\n",
       "    <tr>\n",
       "      <th>22</th>\n",
       "      <td>2042</td>\n",
       "      <td>0.00</td>\n",
       "      <td>0.119733</td>\n",
       "      <td>669.2</td>\n",
       "      <td>0.880267</td>\n",
       "    </tr>\n",
       "    <tr>\n",
       "      <th>23</th>\n",
       "      <td>2043</td>\n",
       "      <td>0.00</td>\n",
       "      <td>0.123300</td>\n",
       "      <td>656.2</td>\n",
       "      <td>0.876700</td>\n",
       "    </tr>\n",
       "    <tr>\n",
       "      <th>24</th>\n",
       "      <td>2044</td>\n",
       "      <td>0.00</td>\n",
       "      <td>0.128000</td>\n",
       "      <td>644.8</td>\n",
       "      <td>0.872000</td>\n",
       "    </tr>\n",
       "    <tr>\n",
       "      <th>25</th>\n",
       "      <td>2045</td>\n",
       "      <td>0.00</td>\n",
       "      <td>0.133833</td>\n",
       "      <td>635.0</td>\n",
       "      <td>0.866167</td>\n",
       "    </tr>\n",
       "    <tr>\n",
       "      <th>26</th>\n",
       "      <td>2046</td>\n",
       "      <td>0.00</td>\n",
       "      <td>0.140800</td>\n",
       "      <td>626.8</td>\n",
       "      <td>0.859200</td>\n",
       "    </tr>\n",
       "    <tr>\n",
       "      <th>27</th>\n",
       "      <td>2047</td>\n",
       "      <td>0.00</td>\n",
       "      <td>0.148900</td>\n",
       "      <td>620.2</td>\n",
       "      <td>0.851100</td>\n",
       "    </tr>\n",
       "    <tr>\n",
       "      <th>28</th>\n",
       "      <td>2048</td>\n",
       "      <td>0.00</td>\n",
       "      <td>0.158133</td>\n",
       "      <td>615.2</td>\n",
       "      <td>0.841867</td>\n",
       "    </tr>\n",
       "    <tr>\n",
       "      <th>29</th>\n",
       "      <td>2049</td>\n",
       "      <td>0.00</td>\n",
       "      <td>0.168500</td>\n",
       "      <td>611.8</td>\n",
       "      <td>0.831500</td>\n",
       "    </tr>\n",
       "    <tr>\n",
       "      <th>30</th>\n",
       "      <td>2050</td>\n",
       "      <td>0.00</td>\n",
       "      <td>0.180000</td>\n",
       "      <td>610.0</td>\n",
       "      <td>0.820000</td>\n",
       "    </tr>\n",
       "  </tbody>\n",
       "</table>\n",
       "</div>"
      ],
      "text/plain": [
       "    Year  butane_share  pv_share   pv_cc  grid_share\n",
       "0   2020          0.20  0.100000  1000.0    0.700000\n",
       "1   2021          0.18  0.108020   998.2    0.711980\n",
       "2   2022          0.16  0.115147   994.8    0.724853\n",
       "3   2023          0.14  0.121380   989.8    0.738620\n",
       "4   2024          0.12  0.126720   983.2    0.753280\n",
       "5   2025          0.10  0.131167   975.0    0.768833\n",
       "6   2026          0.08  0.134720   965.2    0.785280\n",
       "7   2027          0.06  0.137380   953.8    0.802620\n",
       "8   2028          0.04  0.139147   940.8    0.820853\n",
       "9   2029          0.02  0.140020   926.2    0.839980\n",
       "10  2030          0.00  0.140000   910.0    0.860000\n",
       "11  2031          0.00  0.139087   892.2    0.860913\n",
       "12  2032          0.00  0.137280   872.8    0.862720\n",
       "13  2033          0.00  0.134580   851.8    0.865420\n",
       "14  2034          0.00  0.130987   829.2    0.869013\n",
       "15  2035          0.00  0.126500   805.0    0.873500\n",
       "16  2036          0.00  0.122133   780.8    0.877867\n",
       "17  2037          0.00  0.118900   758.2    0.881100\n",
       "18  2038          0.00  0.116800   737.2    0.883200\n",
       "19  2039          0.00  0.115833   717.8    0.884167\n",
       "20  2040          0.00  0.116000   700.0    0.884000\n",
       "21  2041          0.00  0.117300   683.8    0.882700\n",
       "22  2042          0.00  0.119733   669.2    0.880267\n",
       "23  2043          0.00  0.123300   656.2    0.876700\n",
       "24  2044          0.00  0.128000   644.8    0.872000\n",
       "25  2045          0.00  0.133833   635.0    0.866167\n",
       "26  2046          0.00  0.140800   626.8    0.859200\n",
       "27  2047          0.00  0.148900   620.2    0.851100\n",
       "28  2048          0.00  0.158133   615.2    0.841867\n",
       "29  2049          0.00  0.168500   611.8    0.831500\n",
       "30  2050          0.00  0.180000   610.0    0.820000"
      ]
     },
     "execution_count": 26,
     "metadata": {},
     "output_type": "execute_result"
    }
   ],
   "source": [
    "dist = pd.DataFrame({'butane_share':pd.Series(butane_dist),\n",
    "                   'pv_share':pd.Series(pv_dist),\n",
    "                   'pv_cc':pd.Series(cc_solar_curve)})\n",
    "\n",
    "dist.reset_index(inplace=True)\n",
    "\n",
    "dist['butane_share'].fillna(method='ffill',inplace=True)\n",
    "dist['grid_share']= 1-(dist['pv_share']+dist['butane_share'])\n",
    "\n",
    "dist\n"
   ]
  },
  {
   "cell_type": "code",
   "execution_count": 152,
   "metadata": {},
   "outputs": [],
   "source": []
  },
  {
   "cell_type": "code",
   "execution_count": 55,
   "metadata": {},
   "outputs": [],
   "source": [
    "scenario1 = pd.merge(cropland, dist, on='Year')"
   ]
  },
  {
   "cell_type": "code",
   "execution_count": 56,
   "metadata": {},
   "outputs": [
    {
     "data": {
      "text/plain": [
       "369589.2480000002"
      ]
     },
     "execution_count": 56,
     "metadata": {},
     "output_type": "execute_result"
    }
   ],
   "source": [
    "scenario1['pv_share'].sum()"
   ]
  },
  {
   "cell_type": "code",
   "execution_count": 57,
   "metadata": {},
   "outputs": [
    {
     "data": {
      "text/plain": [
       "2108815.872000002"
      ]
     },
     "execution_count": 57,
     "metadata": {},
     "output_type": "execute_result"
    }
   ],
   "source": [
    "scenario1['grid_share'].sum()"
   ]
  },
  {
   "cell_type": "code",
   "execution_count": 58,
   "metadata": {},
   "outputs": [],
   "source": [
    "threshold = 100\n",
    "#mylist = scenario1[scenario1['wtd'] > threshold]['']\n",
    "scenario1.loc[scenario1['wtd']>threshold, 'pv_share'] =0\n",
    "scenario1['grid_share'] = (1-(scenario1['butane_share']+scenario1['pv_share']))\n"
   ]
  },
  {
   "cell_type": "code",
   "execution_count": 59,
   "metadata": {},
   "outputs": [
    {
     "data": {
      "text/plain": [
       "188452.01760000002"
      ]
     },
     "execution_count": 59,
     "metadata": {},
     "output_type": "execute_result"
    }
   ],
   "source": [
    "scenario1['pv_share'].sum()"
   ]
  },
  {
   "cell_type": "code",
   "execution_count": 60,
   "metadata": {},
   "outputs": [
    {
     "data": {
      "text/plain": [
       "2289953.1024000016"
      ]
     },
     "execution_count": 60,
     "metadata": {},
     "output_type": "execute_result"
    }
   ],
   "source": [
    "scenario1['grid_share'].sum()"
   ]
  },
  {
   "cell_type": "markdown",
   "metadata": {},
   "source": [
    "### Step 2: Butane calculations"
   ]
  },
  {
   "cell_type": "code",
   "execution_count": 61,
   "metadata": {},
   "outputs": [],
   "source": [
    "butane_req = 1/12.58 # LHV = 12.58 KWh/Kg (amount of butane (kg) required to produce 1 KWh) \n",
    "bpump_eff = 0.2 #efficiency of butane \n",
    "epump_eff = 0.45 #assumption\n",
    "\n",
    "\n",
    "scenario1['butane_demand_kwh'] = scenario1['energy_demand']*scenario1['butane_share']\n",
    "scenario1['butane_cons (kg)'] = (scenario1['butane_demand_kwh']*butane_req)/bpump_eff\n",
    "scenario1['butane_cons (tonnes)'] = scenario1['butane_cons (kg)']/1000\n",
    "\n",
    "scenario1['butane_FARcost (mMAD)'] = (scenario1['butane_cons (kg)']*(40/12))/1000000 #in million MAD, this is what farmers pay\n",
    "scenario1['butane_ACTcost (mMAD)'] = (scenario1['butane_cons (kg)']*(120/12))/1000000 #in million MAD, this is what farmers pay\n",
    "scenario1['butane_SUBSIDY (mMAD)'] = (scenario1['butane_cons (kg)']*(80/12))/1000000 #in million MAD, this is the total subsidy cost"
   ]
  },
  {
   "cell_type": "markdown",
   "metadata": {},
   "source": [
    "### Step 3: Grid calculations"
   ]
  },
  {
   "cell_type": "code",
   "execution_count": 62,
   "metadata": {},
   "outputs": [],
   "source": [
    "# Estimating the electriicty from the grid and emissions\n",
    "grid_em_fac = 1.757 #kgco2/kwh  , This is based on data from IEA, Morocco 2019 \n",
    "grid_cost =100 # MAD/KWh, Assumption and to be updated \n",
    "epump_eff = 0.45 #assumption\n",
    "\n",
    "scenario1['grid_demand_kwh'] = scenario1['energy_demand']*scenario1['grid_share']\n",
    "scenario1['grid_elec (kwh)'] = scenario1['grid_demand_kwh']/epump_eff\n",
    "\n",
    "\n",
    "scenario1['grid_emissions'] = scenario1['grid_elec (kwh)']*grid_em_fac\n",
    "scenario1['grid_cost_mMAD'] = (scenario1['grid_elec (kwh)']*grid_cost)/1000000"
   ]
  },
  {
   "cell_type": "code",
   "execution_count": 63,
   "metadata": {},
   "outputs": [
    {
     "data": {
      "text/plain": [
       "13193.734697229458"
      ]
     },
     "execution_count": 63,
     "metadata": {},
     "output_type": "execute_result"
    }
   ],
   "source": [
    "scenario1['energy_demand'].sum()/1000000"
   ]
  },
  {
   "cell_type": "code",
   "execution_count": null,
   "metadata": {},
   "outputs": [],
   "source": []
  },
  {
   "cell_type": "markdown",
   "metadata": {},
   "source": [
    "### Step 4: Solar PV calculations"
   ]
  },
  {
   "cell_type": "code",
   "execution_count": 102,
   "metadata": {},
   "outputs": [],
   "source": []
  },
  {
   "cell_type": "code",
   "execution_count": 67,
   "metadata": {},
   "outputs": [],
   "source": [
    "scenario1['pv_demand_kwh'] = scenario1['energy_demand']*scenario1['pv_share']\n",
    "scenario1['pv_elec (kwh)'] = scenario1['pv_demand_kwh']/epump_eff"
   ]
  },
  {
   "cell_type": "code",
   "execution_count": 68,
   "metadata": {},
   "outputs": [],
   "source": [
    "# Estimating the required monthly capacity of pv NOTE: 1 kWh = 3600 kJ and 1 day=24 hours\n",
    "# Solar radiation GIS layer was obtained from WorldClim which gives srad in (kJ/m2.day). \n",
    "# To calculate the capacity factor, we will need to convert this to (KWh/m2.hr)\n",
    "\n",
    "scenario1['cf'] = scenario1['srad'] / (24*3600) #This will give the cf in (KWh/m2.hr) or (KW/m2)\n",
    "scenario1['cap_m'] = scenario1['pv_elec (kwh)'] / scenario1['cf']/1000   #to convert to MWh, check the units\n"
   ]
  },
  {
   "cell_type": "code",
   "execution_count": 70,
   "metadata": {},
   "outputs": [],
   "source": [
    "dfs1 = scenario1.groupby(['Demand point','Year'])[['water_demand','energy_demand', 'pv_elec (kwh)', 'grid_elec (kwh)','butane_cons (tonnes)', 'butane_FARcost (mMAD)', 'butane_ACTcost (mMAD)','butane_SUBSIDY (mMAD)','grid_emissions','grid_cost_mMAD']].sum()\n",
    "\n",
    "dfs1['GWdepth'] = (scenario1.groupby(['Demand point','Year'])['wtd'].mean())\n",
    "dfs1['srad'] = (scenario1.groupby(['Demand point','Year'])['srad'].mean())\n",
    "dfs1['wind'] = (scenario1.groupby(['Demand point','Year'])['wind'].mean())\n",
    "dfs1['cap_m'] = (scenario1.groupby(['Demand point','Year'])['cap_m'].mean())\n",
    "dfs1['cap_a'] = (scenario1.groupby(['Demand point','Year'])['cap_m'].max())\n",
    "dfs1['pv_cc'] = (scenario1.groupby(['Demand point','Year'])['pv_cc'].mean())\n",
    "dfs1['pv_capex']=dfs1['cap_a']*dfs1['pv_cc']\n",
    "dfs1['pv_opex']=dfs1['pv_capex']*om_cost\n"
   ]
  },
  {
   "cell_type": "code",
   "execution_count": 73,
   "metadata": {},
   "outputs": [],
   "source": [
    "dfs1.reset_index(inplace=True)\n",
    "dfs1.loc[dfs1['Year']==2020, 'new_cap'] = dfs1['cap_a']\n",
    "dfs1.loc[dfs1['Year']!=2020, 'new_cap'] = dfs1['cap_a'] - dfs1['cap_a'].shift(1)\n",
    "dfs1.loc[dfs1['new_cap']<0, 'new_cap'] =0"
   ]
  },
  {
   "cell_type": "code",
   "execution_count": 75,
   "metadata": {},
   "outputs": [],
   "source": [
    "dfs1['reinv_cap'] = dfs1['cap_a'].shift(pv_life).fillna(0)\n",
    "dfs1['pv_capex']=(dfs1['new_cap']+dfs1['reinv_cap'])*dfs1['pv_cc']"
   ]
  },
  {
   "cell_type": "code",
   "execution_count": 77,
   "metadata": {},
   "outputs": [],
   "source": [
    "scenario1_summary = dfs1.groupby(['Year'])[['water_demand','energy_demand','butane_cons (tonnes)', 'butane_FARcost (mMAD)', 'butane_ACTcost (mMAD)','butane_SUBSIDY (mMAD)','pv_capex','pv_opex','grid_emissions','grid_cost_mMAD']].sum()"
   ]
  },
  {
   "cell_type": "code",
   "execution_count": 78,
   "metadata": {},
   "outputs": [
    {
     "data": {
      "text/html": [
       "<div>\n",
       "<style scoped>\n",
       "    .dataframe tbody tr th:only-of-type {\n",
       "        vertical-align: middle;\n",
       "    }\n",
       "\n",
       "    .dataframe tbody tr th {\n",
       "        vertical-align: top;\n",
       "    }\n",
       "\n",
       "    .dataframe thead th {\n",
       "        text-align: right;\n",
       "    }\n",
       "</style>\n",
       "<table border=\"1\" class=\"dataframe\">\n",
       "  <thead>\n",
       "    <tr style=\"text-align: right;\">\n",
       "      <th></th>\n",
       "      <th>water_demand</th>\n",
       "      <th>energy_demand</th>\n",
       "      <th>butane_cons (tonnes)</th>\n",
       "      <th>butane_FARcost (mMAD)</th>\n",
       "      <th>butane_ACTcost (mMAD)</th>\n",
       "      <th>butane_SUBSIDY (mMAD)</th>\n",
       "      <th>pv_capex</th>\n",
       "      <th>pv_opex</th>\n",
       "      <th>grid_emissions</th>\n",
       "      <th>grid_cost_mMAD</th>\n",
       "    </tr>\n",
       "    <tr>\n",
       "      <th>Year</th>\n",
       "      <th></th>\n",
       "      <th></th>\n",
       "      <th></th>\n",
       "      <th></th>\n",
       "      <th></th>\n",
       "      <th></th>\n",
       "      <th></th>\n",
       "      <th></th>\n",
       "      <th></th>\n",
       "      <th></th>\n",
       "    </tr>\n",
       "  </thead>\n",
       "  <tbody>\n",
       "    <tr>\n",
       "      <th>2020</th>\n",
       "      <td>7.479313e+08</td>\n",
       "      <td>3.503796e+08</td>\n",
       "      <td>27852.112070</td>\n",
       "      <td>92.840374</td>\n",
       "      <td>278.521121</td>\n",
       "      <td>185.680747</td>\n",
       "      <td>5.433053e+07</td>\n",
       "      <td>221099.499979</td>\n",
       "      <td>1.044838e+09</td>\n",
       "      <td>59467.161217</td>\n",
       "    </tr>\n",
       "    <tr>\n",
       "      <th>2021</th>\n",
       "      <td>7.118628e+08</td>\n",
       "      <td>4.118799e+08</td>\n",
       "      <td>29458.581943</td>\n",
       "      <td>98.195273</td>\n",
       "      <td>294.585819</td>\n",
       "      <td>196.390546</td>\n",
       "      <td>3.170230e+07</td>\n",
       "      <td>206902.804774</td>\n",
       "      <td>1.256252e+09</td>\n",
       "      <td>71499.807670</td>\n",
       "    </tr>\n",
       "    <tr>\n",
       "      <th>2022</th>\n",
       "      <td>7.201413e+08</td>\n",
       "      <td>4.009355e+08</td>\n",
       "      <td>25836.648466</td>\n",
       "      <td>86.122162</td>\n",
       "      <td>258.366485</td>\n",
       "      <td>172.244323</td>\n",
       "      <td>3.650397e+07</td>\n",
       "      <td>257232.450748</td>\n",
       "      <td>1.246688e+09</td>\n",
       "      <td>70955.493474</td>\n",
       "    </tr>\n",
       "    <tr>\n",
       "      <th>2023</th>\n",
       "      <td>6.442514e+08</td>\n",
       "      <td>4.298114e+08</td>\n",
       "      <td>25035.319538</td>\n",
       "      <td>83.451065</td>\n",
       "      <td>250.353195</td>\n",
       "      <td>166.902130</td>\n",
       "      <td>3.131888e+07</td>\n",
       "      <td>219823.803140</td>\n",
       "      <td>1.359108e+09</td>\n",
       "      <td>77353.917348</td>\n",
       "    </tr>\n",
       "    <tr>\n",
       "      <th>2024</th>\n",
       "      <td>6.610189e+08</td>\n",
       "      <td>4.181049e+08</td>\n",
       "      <td>22134.965574</td>\n",
       "      <td>73.783219</td>\n",
       "      <td>221.349656</td>\n",
       "      <td>147.566437</td>\n",
       "      <td>2.557655e+07</td>\n",
       "      <td>233435.159601</td>\n",
       "      <td>1.340221e+09</td>\n",
       "      <td>76278.933548</td>\n",
       "    </tr>\n",
       "  </tbody>\n",
       "</table>\n",
       "</div>"
      ],
      "text/plain": [
       "      water_demand  energy_demand  butane_cons (tonnes)  \\\n",
       "Year                                                      \n",
       "2020  7.479313e+08   3.503796e+08          27852.112070   \n",
       "2021  7.118628e+08   4.118799e+08          29458.581943   \n",
       "2022  7.201413e+08   4.009355e+08          25836.648466   \n",
       "2023  6.442514e+08   4.298114e+08          25035.319538   \n",
       "2024  6.610189e+08   4.181049e+08          22134.965574   \n",
       "\n",
       "      butane_FARcost (mMAD)  butane_ACTcost (mMAD)  butane_SUBSIDY (mMAD)  \\\n",
       "Year                                                                        \n",
       "2020              92.840374             278.521121             185.680747   \n",
       "2021              98.195273             294.585819             196.390546   \n",
       "2022              86.122162             258.366485             172.244323   \n",
       "2023              83.451065             250.353195             166.902130   \n",
       "2024              73.783219             221.349656             147.566437   \n",
       "\n",
       "          pv_capex        pv_opex  grid_emissions  grid_cost_mMAD  \n",
       "Year                                                               \n",
       "2020  5.433053e+07  221099.499979    1.044838e+09    59467.161217  \n",
       "2021  3.170230e+07  206902.804774    1.256252e+09    71499.807670  \n",
       "2022  3.650397e+07  257232.450748    1.246688e+09    70955.493474  \n",
       "2023  3.131888e+07  219823.803140    1.359108e+09    77353.917348  \n",
       "2024  2.557655e+07  233435.159601    1.340221e+09    76278.933548  "
      ]
     },
     "execution_count": 78,
     "metadata": {},
     "output_type": "execute_result"
    }
   ],
   "source": [
    "scenario1_summary.head()"
   ]
  },
  {
   "cell_type": "code",
   "execution_count": null,
   "metadata": {},
   "outputs": [],
   "source": []
  },
  {
   "cell_type": "code",
   "execution_count": 80,
   "metadata": {},
   "outputs": [],
   "source": [
    "butane_subsidy_change = bau1_summary['butane_SUBSIDY (mMAD)'].sum() - scenario1_summary['butane_SUBSIDY (mMAD)'].sum()\n",
    "pv_investment_change = bau1_summary['pv_capex'].sum() - scenario1_summary['pv_capex'].sum()\n",
    "grid_emissions_change = bau1_summary['grid_emissions'].sum() - scenario1_summary['grid_emissions'].sum()"
   ]
  },
  {
   "cell_type": "code",
   "execution_count": 81,
   "metadata": {},
   "outputs": [
    {
     "data": {
      "text/plain": [
       "2735.2276136112014"
      ]
     },
     "execution_count": 81,
     "metadata": {},
     "output_type": "execute_result"
    }
   ],
   "source": [
    "butane_subsidy_change"
   ]
  },
  {
   "cell_type": "code",
   "execution_count": 82,
   "metadata": {},
   "outputs": [
    {
     "data": {
      "text/plain": [
       "938892459.6971364"
      ]
     },
     "execution_count": 82,
     "metadata": {},
     "output_type": "execute_result"
    }
   ],
   "source": [
    "pv_investment_change"
   ]
  },
  {
   "cell_type": "code",
   "execution_count": 83,
   "metadata": {},
   "outputs": [
    {
     "data": {
      "text/plain": [
       "-6723255823.795586"
      ]
     },
     "execution_count": 83,
     "metadata": {},
     "output_type": "execute_result"
    }
   ],
   "source": [
    "grid_emissions_change"
   ]
  },
  {
   "cell_type": "markdown",
   "metadata": {},
   "source": [
    "## This is how the summary table may look like\n",
    "\n",
    "\n",
    "summary = \n",
    "Year\n",
    "Province\n",
    "BAU:\n",
    "    *Butane cost\n",
    "    *PV cost\n",
    "    *Grid emissions\n",
    "\n",
    "2040 Phaseout: \n",
    "    *Butane cost\n",
    "    *PV cost\n",
    "    *Grid emissions\n",
    "\n",
    "\n",
    "2030 Phaseout: \n",
    "    *Butane cost\n",
    "    *PV cost\n",
    "    *Grid emissions\n",
    "\n",
    "    \n",
    "2030 Phaseout PV: \n",
    "    *Butane cost\n",
    "    *PV cost\n",
    "    *Grid emissions\n",
    "\n",
    "    \n",
    "This ofcouse can be enhanced if we get the actual electricity generation cost from the grid\n"
   ]
  },
  {
   "cell_type": "code",
   "execution_count": null,
   "metadata": {},
   "outputs": [],
   "source": []
  },
  {
   "cell_type": "markdown",
   "metadata": {},
   "source": [
    "# How to iterate over scenarios"
   ]
  },
  {
   "cell_type": "code",
   "execution_count": null,
   "metadata": {},
   "outputs": [],
   "source": []
  },
  {
   "cell_type": "code",
   "execution_count": null,
   "metadata": {},
   "outputs": [],
   "source": []
  }
 ],
 "metadata": {
  "kernelspec": {
   "display_name": "Python 3",
   "language": "python",
   "name": "python3"
  },
  "language_info": {
   "codemirror_mode": {
    "name": "ipython",
    "version": 3
   },
   "file_extension": ".py",
   "mimetype": "text/x-python",
   "name": "python",
   "nbconvert_exporter": "python",
   "pygments_lexer": "ipython3",
   "version": "3.8.5"
  }
 },
 "nbformat": 4,
 "nbformat_minor": 2
}
