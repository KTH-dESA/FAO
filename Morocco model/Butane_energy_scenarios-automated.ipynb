{
 "cells": [
  {
   "cell_type": "markdown",
   "metadata": {},
   "source": [
    "# NEXUS tool: case study for the Souss-Massa basin - energy demand calculations\n",
    "In this notebook a case study for the Souss-Massa basin is covered using the `nexus_tool` package. The water requirements for agricultural irrigation, residential, industrial and tourism use were previously calculated using the Water Evaluation and Planning System (WEAP) model. In this case study, the energy requirements for groundwater pumping, wastewater treatment, desalination of seawater and pumping for water conveyance are estimated.\n",
    "\n",
    "First import the package by running the following block:"
   ]
  },
  {
   "cell_type": "code",
   "execution_count": null,
   "metadata": {},
   "outputs": [],
   "source": [
    "%load_ext autoreload"
   ]
  },
  {
   "cell_type": "code",
   "execution_count": null,
   "metadata": {},
   "outputs": [],
   "source": [
    "%autoreload\n",
    "import sys\n",
    "sys.path.append(\"..\") #this is to add the above folder to the package directory\n",
    "import os\n",
    "import nexus_tool\n",
    "from nexus_tool.weap_tools import create_folder\n",
    "from nexus_tool.weap_tools import create_learning_curve\n",
    "#import matplotlib.pyplot as plt\n",
    "import pandas as pd\n",
    "import numpy as np\n",
    "# from pandas.plotting import register_matplotlib_converters\n",
    "import plotly.express as px\n",
    "# register_matplotlib_converters()\n",
    "from functools import reduce"
   ]
  },
  {
   "cell_type": "markdown",
   "metadata": {},
   "source": [
    "## Reading the input files\n",
    "\n"
   ]
  },
  {
   "cell_type": "code",
   "execution_count": null,
   "metadata": {},
   "outputs": [],
   "source": [
    " #Define the path to read the cropland and builtup are data and reads it in\n",
    "folder_path = os.path.join('data')\n",
    "cropland_path = os.path.join(folder_path,'Cropland and Builtarea' ,'cropland.gz')\n",
    "cropland = nexus_tool.read_csv(cropland_path)\n",
    "weap = pd.read_csv(os.path.join('test dash results','data','Desalination Wastewater Reuse','Climate Change', 'results.gz'))\n",
    "weap.loc[weap['Province']=='Chtouka-Ait Baha', 'Province'] = 'Chtouka-Aït Baha'\n",
    "weap.loc[weap['Province']=='Inezgane-Ait Melloul', 'Province'] = 'Inezgane-Aït Melloul'\n",
    "weap.loc[weap['Province']=='Agadir-Ida-Ou-Tanane', 'Province'] = 'Agadir-Ida ou Tanane'\n",
    "\n",
    "#weap: the results of the enegy model based on weap demand nodes\n",
    "\n",
    "cropland = cropland.loc[cropland.Date.isin(weap.Date.unique())] #this should be the results dataframe\n"
   ]
  },
  {
   "cell_type": "code",
   "execution_count": null,
   "metadata": {},
   "outputs": [],
   "source": [
    "weap"
   ]
  },
  {
   "cell_type": "code",
   "execution_count": null,
   "metadata": {},
   "outputs": [],
   "source": [
    "summary_provinces_agri = weap.loc[weap['type'].str.contains('Agriculture')].groupby(['Province', 'Date'])[['sswd', 'pwd', 'swpa_e', 'swpp_e']].sum()\n",
    "temp_cropland_provinces = cropland[['province', 'Date']].copy()\n",
    "temp_cropland_provinces.loc[temp_cropland_provinces['province']=='Inezgane-Aït Melloul', 'province'] = 'Taroudannt'\n",
    "for feature in list(summary_provinces_agri):\n",
    "    cropland[feature] = temp_cropland_provinces.set_index(['province', 'Date']).index.map(summary_provinces_agri[feature]) * cropland['area_share']\n",
    "        "
   ]
  },
  {
   "cell_type": "code",
   "execution_count": null,
   "metadata": {},
   "outputs": [],
   "source": [
    "cropland.rename(columns={'sswd':'water_demand(m3)',\n",
    "                'pwd':'peak_water(m3)',\n",
    "                'swpp_e':'peak_load(KW)',\n",
    "                'swpa_e':'energy_demand(KWh)'}, inplace=True)"
   ]
  },
  {
   "cell_type": "code",
   "execution_count": null,
   "metadata": {},
   "outputs": [],
   "source": [
    "cropland.columns"
   ]
  },
  {
   "cell_type": "code",
   "execution_count": null,
   "metadata": {},
   "outputs": [],
   "source": [
    "weap['Province'].unique()"
   ]
  },
  {
   "cell_type": "code",
   "execution_count": null,
   "metadata": {},
   "outputs": [],
   "source": [
    "cropland['province'].unique()"
   ]
  },
  {
   "cell_type": "markdown",
   "metadata": {},
   "source": [
    "## Running Scenarios: \n",
    "### This analysis will consider three phase out scenarios for Butane as follows: \n",
    "1. Business as usual scebaruio (bau): which assumes the current share of butane use to continue into the future\n",
    "2. Late Phase out (late_po): which assumes compelte phase out of butane by 2040.\n",
    "3. Early Phase out (early_po): which assumes compelte phase out of butane by 2030.\n",
    "\n",
    "For all the three main scenarios, we will explore three levels of PV share in the region.\n",
    "\n",
    "a. Low PV Share (low_PV): which assumes the current level of PV share of 10% to continue in the future\n",
    "b. Medium PV Share (high_PV): which assumes an increase of PV share from 10% to 20% by 2040.\n",
    "c. High PV Share (high_PV): which assumes an increase of PV share from 10% to 50% by 2040."
   ]
  },
  {
   "cell_type": "code",
   "execution_count": null,
   "metadata": {},
   "outputs": [],
   "source": [
    "butane_phaseout_scenarios = [None, 2040, 2030]\n",
    "pv_levels = [10, 20, 50]\n",
    "pv_year = 2040\n",
    "\n",
    "#butane_phaseout_scenarios = [2030]\n",
    "#pv_levels = [50]\n",
    "#pv_year = 2040\n",
    "discount_rate = 0.05\n",
    "\n",
    "# scenarios = ['late_po']\n",
    "# pv_levels = ['high_PV']\n",
    "\n",
    "             \n",
    "# load_folder = os.path.join('Data','Butane_calculations') #where to save the results?\n",
    "load_folder = os.path.join('test dash results','data','Desalination Wastewater Reuse','Climate Change','Butane Calculations')\n",
    "#results_folder = os.path.join('../Results', 'Butane_results')\n",
    "#os.makedirs(results_folder, exist_ok = True)\n",
    "\n",
    "for butane_phaseout in butane_phaseout_scenarios:\n",
    "    scenario_folder = os.path.join(load_folder, f'phaseout_{butane_phaseout}')\n",
    "    os.makedirs(scenario_folder, exist_ok = True)\n",
    "    for pv_level in pv_levels:\n",
    "        pv_folder = os.path.join(scenario_folder, f'{pv_level}_PV')\n",
    "        os.makedirs(pv_folder, exist_ok = True)\n",
    "        # Step1: Reading the input data file\n",
    "#         file_path = os.path.join(load_folder, 'cropland.csv')\n",
    "#         df = pd.read_csv(file_path)\n",
    "        df = cropland\n",
    "        \n",
    "        # Step2: Modeling Butane Phase out rate\n",
    "        def create_tech_dist(iyear, eyear, share1, rates, method, order=2):\n",
    "            tech_dist = pd.DataFrame({'Year': range(iyear, eyear+1)})\n",
    "            if method!='step':\n",
    "                for year, rate in rates.items():\n",
    "                    tech_dist.loc[tech_dist.Year==year, 'rate'] = rate\n",
    "                tech_dist['share'] = (1-tech_dist['rate']) * share1\n",
    "                tech_dist['share'] = tech_dist.share.interpolate(method=method, order=order)\n",
    "            else:\n",
    "                for year, rate in rates.items():\n",
    "                    tech_dist.loc[tech_dist.Year>=year, 'rate'] = rate\n",
    "                tech_dist['share'] = (1-tech_dist['rate']) * share1\n",
    "            return tech_dist.set_index('Year').share\n",
    "        \n",
    "                        \n",
    "#         butane_change ={'bau':0,'late_po':1,'early_po':1 }\n",
    "        if butane_phaseout:\n",
    "            butane_share = 1\n",
    "            year = butane_phaseout\n",
    "        else:\n",
    "            butane_share = 0\n",
    "            year = 2050\n",
    "                \n",
    "        \n",
    "# #         end_year ={'bau':2050,'late_po':2040,'early_po':2030 }\n",
    "#         year = end_year[scenario]\n",
    "        \n",
    "#         pv_year ={'bau':2040,'late_po':2040,'early_po':2040}\n",
    "        \n",
    "#         pv_change ={'low_PV':0, 'mid_PV':-1, 'high_PV':-4} #The negative sign means increase in share. \n",
    "#         pv_share = pv_change[pv_level]\n",
    "        pv_share = 1 - pv_level / 10\n",
    "                \n",
    "        butane_share1 = 0.2\n",
    "        pv_share1 = 0.05\n",
    "        df.start_year = 2020\n",
    "        df.end_year = year\n",
    "#         pv_year = pv_year[scenario]\n",
    "        df.mid_year = ((df.start_year+df.end_year)/2)\n",
    "        bt_rates = {df.start_year: 0, df.mid_year: butane_share*0.5, df.end_year: butane_share}\n",
    "        pv_rates = {df.start_year: 0, 2030: pv_share*0.5, pv_year: pv_share, 2050: pv_share*1.2}\n",
    "        butane_dist = create_tech_dist(df.start_year, df.end_year, butane_share1, bt_rates, 'polynomial')\n",
    "        pv_dist = create_tech_dist(df.start_year, pv_year, pv_share1, pv_rates, 'polynomial')\n",
    "\n",
    "        #Step3: PV learning curve and crop in PV CAPEX\n",
    "        def create_learning_curve(iyear, eyear, cc, rates, method, order=2):\n",
    "            learning_curve = pd.DataFrame({'Year': range(iyear, eyear+1)})\n",
    "            if method!='step':\n",
    "                for year, rate in rates.items():\n",
    "                    learning_curve.loc[learning_curve.Year==year, 'rate'] = rate\n",
    "                learning_curve['capital_cost'] = (1-learning_curve['rate']) * cc\n",
    "                learning_curve['capital_cost'] = learning_curve.capital_cost.interpolate(method=method, order=order)\n",
    "            else:\n",
    "                for year, rate in rates.items():\n",
    "                    learning_curve.loc[learning_curve.Year>=year, 'rate'] = rate\n",
    "                learning_curve['capital_cost'] = (1-learning_curve['rate']) * cc\n",
    "            return learning_curve.set_index('Year').capital_cost\n",
    "        \n",
    "        pv_rate = 0.4 #Assuming 40% drop in PV capex by 2040.\n",
    "        cc = 7 #current capital cost of pv in MAD/wat \n",
    "        #pv_cf = 0.25\n",
    "        pv_life=25\n",
    "        df.start_year=2020\n",
    "        df.end_year= 2050\n",
    "        #capital_cost = 1000\n",
    "        rates = {2020: 0, 2030: pv_rate*0.3, 2040: pv_rate, 2050: pv_rate*1.3}\n",
    "        cc_solar_curve = create_learning_curve(df.start_year, df.end_year, cc, rates, 'polynomial')\n",
    "        om_cost=0.01 \n",
    "        efficiency=1\n",
    "        \n",
    "        dist = pd.DataFrame({'butane_share':pd.Series(butane_dist),\n",
    "                   'pv_share':pd.Series(pv_dist),\n",
    "                   'pv_cc':pd.Series(cc_solar_curve)})\n",
    "        \n",
    "        dist['butane_share'].fillna(method='ffill',inplace=True) #This method fills any missing data with the previous value.\n",
    "        dist['pv_share'].fillna(method='ffill',inplace=True)\n",
    "        dist['pv_cc'].fillna(method='ffill',inplace=True)\n",
    "        dist['grid_share']= 1-(dist['pv_share']+dist['butane_share'])\n",
    "        \n",
    "        \n",
    "        souss_massa = pd.merge(df, dist, on='Year')\n",
    "        \n",
    "        butane_req = 1/12.58 # LHV = 12.58 KWh/Kg (amount of butane (kg) required to produce 1 KWh) \n",
    "        butane_em = 6.67 #kg CO\"/Gallon\n",
    "        gallon2liter = 3.78541 #l/Gallon\n",
    "        butane_density = 573 #kg/m3\n",
    "        butane_ef = butane_em / (gallon2liter/1000 * butane_density) #kgCO2/kg\n",
    "        butane_em_fac = butane_ef * 1000 ##kgCO2/ton\n",
    "#         butane_em_fac = 3079.5\n",
    "        bpump_eff = 0.2 #efficiency of butane \n",
    "        epump_eff = 0.45 #assumption\n",
    "        conv_fac = 1000000000 # to convert emissions from kgCO2 to Million meteric tons of CO2 MtCO2\n",
    "\n",
    "        souss_massa['pv_load(KW)'] = souss_massa['peak_load(KW)']*souss_massa['pv_share']\n",
    "        souss_massa['pv_demand(KWh)'] = souss_massa['energy_demand(KWh)']*souss_massa['pv_share']\n",
    "        souss_massa['butane_demand(KWh)'] = souss_massa['energy_demand(KWh)']*souss_massa['butane_share']\n",
    "        souss_massa['grid_demand(KWh)'] = souss_massa['energy_demand(KWh)']*souss_massa['grid_share']\n",
    "\n",
    "\n",
    "        souss_massa['pv_elec(KWh)'] = souss_massa['pv_demand(KWh)']/epump_eff\n",
    "        souss_massa['grid_elec(KWh)'] = souss_massa['grid_demand(KWh)']/epump_eff\n",
    "\n",
    "        souss_massa['butane_cons(kg)'] = (souss_massa['butane_demand(KWh)']*butane_req)/bpump_eff\n",
    "        souss_massa['butane_cons(tonnes)'] = souss_massa['butane_cons(kg)']/1000\n",
    "        souss_massa['butane_emissions(MtCO2)'] = souss_massa['butane_cons(tonnes)'] * butane_em_fac/conv_fac\n",
    "\n",
    "        souss_massa['butane_FARcost(mMAD)'] = (souss_massa['butane_cons(kg)']*(40/12))/1000000 #in million MAD, this is what farmers pay\n",
    "        souss_massa['butane_ACTcost(mMAD)'] = (souss_massa['butane_cons(kg)']*(120/12))/1000000 #in million MAD, this is what farmers pay\n",
    "        souss_massa['butane_Subsidy(mMAD)'] = (souss_massa['butane_cons(kg)']*(80/12))/1000000 #in million MAD, this is the total subsidy cost\n",
    "\n",
    "        \n",
    "        # Estimating the electriicty from the grid and emissions\n",
    "        grid_em_fac = 0.7 #kgco2/kwh  , This is based on data from IEA, Morocco 2019 \n",
    "        grid_cost = 0.57 # MAD/KWh, Assumption and to be updated \n",
    "\n",
    "        #scenario1['grid_elec (kwh)'] = scenario1['grid_demand_kwh']/epump_eff #already calculated above\n",
    "        souss_massa['grid_emissions(MtCO2)'] = souss_massa['grid_elec(KWh)']*grid_em_fac/conv_fac\n",
    "        souss_massa['grid_cost(mMAD)'] = (souss_massa['grid_elec(KWh)']*grid_cost)/1000000\n",
    "        souss_massa['Total_emissions(MtCO2)'] = (souss_massa['grid_emissions(MtCO2)'] + souss_massa['butane_emissions(MtCO2)'])\n",
    "\n",
    "        # Estimating the required monthly capacity of pv NOTE: 1 kWh = 3600 kJ\n",
    "\n",
    "        souss_massa['cf'] = souss_massa['srad'] / (24*60*60) #This will give the cf in solar rad: (kJ/(m2.day))*30.day/month*1h/(24h*60m*60s) =kWh/(m2.month)*30/(60*60)\n",
    "        souss_massa['cap_m(MW)'] = souss_massa['pv_load(KW)'] / souss_massa['cf']/1000   #to convert to MW, check the units\n",
    "        \n",
    "        \n",
    "        \n",
    "        \n",
    "        souss_massa1 = souss_massa.groupby(['Demand point','Year']).agg({'water_demand(m3)': 'sum','energy_demand(KWh)': 'sum', \n",
    "                                                                         'pv_elec(KWh)': 'sum', 'grid_elec(KWh)': 'sum', 'cap_m(MW)': 'max',\n",
    "                                                                         'butane_cons(tonnes)': 'sum', 'butane_FARcost(mMAD)': 'sum', \n",
    "                                                                         'butane_ACTcost(mMAD)': 'sum','butane_Subsidy(mMAD)': 'sum',\n",
    "                                                                         'butane_emissions(MtCO2)': 'sum','grid_emissions(MtCO2)': 'sum',\n",
    "                                                                         'Total_emissions(MtCO2)': 'sum','grid_cost(mMAD)': 'sum',\n",
    "                                                                         'pv_demand(KWh)': 'sum', 'butane_demand(KWh)': 'sum', 'grid_demand(KWh)': 'sum'})\n",
    "\n",
    "        pv_installed_cap = pd.Series(dtype=float) #inicialize a pandas series that will be populated with the cumulative max of the max capacity of each point group\n",
    "        for index, group in souss_massa1.reset_index().groupby('Demand point'): # loops through each demand point set of data\n",
    "            group_pv_cap = pd.Series(group['cap_m(MW)'].cummax().values, index=group.reset_index().set_index(['Demand point','Year']).index)\n",
    "            pv_installed_cap = pv_installed_cap.append(group_pv_cap) #, ignore_index=True) # calculates the cummmax() for the demand point and append the values to the pv_installed_capacity\n",
    "        \n",
    "        #souss_massa1['Province'] = (souss_massa.groupby(['Demand point','Year'])['province'])\n",
    "        souss_massa1['GWdepth'] = (souss_massa.groupby(['Demand point','Year'])['wtd'].mean())\n",
    "        souss_massa1['srad'] = (souss_massa.groupby(['Demand point','Year'])['srad'].mean())\n",
    "        souss_massa1['wind'] = (souss_massa.groupby(['Demand point','Year'])['wind'].mean())\n",
    "        souss_massa1['cap_mean(MW)'] = (souss_massa.groupby(['Demand point','Year'])['cap_m(MW)'].mean())\n",
    "        souss_massa1['cap_max(MW)'] = (souss_massa.groupby(['Demand point','Year'])['cap_m(MW)'].max())\n",
    "        souss_massa1['pv_cc'] = (souss_massa.groupby(['Demand point','Year'])['pv_cc'].mean())\n",
    "        \n",
    "       \n",
    "        \n",
    "        #Calculating PV installed capacity and new capacity in each year:\n",
    "        #souss_massa1.reset_index(inplace=True)     \n",
    "        souss_massa1['PV_installed_cap(MW)'] = pv_installed_cap\n",
    "        souss_massa1['PV_new_cap(MW)'] = souss_massa1['PV_installed_cap(MW)'] - souss_massa1['PV_installed_cap(MW)'].shift(1)\n",
    "        souss_massa1.reset_index(inplace=True)\n",
    "        souss_massa1.loc[souss_massa1['Year']==2020, 'PV_new_cap(MW)'] = 0\n",
    "        \n",
    "        \n",
    "        #Calculating the required area for PV installations:\n",
    "        souss_massa1['PV_area(ha)'] = souss_massa1['PV_installed_cap(MW)'] * 0.9  # Since the area required to install 1 MW of PV = 1 ha or 10m2/1KW \n",
    "\n",
    "        \n",
    "        \n",
    "        #PV reinvestment calculations\n",
    "#         souss_massa2 = pd.DataFrame()\n",
    "#         for index, group in souss_massa1.groupby(['Demand point']):\n",
    "#             dff = group.copy()\n",
    "#             dff['reinv_cap(MW)'] = dff['PV_new_cap(MW)'].shift(pv_life).fillna(0)\n",
    "#             souss_massa2 = souss_massa2.append(dff, ignore_index=True)\n",
    "            \n",
    "#             souss_massa2['PV_Capex(mMAD)']=(souss_massa2['PV_new_cap(MW)']+souss_massa2['reinv_cap(MW)'])*souss_massa2['pv_cc']\n",
    "#             souss_massa2['PV_Opex(mMAD)']=(souss_massa2['PV_Capex(mMAD)']*om_cost)\n",
    "        \n",
    "        souss_massa1['reinv_cap(MW)'] = souss_massa1['PV_new_cap(MW)'].shift(pv_life).fillna(0)\n",
    "        souss_massa1.loc[souss_massa1['Year']<(2020+pv_life), 'reinv_cap(MW)'] = 0\n",
    "        souss_massa1['PV_Capex(mMAD)']=(souss_massa1['PV_new_cap(MW)']+souss_massa1['reinv_cap(MW)'])*souss_massa1['pv_cc']\n",
    "        souss_massa1['PV_Opex(mMAD)']=(souss_massa1['PV_Capex(mMAD)']*om_cost)\n",
    "\n",
    "        #NPV calculations:\n",
    "        souss_massa1['time'] = souss_massa1['Year']-2020\n",
    "        \n",
    "        souss_massa1['PV_Capex_NPV(mMAD)'] = souss_massa1['PV_Capex(mMAD)']/((1+discount_rate)**(souss_massa1['time']))\n",
    "        souss_massa1['PV_Opex_NPV(mMAD)'] = souss_massa1['PV_Opex(mMAD)']/((1+discount_rate)**(souss_massa1['time']))\n",
    "        souss_massa1['butane_Subsidy_NPV(mMAD)'] = souss_massa1['butane_Subsidy(mMAD)']/((1+discount_rate)**(souss_massa1['time']))\n",
    "        souss_massa1['grid_cost_NPV(mMAD)'] = souss_massa1['grid_cost(mMAD)']/((1+discount_rate)**(souss_massa1['time']))\n",
    "        souss_massa1['PV_Total_NPV(mMAD)'] = souss_massa1['PV_Capex_NPV(mMAD)'] + souss_massa1['PV_Opex_NPV(mMAD)']\n",
    "        \n",
    "        souss_massa1_summary = souss_massa1.groupby(['Year'])[['water_demand(m3)','energy_demand(KWh)', 'cap_max(MW)', 'pv_elec(KWh)', \n",
    "                                                               'grid_elec(KWh)','butane_cons(tonnes)', 'butane_FARcost(mMAD)',\n",
    "                                                               'PV_new_cap(MW)','PV_installed_cap(MW)','PV_area(ha)','reinv_cap(MW)',\n",
    "                                                               'butane_emissions(MtCO2)','grid_emissions(MtCO2)','Total_emissions(MtCO2)',\n",
    "                                                               'butane_Subsidy(mMAD)','butane_Subsidy_NPV(mMAD)','grid_cost(mMAD)','grid_cost_NPV(mMAD)',\n",
    "                                                               'PV_Capex(mMAD)','PV_Capex_NPV(mMAD)','PV_Opex(mMAD)','PV_Opex_NPV(mMAD)', 'PV_Total_NPV(mMAD)',\n",
    "                                                               'pv_demand(KWh)', 'butane_demand(KWh)', 'grid_demand(KWh)']].sum()\n",
    "\n",
    "        # Step: Saving Results\n",
    "        output_folder = os.path.join(pv_folder)\n",
    "        os.makedirs(output_folder, exist_ok = True)\n",
    "#         souss_massa1.to_csv(os.path.join(output_folder, 'results.csv'), index=False)\n",
    "        souss_massa1_summary.to_csv(os.path.join(output_folder, 'summary_results.gz'))"
   ]
  },
  {
   "cell_type": "code",
   "execution_count": null,
   "metadata": {},
   "outputs": [],
   "source": [
    "souss_massa1_summary.columns"
   ]
  },
  {
   "cell_type": "code",
   "execution_count": null,
   "metadata": {},
   "outputs": [],
   "source": [
    "pd.Series(group['cap_m(MW)'].cummax().values, index=group.reset_index().set_index(['Demand point','Year']).index)"
   ]
  },
  {
   "cell_type": "code",
   "execution_count": null,
   "metadata": {},
   "outputs": [],
   "source": [
    "#souss_massa1[['cap_m(MW)','PV_installed_cap(MW)']]\n",
    "#souss_massa1['cap_m(MW)'].mean()\n",
    "#souss_massa1['PV_installed_cap(MW)'].max()\n",
    "pv_installed_cap"
   ]
  },
  {
   "cell_type": "code",
   "execution_count": null,
   "metadata": {},
   "outputs": [],
   "source": [
    "souss_massa1[['cap_max(MW)','PV_installed_cap(MW)','PV_Capex(mMAD)', 'PV_Capex_NPV(mMAD)',\n",
    "       'butane_Subsidy(mMAD)', 'grid_cost(mMAD)',\n",
    "       'butane_Subsidy_NPV(mMAD)', 'grid_cost_NPV(mMAD)']]"
   ]
  },
  {
   "cell_type": "code",
   "execution_count": null,
   "metadata": {},
   "outputs": [],
   "source": [
    "souss_massa1_summary[['PV_Capex(mMAD)', 'PV_Opex(mMAD)', 'PV_Capex_NPV(mMAD)',\n",
    "       'PV_Opex_NPV(mMAD)', 'PV_Total_NPV(mMAD)','butane_Subsidy(mMAD)', 'grid_cost(mMAD)',\n",
    "       'butane_Subsidy_NPV(mMAD)', 'grid_cost_NPV(mMAD)']]"
   ]
  },
  {
   "cell_type": "code",
   "execution_count": null,
   "metadata": {},
   "outputs": [],
   "source": [
    "souss_massa1_summary[['cap_max(MW)','PV_new_cap(MW)','PV_installed_cap(MW)', 'PV_area(ha)']]"
   ]
  },
  {
   "cell_type": "code",
   "execution_count": null,
   "metadata": {},
   "outputs": [],
   "source": []
  },
  {
   "cell_type": "markdown",
   "metadata": {},
   "source": [
    "## Comparing scenarios"
   ]
  },
  {
   "cell_type": "code",
   "execution_count": null,
   "metadata": {},
   "outputs": [],
   "source": [
    "import pandas as pd\n",
    "import os\n",
    "\n",
    "# Reading results files\n",
    "bau_folder = os.path.join('test dash results','data','Increased Water Productivity','Climate Change','Butane Calculations', 'phaseout_None')\n",
    "late_folder = os.path.join('test dash results','data','Increased Water Productivity','Climate Change','Butane Calculations', 'phaseout_2040')\n",
    "early_folder = os.path.join('test dash results','data','Increased Water Productivity','Climate Change','Butane Calculations', 'phaseout_2030')\n",
    "\n",
    "bau1 = pd.read_csv(os.path.join(bau_folder, '10_PV', 'summary_results.gz'))\n",
    "# bau = bau.add_prefix('bau_')\n",
    "bau1['butane_phaseout'] = 'None'\n",
    "bau1['pv_adoption'] = '10%'\n",
    "bau2 = pd.read_csv(os.path.join(bau_folder, '20_PV', 'summary_results.gz'))\n",
    "bau2['butane_phaseout'] = 'None'\n",
    "bau2['pv_adoption'] = '20%'\n",
    "bau3 = pd.read_csv(os.path.join(bau_folder, '50_PV', 'summary_results.gz'))\n",
    "bau3['butane_phaseout'] = 'None'\n",
    "bau3['pv_adoption'] = '50%'\n",
    "\n",
    "\n",
    "latePV10 = pd.read_csv(os.path.join(late_folder, '10_PV', 'summary_results.gz'))\n",
    "# latePV10 = latePV10.add_prefix('LP1_')\n",
    "latePV10['butane_phaseout'] = 'by 2040'\n",
    "latePV10['pv_adoption'] = '10%'\n",
    "latePV20 = pd.read_csv(os.path.join(late_folder, '20_PV', 'summary_results.gz'))\n",
    "# latePV20 = latePV20.add_prefix('LP2_')\n",
    "latePV20['butane_phaseout'] = 'by 2040'\n",
    "latePV20['pv_adoption'] = '20%'\n",
    "latePV50 = pd.read_csv(os.path.join(late_folder, '50_PV', 'summary_results.gz'))\n",
    "# latePV20 = latePV20.add_prefix('LP2_')\n",
    "latePV50['butane_phaseout'] = 'by 2040'\n",
    "latePV50['pv_adoption'] = '50%'\n",
    "\n",
    "\n",
    "earlyPV10 = pd.read_csv(os.path.join(early_folder, '10_PV', 'summary_results.gz'))\n",
    "# earlyPV10 = earlyPV10.add_prefix('EP1_')\n",
    "earlyPV10['butane_phaseout'] = 'by 2030'\n",
    "earlyPV10['pv_adoption'] = '10%'\n",
    "earlyPV20 = pd.read_csv(os.path.join(early_folder, '20_PV', 'summary_results.gz'))\n",
    "# earlyPV20 = earlyPV20.add_prefix('EP2_')\n",
    "earlyPV20['butane_phaseout'] = 'by 2030'\n",
    "earlyPV20['pv_adoption'] = '20%'\n",
    "earlyPV50 = pd.read_csv(os.path.join(early_folder, '50_PV', 'summary_results.gz'))\n",
    "# earlyPV20 = earlyPV20.add_prefix('EP2_')\n",
    "earlyPV50['butane_phaseout'] = 'by 2030'\n",
    "earlyPV50['pv_adoption'] = '50%'"
   ]
  },
  {
   "cell_type": "code",
   "execution_count": null,
   "metadata": {},
   "outputs": [],
   "source": [
    "import plotly.express as px"
   ]
  },
  {
   "cell_type": "code",
   "execution_count": null,
   "metadata": {},
   "outputs": [],
   "source": [
    "earlyPV10.columns"
   ]
  },
  {
   "cell_type": "code",
   "execution_count": null,
   "metadata": {},
   "outputs": [],
   "source": [
    "df = earlyPV50.loc[earlyPV50.Year>2020]\n",
    "\n",
    "fig = px.bar(df, x='Year', y='PV_installed_cap(MW)', #color='variable',\n",
    "             title='PV Total installed capacity (MW)',\n",
    "#              color_discrete_sequence=px.colors.qualitative.Set2,\n",
    "             labels={\"PV_installed_cap(MW)\": \"PV Total capacity (MW)\"}\n",
    "            )\n",
    "fig.show()"
   ]
  },
  {
   "cell_type": "code",
   "execution_count": null,
   "metadata": {},
   "outputs": [],
   "source": [
    "df = earlyPV50\n",
    "df.loc[df.Year==2020,'PV_new_cap(MW)'] = 0\n",
    "df['previous_capacity(MW)'] = df['PV_installed_cap(MW)'] - df['PV_installed_cap(MW)']\n",
    "df = df.melt(value_vars=['previous_capacity(MW)', 'PV_new_cap(MW)'], id_vars=['Year'])\n",
    "\n",
    "fig = px.bar(df, x='Year', y='value', color='variable',\n",
    "             title='PV new installed capacity (MW)',\n",
    "#              color_discrete_sequence=px.colors.qualitative.Set2,\n",
    "             labels={\"PV_installed_cap(MW)\": \"PV capacity (MW)\"}\n",
    "            )\n",
    "fig.show()"
   ]
  },
  {
   "cell_type": "code",
   "execution_count": null,
   "metadata": {},
   "outputs": [],
   "source": [
    "df = earlyPV50\n",
    "df.loc[df.Year==2020,'PV_new_cap(MW)'] = 0\n",
    "df['previous_capacity(MW)'] =df['previous_capacity(MW)'].shift(1) + df['PV_new_cap(MW)']\n",
    "df = df.melt(value_vars=['previous_capacity(MW)', 'PV_new_cap(MW)'], id_vars=['Year'])\n",
    "\n",
    "fig = px.bar(df, x='Year', y='value', color='variable',\n",
    "             title='PV new installed capacity (MW)',\n",
    "#              color_discrete_sequence=px.colors.qualitative.Set2,\n",
    "             labels={\"cap_m(MW)\": \"PV required capacity (MW)\"}\n",
    "            )\n",
    "fig.show()"
   ]
  },
  {
   "cell_type": "code",
   "execution_count": null,
   "metadata": {},
   "outputs": [],
   "source": [
    "df = bau2.melt(value_vars=['pv_demand(KWh)', 'butane_demand(KWh)', 'grid_demand(KWh)'], \n",
    "                   id_vars=['Year'])\n",
    "\n",
    "df.loc[df['variable']=='butane_demand(KWh)', 'variable'] = \"Butane\"\n",
    "df.loc[df['variable']=='grid_demand(KWh)', 'variable'] = \"Grid\"\n",
    "df.loc[df['variable']=='pv_demand(KWh)', 'variable'] = \"PV\"\n",
    "\n",
    "fig = px.bar(df, x='Year',  y='value', color='variable',\n",
    "             title='Energy demand in agriculture water pumping',\n",
    "             color_discrete_sequence=px.colors.qualitative.Set2,\n",
    "             labels={'value': 'Energy demand (kWh)',\n",
    "                     'variable': ''}\n",
    "            )\n",
    "fig.show()"
   ]
  },
  {
   "cell_type": "code",
   "execution_count": null,
   "metadata": {},
   "outputs": [],
   "source": [
    "df = bau2.melt(value_vars=['butane_emissions(MtCO2)', 'grid_emissions(MtCO2)'], \n",
    "                   id_vars=['Year'])\n",
    "\n",
    "df.loc[df['variable']=='butane_emissions(MtCO2)', 'variable'] = \"Butane\"\n",
    "df.loc[df['variable']=='grid_emissions(MtCO2)', 'variable'] = \"Grid\"\n",
    "\n",
    "fig = px.bar(df, x='Year', y='value', color='variable',\n",
    "             title='Yearly emissions',\n",
    "#              color_discrete_sequence=px.colors.qualitative.Set2,\n",
    "             labels={'value': 'Emissions (MtCO2)',\n",
    "                     'variable': ''}\n",
    "            )\n",
    "fig.update_layout(legend=dict(\n",
    "                            orientation=\"h\",\n",
    "                            yanchor=\"bottom\",\n",
    "                            y=-0.2,\n",
    "                            xanchor=\"left\",\n",
    "                            x=0\n",
    "))\n",
    "fig.show()"
   ]
  },
  {
   "cell_type": "code",
   "execution_count": null,
   "metadata": {},
   "outputs": [],
   "source": [
    "#bau.columns\n",
    "#bau['bau_PV_new_cap(MW)']\n",
    "# earlyPV20['EP2_reinv_cap(MW)']#-earlyPV20['bau_PV_new_cap(MW)']\n",
    "earlyPV20.columns"
   ]
  },
  {
   "cell_type": "code",
   "execution_count": null,
   "metadata": {},
   "outputs": [],
   "source": [
    "# all_dfs = pd.concat([bau, latePV10,latePV20,earlyPV10,earlyPV20], axis=1)\n",
    "# all_dfs.drop(['LP1_Year','LP2_Year','EP1_Year','EP2_Year',\n",
    "#               'LP1_water_demand(m3)','LP2_water_demand(m3)','EP1_water_demand(m3)','EP2_water_demand(m3)',\n",
    "#              'LP1_energy_demand(KWh)','LP2_energy_demand(KWh)','EP1_energy_demand(KWh)','EP2_energy_demand(KWh)'], axis=1, inplace=True)\n",
    "# all_dfs.rename({'bau_Year':'Year',\n",
    "#                'bau_water_demand(m3)':'water_demand(m3)',\n",
    "#                'bau_energy_demand(KWh)':'energy_demand(KWh)'}, axis=1, inplace=True)\n",
    "\n",
    "\n",
    "# conv_fac = 1000000000 # to convert emissions from kgCO2 to Million meteric tons of CO2 MtCO2\n",
    "# butane_em = 6.67 #kg CO\"/Gallon\n",
    "# gallon2liter = 3.78541 #l/Gallon\n",
    "# butane_density = 573 #kg/m3\n",
    "# butane_ef = butane_em / (gallon2liter/1000 * butane_density) #kgCO2/kg\n",
    "# butane_em_fac = butane_ef * 1000 ##kgCO2/ton\n",
    "# grid_em_fac = 0.7\n",
    "# epump_eff_old = 0.45\n",
    "# epump_eff = 0.45\n",
    "# butane_req = 1/12.58 #LHV = 12.58 KWh/Kg (amount of butane (kg) required to produce 1 KWh) \n",
    "\n",
    "all_dfs = bau1.append([bau2,bau3,latePV10,latePV20,latePV50,earlyPV10,earlyPV20,earlyPV50], ignore_index=True)\n",
    "# all_dfs['butane_emissions(MtCO2)'] = all_dfs['butane_cons(tonnes)'] * butane_em_fac / conv_fac\n",
    "# all_dfs['grid_elec(KWh)'] = all_dfs['grid_elec(KWh)']/epump_eff*epump_eff_old\n",
    "# all_dfs['pv_elec(KWh)'] = all_dfs['pv_elec(KWh)']/epump_eff*epump_eff_old\n",
    "# all_dfs['grid_emissions(MtCO2)'] = all_dfs['grid_elec(KWh)']*grid_em_fac/conv_fac\n",
    "# all_dfs['butane_energy(KWh)'] = all_dfs['butane_cons(tonnes)'] / (butane_req/1000) * 0.2 \n",
    "\n",
    "# all_dfs['grid_cost(mMAD)'] /= 100\n",
    "# all_dfs['grid_emissions(MtCO2)'] /= 100"
   ]
  },
  {
   "cell_type": "code",
   "execution_count": null,
   "metadata": {},
   "outputs": [],
   "source": [
    "# all_dfs['total_energy(KWh)'] = all_dfs[['pv_elec(KWh)','grid_elec(KWh)', 'butane_energy(KWh)']].sum(axis=1)\n",
    "# all_dfs['pv_share'] = all_dfs['pv_elec(KWh)'] / all_dfs['total_energy(KWh)']\n",
    "# all_dfs['grid_share'] = all_dfs['grid_elec(KWh)'] / all_dfs['total_energy(KWh)']\n",
    "# all_dfs['butane_share'] = all_dfs['butane_energy(KWh)'] / all_dfs['total_energy(KWh)']\n",
    "# all_dfs"
   ]
  },
  {
   "cell_type": "code",
   "execution_count": null,
   "metadata": {},
   "outputs": [],
   "source": [
    "all_dfs.columns"
   ]
  },
  {
   "cell_type": "code",
   "execution_count": null,
   "metadata": {},
   "outputs": [],
   "source": [
    "df = all_dfs.loc[all_dfs.Year >= 2021].groupby(['butane_phaseout', 'pv_adoption'])[['water_demand(m3)', 'energy_demand(KWh)', 'pv_elec(KWh)',\n",
    "                                              'grid_elec(KWh)', 'butane_cons(tonnes)', 'butane_FARcost(mMAD)',\n",
    "                                              'PV_new_cap(MW)', 'reinv_cap(MW)', 'butane_emissions(MtCO2)',\n",
    "                                              'grid_emissions(MtCO2)', 'Total_emissions(MtCO2)',\n",
    "                                              'butane_Subsidy(mMAD)', 'grid_cost(mMAD)','PV_Capex(mMAD)',\n",
    "                                              'butane_Subsidy_NPV(mMAD)', 'grid_cost_NPV(mMAD)','PV_Capex_NPV(mMAD)',\n",
    "                                              'pv_demand(KWh)', 'butane_demand(KWh)', 'grid_demand(KWh)']].sum().reset_index()"
   ]
  },
  {
   "cell_type": "code",
   "execution_count": null,
   "metadata": {},
   "outputs": [],
   "source": [
    "dff = df.copy().melt(value_vars=['butane_Subsidy(mMAD)', 'grid_cost(mMAD)', 'PV_Capex(mMAD)'], \n",
    "         id_vars=['butane_phaseout', 'pv_adoption'])\n",
    "\n",
    "dff.loc[dff['variable']==\"butane_Subsidy(mMAD)\", 'variable'] = \"Butane\"\n",
    "dff.loc[dff['variable']==\"grid_cost(mMAD)\", 'variable'] = \"Grid\"\n",
    "dff.loc[dff['variable']==\"PV_Capex(mMAD)\", 'variable'] = \"PV\"\n",
    "\n",
    "fig = px.bar(dff, x='butane_phaseout', y='value', color='variable',\n",
    "             facet_col='pv_adoption', title='Total cost under different butane phaseout scenarios and PV adoption',\n",
    "             color_discrete_sequence=px.colors.qualitative.Set2,\n",
    "             labels={\n",
    "                     \"butane_phaseout\": \"Butane phase-out\",\n",
    "                     \"pv_adoption\": \"PV adoption by 2040\",\n",
    "                     \"value\": \"Total costs (mMAD)\",\n",
    "                     \"variable\": 'Source'\n",
    "                     }\n",
    "            )\n",
    "fig.update_layout(xaxis={'categoryorder':'total descending'})\n",
    "fig.show()\n",
    "#fig.write_image('TotalCosts.pdf', width=900)"
   ]
  },
  {
   "cell_type": "code",
   "execution_count": null,
   "metadata": {},
   "outputs": [],
   "source": [
    "all_dfs['Total_emissions(MtCO2)'] = all_dfs[['butane_emissions(MtCO2)', 'grid_emissions(MtCO2)']].sum(axis=1)\n",
    "dff = all_dfs.groupby(['Year','butane_phaseout', 'pv_adoption'])['Total_emissions(MtCO2)'].sum().reset_index()\n",
    "\n",
    "dff = dff.copy().melt(value_vars=['Total_emissions(MtCO2)'], \n",
    "         id_vars=['Year','butane_phaseout', 'pv_adoption'])\n",
    "\n",
    "fig = px.line(dff, x='Year', y='value', color='butane_phaseout',\n",
    "             facet_col='pv_adoption', title='Annual emissions under different butane phaseout scenarios and PV adoption',\n",
    "             color_discrete_sequence=px.colors.qualitative.T10,\n",
    "             labels={\n",
    "                     \"butane_phaseout\": \"Butane phase-out\",\n",
    "                     \"pv_adoption\": \"PV adoption by 2040\",\n",
    "                     \"value\": \"Emissions (MtCO2)\"\n",
    "                     },\n",
    "#              facet_row_spacing=0.04, # default is 0.07 when facet_col_wrap is used\n",
    "             facet_col_spacing=0.06,\n",
    "             )\n",
    "fig.show()\n",
    "# fig.write_image('AnnualEmissions.pdf', width=900)"
   ]
  },
  {
   "cell_type": "code",
   "execution_count": null,
   "metadata": {},
   "outputs": [],
   "source": [
    "dff = df.copy().melt(value_vars=['butane_emissions(MtCO2)', 'grid_emissions(MtCO2)'], \n",
    "         id_vars=['butane_phaseout', 'pv_adoption'])\n",
    "\n",
    "dff.loc[dff['variable']==\"butane_emissions(MtCO2)\", 'variable'] = \"Butane\"\n",
    "dff.loc[dff['variable']==\"grid_emissions(MtCO2)\", 'variable'] = \"Grid\"\n",
    "\n",
    "fig = px.bar(dff, x='butane_phaseout', y='value', color='variable',\n",
    "             facet_col='pv_adoption', title='Total emissions under different butane phaseout scenarios and PV adoption',\n",
    "             color_discrete_sequence=px.colors.qualitative.Vivid,\n",
    "             labels={\n",
    "                     \"butane_phaseout\": \"Butane phase-out\",\n",
    "                     \"pv_adoption\": \"PV adoption by 2040\",\n",
    "                     \"value\": \"Emissions (MtCO2)\",\n",
    "                     \"variable\": 'Source'\n",
    "                     }\n",
    "            )\n",
    "\n",
    "fig.update_layout(xaxis={'categoryorder':'array', 'categoryarray':['None','by 2040','by 2030']})\n",
    "\n",
    "fig.show()\n",
    "# fig.write_image('TotalEmissions.pdf', width=900)"
   ]
  },
  {
   "cell_type": "code",
   "execution_count": null,
   "metadata": {},
   "outputs": [],
   "source": [
    "df = all_dfs.loc[(all_dfs.Year >= 2021) & (all_dfs.Year < 2050)].copy()\n",
    "\n",
    "df['Total_emissions(MtCO2)'] = df[['butane_emissions(MtCO2)', 'grid_emissions(MtCO2)']].sum(axis=1)\n",
    "df['Total_costs(mMAD)'] = df[['butane_Subsidy(mMAD)', 'grid_cost(mMAD)', 'PV_Capex(mMAD)']].sum(axis=1)\n",
    "\n",
    "dff = pd.DataFrame()\n",
    "for key, group in df.groupby(['butane_phaseout', 'pv_adoption']):\n",
    "#     print(key)\n",
    "    _dff = group.copy()\n",
    "    \n",
    "    _dff['Cumulative emissions (MtCO2)'] = _dff['Total_emissions(MtCO2)'].cumsum()\n",
    "    _dff['Cumulative costs (mMAD)'] = _dff['Total_costs(mMAD)'].cumsum()\n",
    "#     print(_dff)\n",
    "    dff = dff.append(_dff, ignore_index=True)\n",
    "\n",
    "# dff['Cumulative emissions (MtCO2)'] = dff['Total_emissions(MtCO2)'].cumsum()\n",
    "# dff['Cumulative costs (mMAD)'] = dff['Total_costs(mMAD)'].cumsum()\n",
    "\n",
    "pv_adop_dic = {'10%': 0.1, '20%': 0.2, '50%': 0.5}\n",
    "\n",
    "dff = dff.groupby(['butane_phaseout', 'pv_adoption']).sum().reset_index()\n",
    "\n",
    "dff['pv_adoption_number'] = [pv_adop_dic[i] for i in dff['pv_adoption']]\n",
    "\n",
    "# dff = dff.melt(value_vars=['Total_emissions(MtCO2)', 'Total_costs(mMAD)'], \n",
    "#          id_vars=['butane_phaseout', 'pv_adoption'])\n",
    "\n",
    "fig = px.scatter(dff, x='Total_costs(mMAD)', y='Total_emissions(MtCO2)',\n",
    "                 title='Total emissions and costs under different butane phaseout scenarios and PV adoption', \n",
    "                 color='butane_phaseout', size='pv_adoption_number',\n",
    "#              animation_frame=\"Year\", animation_group=\"pv_adoption\", hover_name=\"pv_adoption\",\n",
    "#              range_x=[dff['pv_elec(KWh)'].min(),dff['pv_elec(KWh)'].max()], size_max=55,\n",
    "#              range_y=[dff['Total_emissions(MtCO2)'].min(),dff['Total_emissions(MtCO2)'].max()],\n",
    "                 color_discrete_sequence=px.colors.qualitative.Vivid,\n",
    "                 labels={\n",
    "                         \"butane_phaseout\": \"Butane phase-out\",\n",
    "                         \"pv_adoption\": \"PV adoption share by 2040\",\n",
    "                         \"Total_emissions(MtCO2)\": \"Emissions (MtCO2)\",\n",
    "                         \"Total_costs(mMAD)\": 'Total costs (mMAD) ',\n",
    "                         \"pv_adoption_number\": 'PV share by 2040'\n",
    "                         }\n",
    "                )\n",
    "\n",
    "fig.show()\n",
    "#fig.write_image('EmissionsVsCosts_Reference.pdf', width=900)"
   ]
  },
  {
   "cell_type": "code",
   "execution_count": null,
   "metadata": {},
   "outputs": [],
   "source": []
  },
  {
   "cell_type": "code",
   "execution_count": null,
   "metadata": {},
   "outputs": [],
   "source": [
    "dff = all_dfs.groupby(['Year','butane_phaseout', 'pv_adoption'])[['pv_demand(KWh)', 'butane_demand(KWh)', 'grid_demand(KWh)']].sum().reset_index()\n",
    "\n",
    "dff['pv_demand(%)'] = dff['pv_demand(KWh)'] / dff[['pv_demand(KWh)', 'butane_demand(KWh)', 'grid_demand(KWh)']].sum(axis=1)\n",
    "dff['butane_demand(%)'] = dff['butane_demand(KWh)'] / dff[['pv_demand(KWh)', 'butane_demand(KWh)', 'grid_demand(KWh)']].sum(axis=1)\n",
    "dff['grid_demand(%)'] = dff['grid_demand(KWh)'] / dff[['pv_demand(KWh)', 'butane_demand(KWh)', 'grid_demand(KWh)']].sum(axis=1)\n",
    "\n",
    "dff = dff.melt(value_vars=['pv_demand(KWh)', 'butane_demand(KWh)', 'grid_demand(KWh)'], \n",
    "         id_vars=['Year','butane_phaseout', 'pv_adoption'])\n",
    "\n",
    "dff.loc[dff['variable']==\"butane_demand(KWh)\", 'variable'] = \"Butane\"\n",
    "dff.loc[dff['variable']==\"grid_demand(KWh)\", 'variable'] = \"Grid\"\n",
    "dff.loc[dff['variable']==\"pv_demand(KWh)\", 'variable'] = \"PV\"\n",
    "dff['value'] /= 1000000\n",
    "\n",
    "fig = px.bar(dff, x='Year', y='value', color='variable',\n",
    "             facet_col='pv_adoption', facet_row='butane_phaseout', title='Energy sources under different butane phaseout scenarios and PV adoption',\n",
    "             color_discrete_sequence=px.colors.qualitative.Set2,\n",
    "             labels={\n",
    "                     \"butane_phaseout\": \"phaseout\",\n",
    "                     \"pv_adoption\": \"PV adoption by 2040\",\n",
    "                     \"value\": \"Energy (GWh)\",\n",
    "                     \"variable\": 'Source'\n",
    "                     },\n",
    "             facet_row_spacing=0.04, # default is 0.07 when facet_col_wrap is used\n",
    "             facet_col_spacing=0.04,\n",
    "            )\n",
    "# fig.for_each_annotation(lambda a: a.update(text=a.text.split(\"=\")[-1]))\n",
    "# fig.update_layout(xaxis={'categoryorder':'total descending'})\n",
    "fig.show()\n",
    "# fig.write_image('EnergySources.pdf', width=900, height=600)"
   ]
  },
  {
   "cell_type": "code",
   "execution_count": null,
   "metadata": {},
   "outputs": [],
   "source": [
    "dff = all_dfs.groupby(['Year','butane_phaseout', 'pv_adoption'])[['pv_demand(KWh)', 'butane_demand(KWh)', 'grid_demand(KWh)']].sum().reset_index()\n",
    "\n",
    "dff['pv_demand(%)'] = dff['pv_demand(KWh)'] / dff[['pv_demand(KWh)', 'butane_demand(KWh)', 'grid_demand(KWh)']].sum(axis=1)\n",
    "dff['butane_demand(%)'] = dff['butane_demand(KWh)'] / dff[['pv_demand(KWh)', 'butane_demand(KWh)', 'grid_demand(KWh)']].sum(axis=1)\n",
    "dff['grid_demand(%)'] = dff['grid_demand(KWh)'] / dff[['pv_demand(KWh)', 'butane_demand(KWh)', 'grid_demand(KWh)']].sum(axis=1)\n",
    "\n",
    "dff = dff.melt(value_vars=['pv_demand(%)', 'butane_demand(%)', 'grid_demand(%)'], \n",
    "         id_vars=['Year','butane_phaseout', 'pv_adoption'])\n",
    "\n",
    "dff.loc[dff['variable']==\"butane_demand(%)\", 'variable'] = \"Butane\"\n",
    "dff.loc[dff['variable']==\"grid_demand(%)\", 'variable'] = \"Grid\"\n",
    "dff.loc[dff['variable']==\"pv_demand(%)\", 'variable'] = \"PV\"\n",
    "\n",
    "fig = px.bar(dff, x='Year', y='value', color='variable',\n",
    "             facet_col='pv_adoption', facet_row='butane_phaseout', title='Share of energy sources under different butane phaseout scenarios and PV adoption',\n",
    "             color_discrete_sequence=px.colors.qualitative.Set2,\n",
    "             labels={\n",
    "                     \"butane_phaseout\": \"phaseout\",\n",
    "                     \"pv_adoption\": \"PV adoption by 2040\",\n",
    "                     \"value\": \"Energy share\",\n",
    "                     \"variable\": 'Source'\n",
    "                     },\n",
    "             category_orders={'butane_phaseout': ['None', 'by 2040', 'by 2030']},\n",
    "             facet_row_spacing=0.04, # default is 0.07 when facet_col_wrap is used\n",
    "             facet_col_spacing=0.04,\n",
    "            )\n",
    "# fig.for_each_annotation(lambda a: a.update(text=a.text.split(\"=\")[-1]))\n",
    "# fig.update_layout(xaxis={'categoryorder':'total descending'})\n",
    "fig.show()\n",
    "# fig.write_image('EnergyShares.pdf', width=900, height=600)"
   ]
  },
  {
   "cell_type": "code",
   "execution_count": null,
   "metadata": {},
   "outputs": [],
   "source": [
    "all_dfs.sum()"
   ]
  },
  {
   "cell_type": "code",
   "execution_count": null,
   "metadata": {},
   "outputs": [],
   "source": [
    "all_dfs"
   ]
  },
  {
   "cell_type": "code",
   "execution_count": null,
   "metadata": {},
   "outputs": [],
   "source": []
  },
  {
   "cell_type": "code",
   "execution_count": null,
   "metadata": {},
   "outputs": [],
   "source": [
    "dfcost = all_dfs.reset_index().pivot(index='Year', columns=['water_demand(m3)', 'energy_demand(KWh)', \n",
    "                                     'butane_Subsidy_NPV(mMAD)','LP1_butane_Subsidy_NPV(mMAD)','LP2_butane_Subsidy_NPV(mMAD)',\n",
    "                                     'bau_PV_Capex_NPV(mMAD)','LP1_PV_Capex_NPV(mMAD)','LP2_PV_Capex_NPV(mMAD)'])"
   ]
  },
  {
   "cell_type": "code",
   "execution_count": null,
   "metadata": {},
   "outputs": [],
   "source": [
    "costs = pd.DataFrame({'Year':bau['Year'],\n",
    "                       'Ref-Subs(mMAD)':bau['butane_SUBSIDY(mMAD)'],\n",
    "                       'LatePV10-Subs(mMAD)':latePV10['butane_Subsidy(mMAD)'],\n",
    "                        'LatePV20-Subs(mMAD)':latePV20['butane_Subsidy(mMAD)'],\n",
    "                        'EarlyPV10-Subs(mMAD)':earlyPV10['butane_Subsidy(mMAD)'],\n",
    "                        'EarlyPV20-Subs(mMAD)':earlyPV20['butane_Subsidy(mMAD)'],\n",
    "                        'Ref-PVInv(mMAD)':bau['PV_Capex(mMAD)'],\n",
    "                       'LatePV10-PVInv(mMAD)':latePV10['PV_Capex(mMAD)'],\n",
    "                        'LatePV20-PVInv(mMAD)':latePV20['PV_Capex(mMAD)'],\n",
    "                        'EarlyPV10-PVInv(mMAD)':earlyPV10['PV_Capex(mMAD)'],\n",
    "                        'EarlyPV20-PVInv(mMAD)':earlyPV20['PV_Capex(mMAD)'],\n",
    "                     'Ref-PVcap(MW)':(bau['PV_new_cap(MW)']+bau['reinv_cap(MW)']),\n",
    "                       'LatePV10-PVcap(MW)':(latePV10['PV_new_cap(MW)']+latePV10['reinv_cap(MW)']),\n",
    "                        'LatePV20-PVcap(MW)':(latePV20['PV_new_cap(MW)']+latePV20['reinv_cap(MW)']),\n",
    "                        'EarlyPV10-PVcap(MW)':(earlyPV10['PV_new_cap(MW)']+earlyPV10['reinv_cap(MW)']),\n",
    "                        'EarlyPV20-PVcap(MW)':(earlyPV20['PV_new_cap(MW)']+earlyPV20['reinv_cap(MW)'])})\n",
    "\n",
    "costs['Ref-Savings'] = costs['Ref-Subs(mMAD)']-costs['Ref-PVInv(mMAD)']\n",
    "costs['LatePV10-Savings'] = costs['LatePV10-Subs(mMAD)']-costs['LatePV10-PVInv(mMAD)']\n",
    "costs['LatePV20-Savings'] = costs['LatePV20-Subs(mMAD)']-costs['LatePV20-PVInv(mMAD)']\n",
    "costs['EarlyPV10-Savings'] = costs['EarlyPV10-Subs(mMAD)']-costs['EarlyPV10-PVInv(mMAD)']\n",
    "costs['EarlyPV20-Savings'] = costs['EarlyPV20-Subs(mMAD)']-costs['EarlyPV20-PVInv(mMAD)']"
   ]
  },
  {
   "cell_type": "code",
   "execution_count": null,
   "metadata": {},
   "outputs": [],
   "source": [
    "#costs1= costs.loc[costs['Year'] < 2041]\n",
    "costs.to_csv('cost_summary_all.csv')"
   ]
  },
  {
   "cell_type": "code",
   "execution_count": null,
   "metadata": {},
   "outputs": [],
   "source": [
    "\n",
    "\n"
   ]
  },
  {
   "cell_type": "markdown",
   "metadata": {},
   "source": [
    "## Baseline Scenario\n",
    "\n",
    "No phaseout of Butane. The distribution of all technologies (Butane, PV and Grid) will continue to be the same as the current distribution which is: \n",
    "\n",
    "* PV = 10% \n",
    "* Butane = 20%\n",
    "* Grid = 70% "
   ]
  },
  {
   "cell_type": "code",
   "execution_count": null,
   "metadata": {},
   "outputs": [],
   "source": [
    "year = 2020\n",
    "#df = bau.df.loc[(bau.df.Year==year)].copy()\n",
    "df.loc[df['type'].str.contains('DS'), 'type'] = 'Desalinated water'\n",
    "df.loc[df['type'].str.contains('Pipeline'), 'type'] = 'Conveyance'\n",
    "df.loc[df['type'].str.contains('Pipeline'), 'type'] = 'Conveyance'\n",
    "\n",
    "\n",
    "df_group = df.groupby(['Province','type'])[['sswd', 'swpa_e']].sum()/1000000\n",
    "df_group.rename(columns={'sswd': 'Water demand [Mm3]', 'swpa_e': 'Energy demand [GWh]'}, inplace=True)\n",
    "df_group['Energy intensity [kWh/m3]'] = df_group['Energy demand [GWh]'] / df_group['Water demand [Mm3]']\n",
    "# df_group.reset_index(inplace=True)\n",
    "# df_group.to_csv('Sumary for Ref scenario with Desal and no CC.csv')\n",
    "df_group"
   ]
  },
  {
   "cell_type": "markdown",
   "metadata": {},
   "source": [
    "### Step 1: Technologies distribution calculations"
   ]
  },
  {
   "cell_type": "code",
   "execution_count": null,
   "metadata": {},
   "outputs": [],
   "source": [
    "df = cropland.copy()"
   ]
  },
  {
   "cell_type": "code",
   "execution_count": null,
   "metadata": {},
   "outputs": [],
   "source": [
    "# Original code: \n",
    "pv_change = [0] #the negative sign means increase\n",
    "butane_change = [0]\n",
    "for pv_share in pv_change:\n",
    "    for butane_share in butane_change:\n",
    "        pv_share1 = 0.1\n",
    "        butane_share1 = 0.2\n",
    "        df.start_year = 2020\n",
    "        df.end_year = 2050\n",
    "        bt_rates = {2020: 0, 2030: butane_share*0.5, 2040: butane_share*0.2, 2050: butane_share}\n",
    "        pv_rates = {2020: 0, 2030: pv_share*0.5, 2040: pv_share*0.2, 2050: pv_share}\n",
    "        butane_dist = create_tech_dist(df.start_year, df.end_year, butane_share1, bt_rates, 'polynomial')\n",
    "        pv_dist = create_tech_dist(df.start_year, df.end_year, pv_share1, pv_rates, 'polynomial')\n",
    "        grid_dist = (1-(butane_dist+pv_dist))"
   ]
  },
  {
   "cell_type": "code",
   "execution_count": null,
   "metadata": {},
   "outputs": [],
   "source": [
    "#This function can be moved to the nexus tool later:\n",
    "\n",
    "def create_tech_dist(iyear, eyear, share1, rates, method, order=2):\n",
    "    tech_dist = pd.DataFrame({'Year': range(iyear, eyear+1)})\n",
    "    if method!='step':\n",
    "        for year, rate in rates.items():\n",
    "            tech_dist.loc[tech_dist.Year==year, 'rate'] = rate\n",
    "        tech_dist['share'] = (1-tech_dist['rate']) * share1\n",
    "        tech_dist['share'] = tech_dist.share.interpolate(method=method, order=order)\n",
    "    else:\n",
    "        for year, rate in rates.items():\n",
    "            tech_dist.loc[tech_dist.Year>=year, 'rate'] = rate\n",
    "        tech_dist['share'] = (1-tech_dist['rate']) * share1\n",
    "    return tech_dist.set_index('Year').share"
   ]
  },
  {
   "cell_type": "code",
   "execution_count": null,
   "metadata": {},
   "outputs": [],
   "source": [
    "#copy1\n",
    "scenarios = ['bau','late_po','early_po']\n",
    "pv_levels = ['low_PV', 'high_PV']\n",
    "\n",
    "for scenario in scenarios:\n",
    "    for pv_level in pv_levels:\n",
    "        \n",
    "        butane_change ={'bau':0,'late_po':1,'early_po':1 }\n",
    "        butane_share = butane_change[scenario]\n",
    "        \n",
    "        end_year ={'bau':2040,'late_po':2040,'early_po':2040 }\n",
    "        year = end_year[scenario]\n",
    "\n",
    "        pv_change ={'low_PV':0,'high_PV':1}\n",
    "        pv_share = pv_change[pv_level]\n",
    "\n",
    "\n",
    "        pv_change = [-0.3] #the negative sign means increase\n",
    "        butane_change = [1]\n",
    "        for pv_share in pv_change:\n",
    "            for butane_share in butane_change:\n",
    "                pv_share1 = 0.1\n",
    "                butane_share1 = 0.2\n",
    "                df.start_year = 2020\n",
    "                df.mid_year = ((df.start_year+df.end_year)/2)\n",
    "                df.end_year = year\n",
    "                \n",
    "                bt_rates = {df.start_year: 0, df.mid_year: butane_share*0.5, df.end_year: butane_share}\n",
    "                pv_rates = {df.start_year: 0, df.mid_year: pv_share*0.5, df.end_year: pv_share}\n",
    "                \n",
    "                butane_dist = create_tech_dist(df.start_year, df.end_year, butane_share1, bt_rates, 'polynomial')\n",
    "                pv_dist = create_tech_dist(df.start_year, df.end_year, pv_share1, pv_rates, 'polynomial')\n",
    "\n",
    "        "
   ]
  },
  {
   "cell_type": "code",
   "execution_count": null,
   "metadata": {},
   "outputs": [],
   "source": [
    "#copy2\n",
    "scenarios = ['bau','late_po','early_po']\n",
    "pv_levels = ['low_PV', 'high_PV']\n",
    "\n",
    "for scenario in scenarios:\n",
    "    for pv_level in pv_levels:\n",
    "        \n",
    "        butane_change ={'bau':0,'late_po':1,'early_po':1 }\n",
    "        butane_share = butane_change[scenario]\n",
    "        \n",
    "        end_year ={'bau':2050,'late_po':2040,'early_po':2040 }\n",
    "        year = end_year[scenario]\n",
    "\n",
    "        pv_change ={'low_PV':0,'high_PV':1}\n",
    "        pv_share = pv_change[pv_level]\n",
    "        \n",
    "        pv_change = [-0.3] #the negative sign means increase\n",
    "        butane_change = [1]\n",
    "        for pv_share in pv_change:\n",
    "            for butane_share in butane_change:\n",
    "                pv_share1 = 0.1\n",
    "                butane_share1 = 0.2\n",
    "                df.start_year = 2020\n",
    "                df.end_year = 2050\n",
    "                \n",
    "                bt_bau = {2020: 0, 2025: 0, 2030: 0, 2040: 0, 2050: 0}\n",
    "                bt_early = {2020: 0, 2025: butane_share*0.7, 2030: butane_share, 2040: butane_share*1.1, 2050: butane_share*1.2}\n",
    "                bt_late = {2020: 0, 2030: butane_share*0.5, 2040: butane_share, 2050: butane_share*1.2}\n",
    "                \n",
    "                pv_rates = {2020: 0, 2025: pv_share*0.7, 2030: pv_share*0.5, 2040: pv_share*0.3, 2050: pv_share}\n",
    "                \n",
    "                bt_rates ={'bau':bt_bau,'late_po':bt_late,'early_po':bt_early }\n",
    "                bt_rate=bt_rates[scenario]\n",
    "                \n",
    "                butane_dist = create_tech_dist(df.start_year, df.end_year, butane_share1, bt_rates, 'polynomial')\n",
    "                pv_dist = create_tech_dist(df.start_year, df.end_year, pv_share1, pv_rates, 'polynomial')\n",
    "\n",
    " "
   ]
  },
  {
   "cell_type": "code",
   "execution_count": null,
   "metadata": {},
   "outputs": [],
   "source": [
    "def create_learning_curve(iyear, eyear, cc, rates, method, order=2):\n",
    "    learning_curve = pd.DataFrame({'Year': range(iyear, eyear+1)})\n",
    "    if method!='step':\n",
    "        for year, rate in rates.items():\n",
    "            learning_curve.loc[learning_curve.Year==year, 'rate'] = rate\n",
    "        learning_curve['capital_cost'] = (1-learning_curve['rate']) * cc\n",
    "        learning_curve['capital_cost'] = learning_curve.capital_cost.interpolate(method=method, order=order)\n",
    "    else:\n",
    "        for year, rate in rates.items():\n",
    "            learning_curve.loc[learning_curve.Year>=year, 'rate'] = rate\n",
    "        learning_curve['capital_cost'] = (1-learning_curve['rate']) * cc\n",
    "    return learning_curve.set_index('Year').capital_cost"
   ]
  },
  {
   "cell_type": "code",
   "execution_count": null,
   "metadata": {},
   "outputs": [],
   "source": [
    "# The capital cost of PV in Morocco is 7 MAD/ Wp  (excluding tax) = 7000 (MAD/KW) or = 7 (mMAD/MW)\n",
    "\n",
    "pv_rate = 0.3 #This assumes 30% drop in PV CAPEX by 2040. \n",
    "cc = 7\n",
    "pv_cf = 0.25\n",
    "pv_life=15\n",
    "df.start_year=2020\n",
    "df.end_year=2050\n",
    "#capital_cost = 1000\n",
    "rates = {2020: 0, 2030: pv_rate*0.3, 2040: pv_rate, 2050: pv_rate*1.3}\n",
    "cc_solar_curve = create_learning_curve(df.start_year, df.end_year, cc, rates, 'polynomial')\n",
    "om_cost=0.01 \n",
    "efficiency=1"
   ]
  },
  {
   "cell_type": "code",
   "execution_count": null,
   "metadata": {},
   "outputs": [],
   "source": [
    "dist = pd.DataFrame({'butane_share':pd.Series(butane_dist),\n",
    "                   'pv_share':pd.Series(pv_dist),\n",
    "                   'grid_share':pd.Series(grid_dist),\n",
    "                    'pv_cc':pd.Series(cc_solar_curve)})\n",
    "\n",
    "dist['butane_share'].fillna(method='ffill',inplace=True)\n",
    "dist['pv_share'].fillna(method='ffill',inplace=True)\n",
    "\n",
    "dist.loc[dist['butane_share']<0, 'butane_share'] =0\n",
    "dist.loc[dist['pv_share']<0, 'pv_share'] =0\n",
    "\n",
    "dist['grid_share']= 1-(dist['pv_share']+dist['butane_share'])\n",
    "\n",
    "dist\n",
    "#Check how to set the end year for phaseout to 2040 and take the same distibution for other years. "
   ]
  },
  {
   "cell_type": "code",
   "execution_count": null,
   "metadata": {},
   "outputs": [],
   "source": [
    "bau = pd.merge(cropland, dist, on='Year')"
   ]
  },
  {
   "cell_type": "markdown",
   "metadata": {},
   "source": [
    "### Step 2: Butane calculations"
   ]
  },
  {
   "cell_type": "code",
   "execution_count": null,
   "metadata": {},
   "outputs": [],
   "source": [
    "butane_req = 1/12.58 # LHV = 12.58 KWh/Kg (amount of butane (kg) required to produce 1 KWh) \n",
    "butane_em_fac = 211.8 # Butane emission factor = 211.77 kg CO2 per tons\n",
    "bpump_eff = 0.2 #efficiency of butane \n",
    "epump_eff = 0.45 #assumption\n",
    "conv_fac = 1000000000 # to convert emissions from kgCO2 to Million meteric tons of CO2 MtCO2\n",
    "\n",
    "bau['pv_load(KW)'] = bau['peak_load(KW)']*bau['pv_share']\n",
    "bau['pv_demand(KWh)'] = bau['energy_demand(KWh)']*bau['pv_share']\n",
    "bau['butane_demand(KWh)'] = bau['energy_demand(KWh)']*bau['butane_share']\n",
    "bau['grid_demand(KWh)'] = bau['energy_demand(KWh)']*bau['grid_share']\n",
    "\n",
    "\n",
    "bau['pv_elec(KWh)'] = bau['pv_demand(KWh)']/epump_eff\n",
    "bau['grid_elec(KWh)'] = bau['grid_demand(KWh)']/epump_eff\n",
    "\n",
    "bau['butane_cons(kg)'] = (bau['butane_demand(KWh)']*butane_req)/bpump_eff\n",
    "bau['butane_cons(tonnes)'] = bau['butane_cons(kg)']/1000\n",
    "bau['butane_emissions(MtCO2)'] = bau['butane_cons(tonnes)'] * butane_em_fac/conv_fac\n",
    "\n",
    "bau['butane_FARcost(mMAD)'] = (bau['butane_cons(kg)']*(40/12))/1000000 #in million MAD, this is what farmers pay\n",
    "bau['butane_ACTcost(mMAD)'] = (bau['butane_cons(kg)']*(120/12))/1000000 #in million MAD, this is what farmers pay\n",
    "bau['butane_SUBSIDY(mMAD)'] = (bau['butane_cons(kg)']*(80/12))/1000000 #in million MAD, this is the total subsidy cost\n",
    "\n"
   ]
  },
  {
   "cell_type": "markdown",
   "metadata": {},
   "source": [
    "### Step 3: Grid calculations"
   ]
  },
  {
   "cell_type": "code",
   "execution_count": null,
   "metadata": {},
   "outputs": [],
   "source": [
    "# Estimating the electriicty from the grid and emissions\n",
    "grid_em_fac = 1.757 #kgco2/kwh  , This is based on data from IEA, Morocco 2019 \n",
    "grid_cost =100 # MAD/KWh, Assumption and to be updated \n",
    "\n",
    "#scenario1['grid_elec (kwh)'] = scenario1['grid_demand_kwh']/epump_eff #already calculated above\n",
    "bau['grid_emissions(MtCO2)'] = bau['grid_elec(KWh)']*grid_em_fac/conv_fac\n",
    "bau['grid_cost(mMAD)'] = (bau['grid_elec(KWh)']*grid_cost)/1000000\n",
    "bau['Total_emissions(MtCO2)'] = (bau['grid_emissions(MtCO2)'] + bau['butane_emissions(MtCO2)'])"
   ]
  },
  {
   "cell_type": "code",
   "execution_count": null,
   "metadata": {},
   "outputs": [],
   "source": []
  },
  {
   "cell_type": "markdown",
   "metadata": {},
   "source": [
    "### Step 4: Solar PV  calculations"
   ]
  },
  {
   "cell_type": "code",
   "execution_count": null,
   "metadata": {},
   "outputs": [],
   "source": [
    "# Estimating the required monthly capacity of pv NOTE: 1 kWh = 3600 kJ\n",
    "\n",
    "bau['cf'] = bau['srad'] / (24*60*60) #This will give the cf in solar rad: (kJ/(m2.day))*30.day/month*1h/(24h*60m*60s) =kWh/(m2.month)*30/(60*60)\n",
    "bau['cap_m(MW)'] = bau['pv_load(KW)'] / bau['cf']/1000   #to convert to MW, check the units\n"
   ]
  },
  {
   "cell_type": "code",
   "execution_count": null,
   "metadata": {},
   "outputs": [],
   "source": [
    "bau1 = bau.groupby(['Demand point','Year'])[['water_demand(m3)','energy_demand(KWh)', 'pv_elec(KWh)', 'grid_elec(KWh)','butane_cons(tonnes)', 'butane_FARcost(mMAD)', 'butane_ACTcost(mMAD)','butane_SUBSIDY(mMAD)','butane_emissions(MtCO2)','grid_emissions(MtCO2)','Total_emissions(MtCO2)','grid_cost(mMAD)']].sum()\n",
    "\n",
    "bau1['GWdepth'] = (bau.groupby(['Demand point','Year'])['wtd'].mean())\n",
    "bau1['srad'] = (bau.groupby(['Demand point','Year'])['srad'].mean())\n",
    "bau1['wind'] = (bau.groupby(['Demand point','Year'])['wind'].mean())\n",
    "bau1['cap_m(MW)'] = (bau.groupby(['Demand point','Year'])['cap_m(MW)'].mean())\n",
    "bau1['cap_a(MW)'] = (bau.groupby(['Demand point','Year'])['cap_m(MW)'].max())\n",
    "bau1['pv_cc'] = (bau.groupby(['Demand point','Year'])['pv_cc'].mean())\n"
   ]
  },
  {
   "cell_type": "code",
   "execution_count": null,
   "metadata": {},
   "outputs": [],
   "source": [
    "bau1.reset_index(inplace=True)\n",
    "bau1.loc[bau1['Year']==2020, 'PV_new_cap(MW)'] = bau1['cap_a(MW)']\n",
    "bau1.loc[bau1['Year']!=2020, 'PV_new_cap(MW)'] = bau1['cap_a(MW)'] - bau1['cap_a(MW)'].shift(1)\n",
    "bau1.loc[bau1['PV_new_cap(MW)']<0, 'PV_new_cap(MW)'] =0\n",
    "bau1['reinv_cap(MW)'] = bau1['cap_a(MW)'].shift(pv_life).fillna(0)\n",
    "bau1['PV_Capex(mMAD)']=(bau1['PV_new_cap(MW)']+bau1['reinv_cap(MW)'])*bau1['pv_cc']\n",
    "bau1['PV_Opex(mMAD)']=(bau1['PV_Capex(mMAD)']*om_cost)"
   ]
  },
  {
   "cell_type": "code",
   "execution_count": null,
   "metadata": {},
   "outputs": [],
   "source": []
  },
  {
   "cell_type": "code",
   "execution_count": null,
   "metadata": {},
   "outputs": [],
   "source": [
    "bau1_summary = bau1.groupby(['Year'])[['water_demand(m3)','energy_demand(KWh)', 'pv_elec(KWh)', 'grid_elec(KWh)','butane_cons(tonnes)', 'butane_FARcost(mMAD)','PV_new_cap(MW)', 'butane_emissions(MtCO2)','grid_emissions(MtCO2)','Total_emissions(MtCO2)','butane_SUBSIDY(mMAD)','grid_cost(mMAD)','PV_Capex(mMAD)']].sum()"
   ]
  },
  {
   "cell_type": "code",
   "execution_count": null,
   "metadata": {},
   "outputs": [],
   "source": [
    "bau1_summary.head()"
   ]
  },
  {
   "cell_type": "markdown",
   "metadata": {},
   "source": [
    "## Phaseout scenarios"
   ]
  },
  {
   "cell_type": "code",
   "execution_count": null,
   "metadata": {},
   "outputs": [],
   "source": [
    "df2=df3=cropland.copy()"
   ]
  },
  {
   "cell_type": "markdown",
   "metadata": {},
   "source": [
    "### Step 1: Technologies distribution calculations"
   ]
  },
  {
   "cell_type": "code",
   "execution_count": null,
   "metadata": {},
   "outputs": [],
   "source": [
    "#This function can be moved to the nexus tool later:\n",
    "\n",
    "def create_tech_dist(iyear, eyear, share1, rates, method, order=2):\n",
    "    tech_dist = pd.DataFrame({'Year': range(iyear, eyear+1)})\n",
    "    if method!='step':\n",
    "        for year, rate in rates.items():\n",
    "            tech_dist.loc[tech_dist.Year==year, 'rate'] = rate\n",
    "        tech_dist['share'] = (1-tech_dist['rate']) * share1\n",
    "        tech_dist['share'] = tech_dist.share.interpolate(method=method, order=order)\n",
    "    else:\n",
    "        for year, rate in rates.items():\n",
    "            tech_dist.loc[tech_dist.Year>=year, 'rate'] = rate\n",
    "        tech_dist['share'] = (1-tech_dist['rate']) * share1\n",
    "    return tech_dist.set_index('Year').share"
   ]
  },
  {
   "cell_type": "code",
   "execution_count": null,
   "metadata": {},
   "outputs": [],
   "source": [
    "pv_change = [-0.8] #the negative sign means increase\n",
    "butane_change = [1]\n",
    "for pv_share in pv_change:\n",
    "    for butane_share in butane_change:\n",
    "        pv_share1 = 0.1\n",
    "        butane_share1 = 0.2\n",
    "        df2.start_year = 2020\n",
    "        df2.end_year = 2030\n",
    "        bt_rates = {2020: 0, 2025: butane_share*0.5, 2030: butane_share}\n",
    "        pv_rates = {2020: 0, 2030: pv_share*0.5, 2040: pv_share*0.2, 2050: pv_share}\n",
    "        butane_dist = create_tech_dist(df.start_year, df.end_year, butane_share1, bt_rates, 'polynomial')\n",
    "        pv_dist = create_tech_dist(df.start_year, df.end_year, pv_share1, pv_rates, 'polynomial')\n",
    "        \n",
    "        "
   ]
  },
  {
   "cell_type": "code",
   "execution_count": null,
   "metadata": {},
   "outputs": [],
   "source": [
    "def create_learning_curve(iyear, eyear, cc, rates, method, order=2):\n",
    "    learning_curve = pd.DataFrame({'Year': range(iyear, eyear+1)})\n",
    "    if method!='step':\n",
    "        for year, rate in rates.items():\n",
    "            learning_curve.loc[learning_curve.Year==year, 'rate'] = rate\n",
    "        learning_curve['capital_cost'] = (1-learning_curve['rate']) * cc\n",
    "        learning_curve['capital_cost'] = learning_curve.capital_cost.interpolate(method=method, order=order)\n",
    "    else:\n",
    "        for year, rate in rates.items():\n",
    "            learning_curve.loc[learning_curve.Year>=year, 'rate'] = rate\n",
    "        learning_curve['capital_cost'] = (1-learning_curve['rate']) * cc\n",
    "    return learning_curve.set_index('Year').capital_cost"
   ]
  },
  {
   "cell_type": "code",
   "execution_count": null,
   "metadata": {},
   "outputs": [],
   "source": [
    "pv_rate = 0.3\n",
    "cc = 1000\n",
    "pv_cf = 0.25\n",
    "df3.start_year=2020\n",
    "df3.end_year=2050\n",
    "#capital_cost = 1000\n",
    "rates = {2020: 0, 2030: pv_rate*0.3, 2040: pv_rate, 2050: pv_rate*1.3}\n",
    "cc_solar_curve = create_learning_curve(df3.start_year, df3.end_year, cc, rates, 'polynomial')\n",
    "om_cost=0.01 \n",
    "efficiency=1"
   ]
  },
  {
   "cell_type": "code",
   "execution_count": null,
   "metadata": {},
   "outputs": [],
   "source": []
  },
  {
   "cell_type": "code",
   "execution_count": null,
   "metadata": {},
   "outputs": [],
   "source": [
    "dist = pd.DataFrame({'butane_share':pd.Series(butane_dist),\n",
    "                   'pv_share':pd.Series(pv_dist),\n",
    "                   'pv_cc':pd.Series(cc_solar_curve)})\n",
    "\n",
    "dist.reset_index(inplace=True)\n",
    "\n",
    "dist['butane_share'].fillna(method='ffill',inplace=True)\n",
    "dist['grid_share']= 1-(dist['pv_share']+dist['butane_share'])\n",
    "\n",
    "dist\n"
   ]
  },
  {
   "cell_type": "code",
   "execution_count": null,
   "metadata": {},
   "outputs": [],
   "source": []
  },
  {
   "cell_type": "code",
   "execution_count": null,
   "metadata": {},
   "outputs": [],
   "source": [
    "scenario1 = pd.merge(cropland, dist, on='Year')"
   ]
  },
  {
   "cell_type": "code",
   "execution_count": null,
   "metadata": {},
   "outputs": [],
   "source": [
    "scenario1['pv_share'].sum()"
   ]
  },
  {
   "cell_type": "code",
   "execution_count": null,
   "metadata": {},
   "outputs": [],
   "source": [
    "scenario1['grid_share'].sum()"
   ]
  },
  {
   "cell_type": "code",
   "execution_count": null,
   "metadata": {},
   "outputs": [],
   "source": [
    "threshold = 100\n",
    "#mylist = scenario1[scenario1['wtd'] > threshold]['']\n",
    "scenario1.loc[scenario1['wtd']>threshold, 'pv_share'] =0\n",
    "scenario1['grid_share'] = (1-(scenario1['butane_share']+scenario1['pv_share']))\n"
   ]
  },
  {
   "cell_type": "code",
   "execution_count": null,
   "metadata": {},
   "outputs": [],
   "source": [
    "scenario1['pv_share'].sum()"
   ]
  },
  {
   "cell_type": "code",
   "execution_count": null,
   "metadata": {},
   "outputs": [],
   "source": [
    "scenario1['grid_share'].sum()"
   ]
  },
  {
   "cell_type": "markdown",
   "metadata": {},
   "source": [
    "### Step 2: Butane calculations"
   ]
  },
  {
   "cell_type": "code",
   "execution_count": null,
   "metadata": {},
   "outputs": [],
   "source": [
    "butane_req = 1/12.58 # LHV = 12.58 KWh/Kg (amount of butane (kg) required to produce 1 KWh) \n",
    "bpump_eff = 0.2 #efficiency of butane \n",
    "epump_eff = 0.45 #assumption\n",
    "\n",
    "\n",
    "scenario1['butane_demand_kwh'] = scenario1['energy_demand']*scenario1['butane_share']\n",
    "scenario1['butane_cons (kg)'] = (scenario1['butane_demand_kwh']*butane_req)/bpump_eff\n",
    "scenario1['butane_cons (tonnes)'] = scenario1['butane_cons (kg)']/1000\n",
    "\n",
    "scenario1['butane_FARcost (mMAD)'] = (scenario1['butane_cons (kg)']*(40/12))/1000000 #in million MAD, this is what farmers pay\n",
    "scenario1['butane_ACTcost (mMAD)'] = (scenario1['butane_cons (kg)']*(120/12))/1000000 #in million MAD, this is what farmers pay\n",
    "scenario1['butane_SUBSIDY (mMAD)'] = (scenario1['butane_cons (kg)']*(80/12))/1000000 #in million MAD, this is the total subsidy cost"
   ]
  },
  {
   "cell_type": "markdown",
   "metadata": {},
   "source": [
    "### Step 3: Grid calculations"
   ]
  },
  {
   "cell_type": "code",
   "execution_count": null,
   "metadata": {},
   "outputs": [],
   "source": [
    "# Estimating the electriicty from the grid and emissions\n",
    "grid_em_fac = 1.757 #kgco2/kwh  , This is based on data from IEA, Morocco 2019 \n",
    "grid_cost =100 # MAD/KWh, Assumption and to be updated \n",
    "epump_eff = 0.45 #assumption\n",
    "\n",
    "scenario1['grid_demand_kwh'] = scenario1['energy_demand']*scenario1['grid_share']\n",
    "scenario1['grid_elec (kwh)'] = scenario1['grid_demand_kwh']/epump_eff\n",
    "\n",
    "\n",
    "scenario1['grid_emissions'] = scenario1['grid_elec (kwh)']*grid_em_fac\n",
    "scenario1['grid_cost_mMAD'] = (scenario1['grid_elec (kwh)']*grid_cost)/1000000"
   ]
  },
  {
   "cell_type": "code",
   "execution_count": null,
   "metadata": {},
   "outputs": [],
   "source": [
    "scenario1['energy_demand'].sum()/1000000"
   ]
  },
  {
   "cell_type": "code",
   "execution_count": null,
   "metadata": {},
   "outputs": [],
   "source": []
  },
  {
   "cell_type": "markdown",
   "metadata": {},
   "source": [
    "### Step 4: Solar PV calculations"
   ]
  },
  {
   "cell_type": "code",
   "execution_count": null,
   "metadata": {},
   "outputs": [],
   "source": []
  },
  {
   "cell_type": "code",
   "execution_count": null,
   "metadata": {},
   "outputs": [],
   "source": [
    "scenario1['pv_demand_kwh'] = scenario1['energy_demand']*scenario1['pv_share']\n",
    "scenario1['pv_elec (kwh)'] = scenario1['pv_demand_kwh']/epump_eff"
   ]
  },
  {
   "cell_type": "code",
   "execution_count": null,
   "metadata": {},
   "outputs": [],
   "source": [
    "# Estimating the required monthly capacity of pv NOTE: 1 kWh = 3600 kJ and 1 day=24 hours\n",
    "# Solar radiation GIS layer was obtained from WorldClim which gives srad in (kJ/m2.day). \n",
    "# To calculate the capacity factor, we will need to convert this to (KWh/m2.hr)\n",
    "\n",
    "scenario1['cf'] = scenario1['srad'] / (24*3600) #This will give the cf in (KWh/m2.hr) or (KW/m2)\n",
    "scenario1['cap_m'] = scenario1['pv_elec (kwh)'] / scenario1['cf']/1000   #to convert to MWh, check the units\n"
   ]
  },
  {
   "cell_type": "code",
   "execution_count": null,
   "metadata": {},
   "outputs": [],
   "source": [
    "dfs1 = scenario1.groupby(['Demand point','Year'])[['water_demand','energy_demand', 'pv_elec (kwh)', 'grid_elec (kwh)','butane_cons (tonnes)', 'butane_FARcost (mMAD)', 'butane_ACTcost (mMAD)','butane_SUBSIDY (mMAD)','grid_emissions','grid_cost_mMAD']].sum()\n",
    "\n",
    "dfs1['GWdepth'] = (scenario1.groupby(['Demand point','Year'])['wtd'].mean())\n",
    "dfs1['srad'] = (scenario1.groupby(['Demand point','Year'])['srad'].mean())\n",
    "dfs1['wind'] = (scenario1.groupby(['Demand point','Year'])['wind'].mean())\n",
    "dfs1['cap_m'] = (scenario1.groupby(['Demand point','Year'])['cap_m'].mean())\n",
    "dfs1['cap_a'] = (scenario1.groupby(['Demand point','Year'])['cap_m'].max())\n",
    "dfs1['pv_cc'] = (scenario1.groupby(['Demand point','Year'])['pv_cc'].mean())\n",
    "dfs1['pv_capex']=dfs1['cap_a']*dfs1['pv_cc']\n",
    "dfs1['pv_opex']=dfs1['pv_capex']*om_cost\n"
   ]
  },
  {
   "cell_type": "code",
   "execution_count": null,
   "metadata": {},
   "outputs": [],
   "source": [
    "dfs1.reset_index(inplace=True)\n",
    "dfs1.loc[dfs1['Year']==2020, 'new_cap'] = dfs1['cap_a']\n",
    "dfs1.loc[dfs1['Year']!=2020, 'new_cap'] = dfs1['cap_a'] - dfs1['cap_a'].shift(1)\n",
    "dfs1.loc[dfs1['new_cap']<0, 'new_cap'] =0"
   ]
  },
  {
   "cell_type": "code",
   "execution_count": null,
   "metadata": {},
   "outputs": [],
   "source": [
    "dfs1['reinv_cap'] = dfs1['cap_a'].shift(pv_life).fillna(0)\n",
    "dfs1['pv_capex']=(dfs1['new_cap']+dfs1['reinv_cap'])*dfs1['pv_cc']"
   ]
  },
  {
   "cell_type": "code",
   "execution_count": null,
   "metadata": {},
   "outputs": [],
   "source": [
    "scenario1_summary = dfs1.groupby(['Year'])[['water_demand','energy_demand','butane_cons (tonnes)', 'butane_FARcost (mMAD)', 'butane_ACTcost (mMAD)','butane_SUBSIDY (mMAD)','pv_capex','pv_opex','grid_emissions','grid_cost_mMAD']].sum()"
   ]
  },
  {
   "cell_type": "code",
   "execution_count": null,
   "metadata": {},
   "outputs": [],
   "source": [
    "scenario1_summary.head()"
   ]
  },
  {
   "cell_type": "code",
   "execution_count": null,
   "metadata": {},
   "outputs": [],
   "source": []
  },
  {
   "cell_type": "code",
   "execution_count": null,
   "metadata": {},
   "outputs": [],
   "source": [
    "butane_subsidy_change = bau1_summary['butane_SUBSIDY (mMAD)'].sum() - scenario1_summary['butane_SUBSIDY (mMAD)'].sum()\n",
    "pv_investment_change = bau1_summary['pv_capex'].sum() - scenario1_summary['pv_capex'].sum()\n",
    "grid_emissions_change = bau1_summary['grid_emissions'].sum() - scenario1_summary['grid_emissions'].sum()"
   ]
  },
  {
   "cell_type": "code",
   "execution_count": null,
   "metadata": {},
   "outputs": [],
   "source": [
    "butane_subsidy_change"
   ]
  },
  {
   "cell_type": "code",
   "execution_count": null,
   "metadata": {},
   "outputs": [],
   "source": [
    "pv_investment_change"
   ]
  },
  {
   "cell_type": "code",
   "execution_count": null,
   "metadata": {},
   "outputs": [],
   "source": [
    "grid_emissions_change"
   ]
  },
  {
   "cell_type": "markdown",
   "metadata": {},
   "source": [
    "## This is how the summary table may look like\n",
    "\n",
    "\n",
    "summary = \n",
    "Year\n",
    "Province\n",
    "BAU:\n",
    "    *Butane cost\n",
    "    *PV cost\n",
    "    *Grid emissions\n",
    "\n",
    "2040 Phaseout: \n",
    "    *Butane cost\n",
    "    *PV cost\n",
    "    *Grid emissions\n",
    "\n",
    "\n",
    "2030 Phaseout: \n",
    "    *Butane cost\n",
    "    *PV cost\n",
    "    *Grid emissions\n",
    "\n",
    "    \n",
    "2030 Phaseout PV: \n",
    "    *Butane cost\n",
    "    *PV cost\n",
    "    *Grid emissions\n",
    "\n",
    "    \n",
    "This ofcouse can be enhanced if we get the actual electricity generation cost from the grid\n"
   ]
  },
  {
   "cell_type": "code",
   "execution_count": null,
   "metadata": {},
   "outputs": [],
   "source": []
  },
  {
   "cell_type": "markdown",
   "metadata": {},
   "source": [
    "# How to iterate over scenarios"
   ]
  },
  {
   "cell_type": "code",
   "execution_count": null,
   "metadata": {},
   "outputs": [],
   "source": []
  },
  {
   "cell_type": "code",
   "execution_count": null,
   "metadata": {},
   "outputs": [],
   "source": []
  }
 ],
 "metadata": {
  "kernelspec": {
   "display_name": "Python 3",
   "language": "python",
   "name": "python3"
  },
  "language_info": {
   "codemirror_mode": {
    "name": "ipython",
    "version": 3
   },
   "file_extension": ".py",
   "mimetype": "text/x-python",
   "name": "python",
   "nbconvert_exporter": "python",
   "pygments_lexer": "ipython3",
   "version": "3.8.5"
  }
 },
 "nbformat": 4,
 "nbformat_minor": 2
}
