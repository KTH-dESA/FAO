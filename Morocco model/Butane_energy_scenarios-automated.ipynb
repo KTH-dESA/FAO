{
 "cells": [
  {
   "cell_type": "markdown",
   "metadata": {},
   "source": [
    "# NEXUS tool: case study for the Souss-Massa basin - energy demand calculations\n",
    "In this notebook a case study for the Souss-Massa basin is covered using the `nexus_tool` package. The water requirements for agricultural irrigation, residential, industrial and tourism use were previously calculated using the Water Evaluation and Planning System (WEAP) model. In this case study, the energy requirements for groundwater pumping, wastewater treatment, desalination of seawater and pumping for water conveyance are estimated.\n",
    "\n",
    "First import the package by running the following block:"
   ]
  },
  {
   "cell_type": "code",
   "execution_count": 1,
   "metadata": {},
   "outputs": [],
   "source": [
    "%load_ext autoreload"
   ]
  },
  {
   "cell_type": "code",
   "execution_count": 2,
   "metadata": {},
   "outputs": [],
   "source": [
    "%autoreload\n",
    "import sys\n",
    "sys.path.append(\"..\") #this is to add the above folder to the package directory\n",
    "import os\n",
    "import nexus_tool\n",
    "from nexus_tool.weap_tools import create_folder\n",
    "from nexus_tool.weap_tools import create_learning_curve\n",
    "#import matplotlib.pyplot as plt\n",
    "import pandas as pd\n",
    "import numpy as np\n",
    "# from pandas.plotting import register_matplotlib_converters\n",
    "import plotly.express as px\n",
    "# register_matplotlib_converters()\n",
    "from functools import reduce"
   ]
  },
  {
   "cell_type": "markdown",
   "metadata": {},
   "source": [
    "## Reading the input files\n",
    "\n"
   ]
  },
  {
   "cell_type": "code",
   "execution_count": 3,
   "metadata": {},
   "outputs": [],
   "source": [
    " #Define the path to read the cropland and builtup are data and reads it in\n",
    "folder_path = os.path.join('Data', 'Cropland and Builtarea')\n",
    "cropland_path = os.path.join(folder_path, 'cropland.gz')\n",
    "cropland = nexus_tool.read_csv(cropland_path)\n",
    "weap = pd.read_csv(os.path.join('..','Morocco dashboard','data', 'Reference','Climate Change', 'results.gz'))\n",
    "\n",
    "#weap: the results of the enegy model based on weap demand nodes\n",
    "\n",
    "cropland = cropland.loc[cropland.Date.isin(weap.Date.unique())] #this should be the results dataframe\n"
   ]
  },
  {
   "cell_type": "code",
   "execution_count": 4,
   "metadata": {},
   "outputs": [],
   "source": [
    "summary_provinces_agri = weap.loc[weap['type'].str.contains('Agriculture')].groupby(['Province', 'Date'])[['sswd', 'pwd', 'swpa_e', 'swpp_e']].sum()\n",
    "temp_cropland_provinces = cropland[['province', 'Date']].copy()\n",
    "temp_cropland_provinces.loc[temp_cropland_provinces['province']=='Inezgane-Aït Melloul', 'province'] = 'Taroudannt'\n",
    "for feature in list(summary_provinces_agri):\n",
    "    cropland[feature] = temp_cropland_provinces.set_index(['province', 'Date']).index.map(summary_provinces_agri[feature]) * cropland['area_share']\n",
    "        "
   ]
  },
  {
   "cell_type": "code",
   "execution_count": 5,
   "metadata": {},
   "outputs": [],
   "source": [
    "cropland.rename(columns={'sswd':'water_demand(m3)',\n",
    "                'pwd':'peak_water(m3)',\n",
    "                'swpp_e':'peak_load(KW)',\n",
    "                'swpa_e':'energy_demand(KWh)'}, inplace=True)"
   ]
  },
  {
   "cell_type": "code",
   "execution_count": 6,
   "metadata": {},
   "outputs": [
    {
     "data": {
      "text/html": [
       "<div>\n",
       "<style scoped>\n",
       "    .dataframe tbody tr th:only-of-type {\n",
       "        vertical-align: middle;\n",
       "    }\n",
       "\n",
       "    .dataframe tbody tr th {\n",
       "        vertical-align: top;\n",
       "    }\n",
       "\n",
       "    .dataframe thead th {\n",
       "        text-align: right;\n",
       "    }\n",
       "</style>\n",
       "<table border=\"1\" class=\"dataframe\">\n",
       "  <thead>\n",
       "    <tr style=\"text-align: right;\">\n",
       "      <th></th>\n",
       "      <th>Year</th>\n",
       "      <th>Demand point</th>\n",
       "      <th>province</th>\n",
       "      <th>area_m2</th>\n",
       "      <th>wtd</th>\n",
       "      <th>Month</th>\n",
       "      <th>srad</th>\n",
       "      <th>wind</th>\n",
       "      <th>Date</th>\n",
       "      <th>area_share</th>\n",
       "      <th>water_demand(m3)</th>\n",
       "      <th>peak_water(m3)</th>\n",
       "      <th>energy_demand(KWh)</th>\n",
       "      <th>peak_load(KW)</th>\n",
       "    </tr>\n",
       "  </thead>\n",
       "  <tbody>\n",
       "    <tr>\n",
       "      <th>1072</th>\n",
       "      <td>2019</td>\n",
       "      <td>7579</td>\n",
       "      <td>Agadir-Ida ou Tanane</td>\n",
       "      <td>102166.996364</td>\n",
       "      <td>3.569033</td>\n",
       "      <td>9</td>\n",
       "      <td>19281.111272</td>\n",
       "      <td>3.011956</td>\n",
       "      <td>2019-09-01</td>\n",
       "      <td>0.016816</td>\n",
       "      <td>12855.764508</td>\n",
       "      <td>0.011903</td>\n",
       "      <td>0.0</td>\n",
       "      <td>0.0</td>\n",
       "    </tr>\n",
       "    <tr>\n",
       "      <th>1073</th>\n",
       "      <td>2019</td>\n",
       "      <td>7580</td>\n",
       "      <td>Agadir-Ida ou Tanane</td>\n",
       "      <td>98718.747355</td>\n",
       "      <td>7.954429</td>\n",
       "      <td>9</td>\n",
       "      <td>19199.439863</td>\n",
       "      <td>3.115397</td>\n",
       "      <td>2019-09-01</td>\n",
       "      <td>0.016248</td>\n",
       "      <td>12421.868252</td>\n",
       "      <td>0.011502</td>\n",
       "      <td>0.0</td>\n",
       "      <td>0.0</td>\n",
       "    </tr>\n",
       "    <tr>\n",
       "      <th>1074</th>\n",
       "      <td>2019</td>\n",
       "      <td>7581</td>\n",
       "      <td>Agadir-Ida ou Tanane</td>\n",
       "      <td>229879.711173</td>\n",
       "      <td>7.770243</td>\n",
       "      <td>9</td>\n",
       "      <td>19180.209907</td>\n",
       "      <td>3.100000</td>\n",
       "      <td>2019-09-01</td>\n",
       "      <td>0.037836</td>\n",
       "      <td>28925.969610</td>\n",
       "      <td>0.026783</td>\n",
       "      <td>0.0</td>\n",
       "      <td>0.0</td>\n",
       "    </tr>\n",
       "    <tr>\n",
       "      <th>1075</th>\n",
       "      <td>2019</td>\n",
       "      <td>7582</td>\n",
       "      <td>Agadir-Ida ou Tanane</td>\n",
       "      <td>11281.955150</td>\n",
       "      <td>6.211865</td>\n",
       "      <td>9</td>\n",
       "      <td>19391.000000</td>\n",
       "      <td>3.500000</td>\n",
       "      <td>2019-09-01</td>\n",
       "      <td>0.001857</td>\n",
       "      <td>1419.618505</td>\n",
       "      <td>0.001314</td>\n",
       "      <td>0.0</td>\n",
       "      <td>0.0</td>\n",
       "    </tr>\n",
       "    <tr>\n",
       "      <th>1076</th>\n",
       "      <td>2019</td>\n",
       "      <td>7583</td>\n",
       "      <td>Agadir-Ida ou Tanane</td>\n",
       "      <td>13997.885311</td>\n",
       "      <td>8.175929</td>\n",
       "      <td>9</td>\n",
       "      <td>19276.000000</td>\n",
       "      <td>3.300000</td>\n",
       "      <td>2019-09-01</td>\n",
       "      <td>0.002304</td>\n",
       "      <td>1761.366425</td>\n",
       "      <td>0.001631</td>\n",
       "      <td>0.0</td>\n",
       "      <td>0.0</td>\n",
       "    </tr>\n",
       "  </tbody>\n",
       "</table>\n",
       "</div>"
      ],
      "text/plain": [
       "      Year  Demand point              province        area_m2       wtd  \\\n",
       "1072  2019          7579  Agadir-Ida ou Tanane  102166.996364  3.569033   \n",
       "1073  2019          7580  Agadir-Ida ou Tanane   98718.747355  7.954429   \n",
       "1074  2019          7581  Agadir-Ida ou Tanane  229879.711173  7.770243   \n",
       "1075  2019          7582  Agadir-Ida ou Tanane   11281.955150  6.211865   \n",
       "1076  2019          7583  Agadir-Ida ou Tanane   13997.885311  8.175929   \n",
       "\n",
       "      Month          srad      wind        Date  area_share  water_demand(m3)  \\\n",
       "1072      9  19281.111272  3.011956  2019-09-01    0.016816      12855.764508   \n",
       "1073      9  19199.439863  3.115397  2019-09-01    0.016248      12421.868252   \n",
       "1074      9  19180.209907  3.100000  2019-09-01    0.037836      28925.969610   \n",
       "1075      9  19391.000000  3.500000  2019-09-01    0.001857       1419.618505   \n",
       "1076      9  19276.000000  3.300000  2019-09-01    0.002304       1761.366425   \n",
       "\n",
       "      peak_water(m3)  energy_demand(KWh)  peak_load(KW)  \n",
       "1072        0.011903                 0.0            0.0  \n",
       "1073        0.011502                 0.0            0.0  \n",
       "1074        0.026783                 0.0            0.0  \n",
       "1075        0.001314                 0.0            0.0  \n",
       "1076        0.001631                 0.0            0.0  "
      ]
     },
     "execution_count": 6,
     "metadata": {},
     "output_type": "execute_result"
    }
   ],
   "source": [
    "cropland.head()"
   ]
  },
  {
   "cell_type": "markdown",
   "metadata": {},
   "source": [
    "## Running Scenarios: \n",
    "### This analysis will consider three phase out scenarios for Butane as follows: \n",
    "1. Business as usual scebaruio (bau): which assumes the current share of butane use to continue into the future\n",
    "2. Late Phase out (late_po): which assumes compelte phase out of butane by 2040.\n",
    "3. Early Phase out (early_po): which assumes compelte phase out of butane by 2030.\n",
    "\n",
    "For all the three main scenarios, we will explore two levels of PV share in the region.\n",
    "\n",
    "a. Low PV Share (low_PV): which assumes the current level of PV share of 10% to continue in the future\n",
    "b. High PV Share (high_PV): whcih assumes an increase of PV share from 10% to 20% by 2040. "
   ]
  },
  {
   "cell_type": "code",
   "execution_count": 10,
   "metadata": {},
   "outputs": [
    {
     "name": "stdout",
     "output_type": "stream",
     "text": [
      "Wall time: 4min 51s\n"
     ]
    }
   ],
   "source": [
    "%%time\n",
    "# scenarios = ['bau','late_po','early_po']\n",
    "# pv_levels = ['low_PV', 'mid_PV', high_PV']\n",
    "\n",
    "scenarios = ['bau']\n",
    "pv_levels = ['low_PV']\n",
    "\n",
    "             \n",
    "# load_folder = os.path.join('Data','Butane_calculations')\n",
    "load_folder = os.path.join('test dash results','Butane_calculations')\n",
    "#results_folder = os.path.join('../Results', 'Butane_results')\n",
    "#os.makedirs(results_folder, exist_ok = True)\n",
    "for scenario in scenarios:\n",
    "    scenario_folder = os.path.join(load_folder, scenario)\n",
    "    os.makedirs(scenario_folder, exist_ok = True)\n",
    "    for pv_level in pv_levels:\n",
    "        pv_folder = os.path.join(scenario_folder, pv_level)\n",
    "        os.makedirs(pv_folder, exist_ok = True)\n",
    "        # Step1: Reading the input data file\n",
    "#         file_path = os.path.join(load_folder, 'cropland.csv')\n",
    "#         df = pd.read_csv(file_path)\n",
    "        df = cropland\n",
    "        \n",
    "        # Step2: Modeling Butane Phase out rate\n",
    "        def create_tech_dist(iyear, eyear, share1, rates, method, order=2):\n",
    "            tech_dist = pd.DataFrame({'Year': range(iyear, eyear+1)})\n",
    "            if method!='step':\n",
    "                for year, rate in rates.items():\n",
    "                    tech_dist.loc[tech_dist.Year==year, 'rate'] = rate\n",
    "                tech_dist['share'] = (1-tech_dist['rate']) * share1\n",
    "                tech_dist['share'] = tech_dist.share.interpolate(method=method, order=order)\n",
    "            else:\n",
    "                for year, rate in rates.items():\n",
    "                    tech_dist.loc[tech_dist.Year>=year, 'rate'] = rate\n",
    "                tech_dist['share'] = (1-tech_dist['rate']) * share1\n",
    "            return tech_dist.set_index('Year').share\n",
    "        \n",
    "                        \n",
    "        butane_change ={'bau':0,'late_po':1,'early_po':1 }\n",
    "        butane_share = butane_change[scenario]\n",
    "        \n",
    "        end_year ={'bau':2050,'late_po':2040,'early_po':2030 }\n",
    "        year = end_year[scenario]\n",
    "        \n",
    "        pv_change ={'low_PV':0, 'mid_PV':-1, 'high_PV':-4} #The negative sign means increase in share. \n",
    "        pv_share = pv_change[pv_level]\n",
    "\n",
    "                \n",
    "        butane_share1 = 0.2\n",
    "        pv_share1 = 0.1\n",
    "        df.start_year = 2020\n",
    "        df.end_year = year\n",
    "        df.mid_year = ((df.start_year+df.end_year)/2)\n",
    "        bt_rates = {df.start_year: 0, df.mid_year: butane_share*0.5, df.end_year: butane_share}\n",
    "        pv_rates = {df.start_year: 0, df.mid_year: pv_share*0.5, df.end_year: pv_share}\n",
    "        butane_dist = create_tech_dist(df.start_year, df.end_year, butane_share1, bt_rates, 'polynomial')\n",
    "        pv_dist = create_tech_dist(df.start_year, 2040, pv_share1, pv_rates, 'polynomial')\n",
    "\n",
    "        #Step3: PV learning curve and crop in PV CAPEX\n",
    "        def create_learning_curve(iyear, eyear, cc, rates, method, order=2):\n",
    "            learning_curve = pd.DataFrame({'Year': range(iyear, eyear+1)})\n",
    "            if method!='step':\n",
    "                for year, rate in rates.items():\n",
    "                    learning_curve.loc[learning_curve.Year==year, 'rate'] = rate\n",
    "                learning_curve['capital_cost'] = (1-learning_curve['rate']) * cc\n",
    "                learning_curve['capital_cost'] = learning_curve.capital_cost.interpolate(method=method, order=order)\n",
    "            else:\n",
    "                for year, rate in rates.items():\n",
    "                    learning_curve.loc[learning_curve.Year>=year, 'rate'] = rate\n",
    "                learning_curve['capital_cost'] = (1-learning_curve['rate']) * cc\n",
    "            return learning_curve.set_index('Year').capital_cost\n",
    "        \n",
    "        pv_rate = 0.4 #Assuming 40% drop in PV capex by 2040.\n",
    "        cc = 7 #\n",
    "        #pv_cf = 0.25\n",
    "        pv_life=15\n",
    "        df.start_year=2020\n",
    "        df.end_year= 2050\n",
    "        #capital_cost = 1000\n",
    "        rates = {2020: 0, 2030: pv_rate*0.3, 2040: pv_rate, 2050: pv_rate*1.3}\n",
    "        cc_solar_curve = create_learning_curve(df.start_year, df.end_year, cc, rates, 'polynomial')\n",
    "        om_cost=0.01 \n",
    "        efficiency=1\n",
    "        \n",
    "        dist = pd.DataFrame({'butane_share':pd.Series(butane_dist),\n",
    "                   'pv_share':pd.Series(pv_dist),\n",
    "                   'pv_cc':pd.Series(cc_solar_curve)})\n",
    "        \n",
    "        dist['butane_share'].fillna(method='ffill',inplace=True) #This method fills any missing data with the previous value.\n",
    "        dist['pv_share'].fillna(method='ffill',inplace=True)\n",
    "        dist['pv_cc'].fillna(method='ffill',inplace=True)\n",
    "        dist['grid_share']= 1-(dist['pv_share']+dist['butane_share'])\n",
    "        \n",
    "        \n",
    "        souss_massa = pd.merge(df, dist, on='Year')\n",
    "        \n",
    "        butane_req = 1/12.58 # LHV = 12.58 KWh/Kg (amount of butane (kg) required to produce 1 KWh) \n",
    "        butane_em_fac = 211.8 # Butane emission factor = 211.77 kg CO2 per tons\n",
    "        bpump_eff = 0.2 #efficiency of butane \n",
    "        epump_eff = 0.45 #assumption\n",
    "        conv_fac = 1000000000 # to convert emissions from kgCO2 to Million meteric tons of CO2 MtCO2\n",
    "\n",
    "        souss_massa['pv_load(KW)'] = souss_massa['peak_load(KW)']*souss_massa['pv_share']\n",
    "        souss_massa['pv_demand(KWh)'] = souss_massa['energy_demand(KWh)']*souss_massa['pv_share']\n",
    "        souss_massa['butane_demand(KWh)'] = souss_massa['energy_demand(KWh)']*souss_massa['butane_share']\n",
    "        souss_massa['grid_demand(KWh)'] = souss_massa['energy_demand(KWh)']*souss_massa['grid_share']\n",
    "\n",
    "\n",
    "        souss_massa['pv_elec(KWh)'] = souss_massa['pv_demand(KWh)']/epump_eff\n",
    "        souss_massa['grid_elec(KWh)'] = souss_massa['grid_demand(KWh)']/epump_eff\n",
    "\n",
    "        souss_massa['butane_cons(kg)'] = (souss_massa['butane_demand(KWh)']*butane_req)/bpump_eff\n",
    "        souss_massa['butane_cons(tonnes)'] = souss_massa['butane_cons(kg)']/1000\n",
    "        souss_massa['butane_emissions(MtCO2)'] = souss_massa['butane_cons(tonnes)'] * butane_em_fac/conv_fac\n",
    "\n",
    "        souss_massa['butane_FARcost(mMAD)'] = (souss_massa['butane_cons(kg)']*(40/12))/1000000 #in million MAD, this is what farmers pay\n",
    "        souss_massa['butane_ACTcost(mMAD)'] = (souss_massa['butane_cons(kg)']*(120/12))/1000000 #in million MAD, this is what farmers pay\n",
    "        souss_massa['butane_SUBSIDY(mMAD)'] = (souss_massa['butane_cons(kg)']*(80/12))/1000000 #in million MAD, this is the total subsidy cost\n",
    "\n",
    "        \n",
    "        # Estimating the electriicty from the grid and emissions\n",
    "        grid_em_fac = 1.757 #kgco2/kwh  , This is based on data from IEA, Morocco 2019 \n",
    "        grid_cost =1 # MAD/KWh, Assumption and to be updated \n",
    "\n",
    "        #scenario1['grid_elec (kwh)'] = scenario1['grid_demand_kwh']/epump_eff #already calculated above\n",
    "        souss_massa['grid_emissions(MtCO2)'] = souss_massa['grid_elec(KWh)']*grid_em_fac/conv_fac\n",
    "        souss_massa['grid_cost(mMAD)'] = (souss_massa['grid_elec(KWh)']*grid_cost)/1000000\n",
    "        souss_massa['Total_emissions(MtCO2)'] = (souss_massa['grid_emissions(MtCO2)'] + souss_massa['butane_emissions(MtCO2)'])\n",
    "\n",
    "        # Estimating the required monthly capacity of pv NOTE: 1 kWh = 3600 kJ\n",
    "\n",
    "        souss_massa['cf'] = souss_massa['srad'] / (24*60*60) #This will give the cf in solar rad: (kJ/(m2.day))*30.day/month*1h/(24h*60m*60s) =kWh/(m2.month)*30/(60*60)\n",
    "        souss_massa['cap_m(MW)'] = souss_massa['pv_load(KW)'] / souss_massa['cf']/1000   #to convert to MW, check the units\n",
    "        \n",
    "        souss_massa1 = souss_massa.groupby(['Demand point','Year'])[['water_demand(m3)','energy_demand(KWh)', 'pv_elec(KWh)', 'grid_elec(KWh)','butane_cons(tonnes)', 'butane_FARcost(mMAD)', 'butane_ACTcost(mMAD)','butane_SUBSIDY(mMAD)','butane_emissions(MtCO2)','grid_emissions(MtCO2)','Total_emissions(MtCO2)','grid_cost(mMAD)']].sum()\n",
    "\n",
    "        #souss_massa1['Province'] = (souss_massa.groupby(['Demand point','Year'])['province'])\n",
    "        souss_massa1['GWdepth'] = (souss_massa.groupby(['Demand point','Year'])['wtd'].mean())\n",
    "        souss_massa1['srad'] = (souss_massa.groupby(['Demand point','Year'])['srad'].mean())\n",
    "        souss_massa1['wind'] = (souss_massa.groupby(['Demand point','Year'])['wind'].mean())\n",
    "        souss_massa1['cap_m(MW)'] = (souss_massa.groupby(['Demand point','Year'])['cap_m(MW)'].mean())\n",
    "        souss_massa1['cap_a(MW)'] = (souss_massa.groupby(['Demand point','Year'])['cap_m(MW)'].max())\n",
    "        souss_massa1['pv_cc'] = (souss_massa.groupby(['Demand point','Year'])['pv_cc'].mean())\n",
    "\n",
    "        souss_massa1.reset_index(inplace=True)\n",
    "        souss_massa1.loc[souss_massa1['Year']==2020, 'PV_new_cap(MW)'] = souss_massa1['cap_a(MW)']\n",
    "        souss_massa1.loc[souss_massa1['Year']!=2020, 'PV_new_cap(MW)'] = souss_massa1['cap_a(MW)'] - souss_massa1['cap_a(MW)'].shift(1)\n",
    "        souss_massa1.loc[souss_massa1['PV_new_cap(MW)']<0, 'PV_new_cap(MW)'] =0\n",
    "        \n",
    "        #PV reinvestment calculations\n",
    "        souss_massa2 = pd.DataFrame()\n",
    "        for index, group in souss_massa1.groupby(['Demand point']):\n",
    "            dff = group.copy()\n",
    "            dff['reinv_cap(MW)'] = dff['PV_new_cap(MW)'].shift(pv_life).fillna(0)\n",
    "            souss_massa2 = souss_massa2.append(dff, ignore_index=True)\n",
    "            \n",
    "            souss_massa2['PV_Capex(mMAD)']=(souss_massa2['PV_new_cap(MW)']+souss_massa2['reinv_cap(MW)'])*souss_massa2['pv_cc']\n",
    "            souss_massa2['PV_Opex(mMAD)']=(souss_massa2['PV_Capex(mMAD)']*om_cost)\n",
    "\n",
    "\n",
    "#         souss_massa2_summary = souss_massa2.groupby(['Year'])[['water_demand(m3)','energy_demand(KWh)', 'pv_elec(KWh)', 'grid_elec(KWh)','butane_cons(tonnes)', 'butane_FARcost(mMAD)','PV_new_cap(MW)','reinv_cap(MW)', 'butane_emissions(MtCO2)','grid_emissions(MtCO2)','Total_emissions(MtCO2)','butane_SUBSIDY(mMAD)','grid_cost(mMAD)','PV_Capex(mMAD)']].sum()\n",
    "\n",
    "#         # Step: Saving Results\n",
    "#         output_folder = os.path.join(pv_folder)\n",
    "#         os.makedirs(output_folder, exist_ok = True)\n",
    "#         souss_massa2_summary.to_csv(os.path.join(output_folder, f'B{butane_share}_PV{pv_share}.csv'))"
   ]
  },
  {
   "cell_type": "code",
   "execution_count": 172,
   "metadata": {},
   "outputs": [],
   "source": [
    "#This is how the reinvestment calculation is done\n",
    "\n",
    "df =souss_massa1.copy()\n",
    "new_df = pd.DataFrame()\n",
    "for index, group in df.groupby(['Demand point']):\n",
    "    dff = group.copy()\n",
    "    dff['Reinvest'] = dff['PV_new_cap(MW)'].shift(5).fillna(0)\n",
    "    new_df = new_df.append(dff, ignore_index=True)\n"
   ]
  },
  {
   "cell_type": "code",
   "execution_count": null,
   "metadata": {},
   "outputs": [],
   "source": []
  },
  {
   "cell_type": "markdown",
   "metadata": {},
   "source": [
    "## Comparing scenarios"
   ]
  },
  {
   "cell_type": "code",
   "execution_count": 1,
   "metadata": {},
   "outputs": [],
   "source": [
    "import pandas as pd\n",
    "import os\n",
    "\n",
    "# Reading results files\n",
    "scenarios = ['bau','late_po','early_po']\n",
    "pv_levels = ['low_PV', 'high_PV']\n",
    "\n",
    "\n",
    "bau_folder = os.path.join('test dash results', 'Butane_calculations', 'bau')\n",
    "late_folder = os.path.join('test dash results', 'Butane_calculations', 'late_po')\n",
    "early_folder = os.path.join('test dash results', 'Butane_calculations', 'early_po')\n",
    "\n",
    "bau1 = pd.read_csv(os.path.join(bau_folder, 'low_PV', 'B0_PV0.csv'))\n",
    "# bau = bau.add_prefix('bau_')\n",
    "bau1['butane_phaseout'] = 'None'\n",
    "bau1['pv_adoption'] = 'Low'\n",
    "bau2 = pd.read_csv(os.path.join(bau_folder, 'high_PV', 'B0_PV-1.csv'))\n",
    "bau2['butane_phaseout'] = 'None'\n",
    "bau2['pv_adoption'] = 'High'\n",
    "\n",
    "latePV10 = pd.read_csv(os.path.join(late_folder, 'low_PV', 'B1_PV0.csv'))\n",
    "# latePV10 = latePV10.add_prefix('LP1_')\n",
    "latePV10['butane_phaseout'] = 'Late'\n",
    "latePV10['pv_adoption'] = 'Low'\n",
    "latePV20 = pd.read_csv(os.path.join(late_folder, 'high_PV', 'B1_PV-1.csv'))\n",
    "# latePV20 = latePV20.add_prefix('LP2_')\n",
    "latePV20['butane_phaseout'] = 'Late'\n",
    "latePV20['pv_adoption'] = 'High'\n",
    "\n",
    "earlyPV10 = pd.read_csv(os.path.join(early_folder, 'low_PV', 'B1_PV0.csv'))\n",
    "# earlyPV10 = earlyPV10.add_prefix('EP1_')\n",
    "earlyPV10['butane_phaseout'] = 'Early'\n",
    "earlyPV10['pv_adoption'] = 'Low'\n",
    "earlyPV20 = pd.read_csv(os.path.join(early_folder, 'high_PV', 'B1_PV-1.csv'))\n",
    "# earlyPV20 = earlyPV20.add_prefix('EP2_')\n",
    "earlyPV20['butane_phaseout'] = 'Early'\n",
    "earlyPV20['pv_adoption'] = 'High'"
   ]
  },
  {
   "cell_type": "code",
   "execution_count": 2,
   "metadata": {},
   "outputs": [
    {
     "data": {
      "text/plain": [
       "Index(['Year', 'water_demand(m3)', 'energy_demand(KWh)', 'pv_elec(KWh)',\n",
       "       'grid_elec(KWh)', 'butane_cons(tonnes)', 'butane_FARcost(mMAD)',\n",
       "       'PV_new_cap(MW)', 'reinv_cap(MW)', 'butane_emissions(MtCO2)',\n",
       "       'grid_emissions(MtCO2)', 'Total_emissions(MtCO2)',\n",
       "       'butane_SUBSIDY(mMAD)', 'grid_cost(mMAD)', 'PV_Capex(mMAD)',\n",
       "       'butane_phaseout', 'pv_adoption'],\n",
       "      dtype='object')"
      ]
     },
     "execution_count": 2,
     "metadata": {},
     "output_type": "execute_result"
    }
   ],
   "source": [
    "#bau.columns\n",
    "#bau['bau_PV_new_cap(MW)']\n",
    "# earlyPV20['EP2_reinv_cap(MW)']#-earlyPV20['bau_PV_new_cap(MW)']\n",
    "earlyPV20.columns"
   ]
  },
  {
   "cell_type": "code",
   "execution_count": 3,
   "metadata": {},
   "outputs": [],
   "source": [
    "# all_dfs = pd.concat([bau, latePV10,latePV20,earlyPV10,earlyPV20], axis=1)\n",
    "# all_dfs.drop(['LP1_Year','LP2_Year','EP1_Year','EP2_Year',\n",
    "#               'LP1_water_demand(m3)','LP2_water_demand(m3)','EP1_water_demand(m3)','EP2_water_demand(m3)',\n",
    "#              'LP1_energy_demand(KWh)','LP2_energy_demand(KWh)','EP1_energy_demand(KWh)','EP2_energy_demand(KWh)'], axis=1, inplace=True)\n",
    "# all_dfs.rename({'bau_Year':'Year',\n",
    "#                'bau_water_demand(m3)':'water_demand(m3)',\n",
    "#                'bau_energy_demand(KWh)':'energy_demand(KWh)'}, axis=1, inplace=True)\n",
    "\n",
    "all_dfs = bau1.append([bau2,latePV10,latePV20,earlyPV10,earlyPV20], ignore_index=True)\n",
    "all_dfs['grid_cost(mMAD)'] /= 100\n",
    "all_dfs['grid_emissions(MtCO2)'] /= 100"
   ]
  },
  {
   "cell_type": "code",
   "execution_count": 4,
   "metadata": {},
   "outputs": [],
   "source": [
    "import plotly.express as px"
   ]
  },
  {
   "cell_type": "code",
   "execution_count": 36,
   "metadata": {},
   "outputs": [],
   "source": [
    "df = all_dfs.loc[all_dfs.Year >= 2021].groupby(['butane_phaseout', 'pv_adoption'])[['water_demand(m3)', 'energy_demand(KWh)', 'pv_elec(KWh)',\n",
    "                                                          'grid_elec(KWh)', 'butane_cons(tonnes)', 'butane_FARcost(mMAD)',\n",
    "                                                          'PV_new_cap(MW)', 'reinv_cap(MW)', 'butane_emissions(MtCO2)',\n",
    "                                                          'grid_emissions(MtCO2)', 'Total_emissions(MtCO2)',\n",
    "                                                          'butane_SUBSIDY(mMAD)', 'grid_cost(mMAD)', 'PV_Capex(mMAD)']].sum().reset_index()"
   ]
  },
  {
   "cell_type": "code",
   "execution_count": 47,
   "metadata": {},
   "outputs": [
    {
     "data": {
      "application/vnd.plotly.v1+json": {
       "config": {
        "plotlyServerURL": "https://plot.ly"
       },
       "data": [
        {
         "alignmentgroup": "True",
         "hovertemplate": "variable=butane_SUBSIDY(mMAD)<br>pv_adoption=High<br>butane_phaseout=%{x}<br>value=%{y}<extra></extra>",
         "legendgroup": "butane_SUBSIDY(mMAD)",
         "marker": {
          "color": "rgb(102,194,165)"
         },
         "name": "butane_SUBSIDY(mMAD)",
         "offsetgroup": "butane_SUBSIDY(mMAD)",
         "orientation": "v",
         "showlegend": true,
         "textposition": "auto",
         "type": "bar",
         "x": [
          "Early",
          "Late",
          "None"
         ],
         "xaxis": "x",
         "y": [
          980.9869308550367,
          2077.919563044885,
          6806.229532265079
         ],
         "yaxis": "y"
        },
        {
         "alignmentgroup": "True",
         "hovertemplate": "variable=butane_SUBSIDY(mMAD)<br>pv_adoption=Low<br>butane_phaseout=%{x}<br>value=%{y}<extra></extra>",
         "legendgroup": "butane_SUBSIDY(mMAD)",
         "marker": {
          "color": "rgb(102,194,165)"
         },
         "name": "butane_SUBSIDY(mMAD)",
         "offsetgroup": "butane_SUBSIDY(mMAD)",
         "orientation": "v",
         "showlegend": false,
         "textposition": "auto",
         "type": "bar",
         "x": [
          "Early",
          "Late",
          "None"
         ],
         "xaxis": "x2",
         "y": [
          980.9869308550367,
          2077.919563044885,
          6806.229532265079
         ],
         "yaxis": "y2"
        },
        {
         "alignmentgroup": "True",
         "hovertemplate": "variable=grid_cost(mMAD)<br>pv_adoption=High<br>butane_phaseout=%{x}<br>value=%{y}<extra></extra>",
         "legendgroup": "grid_cost(mMAD)",
         "marker": {
          "color": "rgb(252,141,98)"
         },
         "name": "grid_cost(mMAD)",
         "offsetgroup": "grid_cost(mMAD)",
         "orientation": "v",
         "showlegend": true,
         "textposition": "auto",
         "type": "bar",
         "x": [
          "Early",
          "Late",
          "None"
         ],
         "xaxis": "x",
         "y": [
          22421.270817900033,
          21961.290400801758,
          18477.501676369222
         ],
         "yaxis": "y"
        },
        {
         "alignmentgroup": "True",
         "hovertemplate": "variable=grid_cost(mMAD)<br>pv_adoption=Low<br>butane_phaseout=%{x}<br>value=%{y}<extra></extra>",
         "legendgroup": "grid_cost(mMAD)",
         "marker": {
          "color": "rgb(252,141,98)"
         },
         "name": "grid_cost(mMAD)",
         "offsetgroup": "grid_cost(mMAD)",
         "orientation": "v",
         "showlegend": false,
         "textposition": "auto",
         "type": "bar",
         "x": [
          "Early",
          "Late",
          "None"
         ],
         "xaxis": "x2",
         "y": [
          24863.989215424644,
          23944.0283812281,
          19978.55242037542
         ],
         "yaxis": "y2"
        },
        {
         "alignmentgroup": "True",
         "hovertemplate": "variable=PV_Capex(mMAD)<br>pv_adoption=High<br>butane_phaseout=%{x}<br>value=%{y}<extra></extra>",
         "legendgroup": "PV_Capex(mMAD)",
         "marker": {
          "color": "rgb(141,160,203)"
         },
         "name": "PV_Capex(mMAD)",
         "offsetgroup": "PV_Capex(mMAD)",
         "orientation": "v",
         "showlegend": true,
         "textposition": "auto",
         "type": "bar",
         "x": [
          "Early",
          "Late",
          "None"
         ],
         "xaxis": "x",
         "y": [
          3567.773715450442,
          3138.2738532066833,
          2857.2523652608725
         ],
         "yaxis": "y"
        },
        {
         "alignmentgroup": "True",
         "hovertemplate": "variable=PV_Capex(mMAD)<br>pv_adoption=Low<br>butane_phaseout=%{x}<br>value=%{y}<extra></extra>",
         "legendgroup": "PV_Capex(mMAD)",
         "marker": {
          "color": "rgb(141,160,203)"
         },
         "name": "PV_Capex(mMAD)",
         "offsetgroup": "PV_Capex(mMAD)",
         "orientation": "v",
         "showlegend": false,
         "textposition": "auto",
         "type": "bar",
         "x": [
          "Early",
          "Late",
          "None"
         ],
         "xaxis": "x2",
         "y": [
          1935.2078262117413,
          1935.2078262117416,
          1935.2078262117423
         ],
         "yaxis": "y2"
        }
       ],
       "layout": {
        "annotations": [
         {
          "font": {},
          "showarrow": false,
          "text": "pv_adoption=High",
          "x": 0.245,
          "xanchor": "center",
          "xref": "paper",
          "y": 1,
          "yanchor": "bottom",
          "yref": "paper"
         },
         {
          "font": {},
          "showarrow": false,
          "text": "pv_adoption=Low",
          "x": 0.755,
          "xanchor": "center",
          "xref": "paper",
          "y": 1,
          "yanchor": "bottom",
          "yref": "paper"
         }
        ],
        "barmode": "relative",
        "legend": {
         "title": {
          "text": "variable"
         },
         "tracegroupgap": 0
        },
        "template": {
         "data": {
          "bar": [
           {
            "error_x": {
             "color": "#2a3f5f"
            },
            "error_y": {
             "color": "#2a3f5f"
            },
            "marker": {
             "line": {
              "color": "#E5ECF6",
              "width": 0.5
             }
            },
            "type": "bar"
           }
          ],
          "barpolar": [
           {
            "marker": {
             "line": {
              "color": "#E5ECF6",
              "width": 0.5
             }
            },
            "type": "barpolar"
           }
          ],
          "carpet": [
           {
            "aaxis": {
             "endlinecolor": "#2a3f5f",
             "gridcolor": "white",
             "linecolor": "white",
             "minorgridcolor": "white",
             "startlinecolor": "#2a3f5f"
            },
            "baxis": {
             "endlinecolor": "#2a3f5f",
             "gridcolor": "white",
             "linecolor": "white",
             "minorgridcolor": "white",
             "startlinecolor": "#2a3f5f"
            },
            "type": "carpet"
           }
          ],
          "choropleth": [
           {
            "colorbar": {
             "outlinewidth": 0,
             "ticks": ""
            },
            "type": "choropleth"
           }
          ],
          "contour": [
           {
            "colorbar": {
             "outlinewidth": 0,
             "ticks": ""
            },
            "colorscale": [
             [
              0,
              "#0d0887"
             ],
             [
              0.1111111111111111,
              "#46039f"
             ],
             [
              0.2222222222222222,
              "#7201a8"
             ],
             [
              0.3333333333333333,
              "#9c179e"
             ],
             [
              0.4444444444444444,
              "#bd3786"
             ],
             [
              0.5555555555555556,
              "#d8576b"
             ],
             [
              0.6666666666666666,
              "#ed7953"
             ],
             [
              0.7777777777777778,
              "#fb9f3a"
             ],
             [
              0.8888888888888888,
              "#fdca26"
             ],
             [
              1,
              "#f0f921"
             ]
            ],
            "type": "contour"
           }
          ],
          "contourcarpet": [
           {
            "colorbar": {
             "outlinewidth": 0,
             "ticks": ""
            },
            "type": "contourcarpet"
           }
          ],
          "heatmap": [
           {
            "colorbar": {
             "outlinewidth": 0,
             "ticks": ""
            },
            "colorscale": [
             [
              0,
              "#0d0887"
             ],
             [
              0.1111111111111111,
              "#46039f"
             ],
             [
              0.2222222222222222,
              "#7201a8"
             ],
             [
              0.3333333333333333,
              "#9c179e"
             ],
             [
              0.4444444444444444,
              "#bd3786"
             ],
             [
              0.5555555555555556,
              "#d8576b"
             ],
             [
              0.6666666666666666,
              "#ed7953"
             ],
             [
              0.7777777777777778,
              "#fb9f3a"
             ],
             [
              0.8888888888888888,
              "#fdca26"
             ],
             [
              1,
              "#f0f921"
             ]
            ],
            "type": "heatmap"
           }
          ],
          "heatmapgl": [
           {
            "colorbar": {
             "outlinewidth": 0,
             "ticks": ""
            },
            "colorscale": [
             [
              0,
              "#0d0887"
             ],
             [
              0.1111111111111111,
              "#46039f"
             ],
             [
              0.2222222222222222,
              "#7201a8"
             ],
             [
              0.3333333333333333,
              "#9c179e"
             ],
             [
              0.4444444444444444,
              "#bd3786"
             ],
             [
              0.5555555555555556,
              "#d8576b"
             ],
             [
              0.6666666666666666,
              "#ed7953"
             ],
             [
              0.7777777777777778,
              "#fb9f3a"
             ],
             [
              0.8888888888888888,
              "#fdca26"
             ],
             [
              1,
              "#f0f921"
             ]
            ],
            "type": "heatmapgl"
           }
          ],
          "histogram": [
           {
            "marker": {
             "colorbar": {
              "outlinewidth": 0,
              "ticks": ""
             }
            },
            "type": "histogram"
           }
          ],
          "histogram2d": [
           {
            "colorbar": {
             "outlinewidth": 0,
             "ticks": ""
            },
            "colorscale": [
             [
              0,
              "#0d0887"
             ],
             [
              0.1111111111111111,
              "#46039f"
             ],
             [
              0.2222222222222222,
              "#7201a8"
             ],
             [
              0.3333333333333333,
              "#9c179e"
             ],
             [
              0.4444444444444444,
              "#bd3786"
             ],
             [
              0.5555555555555556,
              "#d8576b"
             ],
             [
              0.6666666666666666,
              "#ed7953"
             ],
             [
              0.7777777777777778,
              "#fb9f3a"
             ],
             [
              0.8888888888888888,
              "#fdca26"
             ],
             [
              1,
              "#f0f921"
             ]
            ],
            "type": "histogram2d"
           }
          ],
          "histogram2dcontour": [
           {
            "colorbar": {
             "outlinewidth": 0,
             "ticks": ""
            },
            "colorscale": [
             [
              0,
              "#0d0887"
             ],
             [
              0.1111111111111111,
              "#46039f"
             ],
             [
              0.2222222222222222,
              "#7201a8"
             ],
             [
              0.3333333333333333,
              "#9c179e"
             ],
             [
              0.4444444444444444,
              "#bd3786"
             ],
             [
              0.5555555555555556,
              "#d8576b"
             ],
             [
              0.6666666666666666,
              "#ed7953"
             ],
             [
              0.7777777777777778,
              "#fb9f3a"
             ],
             [
              0.8888888888888888,
              "#fdca26"
             ],
             [
              1,
              "#f0f921"
             ]
            ],
            "type": "histogram2dcontour"
           }
          ],
          "mesh3d": [
           {
            "colorbar": {
             "outlinewidth": 0,
             "ticks": ""
            },
            "type": "mesh3d"
           }
          ],
          "parcoords": [
           {
            "line": {
             "colorbar": {
              "outlinewidth": 0,
              "ticks": ""
             }
            },
            "type": "parcoords"
           }
          ],
          "pie": [
           {
            "automargin": true,
            "type": "pie"
           }
          ],
          "scatter": [
           {
            "marker": {
             "colorbar": {
              "outlinewidth": 0,
              "ticks": ""
             }
            },
            "type": "scatter"
           }
          ],
          "scatter3d": [
           {
            "line": {
             "colorbar": {
              "outlinewidth": 0,
              "ticks": ""
             }
            },
            "marker": {
             "colorbar": {
              "outlinewidth": 0,
              "ticks": ""
             }
            },
            "type": "scatter3d"
           }
          ],
          "scattercarpet": [
           {
            "marker": {
             "colorbar": {
              "outlinewidth": 0,
              "ticks": ""
             }
            },
            "type": "scattercarpet"
           }
          ],
          "scattergeo": [
           {
            "marker": {
             "colorbar": {
              "outlinewidth": 0,
              "ticks": ""
             }
            },
            "type": "scattergeo"
           }
          ],
          "scattergl": [
           {
            "marker": {
             "colorbar": {
              "outlinewidth": 0,
              "ticks": ""
             }
            },
            "type": "scattergl"
           }
          ],
          "scattermapbox": [
           {
            "marker": {
             "colorbar": {
              "outlinewidth": 0,
              "ticks": ""
             }
            },
            "type": "scattermapbox"
           }
          ],
          "scatterpolar": [
           {
            "marker": {
             "colorbar": {
              "outlinewidth": 0,
              "ticks": ""
             }
            },
            "type": "scatterpolar"
           }
          ],
          "scatterpolargl": [
           {
            "marker": {
             "colorbar": {
              "outlinewidth": 0,
              "ticks": ""
             }
            },
            "type": "scatterpolargl"
           }
          ],
          "scatterternary": [
           {
            "marker": {
             "colorbar": {
              "outlinewidth": 0,
              "ticks": ""
             }
            },
            "type": "scatterternary"
           }
          ],
          "surface": [
           {
            "colorbar": {
             "outlinewidth": 0,
             "ticks": ""
            },
            "colorscale": [
             [
              0,
              "#0d0887"
             ],
             [
              0.1111111111111111,
              "#46039f"
             ],
             [
              0.2222222222222222,
              "#7201a8"
             ],
             [
              0.3333333333333333,
              "#9c179e"
             ],
             [
              0.4444444444444444,
              "#bd3786"
             ],
             [
              0.5555555555555556,
              "#d8576b"
             ],
             [
              0.6666666666666666,
              "#ed7953"
             ],
             [
              0.7777777777777778,
              "#fb9f3a"
             ],
             [
              0.8888888888888888,
              "#fdca26"
             ],
             [
              1,
              "#f0f921"
             ]
            ],
            "type": "surface"
           }
          ],
          "table": [
           {
            "cells": {
             "fill": {
              "color": "#EBF0F8"
             },
             "line": {
              "color": "white"
             }
            },
            "header": {
             "fill": {
              "color": "#C8D4E3"
             },
             "line": {
              "color": "white"
             }
            },
            "type": "table"
           }
          ]
         },
         "layout": {
          "annotationdefaults": {
           "arrowcolor": "#2a3f5f",
           "arrowhead": 0,
           "arrowwidth": 1
          },
          "coloraxis": {
           "colorbar": {
            "outlinewidth": 0,
            "ticks": ""
           }
          },
          "colorscale": {
           "diverging": [
            [
             0,
             "#8e0152"
            ],
            [
             0.1,
             "#c51b7d"
            ],
            [
             0.2,
             "#de77ae"
            ],
            [
             0.3,
             "#f1b6da"
            ],
            [
             0.4,
             "#fde0ef"
            ],
            [
             0.5,
             "#f7f7f7"
            ],
            [
             0.6,
             "#e6f5d0"
            ],
            [
             0.7,
             "#b8e186"
            ],
            [
             0.8,
             "#7fbc41"
            ],
            [
             0.9,
             "#4d9221"
            ],
            [
             1,
             "#276419"
            ]
           ],
           "sequential": [
            [
             0,
             "#0d0887"
            ],
            [
             0.1111111111111111,
             "#46039f"
            ],
            [
             0.2222222222222222,
             "#7201a8"
            ],
            [
             0.3333333333333333,
             "#9c179e"
            ],
            [
             0.4444444444444444,
             "#bd3786"
            ],
            [
             0.5555555555555556,
             "#d8576b"
            ],
            [
             0.6666666666666666,
             "#ed7953"
            ],
            [
             0.7777777777777778,
             "#fb9f3a"
            ],
            [
             0.8888888888888888,
             "#fdca26"
            ],
            [
             1,
             "#f0f921"
            ]
           ],
           "sequentialminus": [
            [
             0,
             "#0d0887"
            ],
            [
             0.1111111111111111,
             "#46039f"
            ],
            [
             0.2222222222222222,
             "#7201a8"
            ],
            [
             0.3333333333333333,
             "#9c179e"
            ],
            [
             0.4444444444444444,
             "#bd3786"
            ],
            [
             0.5555555555555556,
             "#d8576b"
            ],
            [
             0.6666666666666666,
             "#ed7953"
            ],
            [
             0.7777777777777778,
             "#fb9f3a"
            ],
            [
             0.8888888888888888,
             "#fdca26"
            ],
            [
             1,
             "#f0f921"
            ]
           ]
          },
          "colorway": [
           "#636efa",
           "#EF553B",
           "#00cc96",
           "#ab63fa",
           "#FFA15A",
           "#19d3f3",
           "#FF6692",
           "#B6E880",
           "#FF97FF",
           "#FECB52"
          ],
          "font": {
           "color": "#2a3f5f"
          },
          "geo": {
           "bgcolor": "white",
           "lakecolor": "white",
           "landcolor": "#E5ECF6",
           "showlakes": true,
           "showland": true,
           "subunitcolor": "white"
          },
          "hoverlabel": {
           "align": "left"
          },
          "hovermode": "closest",
          "mapbox": {
           "style": "light"
          },
          "paper_bgcolor": "white",
          "plot_bgcolor": "#E5ECF6",
          "polar": {
           "angularaxis": {
            "gridcolor": "white",
            "linecolor": "white",
            "ticks": ""
           },
           "bgcolor": "#E5ECF6",
           "radialaxis": {
            "gridcolor": "white",
            "linecolor": "white",
            "ticks": ""
           }
          },
          "scene": {
           "xaxis": {
            "backgroundcolor": "#E5ECF6",
            "gridcolor": "white",
            "gridwidth": 2,
            "linecolor": "white",
            "showbackground": true,
            "ticks": "",
            "zerolinecolor": "white"
           },
           "yaxis": {
            "backgroundcolor": "#E5ECF6",
            "gridcolor": "white",
            "gridwidth": 2,
            "linecolor": "white",
            "showbackground": true,
            "ticks": "",
            "zerolinecolor": "white"
           },
           "zaxis": {
            "backgroundcolor": "#E5ECF6",
            "gridcolor": "white",
            "gridwidth": 2,
            "linecolor": "white",
            "showbackground": true,
            "ticks": "",
            "zerolinecolor": "white"
           }
          },
          "shapedefaults": {
           "line": {
            "color": "#2a3f5f"
           }
          },
          "ternary": {
           "aaxis": {
            "gridcolor": "white",
            "linecolor": "white",
            "ticks": ""
           },
           "baxis": {
            "gridcolor": "white",
            "linecolor": "white",
            "ticks": ""
           },
           "bgcolor": "#E5ECF6",
           "caxis": {
            "gridcolor": "white",
            "linecolor": "white",
            "ticks": ""
           }
          },
          "title": {
           "x": 0.05
          },
          "xaxis": {
           "automargin": true,
           "gridcolor": "white",
           "linecolor": "white",
           "ticks": "",
           "title": {
            "standoff": 15
           },
           "zerolinecolor": "white",
           "zerolinewidth": 2
          },
          "yaxis": {
           "automargin": true,
           "gridcolor": "white",
           "linecolor": "white",
           "ticks": "",
           "title": {
            "standoff": 15
           },
           "zerolinecolor": "white",
           "zerolinewidth": 2
          }
         }
        },
        "title": {
         "text": "Butane phaseout scenarios"
        },
        "xaxis": {
         "anchor": "y",
         "domain": [
          0,
          0.49
         ],
         "title": {
          "text": "butane_phaseout"
         }
        },
        "xaxis2": {
         "anchor": "y2",
         "domain": [
          0.51,
          1
         ],
         "matches": "x",
         "title": {
          "text": "butane_phaseout"
         }
        },
        "yaxis": {
         "anchor": "x",
         "domain": [
          0,
          1
         ],
         "title": {
          "text": "value"
         }
        },
        "yaxis2": {
         "anchor": "x2",
         "domain": [
          0,
          1
         ],
         "matches": "y",
         "showticklabels": false
        }
       }
      },
      "text/html": [
       "<div>\n",
       "        \n",
       "        \n",
       "            <div id=\"d9b14b4c-5fe4-4f4c-8355-701d3bcea9e8\" class=\"plotly-graph-div\" style=\"height:525px; width:100%;\"></div>\n",
       "            <script type=\"text/javascript\">\n",
       "                require([\"plotly\"], function(Plotly) {\n",
       "                    window.PLOTLYENV=window.PLOTLYENV || {};\n",
       "                    \n",
       "                if (document.getElementById(\"d9b14b4c-5fe4-4f4c-8355-701d3bcea9e8\")) {\n",
       "                    Plotly.newPlot(\n",
       "                        'd9b14b4c-5fe4-4f4c-8355-701d3bcea9e8',\n",
       "                        [{\"alignmentgroup\": \"True\", \"hovertemplate\": \"variable=butane_SUBSIDY(mMAD)<br>pv_adoption=High<br>butane_phaseout=%{x}<br>value=%{y}<extra></extra>\", \"legendgroup\": \"butane_SUBSIDY(mMAD)\", \"marker\": {\"color\": \"rgb(102,194,165)\"}, \"name\": \"butane_SUBSIDY(mMAD)\", \"offsetgroup\": \"butane_SUBSIDY(mMAD)\", \"orientation\": \"v\", \"showlegend\": true, \"textposition\": \"auto\", \"type\": \"bar\", \"x\": [\"Early\", \"Late\", \"None\"], \"xaxis\": \"x\", \"y\": [980.9869308550367, 2077.919563044885, 6806.229532265079], \"yaxis\": \"y\"}, {\"alignmentgroup\": \"True\", \"hovertemplate\": \"variable=butane_SUBSIDY(mMAD)<br>pv_adoption=Low<br>butane_phaseout=%{x}<br>value=%{y}<extra></extra>\", \"legendgroup\": \"butane_SUBSIDY(mMAD)\", \"marker\": {\"color\": \"rgb(102,194,165)\"}, \"name\": \"butane_SUBSIDY(mMAD)\", \"offsetgroup\": \"butane_SUBSIDY(mMAD)\", \"orientation\": \"v\", \"showlegend\": false, \"textposition\": \"auto\", \"type\": \"bar\", \"x\": [\"Early\", \"Late\", \"None\"], \"xaxis\": \"x2\", \"y\": [980.9869308550367, 2077.919563044885, 6806.229532265079], \"yaxis\": \"y2\"}, {\"alignmentgroup\": \"True\", \"hovertemplate\": \"variable=grid_cost(mMAD)<br>pv_adoption=High<br>butane_phaseout=%{x}<br>value=%{y}<extra></extra>\", \"legendgroup\": \"grid_cost(mMAD)\", \"marker\": {\"color\": \"rgb(252,141,98)\"}, \"name\": \"grid_cost(mMAD)\", \"offsetgroup\": \"grid_cost(mMAD)\", \"orientation\": \"v\", \"showlegend\": true, \"textposition\": \"auto\", \"type\": \"bar\", \"x\": [\"Early\", \"Late\", \"None\"], \"xaxis\": \"x\", \"y\": [22421.270817900033, 21961.290400801758, 18477.501676369222], \"yaxis\": \"y\"}, {\"alignmentgroup\": \"True\", \"hovertemplate\": \"variable=grid_cost(mMAD)<br>pv_adoption=Low<br>butane_phaseout=%{x}<br>value=%{y}<extra></extra>\", \"legendgroup\": \"grid_cost(mMAD)\", \"marker\": {\"color\": \"rgb(252,141,98)\"}, \"name\": \"grid_cost(mMAD)\", \"offsetgroup\": \"grid_cost(mMAD)\", \"orientation\": \"v\", \"showlegend\": false, \"textposition\": \"auto\", \"type\": \"bar\", \"x\": [\"Early\", \"Late\", \"None\"], \"xaxis\": \"x2\", \"y\": [24863.989215424644, 23944.0283812281, 19978.55242037542], \"yaxis\": \"y2\"}, {\"alignmentgroup\": \"True\", \"hovertemplate\": \"variable=PV_Capex(mMAD)<br>pv_adoption=High<br>butane_phaseout=%{x}<br>value=%{y}<extra></extra>\", \"legendgroup\": \"PV_Capex(mMAD)\", \"marker\": {\"color\": \"rgb(141,160,203)\"}, \"name\": \"PV_Capex(mMAD)\", \"offsetgroup\": \"PV_Capex(mMAD)\", \"orientation\": \"v\", \"showlegend\": true, \"textposition\": \"auto\", \"type\": \"bar\", \"x\": [\"Early\", \"Late\", \"None\"], \"xaxis\": \"x\", \"y\": [3567.773715450442, 3138.2738532066833, 2857.2523652608725], \"yaxis\": \"y\"}, {\"alignmentgroup\": \"True\", \"hovertemplate\": \"variable=PV_Capex(mMAD)<br>pv_adoption=Low<br>butane_phaseout=%{x}<br>value=%{y}<extra></extra>\", \"legendgroup\": \"PV_Capex(mMAD)\", \"marker\": {\"color\": \"rgb(141,160,203)\"}, \"name\": \"PV_Capex(mMAD)\", \"offsetgroup\": \"PV_Capex(mMAD)\", \"orientation\": \"v\", \"showlegend\": false, \"textposition\": \"auto\", \"type\": \"bar\", \"x\": [\"Early\", \"Late\", \"None\"], \"xaxis\": \"x2\", \"y\": [1935.2078262117413, 1935.2078262117416, 1935.2078262117423], \"yaxis\": \"y2\"}],\n",
       "                        {\"annotations\": [{\"font\": {}, \"showarrow\": false, \"text\": \"pv_adoption=High\", \"x\": 0.245, \"xanchor\": \"center\", \"xref\": \"paper\", \"y\": 1.0, \"yanchor\": \"bottom\", \"yref\": \"paper\"}, {\"font\": {}, \"showarrow\": false, \"text\": \"pv_adoption=Low\", \"x\": 0.755, \"xanchor\": \"center\", \"xref\": \"paper\", \"y\": 1.0, \"yanchor\": \"bottom\", \"yref\": \"paper\"}], \"barmode\": \"relative\", \"legend\": {\"title\": {\"text\": \"variable\"}, \"tracegroupgap\": 0}, \"template\": {\"data\": {\"bar\": [{\"error_x\": {\"color\": \"#2a3f5f\"}, \"error_y\": {\"color\": \"#2a3f5f\"}, \"marker\": {\"line\": {\"color\": \"#E5ECF6\", \"width\": 0.5}}, \"type\": \"bar\"}], \"barpolar\": [{\"marker\": {\"line\": {\"color\": \"#E5ECF6\", \"width\": 0.5}}, \"type\": \"barpolar\"}], \"carpet\": [{\"aaxis\": {\"endlinecolor\": \"#2a3f5f\", \"gridcolor\": \"white\", \"linecolor\": \"white\", \"minorgridcolor\": \"white\", \"startlinecolor\": \"#2a3f5f\"}, \"baxis\": {\"endlinecolor\": \"#2a3f5f\", \"gridcolor\": \"white\", \"linecolor\": \"white\", \"minorgridcolor\": \"white\", \"startlinecolor\": \"#2a3f5f\"}, \"type\": \"carpet\"}], \"choropleth\": [{\"colorbar\": {\"outlinewidth\": 0, \"ticks\": \"\"}, \"type\": \"choropleth\"}], \"contour\": [{\"colorbar\": {\"outlinewidth\": 0, \"ticks\": \"\"}, \"colorscale\": [[0.0, \"#0d0887\"], [0.1111111111111111, \"#46039f\"], [0.2222222222222222, \"#7201a8\"], [0.3333333333333333, \"#9c179e\"], [0.4444444444444444, \"#bd3786\"], [0.5555555555555556, \"#d8576b\"], [0.6666666666666666, \"#ed7953\"], [0.7777777777777778, \"#fb9f3a\"], [0.8888888888888888, \"#fdca26\"], [1.0, \"#f0f921\"]], \"type\": \"contour\"}], \"contourcarpet\": [{\"colorbar\": {\"outlinewidth\": 0, \"ticks\": \"\"}, \"type\": \"contourcarpet\"}], \"heatmap\": [{\"colorbar\": {\"outlinewidth\": 0, \"ticks\": \"\"}, \"colorscale\": [[0.0, \"#0d0887\"], [0.1111111111111111, \"#46039f\"], [0.2222222222222222, \"#7201a8\"], [0.3333333333333333, \"#9c179e\"], [0.4444444444444444, \"#bd3786\"], [0.5555555555555556, \"#d8576b\"], [0.6666666666666666, \"#ed7953\"], [0.7777777777777778, \"#fb9f3a\"], [0.8888888888888888, \"#fdca26\"], [1.0, \"#f0f921\"]], \"type\": \"heatmap\"}], \"heatmapgl\": [{\"colorbar\": {\"outlinewidth\": 0, \"ticks\": \"\"}, \"colorscale\": [[0.0, \"#0d0887\"], [0.1111111111111111, \"#46039f\"], [0.2222222222222222, \"#7201a8\"], [0.3333333333333333, \"#9c179e\"], [0.4444444444444444, \"#bd3786\"], [0.5555555555555556, \"#d8576b\"], [0.6666666666666666, \"#ed7953\"], [0.7777777777777778, \"#fb9f3a\"], [0.8888888888888888, \"#fdca26\"], [1.0, \"#f0f921\"]], \"type\": \"heatmapgl\"}], \"histogram\": [{\"marker\": {\"colorbar\": {\"outlinewidth\": 0, \"ticks\": \"\"}}, \"type\": \"histogram\"}], \"histogram2d\": [{\"colorbar\": {\"outlinewidth\": 0, \"ticks\": \"\"}, \"colorscale\": [[0.0, \"#0d0887\"], [0.1111111111111111, \"#46039f\"], [0.2222222222222222, \"#7201a8\"], [0.3333333333333333, \"#9c179e\"], [0.4444444444444444, \"#bd3786\"], [0.5555555555555556, \"#d8576b\"], [0.6666666666666666, \"#ed7953\"], [0.7777777777777778, \"#fb9f3a\"], [0.8888888888888888, \"#fdca26\"], [1.0, \"#f0f921\"]], \"type\": \"histogram2d\"}], \"histogram2dcontour\": [{\"colorbar\": {\"outlinewidth\": 0, \"ticks\": \"\"}, \"colorscale\": [[0.0, \"#0d0887\"], [0.1111111111111111, \"#46039f\"], [0.2222222222222222, \"#7201a8\"], [0.3333333333333333, \"#9c179e\"], [0.4444444444444444, \"#bd3786\"], [0.5555555555555556, \"#d8576b\"], [0.6666666666666666, \"#ed7953\"], [0.7777777777777778, \"#fb9f3a\"], [0.8888888888888888, \"#fdca26\"], [1.0, \"#f0f921\"]], \"type\": \"histogram2dcontour\"}], \"mesh3d\": [{\"colorbar\": {\"outlinewidth\": 0, \"ticks\": \"\"}, \"type\": \"mesh3d\"}], \"parcoords\": [{\"line\": {\"colorbar\": {\"outlinewidth\": 0, \"ticks\": \"\"}}, \"type\": \"parcoords\"}], \"pie\": [{\"automargin\": true, \"type\": \"pie\"}], \"scatter\": [{\"marker\": {\"colorbar\": {\"outlinewidth\": 0, \"ticks\": \"\"}}, \"type\": \"scatter\"}], \"scatter3d\": [{\"line\": {\"colorbar\": {\"outlinewidth\": 0, \"ticks\": \"\"}}, \"marker\": {\"colorbar\": {\"outlinewidth\": 0, \"ticks\": \"\"}}, \"type\": \"scatter3d\"}], \"scattercarpet\": [{\"marker\": {\"colorbar\": {\"outlinewidth\": 0, \"ticks\": \"\"}}, \"type\": \"scattercarpet\"}], \"scattergeo\": [{\"marker\": {\"colorbar\": {\"outlinewidth\": 0, \"ticks\": \"\"}}, \"type\": \"scattergeo\"}], \"scattergl\": [{\"marker\": {\"colorbar\": {\"outlinewidth\": 0, \"ticks\": \"\"}}, \"type\": \"scattergl\"}], \"scattermapbox\": [{\"marker\": {\"colorbar\": {\"outlinewidth\": 0, \"ticks\": \"\"}}, \"type\": \"scattermapbox\"}], \"scatterpolar\": [{\"marker\": {\"colorbar\": {\"outlinewidth\": 0, \"ticks\": \"\"}}, \"type\": \"scatterpolar\"}], \"scatterpolargl\": [{\"marker\": {\"colorbar\": {\"outlinewidth\": 0, \"ticks\": \"\"}}, \"type\": \"scatterpolargl\"}], \"scatterternary\": [{\"marker\": {\"colorbar\": {\"outlinewidth\": 0, \"ticks\": \"\"}}, \"type\": \"scatterternary\"}], \"surface\": [{\"colorbar\": {\"outlinewidth\": 0, \"ticks\": \"\"}, \"colorscale\": [[0.0, \"#0d0887\"], [0.1111111111111111, \"#46039f\"], [0.2222222222222222, \"#7201a8\"], [0.3333333333333333, \"#9c179e\"], [0.4444444444444444, \"#bd3786\"], [0.5555555555555556, \"#d8576b\"], [0.6666666666666666, \"#ed7953\"], [0.7777777777777778, \"#fb9f3a\"], [0.8888888888888888, \"#fdca26\"], [1.0, \"#f0f921\"]], \"type\": \"surface\"}], \"table\": [{\"cells\": {\"fill\": {\"color\": \"#EBF0F8\"}, \"line\": {\"color\": \"white\"}}, \"header\": {\"fill\": {\"color\": \"#C8D4E3\"}, \"line\": {\"color\": \"white\"}}, \"type\": \"table\"}]}, \"layout\": {\"annotationdefaults\": {\"arrowcolor\": \"#2a3f5f\", \"arrowhead\": 0, \"arrowwidth\": 1}, \"coloraxis\": {\"colorbar\": {\"outlinewidth\": 0, \"ticks\": \"\"}}, \"colorscale\": {\"diverging\": [[0, \"#8e0152\"], [0.1, \"#c51b7d\"], [0.2, \"#de77ae\"], [0.3, \"#f1b6da\"], [0.4, \"#fde0ef\"], [0.5, \"#f7f7f7\"], [0.6, \"#e6f5d0\"], [0.7, \"#b8e186\"], [0.8, \"#7fbc41\"], [0.9, \"#4d9221\"], [1, \"#276419\"]], \"sequential\": [[0.0, \"#0d0887\"], [0.1111111111111111, \"#46039f\"], [0.2222222222222222, \"#7201a8\"], [0.3333333333333333, \"#9c179e\"], [0.4444444444444444, \"#bd3786\"], [0.5555555555555556, \"#d8576b\"], [0.6666666666666666, \"#ed7953\"], [0.7777777777777778, \"#fb9f3a\"], [0.8888888888888888, \"#fdca26\"], [1.0, \"#f0f921\"]], \"sequentialminus\": [[0.0, \"#0d0887\"], [0.1111111111111111, \"#46039f\"], [0.2222222222222222, \"#7201a8\"], [0.3333333333333333, \"#9c179e\"], [0.4444444444444444, \"#bd3786\"], [0.5555555555555556, \"#d8576b\"], [0.6666666666666666, \"#ed7953\"], [0.7777777777777778, \"#fb9f3a\"], [0.8888888888888888, \"#fdca26\"], [1.0, \"#f0f921\"]]}, \"colorway\": [\"#636efa\", \"#EF553B\", \"#00cc96\", \"#ab63fa\", \"#FFA15A\", \"#19d3f3\", \"#FF6692\", \"#B6E880\", \"#FF97FF\", \"#FECB52\"], \"font\": {\"color\": \"#2a3f5f\"}, \"geo\": {\"bgcolor\": \"white\", \"lakecolor\": \"white\", \"landcolor\": \"#E5ECF6\", \"showlakes\": true, \"showland\": true, \"subunitcolor\": \"white\"}, \"hoverlabel\": {\"align\": \"left\"}, \"hovermode\": \"closest\", \"mapbox\": {\"style\": \"light\"}, \"paper_bgcolor\": \"white\", \"plot_bgcolor\": \"#E5ECF6\", \"polar\": {\"angularaxis\": {\"gridcolor\": \"white\", \"linecolor\": \"white\", \"ticks\": \"\"}, \"bgcolor\": \"#E5ECF6\", \"radialaxis\": {\"gridcolor\": \"white\", \"linecolor\": \"white\", \"ticks\": \"\"}}, \"scene\": {\"xaxis\": {\"backgroundcolor\": \"#E5ECF6\", \"gridcolor\": \"white\", \"gridwidth\": 2, \"linecolor\": \"white\", \"showbackground\": true, \"ticks\": \"\", \"zerolinecolor\": \"white\"}, \"yaxis\": {\"backgroundcolor\": \"#E5ECF6\", \"gridcolor\": \"white\", \"gridwidth\": 2, \"linecolor\": \"white\", \"showbackground\": true, \"ticks\": \"\", \"zerolinecolor\": \"white\"}, \"zaxis\": {\"backgroundcolor\": \"#E5ECF6\", \"gridcolor\": \"white\", \"gridwidth\": 2, \"linecolor\": \"white\", \"showbackground\": true, \"ticks\": \"\", \"zerolinecolor\": \"white\"}}, \"shapedefaults\": {\"line\": {\"color\": \"#2a3f5f\"}}, \"ternary\": {\"aaxis\": {\"gridcolor\": \"white\", \"linecolor\": \"white\", \"ticks\": \"\"}, \"baxis\": {\"gridcolor\": \"white\", \"linecolor\": \"white\", \"ticks\": \"\"}, \"bgcolor\": \"#E5ECF6\", \"caxis\": {\"gridcolor\": \"white\", \"linecolor\": \"white\", \"ticks\": \"\"}}, \"title\": {\"x\": 0.05}, \"xaxis\": {\"automargin\": true, \"gridcolor\": \"white\", \"linecolor\": \"white\", \"ticks\": \"\", \"title\": {\"standoff\": 15}, \"zerolinecolor\": \"white\", \"zerolinewidth\": 2}, \"yaxis\": {\"automargin\": true, \"gridcolor\": \"white\", \"linecolor\": \"white\", \"ticks\": \"\", \"title\": {\"standoff\": 15}, \"zerolinecolor\": \"white\", \"zerolinewidth\": 2}}}, \"title\": {\"text\": \"Butane phaseout scenarios\"}, \"xaxis\": {\"anchor\": \"y\", \"domain\": [0.0, 0.49], \"title\": {\"text\": \"butane_phaseout\"}}, \"xaxis2\": {\"anchor\": \"y2\", \"domain\": [0.51, 1.0], \"matches\": \"x\", \"title\": {\"text\": \"butane_phaseout\"}}, \"yaxis\": {\"anchor\": \"x\", \"domain\": [0.0, 1.0], \"title\": {\"text\": \"value\"}}, \"yaxis2\": {\"anchor\": \"x2\", \"domain\": [0.0, 1.0], \"matches\": \"y\", \"showticklabels\": false}},\n",
       "                        {\"responsive\": true}\n",
       "                    ).then(function(){\n",
       "                            \n",
       "var gd = document.getElementById('d9b14b4c-5fe4-4f4c-8355-701d3bcea9e8');\n",
       "var x = new MutationObserver(function (mutations, observer) {{\n",
       "        var display = window.getComputedStyle(gd).display;\n",
       "        if (!display || display === 'none') {{\n",
       "            console.log([gd, 'removed!']);\n",
       "            Plotly.purge(gd);\n",
       "            observer.disconnect();\n",
       "        }}\n",
       "}});\n",
       "\n",
       "// Listen for the removal of the full notebook cells\n",
       "var notebookContainer = gd.closest('#notebook-container');\n",
       "if (notebookContainer) {{\n",
       "    x.observe(notebookContainer, {childList: true});\n",
       "}}\n",
       "\n",
       "// Listen for the clearing of the current output cell\n",
       "var outputEl = gd.closest('.output');\n",
       "if (outputEl) {{\n",
       "    x.observe(outputEl, {childList: true});\n",
       "}}\n",
       "\n",
       "                        })\n",
       "                };\n",
       "                });\n",
       "            </script>\n",
       "        </div>"
      ]
     },
     "metadata": {},
     "output_type": "display_data"
    }
   ],
   "source": [
    "dff = df.melt(value_vars=['butane_SUBSIDY(mMAD)', 'grid_cost(mMAD)', 'PV_Capex(mMAD)'], \n",
    "         id_vars=['butane_phaseout', 'pv_adoption'])\n",
    "\n",
    "fig = px.bar(dff, x='butane_phaseout', y='value', color='variable',\n",
    "             facet_col='pv_adoption', title='Butane phaseout scenarios',\n",
    "             color_discrete_sequence=px.colors.qualitative.Set2)\n",
    "fig.show()\n",
    "# fig.write_image('ButanePhaseOut.pdf', width=900)"
   ]
  },
  {
   "cell_type": "code",
   "execution_count": null,
   "metadata": {},
   "outputs": [],
   "source": []
  },
  {
   "cell_type": "code",
   "execution_count": 58,
   "metadata": {},
   "outputs": [
    {
     "data": {
      "application/vnd.plotly.v1+json": {
       "config": {
        "plotlyServerURL": "https://plot.ly"
       },
       "data": [
        {
         "hovertemplate": "butane_phaseout=None<br>pv_adoption=Low<br>Year=%{x}<br>value=%{y}<extra></extra>",
         "legendgroup": "None",
         "line": {
          "color": "#4C78A8",
          "dash": "solid"
         },
         "mode": "lines",
         "name": "None",
         "orientation": "v",
         "showlegend": true,
         "type": "scatter",
         "x": [
          2020,
          2021,
          2022,
          2023,
          2024,
          2025,
          2026,
          2027,
          2028,
          2029,
          2030,
          2031,
          2032,
          2033,
          2034,
          2035,
          2036,
          2037,
          2038,
          2039,
          2040,
          2041,
          2042,
          2043,
          2044,
          2045,
          2046,
          2047,
          2048,
          2049,
          2050
         ],
         "xaxis": "x",
         "y": [
          0.015475340291008239,
          0.01819164848121192,
          0.01770826179793826,
          0.018983635450144226,
          0.018466589503296348,
          0.01815908598044074,
          0.019001315572156757,
          0.017215690313466946,
          0.01664080198909312,
          0.016786568082470348,
          0.019169029649683613,
          0.017301511384996228,
          0.01974408959097653,
          0.018193521069323714,
          0.02151065919692754,
          0.017338144025789995,
          0.017459656138876945,
          0.018516560094606324,
          0.020645857821693356,
          0.01936074487856024,
          0.019881162443101286,
          0.02034491897891169,
          0.018017251535640398,
          0.018666814467532288,
          0.021406949867977663,
          0.02236228725528172,
          0.020482701399071438,
          0.020131178503046555,
          0.020235933542800125,
          0.02021777672703708,
          0.015116732524003931
         ],
         "yaxis": "y"
        },
        {
         "hovertemplate": "butane_phaseout=None<br>pv_adoption=High<br>Year=%{x}<br>value=%{y}<extra></extra>",
         "legendgroup": "None",
         "line": {
          "color": "#4C78A8",
          "dash": "solid"
         },
         "mode": "lines",
         "name": "None",
         "orientation": "v",
         "showlegend": false,
         "type": "scatter",
         "x": [
          2020,
          2021,
          2022,
          2023,
          2024,
          2025,
          2026,
          2027,
          2028,
          2029,
          2030,
          2031,
          2032,
          2033,
          2034,
          2035,
          2036,
          2037,
          2038,
          2039,
          2040,
          2041,
          2042,
          2043,
          2044,
          2045,
          2046,
          2047,
          2048,
          2049,
          2050
         ],
         "xaxis": "x2",
         "y": [
          0.015475340291008239,
          0.018138043071955833,
          0.017603899774686533,
          0.018815817968096286,
          0.01824892718667668,
          0.017891538694469758,
          0.018665368019508948,
          0.016860583469751098,
          0.016248517803568938,
          0.016341382607555723,
          0.018604175023961392,
          0.016740704562322274,
          0.019045929660717036,
          0.01749657901546972,
          0.020623261462118903,
          0.016571788266000528,
          0.016636481030795038,
          0.017588992023494877,
          0.019550787528085443,
          0.018276787455900535,
          0.018709484296011908,
          0.01908595930328289,
          0.01684923824915003,
          0.017401686060304,
          0.01989303102578121,
          0.020714911041055238,
          0.018913433314333757,
          0.018529521472537412,
          0.018566312781927975,
          0.0184900782335351,
          0.013780396290813693
         ],
         "yaxis": "y2"
        },
        {
         "hovertemplate": "butane_phaseout=Late<br>pv_adoption=Low<br>Year=%{x}<br>value=%{y}<extra></extra>",
         "legendgroup": "Late",
         "line": {
          "color": "#F58518",
          "dash": "solid"
         },
         "mode": "lines",
         "name": "Late",
         "orientation": "v",
         "showlegend": true,
         "type": "scatter",
         "x": [
          2020,
          2021,
          2022,
          2023,
          2024,
          2025,
          2026,
          2027,
          2028,
          2029,
          2030,
          2031,
          2032,
          2033,
          2034,
          2035,
          2036,
          2037,
          2038,
          2039,
          2040,
          2041,
          2042,
          2043,
          2044,
          2045,
          2046,
          2047,
          2048,
          2049,
          2050
         ],
         "xaxis": "x",
         "y": [
          0.015475340291008239,
          0.01800573908210795,
          0.017346322932042725,
          0.0184016261402695,
          0.017711712877002107,
          0.017231202845938962,
          0.01783621286125555,
          0.015984141093917655,
          0.01528031769803177,
          0.015242616356706144,
          0.01721005227209269,
          0.015356572229346855,
          0.01732279489489432,
          0.015776450101292094,
          0.01843306717899442,
          0.014680338763605269,
          0.014604795186881632,
          0.015299652974195575,
          0.016848034745876803,
          0.0156014624498346,
          0.01581765498570757,
          0.01618662440094221,
          0.014334708516018368,
          0.0148515073892018,
          0.0170315869747095,
          0.017791663113646144,
          0.016296245495353592,
          0.016016570305091793,
          0.016099914479839047,
          0.016085468732604632,
          0.012027026098712283
         ],
         "yaxis": "y"
        },
        {
         "hovertemplate": "butane_phaseout=Late<br>pv_adoption=High<br>Year=%{x}<br>value=%{y}<extra></extra>",
         "legendgroup": "Late",
         "line": {
          "color": "#F58518",
          "dash": "solid"
         },
         "mode": "lines",
         "name": "Late",
         "orientation": "v",
         "showlegend": false,
         "type": "scatter",
         "x": [
          2020,
          2021,
          2022,
          2023,
          2024,
          2025,
          2026,
          2027,
          2028,
          2029,
          2030,
          2031,
          2032,
          2033,
          2034,
          2035,
          2036,
          2037,
          2038,
          2039,
          2040,
          2041,
          2042,
          2043,
          2044,
          2045,
          2046,
          2047,
          2048,
          2049,
          2050
         ],
         "xaxis": "x2",
         "y": [
          0.015475340291008239,
          0.017925330968223924,
          0.01718977989716515,
          0.018149899917197693,
          0.017385219402072688,
          0.01682988191698246,
          0.017332291532283814,
          0.015451480828343848,
          0.014691891419745542,
          0.014574838144334176,
          0.016362770333509243,
          0.014515361995335908,
          0.016275554999505004,
          0.014731037020511067,
          0.017101970576781523,
          0.013530805123921071,
          0.013370032524758726,
          0.013908300867528381,
          0.015205429305464839,
          0.013975526315844962,
          0.014060137765073396,
          0.014388110578615203,
          0.012741963125349677,
          0.013201339901512676,
          0.015139188421963984,
          0.015814811656574296,
          0.014485551551425382,
          0.014236951382303886,
          0.014311035093190292,
          0.01429819442898191,
          0.010690689865522027
         ],
         "yaxis": "y2"
        },
        {
         "hovertemplate": "butane_phaseout=Early<br>pv_adoption=Low<br>Year=%{x}<br>value=%{y}<extra></extra>",
         "legendgroup": "Early",
         "line": {
          "color": "#E45756",
          "dash": "solid"
         },
         "mode": "lines",
         "name": "Early",
         "orientation": "v",
         "showlegend": true,
         "type": "scatter",
         "x": [
          2020,
          2021,
          2022,
          2023,
          2024,
          2025,
          2026,
          2027,
          2028,
          2029,
          2030,
          2031,
          2032,
          2033,
          2034,
          2035,
          2036,
          2037,
          2038,
          2039,
          2040,
          2041,
          2042,
          2043,
          2044,
          2045,
          2046,
          2047,
          2048,
          2049,
          2050
         ],
         "xaxis": "x",
         "y": [
          0.015475340291008239,
          0.017819829683004045,
          0.016984384066147218,
          0.017819616830394833,
          0.016956836250707992,
          0.01630331971143719,
          0.016671110150354336,
          0.014752591874368365,
          0.013919833406970483,
          0.013698664630941933,
          0.015251074894501749,
          0.013765258374724651,
          0.01570859843083951,
          0.01447495034927507,
          0.01711409917130886,
          0.01379440367621035,
          0.013891079948882794,
          0.014731963482358348,
          0.016426054404119417,
          0.015403605479901652,
          0.01581765498570757,
          0.01618662440094221,
          0.014334708516018368,
          0.0148515073892018,
          0.0170315869747095,
          0.017791663113646144,
          0.016296245495353592,
          0.016016570305091793,
          0.016099914479839047,
          0.016085468732604632,
          0.012027026098712283
         ],
         "yaxis": "y"
        },
        {
         "hovertemplate": "butane_phaseout=Early<br>pv_adoption=High<br>Year=%{x}<br>value=%{y}<extra></extra>",
         "legendgroup": "Early",
         "line": {
          "color": "#E45756",
          "dash": "solid"
         },
         "mode": "lines",
         "name": "Early",
         "orientation": "v",
         "showlegend": false,
         "type": "scatter",
         "x": [
          2020,
          2021,
          2022,
          2023,
          2024,
          2025,
          2026,
          2027,
          2028,
          2029,
          2030,
          2031,
          2032,
          2033,
          2034,
          2035,
          2036,
          2037,
          2038,
          2039,
          2040,
          2041,
          2042,
          2043,
          2044,
          2045,
          2046,
          2047,
          2048,
          2049,
          2050
         ],
         "xaxis": "x2",
         "y": [
          0.015475340291008239,
          0.017659013455235885,
          0.016671297996392033,
          0.017316164384251043,
          0.016303849300849056,
          0.015500677853524205,
          0.015663267492410787,
          0.013687271343220786,
          0.01274298085039805,
          0.012363108206198053,
          0.01355651101733489,
          0.01223578522197747,
          0.013963198605190628,
          0.01286662253268896,
          0.015212532596718986,
          0.012261692156631403,
          0.012347626621229135,
          0.013095078650985227,
          0.014600937248106113,
          0.013692093759912595,
          0.014060137765073396,
          0.014388110578615203,
          0.012741963125349677,
          0.013201339901512676,
          0.015139188421963984,
          0.015814811656574296,
          0.014485551551425382,
          0.014236951382303886,
          0.014311035093190292,
          0.01429819442898191,
          0.010690689865522027
         ],
         "yaxis": "y2"
        }
       ],
       "layout": {
        "annotations": [
         {
          "font": {},
          "showarrow": false,
          "text": "pv_adoption=Low",
          "x": 0.245,
          "xanchor": "center",
          "xref": "paper",
          "y": 1,
          "yanchor": "bottom",
          "yref": "paper"
         },
         {
          "font": {},
          "showarrow": false,
          "text": "pv_adoption=High",
          "x": 0.755,
          "xanchor": "center",
          "xref": "paper",
          "y": 1,
          "yanchor": "bottom",
          "yref": "paper"
         }
        ],
        "legend": {
         "title": {
          "text": "butane_phaseout"
         },
         "tracegroupgap": 0
        },
        "template": {
         "data": {
          "bar": [
           {
            "error_x": {
             "color": "#2a3f5f"
            },
            "error_y": {
             "color": "#2a3f5f"
            },
            "marker": {
             "line": {
              "color": "#E5ECF6",
              "width": 0.5
             }
            },
            "type": "bar"
           }
          ],
          "barpolar": [
           {
            "marker": {
             "line": {
              "color": "#E5ECF6",
              "width": 0.5
             }
            },
            "type": "barpolar"
           }
          ],
          "carpet": [
           {
            "aaxis": {
             "endlinecolor": "#2a3f5f",
             "gridcolor": "white",
             "linecolor": "white",
             "minorgridcolor": "white",
             "startlinecolor": "#2a3f5f"
            },
            "baxis": {
             "endlinecolor": "#2a3f5f",
             "gridcolor": "white",
             "linecolor": "white",
             "minorgridcolor": "white",
             "startlinecolor": "#2a3f5f"
            },
            "type": "carpet"
           }
          ],
          "choropleth": [
           {
            "colorbar": {
             "outlinewidth": 0,
             "ticks": ""
            },
            "type": "choropleth"
           }
          ],
          "contour": [
           {
            "colorbar": {
             "outlinewidth": 0,
             "ticks": ""
            },
            "colorscale": [
             [
              0,
              "#0d0887"
             ],
             [
              0.1111111111111111,
              "#46039f"
             ],
             [
              0.2222222222222222,
              "#7201a8"
             ],
             [
              0.3333333333333333,
              "#9c179e"
             ],
             [
              0.4444444444444444,
              "#bd3786"
             ],
             [
              0.5555555555555556,
              "#d8576b"
             ],
             [
              0.6666666666666666,
              "#ed7953"
             ],
             [
              0.7777777777777778,
              "#fb9f3a"
             ],
             [
              0.8888888888888888,
              "#fdca26"
             ],
             [
              1,
              "#f0f921"
             ]
            ],
            "type": "contour"
           }
          ],
          "contourcarpet": [
           {
            "colorbar": {
             "outlinewidth": 0,
             "ticks": ""
            },
            "type": "contourcarpet"
           }
          ],
          "heatmap": [
           {
            "colorbar": {
             "outlinewidth": 0,
             "ticks": ""
            },
            "colorscale": [
             [
              0,
              "#0d0887"
             ],
             [
              0.1111111111111111,
              "#46039f"
             ],
             [
              0.2222222222222222,
              "#7201a8"
             ],
             [
              0.3333333333333333,
              "#9c179e"
             ],
             [
              0.4444444444444444,
              "#bd3786"
             ],
             [
              0.5555555555555556,
              "#d8576b"
             ],
             [
              0.6666666666666666,
              "#ed7953"
             ],
             [
              0.7777777777777778,
              "#fb9f3a"
             ],
             [
              0.8888888888888888,
              "#fdca26"
             ],
             [
              1,
              "#f0f921"
             ]
            ],
            "type": "heatmap"
           }
          ],
          "heatmapgl": [
           {
            "colorbar": {
             "outlinewidth": 0,
             "ticks": ""
            },
            "colorscale": [
             [
              0,
              "#0d0887"
             ],
             [
              0.1111111111111111,
              "#46039f"
             ],
             [
              0.2222222222222222,
              "#7201a8"
             ],
             [
              0.3333333333333333,
              "#9c179e"
             ],
             [
              0.4444444444444444,
              "#bd3786"
             ],
             [
              0.5555555555555556,
              "#d8576b"
             ],
             [
              0.6666666666666666,
              "#ed7953"
             ],
             [
              0.7777777777777778,
              "#fb9f3a"
             ],
             [
              0.8888888888888888,
              "#fdca26"
             ],
             [
              1,
              "#f0f921"
             ]
            ],
            "type": "heatmapgl"
           }
          ],
          "histogram": [
           {
            "marker": {
             "colorbar": {
              "outlinewidth": 0,
              "ticks": ""
             }
            },
            "type": "histogram"
           }
          ],
          "histogram2d": [
           {
            "colorbar": {
             "outlinewidth": 0,
             "ticks": ""
            },
            "colorscale": [
             [
              0,
              "#0d0887"
             ],
             [
              0.1111111111111111,
              "#46039f"
             ],
             [
              0.2222222222222222,
              "#7201a8"
             ],
             [
              0.3333333333333333,
              "#9c179e"
             ],
             [
              0.4444444444444444,
              "#bd3786"
             ],
             [
              0.5555555555555556,
              "#d8576b"
             ],
             [
              0.6666666666666666,
              "#ed7953"
             ],
             [
              0.7777777777777778,
              "#fb9f3a"
             ],
             [
              0.8888888888888888,
              "#fdca26"
             ],
             [
              1,
              "#f0f921"
             ]
            ],
            "type": "histogram2d"
           }
          ],
          "histogram2dcontour": [
           {
            "colorbar": {
             "outlinewidth": 0,
             "ticks": ""
            },
            "colorscale": [
             [
              0,
              "#0d0887"
             ],
             [
              0.1111111111111111,
              "#46039f"
             ],
             [
              0.2222222222222222,
              "#7201a8"
             ],
             [
              0.3333333333333333,
              "#9c179e"
             ],
             [
              0.4444444444444444,
              "#bd3786"
             ],
             [
              0.5555555555555556,
              "#d8576b"
             ],
             [
              0.6666666666666666,
              "#ed7953"
             ],
             [
              0.7777777777777778,
              "#fb9f3a"
             ],
             [
              0.8888888888888888,
              "#fdca26"
             ],
             [
              1,
              "#f0f921"
             ]
            ],
            "type": "histogram2dcontour"
           }
          ],
          "mesh3d": [
           {
            "colorbar": {
             "outlinewidth": 0,
             "ticks": ""
            },
            "type": "mesh3d"
           }
          ],
          "parcoords": [
           {
            "line": {
             "colorbar": {
              "outlinewidth": 0,
              "ticks": ""
             }
            },
            "type": "parcoords"
           }
          ],
          "pie": [
           {
            "automargin": true,
            "type": "pie"
           }
          ],
          "scatter": [
           {
            "marker": {
             "colorbar": {
              "outlinewidth": 0,
              "ticks": ""
             }
            },
            "type": "scatter"
           }
          ],
          "scatter3d": [
           {
            "line": {
             "colorbar": {
              "outlinewidth": 0,
              "ticks": ""
             }
            },
            "marker": {
             "colorbar": {
              "outlinewidth": 0,
              "ticks": ""
             }
            },
            "type": "scatter3d"
           }
          ],
          "scattercarpet": [
           {
            "marker": {
             "colorbar": {
              "outlinewidth": 0,
              "ticks": ""
             }
            },
            "type": "scattercarpet"
           }
          ],
          "scattergeo": [
           {
            "marker": {
             "colorbar": {
              "outlinewidth": 0,
              "ticks": ""
             }
            },
            "type": "scattergeo"
           }
          ],
          "scattergl": [
           {
            "marker": {
             "colorbar": {
              "outlinewidth": 0,
              "ticks": ""
             }
            },
            "type": "scattergl"
           }
          ],
          "scattermapbox": [
           {
            "marker": {
             "colorbar": {
              "outlinewidth": 0,
              "ticks": ""
             }
            },
            "type": "scattermapbox"
           }
          ],
          "scatterpolar": [
           {
            "marker": {
             "colorbar": {
              "outlinewidth": 0,
              "ticks": ""
             }
            },
            "type": "scatterpolar"
           }
          ],
          "scatterpolargl": [
           {
            "marker": {
             "colorbar": {
              "outlinewidth": 0,
              "ticks": ""
             }
            },
            "type": "scatterpolargl"
           }
          ],
          "scatterternary": [
           {
            "marker": {
             "colorbar": {
              "outlinewidth": 0,
              "ticks": ""
             }
            },
            "type": "scatterternary"
           }
          ],
          "surface": [
           {
            "colorbar": {
             "outlinewidth": 0,
             "ticks": ""
            },
            "colorscale": [
             [
              0,
              "#0d0887"
             ],
             [
              0.1111111111111111,
              "#46039f"
             ],
             [
              0.2222222222222222,
              "#7201a8"
             ],
             [
              0.3333333333333333,
              "#9c179e"
             ],
             [
              0.4444444444444444,
              "#bd3786"
             ],
             [
              0.5555555555555556,
              "#d8576b"
             ],
             [
              0.6666666666666666,
              "#ed7953"
             ],
             [
              0.7777777777777778,
              "#fb9f3a"
             ],
             [
              0.8888888888888888,
              "#fdca26"
             ],
             [
              1,
              "#f0f921"
             ]
            ],
            "type": "surface"
           }
          ],
          "table": [
           {
            "cells": {
             "fill": {
              "color": "#EBF0F8"
             },
             "line": {
              "color": "white"
             }
            },
            "header": {
             "fill": {
              "color": "#C8D4E3"
             },
             "line": {
              "color": "white"
             }
            },
            "type": "table"
           }
          ]
         },
         "layout": {
          "annotationdefaults": {
           "arrowcolor": "#2a3f5f",
           "arrowhead": 0,
           "arrowwidth": 1
          },
          "coloraxis": {
           "colorbar": {
            "outlinewidth": 0,
            "ticks": ""
           }
          },
          "colorscale": {
           "diverging": [
            [
             0,
             "#8e0152"
            ],
            [
             0.1,
             "#c51b7d"
            ],
            [
             0.2,
             "#de77ae"
            ],
            [
             0.3,
             "#f1b6da"
            ],
            [
             0.4,
             "#fde0ef"
            ],
            [
             0.5,
             "#f7f7f7"
            ],
            [
             0.6,
             "#e6f5d0"
            ],
            [
             0.7,
             "#b8e186"
            ],
            [
             0.8,
             "#7fbc41"
            ],
            [
             0.9,
             "#4d9221"
            ],
            [
             1,
             "#276419"
            ]
           ],
           "sequential": [
            [
             0,
             "#0d0887"
            ],
            [
             0.1111111111111111,
             "#46039f"
            ],
            [
             0.2222222222222222,
             "#7201a8"
            ],
            [
             0.3333333333333333,
             "#9c179e"
            ],
            [
             0.4444444444444444,
             "#bd3786"
            ],
            [
             0.5555555555555556,
             "#d8576b"
            ],
            [
             0.6666666666666666,
             "#ed7953"
            ],
            [
             0.7777777777777778,
             "#fb9f3a"
            ],
            [
             0.8888888888888888,
             "#fdca26"
            ],
            [
             1,
             "#f0f921"
            ]
           ],
           "sequentialminus": [
            [
             0,
             "#0d0887"
            ],
            [
             0.1111111111111111,
             "#46039f"
            ],
            [
             0.2222222222222222,
             "#7201a8"
            ],
            [
             0.3333333333333333,
             "#9c179e"
            ],
            [
             0.4444444444444444,
             "#bd3786"
            ],
            [
             0.5555555555555556,
             "#d8576b"
            ],
            [
             0.6666666666666666,
             "#ed7953"
            ],
            [
             0.7777777777777778,
             "#fb9f3a"
            ],
            [
             0.8888888888888888,
             "#fdca26"
            ],
            [
             1,
             "#f0f921"
            ]
           ]
          },
          "colorway": [
           "#636efa",
           "#EF553B",
           "#00cc96",
           "#ab63fa",
           "#FFA15A",
           "#19d3f3",
           "#FF6692",
           "#B6E880",
           "#FF97FF",
           "#FECB52"
          ],
          "font": {
           "color": "#2a3f5f"
          },
          "geo": {
           "bgcolor": "white",
           "lakecolor": "white",
           "landcolor": "#E5ECF6",
           "showlakes": true,
           "showland": true,
           "subunitcolor": "white"
          },
          "hoverlabel": {
           "align": "left"
          },
          "hovermode": "closest",
          "mapbox": {
           "style": "light"
          },
          "paper_bgcolor": "white",
          "plot_bgcolor": "#E5ECF6",
          "polar": {
           "angularaxis": {
            "gridcolor": "white",
            "linecolor": "white",
            "ticks": ""
           },
           "bgcolor": "#E5ECF6",
           "radialaxis": {
            "gridcolor": "white",
            "linecolor": "white",
            "ticks": ""
           }
          },
          "scene": {
           "xaxis": {
            "backgroundcolor": "#E5ECF6",
            "gridcolor": "white",
            "gridwidth": 2,
            "linecolor": "white",
            "showbackground": true,
            "ticks": "",
            "zerolinecolor": "white"
           },
           "yaxis": {
            "backgroundcolor": "#E5ECF6",
            "gridcolor": "white",
            "gridwidth": 2,
            "linecolor": "white",
            "showbackground": true,
            "ticks": "",
            "zerolinecolor": "white"
           },
           "zaxis": {
            "backgroundcolor": "#E5ECF6",
            "gridcolor": "white",
            "gridwidth": 2,
            "linecolor": "white",
            "showbackground": true,
            "ticks": "",
            "zerolinecolor": "white"
           }
          },
          "shapedefaults": {
           "line": {
            "color": "#2a3f5f"
           }
          },
          "ternary": {
           "aaxis": {
            "gridcolor": "white",
            "linecolor": "white",
            "ticks": ""
           },
           "baxis": {
            "gridcolor": "white",
            "linecolor": "white",
            "ticks": ""
           },
           "bgcolor": "#E5ECF6",
           "caxis": {
            "gridcolor": "white",
            "linecolor": "white",
            "ticks": ""
           }
          },
          "title": {
           "x": 0.05
          },
          "xaxis": {
           "automargin": true,
           "gridcolor": "white",
           "linecolor": "white",
           "ticks": "",
           "title": {
            "standoff": 15
           },
           "zerolinecolor": "white",
           "zerolinewidth": 2
          },
          "yaxis": {
           "automargin": true,
           "gridcolor": "white",
           "linecolor": "white",
           "ticks": "",
           "title": {
            "standoff": 15
           },
           "zerolinecolor": "white",
           "zerolinewidth": 2
          }
         }
        },
        "title": {
         "text": "Butane phaseout scenarios"
        },
        "xaxis": {
         "anchor": "y",
         "domain": [
          0,
          0.49
         ],
         "title": {
          "text": "Year"
         }
        },
        "xaxis2": {
         "anchor": "y2",
         "domain": [
          0.51,
          1
         ],
         "matches": "x",
         "title": {
          "text": "Year"
         }
        },
        "yaxis": {
         "anchor": "x",
         "domain": [
          0,
          1
         ],
         "title": {
          "text": "value"
         }
        },
        "yaxis2": {
         "anchor": "x2",
         "domain": [
          0,
          1
         ],
         "matches": "y",
         "showticklabels": false
        }
       }
      },
      "text/html": [
       "<div>\n",
       "        \n",
       "        \n",
       "            <div id=\"3b0a03a4-7ea0-41e6-9e5a-79d1edb36d73\" class=\"plotly-graph-div\" style=\"height:525px; width:100%;\"></div>\n",
       "            <script type=\"text/javascript\">\n",
       "                require([\"plotly\"], function(Plotly) {\n",
       "                    window.PLOTLYENV=window.PLOTLYENV || {};\n",
       "                    \n",
       "                if (document.getElementById(\"3b0a03a4-7ea0-41e6-9e5a-79d1edb36d73\")) {\n",
       "                    Plotly.newPlot(\n",
       "                        '3b0a03a4-7ea0-41e6-9e5a-79d1edb36d73',\n",
       "                        [{\"hovertemplate\": \"butane_phaseout=None<br>pv_adoption=Low<br>Year=%{x}<br>value=%{y}<extra></extra>\", \"legendgroup\": \"None\", \"line\": {\"color\": \"#4C78A8\", \"dash\": \"solid\"}, \"mode\": \"lines\", \"name\": \"None\", \"orientation\": \"v\", \"showlegend\": true, \"type\": \"scatter\", \"x\": [2020, 2021, 2022, 2023, 2024, 2025, 2026, 2027, 2028, 2029, 2030, 2031, 2032, 2033, 2034, 2035, 2036, 2037, 2038, 2039, 2040, 2041, 2042, 2043, 2044, 2045, 2046, 2047, 2048, 2049, 2050], \"xaxis\": \"x\", \"y\": [0.015475340291008239, 0.01819164848121192, 0.01770826179793826, 0.018983635450144226, 0.018466589503296348, 0.01815908598044074, 0.019001315572156757, 0.017215690313466946, 0.01664080198909312, 0.016786568082470348, 0.019169029649683613, 0.017301511384996228, 0.01974408959097653, 0.018193521069323714, 0.02151065919692754, 0.017338144025789995, 0.017459656138876945, 0.018516560094606324, 0.020645857821693356, 0.01936074487856024, 0.019881162443101286, 0.02034491897891169, 0.018017251535640398, 0.018666814467532288, 0.021406949867977663, 0.02236228725528172, 0.020482701399071438, 0.020131178503046555, 0.020235933542800125, 0.02021777672703708, 0.015116732524003931], \"yaxis\": \"y\"}, {\"hovertemplate\": \"butane_phaseout=None<br>pv_adoption=High<br>Year=%{x}<br>value=%{y}<extra></extra>\", \"legendgroup\": \"None\", \"line\": {\"color\": \"#4C78A8\", \"dash\": \"solid\"}, \"mode\": \"lines\", \"name\": \"None\", \"orientation\": \"v\", \"showlegend\": false, \"type\": \"scatter\", \"x\": [2020, 2021, 2022, 2023, 2024, 2025, 2026, 2027, 2028, 2029, 2030, 2031, 2032, 2033, 2034, 2035, 2036, 2037, 2038, 2039, 2040, 2041, 2042, 2043, 2044, 2045, 2046, 2047, 2048, 2049, 2050], \"xaxis\": \"x2\", \"y\": [0.015475340291008239, 0.018138043071955833, 0.017603899774686533, 0.018815817968096286, 0.01824892718667668, 0.017891538694469758, 0.018665368019508948, 0.016860583469751098, 0.016248517803568938, 0.016341382607555723, 0.018604175023961392, 0.016740704562322274, 0.019045929660717036, 0.01749657901546972, 0.020623261462118903, 0.016571788266000528, 0.016636481030795038, 0.017588992023494877, 0.019550787528085443, 0.018276787455900535, 0.018709484296011908, 0.01908595930328289, 0.01684923824915003, 0.017401686060304, 0.01989303102578121, 0.020714911041055238, 0.018913433314333757, 0.018529521472537412, 0.018566312781927975, 0.0184900782335351, 0.013780396290813693], \"yaxis\": \"y2\"}, {\"hovertemplate\": \"butane_phaseout=Late<br>pv_adoption=Low<br>Year=%{x}<br>value=%{y}<extra></extra>\", \"legendgroup\": \"Late\", \"line\": {\"color\": \"#F58518\", \"dash\": \"solid\"}, \"mode\": \"lines\", \"name\": \"Late\", \"orientation\": \"v\", \"showlegend\": true, \"type\": \"scatter\", \"x\": [2020, 2021, 2022, 2023, 2024, 2025, 2026, 2027, 2028, 2029, 2030, 2031, 2032, 2033, 2034, 2035, 2036, 2037, 2038, 2039, 2040, 2041, 2042, 2043, 2044, 2045, 2046, 2047, 2048, 2049, 2050], \"xaxis\": \"x\", \"y\": [0.015475340291008239, 0.01800573908210795, 0.017346322932042725, 0.0184016261402695, 0.017711712877002107, 0.017231202845938962, 0.01783621286125555, 0.015984141093917655, 0.01528031769803177, 0.015242616356706144, 0.01721005227209269, 0.015356572229346855, 0.01732279489489432, 0.015776450101292094, 0.01843306717899442, 0.014680338763605269, 0.014604795186881632, 0.015299652974195575, 0.016848034745876803, 0.0156014624498346, 0.01581765498570757, 0.01618662440094221, 0.014334708516018368, 0.0148515073892018, 0.0170315869747095, 0.017791663113646144, 0.016296245495353592, 0.016016570305091793, 0.016099914479839047, 0.016085468732604632, 0.012027026098712283], \"yaxis\": \"y\"}, {\"hovertemplate\": \"butane_phaseout=Late<br>pv_adoption=High<br>Year=%{x}<br>value=%{y}<extra></extra>\", \"legendgroup\": \"Late\", \"line\": {\"color\": \"#F58518\", \"dash\": \"solid\"}, \"mode\": \"lines\", \"name\": \"Late\", \"orientation\": \"v\", \"showlegend\": false, \"type\": \"scatter\", \"x\": [2020, 2021, 2022, 2023, 2024, 2025, 2026, 2027, 2028, 2029, 2030, 2031, 2032, 2033, 2034, 2035, 2036, 2037, 2038, 2039, 2040, 2041, 2042, 2043, 2044, 2045, 2046, 2047, 2048, 2049, 2050], \"xaxis\": \"x2\", \"y\": [0.015475340291008239, 0.017925330968223924, 0.01718977989716515, 0.018149899917197693, 0.017385219402072688, 0.01682988191698246, 0.017332291532283814, 0.015451480828343848, 0.014691891419745542, 0.014574838144334176, 0.016362770333509243, 0.014515361995335908, 0.016275554999505004, 0.014731037020511067, 0.017101970576781523, 0.013530805123921071, 0.013370032524758726, 0.013908300867528381, 0.015205429305464839, 0.013975526315844962, 0.014060137765073396, 0.014388110578615203, 0.012741963125349677, 0.013201339901512676, 0.015139188421963984, 0.015814811656574296, 0.014485551551425382, 0.014236951382303886, 0.014311035093190292, 0.01429819442898191, 0.010690689865522027], \"yaxis\": \"y2\"}, {\"hovertemplate\": \"butane_phaseout=Early<br>pv_adoption=Low<br>Year=%{x}<br>value=%{y}<extra></extra>\", \"legendgroup\": \"Early\", \"line\": {\"color\": \"#E45756\", \"dash\": \"solid\"}, \"mode\": \"lines\", \"name\": \"Early\", \"orientation\": \"v\", \"showlegend\": true, \"type\": \"scatter\", \"x\": [2020, 2021, 2022, 2023, 2024, 2025, 2026, 2027, 2028, 2029, 2030, 2031, 2032, 2033, 2034, 2035, 2036, 2037, 2038, 2039, 2040, 2041, 2042, 2043, 2044, 2045, 2046, 2047, 2048, 2049, 2050], \"xaxis\": \"x\", \"y\": [0.015475340291008239, 0.017819829683004045, 0.016984384066147218, 0.017819616830394833, 0.016956836250707992, 0.01630331971143719, 0.016671110150354336, 0.014752591874368365, 0.013919833406970483, 0.013698664630941933, 0.015251074894501749, 0.013765258374724651, 0.01570859843083951, 0.01447495034927507, 0.01711409917130886, 0.01379440367621035, 0.013891079948882794, 0.014731963482358348, 0.016426054404119417, 0.015403605479901652, 0.01581765498570757, 0.01618662440094221, 0.014334708516018368, 0.0148515073892018, 0.0170315869747095, 0.017791663113646144, 0.016296245495353592, 0.016016570305091793, 0.016099914479839047, 0.016085468732604632, 0.012027026098712283], \"yaxis\": \"y\"}, {\"hovertemplate\": \"butane_phaseout=Early<br>pv_adoption=High<br>Year=%{x}<br>value=%{y}<extra></extra>\", \"legendgroup\": \"Early\", \"line\": {\"color\": \"#E45756\", \"dash\": \"solid\"}, \"mode\": \"lines\", \"name\": \"Early\", \"orientation\": \"v\", \"showlegend\": false, \"type\": \"scatter\", \"x\": [2020, 2021, 2022, 2023, 2024, 2025, 2026, 2027, 2028, 2029, 2030, 2031, 2032, 2033, 2034, 2035, 2036, 2037, 2038, 2039, 2040, 2041, 2042, 2043, 2044, 2045, 2046, 2047, 2048, 2049, 2050], \"xaxis\": \"x2\", \"y\": [0.015475340291008239, 0.017659013455235885, 0.016671297996392033, 0.017316164384251043, 0.016303849300849056, 0.015500677853524205, 0.015663267492410787, 0.013687271343220786, 0.01274298085039805, 0.012363108206198053, 0.01355651101733489, 0.01223578522197747, 0.013963198605190628, 0.01286662253268896, 0.015212532596718986, 0.012261692156631403, 0.012347626621229135, 0.013095078650985227, 0.014600937248106113, 0.013692093759912595, 0.014060137765073396, 0.014388110578615203, 0.012741963125349677, 0.013201339901512676, 0.015139188421963984, 0.015814811656574296, 0.014485551551425382, 0.014236951382303886, 0.014311035093190292, 0.01429819442898191, 0.010690689865522027], \"yaxis\": \"y2\"}],\n",
       "                        {\"annotations\": [{\"font\": {}, \"showarrow\": false, \"text\": \"pv_adoption=Low\", \"x\": 0.245, \"xanchor\": \"center\", \"xref\": \"paper\", \"y\": 1.0, \"yanchor\": \"bottom\", \"yref\": \"paper\"}, {\"font\": {}, \"showarrow\": false, \"text\": \"pv_adoption=High\", \"x\": 0.755, \"xanchor\": \"center\", \"xref\": \"paper\", \"y\": 1.0, \"yanchor\": \"bottom\", \"yref\": \"paper\"}], \"legend\": {\"title\": {\"text\": \"butane_phaseout\"}, \"tracegroupgap\": 0}, \"template\": {\"data\": {\"bar\": [{\"error_x\": {\"color\": \"#2a3f5f\"}, \"error_y\": {\"color\": \"#2a3f5f\"}, \"marker\": {\"line\": {\"color\": \"#E5ECF6\", \"width\": 0.5}}, \"type\": \"bar\"}], \"barpolar\": [{\"marker\": {\"line\": {\"color\": \"#E5ECF6\", \"width\": 0.5}}, \"type\": \"barpolar\"}], \"carpet\": [{\"aaxis\": {\"endlinecolor\": \"#2a3f5f\", \"gridcolor\": \"white\", \"linecolor\": \"white\", \"minorgridcolor\": \"white\", \"startlinecolor\": \"#2a3f5f\"}, \"baxis\": {\"endlinecolor\": \"#2a3f5f\", \"gridcolor\": \"white\", \"linecolor\": \"white\", \"minorgridcolor\": \"white\", \"startlinecolor\": \"#2a3f5f\"}, \"type\": \"carpet\"}], \"choropleth\": [{\"colorbar\": {\"outlinewidth\": 0, \"ticks\": \"\"}, \"type\": \"choropleth\"}], \"contour\": [{\"colorbar\": {\"outlinewidth\": 0, \"ticks\": \"\"}, \"colorscale\": [[0.0, \"#0d0887\"], [0.1111111111111111, \"#46039f\"], [0.2222222222222222, \"#7201a8\"], [0.3333333333333333, \"#9c179e\"], [0.4444444444444444, \"#bd3786\"], [0.5555555555555556, \"#d8576b\"], [0.6666666666666666, \"#ed7953\"], [0.7777777777777778, \"#fb9f3a\"], [0.8888888888888888, \"#fdca26\"], [1.0, \"#f0f921\"]], \"type\": \"contour\"}], \"contourcarpet\": [{\"colorbar\": {\"outlinewidth\": 0, \"ticks\": \"\"}, \"type\": \"contourcarpet\"}], \"heatmap\": [{\"colorbar\": {\"outlinewidth\": 0, \"ticks\": \"\"}, \"colorscale\": [[0.0, \"#0d0887\"], [0.1111111111111111, \"#46039f\"], [0.2222222222222222, \"#7201a8\"], [0.3333333333333333, \"#9c179e\"], [0.4444444444444444, \"#bd3786\"], [0.5555555555555556, \"#d8576b\"], [0.6666666666666666, \"#ed7953\"], [0.7777777777777778, \"#fb9f3a\"], [0.8888888888888888, \"#fdca26\"], [1.0, \"#f0f921\"]], \"type\": \"heatmap\"}], \"heatmapgl\": [{\"colorbar\": {\"outlinewidth\": 0, \"ticks\": \"\"}, \"colorscale\": [[0.0, \"#0d0887\"], [0.1111111111111111, \"#46039f\"], [0.2222222222222222, \"#7201a8\"], [0.3333333333333333, \"#9c179e\"], [0.4444444444444444, \"#bd3786\"], [0.5555555555555556, \"#d8576b\"], [0.6666666666666666, \"#ed7953\"], [0.7777777777777778, \"#fb9f3a\"], [0.8888888888888888, \"#fdca26\"], [1.0, \"#f0f921\"]], \"type\": \"heatmapgl\"}], \"histogram\": [{\"marker\": {\"colorbar\": {\"outlinewidth\": 0, \"ticks\": \"\"}}, \"type\": \"histogram\"}], \"histogram2d\": [{\"colorbar\": {\"outlinewidth\": 0, \"ticks\": \"\"}, \"colorscale\": [[0.0, \"#0d0887\"], [0.1111111111111111, \"#46039f\"], [0.2222222222222222, \"#7201a8\"], [0.3333333333333333, \"#9c179e\"], [0.4444444444444444, \"#bd3786\"], [0.5555555555555556, \"#d8576b\"], [0.6666666666666666, \"#ed7953\"], [0.7777777777777778, \"#fb9f3a\"], [0.8888888888888888, \"#fdca26\"], [1.0, \"#f0f921\"]], \"type\": \"histogram2d\"}], \"histogram2dcontour\": [{\"colorbar\": {\"outlinewidth\": 0, \"ticks\": \"\"}, \"colorscale\": [[0.0, \"#0d0887\"], [0.1111111111111111, \"#46039f\"], [0.2222222222222222, \"#7201a8\"], [0.3333333333333333, \"#9c179e\"], [0.4444444444444444, \"#bd3786\"], [0.5555555555555556, \"#d8576b\"], [0.6666666666666666, \"#ed7953\"], [0.7777777777777778, \"#fb9f3a\"], [0.8888888888888888, \"#fdca26\"], [1.0, \"#f0f921\"]], \"type\": \"histogram2dcontour\"}], \"mesh3d\": [{\"colorbar\": {\"outlinewidth\": 0, \"ticks\": \"\"}, \"type\": \"mesh3d\"}], \"parcoords\": [{\"line\": {\"colorbar\": {\"outlinewidth\": 0, \"ticks\": \"\"}}, \"type\": \"parcoords\"}], \"pie\": [{\"automargin\": true, \"type\": \"pie\"}], \"scatter\": [{\"marker\": {\"colorbar\": {\"outlinewidth\": 0, \"ticks\": \"\"}}, \"type\": \"scatter\"}], \"scatter3d\": [{\"line\": {\"colorbar\": {\"outlinewidth\": 0, \"ticks\": \"\"}}, \"marker\": {\"colorbar\": {\"outlinewidth\": 0, \"ticks\": \"\"}}, \"type\": \"scatter3d\"}], \"scattercarpet\": [{\"marker\": {\"colorbar\": {\"outlinewidth\": 0, \"ticks\": \"\"}}, \"type\": \"scattercarpet\"}], \"scattergeo\": [{\"marker\": {\"colorbar\": {\"outlinewidth\": 0, \"ticks\": \"\"}}, \"type\": \"scattergeo\"}], \"scattergl\": [{\"marker\": {\"colorbar\": {\"outlinewidth\": 0, \"ticks\": \"\"}}, \"type\": \"scattergl\"}], \"scattermapbox\": [{\"marker\": {\"colorbar\": {\"outlinewidth\": 0, \"ticks\": \"\"}}, \"type\": \"scattermapbox\"}], \"scatterpolar\": [{\"marker\": {\"colorbar\": {\"outlinewidth\": 0, \"ticks\": \"\"}}, \"type\": \"scatterpolar\"}], \"scatterpolargl\": [{\"marker\": {\"colorbar\": {\"outlinewidth\": 0, \"ticks\": \"\"}}, \"type\": \"scatterpolargl\"}], \"scatterternary\": [{\"marker\": {\"colorbar\": {\"outlinewidth\": 0, \"ticks\": \"\"}}, \"type\": \"scatterternary\"}], \"surface\": [{\"colorbar\": {\"outlinewidth\": 0, \"ticks\": \"\"}, \"colorscale\": [[0.0, \"#0d0887\"], [0.1111111111111111, \"#46039f\"], [0.2222222222222222, \"#7201a8\"], [0.3333333333333333, \"#9c179e\"], [0.4444444444444444, \"#bd3786\"], [0.5555555555555556, \"#d8576b\"], [0.6666666666666666, \"#ed7953\"], [0.7777777777777778, \"#fb9f3a\"], [0.8888888888888888, \"#fdca26\"], [1.0, \"#f0f921\"]], \"type\": \"surface\"}], \"table\": [{\"cells\": {\"fill\": {\"color\": \"#EBF0F8\"}, \"line\": {\"color\": \"white\"}}, \"header\": {\"fill\": {\"color\": \"#C8D4E3\"}, \"line\": {\"color\": \"white\"}}, \"type\": \"table\"}]}, \"layout\": {\"annotationdefaults\": {\"arrowcolor\": \"#2a3f5f\", \"arrowhead\": 0, \"arrowwidth\": 1}, \"coloraxis\": {\"colorbar\": {\"outlinewidth\": 0, \"ticks\": \"\"}}, \"colorscale\": {\"diverging\": [[0, \"#8e0152\"], [0.1, \"#c51b7d\"], [0.2, \"#de77ae\"], [0.3, \"#f1b6da\"], [0.4, \"#fde0ef\"], [0.5, \"#f7f7f7\"], [0.6, \"#e6f5d0\"], [0.7, \"#b8e186\"], [0.8, \"#7fbc41\"], [0.9, \"#4d9221\"], [1, \"#276419\"]], \"sequential\": [[0.0, \"#0d0887\"], [0.1111111111111111, \"#46039f\"], [0.2222222222222222, \"#7201a8\"], [0.3333333333333333, \"#9c179e\"], [0.4444444444444444, \"#bd3786\"], [0.5555555555555556, \"#d8576b\"], [0.6666666666666666, \"#ed7953\"], [0.7777777777777778, \"#fb9f3a\"], [0.8888888888888888, \"#fdca26\"], [1.0, \"#f0f921\"]], \"sequentialminus\": [[0.0, \"#0d0887\"], [0.1111111111111111, \"#46039f\"], [0.2222222222222222, \"#7201a8\"], [0.3333333333333333, \"#9c179e\"], [0.4444444444444444, \"#bd3786\"], [0.5555555555555556, \"#d8576b\"], [0.6666666666666666, \"#ed7953\"], [0.7777777777777778, \"#fb9f3a\"], [0.8888888888888888, \"#fdca26\"], [1.0, \"#f0f921\"]]}, \"colorway\": [\"#636efa\", \"#EF553B\", \"#00cc96\", \"#ab63fa\", \"#FFA15A\", \"#19d3f3\", \"#FF6692\", \"#B6E880\", \"#FF97FF\", \"#FECB52\"], \"font\": {\"color\": \"#2a3f5f\"}, \"geo\": {\"bgcolor\": \"white\", \"lakecolor\": \"white\", \"landcolor\": \"#E5ECF6\", \"showlakes\": true, \"showland\": true, \"subunitcolor\": \"white\"}, \"hoverlabel\": {\"align\": \"left\"}, \"hovermode\": \"closest\", \"mapbox\": {\"style\": \"light\"}, \"paper_bgcolor\": \"white\", \"plot_bgcolor\": \"#E5ECF6\", \"polar\": {\"angularaxis\": {\"gridcolor\": \"white\", \"linecolor\": \"white\", \"ticks\": \"\"}, \"bgcolor\": \"#E5ECF6\", \"radialaxis\": {\"gridcolor\": \"white\", \"linecolor\": \"white\", \"ticks\": \"\"}}, \"scene\": {\"xaxis\": {\"backgroundcolor\": \"#E5ECF6\", \"gridcolor\": \"white\", \"gridwidth\": 2, \"linecolor\": \"white\", \"showbackground\": true, \"ticks\": \"\", \"zerolinecolor\": \"white\"}, \"yaxis\": {\"backgroundcolor\": \"#E5ECF6\", \"gridcolor\": \"white\", \"gridwidth\": 2, \"linecolor\": \"white\", \"showbackground\": true, \"ticks\": \"\", \"zerolinecolor\": \"white\"}, \"zaxis\": {\"backgroundcolor\": \"#E5ECF6\", \"gridcolor\": \"white\", \"gridwidth\": 2, \"linecolor\": \"white\", \"showbackground\": true, \"ticks\": \"\", \"zerolinecolor\": \"white\"}}, \"shapedefaults\": {\"line\": {\"color\": \"#2a3f5f\"}}, \"ternary\": {\"aaxis\": {\"gridcolor\": \"white\", \"linecolor\": \"white\", \"ticks\": \"\"}, \"baxis\": {\"gridcolor\": \"white\", \"linecolor\": \"white\", \"ticks\": \"\"}, \"bgcolor\": \"#E5ECF6\", \"caxis\": {\"gridcolor\": \"white\", \"linecolor\": \"white\", \"ticks\": \"\"}}, \"title\": {\"x\": 0.05}, \"xaxis\": {\"automargin\": true, \"gridcolor\": \"white\", \"linecolor\": \"white\", \"ticks\": \"\", \"title\": {\"standoff\": 15}, \"zerolinecolor\": \"white\", \"zerolinewidth\": 2}, \"yaxis\": {\"automargin\": true, \"gridcolor\": \"white\", \"linecolor\": \"white\", \"ticks\": \"\", \"title\": {\"standoff\": 15}, \"zerolinecolor\": \"white\", \"zerolinewidth\": 2}}}, \"title\": {\"text\": \"Butane phaseout scenarios\"}, \"xaxis\": {\"anchor\": \"y\", \"domain\": [0.0, 0.49], \"title\": {\"text\": \"Year\"}}, \"xaxis2\": {\"anchor\": \"y2\", \"domain\": [0.51, 1.0], \"matches\": \"x\", \"title\": {\"text\": \"Year\"}}, \"yaxis\": {\"anchor\": \"x\", \"domain\": [0.0, 1.0], \"title\": {\"text\": \"value\"}}, \"yaxis2\": {\"anchor\": \"x2\", \"domain\": [0.0, 1.0], \"matches\": \"y\", \"showticklabels\": false}},\n",
       "                        {\"responsive\": true}\n",
       "                    ).then(function(){\n",
       "                            \n",
       "var gd = document.getElementById('3b0a03a4-7ea0-41e6-9e5a-79d1edb36d73');\n",
       "var x = new MutationObserver(function (mutations, observer) {{\n",
       "        var display = window.getComputedStyle(gd).display;\n",
       "        if (!display || display === 'none') {{\n",
       "            console.log([gd, 'removed!']);\n",
       "            Plotly.purge(gd);\n",
       "            observer.disconnect();\n",
       "        }}\n",
       "}});\n",
       "\n",
       "// Listen for the removal of the full notebook cells\n",
       "var notebookContainer = gd.closest('#notebook-container');\n",
       "if (notebookContainer) {{\n",
       "    x.observe(notebookContainer, {childList: true});\n",
       "}}\n",
       "\n",
       "// Listen for the clearing of the current output cell\n",
       "var outputEl = gd.closest('.output');\n",
       "if (outputEl) {{\n",
       "    x.observe(outputEl, {childList: true});\n",
       "}}\n",
       "\n",
       "                        })\n",
       "                };\n",
       "                });\n",
       "            </script>\n",
       "        </div>"
      ]
     },
     "metadata": {},
     "output_type": "display_data"
    }
   ],
   "source": [
    "all_dfs['Total_emissions(MtCO2)'] = all_dfs[['butane_emissions(MtCO2)', 'grid_emissions(MtCO2)']].sum(axis=1)\n",
    "dff = all_dfs\n",
    "\n",
    "dff = dff.copy().melt(value_vars=['Total_emissions(MtCO2)'], \n",
    "         id_vars=['Year','butane_phaseout', 'pv_adoption'])\n",
    "\n",
    "fig = px.line(dff, x='Year', y='value', color='butane_phaseout',\n",
    "             facet_col='pv_adoption', title='Butane phaseout scenarios',\n",
    "             color_discrete_sequence=px.colors.qualitative.T10)\n",
    "fig.show()"
   ]
  },
  {
   "cell_type": "code",
   "execution_count": 79,
   "metadata": {},
   "outputs": [
    {
     "data": {
      "application/vnd.plotly.v1+json": {
       "config": {
        "plotlyServerURL": "https://plot.ly"
       },
       "data": [
        {
         "alignmentgroup": "True",
         "hovertemplate": "variable=butane_emissions(MtCO2)<br>pv_adoption=High<br>butane_phaseout=%{x}<br>value=%{y}<extra></extra>",
         "legendgroup": "butane_emissions(MtCO2)",
         "marker": {
          "color": "rgb(229, 134, 6)"
         },
         "name": "butane_emissions(MtCO2)",
         "offsetgroup": "butane_emissions(MtCO2)",
         "orientation": "v",
         "showlegend": true,
         "textposition": "auto",
         "type": "bar",
         "x": [
          "Early",
          "Late",
          "None"
         ],
         "xaxis": "x",
         "y": [
          0.031165954793264526,
          0.0660155045179359,
          0.2162339122400614
         ],
         "yaxis": "y"
        },
        {
         "alignmentgroup": "True",
         "hovertemplate": "variable=butane_emissions(MtCO2)<br>pv_adoption=Low<br>butane_phaseout=%{x}<br>value=%{y}<extra></extra>",
         "legendgroup": "butane_emissions(MtCO2)",
         "marker": {
          "color": "rgb(229, 134, 6)"
         },
         "name": "butane_emissions(MtCO2)",
         "offsetgroup": "butane_emissions(MtCO2)",
         "orientation": "v",
         "showlegend": false,
         "textposition": "auto",
         "type": "bar",
         "x": [
          "Early",
          "Late",
          "None"
         ],
         "xaxis": "x2",
         "y": [
          0.031165954793264526,
          0.0660155045179359,
          0.2162339122400614
         ],
         "yaxis": "y2"
        },
        {
         "alignmentgroup": "True",
         "hovertemplate": "variable=grid_emissions(MtCO2)<br>pv_adoption=High<br>butane_phaseout=%{x}<br>value=%{y}<extra></extra>",
         "legendgroup": "grid_emissions(MtCO2)",
         "marker": {
          "color": "rgb(93, 105, 177)"
         },
         "name": "grid_emissions(MtCO2)",
         "offsetgroup": "grid_emissions(MtCO2)",
         "orientation": "v",
         "showlegend": true,
         "textposition": "auto",
         "type": "bar",
         "x": [
          "Early",
          "Late",
          "None"
         ],
         "xaxis": "x",
         "y": [
          0.39394172827050356,
          0.38585987234208685,
          0.3246497044538074
         ],
         "yaxis": "y"
        },
        {
         "alignmentgroup": "True",
         "hovertemplate": "variable=grid_emissions(MtCO2)<br>pv_adoption=Low<br>butane_phaseout=%{x}<br>value=%{y}<extra></extra>",
         "legendgroup": "grid_emissions(MtCO2)",
         "marker": {
          "color": "rgb(93, 105, 177)"
         },
         "name": "grid_emissions(MtCO2)",
         "offsetgroup": "grid_emissions(MtCO2)",
         "orientation": "v",
         "showlegend": false,
         "textposition": "auto",
         "type": "bar",
         "x": [
          "Early",
          "Late",
          "None"
         ],
         "xaxis": "x2",
         "y": [
          0.43686029051501124,
          0.42069657865817767,
          0.35102316602599587
         ],
         "yaxis": "y2"
        }
       ],
       "layout": {
        "annotations": [
         {
          "font": {},
          "showarrow": false,
          "text": "pv_adoption=High",
          "x": 0.245,
          "xanchor": "center",
          "xref": "paper",
          "y": 1,
          "yanchor": "bottom",
          "yref": "paper"
         },
         {
          "font": {},
          "showarrow": false,
          "text": "pv_adoption=Low",
          "x": 0.755,
          "xanchor": "center",
          "xref": "paper",
          "y": 1,
          "yanchor": "bottom",
          "yref": "paper"
         }
        ],
        "barmode": "relative",
        "legend": {
         "title": {
          "text": "variable"
         },
         "tracegroupgap": 0
        },
        "template": {
         "data": {
          "bar": [
           {
            "error_x": {
             "color": "#2a3f5f"
            },
            "error_y": {
             "color": "#2a3f5f"
            },
            "marker": {
             "line": {
              "color": "#E5ECF6",
              "width": 0.5
             }
            },
            "type": "bar"
           }
          ],
          "barpolar": [
           {
            "marker": {
             "line": {
              "color": "#E5ECF6",
              "width": 0.5
             }
            },
            "type": "barpolar"
           }
          ],
          "carpet": [
           {
            "aaxis": {
             "endlinecolor": "#2a3f5f",
             "gridcolor": "white",
             "linecolor": "white",
             "minorgridcolor": "white",
             "startlinecolor": "#2a3f5f"
            },
            "baxis": {
             "endlinecolor": "#2a3f5f",
             "gridcolor": "white",
             "linecolor": "white",
             "minorgridcolor": "white",
             "startlinecolor": "#2a3f5f"
            },
            "type": "carpet"
           }
          ],
          "choropleth": [
           {
            "colorbar": {
             "outlinewidth": 0,
             "ticks": ""
            },
            "type": "choropleth"
           }
          ],
          "contour": [
           {
            "colorbar": {
             "outlinewidth": 0,
             "ticks": ""
            },
            "colorscale": [
             [
              0,
              "#0d0887"
             ],
             [
              0.1111111111111111,
              "#46039f"
             ],
             [
              0.2222222222222222,
              "#7201a8"
             ],
             [
              0.3333333333333333,
              "#9c179e"
             ],
             [
              0.4444444444444444,
              "#bd3786"
             ],
             [
              0.5555555555555556,
              "#d8576b"
             ],
             [
              0.6666666666666666,
              "#ed7953"
             ],
             [
              0.7777777777777778,
              "#fb9f3a"
             ],
             [
              0.8888888888888888,
              "#fdca26"
             ],
             [
              1,
              "#f0f921"
             ]
            ],
            "type": "contour"
           }
          ],
          "contourcarpet": [
           {
            "colorbar": {
             "outlinewidth": 0,
             "ticks": ""
            },
            "type": "contourcarpet"
           }
          ],
          "heatmap": [
           {
            "colorbar": {
             "outlinewidth": 0,
             "ticks": ""
            },
            "colorscale": [
             [
              0,
              "#0d0887"
             ],
             [
              0.1111111111111111,
              "#46039f"
             ],
             [
              0.2222222222222222,
              "#7201a8"
             ],
             [
              0.3333333333333333,
              "#9c179e"
             ],
             [
              0.4444444444444444,
              "#bd3786"
             ],
             [
              0.5555555555555556,
              "#d8576b"
             ],
             [
              0.6666666666666666,
              "#ed7953"
             ],
             [
              0.7777777777777778,
              "#fb9f3a"
             ],
             [
              0.8888888888888888,
              "#fdca26"
             ],
             [
              1,
              "#f0f921"
             ]
            ],
            "type": "heatmap"
           }
          ],
          "heatmapgl": [
           {
            "colorbar": {
             "outlinewidth": 0,
             "ticks": ""
            },
            "colorscale": [
             [
              0,
              "#0d0887"
             ],
             [
              0.1111111111111111,
              "#46039f"
             ],
             [
              0.2222222222222222,
              "#7201a8"
             ],
             [
              0.3333333333333333,
              "#9c179e"
             ],
             [
              0.4444444444444444,
              "#bd3786"
             ],
             [
              0.5555555555555556,
              "#d8576b"
             ],
             [
              0.6666666666666666,
              "#ed7953"
             ],
             [
              0.7777777777777778,
              "#fb9f3a"
             ],
             [
              0.8888888888888888,
              "#fdca26"
             ],
             [
              1,
              "#f0f921"
             ]
            ],
            "type": "heatmapgl"
           }
          ],
          "histogram": [
           {
            "marker": {
             "colorbar": {
              "outlinewidth": 0,
              "ticks": ""
             }
            },
            "type": "histogram"
           }
          ],
          "histogram2d": [
           {
            "colorbar": {
             "outlinewidth": 0,
             "ticks": ""
            },
            "colorscale": [
             [
              0,
              "#0d0887"
             ],
             [
              0.1111111111111111,
              "#46039f"
             ],
             [
              0.2222222222222222,
              "#7201a8"
             ],
             [
              0.3333333333333333,
              "#9c179e"
             ],
             [
              0.4444444444444444,
              "#bd3786"
             ],
             [
              0.5555555555555556,
              "#d8576b"
             ],
             [
              0.6666666666666666,
              "#ed7953"
             ],
             [
              0.7777777777777778,
              "#fb9f3a"
             ],
             [
              0.8888888888888888,
              "#fdca26"
             ],
             [
              1,
              "#f0f921"
             ]
            ],
            "type": "histogram2d"
           }
          ],
          "histogram2dcontour": [
           {
            "colorbar": {
             "outlinewidth": 0,
             "ticks": ""
            },
            "colorscale": [
             [
              0,
              "#0d0887"
             ],
             [
              0.1111111111111111,
              "#46039f"
             ],
             [
              0.2222222222222222,
              "#7201a8"
             ],
             [
              0.3333333333333333,
              "#9c179e"
             ],
             [
              0.4444444444444444,
              "#bd3786"
             ],
             [
              0.5555555555555556,
              "#d8576b"
             ],
             [
              0.6666666666666666,
              "#ed7953"
             ],
             [
              0.7777777777777778,
              "#fb9f3a"
             ],
             [
              0.8888888888888888,
              "#fdca26"
             ],
             [
              1,
              "#f0f921"
             ]
            ],
            "type": "histogram2dcontour"
           }
          ],
          "mesh3d": [
           {
            "colorbar": {
             "outlinewidth": 0,
             "ticks": ""
            },
            "type": "mesh3d"
           }
          ],
          "parcoords": [
           {
            "line": {
             "colorbar": {
              "outlinewidth": 0,
              "ticks": ""
             }
            },
            "type": "parcoords"
           }
          ],
          "pie": [
           {
            "automargin": true,
            "type": "pie"
           }
          ],
          "scatter": [
           {
            "marker": {
             "colorbar": {
              "outlinewidth": 0,
              "ticks": ""
             }
            },
            "type": "scatter"
           }
          ],
          "scatter3d": [
           {
            "line": {
             "colorbar": {
              "outlinewidth": 0,
              "ticks": ""
             }
            },
            "marker": {
             "colorbar": {
              "outlinewidth": 0,
              "ticks": ""
             }
            },
            "type": "scatter3d"
           }
          ],
          "scattercarpet": [
           {
            "marker": {
             "colorbar": {
              "outlinewidth": 0,
              "ticks": ""
             }
            },
            "type": "scattercarpet"
           }
          ],
          "scattergeo": [
           {
            "marker": {
             "colorbar": {
              "outlinewidth": 0,
              "ticks": ""
             }
            },
            "type": "scattergeo"
           }
          ],
          "scattergl": [
           {
            "marker": {
             "colorbar": {
              "outlinewidth": 0,
              "ticks": ""
             }
            },
            "type": "scattergl"
           }
          ],
          "scattermapbox": [
           {
            "marker": {
             "colorbar": {
              "outlinewidth": 0,
              "ticks": ""
             }
            },
            "type": "scattermapbox"
           }
          ],
          "scatterpolar": [
           {
            "marker": {
             "colorbar": {
              "outlinewidth": 0,
              "ticks": ""
             }
            },
            "type": "scatterpolar"
           }
          ],
          "scatterpolargl": [
           {
            "marker": {
             "colorbar": {
              "outlinewidth": 0,
              "ticks": ""
             }
            },
            "type": "scatterpolargl"
           }
          ],
          "scatterternary": [
           {
            "marker": {
             "colorbar": {
              "outlinewidth": 0,
              "ticks": ""
             }
            },
            "type": "scatterternary"
           }
          ],
          "surface": [
           {
            "colorbar": {
             "outlinewidth": 0,
             "ticks": ""
            },
            "colorscale": [
             [
              0,
              "#0d0887"
             ],
             [
              0.1111111111111111,
              "#46039f"
             ],
             [
              0.2222222222222222,
              "#7201a8"
             ],
             [
              0.3333333333333333,
              "#9c179e"
             ],
             [
              0.4444444444444444,
              "#bd3786"
             ],
             [
              0.5555555555555556,
              "#d8576b"
             ],
             [
              0.6666666666666666,
              "#ed7953"
             ],
             [
              0.7777777777777778,
              "#fb9f3a"
             ],
             [
              0.8888888888888888,
              "#fdca26"
             ],
             [
              1,
              "#f0f921"
             ]
            ],
            "type": "surface"
           }
          ],
          "table": [
           {
            "cells": {
             "fill": {
              "color": "#EBF0F8"
             },
             "line": {
              "color": "white"
             }
            },
            "header": {
             "fill": {
              "color": "#C8D4E3"
             },
             "line": {
              "color": "white"
             }
            },
            "type": "table"
           }
          ]
         },
         "layout": {
          "annotationdefaults": {
           "arrowcolor": "#2a3f5f",
           "arrowhead": 0,
           "arrowwidth": 1
          },
          "coloraxis": {
           "colorbar": {
            "outlinewidth": 0,
            "ticks": ""
           }
          },
          "colorscale": {
           "diverging": [
            [
             0,
             "#8e0152"
            ],
            [
             0.1,
             "#c51b7d"
            ],
            [
             0.2,
             "#de77ae"
            ],
            [
             0.3,
             "#f1b6da"
            ],
            [
             0.4,
             "#fde0ef"
            ],
            [
             0.5,
             "#f7f7f7"
            ],
            [
             0.6,
             "#e6f5d0"
            ],
            [
             0.7,
             "#b8e186"
            ],
            [
             0.8,
             "#7fbc41"
            ],
            [
             0.9,
             "#4d9221"
            ],
            [
             1,
             "#276419"
            ]
           ],
           "sequential": [
            [
             0,
             "#0d0887"
            ],
            [
             0.1111111111111111,
             "#46039f"
            ],
            [
             0.2222222222222222,
             "#7201a8"
            ],
            [
             0.3333333333333333,
             "#9c179e"
            ],
            [
             0.4444444444444444,
             "#bd3786"
            ],
            [
             0.5555555555555556,
             "#d8576b"
            ],
            [
             0.6666666666666666,
             "#ed7953"
            ],
            [
             0.7777777777777778,
             "#fb9f3a"
            ],
            [
             0.8888888888888888,
             "#fdca26"
            ],
            [
             1,
             "#f0f921"
            ]
           ],
           "sequentialminus": [
            [
             0,
             "#0d0887"
            ],
            [
             0.1111111111111111,
             "#46039f"
            ],
            [
             0.2222222222222222,
             "#7201a8"
            ],
            [
             0.3333333333333333,
             "#9c179e"
            ],
            [
             0.4444444444444444,
             "#bd3786"
            ],
            [
             0.5555555555555556,
             "#d8576b"
            ],
            [
             0.6666666666666666,
             "#ed7953"
            ],
            [
             0.7777777777777778,
             "#fb9f3a"
            ],
            [
             0.8888888888888888,
             "#fdca26"
            ],
            [
             1,
             "#f0f921"
            ]
           ]
          },
          "colorway": [
           "#636efa",
           "#EF553B",
           "#00cc96",
           "#ab63fa",
           "#FFA15A",
           "#19d3f3",
           "#FF6692",
           "#B6E880",
           "#FF97FF",
           "#FECB52"
          ],
          "font": {
           "color": "#2a3f5f"
          },
          "geo": {
           "bgcolor": "white",
           "lakecolor": "white",
           "landcolor": "#E5ECF6",
           "showlakes": true,
           "showland": true,
           "subunitcolor": "white"
          },
          "hoverlabel": {
           "align": "left"
          },
          "hovermode": "closest",
          "mapbox": {
           "style": "light"
          },
          "paper_bgcolor": "white",
          "plot_bgcolor": "#E5ECF6",
          "polar": {
           "angularaxis": {
            "gridcolor": "white",
            "linecolor": "white",
            "ticks": ""
           },
           "bgcolor": "#E5ECF6",
           "radialaxis": {
            "gridcolor": "white",
            "linecolor": "white",
            "ticks": ""
           }
          },
          "scene": {
           "xaxis": {
            "backgroundcolor": "#E5ECF6",
            "gridcolor": "white",
            "gridwidth": 2,
            "linecolor": "white",
            "showbackground": true,
            "ticks": "",
            "zerolinecolor": "white"
           },
           "yaxis": {
            "backgroundcolor": "#E5ECF6",
            "gridcolor": "white",
            "gridwidth": 2,
            "linecolor": "white",
            "showbackground": true,
            "ticks": "",
            "zerolinecolor": "white"
           },
           "zaxis": {
            "backgroundcolor": "#E5ECF6",
            "gridcolor": "white",
            "gridwidth": 2,
            "linecolor": "white",
            "showbackground": true,
            "ticks": "",
            "zerolinecolor": "white"
           }
          },
          "shapedefaults": {
           "line": {
            "color": "#2a3f5f"
           }
          },
          "ternary": {
           "aaxis": {
            "gridcolor": "white",
            "linecolor": "white",
            "ticks": ""
           },
           "baxis": {
            "gridcolor": "white",
            "linecolor": "white",
            "ticks": ""
           },
           "bgcolor": "#E5ECF6",
           "caxis": {
            "gridcolor": "white",
            "linecolor": "white",
            "ticks": ""
           }
          },
          "title": {
           "x": 0.05
          },
          "xaxis": {
           "automargin": true,
           "gridcolor": "white",
           "linecolor": "white",
           "ticks": "",
           "title": {
            "standoff": 15
           },
           "zerolinecolor": "white",
           "zerolinewidth": 2
          },
          "yaxis": {
           "automargin": true,
           "gridcolor": "white",
           "linecolor": "white",
           "ticks": "",
           "title": {
            "standoff": 15
           },
           "zerolinecolor": "white",
           "zerolinewidth": 2
          }
         }
        },
        "title": {
         "text": "Butane phaseout scenarios"
        },
        "xaxis": {
         "anchor": "y",
         "domain": [
          0,
          0.49
         ],
         "title": {
          "text": "butane_phaseout"
         }
        },
        "xaxis2": {
         "anchor": "y2",
         "domain": [
          0.51,
          1
         ],
         "matches": "x",
         "title": {
          "text": "butane_phaseout"
         }
        },
        "yaxis": {
         "anchor": "x",
         "domain": [
          0,
          1
         ],
         "title": {
          "text": "value"
         }
        },
        "yaxis2": {
         "anchor": "x2",
         "domain": [
          0,
          1
         ],
         "matches": "y",
         "showticklabels": false
        }
       }
      },
      "text/html": [
       "<div>\n",
       "        \n",
       "        \n",
       "            <div id=\"b7126c2b-4278-410d-ad10-06500ee3d491\" class=\"plotly-graph-div\" style=\"height:525px; width:100%;\"></div>\n",
       "            <script type=\"text/javascript\">\n",
       "                require([\"plotly\"], function(Plotly) {\n",
       "                    window.PLOTLYENV=window.PLOTLYENV || {};\n",
       "                    \n",
       "                if (document.getElementById(\"b7126c2b-4278-410d-ad10-06500ee3d491\")) {\n",
       "                    Plotly.newPlot(\n",
       "                        'b7126c2b-4278-410d-ad10-06500ee3d491',\n",
       "                        [{\"alignmentgroup\": \"True\", \"hovertemplate\": \"variable=butane_emissions(MtCO2)<br>pv_adoption=High<br>butane_phaseout=%{x}<br>value=%{y}<extra></extra>\", \"legendgroup\": \"butane_emissions(MtCO2)\", \"marker\": {\"color\": \"rgb(229, 134, 6)\"}, \"name\": \"butane_emissions(MtCO2)\", \"offsetgroup\": \"butane_emissions(MtCO2)\", \"orientation\": \"v\", \"showlegend\": true, \"textposition\": \"auto\", \"type\": \"bar\", \"x\": [\"Early\", \"Late\", \"None\"], \"xaxis\": \"x\", \"y\": [0.031165954793264526, 0.0660155045179359, 0.2162339122400614], \"yaxis\": \"y\"}, {\"alignmentgroup\": \"True\", \"hovertemplate\": \"variable=butane_emissions(MtCO2)<br>pv_adoption=Low<br>butane_phaseout=%{x}<br>value=%{y}<extra></extra>\", \"legendgroup\": \"butane_emissions(MtCO2)\", \"marker\": {\"color\": \"rgb(229, 134, 6)\"}, \"name\": \"butane_emissions(MtCO2)\", \"offsetgroup\": \"butane_emissions(MtCO2)\", \"orientation\": \"v\", \"showlegend\": false, \"textposition\": \"auto\", \"type\": \"bar\", \"x\": [\"Early\", \"Late\", \"None\"], \"xaxis\": \"x2\", \"y\": [0.031165954793264526, 0.0660155045179359, 0.2162339122400614], \"yaxis\": \"y2\"}, {\"alignmentgroup\": \"True\", \"hovertemplate\": \"variable=grid_emissions(MtCO2)<br>pv_adoption=High<br>butane_phaseout=%{x}<br>value=%{y}<extra></extra>\", \"legendgroup\": \"grid_emissions(MtCO2)\", \"marker\": {\"color\": \"rgb(93, 105, 177)\"}, \"name\": \"grid_emissions(MtCO2)\", \"offsetgroup\": \"grid_emissions(MtCO2)\", \"orientation\": \"v\", \"showlegend\": true, \"textposition\": \"auto\", \"type\": \"bar\", \"x\": [\"Early\", \"Late\", \"None\"], \"xaxis\": \"x\", \"y\": [0.39394172827050356, 0.38585987234208685, 0.3246497044538074], \"yaxis\": \"y\"}, {\"alignmentgroup\": \"True\", \"hovertemplate\": \"variable=grid_emissions(MtCO2)<br>pv_adoption=Low<br>butane_phaseout=%{x}<br>value=%{y}<extra></extra>\", \"legendgroup\": \"grid_emissions(MtCO2)\", \"marker\": {\"color\": \"rgb(93, 105, 177)\"}, \"name\": \"grid_emissions(MtCO2)\", \"offsetgroup\": \"grid_emissions(MtCO2)\", \"orientation\": \"v\", \"showlegend\": false, \"textposition\": \"auto\", \"type\": \"bar\", \"x\": [\"Early\", \"Late\", \"None\"], \"xaxis\": \"x2\", \"y\": [0.43686029051501124, 0.42069657865817767, 0.35102316602599587], \"yaxis\": \"y2\"}],\n",
       "                        {\"annotations\": [{\"font\": {}, \"showarrow\": false, \"text\": \"pv_adoption=High\", \"x\": 0.245, \"xanchor\": \"center\", \"xref\": \"paper\", \"y\": 1.0, \"yanchor\": \"bottom\", \"yref\": \"paper\"}, {\"font\": {}, \"showarrow\": false, \"text\": \"pv_adoption=Low\", \"x\": 0.755, \"xanchor\": \"center\", \"xref\": \"paper\", \"y\": 1.0, \"yanchor\": \"bottom\", \"yref\": \"paper\"}], \"barmode\": \"relative\", \"legend\": {\"title\": {\"text\": \"variable\"}, \"tracegroupgap\": 0}, \"template\": {\"data\": {\"bar\": [{\"error_x\": {\"color\": \"#2a3f5f\"}, \"error_y\": {\"color\": \"#2a3f5f\"}, \"marker\": {\"line\": {\"color\": \"#E5ECF6\", \"width\": 0.5}}, \"type\": \"bar\"}], \"barpolar\": [{\"marker\": {\"line\": {\"color\": \"#E5ECF6\", \"width\": 0.5}}, \"type\": \"barpolar\"}], \"carpet\": [{\"aaxis\": {\"endlinecolor\": \"#2a3f5f\", \"gridcolor\": \"white\", \"linecolor\": \"white\", \"minorgridcolor\": \"white\", \"startlinecolor\": \"#2a3f5f\"}, \"baxis\": {\"endlinecolor\": \"#2a3f5f\", \"gridcolor\": \"white\", \"linecolor\": \"white\", \"minorgridcolor\": \"white\", \"startlinecolor\": \"#2a3f5f\"}, \"type\": \"carpet\"}], \"choropleth\": [{\"colorbar\": {\"outlinewidth\": 0, \"ticks\": \"\"}, \"type\": \"choropleth\"}], \"contour\": [{\"colorbar\": {\"outlinewidth\": 0, \"ticks\": \"\"}, \"colorscale\": [[0.0, \"#0d0887\"], [0.1111111111111111, \"#46039f\"], [0.2222222222222222, \"#7201a8\"], [0.3333333333333333, \"#9c179e\"], [0.4444444444444444, \"#bd3786\"], [0.5555555555555556, \"#d8576b\"], [0.6666666666666666, \"#ed7953\"], [0.7777777777777778, \"#fb9f3a\"], [0.8888888888888888, \"#fdca26\"], [1.0, \"#f0f921\"]], \"type\": \"contour\"}], \"contourcarpet\": [{\"colorbar\": {\"outlinewidth\": 0, \"ticks\": \"\"}, \"type\": \"contourcarpet\"}], \"heatmap\": [{\"colorbar\": {\"outlinewidth\": 0, \"ticks\": \"\"}, \"colorscale\": [[0.0, \"#0d0887\"], [0.1111111111111111, \"#46039f\"], [0.2222222222222222, \"#7201a8\"], [0.3333333333333333, \"#9c179e\"], [0.4444444444444444, \"#bd3786\"], [0.5555555555555556, \"#d8576b\"], [0.6666666666666666, \"#ed7953\"], [0.7777777777777778, \"#fb9f3a\"], [0.8888888888888888, \"#fdca26\"], [1.0, \"#f0f921\"]], \"type\": \"heatmap\"}], \"heatmapgl\": [{\"colorbar\": {\"outlinewidth\": 0, \"ticks\": \"\"}, \"colorscale\": [[0.0, \"#0d0887\"], [0.1111111111111111, \"#46039f\"], [0.2222222222222222, \"#7201a8\"], [0.3333333333333333, \"#9c179e\"], [0.4444444444444444, \"#bd3786\"], [0.5555555555555556, \"#d8576b\"], [0.6666666666666666, \"#ed7953\"], [0.7777777777777778, \"#fb9f3a\"], [0.8888888888888888, \"#fdca26\"], [1.0, \"#f0f921\"]], \"type\": \"heatmapgl\"}], \"histogram\": [{\"marker\": {\"colorbar\": {\"outlinewidth\": 0, \"ticks\": \"\"}}, \"type\": \"histogram\"}], \"histogram2d\": [{\"colorbar\": {\"outlinewidth\": 0, \"ticks\": \"\"}, \"colorscale\": [[0.0, \"#0d0887\"], [0.1111111111111111, \"#46039f\"], [0.2222222222222222, \"#7201a8\"], [0.3333333333333333, \"#9c179e\"], [0.4444444444444444, \"#bd3786\"], [0.5555555555555556, \"#d8576b\"], [0.6666666666666666, \"#ed7953\"], [0.7777777777777778, \"#fb9f3a\"], [0.8888888888888888, \"#fdca26\"], [1.0, \"#f0f921\"]], \"type\": \"histogram2d\"}], \"histogram2dcontour\": [{\"colorbar\": {\"outlinewidth\": 0, \"ticks\": \"\"}, \"colorscale\": [[0.0, \"#0d0887\"], [0.1111111111111111, \"#46039f\"], [0.2222222222222222, \"#7201a8\"], [0.3333333333333333, \"#9c179e\"], [0.4444444444444444, \"#bd3786\"], [0.5555555555555556, \"#d8576b\"], [0.6666666666666666, \"#ed7953\"], [0.7777777777777778, \"#fb9f3a\"], [0.8888888888888888, \"#fdca26\"], [1.0, \"#f0f921\"]], \"type\": \"histogram2dcontour\"}], \"mesh3d\": [{\"colorbar\": {\"outlinewidth\": 0, \"ticks\": \"\"}, \"type\": \"mesh3d\"}], \"parcoords\": [{\"line\": {\"colorbar\": {\"outlinewidth\": 0, \"ticks\": \"\"}}, \"type\": \"parcoords\"}], \"pie\": [{\"automargin\": true, \"type\": \"pie\"}], \"scatter\": [{\"marker\": {\"colorbar\": {\"outlinewidth\": 0, \"ticks\": \"\"}}, \"type\": \"scatter\"}], \"scatter3d\": [{\"line\": {\"colorbar\": {\"outlinewidth\": 0, \"ticks\": \"\"}}, \"marker\": {\"colorbar\": {\"outlinewidth\": 0, \"ticks\": \"\"}}, \"type\": \"scatter3d\"}], \"scattercarpet\": [{\"marker\": {\"colorbar\": {\"outlinewidth\": 0, \"ticks\": \"\"}}, \"type\": \"scattercarpet\"}], \"scattergeo\": [{\"marker\": {\"colorbar\": {\"outlinewidth\": 0, \"ticks\": \"\"}}, \"type\": \"scattergeo\"}], \"scattergl\": [{\"marker\": {\"colorbar\": {\"outlinewidth\": 0, \"ticks\": \"\"}}, \"type\": \"scattergl\"}], \"scattermapbox\": [{\"marker\": {\"colorbar\": {\"outlinewidth\": 0, \"ticks\": \"\"}}, \"type\": \"scattermapbox\"}], \"scatterpolar\": [{\"marker\": {\"colorbar\": {\"outlinewidth\": 0, \"ticks\": \"\"}}, \"type\": \"scatterpolar\"}], \"scatterpolargl\": [{\"marker\": {\"colorbar\": {\"outlinewidth\": 0, \"ticks\": \"\"}}, \"type\": \"scatterpolargl\"}], \"scatterternary\": [{\"marker\": {\"colorbar\": {\"outlinewidth\": 0, \"ticks\": \"\"}}, \"type\": \"scatterternary\"}], \"surface\": [{\"colorbar\": {\"outlinewidth\": 0, \"ticks\": \"\"}, \"colorscale\": [[0.0, \"#0d0887\"], [0.1111111111111111, \"#46039f\"], [0.2222222222222222, \"#7201a8\"], [0.3333333333333333, \"#9c179e\"], [0.4444444444444444, \"#bd3786\"], [0.5555555555555556, \"#d8576b\"], [0.6666666666666666, \"#ed7953\"], [0.7777777777777778, \"#fb9f3a\"], [0.8888888888888888, \"#fdca26\"], [1.0, \"#f0f921\"]], \"type\": \"surface\"}], \"table\": [{\"cells\": {\"fill\": {\"color\": \"#EBF0F8\"}, \"line\": {\"color\": \"white\"}}, \"header\": {\"fill\": {\"color\": \"#C8D4E3\"}, \"line\": {\"color\": \"white\"}}, \"type\": \"table\"}]}, \"layout\": {\"annotationdefaults\": {\"arrowcolor\": \"#2a3f5f\", \"arrowhead\": 0, \"arrowwidth\": 1}, \"coloraxis\": {\"colorbar\": {\"outlinewidth\": 0, \"ticks\": \"\"}}, \"colorscale\": {\"diverging\": [[0, \"#8e0152\"], [0.1, \"#c51b7d\"], [0.2, \"#de77ae\"], [0.3, \"#f1b6da\"], [0.4, \"#fde0ef\"], [0.5, \"#f7f7f7\"], [0.6, \"#e6f5d0\"], [0.7, \"#b8e186\"], [0.8, \"#7fbc41\"], [0.9, \"#4d9221\"], [1, \"#276419\"]], \"sequential\": [[0.0, \"#0d0887\"], [0.1111111111111111, \"#46039f\"], [0.2222222222222222, \"#7201a8\"], [0.3333333333333333, \"#9c179e\"], [0.4444444444444444, \"#bd3786\"], [0.5555555555555556, \"#d8576b\"], [0.6666666666666666, \"#ed7953\"], [0.7777777777777778, \"#fb9f3a\"], [0.8888888888888888, \"#fdca26\"], [1.0, \"#f0f921\"]], \"sequentialminus\": [[0.0, \"#0d0887\"], [0.1111111111111111, \"#46039f\"], [0.2222222222222222, \"#7201a8\"], [0.3333333333333333, \"#9c179e\"], [0.4444444444444444, \"#bd3786\"], [0.5555555555555556, \"#d8576b\"], [0.6666666666666666, \"#ed7953\"], [0.7777777777777778, \"#fb9f3a\"], [0.8888888888888888, \"#fdca26\"], [1.0, \"#f0f921\"]]}, \"colorway\": [\"#636efa\", \"#EF553B\", \"#00cc96\", \"#ab63fa\", \"#FFA15A\", \"#19d3f3\", \"#FF6692\", \"#B6E880\", \"#FF97FF\", \"#FECB52\"], \"font\": {\"color\": \"#2a3f5f\"}, \"geo\": {\"bgcolor\": \"white\", \"lakecolor\": \"white\", \"landcolor\": \"#E5ECF6\", \"showlakes\": true, \"showland\": true, \"subunitcolor\": \"white\"}, \"hoverlabel\": {\"align\": \"left\"}, \"hovermode\": \"closest\", \"mapbox\": {\"style\": \"light\"}, \"paper_bgcolor\": \"white\", \"plot_bgcolor\": \"#E5ECF6\", \"polar\": {\"angularaxis\": {\"gridcolor\": \"white\", \"linecolor\": \"white\", \"ticks\": \"\"}, \"bgcolor\": \"#E5ECF6\", \"radialaxis\": {\"gridcolor\": \"white\", \"linecolor\": \"white\", \"ticks\": \"\"}}, \"scene\": {\"xaxis\": {\"backgroundcolor\": \"#E5ECF6\", \"gridcolor\": \"white\", \"gridwidth\": 2, \"linecolor\": \"white\", \"showbackground\": true, \"ticks\": \"\", \"zerolinecolor\": \"white\"}, \"yaxis\": {\"backgroundcolor\": \"#E5ECF6\", \"gridcolor\": \"white\", \"gridwidth\": 2, \"linecolor\": \"white\", \"showbackground\": true, \"ticks\": \"\", \"zerolinecolor\": \"white\"}, \"zaxis\": {\"backgroundcolor\": \"#E5ECF6\", \"gridcolor\": \"white\", \"gridwidth\": 2, \"linecolor\": \"white\", \"showbackground\": true, \"ticks\": \"\", \"zerolinecolor\": \"white\"}}, \"shapedefaults\": {\"line\": {\"color\": \"#2a3f5f\"}}, \"ternary\": {\"aaxis\": {\"gridcolor\": \"white\", \"linecolor\": \"white\", \"ticks\": \"\"}, \"baxis\": {\"gridcolor\": \"white\", \"linecolor\": \"white\", \"ticks\": \"\"}, \"bgcolor\": \"#E5ECF6\", \"caxis\": {\"gridcolor\": \"white\", \"linecolor\": \"white\", \"ticks\": \"\"}}, \"title\": {\"x\": 0.05}, \"xaxis\": {\"automargin\": true, \"gridcolor\": \"white\", \"linecolor\": \"white\", \"ticks\": \"\", \"title\": {\"standoff\": 15}, \"zerolinecolor\": \"white\", \"zerolinewidth\": 2}, \"yaxis\": {\"automargin\": true, \"gridcolor\": \"white\", \"linecolor\": \"white\", \"ticks\": \"\", \"title\": {\"standoff\": 15}, \"zerolinecolor\": \"white\", \"zerolinewidth\": 2}}}, \"title\": {\"text\": \"Butane phaseout scenarios\"}, \"xaxis\": {\"anchor\": \"y\", \"domain\": [0.0, 0.49], \"title\": {\"text\": \"butane_phaseout\"}}, \"xaxis2\": {\"anchor\": \"y2\", \"domain\": [0.51, 1.0], \"matches\": \"x\", \"title\": {\"text\": \"butane_phaseout\"}}, \"yaxis\": {\"anchor\": \"x\", \"domain\": [0.0, 1.0], \"title\": {\"text\": \"value\"}}, \"yaxis2\": {\"anchor\": \"x2\", \"domain\": [0.0, 1.0], \"matches\": \"y\", \"showticklabels\": false}},\n",
       "                        {\"responsive\": true}\n",
       "                    ).then(function(){\n",
       "                            \n",
       "var gd = document.getElementById('b7126c2b-4278-410d-ad10-06500ee3d491');\n",
       "var x = new MutationObserver(function (mutations, observer) {{\n",
       "        var display = window.getComputedStyle(gd).display;\n",
       "        if (!display || display === 'none') {{\n",
       "            console.log([gd, 'removed!']);\n",
       "            Plotly.purge(gd);\n",
       "            observer.disconnect();\n",
       "        }}\n",
       "}});\n",
       "\n",
       "// Listen for the removal of the full notebook cells\n",
       "var notebookContainer = gd.closest('#notebook-container');\n",
       "if (notebookContainer) {{\n",
       "    x.observe(notebookContainer, {childList: true});\n",
       "}}\n",
       "\n",
       "// Listen for the clearing of the current output cell\n",
       "var outputEl = gd.closest('.output');\n",
       "if (outputEl) {{\n",
       "    x.observe(outputEl, {childList: true});\n",
       "}}\n",
       "\n",
       "                        })\n",
       "                };\n",
       "                });\n",
       "            </script>\n",
       "        </div>"
      ]
     },
     "metadata": {},
     "output_type": "display_data"
    }
   ],
   "source": [
    "dff = df.melt(value_vars=['butane_emissions(MtCO2)', 'grid_emissions(MtCO2)'], \n",
    "         id_vars=['butane_phaseout', 'pv_adoption'])\n",
    "\n",
    "fig = px.bar(dff, x='butane_phaseout', y='value', color='variable',\n",
    "             facet_col='pv_adoption', title='Butane phaseout scenarios',\n",
    "             color_discrete_sequence=px.colors.qualitative.Vivid)\n",
    "\n",
    "fig.show()"
   ]
  },
  {
   "cell_type": "code",
   "execution_count": 85,
   "metadata": {
    "scrolled": true
   },
   "outputs": [
    {
     "data": {
      "application/vnd.plotly.v1+json": {
       "config": {
        "plotlyServerURL": "https://plot.ly"
       },
       "data": [
        {
         "hovertemplate": "butane_phaseout=Early<br>Total_costs(mMAD)=%{x}<br>Total_emissions(MtCO2)=%{y}<br>pv_adoption_number=%{marker.size}<extra></extra>",
         "legendgroup": "Early",
         "marker": {
          "color": "rgb(229, 134, 6)",
          "size": [
           0.2,
           0.1
          ],
          "sizemode": "area",
          "sizeref": 0.0005,
          "symbol": "circle"
         },
         "mode": "markers",
         "name": "Early",
         "orientation": "v",
         "showlegend": true,
         "type": "scatter",
         "x": [
          28355.89401551816,
          29166.04652380407
         ],
         "xaxis": "x",
         "y": [
          0.44058302335477634,
          0.483501585599284
         ],
         "yaxis": "y"
        },
        {
         "hovertemplate": "butane_phaseout=Late<br>Total_costs(mMAD)=%{x}<br>Total_emissions(MtCO2)=%{y}<br>pv_adoption_number=%{marker.size}<extra></extra>",
         "legendgroup": "Late",
         "marker": {
          "color": "rgb(93, 105, 177)",
          "size": [
           0.2,
           0.1
          ],
          "sizemode": "area",
          "sizeref": 0.0005,
          "symbol": "circle"
         },
         "mode": "markers",
         "name": "Late",
         "orientation": "v",
         "showlegend": true,
         "type": "scatter",
         "x": [
          28563.346368365976,
          29343.018321797368
         ],
         "xaxis": "x",
         "y": [
          0.46735071715103105,
          0.5021874234671219
         ],
         "yaxis": "y"
        },
        {
         "hovertemplate": "butane_phaseout=None<br>Total_costs(mMAD)=%{x}<br>Total_emissions(MtCO2)=%{y}<br>pv_adoption_number=%{marker.size}<extra></extra>",
         "legendgroup": "None",
         "marker": {
          "color": "rgb(82, 188, 163)",
          "size": [
           0.2,
           0.1
          ],
          "sizemode": "area",
          "sizeref": 0.0005,
          "symbol": "circle"
         },
         "mode": "markers",
         "name": "None",
         "orientation": "v",
         "showlegend": true,
         "type": "scatter",
         "x": [
          29526.846125207816,
          30105.8523301649
         ],
         "xaxis": "x",
         "y": [
          0.556358956984877,
          0.5827324185570656
         ],
         "yaxis": "y"
        }
       ],
       "layout": {
        "legend": {
         "itemsizing": "constant",
         "title": {
          "text": "butane_phaseout"
         },
         "tracegroupgap": 0
        },
        "template": {
         "data": {
          "bar": [
           {
            "error_x": {
             "color": "#2a3f5f"
            },
            "error_y": {
             "color": "#2a3f5f"
            },
            "marker": {
             "line": {
              "color": "#E5ECF6",
              "width": 0.5
             }
            },
            "type": "bar"
           }
          ],
          "barpolar": [
           {
            "marker": {
             "line": {
              "color": "#E5ECF6",
              "width": 0.5
             }
            },
            "type": "barpolar"
           }
          ],
          "carpet": [
           {
            "aaxis": {
             "endlinecolor": "#2a3f5f",
             "gridcolor": "white",
             "linecolor": "white",
             "minorgridcolor": "white",
             "startlinecolor": "#2a3f5f"
            },
            "baxis": {
             "endlinecolor": "#2a3f5f",
             "gridcolor": "white",
             "linecolor": "white",
             "minorgridcolor": "white",
             "startlinecolor": "#2a3f5f"
            },
            "type": "carpet"
           }
          ],
          "choropleth": [
           {
            "colorbar": {
             "outlinewidth": 0,
             "ticks": ""
            },
            "type": "choropleth"
           }
          ],
          "contour": [
           {
            "colorbar": {
             "outlinewidth": 0,
             "ticks": ""
            },
            "colorscale": [
             [
              0,
              "#0d0887"
             ],
             [
              0.1111111111111111,
              "#46039f"
             ],
             [
              0.2222222222222222,
              "#7201a8"
             ],
             [
              0.3333333333333333,
              "#9c179e"
             ],
             [
              0.4444444444444444,
              "#bd3786"
             ],
             [
              0.5555555555555556,
              "#d8576b"
             ],
             [
              0.6666666666666666,
              "#ed7953"
             ],
             [
              0.7777777777777778,
              "#fb9f3a"
             ],
             [
              0.8888888888888888,
              "#fdca26"
             ],
             [
              1,
              "#f0f921"
             ]
            ],
            "type": "contour"
           }
          ],
          "contourcarpet": [
           {
            "colorbar": {
             "outlinewidth": 0,
             "ticks": ""
            },
            "type": "contourcarpet"
           }
          ],
          "heatmap": [
           {
            "colorbar": {
             "outlinewidth": 0,
             "ticks": ""
            },
            "colorscale": [
             [
              0,
              "#0d0887"
             ],
             [
              0.1111111111111111,
              "#46039f"
             ],
             [
              0.2222222222222222,
              "#7201a8"
             ],
             [
              0.3333333333333333,
              "#9c179e"
             ],
             [
              0.4444444444444444,
              "#bd3786"
             ],
             [
              0.5555555555555556,
              "#d8576b"
             ],
             [
              0.6666666666666666,
              "#ed7953"
             ],
             [
              0.7777777777777778,
              "#fb9f3a"
             ],
             [
              0.8888888888888888,
              "#fdca26"
             ],
             [
              1,
              "#f0f921"
             ]
            ],
            "type": "heatmap"
           }
          ],
          "heatmapgl": [
           {
            "colorbar": {
             "outlinewidth": 0,
             "ticks": ""
            },
            "colorscale": [
             [
              0,
              "#0d0887"
             ],
             [
              0.1111111111111111,
              "#46039f"
             ],
             [
              0.2222222222222222,
              "#7201a8"
             ],
             [
              0.3333333333333333,
              "#9c179e"
             ],
             [
              0.4444444444444444,
              "#bd3786"
             ],
             [
              0.5555555555555556,
              "#d8576b"
             ],
             [
              0.6666666666666666,
              "#ed7953"
             ],
             [
              0.7777777777777778,
              "#fb9f3a"
             ],
             [
              0.8888888888888888,
              "#fdca26"
             ],
             [
              1,
              "#f0f921"
             ]
            ],
            "type": "heatmapgl"
           }
          ],
          "histogram": [
           {
            "marker": {
             "colorbar": {
              "outlinewidth": 0,
              "ticks": ""
             }
            },
            "type": "histogram"
           }
          ],
          "histogram2d": [
           {
            "colorbar": {
             "outlinewidth": 0,
             "ticks": ""
            },
            "colorscale": [
             [
              0,
              "#0d0887"
             ],
             [
              0.1111111111111111,
              "#46039f"
             ],
             [
              0.2222222222222222,
              "#7201a8"
             ],
             [
              0.3333333333333333,
              "#9c179e"
             ],
             [
              0.4444444444444444,
              "#bd3786"
             ],
             [
              0.5555555555555556,
              "#d8576b"
             ],
             [
              0.6666666666666666,
              "#ed7953"
             ],
             [
              0.7777777777777778,
              "#fb9f3a"
             ],
             [
              0.8888888888888888,
              "#fdca26"
             ],
             [
              1,
              "#f0f921"
             ]
            ],
            "type": "histogram2d"
           }
          ],
          "histogram2dcontour": [
           {
            "colorbar": {
             "outlinewidth": 0,
             "ticks": ""
            },
            "colorscale": [
             [
              0,
              "#0d0887"
             ],
             [
              0.1111111111111111,
              "#46039f"
             ],
             [
              0.2222222222222222,
              "#7201a8"
             ],
             [
              0.3333333333333333,
              "#9c179e"
             ],
             [
              0.4444444444444444,
              "#bd3786"
             ],
             [
              0.5555555555555556,
              "#d8576b"
             ],
             [
              0.6666666666666666,
              "#ed7953"
             ],
             [
              0.7777777777777778,
              "#fb9f3a"
             ],
             [
              0.8888888888888888,
              "#fdca26"
             ],
             [
              1,
              "#f0f921"
             ]
            ],
            "type": "histogram2dcontour"
           }
          ],
          "mesh3d": [
           {
            "colorbar": {
             "outlinewidth": 0,
             "ticks": ""
            },
            "type": "mesh3d"
           }
          ],
          "parcoords": [
           {
            "line": {
             "colorbar": {
              "outlinewidth": 0,
              "ticks": ""
             }
            },
            "type": "parcoords"
           }
          ],
          "pie": [
           {
            "automargin": true,
            "type": "pie"
           }
          ],
          "scatter": [
           {
            "marker": {
             "colorbar": {
              "outlinewidth": 0,
              "ticks": ""
             }
            },
            "type": "scatter"
           }
          ],
          "scatter3d": [
           {
            "line": {
             "colorbar": {
              "outlinewidth": 0,
              "ticks": ""
             }
            },
            "marker": {
             "colorbar": {
              "outlinewidth": 0,
              "ticks": ""
             }
            },
            "type": "scatter3d"
           }
          ],
          "scattercarpet": [
           {
            "marker": {
             "colorbar": {
              "outlinewidth": 0,
              "ticks": ""
             }
            },
            "type": "scattercarpet"
           }
          ],
          "scattergeo": [
           {
            "marker": {
             "colorbar": {
              "outlinewidth": 0,
              "ticks": ""
             }
            },
            "type": "scattergeo"
           }
          ],
          "scattergl": [
           {
            "marker": {
             "colorbar": {
              "outlinewidth": 0,
              "ticks": ""
             }
            },
            "type": "scattergl"
           }
          ],
          "scattermapbox": [
           {
            "marker": {
             "colorbar": {
              "outlinewidth": 0,
              "ticks": ""
             }
            },
            "type": "scattermapbox"
           }
          ],
          "scatterpolar": [
           {
            "marker": {
             "colorbar": {
              "outlinewidth": 0,
              "ticks": ""
             }
            },
            "type": "scatterpolar"
           }
          ],
          "scatterpolargl": [
           {
            "marker": {
             "colorbar": {
              "outlinewidth": 0,
              "ticks": ""
             }
            },
            "type": "scatterpolargl"
           }
          ],
          "scatterternary": [
           {
            "marker": {
             "colorbar": {
              "outlinewidth": 0,
              "ticks": ""
             }
            },
            "type": "scatterternary"
           }
          ],
          "surface": [
           {
            "colorbar": {
             "outlinewidth": 0,
             "ticks": ""
            },
            "colorscale": [
             [
              0,
              "#0d0887"
             ],
             [
              0.1111111111111111,
              "#46039f"
             ],
             [
              0.2222222222222222,
              "#7201a8"
             ],
             [
              0.3333333333333333,
              "#9c179e"
             ],
             [
              0.4444444444444444,
              "#bd3786"
             ],
             [
              0.5555555555555556,
              "#d8576b"
             ],
             [
              0.6666666666666666,
              "#ed7953"
             ],
             [
              0.7777777777777778,
              "#fb9f3a"
             ],
             [
              0.8888888888888888,
              "#fdca26"
             ],
             [
              1,
              "#f0f921"
             ]
            ],
            "type": "surface"
           }
          ],
          "table": [
           {
            "cells": {
             "fill": {
              "color": "#EBF0F8"
             },
             "line": {
              "color": "white"
             }
            },
            "header": {
             "fill": {
              "color": "#C8D4E3"
             },
             "line": {
              "color": "white"
             }
            },
            "type": "table"
           }
          ]
         },
         "layout": {
          "annotationdefaults": {
           "arrowcolor": "#2a3f5f",
           "arrowhead": 0,
           "arrowwidth": 1
          },
          "coloraxis": {
           "colorbar": {
            "outlinewidth": 0,
            "ticks": ""
           }
          },
          "colorscale": {
           "diverging": [
            [
             0,
             "#8e0152"
            ],
            [
             0.1,
             "#c51b7d"
            ],
            [
             0.2,
             "#de77ae"
            ],
            [
             0.3,
             "#f1b6da"
            ],
            [
             0.4,
             "#fde0ef"
            ],
            [
             0.5,
             "#f7f7f7"
            ],
            [
             0.6,
             "#e6f5d0"
            ],
            [
             0.7,
             "#b8e186"
            ],
            [
             0.8,
             "#7fbc41"
            ],
            [
             0.9,
             "#4d9221"
            ],
            [
             1,
             "#276419"
            ]
           ],
           "sequential": [
            [
             0,
             "#0d0887"
            ],
            [
             0.1111111111111111,
             "#46039f"
            ],
            [
             0.2222222222222222,
             "#7201a8"
            ],
            [
             0.3333333333333333,
             "#9c179e"
            ],
            [
             0.4444444444444444,
             "#bd3786"
            ],
            [
             0.5555555555555556,
             "#d8576b"
            ],
            [
             0.6666666666666666,
             "#ed7953"
            ],
            [
             0.7777777777777778,
             "#fb9f3a"
            ],
            [
             0.8888888888888888,
             "#fdca26"
            ],
            [
             1,
             "#f0f921"
            ]
           ],
           "sequentialminus": [
            [
             0,
             "#0d0887"
            ],
            [
             0.1111111111111111,
             "#46039f"
            ],
            [
             0.2222222222222222,
             "#7201a8"
            ],
            [
             0.3333333333333333,
             "#9c179e"
            ],
            [
             0.4444444444444444,
             "#bd3786"
            ],
            [
             0.5555555555555556,
             "#d8576b"
            ],
            [
             0.6666666666666666,
             "#ed7953"
            ],
            [
             0.7777777777777778,
             "#fb9f3a"
            ],
            [
             0.8888888888888888,
             "#fdca26"
            ],
            [
             1,
             "#f0f921"
            ]
           ]
          },
          "colorway": [
           "#636efa",
           "#EF553B",
           "#00cc96",
           "#ab63fa",
           "#FFA15A",
           "#19d3f3",
           "#FF6692",
           "#B6E880",
           "#FF97FF",
           "#FECB52"
          ],
          "font": {
           "color": "#2a3f5f"
          },
          "geo": {
           "bgcolor": "white",
           "lakecolor": "white",
           "landcolor": "#E5ECF6",
           "showlakes": true,
           "showland": true,
           "subunitcolor": "white"
          },
          "hoverlabel": {
           "align": "left"
          },
          "hovermode": "closest",
          "mapbox": {
           "style": "light"
          },
          "paper_bgcolor": "white",
          "plot_bgcolor": "#E5ECF6",
          "polar": {
           "angularaxis": {
            "gridcolor": "white",
            "linecolor": "white",
            "ticks": ""
           },
           "bgcolor": "#E5ECF6",
           "radialaxis": {
            "gridcolor": "white",
            "linecolor": "white",
            "ticks": ""
           }
          },
          "scene": {
           "xaxis": {
            "backgroundcolor": "#E5ECF6",
            "gridcolor": "white",
            "gridwidth": 2,
            "linecolor": "white",
            "showbackground": true,
            "ticks": "",
            "zerolinecolor": "white"
           },
           "yaxis": {
            "backgroundcolor": "#E5ECF6",
            "gridcolor": "white",
            "gridwidth": 2,
            "linecolor": "white",
            "showbackground": true,
            "ticks": "",
            "zerolinecolor": "white"
           },
           "zaxis": {
            "backgroundcolor": "#E5ECF6",
            "gridcolor": "white",
            "gridwidth": 2,
            "linecolor": "white",
            "showbackground": true,
            "ticks": "",
            "zerolinecolor": "white"
           }
          },
          "shapedefaults": {
           "line": {
            "color": "#2a3f5f"
           }
          },
          "ternary": {
           "aaxis": {
            "gridcolor": "white",
            "linecolor": "white",
            "ticks": ""
           },
           "baxis": {
            "gridcolor": "white",
            "linecolor": "white",
            "ticks": ""
           },
           "bgcolor": "#E5ECF6",
           "caxis": {
            "gridcolor": "white",
            "linecolor": "white",
            "ticks": ""
           }
          },
          "title": {
           "x": 0.05
          },
          "xaxis": {
           "automargin": true,
           "gridcolor": "white",
           "linecolor": "white",
           "ticks": "",
           "title": {
            "standoff": 15
           },
           "zerolinecolor": "white",
           "zerolinewidth": 2
          },
          "yaxis": {
           "automargin": true,
           "gridcolor": "white",
           "linecolor": "white",
           "ticks": "",
           "title": {
            "standoff": 15
           },
           "zerolinecolor": "white",
           "zerolinewidth": 2
          }
         }
        },
        "title": {
         "text": "Butane phaseout scenarios"
        },
        "xaxis": {
         "anchor": "y",
         "domain": [
          0,
          1
         ],
         "title": {
          "text": "Total_costs(mMAD)"
         }
        },
        "yaxis": {
         "anchor": "x",
         "domain": [
          0,
          1
         ],
         "title": {
          "text": "Total_emissions(MtCO2)"
         }
        }
       }
      },
      "text/html": [
       "<div>\n",
       "        \n",
       "        \n",
       "            <div id=\"4f07b3a4-abd1-4e39-82d8-981a2c04fb09\" class=\"plotly-graph-div\" style=\"height:525px; width:100%;\"></div>\n",
       "            <script type=\"text/javascript\">\n",
       "                require([\"plotly\"], function(Plotly) {\n",
       "                    window.PLOTLYENV=window.PLOTLYENV || {};\n",
       "                    \n",
       "                if (document.getElementById(\"4f07b3a4-abd1-4e39-82d8-981a2c04fb09\")) {\n",
       "                    Plotly.newPlot(\n",
       "                        '4f07b3a4-abd1-4e39-82d8-981a2c04fb09',\n",
       "                        [{\"hovertemplate\": \"butane_phaseout=Early<br>Total_costs(mMAD)=%{x}<br>Total_emissions(MtCO2)=%{y}<br>pv_adoption_number=%{marker.size}<extra></extra>\", \"legendgroup\": \"Early\", \"marker\": {\"color\": \"rgb(229, 134, 6)\", \"size\": [0.2, 0.1], \"sizemode\": \"area\", \"sizeref\": 0.0005, \"symbol\": \"circle\"}, \"mode\": \"markers\", \"name\": \"Early\", \"orientation\": \"v\", \"showlegend\": true, \"type\": \"scatter\", \"x\": [28355.89401551816, 29166.04652380407], \"xaxis\": \"x\", \"y\": [0.44058302335477634, 0.483501585599284], \"yaxis\": \"y\"}, {\"hovertemplate\": \"butane_phaseout=Late<br>Total_costs(mMAD)=%{x}<br>Total_emissions(MtCO2)=%{y}<br>pv_adoption_number=%{marker.size}<extra></extra>\", \"legendgroup\": \"Late\", \"marker\": {\"color\": \"rgb(93, 105, 177)\", \"size\": [0.2, 0.1], \"sizemode\": \"area\", \"sizeref\": 0.0005, \"symbol\": \"circle\"}, \"mode\": \"markers\", \"name\": \"Late\", \"orientation\": \"v\", \"showlegend\": true, \"type\": \"scatter\", \"x\": [28563.346368365976, 29343.018321797368], \"xaxis\": \"x\", \"y\": [0.46735071715103105, 0.5021874234671219], \"yaxis\": \"y\"}, {\"hovertemplate\": \"butane_phaseout=None<br>Total_costs(mMAD)=%{x}<br>Total_emissions(MtCO2)=%{y}<br>pv_adoption_number=%{marker.size}<extra></extra>\", \"legendgroup\": \"None\", \"marker\": {\"color\": \"rgb(82, 188, 163)\", \"size\": [0.2, 0.1], \"sizemode\": \"area\", \"sizeref\": 0.0005, \"symbol\": \"circle\"}, \"mode\": \"markers\", \"name\": \"None\", \"orientation\": \"v\", \"showlegend\": true, \"type\": \"scatter\", \"x\": [29526.846125207816, 30105.8523301649], \"xaxis\": \"x\", \"y\": [0.556358956984877, 0.5827324185570656], \"yaxis\": \"y\"}],\n",
       "                        {\"legend\": {\"itemsizing\": \"constant\", \"title\": {\"text\": \"butane_phaseout\"}, \"tracegroupgap\": 0}, \"template\": {\"data\": {\"bar\": [{\"error_x\": {\"color\": \"#2a3f5f\"}, \"error_y\": {\"color\": \"#2a3f5f\"}, \"marker\": {\"line\": {\"color\": \"#E5ECF6\", \"width\": 0.5}}, \"type\": \"bar\"}], \"barpolar\": [{\"marker\": {\"line\": {\"color\": \"#E5ECF6\", \"width\": 0.5}}, \"type\": \"barpolar\"}], \"carpet\": [{\"aaxis\": {\"endlinecolor\": \"#2a3f5f\", \"gridcolor\": \"white\", \"linecolor\": \"white\", \"minorgridcolor\": \"white\", \"startlinecolor\": \"#2a3f5f\"}, \"baxis\": {\"endlinecolor\": \"#2a3f5f\", \"gridcolor\": \"white\", \"linecolor\": \"white\", \"minorgridcolor\": \"white\", \"startlinecolor\": \"#2a3f5f\"}, \"type\": \"carpet\"}], \"choropleth\": [{\"colorbar\": {\"outlinewidth\": 0, \"ticks\": \"\"}, \"type\": \"choropleth\"}], \"contour\": [{\"colorbar\": {\"outlinewidth\": 0, \"ticks\": \"\"}, \"colorscale\": [[0.0, \"#0d0887\"], [0.1111111111111111, \"#46039f\"], [0.2222222222222222, \"#7201a8\"], [0.3333333333333333, \"#9c179e\"], [0.4444444444444444, \"#bd3786\"], [0.5555555555555556, \"#d8576b\"], [0.6666666666666666, \"#ed7953\"], [0.7777777777777778, \"#fb9f3a\"], [0.8888888888888888, \"#fdca26\"], [1.0, \"#f0f921\"]], \"type\": \"contour\"}], \"contourcarpet\": [{\"colorbar\": {\"outlinewidth\": 0, \"ticks\": \"\"}, \"type\": \"contourcarpet\"}], \"heatmap\": [{\"colorbar\": {\"outlinewidth\": 0, \"ticks\": \"\"}, \"colorscale\": [[0.0, \"#0d0887\"], [0.1111111111111111, \"#46039f\"], [0.2222222222222222, \"#7201a8\"], [0.3333333333333333, \"#9c179e\"], [0.4444444444444444, \"#bd3786\"], [0.5555555555555556, \"#d8576b\"], [0.6666666666666666, \"#ed7953\"], [0.7777777777777778, \"#fb9f3a\"], [0.8888888888888888, \"#fdca26\"], [1.0, \"#f0f921\"]], \"type\": \"heatmap\"}], \"heatmapgl\": [{\"colorbar\": {\"outlinewidth\": 0, \"ticks\": \"\"}, \"colorscale\": [[0.0, \"#0d0887\"], [0.1111111111111111, \"#46039f\"], [0.2222222222222222, \"#7201a8\"], [0.3333333333333333, \"#9c179e\"], [0.4444444444444444, \"#bd3786\"], [0.5555555555555556, \"#d8576b\"], [0.6666666666666666, \"#ed7953\"], [0.7777777777777778, \"#fb9f3a\"], [0.8888888888888888, \"#fdca26\"], [1.0, \"#f0f921\"]], \"type\": \"heatmapgl\"}], \"histogram\": [{\"marker\": {\"colorbar\": {\"outlinewidth\": 0, \"ticks\": \"\"}}, \"type\": \"histogram\"}], \"histogram2d\": [{\"colorbar\": {\"outlinewidth\": 0, \"ticks\": \"\"}, \"colorscale\": [[0.0, \"#0d0887\"], [0.1111111111111111, \"#46039f\"], [0.2222222222222222, \"#7201a8\"], [0.3333333333333333, \"#9c179e\"], [0.4444444444444444, \"#bd3786\"], [0.5555555555555556, \"#d8576b\"], [0.6666666666666666, \"#ed7953\"], [0.7777777777777778, \"#fb9f3a\"], [0.8888888888888888, \"#fdca26\"], [1.0, \"#f0f921\"]], \"type\": \"histogram2d\"}], \"histogram2dcontour\": [{\"colorbar\": {\"outlinewidth\": 0, \"ticks\": \"\"}, \"colorscale\": [[0.0, \"#0d0887\"], [0.1111111111111111, \"#46039f\"], [0.2222222222222222, \"#7201a8\"], [0.3333333333333333, \"#9c179e\"], [0.4444444444444444, \"#bd3786\"], [0.5555555555555556, \"#d8576b\"], [0.6666666666666666, \"#ed7953\"], [0.7777777777777778, \"#fb9f3a\"], [0.8888888888888888, \"#fdca26\"], [1.0, \"#f0f921\"]], \"type\": \"histogram2dcontour\"}], \"mesh3d\": [{\"colorbar\": {\"outlinewidth\": 0, \"ticks\": \"\"}, \"type\": \"mesh3d\"}], \"parcoords\": [{\"line\": {\"colorbar\": {\"outlinewidth\": 0, \"ticks\": \"\"}}, \"type\": \"parcoords\"}], \"pie\": [{\"automargin\": true, \"type\": \"pie\"}], \"scatter\": [{\"marker\": {\"colorbar\": {\"outlinewidth\": 0, \"ticks\": \"\"}}, \"type\": \"scatter\"}], \"scatter3d\": [{\"line\": {\"colorbar\": {\"outlinewidth\": 0, \"ticks\": \"\"}}, \"marker\": {\"colorbar\": {\"outlinewidth\": 0, \"ticks\": \"\"}}, \"type\": \"scatter3d\"}], \"scattercarpet\": [{\"marker\": {\"colorbar\": {\"outlinewidth\": 0, \"ticks\": \"\"}}, \"type\": \"scattercarpet\"}], \"scattergeo\": [{\"marker\": {\"colorbar\": {\"outlinewidth\": 0, \"ticks\": \"\"}}, \"type\": \"scattergeo\"}], \"scattergl\": [{\"marker\": {\"colorbar\": {\"outlinewidth\": 0, \"ticks\": \"\"}}, \"type\": \"scattergl\"}], \"scattermapbox\": [{\"marker\": {\"colorbar\": {\"outlinewidth\": 0, \"ticks\": \"\"}}, \"type\": \"scattermapbox\"}], \"scatterpolar\": [{\"marker\": {\"colorbar\": {\"outlinewidth\": 0, \"ticks\": \"\"}}, \"type\": \"scatterpolar\"}], \"scatterpolargl\": [{\"marker\": {\"colorbar\": {\"outlinewidth\": 0, \"ticks\": \"\"}}, \"type\": \"scatterpolargl\"}], \"scatterternary\": [{\"marker\": {\"colorbar\": {\"outlinewidth\": 0, \"ticks\": \"\"}}, \"type\": \"scatterternary\"}], \"surface\": [{\"colorbar\": {\"outlinewidth\": 0, \"ticks\": \"\"}, \"colorscale\": [[0.0, \"#0d0887\"], [0.1111111111111111, \"#46039f\"], [0.2222222222222222, \"#7201a8\"], [0.3333333333333333, \"#9c179e\"], [0.4444444444444444, \"#bd3786\"], [0.5555555555555556, \"#d8576b\"], [0.6666666666666666, \"#ed7953\"], [0.7777777777777778, \"#fb9f3a\"], [0.8888888888888888, \"#fdca26\"], [1.0, \"#f0f921\"]], \"type\": \"surface\"}], \"table\": [{\"cells\": {\"fill\": {\"color\": \"#EBF0F8\"}, \"line\": {\"color\": \"white\"}}, \"header\": {\"fill\": {\"color\": \"#C8D4E3\"}, \"line\": {\"color\": \"white\"}}, \"type\": \"table\"}]}, \"layout\": {\"annotationdefaults\": {\"arrowcolor\": \"#2a3f5f\", \"arrowhead\": 0, \"arrowwidth\": 1}, \"coloraxis\": {\"colorbar\": {\"outlinewidth\": 0, \"ticks\": \"\"}}, \"colorscale\": {\"diverging\": [[0, \"#8e0152\"], [0.1, \"#c51b7d\"], [0.2, \"#de77ae\"], [0.3, \"#f1b6da\"], [0.4, \"#fde0ef\"], [0.5, \"#f7f7f7\"], [0.6, \"#e6f5d0\"], [0.7, \"#b8e186\"], [0.8, \"#7fbc41\"], [0.9, \"#4d9221\"], [1, \"#276419\"]], \"sequential\": [[0.0, \"#0d0887\"], [0.1111111111111111, \"#46039f\"], [0.2222222222222222, \"#7201a8\"], [0.3333333333333333, \"#9c179e\"], [0.4444444444444444, \"#bd3786\"], [0.5555555555555556, \"#d8576b\"], [0.6666666666666666, \"#ed7953\"], [0.7777777777777778, \"#fb9f3a\"], [0.8888888888888888, \"#fdca26\"], [1.0, \"#f0f921\"]], \"sequentialminus\": [[0.0, \"#0d0887\"], [0.1111111111111111, \"#46039f\"], [0.2222222222222222, \"#7201a8\"], [0.3333333333333333, \"#9c179e\"], [0.4444444444444444, \"#bd3786\"], [0.5555555555555556, \"#d8576b\"], [0.6666666666666666, \"#ed7953\"], [0.7777777777777778, \"#fb9f3a\"], [0.8888888888888888, \"#fdca26\"], [1.0, \"#f0f921\"]]}, \"colorway\": [\"#636efa\", \"#EF553B\", \"#00cc96\", \"#ab63fa\", \"#FFA15A\", \"#19d3f3\", \"#FF6692\", \"#B6E880\", \"#FF97FF\", \"#FECB52\"], \"font\": {\"color\": \"#2a3f5f\"}, \"geo\": {\"bgcolor\": \"white\", \"lakecolor\": \"white\", \"landcolor\": \"#E5ECF6\", \"showlakes\": true, \"showland\": true, \"subunitcolor\": \"white\"}, \"hoverlabel\": {\"align\": \"left\"}, \"hovermode\": \"closest\", \"mapbox\": {\"style\": \"light\"}, \"paper_bgcolor\": \"white\", \"plot_bgcolor\": \"#E5ECF6\", \"polar\": {\"angularaxis\": {\"gridcolor\": \"white\", \"linecolor\": \"white\", \"ticks\": \"\"}, \"bgcolor\": \"#E5ECF6\", \"radialaxis\": {\"gridcolor\": \"white\", \"linecolor\": \"white\", \"ticks\": \"\"}}, \"scene\": {\"xaxis\": {\"backgroundcolor\": \"#E5ECF6\", \"gridcolor\": \"white\", \"gridwidth\": 2, \"linecolor\": \"white\", \"showbackground\": true, \"ticks\": \"\", \"zerolinecolor\": \"white\"}, \"yaxis\": {\"backgroundcolor\": \"#E5ECF6\", \"gridcolor\": \"white\", \"gridwidth\": 2, \"linecolor\": \"white\", \"showbackground\": true, \"ticks\": \"\", \"zerolinecolor\": \"white\"}, \"zaxis\": {\"backgroundcolor\": \"#E5ECF6\", \"gridcolor\": \"white\", \"gridwidth\": 2, \"linecolor\": \"white\", \"showbackground\": true, \"ticks\": \"\", \"zerolinecolor\": \"white\"}}, \"shapedefaults\": {\"line\": {\"color\": \"#2a3f5f\"}}, \"ternary\": {\"aaxis\": {\"gridcolor\": \"white\", \"linecolor\": \"white\", \"ticks\": \"\"}, \"baxis\": {\"gridcolor\": \"white\", \"linecolor\": \"white\", \"ticks\": \"\"}, \"bgcolor\": \"#E5ECF6\", \"caxis\": {\"gridcolor\": \"white\", \"linecolor\": \"white\", \"ticks\": \"\"}}, \"title\": {\"x\": 0.05}, \"xaxis\": {\"automargin\": true, \"gridcolor\": \"white\", \"linecolor\": \"white\", \"ticks\": \"\", \"title\": {\"standoff\": 15}, \"zerolinecolor\": \"white\", \"zerolinewidth\": 2}, \"yaxis\": {\"automargin\": true, \"gridcolor\": \"white\", \"linecolor\": \"white\", \"ticks\": \"\", \"title\": {\"standoff\": 15}, \"zerolinecolor\": \"white\", \"zerolinewidth\": 2}}}, \"title\": {\"text\": \"Butane phaseout scenarios\"}, \"xaxis\": {\"anchor\": \"y\", \"domain\": [0.0, 1.0], \"title\": {\"text\": \"Total_costs(mMAD)\"}}, \"yaxis\": {\"anchor\": \"x\", \"domain\": [0.0, 1.0], \"title\": {\"text\": \"Total_emissions(MtCO2)\"}}},\n",
       "                        {\"responsive\": true}\n",
       "                    ).then(function(){\n",
       "                            \n",
       "var gd = document.getElementById('4f07b3a4-abd1-4e39-82d8-981a2c04fb09');\n",
       "var x = new MutationObserver(function (mutations, observer) {{\n",
       "        var display = window.getComputedStyle(gd).display;\n",
       "        if (!display || display === 'none') {{\n",
       "            console.log([gd, 'removed!']);\n",
       "            Plotly.purge(gd);\n",
       "            observer.disconnect();\n",
       "        }}\n",
       "}});\n",
       "\n",
       "// Listen for the removal of the full notebook cells\n",
       "var notebookContainer = gd.closest('#notebook-container');\n",
       "if (notebookContainer) {{\n",
       "    x.observe(notebookContainer, {childList: true});\n",
       "}}\n",
       "\n",
       "// Listen for the clearing of the current output cell\n",
       "var outputEl = gd.closest('.output');\n",
       "if (outputEl) {{\n",
       "    x.observe(outputEl, {childList: true});\n",
       "}}\n",
       "\n",
       "                        })\n",
       "                };\n",
       "                });\n",
       "            </script>\n",
       "        </div>"
      ]
     },
     "metadata": {},
     "output_type": "display_data"
    }
   ],
   "source": [
    "all_dfs['Total_emissions(MtCO2)'] = all_dfs[['butane_emissions(MtCO2)', 'grid_emissions(MtCO2)']].sum(axis=1)\n",
    "all_dfs['Total_costs(mMAD)'] = all_dfs[['butane_SUBSIDY(mMAD)', 'grid_cost(mMAD)', 'PV_Capex(mMAD)']].sum(axis=1)\n",
    "\n",
    "dff = all_dfs.copy().groupby(['butane_phaseout', 'pv_adoption'])[['Total_emissions(MtCO2)', 'Total_costs(mMAD)']].sum().reset_index()\n",
    "# dff = all_dfs.copy()\n",
    "\n",
    "pv_adop_dic = {'Low': 0.1, 'High': 0.2}\n",
    "\n",
    "dff['pv_adoption_number'] = [pv_adop_dic[i] for i in dff['pv_adoption']]\n",
    "\n",
    "# dff = dff.melt(value_vars=['Total_emissions(MtCO2)', 'Total_costs(mMAD)'], \n",
    "#          id_vars=['butane_phaseout', 'pv_adoption'])\n",
    "\n",
    "fig = px.scatter(dff, x='Total_costs(mMAD)', y='Total_emissions(MtCO2)',\n",
    "             title='Butane phaseout scenarios', color='butane_phaseout', size='pv_adoption_number',\n",
    "             color_discrete_sequence=px.colors.qualitative.Vivid)\n",
    "\n",
    "fig.show()"
   ]
  },
  {
   "cell_type": "code",
   "execution_count": 81,
   "metadata": {},
   "outputs": [
    {
     "data": {
      "text/plain": [
       "Year                                                                  378510\n",
       "water_demand(m3)                                                 1.31544e+11\n",
       "energy_demand(KWh)                                               7.91624e+10\n",
       "pv_elec(KWh)                                                     2.35182e+10\n",
       "grid_elec(KWh)                                                   1.34917e+11\n",
       "butane_cons(tonnes)                                              3.12665e+06\n",
       "butane_FARcost(mMAD)                                                 10422.2\n",
       "PV_new_cap(MW)                                                       2248.59\n",
       "reinv_cap(MW)                                                        1491.85\n",
       "butane_emissions(MtCO2)                                             0.662225\n",
       "grid_emissions(MtCO2)                                                2.37049\n",
       "Total_emissions(MtCO2)                                               3.03271\n",
       "butane_SUBSIDY(mMAD)                                                 20844.4\n",
       "grid_cost(mMAD)                                                       134917\n",
       "PV_Capex(mMAD)                                                       19299.8\n",
       "butane_phaseout            NoneNoneNoneNoneNoneNoneNoneNoneNoneNoneNoneNo...\n",
       "pv_adoption                LowLowLowLowLowLowLowLowLowLowLowLowLowLowLowL...\n",
       "Total_costs(mMAD)                                                     175061\n",
       "dtype: object"
      ]
     },
     "execution_count": 81,
     "metadata": {},
     "output_type": "execute_result"
    }
   ],
   "source": [
    "all_dfs.sum()"
   ]
  },
  {
   "cell_type": "code",
   "execution_count": 13,
   "metadata": {},
   "outputs": [
    {
     "data": {
      "text/html": [
       "<div>\n",
       "<style scoped>\n",
       "    .dataframe tbody tr th:only-of-type {\n",
       "        vertical-align: middle;\n",
       "    }\n",
       "\n",
       "    .dataframe tbody tr th {\n",
       "        vertical-align: top;\n",
       "    }\n",
       "\n",
       "    .dataframe thead th {\n",
       "        text-align: right;\n",
       "    }\n",
       "</style>\n",
       "<table border=\"1\" class=\"dataframe\">\n",
       "  <thead>\n",
       "    <tr style=\"text-align: right;\">\n",
       "      <th></th>\n",
       "      <th>Year</th>\n",
       "      <th>water_demand(m3)</th>\n",
       "      <th>energy_demand(KWh)</th>\n",
       "      <th>pv_elec(KWh)</th>\n",
       "      <th>grid_elec(KWh)</th>\n",
       "      <th>butane_cons(tonnes)</th>\n",
       "      <th>butane_FARcost(mMAD)</th>\n",
       "      <th>PV_new_cap(MW)</th>\n",
       "      <th>reinv_cap(MW)</th>\n",
       "      <th>butane_emissions(MtCO2)</th>\n",
       "      <th>grid_emissions(MtCO2)</th>\n",
       "      <th>Total_emissions(MtCO2)</th>\n",
       "      <th>butane_SUBSIDY(mMAD)</th>\n",
       "      <th>grid_cost(mMAD)</th>\n",
       "      <th>PV_Capex(mMAD)</th>\n",
       "      <th>butane_phaseout</th>\n",
       "      <th>pv_adoption</th>\n",
       "    </tr>\n",
       "  </thead>\n",
       "  <tbody>\n",
       "    <tr>\n",
       "      <th>0</th>\n",
       "      <td>2020</td>\n",
       "      <td>7.479313e+08</td>\n",
       "      <td>3.503796e+08</td>\n",
       "      <td>7.786213e+07</td>\n",
       "      <td>5.450349e+08</td>\n",
       "      <td>27852.112070</td>\n",
       "      <td>92.840374</td>\n",
       "      <td>93.592417</td>\n",
       "      <td>0.000000</td>\n",
       "      <td>0.005899</td>\n",
       "      <td>0.009576</td>\n",
       "      <td>0.015475</td>\n",
       "      <td>185.680747</td>\n",
       "      <td>545.034886</td>\n",
       "      <td>655.146918</td>\n",
       "      <td>None</td>\n",
       "      <td>Low</td>\n",
       "    </tr>\n",
       "    <tr>\n",
       "      <th>1</th>\n",
       "      <td>2021</td>\n",
       "      <td>7.118628e+08</td>\n",
       "      <td>4.118799e+08</td>\n",
       "      <td>9.152887e+07</td>\n",
       "      <td>6.407021e+08</td>\n",
       "      <td>32740.852396</td>\n",
       "      <td>109.136175</td>\n",
       "      <td>0.080980</td>\n",
       "      <td>0.000000</td>\n",
       "      <td>0.006935</td>\n",
       "      <td>0.011257</td>\n",
       "      <td>0.018192</td>\n",
       "      <td>218.272349</td>\n",
       "      <td>640.702103</td>\n",
       "      <td>0.565497</td>\n",
       "      <td>None</td>\n",
       "      <td>Low</td>\n",
       "    </tr>\n",
       "    <tr>\n",
       "      <th>2</th>\n",
       "      <td>2022</td>\n",
       "      <td>7.201413e+08</td>\n",
       "      <td>4.009355e+08</td>\n",
       "      <td>8.909678e+07</td>\n",
       "      <td>6.236774e+08</td>\n",
       "      <td>31870.865706</td>\n",
       "      <td>106.236219</td>\n",
       "      <td>14.638226</td>\n",
       "      <td>0.000000</td>\n",
       "      <td>0.006750</td>\n",
       "      <td>0.010958</td>\n",
       "      <td>0.017708</td>\n",
       "      <td>212.472438</td>\n",
       "      <td>623.677430</td>\n",
       "      <td>101.757138</td>\n",
       "      <td>None</td>\n",
       "      <td>Low</td>\n",
       "    </tr>\n",
       "    <tr>\n",
       "      <th>3</th>\n",
       "      <td>2023</td>\n",
       "      <td>6.442514e+08</td>\n",
       "      <td>4.298114e+08</td>\n",
       "      <td>9.551365e+07</td>\n",
       "      <td>6.685955e+08</td>\n",
       "      <td>34166.249796</td>\n",
       "      <td>113.887499</td>\n",
       "      <td>0.075571</td>\n",
       "      <td>0.000000</td>\n",
       "      <td>0.007236</td>\n",
       "      <td>0.011747</td>\n",
       "      <td>0.018984</td>\n",
       "      <td>227.774999</td>\n",
       "      <td>668.595546</td>\n",
       "      <td>0.521805</td>\n",
       "      <td>None</td>\n",
       "      <td>Low</td>\n",
       "    </tr>\n",
       "    <tr>\n",
       "      <th>4</th>\n",
       "      <td>2024</td>\n",
       "      <td>6.610189e+08</td>\n",
       "      <td>4.181049e+08</td>\n",
       "      <td>9.291220e+07</td>\n",
       "      <td>6.503854e+08</td>\n",
       "      <td>33235.684045</td>\n",
       "      <td>110.785613</td>\n",
       "      <td>1.887994</td>\n",
       "      <td>0.000000</td>\n",
       "      <td>0.007039</td>\n",
       "      <td>0.011427</td>\n",
       "      <td>0.018467</td>\n",
       "      <td>221.571227</td>\n",
       "      <td>650.385408</td>\n",
       "      <td>12.919921</td>\n",
       "      <td>None</td>\n",
       "      <td>Low</td>\n",
       "    </tr>\n",
       "    <tr>\n",
       "      <th>...</th>\n",
       "      <td>...</td>\n",
       "      <td>...</td>\n",
       "      <td>...</td>\n",
       "      <td>...</td>\n",
       "      <td>...</td>\n",
       "      <td>...</td>\n",
       "      <td>...</td>\n",
       "      <td>...</td>\n",
       "      <td>...</td>\n",
       "      <td>...</td>\n",
       "      <td>...</td>\n",
       "      <td>...</td>\n",
       "      <td>...</td>\n",
       "      <td>...</td>\n",
       "      <td>...</td>\n",
       "      <td>...</td>\n",
       "      <td>...</td>\n",
       "    </tr>\n",
       "    <tr>\n",
       "      <th>181</th>\n",
       "      <td>2046</td>\n",
       "      <td>7.937677e+08</td>\n",
       "      <td>4.637520e+08</td>\n",
       "      <td>2.061120e+08</td>\n",
       "      <td>8.244480e+08</td>\n",
       "      <td>0.000000</td>\n",
       "      <td>0.000000</td>\n",
       "      <td>5.929948</td>\n",
       "      <td>0.132203</td>\n",
       "      <td>0.000000</td>\n",
       "      <td>0.014486</td>\n",
       "      <td>0.014486</td>\n",
       "      <td>0.000000</td>\n",
       "      <td>824.448011</td>\n",
       "      <td>21.319373</td>\n",
       "      <td>Early</td>\n",
       "      <td>High</td>\n",
       "    </tr>\n",
       "    <tr>\n",
       "      <th>182</th>\n",
       "      <td>2047</td>\n",
       "      <td>8.019210e+08</td>\n",
       "      <td>4.557931e+08</td>\n",
       "      <td>2.025747e+08</td>\n",
       "      <td>8.102989e+08</td>\n",
       "      <td>0.000000</td>\n",
       "      <td>0.000000</td>\n",
       "      <td>0.156746</td>\n",
       "      <td>2.934964</td>\n",
       "      <td>0.000000</td>\n",
       "      <td>0.014237</td>\n",
       "      <td>0.014237</td>\n",
       "      <td>0.000000</td>\n",
       "      <td>810.298883</td>\n",
       "      <td>10.682477</td>\n",
       "      <td>Early</td>\n",
       "      <td>High</td>\n",
       "    </tr>\n",
       "    <tr>\n",
       "      <th>183</th>\n",
       "      <td>2048</td>\n",
       "      <td>6.778976e+08</td>\n",
       "      <td>4.581649e+08</td>\n",
       "      <td>2.036288e+08</td>\n",
       "      <td>8.145154e+08</td>\n",
       "      <td>0.000000</td>\n",
       "      <td>0.000000</td>\n",
       "      <td>0.154273</td>\n",
       "      <td>19.004605</td>\n",
       "      <td>0.000000</td>\n",
       "      <td>0.014311</td>\n",
       "      <td>0.014311</td>\n",
       "      <td>0.000000</td>\n",
       "      <td>814.515372</td>\n",
       "      <td>65.303674</td>\n",
       "      <td>Early</td>\n",
       "      <td>High</td>\n",
       "    </tr>\n",
       "    <tr>\n",
       "      <th>184</th>\n",
       "      <td>2049</td>\n",
       "      <td>6.590121e+08</td>\n",
       "      <td>4.577538e+08</td>\n",
       "      <td>2.034461e+08</td>\n",
       "      <td>8.137845e+08</td>\n",
       "      <td>0.000000</td>\n",
       "      <td>0.000000</td>\n",
       "      <td>6.136654</td>\n",
       "      <td>38.750699</td>\n",
       "      <td>0.000000</td>\n",
       "      <td>0.014298</td>\n",
       "      <td>0.014298</td>\n",
       "      <td>0.000000</td>\n",
       "      <td>813.784543</td>\n",
       "      <td>151.575614</td>\n",
       "      <td>Early</td>\n",
       "      <td>High</td>\n",
       "    </tr>\n",
       "    <tr>\n",
       "      <th>185</th>\n",
       "      <td>2050</td>\n",
       "      <td>6.031627e+08</td>\n",
       "      <td>3.422603e+08</td>\n",
       "      <td>1.521157e+08</td>\n",
       "      <td>6.084627e+08</td>\n",
       "      <td>0.000000</td>\n",
       "      <td>0.000000</td>\n",
       "      <td>14.737984</td>\n",
       "      <td>0.212523</td>\n",
       "      <td>0.000000</td>\n",
       "      <td>0.010691</td>\n",
       "      <td>0.010691</td>\n",
       "      <td>0.000000</td>\n",
       "      <td>608.462713</td>\n",
       "      <td>50.233703</td>\n",
       "      <td>Early</td>\n",
       "      <td>High</td>\n",
       "    </tr>\n",
       "  </tbody>\n",
       "</table>\n",
       "<p>186 rows × 17 columns</p>\n",
       "</div>"
      ],
      "text/plain": [
       "     Year  water_demand(m3)  energy_demand(KWh)  pv_elec(KWh)  grid_elec(KWh)  \\\n",
       "0    2020      7.479313e+08        3.503796e+08  7.786213e+07    5.450349e+08   \n",
       "1    2021      7.118628e+08        4.118799e+08  9.152887e+07    6.407021e+08   \n",
       "2    2022      7.201413e+08        4.009355e+08  8.909678e+07    6.236774e+08   \n",
       "3    2023      6.442514e+08        4.298114e+08  9.551365e+07    6.685955e+08   \n",
       "4    2024      6.610189e+08        4.181049e+08  9.291220e+07    6.503854e+08   \n",
       "..    ...               ...                 ...           ...             ...   \n",
       "181  2046      7.937677e+08        4.637520e+08  2.061120e+08    8.244480e+08   \n",
       "182  2047      8.019210e+08        4.557931e+08  2.025747e+08    8.102989e+08   \n",
       "183  2048      6.778976e+08        4.581649e+08  2.036288e+08    8.145154e+08   \n",
       "184  2049      6.590121e+08        4.577538e+08  2.034461e+08    8.137845e+08   \n",
       "185  2050      6.031627e+08        3.422603e+08  1.521157e+08    6.084627e+08   \n",
       "\n",
       "     butane_cons(tonnes)  butane_FARcost(mMAD)  PV_new_cap(MW)  reinv_cap(MW)  \\\n",
       "0           27852.112070             92.840374       93.592417       0.000000   \n",
       "1           32740.852396            109.136175        0.080980       0.000000   \n",
       "2           31870.865706            106.236219       14.638226       0.000000   \n",
       "3           34166.249796            113.887499        0.075571       0.000000   \n",
       "4           33235.684045            110.785613        1.887994       0.000000   \n",
       "..                   ...                   ...             ...            ...   \n",
       "181             0.000000              0.000000        5.929948       0.132203   \n",
       "182             0.000000              0.000000        0.156746       2.934964   \n",
       "183             0.000000              0.000000        0.154273      19.004605   \n",
       "184             0.000000              0.000000        6.136654      38.750699   \n",
       "185             0.000000              0.000000       14.737984       0.212523   \n",
       "\n",
       "     butane_emissions(MtCO2)  grid_emissions(MtCO2)  Total_emissions(MtCO2)  \\\n",
       "0                   0.005899               0.009576                0.015475   \n",
       "1                   0.006935               0.011257                0.018192   \n",
       "2                   0.006750               0.010958                0.017708   \n",
       "3                   0.007236               0.011747                0.018984   \n",
       "4                   0.007039               0.011427                0.018467   \n",
       "..                       ...                    ...                     ...   \n",
       "181                 0.000000               0.014486                0.014486   \n",
       "182                 0.000000               0.014237                0.014237   \n",
       "183                 0.000000               0.014311                0.014311   \n",
       "184                 0.000000               0.014298                0.014298   \n",
       "185                 0.000000               0.010691                0.010691   \n",
       "\n",
       "     butane_SUBSIDY(mMAD)  grid_cost(mMAD)  PV_Capex(mMAD) butane_phaseout  \\\n",
       "0              185.680747       545.034886      655.146918            None   \n",
       "1              218.272349       640.702103        0.565497            None   \n",
       "2              212.472438       623.677430      101.757138            None   \n",
       "3              227.774999       668.595546        0.521805            None   \n",
       "4              221.571227       650.385408       12.919921            None   \n",
       "..                    ...              ...             ...             ...   \n",
       "181              0.000000       824.448011       21.319373           Early   \n",
       "182              0.000000       810.298883       10.682477           Early   \n",
       "183              0.000000       814.515372       65.303674           Early   \n",
       "184              0.000000       813.784543      151.575614           Early   \n",
       "185              0.000000       608.462713       50.233703           Early   \n",
       "\n",
       "    pv_adoption  \n",
       "0           Low  \n",
       "1           Low  \n",
       "2           Low  \n",
       "3           Low  \n",
       "4           Low  \n",
       "..          ...  \n",
       "181        High  \n",
       "182        High  \n",
       "183        High  \n",
       "184        High  \n",
       "185        High  \n",
       "\n",
       "[186 rows x 17 columns]"
      ]
     },
     "execution_count": 13,
     "metadata": {},
     "output_type": "execute_result"
    }
   ],
   "source": [
    "all_dfs"
   ]
  },
  {
   "cell_type": "code",
   "execution_count": null,
   "metadata": {},
   "outputs": [],
   "source": []
  },
  {
   "cell_type": "code",
   "execution_count": 14,
   "metadata": {},
   "outputs": [
    {
     "ename": "KeyError",
     "evalue": "\"None of ['bau_butane_SUBSIDY(mMAD)', 'LP1_butane_SUBSIDY(mMAD)', 'LP2_butane_SUBSIDY(mMAD)', 'bau_PV_Capex(mMAD)', 'LP1_PV_Capex(mMAD)', 'LP2_PV_Capex(mMAD)'] are in the columns\"",
     "output_type": "error",
     "traceback": [
      "\u001b[1;31m---------------------------------------------------------------------------\u001b[0m",
      "\u001b[1;31mKeyError\u001b[0m                                  Traceback (most recent call last)",
      "\u001b[1;32m<ipython-input-14-1cca562e814a>\u001b[0m in \u001b[0;36m<module>\u001b[1;34m\u001b[0m\n\u001b[1;32m----> 1\u001b[1;33m dfcost = all_dfs.reset_index().pivot(index='Year', columns=['water_demand(m3)', 'energy_demand(KWh)', \n\u001b[0m\u001b[0;32m      2\u001b[0m                                      \u001b[1;34m'bau_butane_SUBSIDY(mMAD)'\u001b[0m\u001b[1;33m,\u001b[0m\u001b[1;34m'LP1_butane_SUBSIDY(mMAD)'\u001b[0m\u001b[1;33m,\u001b[0m\u001b[1;34m'LP2_butane_SUBSIDY(mMAD)'\u001b[0m\u001b[1;33m,\u001b[0m\u001b[1;33m\u001b[0m\u001b[1;33m\u001b[0m\u001b[0m\n\u001b[0;32m      3\u001b[0m                                      'bau_PV_Capex(mMAD)','LP1_PV_Capex(mMAD)','LP2_PV_Capex(mMAD)'])\n",
      "\u001b[1;32m~\\AppData\\Local\\Continuum\\anaconda3\\envs\\plotly\\lib\\site-packages\\pandas\\core\\frame.py\u001b[0m in \u001b[0;36mpivot\u001b[1;34m(self, index, columns, values)\u001b[0m\n\u001b[0;32m   6665\u001b[0m         \u001b[1;32mfrom\u001b[0m \u001b[0mpandas\u001b[0m\u001b[1;33m.\u001b[0m\u001b[0mcore\u001b[0m\u001b[1;33m.\u001b[0m\u001b[0mreshape\u001b[0m\u001b[1;33m.\u001b[0m\u001b[0mpivot\u001b[0m \u001b[1;32mimport\u001b[0m \u001b[0mpivot\u001b[0m\u001b[1;33m\u001b[0m\u001b[1;33m\u001b[0m\u001b[0m\n\u001b[0;32m   6666\u001b[0m \u001b[1;33m\u001b[0m\u001b[0m\n\u001b[1;32m-> 6667\u001b[1;33m         \u001b[1;32mreturn\u001b[0m \u001b[0mpivot\u001b[0m\u001b[1;33m(\u001b[0m\u001b[0mself\u001b[0m\u001b[1;33m,\u001b[0m \u001b[0mindex\u001b[0m\u001b[1;33m=\u001b[0m\u001b[0mindex\u001b[0m\u001b[1;33m,\u001b[0m \u001b[0mcolumns\u001b[0m\u001b[1;33m=\u001b[0m\u001b[0mcolumns\u001b[0m\u001b[1;33m,\u001b[0m \u001b[0mvalues\u001b[0m\u001b[1;33m=\u001b[0m\u001b[0mvalues\u001b[0m\u001b[1;33m)\u001b[0m\u001b[1;33m\u001b[0m\u001b[1;33m\u001b[0m\u001b[0m\n\u001b[0m\u001b[0;32m   6668\u001b[0m \u001b[1;33m\u001b[0m\u001b[0m\n\u001b[0;32m   6669\u001b[0m     _shared_docs[\n",
      "\u001b[1;32m~\\AppData\\Local\\Continuum\\anaconda3\\envs\\plotly\\lib\\site-packages\\pandas\\core\\reshape\\pivot.py\u001b[0m in \u001b[0;36mpivot\u001b[1;34m(data, index, columns, values)\u001b[0m\n\u001b[0;32m    455\u001b[0m \u001b[1;33m\u001b[0m\u001b[0m\n\u001b[0;32m    456\u001b[0m         \u001b[0mappend\u001b[0m \u001b[1;33m=\u001b[0m \u001b[0mindex\u001b[0m \u001b[1;32mis\u001b[0m \u001b[1;32mNone\u001b[0m\u001b[1;33m\u001b[0m\u001b[1;33m\u001b[0m\u001b[0m\n\u001b[1;32m--> 457\u001b[1;33m         \u001b[0mindexed\u001b[0m \u001b[1;33m=\u001b[0m \u001b[0mdata\u001b[0m\u001b[1;33m.\u001b[0m\u001b[0mset_index\u001b[0m\u001b[1;33m(\u001b[0m\u001b[0mcols\u001b[0m\u001b[1;33m,\u001b[0m \u001b[0mappend\u001b[0m\u001b[1;33m=\u001b[0m\u001b[0mappend\u001b[0m\u001b[1;33m)\u001b[0m\u001b[1;33m\u001b[0m\u001b[1;33m\u001b[0m\u001b[0m\n\u001b[0m\u001b[0;32m    458\u001b[0m     \u001b[1;32melse\u001b[0m\u001b[1;33m:\u001b[0m\u001b[1;33m\u001b[0m\u001b[1;33m\u001b[0m\u001b[0m\n\u001b[0;32m    459\u001b[0m         \u001b[1;32mif\u001b[0m \u001b[0mindex\u001b[0m \u001b[1;32mis\u001b[0m \u001b[1;32mNone\u001b[0m\u001b[1;33m:\u001b[0m\u001b[1;33m\u001b[0m\u001b[1;33m\u001b[0m\u001b[0m\n",
      "\u001b[1;32m~\\AppData\\Local\\Continuum\\anaconda3\\envs\\plotly\\lib\\site-packages\\pandas\\core\\frame.py\u001b[0m in \u001b[0;36mset_index\u001b[1;34m(self, keys, drop, append, inplace, verify_integrity)\u001b[0m\n\u001b[0;32m   4543\u001b[0m \u001b[1;33m\u001b[0m\u001b[0m\n\u001b[0;32m   4544\u001b[0m         \u001b[1;32mif\u001b[0m \u001b[0mmissing\u001b[0m\u001b[1;33m:\u001b[0m\u001b[1;33m\u001b[0m\u001b[1;33m\u001b[0m\u001b[0m\n\u001b[1;32m-> 4545\u001b[1;33m             \u001b[1;32mraise\u001b[0m \u001b[0mKeyError\u001b[0m\u001b[1;33m(\u001b[0m\u001b[1;34mf\"None of {missing} are in the columns\"\u001b[0m\u001b[1;33m)\u001b[0m\u001b[1;33m\u001b[0m\u001b[1;33m\u001b[0m\u001b[0m\n\u001b[0m\u001b[0;32m   4546\u001b[0m \u001b[1;33m\u001b[0m\u001b[0m\n\u001b[0;32m   4547\u001b[0m         \u001b[1;32mif\u001b[0m \u001b[0minplace\u001b[0m\u001b[1;33m:\u001b[0m\u001b[1;33m\u001b[0m\u001b[1;33m\u001b[0m\u001b[0m\n",
      "\u001b[1;31mKeyError\u001b[0m: \"None of ['bau_butane_SUBSIDY(mMAD)', 'LP1_butane_SUBSIDY(mMAD)', 'LP2_butane_SUBSIDY(mMAD)', 'bau_PV_Capex(mMAD)', 'LP1_PV_Capex(mMAD)', 'LP2_PV_Capex(mMAD)'] are in the columns\""
     ]
    }
   ],
   "source": [
    "dfcost = all_dfs.reset_index().pivot(index='Year', columns=['water_demand(m3)', 'energy_demand(KWh)', \n",
    "                                     'bau_butane_SUBSIDY(mMAD)','LP1_butane_SUBSIDY(mMAD)','LP2_butane_SUBSIDY(mMAD)',\n",
    "                                     'bau_PV_Capex(mMAD)','LP1_PV_Capex(mMAD)','LP2_PV_Capex(mMAD)'])"
   ]
  },
  {
   "cell_type": "code",
   "execution_count": 183,
   "metadata": {},
   "outputs": [],
   "source": [
    "costs = pd.DataFrame({'Year':bau['Year'],\n",
    "                       'Ref-Subs(mMAD)':bau['butane_SUBSIDY(mMAD)'],\n",
    "                       'LatePV10-Subs(mMAD)':latePV10['butane_SUBSIDY(mMAD)'],\n",
    "                        'LatePV20-Subs(mMAD)':latePV20['butane_SUBSIDY(mMAD)'],\n",
    "                        'EarlyPV10-Subs(mMAD)':earlyPV10['butane_SUBSIDY(mMAD)'],\n",
    "                        'EarlyPV20-Subs(mMAD)':earlyPV20['butane_SUBSIDY(mMAD)'],\n",
    "                        'Ref-PVInv(mMAD)':bau['PV_Capex(mMAD)'],\n",
    "                       'LatePV10-PVInv(mMAD)':latePV10['PV_Capex(mMAD)'],\n",
    "                        'LatePV20-PVInv(mMAD)':latePV20['PV_Capex(mMAD)'],\n",
    "                        'EarlyPV10-PVInv(mMAD)':earlyPV10['PV_Capex(mMAD)'],\n",
    "                        'EarlyPV20-PVInv(mMAD)':earlyPV20['PV_Capex(mMAD)'],\n",
    "                     'Ref-PVcap(MW)':(bau['PV_new_cap(MW)']+bau['reinv_cap(MW)']),\n",
    "                       'LatePV10-PVcap(MW)':(latePV10['PV_new_cap(MW)']+latePV10['reinv_cap(MW)']),\n",
    "                        'LatePV20-PVcap(MW)':(latePV20['PV_new_cap(MW)']+latePV20['reinv_cap(MW)']),\n",
    "                        'EarlyPV10-PVcap(MW)':(earlyPV10['PV_new_cap(MW)']+earlyPV10['reinv_cap(MW)']),\n",
    "                        'EarlyPV20-PVcap(MW)':(earlyPV20['PV_new_cap(MW)']+earlyPV20['reinv_cap(MW)'])})\n",
    "\n",
    "costs['Ref-Savings'] = costs['Ref-Subs(mMAD)']-costs['Ref-PVInv(mMAD)']\n",
    "costs['LatePV10-Savings'] = costs['LatePV10-Subs(mMAD)']-costs['LatePV10-PVInv(mMAD)']\n",
    "costs['LatePV20-Savings'] = costs['LatePV20-Subs(mMAD)']-costs['LatePV20-PVInv(mMAD)']\n",
    "costs['EarlyPV10-Savings'] = costs['EarlyPV10-Subs(mMAD)']-costs['EarlyPV10-PVInv(mMAD)']\n",
    "costs['EarlyPV20-Savings'] = costs['EarlyPV20-Subs(mMAD)']-costs['EarlyPV20-PVInv(mMAD)']"
   ]
  },
  {
   "cell_type": "code",
   "execution_count": 184,
   "metadata": {},
   "outputs": [],
   "source": [
    "#costs1= costs.loc[costs['Year'] < 2041]\n",
    "costs.to_csv('cost_summary_all.csv')"
   ]
  },
  {
   "cell_type": "code",
   "execution_count": 134,
   "metadata": {},
   "outputs": [],
   "source": [
    "\n",
    "\n"
   ]
  },
  {
   "cell_type": "markdown",
   "metadata": {},
   "source": [
    "## Baseline Scenario\n",
    "\n",
    "No phaseout of Butane. The distribution of all technologies (Butane, PV and Grid) will continue to be the same as the current distribution which is: \n",
    "\n",
    "* PV = 10% \n",
    "* Butane = 20%\n",
    "* Grid = 70% "
   ]
  },
  {
   "cell_type": "code",
   "execution_count": 93,
   "metadata": {},
   "outputs": [
    {
     "ename": "KeyError",
     "evalue": "'type'",
     "output_type": "error",
     "traceback": [
      "\u001b[1;31m---------------------------------------------------------------------------\u001b[0m",
      "\u001b[1;31mKeyError\u001b[0m                                  Traceback (most recent call last)",
      "\u001b[1;32m~\\AppData\\Local\\Continuum\\anaconda3\\lib\\site-packages\\pandas\\core\\indexes\\base.py\u001b[0m in \u001b[0;36mget_loc\u001b[1;34m(self, key, method, tolerance)\u001b[0m\n\u001b[0;32m   2656\u001b[0m             \u001b[1;32mtry\u001b[0m\u001b[1;33m:\u001b[0m\u001b[1;33m\u001b[0m\u001b[1;33m\u001b[0m\u001b[0m\n\u001b[1;32m-> 2657\u001b[1;33m                 \u001b[1;32mreturn\u001b[0m \u001b[0mself\u001b[0m\u001b[1;33m.\u001b[0m\u001b[0m_engine\u001b[0m\u001b[1;33m.\u001b[0m\u001b[0mget_loc\u001b[0m\u001b[1;33m(\u001b[0m\u001b[0mkey\u001b[0m\u001b[1;33m)\u001b[0m\u001b[1;33m\u001b[0m\u001b[1;33m\u001b[0m\u001b[0m\n\u001b[0m\u001b[0;32m   2658\u001b[0m             \u001b[1;32mexcept\u001b[0m \u001b[0mKeyError\u001b[0m\u001b[1;33m:\u001b[0m\u001b[1;33m\u001b[0m\u001b[1;33m\u001b[0m\u001b[0m\n",
      "\u001b[1;32mpandas/_libs/index.pyx\u001b[0m in \u001b[0;36mpandas._libs.index.IndexEngine.get_loc\u001b[1;34m()\u001b[0m\n",
      "\u001b[1;32mpandas/_libs/index.pyx\u001b[0m in \u001b[0;36mpandas._libs.index.IndexEngine.get_loc\u001b[1;34m()\u001b[0m\n",
      "\u001b[1;32mpandas/_libs/hashtable_class_helper.pxi\u001b[0m in \u001b[0;36mpandas._libs.hashtable.PyObjectHashTable.get_item\u001b[1;34m()\u001b[0m\n",
      "\u001b[1;32mpandas/_libs/hashtable_class_helper.pxi\u001b[0m in \u001b[0;36mpandas._libs.hashtable.PyObjectHashTable.get_item\u001b[1;34m()\u001b[0m\n",
      "\u001b[1;31mKeyError\u001b[0m: 'type'",
      "\nDuring handling of the above exception, another exception occurred:\n",
      "\u001b[1;31mKeyError\u001b[0m                                  Traceback (most recent call last)",
      "\u001b[1;32m<ipython-input-93-8a396b884f3f>\u001b[0m in \u001b[0;36m<module>\u001b[1;34m\u001b[0m\n\u001b[0;32m      1\u001b[0m \u001b[0myear\u001b[0m \u001b[1;33m=\u001b[0m \u001b[1;36m2020\u001b[0m\u001b[1;33m\u001b[0m\u001b[1;33m\u001b[0m\u001b[0m\n\u001b[0;32m      2\u001b[0m \u001b[1;31m#df = bau.df.loc[(bau.df.Year==year)].copy()\u001b[0m\u001b[1;33m\u001b[0m\u001b[1;33m\u001b[0m\u001b[1;33m\u001b[0m\u001b[0m\n\u001b[1;32m----> 3\u001b[1;33m \u001b[0mdf\u001b[0m\u001b[1;33m.\u001b[0m\u001b[0mloc\u001b[0m\u001b[1;33m[\u001b[0m\u001b[0mdf\u001b[0m\u001b[1;33m[\u001b[0m\u001b[1;34m'type'\u001b[0m\u001b[1;33m]\u001b[0m\u001b[1;33m.\u001b[0m\u001b[0mstr\u001b[0m\u001b[1;33m.\u001b[0m\u001b[0mcontains\u001b[0m\u001b[1;33m(\u001b[0m\u001b[1;34m'DS'\u001b[0m\u001b[1;33m)\u001b[0m\u001b[1;33m,\u001b[0m \u001b[1;34m'type'\u001b[0m\u001b[1;33m]\u001b[0m \u001b[1;33m=\u001b[0m \u001b[1;34m'Desalinated water'\u001b[0m\u001b[1;33m\u001b[0m\u001b[1;33m\u001b[0m\u001b[0m\n\u001b[0m\u001b[0;32m      4\u001b[0m \u001b[0mdf\u001b[0m\u001b[1;33m.\u001b[0m\u001b[0mloc\u001b[0m\u001b[1;33m[\u001b[0m\u001b[0mdf\u001b[0m\u001b[1;33m[\u001b[0m\u001b[1;34m'type'\u001b[0m\u001b[1;33m]\u001b[0m\u001b[1;33m.\u001b[0m\u001b[0mstr\u001b[0m\u001b[1;33m.\u001b[0m\u001b[0mcontains\u001b[0m\u001b[1;33m(\u001b[0m\u001b[1;34m'Pipeline'\u001b[0m\u001b[1;33m)\u001b[0m\u001b[1;33m,\u001b[0m \u001b[1;34m'type'\u001b[0m\u001b[1;33m]\u001b[0m \u001b[1;33m=\u001b[0m \u001b[1;34m'Conveyance'\u001b[0m\u001b[1;33m\u001b[0m\u001b[1;33m\u001b[0m\u001b[0m\n\u001b[0;32m      5\u001b[0m \u001b[0mdf\u001b[0m\u001b[1;33m.\u001b[0m\u001b[0mloc\u001b[0m\u001b[1;33m[\u001b[0m\u001b[0mdf\u001b[0m\u001b[1;33m[\u001b[0m\u001b[1;34m'type'\u001b[0m\u001b[1;33m]\u001b[0m\u001b[1;33m.\u001b[0m\u001b[0mstr\u001b[0m\u001b[1;33m.\u001b[0m\u001b[0mcontains\u001b[0m\u001b[1;33m(\u001b[0m\u001b[1;34m'Pipeline'\u001b[0m\u001b[1;33m)\u001b[0m\u001b[1;33m,\u001b[0m \u001b[1;34m'type'\u001b[0m\u001b[1;33m]\u001b[0m \u001b[1;33m=\u001b[0m \u001b[1;34m'Conveyance'\u001b[0m\u001b[1;33m\u001b[0m\u001b[1;33m\u001b[0m\u001b[0m\n",
      "\u001b[1;32m~\\AppData\\Local\\Continuum\\anaconda3\\lib\\site-packages\\pandas\\core\\frame.py\u001b[0m in \u001b[0;36m__getitem__\u001b[1;34m(self, key)\u001b[0m\n\u001b[0;32m   2925\u001b[0m             \u001b[1;32mif\u001b[0m \u001b[0mself\u001b[0m\u001b[1;33m.\u001b[0m\u001b[0mcolumns\u001b[0m\u001b[1;33m.\u001b[0m\u001b[0mnlevels\u001b[0m \u001b[1;33m>\u001b[0m \u001b[1;36m1\u001b[0m\u001b[1;33m:\u001b[0m\u001b[1;33m\u001b[0m\u001b[1;33m\u001b[0m\u001b[0m\n\u001b[0;32m   2926\u001b[0m                 \u001b[1;32mreturn\u001b[0m \u001b[0mself\u001b[0m\u001b[1;33m.\u001b[0m\u001b[0m_getitem_multilevel\u001b[0m\u001b[1;33m(\u001b[0m\u001b[0mkey\u001b[0m\u001b[1;33m)\u001b[0m\u001b[1;33m\u001b[0m\u001b[1;33m\u001b[0m\u001b[0m\n\u001b[1;32m-> 2927\u001b[1;33m             \u001b[0mindexer\u001b[0m \u001b[1;33m=\u001b[0m \u001b[0mself\u001b[0m\u001b[1;33m.\u001b[0m\u001b[0mcolumns\u001b[0m\u001b[1;33m.\u001b[0m\u001b[0mget_loc\u001b[0m\u001b[1;33m(\u001b[0m\u001b[0mkey\u001b[0m\u001b[1;33m)\u001b[0m\u001b[1;33m\u001b[0m\u001b[1;33m\u001b[0m\u001b[0m\n\u001b[0m\u001b[0;32m   2928\u001b[0m             \u001b[1;32mif\u001b[0m \u001b[0mis_integer\u001b[0m\u001b[1;33m(\u001b[0m\u001b[0mindexer\u001b[0m\u001b[1;33m)\u001b[0m\u001b[1;33m:\u001b[0m\u001b[1;33m\u001b[0m\u001b[1;33m\u001b[0m\u001b[0m\n\u001b[0;32m   2929\u001b[0m                 \u001b[0mindexer\u001b[0m \u001b[1;33m=\u001b[0m \u001b[1;33m[\u001b[0m\u001b[0mindexer\u001b[0m\u001b[1;33m]\u001b[0m\u001b[1;33m\u001b[0m\u001b[1;33m\u001b[0m\u001b[0m\n",
      "\u001b[1;32m~\\AppData\\Local\\Continuum\\anaconda3\\lib\\site-packages\\pandas\\core\\indexes\\base.py\u001b[0m in \u001b[0;36mget_loc\u001b[1;34m(self, key, method, tolerance)\u001b[0m\n\u001b[0;32m   2657\u001b[0m                 \u001b[1;32mreturn\u001b[0m \u001b[0mself\u001b[0m\u001b[1;33m.\u001b[0m\u001b[0m_engine\u001b[0m\u001b[1;33m.\u001b[0m\u001b[0mget_loc\u001b[0m\u001b[1;33m(\u001b[0m\u001b[0mkey\u001b[0m\u001b[1;33m)\u001b[0m\u001b[1;33m\u001b[0m\u001b[1;33m\u001b[0m\u001b[0m\n\u001b[0;32m   2658\u001b[0m             \u001b[1;32mexcept\u001b[0m \u001b[0mKeyError\u001b[0m\u001b[1;33m:\u001b[0m\u001b[1;33m\u001b[0m\u001b[1;33m\u001b[0m\u001b[0m\n\u001b[1;32m-> 2659\u001b[1;33m                 \u001b[1;32mreturn\u001b[0m \u001b[0mself\u001b[0m\u001b[1;33m.\u001b[0m\u001b[0m_engine\u001b[0m\u001b[1;33m.\u001b[0m\u001b[0mget_loc\u001b[0m\u001b[1;33m(\u001b[0m\u001b[0mself\u001b[0m\u001b[1;33m.\u001b[0m\u001b[0m_maybe_cast_indexer\u001b[0m\u001b[1;33m(\u001b[0m\u001b[0mkey\u001b[0m\u001b[1;33m)\u001b[0m\u001b[1;33m)\u001b[0m\u001b[1;33m\u001b[0m\u001b[1;33m\u001b[0m\u001b[0m\n\u001b[0m\u001b[0;32m   2660\u001b[0m         \u001b[0mindexer\u001b[0m \u001b[1;33m=\u001b[0m \u001b[0mself\u001b[0m\u001b[1;33m.\u001b[0m\u001b[0mget_indexer\u001b[0m\u001b[1;33m(\u001b[0m\u001b[1;33m[\u001b[0m\u001b[0mkey\u001b[0m\u001b[1;33m]\u001b[0m\u001b[1;33m,\u001b[0m \u001b[0mmethod\u001b[0m\u001b[1;33m=\u001b[0m\u001b[0mmethod\u001b[0m\u001b[1;33m,\u001b[0m \u001b[0mtolerance\u001b[0m\u001b[1;33m=\u001b[0m\u001b[0mtolerance\u001b[0m\u001b[1;33m)\u001b[0m\u001b[1;33m\u001b[0m\u001b[1;33m\u001b[0m\u001b[0m\n\u001b[0;32m   2661\u001b[0m         \u001b[1;32mif\u001b[0m \u001b[0mindexer\u001b[0m\u001b[1;33m.\u001b[0m\u001b[0mndim\u001b[0m \u001b[1;33m>\u001b[0m \u001b[1;36m1\u001b[0m \u001b[1;32mor\u001b[0m \u001b[0mindexer\u001b[0m\u001b[1;33m.\u001b[0m\u001b[0msize\u001b[0m \u001b[1;33m>\u001b[0m \u001b[1;36m1\u001b[0m\u001b[1;33m:\u001b[0m\u001b[1;33m\u001b[0m\u001b[1;33m\u001b[0m\u001b[0m\n",
      "\u001b[1;32mpandas/_libs/index.pyx\u001b[0m in \u001b[0;36mpandas._libs.index.IndexEngine.get_loc\u001b[1;34m()\u001b[0m\n",
      "\u001b[1;32mpandas/_libs/index.pyx\u001b[0m in \u001b[0;36mpandas._libs.index.IndexEngine.get_loc\u001b[1;34m()\u001b[0m\n",
      "\u001b[1;32mpandas/_libs/hashtable_class_helper.pxi\u001b[0m in \u001b[0;36mpandas._libs.hashtable.PyObjectHashTable.get_item\u001b[1;34m()\u001b[0m\n",
      "\u001b[1;32mpandas/_libs/hashtable_class_helper.pxi\u001b[0m in \u001b[0;36mpandas._libs.hashtable.PyObjectHashTable.get_item\u001b[1;34m()\u001b[0m\n",
      "\u001b[1;31mKeyError\u001b[0m: 'type'"
     ]
    }
   ],
   "source": [
    "year = 2020\n",
    "#df = bau.df.loc[(bau.df.Year==year)].copy()\n",
    "df.loc[df['type'].str.contains('DS'), 'type'] = 'Desalinated water'\n",
    "df.loc[df['type'].str.contains('Pipeline'), 'type'] = 'Conveyance'\n",
    "df.loc[df['type'].str.contains('Pipeline'), 'type'] = 'Conveyance'\n",
    "\n",
    "\n",
    "df_group = df.groupby(['Province','type'])[['sswd', 'swpa_e']].sum()/1000000\n",
    "df_group.rename(columns={'sswd': 'Water demand [Mm3]', 'swpa_e': 'Energy demand [GWh]'}, inplace=True)\n",
    "df_group['Energy intensity [kWh/m3]'] = df_group['Energy demand [GWh]'] / df_group['Water demand [Mm3]']\n",
    "# df_group.reset_index(inplace=True)\n",
    "# df_group.to_csv('Sumary for Ref scenario with Desal and no CC.csv')\n",
    "df_group"
   ]
  },
  {
   "cell_type": "markdown",
   "metadata": {},
   "source": [
    "### Step 1: Technologies distribution calculations"
   ]
  },
  {
   "cell_type": "code",
   "execution_count": 7,
   "metadata": {},
   "outputs": [],
   "source": [
    "df = cropland.copy()"
   ]
  },
  {
   "cell_type": "code",
   "execution_count": null,
   "metadata": {},
   "outputs": [],
   "source": [
    "# Original code: \n",
    "pv_change = [0] #the negative sign means increase\n",
    "butane_change = [0]\n",
    "for pv_share in pv_change:\n",
    "    for butane_share in butane_change:\n",
    "        pv_share1 = 0.1\n",
    "        butane_share1 = 0.2\n",
    "        df.start_year = 2020\n",
    "        df.end_year = 2050\n",
    "        bt_rates = {2020: 0, 2030: butane_share*0.5, 2040: butane_share*0.2, 2050: butane_share}\n",
    "        pv_rates = {2020: 0, 2030: pv_share*0.5, 2040: pv_share*0.2, 2050: pv_share}\n",
    "        butane_dist = create_tech_dist(df.start_year, df.end_year, butane_share1, bt_rates, 'polynomial')\n",
    "        pv_dist = create_tech_dist(df.start_year, df.end_year, pv_share1, pv_rates, 'polynomial')\n",
    "        grid_dist = (1-(butane_dist+pv_dist))"
   ]
  },
  {
   "cell_type": "code",
   "execution_count": 184,
   "metadata": {},
   "outputs": [],
   "source": [
    "#This function can be moved to the nexus tool later:\n",
    "\n",
    "def create_tech_dist(iyear, eyear, share1, rates, method, order=2):\n",
    "    tech_dist = pd.DataFrame({'Year': range(iyear, eyear+1)})\n",
    "    if method!='step':\n",
    "        for year, rate in rates.items():\n",
    "            tech_dist.loc[tech_dist.Year==year, 'rate'] = rate\n",
    "        tech_dist['share'] = (1-tech_dist['rate']) * share1\n",
    "        tech_dist['share'] = tech_dist.share.interpolate(method=method, order=order)\n",
    "    else:\n",
    "        for year, rate in rates.items():\n",
    "            tech_dist.loc[tech_dist.Year>=year, 'rate'] = rate\n",
    "        tech_dist['share'] = (1-tech_dist['rate']) * share1\n",
    "    return tech_dist.set_index('Year').share"
   ]
  },
  {
   "cell_type": "code",
   "execution_count": 189,
   "metadata": {},
   "outputs": [],
   "source": [
    "#copy1\n",
    "scenarios = ['bau','late_po','early_po']\n",
    "pv_levels = ['low_PV', 'high_PV']\n",
    "\n",
    "for scenario in scenarios:\n",
    "    for pv_level in pv_levels:\n",
    "        \n",
    "        butane_change ={'bau':0,'late_po':1,'early_po':1 }\n",
    "        butane_share = butane_change[scenario]\n",
    "        \n",
    "        end_year ={'bau':2040,'late_po':2040,'early_po':2040 }\n",
    "        year = end_year[scenario]\n",
    "\n",
    "        pv_change ={'low_PV':0,'high_PV':1}\n",
    "        pv_share = pv_change[pv_level]\n",
    "\n",
    "\n",
    "        pv_change = [-0.3] #the negative sign means increase\n",
    "        butane_change = [1]\n",
    "        for pv_share in pv_change:\n",
    "            for butane_share in butane_change:\n",
    "                pv_share1 = 0.1\n",
    "                butane_share1 = 0.2\n",
    "                df.start_year = 2020\n",
    "                df.mid_year = ((df.start_year+df.end_year)/2)\n",
    "                df.end_year = year\n",
    "                \n",
    "                bt_rates = {df.start_year: 0, df.mid_year: butane_share*0.5, df.end_year: butane_share}\n",
    "                pv_rates = {df.start_year: 0, df.mid_year: pv_share*0.5, df.end_year: pv_share}\n",
    "                \n",
    "                butane_dist = create_tech_dist(df.start_year, df.end_year, butane_share1, bt_rates, 'polynomial')\n",
    "                pv_dist = create_tech_dist(df.start_year, df.end_year, pv_share1, pv_rates, 'polynomial')\n",
    "\n",
    "        "
   ]
  },
  {
   "cell_type": "code",
   "execution_count": 190,
   "metadata": {},
   "outputs": [
    {
     "ename": "ValueError",
     "evalue": "Must have equal len keys and value when setting with an iterable",
     "output_type": "error",
     "traceback": [
      "\u001b[1;31m---------------------------------------------------------------------------\u001b[0m",
      "\u001b[1;31mValueError\u001b[0m                                Traceback (most recent call last)",
      "\u001b[1;32m<ipython-input-190-fd4b9c1beb55>\u001b[0m in \u001b[0;36m<module>\u001b[1;34m\u001b[0m\n\u001b[0;32m     33\u001b[0m                 \u001b[0mbt_rate\u001b[0m\u001b[1;33m=\u001b[0m\u001b[0mbt_rates\u001b[0m\u001b[1;33m[\u001b[0m\u001b[0mscenario\u001b[0m\u001b[1;33m]\u001b[0m\u001b[1;33m\u001b[0m\u001b[1;33m\u001b[0m\u001b[0m\n\u001b[0;32m     34\u001b[0m \u001b[1;33m\u001b[0m\u001b[0m\n\u001b[1;32m---> 35\u001b[1;33m                 \u001b[0mbutane_dist\u001b[0m \u001b[1;33m=\u001b[0m \u001b[0mcreate_tech_dist\u001b[0m\u001b[1;33m(\u001b[0m\u001b[0mdf\u001b[0m\u001b[1;33m.\u001b[0m\u001b[0mstart_year\u001b[0m\u001b[1;33m,\u001b[0m \u001b[0mdf\u001b[0m\u001b[1;33m.\u001b[0m\u001b[0mend_year\u001b[0m\u001b[1;33m,\u001b[0m \u001b[0mbutane_share1\u001b[0m\u001b[1;33m,\u001b[0m \u001b[0mbt_rates\u001b[0m\u001b[1;33m,\u001b[0m \u001b[1;34m'polynomial'\u001b[0m\u001b[1;33m)\u001b[0m\u001b[1;33m\u001b[0m\u001b[1;33m\u001b[0m\u001b[0m\n\u001b[0m\u001b[0;32m     36\u001b[0m                 \u001b[0mpv_dist\u001b[0m \u001b[1;33m=\u001b[0m \u001b[0mcreate_tech_dist\u001b[0m\u001b[1;33m(\u001b[0m\u001b[0mdf\u001b[0m\u001b[1;33m.\u001b[0m\u001b[0mstart_year\u001b[0m\u001b[1;33m,\u001b[0m \u001b[0mdf\u001b[0m\u001b[1;33m.\u001b[0m\u001b[0mend_year\u001b[0m\u001b[1;33m,\u001b[0m \u001b[0mpv_share1\u001b[0m\u001b[1;33m,\u001b[0m \u001b[0mpv_rates\u001b[0m\u001b[1;33m,\u001b[0m \u001b[1;34m'polynomial'\u001b[0m\u001b[1;33m)\u001b[0m\u001b[1;33m\u001b[0m\u001b[1;33m\u001b[0m\u001b[0m\n\u001b[0;32m     37\u001b[0m \u001b[1;33m\u001b[0m\u001b[0m\n",
      "\u001b[1;32m<ipython-input-188-5c7aedf1135d>\u001b[0m in \u001b[0;36mcreate_tech_dist\u001b[1;34m(iyear, eyear, share1, rates, method, order)\u001b[0m\n\u001b[0;32m     20\u001b[0m             \u001b[1;32mif\u001b[0m \u001b[0mmethod\u001b[0m\u001b[1;33m!=\u001b[0m\u001b[1;34m'step'\u001b[0m\u001b[1;33m:\u001b[0m\u001b[1;33m\u001b[0m\u001b[1;33m\u001b[0m\u001b[0m\n\u001b[0;32m     21\u001b[0m                 \u001b[1;32mfor\u001b[0m \u001b[0myear\u001b[0m\u001b[1;33m,\u001b[0m \u001b[0mrate\u001b[0m \u001b[1;32min\u001b[0m \u001b[0mrates\u001b[0m\u001b[1;33m.\u001b[0m\u001b[0mitems\u001b[0m\u001b[1;33m(\u001b[0m\u001b[1;33m)\u001b[0m\u001b[1;33m:\u001b[0m\u001b[1;33m\u001b[0m\u001b[1;33m\u001b[0m\u001b[0m\n\u001b[1;32m---> 22\u001b[1;33m                     \u001b[0mtech_dist\u001b[0m\u001b[1;33m.\u001b[0m\u001b[0mloc\u001b[0m\u001b[1;33m[\u001b[0m\u001b[0mtech_dist\u001b[0m\u001b[1;33m.\u001b[0m\u001b[0mYear\u001b[0m\u001b[1;33m==\u001b[0m\u001b[0myear\u001b[0m\u001b[1;33m,\u001b[0m \u001b[1;34m'rate'\u001b[0m\u001b[1;33m]\u001b[0m \u001b[1;33m=\u001b[0m \u001b[0mrate\u001b[0m\u001b[1;33m\u001b[0m\u001b[1;33m\u001b[0m\u001b[0m\n\u001b[0m\u001b[0;32m     23\u001b[0m                 \u001b[0mtech_dist\u001b[0m\u001b[1;33m[\u001b[0m\u001b[1;34m'share'\u001b[0m\u001b[1;33m]\u001b[0m \u001b[1;33m=\u001b[0m \u001b[1;33m(\u001b[0m\u001b[1;36m1\u001b[0m\u001b[1;33m-\u001b[0m\u001b[0mtech_dist\u001b[0m\u001b[1;33m[\u001b[0m\u001b[1;34m'rate'\u001b[0m\u001b[1;33m]\u001b[0m\u001b[1;33m)\u001b[0m \u001b[1;33m*\u001b[0m \u001b[0mshare1\u001b[0m\u001b[1;33m\u001b[0m\u001b[1;33m\u001b[0m\u001b[0m\n\u001b[0;32m     24\u001b[0m                 \u001b[0mtech_dist\u001b[0m\u001b[1;33m[\u001b[0m\u001b[1;34m'share'\u001b[0m\u001b[1;33m]\u001b[0m \u001b[1;33m=\u001b[0m \u001b[0mtech_dist\u001b[0m\u001b[1;33m.\u001b[0m\u001b[0mshare\u001b[0m\u001b[1;33m.\u001b[0m\u001b[0minterpolate\u001b[0m\u001b[1;33m(\u001b[0m\u001b[0mmethod\u001b[0m\u001b[1;33m=\u001b[0m\u001b[0mmethod\u001b[0m\u001b[1;33m,\u001b[0m \u001b[0morder\u001b[0m\u001b[1;33m=\u001b[0m\u001b[0morder\u001b[0m\u001b[1;33m)\u001b[0m\u001b[1;33m\u001b[0m\u001b[1;33m\u001b[0m\u001b[0m\n",
      "\u001b[1;32m~\\AppData\\Local\\Continuum\\anaconda3\\lib\\site-packages\\pandas\\core\\indexing.py\u001b[0m in \u001b[0;36m__setitem__\u001b[1;34m(self, key, value)\u001b[0m\n\u001b[0;32m    188\u001b[0m             \u001b[0mkey\u001b[0m \u001b[1;33m=\u001b[0m \u001b[0mcom\u001b[0m\u001b[1;33m.\u001b[0m\u001b[0mapply_if_callable\u001b[0m\u001b[1;33m(\u001b[0m\u001b[0mkey\u001b[0m\u001b[1;33m,\u001b[0m \u001b[0mself\u001b[0m\u001b[1;33m.\u001b[0m\u001b[0mobj\u001b[0m\u001b[1;33m)\u001b[0m\u001b[1;33m\u001b[0m\u001b[1;33m\u001b[0m\u001b[0m\n\u001b[0;32m    189\u001b[0m         \u001b[0mindexer\u001b[0m \u001b[1;33m=\u001b[0m \u001b[0mself\u001b[0m\u001b[1;33m.\u001b[0m\u001b[0m_get_setitem_indexer\u001b[0m\u001b[1;33m(\u001b[0m\u001b[0mkey\u001b[0m\u001b[1;33m)\u001b[0m\u001b[1;33m\u001b[0m\u001b[1;33m\u001b[0m\u001b[0m\n\u001b[1;32m--> 190\u001b[1;33m         \u001b[0mself\u001b[0m\u001b[1;33m.\u001b[0m\u001b[0m_setitem_with_indexer\u001b[0m\u001b[1;33m(\u001b[0m\u001b[0mindexer\u001b[0m\u001b[1;33m,\u001b[0m \u001b[0mvalue\u001b[0m\u001b[1;33m)\u001b[0m\u001b[1;33m\u001b[0m\u001b[1;33m\u001b[0m\u001b[0m\n\u001b[0m\u001b[0;32m    191\u001b[0m \u001b[1;33m\u001b[0m\u001b[0m\n\u001b[0;32m    192\u001b[0m     \u001b[1;32mdef\u001b[0m \u001b[0m_validate_key\u001b[0m\u001b[1;33m(\u001b[0m\u001b[0mself\u001b[0m\u001b[1;33m,\u001b[0m \u001b[0mkey\u001b[0m\u001b[1;33m,\u001b[0m \u001b[0maxis\u001b[0m\u001b[1;33m)\u001b[0m\u001b[1;33m:\u001b[0m\u001b[1;33m\u001b[0m\u001b[1;33m\u001b[0m\u001b[0m\n",
      "\u001b[1;32m~\\AppData\\Local\\Continuum\\anaconda3\\lib\\site-packages\\pandas\\core\\indexing.py\u001b[0m in \u001b[0;36m_setitem_with_indexer\u001b[1;34m(self, indexer, value)\u001b[0m\n\u001b[0;32m    364\u001b[0m                         new_indexer = convert_from_missing_indexer_tuple(\n\u001b[0;32m    365\u001b[0m                             indexer, self.obj.axes)\n\u001b[1;32m--> 366\u001b[1;33m                         \u001b[0mself\u001b[0m\u001b[1;33m.\u001b[0m\u001b[0m_setitem_with_indexer\u001b[0m\u001b[1;33m(\u001b[0m\u001b[0mnew_indexer\u001b[0m\u001b[1;33m,\u001b[0m \u001b[0mvalue\u001b[0m\u001b[1;33m)\u001b[0m\u001b[1;33m\u001b[0m\u001b[1;33m\u001b[0m\u001b[0m\n\u001b[0m\u001b[0;32m    367\u001b[0m \u001b[1;33m\u001b[0m\u001b[0m\n\u001b[0;32m    368\u001b[0m                         \u001b[1;32mreturn\u001b[0m \u001b[0mself\u001b[0m\u001b[1;33m.\u001b[0m\u001b[0mobj\u001b[0m\u001b[1;33m\u001b[0m\u001b[1;33m\u001b[0m\u001b[0m\n",
      "\u001b[1;32m~\\AppData\\Local\\Continuum\\anaconda3\\lib\\site-packages\\pandas\\core\\indexing.py\u001b[0m in \u001b[0;36m_setitem_with_indexer\u001b[1;34m(self, indexer, value)\u001b[0m\n\u001b[0;32m    609\u001b[0m \u001b[1;33m\u001b[0m\u001b[0m\n\u001b[0;32m    610\u001b[0m                     \u001b[1;32mif\u001b[0m \u001b[0mlen\u001b[0m\u001b[1;33m(\u001b[0m\u001b[0mlabels\u001b[0m\u001b[1;33m)\u001b[0m \u001b[1;33m!=\u001b[0m \u001b[0mlen\u001b[0m\u001b[1;33m(\u001b[0m\u001b[0mvalue\u001b[0m\u001b[1;33m)\u001b[0m\u001b[1;33m:\u001b[0m\u001b[1;33m\u001b[0m\u001b[1;33m\u001b[0m\u001b[0m\n\u001b[1;32m--> 611\u001b[1;33m                         raise ValueError('Must have equal len keys and value '\n\u001b[0m\u001b[0;32m    612\u001b[0m                                          'when setting with an iterable')\n\u001b[0;32m    613\u001b[0m \u001b[1;33m\u001b[0m\u001b[0m\n",
      "\u001b[1;31mValueError\u001b[0m: Must have equal len keys and value when setting with an iterable"
     ]
    }
   ],
   "source": [
    "#copy2\n",
    "scenarios = ['bau','late_po','early_po']\n",
    "pv_levels = ['low_PV', 'high_PV']\n",
    "\n",
    "for scenario in scenarios:\n",
    "    for pv_level in pv_levels:\n",
    "        \n",
    "        butane_change ={'bau':0,'late_po':1,'early_po':1 }\n",
    "        butane_share = butane_change[scenario]\n",
    "        \n",
    "        end_year ={'bau':2050,'late_po':2040,'early_po':2040 }\n",
    "        year = end_year[scenario]\n",
    "\n",
    "        pv_change ={'low_PV':0,'high_PV':1}\n",
    "        pv_share = pv_change[pv_level]\n",
    "        \n",
    "        pv_change = [-0.3] #the negative sign means increase\n",
    "        butane_change = [1]\n",
    "        for pv_share in pv_change:\n",
    "            for butane_share in butane_change:\n",
    "                pv_share1 = 0.1\n",
    "                butane_share1 = 0.2\n",
    "                df.start_year = 2020\n",
    "                df.end_year = 2050\n",
    "                \n",
    "                bt_bau = {2020: 0, 2025: 0, 2030: 0, 2040: 0, 2050: 0}\n",
    "                bt_early = {2020: 0, 2025: butane_share*0.7, 2030: butane_share, 2040: butane_share*1.1, 2050: butane_share*1.2}\n",
    "                bt_late = {2020: 0, 2030: butane_share*0.5, 2040: butane_share, 2050: butane_share*1.2}\n",
    "                \n",
    "                pv_rates = {2020: 0, 2025: pv_share*0.7, 2030: pv_share*0.5, 2040: pv_share*0.3, 2050: pv_share}\n",
    "                \n",
    "                bt_rates ={'bau':bt_bau,'late_po':bt_late,'early_po':bt_early }\n",
    "                bt_rate=bt_rates[scenario]\n",
    "                \n",
    "                butane_dist = create_tech_dist(df.start_year, df.end_year, butane_share1, bt_rates, 'polynomial')\n",
    "                pv_dist = create_tech_dist(df.start_year, df.end_year, pv_share1, pv_rates, 'polynomial')\n",
    "\n",
    " "
   ]
  },
  {
   "cell_type": "code",
   "execution_count": 179,
   "metadata": {},
   "outputs": [],
   "source": [
    "def create_learning_curve(iyear, eyear, cc, rates, method, order=2):\n",
    "    learning_curve = pd.DataFrame({'Year': range(iyear, eyear+1)})\n",
    "    if method!='step':\n",
    "        for year, rate in rates.items():\n",
    "            learning_curve.loc[learning_curve.Year==year, 'rate'] = rate\n",
    "        learning_curve['capital_cost'] = (1-learning_curve['rate']) * cc\n",
    "        learning_curve['capital_cost'] = learning_curve.capital_cost.interpolate(method=method, order=order)\n",
    "    else:\n",
    "        for year, rate in rates.items():\n",
    "            learning_curve.loc[learning_curve.Year>=year, 'rate'] = rate\n",
    "        learning_curve['capital_cost'] = (1-learning_curve['rate']) * cc\n",
    "    return learning_curve.set_index('Year').capital_cost"
   ]
  },
  {
   "cell_type": "code",
   "execution_count": 180,
   "metadata": {},
   "outputs": [],
   "source": [
    "# The capital cost of PV in Morocco is 7 MAD/ Wp  (excluding tax) = 7000 (MAD/KW) or = 7 (mMAD/MW)\n",
    "\n",
    "pv_rate = 0.3 #This assumes 30% drop in PV CAPEX by 2040. \n",
    "cc = 7\n",
    "pv_cf = 0.25\n",
    "pv_life=15\n",
    "df.start_year=2020\n",
    "df.end_year=2050\n",
    "#capital_cost = 1000\n",
    "rates = {2020: 0, 2030: pv_rate*0.3, 2040: pv_rate, 2050: pv_rate*1.3}\n",
    "cc_solar_curve = create_learning_curve(df.start_year, df.end_year, cc, rates, 'polynomial')\n",
    "om_cost=0.01 \n",
    "efficiency=1"
   ]
  },
  {
   "cell_type": "code",
   "execution_count": 181,
   "metadata": {},
   "outputs": [
    {
     "data": {
      "text/html": [
       "<div>\n",
       "<style scoped>\n",
       "    .dataframe tbody tr th:only-of-type {\n",
       "        vertical-align: middle;\n",
       "    }\n",
       "\n",
       "    .dataframe tbody tr th {\n",
       "        vertical-align: top;\n",
       "    }\n",
       "\n",
       "    .dataframe thead th {\n",
       "        text-align: right;\n",
       "    }\n",
       "</style>\n",
       "<table border=\"1\" class=\"dataframe\">\n",
       "  <thead>\n",
       "    <tr style=\"text-align: right;\">\n",
       "      <th></th>\n",
       "      <th>butane_share</th>\n",
       "      <th>pv_share</th>\n",
       "      <th>grid_share</th>\n",
       "      <th>pv_cc</th>\n",
       "    </tr>\n",
       "    <tr>\n",
       "      <th>Year</th>\n",
       "      <th></th>\n",
       "      <th></th>\n",
       "      <th></th>\n",
       "      <th></th>\n",
       "    </tr>\n",
       "  </thead>\n",
       "  <tbody>\n",
       "    <tr>\n",
       "      <th>2020</th>\n",
       "      <td>0.20000</td>\n",
       "      <td>0.100000</td>\n",
       "      <td>0.700000</td>\n",
       "      <td>7.0000</td>\n",
       "    </tr>\n",
       "    <tr>\n",
       "      <th>2021</th>\n",
       "      <td>0.19045</td>\n",
       "      <td>0.106721</td>\n",
       "      <td>0.702829</td>\n",
       "      <td>6.9874</td>\n",
       "    </tr>\n",
       "    <tr>\n",
       "      <th>2022</th>\n",
       "      <td>0.18080</td>\n",
       "      <td>0.112182</td>\n",
       "      <td>0.707018</td>\n",
       "      <td>6.9636</td>\n",
       "    </tr>\n",
       "    <tr>\n",
       "      <th>2023</th>\n",
       "      <td>0.17105</td>\n",
       "      <td>0.116382</td>\n",
       "      <td>0.712568</td>\n",
       "      <td>6.9286</td>\n",
       "    </tr>\n",
       "    <tr>\n",
       "      <th>2024</th>\n",
       "      <td>0.16120</td>\n",
       "      <td>0.119321</td>\n",
       "      <td>0.719479</td>\n",
       "      <td>6.8824</td>\n",
       "    </tr>\n",
       "    <tr>\n",
       "      <th>2025</th>\n",
       "      <td>0.15125</td>\n",
       "      <td>0.121000</td>\n",
       "      <td>0.727750</td>\n",
       "      <td>6.8250</td>\n",
       "    </tr>\n",
       "    <tr>\n",
       "      <th>2026</th>\n",
       "      <td>0.14120</td>\n",
       "      <td>0.121418</td>\n",
       "      <td>0.737382</td>\n",
       "      <td>6.7564</td>\n",
       "    </tr>\n",
       "    <tr>\n",
       "      <th>2027</th>\n",
       "      <td>0.13105</td>\n",
       "      <td>0.120576</td>\n",
       "      <td>0.748374</td>\n",
       "      <td>6.6766</td>\n",
       "    </tr>\n",
       "    <tr>\n",
       "      <th>2028</th>\n",
       "      <td>0.12080</td>\n",
       "      <td>0.118654</td>\n",
       "      <td>0.760546</td>\n",
       "      <td>6.5856</td>\n",
       "    </tr>\n",
       "    <tr>\n",
       "      <th>2029</th>\n",
       "      <td>0.11045</td>\n",
       "      <td>0.116735</td>\n",
       "      <td>0.772815</td>\n",
       "      <td>6.4834</td>\n",
       "    </tr>\n",
       "    <tr>\n",
       "      <th>2030</th>\n",
       "      <td>0.10000</td>\n",
       "      <td>0.115000</td>\n",
       "      <td>0.785000</td>\n",
       "      <td>6.3700</td>\n",
       "    </tr>\n",
       "    <tr>\n",
       "      <th>2031</th>\n",
       "      <td>0.08945</td>\n",
       "      <td>0.113449</td>\n",
       "      <td>0.797101</td>\n",
       "      <td>6.2454</td>\n",
       "    </tr>\n",
       "    <tr>\n",
       "      <th>2032</th>\n",
       "      <td>0.07880</td>\n",
       "      <td>0.112082</td>\n",
       "      <td>0.809118</td>\n",
       "      <td>6.1096</td>\n",
       "    </tr>\n",
       "    <tr>\n",
       "      <th>2033</th>\n",
       "      <td>0.06805</td>\n",
       "      <td>0.110899</td>\n",
       "      <td>0.821051</td>\n",
       "      <td>5.9626</td>\n",
       "    </tr>\n",
       "    <tr>\n",
       "      <th>2034</th>\n",
       "      <td>0.05720</td>\n",
       "      <td>0.109901</td>\n",
       "      <td>0.832899</td>\n",
       "      <td>5.8044</td>\n",
       "    </tr>\n",
       "    <tr>\n",
       "      <th>2035</th>\n",
       "      <td>0.04625</td>\n",
       "      <td>0.109086</td>\n",
       "      <td>0.844664</td>\n",
       "      <td>5.6350</td>\n",
       "    </tr>\n",
       "    <tr>\n",
       "      <th>2036</th>\n",
       "      <td>0.03560</td>\n",
       "      <td>0.108504</td>\n",
       "      <td>0.855896</td>\n",
       "      <td>5.4656</td>\n",
       "    </tr>\n",
       "    <tr>\n",
       "      <th>2037</th>\n",
       "      <td>0.02565</td>\n",
       "      <td>0.108205</td>\n",
       "      <td>0.866145</td>\n",
       "      <td>5.3074</td>\n",
       "    </tr>\n",
       "    <tr>\n",
       "      <th>2038</th>\n",
       "      <td>0.01640</td>\n",
       "      <td>0.108187</td>\n",
       "      <td>0.875413</td>\n",
       "      <td>5.1604</td>\n",
       "    </tr>\n",
       "    <tr>\n",
       "      <th>2039</th>\n",
       "      <td>0.00785</td>\n",
       "      <td>0.108453</td>\n",
       "      <td>0.883697</td>\n",
       "      <td>5.0246</td>\n",
       "    </tr>\n",
       "    <tr>\n",
       "      <th>2040</th>\n",
       "      <td>0.00000</td>\n",
       "      <td>0.109000</td>\n",
       "      <td>0.891000</td>\n",
       "      <td>4.9000</td>\n",
       "    </tr>\n",
       "    <tr>\n",
       "      <th>2041</th>\n",
       "      <td>0.00000</td>\n",
       "      <td>0.109830</td>\n",
       "      <td>0.890170</td>\n",
       "      <td>4.7866</td>\n",
       "    </tr>\n",
       "    <tr>\n",
       "      <th>2042</th>\n",
       "      <td>0.00000</td>\n",
       "      <td>0.110942</td>\n",
       "      <td>0.889058</td>\n",
       "      <td>4.6844</td>\n",
       "    </tr>\n",
       "    <tr>\n",
       "      <th>2043</th>\n",
       "      <td>0.00000</td>\n",
       "      <td>0.112336</td>\n",
       "      <td>0.887664</td>\n",
       "      <td>4.5934</td>\n",
       "    </tr>\n",
       "    <tr>\n",
       "      <th>2044</th>\n",
       "      <td>0.00000</td>\n",
       "      <td>0.114013</td>\n",
       "      <td>0.885987</td>\n",
       "      <td>4.5136</td>\n",
       "    </tr>\n",
       "    <tr>\n",
       "      <th>2045</th>\n",
       "      <td>0.00000</td>\n",
       "      <td>0.115971</td>\n",
       "      <td>0.884029</td>\n",
       "      <td>4.4450</td>\n",
       "    </tr>\n",
       "    <tr>\n",
       "      <th>2046</th>\n",
       "      <td>0.00000</td>\n",
       "      <td>0.118213</td>\n",
       "      <td>0.881787</td>\n",
       "      <td>4.3876</td>\n",
       "    </tr>\n",
       "    <tr>\n",
       "      <th>2047</th>\n",
       "      <td>0.00000</td>\n",
       "      <td>0.120736</td>\n",
       "      <td>0.879264</td>\n",
       "      <td>4.3414</td>\n",
       "    </tr>\n",
       "    <tr>\n",
       "      <th>2048</th>\n",
       "      <td>0.00000</td>\n",
       "      <td>0.123542</td>\n",
       "      <td>0.876458</td>\n",
       "      <td>4.3064</td>\n",
       "    </tr>\n",
       "    <tr>\n",
       "      <th>2049</th>\n",
       "      <td>0.00000</td>\n",
       "      <td>0.126630</td>\n",
       "      <td>0.873370</td>\n",
       "      <td>4.2826</td>\n",
       "    </tr>\n",
       "    <tr>\n",
       "      <th>2050</th>\n",
       "      <td>0.00000</td>\n",
       "      <td>0.130000</td>\n",
       "      <td>0.870000</td>\n",
       "      <td>4.2700</td>\n",
       "    </tr>\n",
       "  </tbody>\n",
       "</table>\n",
       "</div>"
      ],
      "text/plain": [
       "      butane_share  pv_share  grid_share   pv_cc\n",
       "Year                                            \n",
       "2020       0.20000  0.100000    0.700000  7.0000\n",
       "2021       0.19045  0.106721    0.702829  6.9874\n",
       "2022       0.18080  0.112182    0.707018  6.9636\n",
       "2023       0.17105  0.116382    0.712568  6.9286\n",
       "2024       0.16120  0.119321    0.719479  6.8824\n",
       "2025       0.15125  0.121000    0.727750  6.8250\n",
       "2026       0.14120  0.121418    0.737382  6.7564\n",
       "2027       0.13105  0.120576    0.748374  6.6766\n",
       "2028       0.12080  0.118654    0.760546  6.5856\n",
       "2029       0.11045  0.116735    0.772815  6.4834\n",
       "2030       0.10000  0.115000    0.785000  6.3700\n",
       "2031       0.08945  0.113449    0.797101  6.2454\n",
       "2032       0.07880  0.112082    0.809118  6.1096\n",
       "2033       0.06805  0.110899    0.821051  5.9626\n",
       "2034       0.05720  0.109901    0.832899  5.8044\n",
       "2035       0.04625  0.109086    0.844664  5.6350\n",
       "2036       0.03560  0.108504    0.855896  5.4656\n",
       "2037       0.02565  0.108205    0.866145  5.3074\n",
       "2038       0.01640  0.108187    0.875413  5.1604\n",
       "2039       0.00785  0.108453    0.883697  5.0246\n",
       "2040       0.00000  0.109000    0.891000  4.9000\n",
       "2041       0.00000  0.109830    0.890170  4.7866\n",
       "2042       0.00000  0.110942    0.889058  4.6844\n",
       "2043       0.00000  0.112336    0.887664  4.5934\n",
       "2044       0.00000  0.114013    0.885987  4.5136\n",
       "2045       0.00000  0.115971    0.884029  4.4450\n",
       "2046       0.00000  0.118213    0.881787  4.3876\n",
       "2047       0.00000  0.120736    0.879264  4.3414\n",
       "2048       0.00000  0.123542    0.876458  4.3064\n",
       "2049       0.00000  0.126630    0.873370  4.2826\n",
       "2050       0.00000  0.130000    0.870000  4.2700"
      ]
     },
     "execution_count": 181,
     "metadata": {},
     "output_type": "execute_result"
    }
   ],
   "source": [
    "dist = pd.DataFrame({'butane_share':pd.Series(butane_dist),\n",
    "                   'pv_share':pd.Series(pv_dist),\n",
    "                   'grid_share':pd.Series(grid_dist),\n",
    "                    'pv_cc':pd.Series(cc_solar_curve)})\n",
    "\n",
    "dist['butane_share'].fillna(method='ffill',inplace=True)\n",
    "dist['pv_share'].fillna(method='ffill',inplace=True)\n",
    "\n",
    "dist.loc[dist['butane_share']<0, 'butane_share'] =0\n",
    "dist.loc[dist['pv_share']<0, 'pv_share'] =0\n",
    "\n",
    "dist['grid_share']= 1-(dist['pv_share']+dist['butane_share'])\n",
    "\n",
    "dist\n",
    "#Check how to set the end year for phaseout to 2040 and take the same distibution for other years. "
   ]
  },
  {
   "cell_type": "code",
   "execution_count": 107,
   "metadata": {},
   "outputs": [],
   "source": [
    "bau = pd.merge(cropland, dist, on='Year')"
   ]
  },
  {
   "cell_type": "markdown",
   "metadata": {},
   "source": [
    "### Step 2: Butane calculations"
   ]
  },
  {
   "cell_type": "code",
   "execution_count": 37,
   "metadata": {},
   "outputs": [],
   "source": [
    "butane_req = 1/12.58 # LHV = 12.58 KWh/Kg (amount of butane (kg) required to produce 1 KWh) \n",
    "butane_em_fac = 211.8 # Butane emission factor = 211.77 kg CO2 per tons\n",
    "bpump_eff = 0.2 #efficiency of butane \n",
    "epump_eff = 0.45 #assumption\n",
    "conv_fac = 1000000000 # to convert emissions from kgCO2 to Million meteric tons of CO2 MtCO2\n",
    "\n",
    "bau['pv_load(KW)'] = bau['peak_load(KW)']*bau['pv_share']\n",
    "bau['pv_demand(KWh)'] = bau['energy_demand(KWh)']*bau['pv_share']\n",
    "bau['butane_demand(KWh)'] = bau['energy_demand(KWh)']*bau['butane_share']\n",
    "bau['grid_demand(KWh)'] = bau['energy_demand(KWh)']*bau['grid_share']\n",
    "\n",
    "\n",
    "bau['pv_elec(KWh)'] = bau['pv_demand(KWh)']/epump_eff\n",
    "bau['grid_elec(KWh)'] = bau['grid_demand(KWh)']/epump_eff\n",
    "\n",
    "bau['butane_cons(kg)'] = (bau['butane_demand(KWh)']*butane_req)/bpump_eff\n",
    "bau['butane_cons(tonnes)'] = bau['butane_cons(kg)']/1000\n",
    "bau['butane_emissions(MtCO2)'] = bau['butane_cons(tonnes)'] * butane_em_fac/conv_fac\n",
    "\n",
    "bau['butane_FARcost(mMAD)'] = (bau['butane_cons(kg)']*(40/12))/1000000 #in million MAD, this is what farmers pay\n",
    "bau['butane_ACTcost(mMAD)'] = (bau['butane_cons(kg)']*(120/12))/1000000 #in million MAD, this is what farmers pay\n",
    "bau['butane_SUBSIDY(mMAD)'] = (bau['butane_cons(kg)']*(80/12))/1000000 #in million MAD, this is the total subsidy cost\n",
    "\n"
   ]
  },
  {
   "cell_type": "markdown",
   "metadata": {},
   "source": [
    "### Step 3: Grid calculations"
   ]
  },
  {
   "cell_type": "code",
   "execution_count": 38,
   "metadata": {},
   "outputs": [],
   "source": [
    "# Estimating the electriicty from the grid and emissions\n",
    "grid_em_fac = 1.757 #kgco2/kwh  , This is based on data from IEA, Morocco 2019 \n",
    "grid_cost =100 # MAD/KWh, Assumption and to be updated \n",
    "\n",
    "#scenario1['grid_elec (kwh)'] = scenario1['grid_demand_kwh']/epump_eff #already calculated above\n",
    "bau['grid_emissions(MtCO2)'] = bau['grid_elec(KWh)']*grid_em_fac/conv_fac\n",
    "bau['grid_cost(mMAD)'] = (bau['grid_elec(KWh)']*grid_cost)/1000000\n",
    "bau['Total_emissions(MtCO2)'] = (bau['grid_emissions(MtCO2)'] + bau['butane_emissions(MtCO2)'])"
   ]
  },
  {
   "cell_type": "code",
   "execution_count": null,
   "metadata": {},
   "outputs": [],
   "source": []
  },
  {
   "cell_type": "markdown",
   "metadata": {},
   "source": [
    "### Step 4: Solar PV  calculations"
   ]
  },
  {
   "cell_type": "code",
   "execution_count": 44,
   "metadata": {},
   "outputs": [],
   "source": [
    "# Estimating the required monthly capacity of pv NOTE: 1 kWh = 3600 kJ\n",
    "\n",
    "bau['cf'] = bau['srad'] / (24*60*60) #This will give the cf in solar rad: (kJ/(m2.day))*30.day/month*1h/(24h*60m*60s) =kWh/(m2.month)*30/(60*60)\n",
    "bau['cap_m(MW)'] = bau['pv_load(KW)'] / bau['cf']/1000   #to convert to MW, check the units\n"
   ]
  },
  {
   "cell_type": "code",
   "execution_count": 48,
   "metadata": {},
   "outputs": [],
   "source": [
    "bau1 = bau.groupby(['Demand point','Year'])[['water_demand(m3)','energy_demand(KWh)', 'pv_elec(KWh)', 'grid_elec(KWh)','butane_cons(tonnes)', 'butane_FARcost(mMAD)', 'butane_ACTcost(mMAD)','butane_SUBSIDY(mMAD)','butane_emissions(MtCO2)','grid_emissions(MtCO2)','Total_emissions(MtCO2)','grid_cost(mMAD)']].sum()\n",
    "\n",
    "bau1['GWdepth'] = (bau.groupby(['Demand point','Year'])['wtd'].mean())\n",
    "bau1['srad'] = (bau.groupby(['Demand point','Year'])['srad'].mean())\n",
    "bau1['wind'] = (bau.groupby(['Demand point','Year'])['wind'].mean())\n",
    "bau1['cap_m(MW)'] = (bau.groupby(['Demand point','Year'])['cap_m(MW)'].mean())\n",
    "bau1['cap_a(MW)'] = (bau.groupby(['Demand point','Year'])['cap_m(MW)'].max())\n",
    "bau1['pv_cc'] = (bau.groupby(['Demand point','Year'])['pv_cc'].mean())\n"
   ]
  },
  {
   "cell_type": "code",
   "execution_count": 50,
   "metadata": {},
   "outputs": [],
   "source": [
    "bau1.reset_index(inplace=True)\n",
    "bau1.loc[bau1['Year']==2020, 'PV_new_cap(MW)'] = bau1['cap_a(MW)']\n",
    "bau1.loc[bau1['Year']!=2020, 'PV_new_cap(MW)'] = bau1['cap_a(MW)'] - bau1['cap_a(MW)'].shift(1)\n",
    "bau1.loc[bau1['PV_new_cap(MW)']<0, 'PV_new_cap(MW)'] =0\n",
    "bau1['reinv_cap(MW)'] = bau1['cap_a(MW)'].shift(pv_life).fillna(0)\n",
    "bau1['PV_Capex(mMAD)']=(bau1['PV_new_cap(MW)']+bau1['reinv_cap(MW)'])*bau1['pv_cc']\n",
    "bau1['PV_Opex(mMAD)']=(bau1['PV_Capex(mMAD)']*om_cost)"
   ]
  },
  {
   "cell_type": "code",
   "execution_count": null,
   "metadata": {},
   "outputs": [],
   "source": []
  },
  {
   "cell_type": "code",
   "execution_count": 51,
   "metadata": {},
   "outputs": [],
   "source": [
    "bau1_summary = bau1.groupby(['Year'])[['water_demand(m3)','energy_demand(KWh)', 'pv_elec(KWh)', 'grid_elec(KWh)','butane_cons(tonnes)', 'butane_FARcost(mMAD)','PV_new_cap(MW)', 'butane_emissions(MtCO2)','grid_emissions(MtCO2)','Total_emissions(MtCO2)','butane_SUBSIDY(mMAD)','grid_cost(mMAD)','PV_Capex(mMAD)']].sum()"
   ]
  },
  {
   "cell_type": "code",
   "execution_count": 52,
   "metadata": {},
   "outputs": [
    {
     "data": {
      "text/html": [
       "<div>\n",
       "<style scoped>\n",
       "    .dataframe tbody tr th:only-of-type {\n",
       "        vertical-align: middle;\n",
       "    }\n",
       "\n",
       "    .dataframe tbody tr th {\n",
       "        vertical-align: top;\n",
       "    }\n",
       "\n",
       "    .dataframe thead th {\n",
       "        text-align: right;\n",
       "    }\n",
       "</style>\n",
       "<table border=\"1\" class=\"dataframe\">\n",
       "  <thead>\n",
       "    <tr style=\"text-align: right;\">\n",
       "      <th></th>\n",
       "      <th>water_demand(m3)</th>\n",
       "      <th>energy_demand(KWh)</th>\n",
       "      <th>pv_elec(KWh)</th>\n",
       "      <th>grid_elec(KWh)</th>\n",
       "      <th>butane_cons(tonnes)</th>\n",
       "      <th>butane_FARcost(mMAD)</th>\n",
       "      <th>PV_new_cap(MW)</th>\n",
       "      <th>butane_emissions(MtCO2)</th>\n",
       "      <th>grid_emissions(MtCO2)</th>\n",
       "      <th>Total_emissions(MtCO2)</th>\n",
       "      <th>butane_SUBSIDY(mMAD)</th>\n",
       "      <th>grid_cost(mMAD)</th>\n",
       "      <th>PV_Capex(mMAD)</th>\n",
       "    </tr>\n",
       "    <tr>\n",
       "      <th>Year</th>\n",
       "      <th></th>\n",
       "      <th></th>\n",
       "      <th></th>\n",
       "      <th></th>\n",
       "      <th></th>\n",
       "      <th></th>\n",
       "      <th></th>\n",
       "      <th></th>\n",
       "      <th></th>\n",
       "      <th></th>\n",
       "      <th></th>\n",
       "      <th></th>\n",
       "      <th></th>\n",
       "    </tr>\n",
       "  </thead>\n",
       "  <tbody>\n",
       "    <tr>\n",
       "      <th>2020</th>\n",
       "      <td>7.479313e+08</td>\n",
       "      <td>3.503796e+08</td>\n",
       "      <td>7.786213e+07</td>\n",
       "      <td>5.450349e+08</td>\n",
       "      <td>27852.112070</td>\n",
       "      <td>92.840374</td>\n",
       "      <td>93.592417</td>\n",
       "      <td>0.005899</td>\n",
       "      <td>0.957626</td>\n",
       "      <td>0.963525</td>\n",
       "      <td>185.680747</td>\n",
       "      <td>54503.488643</td>\n",
       "      <td>1436.212053</td>\n",
       "    </tr>\n",
       "    <tr>\n",
       "      <th>2021</th>\n",
       "      <td>7.118628e+08</td>\n",
       "      <td>4.118799e+08</td>\n",
       "      <td>9.152887e+07</td>\n",
       "      <td>6.407021e+08</td>\n",
       "      <td>32740.852396</td>\n",
       "      <td>109.136175</td>\n",
       "      <td>0.080980</td>\n",
       "      <td>0.006935</td>\n",
       "      <td>1.125714</td>\n",
       "      <td>1.132648</td>\n",
       "      <td>218.272349</td>\n",
       "      <td>64070.210266</td>\n",
       "      <td>782.865444</td>\n",
       "    </tr>\n",
       "    <tr>\n",
       "      <th>2022</th>\n",
       "      <td>7.201413e+08</td>\n",
       "      <td>4.009355e+08</td>\n",
       "      <td>8.909678e+07</td>\n",
       "      <td>6.236774e+08</td>\n",
       "      <td>31870.865706</td>\n",
       "      <td>106.236219</td>\n",
       "      <td>14.638226</td>\n",
       "      <td>0.006750</td>\n",
       "      <td>1.095801</td>\n",
       "      <td>1.102551</td>\n",
       "      <td>212.472438</td>\n",
       "      <td>62367.742979</td>\n",
       "      <td>898.672770</td>\n",
       "    </tr>\n",
       "    <tr>\n",
       "      <th>2023</th>\n",
       "      <td>6.442514e+08</td>\n",
       "      <td>4.298114e+08</td>\n",
       "      <td>9.551365e+07</td>\n",
       "      <td>6.685955e+08</td>\n",
       "      <td>34166.249796</td>\n",
       "      <td>113.887499</td>\n",
       "      <td>0.075571</td>\n",
       "      <td>0.007236</td>\n",
       "      <td>1.174722</td>\n",
       "      <td>1.181959</td>\n",
       "      <td>227.774999</td>\n",
       "      <td>66859.554601</td>\n",
       "      <td>795.010274</td>\n",
       "    </tr>\n",
       "    <tr>\n",
       "      <th>2024</th>\n",
       "      <td>6.610189e+08</td>\n",
       "      <td>4.181049e+08</td>\n",
       "      <td>9.291220e+07</td>\n",
       "      <td>6.503854e+08</td>\n",
       "      <td>33235.684045</td>\n",
       "      <td>110.785613</td>\n",
       "      <td>1.887994</td>\n",
       "      <td>0.007039</td>\n",
       "      <td>1.142727</td>\n",
       "      <td>1.149766</td>\n",
       "      <td>221.571227</td>\n",
       "      <td>65038.540823</td>\n",
       "      <td>609.778120</td>\n",
       "    </tr>\n",
       "  </tbody>\n",
       "</table>\n",
       "</div>"
      ],
      "text/plain": [
       "      water_demand(m3)  energy_demand(KWh)  pv_elec(KWh)  grid_elec(KWh)  \\\n",
       "Year                                                                       \n",
       "2020      7.479313e+08        3.503796e+08  7.786213e+07    5.450349e+08   \n",
       "2021      7.118628e+08        4.118799e+08  9.152887e+07    6.407021e+08   \n",
       "2022      7.201413e+08        4.009355e+08  8.909678e+07    6.236774e+08   \n",
       "2023      6.442514e+08        4.298114e+08  9.551365e+07    6.685955e+08   \n",
       "2024      6.610189e+08        4.181049e+08  9.291220e+07    6.503854e+08   \n",
       "\n",
       "      butane_cons(tonnes)  butane_FARcost(mMAD)  PV_new_cap(MW)  \\\n",
       "Year                                                              \n",
       "2020         27852.112070             92.840374       93.592417   \n",
       "2021         32740.852396            109.136175        0.080980   \n",
       "2022         31870.865706            106.236219       14.638226   \n",
       "2023         34166.249796            113.887499        0.075571   \n",
       "2024         33235.684045            110.785613        1.887994   \n",
       "\n",
       "      butane_emissions(MtCO2)  grid_emissions(MtCO2)  Total_emissions(MtCO2)  \\\n",
       "Year                                                                           \n",
       "2020                 0.005899               0.957626                0.963525   \n",
       "2021                 0.006935               1.125714                1.132648   \n",
       "2022                 0.006750               1.095801                1.102551   \n",
       "2023                 0.007236               1.174722                1.181959   \n",
       "2024                 0.007039               1.142727                1.149766   \n",
       "\n",
       "      butane_SUBSIDY(mMAD)  grid_cost(mMAD)  PV_Capex(mMAD)  \n",
       "Year                                                         \n",
       "2020            185.680747     54503.488643     1436.212053  \n",
       "2021            218.272349     64070.210266      782.865444  \n",
       "2022            212.472438     62367.742979      898.672770  \n",
       "2023            227.774999     66859.554601      795.010274  \n",
       "2024            221.571227     65038.540823      609.778120  "
      ]
     },
     "execution_count": 52,
     "metadata": {},
     "output_type": "execute_result"
    }
   ],
   "source": [
    "bau1_summary.head()"
   ]
  },
  {
   "cell_type": "markdown",
   "metadata": {},
   "source": [
    "## Phaseout scenarios"
   ]
  },
  {
   "cell_type": "code",
   "execution_count": 21,
   "metadata": {},
   "outputs": [],
   "source": [
    "df2=df3=cropland.copy()"
   ]
  },
  {
   "cell_type": "markdown",
   "metadata": {},
   "source": [
    "### Step 1: Technologies distribution calculations"
   ]
  },
  {
   "cell_type": "code",
   "execution_count": 22,
   "metadata": {},
   "outputs": [],
   "source": [
    "#This function can be moved to the nexus tool later:\n",
    "\n",
    "def create_tech_dist(iyear, eyear, share1, rates, method, order=2):\n",
    "    tech_dist = pd.DataFrame({'Year': range(iyear, eyear+1)})\n",
    "    if method!='step':\n",
    "        for year, rate in rates.items():\n",
    "            tech_dist.loc[tech_dist.Year==year, 'rate'] = rate\n",
    "        tech_dist['share'] = (1-tech_dist['rate']) * share1\n",
    "        tech_dist['share'] = tech_dist.share.interpolate(method=method, order=order)\n",
    "    else:\n",
    "        for year, rate in rates.items():\n",
    "            tech_dist.loc[tech_dist.Year>=year, 'rate'] = rate\n",
    "        tech_dist['share'] = (1-tech_dist['rate']) * share1\n",
    "    return tech_dist.set_index('Year').share"
   ]
  },
  {
   "cell_type": "code",
   "execution_count": 23,
   "metadata": {},
   "outputs": [],
   "source": [
    "pv_change = [-0.8] #the negative sign means increase\n",
    "butane_change = [1]\n",
    "for pv_share in pv_change:\n",
    "    for butane_share in butane_change:\n",
    "        pv_share1 = 0.1\n",
    "        butane_share1 = 0.2\n",
    "        df2.start_year = 2020\n",
    "        df2.end_year = 2030\n",
    "        bt_rates = {2020: 0, 2025: butane_share*0.5, 2030: butane_share}\n",
    "        pv_rates = {2020: 0, 2030: pv_share*0.5, 2040: pv_share*0.2, 2050: pv_share}\n",
    "        butane_dist = create_tech_dist(df.start_year, df.end_year, butane_share1, bt_rates, 'polynomial')\n",
    "        pv_dist = create_tech_dist(df.start_year, df.end_year, pv_share1, pv_rates, 'polynomial')\n",
    "        \n",
    "        "
   ]
  },
  {
   "cell_type": "code",
   "execution_count": 24,
   "metadata": {},
   "outputs": [],
   "source": [
    "def create_learning_curve(iyear, eyear, cc, rates, method, order=2):\n",
    "    learning_curve = pd.DataFrame({'Year': range(iyear, eyear+1)})\n",
    "    if method!='step':\n",
    "        for year, rate in rates.items():\n",
    "            learning_curve.loc[learning_curve.Year==year, 'rate'] = rate\n",
    "        learning_curve['capital_cost'] = (1-learning_curve['rate']) * cc\n",
    "        learning_curve['capital_cost'] = learning_curve.capital_cost.interpolate(method=method, order=order)\n",
    "    else:\n",
    "        for year, rate in rates.items():\n",
    "            learning_curve.loc[learning_curve.Year>=year, 'rate'] = rate\n",
    "        learning_curve['capital_cost'] = (1-learning_curve['rate']) * cc\n",
    "    return learning_curve.set_index('Year').capital_cost"
   ]
  },
  {
   "cell_type": "code",
   "execution_count": 25,
   "metadata": {},
   "outputs": [],
   "source": [
    "pv_rate = 0.3\n",
    "cc = 1000\n",
    "pv_cf = 0.25\n",
    "df3.start_year=2020\n",
    "df3.end_year=2050\n",
    "#capital_cost = 1000\n",
    "rates = {2020: 0, 2030: pv_rate*0.3, 2040: pv_rate, 2050: pv_rate*1.3}\n",
    "cc_solar_curve = create_learning_curve(df3.start_year, df3.end_year, cc, rates, 'polynomial')\n",
    "om_cost=0.01 \n",
    "efficiency=1"
   ]
  },
  {
   "cell_type": "code",
   "execution_count": null,
   "metadata": {},
   "outputs": [],
   "source": []
  },
  {
   "cell_type": "code",
   "execution_count": 26,
   "metadata": {},
   "outputs": [
    {
     "data": {
      "text/html": [
       "<div>\n",
       "<style scoped>\n",
       "    .dataframe tbody tr th:only-of-type {\n",
       "        vertical-align: middle;\n",
       "    }\n",
       "\n",
       "    .dataframe tbody tr th {\n",
       "        vertical-align: top;\n",
       "    }\n",
       "\n",
       "    .dataframe thead th {\n",
       "        text-align: right;\n",
       "    }\n",
       "</style>\n",
       "<table border=\"1\" class=\"dataframe\">\n",
       "  <thead>\n",
       "    <tr style=\"text-align: right;\">\n",
       "      <th></th>\n",
       "      <th>Year</th>\n",
       "      <th>butane_share</th>\n",
       "      <th>pv_share</th>\n",
       "      <th>pv_cc</th>\n",
       "      <th>grid_share</th>\n",
       "    </tr>\n",
       "  </thead>\n",
       "  <tbody>\n",
       "    <tr>\n",
       "      <th>0</th>\n",
       "      <td>2020</td>\n",
       "      <td>0.20</td>\n",
       "      <td>0.100000</td>\n",
       "      <td>1000.0</td>\n",
       "      <td>0.700000</td>\n",
       "    </tr>\n",
       "    <tr>\n",
       "      <th>1</th>\n",
       "      <td>2021</td>\n",
       "      <td>0.18</td>\n",
       "      <td>0.108020</td>\n",
       "      <td>998.2</td>\n",
       "      <td>0.711980</td>\n",
       "    </tr>\n",
       "    <tr>\n",
       "      <th>2</th>\n",
       "      <td>2022</td>\n",
       "      <td>0.16</td>\n",
       "      <td>0.115147</td>\n",
       "      <td>994.8</td>\n",
       "      <td>0.724853</td>\n",
       "    </tr>\n",
       "    <tr>\n",
       "      <th>3</th>\n",
       "      <td>2023</td>\n",
       "      <td>0.14</td>\n",
       "      <td>0.121380</td>\n",
       "      <td>989.8</td>\n",
       "      <td>0.738620</td>\n",
       "    </tr>\n",
       "    <tr>\n",
       "      <th>4</th>\n",
       "      <td>2024</td>\n",
       "      <td>0.12</td>\n",
       "      <td>0.126720</td>\n",
       "      <td>983.2</td>\n",
       "      <td>0.753280</td>\n",
       "    </tr>\n",
       "    <tr>\n",
       "      <th>5</th>\n",
       "      <td>2025</td>\n",
       "      <td>0.10</td>\n",
       "      <td>0.131167</td>\n",
       "      <td>975.0</td>\n",
       "      <td>0.768833</td>\n",
       "    </tr>\n",
       "    <tr>\n",
       "      <th>6</th>\n",
       "      <td>2026</td>\n",
       "      <td>0.08</td>\n",
       "      <td>0.134720</td>\n",
       "      <td>965.2</td>\n",
       "      <td>0.785280</td>\n",
       "    </tr>\n",
       "    <tr>\n",
       "      <th>7</th>\n",
       "      <td>2027</td>\n",
       "      <td>0.06</td>\n",
       "      <td>0.137380</td>\n",
       "      <td>953.8</td>\n",
       "      <td>0.802620</td>\n",
       "    </tr>\n",
       "    <tr>\n",
       "      <th>8</th>\n",
       "      <td>2028</td>\n",
       "      <td>0.04</td>\n",
       "      <td>0.139147</td>\n",
       "      <td>940.8</td>\n",
       "      <td>0.820853</td>\n",
       "    </tr>\n",
       "    <tr>\n",
       "      <th>9</th>\n",
       "      <td>2029</td>\n",
       "      <td>0.02</td>\n",
       "      <td>0.140020</td>\n",
       "      <td>926.2</td>\n",
       "      <td>0.839980</td>\n",
       "    </tr>\n",
       "    <tr>\n",
       "      <th>10</th>\n",
       "      <td>2030</td>\n",
       "      <td>0.00</td>\n",
       "      <td>0.140000</td>\n",
       "      <td>910.0</td>\n",
       "      <td>0.860000</td>\n",
       "    </tr>\n",
       "    <tr>\n",
       "      <th>11</th>\n",
       "      <td>2031</td>\n",
       "      <td>0.00</td>\n",
       "      <td>0.139087</td>\n",
       "      <td>892.2</td>\n",
       "      <td>0.860913</td>\n",
       "    </tr>\n",
       "    <tr>\n",
       "      <th>12</th>\n",
       "      <td>2032</td>\n",
       "      <td>0.00</td>\n",
       "      <td>0.137280</td>\n",
       "      <td>872.8</td>\n",
       "      <td>0.862720</td>\n",
       "    </tr>\n",
       "    <tr>\n",
       "      <th>13</th>\n",
       "      <td>2033</td>\n",
       "      <td>0.00</td>\n",
       "      <td>0.134580</td>\n",
       "      <td>851.8</td>\n",
       "      <td>0.865420</td>\n",
       "    </tr>\n",
       "    <tr>\n",
       "      <th>14</th>\n",
       "      <td>2034</td>\n",
       "      <td>0.00</td>\n",
       "      <td>0.130987</td>\n",
       "      <td>829.2</td>\n",
       "      <td>0.869013</td>\n",
       "    </tr>\n",
       "    <tr>\n",
       "      <th>15</th>\n",
       "      <td>2035</td>\n",
       "      <td>0.00</td>\n",
       "      <td>0.126500</td>\n",
       "      <td>805.0</td>\n",
       "      <td>0.873500</td>\n",
       "    </tr>\n",
       "    <tr>\n",
       "      <th>16</th>\n",
       "      <td>2036</td>\n",
       "      <td>0.00</td>\n",
       "      <td>0.122133</td>\n",
       "      <td>780.8</td>\n",
       "      <td>0.877867</td>\n",
       "    </tr>\n",
       "    <tr>\n",
       "      <th>17</th>\n",
       "      <td>2037</td>\n",
       "      <td>0.00</td>\n",
       "      <td>0.118900</td>\n",
       "      <td>758.2</td>\n",
       "      <td>0.881100</td>\n",
       "    </tr>\n",
       "    <tr>\n",
       "      <th>18</th>\n",
       "      <td>2038</td>\n",
       "      <td>0.00</td>\n",
       "      <td>0.116800</td>\n",
       "      <td>737.2</td>\n",
       "      <td>0.883200</td>\n",
       "    </tr>\n",
       "    <tr>\n",
       "      <th>19</th>\n",
       "      <td>2039</td>\n",
       "      <td>0.00</td>\n",
       "      <td>0.115833</td>\n",
       "      <td>717.8</td>\n",
       "      <td>0.884167</td>\n",
       "    </tr>\n",
       "    <tr>\n",
       "      <th>20</th>\n",
       "      <td>2040</td>\n",
       "      <td>0.00</td>\n",
       "      <td>0.116000</td>\n",
       "      <td>700.0</td>\n",
       "      <td>0.884000</td>\n",
       "    </tr>\n",
       "    <tr>\n",
       "      <th>21</th>\n",
       "      <td>2041</td>\n",
       "      <td>0.00</td>\n",
       "      <td>0.117300</td>\n",
       "      <td>683.8</td>\n",
       "      <td>0.882700</td>\n",
       "    </tr>\n",
       "    <tr>\n",
       "      <th>22</th>\n",
       "      <td>2042</td>\n",
       "      <td>0.00</td>\n",
       "      <td>0.119733</td>\n",
       "      <td>669.2</td>\n",
       "      <td>0.880267</td>\n",
       "    </tr>\n",
       "    <tr>\n",
       "      <th>23</th>\n",
       "      <td>2043</td>\n",
       "      <td>0.00</td>\n",
       "      <td>0.123300</td>\n",
       "      <td>656.2</td>\n",
       "      <td>0.876700</td>\n",
       "    </tr>\n",
       "    <tr>\n",
       "      <th>24</th>\n",
       "      <td>2044</td>\n",
       "      <td>0.00</td>\n",
       "      <td>0.128000</td>\n",
       "      <td>644.8</td>\n",
       "      <td>0.872000</td>\n",
       "    </tr>\n",
       "    <tr>\n",
       "      <th>25</th>\n",
       "      <td>2045</td>\n",
       "      <td>0.00</td>\n",
       "      <td>0.133833</td>\n",
       "      <td>635.0</td>\n",
       "      <td>0.866167</td>\n",
       "    </tr>\n",
       "    <tr>\n",
       "      <th>26</th>\n",
       "      <td>2046</td>\n",
       "      <td>0.00</td>\n",
       "      <td>0.140800</td>\n",
       "      <td>626.8</td>\n",
       "      <td>0.859200</td>\n",
       "    </tr>\n",
       "    <tr>\n",
       "      <th>27</th>\n",
       "      <td>2047</td>\n",
       "      <td>0.00</td>\n",
       "      <td>0.148900</td>\n",
       "      <td>620.2</td>\n",
       "      <td>0.851100</td>\n",
       "    </tr>\n",
       "    <tr>\n",
       "      <th>28</th>\n",
       "      <td>2048</td>\n",
       "      <td>0.00</td>\n",
       "      <td>0.158133</td>\n",
       "      <td>615.2</td>\n",
       "      <td>0.841867</td>\n",
       "    </tr>\n",
       "    <tr>\n",
       "      <th>29</th>\n",
       "      <td>2049</td>\n",
       "      <td>0.00</td>\n",
       "      <td>0.168500</td>\n",
       "      <td>611.8</td>\n",
       "      <td>0.831500</td>\n",
       "    </tr>\n",
       "    <tr>\n",
       "      <th>30</th>\n",
       "      <td>2050</td>\n",
       "      <td>0.00</td>\n",
       "      <td>0.180000</td>\n",
       "      <td>610.0</td>\n",
       "      <td>0.820000</td>\n",
       "    </tr>\n",
       "  </tbody>\n",
       "</table>\n",
       "</div>"
      ],
      "text/plain": [
       "    Year  butane_share  pv_share   pv_cc  grid_share\n",
       "0   2020          0.20  0.100000  1000.0    0.700000\n",
       "1   2021          0.18  0.108020   998.2    0.711980\n",
       "2   2022          0.16  0.115147   994.8    0.724853\n",
       "3   2023          0.14  0.121380   989.8    0.738620\n",
       "4   2024          0.12  0.126720   983.2    0.753280\n",
       "5   2025          0.10  0.131167   975.0    0.768833\n",
       "6   2026          0.08  0.134720   965.2    0.785280\n",
       "7   2027          0.06  0.137380   953.8    0.802620\n",
       "8   2028          0.04  0.139147   940.8    0.820853\n",
       "9   2029          0.02  0.140020   926.2    0.839980\n",
       "10  2030          0.00  0.140000   910.0    0.860000\n",
       "11  2031          0.00  0.139087   892.2    0.860913\n",
       "12  2032          0.00  0.137280   872.8    0.862720\n",
       "13  2033          0.00  0.134580   851.8    0.865420\n",
       "14  2034          0.00  0.130987   829.2    0.869013\n",
       "15  2035          0.00  0.126500   805.0    0.873500\n",
       "16  2036          0.00  0.122133   780.8    0.877867\n",
       "17  2037          0.00  0.118900   758.2    0.881100\n",
       "18  2038          0.00  0.116800   737.2    0.883200\n",
       "19  2039          0.00  0.115833   717.8    0.884167\n",
       "20  2040          0.00  0.116000   700.0    0.884000\n",
       "21  2041          0.00  0.117300   683.8    0.882700\n",
       "22  2042          0.00  0.119733   669.2    0.880267\n",
       "23  2043          0.00  0.123300   656.2    0.876700\n",
       "24  2044          0.00  0.128000   644.8    0.872000\n",
       "25  2045          0.00  0.133833   635.0    0.866167\n",
       "26  2046          0.00  0.140800   626.8    0.859200\n",
       "27  2047          0.00  0.148900   620.2    0.851100\n",
       "28  2048          0.00  0.158133   615.2    0.841867\n",
       "29  2049          0.00  0.168500   611.8    0.831500\n",
       "30  2050          0.00  0.180000   610.0    0.820000"
      ]
     },
     "execution_count": 26,
     "metadata": {},
     "output_type": "execute_result"
    }
   ],
   "source": [
    "dist = pd.DataFrame({'butane_share':pd.Series(butane_dist),\n",
    "                   'pv_share':pd.Series(pv_dist),\n",
    "                   'pv_cc':pd.Series(cc_solar_curve)})\n",
    "\n",
    "dist.reset_index(inplace=True)\n",
    "\n",
    "dist['butane_share'].fillna(method='ffill',inplace=True)\n",
    "dist['grid_share']= 1-(dist['pv_share']+dist['butane_share'])\n",
    "\n",
    "dist\n"
   ]
  },
  {
   "cell_type": "code",
   "execution_count": 152,
   "metadata": {},
   "outputs": [],
   "source": []
  },
  {
   "cell_type": "code",
   "execution_count": 55,
   "metadata": {},
   "outputs": [],
   "source": [
    "scenario1 = pd.merge(cropland, dist, on='Year')"
   ]
  },
  {
   "cell_type": "code",
   "execution_count": 56,
   "metadata": {},
   "outputs": [
    {
     "data": {
      "text/plain": [
       "369589.2480000002"
      ]
     },
     "execution_count": 56,
     "metadata": {},
     "output_type": "execute_result"
    }
   ],
   "source": [
    "scenario1['pv_share'].sum()"
   ]
  },
  {
   "cell_type": "code",
   "execution_count": 57,
   "metadata": {},
   "outputs": [
    {
     "data": {
      "text/plain": [
       "2108815.872000002"
      ]
     },
     "execution_count": 57,
     "metadata": {},
     "output_type": "execute_result"
    }
   ],
   "source": [
    "scenario1['grid_share'].sum()"
   ]
  },
  {
   "cell_type": "code",
   "execution_count": 58,
   "metadata": {},
   "outputs": [],
   "source": [
    "threshold = 100\n",
    "#mylist = scenario1[scenario1['wtd'] > threshold]['']\n",
    "scenario1.loc[scenario1['wtd']>threshold, 'pv_share'] =0\n",
    "scenario1['grid_share'] = (1-(scenario1['butane_share']+scenario1['pv_share']))\n"
   ]
  },
  {
   "cell_type": "code",
   "execution_count": 59,
   "metadata": {},
   "outputs": [
    {
     "data": {
      "text/plain": [
       "188452.01760000002"
      ]
     },
     "execution_count": 59,
     "metadata": {},
     "output_type": "execute_result"
    }
   ],
   "source": [
    "scenario1['pv_share'].sum()"
   ]
  },
  {
   "cell_type": "code",
   "execution_count": 60,
   "metadata": {},
   "outputs": [
    {
     "data": {
      "text/plain": [
       "2289953.1024000016"
      ]
     },
     "execution_count": 60,
     "metadata": {},
     "output_type": "execute_result"
    }
   ],
   "source": [
    "scenario1['grid_share'].sum()"
   ]
  },
  {
   "cell_type": "markdown",
   "metadata": {},
   "source": [
    "### Step 2: Butane calculations"
   ]
  },
  {
   "cell_type": "code",
   "execution_count": 61,
   "metadata": {},
   "outputs": [],
   "source": [
    "butane_req = 1/12.58 # LHV = 12.58 KWh/Kg (amount of butane (kg) required to produce 1 KWh) \n",
    "bpump_eff = 0.2 #efficiency of butane \n",
    "epump_eff = 0.45 #assumption\n",
    "\n",
    "\n",
    "scenario1['butane_demand_kwh'] = scenario1['energy_demand']*scenario1['butane_share']\n",
    "scenario1['butane_cons (kg)'] = (scenario1['butane_demand_kwh']*butane_req)/bpump_eff\n",
    "scenario1['butane_cons (tonnes)'] = scenario1['butane_cons (kg)']/1000\n",
    "\n",
    "scenario1['butane_FARcost (mMAD)'] = (scenario1['butane_cons (kg)']*(40/12))/1000000 #in million MAD, this is what farmers pay\n",
    "scenario1['butane_ACTcost (mMAD)'] = (scenario1['butane_cons (kg)']*(120/12))/1000000 #in million MAD, this is what farmers pay\n",
    "scenario1['butane_SUBSIDY (mMAD)'] = (scenario1['butane_cons (kg)']*(80/12))/1000000 #in million MAD, this is the total subsidy cost"
   ]
  },
  {
   "cell_type": "markdown",
   "metadata": {},
   "source": [
    "### Step 3: Grid calculations"
   ]
  },
  {
   "cell_type": "code",
   "execution_count": 62,
   "metadata": {},
   "outputs": [],
   "source": [
    "# Estimating the electriicty from the grid and emissions\n",
    "grid_em_fac = 1.757 #kgco2/kwh  , This is based on data from IEA, Morocco 2019 \n",
    "grid_cost =100 # MAD/KWh, Assumption and to be updated \n",
    "epump_eff = 0.45 #assumption\n",
    "\n",
    "scenario1['grid_demand_kwh'] = scenario1['energy_demand']*scenario1['grid_share']\n",
    "scenario1['grid_elec (kwh)'] = scenario1['grid_demand_kwh']/epump_eff\n",
    "\n",
    "\n",
    "scenario1['grid_emissions'] = scenario1['grid_elec (kwh)']*grid_em_fac\n",
    "scenario1['grid_cost_mMAD'] = (scenario1['grid_elec (kwh)']*grid_cost)/1000000"
   ]
  },
  {
   "cell_type": "code",
   "execution_count": 63,
   "metadata": {},
   "outputs": [
    {
     "data": {
      "text/plain": [
       "13193.734697229458"
      ]
     },
     "execution_count": 63,
     "metadata": {},
     "output_type": "execute_result"
    }
   ],
   "source": [
    "scenario1['energy_demand'].sum()/1000000"
   ]
  },
  {
   "cell_type": "code",
   "execution_count": null,
   "metadata": {},
   "outputs": [],
   "source": []
  },
  {
   "cell_type": "markdown",
   "metadata": {},
   "source": [
    "### Step 4: Solar PV calculations"
   ]
  },
  {
   "cell_type": "code",
   "execution_count": 102,
   "metadata": {},
   "outputs": [],
   "source": []
  },
  {
   "cell_type": "code",
   "execution_count": 67,
   "metadata": {},
   "outputs": [],
   "source": [
    "scenario1['pv_demand_kwh'] = scenario1['energy_demand']*scenario1['pv_share']\n",
    "scenario1['pv_elec (kwh)'] = scenario1['pv_demand_kwh']/epump_eff"
   ]
  },
  {
   "cell_type": "code",
   "execution_count": 68,
   "metadata": {},
   "outputs": [],
   "source": [
    "# Estimating the required monthly capacity of pv NOTE: 1 kWh = 3600 kJ and 1 day=24 hours\n",
    "# Solar radiation GIS layer was obtained from WorldClim which gives srad in (kJ/m2.day). \n",
    "# To calculate the capacity factor, we will need to convert this to (KWh/m2.hr)\n",
    "\n",
    "scenario1['cf'] = scenario1['srad'] / (24*3600) #This will give the cf in (KWh/m2.hr) or (KW/m2)\n",
    "scenario1['cap_m'] = scenario1['pv_elec (kwh)'] / scenario1['cf']/1000   #to convert to MWh, check the units\n"
   ]
  },
  {
   "cell_type": "code",
   "execution_count": 70,
   "metadata": {},
   "outputs": [],
   "source": [
    "dfs1 = scenario1.groupby(['Demand point','Year'])[['water_demand','energy_demand', 'pv_elec (kwh)', 'grid_elec (kwh)','butane_cons (tonnes)', 'butane_FARcost (mMAD)', 'butane_ACTcost (mMAD)','butane_SUBSIDY (mMAD)','grid_emissions','grid_cost_mMAD']].sum()\n",
    "\n",
    "dfs1['GWdepth'] = (scenario1.groupby(['Demand point','Year'])['wtd'].mean())\n",
    "dfs1['srad'] = (scenario1.groupby(['Demand point','Year'])['srad'].mean())\n",
    "dfs1['wind'] = (scenario1.groupby(['Demand point','Year'])['wind'].mean())\n",
    "dfs1['cap_m'] = (scenario1.groupby(['Demand point','Year'])['cap_m'].mean())\n",
    "dfs1['cap_a'] = (scenario1.groupby(['Demand point','Year'])['cap_m'].max())\n",
    "dfs1['pv_cc'] = (scenario1.groupby(['Demand point','Year'])['pv_cc'].mean())\n",
    "dfs1['pv_capex']=dfs1['cap_a']*dfs1['pv_cc']\n",
    "dfs1['pv_opex']=dfs1['pv_capex']*om_cost\n"
   ]
  },
  {
   "cell_type": "code",
   "execution_count": 73,
   "metadata": {},
   "outputs": [],
   "source": [
    "dfs1.reset_index(inplace=True)\n",
    "dfs1.loc[dfs1['Year']==2020, 'new_cap'] = dfs1['cap_a']\n",
    "dfs1.loc[dfs1['Year']!=2020, 'new_cap'] = dfs1['cap_a'] - dfs1['cap_a'].shift(1)\n",
    "dfs1.loc[dfs1['new_cap']<0, 'new_cap'] =0"
   ]
  },
  {
   "cell_type": "code",
   "execution_count": 75,
   "metadata": {},
   "outputs": [],
   "source": [
    "dfs1['reinv_cap'] = dfs1['cap_a'].shift(pv_life).fillna(0)\n",
    "dfs1['pv_capex']=(dfs1['new_cap']+dfs1['reinv_cap'])*dfs1['pv_cc']"
   ]
  },
  {
   "cell_type": "code",
   "execution_count": 77,
   "metadata": {},
   "outputs": [],
   "source": [
    "scenario1_summary = dfs1.groupby(['Year'])[['water_demand','energy_demand','butane_cons (tonnes)', 'butane_FARcost (mMAD)', 'butane_ACTcost (mMAD)','butane_SUBSIDY (mMAD)','pv_capex','pv_opex','grid_emissions','grid_cost_mMAD']].sum()"
   ]
  },
  {
   "cell_type": "code",
   "execution_count": 78,
   "metadata": {},
   "outputs": [
    {
     "data": {
      "text/html": [
       "<div>\n",
       "<style scoped>\n",
       "    .dataframe tbody tr th:only-of-type {\n",
       "        vertical-align: middle;\n",
       "    }\n",
       "\n",
       "    .dataframe tbody tr th {\n",
       "        vertical-align: top;\n",
       "    }\n",
       "\n",
       "    .dataframe thead th {\n",
       "        text-align: right;\n",
       "    }\n",
       "</style>\n",
       "<table border=\"1\" class=\"dataframe\">\n",
       "  <thead>\n",
       "    <tr style=\"text-align: right;\">\n",
       "      <th></th>\n",
       "      <th>water_demand</th>\n",
       "      <th>energy_demand</th>\n",
       "      <th>butane_cons (tonnes)</th>\n",
       "      <th>butane_FARcost (mMAD)</th>\n",
       "      <th>butane_ACTcost (mMAD)</th>\n",
       "      <th>butane_SUBSIDY (mMAD)</th>\n",
       "      <th>pv_capex</th>\n",
       "      <th>pv_opex</th>\n",
       "      <th>grid_emissions</th>\n",
       "      <th>grid_cost_mMAD</th>\n",
       "    </tr>\n",
       "    <tr>\n",
       "      <th>Year</th>\n",
       "      <th></th>\n",
       "      <th></th>\n",
       "      <th></th>\n",
       "      <th></th>\n",
       "      <th></th>\n",
       "      <th></th>\n",
       "      <th></th>\n",
       "      <th></th>\n",
       "      <th></th>\n",
       "      <th></th>\n",
       "    </tr>\n",
       "  </thead>\n",
       "  <tbody>\n",
       "    <tr>\n",
       "      <th>2020</th>\n",
       "      <td>7.479313e+08</td>\n",
       "      <td>3.503796e+08</td>\n",
       "      <td>27852.112070</td>\n",
       "      <td>92.840374</td>\n",
       "      <td>278.521121</td>\n",
       "      <td>185.680747</td>\n",
       "      <td>5.433053e+07</td>\n",
       "      <td>221099.499979</td>\n",
       "      <td>1.044838e+09</td>\n",
       "      <td>59467.161217</td>\n",
       "    </tr>\n",
       "    <tr>\n",
       "      <th>2021</th>\n",
       "      <td>7.118628e+08</td>\n",
       "      <td>4.118799e+08</td>\n",
       "      <td>29458.581943</td>\n",
       "      <td>98.195273</td>\n",
       "      <td>294.585819</td>\n",
       "      <td>196.390546</td>\n",
       "      <td>3.170230e+07</td>\n",
       "      <td>206902.804774</td>\n",
       "      <td>1.256252e+09</td>\n",
       "      <td>71499.807670</td>\n",
       "    </tr>\n",
       "    <tr>\n",
       "      <th>2022</th>\n",
       "      <td>7.201413e+08</td>\n",
       "      <td>4.009355e+08</td>\n",
       "      <td>25836.648466</td>\n",
       "      <td>86.122162</td>\n",
       "      <td>258.366485</td>\n",
       "      <td>172.244323</td>\n",
       "      <td>3.650397e+07</td>\n",
       "      <td>257232.450748</td>\n",
       "      <td>1.246688e+09</td>\n",
       "      <td>70955.493474</td>\n",
       "    </tr>\n",
       "    <tr>\n",
       "      <th>2023</th>\n",
       "      <td>6.442514e+08</td>\n",
       "      <td>4.298114e+08</td>\n",
       "      <td>25035.319538</td>\n",
       "      <td>83.451065</td>\n",
       "      <td>250.353195</td>\n",
       "      <td>166.902130</td>\n",
       "      <td>3.131888e+07</td>\n",
       "      <td>219823.803140</td>\n",
       "      <td>1.359108e+09</td>\n",
       "      <td>77353.917348</td>\n",
       "    </tr>\n",
       "    <tr>\n",
       "      <th>2024</th>\n",
       "      <td>6.610189e+08</td>\n",
       "      <td>4.181049e+08</td>\n",
       "      <td>22134.965574</td>\n",
       "      <td>73.783219</td>\n",
       "      <td>221.349656</td>\n",
       "      <td>147.566437</td>\n",
       "      <td>2.557655e+07</td>\n",
       "      <td>233435.159601</td>\n",
       "      <td>1.340221e+09</td>\n",
       "      <td>76278.933548</td>\n",
       "    </tr>\n",
       "  </tbody>\n",
       "</table>\n",
       "</div>"
      ],
      "text/plain": [
       "      water_demand  energy_demand  butane_cons (tonnes)  \\\n",
       "Year                                                      \n",
       "2020  7.479313e+08   3.503796e+08          27852.112070   \n",
       "2021  7.118628e+08   4.118799e+08          29458.581943   \n",
       "2022  7.201413e+08   4.009355e+08          25836.648466   \n",
       "2023  6.442514e+08   4.298114e+08          25035.319538   \n",
       "2024  6.610189e+08   4.181049e+08          22134.965574   \n",
       "\n",
       "      butane_FARcost (mMAD)  butane_ACTcost (mMAD)  butane_SUBSIDY (mMAD)  \\\n",
       "Year                                                                        \n",
       "2020              92.840374             278.521121             185.680747   \n",
       "2021              98.195273             294.585819             196.390546   \n",
       "2022              86.122162             258.366485             172.244323   \n",
       "2023              83.451065             250.353195             166.902130   \n",
       "2024              73.783219             221.349656             147.566437   \n",
       "\n",
       "          pv_capex        pv_opex  grid_emissions  grid_cost_mMAD  \n",
       "Year                                                               \n",
       "2020  5.433053e+07  221099.499979    1.044838e+09    59467.161217  \n",
       "2021  3.170230e+07  206902.804774    1.256252e+09    71499.807670  \n",
       "2022  3.650397e+07  257232.450748    1.246688e+09    70955.493474  \n",
       "2023  3.131888e+07  219823.803140    1.359108e+09    77353.917348  \n",
       "2024  2.557655e+07  233435.159601    1.340221e+09    76278.933548  "
      ]
     },
     "execution_count": 78,
     "metadata": {},
     "output_type": "execute_result"
    }
   ],
   "source": [
    "scenario1_summary.head()"
   ]
  },
  {
   "cell_type": "code",
   "execution_count": null,
   "metadata": {},
   "outputs": [],
   "source": []
  },
  {
   "cell_type": "code",
   "execution_count": 80,
   "metadata": {},
   "outputs": [],
   "source": [
    "butane_subsidy_change = bau1_summary['butane_SUBSIDY (mMAD)'].sum() - scenario1_summary['butane_SUBSIDY (mMAD)'].sum()\n",
    "pv_investment_change = bau1_summary['pv_capex'].sum() - scenario1_summary['pv_capex'].sum()\n",
    "grid_emissions_change = bau1_summary['grid_emissions'].sum() - scenario1_summary['grid_emissions'].sum()"
   ]
  },
  {
   "cell_type": "code",
   "execution_count": 81,
   "metadata": {},
   "outputs": [
    {
     "data": {
      "text/plain": [
       "2735.2276136112014"
      ]
     },
     "execution_count": 81,
     "metadata": {},
     "output_type": "execute_result"
    }
   ],
   "source": [
    "butane_subsidy_change"
   ]
  },
  {
   "cell_type": "code",
   "execution_count": 82,
   "metadata": {},
   "outputs": [
    {
     "data": {
      "text/plain": [
       "938892459.6971364"
      ]
     },
     "execution_count": 82,
     "metadata": {},
     "output_type": "execute_result"
    }
   ],
   "source": [
    "pv_investment_change"
   ]
  },
  {
   "cell_type": "code",
   "execution_count": 83,
   "metadata": {},
   "outputs": [
    {
     "data": {
      "text/plain": [
       "-6723255823.795586"
      ]
     },
     "execution_count": 83,
     "metadata": {},
     "output_type": "execute_result"
    }
   ],
   "source": [
    "grid_emissions_change"
   ]
  },
  {
   "cell_type": "markdown",
   "metadata": {},
   "source": [
    "## This is how the summary table may look like\n",
    "\n",
    "\n",
    "summary = \n",
    "Year\n",
    "Province\n",
    "BAU:\n",
    "    *Butane cost\n",
    "    *PV cost\n",
    "    *Grid emissions\n",
    "\n",
    "2040 Phaseout: \n",
    "    *Butane cost\n",
    "    *PV cost\n",
    "    *Grid emissions\n",
    "\n",
    "\n",
    "2030 Phaseout: \n",
    "    *Butane cost\n",
    "    *PV cost\n",
    "    *Grid emissions\n",
    "\n",
    "    \n",
    "2030 Phaseout PV: \n",
    "    *Butane cost\n",
    "    *PV cost\n",
    "    *Grid emissions\n",
    "\n",
    "    \n",
    "This ofcouse can be enhanced if we get the actual electricity generation cost from the grid\n"
   ]
  },
  {
   "cell_type": "code",
   "execution_count": null,
   "metadata": {},
   "outputs": [],
   "source": []
  },
  {
   "cell_type": "markdown",
   "metadata": {},
   "source": [
    "# How to iterate over scenarios"
   ]
  },
  {
   "cell_type": "code",
   "execution_count": null,
   "metadata": {},
   "outputs": [],
   "source": []
  },
  {
   "cell_type": "code",
   "execution_count": null,
   "metadata": {},
   "outputs": [],
   "source": []
  }
 ],
 "metadata": {
  "kernelspec": {
   "display_name": "Python 3",
   "language": "python",
   "name": "python3"
  },
  "language_info": {
   "codemirror_mode": {
    "name": "ipython",
    "version": 3
   },
   "file_extension": ".py",
   "mimetype": "text/x-python",
   "name": "python",
   "nbconvert_exporter": "python",
   "pygments_lexer": "ipython3",
   "version": "3.8.5"
  }
 },
 "nbformat": 4,
 "nbformat_minor": 2
}
