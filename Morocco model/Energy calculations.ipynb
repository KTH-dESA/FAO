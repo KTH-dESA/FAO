{
 "cells": [
  {
   "cell_type": "markdown",
   "metadata": {},
   "source": [
    "# NEXUS tool: case study for the Souss-Massa basin - energy demand  calculations\n",
    "In this notebook a case study for the Souss-Massa basin is covered using the `nexustool` package. The water requirements for agricultural irrigation and domestic use were previously calculated using the Water Evaluation and Planning System (WEAP) model. In this case study, the energy requirements for groundwater pumping, wastewater treatment, desalination of seawater and pumping energy for water conveyance are estimated.\n",
    "\n",
    "First import the package by running the following block:"
   ]
  },
  {
   "cell_type": "code",
   "execution_count": null,
   "metadata": {},
   "outputs": [],
   "source": [
    "import sys\n",
    "sys.path.append(\"..\") #this is to add the avobe folder to the package directory\n",
    "import os\n",
    "import nexustool\n",
    "import pandas as pd\n",
    "from dashboard.scripts.plotting import water_delivered_plot, unmet_demand_plot, water_supply_plot, wtd_plot, energy_demand_plot, crop_production"
   ]
  },
  {
   "cell_type": "markdown",
   "metadata": {},
   "source": [
    "## 1. Read scenario data\n",
    "After importing all required packages, the input GIS data is loaded into the variable `df`. Change the `data_folder`, `scenario` and `climate` variables to reflect the name and relative location of your data file. This dataset should already have the water demand for irrigation results."
   ]
  },
  {
   "cell_type": "code",
   "execution_count": null,
   "metadata": {},
   "outputs": [],
   "source": [
    "data_folder = os.path.join('data', 'processed results')\n",
    "scenario = 'Desalination'\n",
    "climate = 'Climate Change'\n",
    "input_folder = os.path.join(data_folder, scenario, climate)"
   ]
  },
  {
   "cell_type": "markdown",
   "metadata": {},
   "source": [
    "## 2. Create nexus model \n",
    "To create a model simply create an instance of the `nexustool.Model()` class and store it in a variable name. The `nexustool.Model()` class requires a dataframe as input data. Several other properties and parameter values can be defined by explicitly passing values to them. To see a full list of parameters and their explaination refer to the documentation of the package. We wil create a model using the `demand_data.gz` data:"
   ]
  },
  {
   "cell_type": "code",
   "execution_count": null,
   "metadata": {},
   "outputs": [],
   "source": [
    "#Define the path to read the scenario input data and reads it in\n",
    "file_path = os.path.join(input_folder, 'demand_data.gz')\n",
    "df = pd.read_csv(file_path)\n",
    "\n",
    "#Creates the nexus model with the input dataframe\n",
    "souss_massa = nexustool.Model(df)"
   ]
  },
  {
   "cell_type": "markdown",
   "metadata": {},
   "source": [
    "## 3. Define variable names\n",
    "The names of the properties of the model can be changed at any time. This is important for the model to know how each property is called withing your input data. To check the current property names run the `.print_properties()` method, a list with the names of each property and its current value will be displayed.\n",
    "\n",
    "Then you can provide the right names for each property, calling them and assigning a value as:\n",
    "```python\n",
    "souss_massa.elevation_diff = 'elevation_delta'\n",
    "souss_massa.gw_depth = 'name_of_ground_water_depth'\n",
    "```\n",
    "\n",
    "In this particular case we will need to change the following default values:"
   ]
  },
  {
   "cell_type": "code",
   "execution_count": null,
   "metadata": {},
   "outputs": [],
   "source": [
    "souss_massa.elevation_diff = 'elevation_diff' #for the case of GW, the elevation_diff is set to be the wtd\n",
    "souss_massa.L = 'distance' #for the case of GW, the distance is set to be the wtd\n",
    "souss_massa.D = 'Pipe_diameter'\n",
    "\n",
    "#Defines the name of the variable for Peak Water Demand and Seasonal Scheme Water demand (monthly)\n",
    "souss_massa.pwd = 'pwd' # Peak Water Demand\n",
    "souss_massa.sswd = 'sswd' # Seassonal Scheme Water Demand\n",
    "souss_massa.df.rename(columns={'value': 'sswd'}, inplace=True) #Renames the name of the column value to sswd \n",
    "souss_massa.pp_e = 'pp_e' # Peak Pumping Energy\n",
    "souss_massa.pa_e = 'pa_e' # Pumping Average Energy"
   ]
  },
  {
   "cell_type": "markdown",
   "metadata": {},
   "source": [
    "## 4. Define pipelines diameters and average pumping hours, pumping efficiency\n",
    "Now we need to define the specifications of the water network, giving pipeline / canal diameter values:"
   ]
  },
  {
   "cell_type": "code",
   "execution_count": null,
   "metadata": {},
   "outputs": [],
   "source": [
    "souss_massa.df['Pipe_diameter'] = 1\n",
    "souss_massa.df.loc[souss_massa.df['type'].str.contains('GW'), 'Pipe_diameter'] = 1000\n",
    "souss_massa.df.loc[souss_massa.df['type'].str.contains('DS'), 'Pipe_diameter'] = 1.5\n",
    "souss_massa.df.loc[souss_massa.df['type'].str.contains('Pipeline'), 'Pipe_diameter'] = 1.7\n",
    "\n",
    "souss_massa.pumping_hours_per_day = 10\n",
    "souss_massa.pump_eff = 0.6"
   ]
  },
  {
   "cell_type": "markdown",
   "metadata": {},
   "source": [
    "## 5. Peak Water Demand (PWD)\n",
    "The $PWD$ is definfe as the daily peak cubic meters of water pumped per second withing the month. To accomplish that, the $SSWD$ (m<sup>3</sup>/month) is divided by 30 days per month, 3600 seconds per hour and the amount of average pumping hours in a day. This provides the $PWD$ in m<sup>3</sup>/s:\n",
    "\n",
    "$$\n",
    "PWD\\,(m^3/s) = \\frac{SSWD\\,(m^3/month)}{30\\,(day/month)\\cdot PumpHours\\,(h/day)\\cdot 3600\\, (s/h)}\n",
    "$$\n",
    "\n",
    "Moreover, the $PWD$ for agricultural irrigation is assumed as double the normal $PWD$. We make this calculations as per the following cell:"
   ]
  },
  {
   "cell_type": "code",
   "execution_count": null,
   "metadata": {},
   "outputs": [],
   "source": [
    "#Defines the PWD. It is defined as double the seasonal demand for agricultural sites\n",
    "souss_massa.df[souss_massa.pwd] = souss_massa.df[souss_massa.sswd] / 30 / souss_massa.pumping_hours_per_day / 3600 #to convert to cubic meter per second [m3/s]\n",
    "souss_massa.df.loc[souss_massa.df['type']=='Agriculture', souss_massa.pwd] *= 2"
   ]
  },
  {
   "cell_type": "markdown",
   "metadata": {},
   "source": [
    "## 6. Calculate pumping energy requirements\n",
    "To estimate the pumping energy requirements for conveyance, first we need to calculate the Total Dinamic Head (TDH). This, is a measure in meters that accounts for the elevation difference between two points and the pressure loss in distribution.\n",
    "\n",
    "For that, the area $A$ `.pipe_area()`, the velocity $V$ `.flow_velocity()`, the Reynolds number $Re$ `.reynolds()` and the friction factor $f$ `.friction_factor()` need to be estimated. The `nexustool` provides simple functions that allows us make an easy estimation of these variables, which have the following formulas implemented in the background:\n",
    "\n",
    "$$\n",
    "A\\,(m^2) = \\pi\\cdot \\frac{D^2}{4}\n",
    "$$\n",
    "\n",
    "$$\n",
    "V\\,(m/s) = \\frac{SSWD\\,(m^3/month)}{PumpHours\\,(h/day)\\cdot 30\\,(day/month)\\cdot 3600\\,(s/h)\\cdot A\\,(m^2)}\n",
    "$$\n",
    "\n",
    "$$\n",
    "Re = \\frac{V\\,(m/s)\\cdot D\\,(m)}{v\\,(m^2/s)}\n",
    "$$\n",
    "\n",
    "Where $v$ is the kinematic viscosity of water at around 1.004e-06 m<sup>2</sup>/s. And the frction factor is estimated according to the Swamee–Jain equation:\n",
    "\n",
    "$$\n",
    "f = \\frac{0.25}{\\left[log_{10}\\left(\\frac{\\epsilon}{3.7D}+\\frac{5.74}{Re^{0.9}}\\right)\\right]^2}\n",
    "$$\n",
    "\n",
    "Where $\\epsilon$ is the roughness of the material. "
   ]
  },
  {
   "cell_type": "code",
   "execution_count": null,
   "metadata": {},
   "outputs": [],
   "source": [
    "souss_massa.pipe_area() \n",
    "souss_massa.flow_velocity()\n",
    "souss_massa.reynolds()\n",
    "souss_massa.friction_factor()"
   ]
  },
  {
   "cell_type": "markdown",
   "metadata": {},
   "source": [
    "Then, the TDH can be calculated by simply calling the `.get_tdh()` function.\n",
    "\n",
    "$$\n",
    "TDH\\,(m) = f\\cdot \\frac{L\\,(m)}{D\\,(m)}\\cdot \\frac{V(m/s)^2}{2\\cdot g\\,(m/s^2)}\n",
    "$$\n",
    "\n",
    "Whereas the conveyance pumping energy requirements by calling the `.get_pumping_energy()` method. The equation used to calculate the Electricity Demand ($E_D$) for pumping is as follows:\n",
    "\n",
    "$$\n",
    "E_D\\,(kW_h) = \\frac{SSWD\\,(m^3)\\cdot \\rho\\,(kg/m^3)\\cdot g\\,(m/s^2)\\cdot TDH\\,(m)}{PP_{eff}\\,(\\%)\\cdot 3600\\,(s/h)\\cdot 1000\\,(W/kW)}\n",
    "$$\n",
    "\n",
    "The variable withing the Model for the $E_D$ is the `pa_e` or Pumping Average Electricity requirements.\n",
    "\n",
    "Moreover, the Power Demand for pumping ($PD$) is denoted by the variable `pp_e` and calculated by the following formula:\n",
    "\n",
    "$$\n",
    "PD\\,(kW) = \\frac{PWD\\,(m^3/s)\\cdot \\rho\\,(kg/m^3)\\cdot g\\,(m/s^2)\\cdot TDH\\,(m)}{PP_{eff}\\,(\\%)\\cdot 1000\\,(W/kW)}\n",
    "$$\n",
    "\n",
    "The `.get_pumping_energy()` method calculates both the $E_D$ (`pa_e`) and $PD$ (`pp_e`)."
   ]
  },
  {
   "cell_type": "code",
   "execution_count": null,
   "metadata": {},
   "outputs": [],
   "source": [
    "souss_massa.get_tdh()\n",
    "souss_massa.get_pumping_energy()\n",
    "\n",
    "souss_massa.df.loc[souss_massa.df.pp_e<0, souss_massa.pp_e] = 0 # ensures no negative energy values are considered\n",
    "souss_massa.df.loc[souss_massa.df.pa_e<0, souss_massa.pa_e] = 0 # ensures no negative power values are considered\n",
    "\n",
    "# We exclude energy for pumping calculations done for the Complexe Aoulouz Mokhtar Soussi, \n",
    "# as this pipeline is known to be driven by gravity only\n",
    "souss_massa.df.loc[souss_massa.df['Supply point'].str.contains('Complexe Aoulouz Mokhtar Soussi'), 'pa_e'] = None"
   ]
  },
  {
   "cell_type": "markdown",
   "metadata": {},
   "source": [
    "## 7. Calculating desalination energy requirements\n",
    "Desalination energy requirements are estimated by multipliying the monthly average desalinated water (`sswd`), by an energy intensity factor (`desal_energy_int`) based on the characteristics of the desalination plant."
   ]
  },
  {
   "cell_type": "code",
   "execution_count": null,
   "metadata": {},
   "outputs": [],
   "source": [
    "#Define energy intensity for seawater desalination project\n",
    "desal_energy_int = 3.31 # kWh/m3\n",
    "\n",
    "#Create a new nexus Model with the data relevant to the desalination plant only, filtering by the key work DS (Desalination)\n",
    "sm_desal = nexustool.Model(souss_massa.df.loc[souss_massa.df['type'].str.contains('DS')].copy())\n",
    "\n",
    "#Multiply the sswd by the energy intensity for treatment\n",
    "sm_desal.df[souss_massa.pa_e] = sm_desal.df[souss_massa.sswd] * desal_energy_int"
   ]
  },
  {
   "cell_type": "markdown",
   "metadata": {},
   "source": [
    "## 8. Calculating wastewater treatment energy requirements\n",
    "Wastewater treatment energy is dependent on the type of treatment required. Wastewater treatment can be subdivided into three stages: primary, secondary and tertiary. The treatment stages used, are then dependent on the final quality requirements of the treated wastewater. Thus, for wastewater that will be treated and returned to the ecosystem, often primary to secondary treatment is enough. On the other hand, treated wastewater intended for agricultural irrigation or drinking purposes, should go through secondary to terciary treatment to ensure proper desinfecton levels. \n",
    "\n",
    "Depending on the scenario run, we will need then to use a proper wastewater treatment energy intensity. In general, the higher the number of stages, the higher the energy requirements. In this model, we used an energy intensity of **0.1 kWh/m<sup>3</sup>** for treated wastewater that is not being reused, and **0.8 kWh/m<sup>3</sup>** for treated wastewater reused in agricultural irrigation."
   ]
  },
  {
   "cell_type": "code",
   "execution_count": null,
   "metadata": {},
   "outputs": [],
   "source": [
    "#Here we load the WWTP inflow data\n",
    "file_path = os.path.join(input_folder, 'wwtp_inflow.gz')\n",
    "df_wwtp = pd.read_csv(file_path)\n",
    "\n",
    "#We define an energy intensity for wastewater treatment and compute the energy demand\n",
    "wwtp_energy_int = 0.1 # kWh/m3\n",
    "df_wwtp['pa_e'] = df_wwtp.value * wwtp_energy_int"
   ]
  },
  {
   "cell_type": "markdown",
   "metadata": {},
   "source": [
    "## 9. Saving the results\n",
    "Finally, we save the resulting dataframes as `.gz` files, which is a compressed version of a `csv` file:"
   ]
  },
  {
   "cell_type": "code",
   "execution_count": null,
   "metadata": {},
   "outputs": [],
   "source": [
    "#Define and create the output folder\n",
    "results_folder = os.path.join('dashboard', 'data', scenario, climate)\n",
    "os.makedirs(results_folder, exist_ok=True)\n",
    "\n",
    "#Save the results\n",
    "souss_massa.df.to_csv(os.path.join(results_folder, 'results.gz'), index=False)\n",
    "sm_desal.df.to_csv(os.path.join(results_folder, 'desal_data.gz'), index=False)\n",
    "df_wwtp.to_csv(os.path.join(results_folder, 'wwtp_data.gz'), index=False)"
   ]
  },
  {
   "cell_type": "markdown",
   "metadata": {},
   "source": [
    "## 10. Visualizing some results \n",
    "Using some functions imported from the visualization tool, we can plot some general results for the scenario:"
   ]
  },
  {
   "cell_type": "markdown",
   "metadata": {},
   "source": [
    "### Water delivered (Mm<sup>3</sup>)"
   ]
  },
  {
   "cell_type": "code",
   "execution_count": null,
   "metadata": {},
   "outputs": [],
   "source": [
    "water_delivered_plot(souss_massa.df, 'Year', {})"
   ]
  },
  {
   "cell_type": "markdown",
   "metadata": {},
   "source": [
    "### Enery demand (GWh)"
   ]
  },
  {
   "cell_type": "code",
   "execution_count": null,
   "metadata": {},
   "outputs": [],
   "source": [
    "energy_demand_plot(souss_massa.df, df_wwtp, sm_desal.df, 'Year', {})"
   ]
  },
  {
   "cell_type": "markdown",
   "metadata": {},
   "source": [
    "### Unmet demand (%)"
   ]
  },
  {
   "cell_type": "code",
   "execution_count": null,
   "metadata": {},
   "outputs": [],
   "source": [
    "unmet_demand_plot(souss_massa.df, 'Year', {})"
   ]
  },
  {
   "cell_type": "markdown",
   "metadata": {},
   "source": [
    "### Water supplied (Mm<sup>3</sup>/year)"
   ]
  },
  {
   "cell_type": "code",
   "execution_count": null,
   "metadata": {},
   "outputs": [],
   "source": [
    "water_supply_plot(souss_massa.df, 'Year', {})"
   ]
  },
  {
   "cell_type": "markdown",
   "metadata": {},
   "source": [
    "### Groundwater depth (m)"
   ]
  },
  {
   "cell_type": "code",
   "execution_count": null,
   "metadata": {},
   "outputs": [],
   "source": [
    "wtd_plot(souss_massa.df, 'Date', {})"
   ]
  },
  {
   "cell_type": "markdown",
   "metadata": {},
   "source": [
    "### Crop production (ton/year)"
   ]
  },
  {
   "cell_type": "code",
   "execution_count": null,
   "metadata": {},
   "outputs": [],
   "source": [
    "crop = pd.read_csv(os.path.join(input_folder, 'production.gz'))\n",
    "crop_production(crop, 'crop', {})"
   ]
  },
  {
   "cell_type": "code",
   "execution_count": null,
   "metadata": {},
   "outputs": [],
   "source": []
  }
 ],
 "metadata": {
  "kernelspec": {
   "display_name": "Python 3",
   "language": "python",
   "name": "python3"
  },
  "language_info": {
   "codemirror_mode": {
    "name": "ipython",
    "version": 3
   },
   "file_extension": ".py",
   "mimetype": "text/x-python",
   "name": "python",
   "nbconvert_exporter": "python",
   "pygments_lexer": "ipython3",
   "version": "3.8.5"
  }
 },
 "nbformat": 4,
 "nbformat_minor": 2
}
