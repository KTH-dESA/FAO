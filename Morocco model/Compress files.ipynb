{
 "cells": [
  {
   "cell_type": "code",
   "execution_count": 1,
   "metadata": {},
   "outputs": [],
   "source": [
    "import pandas as pd\n",
    "import os"
   ]
  },
  {
   "cell_type": "code",
   "execution_count": 2,
   "metadata": {},
   "outputs": [],
   "source": [
    "results_folder = '../Morocco dashboard/data'\n",
    "# for scenario in os.listdir(results_folder):\n",
    "for scenario in ['Desalination', 'Irrigation intensification']:\n",
    "    scenario_folder = os.path.join(results_folder, scenario)\n",
    "    for sub_scenario in os.listdir(scenario_folder):\n",
    "        sub_scenario_folder = os.path.join(scenario_folder, sub_scenario)\n",
    "        for sub_sub_scenario in os.listdir(sub_scenario_folder):\n",
    "            if '.gz' not in sub_sub_scenario:\n",
    "                sub_sub_scenario_folder = os.path.join(sub_scenario_folder, sub_sub_scenario)\n",
    "\n",
    "                df = pd.read_csv(os.path.join(sub_sub_scenario_folder, 'lcoe.csv'))\n",
    "                df.drop(columns=['water demand', 'required capacity', 'energy demand'], inplace=True)\n",
    "                df.to_csv(os.path.join(sub_sub_scenario_folder, 'lcoe.gz'), index=False)\n",
    "                os.remove(os.path.join(sub_sub_scenario_folder, 'lcoe.csv'))"
   ]
  },
  {
   "cell_type": "code",
   "execution_count": null,
   "metadata": {},
   "outputs": [],
   "source": [
    "import geopandas as gpd\n",
    "import pandas as pd\n",
    "import matplotlib.pyplot as plt\n",
    "import contextily as ctx\n",
    "from matplotlib import cm\n",
    "\n",
    "provinces = gpd.read_file('Data/GIS/Admin/Provinces.gpkg', encoding='utf-8')\n",
    "provinces.to_crs('epsg:3857', inplace=True)\n",
    "\n",
    "results_folder = 'data'\n",
    "for scenario in os.listdir(results_folder):\n",
    "    scenario_folder = os.path.join(results_folder, scenario)\n",
    "    for sub_scenario in os.listdir(scenario_folder):\n",
    "        sub_scenario_folder = os.path.join(scenario_folder, sub_scenario)\n",
    "        for sub_sub_scenario in os.listdir(sub_scenario_folder):\n",
    "            if '.csv' not in sub_sub_scenario:\n",
    "                sub_sub_scenario_folder = os.path.join(sub_scenario_folder, sub_sub_scenario)\n",
    "\n",
    "                df = pd.read_csv(os.path.join(sub_sub_scenario_folder, 'lcoe.csv'))\n",
    "                \n",
    "                for year in range(2020, 2051):\n",
    "                    dff = df.loc[(df.Year==year)].copy()\n",
    "                    dff['geometry'] = dff['Demand point'].map(cropland.geometry)\n",
    "                    dff = gpd.GeoDataFrame(dff, crs='epsg:26192')\n",
    "                    dff.to_crs('epsg:3857', inplace=True)\n",
    "                    fig, ax = plt.subplots(1, 1, figsize=(12, 12))\n",
    "\n",
    "                    provinces.plot(color=(0.4,0.5,0.4,0.2), edgecolor='black', ax=ax)\n",
    "                    dff.plot(column='least_cost_technology', categorical=True, ax=ax, legend=True)\n",
    "                    ctx.add_basemap(ax)\n",
    "                    ax.set_axis_off()\n",
    "                    fig.savefig(f'Least-cost-{year}.png', dpi=150)\n",
    "                "
   ]
  },
  {
   "cell_type": "code",
   "execution_count": 9,
   "metadata": {},
   "outputs": [
    {
     "data": {
      "text/plain": [
       "0.4266666666666667"
      ]
     },
     "execution_count": 9,
     "metadata": {},
     "output_type": "execute_result"
    }
   ],
   "source": [
    "4*384/60/60"
   ]
  }
 ],
 "metadata": {
  "kernelspec": {
   "display_name": "Python 3",
   "language": "python",
   "name": "python3"
  },
  "language_info": {
   "codemirror_mode": {
    "name": "ipython",
    "version": 3
   },
   "file_extension": ".py",
   "mimetype": "text/x-python",
   "name": "python",
   "nbconvert_exporter": "python",
   "pygments_lexer": "ipython3",
   "version": "3.8.2"
  }
 },
 "nbformat": 4,
 "nbformat_minor": 4
}
