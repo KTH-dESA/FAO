{
 "cells": [
  {
   "cell_type": "code",
   "execution_count": null,
   "metadata": {},
   "outputs": [],
   "source": [
    "import os\n",
    "import pandas as pd\n",
    "import geopandas as gpd\n",
    "import numpy as np\n",
    "from scripts.softlinking_functions import integrate_data, data_merging"
   ]
  },
  {
   "cell_type": "markdown",
   "metadata": {},
   "source": [
    "## Reading the input files"
   ]
  },
  {
   "cell_type": "code",
   "execution_count": null,
   "metadata": {},
   "outputs": [],
   "source": [
    "data_file = os.path.join('data', 'WEAP results', 'Results - Desalination - Climate Change.xlsx')\n",
    "demand_points = os.path.join('data', 'gis', 'processed layers', 'demand_points.gpkg')\n",
    "\n",
    "spatial_folder = os.path.join('data', 'gis', 'processed layers')"
   ]
  },
  {
   "cell_type": "code",
   "execution_count": null,
   "metadata": {},
   "outputs": [],
   "source": [
    "demand_links = gpd.read_file(demand_points)\n",
    "supply_links = gpd.read_file(os.path.join(spatial_folder, 'supply_points.gpkg'))\n",
    "wwtp = gpd.read_file(os.path.join(spatial_folder, 'wwtp.gpkg'))\n",
    "diversions = gpd.read_file(os.path.join(spatial_folder, 'pipelines.gpkg'))\n",
    "groundwater = gpd.read_file(os.path.join(spatial_folder, 'groundwater.gpkg'))\n",
    "all_points = gpd.read_file(os.path.join(spatial_folder, 'all_points.gpkg'))"
   ]
  },
  {
   "cell_type": "markdown",
   "metadata": {},
   "source": [
    "## Defining the years of the simulation"
   ]
  },
  {
   "cell_type": "code",
   "execution_count": null,
   "metadata": {},
   "outputs": [],
   "source": [
    "init_year = 2020\n",
    "end_year = 2050"
   ]
  },
  {
   "cell_type": "markdown",
   "metadata": {},
   "source": [
    "## Merging WEAP results for water supply with spatial data (what is actually being delivered)"
   ]
  },
  {
   "cell_type": "code",
   "execution_count": null,
   "metadata": {},
   "outputs": [],
   "source": [
    "MerchidSudMoroc = 26192\n",
    "    \n",
    "data = pd.ExcelFile(data_file)\n",
    "\n",
    "sheet_names = {'Desalination': 'DS Agriculture', \n",
    "               'GP Irrigation': 'GW Agriculture', \n",
    "               'GP Domestic': 'GW Domestic',\n",
    "               'MAR': 'Aquifer recharge',\n",
    "               'SW Irrigation': 'SW Agriculture',\n",
    "               'SW Domestic': 'SW Domestic',\n",
    "               'Wastewater Reuse AG': 'WWR Agriculture',\n",
    "               'Wastewater Reuse Agadir': 'WWR Domestic'}\n",
    "\n",
    "df = pd.DataFrame()\n",
    "for sheet_name, category in sheet_names.items():\n",
    "    df = df.append(integrate_data(data, sheet_name, category, {'Demand point': demand_links, \n",
    "                                                         'Supply point': supply_links}, \n",
    "                                  demand_links, init_year, end_year))"
   ]
  },
  {
   "cell_type": "markdown",
   "metadata": {},
   "source": [
    "## Extracting water table depth data to groundwater supply points"
   ]
  },
  {
   "cell_type": "code",
   "execution_count": null,
   "metadata": {},
   "outputs": [],
   "source": [
    "df['wtd'] = df['Supply point'].map(groundwater.set_index('point')['wtd_m'])\n",
    "\n",
    "wtd_change = integrate_data(data,'GW Change in Elev', 'GW wtd', {'GW': groundwater}, \n",
    "                            demand_links, init_year, end_year, 'point', 'point')\n",
    "df.set_index(['Date', 'Supply point'], inplace=True)\n",
    "df['wtd'] -= df.index.map(wtd_change.set_index(['Date', 'point']).value)\n",
    "df.reset_index(inplace=True)"
   ]
  },
  {
   "cell_type": "markdown",
   "metadata": {},
   "source": [
    "## Calculating elevation difference between demand and supply points"
   ]
  },
  {
   "cell_type": "code",
   "execution_count": null,
   "metadata": {},
   "outputs": [],
   "source": [
    "df['elevation_diff'] = df.links.map(demand_links.set_index('links').elevation) - \\\n",
    "                       df.links.map(supply_links.set_index('links').elevation)"
   ]
  },
  {
   "cell_type": "code",
   "execution_count": null,
   "metadata": {},
   "outputs": [],
   "source": [
    "dff = df.loc[df['Supply point'].isin(diversions['Demand point'].unique())].groupby(['Date','Supply point','Year','Month']).agg({'value': 'sum'}).reset_index()\n",
    "dff.rename(columns={'Supply point': 'Demand point'}, inplace=True)\n",
    "dff['Supply point'] = dff['Demand point'].map(diversions.set_index('Demand point')['Supply point'])\n",
    "dff['elevation_diff'] = dff['Demand point'].map(diversions.set_index('Demand point')['elevation_diff'])\n",
    "dff['Province'] = dff['Supply point'].map(supply_links.drop_duplicates('point').set_index('point')['Province'])\n",
    "dff['type'] = 'Transmission Pipeline'\n",
    "\n",
    "df = df.append(dff, sort=False, ignore_index=True)\n",
    "df.loc[df.Province.isna(),'Province'] = df['Demand point'].map(demand_links.drop_duplicates('point').set_index('point')['Province'])"
   ]
  },
  {
   "cell_type": "markdown",
   "metadata": {},
   "source": [
    "## Cleaning up the variables"
   ]
  },
  {
   "cell_type": "code",
   "execution_count": null,
   "metadata": {},
   "outputs": [],
   "source": [
    "supply = gpd.GeoDataFrame(geometry=df['Supply point'].map(all_points.set_index('point').geometry), crs='epsg:4326')\n",
    "\n",
    "supply.to_crs(f'epsg:{MerchidSudMoroc}', inplace=True)\n",
    "demand = gpd.GeoDataFrame(geometry=df['Demand point'].map(all_points.set_index('point').geometry), crs='epsg:4326')\n",
    "\n",
    "demand.to_crs(f'epsg:{MerchidSudMoroc}', inplace=True)"
   ]
  },
  {
   "cell_type": "code",
   "execution_count": null,
   "metadata": {},
   "outputs": [],
   "source": [
    "df['distance'] = supply.distance(demand)"
   ]
  },
  {
   "cell_type": "code",
   "execution_count": null,
   "metadata": {},
   "outputs": [],
   "source": [
    "df.loc[df['type'].str.contains('GW'), 'distance'] = df.loc[df['type'].str.contains('GW'), 'wtd']\n",
    "df.loc[df['type'].str.contains('GW'), 'elevation_diff'] = df.loc[df['type'].str.contains('GW'), 'wtd']"
   ]
  },
  {
   "cell_type": "code",
   "execution_count": null,
   "metadata": {},
   "outputs": [],
   "source": [
    "df.loc[df['type'].str.contains('SW'), 'distance'] = np.nan\n",
    "df.loc[df['type'].str.contains('SW'), 'elevation_diff'] = np.nan"
   ]
  },
  {
   "cell_type": "code",
   "execution_count": null,
   "metadata": {},
   "outputs": [],
   "source": [
    "#define the desalinated water for agriculture and for domestic use\n",
    "df.loc[(df['type']=='DS Agriculture')&(df['Demand point']=='Agadir'), 'type'] = 'DS Domestic'"
   ]
  },
  {
   "cell_type": "markdown",
   "metadata": {},
   "source": [
    "## Merging WEAP results for wastewater treatment with spatial data"
   ]
  },
  {
   "cell_type": "code",
   "execution_count": null,
   "metadata": {},
   "outputs": [],
   "source": [
    "df_wwtp = integrate_data(data, 'WWTP Inflow', 'wwtp', {'WWTP': wwtp}, \n",
    "                         demand_links, init_year, end_year, 'point', 'point')\n",
    "df_wwtp['Province'] = None\n",
    "df_wwtp.loc[df_wwtp['point'].isin(['Agadir WWTP', 'Drargua WWTP']), 'Province'] = 'Agadir-Ida-Ou-Tanane'\n",
    "df_wwtp.loc[df_wwtp['point'].isin(['Lqliaa WWTP', 'Biougra WWTP', 'Ait Baha WWTP']), 'Province'] = 'Chtouka-Ait Baha'\n",
    "df_wwtp.loc[df_wwtp['point'].isin(['Ouled Teima WWTP', 'ELGuerdane WWTP',\n",
    "                                   'Ait Iaaza WWTP', 'Oulad Berhil WWTP',\n",
    "                                   'Aoulouz WWTP']), 'Province'] = 'Taroudannt'\n",
    "df_wwtp.loc[df_wwtp['point'].isin(['Drargua WWTP']), 'Province'] = 'Inezgane-Ait Melloul'"
   ]
  },
  {
   "cell_type": "markdown",
   "metadata": {},
   "source": [
    "## Merging WEAP results for water requirements with spatial data (what is needed)"
   ]
  },
  {
   "cell_type": "code",
   "execution_count": null,
   "metadata": {},
   "outputs": [],
   "source": [
    "sheet_names = {'AgWaterDemand': 'Agriculture', \n",
    "               'DomSupplyReq': 'Domestic'}\n",
    "\n",
    "df_required = pd.DataFrame()\n",
    "for sheet_name, category in sheet_names.items():\n",
    "    df_required = df_required.append(integrate_data(data, sheet_name, category, {'Demand point': demand_links},\n",
    "                                                    demand_links, init_year, end_year, 'point', 'point'))"
   ]
  },
  {
   "cell_type": "code",
   "execution_count": null,
   "metadata": {},
   "outputs": [],
   "source": [
    "df['water_required'] = df.set_index(['Date','Demand point']).index.map(df_required.set_index(['Date','point']).value)\n",
    "\n",
    "df_unmet_month = 1 - (df.groupby(['Date', 'Demand point'])['value'].sum() / \\\n",
    "               df.groupby(['Date', 'Demand point'])['water_required'].mean())\n",
    "\n",
    "df['unmet_demand_month'] = df.set_index(['Date','Demand point']).index.map(df_unmet_month)\n",
    "\n",
    "water_req_year = df.groupby(['Year', 'Date', 'Demand point'])['water_required'].mean().reset_index().groupby(['Year', 'Demand point'])['water_required'].sum()\n",
    "\n",
    "df_unmet_year = 1 - (df.groupby(['Year', 'Demand point'])['value'].sum() / \\\n",
    "                     water_req_year)\n",
    "\n",
    "df['unmet_demand_year'] = df.set_index(['Year','Demand point']).index.map(df_unmet_year)\n",
    "\n",
    "\n",
    "df.fillna({'unmet_demand_year': 0, 'unmet_demand_month': 0}, inplace=True)"
   ]
  },
  {
   "cell_type": "markdown",
   "metadata": {},
   "source": [
    "## Merging WEAP results for crop productivity with spatial data"
   ]
  },
  {
   "cell_type": "code",
   "execution_count": null,
   "metadata": {},
   "outputs": [],
   "source": [
    "# Process crop production data\n",
    "df_production = data.parse('Annual Crop Production', skiprows=3)\n",
    "df_production.rename(columns={'Unnamed: 0': 'Year'}, inplace=True)\n",
    "df_production.columns = df_production.columns.str.replace('\"', '').str.strip()\n",
    "df_production = df_production.loc[df_production.Year!='Sum']\n",
    "df_production.drop(columns='Sum', inplace=True)\n",
    "df_production = df_production.loc[(df_production.Year >= init_year) & (df_production.Year <= end_year)]\n",
    "df_production = df_production.melt(id_vars=['Year'])\n",
    "df_production['point'] = [row[0] for row in df_production['variable'].str.split('\\\\')]\n",
    "df_production['crop'] = [row[-1] for row in df_production['variable'].str.split('\\\\')]\n",
    "# df_production['group'] = [row[1] for row in df_production['variable'].str.split('\\\\')]\n",
    "df_production.rename(columns={'value': 'production_kg'}, inplace=True)\n",
    "df_production.drop(columns='variable', inplace=True)\n",
    "df_production['crop'] = df_production['crop'].str.replace('_', ' ')"
   ]
  },
  {
   "cell_type": "markdown",
   "metadata": {},
   "source": [
    "## Saving the results"
   ]
  },
  {
   "cell_type": "code",
   "execution_count": null,
   "metadata": {},
   "outputs": [],
   "source": [
    "output_folder = os.path.join('data', 'processed results', 'Desalination2', 'Climate Change')\n",
    "os.makedirs(output_folder, exist_ok=True)\n",
    "\n",
    "df_production.to_csv(os.path.join(output_folder, 'production_data.gz'), index=False)\n",
    "df.to_csv(os.path.join(output_folder, 'demand_data.gz'), index=False)\n",
    "df_wwtp.to_csv(os.path.join(output_folder, 'wwtp_inflow.gz'), index=False)"
   ]
  },
  {
   "cell_type": "code",
   "execution_count": null,
   "metadata": {},
   "outputs": [],
   "source": [
    "points_coords, pipe_coords = data_merging(demand_links, supply_links, diversions)\n",
    "\n",
    "output_folder = os.path.join('dashboard', 'spatial_data')\n",
    "os.makedirs(output_folder, exist_ok=True)\n",
    "\n",
    "points_coords.to_csv(os.path.join(output_folder, 'points_coords.csv'), index=False)\n",
    "pipe_coords.to_csv(os.path.join(output_folder, 'pipe_coords.csv'), index=False)"
   ]
  }
 ],
 "metadata": {
  "kernelspec": {
   "display_name": "Python 3",
   "language": "python",
   "name": "python3"
  },
  "language_info": {
   "codemirror_mode": {
    "name": "ipython",
    "version": 3
   },
   "file_extension": ".py",
   "mimetype": "text/x-python",
   "name": "python",
   "nbconvert_exporter": "python",
   "pygments_lexer": "ipython3",
   "version": "3.8.5"
  }
 },
 "nbformat": 4,
 "nbformat_minor": 2
}
