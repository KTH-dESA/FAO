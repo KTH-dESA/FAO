{
 "cells": [
  {
   "cell_type": "code",
   "execution_count": null,
   "metadata": {},
   "outputs": [],
   "source": [
    "import os\n",
    "import pandas as pd\n",
    "import geopandas as gpd\n",
    "import numpy as np"
   ]
  },
  {
   "cell_type": "markdown",
   "metadata": {},
   "source": [
    "## Reading the input files"
   ]
  },
  {
   "cell_type": "code",
   "execution_count": null,
   "metadata": {},
   "outputs": [],
   "source": [
    "scenario = 'Reference'\n",
    "climate = 'Climate Change'\n",
    "data_file = os.path.join()\n",
    "demand_points = str(snakemake.input.demand_points)\n",
    "demand_data_output = str(snakemake.output.demand_data)\n",
    "wwtp_inflow_output = str(snakemake.output.wwtp_inflow)\n",
    "production_data_output = str(snakemake.output.production_data)\n",
    "\n",
    "spatial_folder = demand_points.split(os.path.basename(demand_points))[0]\n",
    "output_folder = demand_data_output.split(os.path.basename(demand_data_output))[0]"
   ]
  },
  {
   "cell_type": "code",
   "execution_count": null,
   "metadata": {},
   "outputs": [],
   "source": [
    "init_year = 2020\n",
    "end_year = 2050"
   ]
  },
  {
   "cell_type": "code",
   "execution_count": null,
   "metadata": {},
   "outputs": [],
   "source": [
    "def integrate_data(data, sheet_name, category, dff_dict, var_name='links', target='point'):\n",
    "    df = data.parse(sheet_name, skiprows=3)\n",
    "    df.rename(columns={'Unnamed: 0': 'Date'}, inplace=True)\n",
    "    df.columns = df.columns.str.replace('\"', '').str.strip()\n",
    "\n",
    "    df.columns = df.columns.str.replace('Groundwater','GW')\n",
    "    df.columns = df.columns.str.replace('Grounwater','GW')\n",
    "    df.columns = df.columns.str.replace('GW of ','')\n",
    "    df.columns = df.columns.str.replace('GW ','')\n",
    "    df.columns = df.columns.str.replace('I_TRSPD','I_Traditional Rehabilite du Souss Perimetre Diffus')\n",
    "    # df.columns = df.columns.str.replace('I_Traditional Rehabilite I','I_Traditional Rehabilite Issen')\n",
    "\n",
    "    for link in demand_links.links:\n",
    "        if np.array(df.columns[df.columns.str.contains(link)]).size > 0:\n",
    "            df.rename(columns={df.columns[df.columns.str.contains(link)][0]: link}, inplace=True)\n",
    "\n",
    "    df = df.loc[df.Date!='Sum']\n",
    "    df.Date = pd.to_datetime(df.Date)\n",
    "    df['Year'] = df.Date.dt.year\n",
    "    df['Month'] = df.Date.dt.month\n",
    "    \n",
    "    drop_columns = []\n",
    "    if 'Sum' in df.columns:\n",
    "        drop_columns.append('Sum')\n",
    "    df.drop(columns=drop_columns, inplace=True)\n",
    "    \n",
    "    df = df.loc[(df.Year >= init_year) & (df.Year <= end_year)]\n",
    "\n",
    "    df = df.melt(id_vars=['Date', 'Year', 'Month'])\n",
    "    \n",
    "    for name, dff in dff_dict.items():\n",
    "        df_temp = dff.set_index(var_name)\n",
    "        if var_name!=target:\n",
    "            df[name] = df.variable.map(df_temp[target])\n",
    "    \n",
    "    df['type'] = category\n",
    "    df.rename(columns={'variable': var_name}, inplace=True)\n",
    "    if df.loc[~df[var_name].isin(df.dropna()[var_name].unique()),var_name].unique().size > 0:\n",
    "        print(\"The following links were not found:\")\n",
    "        print(df.loc[~df[var_name].isin(df.dropna()[var_name].unique()),var_name].unique())\n",
    "    return df"
   ]
  },
  {
   "cell_type": "code",
   "execution_count": null,
   "metadata": {},
   "outputs": [],
   "source": [
    "demand_links = gpd.read_file(demand_points)\n",
    "supply_links = gpd.read_file(os.path.join(spatial_folder, 'Supply_points.gpkg'))\n",
    "wwtp = gpd.read_file(os.path.join(spatial_folder, 'wwtp.gpkg'))\n",
    "diversions = gpd.read_file(os.path.join(spatial_folder, 'Pipelines.gpkg'))\n",
    "groundwater = gpd.read_file(os.path.join(spatial_folder, 'Groundwater.gpkg'))\n",
    "all_points = gpd.read_file(os.path.join(spatial_folder, 'all_points.gpkg'))"
   ]
  },
  {
   "cell_type": "code",
   "execution_count": null,
   "metadata": {},
   "outputs": [],
   "source": [
    "MerchidSudMoroc = 26192\n",
    "\n",
    "os.makedirs(output_folder, exist_ok = True)\n",
    "    \n",
    "data = pd.ExcelFile(data_file)\n",
    "\n",
    "sheet_names = {'Desalination': 'DS Agriculture', \n",
    "               'GP Irrigation': 'GW Agriculture', \n",
    "               'GP Domestic': 'GW Domestic',\n",
    "               'MAR': 'Aquifer recharge',\n",
    "               'SW Irrigation': 'SW Agriculture',\n",
    "               'SW Domestic': 'SW Domestic',\n",
    "               'Wastewater Reuse AG': 'WWR Agriculture',\n",
    "               'Wastewater Reuse Agadir': 'WWR Domestic'}\n",
    "\n",
    "df = pd.DataFrame()\n",
    "for sheet_name, category in sheet_names.items():\n",
    "    df = df.append(integrate_data(data, sheet_name, category, {'Demand point': demand_links, \n",
    "                                                         'Supply point': supply_links}))"
   ]
  },
  {
   "cell_type": "code",
   "execution_count": null,
   "metadata": {},
   "outputs": [],
   "source": [
    "df['wtd'] = df['Supply point'].map(groundwater.set_index('point')['wtd_m'])\n",
    "\n",
    "wtd_change = integrate_data(data,'GW Change in Elev', 'GW wtd', {'GW': groundwater}, 'point', 'point')\n",
    "df.set_index(['Date', 'Supply point'], inplace=True)\n",
    "df['wtd'] -= df.index.map(wtd_change.set_index(['Date', 'point']).value)\n",
    "df.reset_index(inplace=True)"
   ]
  },
  {
   "cell_type": "code",
   "execution_count": null,
   "metadata": {},
   "outputs": [],
   "source": [
    "df['elevation_diff'] = df.links.map(demand_links.set_index('links').elevation) - \\\n",
    "                       df.links.map(supply_links.set_index('links').elevation)"
   ]
  },
  {
   "cell_type": "code",
   "execution_count": null,
   "metadata": {},
   "outputs": [],
   "source": [
    "dff = df.loc[df['Supply point'].isin(diversions['Demand point'].unique())].groupby(['Date','Supply point','Year','Month']).agg({'value': 'sum'}).reset_index()\n",
    "dff.rename(columns={'Supply point': 'Demand point'}, inplace=True)\n",
    "dff['Supply point'] = dff['Demand point'].map(diversions.set_index('Demand point')['Supply point'])\n",
    "dff['elevation_diff'] = dff['Demand point'].map(diversions.set_index('Demand point')['elevation_diff'])\n",
    "dff['Province'] = dff['Supply point'].map(supply_links.drop_duplicates('point').set_index('point')['Province'])\n",
    "dff['type'] = 'Transmission Pipeline'\n",
    "\n",
    "df = df.append(dff, sort=False, ignore_index=True)\n",
    "df.loc[df.Province.isna(),'Province'] = df['Demand point'].map(demand_links.drop_duplicates('point').set_index('point')['Province'])"
   ]
  },
  {
   "cell_type": "code",
   "execution_count": null,
   "metadata": {},
   "outputs": [],
   "source": [
    "supply = gpd.GeoDataFrame(geometry=df['Supply point'].map(all_points.set_index('point').geometry), crs='epsg:4326')\n",
    "\n",
    "supply.to_crs(f'epsg:{MerchidSudMoroc}', inplace=True)\n",
    "demand = gpd.GeoDataFrame(geometry=df['Demand point'].map(all_points.set_index('point').geometry), crs='epsg:4326')\n",
    "\n",
    "demand.to_crs(f'epsg:{MerchidSudMoroc}', inplace=True)"
   ]
  },
  {
   "cell_type": "code",
   "execution_count": null,
   "metadata": {},
   "outputs": [],
   "source": [
    "df['distance'] = supply.distance(demand)"
   ]
  },
  {
   "cell_type": "code",
   "execution_count": null,
   "metadata": {},
   "outputs": [],
   "source": [
    "df.loc[df['type'].str.contains('GW'), 'distance'] = df.loc[df['type'].str.contains('GW'), 'wtd']\n",
    "df.loc[df['type'].str.contains('GW'), 'elevation_diff'] = df.loc[df['type'].str.contains('GW'), 'wtd']"
   ]
  },
  {
   "cell_type": "code",
   "execution_count": null,
   "metadata": {},
   "outputs": [],
   "source": [
    "df.loc[df['type'].str.contains('SW'), 'distance'] = np.nan\n",
    "df.loc[df['type'].str.contains('SW'), 'elevation_diff'] = np.nan"
   ]
  },
  {
   "cell_type": "code",
   "execution_count": null,
   "metadata": {},
   "outputs": [],
   "source": [
    "#define the delainated water for agriculture and for domestic use\n",
    "df.loc[(df['type']=='DS Agriculture')&(df['Demand point']=='Agadir'), 'type'] = 'DS Domestic'"
   ]
  },
  {
   "cell_type": "code",
   "execution_count": null,
   "metadata": {},
   "outputs": [],
   "source": [
    "df_wwtp = integrate_data(data, 'WWTP Inflow', 'wwtp', {'WWTP': wwtp}, 'point', 'point')\n",
    "df_wwtp['Province'] = None\n",
    "df_wwtp.loc[df_wwtp['point'].isin(['Agadir WWTP', 'Drargua WWTP']), 'Province'] = 'Agadir-Ida-Ou-Tanane'\n",
    "df_wwtp.loc[df_wwtp['point'].isin(['Lqliaa WWTP', 'Biougra WWTP', 'Ait Baha WWTP']), 'Province'] = 'Chtouka-Ait Baha'\n",
    "df_wwtp.loc[df_wwtp['point'].isin(['Ouled Teima WWTP', 'ELGuerdane WWTP',\n",
    "                                   'Ait Iaaza WWTP', 'Oulad Berhil WWTP',\n",
    "                                   'Aoulouz WWTP']), 'Province'] = 'Taroudannt'\n",
    "df_wwtp.loc[df_wwtp['point'].isin(['Drargua WWTP']), 'Province'] = 'Inezgane-Ait Melloul'"
   ]
  },
  {
   "cell_type": "code",
   "execution_count": null,
   "metadata": {},
   "outputs": [],
   "source": [
    "sheet_names = {'AgWaterDemand': 'Agriculture', \n",
    "               'DomSupplyReq': 'Domestic'}\n",
    "\n",
    "df_required = pd.DataFrame()\n",
    "for sheet_name, category in sheet_names.items():\n",
    "    df_required = df_required.append(integrate_data(data, sheet_name, category, {'Demand point': demand_links}, 'point', 'point'))"
   ]
  },
  {
   "cell_type": "code",
   "execution_count": null,
   "metadata": {},
   "outputs": [],
   "source": [
    "df['water_required'] = df.set_index(['Date','Demand point']).index.map(df_required.set_index(['Date','point']).value)\n",
    "\n",
    "df_unmet_month = 1 - (df.groupby(['Date', 'Demand point'])['value'].sum() / \\\n",
    "               df.groupby(['Date', 'Demand point'])['water_required'].mean())\n",
    "\n",
    "df['unmet_demand_month'] = df.set_index(['Date','Demand point']).index.map(df_unmet_month)\n",
    "\n",
    "water_req_year = df.groupby(['Year', 'Date', 'Demand point'])['water_required'].mean().reset_index().groupby(['Year', 'Demand point'])['water_required'].sum()\n",
    "\n",
    "df_unmet_year = 1 - (df.groupby(['Year', 'Demand point'])['value'].sum() / \\\n",
    "                     water_req_year)\n",
    "\n",
    "df['unmet_demand_year'] = df.set_index(['Year','Demand point']).index.map(df_unmet_year)\n",
    "\n",
    "\n",
    "df.fillna({'unmet_demand_year': 0, 'unmet_demand_month': 0}, inplace=True)"
   ]
  },
  {
   "cell_type": "code",
   "execution_count": null,
   "metadata": {},
   "outputs": [],
   "source": [
    "# Process crop production data\n",
    "df_production = data.parse('Annual Crop Production', skiprows=3)\n",
    "df_production.rename(columns={'Unnamed: 0': 'Year'}, inplace=True)\n",
    "df_production.columns = df_production.columns.str.replace('\"', '').str.strip()\n",
    "df_production = df_production.loc[df_production.Year!='Sum']\n",
    "df_production.drop(columns='Sum', inplace=True)\n",
    "df_production = df_production.loc[(df_production.Year >= init_year) & (df_production.Year <= end_year)]\n",
    "df_production = df_production.melt(id_vars=['Year'])\n",
    "df_production['point'] = [row[0] for row in df_production['variable'].str.split('\\\\')]\n",
    "df_production['crop'] = [row[-1] for row in df_production['variable'].str.split('\\\\')]\n",
    "# df_production['group'] = [row[1] for row in df_production['variable'].str.split('\\\\')]\n",
    "df_production.rename(columns={'value': 'production_kg'}, inplace=True)\n",
    "df_production.drop(columns='variable', inplace=True)\n",
    "df_production['crop'] = df_production['crop'].str.replace('_', ' ')"
   ]
  },
  {
   "cell_type": "code",
   "execution_count": null,
   "metadata": {},
   "outputs": [],
   "source": [
    "df_production.to_csv(production_data_output, index=False)\n",
    "df.to_csv(demand_data_output, index=False)\n",
    "df_wwtp.to_csv(wwtp_inflow_output, index=False)"
   ]
  },
  {
   "cell_type": "code",
   "execution_count": null,
   "metadata": {},
   "outputs": [],
   "source": [
    "def data_merging(demand_points, supply_points, pipelines):\n",
    "    df1 = demand_points.groupby('point').agg({'type': 'first',\n",
    "                                              'geometry': 'first'}).reset_index()\n",
    "\n",
    "    df2 = supply_points.groupby('point').agg({'type': 'first',\n",
    "                                              'geometry': 'first'}).reset_index()\n",
    "\n",
    "    df_pipelines = pipelines.groupby('diversion').agg({'geometry': 'first'}).reset_index()\n",
    "\n",
    "    df = df1.append(df2, ignore_index=True)\n",
    "    df['lon'] = [point.xy[0][0] for point in df.geometry]\n",
    "    df['lat'] = [point.xy[1][0] for point in df.geometry]\n",
    "\n",
    "    pipe_coords = pd.DataFrame({'lon': [], 'lat': []})\n",
    "    for name, point in zip(df_pipelines.diversion, df_pipelines.geometry):\n",
    "        lon = list(point.xy[0]) + [None]\n",
    "        lat = list(point.xy[1]) + [None]\n",
    "        df_temp = pd.DataFrame({'lon': lon, 'lat': lat})\n",
    "        df_temp['name'] = name\n",
    "        pipe_coords = pipe_coords.append(df_temp, ignore_index=True)\n",
    "\n",
    "    pipe_coords['type'] = 'pipeline'\n",
    "    return df, pipe_coords\n",
    "    \n",
    "points_coords, pipe_coords = data_merging(demand_links, supply_links, diversions)\n",
    "\n",
    "points_coords.to_csv(os.path.join(spatial_output, 'points_coords.csv'), index=False)\n",
    "pipe_coords.to_csv(os.path.join(spatial_output, 'pipe_coords.csv'), index=False)"
   ]
  }
 ],
 "metadata": {
  "kernelspec": {
   "display_name": "Python 3",
   "language": "python",
   "name": "python3"
  },
  "language_info": {
   "codemirror_mode": {
    "name": "ipython",
    "version": 3
   },
   "file_extension": ".py",
   "mimetype": "text/x-python",
   "name": "python",
   "nbconvert_exporter": "python",
   "pygments_lexer": "ipython3",
   "version": "3.8.5"
  }
 },
 "nbformat": 4,
 "nbformat_minor": 2
}
