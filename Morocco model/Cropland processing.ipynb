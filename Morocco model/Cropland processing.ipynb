{
 "cells": [
  {
   "cell_type": "code",
   "execution_count": null,
   "metadata": {},
   "outputs": [],
   "source": [
    "%load_ext autoreload"
   ]
  },
  {
   "cell_type": "code",
   "execution_count": null,
   "metadata": {},
   "outputs": [],
   "source": [
    "%autoreload\n",
    "import sys\n",
    "sys.path.append(\"..\") #this is to add the avobe folder to the package directory\n",
    "import geopandas as gpd\n",
    "import pandas as pd\n",
    "import numpy as np\n",
    "import matplotlib.pyplot as plt\n",
    "from nexus_tool.weap_tools import get_zonal_stats\n",
    "import fiona\n",
    "import itertools\n",
    "from mpl_toolkits.axes_grid1 import make_axes_locatable\n",
    "import os\n",
    "fiona.drvsupport.supported_drivers['kml'] = 'rw' # enable KML support\n",
    "fiona.drvsupport.supported_drivers['KML'] = 'rw' # enable KML support"
   ]
  },
  {
   "cell_type": "code",
   "execution_count": null,
   "metadata": {},
   "outputs": [],
   "source": [
    "data_folder = os.path.join('Data')\n",
    "demand_path = os.path.join(data_folder, 'GIS', 'Processed layers', 'Demand_points.gpkg')\n",
    "cropland_path = os.path.join(data_folder, 'GIS', 'Processed layers', 'cropland_2013_processed_20200227.csv')\n",
    "output_file = os.path.join(data_folder, 'Cropland and Builtarea', 'cropland.gz')\n",
    "output_folder = os.path.join(data_folder, 'Cropland and Builtarea')\n",
    "\n",
    "cropland = gpd.read_file(cropland_path, encoding='utf-8')\n",
    "cropland.drop(columns=['WKT', 'gen2013', 'area_ha'], inplace=True)\n",
    "cropland.reset_index(inplace=True)\n",
    "cropland.rename(columns={'index': 'Demand point', \n",
    "                         'prov': 'province', 'wtd_mean': 'wtd'}, inplace=True)\n",
    "cropland.columns = cropland.columns.str.replace('mean','')\n",
    "cropland.columns = cropland.columns.str.replace('mea','')\n",
    "for column in list(cropland)[1:-3]:\n",
    "    cropland.loc[cropland[column]=='', column] = np.nan\n",
    "\n",
    "provinces = gpd.read_file(os.path.join('Data', 'GIS', 'Admin', 'Provinces.gpkg'), \n",
    "                          encoding='utf-8')\n",
    "demand_sites = gpd.read_file(demand_path, encoding='utf-8')"
   ]
  },
  {
   "cell_type": "code",
   "execution_count": null,
   "metadata": {},
   "outputs": [],
   "source": [
    "MerchidSudMoroc = 26192\n",
    "for gdf in [provinces, demand_sites]:\n",
    "    gdf.to_crs(epsg=MerchidSudMoroc, inplace=True)\n",
    "\n",
    "for column in list(cropland)[1:-3]:\n",
    "    cropland[column] = cropland[column].astype('float')\n",
    "    cropland[column] = cropland[column].interpolate()\n",
    "cropland['wtd'] = cropland['wtd'].astype('float')\n",
    "\n",
    "cropland.crs = f'epsg:{MerchidSudMoroc}'\n",
    "cropland = cropland.loc[cropland.area_m2>=100] #choose"
   ]
  },
  {
   "cell_type": "code",
   "execution_count": null,
   "metadata": {},
   "outputs": [],
   "source": [
    "dff = cropland.loc[cropland.province=='Taroudannt', 'wtd']\n",
    "cropland.loc[cropland.province=='Taroudannt', 'wtd'] *= 170 * dff.count() / dff.sum()\n",
    "dff = cropland.loc[cropland.province=='Chtouka-Aït Baha', 'wtd']\n",
    "cropland.loc[cropland.province=='Chtouka-Aït Baha', 'wtd'] *= 85 * dff.count() / dff.sum()"
   ]
  },
  {
   "cell_type": "code",
   "execution_count": null,
   "metadata": {},
   "outputs": [],
   "source": [
    "fig, ax = plt.subplots(1, 1, figsize=(12, 12))\n",
    "\n",
    "divider = make_axes_locatable(ax)\n",
    "cax = divider.append_axes(\"right\", size=\"5%\", pad=0.1)\n",
    "\n",
    "provinces.plot(color='white', edgecolor='black', ax=ax)\n",
    "cropland.plot(column='_srad7', ax=ax, cmap='OrRd', legend=True, cax=cax)\n",
    "demand_sites.loc[demand_sites['type']=='Catchment'].plot(ax=ax, column='type', legend=True)\n",
    "for idx, row in demand_sites.loc[demand_sites['type']=='Catchment'].iterrows():\n",
    "    ax.annotate(text=row['point'], xy=row.geometry.centroid.coords[0],\n",
    "                 horizontalalignment='center')"
   ]
  },
  {
   "cell_type": "code",
   "execution_count": null,
   "metadata": {},
   "outputs": [],
   "source": [
    "fig, ax = plt.subplots(1, 1, figsize=(12, 12))\n",
    "\n",
    "divider = make_axes_locatable(ax)\n",
    "cax = divider.append_axes(\"right\", size=\"5%\", pad=0.1)\n",
    "\n",
    "provinces.plot(color='white', edgecolor='black', ax=ax)\n",
    "cropland.plot(column='wtd', ax=ax, legend=True, cax=cax)"
   ]
  },
  {
   "cell_type": "code",
   "execution_count": null,
   "metadata": {},
   "outputs": [],
   "source": [
    "cropland.loc[cropland.province=='Taroudannt', 'wtd'].max()"
   ]
  },
  {
   "cell_type": "code",
   "execution_count": null,
   "metadata": {},
   "outputs": [],
   "source": [
    "def get_Re(df,Re,mV,D, Ken_visc, axis=1):\n",
    "    if axis:\n",
    "        for i in range (1,13):\n",
    "            _mV = '{}{}'.format(mV, i)\n",
    "            _Re = '{}{}'.format(Re, i) #already defined in the class properties Re='Re_'\n",
    "            \n",
    "            df[_Re] = (df[_mV]*D)/Ken_visc\n",
    "    else:\n",
    "        df[Re] = df[mV]*D/Ken_visc\n",
    "        \n",
    "    return df\n",
    "\n",
    "#f=friction coefficient (unitless), k =  Roughness factor (m)\n",
    "def get_f(df,f, k,D,Re, axis=1):\n",
    "    if axis:\n",
    "        for i in range (1,13):\n",
    "            _Re = '{}{}'.format(Re, i)\n",
    "            _f = '{}{}'.format(f, i) #already defined in the class properties f='f_'\n",
    "        \n",
    "            df[_f] =0.25/(np.log((k/(3.7*D))+(5.74/(df[_Re]**0.9)))**2)\n",
    "        \n",
    "    else:\n",
    "        df[f] = 0.25/(np.log((k/(3.7*D))+(5.74/(df[Re]**0.9)))**2)\n",
    "\n",
    "    return df"
   ]
  },
  {
   "cell_type": "code",
   "execution_count": null,
   "metadata": {},
   "outputs": [],
   "source": [
    "np.log(float('inf'))"
   ]
  },
  {
   "cell_type": "code",
   "execution_count": null,
   "metadata": {},
   "outputs": [],
   "source": [
    "def create_time_data(data, first_year, end_year):\n",
    "    df = pd.DataFrame()\n",
    "    df['Year'] = list(itertools.chain.from_iterable([[year]*12*data.shape[0] for year in range(first_year,end_year+1)]))\n",
    "    y_number = df.Year.unique().shape[0]\n",
    "    dff = pd.DataFrame(data.filter(regex='_srad|province|Demand point|area|wtd').melt(id_vars=['Demand point','province','area_m2','wtd']))\n",
    "    dff.rename(columns={'variable': 'Month', 'value': 'srad'}, inplace=True) \n",
    "    dff = dff.join(data.filter(like='_wind').melt())\n",
    "    dff.rename(columns={'value': 'wind'}, inplace=True)\n",
    "    dff.drop(columns=['variable'], inplace=True)\n",
    "    dff['Month'] = dff['Month'].str.replace('_srad','').astype(int)\n",
    "    dff.sort_values(['province','Month'], inplace=True)\n",
    "    dff.reset_index(drop=True, inplace=True)\n",
    "    df = df.join(pd.concat([dff]*y_number, ignore_index=True))\n",
    "    df['Date'] = pd.to_datetime(df[['Year','Month']].join(pd.DataFrame({'day': [1]*df.shape[0]})))\n",
    "    return df"
   ]
  },
  {
   "cell_type": "code",
   "execution_count": null,
   "metadata": {},
   "outputs": [],
   "source": [
    "df_cropland = create_time_data(cropland, 2019, 2050)"
   ]
  },
  {
   "cell_type": "code",
   "execution_count": null,
   "metadata": {},
   "outputs": [],
   "source": [
    "df_cropland"
   ]
  },
  {
   "cell_type": "code",
   "execution_count": null,
   "metadata": {},
   "outputs": [],
   "source": [
    "def get_area_share(df, by, value):\n",
    "    dff = df.groupby(by)[value].sum().copy()\n",
    "    return df[value] / df.set_index(by).index.map(dff)"
   ]
  },
  {
   "cell_type": "code",
   "execution_count": null,
   "metadata": {},
   "outputs": [],
   "source": [
    "cropland_temp = cropland.copy()\n",
    "cropland_temp.loc[cropland_temp['province']=='Inezgane-Aït Melloul', 'province'] = 'Taroudannt'\n",
    "df_cropland['area_share'] = df_cropland['Demand point'].map(get_area_share(cropland_temp, 'province', 'area_m2'))"
   ]
  },
  {
   "cell_type": "code",
   "execution_count": null,
   "metadata": {},
   "outputs": [],
   "source": [
    "os.makedirs(output_folder, exist_ok = True)\n",
    "df_cropland.to_csv(output_file, index=False)"
   ]
  }
 ],
 "metadata": {
  "kernelspec": {
   "display_name": "Python 3",
   "language": "python",
   "name": "python3"
  },
  "language_info": {
   "codemirror_mode": {
    "name": "ipython",
    "version": 3
   },
   "file_extension": ".py",
   "mimetype": "text/x-python",
   "name": "python",
   "nbconvert_exporter": "python",
   "pygments_lexer": "ipython3",
   "version": "3.8.5"
  }
 },
 "nbformat": 4,
 "nbformat_minor": 2
}
