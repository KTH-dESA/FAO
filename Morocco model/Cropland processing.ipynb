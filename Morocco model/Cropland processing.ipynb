{
 "cells": [
  {
   "cell_type": "code",
   "execution_count": null,
   "metadata": {},
   "outputs": [],
   "source": [
    "import sys\n",
    "sys.path.append(\"..\") #this is to add the avobe folder to the package directory\n",
    "import geopandas as gpd\n",
    "import pandas as pd\n",
    "import numpy as np\n",
    "import matplotlib.pyplot as plt\n",
    "from mpl_toolkits.axes_grid1 import make_axes_locatable\n",
    "import os\n",
    "import shapely\n",
    "from nexustool.gis_tools import download_data, create_time_data, get_area_share, get_zonal_stats\n",
    "from nexustool.weap_tools import reproject_raster, sample_raster"
   ]
  },
  {
   "cell_type": "markdown",
   "metadata": {},
   "source": [
    "## Downloading solar irradiation and water table depth data"
   ]
  },
  {
   "cell_type": "code",
   "execution_count": null,
   "metadata": {},
   "outputs": [],
   "source": [
    "url = 'https://biogeo.ucdavis.edu/data/worldclim/v2.1/base/wc2.1_30s_srad.zip'\n",
    "file_path = os.path.join('data', 'gis', 'srad', 'wc2.1_30s_srad.zip')\n",
    "download_data(url, file_path)"
   ]
  },
  {
   "cell_type": "code",
   "execution_count": null,
   "metadata": {},
   "outputs": [],
   "source": [
    "url = 'https://souss-massa-dev.s3.us-east-2.amazonaws.com/post_build/Africa_model_wtd_v2.nc'\n",
    "file_path = os.path.join('data', 'gis', 'wtd', 'Africa_model_wtd_v2.nc')\n",
    "download_data(url, file_path)"
   ]
  },
  {
   "cell_type": "markdown",
   "metadata": {},
   "source": [
    "## Reading the input data"
   ]
  },
  {
   "cell_type": "code",
   "execution_count": null,
   "metadata": {},
   "outputs": [],
   "source": [
    "data_folder = os.path.join('data')\n",
    "demand_path = os.path.join(data_folder, 'gis', 'processed layers', 'demand_points.gpkg')\n",
    "cropland_path = os.path.join(data_folder, 'gis', 'cropland', 'cropland.gz')\n",
    "\n",
    "crop_df = pd.read_csv(cropland_path, encoding='utf-8')\n",
    "geometry = crop_df['WKT'].map(shapely.wkt.loads)\n",
    "cropland = gpd.GeoDataFrame(crop_df.drop(columns=['WKT']), crs=\"EPSG:26192\", geometry=geometry)\n",
    "provinces = gpd.read_file(os.path.join('data', 'gis', 'admin', 'provinces.gpkg'), encoding='utf-8')"
   ]
  },
  {
   "cell_type": "markdown",
   "metadata": {},
   "source": [
    "## Convert coordenate reference system (crs)"
   ]
  },
  {
   "cell_type": "code",
   "execution_count": null,
   "metadata": {},
   "outputs": [],
   "source": [
    "MerchidSudMoroc = 26192\n",
    "for gdf in [provinces, demand_sites]:\n",
    "    gdf.to_crs(epsg=MerchidSudMoroc, inplace=True)\n",
    "\n",
    "cropland = cropland.loc[cropland.area_m2>=100] #choose"
   ]
  },
  {
   "cell_type": "markdown",
   "metadata": {},
   "source": [
    "## Solar irradiation zonal statistics\n",
    "Loops through the 12 months of the year and gets the mean solar irradiation of each month within each cropland polygon"
   ]
  },
  {
   "cell_type": "code",
   "execution_count": null,
   "metadata": {},
   "outputs": [],
   "source": [
    "cropland.to_crs(epsg=4326, inplace=True)\n",
    "for month in range(1, 13):\n",
    "    cropland = get_zonal_stats(cropland, \n",
    "                               os.path.join('data', 'gis', 'srad', \n",
    "                                            f'wc2.1_30s_srad_{str(month).zfill(2)}.tif'), \n",
    "                               ['mean'], all_touched=True).rename(columns={'mean': f'srad{month}'})"
   ]
  },
  {
   "cell_type": "markdown",
   "metadata": {},
   "source": [
    "## Water table depth zonal statistics"
   ]
  },
  {
   "cell_type": "code",
   "execution_count": null,
   "metadata": {},
   "outputs": [],
   "source": [
    "cropland.crs = 4326\n",
    "cropland = get_zonal_stats(cropland, \n",
    "                           os.path.join('data', 'gis', 'wtd', \n",
    "                                        'Africa_model_wtd_v2.nc'), \n",
    "                           ['mean'], all_touched=True).rename(columns={'mean': 'wtd'})"
   ]
  },
  {
   "cell_type": "code",
   "execution_count": null,
   "metadata": {},
   "outputs": [],
   "source": [
    "cropland.crs = 4326\n",
    "cropland.to_crs(epsg=MerchidSudMoroc, inplace=True)"
   ]
  },
  {
   "cell_type": "code",
   "execution_count": null,
   "metadata": {},
   "outputs": [],
   "source": [
    "cropland.head()"
   ]
  },
  {
   "cell_type": "markdown",
   "metadata": {},
   "source": [
    "## Visualizing the solar irriadiation in cropland areas"
   ]
  },
  {
   "cell_type": "code",
   "execution_count": null,
   "metadata": {},
   "outputs": [],
   "source": [
    "fig, ax = plt.subplots(1, 1, figsize=(12, 12))\n",
    "\n",
    "divider = make_axes_locatable(ax)\n",
    "cax = divider.append_axes(\"right\", size=\"5%\", pad=0.1)\n",
    "\n",
    "provinces.plot(color='white', edgecolor='black', ax=ax)\n",
    "cropland.plot(column='srad1', ax=ax, cmap='OrRd', legend=True, cax=cax)"
   ]
  },
  {
   "cell_type": "markdown",
   "metadata": {},
   "source": [
    "## Creating time series data"
   ]
  },
  {
   "cell_type": "code",
   "execution_count": null,
   "metadata": {},
   "outputs": [],
   "source": [
    "df_cropland = create_time_data(cropland, 2019, 2050)"
   ]
  },
  {
   "cell_type": "code",
   "execution_count": null,
   "metadata": {},
   "outputs": [],
   "source": [
    "df_cropland.head()"
   ]
  },
  {
   "cell_type": "markdown",
   "metadata": {},
   "source": [
    "## Calculating the area share of each croplan area within each province"
   ]
  },
  {
   "cell_type": "code",
   "execution_count": null,
   "metadata": {},
   "outputs": [],
   "source": [
    "cropland_temp = cropland.copy()\n",
    "cropland_temp.loc[cropland_temp['province']=='Inezgane-Aït Melloul', 'province'] = 'Taroudannt' #Including Inezgane-Aït Melloul irrigated area into results from Taroudant due to lack of data for the former\n",
    "df_cropland['area_share'] = df_cropland['Demand point'].map(get_area_share(cropland_temp, 'province', 'area_m2'))"
   ]
  },
  {
   "cell_type": "markdown",
   "metadata": {},
   "source": [
    "## Saving the results"
   ]
  },
  {
   "cell_type": "code",
   "execution_count": null,
   "metadata": {},
   "outputs": [],
   "source": [
    "os.makedirs(os.path.join('data', 'cropland'), exist_ok = True)\n",
    "df_cropland.to_csv(os.path.join('data', 'cropland', 'cropland.gz'), index=False)"
   ]
  }
 ],
 "metadata": {
  "kernelspec": {
   "display_name": "Python 3",
   "language": "python",
   "name": "python3"
  },
  "language_info": {
   "codemirror_mode": {
    "name": "ipython",
    "version": 3
   },
   "file_extension": ".py",
   "mimetype": "text/x-python",
   "name": "python",
   "nbconvert_exporter": "python",
   "pygments_lexer": "ipython3",
   "version": "3.7.3"
  }
 },
 "nbformat": 4,
 "nbformat_minor": 2
}
