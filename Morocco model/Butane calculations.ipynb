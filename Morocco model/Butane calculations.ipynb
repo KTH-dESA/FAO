{
 "cells": [
  {
   "cell_type": "markdown",
   "metadata": {},
   "source": [
    "# NEXUS tool: case study for the Souss-Massa basin - Butane phase out strategies \n",
    "In this notebook a case study for the Souss-Massa basin is covered using the `nexustool` and other packages. This part of the analysis will consider three phase out scenarios for Butane phaseout as follows:\n",
    "\n",
    "1. Business as usual scenario (None): No phase out which means the current share of butane use to continue into the future\n",
    "2. Late Phase out (2040): which assumes compelte phase out of butane by 2040.\n",
    "3. Early Phase out (2030): which assumes compelte phase out of butane by 2030.\n",
    "\n",
    "For all the three main scenarios, we will explore three levels of PV share in the region.\n",
    "\n",
    "a. Low PV Share (10): which assumes the current level of PV share of 10% to continue in the future\n",
    "b. Medium PV Share (20): which assumes an increase of PV share from 10% to 20% by 2040.\n",
    "c. High PV Share (50): which assumes an increase of PV share from 10% to 50% by 2040.\n",
    "\n",
    "First import the package by running the following block:"
   ]
  },
  {
   "cell_type": "code",
   "execution_count": null,
   "metadata": {},
   "outputs": [],
   "source": [
    "import sys\n",
    "sys.path.append(\"..\") #this is to add the above folder to the package directory\n",
    "import os\n",
    "import nexustool\n",
    "from nexustool.weap_tools import create_learning_curve, create_tech_dist\n",
    "from nexustool.gis_tools import disaggregate_data\n",
    "import pandas as pd\n",
    "import numpy as np\n",
    "from dashboard.scripts.plotting import pv_installed_capacity, energy_demand_ag, emissions_ag, costs_plot"
   ]
  },
  {
   "cell_type": "markdown",
   "metadata": {},
   "source": [
    "## Step 1:Reading the input files\n",
    "\n",
    "The analysis in this phase will depend on the outcomes of WEAP and the energy demand calculations. The main two input files are: \n",
    "1) Cropland file: which shows the spatial distribution of irrigated cropland area.\n",
    "\n",
    "2) WEAP file: which is shows the energy demand results fir each of the WEAP scenarios. In the following steps the naming of some of the provinces is also corrected. "
   ]
  },
  {
   "cell_type": "code",
   "execution_count": null,
   "metadata": {},
   "outputs": [],
   "source": [
    " #Define the path to read the cropland and builtup are data and reads it in\n",
    "folder_path = os.path.join('data')\n",
    "maincropland_path = os.path.join(folder_path,'cropland' ,'cropland.gz')\n",
    "maincropland = pd.read_csv(maincropland_path)\n",
    "weap = pd.read_csv(os.path.join('results', 'Desalination', 'Climate Change', 'results.gz'))"
   ]
  },
  {
   "cell_type": "markdown",
   "metadata": {},
   "source": [
    "## Step2: Cleaning and reorganizing the cropland dataframe\n",
    "In this step we take the `WEAP` and distribute the energy scenario results into the `cropland` data. This way we can correlate agricultural pumping energy demans with spatially distributed irrigated area and solar irradiation (PV potential)."
   ]
  },
  {
   "cell_type": "code",
   "execution_count": null,
   "metadata": {},
   "outputs": [],
   "source": [
    "cropland = disaggregate_data(weap, maincropland)"
   ]
  },
  {
   "cell_type": "code",
   "execution_count": null,
   "metadata": {},
   "outputs": [],
   "source": [
    "cropland.rename(columns={'sswd':'water_demand(m3)',\n",
    "                'pwd':'peak_water(m3)',\n",
    "                'pp_e':'peak_load(KW)',\n",
    "                'pa_e':'energy_demand(KWh)'}, inplace=True)"
   ]
  },
  {
   "cell_type": "markdown",
   "metadata": {},
   "source": [
    "## Step3: Define butane phase out year and PV share\n",
    "\n",
    "In this step we introduce a new function that will model the change in the technologies disctributions over years. To have a better understanding of this step, check the scenarios section under Butane calculations in the Energy Training material. "
   ]
  },
  {
   "cell_type": "code",
   "execution_count": null,
   "metadata": {},
   "outputs": [],
   "source": [
    "df = cropland\n",
    "\n",
    "butane_phaseout = 2040 #specify the end year for butane phase out\n",
    "pv_level = 30 #Specify the PV level adoption\n",
    "\n",
    "pv_year = 2040\n",
    "discount_rate = 0.05"
   ]
  },
  {
   "cell_type": "code",
   "execution_count": null,
   "metadata": {},
   "outputs": [],
   "source": [
    "if butane_phaseout:\n",
    "    butane_share = 1\n",
    "    year = butane_phaseout\n",
    "else:\n",
    "    butane_share = 0\n",
    "    year = 2050"
   ]
  },
  {
   "cell_type": "markdown",
   "metadata": {},
   "source": [
    "## Step4: Defining technologies distributions over coming years\n",
    "\n",
    "In this step we introduce a new function that allows us to simulate the drop in PV capital cost due to learning curve. In this analysis we assume that the PV capital cost we drop to 40% of the currrent level in 2020. "
   ]
  },
  {
   "cell_type": "code",
   "execution_count": null,
   "metadata": {},
   "outputs": [],
   "source": [
    "pv_share = 1 - pv_level / 10\n",
    "\n",
    "om_cost = 0.01 \n",
    "efficiency = 1\n",
    "butane_share1 = 0.2\n",
    "pv_share1 = 0.1\n",
    "df.start_year = 2020\n",
    "df.end_year = year\n",
    "df.mid_year = ((df.start_year+df.end_year)/2)\n",
    "bt_rates = {df.start_year: 0, df.mid_year: butane_share*0.5, df.end_year: butane_share}\n",
    "pv_rates = {df.start_year: 0, 2030: pv_share*0.5, pv_year: pv_share, 2050: pv_share*1.2}\n",
    "butane_dist = create_tech_dist(df.start_year, df.end_year, butane_share1, bt_rates, 'polynomial')\n",
    "pv_dist = create_tech_dist(df.start_year, pv_year, pv_share1, pv_rates, 'polynomial')\n",
    "\n",
    "pv_rate = 0.4 #Assuming 40% drop in PV capex by 2040.\n",
    "cc = 7 #current capital cost of pv in MAD/wat. source: energy experts in SM\n",
    "pv_life = 15\n",
    "df.start_year = 2020\n",
    "df.end_year= 2050\n",
    "\n",
    "rates = {2020: 0, 2030: pv_rate*0.3, 2040: pv_rate, 2050: pv_rate*1.3}\n",
    "cc_solar_curve = create_learning_curve(df.start_year, df.end_year, cc, rates, 'polynomial')"
   ]
  },
  {
   "cell_type": "code",
   "execution_count": null,
   "metadata": {},
   "outputs": [],
   "source": [
    "butane_dist.plot()"
   ]
  },
  {
   "cell_type": "code",
   "execution_count": null,
   "metadata": {},
   "outputs": [],
   "source": [
    "pv_dist.plot()"
   ]
  },
  {
   "cell_type": "code",
   "execution_count": null,
   "metadata": {},
   "outputs": [],
   "source": [
    "cc_solar_curve.plot()"
   ]
  },
  {
   "cell_type": "code",
   "execution_count": null,
   "metadata": {},
   "outputs": [],
   "source": [
    "# Intorducing a new dataframe to show the change in butane share, pv share and pv capital cost (cc)\n",
    "dist = pd.DataFrame({'butane_share':pd.Series(butane_dist),\n",
    "                   'pv_share':pd.Series(pv_dist),\n",
    "                    'pv_cc':pd.Series(cc_solar_curve)})\n",
    "\n",
    "dist['butane_share'].fillna(method='ffill',inplace=True) #This method fills any missing data with the previous value.\n",
    "dist['pv_share'].fillna(method='ffill',inplace=True)\n",
    "dist['pv_cc'].fillna(method='ffill',inplace=True)\n",
    "dist['grid_share']= 1-(dist['pv_share']+dist['butane_share'])"
   ]
  },
  {
   "cell_type": "code",
   "execution_count": null,
   "metadata": {},
   "outputs": [],
   "source": [
    "# merging the distribution dataframe with the original dataframe that includes weap outputs, the merging is based on 'Year'\n",
    "\n",
    "souss_massa = pd.merge(df, dist, on='Year')"
   ]
  },
  {
   "cell_type": "markdown",
   "metadata": {},
   "source": [
    "## Step5: Calculating the monthly electricity demand for each technology \n",
    "\n",
    "Three main technologies used for groundwater pumping: Butane pumps, electric pumps taking electricty from the national grid and solar pumps. Since we do not have detailed information on the exact location where each technology is being used, we assumed that in each area there is a mix of the three technologies and the total pumping demand is split between the three technologies based on the share of each technology (Grid:70%, Butane: 20% and PV:10%).\n",
    "In this step we calculate the monthly demand for each technology in each irrigated area"
   ]
  },
  {
   "cell_type": "code",
   "execution_count": null,
   "metadata": {},
   "outputs": [],
   "source": [
    "# Introducing technologies characteristics: such as costs, emission factors, pumps effiencies ..etc\n",
    "\n",
    "butane_req = 1/12.58 # LHV = 12.58 KWh/Kg (amount of butane (kg) required to produce 1 KWh) \n",
    "butane_em = 6.67 #kg CO\"/Gallon\n",
    "gallon2liter = 3.78541 #l/Gallon\n",
    "butane_density = 573 #kg/m3\n",
    "butane_ef = butane_em / (gallon2liter/1000 * butane_density) #kgCO2/kg\n",
    "butane_em_fac = butane_ef * 1000 ##kgCO2/ton\n",
    "butane_em_fac = 3079.5\n",
    "bpump_eff = 0.2 #efficiency of butane \n",
    "epump_eff = 0.45 #assumption\n",
    "conv_fac = 1000000000 # to convert emissions from kgCO2 to Million meteric tons of CO2 MtCO2\n",
    "grid_em_fac = 0.7 #kgco2/kwh  , This is based on data from IEA, Morocco 2019 \n",
    "grid_cost = 0.57 # MAD/KWh, Assumption and to be updated "
   ]
  },
  {
   "cell_type": "code",
   "execution_count": null,
   "metadata": {},
   "outputs": [],
   "source": [
    "souss_massa['pv_load(KW)'] = souss_massa['peak_load(KW)']*souss_massa['pv_share']\n",
    "souss_massa['pv_demand(KWh)'] = souss_massa['energy_demand(KWh)']*souss_massa['pv_share']\n",
    "souss_massa['butane_demand(KWh)'] = souss_massa['energy_demand(KWh)']*souss_massa['butane_share']\n",
    "souss_massa['grid_demand(KWh)'] = souss_massa['energy_demand(KWh)']*souss_massa['grid_share']\n",
    "\n",
    "\n",
    "souss_massa['pv_elec(KWh)'] = souss_massa['pv_demand(KWh)']/epump_eff\n",
    "souss_massa['grid_elec(KWh)'] = souss_massa['grid_demand(KWh)']/epump_eff\n",
    "\n",
    "souss_massa['butane_cons(kg)'] = (souss_massa['butane_demand(KWh)']*butane_req)/bpump_eff\n",
    "souss_massa['butane_cons(tonnes)'] = souss_massa['butane_cons(kg)']/1000"
   ]
  },
  {
   "cell_type": "markdown",
   "metadata": {},
   "source": [
    "## Step6: Calculating the costs and emissions for butane pumps and the grid\n",
    "\n",
    "After calculating the share of each technology, we move to calculate the cost of using each technology. \n",
    "For Butane we are calculating three types of costs: what farmers pay, the subsidy level and the toatl cost. The most important one is the second cost (subsidy) which will be used in the next steps.\n",
    "In this step we also compute the emissions released due to the use of butane or the grid. knowing that the national grid is heavily dependant on fossil fuels. "
   ]
  },
  {
   "cell_type": "code",
   "execution_count": null,
   "metadata": {},
   "outputs": [],
   "source": [
    "# Estimating butance costs and emissions:\n",
    "\n",
    "souss_massa['butane_emissions(MtCO2)'] = souss_massa['butane_cons(tonnes)'] * butane_em_fac/conv_fac\n",
    "souss_massa['butane_FARcost(mMAD)'] = (souss_massa['butane_cons(kg)']*(40/12))/1000000 #in million MAD, this is what farmers pay\n",
    "souss_massa['butane_ACTcost(mMAD)'] = (souss_massa['butane_cons(kg)']*(120/12))/1000000 #in million MAD, this is what farmers pay\n",
    "souss_massa['butane_Subsidy(mMAD)'] = (souss_massa['butane_cons(kg)']*(80/12))/1000000 #in million MAD, this is the total subsidy cost\n",
    "\n",
    "\n",
    "# Estimating grid costs and emissions:\n",
    "\n",
    "souss_massa['grid_emissions(MtCO2)'] = souss_massa['grid_elec(KWh)']*grid_em_fac/conv_fac\n",
    "souss_massa['grid_cost(mMAD)'] = (souss_massa['grid_elec(KWh)']*grid_cost)/1000000\n",
    "souss_massa['Total_emissions(MtCO2)'] = (souss_massa['grid_emissions(MtCO2)'] + souss_massa['butane_emissions(MtCO2)'])\n",
    "\n"
   ]
  },
  {
   "cell_type": "markdown",
   "metadata": {},
   "source": [
    "## Step7: Calculate the required PV capacity for pumping (for each location in each month) \n",
    "\n",
    "Now let us move to the PV part of the calculations. We first use the solar radiation map to estimate the capacity factor at each location in each month. This will then be used to calculate the required capacity of PV in each month of the year. "
   ]
  },
  {
   "cell_type": "code",
   "execution_count": null,
   "metadata": {},
   "outputs": [],
   "source": [
    "# Estimating the required monthly capacity of pv NOTE: 1 kWh = 3600 kJ\n",
    "\n",
    "souss_massa['cf'] = souss_massa['srad'] / (24*60*60) #This will give the cf in solar rad: (kJ/(m2.day))*30.day/month*1h/(24h*60m*60s) =kWh/(m2.month)*30/(60*60)\n",
    "souss_massa['cap_m(MW)'] = souss_massa['pv_load(KW)'] / souss_massa['cf']/1000   #to convert to MW, check the units\n",
    "\n"
   ]
  },
  {
   "cell_type": "markdown",
   "metadata": {},
   "source": [
    "## Step 8: Calculate the annual required PV capacity (new installation, reinvestment and total capacity)\n",
    "\n",
    "When we talk about investments we are usually interested in annual investment not monthly. Therefore we aggregate the dataframe to show the annual values for each type of inputs. The `groupby` method is used to group everything for each `demand point` and for each `Year` as shown here:"
   ]
  },
  {
   "cell_type": "code",
   "execution_count": null,
   "metadata": {},
   "outputs": [],
   "source": [
    "souss_massa1 = souss_massa.groupby(['Demand point','Year']).agg({'water_demand(m3)': 'sum','energy_demand(KWh)': 'sum', \n",
    "                                    'pv_elec(KWh)': 'sum', 'grid_elec(KWh)': 'sum', 'cap_m(MW)': 'max',\n",
    "                                     'butane_cons(tonnes)': 'sum', 'butane_FARcost(mMAD)': 'sum', \n",
    "                                     'butane_ACTcost(mMAD)': 'sum','butane_Subsidy(mMAD)': 'sum',\n",
    "                                      'butane_emissions(MtCO2)': 'sum','grid_emissions(MtCO2)': 'sum',\n",
    "                                      'Total_emissions(MtCO2)': 'sum','grid_cost(mMAD)': 'sum',\n",
    "                                      'pv_demand(KWh)': 'sum', 'butane_demand(KWh)': 'sum', 'grid_demand(KWh)': 'sum'})"
   ]
  },
  {
   "cell_type": "code",
   "execution_count": null,
   "metadata": {},
   "outputs": [],
   "source": [
    "# Introducing additional attributes to the dataframe:\n",
    "\n",
    "souss_massa1['GWdepth'] = (souss_massa.groupby(['Demand point','Year'])['wtd'].mean())\n",
    "souss_massa1['srad'] = (souss_massa.groupby(['Demand point','Year'])['srad'].mean())\n",
    "souss_massa1['cap_mean(MW)'] = (souss_massa.groupby(['Demand point','Year'])['cap_m(MW)'].mean())\n",
    "souss_massa1['cap_max(MW)'] = (souss_massa.groupby(['Demand point','Year'])['cap_m(MW)'].max())\n",
    "souss_massa1['pv_cc'] = (souss_massa.groupby(['Demand point','Year'])['pv_cc'].mean())\n",
    "\n",
    "del souss_massa"
   ]
  },
  {
   "cell_type": "markdown",
   "metadata": {},
   "source": [
    "Here we set the annual capacity of PV to be the maximum monthly capacity at each demand point. "
   ]
  },
  {
   "cell_type": "code",
   "execution_count": null,
   "metadata": {},
   "outputs": [],
   "source": [
    "pv_installed_cap = pd.Series(dtype=float) #inicialize a pandas series that will be populated with the cumulative max of the max capacity of each point group\n",
    "for index, group in souss_massa1.reset_index().groupby('Demand point'): # loops through each demand point set of data\n",
    "    group_pv_cap = pd.Series(group['cap_m(MW)'].cummax().values, index=group.reset_index().set_index(['Demand point','Year']).index)\n",
    "    pv_installed_cap = pv_installed_cap.append(group_pv_cap) # calculates the cummmax() for the demand point and append the values to the pv_installed_capacity"
   ]
  },
  {
   "cell_type": "markdown",
   "metadata": {},
   "source": [
    "In this step we introduce the `new capcity` which is the additional capacity of PV required in each year compare to the previous year. Also we intorduce the `reinvest capacity` which is the second investment required in certain locations after the lifetime of the pannels"
   ]
  },
  {
   "cell_type": "code",
   "execution_count": null,
   "metadata": {},
   "outputs": [],
   "source": [
    "#souss_massa1.reset_index(inplace=True)     \n",
    "souss_massa1['PV_installed_cap(MW)'] = pv_installed_cap\n",
    "souss_massa1['PV_new_cap(MW)'] = souss_massa1['PV_installed_cap(MW)'] - souss_massa1['PV_installed_cap(MW)'].shift(1)\n",
    "souss_massa1.reset_index(inplace=True)\n",
    "souss_massa1.loc[souss_massa1['Year']==2020, 'PV_new_cap(MW)'] = 0\n",
    "souss_massa1['reinv_cap(MW)'] = souss_massa1['PV_new_cap(MW)'].shift(pv_life).fillna(0)\n",
    "souss_massa1.loc[souss_massa1['Year']<(2020+pv_life), 'reinv_cap(MW)'] = 0"
   ]
  },
  {
   "cell_type": "markdown",
   "metadata": {},
   "source": [
    "## Step 9: Calculate PV CAPEX and OPEX\n",
    "\n",
    "After calculating the required capacity of PV, it is time to calculate PV capital cost (CAPEX) which is based in the annual capacity and the annual price of PV pannels given the annual drop due to learning curve. The Operating and Maintenance cost of PV (OPEX) are simply a fraction of the annual CAPEX."
   ]
  },
  {
   "cell_type": "code",
   "execution_count": null,
   "metadata": {},
   "outputs": [],
   "source": [
    "# Calculating PV CAPEX and OPEX:\n",
    "\n",
    "souss_massa1['PV_Capex(mMAD)']=(souss_massa1['PV_new_cap(MW)']+souss_massa1['reinv_cap(MW)'])*souss_massa1['pv_cc']\n",
    "souss_massa1['PV_Opex(mMAD)']=(souss_massa1['PV_Capex(mMAD)']*om_cost)\n"
   ]
  },
  {
   "cell_type": "code",
   "execution_count": null,
   "metadata": {},
   "outputs": [],
   "source": [
    "#Calculating the required area for PV installations:\n",
    "souss_massa1['PV_area(ha)'] = souss_massa1['PV_installed_cap(MW)'] * 0.9  # Since the area required to install 1 MW of PV = 1 ha or 10m2/1KW \n"
   ]
  },
  {
   "cell_type": "code",
   "execution_count": null,
   "metadata": {},
   "outputs": [],
   "source": [
    "#NPV calculations:\n",
    "souss_massa1['time'] = souss_massa1['Year']-2020\n",
    "\n",
    "souss_massa1['PV_Capex_NPV(mMAD)'] = souss_massa1['PV_Capex(mMAD)']/((1+discount_rate)**(souss_massa1['time']))\n",
    "souss_massa1['PV_Opex_NPV(mMAD)'] = souss_massa1['PV_Opex(mMAD)']/((1+discount_rate)**(souss_massa1['time']))\n",
    "souss_massa1['butane_Subsidy_NPV(mMAD)'] = souss_massa1['butane_Subsidy(mMAD)']/((1+discount_rate)**(souss_massa1['time']))\n",
    "souss_massa1['grid_cost_NPV(mMAD)'] = souss_massa1['grid_cost(mMAD)']/((1+discount_rate)**(souss_massa1['time']))\n",
    "souss_massa1['PV_Total_NPV(mMAD)'] = souss_massa1['PV_Capex_NPV(mMAD)'] + souss_massa1['PV_Opex_NPV(mMAD)']\n"
   ]
  },
  {
   "cell_type": "markdown",
   "metadata": {},
   "source": [
    "## Step 10: Summary dataframe \n",
    "\n",
    "Here we construct a summary dataframe that includes the final results that we would like to explore. "
   ]
  },
  {
   "cell_type": "code",
   "execution_count": null,
   "metadata": {},
   "outputs": [],
   "source": [
    "souss_massa1_summary = souss_massa1.groupby(['Year'])[['water_demand(m3)','energy_demand(KWh)', 'cap_max(MW)', 'pv_elec(KWh)', \n",
    "                        'grid_elec(KWh)','butane_cons(tonnes)', 'butane_FARcost(mMAD)',\n",
    "                        'PV_new_cap(MW)','PV_installed_cap(MW)','PV_area(ha)','reinv_cap(MW)',\n",
    "                        'butane_emissions(MtCO2)','grid_emissions(MtCO2)','Total_emissions(MtCO2)',\n",
    "                        'butane_Subsidy(mMAD)','butane_Subsidy_NPV(mMAD)','grid_cost(mMAD)','grid_cost_NPV(mMAD)',\n",
    "                        'PV_Capex(mMAD)','PV_Capex_NPV(mMAD)','PV_Opex(mMAD)','PV_Opex_NPV(mMAD)', 'PV_Total_NPV(mMAD)',\n",
    "                        'pv_demand(KWh)', 'butane_demand(KWh)', 'grid_demand(KWh)']].sum()\n"
   ]
  },
  {
   "cell_type": "markdown",
   "metadata": {},
   "source": [
    "## Step 11: Save results files\n",
    "\n",
    "The results can then be saved into a defined output folder `butane_results_folder`:"
   ]
  },
  {
   "cell_type": "code",
   "execution_count": null,
   "metadata": {},
   "outputs": [],
   "source": [
    "# Step: Saving Results\n",
    "butane_results_folder = os.path.join('results', 'Desalination', 'Climate Change', \n",
    "                                     'Butane results', f'phaseout_{butane_phaseout}', f'{pv_level}_PV')\n",
    "os.makedirs(butane_results_folder, exist_ok = True)\n",
    "\n",
    "# souss_massa1.to_csv(os.path.join(output_folder, 'results.csv'), index=False)\n",
    "souss_massa1_summary.reset_index(inplace=True)\n",
    "souss_massa1_summary.to_csv(os.path.join(butane_results_folder, 'butane.gz'))"
   ]
  },
  {
   "cell_type": "markdown",
   "metadata": {},
   "source": [
    "## Visualizing results\n",
    "Using some functions imported from the visualization tool, we can plot some general results for the scenario:"
   ]
  },
  {
   "cell_type": "markdown",
   "metadata": {},
   "source": [
    "### Installed PV capacity"
   ]
  },
  {
   "cell_type": "code",
   "execution_count": null,
   "metadata": {},
   "outputs": [],
   "source": [
    "pv_installed_capacity(souss_massa1_summary, {})"
   ]
  },
  {
   "cell_type": "markdown",
   "metadata": {},
   "source": [
    "### Energy demand for agricultural pumping"
   ]
  },
  {
   "cell_type": "code",
   "execution_count": null,
   "metadata": {},
   "outputs": [],
   "source": [
    "energy_demand_ag(souss_massa1_summary, {})"
   ]
  },
  {
   "cell_type": "markdown",
   "metadata": {},
   "source": [
    "### CO2 emissions from agricultural pumping"
   ]
  },
  {
   "cell_type": "code",
   "execution_count": null,
   "metadata": {},
   "outputs": [],
   "source": [
    "emissions_ag(souss_massa1_summary, {})"
   ]
  },
  {
   "cell_type": "markdown",
   "metadata": {},
   "source": [
    "### Total annual costs for agricultural pumping system"
   ]
  },
  {
   "cell_type": "code",
   "execution_count": null,
   "metadata": {},
   "outputs": [],
   "source": [
    "costs_plot(souss_massa1_summary,'')"
   ]
  },
  {
   "cell_type": "markdown",
   "metadata": {},
   "source": [
    "# end "
   ]
  }
 ],
 "metadata": {
  "kernelspec": {
   "display_name": "Python 3",
   "language": "python",
   "name": "python3"
  },
  "language_info": {
   "codemirror_mode": {
    "name": "ipython",
    "version": 3
   },
   "file_extension": ".py",
   "mimetype": "text/x-python",
   "name": "python",
   "nbconvert_exporter": "python",
   "pygments_lexer": "ipython3",
   "version": "3.8.5"
  }
 },
 "nbformat": 4,
 "nbformat_minor": 2
}
