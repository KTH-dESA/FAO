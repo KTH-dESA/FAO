{
 "cells": [
  {
   "cell_type": "markdown",
   "metadata": {},
   "source": [
    "# NEXUS tool: case study for the NWSAS basin - least-cost options calculations\n",
    "In this notebook a case study for the NWSAS basin is covered using the `nexus_tool` package. The energy requirements for agricultural irrigation were previously calculated (check the water demand and energy demand case studies). In this case study, the least-cost options to supply the energy needs for agricultural irrigation are identified.\n",
    "\n",
    "First import the package by running the following block:"
   ]
  },
  {
   "cell_type": "code",
   "execution_count": 1,
   "metadata": {},
   "outputs": [],
   "source": [
    "%load_ext autoreload"
   ]
  },
  {
   "cell_type": "code",
   "execution_count": 16,
   "metadata": {},
   "outputs": [],
   "source": [
    "%autoreload\n",
    "import nexus_tool"
   ]
  },
  {
   "cell_type": "markdown",
   "metadata": {},
   "source": [
    "After importing all required packages, the input GIS data is loaded into the variable `df`. Change the `file_path` variable to reflect the name and relative location of your data file. This dataset should already have the water demand for irrigation and energy demand data."
   ]
  },
  {
   "cell_type": "code",
   "execution_count": 3,
   "metadata": {},
   "outputs": [],
   "source": [
    "file_path = r'nwsas_results/pumping_energy.csv'\n",
    "df = nexus_tool.read_csv(file_path)"
   ]
  },
  {
   "cell_type": "markdown",
   "metadata": {},
   "source": [
    "An excel file containing the fuels and energy data is required. Such file should look something like this:\n",
    "\n",
    "|Country|Diesel_price_1|Diesel_price_2|El_price_1|El_price_2|\n",
    "|:---|---|---|---|---|\n",
    "|Country A|0.17|0.25|0.03|0.05|\n",
    "|Country B|0.3|0.4|0.1|0.15|\n",
    "|Country C|0.11|0.18|0.16|0.2|\n",
    "\n",
    "Change the `file_path` variable to reflect the name and relative location of your data file."
   ]
  },
  {
   "cell_type": "code",
   "execution_count": 4,
   "metadata": {},
   "outputs": [],
   "source": [
    "file_path = r'nwsas_data/Fuel_prices.xlsx'\n",
    "fuel_price = nexus_tool.read_excel(file_path)"
   ]
  },
  {
   "cell_type": "markdown",
   "metadata": {},
   "source": [
    "## 1. Choosing least-cost energy supply options\n",
    "### 1.1. Creating the model\n",
    "To create a model simply create an instance of the `nexus_tool.Model()` class and store it in a variable name. The `nexus_tool.Model()` class requires a dataframe as input data. Several other properties and parameter values can be defined by explicitly passing values to them. To see a full list of parameters and their explaination refer to the documentation of the package."
   ]
  },
  {
   "cell_type": "code",
   "execution_count": 5,
   "metadata": {},
   "outputs": [],
   "source": [
    "nwsas = nexus_tool.Model(df)\n",
    "nwsas.end_year = 2030\n",
    "nwsas.start_year = 2016\n",
    "nwsas.discount_rate = 0.05"
   ]
  },
  {
   "cell_type": "markdown",
   "metadata": {},
   "source": [
    "After creating the model and defining the start and end year, and the discount rate, proceed to merge the `fuel_price` dataframe with the main dataframe of the model. For that run the following block and pass the `on = ` argument with the relevant comon field in both dataframes."
   ]
  },
  {
   "cell_type": "code",
   "execution_count": 6,
   "metadata": {},
   "outputs": [],
   "source": [
    "nwsas.df = nwsas.df.merge(fuel_price, on='country')"
   ]
  },
  {
   "cell_type": "markdown",
   "metadata": {},
   "source": [
    "### 1.2. Creating technologies\n",
    "The `nexus_tool` model, currently provides three different power generation technology classes to choose from. These are `wind turbines`, `solar PV systems` and a `standard technology` which can be used to simulate technologies as `diesel generators` or `electricity from the grid`. Any amount of technologies can be created and compared in the model. In the following blocks we create a `wind turbine` technology, with a `life` span of 20 years, operation and mantainance costs (`om_cost`) of 1% the capital cost, a capital cost (`capital_cost`) of 1140 USD/kW and a system `efficiency` of 70%. \n",
    "\n",
    "The characteristics of the turbine can be specified by changing the power curve (`p_curve`), availability factor (`mu`), rated power (`p_rated`), hub height (`z`), velocity measurement height (`zr`), losses in wind electricity (`0.85`) and wind speed range (`u_arr`). If non of this parameters are passed, the turbine will be created with the default values. To see any of the default values you can call them as `model.technologies['name-of-technology'].p_rated`.\n",
    "\n",
    "In a similar way, the other technologies can be created calling the right method and passing the required values."
   ]
  },
  {
   "cell_type": "code",
   "execution_count": 7,
   "metadata": {},
   "outputs": [],
   "source": [
    "nwsas.create_wind_turbine('Wind power', life=20,\n",
    "                          om_cost=0.02, capital_cost=1300,\n",
    "                          efficiency=0.6)"
   ]
  },
  {
   "cell_type": "code",
   "execution_count": 8,
   "metadata": {},
   "outputs": [],
   "source": [
    "nwsas.create_pv_system('Solar PV', life=15,\n",
    "                       om_cost=0.01, capital_cost=1140,\n",
    "                       efficiency=0.7)"
   ]
  },
  {
   "cell_type": "code",
   "execution_count": 9,
   "metadata": {},
   "outputs": [],
   "source": [
    "nwsas.create_standard_tech('Diesel set', life=10, om_cost=0.1,\n",
    "                           capital_cost=938, fuel_cost=nwsas.df['Dprice1'],\n",
    "                           fuel_req=0.095, efficiency=0.27, cf = 0.5,\n",
    "                           emission_factor=2.7, env_cost=0)"
   ]
  },
  {
   "cell_type": "code",
   "execution_count": 10,
   "metadata": {},
   "outputs": [],
   "source": [
    "nwsas.create_standard_tech('Grid pump', life=10, om_cost=0.1,\n",
    "                           capital_cost=845, fuel_cost=nwsas.df['Epricelow'],\n",
    "                           fuel_req=1, efficiency=0.55, cf = 0.8,\n",
    "                           emission_factor=0.728, env_cost=0)"
   ]
  },
  {
   "cell_type": "markdown",
   "metadata": {},
   "source": [
    "### 1.3. Getting the LCOE values\n",
    "To calculate the LCOE values, first the capacity factors, required installed capacity per month and max capacity throughout the year need to be calculated for each technology. For that, run the `get_cf`, `get_installed_capacity` and `get_max_capacity` methods passing a list with the technology names you wish to compute. For example, note that for the `get_cf` method we only pass the wind power and solar PV technology names, as the capacity factors for the grid pumps and diesel sets where passed exogenously when creating the technologies and the `standar_tech` category does not have a defined `get_cf` method. Moreover, to select all technologies a keyword as `'all'`, `'a'` or `everything` can be passed.\n",
    "\n",
    "After running the aforementioned methods, run the `get_lcoe` method (no argument needs to be passed). This will compute the LCOE values for each technology in each location and store it on a dataframe inside each technology instance."
   ]
  },
  {
   "cell_type": "code",
   "execution_count": 11,
   "metadata": {},
   "outputs": [],
   "source": [
    "nwsas.get_cf(['Wind power', 'Solar PV'])\n",
    "nwsas.get_installed_capacity('all')\n",
    "nwsas.get_max_capacity('a')\n",
    "nwsas.get_lcoe()"
   ]
  },
  {
   "cell_type": "markdown",
   "metadata": {},
   "source": [
    "### 1.4. Getting the least cost option\n",
    "To get the least-cost option in each location between all technologies, run the `get_least_cost(technologies = 'all')` method with the `'all'` keyword for the technologies to compare. \n",
    "\n",
    "Alternatively, define a dictionary whose keys are the regions and the values a list of technologies to compare withing each region. Pass that dictionary to the `technologies` option of the `get_least_cost` method and specify the `geo_boundary` in which the algorithm should look for the dictionary regions (keys)."
   ]
  },
  {
   "cell_type": "code",
   "execution_count": 12,
   "metadata": {
    "scrolled": true
   },
   "outputs": [],
   "source": [
    "comp_vars = {'Algeria':['Diesel set','Solar PV','Wind power'],\n",
    "            'Tunisia':['Diesel set','Solar PV','Wind power'],\n",
    "            'Libya':['Grid pump','Solar PV','Wind power']}\n",
    "nwsas.get_least_cost(technologies = comp_vars, geo_boundary = 'country')"
   ]
  },
  {
   "cell_type": "markdown",
   "metadata": {},
   "source": [
    "### 1.5. Getting the pumping cost\n",
    "Once the least-cost options are identified in each location, then the total pumping cost and pumping cost per m3 of water can be calculated. For it just runb the `get_pumping_cost` and `get_unit_pumping_cost` methods with the `inplace = True` option."
   ]
  },
  {
   "cell_type": "code",
   "execution_count": 13,
   "metadata": {},
   "outputs": [],
   "source": [
    "nwsas.get_pumping_cost(inplace = True)\n",
    "nwsas.get_unit_pumping_cost(inplace=True)"
   ]
  },
  {
   "cell_type": "markdown",
   "metadata": {},
   "source": [
    "## 2. Displaying and saving the results\n",
    "After the calculations are completed, display a summary of results by running the `nwsas.print_summary()` method. If you run the method without any argument, then the summary values will be dispayed for the entire region, under the label of \"Glogal\". However, if you like to summarize by regions, then pass a list specifing the variables that you want the results to be grouped by, as:"
   ]
  },
  {
   "cell_type": "code",
   "execution_count": 14,
   "metadata": {},
   "outputs": [
    {
     "data": {
      "text/html": [
       "<div>\n",
       "<style scoped>\n",
       "    .dataframe tbody tr th:only-of-type {\n",
       "        vertical-align: middle;\n",
       "    }\n",
       "\n",
       "    .dataframe tbody tr th {\n",
       "        vertical-align: top;\n",
       "    }\n",
       "\n",
       "    .dataframe thead th {\n",
       "        text-align: right;\n",
       "    }\n",
       "</style>\n",
       "<table border=\"1\" class=\"dataframe\">\n",
       "  <thead>\n",
       "    <tr style=\"text-align: right;\">\n",
       "      <th></th>\n",
       "      <th></th>\n",
       "      <th>Irrigated area (ha)</th>\n",
       "      <th>Water demand (Mm3)</th>\n",
       "      <th>Water intensity (m3/ha)</th>\n",
       "      <th>Energy demand (GWh)</th>\n",
       "      <th>Average lcoe ($/kWh)</th>\n",
       "      <th>Pumping cost (M$)</th>\n",
       "      <th>Pumping cost ($/m3)</th>\n",
       "    </tr>\n",
       "    <tr>\n",
       "      <th>country</th>\n",
       "      <th>province</th>\n",
       "      <th></th>\n",
       "      <th></th>\n",
       "      <th></th>\n",
       "      <th></th>\n",
       "      <th></th>\n",
       "      <th></th>\n",
       "      <th></th>\n",
       "    </tr>\n",
       "  </thead>\n",
       "  <tbody>\n",
       "    <tr>\n",
       "      <th rowspan=\"11\" valign=\"top\">Algeria</th>\n",
       "      <th>Adrar</th>\n",
       "      <td>24101.816848</td>\n",
       "      <td>380.659062</td>\n",
       "      <td>15793.791148</td>\n",
       "      <td>117.426808</td>\n",
       "      <td>0.612801</td>\n",
       "      <td>72.400425</td>\n",
       "      <td>0.190198</td>\n",
       "    </tr>\n",
       "    <tr>\n",
       "      <th>Biskra</th>\n",
       "      <td>5749.995666</td>\n",
       "      <td>57.693849</td>\n",
       "      <td>10033.720376</td>\n",
       "      <td>20.410051</td>\n",
       "      <td>0.565520</td>\n",
       "      <td>11.530187</td>\n",
       "      <td>0.199851</td>\n",
       "    </tr>\n",
       "    <tr>\n",
       "      <th>Djelfa</th>\n",
       "      <td>3449.972096</td>\n",
       "      <td>35.546265</td>\n",
       "      <td>10303.348469</td>\n",
       "      <td>3.153813</td>\n",
       "      <td>0.568539</td>\n",
       "      <td>1.763865</td>\n",
       "      <td>0.049622</td>\n",
       "    </tr>\n",
       "    <tr>\n",
       "      <th>El Oued</th>\n",
       "      <td>68999.985344</td>\n",
       "      <td>791.446126</td>\n",
       "      <td>11470.236142</td>\n",
       "      <td>200.007164</td>\n",
       "      <td>0.601037</td>\n",
       "      <td>121.106957</td>\n",
       "      <td>0.153020</td>\n",
       "    </tr>\n",
       "    <tr>\n",
       "      <th>Ghardaia</th>\n",
       "      <td>34499.998422</td>\n",
       "      <td>440.742945</td>\n",
       "      <td>12775.158413</td>\n",
       "      <td>83.861694</td>\n",
       "      <td>0.593385</td>\n",
       "      <td>49.763407</td>\n",
       "      <td>0.112908</td>\n",
       "    </tr>\n",
       "    <tr>\n",
       "      <th>Illizi</th>\n",
       "      <td>1770.396215</td>\n",
       "      <td>25.085808</td>\n",
       "      <td>14169.601170</td>\n",
       "      <td>7.996085</td>\n",
       "      <td>0.597699</td>\n",
       "      <td>4.758206</td>\n",
       "      <td>0.189677</td>\n",
       "    </tr>\n",
       "    <tr>\n",
       "      <th>Khenchela</th>\n",
       "      <td>1149.970213</td>\n",
       "      <td>12.454845</td>\n",
       "      <td>10830.580811</td>\n",
       "      <td>4.852861</td>\n",
       "      <td>0.578422</td>\n",
       "      <td>2.935296</td>\n",
       "      <td>0.235675</td>\n",
       "    </tr>\n",
       "    <tr>\n",
       "      <th>Laghouat</th>\n",
       "      <td>5749.994721</td>\n",
       "      <td>57.985985</td>\n",
       "      <td>10084.528374</td>\n",
       "      <td>1.553661</td>\n",
       "      <td>0.551597</td>\n",
       "      <td>0.857584</td>\n",
       "      <td>0.014790</td>\n",
       "    </tr>\n",
       "    <tr>\n",
       "      <th>Ouargla</th>\n",
       "      <td>32699.346634</td>\n",
       "      <td>404.789172</td>\n",
       "      <td>12379.121096</td>\n",
       "      <td>46.392685</td>\n",
       "      <td>0.603499</td>\n",
       "      <td>28.026023</td>\n",
       "      <td>0.069236</td>\n",
       "    </tr>\n",
       "    <tr>\n",
       "      <th>Tamanrasset</th>\n",
       "      <td>4868.857546</td>\n",
       "      <td>76.228504</td>\n",
       "      <td>15656.343103</td>\n",
       "      <td>11.531595</td>\n",
       "      <td>0.594153</td>\n",
       "      <td>6.868719</td>\n",
       "      <td>0.090107</td>\n",
       "    </tr>\n",
       "    <tr>\n",
       "      <th>Tebessa</th>\n",
       "      <td>4599.970966</td>\n",
       "      <td>50.265413</td>\n",
       "      <td>10927.332730</td>\n",
       "      <td>13.398558</td>\n",
       "      <td>0.606881</td>\n",
       "      <td>8.138726</td>\n",
       "      <td>0.161915</td>\n",
       "    </tr>\n",
       "    <tr>\n",
       "      <th rowspan=\"4\" valign=\"top\">Libya</th>\n",
       "      <th>Ghadamis</th>\n",
       "      <td>5353.213079</td>\n",
       "      <td>56.291559</td>\n",
       "      <td>10515.471347</td>\n",
       "      <td>34.139752</td>\n",
       "      <td>0.598376</td>\n",
       "      <td>20.486985</td>\n",
       "      <td>0.363944</td>\n",
       "    </tr>\n",
       "    <tr>\n",
       "      <th>Gharyan</th>\n",
       "      <td>8557.616421</td>\n",
       "      <td>92.582518</td>\n",
       "      <td>10818.727280</td>\n",
       "      <td>37.951196</td>\n",
       "      <td>0.815585</td>\n",
       "      <td>31.702263</td>\n",
       "      <td>0.342422</td>\n",
       "    </tr>\n",
       "    <tr>\n",
       "      <th>Jufrah</th>\n",
       "      <td>7963.713904</td>\n",
       "      <td>120.357521</td>\n",
       "      <td>15113.240202</td>\n",
       "      <td>30.436329</td>\n",
       "      <td>0.515105</td>\n",
       "      <td>15.675742</td>\n",
       "      <td>0.130243</td>\n",
       "    </tr>\n",
       "    <tr>\n",
       "      <th>Musrata</th>\n",
       "      <td>21082.919486</td>\n",
       "      <td>187.440532</td>\n",
       "      <td>8890.634530</td>\n",
       "      <td>47.423894</td>\n",
       "      <td>0.603778</td>\n",
       "      <td>28.765609</td>\n",
       "      <td>0.153465</td>\n",
       "    </tr>\n",
       "    <tr>\n",
       "      <th rowspan=\"4\" valign=\"top\">Tunisia</th>\n",
       "      <th>Gabes</th>\n",
       "      <td>2874.983928</td>\n",
       "      <td>28.963020</td>\n",
       "      <td>10074.150089</td>\n",
       "      <td>10.892591</td>\n",
       "      <td>0.766064</td>\n",
       "      <td>8.335051</td>\n",
       "      <td>0.287783</td>\n",
       "    </tr>\n",
       "    <tr>\n",
       "      <th>Kebili</th>\n",
       "      <td>27412.511949</td>\n",
       "      <td>307.219625</td>\n",
       "      <td>11207.277369</td>\n",
       "      <td>20.871984</td>\n",
       "      <td>0.737514</td>\n",
       "      <td>15.235587</td>\n",
       "      <td>0.049592</td>\n",
       "    </tr>\n",
       "    <tr>\n",
       "      <th>Tataouine</th>\n",
       "      <td>1833.775565</td>\n",
       "      <td>18.733180</td>\n",
       "      <td>10215.633880</td>\n",
       "      <td>10.289599</td>\n",
       "      <td>0.746507</td>\n",
       "      <td>7.671406</td>\n",
       "      <td>0.409509</td>\n",
       "    </tr>\n",
       "    <tr>\n",
       "      <th>Tozeur</th>\n",
       "      <td>9617.446033</td>\n",
       "      <td>103.812085</td>\n",
       "      <td>10794.142744</td>\n",
       "      <td>25.285805</td>\n",
       "      <td>0.756629</td>\n",
       "      <td>19.157325</td>\n",
       "      <td>0.184538</td>\n",
       "    </tr>\n",
       "  </tbody>\n",
       "</table>\n",
       "</div>"
      ],
      "text/plain": [
       "                     Irrigated area (ha)  Water demand (Mm3)  \\\n",
       "country province                                               \n",
       "Algeria Adrar               24101.816848          380.659062   \n",
       "        Biskra               5749.995666           57.693849   \n",
       "        Djelfa               3449.972096           35.546265   \n",
       "        El Oued             68999.985344          791.446126   \n",
       "        Ghardaia            34499.998422          440.742945   \n",
       "        Illizi               1770.396215           25.085808   \n",
       "        Khenchela            1149.970213           12.454845   \n",
       "        Laghouat             5749.994721           57.985985   \n",
       "        Ouargla             32699.346634          404.789172   \n",
       "        Tamanrasset          4868.857546           76.228504   \n",
       "        Tebessa              4599.970966           50.265413   \n",
       "Libya   Ghadamis             5353.213079           56.291559   \n",
       "        Gharyan              8557.616421           92.582518   \n",
       "        Jufrah               7963.713904          120.357521   \n",
       "        Musrata             21082.919486          187.440532   \n",
       "Tunisia Gabes                2874.983928           28.963020   \n",
       "        Kebili              27412.511949          307.219625   \n",
       "        Tataouine            1833.775565           18.733180   \n",
       "        Tozeur               9617.446033          103.812085   \n",
       "\n",
       "                     Water intensity (m3/ha)  Energy demand (GWh)  \\\n",
       "country province                                                    \n",
       "Algeria Adrar                   15793.791148           117.426808   \n",
       "        Biskra                  10033.720376            20.410051   \n",
       "        Djelfa                  10303.348469             3.153813   \n",
       "        El Oued                 11470.236142           200.007164   \n",
       "        Ghardaia                12775.158413            83.861694   \n",
       "        Illizi                  14169.601170             7.996085   \n",
       "        Khenchela               10830.580811             4.852861   \n",
       "        Laghouat                10084.528374             1.553661   \n",
       "        Ouargla                 12379.121096            46.392685   \n",
       "        Tamanrasset             15656.343103            11.531595   \n",
       "        Tebessa                 10927.332730            13.398558   \n",
       "Libya   Ghadamis                10515.471347            34.139752   \n",
       "        Gharyan                 10818.727280            37.951196   \n",
       "        Jufrah                  15113.240202            30.436329   \n",
       "        Musrata                  8890.634530            47.423894   \n",
       "Tunisia Gabes                   10074.150089            10.892591   \n",
       "        Kebili                  11207.277369            20.871984   \n",
       "        Tataouine               10215.633880            10.289599   \n",
       "        Tozeur                  10794.142744            25.285805   \n",
       "\n",
       "                     Average lcoe ($/kWh)  Pumping cost (M$)  \\\n",
       "country province                                               \n",
       "Algeria Adrar                    0.612801          72.400425   \n",
       "        Biskra                   0.565520          11.530187   \n",
       "        Djelfa                   0.568539           1.763865   \n",
       "        El Oued                  0.601037         121.106957   \n",
       "        Ghardaia                 0.593385          49.763407   \n",
       "        Illizi                   0.597699           4.758206   \n",
       "        Khenchela                0.578422           2.935296   \n",
       "        Laghouat                 0.551597           0.857584   \n",
       "        Ouargla                  0.603499          28.026023   \n",
       "        Tamanrasset              0.594153           6.868719   \n",
       "        Tebessa                  0.606881           8.138726   \n",
       "Libya   Ghadamis                 0.598376          20.486985   \n",
       "        Gharyan                  0.815585          31.702263   \n",
       "        Jufrah                   0.515105          15.675742   \n",
       "        Musrata                  0.603778          28.765609   \n",
       "Tunisia Gabes                    0.766064           8.335051   \n",
       "        Kebili                   0.737514          15.235587   \n",
       "        Tataouine                0.746507           7.671406   \n",
       "        Tozeur                   0.756629          19.157325   \n",
       "\n",
       "                     Pumping cost ($/m3)  \n",
       "country province                          \n",
       "Algeria Adrar                   0.190198  \n",
       "        Biskra                  0.199851  \n",
       "        Djelfa                  0.049622  \n",
       "        El Oued                 0.153020  \n",
       "        Ghardaia                0.112908  \n",
       "        Illizi                  0.189677  \n",
       "        Khenchela               0.235675  \n",
       "        Laghouat                0.014790  \n",
       "        Ouargla                 0.069236  \n",
       "        Tamanrasset             0.090107  \n",
       "        Tebessa                 0.161915  \n",
       "Libya   Ghadamis                0.363944  \n",
       "        Gharyan                 0.342422  \n",
       "        Jufrah                  0.130243  \n",
       "        Musrata                 0.153465  \n",
       "Tunisia Gabes                   0.287783  \n",
       "        Kebili                  0.049592  \n",
       "        Tataouine               0.409509  \n",
       "        Tozeur                  0.184538  "
      ]
     },
     "execution_count": 14,
     "metadata": {},
     "output_type": "execute_result"
    }
   ],
   "source": [
    "nwsas.print_summary(['country','province'])"
   ]
  },
  {
   "cell_type": "markdown",
   "metadata": {},
   "source": [
    "Finally, save the results in .csv format, by specifing an output file name and location (`output_file`) and running the `nwsas.df.to_csv(output_file, index = False)` method."
   ]
  },
  {
   "cell_type": "code",
   "execution_count": null,
   "metadata": {},
   "outputs": [],
   "source": [
    "output_file = r'nwsas_results/least_cost.csv'\n",
    "nwsas.df.to_csv(output_file, index = False)"
   ]
  }
 ],
 "metadata": {
  "kernelspec": {
   "display_name": "Python 3",
   "language": "python",
   "name": "python3"
  },
  "language_info": {
   "codemirror_mode": {
    "name": "ipython",
    "version": 3
   },
   "file_extension": ".py",
   "mimetype": "text/x-python",
   "name": "python",
   "nbconvert_exporter": "python",
   "pygments_lexer": "ipython3",
   "version": "3.7.3"
  }
 },
 "nbformat": 4,
 "nbformat_minor": 2
}
