{
 "cells": [
  {
   "cell_type": "code",
   "execution_count": 1,
   "metadata": {},
   "outputs": [],
   "source": [
    "import sys\n",
    "sys.path.append(\"../Jordan dashboard\")\n",
    "import pandas as pd\n",
    "import plotly.express as px\n",
    "import plotly.graph_objs as go\n",
    "import os\n",
    "import pickle\n",
    "import plotly.io as pio\n",
    "import scripts.read_data as rd\n",
    "\n",
    "pio.templates.default = \"plotly_white\""
   ]
  },
  {
   "cell_type": "code",
   "execution_count": 31,
   "metadata": {},
   "outputs": [],
   "source": [
    "path = '../Jordan dashboard'\n",
    "scenarios = [\n",
    "    'Reference', \n",
    "    'New Resources',\n",
    "    'Increased Water Productivity',\n",
    "#     'Improve AG Eff by 20percent',\n",
    "    'Reduce NRW to 20 percent'\n",
    "]\n",
    "climates = [\n",
    "    'Historical Trend', \n",
    "    'Climate Change'\n",
    "]\n",
    "\n",
    "files = ['results.gz', 'wwtp_data.gz', 'desal_data.gz',\n",
    "         'summary_results.gz', 'production.gz']\n",
    "\n",
    "all_results = [pd.DataFrame()] * 7\n",
    "for scenario in scenarios:\n",
    "    for climate in climates:\n",
    "        results = rd.load_data(path, scenario, [climate], '', 'all')\n",
    "#         _df_delivered, _df_required, _df_gw, _df_pipelines, _df_wwtp, _df_desal, _df_crop = results\n",
    "        \n",
    "        for dff in results: \n",
    "            dff['Scenario'] = scenario\n",
    "            dff['Climate'] = climate\n",
    "        \n",
    "        for i, dff in enumerate(results):\n",
    "            all_results[i] = all_results[i].append(dff, ignore_index=True)\n",
    "\n",
    "df_delivered = all_results[0]\n",
    "df_required = all_results[1]\n",
    "df_gw = all_results[2]\n",
    "df_pipelines = all_results[3]\n",
    "df_wwtp = all_results[4]\n",
    "df_desal = all_results[5]\n",
    "df_crop = all_results[6]"
   ]
  },
  {
   "cell_type": "code",
   "execution_count": 32,
   "metadata": {},
   "outputs": [],
   "source": [
    "names = {'sswd': 'Water delivered (Mm<sup>3</sup>)', 'production_kg': 'Crop production (ton)', \n",
    "         'swpa_e': 'Energy demand (GWh)', 'unmet_demand_year': 'Annual unmet demand (%)',\n",
    "         'wtd': 'Depth to groundwater (meters)'}\n",
    "\n",
    "layout = dict(\n",
    "    autosize=True,\n",
    "    height=500,\n",
    "    margin=dict(l=0, r=0, b=0, t=50),\n",
    "    hovermode=\"closest\",\n",
    "    plot_bgcolor=\"#fff\",\n",
    "    paper_bgcolor=\"#fff\",\n",
    "    legend=dict(font=dict(size=16), orientation=\"h\", title=''),\n",
    "    xaxis={'title': ''},\n",
    "    showlegend=True,\n",
    "    hoverlabel={'align': 'left'},\n",
    "    font=dict(size=18, color=\"#7f7f7f\"),\n",
    "#     yaxis={'title': ''},\n",
    ")\n",
    "\n",
    "category_orders = {'Climate': ['Historical Trend', 'Climate Change'],\n",
    "                   'Scenario': ['Reference', 'Desalination'],\n",
    "                   'type': ['Groundwater pumping', 'Surface water conveyance', 'Wastewater treatment',\n",
    "                            'Desalination', 'Desalinated water conveyance']}\n",
    "\n",
    "def update_labels(fig):\n",
    "    for axis in fig.layout:\n",
    "        if type(fig.layout[axis]) == go.layout.XAxis:\n",
    "            fig.layout[axis].title.text = ''\n",
    "    fig.for_each_annotation(lambda a: a.update(text=a.text.split(\"=\")[-1]))"
   ]
  },
  {
   "cell_type": "code",
   "execution_count": 33,
   "metadata": {},
   "outputs": [
    {
     "data": {
      "application/vnd.plotly.v1+json": {
       "config": {
        "plotlyServerURL": "https://plot.ly"
       },
       "data": [
        {
         "hovertemplate": "Scenario=Reference<br>Climate=Historical Trend<br>Year=%{x}<br>value=%{y}<extra></extra>",
         "legendgroup": "Reference",
         "line": {
          "color": "#4C78A8",
          "dash": "solid"
         },
         "mode": "lines",
         "name": "Reference",
         "orientation": "v",
         "showlegend": true,
         "type": "scatter",
         "x": [
          2020,
          2021,
          2022,
          2023,
          2024,
          2025,
          2026,
          2027,
          2028,
          2029,
          2030,
          2031,
          2032,
          2033,
          2034,
          2035,
          2036,
          2037,
          2038,
          2039,
          2040,
          2041,
          2042,
          2043,
          2044,
          2045,
          2046,
          2047,
          2048,
          2049,
          2050
         ],
         "xaxis": "x",
         "y": [
          1741.0731258021012,
          1779.1847120793,
          1793.0661302410986,
          1783.304758368899,
          1854.5152132493013,
          1874.1109429250005,
          1880.2242532333016,
          1880.2003050381009,
          1939.0836934293013,
          1913.1762665108008,
          1969.8141148832976,
          1994.278051915098,
          1991.5467719110989,
          2015.1637821896984,
          2072.8362928923984,
          2090.4087715714027,
          2102.8147266593983,
          2081.9451574913005,
          2087.6393386721,
          2171.5827803904026,
          2206.736444133703,
          2233.8203331543996,
          2248.2449603140926,
          2293.4223095903944,
          2316.4859548516993,
          2329.310161130896,
          2357.142475436099,
          2370.2090499532947,
          2416.9146064666947,
          2435.3224345713948,
          2448.537935245499
         ],
         "yaxis": "y"
        },
        {
         "hovertemplate": "Scenario=Reference<br>Climate=Climate Change<br>Year=%{x}<br>value=%{y}<extra></extra>",
         "legendgroup": "Reference",
         "line": {
          "color": "#4C78A8",
          "dash": "solid"
         },
         "mode": "lines",
         "name": "Reference",
         "orientation": "v",
         "showlegend": false,
         "type": "scatter",
         "x": [
          2020,
          2021,
          2022,
          2023,
          2024,
          2025,
          2026,
          2027,
          2028,
          2029,
          2030,
          2031,
          2032,
          2033,
          2034,
          2035,
          2036,
          2037,
          2038,
          2039,
          2040,
          2041,
          2042,
          2043,
          2044,
          2045,
          2046,
          2047,
          2048,
          2049,
          2050
         ],
         "xaxis": "x2",
         "y": [
          1741.5161187632018,
          1790.556924475999,
          1794.6740904420988,
          1793.0908348069986,
          1864.5450699665014,
          1887.3246500232992,
          1892.933972662201,
          1894.042967204201,
          1959.1416453862012,
          1925.4794680939012,
          1990.3050429925972,
          2012.6676899648983,
          2012.5830806299002,
          2046.6142127191974,
          2102.741235767999,
          2114.563749755403,
          2138.826198709099,
          2113.9214636641004,
          2132.2883350320003,
          2203.6316191166998,
          2250.5688632850038,
          2279.627204388999,
          2285.6521593266925,
          2329.5569350310925,
          2367.572506961396,
          2376.724839468999,
          2401.0604299378997,
          2423.3144737231955,
          2463.8252200423935,
          2486.628602297596,
          2506.878292455997
         ],
         "yaxis": "y2"
        },
        {
         "hovertemplate": "Scenario=Increased Water Productivity<br>Climate=Historical Trend<br>Year=%{x}<br>value=%{y}<extra></extra>",
         "legendgroup": "Increased Water Productivity",
         "line": {
          "color": "#F58518",
          "dash": "solid"
         },
         "mode": "lines",
         "name": "Increased Water Productivity",
         "orientation": "v",
         "showlegend": true,
         "type": "scatter",
         "x": [
          2020,
          2021,
          2022,
          2023,
          2024,
          2025,
          2026,
          2027,
          2028,
          2029,
          2030,
          2031,
          2032,
          2033,
          2034,
          2035,
          2036,
          2037,
          2038,
          2039,
          2040,
          2041,
          2042,
          2043,
          2044,
          2045,
          2046,
          2047,
          2048,
          2049,
          2050
         ],
         "xaxis": "x",
         "y": [
          1736.389519975001,
          1769.1056197511002,
          1779.691874622598,
          1768.5168333040983,
          1832.9747644084018,
          1846.1292795214997,
          1854.6858366303015,
          1847.3513877698008,
          1904.7954149630011,
          1876.2546793040003,
          1928.2308237693983,
          1946.5922643205986,
          1946.8985627504003,
          1970.2887960930977,
          2019.945318721798,
          2033.6585506082026,
          2041.9795419663983,
          2028.9694841758994,
          2031.3392359803008,
          2109.5970134177,
          2137.3302918122035,
          2169.086002328806,
          2179.5333728603946,
          2224.169412467696,
          2245.8604504474997,
          2257.2465946391985,
          2282.923986452899,
          2301.0765819532958,
          2344.9960840348963,
          2360.684160556496,
          2375.463809319397
         ],
         "yaxis": "y"
        },
        {
         "hovertemplate": "Scenario=Increased Water Productivity<br>Climate=Climate Change<br>Year=%{x}<br>value=%{y}<extra></extra>",
         "legendgroup": "Increased Water Productivity",
         "line": {
          "color": "#F58518",
          "dash": "solid"
         },
         "mode": "lines",
         "name": "Increased Water Productivity",
         "orientation": "v",
         "showlegend": false,
         "type": "scatter",
         "x": [
          2020,
          2021,
          2022,
          2023,
          2024,
          2025,
          2026,
          2027,
          2028,
          2029,
          2030,
          2031,
          2032,
          2033,
          2034,
          2035,
          2036,
          2037,
          2038,
          2039,
          2040,
          2041,
          2042,
          2043,
          2044,
          2045,
          2046,
          2047,
          2048,
          2049,
          2050
         ],
         "xaxis": "x2",
         "y": [
          1736.8453607605009,
          1781.0509683620994,
          1782.1254796169987,
          1777.3467726555987,
          1842.0422021450013,
          1859.1596570550003,
          1866.967180117801,
          1861.9010698097006,
          1922.8820211602008,
          1886.6404878728013,
          1947.4208966794984,
          1964.2749290612985,
          1968.4071020847,
          1991.0387535284974,
          2050.3048079212986,
          2054.5631691735025,
          2078.904250914599,
          2053.7663127064,
          2071.098746901401,
          2135.8501850709004,
          2181.447964059004,
          2211.5259342646987,
          2209.9650954398926,
          2253.796214296095,
          2293.1740102863,
          2303.675117462295,
          2330.339932386279,
          2335.173209677495,
          2399.7148749735156,
          2394.7450279358973,
          2426.2544127896977
         ],
         "yaxis": "y2"
        },
        {
         "hovertemplate": "Scenario=New Resources<br>Climate=Historical Trend<br>Year=%{x}<br>value=%{y}<extra></extra>",
         "legendgroup": "New Resources",
         "line": {
          "color": "#E45756",
          "dash": "solid"
         },
         "mode": "lines",
         "name": "New Resources",
         "orientation": "v",
         "showlegend": true,
         "type": "scatter",
         "x": [
          2020,
          2021,
          2022,
          2023,
          2024,
          2025,
          2026,
          2027,
          2028,
          2029,
          2030,
          2031,
          2032,
          2033,
          2034,
          2035,
          2036,
          2037,
          2038,
          2039,
          2040,
          2041,
          2042,
          2043,
          2044,
          2045,
          2046,
          2047,
          2048,
          2049,
          2050
         ],
         "xaxis": "x",
         "y": [
          1753.0258510041017,
          1790.9200368573017,
          1805.1753501440992,
          1794.959101944,
          1866.3600472611017,
          1901.8280705839998,
          1911.5669424028008,
          1913.7365493741006,
          1980.2378039743012,
          1963.5862101203015,
          2026.5225804690986,
          2054.950405601498,
          2058.4119391260983,
          2085.700644277698,
          2148.902842034397,
          2171.155518049405,
          2189.898389422398,
          2172.513615010004,
          2183.3205849540964,
          2270.752369656397,
          2310.451361057704,
          2340.2514704553996,
          2357.3269794330936,
          2406.183862635398,
          2433.331358355692,
          2449.6858313164967,
          2479.8384115411,
          2496.652351404295,
          2547.0968363223947,
          2567.959040395699,
          2584.9800527740954
         ],
         "yaxis": "y"
        },
        {
         "hovertemplate": "Scenario=New Resources<br>Climate=Climate Change<br>Year=%{x}<br>value=%{y}<extra></extra>",
         "legendgroup": "New Resources",
         "line": {
          "color": "#E45756",
          "dash": "solid"
         },
         "mode": "lines",
         "name": "New Resources",
         "orientation": "v",
         "showlegend": false,
         "type": "scatter",
         "x": [
          2020,
          2021,
          2022,
          2023,
          2024,
          2025,
          2026,
          2027,
          2028,
          2029,
          2030,
          2031,
          2032,
          2033,
          2034,
          2035,
          2036,
          2037,
          2038,
          2039,
          2040,
          2041,
          2042,
          2043,
          2044,
          2045,
          2046,
          2047,
          2048,
          2049,
          2050
         ],
         "xaxis": "x2",
         "y": [
          1753.4839541112021,
          1802.2001508760002,
          1806.8143299110998,
          1804.5301019408998,
          1876.4883830435012,
          1915.0341793872985,
          1924.1200666227019,
          1927.7484549262008,
          1992.5170390332,
          1984.6641005085007,
          2046.6525698874977,
          2073.688914171898,
          2079.366337437099,
          2116.554093329398,
          2178.2165269399966,
          2195.125433504399,
          2225.173023694098,
          2204.9053692685993,
          2226.250544334994,
          2303.0386476737,
          2353.7302937940035,
          2385.448718213998,
          2395.539789095694,
          2443.1039372780965,
          2482.8128286833944,
          2497.5870732569974,
          2523.7519120958996,
          2550.491990638195,
          2593.1940628030943,
          2619.168863867701,
          2642.624199289996
         ],
         "yaxis": "y2"
        },
        {
         "hovertemplate": "Scenario=Reduce NRW to 20 percent<br>Climate=Historical Trend<br>Year=%{x}<br>value=%{y}<extra></extra>",
         "legendgroup": "Reduce NRW to 20 percent",
         "line": {
          "color": "#72B7B2",
          "dash": "solid"
         },
         "mode": "lines",
         "name": "Reduce NRW to 20 percent",
         "orientation": "v",
         "showlegend": true,
         "type": "scatter",
         "x": [
          2020,
          2021,
          2022,
          2023,
          2024,
          2025,
          2026,
          2027,
          2028,
          2029,
          2030,
          2031,
          2032,
          2033,
          2034,
          2035,
          2036,
          2037,
          2038,
          2039,
          2040,
          2041,
          2042,
          2043,
          2044,
          2045,
          2046,
          2047,
          2048,
          2049,
          2050
         ],
         "xaxis": "x",
         "y": [
          1721.9523219500973,
          1752.4589481303992,
          1758.9760155891024,
          1744.811419589897,
          1808.7037623213052,
          1821.8623190279986,
          1822.2274248542988,
          1817.4341809510988,
          1873.0497643203,
          1840.4925192691987,
          1892.5249714682961,
          1906.9480842990995,
          1907.011811192101,
          1920.8929460517013,
          1977.3097228510017,
          1993.928150837396,
          1996.172257273696,
          1976.3481304180048,
          1975.2483392670024,
          2056.936590128995,
          2086.109480789998,
          2112.7615089403985,
          2123.99040668,
          2168.8747752394042,
          2180.1392744716936,
          2186.5293361619015,
          2230.6167089301002,
          2223.0168034633953,
          2261.6379634684063,
          2292.3929807589984,
          2284.8756398823984
         ],
         "yaxis": "y"
        },
        {
         "hovertemplate": "Scenario=Reduce NRW to 20 percent<br>Climate=Climate Change<br>Year=%{x}<br>value=%{y}<extra></extra>",
         "legendgroup": "Reduce NRW to 20 percent",
         "line": {
          "color": "#72B7B2",
          "dash": "solid"
         },
         "mode": "lines",
         "name": "Reduce NRW to 20 percent",
         "orientation": "v",
         "showlegend": false,
         "type": "scatter",
         "x": [
          2020,
          2021,
          2022,
          2023,
          2024,
          2025,
          2026,
          2027,
          2028,
          2029,
          2030,
          2031,
          2032,
          2033,
          2034,
          2035,
          2036,
          2037,
          2038,
          2039,
          2040,
          2041,
          2042,
          2043,
          2044,
          2045,
          2046,
          2047,
          2048,
          2049,
          2050
         ],
         "xaxis": "x2",
         "y": [
          1722.8060037891976,
          1763.3245312233987,
          1761.5471299911017,
          1753.2900765129968,
          1821.8031612345048,
          1828.7869593792984,
          1833.1267343841987,
          1832.8254374961991,
          1883.5755939241994,
          1860.6249243404993,
          1910.3001740225968,
          1931.217568185899,
          1927.6954035811018,
          1951.0999836522008,
          2006.2875188630014,
          2013.1394468033966,
          2033.6208899650956,
          2008.1642729641044,
          2020.2809938740015,
          2090.2261616289948,
          2132.808652119998,
          2154.7134684419993,
          2157.5344477610033,
          2205.585353632099,
          2232.8354393803925,
          2239.6975672123012,
          2269.6837401703024,
          2272.7767797241963,
          2310.6926408025024,
          2342.0294092256017,
          2345.3317745200006
         ],
         "yaxis": "y2"
        }
       ],
       "layout": {
        "annotations": [
         {
          "font": {},
          "showarrow": false,
          "text": "Historical Trend",
          "x": 0.235,
          "xanchor": "center",
          "xref": "paper",
          "y": 1,
          "yanchor": "bottom",
          "yref": "paper"
         },
         {
          "font": {},
          "showarrow": false,
          "text": "Climate Change",
          "x": 0.765,
          "xanchor": "center",
          "xref": "paper",
          "y": 1,
          "yanchor": "bottom",
          "yref": "paper"
         }
        ],
        "autosize": true,
        "font": {
         "color": "#7f7f7f",
         "size": 18
        },
        "height": 500,
        "hoverlabel": {
         "align": "left"
        },
        "hovermode": "closest",
        "legend": {
         "font": {
          "size": 16
         },
         "orientation": "h",
         "title": {
          "text": ""
         },
         "tracegroupgap": 0
        },
        "margin": {
         "b": 0,
         "l": 0,
         "r": 0,
         "t": 50
        },
        "paper_bgcolor": "#fff",
        "plot_bgcolor": "#fff",
        "showlegend": true,
        "template": {
         "data": {
          "bar": [
           {
            "error_x": {
             "color": "#2a3f5f"
            },
            "error_y": {
             "color": "#2a3f5f"
            },
            "marker": {
             "line": {
              "color": "white",
              "width": 0.5
             }
            },
            "type": "bar"
           }
          ],
          "barpolar": [
           {
            "marker": {
             "line": {
              "color": "white",
              "width": 0.5
             }
            },
            "type": "barpolar"
           }
          ],
          "carpet": [
           {
            "aaxis": {
             "endlinecolor": "#2a3f5f",
             "gridcolor": "#C8D4E3",
             "linecolor": "#C8D4E3",
             "minorgridcolor": "#C8D4E3",
             "startlinecolor": "#2a3f5f"
            },
            "baxis": {
             "endlinecolor": "#2a3f5f",
             "gridcolor": "#C8D4E3",
             "linecolor": "#C8D4E3",
             "minorgridcolor": "#C8D4E3",
             "startlinecolor": "#2a3f5f"
            },
            "type": "carpet"
           }
          ],
          "choropleth": [
           {
            "colorbar": {
             "outlinewidth": 0,
             "ticks": ""
            },
            "type": "choropleth"
           }
          ],
          "contour": [
           {
            "colorbar": {
             "outlinewidth": 0,
             "ticks": ""
            },
            "colorscale": [
             [
              0,
              "#0d0887"
             ],
             [
              0.1111111111111111,
              "#46039f"
             ],
             [
              0.2222222222222222,
              "#7201a8"
             ],
             [
              0.3333333333333333,
              "#9c179e"
             ],
             [
              0.4444444444444444,
              "#bd3786"
             ],
             [
              0.5555555555555556,
              "#d8576b"
             ],
             [
              0.6666666666666666,
              "#ed7953"
             ],
             [
              0.7777777777777778,
              "#fb9f3a"
             ],
             [
              0.8888888888888888,
              "#fdca26"
             ],
             [
              1,
              "#f0f921"
             ]
            ],
            "type": "contour"
           }
          ],
          "contourcarpet": [
           {
            "colorbar": {
             "outlinewidth": 0,
             "ticks": ""
            },
            "type": "contourcarpet"
           }
          ],
          "heatmap": [
           {
            "colorbar": {
             "outlinewidth": 0,
             "ticks": ""
            },
            "colorscale": [
             [
              0,
              "#0d0887"
             ],
             [
              0.1111111111111111,
              "#46039f"
             ],
             [
              0.2222222222222222,
              "#7201a8"
             ],
             [
              0.3333333333333333,
              "#9c179e"
             ],
             [
              0.4444444444444444,
              "#bd3786"
             ],
             [
              0.5555555555555556,
              "#d8576b"
             ],
             [
              0.6666666666666666,
              "#ed7953"
             ],
             [
              0.7777777777777778,
              "#fb9f3a"
             ],
             [
              0.8888888888888888,
              "#fdca26"
             ],
             [
              1,
              "#f0f921"
             ]
            ],
            "type": "heatmap"
           }
          ],
          "heatmapgl": [
           {
            "colorbar": {
             "outlinewidth": 0,
             "ticks": ""
            },
            "colorscale": [
             [
              0,
              "#0d0887"
             ],
             [
              0.1111111111111111,
              "#46039f"
             ],
             [
              0.2222222222222222,
              "#7201a8"
             ],
             [
              0.3333333333333333,
              "#9c179e"
             ],
             [
              0.4444444444444444,
              "#bd3786"
             ],
             [
              0.5555555555555556,
              "#d8576b"
             ],
             [
              0.6666666666666666,
              "#ed7953"
             ],
             [
              0.7777777777777778,
              "#fb9f3a"
             ],
             [
              0.8888888888888888,
              "#fdca26"
             ],
             [
              1,
              "#f0f921"
             ]
            ],
            "type": "heatmapgl"
           }
          ],
          "histogram": [
           {
            "marker": {
             "colorbar": {
              "outlinewidth": 0,
              "ticks": ""
             }
            },
            "type": "histogram"
           }
          ],
          "histogram2d": [
           {
            "colorbar": {
             "outlinewidth": 0,
             "ticks": ""
            },
            "colorscale": [
             [
              0,
              "#0d0887"
             ],
             [
              0.1111111111111111,
              "#46039f"
             ],
             [
              0.2222222222222222,
              "#7201a8"
             ],
             [
              0.3333333333333333,
              "#9c179e"
             ],
             [
              0.4444444444444444,
              "#bd3786"
             ],
             [
              0.5555555555555556,
              "#d8576b"
             ],
             [
              0.6666666666666666,
              "#ed7953"
             ],
             [
              0.7777777777777778,
              "#fb9f3a"
             ],
             [
              0.8888888888888888,
              "#fdca26"
             ],
             [
              1,
              "#f0f921"
             ]
            ],
            "type": "histogram2d"
           }
          ],
          "histogram2dcontour": [
           {
            "colorbar": {
             "outlinewidth": 0,
             "ticks": ""
            },
            "colorscale": [
             [
              0,
              "#0d0887"
             ],
             [
              0.1111111111111111,
              "#46039f"
             ],
             [
              0.2222222222222222,
              "#7201a8"
             ],
             [
              0.3333333333333333,
              "#9c179e"
             ],
             [
              0.4444444444444444,
              "#bd3786"
             ],
             [
              0.5555555555555556,
              "#d8576b"
             ],
             [
              0.6666666666666666,
              "#ed7953"
             ],
             [
              0.7777777777777778,
              "#fb9f3a"
             ],
             [
              0.8888888888888888,
              "#fdca26"
             ],
             [
              1,
              "#f0f921"
             ]
            ],
            "type": "histogram2dcontour"
           }
          ],
          "mesh3d": [
           {
            "colorbar": {
             "outlinewidth": 0,
             "ticks": ""
            },
            "type": "mesh3d"
           }
          ],
          "parcoords": [
           {
            "line": {
             "colorbar": {
              "outlinewidth": 0,
              "ticks": ""
             }
            },
            "type": "parcoords"
           }
          ],
          "pie": [
           {
            "automargin": true,
            "type": "pie"
           }
          ],
          "scatter": [
           {
            "marker": {
             "colorbar": {
              "outlinewidth": 0,
              "ticks": ""
             }
            },
            "type": "scatter"
           }
          ],
          "scatter3d": [
           {
            "line": {
             "colorbar": {
              "outlinewidth": 0,
              "ticks": ""
             }
            },
            "marker": {
             "colorbar": {
              "outlinewidth": 0,
              "ticks": ""
             }
            },
            "type": "scatter3d"
           }
          ],
          "scattercarpet": [
           {
            "marker": {
             "colorbar": {
              "outlinewidth": 0,
              "ticks": ""
             }
            },
            "type": "scattercarpet"
           }
          ],
          "scattergeo": [
           {
            "marker": {
             "colorbar": {
              "outlinewidth": 0,
              "ticks": ""
             }
            },
            "type": "scattergeo"
           }
          ],
          "scattergl": [
           {
            "marker": {
             "colorbar": {
              "outlinewidth": 0,
              "ticks": ""
             }
            },
            "type": "scattergl"
           }
          ],
          "scattermapbox": [
           {
            "marker": {
             "colorbar": {
              "outlinewidth": 0,
              "ticks": ""
             }
            },
            "type": "scattermapbox"
           }
          ],
          "scatterpolar": [
           {
            "marker": {
             "colorbar": {
              "outlinewidth": 0,
              "ticks": ""
             }
            },
            "type": "scatterpolar"
           }
          ],
          "scatterpolargl": [
           {
            "marker": {
             "colorbar": {
              "outlinewidth": 0,
              "ticks": ""
             }
            },
            "type": "scatterpolargl"
           }
          ],
          "scatterternary": [
           {
            "marker": {
             "colorbar": {
              "outlinewidth": 0,
              "ticks": ""
             }
            },
            "type": "scatterternary"
           }
          ],
          "surface": [
           {
            "colorbar": {
             "outlinewidth": 0,
             "ticks": ""
            },
            "colorscale": [
             [
              0,
              "#0d0887"
             ],
             [
              0.1111111111111111,
              "#46039f"
             ],
             [
              0.2222222222222222,
              "#7201a8"
             ],
             [
              0.3333333333333333,
              "#9c179e"
             ],
             [
              0.4444444444444444,
              "#bd3786"
             ],
             [
              0.5555555555555556,
              "#d8576b"
             ],
             [
              0.6666666666666666,
              "#ed7953"
             ],
             [
              0.7777777777777778,
              "#fb9f3a"
             ],
             [
              0.8888888888888888,
              "#fdca26"
             ],
             [
              1,
              "#f0f921"
             ]
            ],
            "type": "surface"
           }
          ],
          "table": [
           {
            "cells": {
             "fill": {
              "color": "#EBF0F8"
             },
             "line": {
              "color": "white"
             }
            },
            "header": {
             "fill": {
              "color": "#C8D4E3"
             },
             "line": {
              "color": "white"
             }
            },
            "type": "table"
           }
          ]
         },
         "layout": {
          "annotationdefaults": {
           "arrowcolor": "#2a3f5f",
           "arrowhead": 0,
           "arrowwidth": 1
          },
          "coloraxis": {
           "colorbar": {
            "outlinewidth": 0,
            "ticks": ""
           }
          },
          "colorscale": {
           "diverging": [
            [
             0,
             "#8e0152"
            ],
            [
             0.1,
             "#c51b7d"
            ],
            [
             0.2,
             "#de77ae"
            ],
            [
             0.3,
             "#f1b6da"
            ],
            [
             0.4,
             "#fde0ef"
            ],
            [
             0.5,
             "#f7f7f7"
            ],
            [
             0.6,
             "#e6f5d0"
            ],
            [
             0.7,
             "#b8e186"
            ],
            [
             0.8,
             "#7fbc41"
            ],
            [
             0.9,
             "#4d9221"
            ],
            [
             1,
             "#276419"
            ]
           ],
           "sequential": [
            [
             0,
             "#0d0887"
            ],
            [
             0.1111111111111111,
             "#46039f"
            ],
            [
             0.2222222222222222,
             "#7201a8"
            ],
            [
             0.3333333333333333,
             "#9c179e"
            ],
            [
             0.4444444444444444,
             "#bd3786"
            ],
            [
             0.5555555555555556,
             "#d8576b"
            ],
            [
             0.6666666666666666,
             "#ed7953"
            ],
            [
             0.7777777777777778,
             "#fb9f3a"
            ],
            [
             0.8888888888888888,
             "#fdca26"
            ],
            [
             1,
             "#f0f921"
            ]
           ],
           "sequentialminus": [
            [
             0,
             "#0d0887"
            ],
            [
             0.1111111111111111,
             "#46039f"
            ],
            [
             0.2222222222222222,
             "#7201a8"
            ],
            [
             0.3333333333333333,
             "#9c179e"
            ],
            [
             0.4444444444444444,
             "#bd3786"
            ],
            [
             0.5555555555555556,
             "#d8576b"
            ],
            [
             0.6666666666666666,
             "#ed7953"
            ],
            [
             0.7777777777777778,
             "#fb9f3a"
            ],
            [
             0.8888888888888888,
             "#fdca26"
            ],
            [
             1,
             "#f0f921"
            ]
           ]
          },
          "colorway": [
           "#636efa",
           "#EF553B",
           "#00cc96",
           "#ab63fa",
           "#FFA15A",
           "#19d3f3",
           "#FF6692",
           "#B6E880",
           "#FF97FF",
           "#FECB52"
          ],
          "font": {
           "color": "#2a3f5f"
          },
          "geo": {
           "bgcolor": "white",
           "lakecolor": "white",
           "landcolor": "white",
           "showlakes": true,
           "showland": true,
           "subunitcolor": "#C8D4E3"
          },
          "hoverlabel": {
           "align": "left"
          },
          "hovermode": "closest",
          "mapbox": {
           "style": "light"
          },
          "paper_bgcolor": "white",
          "plot_bgcolor": "white",
          "polar": {
           "angularaxis": {
            "gridcolor": "#EBF0F8",
            "linecolor": "#EBF0F8",
            "ticks": ""
           },
           "bgcolor": "white",
           "radialaxis": {
            "gridcolor": "#EBF0F8",
            "linecolor": "#EBF0F8",
            "ticks": ""
           }
          },
          "scene": {
           "xaxis": {
            "backgroundcolor": "white",
            "gridcolor": "#DFE8F3",
            "gridwidth": 2,
            "linecolor": "#EBF0F8",
            "showbackground": true,
            "ticks": "",
            "zerolinecolor": "#EBF0F8"
           },
           "yaxis": {
            "backgroundcolor": "white",
            "gridcolor": "#DFE8F3",
            "gridwidth": 2,
            "linecolor": "#EBF0F8",
            "showbackground": true,
            "ticks": "",
            "zerolinecolor": "#EBF0F8"
           },
           "zaxis": {
            "backgroundcolor": "white",
            "gridcolor": "#DFE8F3",
            "gridwidth": 2,
            "linecolor": "#EBF0F8",
            "showbackground": true,
            "ticks": "",
            "zerolinecolor": "#EBF0F8"
           }
          },
          "shapedefaults": {
           "line": {
            "color": "#2a3f5f"
           }
          },
          "ternary": {
           "aaxis": {
            "gridcolor": "#DFE8F3",
            "linecolor": "#A2B1C6",
            "ticks": ""
           },
           "baxis": {
            "gridcolor": "#DFE8F3",
            "linecolor": "#A2B1C6",
            "ticks": ""
           },
           "bgcolor": "white",
           "caxis": {
            "gridcolor": "#DFE8F3",
            "linecolor": "#A2B1C6",
            "ticks": ""
           }
          },
          "title": {
           "x": 0.05
          },
          "xaxis": {
           "automargin": true,
           "gridcolor": "#EBF0F8",
           "linecolor": "#EBF0F8",
           "ticks": "",
           "title": {
            "standoff": 15
           },
           "zerolinecolor": "#EBF0F8",
           "zerolinewidth": 2
          },
          "yaxis": {
           "automargin": true,
           "gridcolor": "#EBF0F8",
           "linecolor": "#EBF0F8",
           "ticks": "",
           "title": {
            "standoff": 15
           },
           "zerolinecolor": "#EBF0F8",
           "zerolinewidth": 2
          }
         }
        },
        "xaxis": {
         "anchor": "y",
         "domain": [
          0,
          0.47
         ],
         "title": {
          "text": ""
         }
        },
        "xaxis2": {
         "anchor": "y2",
         "domain": [
          0.53,
          1
         ],
         "matches": "x",
         "title": {
          "text": ""
         }
        },
        "yaxis": {
         "anchor": "x",
         "domain": [
          0,
          1
         ],
         "title": {
          "text": "Water delivered (Mm<sup>3</sup>)"
         }
        },
        "yaxis2": {
         "anchor": "x2",
         "domain": [
          0,
          1
         ],
         "matches": "y",
         "showticklabels": false
        }
       }
      },
      "text/html": [
       "<div>                            <div id=\"419f44d7-55db-46b9-821b-663a041d618f\" class=\"plotly-graph-div\" style=\"height:500px; width:100%;\"></div>            <script type=\"text/javascript\">                require([\"plotly\"], function(Plotly) {                    window.PLOTLYENV=window.PLOTLYENV || {};                                    if (document.getElementById(\"419f44d7-55db-46b9-821b-663a041d618f\")) {                    Plotly.newPlot(                        \"419f44d7-55db-46b9-821b-663a041d618f\",                        [{\"hovertemplate\": \"Scenario=Reference<br>Climate=Historical Trend<br>Year=%{x}<br>value=%{y}<extra></extra>\", \"legendgroup\": \"Reference\", \"line\": {\"color\": \"#4C78A8\", \"dash\": \"solid\"}, \"mode\": \"lines\", \"name\": \"Reference\", \"orientation\": \"v\", \"showlegend\": true, \"type\": \"scatter\", \"x\": [2020, 2021, 2022, 2023, 2024, 2025, 2026, 2027, 2028, 2029, 2030, 2031, 2032, 2033, 2034, 2035, 2036, 2037, 2038, 2039, 2040, 2041, 2042, 2043, 2044, 2045, 2046, 2047, 2048, 2049, 2050], \"xaxis\": \"x\", \"y\": [1741.0731258021012, 1779.1847120793, 1793.0661302410986, 1783.304758368899, 1854.5152132493013, 1874.1109429250005, 1880.2242532333016, 1880.2003050381009, 1939.0836934293013, 1913.1762665108008, 1969.8141148832976, 1994.278051915098, 1991.5467719110989, 2015.1637821896984, 2072.8362928923984, 2090.4087715714027, 2102.8147266593983, 2081.9451574913005, 2087.6393386721, 2171.5827803904026, 2206.736444133703, 2233.8203331543996, 2248.2449603140926, 2293.4223095903944, 2316.4859548516993, 2329.310161130896, 2357.142475436099, 2370.2090499532947, 2416.9146064666947, 2435.3224345713948, 2448.537935245499], \"yaxis\": \"y\"}, {\"hovertemplate\": \"Scenario=Reference<br>Climate=Climate Change<br>Year=%{x}<br>value=%{y}<extra></extra>\", \"legendgroup\": \"Reference\", \"line\": {\"color\": \"#4C78A8\", \"dash\": \"solid\"}, \"mode\": \"lines\", \"name\": \"Reference\", \"orientation\": \"v\", \"showlegend\": false, \"type\": \"scatter\", \"x\": [2020, 2021, 2022, 2023, 2024, 2025, 2026, 2027, 2028, 2029, 2030, 2031, 2032, 2033, 2034, 2035, 2036, 2037, 2038, 2039, 2040, 2041, 2042, 2043, 2044, 2045, 2046, 2047, 2048, 2049, 2050], \"xaxis\": \"x2\", \"y\": [1741.5161187632018, 1790.556924475999, 1794.6740904420988, 1793.0908348069986, 1864.5450699665014, 1887.3246500232992, 1892.933972662201, 1894.042967204201, 1959.1416453862012, 1925.4794680939012, 1990.3050429925972, 2012.6676899648983, 2012.5830806299002, 2046.6142127191974, 2102.741235767999, 2114.563749755403, 2138.826198709099, 2113.9214636641004, 2132.2883350320003, 2203.6316191166998, 2250.5688632850038, 2279.627204388999, 2285.6521593266925, 2329.5569350310925, 2367.572506961396, 2376.724839468999, 2401.0604299378997, 2423.3144737231955, 2463.8252200423935, 2486.628602297596, 2506.878292455997], \"yaxis\": \"y2\"}, {\"hovertemplate\": \"Scenario=Increased Water Productivity<br>Climate=Historical Trend<br>Year=%{x}<br>value=%{y}<extra></extra>\", \"legendgroup\": \"Increased Water Productivity\", \"line\": {\"color\": \"#F58518\", \"dash\": \"solid\"}, \"mode\": \"lines\", \"name\": \"Increased Water Productivity\", \"orientation\": \"v\", \"showlegend\": true, \"type\": \"scatter\", \"x\": [2020, 2021, 2022, 2023, 2024, 2025, 2026, 2027, 2028, 2029, 2030, 2031, 2032, 2033, 2034, 2035, 2036, 2037, 2038, 2039, 2040, 2041, 2042, 2043, 2044, 2045, 2046, 2047, 2048, 2049, 2050], \"xaxis\": \"x\", \"y\": [1736.389519975001, 1769.1056197511002, 1779.691874622598, 1768.5168333040983, 1832.9747644084018, 1846.1292795214997, 1854.6858366303015, 1847.3513877698008, 1904.7954149630011, 1876.2546793040003, 1928.2308237693983, 1946.5922643205986, 1946.8985627504003, 1970.2887960930977, 2019.945318721798, 2033.6585506082026, 2041.9795419663983, 2028.9694841758994, 2031.3392359803008, 2109.5970134177, 2137.3302918122035, 2169.086002328806, 2179.5333728603946, 2224.169412467696, 2245.8604504474997, 2257.2465946391985, 2282.923986452899, 2301.0765819532958, 2344.9960840348963, 2360.684160556496, 2375.463809319397], \"yaxis\": \"y\"}, {\"hovertemplate\": \"Scenario=Increased Water Productivity<br>Climate=Climate Change<br>Year=%{x}<br>value=%{y}<extra></extra>\", \"legendgroup\": \"Increased Water Productivity\", \"line\": {\"color\": \"#F58518\", \"dash\": \"solid\"}, \"mode\": \"lines\", \"name\": \"Increased Water Productivity\", \"orientation\": \"v\", \"showlegend\": false, \"type\": \"scatter\", \"x\": [2020, 2021, 2022, 2023, 2024, 2025, 2026, 2027, 2028, 2029, 2030, 2031, 2032, 2033, 2034, 2035, 2036, 2037, 2038, 2039, 2040, 2041, 2042, 2043, 2044, 2045, 2046, 2047, 2048, 2049, 2050], \"xaxis\": \"x2\", \"y\": [1736.8453607605009, 1781.0509683620994, 1782.1254796169987, 1777.3467726555987, 1842.0422021450013, 1859.1596570550003, 1866.967180117801, 1861.9010698097006, 1922.8820211602008, 1886.6404878728013, 1947.4208966794984, 1964.2749290612985, 1968.4071020847, 1991.0387535284974, 2050.3048079212986, 2054.5631691735025, 2078.904250914599, 2053.7663127064, 2071.098746901401, 2135.8501850709004, 2181.447964059004, 2211.5259342646987, 2209.9650954398926, 2253.796214296095, 2293.1740102863, 2303.675117462295, 2330.339932386279, 2335.173209677495, 2399.7148749735156, 2394.7450279358973, 2426.2544127896977], \"yaxis\": \"y2\"}, {\"hovertemplate\": \"Scenario=New Resources<br>Climate=Historical Trend<br>Year=%{x}<br>value=%{y}<extra></extra>\", \"legendgroup\": \"New Resources\", \"line\": {\"color\": \"#E45756\", \"dash\": \"solid\"}, \"mode\": \"lines\", \"name\": \"New Resources\", \"orientation\": \"v\", \"showlegend\": true, \"type\": \"scatter\", \"x\": [2020, 2021, 2022, 2023, 2024, 2025, 2026, 2027, 2028, 2029, 2030, 2031, 2032, 2033, 2034, 2035, 2036, 2037, 2038, 2039, 2040, 2041, 2042, 2043, 2044, 2045, 2046, 2047, 2048, 2049, 2050], \"xaxis\": \"x\", \"y\": [1753.0258510041017, 1790.9200368573017, 1805.1753501440992, 1794.959101944, 1866.3600472611017, 1901.8280705839998, 1911.5669424028008, 1913.7365493741006, 1980.2378039743012, 1963.5862101203015, 2026.5225804690986, 2054.950405601498, 2058.4119391260983, 2085.700644277698, 2148.902842034397, 2171.155518049405, 2189.898389422398, 2172.513615010004, 2183.3205849540964, 2270.752369656397, 2310.451361057704, 2340.2514704553996, 2357.3269794330936, 2406.183862635398, 2433.331358355692, 2449.6858313164967, 2479.8384115411, 2496.652351404295, 2547.0968363223947, 2567.959040395699, 2584.9800527740954], \"yaxis\": \"y\"}, {\"hovertemplate\": \"Scenario=New Resources<br>Climate=Climate Change<br>Year=%{x}<br>value=%{y}<extra></extra>\", \"legendgroup\": \"New Resources\", \"line\": {\"color\": \"#E45756\", \"dash\": \"solid\"}, \"mode\": \"lines\", \"name\": \"New Resources\", \"orientation\": \"v\", \"showlegend\": false, \"type\": \"scatter\", \"x\": [2020, 2021, 2022, 2023, 2024, 2025, 2026, 2027, 2028, 2029, 2030, 2031, 2032, 2033, 2034, 2035, 2036, 2037, 2038, 2039, 2040, 2041, 2042, 2043, 2044, 2045, 2046, 2047, 2048, 2049, 2050], \"xaxis\": \"x2\", \"y\": [1753.4839541112021, 1802.2001508760002, 1806.8143299110998, 1804.5301019408998, 1876.4883830435012, 1915.0341793872985, 1924.1200666227019, 1927.7484549262008, 1992.5170390332, 1984.6641005085007, 2046.6525698874977, 2073.688914171898, 2079.366337437099, 2116.554093329398, 2178.2165269399966, 2195.125433504399, 2225.173023694098, 2204.9053692685993, 2226.250544334994, 2303.0386476737, 2353.7302937940035, 2385.448718213998, 2395.539789095694, 2443.1039372780965, 2482.8128286833944, 2497.5870732569974, 2523.7519120958996, 2550.491990638195, 2593.1940628030943, 2619.168863867701, 2642.624199289996], \"yaxis\": \"y2\"}, {\"hovertemplate\": \"Scenario=Reduce NRW to 20 percent<br>Climate=Historical Trend<br>Year=%{x}<br>value=%{y}<extra></extra>\", \"legendgroup\": \"Reduce NRW to 20 percent\", \"line\": {\"color\": \"#72B7B2\", \"dash\": \"solid\"}, \"mode\": \"lines\", \"name\": \"Reduce NRW to 20 percent\", \"orientation\": \"v\", \"showlegend\": true, \"type\": \"scatter\", \"x\": [2020, 2021, 2022, 2023, 2024, 2025, 2026, 2027, 2028, 2029, 2030, 2031, 2032, 2033, 2034, 2035, 2036, 2037, 2038, 2039, 2040, 2041, 2042, 2043, 2044, 2045, 2046, 2047, 2048, 2049, 2050], \"xaxis\": \"x\", \"y\": [1721.9523219500973, 1752.4589481303992, 1758.9760155891024, 1744.811419589897, 1808.7037623213052, 1821.8623190279986, 1822.2274248542988, 1817.4341809510988, 1873.0497643203, 1840.4925192691987, 1892.5249714682961, 1906.9480842990995, 1907.011811192101, 1920.8929460517013, 1977.3097228510017, 1993.928150837396, 1996.172257273696, 1976.3481304180048, 1975.2483392670024, 2056.936590128995, 2086.109480789998, 2112.7615089403985, 2123.99040668, 2168.8747752394042, 2180.1392744716936, 2186.5293361619015, 2230.6167089301002, 2223.0168034633953, 2261.6379634684063, 2292.3929807589984, 2284.8756398823984], \"yaxis\": \"y\"}, {\"hovertemplate\": \"Scenario=Reduce NRW to 20 percent<br>Climate=Climate Change<br>Year=%{x}<br>value=%{y}<extra></extra>\", \"legendgroup\": \"Reduce NRW to 20 percent\", \"line\": {\"color\": \"#72B7B2\", \"dash\": \"solid\"}, \"mode\": \"lines\", \"name\": \"Reduce NRW to 20 percent\", \"orientation\": \"v\", \"showlegend\": false, \"type\": \"scatter\", \"x\": [2020, 2021, 2022, 2023, 2024, 2025, 2026, 2027, 2028, 2029, 2030, 2031, 2032, 2033, 2034, 2035, 2036, 2037, 2038, 2039, 2040, 2041, 2042, 2043, 2044, 2045, 2046, 2047, 2048, 2049, 2050], \"xaxis\": \"x2\", \"y\": [1722.8060037891976, 1763.3245312233987, 1761.5471299911017, 1753.2900765129968, 1821.8031612345048, 1828.7869593792984, 1833.1267343841987, 1832.8254374961991, 1883.5755939241994, 1860.6249243404993, 1910.3001740225968, 1931.217568185899, 1927.6954035811018, 1951.0999836522008, 2006.2875188630014, 2013.1394468033966, 2033.6208899650956, 2008.1642729641044, 2020.2809938740015, 2090.2261616289948, 2132.808652119998, 2154.7134684419993, 2157.5344477610033, 2205.585353632099, 2232.8354393803925, 2239.6975672123012, 2269.6837401703024, 2272.7767797241963, 2310.6926408025024, 2342.0294092256017, 2345.3317745200006], \"yaxis\": \"y2\"}],                        {\"annotations\": [{\"font\": {}, \"showarrow\": false, \"text\": \"Historical Trend\", \"x\": 0.235, \"xanchor\": \"center\", \"xref\": \"paper\", \"y\": 1.0, \"yanchor\": \"bottom\", \"yref\": \"paper\"}, {\"font\": {}, \"showarrow\": false, \"text\": \"Climate Change\", \"x\": 0.765, \"xanchor\": \"center\", \"xref\": \"paper\", \"y\": 1.0, \"yanchor\": \"bottom\", \"yref\": \"paper\"}], \"autosize\": true, \"font\": {\"color\": \"#7f7f7f\", \"size\": 18}, \"height\": 500, \"hoverlabel\": {\"align\": \"left\"}, \"hovermode\": \"closest\", \"legend\": {\"font\": {\"size\": 16}, \"orientation\": \"h\", \"title\": {\"text\": \"\"}, \"tracegroupgap\": 0}, \"margin\": {\"b\": 0, \"l\": 0, \"r\": 0, \"t\": 50}, \"paper_bgcolor\": \"#fff\", \"plot_bgcolor\": \"#fff\", \"showlegend\": true, \"template\": {\"data\": {\"bar\": [{\"error_x\": {\"color\": \"#2a3f5f\"}, \"error_y\": {\"color\": \"#2a3f5f\"}, \"marker\": {\"line\": {\"color\": \"white\", \"width\": 0.5}}, \"type\": \"bar\"}], \"barpolar\": [{\"marker\": {\"line\": {\"color\": \"white\", \"width\": 0.5}}, \"type\": \"barpolar\"}], \"carpet\": [{\"aaxis\": {\"endlinecolor\": \"#2a3f5f\", \"gridcolor\": \"#C8D4E3\", \"linecolor\": \"#C8D4E3\", \"minorgridcolor\": \"#C8D4E3\", \"startlinecolor\": \"#2a3f5f\"}, \"baxis\": {\"endlinecolor\": \"#2a3f5f\", \"gridcolor\": \"#C8D4E3\", \"linecolor\": \"#C8D4E3\", \"minorgridcolor\": \"#C8D4E3\", \"startlinecolor\": \"#2a3f5f\"}, \"type\": \"carpet\"}], \"choropleth\": [{\"colorbar\": {\"outlinewidth\": 0, \"ticks\": \"\"}, \"type\": \"choropleth\"}], \"contour\": [{\"colorbar\": {\"outlinewidth\": 0, \"ticks\": \"\"}, \"colorscale\": [[0.0, \"#0d0887\"], [0.1111111111111111, \"#46039f\"], [0.2222222222222222, \"#7201a8\"], [0.3333333333333333, \"#9c179e\"], [0.4444444444444444, \"#bd3786\"], [0.5555555555555556, \"#d8576b\"], [0.6666666666666666, \"#ed7953\"], [0.7777777777777778, \"#fb9f3a\"], [0.8888888888888888, \"#fdca26\"], [1.0, \"#f0f921\"]], \"type\": \"contour\"}], \"contourcarpet\": [{\"colorbar\": {\"outlinewidth\": 0, \"ticks\": \"\"}, \"type\": \"contourcarpet\"}], \"heatmap\": [{\"colorbar\": {\"outlinewidth\": 0, \"ticks\": \"\"}, \"colorscale\": [[0.0, \"#0d0887\"], [0.1111111111111111, \"#46039f\"], [0.2222222222222222, \"#7201a8\"], [0.3333333333333333, \"#9c179e\"], [0.4444444444444444, \"#bd3786\"], [0.5555555555555556, \"#d8576b\"], [0.6666666666666666, \"#ed7953\"], [0.7777777777777778, \"#fb9f3a\"], [0.8888888888888888, \"#fdca26\"], [1.0, \"#f0f921\"]], \"type\": \"heatmap\"}], \"heatmapgl\": [{\"colorbar\": {\"outlinewidth\": 0, \"ticks\": \"\"}, \"colorscale\": [[0.0, \"#0d0887\"], [0.1111111111111111, \"#46039f\"], [0.2222222222222222, \"#7201a8\"], [0.3333333333333333, \"#9c179e\"], [0.4444444444444444, \"#bd3786\"], [0.5555555555555556, \"#d8576b\"], [0.6666666666666666, \"#ed7953\"], [0.7777777777777778, \"#fb9f3a\"], [0.8888888888888888, \"#fdca26\"], [1.0, \"#f0f921\"]], \"type\": \"heatmapgl\"}], \"histogram\": [{\"marker\": {\"colorbar\": {\"outlinewidth\": 0, \"ticks\": \"\"}}, \"type\": \"histogram\"}], \"histogram2d\": [{\"colorbar\": {\"outlinewidth\": 0, \"ticks\": \"\"}, \"colorscale\": [[0.0, \"#0d0887\"], [0.1111111111111111, \"#46039f\"], [0.2222222222222222, \"#7201a8\"], [0.3333333333333333, \"#9c179e\"], [0.4444444444444444, \"#bd3786\"], [0.5555555555555556, \"#d8576b\"], [0.6666666666666666, \"#ed7953\"], [0.7777777777777778, \"#fb9f3a\"], [0.8888888888888888, \"#fdca26\"], [1.0, \"#f0f921\"]], \"type\": \"histogram2d\"}], \"histogram2dcontour\": [{\"colorbar\": {\"outlinewidth\": 0, \"ticks\": \"\"}, \"colorscale\": [[0.0, \"#0d0887\"], [0.1111111111111111, \"#46039f\"], [0.2222222222222222, \"#7201a8\"], [0.3333333333333333, \"#9c179e\"], [0.4444444444444444, \"#bd3786\"], [0.5555555555555556, \"#d8576b\"], [0.6666666666666666, \"#ed7953\"], [0.7777777777777778, \"#fb9f3a\"], [0.8888888888888888, \"#fdca26\"], [1.0, \"#f0f921\"]], \"type\": \"histogram2dcontour\"}], \"mesh3d\": [{\"colorbar\": {\"outlinewidth\": 0, \"ticks\": \"\"}, \"type\": \"mesh3d\"}], \"parcoords\": [{\"line\": {\"colorbar\": {\"outlinewidth\": 0, \"ticks\": \"\"}}, \"type\": \"parcoords\"}], \"pie\": [{\"automargin\": true, \"type\": \"pie\"}], \"scatter\": [{\"marker\": {\"colorbar\": {\"outlinewidth\": 0, \"ticks\": \"\"}}, \"type\": \"scatter\"}], \"scatter3d\": [{\"line\": {\"colorbar\": {\"outlinewidth\": 0, \"ticks\": \"\"}}, \"marker\": {\"colorbar\": {\"outlinewidth\": 0, \"ticks\": \"\"}}, \"type\": \"scatter3d\"}], \"scattercarpet\": [{\"marker\": {\"colorbar\": {\"outlinewidth\": 0, \"ticks\": \"\"}}, \"type\": \"scattercarpet\"}], \"scattergeo\": [{\"marker\": {\"colorbar\": {\"outlinewidth\": 0, \"ticks\": \"\"}}, \"type\": \"scattergeo\"}], \"scattergl\": [{\"marker\": {\"colorbar\": {\"outlinewidth\": 0, \"ticks\": \"\"}}, \"type\": \"scattergl\"}], \"scattermapbox\": [{\"marker\": {\"colorbar\": {\"outlinewidth\": 0, \"ticks\": \"\"}}, \"type\": \"scattermapbox\"}], \"scatterpolar\": [{\"marker\": {\"colorbar\": {\"outlinewidth\": 0, \"ticks\": \"\"}}, \"type\": \"scatterpolar\"}], \"scatterpolargl\": [{\"marker\": {\"colorbar\": {\"outlinewidth\": 0, \"ticks\": \"\"}}, \"type\": \"scatterpolargl\"}], \"scatterternary\": [{\"marker\": {\"colorbar\": {\"outlinewidth\": 0, \"ticks\": \"\"}}, \"type\": \"scatterternary\"}], \"surface\": [{\"colorbar\": {\"outlinewidth\": 0, \"ticks\": \"\"}, \"colorscale\": [[0.0, \"#0d0887\"], [0.1111111111111111, \"#46039f\"], [0.2222222222222222, \"#7201a8\"], [0.3333333333333333, \"#9c179e\"], [0.4444444444444444, \"#bd3786\"], [0.5555555555555556, \"#d8576b\"], [0.6666666666666666, \"#ed7953\"], [0.7777777777777778, \"#fb9f3a\"], [0.8888888888888888, \"#fdca26\"], [1.0, \"#f0f921\"]], \"type\": \"surface\"}], \"table\": [{\"cells\": {\"fill\": {\"color\": \"#EBF0F8\"}, \"line\": {\"color\": \"white\"}}, \"header\": {\"fill\": {\"color\": \"#C8D4E3\"}, \"line\": {\"color\": \"white\"}}, \"type\": \"table\"}]}, \"layout\": {\"annotationdefaults\": {\"arrowcolor\": \"#2a3f5f\", \"arrowhead\": 0, \"arrowwidth\": 1}, \"coloraxis\": {\"colorbar\": {\"outlinewidth\": 0, \"ticks\": \"\"}}, \"colorscale\": {\"diverging\": [[0, \"#8e0152\"], [0.1, \"#c51b7d\"], [0.2, \"#de77ae\"], [0.3, \"#f1b6da\"], [0.4, \"#fde0ef\"], [0.5, \"#f7f7f7\"], [0.6, \"#e6f5d0\"], [0.7, \"#b8e186\"], [0.8, \"#7fbc41\"], [0.9, \"#4d9221\"], [1, \"#276419\"]], \"sequential\": [[0.0, \"#0d0887\"], [0.1111111111111111, \"#46039f\"], [0.2222222222222222, \"#7201a8\"], [0.3333333333333333, \"#9c179e\"], [0.4444444444444444, \"#bd3786\"], [0.5555555555555556, \"#d8576b\"], [0.6666666666666666, \"#ed7953\"], [0.7777777777777778, \"#fb9f3a\"], [0.8888888888888888, \"#fdca26\"], [1.0, \"#f0f921\"]], \"sequentialminus\": [[0.0, \"#0d0887\"], [0.1111111111111111, \"#46039f\"], [0.2222222222222222, \"#7201a8\"], [0.3333333333333333, \"#9c179e\"], [0.4444444444444444, \"#bd3786\"], [0.5555555555555556, \"#d8576b\"], [0.6666666666666666, \"#ed7953\"], [0.7777777777777778, \"#fb9f3a\"], [0.8888888888888888, \"#fdca26\"], [1.0, \"#f0f921\"]]}, \"colorway\": [\"#636efa\", \"#EF553B\", \"#00cc96\", \"#ab63fa\", \"#FFA15A\", \"#19d3f3\", \"#FF6692\", \"#B6E880\", \"#FF97FF\", \"#FECB52\"], \"font\": {\"color\": \"#2a3f5f\"}, \"geo\": {\"bgcolor\": \"white\", \"lakecolor\": \"white\", \"landcolor\": \"white\", \"showlakes\": true, \"showland\": true, \"subunitcolor\": \"#C8D4E3\"}, \"hoverlabel\": {\"align\": \"left\"}, \"hovermode\": \"closest\", \"mapbox\": {\"style\": \"light\"}, \"paper_bgcolor\": \"white\", \"plot_bgcolor\": \"white\", \"polar\": {\"angularaxis\": {\"gridcolor\": \"#EBF0F8\", \"linecolor\": \"#EBF0F8\", \"ticks\": \"\"}, \"bgcolor\": \"white\", \"radialaxis\": {\"gridcolor\": \"#EBF0F8\", \"linecolor\": \"#EBF0F8\", \"ticks\": \"\"}}, \"scene\": {\"xaxis\": {\"backgroundcolor\": \"white\", \"gridcolor\": \"#DFE8F3\", \"gridwidth\": 2, \"linecolor\": \"#EBF0F8\", \"showbackground\": true, \"ticks\": \"\", \"zerolinecolor\": \"#EBF0F8\"}, \"yaxis\": {\"backgroundcolor\": \"white\", \"gridcolor\": \"#DFE8F3\", \"gridwidth\": 2, \"linecolor\": \"#EBF0F8\", \"showbackground\": true, \"ticks\": \"\", \"zerolinecolor\": \"#EBF0F8\"}, \"zaxis\": {\"backgroundcolor\": \"white\", \"gridcolor\": \"#DFE8F3\", \"gridwidth\": 2, \"linecolor\": \"#EBF0F8\", \"showbackground\": true, \"ticks\": \"\", \"zerolinecolor\": \"#EBF0F8\"}}, \"shapedefaults\": {\"line\": {\"color\": \"#2a3f5f\"}}, \"ternary\": {\"aaxis\": {\"gridcolor\": \"#DFE8F3\", \"linecolor\": \"#A2B1C6\", \"ticks\": \"\"}, \"baxis\": {\"gridcolor\": \"#DFE8F3\", \"linecolor\": \"#A2B1C6\", \"ticks\": \"\"}, \"bgcolor\": \"white\", \"caxis\": {\"gridcolor\": \"#DFE8F3\", \"linecolor\": \"#A2B1C6\", \"ticks\": \"\"}}, \"title\": {\"x\": 0.05}, \"xaxis\": {\"automargin\": true, \"gridcolor\": \"#EBF0F8\", \"linecolor\": \"#EBF0F8\", \"ticks\": \"\", \"title\": {\"standoff\": 15}, \"zerolinecolor\": \"#EBF0F8\", \"zerolinewidth\": 2}, \"yaxis\": {\"automargin\": true, \"gridcolor\": \"#EBF0F8\", \"linecolor\": \"#EBF0F8\", \"ticks\": \"\", \"title\": {\"standoff\": 15}, \"zerolinecolor\": \"#EBF0F8\", \"zerolinewidth\": 2}}}, \"xaxis\": {\"anchor\": \"y\", \"domain\": [0.0, 0.47], \"title\": {\"text\": \"\"}}, \"xaxis2\": {\"anchor\": \"y2\", \"domain\": [0.53, 1.0], \"matches\": \"x\", \"title\": {\"text\": \"\"}}, \"yaxis\": {\"anchor\": \"x\", \"domain\": [0.0, 1.0], \"title\": {\"text\": \"Water delivered (Mm<sup>3</sup>)\"}}, \"yaxis2\": {\"anchor\": \"x2\", \"domain\": [0.0, 1.0], \"matches\": \"y\", \"showticklabels\": false}},                        {\"responsive\": true}                    ).then(function(){\n",
       "                            \n",
       "var gd = document.getElementById('419f44d7-55db-46b9-821b-663a041d618f');\n",
       "var x = new MutationObserver(function (mutations, observer) {{\n",
       "        var display = window.getComputedStyle(gd).display;\n",
       "        if (!display || display === 'none') {{\n",
       "            console.log([gd, 'removed!']);\n",
       "            Plotly.purge(gd);\n",
       "            observer.disconnect();\n",
       "        }}\n",
       "}});\n",
       "\n",
       "// Listen for the removal of the full notebook cells\n",
       "var notebookContainer = gd.closest('#notebook-container');\n",
       "if (notebookContainer) {{\n",
       "    x.observe(notebookContainer, {childList: true});\n",
       "}}\n",
       "\n",
       "// Listen for the clearing of the current output cell\n",
       "var outputEl = gd.closest('.output');\n",
       "if (outputEl) {{\n",
       "    x.observe(outputEl, {childList: true});\n",
       "}}\n",
       "\n",
       "                        })                };                });            </script>        </div>"
      ]
     },
     "metadata": {},
     "output_type": "display_data"
    }
   ],
   "source": [
    "dff = df_delivered\n",
    "dff = dff.groupby(['Scenario', 'Climate', 'Year']).agg({'value': lambda r: sum(r) / 1000000}).reset_index()\n",
    "\n",
    "fig = px.line(dff, x='Year', y='value', color='Scenario', facet_col='Climate',\n",
    "              color_discrete_sequence=px.colors.qualitative.T10,\n",
    "              facet_col_spacing=0.06, labels=names,  category_orders=category_orders)\n",
    "fig.update_layout(layout, yaxis_title_text='Water delivered (Mm<sup>3</sup>)')\n",
    "update_labels(fig)\n",
    "fig.show()\n",
    "fig.write_image(\"High level results/waterDeliveries.png\", scale=4, width=900, height=500)\n",
    "fig.write_html(\"High level results/waterDeliveries.html\", include_plotlyjs='cdn')"
   ]
  },
  {
   "cell_type": "code",
   "execution_count": 38,
   "metadata": {},
   "outputs": [
    {
     "data": {
      "application/vnd.plotly.v1+json": {
       "config": {
        "plotlyServerURL": "https://plot.ly"
       },
       "data": [
        {
         "hovertemplate": "Scenario=Reference<br>Climate=Historical Trend<br>Year=%{x}<br>value=%{y}<extra></extra>",
         "legendgroup": "Reference",
         "line": {
          "color": "#4C78A8",
          "dash": "solid"
         },
         "mode": "lines",
         "name": "Reference",
         "orientation": "v",
         "showlegend": true,
         "type": "scatter",
         "x": [
          2020,
          2021,
          2022,
          2023,
          2024,
          2025,
          2026,
          2027,
          2028,
          2029,
          2030,
          2031,
          2032,
          2033,
          2034,
          2035,
          2036,
          2037,
          2038,
          2039,
          2040,
          2041,
          2042,
          2043,
          2044,
          2045,
          2046,
          2047,
          2048,
          2049,
          2050
         ],
         "xaxis": "x",
         "y": [
          0.25983768176913413,
          0.2753342436475383,
          0.2518482807090413,
          0.24381807055786914,
          0.25289121925003255,
          0.2480839445772641,
          0.25175193679373553,
          0.24330677875950055,
          0.2517634719890313,
          0.2518347243078507,
          0.24814140474890561,
          0.2518697874810496,
          0.2503033101538997,
          0.24811568330033623,
          0.2588933166433677,
          0.26100423956031316,
          0.2556536507752959,
          0.2457952171340612,
          0.24586093476545642,
          0.25586213113082246,
          0.2605672183083169,
          0.26313697117021606,
          0.26419092004263606,
          0.26027070987033346,
          0.2644548134910094,
          0.25692513204782047,
          0.268615538300727,
          0.25498079961690034,
          0.26086030449561637,
          0.2657601402844859,
          0.25526704864548927
         ],
         "yaxis": "y"
        },
        {
         "hovertemplate": "Scenario=Reference<br>Climate=Climate Change<br>Year=%{x}<br>value=%{y}<extra></extra>",
         "legendgroup": "Reference",
         "line": {
          "color": "#4C78A8",
          "dash": "solid"
         },
         "mode": "lines",
         "name": "Reference",
         "orientation": "v",
         "showlegend": false,
         "type": "scatter",
         "x": [
          2020,
          2021,
          2022,
          2023,
          2024,
          2025,
          2026,
          2027,
          2028,
          2029,
          2030,
          2031,
          2032,
          2033,
          2034,
          2035,
          2036,
          2037,
          2038,
          2039,
          2040,
          2041,
          2042,
          2043,
          2044,
          2045,
          2046,
          2047,
          2048,
          2049,
          2050
         ],
         "xaxis": "x2",
         "y": [
          0.2601491279589145,
          0.27361225594168626,
          0.2531546635677169,
          0.24377512685145927,
          0.2565545916020294,
          0.2500365641332337,
          0.25463962409797386,
          0.24881122611052445,
          0.2550444922188915,
          0.2561009645417127,
          0.25300240512360705,
          0.2568218946495405,
          0.25573834586574967,
          0.25376148832871537,
          0.2622772858653157,
          0.26642283639014813,
          0.2604816950435894,
          0.2518898990363792,
          0.25227491225773147,
          0.26360500791565145,
          0.266956642703719,
          0.2676228262439807,
          0.270543574172948,
          0.26808256225206134,
          0.2700010460579326,
          0.26383693304183103,
          0.2760241216039081,
          0.2617366729559214,
          0.2673609490670753,
          0.27116432379960975,
          0.26292929173352747
         ],
         "yaxis": "y2"
        },
        {
         "hovertemplate": "Scenario=Increased Water Productivity<br>Climate=Historical Trend<br>Year=%{x}<br>value=%{y}<extra></extra>",
         "legendgroup": "Increased Water Productivity",
         "line": {
          "color": "#F58518",
          "dash": "solid"
         },
         "mode": "lines",
         "name": "Increased Water Productivity",
         "orientation": "v",
         "showlegend": true,
         "type": "scatter",
         "x": [
          2020,
          2021,
          2022,
          2023,
          2024,
          2025,
          2026,
          2027,
          2028,
          2029,
          2030,
          2031,
          2032,
          2033,
          2034,
          2035,
          2036,
          2037,
          2038,
          2039,
          2040,
          2041,
          2042,
          2043,
          2044,
          2045,
          2046,
          2047,
          2048,
          2049,
          2050
         ],
         "xaxis": "x",
         "y": [
          0.25836947024395296,
          0.2718885245708806,
          0.24665107499858963,
          0.2376268687231387,
          0.24515731581573355,
          0.23863232960128908,
          0.2420395634315813,
          0.23170201745656763,
          0.24022585690390622,
          0.23884855130396276,
          0.23474799278766106,
          0.23645393319442837,
          0.23405699283959056,
          0.23099869150781202,
          0.24025390468666002,
          0.24170601969437505,
          0.23676544112017994,
          0.22600434928119492,
          0.22503968371209196,
          0.23417530842012488,
          0.2393054338917588,
          0.23795011922457787,
          0.24059133874362212,
          0.23644507206477594,
          0.23889072854332222,
          0.2326147378721216,
          0.24190821695817588,
          0.2292087665952605,
          0.2339117781013729,
          0.23878288945111792,
          0.2293086112154966
         ],
         "yaxis": "y"
        },
        {
         "hovertemplate": "Scenario=Increased Water Productivity<br>Climate=Climate Change<br>Year=%{x}<br>value=%{y}<extra></extra>",
         "legendgroup": "Increased Water Productivity",
         "line": {
          "color": "#F58518",
          "dash": "solid"
         },
         "mode": "lines",
         "name": "Increased Water Productivity",
         "orientation": "v",
         "showlegend": false,
         "type": "scatter",
         "x": [
          2020,
          2021,
          2022,
          2023,
          2024,
          2025,
          2026,
          2027,
          2028,
          2029,
          2030,
          2031,
          2032,
          2033,
          2034,
          2035,
          2036,
          2037,
          2038,
          2039,
          2040,
          2041,
          2042,
          2043,
          2044,
          2045,
          2046,
          2047,
          2048,
          2049,
          2050
         ],
         "xaxis": "x2",
         "y": [
          0.2586744606611702,
          0.2703406814288983,
          0.2484441564382115,
          0.23768054170699665,
          0.24866818313642325,
          0.24107801267378146,
          0.24484156602059295,
          0.23760106816986548,
          0.24366221096343027,
          0.24289979948969345,
          0.2385656700815771,
          0.24035083790716255,
          0.23891167319418283,
          0.23764340006844317,
          0.24194293024383917,
          0.24584351315144354,
          0.24056891556131244,
          0.23267108304785383,
          0.23032416554412294,
          0.24117991394032157,
          0.24243442642468058,
          0.24193344746620477,
          0.24687039092423108,
          0.24227059544644644,
          0.24342771848584477,
          0.23851542783813684,
          0.2475327352200374,
          0.2364727970043985,
          0.2375424542926791,
          0.2446073067422219,
          0.23566558202174345
         ],
         "yaxis": "y2"
        },
        {
         "hovertemplate": "Scenario=New Resources<br>Climate=Historical Trend<br>Year=%{x}<br>value=%{y}<extra></extra>",
         "legendgroup": "New Resources",
         "line": {
          "color": "#E45756",
          "dash": "solid"
         },
         "mode": "lines",
         "name": "New Resources",
         "orientation": "v",
         "showlegend": true,
         "type": "scatter",
         "x": [
          2020,
          2021,
          2022,
          2023,
          2024,
          2025,
          2026,
          2027,
          2028,
          2029,
          2030,
          2031,
          2032,
          2033,
          2034,
          2035,
          2036,
          2037,
          2038,
          2039,
          2040,
          2041,
          2042,
          2043,
          2044,
          2045,
          2046,
          2047,
          2048,
          2049,
          2050
         ],
         "xaxis": "x",
         "y": [
          0.2569717578996528,
          0.2727705536539378,
          0.24911654921935655,
          0.24118685394840977,
          0.25035000735447055,
          0.24107592233806535,
          0.24352218658904023,
          0.2342967089394409,
          0.24071109881268757,
          0.2377296150463601,
          0.23320805308144363,
          0.23589918035672486,
          0.23252715641889934,
          0.2291307760300498,
          0.23922699361497288,
          0.23980895346921005,
          0.23311171663855282,
          0.22118888122758384,
          0.21983677187751796,
          0.23028721963524215,
          0.23424490171713097,
          0.2366348233848321,
          0.2368904344404692,
          0.233163115735708,
          0.23647350315202856,
          0.22729537317556317,
          0.23944197947853252,
          0.22408953889430502,
          0.23002282072524685,
          0.2346458954852485,
          0.22196184555630075
         ],
         "yaxis": "y"
        },
        {
         "hovertemplate": "Scenario=New Resources<br>Climate=Climate Change<br>Year=%{x}<br>value=%{y}<extra></extra>",
         "legendgroup": "New Resources",
         "line": {
          "color": "#E45756",
          "dash": "solid"
         },
         "mode": "lines",
         "name": "New Resources",
         "orientation": "v",
         "showlegend": false,
         "type": "scatter",
         "x": [
          2020,
          2021,
          2022,
          2023,
          2024,
          2025,
          2026,
          2027,
          2028,
          2029,
          2030,
          2031,
          2032,
          2033,
          2034,
          2035,
          2036,
          2037,
          2038,
          2039,
          2040,
          2041,
          2042,
          2043,
          2044,
          2045,
          2046,
          2047,
          2048,
          2049,
          2050
         ],
         "xaxis": "x2",
         "y": [
          0.25727744448472895,
          0.27106832535045067,
          0.2504455207071307,
          0.24119167776766665,
          0.25400430759511605,
          0.24323991426463998,
          0.2467912875325842,
          0.23988727466238755,
          0.2445268876940733,
          0.2410554617397574,
          0.23806401902822416,
          0.24117874895052965,
          0.23829072398137258,
          0.23583029894683713,
          0.2431134939418007,
          0.24622500270401956,
          0.23843063024592712,
          0.22797368386007466,
          0.22706036443805697,
          0.23902548435528884,
          0.24134730677018096,
          0.24191884639507208,
          0.24427048683530886,
          0.241494937930994,
          0.24288912268906718,
          0.23538660617942572,
          0.247895803512354,
          0.23223155906617787,
          0.2375986296783356,
          0.24114463849691792,
          0.23153512300392173
         ],
         "yaxis": "y2"
        },
        {
         "hovertemplate": "Scenario=Reduce NRW to 20 percent<br>Climate=Historical Trend<br>Year=%{x}<br>value=%{y}<extra></extra>",
         "legendgroup": "Reduce NRW to 20 percent",
         "line": {
          "color": "#72B7B2",
          "dash": "solid"
         },
         "mode": "lines",
         "name": "Reduce NRW to 20 percent",
         "orientation": "v",
         "showlegend": true,
         "type": "scatter",
         "x": [
          2020,
          2021,
          2022,
          2023,
          2024,
          2025,
          2026,
          2027,
          2028,
          2029,
          2030,
          2031,
          2032,
          2033,
          2034,
          2035,
          2036,
          2037,
          2038,
          2039,
          2040,
          2041,
          2042,
          2043,
          2044,
          2045,
          2046,
          2047,
          2048,
          2049,
          2050
         ],
         "xaxis": "x",
         "y": [
          0.2559335432201976,
          0.2716501601283208,
          0.24771088682707496,
          0.23682774762533723,
          0.24833825805481333,
          0.2418151093714491,
          0.24568398940658476,
          0.2348633460285776,
          0.24311298642579887,
          0.2426041947204778,
          0.23990381071991299,
          0.243160310560492,
          0.23933641806320918,
          0.23822098749043524,
          0.24954199860132392,
          0.2510298167458178,
          0.24485741913308431,
          0.2330342420994026,
          0.23398149839962518,
          0.2453094103802993,
          0.24950633511570736,
          0.2520954562266464,
          0.2517037897957336,
          0.24649141761154722,
          0.2529536793312139,
          0.24536473587398894,
          0.25291373650503773,
          0.24166561604546222,
          0.24815874386471387,
          0.2498801429568468,
          0.24169953938845234
         ],
         "yaxis": "y"
        },
        {
         "hovertemplate": "Scenario=Reduce NRW to 20 percent<br>Climate=Climate Change<br>Year=%{x}<br>value=%{y}<extra></extra>",
         "legendgroup": "Reduce NRW to 20 percent",
         "line": {
          "color": "#72B7B2",
          "dash": "solid"
         },
         "mode": "lines",
         "name": "Reduce NRW to 20 percent",
         "orientation": "v",
         "showlegend": false,
         "type": "scatter",
         "x": [
          2020,
          2021,
          2022,
          2023,
          2024,
          2025,
          2026,
          2027,
          2028,
          2029,
          2030,
          2031,
          2032,
          2033,
          2034,
          2035,
          2036,
          2037,
          2038,
          2039,
          2040,
          2041,
          2042,
          2043,
          2044,
          2045,
          2046,
          2047,
          2048,
          2049,
          2050
         ],
         "xaxis": "x2",
         "y": [
          0.2561349119919981,
          0.27003661452879363,
          0.2484137083794357,
          0.23798201501667401,
          0.2509667791208399,
          0.2454483270728045,
          0.2488878569709535,
          0.24028595599386335,
          0.2477743571154951,
          0.24619163209621012,
          0.24456492492080398,
          0.24860532407653063,
          0.2449643564510749,
          0.2440031006288502,
          0.2538040077166877,
          0.2571547912372005,
          0.25104969391443954,
          0.2398708705852004,
          0.24098030688104544,
          0.254042684799324,
          0.25560268813108,
          0.25718532182488646,
          0.2603756566382786,
          0.2559118525812782,
          0.25966952137638744,
          0.2521855367391692,
          0.26166122685984694,
          0.24958013057227743,
          0.25593539333718107,
          0.2563812968586965,
          0.2504007875438184
         ],
         "yaxis": "y2"
        }
       ],
       "layout": {
        "annotations": [
         {
          "font": {},
          "showarrow": false,
          "text": "Historical Trend",
          "x": 0.235,
          "xanchor": "center",
          "xref": "paper",
          "y": 1,
          "yanchor": "bottom",
          "yref": "paper"
         },
         {
          "font": {},
          "showarrow": false,
          "text": "Climate Change",
          "x": 0.765,
          "xanchor": "center",
          "xref": "paper",
          "y": 1,
          "yanchor": "bottom",
          "yref": "paper"
         }
        ],
        "autosize": true,
        "font": {
         "color": "#7f7f7f",
         "size": 18
        },
        "height": 500,
        "hoverlabel": {
         "align": "left"
        },
        "hovermode": "closest",
        "legend": {
         "font": {
          "size": 16
         },
         "orientation": "h",
         "title": {
          "text": ""
         },
         "tracegroupgap": 0
        },
        "margin": {
         "b": 0,
         "l": 0,
         "r": 0,
         "t": 50
        },
        "paper_bgcolor": "#fff",
        "plot_bgcolor": "#fff",
        "showlegend": true,
        "template": {
         "data": {
          "bar": [
           {
            "error_x": {
             "color": "#2a3f5f"
            },
            "error_y": {
             "color": "#2a3f5f"
            },
            "marker": {
             "line": {
              "color": "white",
              "width": 0.5
             }
            },
            "type": "bar"
           }
          ],
          "barpolar": [
           {
            "marker": {
             "line": {
              "color": "white",
              "width": 0.5
             }
            },
            "type": "barpolar"
           }
          ],
          "carpet": [
           {
            "aaxis": {
             "endlinecolor": "#2a3f5f",
             "gridcolor": "#C8D4E3",
             "linecolor": "#C8D4E3",
             "minorgridcolor": "#C8D4E3",
             "startlinecolor": "#2a3f5f"
            },
            "baxis": {
             "endlinecolor": "#2a3f5f",
             "gridcolor": "#C8D4E3",
             "linecolor": "#C8D4E3",
             "minorgridcolor": "#C8D4E3",
             "startlinecolor": "#2a3f5f"
            },
            "type": "carpet"
           }
          ],
          "choropleth": [
           {
            "colorbar": {
             "outlinewidth": 0,
             "ticks": ""
            },
            "type": "choropleth"
           }
          ],
          "contour": [
           {
            "colorbar": {
             "outlinewidth": 0,
             "ticks": ""
            },
            "colorscale": [
             [
              0,
              "#0d0887"
             ],
             [
              0.1111111111111111,
              "#46039f"
             ],
             [
              0.2222222222222222,
              "#7201a8"
             ],
             [
              0.3333333333333333,
              "#9c179e"
             ],
             [
              0.4444444444444444,
              "#bd3786"
             ],
             [
              0.5555555555555556,
              "#d8576b"
             ],
             [
              0.6666666666666666,
              "#ed7953"
             ],
             [
              0.7777777777777778,
              "#fb9f3a"
             ],
             [
              0.8888888888888888,
              "#fdca26"
             ],
             [
              1,
              "#f0f921"
             ]
            ],
            "type": "contour"
           }
          ],
          "contourcarpet": [
           {
            "colorbar": {
             "outlinewidth": 0,
             "ticks": ""
            },
            "type": "contourcarpet"
           }
          ],
          "heatmap": [
           {
            "colorbar": {
             "outlinewidth": 0,
             "ticks": ""
            },
            "colorscale": [
             [
              0,
              "#0d0887"
             ],
             [
              0.1111111111111111,
              "#46039f"
             ],
             [
              0.2222222222222222,
              "#7201a8"
             ],
             [
              0.3333333333333333,
              "#9c179e"
             ],
             [
              0.4444444444444444,
              "#bd3786"
             ],
             [
              0.5555555555555556,
              "#d8576b"
             ],
             [
              0.6666666666666666,
              "#ed7953"
             ],
             [
              0.7777777777777778,
              "#fb9f3a"
             ],
             [
              0.8888888888888888,
              "#fdca26"
             ],
             [
              1,
              "#f0f921"
             ]
            ],
            "type": "heatmap"
           }
          ],
          "heatmapgl": [
           {
            "colorbar": {
             "outlinewidth": 0,
             "ticks": ""
            },
            "colorscale": [
             [
              0,
              "#0d0887"
             ],
             [
              0.1111111111111111,
              "#46039f"
             ],
             [
              0.2222222222222222,
              "#7201a8"
             ],
             [
              0.3333333333333333,
              "#9c179e"
             ],
             [
              0.4444444444444444,
              "#bd3786"
             ],
             [
              0.5555555555555556,
              "#d8576b"
             ],
             [
              0.6666666666666666,
              "#ed7953"
             ],
             [
              0.7777777777777778,
              "#fb9f3a"
             ],
             [
              0.8888888888888888,
              "#fdca26"
             ],
             [
              1,
              "#f0f921"
             ]
            ],
            "type": "heatmapgl"
           }
          ],
          "histogram": [
           {
            "marker": {
             "colorbar": {
              "outlinewidth": 0,
              "ticks": ""
             }
            },
            "type": "histogram"
           }
          ],
          "histogram2d": [
           {
            "colorbar": {
             "outlinewidth": 0,
             "ticks": ""
            },
            "colorscale": [
             [
              0,
              "#0d0887"
             ],
             [
              0.1111111111111111,
              "#46039f"
             ],
             [
              0.2222222222222222,
              "#7201a8"
             ],
             [
              0.3333333333333333,
              "#9c179e"
             ],
             [
              0.4444444444444444,
              "#bd3786"
             ],
             [
              0.5555555555555556,
              "#d8576b"
             ],
             [
              0.6666666666666666,
              "#ed7953"
             ],
             [
              0.7777777777777778,
              "#fb9f3a"
             ],
             [
              0.8888888888888888,
              "#fdca26"
             ],
             [
              1,
              "#f0f921"
             ]
            ],
            "type": "histogram2d"
           }
          ],
          "histogram2dcontour": [
           {
            "colorbar": {
             "outlinewidth": 0,
             "ticks": ""
            },
            "colorscale": [
             [
              0,
              "#0d0887"
             ],
             [
              0.1111111111111111,
              "#46039f"
             ],
             [
              0.2222222222222222,
              "#7201a8"
             ],
             [
              0.3333333333333333,
              "#9c179e"
             ],
             [
              0.4444444444444444,
              "#bd3786"
             ],
             [
              0.5555555555555556,
              "#d8576b"
             ],
             [
              0.6666666666666666,
              "#ed7953"
             ],
             [
              0.7777777777777778,
              "#fb9f3a"
             ],
             [
              0.8888888888888888,
              "#fdca26"
             ],
             [
              1,
              "#f0f921"
             ]
            ],
            "type": "histogram2dcontour"
           }
          ],
          "mesh3d": [
           {
            "colorbar": {
             "outlinewidth": 0,
             "ticks": ""
            },
            "type": "mesh3d"
           }
          ],
          "parcoords": [
           {
            "line": {
             "colorbar": {
              "outlinewidth": 0,
              "ticks": ""
             }
            },
            "type": "parcoords"
           }
          ],
          "pie": [
           {
            "automargin": true,
            "type": "pie"
           }
          ],
          "scatter": [
           {
            "marker": {
             "colorbar": {
              "outlinewidth": 0,
              "ticks": ""
             }
            },
            "type": "scatter"
           }
          ],
          "scatter3d": [
           {
            "line": {
             "colorbar": {
              "outlinewidth": 0,
              "ticks": ""
             }
            },
            "marker": {
             "colorbar": {
              "outlinewidth": 0,
              "ticks": ""
             }
            },
            "type": "scatter3d"
           }
          ],
          "scattercarpet": [
           {
            "marker": {
             "colorbar": {
              "outlinewidth": 0,
              "ticks": ""
             }
            },
            "type": "scattercarpet"
           }
          ],
          "scattergeo": [
           {
            "marker": {
             "colorbar": {
              "outlinewidth": 0,
              "ticks": ""
             }
            },
            "type": "scattergeo"
           }
          ],
          "scattergl": [
           {
            "marker": {
             "colorbar": {
              "outlinewidth": 0,
              "ticks": ""
             }
            },
            "type": "scattergl"
           }
          ],
          "scattermapbox": [
           {
            "marker": {
             "colorbar": {
              "outlinewidth": 0,
              "ticks": ""
             }
            },
            "type": "scattermapbox"
           }
          ],
          "scatterpolar": [
           {
            "marker": {
             "colorbar": {
              "outlinewidth": 0,
              "ticks": ""
             }
            },
            "type": "scatterpolar"
           }
          ],
          "scatterpolargl": [
           {
            "marker": {
             "colorbar": {
              "outlinewidth": 0,
              "ticks": ""
             }
            },
            "type": "scatterpolargl"
           }
          ],
          "scatterternary": [
           {
            "marker": {
             "colorbar": {
              "outlinewidth": 0,
              "ticks": ""
             }
            },
            "type": "scatterternary"
           }
          ],
          "surface": [
           {
            "colorbar": {
             "outlinewidth": 0,
             "ticks": ""
            },
            "colorscale": [
             [
              0,
              "#0d0887"
             ],
             [
              0.1111111111111111,
              "#46039f"
             ],
             [
              0.2222222222222222,
              "#7201a8"
             ],
             [
              0.3333333333333333,
              "#9c179e"
             ],
             [
              0.4444444444444444,
              "#bd3786"
             ],
             [
              0.5555555555555556,
              "#d8576b"
             ],
             [
              0.6666666666666666,
              "#ed7953"
             ],
             [
              0.7777777777777778,
              "#fb9f3a"
             ],
             [
              0.8888888888888888,
              "#fdca26"
             ],
             [
              1,
              "#f0f921"
             ]
            ],
            "type": "surface"
           }
          ],
          "table": [
           {
            "cells": {
             "fill": {
              "color": "#EBF0F8"
             },
             "line": {
              "color": "white"
             }
            },
            "header": {
             "fill": {
              "color": "#C8D4E3"
             },
             "line": {
              "color": "white"
             }
            },
            "type": "table"
           }
          ]
         },
         "layout": {
          "annotationdefaults": {
           "arrowcolor": "#2a3f5f",
           "arrowhead": 0,
           "arrowwidth": 1
          },
          "coloraxis": {
           "colorbar": {
            "outlinewidth": 0,
            "ticks": ""
           }
          },
          "colorscale": {
           "diverging": [
            [
             0,
             "#8e0152"
            ],
            [
             0.1,
             "#c51b7d"
            ],
            [
             0.2,
             "#de77ae"
            ],
            [
             0.3,
             "#f1b6da"
            ],
            [
             0.4,
             "#fde0ef"
            ],
            [
             0.5,
             "#f7f7f7"
            ],
            [
             0.6,
             "#e6f5d0"
            ],
            [
             0.7,
             "#b8e186"
            ],
            [
             0.8,
             "#7fbc41"
            ],
            [
             0.9,
             "#4d9221"
            ],
            [
             1,
             "#276419"
            ]
           ],
           "sequential": [
            [
             0,
             "#0d0887"
            ],
            [
             0.1111111111111111,
             "#46039f"
            ],
            [
             0.2222222222222222,
             "#7201a8"
            ],
            [
             0.3333333333333333,
             "#9c179e"
            ],
            [
             0.4444444444444444,
             "#bd3786"
            ],
            [
             0.5555555555555556,
             "#d8576b"
            ],
            [
             0.6666666666666666,
             "#ed7953"
            ],
            [
             0.7777777777777778,
             "#fb9f3a"
            ],
            [
             0.8888888888888888,
             "#fdca26"
            ],
            [
             1,
             "#f0f921"
            ]
           ],
           "sequentialminus": [
            [
             0,
             "#0d0887"
            ],
            [
             0.1111111111111111,
             "#46039f"
            ],
            [
             0.2222222222222222,
             "#7201a8"
            ],
            [
             0.3333333333333333,
             "#9c179e"
            ],
            [
             0.4444444444444444,
             "#bd3786"
            ],
            [
             0.5555555555555556,
             "#d8576b"
            ],
            [
             0.6666666666666666,
             "#ed7953"
            ],
            [
             0.7777777777777778,
             "#fb9f3a"
            ],
            [
             0.8888888888888888,
             "#fdca26"
            ],
            [
             1,
             "#f0f921"
            ]
           ]
          },
          "colorway": [
           "#636efa",
           "#EF553B",
           "#00cc96",
           "#ab63fa",
           "#FFA15A",
           "#19d3f3",
           "#FF6692",
           "#B6E880",
           "#FF97FF",
           "#FECB52"
          ],
          "font": {
           "color": "#2a3f5f"
          },
          "geo": {
           "bgcolor": "white",
           "lakecolor": "white",
           "landcolor": "white",
           "showlakes": true,
           "showland": true,
           "subunitcolor": "#C8D4E3"
          },
          "hoverlabel": {
           "align": "left"
          },
          "hovermode": "closest",
          "mapbox": {
           "style": "light"
          },
          "paper_bgcolor": "white",
          "plot_bgcolor": "white",
          "polar": {
           "angularaxis": {
            "gridcolor": "#EBF0F8",
            "linecolor": "#EBF0F8",
            "ticks": ""
           },
           "bgcolor": "white",
           "radialaxis": {
            "gridcolor": "#EBF0F8",
            "linecolor": "#EBF0F8",
            "ticks": ""
           }
          },
          "scene": {
           "xaxis": {
            "backgroundcolor": "white",
            "gridcolor": "#DFE8F3",
            "gridwidth": 2,
            "linecolor": "#EBF0F8",
            "showbackground": true,
            "ticks": "",
            "zerolinecolor": "#EBF0F8"
           },
           "yaxis": {
            "backgroundcolor": "white",
            "gridcolor": "#DFE8F3",
            "gridwidth": 2,
            "linecolor": "#EBF0F8",
            "showbackground": true,
            "ticks": "",
            "zerolinecolor": "#EBF0F8"
           },
           "zaxis": {
            "backgroundcolor": "white",
            "gridcolor": "#DFE8F3",
            "gridwidth": 2,
            "linecolor": "#EBF0F8",
            "showbackground": true,
            "ticks": "",
            "zerolinecolor": "#EBF0F8"
           }
          },
          "shapedefaults": {
           "line": {
            "color": "#2a3f5f"
           }
          },
          "ternary": {
           "aaxis": {
            "gridcolor": "#DFE8F3",
            "linecolor": "#A2B1C6",
            "ticks": ""
           },
           "baxis": {
            "gridcolor": "#DFE8F3",
            "linecolor": "#A2B1C6",
            "ticks": ""
           },
           "bgcolor": "white",
           "caxis": {
            "gridcolor": "#DFE8F3",
            "linecolor": "#A2B1C6",
            "ticks": ""
           }
          },
          "title": {
           "x": 0.05
          },
          "xaxis": {
           "automargin": true,
           "gridcolor": "#EBF0F8",
           "linecolor": "#EBF0F8",
           "ticks": "",
           "title": {
            "standoff": 15
           },
           "zerolinecolor": "#EBF0F8",
           "zerolinewidth": 2
          },
          "yaxis": {
           "automargin": true,
           "gridcolor": "#EBF0F8",
           "linecolor": "#EBF0F8",
           "ticks": "",
           "title": {
            "standoff": 15
           },
           "zerolinecolor": "#EBF0F8",
           "zerolinewidth": 2
          }
         }
        },
        "xaxis": {
         "anchor": "y",
         "domain": [
          0,
          0.47
         ],
         "title": {
          "text": ""
         }
        },
        "xaxis2": {
         "anchor": "y2",
         "domain": [
          0.53,
          1
         ],
         "matches": "x",
         "title": {
          "text": ""
         }
        },
        "yaxis": {
         "anchor": "x",
         "domain": [
          0,
          1
         ],
         "tickformat": "%",
         "title": {
          "text": "Annual unmet demand (%)"
         }
        },
        "yaxis2": {
         "anchor": "x2",
         "domain": [
          0,
          1
         ],
         "matches": "y",
         "showticklabels": false
        }
       }
      },
      "text/html": [
       "<div>                            <div id=\"e9221085-6074-4b10-afbb-013831b802ca\" class=\"plotly-graph-div\" style=\"height:500px; width:100%;\"></div>            <script type=\"text/javascript\">                require([\"plotly\"], function(Plotly) {                    window.PLOTLYENV=window.PLOTLYENV || {};                                    if (document.getElementById(\"e9221085-6074-4b10-afbb-013831b802ca\")) {                    Plotly.newPlot(                        \"e9221085-6074-4b10-afbb-013831b802ca\",                        [{\"hovertemplate\": \"Scenario=Reference<br>Climate=Historical Trend<br>Year=%{x}<br>value=%{y}<extra></extra>\", \"legendgroup\": \"Reference\", \"line\": {\"color\": \"#4C78A8\", \"dash\": \"solid\"}, \"mode\": \"lines\", \"name\": \"Reference\", \"orientation\": \"v\", \"showlegend\": true, \"type\": \"scatter\", \"x\": [2020, 2021, 2022, 2023, 2024, 2025, 2026, 2027, 2028, 2029, 2030, 2031, 2032, 2033, 2034, 2035, 2036, 2037, 2038, 2039, 2040, 2041, 2042, 2043, 2044, 2045, 2046, 2047, 2048, 2049, 2050], \"xaxis\": \"x\", \"y\": [0.25983768176913413, 0.2753342436475383, 0.2518482807090413, 0.24381807055786914, 0.25289121925003255, 0.2480839445772641, 0.25175193679373553, 0.24330677875950055, 0.2517634719890313, 0.2518347243078507, 0.24814140474890561, 0.2518697874810496, 0.2503033101538997, 0.24811568330033623, 0.2588933166433677, 0.26100423956031316, 0.2556536507752959, 0.2457952171340612, 0.24586093476545642, 0.25586213113082246, 0.2605672183083169, 0.26313697117021606, 0.26419092004263606, 0.26027070987033346, 0.2644548134910094, 0.25692513204782047, 0.268615538300727, 0.25498079961690034, 0.26086030449561637, 0.2657601402844859, 0.25526704864548927], \"yaxis\": \"y\"}, {\"hovertemplate\": \"Scenario=Reference<br>Climate=Climate Change<br>Year=%{x}<br>value=%{y}<extra></extra>\", \"legendgroup\": \"Reference\", \"line\": {\"color\": \"#4C78A8\", \"dash\": \"solid\"}, \"mode\": \"lines\", \"name\": \"Reference\", \"orientation\": \"v\", \"showlegend\": false, \"type\": \"scatter\", \"x\": [2020, 2021, 2022, 2023, 2024, 2025, 2026, 2027, 2028, 2029, 2030, 2031, 2032, 2033, 2034, 2035, 2036, 2037, 2038, 2039, 2040, 2041, 2042, 2043, 2044, 2045, 2046, 2047, 2048, 2049, 2050], \"xaxis\": \"x2\", \"y\": [0.2601491279589145, 0.27361225594168626, 0.2531546635677169, 0.24377512685145927, 0.2565545916020294, 0.2500365641332337, 0.25463962409797386, 0.24881122611052445, 0.2550444922188915, 0.2561009645417127, 0.25300240512360705, 0.2568218946495405, 0.25573834586574967, 0.25376148832871537, 0.2622772858653157, 0.26642283639014813, 0.2604816950435894, 0.2518898990363792, 0.25227491225773147, 0.26360500791565145, 0.266956642703719, 0.2676228262439807, 0.270543574172948, 0.26808256225206134, 0.2700010460579326, 0.26383693304183103, 0.2760241216039081, 0.2617366729559214, 0.2673609490670753, 0.27116432379960975, 0.26292929173352747], \"yaxis\": \"y2\"}, {\"hovertemplate\": \"Scenario=Increased Water Productivity<br>Climate=Historical Trend<br>Year=%{x}<br>value=%{y}<extra></extra>\", \"legendgroup\": \"Increased Water Productivity\", \"line\": {\"color\": \"#F58518\", \"dash\": \"solid\"}, \"mode\": \"lines\", \"name\": \"Increased Water Productivity\", \"orientation\": \"v\", \"showlegend\": true, \"type\": \"scatter\", \"x\": [2020, 2021, 2022, 2023, 2024, 2025, 2026, 2027, 2028, 2029, 2030, 2031, 2032, 2033, 2034, 2035, 2036, 2037, 2038, 2039, 2040, 2041, 2042, 2043, 2044, 2045, 2046, 2047, 2048, 2049, 2050], \"xaxis\": \"x\", \"y\": [0.25836947024395296, 0.2718885245708806, 0.24665107499858963, 0.2376268687231387, 0.24515731581573355, 0.23863232960128908, 0.2420395634315813, 0.23170201745656763, 0.24022585690390622, 0.23884855130396276, 0.23474799278766106, 0.23645393319442837, 0.23405699283959056, 0.23099869150781202, 0.24025390468666002, 0.24170601969437505, 0.23676544112017994, 0.22600434928119492, 0.22503968371209196, 0.23417530842012488, 0.2393054338917588, 0.23795011922457787, 0.24059133874362212, 0.23644507206477594, 0.23889072854332222, 0.2326147378721216, 0.24190821695817588, 0.2292087665952605, 0.2339117781013729, 0.23878288945111792, 0.2293086112154966], \"yaxis\": \"y\"}, {\"hovertemplate\": \"Scenario=Increased Water Productivity<br>Climate=Climate Change<br>Year=%{x}<br>value=%{y}<extra></extra>\", \"legendgroup\": \"Increased Water Productivity\", \"line\": {\"color\": \"#F58518\", \"dash\": \"solid\"}, \"mode\": \"lines\", \"name\": \"Increased Water Productivity\", \"orientation\": \"v\", \"showlegend\": false, \"type\": \"scatter\", \"x\": [2020, 2021, 2022, 2023, 2024, 2025, 2026, 2027, 2028, 2029, 2030, 2031, 2032, 2033, 2034, 2035, 2036, 2037, 2038, 2039, 2040, 2041, 2042, 2043, 2044, 2045, 2046, 2047, 2048, 2049, 2050], \"xaxis\": \"x2\", \"y\": [0.2586744606611702, 0.2703406814288983, 0.2484441564382115, 0.23768054170699665, 0.24866818313642325, 0.24107801267378146, 0.24484156602059295, 0.23760106816986548, 0.24366221096343027, 0.24289979948969345, 0.2385656700815771, 0.24035083790716255, 0.23891167319418283, 0.23764340006844317, 0.24194293024383917, 0.24584351315144354, 0.24056891556131244, 0.23267108304785383, 0.23032416554412294, 0.24117991394032157, 0.24243442642468058, 0.24193344746620477, 0.24687039092423108, 0.24227059544644644, 0.24342771848584477, 0.23851542783813684, 0.2475327352200374, 0.2364727970043985, 0.2375424542926791, 0.2446073067422219, 0.23566558202174345], \"yaxis\": \"y2\"}, {\"hovertemplate\": \"Scenario=New Resources<br>Climate=Historical Trend<br>Year=%{x}<br>value=%{y}<extra></extra>\", \"legendgroup\": \"New Resources\", \"line\": {\"color\": \"#E45756\", \"dash\": \"solid\"}, \"mode\": \"lines\", \"name\": \"New Resources\", \"orientation\": \"v\", \"showlegend\": true, \"type\": \"scatter\", \"x\": [2020, 2021, 2022, 2023, 2024, 2025, 2026, 2027, 2028, 2029, 2030, 2031, 2032, 2033, 2034, 2035, 2036, 2037, 2038, 2039, 2040, 2041, 2042, 2043, 2044, 2045, 2046, 2047, 2048, 2049, 2050], \"xaxis\": \"x\", \"y\": [0.2569717578996528, 0.2727705536539378, 0.24911654921935655, 0.24118685394840977, 0.25035000735447055, 0.24107592233806535, 0.24352218658904023, 0.2342967089394409, 0.24071109881268757, 0.2377296150463601, 0.23320805308144363, 0.23589918035672486, 0.23252715641889934, 0.2291307760300498, 0.23922699361497288, 0.23980895346921005, 0.23311171663855282, 0.22118888122758384, 0.21983677187751796, 0.23028721963524215, 0.23424490171713097, 0.2366348233848321, 0.2368904344404692, 0.233163115735708, 0.23647350315202856, 0.22729537317556317, 0.23944197947853252, 0.22408953889430502, 0.23002282072524685, 0.2346458954852485, 0.22196184555630075], \"yaxis\": \"y\"}, {\"hovertemplate\": \"Scenario=New Resources<br>Climate=Climate Change<br>Year=%{x}<br>value=%{y}<extra></extra>\", \"legendgroup\": \"New Resources\", \"line\": {\"color\": \"#E45756\", \"dash\": \"solid\"}, \"mode\": \"lines\", \"name\": \"New Resources\", \"orientation\": \"v\", \"showlegend\": false, \"type\": \"scatter\", \"x\": [2020, 2021, 2022, 2023, 2024, 2025, 2026, 2027, 2028, 2029, 2030, 2031, 2032, 2033, 2034, 2035, 2036, 2037, 2038, 2039, 2040, 2041, 2042, 2043, 2044, 2045, 2046, 2047, 2048, 2049, 2050], \"xaxis\": \"x2\", \"y\": [0.25727744448472895, 0.27106832535045067, 0.2504455207071307, 0.24119167776766665, 0.25400430759511605, 0.24323991426463998, 0.2467912875325842, 0.23988727466238755, 0.2445268876940733, 0.2410554617397574, 0.23806401902822416, 0.24117874895052965, 0.23829072398137258, 0.23583029894683713, 0.2431134939418007, 0.24622500270401956, 0.23843063024592712, 0.22797368386007466, 0.22706036443805697, 0.23902548435528884, 0.24134730677018096, 0.24191884639507208, 0.24427048683530886, 0.241494937930994, 0.24288912268906718, 0.23538660617942572, 0.247895803512354, 0.23223155906617787, 0.2375986296783356, 0.24114463849691792, 0.23153512300392173], \"yaxis\": \"y2\"}, {\"hovertemplate\": \"Scenario=Reduce NRW to 20 percent<br>Climate=Historical Trend<br>Year=%{x}<br>value=%{y}<extra></extra>\", \"legendgroup\": \"Reduce NRW to 20 percent\", \"line\": {\"color\": \"#72B7B2\", \"dash\": \"solid\"}, \"mode\": \"lines\", \"name\": \"Reduce NRW to 20 percent\", \"orientation\": \"v\", \"showlegend\": true, \"type\": \"scatter\", \"x\": [2020, 2021, 2022, 2023, 2024, 2025, 2026, 2027, 2028, 2029, 2030, 2031, 2032, 2033, 2034, 2035, 2036, 2037, 2038, 2039, 2040, 2041, 2042, 2043, 2044, 2045, 2046, 2047, 2048, 2049, 2050], \"xaxis\": \"x\", \"y\": [0.2559335432201976, 0.2716501601283208, 0.24771088682707496, 0.23682774762533723, 0.24833825805481333, 0.2418151093714491, 0.24568398940658476, 0.2348633460285776, 0.24311298642579887, 0.2426041947204778, 0.23990381071991299, 0.243160310560492, 0.23933641806320918, 0.23822098749043524, 0.24954199860132392, 0.2510298167458178, 0.24485741913308431, 0.2330342420994026, 0.23398149839962518, 0.2453094103802993, 0.24950633511570736, 0.2520954562266464, 0.2517037897957336, 0.24649141761154722, 0.2529536793312139, 0.24536473587398894, 0.25291373650503773, 0.24166561604546222, 0.24815874386471387, 0.2498801429568468, 0.24169953938845234], \"yaxis\": \"y\"}, {\"hovertemplate\": \"Scenario=Reduce NRW to 20 percent<br>Climate=Climate Change<br>Year=%{x}<br>value=%{y}<extra></extra>\", \"legendgroup\": \"Reduce NRW to 20 percent\", \"line\": {\"color\": \"#72B7B2\", \"dash\": \"solid\"}, \"mode\": \"lines\", \"name\": \"Reduce NRW to 20 percent\", \"orientation\": \"v\", \"showlegend\": false, \"type\": \"scatter\", \"x\": [2020, 2021, 2022, 2023, 2024, 2025, 2026, 2027, 2028, 2029, 2030, 2031, 2032, 2033, 2034, 2035, 2036, 2037, 2038, 2039, 2040, 2041, 2042, 2043, 2044, 2045, 2046, 2047, 2048, 2049, 2050], \"xaxis\": \"x2\", \"y\": [0.2561349119919981, 0.27003661452879363, 0.2484137083794357, 0.23798201501667401, 0.2509667791208399, 0.2454483270728045, 0.2488878569709535, 0.24028595599386335, 0.2477743571154951, 0.24619163209621012, 0.24456492492080398, 0.24860532407653063, 0.2449643564510749, 0.2440031006288502, 0.2538040077166877, 0.2571547912372005, 0.25104969391443954, 0.2398708705852004, 0.24098030688104544, 0.254042684799324, 0.25560268813108, 0.25718532182488646, 0.2603756566382786, 0.2559118525812782, 0.25966952137638744, 0.2521855367391692, 0.26166122685984694, 0.24958013057227743, 0.25593539333718107, 0.2563812968586965, 0.2504007875438184], \"yaxis\": \"y2\"}],                        {\"annotations\": [{\"font\": {}, \"showarrow\": false, \"text\": \"Historical Trend\", \"x\": 0.235, \"xanchor\": \"center\", \"xref\": \"paper\", \"y\": 1.0, \"yanchor\": \"bottom\", \"yref\": \"paper\"}, {\"font\": {}, \"showarrow\": false, \"text\": \"Climate Change\", \"x\": 0.765, \"xanchor\": \"center\", \"xref\": \"paper\", \"y\": 1.0, \"yanchor\": \"bottom\", \"yref\": \"paper\"}], \"autosize\": true, \"font\": {\"color\": \"#7f7f7f\", \"size\": 18}, \"height\": 500, \"hoverlabel\": {\"align\": \"left\"}, \"hovermode\": \"closest\", \"legend\": {\"font\": {\"size\": 16}, \"orientation\": \"h\", \"title\": {\"text\": \"\"}, \"tracegroupgap\": 0}, \"margin\": {\"b\": 0, \"l\": 0, \"r\": 0, \"t\": 50}, \"paper_bgcolor\": \"#fff\", \"plot_bgcolor\": \"#fff\", \"showlegend\": true, \"template\": {\"data\": {\"bar\": [{\"error_x\": {\"color\": \"#2a3f5f\"}, \"error_y\": {\"color\": \"#2a3f5f\"}, \"marker\": {\"line\": {\"color\": \"white\", \"width\": 0.5}}, \"type\": \"bar\"}], \"barpolar\": [{\"marker\": {\"line\": {\"color\": \"white\", \"width\": 0.5}}, \"type\": \"barpolar\"}], \"carpet\": [{\"aaxis\": {\"endlinecolor\": \"#2a3f5f\", \"gridcolor\": \"#C8D4E3\", \"linecolor\": \"#C8D4E3\", \"minorgridcolor\": \"#C8D4E3\", \"startlinecolor\": \"#2a3f5f\"}, \"baxis\": {\"endlinecolor\": \"#2a3f5f\", \"gridcolor\": \"#C8D4E3\", \"linecolor\": \"#C8D4E3\", \"minorgridcolor\": \"#C8D4E3\", \"startlinecolor\": \"#2a3f5f\"}, \"type\": \"carpet\"}], \"choropleth\": [{\"colorbar\": {\"outlinewidth\": 0, \"ticks\": \"\"}, \"type\": \"choropleth\"}], \"contour\": [{\"colorbar\": {\"outlinewidth\": 0, \"ticks\": \"\"}, \"colorscale\": [[0.0, \"#0d0887\"], [0.1111111111111111, \"#46039f\"], [0.2222222222222222, \"#7201a8\"], [0.3333333333333333, \"#9c179e\"], [0.4444444444444444, \"#bd3786\"], [0.5555555555555556, \"#d8576b\"], [0.6666666666666666, \"#ed7953\"], [0.7777777777777778, \"#fb9f3a\"], [0.8888888888888888, \"#fdca26\"], [1.0, \"#f0f921\"]], \"type\": \"contour\"}], \"contourcarpet\": [{\"colorbar\": {\"outlinewidth\": 0, \"ticks\": \"\"}, \"type\": \"contourcarpet\"}], \"heatmap\": [{\"colorbar\": {\"outlinewidth\": 0, \"ticks\": \"\"}, \"colorscale\": [[0.0, \"#0d0887\"], [0.1111111111111111, \"#46039f\"], [0.2222222222222222, \"#7201a8\"], [0.3333333333333333, \"#9c179e\"], [0.4444444444444444, \"#bd3786\"], [0.5555555555555556, \"#d8576b\"], [0.6666666666666666, \"#ed7953\"], [0.7777777777777778, \"#fb9f3a\"], [0.8888888888888888, \"#fdca26\"], [1.0, \"#f0f921\"]], \"type\": \"heatmap\"}], \"heatmapgl\": [{\"colorbar\": {\"outlinewidth\": 0, \"ticks\": \"\"}, \"colorscale\": [[0.0, \"#0d0887\"], [0.1111111111111111, \"#46039f\"], [0.2222222222222222, \"#7201a8\"], [0.3333333333333333, \"#9c179e\"], [0.4444444444444444, \"#bd3786\"], [0.5555555555555556, \"#d8576b\"], [0.6666666666666666, \"#ed7953\"], [0.7777777777777778, \"#fb9f3a\"], [0.8888888888888888, \"#fdca26\"], [1.0, \"#f0f921\"]], \"type\": \"heatmapgl\"}], \"histogram\": [{\"marker\": {\"colorbar\": {\"outlinewidth\": 0, \"ticks\": \"\"}}, \"type\": \"histogram\"}], \"histogram2d\": [{\"colorbar\": {\"outlinewidth\": 0, \"ticks\": \"\"}, \"colorscale\": [[0.0, \"#0d0887\"], [0.1111111111111111, \"#46039f\"], [0.2222222222222222, \"#7201a8\"], [0.3333333333333333, \"#9c179e\"], [0.4444444444444444, \"#bd3786\"], [0.5555555555555556, \"#d8576b\"], [0.6666666666666666, \"#ed7953\"], [0.7777777777777778, \"#fb9f3a\"], [0.8888888888888888, \"#fdca26\"], [1.0, \"#f0f921\"]], \"type\": \"histogram2d\"}], \"histogram2dcontour\": [{\"colorbar\": {\"outlinewidth\": 0, \"ticks\": \"\"}, \"colorscale\": [[0.0, \"#0d0887\"], [0.1111111111111111, \"#46039f\"], [0.2222222222222222, \"#7201a8\"], [0.3333333333333333, \"#9c179e\"], [0.4444444444444444, \"#bd3786\"], [0.5555555555555556, \"#d8576b\"], [0.6666666666666666, \"#ed7953\"], [0.7777777777777778, \"#fb9f3a\"], [0.8888888888888888, \"#fdca26\"], [1.0, \"#f0f921\"]], \"type\": \"histogram2dcontour\"}], \"mesh3d\": [{\"colorbar\": {\"outlinewidth\": 0, \"ticks\": \"\"}, \"type\": \"mesh3d\"}], \"parcoords\": [{\"line\": {\"colorbar\": {\"outlinewidth\": 0, \"ticks\": \"\"}}, \"type\": \"parcoords\"}], \"pie\": [{\"automargin\": true, \"type\": \"pie\"}], \"scatter\": [{\"marker\": {\"colorbar\": {\"outlinewidth\": 0, \"ticks\": \"\"}}, \"type\": \"scatter\"}], \"scatter3d\": [{\"line\": {\"colorbar\": {\"outlinewidth\": 0, \"ticks\": \"\"}}, \"marker\": {\"colorbar\": {\"outlinewidth\": 0, \"ticks\": \"\"}}, \"type\": \"scatter3d\"}], \"scattercarpet\": [{\"marker\": {\"colorbar\": {\"outlinewidth\": 0, \"ticks\": \"\"}}, \"type\": \"scattercarpet\"}], \"scattergeo\": [{\"marker\": {\"colorbar\": {\"outlinewidth\": 0, \"ticks\": \"\"}}, \"type\": \"scattergeo\"}], \"scattergl\": [{\"marker\": {\"colorbar\": {\"outlinewidth\": 0, \"ticks\": \"\"}}, \"type\": \"scattergl\"}], \"scattermapbox\": [{\"marker\": {\"colorbar\": {\"outlinewidth\": 0, \"ticks\": \"\"}}, \"type\": \"scattermapbox\"}], \"scatterpolar\": [{\"marker\": {\"colorbar\": {\"outlinewidth\": 0, \"ticks\": \"\"}}, \"type\": \"scatterpolar\"}], \"scatterpolargl\": [{\"marker\": {\"colorbar\": {\"outlinewidth\": 0, \"ticks\": \"\"}}, \"type\": \"scatterpolargl\"}], \"scatterternary\": [{\"marker\": {\"colorbar\": {\"outlinewidth\": 0, \"ticks\": \"\"}}, \"type\": \"scatterternary\"}], \"surface\": [{\"colorbar\": {\"outlinewidth\": 0, \"ticks\": \"\"}, \"colorscale\": [[0.0, \"#0d0887\"], [0.1111111111111111, \"#46039f\"], [0.2222222222222222, \"#7201a8\"], [0.3333333333333333, \"#9c179e\"], [0.4444444444444444, \"#bd3786\"], [0.5555555555555556, \"#d8576b\"], [0.6666666666666666, \"#ed7953\"], [0.7777777777777778, \"#fb9f3a\"], [0.8888888888888888, \"#fdca26\"], [1.0, \"#f0f921\"]], \"type\": \"surface\"}], \"table\": [{\"cells\": {\"fill\": {\"color\": \"#EBF0F8\"}, \"line\": {\"color\": \"white\"}}, \"header\": {\"fill\": {\"color\": \"#C8D4E3\"}, \"line\": {\"color\": \"white\"}}, \"type\": \"table\"}]}, \"layout\": {\"annotationdefaults\": {\"arrowcolor\": \"#2a3f5f\", \"arrowhead\": 0, \"arrowwidth\": 1}, \"coloraxis\": {\"colorbar\": {\"outlinewidth\": 0, \"ticks\": \"\"}}, \"colorscale\": {\"diverging\": [[0, \"#8e0152\"], [0.1, \"#c51b7d\"], [0.2, \"#de77ae\"], [0.3, \"#f1b6da\"], [0.4, \"#fde0ef\"], [0.5, \"#f7f7f7\"], [0.6, \"#e6f5d0\"], [0.7, \"#b8e186\"], [0.8, \"#7fbc41\"], [0.9, \"#4d9221\"], [1, \"#276419\"]], \"sequential\": [[0.0, \"#0d0887\"], [0.1111111111111111, \"#46039f\"], [0.2222222222222222, \"#7201a8\"], [0.3333333333333333, \"#9c179e\"], [0.4444444444444444, \"#bd3786\"], [0.5555555555555556, \"#d8576b\"], [0.6666666666666666, \"#ed7953\"], [0.7777777777777778, \"#fb9f3a\"], [0.8888888888888888, \"#fdca26\"], [1.0, \"#f0f921\"]], \"sequentialminus\": [[0.0, \"#0d0887\"], [0.1111111111111111, \"#46039f\"], [0.2222222222222222, \"#7201a8\"], [0.3333333333333333, \"#9c179e\"], [0.4444444444444444, \"#bd3786\"], [0.5555555555555556, \"#d8576b\"], [0.6666666666666666, \"#ed7953\"], [0.7777777777777778, \"#fb9f3a\"], [0.8888888888888888, \"#fdca26\"], [1.0, \"#f0f921\"]]}, \"colorway\": [\"#636efa\", \"#EF553B\", \"#00cc96\", \"#ab63fa\", \"#FFA15A\", \"#19d3f3\", \"#FF6692\", \"#B6E880\", \"#FF97FF\", \"#FECB52\"], \"font\": {\"color\": \"#2a3f5f\"}, \"geo\": {\"bgcolor\": \"white\", \"lakecolor\": \"white\", \"landcolor\": \"white\", \"showlakes\": true, \"showland\": true, \"subunitcolor\": \"#C8D4E3\"}, \"hoverlabel\": {\"align\": \"left\"}, \"hovermode\": \"closest\", \"mapbox\": {\"style\": \"light\"}, \"paper_bgcolor\": \"white\", \"plot_bgcolor\": \"white\", \"polar\": {\"angularaxis\": {\"gridcolor\": \"#EBF0F8\", \"linecolor\": \"#EBF0F8\", \"ticks\": \"\"}, \"bgcolor\": \"white\", \"radialaxis\": {\"gridcolor\": \"#EBF0F8\", \"linecolor\": \"#EBF0F8\", \"ticks\": \"\"}}, \"scene\": {\"xaxis\": {\"backgroundcolor\": \"white\", \"gridcolor\": \"#DFE8F3\", \"gridwidth\": 2, \"linecolor\": \"#EBF0F8\", \"showbackground\": true, \"ticks\": \"\", \"zerolinecolor\": \"#EBF0F8\"}, \"yaxis\": {\"backgroundcolor\": \"white\", \"gridcolor\": \"#DFE8F3\", \"gridwidth\": 2, \"linecolor\": \"#EBF0F8\", \"showbackground\": true, \"ticks\": \"\", \"zerolinecolor\": \"#EBF0F8\"}, \"zaxis\": {\"backgroundcolor\": \"white\", \"gridcolor\": \"#DFE8F3\", \"gridwidth\": 2, \"linecolor\": \"#EBF0F8\", \"showbackground\": true, \"ticks\": \"\", \"zerolinecolor\": \"#EBF0F8\"}}, \"shapedefaults\": {\"line\": {\"color\": \"#2a3f5f\"}}, \"ternary\": {\"aaxis\": {\"gridcolor\": \"#DFE8F3\", \"linecolor\": \"#A2B1C6\", \"ticks\": \"\"}, \"baxis\": {\"gridcolor\": \"#DFE8F3\", \"linecolor\": \"#A2B1C6\", \"ticks\": \"\"}, \"bgcolor\": \"white\", \"caxis\": {\"gridcolor\": \"#DFE8F3\", \"linecolor\": \"#A2B1C6\", \"ticks\": \"\"}}, \"title\": {\"x\": 0.05}, \"xaxis\": {\"automargin\": true, \"gridcolor\": \"#EBF0F8\", \"linecolor\": \"#EBF0F8\", \"ticks\": \"\", \"title\": {\"standoff\": 15}, \"zerolinecolor\": \"#EBF0F8\", \"zerolinewidth\": 2}, \"yaxis\": {\"automargin\": true, \"gridcolor\": \"#EBF0F8\", \"linecolor\": \"#EBF0F8\", \"ticks\": \"\", \"title\": {\"standoff\": 15}, \"zerolinecolor\": \"#EBF0F8\", \"zerolinewidth\": 2}}}, \"xaxis\": {\"anchor\": \"y\", \"domain\": [0.0, 0.47], \"title\": {\"text\": \"\"}}, \"xaxis2\": {\"anchor\": \"y2\", \"domain\": [0.53, 1.0], \"matches\": \"x\", \"title\": {\"text\": \"\"}}, \"yaxis\": {\"anchor\": \"x\", \"domain\": [0.0, 1.0], \"tickformat\": \"%\", \"title\": {\"text\": \"Annual unmet demand (%)\"}}, \"yaxis2\": {\"anchor\": \"x2\", \"domain\": [0.0, 1.0], \"matches\": \"y\", \"showticklabels\": false}},                        {\"responsive\": true}                    ).then(function(){\n",
       "                            \n",
       "var gd = document.getElementById('e9221085-6074-4b10-afbb-013831b802ca');\n",
       "var x = new MutationObserver(function (mutations, observer) {{\n",
       "        var display = window.getComputedStyle(gd).display;\n",
       "        if (!display || display === 'none') {{\n",
       "            console.log([gd, 'removed!']);\n",
       "            Plotly.purge(gd);\n",
       "            observer.disconnect();\n",
       "        }}\n",
       "}});\n",
       "\n",
       "// Listen for the removal of the full notebook cells\n",
       "var notebookContainer = gd.closest('#notebook-container');\n",
       "if (notebookContainer) {{\n",
       "    x.observe(notebookContainer, {childList: true});\n",
       "}}\n",
       "\n",
       "// Listen for the clearing of the current output cell\n",
       "var outputEl = gd.closest('.output');\n",
       "if (outputEl) {{\n",
       "    x.observe(outputEl, {childList: true});\n",
       "}}\n",
       "\n",
       "                        })                };                });            </script>        </div>"
      ]
     },
     "metadata": {},
     "output_type": "display_data"
    }
   ],
   "source": [
    "dff_delivered = df_delivered.groupby(['Scenario', 'Climate', 'Year', 'type'])['value'].sum() / 1000000\n",
    "dff_delivered = dff_delivered.reset_index()\n",
    "dff_required = df_required.groupby(['Scenario', 'Climate', 'Year', 'type'])['value'].sum() / 1000000\n",
    "dff_required = dff_required.reset_index()\n",
    "\n",
    "dff_unmet = dff_required.copy()\n",
    "dff_unmet['value'] = (dff_unmet.value - dff_unmet.set_index(['Scenario', 'Climate', 'Year', 'type']).index.map(\n",
    "    dff_delivered.set_index(['Scenario', 'Climate', 'Year', 'type']).value)) / dff_unmet.value\n",
    "\n",
    "sector = 'Agriculture'\n",
    "dff = dff_unmet.reset_index()\n",
    "dff = dff.loc[dff['type'] == sector]\n",
    "\n",
    "fig = px.line(dff, x='Year', y='value', color='Scenario', facet_col='Climate',\n",
    "              color_discrete_sequence=px.colors.qualitative.T10,\n",
    "              facet_col_spacing=0.06, labels=names, category_orders=category_orders)\n",
    "fig.update_layout(layout, yaxis=dict(tickformat='%', title_text='Annual unmet demand (%)'))\n",
    "update_labels(fig)\n",
    "fig.show()\n",
    "fig.write_image(f\"High level results/unmetDemand{sector}.png\", scale=4, width=900, height=500)\n",
    "fig.write_html(f\"High level results/unmetDemand{sector}.html\", include_plotlyjs='cdn')"
   ]
  },
  {
   "cell_type": "code",
   "execution_count": 35,
   "metadata": {},
   "outputs": [
    {
     "data": {
      "application/vnd.plotly.v1+json": {
       "config": {
        "plotlyServerURL": "https://plot.ly"
       },
       "data": [
        {
         "hovertemplate": "Scenario=Reference<br>Climate=Historical Trend<br>Year=%{x}<br>value=%{y}<extra></extra>",
         "legendgroup": "Reference",
         "line": {
          "color": "#4C78A8",
          "dash": "solid"
         },
         "mode": "lines",
         "name": "Reference",
         "orientation": "v",
         "showlegend": true,
         "type": "scatter",
         "x": [
          2020,
          2021,
          2022,
          2023,
          2024,
          2025,
          2026,
          2027,
          2028,
          2029,
          2030,
          2031,
          2032,
          2033,
          2034,
          2035,
          2036,
          2037,
          2038,
          2039,
          2040,
          2041,
          2042,
          2043,
          2044,
          2045,
          2046,
          2047,
          2048,
          2049,
          2050
         ],
         "xaxis": "x",
         "y": [
          1994.3704518829995,
          1980.6933207599989,
          2005.0859088429995,
          2020.7464194989996,
          2003.2218787940003,
          2009.8960267709997,
          2010.2938794669994,
          2008.0580478680004,
          1999.836882312,
          2009.7869559269996,
          2006.2481234999998,
          2001.3698287159996,
          2028.551306606,
          2016.020485396,
          2003.5511453780002,
          1983.8178470839996,
          1998.7961201969997,
          2035.586082501999,
          2031.2726038119997,
          1999.4685054760002,
          2003.0029067050002,
          2006.9086422819996,
          1999.1098021669995,
          1984.4771438600003,
          1994.3072317039996,
          1995.6156411740008,
          2001.7783195429997,
          2014.67709664,
          2009.8818522749996,
          2027.6808890049995,
          2021.2163120489995
         ],
         "yaxis": "y"
        },
        {
         "hovertemplate": "Scenario=Reference<br>Climate=Climate Change<br>Year=%{x}<br>value=%{y}<extra></extra>",
         "legendgroup": "Reference",
         "line": {
          "color": "#4C78A8",
          "dash": "solid"
         },
         "mode": "lines",
         "name": "Reference",
         "orientation": "v",
         "showlegend": false,
         "type": "scatter",
         "x": [
          2020,
          2021,
          2022,
          2023,
          2024,
          2025,
          2026,
          2027,
          2028,
          2029,
          2030,
          2031,
          2032,
          2033,
          2034,
          2035,
          2036,
          2037,
          2038,
          2039,
          2040,
          2041,
          2042,
          2043,
          2044,
          2045,
          2046,
          2047,
          2048,
          2049,
          2050
         ],
         "xaxis": "x2",
         "y": [
          1992.6149356979995,
          1976.7663447229995,
          2000.6284910919987,
          2018.4691414289991,
          1996.3607027749997,
          2002.8897227408997,
          2001.497158827999,
          2000.9168692439994,
          1990.2685295351005,
          1997.9108066619997,
          1995.1382445381994,
          1993.3781081392008,
          2018.6011205149994,
          2000.2368376366,
          1988.6435998465995,
          1953.6219194436007,
          1981.8817617587,
          2021.5937712392993,
          2013.3015078020005,
          1975.2802457137,
          1971.8731561306995,
          1974.3103507769995,
          1981.349401164699,
          1961.7198603685,
          1970.358769094,
          1971.4864567697998,
          1956.7130043063999,
          1982.9784512989997,
          1985.0085423081996,
          1991.7164563612996,
          1991.7677081234997
         ],
         "yaxis": "y2"
        },
        {
         "hovertemplate": "Scenario=Increased Water Productivity<br>Climate=Historical Trend<br>Year=%{x}<br>value=%{y}<extra></extra>",
         "legendgroup": "Increased Water Productivity",
         "line": {
          "color": "#F58518",
          "dash": "solid"
         },
         "mode": "lines",
         "name": "Increased Water Productivity",
         "orientation": "v",
         "showlegend": true,
         "type": "scatter",
         "x": [
          2020,
          2021,
          2022,
          2023,
          2024,
          2025,
          2026,
          2027,
          2028,
          2029,
          2030,
          2031,
          2032,
          2033,
          2034,
          2035,
          2036,
          2037,
          2038,
          2039,
          2040,
          2041,
          2042,
          2043,
          2044,
          2045,
          2046,
          2047,
          2048,
          2049,
          2050
         ],
         "xaxis": "x",
         "y": [
          1994.8444892219993,
          1983.8331149659998,
          2009.8236651039997,
          2024.254250223,
          2007.8658622669996,
          2012.8039276590002,
          2013.8455935779996,
          2016.4266902869997,
          2005.8454585869997,
          2017.515226044,
          2010.8529303929997,
          2007.8593771479998,
          2039.603802638,
          2027.9230309899995,
          2014.2463449500008,
          1991.2771084669996,
          2009.2854486569997,
          2046.1882186580006,
          2046.226903474,
          2011.3495732169997,
          2015.8069846409999,
          2022.7158388030005,
          2013.094293664999,
          1996.012024187,
          2013.3290601569993,
          2012.0391282229998,
          2019.7689773309999,
          2028.891299518,
          2028.3827711999993,
          2040.3944882239998,
          2043.2428317170002
         ],
         "yaxis": "y"
        },
        {
         "hovertemplate": "Scenario=Increased Water Productivity<br>Climate=Climate Change<br>Year=%{x}<br>value=%{y}<extra></extra>",
         "legendgroup": "Increased Water Productivity",
         "line": {
          "color": "#F58518",
          "dash": "solid"
         },
         "mode": "lines",
         "name": "Increased Water Productivity",
         "orientation": "v",
         "showlegend": false,
         "type": "scatter",
         "x": [
          2020,
          2021,
          2022,
          2023,
          2024,
          2025,
          2026,
          2027,
          2028,
          2029,
          2030,
          2031,
          2032,
          2033,
          2034,
          2035,
          2036,
          2037,
          2038,
          2039,
          2040,
          2041,
          2042,
          2043,
          2044,
          2045,
          2046,
          2047,
          2048,
          2049,
          2050
         ],
         "xaxis": "x2",
         "y": [
          1993.1014690229993,
          1979.1424535290002,
          2003.9750685249996,
          2022.8287004080003,
          2001.6903663859998,
          2011.1080242749997,
          2006.9916975549995,
          2007.3526931130002,
          1993.778892807,
          2009.274858946999,
          1998.6634563179998,
          2000.413215033,
          2025.4997739780001,
          2011.020298360999,
          1996.2627760779994,
          1968.51351259,
          1995.45378283,
          2029.3194246369987,
          2033.1242297619995,
          1988.8869613439992,
          1989.835959953999,
          1992.851327739,
          1991.9519177049992,
          1973.0905874439995,
          1983.3194756819996,
          1986.4989295539995,
          1982.5249426699993,
          2001.0080435149991,
          2003.4968463369999,
          2007.188454123,
          2007.8183246659994
         ],
         "yaxis": "y2"
        },
        {
         "hovertemplate": "Scenario=New Resources<br>Climate=Historical Trend<br>Year=%{x}<br>value=%{y}<extra></extra>",
         "legendgroup": "New Resources",
         "line": {
          "color": "#E45756",
          "dash": "solid"
         },
         "mode": "lines",
         "name": "New Resources",
         "orientation": "v",
         "showlegend": true,
         "type": "scatter",
         "x": [
          2020,
          2021,
          2022,
          2023,
          2024,
          2025,
          2026,
          2027,
          2028,
          2029,
          2030,
          2031,
          2032,
          2033,
          2034,
          2035,
          2036,
          2037,
          2038,
          2039,
          2040,
          2041,
          2042,
          2043,
          2044,
          2045,
          2046,
          2047,
          2048,
          2049,
          2050
         ],
         "xaxis": "x",
         "y": [
          1994.5709243319993,
          1980.825480563999,
          2005.196500184,
          2020.9693419719997,
          2003.3794726340006,
          2010.0229365559992,
          2010.4789132959993,
          2008.4651291670002,
          2000.4449922869994,
          2010.814104835,
          2007.4497688179997,
          2002.653808778,
          2029.9085743499995,
          2017.390822679,
          2004.9143830629998,
          1986.456156831,
          2000.0246355529994,
          2037.6200725739989,
          2033.3736389389996,
          2001.046805911,
          2005.8431676339997,
          2009.0211821930002,
          2002.5383757279997,
          1986.2403361830002,
          1995.316017636,
          1998.7295009339994,
          2004.276426391,
          2017.4115683709995,
          2012.4304421079994,
          2030.7841856669995,
          2027.6565927639992
         ],
         "yaxis": "y"
        },
        {
         "hovertemplate": "Scenario=New Resources<br>Climate=Climate Change<br>Year=%{x}<br>value=%{y}<extra></extra>",
         "legendgroup": "New Resources",
         "line": {
          "color": "#E45756",
          "dash": "solid"
         },
         "mode": "lines",
         "name": "New Resources",
         "orientation": "v",
         "showlegend": false,
         "type": "scatter",
         "x": [
          2020,
          2021,
          2022,
          2023,
          2024,
          2025,
          2026,
          2027,
          2028,
          2029,
          2030,
          2031,
          2032,
          2033,
          2034,
          2035,
          2036,
          2037,
          2038,
          2039,
          2040,
          2041,
          2042,
          2043,
          2044,
          2045,
          2046,
          2047,
          2048,
          2049,
          2050
         ],
         "xaxis": "x2",
         "y": [
          1992.8071603629994,
          1976.9825174599996,
          2000.8127622079996,
          2018.61139226,
          1996.6616198129993,
          2003.069490518899,
          2001.3916349939996,
          2001.3421872929996,
          1990.9995295861006,
          1998.730245089,
          1996.006139682,
          1994.1402489183001,
          2019.7819099659996,
          2001.9401657322996,
          1990.3530707152986,
          1955.4694225903004,
          1982.205185371,
          2024.4258861710998,
          2015.159088691,
          1977.8161111992993,
          1975.4084892052992,
          1978.0961715919998,
          1983.4511377720994,
          1964.2237149463,
          1973.9672051859995,
          1974.4638423268,
          1960.0542826118997,
          1986.453737949,
          1989.1492080182,
          1993.7868314430996,
          1993.2694068359995
         ],
         "yaxis": "y2"
        },
        {
         "hovertemplate": "Scenario=Reduce NRW to 20 percent<br>Climate=Historical Trend<br>Year=%{x}<br>value=%{y}<extra></extra>",
         "legendgroup": "Reduce NRW to 20 percent",
         "line": {
          "color": "#72B7B2",
          "dash": "solid"
         },
         "mode": "lines",
         "name": "Reduce NRW to 20 percent",
         "orientation": "v",
         "showlegend": true,
         "type": "scatter",
         "x": [
          2020,
          2021,
          2022,
          2023,
          2024,
          2025,
          2026,
          2027,
          2028,
          2029,
          2030,
          2031,
          2032,
          2033,
          2034,
          2035,
          2036,
          2037,
          2038,
          2039,
          2040,
          2041,
          2042,
          2043,
          2044,
          2045,
          2046,
          2047,
          2048,
          2049,
          2050
         ],
         "xaxis": "x",
         "y": [
          1992.9842950689997,
          1976.1244742779998,
          1999.5708309779995,
          2019.4768756869996,
          1997.2802744299997,
          2007.363736264,
          2003.3549109250002,
          2005.279006687,
          1993.970817083,
          2003.9758255709994,
          1997.3675075429996,
          1994.160695403,
          2020.8757407809999,
          2007.4994636259994,
          1994.0348528910001,
          1975.9850906970003,
          1991.8029299399996,
          2027.3937309829994,
          2023.6980916349994,
          1988.609009551,
          1993.3141727209995,
          1996.9083226419996,
          1993.7091381759997,
          1979.0964167579996,
          1982.9199976679997,
          1985.7076777060001,
          1986.3156324079996,
          2005.1879861409998,
          2000.988782321,
          2017.6573201439999,
          2012.7964540209996
         ],
         "yaxis": "y"
        },
        {
         "hovertemplate": "Scenario=Reduce NRW to 20 percent<br>Climate=Climate Change<br>Year=%{x}<br>value=%{y}<extra></extra>",
         "legendgroup": "Reduce NRW to 20 percent",
         "line": {
          "color": "#72B7B2",
          "dash": "solid"
         },
         "mode": "lines",
         "name": "Reduce NRW to 20 percent",
         "orientation": "v",
         "showlegend": false,
         "type": "scatter",
         "x": [
          2020,
          2021,
          2022,
          2023,
          2024,
          2025,
          2026,
          2027,
          2028,
          2029,
          2030,
          2031,
          2032,
          2033,
          2034,
          2035,
          2036,
          2037,
          2038,
          2039,
          2040,
          2041,
          2042,
          2043,
          2044,
          2045,
          2046,
          2047,
          2048,
          2049,
          2050
         ],
         "xaxis": "x2",
         "y": [
          1991.5060271049992,
          1971.4506770920004,
          1995.1561007289993,
          2012.5135590859995,
          1989.2877334019995,
          1998.1378614307998,
          1995.3155984559999,
          1996.4589251039997,
          1985.3227505814996,
          1991.650072097,
          1986.9364889270998,
          1980.3685895348,
          2010.4548574199996,
          1997.1802615712998,
          1976.1842806846994,
          1943.0310668643992,
          1971.3366647392997,
          2011.6891584081,
          2003.1518303070002,
          1963.0122654074999,
          1966.0340809933998,
          1965.2490706529995,
          1971.9281885592993,
          1946.2341982550997,
          1955.289625512,
          1962.8513829100996,
          1944.2828760824998,
          1972.1684976330002,
          1969.8917670778997,
          1984.9278410046995,
          1981.32245133
         ],
         "yaxis": "y2"
        }
       ],
       "layout": {
        "annotations": [
         {
          "font": {},
          "showarrow": false,
          "text": "Historical Trend",
          "x": 0.235,
          "xanchor": "center",
          "xref": "paper",
          "y": 1,
          "yanchor": "bottom",
          "yref": "paper"
         },
         {
          "font": {},
          "showarrow": false,
          "text": "Climate Change",
          "x": 0.765,
          "xanchor": "center",
          "xref": "paper",
          "y": 1,
          "yanchor": "bottom",
          "yref": "paper"
         }
        ],
        "autosize": true,
        "font": {
         "color": "#7f7f7f",
         "size": 18
        },
        "height": 500,
        "hoverlabel": {
         "align": "left"
        },
        "hovermode": "closest",
        "legend": {
         "font": {
          "size": 16
         },
         "orientation": "h",
         "title": {
          "text": ""
         },
         "tracegroupgap": 0
        },
        "margin": {
         "b": 0,
         "l": 0,
         "r": 0,
         "t": 50
        },
        "paper_bgcolor": "#fff",
        "plot_bgcolor": "#fff",
        "showlegend": true,
        "template": {
         "data": {
          "bar": [
           {
            "error_x": {
             "color": "#2a3f5f"
            },
            "error_y": {
             "color": "#2a3f5f"
            },
            "marker": {
             "line": {
              "color": "white",
              "width": 0.5
             }
            },
            "type": "bar"
           }
          ],
          "barpolar": [
           {
            "marker": {
             "line": {
              "color": "white",
              "width": 0.5
             }
            },
            "type": "barpolar"
           }
          ],
          "carpet": [
           {
            "aaxis": {
             "endlinecolor": "#2a3f5f",
             "gridcolor": "#C8D4E3",
             "linecolor": "#C8D4E3",
             "minorgridcolor": "#C8D4E3",
             "startlinecolor": "#2a3f5f"
            },
            "baxis": {
             "endlinecolor": "#2a3f5f",
             "gridcolor": "#C8D4E3",
             "linecolor": "#C8D4E3",
             "minorgridcolor": "#C8D4E3",
             "startlinecolor": "#2a3f5f"
            },
            "type": "carpet"
           }
          ],
          "choropleth": [
           {
            "colorbar": {
             "outlinewidth": 0,
             "ticks": ""
            },
            "type": "choropleth"
           }
          ],
          "contour": [
           {
            "colorbar": {
             "outlinewidth": 0,
             "ticks": ""
            },
            "colorscale": [
             [
              0,
              "#0d0887"
             ],
             [
              0.1111111111111111,
              "#46039f"
             ],
             [
              0.2222222222222222,
              "#7201a8"
             ],
             [
              0.3333333333333333,
              "#9c179e"
             ],
             [
              0.4444444444444444,
              "#bd3786"
             ],
             [
              0.5555555555555556,
              "#d8576b"
             ],
             [
              0.6666666666666666,
              "#ed7953"
             ],
             [
              0.7777777777777778,
              "#fb9f3a"
             ],
             [
              0.8888888888888888,
              "#fdca26"
             ],
             [
              1,
              "#f0f921"
             ]
            ],
            "type": "contour"
           }
          ],
          "contourcarpet": [
           {
            "colorbar": {
             "outlinewidth": 0,
             "ticks": ""
            },
            "type": "contourcarpet"
           }
          ],
          "heatmap": [
           {
            "colorbar": {
             "outlinewidth": 0,
             "ticks": ""
            },
            "colorscale": [
             [
              0,
              "#0d0887"
             ],
             [
              0.1111111111111111,
              "#46039f"
             ],
             [
              0.2222222222222222,
              "#7201a8"
             ],
             [
              0.3333333333333333,
              "#9c179e"
             ],
             [
              0.4444444444444444,
              "#bd3786"
             ],
             [
              0.5555555555555556,
              "#d8576b"
             ],
             [
              0.6666666666666666,
              "#ed7953"
             ],
             [
              0.7777777777777778,
              "#fb9f3a"
             ],
             [
              0.8888888888888888,
              "#fdca26"
             ],
             [
              1,
              "#f0f921"
             ]
            ],
            "type": "heatmap"
           }
          ],
          "heatmapgl": [
           {
            "colorbar": {
             "outlinewidth": 0,
             "ticks": ""
            },
            "colorscale": [
             [
              0,
              "#0d0887"
             ],
             [
              0.1111111111111111,
              "#46039f"
             ],
             [
              0.2222222222222222,
              "#7201a8"
             ],
             [
              0.3333333333333333,
              "#9c179e"
             ],
             [
              0.4444444444444444,
              "#bd3786"
             ],
             [
              0.5555555555555556,
              "#d8576b"
             ],
             [
              0.6666666666666666,
              "#ed7953"
             ],
             [
              0.7777777777777778,
              "#fb9f3a"
             ],
             [
              0.8888888888888888,
              "#fdca26"
             ],
             [
              1,
              "#f0f921"
             ]
            ],
            "type": "heatmapgl"
           }
          ],
          "histogram": [
           {
            "marker": {
             "colorbar": {
              "outlinewidth": 0,
              "ticks": ""
             }
            },
            "type": "histogram"
           }
          ],
          "histogram2d": [
           {
            "colorbar": {
             "outlinewidth": 0,
             "ticks": ""
            },
            "colorscale": [
             [
              0,
              "#0d0887"
             ],
             [
              0.1111111111111111,
              "#46039f"
             ],
             [
              0.2222222222222222,
              "#7201a8"
             ],
             [
              0.3333333333333333,
              "#9c179e"
             ],
             [
              0.4444444444444444,
              "#bd3786"
             ],
             [
              0.5555555555555556,
              "#d8576b"
             ],
             [
              0.6666666666666666,
              "#ed7953"
             ],
             [
              0.7777777777777778,
              "#fb9f3a"
             ],
             [
              0.8888888888888888,
              "#fdca26"
             ],
             [
              1,
              "#f0f921"
             ]
            ],
            "type": "histogram2d"
           }
          ],
          "histogram2dcontour": [
           {
            "colorbar": {
             "outlinewidth": 0,
             "ticks": ""
            },
            "colorscale": [
             [
              0,
              "#0d0887"
             ],
             [
              0.1111111111111111,
              "#46039f"
             ],
             [
              0.2222222222222222,
              "#7201a8"
             ],
             [
              0.3333333333333333,
              "#9c179e"
             ],
             [
              0.4444444444444444,
              "#bd3786"
             ],
             [
              0.5555555555555556,
              "#d8576b"
             ],
             [
              0.6666666666666666,
              "#ed7953"
             ],
             [
              0.7777777777777778,
              "#fb9f3a"
             ],
             [
              0.8888888888888888,
              "#fdca26"
             ],
             [
              1,
              "#f0f921"
             ]
            ],
            "type": "histogram2dcontour"
           }
          ],
          "mesh3d": [
           {
            "colorbar": {
             "outlinewidth": 0,
             "ticks": ""
            },
            "type": "mesh3d"
           }
          ],
          "parcoords": [
           {
            "line": {
             "colorbar": {
              "outlinewidth": 0,
              "ticks": ""
             }
            },
            "type": "parcoords"
           }
          ],
          "pie": [
           {
            "automargin": true,
            "type": "pie"
           }
          ],
          "scatter": [
           {
            "marker": {
             "colorbar": {
              "outlinewidth": 0,
              "ticks": ""
             }
            },
            "type": "scatter"
           }
          ],
          "scatter3d": [
           {
            "line": {
             "colorbar": {
              "outlinewidth": 0,
              "ticks": ""
             }
            },
            "marker": {
             "colorbar": {
              "outlinewidth": 0,
              "ticks": ""
             }
            },
            "type": "scatter3d"
           }
          ],
          "scattercarpet": [
           {
            "marker": {
             "colorbar": {
              "outlinewidth": 0,
              "ticks": ""
             }
            },
            "type": "scattercarpet"
           }
          ],
          "scattergeo": [
           {
            "marker": {
             "colorbar": {
              "outlinewidth": 0,
              "ticks": ""
             }
            },
            "type": "scattergeo"
           }
          ],
          "scattergl": [
           {
            "marker": {
             "colorbar": {
              "outlinewidth": 0,
              "ticks": ""
             }
            },
            "type": "scattergl"
           }
          ],
          "scattermapbox": [
           {
            "marker": {
             "colorbar": {
              "outlinewidth": 0,
              "ticks": ""
             }
            },
            "type": "scattermapbox"
           }
          ],
          "scatterpolar": [
           {
            "marker": {
             "colorbar": {
              "outlinewidth": 0,
              "ticks": ""
             }
            },
            "type": "scatterpolar"
           }
          ],
          "scatterpolargl": [
           {
            "marker": {
             "colorbar": {
              "outlinewidth": 0,
              "ticks": ""
             }
            },
            "type": "scatterpolargl"
           }
          ],
          "scatterternary": [
           {
            "marker": {
             "colorbar": {
              "outlinewidth": 0,
              "ticks": ""
             }
            },
            "type": "scatterternary"
           }
          ],
          "surface": [
           {
            "colorbar": {
             "outlinewidth": 0,
             "ticks": ""
            },
            "colorscale": [
             [
              0,
              "#0d0887"
             ],
             [
              0.1111111111111111,
              "#46039f"
             ],
             [
              0.2222222222222222,
              "#7201a8"
             ],
             [
              0.3333333333333333,
              "#9c179e"
             ],
             [
              0.4444444444444444,
              "#bd3786"
             ],
             [
              0.5555555555555556,
              "#d8576b"
             ],
             [
              0.6666666666666666,
              "#ed7953"
             ],
             [
              0.7777777777777778,
              "#fb9f3a"
             ],
             [
              0.8888888888888888,
              "#fdca26"
             ],
             [
              1,
              "#f0f921"
             ]
            ],
            "type": "surface"
           }
          ],
          "table": [
           {
            "cells": {
             "fill": {
              "color": "#EBF0F8"
             },
             "line": {
              "color": "white"
             }
            },
            "header": {
             "fill": {
              "color": "#C8D4E3"
             },
             "line": {
              "color": "white"
             }
            },
            "type": "table"
           }
          ]
         },
         "layout": {
          "annotationdefaults": {
           "arrowcolor": "#2a3f5f",
           "arrowhead": 0,
           "arrowwidth": 1
          },
          "coloraxis": {
           "colorbar": {
            "outlinewidth": 0,
            "ticks": ""
           }
          },
          "colorscale": {
           "diverging": [
            [
             0,
             "#8e0152"
            ],
            [
             0.1,
             "#c51b7d"
            ],
            [
             0.2,
             "#de77ae"
            ],
            [
             0.3,
             "#f1b6da"
            ],
            [
             0.4,
             "#fde0ef"
            ],
            [
             0.5,
             "#f7f7f7"
            ],
            [
             0.6,
             "#e6f5d0"
            ],
            [
             0.7,
             "#b8e186"
            ],
            [
             0.8,
             "#7fbc41"
            ],
            [
             0.9,
             "#4d9221"
            ],
            [
             1,
             "#276419"
            ]
           ],
           "sequential": [
            [
             0,
             "#0d0887"
            ],
            [
             0.1111111111111111,
             "#46039f"
            ],
            [
             0.2222222222222222,
             "#7201a8"
            ],
            [
             0.3333333333333333,
             "#9c179e"
            ],
            [
             0.4444444444444444,
             "#bd3786"
            ],
            [
             0.5555555555555556,
             "#d8576b"
            ],
            [
             0.6666666666666666,
             "#ed7953"
            ],
            [
             0.7777777777777778,
             "#fb9f3a"
            ],
            [
             0.8888888888888888,
             "#fdca26"
            ],
            [
             1,
             "#f0f921"
            ]
           ],
           "sequentialminus": [
            [
             0,
             "#0d0887"
            ],
            [
             0.1111111111111111,
             "#46039f"
            ],
            [
             0.2222222222222222,
             "#7201a8"
            ],
            [
             0.3333333333333333,
             "#9c179e"
            ],
            [
             0.4444444444444444,
             "#bd3786"
            ],
            [
             0.5555555555555556,
             "#d8576b"
            ],
            [
             0.6666666666666666,
             "#ed7953"
            ],
            [
             0.7777777777777778,
             "#fb9f3a"
            ],
            [
             0.8888888888888888,
             "#fdca26"
            ],
            [
             1,
             "#f0f921"
            ]
           ]
          },
          "colorway": [
           "#636efa",
           "#EF553B",
           "#00cc96",
           "#ab63fa",
           "#FFA15A",
           "#19d3f3",
           "#FF6692",
           "#B6E880",
           "#FF97FF",
           "#FECB52"
          ],
          "font": {
           "color": "#2a3f5f"
          },
          "geo": {
           "bgcolor": "white",
           "lakecolor": "white",
           "landcolor": "white",
           "showlakes": true,
           "showland": true,
           "subunitcolor": "#C8D4E3"
          },
          "hoverlabel": {
           "align": "left"
          },
          "hovermode": "closest",
          "mapbox": {
           "style": "light"
          },
          "paper_bgcolor": "white",
          "plot_bgcolor": "white",
          "polar": {
           "angularaxis": {
            "gridcolor": "#EBF0F8",
            "linecolor": "#EBF0F8",
            "ticks": ""
           },
           "bgcolor": "white",
           "radialaxis": {
            "gridcolor": "#EBF0F8",
            "linecolor": "#EBF0F8",
            "ticks": ""
           }
          },
          "scene": {
           "xaxis": {
            "backgroundcolor": "white",
            "gridcolor": "#DFE8F3",
            "gridwidth": 2,
            "linecolor": "#EBF0F8",
            "showbackground": true,
            "ticks": "",
            "zerolinecolor": "#EBF0F8"
           },
           "yaxis": {
            "backgroundcolor": "white",
            "gridcolor": "#DFE8F3",
            "gridwidth": 2,
            "linecolor": "#EBF0F8",
            "showbackground": true,
            "ticks": "",
            "zerolinecolor": "#EBF0F8"
           },
           "zaxis": {
            "backgroundcolor": "white",
            "gridcolor": "#DFE8F3",
            "gridwidth": 2,
            "linecolor": "#EBF0F8",
            "showbackground": true,
            "ticks": "",
            "zerolinecolor": "#EBF0F8"
           }
          },
          "shapedefaults": {
           "line": {
            "color": "#2a3f5f"
           }
          },
          "ternary": {
           "aaxis": {
            "gridcolor": "#DFE8F3",
            "linecolor": "#A2B1C6",
            "ticks": ""
           },
           "baxis": {
            "gridcolor": "#DFE8F3",
            "linecolor": "#A2B1C6",
            "ticks": ""
           },
           "bgcolor": "white",
           "caxis": {
            "gridcolor": "#DFE8F3",
            "linecolor": "#A2B1C6",
            "ticks": ""
           }
          },
          "title": {
           "x": 0.05
          },
          "xaxis": {
           "automargin": true,
           "gridcolor": "#EBF0F8",
           "linecolor": "#EBF0F8",
           "ticks": "",
           "title": {
            "standoff": 15
           },
           "zerolinecolor": "#EBF0F8",
           "zerolinewidth": 2
          },
          "yaxis": {
           "automargin": true,
           "gridcolor": "#EBF0F8",
           "linecolor": "#EBF0F8",
           "ticks": "",
           "title": {
            "standoff": 15
           },
           "zerolinecolor": "#EBF0F8",
           "zerolinewidth": 2
          }
         }
        },
        "xaxis": {
         "anchor": "y",
         "domain": [
          0,
          0.47
         ],
         "title": {
          "text": ""
         }
        },
        "xaxis2": {
         "anchor": "y2",
         "domain": [
          0.53,
          1
         ],
         "matches": "x",
         "title": {
          "text": ""
         }
        },
        "yaxis": {
         "anchor": "x",
         "domain": [
          0,
          1
         ],
         "title": {
          "text": "Crop production (kton)"
         }
        },
        "yaxis2": {
         "anchor": "x2",
         "domain": [
          0,
          1
         ],
         "matches": "y",
         "showticklabels": false
        }
       }
      },
      "text/html": [
       "<div>                            <div id=\"9b09d3d3-bf19-481c-9519-4875031be490\" class=\"plotly-graph-div\" style=\"height:500px; width:100%;\"></div>            <script type=\"text/javascript\">                require([\"plotly\"], function(Plotly) {                    window.PLOTLYENV=window.PLOTLYENV || {};                                    if (document.getElementById(\"9b09d3d3-bf19-481c-9519-4875031be490\")) {                    Plotly.newPlot(                        \"9b09d3d3-bf19-481c-9519-4875031be490\",                        [{\"hovertemplate\": \"Scenario=Reference<br>Climate=Historical Trend<br>Year=%{x}<br>value=%{y}<extra></extra>\", \"legendgroup\": \"Reference\", \"line\": {\"color\": \"#4C78A8\", \"dash\": \"solid\"}, \"mode\": \"lines\", \"name\": \"Reference\", \"orientation\": \"v\", \"showlegend\": true, \"type\": \"scatter\", \"x\": [2020, 2021, 2022, 2023, 2024, 2025, 2026, 2027, 2028, 2029, 2030, 2031, 2032, 2033, 2034, 2035, 2036, 2037, 2038, 2039, 2040, 2041, 2042, 2043, 2044, 2045, 2046, 2047, 2048, 2049, 2050], \"xaxis\": \"x\", \"y\": [1994.3704518829995, 1980.6933207599989, 2005.0859088429995, 2020.7464194989996, 2003.2218787940003, 2009.8960267709997, 2010.2938794669994, 2008.0580478680004, 1999.836882312, 2009.7869559269996, 2006.2481234999998, 2001.3698287159996, 2028.551306606, 2016.020485396, 2003.5511453780002, 1983.8178470839996, 1998.7961201969997, 2035.586082501999, 2031.2726038119997, 1999.4685054760002, 2003.0029067050002, 2006.9086422819996, 1999.1098021669995, 1984.4771438600003, 1994.3072317039996, 1995.6156411740008, 2001.7783195429997, 2014.67709664, 2009.8818522749996, 2027.6808890049995, 2021.2163120489995], \"yaxis\": \"y\"}, {\"hovertemplate\": \"Scenario=Reference<br>Climate=Climate Change<br>Year=%{x}<br>value=%{y}<extra></extra>\", \"legendgroup\": \"Reference\", \"line\": {\"color\": \"#4C78A8\", \"dash\": \"solid\"}, \"mode\": \"lines\", \"name\": \"Reference\", \"orientation\": \"v\", \"showlegend\": false, \"type\": \"scatter\", \"x\": [2020, 2021, 2022, 2023, 2024, 2025, 2026, 2027, 2028, 2029, 2030, 2031, 2032, 2033, 2034, 2035, 2036, 2037, 2038, 2039, 2040, 2041, 2042, 2043, 2044, 2045, 2046, 2047, 2048, 2049, 2050], \"xaxis\": \"x2\", \"y\": [1992.6149356979995, 1976.7663447229995, 2000.6284910919987, 2018.4691414289991, 1996.3607027749997, 2002.8897227408997, 2001.497158827999, 2000.9168692439994, 1990.2685295351005, 1997.9108066619997, 1995.1382445381994, 1993.3781081392008, 2018.6011205149994, 2000.2368376366, 1988.6435998465995, 1953.6219194436007, 1981.8817617587, 2021.5937712392993, 2013.3015078020005, 1975.2802457137, 1971.8731561306995, 1974.3103507769995, 1981.349401164699, 1961.7198603685, 1970.358769094, 1971.4864567697998, 1956.7130043063999, 1982.9784512989997, 1985.0085423081996, 1991.7164563612996, 1991.7677081234997], \"yaxis\": \"y2\"}, {\"hovertemplate\": \"Scenario=Increased Water Productivity<br>Climate=Historical Trend<br>Year=%{x}<br>value=%{y}<extra></extra>\", \"legendgroup\": \"Increased Water Productivity\", \"line\": {\"color\": \"#F58518\", \"dash\": \"solid\"}, \"mode\": \"lines\", \"name\": \"Increased Water Productivity\", \"orientation\": \"v\", \"showlegend\": true, \"type\": \"scatter\", \"x\": [2020, 2021, 2022, 2023, 2024, 2025, 2026, 2027, 2028, 2029, 2030, 2031, 2032, 2033, 2034, 2035, 2036, 2037, 2038, 2039, 2040, 2041, 2042, 2043, 2044, 2045, 2046, 2047, 2048, 2049, 2050], \"xaxis\": \"x\", \"y\": [1994.8444892219993, 1983.8331149659998, 2009.8236651039997, 2024.254250223, 2007.8658622669996, 2012.8039276590002, 2013.8455935779996, 2016.4266902869997, 2005.8454585869997, 2017.515226044, 2010.8529303929997, 2007.8593771479998, 2039.603802638, 2027.9230309899995, 2014.2463449500008, 1991.2771084669996, 2009.2854486569997, 2046.1882186580006, 2046.226903474, 2011.3495732169997, 2015.8069846409999, 2022.7158388030005, 2013.094293664999, 1996.012024187, 2013.3290601569993, 2012.0391282229998, 2019.7689773309999, 2028.891299518, 2028.3827711999993, 2040.3944882239998, 2043.2428317170002], \"yaxis\": \"y\"}, {\"hovertemplate\": \"Scenario=Increased Water Productivity<br>Climate=Climate Change<br>Year=%{x}<br>value=%{y}<extra></extra>\", \"legendgroup\": \"Increased Water Productivity\", \"line\": {\"color\": \"#F58518\", \"dash\": \"solid\"}, \"mode\": \"lines\", \"name\": \"Increased Water Productivity\", \"orientation\": \"v\", \"showlegend\": false, \"type\": \"scatter\", \"x\": [2020, 2021, 2022, 2023, 2024, 2025, 2026, 2027, 2028, 2029, 2030, 2031, 2032, 2033, 2034, 2035, 2036, 2037, 2038, 2039, 2040, 2041, 2042, 2043, 2044, 2045, 2046, 2047, 2048, 2049, 2050], \"xaxis\": \"x2\", \"y\": [1993.1014690229993, 1979.1424535290002, 2003.9750685249996, 2022.8287004080003, 2001.6903663859998, 2011.1080242749997, 2006.9916975549995, 2007.3526931130002, 1993.778892807, 2009.274858946999, 1998.6634563179998, 2000.413215033, 2025.4997739780001, 2011.020298360999, 1996.2627760779994, 1968.51351259, 1995.45378283, 2029.3194246369987, 2033.1242297619995, 1988.8869613439992, 1989.835959953999, 1992.851327739, 1991.9519177049992, 1973.0905874439995, 1983.3194756819996, 1986.4989295539995, 1982.5249426699993, 2001.0080435149991, 2003.4968463369999, 2007.188454123, 2007.8183246659994], \"yaxis\": \"y2\"}, {\"hovertemplate\": \"Scenario=New Resources<br>Climate=Historical Trend<br>Year=%{x}<br>value=%{y}<extra></extra>\", \"legendgroup\": \"New Resources\", \"line\": {\"color\": \"#E45756\", \"dash\": \"solid\"}, \"mode\": \"lines\", \"name\": \"New Resources\", \"orientation\": \"v\", \"showlegend\": true, \"type\": \"scatter\", \"x\": [2020, 2021, 2022, 2023, 2024, 2025, 2026, 2027, 2028, 2029, 2030, 2031, 2032, 2033, 2034, 2035, 2036, 2037, 2038, 2039, 2040, 2041, 2042, 2043, 2044, 2045, 2046, 2047, 2048, 2049, 2050], \"xaxis\": \"x\", \"y\": [1994.5709243319993, 1980.825480563999, 2005.196500184, 2020.9693419719997, 2003.3794726340006, 2010.0229365559992, 2010.4789132959993, 2008.4651291670002, 2000.4449922869994, 2010.814104835, 2007.4497688179997, 2002.653808778, 2029.9085743499995, 2017.390822679, 2004.9143830629998, 1986.456156831, 2000.0246355529994, 2037.6200725739989, 2033.3736389389996, 2001.046805911, 2005.8431676339997, 2009.0211821930002, 2002.5383757279997, 1986.2403361830002, 1995.316017636, 1998.7295009339994, 2004.276426391, 2017.4115683709995, 2012.4304421079994, 2030.7841856669995, 2027.6565927639992], \"yaxis\": \"y\"}, {\"hovertemplate\": \"Scenario=New Resources<br>Climate=Climate Change<br>Year=%{x}<br>value=%{y}<extra></extra>\", \"legendgroup\": \"New Resources\", \"line\": {\"color\": \"#E45756\", \"dash\": \"solid\"}, \"mode\": \"lines\", \"name\": \"New Resources\", \"orientation\": \"v\", \"showlegend\": false, \"type\": \"scatter\", \"x\": [2020, 2021, 2022, 2023, 2024, 2025, 2026, 2027, 2028, 2029, 2030, 2031, 2032, 2033, 2034, 2035, 2036, 2037, 2038, 2039, 2040, 2041, 2042, 2043, 2044, 2045, 2046, 2047, 2048, 2049, 2050], \"xaxis\": \"x2\", \"y\": [1992.8071603629994, 1976.9825174599996, 2000.8127622079996, 2018.61139226, 1996.6616198129993, 2003.069490518899, 2001.3916349939996, 2001.3421872929996, 1990.9995295861006, 1998.730245089, 1996.006139682, 1994.1402489183001, 2019.7819099659996, 2001.9401657322996, 1990.3530707152986, 1955.4694225903004, 1982.205185371, 2024.4258861710998, 2015.159088691, 1977.8161111992993, 1975.4084892052992, 1978.0961715919998, 1983.4511377720994, 1964.2237149463, 1973.9672051859995, 1974.4638423268, 1960.0542826118997, 1986.453737949, 1989.1492080182, 1993.7868314430996, 1993.2694068359995], \"yaxis\": \"y2\"}, {\"hovertemplate\": \"Scenario=Reduce NRW to 20 percent<br>Climate=Historical Trend<br>Year=%{x}<br>value=%{y}<extra></extra>\", \"legendgroup\": \"Reduce NRW to 20 percent\", \"line\": {\"color\": \"#72B7B2\", \"dash\": \"solid\"}, \"mode\": \"lines\", \"name\": \"Reduce NRW to 20 percent\", \"orientation\": \"v\", \"showlegend\": true, \"type\": \"scatter\", \"x\": [2020, 2021, 2022, 2023, 2024, 2025, 2026, 2027, 2028, 2029, 2030, 2031, 2032, 2033, 2034, 2035, 2036, 2037, 2038, 2039, 2040, 2041, 2042, 2043, 2044, 2045, 2046, 2047, 2048, 2049, 2050], \"xaxis\": \"x\", \"y\": [1992.9842950689997, 1976.1244742779998, 1999.5708309779995, 2019.4768756869996, 1997.2802744299997, 2007.363736264, 2003.3549109250002, 2005.279006687, 1993.970817083, 2003.9758255709994, 1997.3675075429996, 1994.160695403, 2020.8757407809999, 2007.4994636259994, 1994.0348528910001, 1975.9850906970003, 1991.8029299399996, 2027.3937309829994, 2023.6980916349994, 1988.609009551, 1993.3141727209995, 1996.9083226419996, 1993.7091381759997, 1979.0964167579996, 1982.9199976679997, 1985.7076777060001, 1986.3156324079996, 2005.1879861409998, 2000.988782321, 2017.6573201439999, 2012.7964540209996], \"yaxis\": \"y\"}, {\"hovertemplate\": \"Scenario=Reduce NRW to 20 percent<br>Climate=Climate Change<br>Year=%{x}<br>value=%{y}<extra></extra>\", \"legendgroup\": \"Reduce NRW to 20 percent\", \"line\": {\"color\": \"#72B7B2\", \"dash\": \"solid\"}, \"mode\": \"lines\", \"name\": \"Reduce NRW to 20 percent\", \"orientation\": \"v\", \"showlegend\": false, \"type\": \"scatter\", \"x\": [2020, 2021, 2022, 2023, 2024, 2025, 2026, 2027, 2028, 2029, 2030, 2031, 2032, 2033, 2034, 2035, 2036, 2037, 2038, 2039, 2040, 2041, 2042, 2043, 2044, 2045, 2046, 2047, 2048, 2049, 2050], \"xaxis\": \"x2\", \"y\": [1991.5060271049992, 1971.4506770920004, 1995.1561007289993, 2012.5135590859995, 1989.2877334019995, 1998.1378614307998, 1995.3155984559999, 1996.4589251039997, 1985.3227505814996, 1991.650072097, 1986.9364889270998, 1980.3685895348, 2010.4548574199996, 1997.1802615712998, 1976.1842806846994, 1943.0310668643992, 1971.3366647392997, 2011.6891584081, 2003.1518303070002, 1963.0122654074999, 1966.0340809933998, 1965.2490706529995, 1971.9281885592993, 1946.2341982550997, 1955.289625512, 1962.8513829100996, 1944.2828760824998, 1972.1684976330002, 1969.8917670778997, 1984.9278410046995, 1981.32245133], \"yaxis\": \"y2\"}],                        {\"annotations\": [{\"font\": {}, \"showarrow\": false, \"text\": \"Historical Trend\", \"x\": 0.235, \"xanchor\": \"center\", \"xref\": \"paper\", \"y\": 1.0, \"yanchor\": \"bottom\", \"yref\": \"paper\"}, {\"font\": {}, \"showarrow\": false, \"text\": \"Climate Change\", \"x\": 0.765, \"xanchor\": \"center\", \"xref\": \"paper\", \"y\": 1.0, \"yanchor\": \"bottom\", \"yref\": \"paper\"}], \"autosize\": true, \"font\": {\"color\": \"#7f7f7f\", \"size\": 18}, \"height\": 500, \"hoverlabel\": {\"align\": \"left\"}, \"hovermode\": \"closest\", \"legend\": {\"font\": {\"size\": 16}, \"orientation\": \"h\", \"title\": {\"text\": \"\"}, \"tracegroupgap\": 0}, \"margin\": {\"b\": 0, \"l\": 0, \"r\": 0, \"t\": 50}, \"paper_bgcolor\": \"#fff\", \"plot_bgcolor\": \"#fff\", \"showlegend\": true, \"template\": {\"data\": {\"bar\": [{\"error_x\": {\"color\": \"#2a3f5f\"}, \"error_y\": {\"color\": \"#2a3f5f\"}, \"marker\": {\"line\": {\"color\": \"white\", \"width\": 0.5}}, \"type\": \"bar\"}], \"barpolar\": [{\"marker\": {\"line\": {\"color\": \"white\", \"width\": 0.5}}, \"type\": \"barpolar\"}], \"carpet\": [{\"aaxis\": {\"endlinecolor\": \"#2a3f5f\", \"gridcolor\": \"#C8D4E3\", \"linecolor\": \"#C8D4E3\", \"minorgridcolor\": \"#C8D4E3\", \"startlinecolor\": \"#2a3f5f\"}, \"baxis\": {\"endlinecolor\": \"#2a3f5f\", \"gridcolor\": \"#C8D4E3\", \"linecolor\": \"#C8D4E3\", \"minorgridcolor\": \"#C8D4E3\", \"startlinecolor\": \"#2a3f5f\"}, \"type\": \"carpet\"}], \"choropleth\": [{\"colorbar\": {\"outlinewidth\": 0, \"ticks\": \"\"}, \"type\": \"choropleth\"}], \"contour\": [{\"colorbar\": {\"outlinewidth\": 0, \"ticks\": \"\"}, \"colorscale\": [[0.0, \"#0d0887\"], [0.1111111111111111, \"#46039f\"], [0.2222222222222222, \"#7201a8\"], [0.3333333333333333, \"#9c179e\"], [0.4444444444444444, \"#bd3786\"], [0.5555555555555556, \"#d8576b\"], [0.6666666666666666, \"#ed7953\"], [0.7777777777777778, \"#fb9f3a\"], [0.8888888888888888, \"#fdca26\"], [1.0, \"#f0f921\"]], \"type\": \"contour\"}], \"contourcarpet\": [{\"colorbar\": {\"outlinewidth\": 0, \"ticks\": \"\"}, \"type\": \"contourcarpet\"}], \"heatmap\": [{\"colorbar\": {\"outlinewidth\": 0, \"ticks\": \"\"}, \"colorscale\": [[0.0, \"#0d0887\"], [0.1111111111111111, \"#46039f\"], [0.2222222222222222, \"#7201a8\"], [0.3333333333333333, \"#9c179e\"], [0.4444444444444444, \"#bd3786\"], [0.5555555555555556, \"#d8576b\"], [0.6666666666666666, \"#ed7953\"], [0.7777777777777778, \"#fb9f3a\"], [0.8888888888888888, \"#fdca26\"], [1.0, \"#f0f921\"]], \"type\": \"heatmap\"}], \"heatmapgl\": [{\"colorbar\": {\"outlinewidth\": 0, \"ticks\": \"\"}, \"colorscale\": [[0.0, \"#0d0887\"], [0.1111111111111111, \"#46039f\"], [0.2222222222222222, \"#7201a8\"], [0.3333333333333333, \"#9c179e\"], [0.4444444444444444, \"#bd3786\"], [0.5555555555555556, \"#d8576b\"], [0.6666666666666666, \"#ed7953\"], [0.7777777777777778, \"#fb9f3a\"], [0.8888888888888888, \"#fdca26\"], [1.0, \"#f0f921\"]], \"type\": \"heatmapgl\"}], \"histogram\": [{\"marker\": {\"colorbar\": {\"outlinewidth\": 0, \"ticks\": \"\"}}, \"type\": \"histogram\"}], \"histogram2d\": [{\"colorbar\": {\"outlinewidth\": 0, \"ticks\": \"\"}, \"colorscale\": [[0.0, \"#0d0887\"], [0.1111111111111111, \"#46039f\"], [0.2222222222222222, \"#7201a8\"], [0.3333333333333333, \"#9c179e\"], [0.4444444444444444, \"#bd3786\"], [0.5555555555555556, \"#d8576b\"], [0.6666666666666666, \"#ed7953\"], [0.7777777777777778, \"#fb9f3a\"], [0.8888888888888888, \"#fdca26\"], [1.0, \"#f0f921\"]], \"type\": \"histogram2d\"}], \"histogram2dcontour\": [{\"colorbar\": {\"outlinewidth\": 0, \"ticks\": \"\"}, \"colorscale\": [[0.0, \"#0d0887\"], [0.1111111111111111, \"#46039f\"], [0.2222222222222222, \"#7201a8\"], [0.3333333333333333, \"#9c179e\"], [0.4444444444444444, \"#bd3786\"], [0.5555555555555556, \"#d8576b\"], [0.6666666666666666, \"#ed7953\"], [0.7777777777777778, \"#fb9f3a\"], [0.8888888888888888, \"#fdca26\"], [1.0, \"#f0f921\"]], \"type\": \"histogram2dcontour\"}], \"mesh3d\": [{\"colorbar\": {\"outlinewidth\": 0, \"ticks\": \"\"}, \"type\": \"mesh3d\"}], \"parcoords\": [{\"line\": {\"colorbar\": {\"outlinewidth\": 0, \"ticks\": \"\"}}, \"type\": \"parcoords\"}], \"pie\": [{\"automargin\": true, \"type\": \"pie\"}], \"scatter\": [{\"marker\": {\"colorbar\": {\"outlinewidth\": 0, \"ticks\": \"\"}}, \"type\": \"scatter\"}], \"scatter3d\": [{\"line\": {\"colorbar\": {\"outlinewidth\": 0, \"ticks\": \"\"}}, \"marker\": {\"colorbar\": {\"outlinewidth\": 0, \"ticks\": \"\"}}, \"type\": \"scatter3d\"}], \"scattercarpet\": [{\"marker\": {\"colorbar\": {\"outlinewidth\": 0, \"ticks\": \"\"}}, \"type\": \"scattercarpet\"}], \"scattergeo\": [{\"marker\": {\"colorbar\": {\"outlinewidth\": 0, \"ticks\": \"\"}}, \"type\": \"scattergeo\"}], \"scattergl\": [{\"marker\": {\"colorbar\": {\"outlinewidth\": 0, \"ticks\": \"\"}}, \"type\": \"scattergl\"}], \"scattermapbox\": [{\"marker\": {\"colorbar\": {\"outlinewidth\": 0, \"ticks\": \"\"}}, \"type\": \"scattermapbox\"}], \"scatterpolar\": [{\"marker\": {\"colorbar\": {\"outlinewidth\": 0, \"ticks\": \"\"}}, \"type\": \"scatterpolar\"}], \"scatterpolargl\": [{\"marker\": {\"colorbar\": {\"outlinewidth\": 0, \"ticks\": \"\"}}, \"type\": \"scatterpolargl\"}], \"scatterternary\": [{\"marker\": {\"colorbar\": {\"outlinewidth\": 0, \"ticks\": \"\"}}, \"type\": \"scatterternary\"}], \"surface\": [{\"colorbar\": {\"outlinewidth\": 0, \"ticks\": \"\"}, \"colorscale\": [[0.0, \"#0d0887\"], [0.1111111111111111, \"#46039f\"], [0.2222222222222222, \"#7201a8\"], [0.3333333333333333, \"#9c179e\"], [0.4444444444444444, \"#bd3786\"], [0.5555555555555556, \"#d8576b\"], [0.6666666666666666, \"#ed7953\"], [0.7777777777777778, \"#fb9f3a\"], [0.8888888888888888, \"#fdca26\"], [1.0, \"#f0f921\"]], \"type\": \"surface\"}], \"table\": [{\"cells\": {\"fill\": {\"color\": \"#EBF0F8\"}, \"line\": {\"color\": \"white\"}}, \"header\": {\"fill\": {\"color\": \"#C8D4E3\"}, \"line\": {\"color\": \"white\"}}, \"type\": \"table\"}]}, \"layout\": {\"annotationdefaults\": {\"arrowcolor\": \"#2a3f5f\", \"arrowhead\": 0, \"arrowwidth\": 1}, \"coloraxis\": {\"colorbar\": {\"outlinewidth\": 0, \"ticks\": \"\"}}, \"colorscale\": {\"diverging\": [[0, \"#8e0152\"], [0.1, \"#c51b7d\"], [0.2, \"#de77ae\"], [0.3, \"#f1b6da\"], [0.4, \"#fde0ef\"], [0.5, \"#f7f7f7\"], [0.6, \"#e6f5d0\"], [0.7, \"#b8e186\"], [0.8, \"#7fbc41\"], [0.9, \"#4d9221\"], [1, \"#276419\"]], \"sequential\": [[0.0, \"#0d0887\"], [0.1111111111111111, \"#46039f\"], [0.2222222222222222, \"#7201a8\"], [0.3333333333333333, \"#9c179e\"], [0.4444444444444444, \"#bd3786\"], [0.5555555555555556, \"#d8576b\"], [0.6666666666666666, \"#ed7953\"], [0.7777777777777778, \"#fb9f3a\"], [0.8888888888888888, \"#fdca26\"], [1.0, \"#f0f921\"]], \"sequentialminus\": [[0.0, \"#0d0887\"], [0.1111111111111111, \"#46039f\"], [0.2222222222222222, \"#7201a8\"], [0.3333333333333333, \"#9c179e\"], [0.4444444444444444, \"#bd3786\"], [0.5555555555555556, \"#d8576b\"], [0.6666666666666666, \"#ed7953\"], [0.7777777777777778, \"#fb9f3a\"], [0.8888888888888888, \"#fdca26\"], [1.0, \"#f0f921\"]]}, \"colorway\": [\"#636efa\", \"#EF553B\", \"#00cc96\", \"#ab63fa\", \"#FFA15A\", \"#19d3f3\", \"#FF6692\", \"#B6E880\", \"#FF97FF\", \"#FECB52\"], \"font\": {\"color\": \"#2a3f5f\"}, \"geo\": {\"bgcolor\": \"white\", \"lakecolor\": \"white\", \"landcolor\": \"white\", \"showlakes\": true, \"showland\": true, \"subunitcolor\": \"#C8D4E3\"}, \"hoverlabel\": {\"align\": \"left\"}, \"hovermode\": \"closest\", \"mapbox\": {\"style\": \"light\"}, \"paper_bgcolor\": \"white\", \"plot_bgcolor\": \"white\", \"polar\": {\"angularaxis\": {\"gridcolor\": \"#EBF0F8\", \"linecolor\": \"#EBF0F8\", \"ticks\": \"\"}, \"bgcolor\": \"white\", \"radialaxis\": {\"gridcolor\": \"#EBF0F8\", \"linecolor\": \"#EBF0F8\", \"ticks\": \"\"}}, \"scene\": {\"xaxis\": {\"backgroundcolor\": \"white\", \"gridcolor\": \"#DFE8F3\", \"gridwidth\": 2, \"linecolor\": \"#EBF0F8\", \"showbackground\": true, \"ticks\": \"\", \"zerolinecolor\": \"#EBF0F8\"}, \"yaxis\": {\"backgroundcolor\": \"white\", \"gridcolor\": \"#DFE8F3\", \"gridwidth\": 2, \"linecolor\": \"#EBF0F8\", \"showbackground\": true, \"ticks\": \"\", \"zerolinecolor\": \"#EBF0F8\"}, \"zaxis\": {\"backgroundcolor\": \"white\", \"gridcolor\": \"#DFE8F3\", \"gridwidth\": 2, \"linecolor\": \"#EBF0F8\", \"showbackground\": true, \"ticks\": \"\", \"zerolinecolor\": \"#EBF0F8\"}}, \"shapedefaults\": {\"line\": {\"color\": \"#2a3f5f\"}}, \"ternary\": {\"aaxis\": {\"gridcolor\": \"#DFE8F3\", \"linecolor\": \"#A2B1C6\", \"ticks\": \"\"}, \"baxis\": {\"gridcolor\": \"#DFE8F3\", \"linecolor\": \"#A2B1C6\", \"ticks\": \"\"}, \"bgcolor\": \"white\", \"caxis\": {\"gridcolor\": \"#DFE8F3\", \"linecolor\": \"#A2B1C6\", \"ticks\": \"\"}}, \"title\": {\"x\": 0.05}, \"xaxis\": {\"automargin\": true, \"gridcolor\": \"#EBF0F8\", \"linecolor\": \"#EBF0F8\", \"ticks\": \"\", \"title\": {\"standoff\": 15}, \"zerolinecolor\": \"#EBF0F8\", \"zerolinewidth\": 2}, \"yaxis\": {\"automargin\": true, \"gridcolor\": \"#EBF0F8\", \"linecolor\": \"#EBF0F8\", \"ticks\": \"\", \"title\": {\"standoff\": 15}, \"zerolinecolor\": \"#EBF0F8\", \"zerolinewidth\": 2}}}, \"xaxis\": {\"anchor\": \"y\", \"domain\": [0.0, 0.47], \"title\": {\"text\": \"\"}}, \"xaxis2\": {\"anchor\": \"y2\", \"domain\": [0.53, 1.0], \"matches\": \"x\", \"title\": {\"text\": \"\"}}, \"yaxis\": {\"anchor\": \"x\", \"domain\": [0.0, 1.0], \"title\": {\"text\": \"Crop production (kton)\"}}, \"yaxis2\": {\"anchor\": \"x2\", \"domain\": [0.0, 1.0], \"matches\": \"y\", \"showticklabels\": false}},                        {\"responsive\": true}                    ).then(function(){\n",
       "                            \n",
       "var gd = document.getElementById('9b09d3d3-bf19-481c-9519-4875031be490');\n",
       "var x = new MutationObserver(function (mutations, observer) {{\n",
       "        var display = window.getComputedStyle(gd).display;\n",
       "        if (!display || display === 'none') {{\n",
       "            console.log([gd, 'removed!']);\n",
       "            Plotly.purge(gd);\n",
       "            observer.disconnect();\n",
       "        }}\n",
       "}});\n",
       "\n",
       "// Listen for the removal of the full notebook cells\n",
       "var notebookContainer = gd.closest('#notebook-container');\n",
       "if (notebookContainer) {{\n",
       "    x.observe(notebookContainer, {childList: true});\n",
       "}}\n",
       "\n",
       "// Listen for the clearing of the current output cell\n",
       "var outputEl = gd.closest('.output');\n",
       "if (outputEl) {{\n",
       "    x.observe(outputEl, {childList: true});\n",
       "}}\n",
       "\n",
       "                        })                };                });            </script>        </div>"
      ]
     },
     "metadata": {},
     "output_type": "display_data"
    }
   ],
   "source": [
    "dff = df_crop.groupby(['Scenario', 'Climate', 'Year']).agg({'value': lambda r: sum(r) / 1000000}).reset_index()\n",
    "\n",
    "fig = px.line(dff, x='Year', y='value', color='Scenario', facet_col='Climate',\n",
    "              color_discrete_sequence=px.colors.qualitative.T10, \n",
    "              facet_col_spacing=0.06, labels=names, category_orders=category_orders)\n",
    "fig.update_layout(layout, yaxis_title_text='Crop production (kton)')\n",
    "update_labels(fig)\n",
    "fig.show()\n",
    "fig.write_image(\"High level results/cropProduction.png\", scale=4, width=900, height=500)\n",
    "fig.write_html(\"High level results/cropProduction.html\", include_plotlyjs='cdn')"
   ]
  },
  {
   "cell_type": "code",
   "execution_count": 36,
   "metadata": {},
   "outputs": [
    {
     "data": {
      "application/vnd.plotly.v1+json": {
       "config": {
        "plotlyServerURL": "https://plot.ly"
       },
       "data": [
        {
         "hovertemplate": "Scenario=Reference<br>Climate=Historical Trend<br>Year=%{x}<br>value=%{y}<extra></extra>",
         "legendgroup": "Reference",
         "line": {
          "color": "#4C78A8",
          "dash": "solid"
         },
         "mode": "lines",
         "name": "Reference",
         "orientation": "v",
         "showlegend": true,
         "type": "scatter",
         "x": [
          2020,
          2021,
          2022,
          2023,
          2024,
          2025,
          2026,
          2027,
          2028,
          2029,
          2030,
          2031,
          2032,
          2033,
          2034,
          2035,
          2036,
          2037,
          2038,
          2039,
          2040,
          2041,
          2042,
          2043,
          2044,
          2045,
          2046,
          2047,
          2048,
          2049,
          2050
         ],
         "xaxis": "x",
         "y": [
          1.7593023910733305,
          1.708882500446455,
          1.7285296001119546,
          1.7764250306411407,
          1.677389384402318,
          1.671602304204116,
          1.674251523399682,
          1.6848369807647492,
          1.6121095961768308,
          1.6650192007493632,
          1.599727499230907,
          1.5771907036024628,
          1.6158281086912267,
          1.5874247547574332,
          1.5209502325204063,
          1.4978036681344893,
          1.5092195257473386,
          1.5735679520639363,
          1.5770833807092677,
          1.4703694768095408,
          1.4491384029240928,
          1.4360363914924523,
          1.429129859686588,
          1.383166769633987,
          1.386119738512911,
          1.3867307979158163,
          1.3704672998846392,
          1.3886513477542575,
          1.3577574684412164,
          1.3593812502805507,
          1.3634219875783256
         ],
         "yaxis": "y"
        },
        {
         "hovertemplate": "Scenario=Reference<br>Climate=Climate Change<br>Year=%{x}<br>value=%{y}<extra></extra>",
         "legendgroup": "Reference",
         "line": {
          "color": "#4C78A8",
          "dash": "solid"
         },
         "mode": "lines",
         "name": "Reference",
         "orientation": "v",
         "showlegend": false,
         "type": "scatter",
         "x": [
          2020,
          2021,
          2022,
          2023,
          2024,
          2025,
          2026,
          2027,
          2028,
          2029,
          2030,
          2031,
          2032,
          2033,
          2034,
          2035,
          2036,
          2037,
          2038,
          2039,
          2040,
          2041,
          2042,
          2043,
          2044,
          2045,
          2046,
          2047,
          2048,
          2049,
          2050
         ],
         "xaxis": "x2",
         "y": [
          1.757066935518282,
          1.6889234720416677,
          1.7222986131170919,
          1.7592896473090938,
          1.6577232504919686,
          1.6476684469893905,
          1.6494659744550713,
          1.6595687505336918,
          1.5788664663037912,
          1.63847940818931,
          1.5652942741080753,
          1.5484528902188068,
          1.5814029806738634,
          1.5369371576848105,
          1.4761239280715404,
          1.448587108153406,
          1.456832726216623,
          1.5250548100634378,
          1.5107562227368985,
          1.4191376109030822,
          1.3827650136051346,
          1.3678759600522021,
          1.3795415491812668,
          1.3337161178393258,
          1.3225148473663482,
          1.3262662254499238,
          1.3005112425754373,
          1.318539943610604,
          1.2997634979201935,
          1.2908673365061676,
          1.2926848334001193
         ],
         "yaxis": "y2"
        },
        {
         "hovertemplate": "Scenario=Increased Water Productivity<br>Climate=Historical Trend<br>Year=%{x}<br>value=%{y}<extra></extra>",
         "legendgroup": "Increased Water Productivity",
         "line": {
          "color": "#F58518",
          "dash": "solid"
         },
         "mode": "lines",
         "name": "Increased Water Productivity",
         "orientation": "v",
         "showlegend": true,
         "type": "scatter",
         "x": [
          2020,
          2021,
          2022,
          2023,
          2024,
          2025,
          2026,
          2027,
          2028,
          2029,
          2030,
          2031,
          2032,
          2033,
          2034,
          2035,
          2036,
          2037,
          2038,
          2039,
          2040,
          2041,
          2042,
          2043,
          2044,
          2045,
          2046,
          2047,
          2048,
          2049,
          2050
         ],
         "xaxis": "x",
         "y": [
          1.7670190211855235,
          1.726606594030311,
          1.752824391900539,
          1.8029484912310807,
          1.7121592923886906,
          1.7139076267274607,
          1.7136607913072492,
          1.7398075582570516,
          1.662915791670873,
          1.7241618278542379,
          1.6583880172857846,
          1.6440897339514444,
          1.684539465292738,
          1.6552870865869551,
          1.5930314058923456,
          1.570734780567908,
          1.5901837493909057,
          1.6493074474903053,
          1.6613112125449645,
          1.5497483454113872,
          1.5355031555247873,
          1.5176424373527715,
          1.513471249941962,
          1.4617649779150794,
          1.4715750487525565,
          1.471847784067365,
          1.456806557621953,
          1.4684197432473751,
          1.4402293472219252,
          1.4399577261939867,
          1.4497410840708487
         ],
         "yaxis": "y"
        },
        {
         "hovertemplate": "Scenario=Increased Water Productivity<br>Climate=Climate Change<br>Year=%{x}<br>value=%{y}<extra></extra>",
         "legendgroup": "Increased Water Productivity",
         "line": {
          "color": "#F58518",
          "dash": "solid"
         },
         "mode": "lines",
         "name": "Increased Water Productivity",
         "orientation": "v",
         "showlegend": false,
         "type": "scatter",
         "x": [
          2020,
          2021,
          2022,
          2023,
          2024,
          2025,
          2026,
          2027,
          2028,
          2029,
          2030,
          2031,
          2032,
          2033,
          2034,
          2035,
          2036,
          2037,
          2038,
          2039,
          2040,
          2041,
          2042,
          2043,
          2044,
          2045,
          2046,
          2047,
          2048,
          2049,
          2050
         ],
         "xaxis": "x2",
         "y": [
          1.7647643759669827,
          1.7048001765018346,
          1.7440222923633215,
          1.7876198952908535,
          1.693799528569353,
          1.6936710499311176,
          1.6901650077246946,
          1.7105077892749043,
          1.6284917979391114,
          1.7020120465312818,
          1.622655393196707,
          1.6146133438433339,
          1.6436917499031607,
          1.614151995933445,
          1.5417876178769734,
          1.5275883054410444,
          1.5343958904877422,
          1.6036563078377934,
          1.5990526800488343,
          1.5020575850273974,
          1.4664420755153587,
          1.4490938006014271,
          1.4640795861437015,
          1.414292489701445,
          1.401185880076783,
          1.4054316670257192,
          1.3826564319287336,
          1.413360877361478,
          1.3693564835674932,
          1.3832717704023498,
          1.3750528986034387
         ],
         "yaxis": "y2"
        },
        {
         "hovertemplate": "Scenario=New Resources<br>Climate=Historical Trend<br>Year=%{x}<br>value=%{y}<extra></extra>",
         "legendgroup": "New Resources",
         "line": {
          "color": "#E45756",
          "dash": "solid"
         },
         "mode": "lines",
         "name": "New Resources",
         "orientation": "v",
         "showlegend": true,
         "type": "scatter",
         "x": [
          2020,
          2021,
          2022,
          2023,
          2024,
          2025,
          2026,
          2027,
          2028,
          2029,
          2030,
          2031,
          2032,
          2033,
          2034,
          2035,
          2036,
          2037,
          2038,
          2039,
          2040,
          2041,
          2042,
          2043,
          2044,
          2045,
          2046,
          2047,
          2048,
          2049,
          2050
         ],
         "xaxis": "x",
         "y": [
          1.750327419669304,
          1.7002410364183298,
          1.719558499117206,
          1.7674283547236747,
          1.66916811545608,
          1.6525653871039943,
          1.6528684404460792,
          1.6618600967173034,
          1.585808731924012,
          1.6313898418055939,
          1.5650985342130428,
          1.5413351614515831,
          1.574427917875636,
          1.5452458474175812,
          1.4789204284287591,
          1.4550640316845884,
          1.4616141108597107,
          1.5216234258422126,
          1.5216834039986635,
          1.4193297488251593,
          1.3984560261806447,
          1.3842511035889713,
          1.3777887455693563,
          1.3318041665402205,
          1.3322839542878362,
          1.332819753739203,
          1.3165932956840305,
          1.3320531871622698,
          1.3018149777610664,
          1.303120327954924,
          1.3073691706791144
         ],
         "yaxis": "y"
        },
        {
         "hovertemplate": "Scenario=New Resources<br>Climate=Climate Change<br>Year=%{x}<br>value=%{y}<extra></extra>",
         "legendgroup": "New Resources",
         "line": {
          "color": "#E45756",
          "dash": "solid"
         },
         "mode": "lines",
         "name": "New Resources",
         "orientation": "v",
         "showlegend": false,
         "type": "scatter",
         "x": [
          2020,
          2021,
          2022,
          2023,
          2024,
          2025,
          2026,
          2027,
          2028,
          2029,
          2030,
          2031,
          2032,
          2033,
          2034,
          2035,
          2036,
          2037,
          2038,
          2039,
          2040,
          2041,
          2042,
          2043,
          2044,
          2045,
          2046,
          2047,
          2048,
          2049,
          2050
         ],
         "xaxis": "x2",
         "y": [
          1.7480760757964964,
          1.6806696090789208,
          1.7133886362630897,
          1.7507111358327683,
          1.6496500381897372,
          1.6291579877045868,
          1.6283649069706605,
          1.6369867708025816,
          1.5631060229833813,
          1.5941770461821505,
          1.5321304055288056,
          1.5129643900128513,
          1.5415192266859736,
          1.4980094457454596,
          1.4371050228221673,
          1.4076516521310225,
          1.4121877257977056,
          1.4760658011866807,
          1.4611101910174533,
          1.371446554245582,
          1.3368968141349287,
          1.3217799639798753,
          1.329613072651653,
          1.2852258710115396,
          1.2758772653236992,
          1.2754289478388463,
          1.2514451190688964,
          1.2665887273300374,
          1.249496002017547,
          1.238674283543939,
          1.2391417727992098
         ],
         "yaxis": "y2"
        },
        {
         "hovertemplate": "Scenario=Reduce NRW to 20 percent<br>Climate=Historical Trend<br>Year=%{x}<br>value=%{y}<extra></extra>",
         "legendgroup": "Reduce NRW to 20 percent",
         "line": {
          "color": "#72B7B2",
          "dash": "solid"
         },
         "mode": "lines",
         "name": "Reduce NRW to 20 percent",
         "orientation": "v",
         "showlegend": true,
         "type": "scatter",
         "x": [
          2020,
          2021,
          2022,
          2023,
          2024,
          2025,
          2026,
          2027,
          2028,
          2029,
          2030,
          2031,
          2032,
          2033,
          2034,
          2035,
          2036,
          2037,
          2038,
          2039,
          2040,
          2041,
          2042,
          2043,
          2044,
          2045,
          2046,
          2047,
          2048,
          2049,
          2050
         ],
         "xaxis": "x",
         "y": [
          1.773471008193936,
          1.7255771901367112,
          1.7508602704806906,
          1.8059622416296348,
          1.7058830726686154,
          1.7050663489130469,
          1.709752937362544,
          1.7281831684161064,
          1.650783536507038,
          1.712220059312759,
          1.643297215727331,
          1.6306227385505807,
          1.6639583307756658,
          1.6433915687347758,
          1.5707315044211771,
          1.5468789225890258,
          1.5694959440223213,
          1.6335100521453643,
          1.64446792216334,
          1.5271709377087312,
          1.510411820099973,
          1.493181525483799,
          1.4906058907521744,
          1.4433471185554658,
          1.447747719393238,
          1.4542489148677107,
          1.4213133297924203,
          1.4558466754948083,
          1.4280976162417605,
          1.4207714615600058,
          1.438809002049005
         ],
         "yaxis": "y"
        },
        {
         "hovertemplate": "Scenario=Reduce NRW to 20 percent<br>Climate=Climate Change<br>Year=%{x}<br>value=%{y}<extra></extra>",
         "legendgroup": "Reduce NRW to 20 percent",
         "line": {
          "color": "#72B7B2",
          "dash": "solid"
         },
         "mode": "lines",
         "name": "Reduce NRW to 20 percent",
         "orientation": "v",
         "showlegend": false,
         "type": "scatter",
         "x": [
          2020,
          2021,
          2022,
          2023,
          2024,
          2025,
          2026,
          2027,
          2028,
          2029,
          2030,
          2031,
          2032,
          2033,
          2034,
          2035,
          2036,
          2037,
          2038,
          2039,
          2040,
          2041,
          2042,
          2043,
          2044,
          2045,
          2046,
          2047,
          2048,
          2049,
          2050
         ],
         "xaxis": "x2",
         "y": [
          1.7708098425102567,
          1.7053164238467962,
          1.7430699891756245,
          1.786192083446248,
          1.680256173697282,
          1.6873062797260279,
          1.6871973413321522,
          1.6980594439831214,
          1.6294248952636623,
          1.6729132124769814,
          1.611153418665496,
          1.58783410211248,
          1.627658116460982,
          1.5954902455607032,
          1.5219296644989604,
          1.4985442284198045,
          1.508845615412673,
          1.580344287237963,
          1.57030453684925,
          1.4699349201354792,
          1.4388288433202288,
          1.4248147280224992,
          1.4382512741960192,
          1.3823694397414936,
          1.3746847302216187,
          1.3836336162967418,
          1.353404491387958,
          1.3819460504764838,
          1.358348008733833,
          1.3505200949114862,
          1.3576394869477866
         ],
         "yaxis": "y2"
        }
       ],
       "layout": {
        "annotations": [
         {
          "font": {},
          "showarrow": false,
          "text": "Historical Trend",
          "x": 0.235,
          "xanchor": "center",
          "xref": "paper",
          "y": 1,
          "yanchor": "bottom",
          "yref": "paper"
         },
         {
          "font": {},
          "showarrow": false,
          "text": "Climate Change",
          "x": 0.765,
          "xanchor": "center",
          "xref": "paper",
          "y": 1,
          "yanchor": "bottom",
          "yref": "paper"
         }
        ],
        "autosize": true,
        "font": {
         "color": "#7f7f7f",
         "size": 18
        },
        "height": 500,
        "hoverlabel": {
         "align": "left"
        },
        "hovermode": "closest",
        "legend": {
         "font": {
          "size": 16
         },
         "orientation": "h",
         "title": {
          "text": ""
         },
         "tracegroupgap": 0
        },
        "margin": {
         "b": 0,
         "l": 0,
         "r": 0,
         "t": 50
        },
        "paper_bgcolor": "#fff",
        "plot_bgcolor": "#fff",
        "showlegend": true,
        "template": {
         "data": {
          "bar": [
           {
            "error_x": {
             "color": "#2a3f5f"
            },
            "error_y": {
             "color": "#2a3f5f"
            },
            "marker": {
             "line": {
              "color": "white",
              "width": 0.5
             }
            },
            "type": "bar"
           }
          ],
          "barpolar": [
           {
            "marker": {
             "line": {
              "color": "white",
              "width": 0.5
             }
            },
            "type": "barpolar"
           }
          ],
          "carpet": [
           {
            "aaxis": {
             "endlinecolor": "#2a3f5f",
             "gridcolor": "#C8D4E3",
             "linecolor": "#C8D4E3",
             "minorgridcolor": "#C8D4E3",
             "startlinecolor": "#2a3f5f"
            },
            "baxis": {
             "endlinecolor": "#2a3f5f",
             "gridcolor": "#C8D4E3",
             "linecolor": "#C8D4E3",
             "minorgridcolor": "#C8D4E3",
             "startlinecolor": "#2a3f5f"
            },
            "type": "carpet"
           }
          ],
          "choropleth": [
           {
            "colorbar": {
             "outlinewidth": 0,
             "ticks": ""
            },
            "type": "choropleth"
           }
          ],
          "contour": [
           {
            "colorbar": {
             "outlinewidth": 0,
             "ticks": ""
            },
            "colorscale": [
             [
              0,
              "#0d0887"
             ],
             [
              0.1111111111111111,
              "#46039f"
             ],
             [
              0.2222222222222222,
              "#7201a8"
             ],
             [
              0.3333333333333333,
              "#9c179e"
             ],
             [
              0.4444444444444444,
              "#bd3786"
             ],
             [
              0.5555555555555556,
              "#d8576b"
             ],
             [
              0.6666666666666666,
              "#ed7953"
             ],
             [
              0.7777777777777778,
              "#fb9f3a"
             ],
             [
              0.8888888888888888,
              "#fdca26"
             ],
             [
              1,
              "#f0f921"
             ]
            ],
            "type": "contour"
           }
          ],
          "contourcarpet": [
           {
            "colorbar": {
             "outlinewidth": 0,
             "ticks": ""
            },
            "type": "contourcarpet"
           }
          ],
          "heatmap": [
           {
            "colorbar": {
             "outlinewidth": 0,
             "ticks": ""
            },
            "colorscale": [
             [
              0,
              "#0d0887"
             ],
             [
              0.1111111111111111,
              "#46039f"
             ],
             [
              0.2222222222222222,
              "#7201a8"
             ],
             [
              0.3333333333333333,
              "#9c179e"
             ],
             [
              0.4444444444444444,
              "#bd3786"
             ],
             [
              0.5555555555555556,
              "#d8576b"
             ],
             [
              0.6666666666666666,
              "#ed7953"
             ],
             [
              0.7777777777777778,
              "#fb9f3a"
             ],
             [
              0.8888888888888888,
              "#fdca26"
             ],
             [
              1,
              "#f0f921"
             ]
            ],
            "type": "heatmap"
           }
          ],
          "heatmapgl": [
           {
            "colorbar": {
             "outlinewidth": 0,
             "ticks": ""
            },
            "colorscale": [
             [
              0,
              "#0d0887"
             ],
             [
              0.1111111111111111,
              "#46039f"
             ],
             [
              0.2222222222222222,
              "#7201a8"
             ],
             [
              0.3333333333333333,
              "#9c179e"
             ],
             [
              0.4444444444444444,
              "#bd3786"
             ],
             [
              0.5555555555555556,
              "#d8576b"
             ],
             [
              0.6666666666666666,
              "#ed7953"
             ],
             [
              0.7777777777777778,
              "#fb9f3a"
             ],
             [
              0.8888888888888888,
              "#fdca26"
             ],
             [
              1,
              "#f0f921"
             ]
            ],
            "type": "heatmapgl"
           }
          ],
          "histogram": [
           {
            "marker": {
             "colorbar": {
              "outlinewidth": 0,
              "ticks": ""
             }
            },
            "type": "histogram"
           }
          ],
          "histogram2d": [
           {
            "colorbar": {
             "outlinewidth": 0,
             "ticks": ""
            },
            "colorscale": [
             [
              0,
              "#0d0887"
             ],
             [
              0.1111111111111111,
              "#46039f"
             ],
             [
              0.2222222222222222,
              "#7201a8"
             ],
             [
              0.3333333333333333,
              "#9c179e"
             ],
             [
              0.4444444444444444,
              "#bd3786"
             ],
             [
              0.5555555555555556,
              "#d8576b"
             ],
             [
              0.6666666666666666,
              "#ed7953"
             ],
             [
              0.7777777777777778,
              "#fb9f3a"
             ],
             [
              0.8888888888888888,
              "#fdca26"
             ],
             [
              1,
              "#f0f921"
             ]
            ],
            "type": "histogram2d"
           }
          ],
          "histogram2dcontour": [
           {
            "colorbar": {
             "outlinewidth": 0,
             "ticks": ""
            },
            "colorscale": [
             [
              0,
              "#0d0887"
             ],
             [
              0.1111111111111111,
              "#46039f"
             ],
             [
              0.2222222222222222,
              "#7201a8"
             ],
             [
              0.3333333333333333,
              "#9c179e"
             ],
             [
              0.4444444444444444,
              "#bd3786"
             ],
             [
              0.5555555555555556,
              "#d8576b"
             ],
             [
              0.6666666666666666,
              "#ed7953"
             ],
             [
              0.7777777777777778,
              "#fb9f3a"
             ],
             [
              0.8888888888888888,
              "#fdca26"
             ],
             [
              1,
              "#f0f921"
             ]
            ],
            "type": "histogram2dcontour"
           }
          ],
          "mesh3d": [
           {
            "colorbar": {
             "outlinewidth": 0,
             "ticks": ""
            },
            "type": "mesh3d"
           }
          ],
          "parcoords": [
           {
            "line": {
             "colorbar": {
              "outlinewidth": 0,
              "ticks": ""
             }
            },
            "type": "parcoords"
           }
          ],
          "pie": [
           {
            "automargin": true,
            "type": "pie"
           }
          ],
          "scatter": [
           {
            "marker": {
             "colorbar": {
              "outlinewidth": 0,
              "ticks": ""
             }
            },
            "type": "scatter"
           }
          ],
          "scatter3d": [
           {
            "line": {
             "colorbar": {
              "outlinewidth": 0,
              "ticks": ""
             }
            },
            "marker": {
             "colorbar": {
              "outlinewidth": 0,
              "ticks": ""
             }
            },
            "type": "scatter3d"
           }
          ],
          "scattercarpet": [
           {
            "marker": {
             "colorbar": {
              "outlinewidth": 0,
              "ticks": ""
             }
            },
            "type": "scattercarpet"
           }
          ],
          "scattergeo": [
           {
            "marker": {
             "colorbar": {
              "outlinewidth": 0,
              "ticks": ""
             }
            },
            "type": "scattergeo"
           }
          ],
          "scattergl": [
           {
            "marker": {
             "colorbar": {
              "outlinewidth": 0,
              "ticks": ""
             }
            },
            "type": "scattergl"
           }
          ],
          "scattermapbox": [
           {
            "marker": {
             "colorbar": {
              "outlinewidth": 0,
              "ticks": ""
             }
            },
            "type": "scattermapbox"
           }
          ],
          "scatterpolar": [
           {
            "marker": {
             "colorbar": {
              "outlinewidth": 0,
              "ticks": ""
             }
            },
            "type": "scatterpolar"
           }
          ],
          "scatterpolargl": [
           {
            "marker": {
             "colorbar": {
              "outlinewidth": 0,
              "ticks": ""
             }
            },
            "type": "scatterpolargl"
           }
          ],
          "scatterternary": [
           {
            "marker": {
             "colorbar": {
              "outlinewidth": 0,
              "ticks": ""
             }
            },
            "type": "scatterternary"
           }
          ],
          "surface": [
           {
            "colorbar": {
             "outlinewidth": 0,
             "ticks": ""
            },
            "colorscale": [
             [
              0,
              "#0d0887"
             ],
             [
              0.1111111111111111,
              "#46039f"
             ],
             [
              0.2222222222222222,
              "#7201a8"
             ],
             [
              0.3333333333333333,
              "#9c179e"
             ],
             [
              0.4444444444444444,
              "#bd3786"
             ],
             [
              0.5555555555555556,
              "#d8576b"
             ],
             [
              0.6666666666666666,
              "#ed7953"
             ],
             [
              0.7777777777777778,
              "#fb9f3a"
             ],
             [
              0.8888888888888888,
              "#fdca26"
             ],
             [
              1,
              "#f0f921"
             ]
            ],
            "type": "surface"
           }
          ],
          "table": [
           {
            "cells": {
             "fill": {
              "color": "#EBF0F8"
             },
             "line": {
              "color": "white"
             }
            },
            "header": {
             "fill": {
              "color": "#C8D4E3"
             },
             "line": {
              "color": "white"
             }
            },
            "type": "table"
           }
          ]
         },
         "layout": {
          "annotationdefaults": {
           "arrowcolor": "#2a3f5f",
           "arrowhead": 0,
           "arrowwidth": 1
          },
          "coloraxis": {
           "colorbar": {
            "outlinewidth": 0,
            "ticks": ""
           }
          },
          "colorscale": {
           "diverging": [
            [
             0,
             "#8e0152"
            ],
            [
             0.1,
             "#c51b7d"
            ],
            [
             0.2,
             "#de77ae"
            ],
            [
             0.3,
             "#f1b6da"
            ],
            [
             0.4,
             "#fde0ef"
            ],
            [
             0.5,
             "#f7f7f7"
            ],
            [
             0.6,
             "#e6f5d0"
            ],
            [
             0.7,
             "#b8e186"
            ],
            [
             0.8,
             "#7fbc41"
            ],
            [
             0.9,
             "#4d9221"
            ],
            [
             1,
             "#276419"
            ]
           ],
           "sequential": [
            [
             0,
             "#0d0887"
            ],
            [
             0.1111111111111111,
             "#46039f"
            ],
            [
             0.2222222222222222,
             "#7201a8"
            ],
            [
             0.3333333333333333,
             "#9c179e"
            ],
            [
             0.4444444444444444,
             "#bd3786"
            ],
            [
             0.5555555555555556,
             "#d8576b"
            ],
            [
             0.6666666666666666,
             "#ed7953"
            ],
            [
             0.7777777777777778,
             "#fb9f3a"
            ],
            [
             0.8888888888888888,
             "#fdca26"
            ],
            [
             1,
             "#f0f921"
            ]
           ],
           "sequentialminus": [
            [
             0,
             "#0d0887"
            ],
            [
             0.1111111111111111,
             "#46039f"
            ],
            [
             0.2222222222222222,
             "#7201a8"
            ],
            [
             0.3333333333333333,
             "#9c179e"
            ],
            [
             0.4444444444444444,
             "#bd3786"
            ],
            [
             0.5555555555555556,
             "#d8576b"
            ],
            [
             0.6666666666666666,
             "#ed7953"
            ],
            [
             0.7777777777777778,
             "#fb9f3a"
            ],
            [
             0.8888888888888888,
             "#fdca26"
            ],
            [
             1,
             "#f0f921"
            ]
           ]
          },
          "colorway": [
           "#636efa",
           "#EF553B",
           "#00cc96",
           "#ab63fa",
           "#FFA15A",
           "#19d3f3",
           "#FF6692",
           "#B6E880",
           "#FF97FF",
           "#FECB52"
          ],
          "font": {
           "color": "#2a3f5f"
          },
          "geo": {
           "bgcolor": "white",
           "lakecolor": "white",
           "landcolor": "white",
           "showlakes": true,
           "showland": true,
           "subunitcolor": "#C8D4E3"
          },
          "hoverlabel": {
           "align": "left"
          },
          "hovermode": "closest",
          "mapbox": {
           "style": "light"
          },
          "paper_bgcolor": "white",
          "plot_bgcolor": "white",
          "polar": {
           "angularaxis": {
            "gridcolor": "#EBF0F8",
            "linecolor": "#EBF0F8",
            "ticks": ""
           },
           "bgcolor": "white",
           "radialaxis": {
            "gridcolor": "#EBF0F8",
            "linecolor": "#EBF0F8",
            "ticks": ""
           }
          },
          "scene": {
           "xaxis": {
            "backgroundcolor": "white",
            "gridcolor": "#DFE8F3",
            "gridwidth": 2,
            "linecolor": "#EBF0F8",
            "showbackground": true,
            "ticks": "",
            "zerolinecolor": "#EBF0F8"
           },
           "yaxis": {
            "backgroundcolor": "white",
            "gridcolor": "#DFE8F3",
            "gridwidth": 2,
            "linecolor": "#EBF0F8",
            "showbackground": true,
            "ticks": "",
            "zerolinecolor": "#EBF0F8"
           },
           "zaxis": {
            "backgroundcolor": "white",
            "gridcolor": "#DFE8F3",
            "gridwidth": 2,
            "linecolor": "#EBF0F8",
            "showbackground": true,
            "ticks": "",
            "zerolinecolor": "#EBF0F8"
           }
          },
          "shapedefaults": {
           "line": {
            "color": "#2a3f5f"
           }
          },
          "ternary": {
           "aaxis": {
            "gridcolor": "#DFE8F3",
            "linecolor": "#A2B1C6",
            "ticks": ""
           },
           "baxis": {
            "gridcolor": "#DFE8F3",
            "linecolor": "#A2B1C6",
            "ticks": ""
           },
           "bgcolor": "white",
           "caxis": {
            "gridcolor": "#DFE8F3",
            "linecolor": "#A2B1C6",
            "ticks": ""
           }
          },
          "title": {
           "x": 0.05
          },
          "xaxis": {
           "automargin": true,
           "gridcolor": "#EBF0F8",
           "linecolor": "#EBF0F8",
           "ticks": "",
           "title": {
            "standoff": 15
           },
           "zerolinecolor": "#EBF0F8",
           "zerolinewidth": 2
          },
          "yaxis": {
           "automargin": true,
           "gridcolor": "#EBF0F8",
           "linecolor": "#EBF0F8",
           "ticks": "",
           "title": {
            "standoff": 15
           },
           "zerolinecolor": "#EBF0F8",
           "zerolinewidth": 2
          }
         }
        },
        "xaxis": {
         "anchor": "y",
         "domain": [
          0,
          0.47
         ],
         "title": {
          "text": ""
         }
        },
        "xaxis2": {
         "anchor": "y2",
         "domain": [
          0.53,
          1
         ],
         "matches": "x",
         "title": {
          "text": ""
         }
        },
        "yaxis": {
         "anchor": "x",
         "domain": [
          0,
          1
         ],
         "title": {
          "text": "Crop per drop (kg/m<sup>3</sup>)"
         }
        },
        "yaxis2": {
         "anchor": "x2",
         "domain": [
          0,
          1
         ],
         "matches": "y",
         "showticklabels": false
        }
       }
      },
      "text/html": [
       "<div>                            <div id=\"367d5d70-3fd5-4bf2-8e56-91bab488506b\" class=\"plotly-graph-div\" style=\"height:500px; width:100%;\"></div>            <script type=\"text/javascript\">                require([\"plotly\"], function(Plotly) {                    window.PLOTLYENV=window.PLOTLYENV || {};                                    if (document.getElementById(\"367d5d70-3fd5-4bf2-8e56-91bab488506b\")) {                    Plotly.newPlot(                        \"367d5d70-3fd5-4bf2-8e56-91bab488506b\",                        [{\"hovertemplate\": \"Scenario=Reference<br>Climate=Historical Trend<br>Year=%{x}<br>value=%{y}<extra></extra>\", \"legendgroup\": \"Reference\", \"line\": {\"color\": \"#4C78A8\", \"dash\": \"solid\"}, \"mode\": \"lines\", \"name\": \"Reference\", \"orientation\": \"v\", \"showlegend\": true, \"type\": \"scatter\", \"x\": [2020, 2021, 2022, 2023, 2024, 2025, 2026, 2027, 2028, 2029, 2030, 2031, 2032, 2033, 2034, 2035, 2036, 2037, 2038, 2039, 2040, 2041, 2042, 2043, 2044, 2045, 2046, 2047, 2048, 2049, 2050], \"xaxis\": \"x\", \"y\": [1.7593023910733305, 1.708882500446455, 1.7285296001119546, 1.7764250306411407, 1.677389384402318, 1.671602304204116, 1.674251523399682, 1.6848369807647492, 1.6121095961768308, 1.6650192007493632, 1.599727499230907, 1.5771907036024628, 1.6158281086912267, 1.5874247547574332, 1.5209502325204063, 1.4978036681344893, 1.5092195257473386, 1.5735679520639363, 1.5770833807092677, 1.4703694768095408, 1.4491384029240928, 1.4360363914924523, 1.429129859686588, 1.383166769633987, 1.386119738512911, 1.3867307979158163, 1.3704672998846392, 1.3886513477542575, 1.3577574684412164, 1.3593812502805507, 1.3634219875783256], \"yaxis\": \"y\"}, {\"hovertemplate\": \"Scenario=Reference<br>Climate=Climate Change<br>Year=%{x}<br>value=%{y}<extra></extra>\", \"legendgroup\": \"Reference\", \"line\": {\"color\": \"#4C78A8\", \"dash\": \"solid\"}, \"mode\": \"lines\", \"name\": \"Reference\", \"orientation\": \"v\", \"showlegend\": false, \"type\": \"scatter\", \"x\": [2020, 2021, 2022, 2023, 2024, 2025, 2026, 2027, 2028, 2029, 2030, 2031, 2032, 2033, 2034, 2035, 2036, 2037, 2038, 2039, 2040, 2041, 2042, 2043, 2044, 2045, 2046, 2047, 2048, 2049, 2050], \"xaxis\": \"x2\", \"y\": [1.757066935518282, 1.6889234720416677, 1.7222986131170919, 1.7592896473090938, 1.6577232504919686, 1.6476684469893905, 1.6494659744550713, 1.6595687505336918, 1.5788664663037912, 1.63847940818931, 1.5652942741080753, 1.5484528902188068, 1.5814029806738634, 1.5369371576848105, 1.4761239280715404, 1.448587108153406, 1.456832726216623, 1.5250548100634378, 1.5107562227368985, 1.4191376109030822, 1.3827650136051346, 1.3678759600522021, 1.3795415491812668, 1.3337161178393258, 1.3225148473663482, 1.3262662254499238, 1.3005112425754373, 1.318539943610604, 1.2997634979201935, 1.2908673365061676, 1.2926848334001193], \"yaxis\": \"y2\"}, {\"hovertemplate\": \"Scenario=Increased Water Productivity<br>Climate=Historical Trend<br>Year=%{x}<br>value=%{y}<extra></extra>\", \"legendgroup\": \"Increased Water Productivity\", \"line\": {\"color\": \"#F58518\", \"dash\": \"solid\"}, \"mode\": \"lines\", \"name\": \"Increased Water Productivity\", \"orientation\": \"v\", \"showlegend\": true, \"type\": \"scatter\", \"x\": [2020, 2021, 2022, 2023, 2024, 2025, 2026, 2027, 2028, 2029, 2030, 2031, 2032, 2033, 2034, 2035, 2036, 2037, 2038, 2039, 2040, 2041, 2042, 2043, 2044, 2045, 2046, 2047, 2048, 2049, 2050], \"xaxis\": \"x\", \"y\": [1.7670190211855235, 1.726606594030311, 1.752824391900539, 1.8029484912310807, 1.7121592923886906, 1.7139076267274607, 1.7136607913072492, 1.7398075582570516, 1.662915791670873, 1.7241618278542379, 1.6583880172857846, 1.6440897339514444, 1.684539465292738, 1.6552870865869551, 1.5930314058923456, 1.570734780567908, 1.5901837493909057, 1.6493074474903053, 1.6613112125449645, 1.5497483454113872, 1.5355031555247873, 1.5176424373527715, 1.513471249941962, 1.4617649779150794, 1.4715750487525565, 1.471847784067365, 1.456806557621953, 1.4684197432473751, 1.4402293472219252, 1.4399577261939867, 1.4497410840708487], \"yaxis\": \"y\"}, {\"hovertemplate\": \"Scenario=Increased Water Productivity<br>Climate=Climate Change<br>Year=%{x}<br>value=%{y}<extra></extra>\", \"legendgroup\": \"Increased Water Productivity\", \"line\": {\"color\": \"#F58518\", \"dash\": \"solid\"}, \"mode\": \"lines\", \"name\": \"Increased Water Productivity\", \"orientation\": \"v\", \"showlegend\": false, \"type\": \"scatter\", \"x\": [2020, 2021, 2022, 2023, 2024, 2025, 2026, 2027, 2028, 2029, 2030, 2031, 2032, 2033, 2034, 2035, 2036, 2037, 2038, 2039, 2040, 2041, 2042, 2043, 2044, 2045, 2046, 2047, 2048, 2049, 2050], \"xaxis\": \"x2\", \"y\": [1.7647643759669827, 1.7048001765018346, 1.7440222923633215, 1.7876198952908535, 1.693799528569353, 1.6936710499311176, 1.6901650077246946, 1.7105077892749043, 1.6284917979391114, 1.7020120465312818, 1.622655393196707, 1.6146133438433339, 1.6436917499031607, 1.614151995933445, 1.5417876178769734, 1.5275883054410444, 1.5343958904877422, 1.6036563078377934, 1.5990526800488343, 1.5020575850273974, 1.4664420755153587, 1.4490938006014271, 1.4640795861437015, 1.414292489701445, 1.401185880076783, 1.4054316670257192, 1.3826564319287336, 1.413360877361478, 1.3693564835674932, 1.3832717704023498, 1.3750528986034387], \"yaxis\": \"y2\"}, {\"hovertemplate\": \"Scenario=New Resources<br>Climate=Historical Trend<br>Year=%{x}<br>value=%{y}<extra></extra>\", \"legendgroup\": \"New Resources\", \"line\": {\"color\": \"#E45756\", \"dash\": \"solid\"}, \"mode\": \"lines\", \"name\": \"New Resources\", \"orientation\": \"v\", \"showlegend\": true, \"type\": \"scatter\", \"x\": [2020, 2021, 2022, 2023, 2024, 2025, 2026, 2027, 2028, 2029, 2030, 2031, 2032, 2033, 2034, 2035, 2036, 2037, 2038, 2039, 2040, 2041, 2042, 2043, 2044, 2045, 2046, 2047, 2048, 2049, 2050], \"xaxis\": \"x\", \"y\": [1.750327419669304, 1.7002410364183298, 1.719558499117206, 1.7674283547236747, 1.66916811545608, 1.6525653871039943, 1.6528684404460792, 1.6618600967173034, 1.585808731924012, 1.6313898418055939, 1.5650985342130428, 1.5413351614515831, 1.574427917875636, 1.5452458474175812, 1.4789204284287591, 1.4550640316845884, 1.4616141108597107, 1.5216234258422126, 1.5216834039986635, 1.4193297488251593, 1.3984560261806447, 1.3842511035889713, 1.3777887455693563, 1.3318041665402205, 1.3322839542878362, 1.332819753739203, 1.3165932956840305, 1.3320531871622698, 1.3018149777610664, 1.303120327954924, 1.3073691706791144], \"yaxis\": \"y\"}, {\"hovertemplate\": \"Scenario=New Resources<br>Climate=Climate Change<br>Year=%{x}<br>value=%{y}<extra></extra>\", \"legendgroup\": \"New Resources\", \"line\": {\"color\": \"#E45756\", \"dash\": \"solid\"}, \"mode\": \"lines\", \"name\": \"New Resources\", \"orientation\": \"v\", \"showlegend\": false, \"type\": \"scatter\", \"x\": [2020, 2021, 2022, 2023, 2024, 2025, 2026, 2027, 2028, 2029, 2030, 2031, 2032, 2033, 2034, 2035, 2036, 2037, 2038, 2039, 2040, 2041, 2042, 2043, 2044, 2045, 2046, 2047, 2048, 2049, 2050], \"xaxis\": \"x2\", \"y\": [1.7480760757964964, 1.6806696090789208, 1.7133886362630897, 1.7507111358327683, 1.6496500381897372, 1.6291579877045868, 1.6283649069706605, 1.6369867708025816, 1.5631060229833813, 1.5941770461821505, 1.5321304055288056, 1.5129643900128513, 1.5415192266859736, 1.4980094457454596, 1.4371050228221673, 1.4076516521310225, 1.4121877257977056, 1.4760658011866807, 1.4611101910174533, 1.371446554245582, 1.3368968141349287, 1.3217799639798753, 1.329613072651653, 1.2852258710115396, 1.2758772653236992, 1.2754289478388463, 1.2514451190688964, 1.2665887273300374, 1.249496002017547, 1.238674283543939, 1.2391417727992098], \"yaxis\": \"y2\"}, {\"hovertemplate\": \"Scenario=Reduce NRW to 20 percent<br>Climate=Historical Trend<br>Year=%{x}<br>value=%{y}<extra></extra>\", \"legendgroup\": \"Reduce NRW to 20 percent\", \"line\": {\"color\": \"#72B7B2\", \"dash\": \"solid\"}, \"mode\": \"lines\", \"name\": \"Reduce NRW to 20 percent\", \"orientation\": \"v\", \"showlegend\": true, \"type\": \"scatter\", \"x\": [2020, 2021, 2022, 2023, 2024, 2025, 2026, 2027, 2028, 2029, 2030, 2031, 2032, 2033, 2034, 2035, 2036, 2037, 2038, 2039, 2040, 2041, 2042, 2043, 2044, 2045, 2046, 2047, 2048, 2049, 2050], \"xaxis\": \"x\", \"y\": [1.773471008193936, 1.7255771901367112, 1.7508602704806906, 1.8059622416296348, 1.7058830726686154, 1.7050663489130469, 1.709752937362544, 1.7281831684161064, 1.650783536507038, 1.712220059312759, 1.643297215727331, 1.6306227385505807, 1.6639583307756658, 1.6433915687347758, 1.5707315044211771, 1.5468789225890258, 1.5694959440223213, 1.6335100521453643, 1.64446792216334, 1.5271709377087312, 1.510411820099973, 1.493181525483799, 1.4906058907521744, 1.4433471185554658, 1.447747719393238, 1.4542489148677107, 1.4213133297924203, 1.4558466754948083, 1.4280976162417605, 1.4207714615600058, 1.438809002049005], \"yaxis\": \"y\"}, {\"hovertemplate\": \"Scenario=Reduce NRW to 20 percent<br>Climate=Climate Change<br>Year=%{x}<br>value=%{y}<extra></extra>\", \"legendgroup\": \"Reduce NRW to 20 percent\", \"line\": {\"color\": \"#72B7B2\", \"dash\": \"solid\"}, \"mode\": \"lines\", \"name\": \"Reduce NRW to 20 percent\", \"orientation\": \"v\", \"showlegend\": false, \"type\": \"scatter\", \"x\": [2020, 2021, 2022, 2023, 2024, 2025, 2026, 2027, 2028, 2029, 2030, 2031, 2032, 2033, 2034, 2035, 2036, 2037, 2038, 2039, 2040, 2041, 2042, 2043, 2044, 2045, 2046, 2047, 2048, 2049, 2050], \"xaxis\": \"x2\", \"y\": [1.7708098425102567, 1.7053164238467962, 1.7430699891756245, 1.786192083446248, 1.680256173697282, 1.6873062797260279, 1.6871973413321522, 1.6980594439831214, 1.6294248952636623, 1.6729132124769814, 1.611153418665496, 1.58783410211248, 1.627658116460982, 1.5954902455607032, 1.5219296644989604, 1.4985442284198045, 1.508845615412673, 1.580344287237963, 1.57030453684925, 1.4699349201354792, 1.4388288433202288, 1.4248147280224992, 1.4382512741960192, 1.3823694397414936, 1.3746847302216187, 1.3836336162967418, 1.353404491387958, 1.3819460504764838, 1.358348008733833, 1.3505200949114862, 1.3576394869477866], \"yaxis\": \"y2\"}],                        {\"annotations\": [{\"font\": {}, \"showarrow\": false, \"text\": \"Historical Trend\", \"x\": 0.235, \"xanchor\": \"center\", \"xref\": \"paper\", \"y\": 1.0, \"yanchor\": \"bottom\", \"yref\": \"paper\"}, {\"font\": {}, \"showarrow\": false, \"text\": \"Climate Change\", \"x\": 0.765, \"xanchor\": \"center\", \"xref\": \"paper\", \"y\": 1.0, \"yanchor\": \"bottom\", \"yref\": \"paper\"}], \"autosize\": true, \"font\": {\"color\": \"#7f7f7f\", \"size\": 18}, \"height\": 500, \"hoverlabel\": {\"align\": \"left\"}, \"hovermode\": \"closest\", \"legend\": {\"font\": {\"size\": 16}, \"orientation\": \"h\", \"title\": {\"text\": \"\"}, \"tracegroupgap\": 0}, \"margin\": {\"b\": 0, \"l\": 0, \"r\": 0, \"t\": 50}, \"paper_bgcolor\": \"#fff\", \"plot_bgcolor\": \"#fff\", \"showlegend\": true, \"template\": {\"data\": {\"bar\": [{\"error_x\": {\"color\": \"#2a3f5f\"}, \"error_y\": {\"color\": \"#2a3f5f\"}, \"marker\": {\"line\": {\"color\": \"white\", \"width\": 0.5}}, \"type\": \"bar\"}], \"barpolar\": [{\"marker\": {\"line\": {\"color\": \"white\", \"width\": 0.5}}, \"type\": \"barpolar\"}], \"carpet\": [{\"aaxis\": {\"endlinecolor\": \"#2a3f5f\", \"gridcolor\": \"#C8D4E3\", \"linecolor\": \"#C8D4E3\", \"minorgridcolor\": \"#C8D4E3\", \"startlinecolor\": \"#2a3f5f\"}, \"baxis\": {\"endlinecolor\": \"#2a3f5f\", \"gridcolor\": \"#C8D4E3\", \"linecolor\": \"#C8D4E3\", \"minorgridcolor\": \"#C8D4E3\", \"startlinecolor\": \"#2a3f5f\"}, \"type\": \"carpet\"}], \"choropleth\": [{\"colorbar\": {\"outlinewidth\": 0, \"ticks\": \"\"}, \"type\": \"choropleth\"}], \"contour\": [{\"colorbar\": {\"outlinewidth\": 0, \"ticks\": \"\"}, \"colorscale\": [[0.0, \"#0d0887\"], [0.1111111111111111, \"#46039f\"], [0.2222222222222222, \"#7201a8\"], [0.3333333333333333, \"#9c179e\"], [0.4444444444444444, \"#bd3786\"], [0.5555555555555556, \"#d8576b\"], [0.6666666666666666, \"#ed7953\"], [0.7777777777777778, \"#fb9f3a\"], [0.8888888888888888, \"#fdca26\"], [1.0, \"#f0f921\"]], \"type\": \"contour\"}], \"contourcarpet\": [{\"colorbar\": {\"outlinewidth\": 0, \"ticks\": \"\"}, \"type\": \"contourcarpet\"}], \"heatmap\": [{\"colorbar\": {\"outlinewidth\": 0, \"ticks\": \"\"}, \"colorscale\": [[0.0, \"#0d0887\"], [0.1111111111111111, \"#46039f\"], [0.2222222222222222, \"#7201a8\"], [0.3333333333333333, \"#9c179e\"], [0.4444444444444444, \"#bd3786\"], [0.5555555555555556, \"#d8576b\"], [0.6666666666666666, \"#ed7953\"], [0.7777777777777778, \"#fb9f3a\"], [0.8888888888888888, \"#fdca26\"], [1.0, \"#f0f921\"]], \"type\": \"heatmap\"}], \"heatmapgl\": [{\"colorbar\": {\"outlinewidth\": 0, \"ticks\": \"\"}, \"colorscale\": [[0.0, \"#0d0887\"], [0.1111111111111111, \"#46039f\"], [0.2222222222222222, \"#7201a8\"], [0.3333333333333333, \"#9c179e\"], [0.4444444444444444, \"#bd3786\"], [0.5555555555555556, \"#d8576b\"], [0.6666666666666666, \"#ed7953\"], [0.7777777777777778, \"#fb9f3a\"], [0.8888888888888888, \"#fdca26\"], [1.0, \"#f0f921\"]], \"type\": \"heatmapgl\"}], \"histogram\": [{\"marker\": {\"colorbar\": {\"outlinewidth\": 0, \"ticks\": \"\"}}, \"type\": \"histogram\"}], \"histogram2d\": [{\"colorbar\": {\"outlinewidth\": 0, \"ticks\": \"\"}, \"colorscale\": [[0.0, \"#0d0887\"], [0.1111111111111111, \"#46039f\"], [0.2222222222222222, \"#7201a8\"], [0.3333333333333333, \"#9c179e\"], [0.4444444444444444, \"#bd3786\"], [0.5555555555555556, \"#d8576b\"], [0.6666666666666666, \"#ed7953\"], [0.7777777777777778, \"#fb9f3a\"], [0.8888888888888888, \"#fdca26\"], [1.0, \"#f0f921\"]], \"type\": \"histogram2d\"}], \"histogram2dcontour\": [{\"colorbar\": {\"outlinewidth\": 0, \"ticks\": \"\"}, \"colorscale\": [[0.0, \"#0d0887\"], [0.1111111111111111, \"#46039f\"], [0.2222222222222222, \"#7201a8\"], [0.3333333333333333, \"#9c179e\"], [0.4444444444444444, \"#bd3786\"], [0.5555555555555556, \"#d8576b\"], [0.6666666666666666, \"#ed7953\"], [0.7777777777777778, \"#fb9f3a\"], [0.8888888888888888, \"#fdca26\"], [1.0, \"#f0f921\"]], \"type\": \"histogram2dcontour\"}], \"mesh3d\": [{\"colorbar\": {\"outlinewidth\": 0, \"ticks\": \"\"}, \"type\": \"mesh3d\"}], \"parcoords\": [{\"line\": {\"colorbar\": {\"outlinewidth\": 0, \"ticks\": \"\"}}, \"type\": \"parcoords\"}], \"pie\": [{\"automargin\": true, \"type\": \"pie\"}], \"scatter\": [{\"marker\": {\"colorbar\": {\"outlinewidth\": 0, \"ticks\": \"\"}}, \"type\": \"scatter\"}], \"scatter3d\": [{\"line\": {\"colorbar\": {\"outlinewidth\": 0, \"ticks\": \"\"}}, \"marker\": {\"colorbar\": {\"outlinewidth\": 0, \"ticks\": \"\"}}, \"type\": \"scatter3d\"}], \"scattercarpet\": [{\"marker\": {\"colorbar\": {\"outlinewidth\": 0, \"ticks\": \"\"}}, \"type\": \"scattercarpet\"}], \"scattergeo\": [{\"marker\": {\"colorbar\": {\"outlinewidth\": 0, \"ticks\": \"\"}}, \"type\": \"scattergeo\"}], \"scattergl\": [{\"marker\": {\"colorbar\": {\"outlinewidth\": 0, \"ticks\": \"\"}}, \"type\": \"scattergl\"}], \"scattermapbox\": [{\"marker\": {\"colorbar\": {\"outlinewidth\": 0, \"ticks\": \"\"}}, \"type\": \"scattermapbox\"}], \"scatterpolar\": [{\"marker\": {\"colorbar\": {\"outlinewidth\": 0, \"ticks\": \"\"}}, \"type\": \"scatterpolar\"}], \"scatterpolargl\": [{\"marker\": {\"colorbar\": {\"outlinewidth\": 0, \"ticks\": \"\"}}, \"type\": \"scatterpolargl\"}], \"scatterternary\": [{\"marker\": {\"colorbar\": {\"outlinewidth\": 0, \"ticks\": \"\"}}, \"type\": \"scatterternary\"}], \"surface\": [{\"colorbar\": {\"outlinewidth\": 0, \"ticks\": \"\"}, \"colorscale\": [[0.0, \"#0d0887\"], [0.1111111111111111, \"#46039f\"], [0.2222222222222222, \"#7201a8\"], [0.3333333333333333, \"#9c179e\"], [0.4444444444444444, \"#bd3786\"], [0.5555555555555556, \"#d8576b\"], [0.6666666666666666, \"#ed7953\"], [0.7777777777777778, \"#fb9f3a\"], [0.8888888888888888, \"#fdca26\"], [1.0, \"#f0f921\"]], \"type\": \"surface\"}], \"table\": [{\"cells\": {\"fill\": {\"color\": \"#EBF0F8\"}, \"line\": {\"color\": \"white\"}}, \"header\": {\"fill\": {\"color\": \"#C8D4E3\"}, \"line\": {\"color\": \"white\"}}, \"type\": \"table\"}]}, \"layout\": {\"annotationdefaults\": {\"arrowcolor\": \"#2a3f5f\", \"arrowhead\": 0, \"arrowwidth\": 1}, \"coloraxis\": {\"colorbar\": {\"outlinewidth\": 0, \"ticks\": \"\"}}, \"colorscale\": {\"diverging\": [[0, \"#8e0152\"], [0.1, \"#c51b7d\"], [0.2, \"#de77ae\"], [0.3, \"#f1b6da\"], [0.4, \"#fde0ef\"], [0.5, \"#f7f7f7\"], [0.6, \"#e6f5d0\"], [0.7, \"#b8e186\"], [0.8, \"#7fbc41\"], [0.9, \"#4d9221\"], [1, \"#276419\"]], \"sequential\": [[0.0, \"#0d0887\"], [0.1111111111111111, \"#46039f\"], [0.2222222222222222, \"#7201a8\"], [0.3333333333333333, \"#9c179e\"], [0.4444444444444444, \"#bd3786\"], [0.5555555555555556, \"#d8576b\"], [0.6666666666666666, \"#ed7953\"], [0.7777777777777778, \"#fb9f3a\"], [0.8888888888888888, \"#fdca26\"], [1.0, \"#f0f921\"]], \"sequentialminus\": [[0.0, \"#0d0887\"], [0.1111111111111111, \"#46039f\"], [0.2222222222222222, \"#7201a8\"], [0.3333333333333333, \"#9c179e\"], [0.4444444444444444, \"#bd3786\"], [0.5555555555555556, \"#d8576b\"], [0.6666666666666666, \"#ed7953\"], [0.7777777777777778, \"#fb9f3a\"], [0.8888888888888888, \"#fdca26\"], [1.0, \"#f0f921\"]]}, \"colorway\": [\"#636efa\", \"#EF553B\", \"#00cc96\", \"#ab63fa\", \"#FFA15A\", \"#19d3f3\", \"#FF6692\", \"#B6E880\", \"#FF97FF\", \"#FECB52\"], \"font\": {\"color\": \"#2a3f5f\"}, \"geo\": {\"bgcolor\": \"white\", \"lakecolor\": \"white\", \"landcolor\": \"white\", \"showlakes\": true, \"showland\": true, \"subunitcolor\": \"#C8D4E3\"}, \"hoverlabel\": {\"align\": \"left\"}, \"hovermode\": \"closest\", \"mapbox\": {\"style\": \"light\"}, \"paper_bgcolor\": \"white\", \"plot_bgcolor\": \"white\", \"polar\": {\"angularaxis\": {\"gridcolor\": \"#EBF0F8\", \"linecolor\": \"#EBF0F8\", \"ticks\": \"\"}, \"bgcolor\": \"white\", \"radialaxis\": {\"gridcolor\": \"#EBF0F8\", \"linecolor\": \"#EBF0F8\", \"ticks\": \"\"}}, \"scene\": {\"xaxis\": {\"backgroundcolor\": \"white\", \"gridcolor\": \"#DFE8F3\", \"gridwidth\": 2, \"linecolor\": \"#EBF0F8\", \"showbackground\": true, \"ticks\": \"\", \"zerolinecolor\": \"#EBF0F8\"}, \"yaxis\": {\"backgroundcolor\": \"white\", \"gridcolor\": \"#DFE8F3\", \"gridwidth\": 2, \"linecolor\": \"#EBF0F8\", \"showbackground\": true, \"ticks\": \"\", \"zerolinecolor\": \"#EBF0F8\"}, \"zaxis\": {\"backgroundcolor\": \"white\", \"gridcolor\": \"#DFE8F3\", \"gridwidth\": 2, \"linecolor\": \"#EBF0F8\", \"showbackground\": true, \"ticks\": \"\", \"zerolinecolor\": \"#EBF0F8\"}}, \"shapedefaults\": {\"line\": {\"color\": \"#2a3f5f\"}}, \"ternary\": {\"aaxis\": {\"gridcolor\": \"#DFE8F3\", \"linecolor\": \"#A2B1C6\", \"ticks\": \"\"}, \"baxis\": {\"gridcolor\": \"#DFE8F3\", \"linecolor\": \"#A2B1C6\", \"ticks\": \"\"}, \"bgcolor\": \"white\", \"caxis\": {\"gridcolor\": \"#DFE8F3\", \"linecolor\": \"#A2B1C6\", \"ticks\": \"\"}}, \"title\": {\"x\": 0.05}, \"xaxis\": {\"automargin\": true, \"gridcolor\": \"#EBF0F8\", \"linecolor\": \"#EBF0F8\", \"ticks\": \"\", \"title\": {\"standoff\": 15}, \"zerolinecolor\": \"#EBF0F8\", \"zerolinewidth\": 2}, \"yaxis\": {\"automargin\": true, \"gridcolor\": \"#EBF0F8\", \"linecolor\": \"#EBF0F8\", \"ticks\": \"\", \"title\": {\"standoff\": 15}, \"zerolinecolor\": \"#EBF0F8\", \"zerolinewidth\": 2}}}, \"xaxis\": {\"anchor\": \"y\", \"domain\": [0.0, 0.47], \"title\": {\"text\": \"\"}}, \"xaxis2\": {\"anchor\": \"y2\", \"domain\": [0.53, 1.0], \"matches\": \"x\", \"title\": {\"text\": \"\"}}, \"yaxis\": {\"anchor\": \"x\", \"domain\": [0.0, 1.0], \"title\": {\"text\": \"Crop per drop (kg/m<sup>3</sup>)\"}}, \"yaxis2\": {\"anchor\": \"x2\", \"domain\": [0.0, 1.0], \"matches\": \"y\", \"showticklabels\": false}},                        {\"responsive\": true}                    ).then(function(){\n",
       "                            \n",
       "var gd = document.getElementById('367d5d70-3fd5-4bf2-8e56-91bab488506b');\n",
       "var x = new MutationObserver(function (mutations, observer) {{\n",
       "        var display = window.getComputedStyle(gd).display;\n",
       "        if (!display || display === 'none') {{\n",
       "            console.log([gd, 'removed!']);\n",
       "            Plotly.purge(gd);\n",
       "            observer.disconnect();\n",
       "        }}\n",
       "}});\n",
       "\n",
       "// Listen for the removal of the full notebook cells\n",
       "var notebookContainer = gd.closest('#notebook-container');\n",
       "if (notebookContainer) {{\n",
       "    x.observe(notebookContainer, {childList: true});\n",
       "}}\n",
       "\n",
       "// Listen for the clearing of the current output cell\n",
       "var outputEl = gd.closest('.output');\n",
       "if (outputEl) {{\n",
       "    x.observe(outputEl, {childList: true});\n",
       "}}\n",
       "\n",
       "                        })                };                });            </script>        </div>"
      ]
     },
     "metadata": {},
     "output_type": "display_data"
    }
   ],
   "source": [
    "dff_delivered = df_delivered.loc[df_delivered['type']=='Agriculture']\n",
    "dff_delivered = dff_delivered.groupby(['Scenario', 'Climate', 'Year']).agg({'value': lambda r: sum(r) / 1000000}).reset_index()\n",
    "dff_crop = df_crop.groupby(['Scenario', 'Climate', 'Year']).agg({'value': lambda r: sum(r) / 1000000}).reset_index()\n",
    "dff = dff_delivered[['Scenario', 'Climate', 'Year']]\n",
    "dff['value'] = dff_crop['value'] / dff_delivered['value']\n",
    "\n",
    "fig = px.line(dff, x='Year', y='value', color='Scenario', facet_col='Climate',\n",
    "              color_discrete_sequence=px.colors.qualitative.T10, \n",
    "              facet_col_spacing=0.06, labels=names, category_orders=category_orders)\n",
    "fig.update_layout(layout, yaxis_title_text='Crop per drop (kg/m<sup>3</sup>)')\n",
    "update_labels(fig)\n",
    "fig.show()\n",
    "fig.write_image(\"High level results/cropPerDrop.png\", scale=4, width=900, height=500)\n",
    "fig.write_html(\"High level results/cropPerDrop.html\", include_plotlyjs='cdn')"
   ]
  },
  {
   "cell_type": "code",
   "execution_count": 37,
   "metadata": {},
   "outputs": [
    {
     "data": {
      "application/vnd.plotly.v1+json": {
       "config": {
        "plotlyServerURL": "https://plot.ly"
       },
       "data": [
        {
         "hovertemplate": "Scenario=Reference<br>Climate=Historical Trend<br>Year=%{x}<br>value=%{y}<extra></extra>",
         "legendgroup": "Reference",
         "line": {
          "color": "#4C78A8",
          "dash": "solid"
         },
         "mode": "lines",
         "name": "Reference",
         "orientation": "v",
         "showlegend": true,
         "type": "scatter",
         "x": [
          2020,
          2021,
          2022,
          2023,
          2024,
          2025,
          2026,
          2027,
          2028,
          2029,
          2030,
          2031,
          2032,
          2033,
          2034,
          2035,
          2036,
          2037,
          2038,
          2039,
          2040,
          2041,
          2042,
          2043,
          2044,
          2045,
          2046,
          2047,
          2048,
          2049,
          2050
         ],
         "xaxis": "x",
         "y": [
          751.27231137176,
          946.03164439078,
          882.7171996894415,
          884.5734784185549,
          1025.5813970672775,
          1047.8525116896546,
          1086.9051570550473,
          1122.4632275513522,
          1205.251250741079,
          1194.09107390722,
          1210.1143916853773,
          1264.707181329024,
          1245.7651045127475,
          1291.611467818619,
          1339.5984124977906,
          1525.2098012735496,
          1538.1397299018413,
          1266.412140147458,
          1464.274451305413,
          1747.4207589347761,
          1787.066358776121,
          1911.026238971936,
          1951.6906860769748,
          2077.141098908686,
          2070.914521991659,
          2155.555882679604,
          2252.144220160463,
          2288.1596828969414,
          2424.250026428507,
          2439.8500760316265,
          2547.153750935925
         ],
         "yaxis": "y"
        },
        {
         "hovertemplate": "Scenario=Reference<br>Climate=Climate Change<br>Year=%{x}<br>value=%{y}<extra></extra>",
         "legendgroup": "Reference",
         "line": {
          "color": "#4C78A8",
          "dash": "solid"
         },
         "mode": "lines",
         "name": "Reference",
         "orientation": "v",
         "showlegend": false,
         "type": "scatter",
         "x": [
          2020,
          2021,
          2022,
          2023,
          2024,
          2025,
          2026,
          2027,
          2028,
          2029,
          2030,
          2031,
          2032,
          2033,
          2034,
          2035,
          2036,
          2037,
          2038,
          2039,
          2040,
          2041,
          2042,
          2043,
          2044,
          2045,
          2046,
          2047,
          2048,
          2049,
          2050
         ],
         "xaxis": "x2",
         "y": [
          758.7481708159885,
          959.7076614033044,
          877.2499839745949,
          909.7924108387462,
          1053.5268645825256,
          1095.4473127295687,
          1162.8103051203839,
          1179.025808051731,
          1291.7932962296754,
          1270.7378489414805,
          1302.6710488360475,
          1356.5354433887383,
          1354.6674362454728,
          1399.8545274536727,
          1454.7026426914713,
          1635.2128664956276,
          1673.4555971100585,
          1448.91670404477,
          1634.4353356227207,
          1899.20124952477,
          2005.7983089008933,
          2106.119239237972,
          2129.262363796797,
          2257.9453966673436,
          2388.2284036780147,
          2392.2940883678693,
          2534.9137947016234,
          2539.479551278716,
          2705.6511902837096,
          2678.830799702432,
          2832.46868394156
         ],
         "yaxis": "y2"
        },
        {
         "hovertemplate": "Scenario=Increased Water Productivity<br>Climate=Historical Trend<br>Year=%{x}<br>value=%{y}<extra></extra>",
         "legendgroup": "Increased Water Productivity",
         "line": {
          "color": "#F58518",
          "dash": "solid"
         },
         "mode": "lines",
         "name": "Increased Water Productivity",
         "orientation": "v",
         "showlegend": true,
         "type": "scatter",
         "x": [
          2020,
          2021,
          2022,
          2023,
          2024,
          2025,
          2026,
          2027,
          2028,
          2029,
          2030,
          2031,
          2032,
          2033,
          2034,
          2035,
          2036,
          2037,
          2038,
          2039,
          2040,
          2041,
          2042,
          2043,
          2044,
          2045,
          2046,
          2047,
          2048,
          2049,
          2050
         ],
         "xaxis": "x",
         "y": [
          735.7326101573005,
          904.9933661844159,
          819.5576656869052,
          831.347965554057,
          930.5744741822546,
          929.6391670821735,
          962.6425552968778,
          972.5790494479679,
          1030.1759661018637,
          1021.7857220073397,
          1010.0237408371037,
          1045.229453718866,
          1034.2147072972462,
          1052.1986052320094,
          1079.9005080929282,
          1188.4869400381276,
          1206.5002147282987,
          990.5643949347855,
          1149.6221227957008,
          1349.0583275567183,
          1383.5513322583217,
          1467.0029220691213,
          1504.061983897232,
          1566.7057170505261,
          1600.0960747302042,
          1655.799795238331,
          1723.5911582697968,
          1765.6670386488668,
          1864.189315871714,
          1904.2782076015242,
          1987.5419218206675
         ],
         "yaxis": "y"
        },
        {
         "hovertemplate": "Scenario=Increased Water Productivity<br>Climate=Climate Change<br>Year=%{x}<br>value=%{y}<extra></extra>",
         "legendgroup": "Increased Water Productivity",
         "line": {
          "color": "#F58518",
          "dash": "solid"
         },
         "mode": "lines",
         "name": "Increased Water Productivity",
         "orientation": "v",
         "showlegend": false,
         "type": "scatter",
         "x": [
          2020,
          2021,
          2022,
          2023,
          2024,
          2025,
          2026,
          2027,
          2028,
          2029,
          2030,
          2031,
          2032,
          2033,
          2034,
          2035,
          2036,
          2037,
          2038,
          2039,
          2040,
          2041,
          2042,
          2043,
          2044,
          2045,
          2046,
          2047,
          2048,
          2049,
          2050
         ],
         "xaxis": "x2",
         "y": [
          734.0269820736701,
          925.3549657373765,
          817.057638852486,
          836.8665385521232,
          957.718362159796,
          978.805653939479,
          1012.8486457659686,
          1021.4487070525211,
          1085.1859433280054,
          1066.6413327672717,
          1076.510833804412,
          1098.5761859067093,
          1093.8445140784916,
          1112.9752978779868,
          1130.1667322893668,
          1253.971897144766,
          1273.4849738838084,
          1067.0409700551127,
          1233.634819604807,
          1414.152889739506,
          1469.3039782879928,
          1544.8129804382852,
          1585.228275375267,
          1634.6759736954264,
          1720.2600063476552,
          1741.5082775834373,
          1826.2457401512652,
          1854.2851602816459,
          1958.0744256370808,
          1980.041791821755,
          2078.052445360375
         ],
         "yaxis": "y2"
        },
        {
         "hovertemplate": "Scenario=New Resources<br>Climate=Historical Trend<br>Year=%{x}<br>value=%{y}<extra></extra>",
         "legendgroup": "New Resources",
         "line": {
          "color": "#E45756",
          "dash": "solid"
         },
         "mode": "lines",
         "name": "New Resources",
         "orientation": "v",
         "showlegend": true,
         "type": "scatter",
         "x": [
          2020,
          2021,
          2022,
          2023,
          2024,
          2025,
          2026,
          2027,
          2028,
          2029,
          2030,
          2031,
          2032,
          2033,
          2034,
          2035,
          2036,
          2037,
          2038,
          2039,
          2040,
          2041,
          2042,
          2043,
          2044,
          2045,
          2046,
          2047,
          2048,
          2049,
          2050
         ],
         "xaxis": "x",
         "y": [
          722.2076944285476,
          931.4678027219363,
          819.0092741733862,
          813.55137806695,
          953.822144231852,
          1042.0062210196988,
          1056.2207287816184,
          1113.1989491869608,
          1188.5626219924247,
          1628.2529491653243,
          1635.9806990443872,
          1675.191585542135,
          1672.2145085087086,
          1695.3601587423955,
          1742.7028070274066,
          1916.9077541431402,
          1903.4400400519016,
          1655.253094399341,
          1823.46068898572,
          2050.5384129283175,
          2049.810623393841,
          2126.332494648498,
          2107.0392705127288,
          2235.987734711549,
          2195.294614605571,
          2254.201982338048,
          2309.260311328845,
          2296.3492782691555,
          2396.953125991124,
          2361.0608017725594,
          2423.669005805808
         ],
         "yaxis": "y"
        },
        {
         "hovertemplate": "Scenario=New Resources<br>Climate=Climate Change<br>Year=%{x}<br>value=%{y}<extra></extra>",
         "legendgroup": "New Resources",
         "line": {
          "color": "#E45756",
          "dash": "solid"
         },
         "mode": "lines",
         "name": "New Resources",
         "orientation": "v",
         "showlegend": false,
         "type": "scatter",
         "x": [
          2020,
          2021,
          2022,
          2023,
          2024,
          2025,
          2026,
          2027,
          2028,
          2029,
          2030,
          2031,
          2032,
          2033,
          2034,
          2035,
          2036,
          2037,
          2038,
          2039,
          2040,
          2041,
          2042,
          2043,
          2044,
          2045,
          2046,
          2047,
          2048,
          2049,
          2050
         ],
         "xaxis": "x2",
         "y": [
          717.8195277428591,
          914.5976209681664,
          797.5399299076682,
          815.7466926613329,
          965.0546318762822,
          1088.1307016892993,
          1144.2394559515399,
          1150.6461303036033,
          1266.6069472096183,
          1683.2852348987146,
          1743.0912679269709,
          1755.090803041544,
          1764.1726703555642,
          1808.4078168564254,
          1852.8779539426423,
          2014.1217606470645,
          2037.4978975134786,
          1846.9113870331148,
          1985.1985956753133,
          2207.704172254866,
          2264.31555477285,
          2320.84651565227,
          2326.993527421433,
          2400.4199528856875,
          2538.101308895751,
          2478.9633625850024,
          2590.3100591900256,
          2568.116886080401,
          2662.152667325203,
          2616.237212718105,
          2702.6753289335084
         ],
         "yaxis": "y2"
        },
        {
         "hovertemplate": "Scenario=Reduce NRW to 20 percent<br>Climate=Historical Trend<br>Year=%{x}<br>value=%{y}<extra></extra>",
         "legendgroup": "Reduce NRW to 20 percent",
         "line": {
          "color": "#72B7B2",
          "dash": "solid"
         },
         "mode": "lines",
         "name": "Reduce NRW to 20 percent",
         "orientation": "v",
         "showlegend": true,
         "type": "scatter",
         "x": [
          2020,
          2021,
          2022,
          2023,
          2024,
          2025,
          2026,
          2027,
          2028,
          2029,
          2030,
          2031,
          2032,
          2033,
          2034,
          2035,
          2036,
          2037,
          2038,
          2039,
          2040,
          2041,
          2042,
          2043,
          2044,
          2045,
          2046,
          2047,
          2048,
          2049,
          2050
         ],
         "xaxis": "x",
         "y": [
          733.3755809420804,
          929.6027412467982,
          851.0083332793195,
          846.8282426954529,
          989.3387756974435,
          1005.7743992919274,
          1016.8704087728416,
          1059.4752709829827,
          1136.1430286752225,
          1129.3914122822086,
          1113.788532298907,
          1184.8161690159745,
          1147.1070959247481,
          1167.034631385777,
          1222.7589792203657,
          1399.8877578821061,
          1406.8943412509275,
          1159.624857019973,
          1297.1583670798098,
          1587.822119581051,
          1646.3691258153794,
          1744.0263508841954,
          1783.6255125899438,
          1906.1691778648296,
          1900.8325353242117,
          1971.1261065811755,
          2047.3746830777623,
          2050.0764491369955,
          2180.971706046202,
          2165.05012603861,
          2261.3632967411095
         ],
         "yaxis": "y"
        },
        {
         "hovertemplate": "Scenario=Reduce NRW to 20 percent<br>Climate=Climate Change<br>Year=%{x}<br>value=%{y}<extra></extra>",
         "legendgroup": "Reduce NRW to 20 percent",
         "line": {
          "color": "#72B7B2",
          "dash": "solid"
         },
         "mode": "lines",
         "name": "Reduce NRW to 20 percent",
         "orientation": "v",
         "showlegend": false,
         "type": "scatter",
         "x": [
          2020,
          2021,
          2022,
          2023,
          2024,
          2025,
          2026,
          2027,
          2028,
          2029,
          2030,
          2031,
          2032,
          2033,
          2034,
          2035,
          2036,
          2037,
          2038,
          2039,
          2040,
          2041,
          2042,
          2043,
          2044,
          2045,
          2046,
          2047,
          2048,
          2049,
          2050
         ],
         "xaxis": "x2",
         "y": [
          744.404492855984,
          942.9268531138221,
          846.3547586360506,
          878.5251941236943,
          1013.1638581444009,
          1066.7382202572273,
          1097.6329367283183,
          1128.0278960686387,
          1229.955668920051,
          1198.7928278919235,
          1214.4176023155621,
          1287.5697703011801,
          1243.5279724558727,
          1272.5505991751565,
          1341.2119514875703,
          1506.611498290422,
          1542.2312184183702,
          1339.7010351830254,
          1481.6438258638198,
          1761.5108240187435,
          1852.8408757333173,
          1937.3523522720925,
          1975.4151742976069,
          2087.13998827845,
          2208.948605971247,
          2213.1382444023293,
          2337.7794318293686,
          2285.4790223680866,
          2453.0722080523838,
          2410.9838400674535,
          2562.768369349597
         ],
         "yaxis": "y2"
        }
       ],
       "layout": {
        "annotations": [
         {
          "font": {},
          "showarrow": false,
          "text": "Historical Trend",
          "x": 0.235,
          "xanchor": "center",
          "xref": "paper",
          "y": 1,
          "yanchor": "bottom",
          "yref": "paper"
         },
         {
          "font": {},
          "showarrow": false,
          "text": "Climate Change",
          "x": 0.765,
          "xanchor": "center",
          "xref": "paper",
          "y": 1,
          "yanchor": "bottom",
          "yref": "paper"
         }
        ],
        "autosize": true,
        "font": {
         "color": "#7f7f7f",
         "size": 18
        },
        "height": 500,
        "hoverlabel": {
         "align": "left"
        },
        "hovermode": "closest",
        "legend": {
         "font": {
          "size": 16
         },
         "orientation": "h",
         "title": {
          "text": ""
         },
         "tracegroupgap": 0
        },
        "margin": {
         "b": 0,
         "l": 0,
         "r": 0,
         "t": 50
        },
        "paper_bgcolor": "#fff",
        "plot_bgcolor": "#fff",
        "showlegend": true,
        "template": {
         "data": {
          "bar": [
           {
            "error_x": {
             "color": "#2a3f5f"
            },
            "error_y": {
             "color": "#2a3f5f"
            },
            "marker": {
             "line": {
              "color": "white",
              "width": 0.5
             }
            },
            "type": "bar"
           }
          ],
          "barpolar": [
           {
            "marker": {
             "line": {
              "color": "white",
              "width": 0.5
             }
            },
            "type": "barpolar"
           }
          ],
          "carpet": [
           {
            "aaxis": {
             "endlinecolor": "#2a3f5f",
             "gridcolor": "#C8D4E3",
             "linecolor": "#C8D4E3",
             "minorgridcolor": "#C8D4E3",
             "startlinecolor": "#2a3f5f"
            },
            "baxis": {
             "endlinecolor": "#2a3f5f",
             "gridcolor": "#C8D4E3",
             "linecolor": "#C8D4E3",
             "minorgridcolor": "#C8D4E3",
             "startlinecolor": "#2a3f5f"
            },
            "type": "carpet"
           }
          ],
          "choropleth": [
           {
            "colorbar": {
             "outlinewidth": 0,
             "ticks": ""
            },
            "type": "choropleth"
           }
          ],
          "contour": [
           {
            "colorbar": {
             "outlinewidth": 0,
             "ticks": ""
            },
            "colorscale": [
             [
              0,
              "#0d0887"
             ],
             [
              0.1111111111111111,
              "#46039f"
             ],
             [
              0.2222222222222222,
              "#7201a8"
             ],
             [
              0.3333333333333333,
              "#9c179e"
             ],
             [
              0.4444444444444444,
              "#bd3786"
             ],
             [
              0.5555555555555556,
              "#d8576b"
             ],
             [
              0.6666666666666666,
              "#ed7953"
             ],
             [
              0.7777777777777778,
              "#fb9f3a"
             ],
             [
              0.8888888888888888,
              "#fdca26"
             ],
             [
              1,
              "#f0f921"
             ]
            ],
            "type": "contour"
           }
          ],
          "contourcarpet": [
           {
            "colorbar": {
             "outlinewidth": 0,
             "ticks": ""
            },
            "type": "contourcarpet"
           }
          ],
          "heatmap": [
           {
            "colorbar": {
             "outlinewidth": 0,
             "ticks": ""
            },
            "colorscale": [
             [
              0,
              "#0d0887"
             ],
             [
              0.1111111111111111,
              "#46039f"
             ],
             [
              0.2222222222222222,
              "#7201a8"
             ],
             [
              0.3333333333333333,
              "#9c179e"
             ],
             [
              0.4444444444444444,
              "#bd3786"
             ],
             [
              0.5555555555555556,
              "#d8576b"
             ],
             [
              0.6666666666666666,
              "#ed7953"
             ],
             [
              0.7777777777777778,
              "#fb9f3a"
             ],
             [
              0.8888888888888888,
              "#fdca26"
             ],
             [
              1,
              "#f0f921"
             ]
            ],
            "type": "heatmap"
           }
          ],
          "heatmapgl": [
           {
            "colorbar": {
             "outlinewidth": 0,
             "ticks": ""
            },
            "colorscale": [
             [
              0,
              "#0d0887"
             ],
             [
              0.1111111111111111,
              "#46039f"
             ],
             [
              0.2222222222222222,
              "#7201a8"
             ],
             [
              0.3333333333333333,
              "#9c179e"
             ],
             [
              0.4444444444444444,
              "#bd3786"
             ],
             [
              0.5555555555555556,
              "#d8576b"
             ],
             [
              0.6666666666666666,
              "#ed7953"
             ],
             [
              0.7777777777777778,
              "#fb9f3a"
             ],
             [
              0.8888888888888888,
              "#fdca26"
             ],
             [
              1,
              "#f0f921"
             ]
            ],
            "type": "heatmapgl"
           }
          ],
          "histogram": [
           {
            "marker": {
             "colorbar": {
              "outlinewidth": 0,
              "ticks": ""
             }
            },
            "type": "histogram"
           }
          ],
          "histogram2d": [
           {
            "colorbar": {
             "outlinewidth": 0,
             "ticks": ""
            },
            "colorscale": [
             [
              0,
              "#0d0887"
             ],
             [
              0.1111111111111111,
              "#46039f"
             ],
             [
              0.2222222222222222,
              "#7201a8"
             ],
             [
              0.3333333333333333,
              "#9c179e"
             ],
             [
              0.4444444444444444,
              "#bd3786"
             ],
             [
              0.5555555555555556,
              "#d8576b"
             ],
             [
              0.6666666666666666,
              "#ed7953"
             ],
             [
              0.7777777777777778,
              "#fb9f3a"
             ],
             [
              0.8888888888888888,
              "#fdca26"
             ],
             [
              1,
              "#f0f921"
             ]
            ],
            "type": "histogram2d"
           }
          ],
          "histogram2dcontour": [
           {
            "colorbar": {
             "outlinewidth": 0,
             "ticks": ""
            },
            "colorscale": [
             [
              0,
              "#0d0887"
             ],
             [
              0.1111111111111111,
              "#46039f"
             ],
             [
              0.2222222222222222,
              "#7201a8"
             ],
             [
              0.3333333333333333,
              "#9c179e"
             ],
             [
              0.4444444444444444,
              "#bd3786"
             ],
             [
              0.5555555555555556,
              "#d8576b"
             ],
             [
              0.6666666666666666,
              "#ed7953"
             ],
             [
              0.7777777777777778,
              "#fb9f3a"
             ],
             [
              0.8888888888888888,
              "#fdca26"
             ],
             [
              1,
              "#f0f921"
             ]
            ],
            "type": "histogram2dcontour"
           }
          ],
          "mesh3d": [
           {
            "colorbar": {
             "outlinewidth": 0,
             "ticks": ""
            },
            "type": "mesh3d"
           }
          ],
          "parcoords": [
           {
            "line": {
             "colorbar": {
              "outlinewidth": 0,
              "ticks": ""
             }
            },
            "type": "parcoords"
           }
          ],
          "pie": [
           {
            "automargin": true,
            "type": "pie"
           }
          ],
          "scatter": [
           {
            "marker": {
             "colorbar": {
              "outlinewidth": 0,
              "ticks": ""
             }
            },
            "type": "scatter"
           }
          ],
          "scatter3d": [
           {
            "line": {
             "colorbar": {
              "outlinewidth": 0,
              "ticks": ""
             }
            },
            "marker": {
             "colorbar": {
              "outlinewidth": 0,
              "ticks": ""
             }
            },
            "type": "scatter3d"
           }
          ],
          "scattercarpet": [
           {
            "marker": {
             "colorbar": {
              "outlinewidth": 0,
              "ticks": ""
             }
            },
            "type": "scattercarpet"
           }
          ],
          "scattergeo": [
           {
            "marker": {
             "colorbar": {
              "outlinewidth": 0,
              "ticks": ""
             }
            },
            "type": "scattergeo"
           }
          ],
          "scattergl": [
           {
            "marker": {
             "colorbar": {
              "outlinewidth": 0,
              "ticks": ""
             }
            },
            "type": "scattergl"
           }
          ],
          "scattermapbox": [
           {
            "marker": {
             "colorbar": {
              "outlinewidth": 0,
              "ticks": ""
             }
            },
            "type": "scattermapbox"
           }
          ],
          "scatterpolar": [
           {
            "marker": {
             "colorbar": {
              "outlinewidth": 0,
              "ticks": ""
             }
            },
            "type": "scatterpolar"
           }
          ],
          "scatterpolargl": [
           {
            "marker": {
             "colorbar": {
              "outlinewidth": 0,
              "ticks": ""
             }
            },
            "type": "scatterpolargl"
           }
          ],
          "scatterternary": [
           {
            "marker": {
             "colorbar": {
              "outlinewidth": 0,
              "ticks": ""
             }
            },
            "type": "scatterternary"
           }
          ],
          "surface": [
           {
            "colorbar": {
             "outlinewidth": 0,
             "ticks": ""
            },
            "colorscale": [
             [
              0,
              "#0d0887"
             ],
             [
              0.1111111111111111,
              "#46039f"
             ],
             [
              0.2222222222222222,
              "#7201a8"
             ],
             [
              0.3333333333333333,
              "#9c179e"
             ],
             [
              0.4444444444444444,
              "#bd3786"
             ],
             [
              0.5555555555555556,
              "#d8576b"
             ],
             [
              0.6666666666666666,
              "#ed7953"
             ],
             [
              0.7777777777777778,
              "#fb9f3a"
             ],
             [
              0.8888888888888888,
              "#fdca26"
             ],
             [
              1,
              "#f0f921"
             ]
            ],
            "type": "surface"
           }
          ],
          "table": [
           {
            "cells": {
             "fill": {
              "color": "#EBF0F8"
             },
             "line": {
              "color": "white"
             }
            },
            "header": {
             "fill": {
              "color": "#C8D4E3"
             },
             "line": {
              "color": "white"
             }
            },
            "type": "table"
           }
          ]
         },
         "layout": {
          "annotationdefaults": {
           "arrowcolor": "#2a3f5f",
           "arrowhead": 0,
           "arrowwidth": 1
          },
          "coloraxis": {
           "colorbar": {
            "outlinewidth": 0,
            "ticks": ""
           }
          },
          "colorscale": {
           "diverging": [
            [
             0,
             "#8e0152"
            ],
            [
             0.1,
             "#c51b7d"
            ],
            [
             0.2,
             "#de77ae"
            ],
            [
             0.3,
             "#f1b6da"
            ],
            [
             0.4,
             "#fde0ef"
            ],
            [
             0.5,
             "#f7f7f7"
            ],
            [
             0.6,
             "#e6f5d0"
            ],
            [
             0.7,
             "#b8e186"
            ],
            [
             0.8,
             "#7fbc41"
            ],
            [
             0.9,
             "#4d9221"
            ],
            [
             1,
             "#276419"
            ]
           ],
           "sequential": [
            [
             0,
             "#0d0887"
            ],
            [
             0.1111111111111111,
             "#46039f"
            ],
            [
             0.2222222222222222,
             "#7201a8"
            ],
            [
             0.3333333333333333,
             "#9c179e"
            ],
            [
             0.4444444444444444,
             "#bd3786"
            ],
            [
             0.5555555555555556,
             "#d8576b"
            ],
            [
             0.6666666666666666,
             "#ed7953"
            ],
            [
             0.7777777777777778,
             "#fb9f3a"
            ],
            [
             0.8888888888888888,
             "#fdca26"
            ],
            [
             1,
             "#f0f921"
            ]
           ],
           "sequentialminus": [
            [
             0,
             "#0d0887"
            ],
            [
             0.1111111111111111,
             "#46039f"
            ],
            [
             0.2222222222222222,
             "#7201a8"
            ],
            [
             0.3333333333333333,
             "#9c179e"
            ],
            [
             0.4444444444444444,
             "#bd3786"
            ],
            [
             0.5555555555555556,
             "#d8576b"
            ],
            [
             0.6666666666666666,
             "#ed7953"
            ],
            [
             0.7777777777777778,
             "#fb9f3a"
            ],
            [
             0.8888888888888888,
             "#fdca26"
            ],
            [
             1,
             "#f0f921"
            ]
           ]
          },
          "colorway": [
           "#636efa",
           "#EF553B",
           "#00cc96",
           "#ab63fa",
           "#FFA15A",
           "#19d3f3",
           "#FF6692",
           "#B6E880",
           "#FF97FF",
           "#FECB52"
          ],
          "font": {
           "color": "#2a3f5f"
          },
          "geo": {
           "bgcolor": "white",
           "lakecolor": "white",
           "landcolor": "white",
           "showlakes": true,
           "showland": true,
           "subunitcolor": "#C8D4E3"
          },
          "hoverlabel": {
           "align": "left"
          },
          "hovermode": "closest",
          "mapbox": {
           "style": "light"
          },
          "paper_bgcolor": "white",
          "plot_bgcolor": "white",
          "polar": {
           "angularaxis": {
            "gridcolor": "#EBF0F8",
            "linecolor": "#EBF0F8",
            "ticks": ""
           },
           "bgcolor": "white",
           "radialaxis": {
            "gridcolor": "#EBF0F8",
            "linecolor": "#EBF0F8",
            "ticks": ""
           }
          },
          "scene": {
           "xaxis": {
            "backgroundcolor": "white",
            "gridcolor": "#DFE8F3",
            "gridwidth": 2,
            "linecolor": "#EBF0F8",
            "showbackground": true,
            "ticks": "",
            "zerolinecolor": "#EBF0F8"
           },
           "yaxis": {
            "backgroundcolor": "white",
            "gridcolor": "#DFE8F3",
            "gridwidth": 2,
            "linecolor": "#EBF0F8",
            "showbackground": true,
            "ticks": "",
            "zerolinecolor": "#EBF0F8"
           },
           "zaxis": {
            "backgroundcolor": "white",
            "gridcolor": "#DFE8F3",
            "gridwidth": 2,
            "linecolor": "#EBF0F8",
            "showbackground": true,
            "ticks": "",
            "zerolinecolor": "#EBF0F8"
           }
          },
          "shapedefaults": {
           "line": {
            "color": "#2a3f5f"
           }
          },
          "ternary": {
           "aaxis": {
            "gridcolor": "#DFE8F3",
            "linecolor": "#A2B1C6",
            "ticks": ""
           },
           "baxis": {
            "gridcolor": "#DFE8F3",
            "linecolor": "#A2B1C6",
            "ticks": ""
           },
           "bgcolor": "white",
           "caxis": {
            "gridcolor": "#DFE8F3",
            "linecolor": "#A2B1C6",
            "ticks": ""
           }
          },
          "title": {
           "x": 0.05
          },
          "xaxis": {
           "automargin": true,
           "gridcolor": "#EBF0F8",
           "linecolor": "#EBF0F8",
           "ticks": "",
           "title": {
            "standoff": 15
           },
           "zerolinecolor": "#EBF0F8",
           "zerolinewidth": 2
          },
          "yaxis": {
           "automargin": true,
           "gridcolor": "#EBF0F8",
           "linecolor": "#EBF0F8",
           "ticks": "",
           "title": {
            "standoff": 15
           },
           "zerolinecolor": "#EBF0F8",
           "zerolinewidth": 2
          }
         }
        },
        "xaxis": {
         "anchor": "y",
         "domain": [
          0,
          0.47
         ],
         "title": {
          "text": ""
         }
        },
        "xaxis2": {
         "anchor": "y2",
         "domain": [
          0.53,
          1
         ],
         "matches": "x",
         "title": {
          "text": ""
         }
        },
        "yaxis": {
         "anchor": "x",
         "domain": [
          0,
          1
         ],
         "title": {
          "text": "Energy demand (GWh)"
         }
        },
        "yaxis2": {
         "anchor": "x2",
         "domain": [
          0,
          1
         ],
         "matches": "y",
         "showticklabels": false
        }
       }
      },
      "text/html": [
       "<div>                            <div id=\"f3718c7f-d15f-4c93-b43c-12a8025803fd\" class=\"plotly-graph-div\" style=\"height:500px; width:100%;\"></div>            <script type=\"text/javascript\">                require([\"plotly\"], function(Plotly) {                    window.PLOTLYENV=window.PLOTLYENV || {};                                    if (document.getElementById(\"f3718c7f-d15f-4c93-b43c-12a8025803fd\")) {                    Plotly.newPlot(                        \"f3718c7f-d15f-4c93-b43c-12a8025803fd\",                        [{\"hovertemplate\": \"Scenario=Reference<br>Climate=Historical Trend<br>Year=%{x}<br>value=%{y}<extra></extra>\", \"legendgroup\": \"Reference\", \"line\": {\"color\": \"#4C78A8\", \"dash\": \"solid\"}, \"mode\": \"lines\", \"name\": \"Reference\", \"orientation\": \"v\", \"showlegend\": true, \"type\": \"scatter\", \"x\": [2020, 2021, 2022, 2023, 2024, 2025, 2026, 2027, 2028, 2029, 2030, 2031, 2032, 2033, 2034, 2035, 2036, 2037, 2038, 2039, 2040, 2041, 2042, 2043, 2044, 2045, 2046, 2047, 2048, 2049, 2050], \"xaxis\": \"x\", \"y\": [751.27231137176, 946.03164439078, 882.7171996894415, 884.5734784185549, 1025.5813970672775, 1047.8525116896546, 1086.9051570550473, 1122.4632275513522, 1205.251250741079, 1194.09107390722, 1210.1143916853773, 1264.707181329024, 1245.7651045127475, 1291.611467818619, 1339.5984124977906, 1525.2098012735496, 1538.1397299018413, 1266.412140147458, 1464.274451305413, 1747.4207589347761, 1787.066358776121, 1911.026238971936, 1951.6906860769748, 2077.141098908686, 2070.914521991659, 2155.555882679604, 2252.144220160463, 2288.1596828969414, 2424.250026428507, 2439.8500760316265, 2547.153750935925], \"yaxis\": \"y\"}, {\"hovertemplate\": \"Scenario=Reference<br>Climate=Climate Change<br>Year=%{x}<br>value=%{y}<extra></extra>\", \"legendgroup\": \"Reference\", \"line\": {\"color\": \"#4C78A8\", \"dash\": \"solid\"}, \"mode\": \"lines\", \"name\": \"Reference\", \"orientation\": \"v\", \"showlegend\": false, \"type\": \"scatter\", \"x\": [2020, 2021, 2022, 2023, 2024, 2025, 2026, 2027, 2028, 2029, 2030, 2031, 2032, 2033, 2034, 2035, 2036, 2037, 2038, 2039, 2040, 2041, 2042, 2043, 2044, 2045, 2046, 2047, 2048, 2049, 2050], \"xaxis\": \"x2\", \"y\": [758.7481708159885, 959.7076614033044, 877.2499839745949, 909.7924108387462, 1053.5268645825256, 1095.4473127295687, 1162.8103051203839, 1179.025808051731, 1291.7932962296754, 1270.7378489414805, 1302.6710488360475, 1356.5354433887383, 1354.6674362454728, 1399.8545274536727, 1454.7026426914713, 1635.2128664956276, 1673.4555971100585, 1448.91670404477, 1634.4353356227207, 1899.20124952477, 2005.7983089008933, 2106.119239237972, 2129.262363796797, 2257.9453966673436, 2388.2284036780147, 2392.2940883678693, 2534.9137947016234, 2539.479551278716, 2705.6511902837096, 2678.830799702432, 2832.46868394156], \"yaxis\": \"y2\"}, {\"hovertemplate\": \"Scenario=Increased Water Productivity<br>Climate=Historical Trend<br>Year=%{x}<br>value=%{y}<extra></extra>\", \"legendgroup\": \"Increased Water Productivity\", \"line\": {\"color\": \"#F58518\", \"dash\": \"solid\"}, \"mode\": \"lines\", \"name\": \"Increased Water Productivity\", \"orientation\": \"v\", \"showlegend\": true, \"type\": \"scatter\", \"x\": [2020, 2021, 2022, 2023, 2024, 2025, 2026, 2027, 2028, 2029, 2030, 2031, 2032, 2033, 2034, 2035, 2036, 2037, 2038, 2039, 2040, 2041, 2042, 2043, 2044, 2045, 2046, 2047, 2048, 2049, 2050], \"xaxis\": \"x\", \"y\": [735.7326101573005, 904.9933661844159, 819.5576656869052, 831.347965554057, 930.5744741822546, 929.6391670821735, 962.6425552968778, 972.5790494479679, 1030.1759661018637, 1021.7857220073397, 1010.0237408371037, 1045.229453718866, 1034.2147072972462, 1052.1986052320094, 1079.9005080929282, 1188.4869400381276, 1206.5002147282987, 990.5643949347855, 1149.6221227957008, 1349.0583275567183, 1383.5513322583217, 1467.0029220691213, 1504.061983897232, 1566.7057170505261, 1600.0960747302042, 1655.799795238331, 1723.5911582697968, 1765.6670386488668, 1864.189315871714, 1904.2782076015242, 1987.5419218206675], \"yaxis\": \"y\"}, {\"hovertemplate\": \"Scenario=Increased Water Productivity<br>Climate=Climate Change<br>Year=%{x}<br>value=%{y}<extra></extra>\", \"legendgroup\": \"Increased Water Productivity\", \"line\": {\"color\": \"#F58518\", \"dash\": \"solid\"}, \"mode\": \"lines\", \"name\": \"Increased Water Productivity\", \"orientation\": \"v\", \"showlegend\": false, \"type\": \"scatter\", \"x\": [2020, 2021, 2022, 2023, 2024, 2025, 2026, 2027, 2028, 2029, 2030, 2031, 2032, 2033, 2034, 2035, 2036, 2037, 2038, 2039, 2040, 2041, 2042, 2043, 2044, 2045, 2046, 2047, 2048, 2049, 2050], \"xaxis\": \"x2\", \"y\": [734.0269820736701, 925.3549657373765, 817.057638852486, 836.8665385521232, 957.718362159796, 978.805653939479, 1012.8486457659686, 1021.4487070525211, 1085.1859433280054, 1066.6413327672717, 1076.510833804412, 1098.5761859067093, 1093.8445140784916, 1112.9752978779868, 1130.1667322893668, 1253.971897144766, 1273.4849738838084, 1067.0409700551127, 1233.634819604807, 1414.152889739506, 1469.3039782879928, 1544.8129804382852, 1585.228275375267, 1634.6759736954264, 1720.2600063476552, 1741.5082775834373, 1826.2457401512652, 1854.2851602816459, 1958.0744256370808, 1980.041791821755, 2078.052445360375], \"yaxis\": \"y2\"}, {\"hovertemplate\": \"Scenario=New Resources<br>Climate=Historical Trend<br>Year=%{x}<br>value=%{y}<extra></extra>\", \"legendgroup\": \"New Resources\", \"line\": {\"color\": \"#E45756\", \"dash\": \"solid\"}, \"mode\": \"lines\", \"name\": \"New Resources\", \"orientation\": \"v\", \"showlegend\": true, \"type\": \"scatter\", \"x\": [2020, 2021, 2022, 2023, 2024, 2025, 2026, 2027, 2028, 2029, 2030, 2031, 2032, 2033, 2034, 2035, 2036, 2037, 2038, 2039, 2040, 2041, 2042, 2043, 2044, 2045, 2046, 2047, 2048, 2049, 2050], \"xaxis\": \"x\", \"y\": [722.2076944285476, 931.4678027219363, 819.0092741733862, 813.55137806695, 953.822144231852, 1042.0062210196988, 1056.2207287816184, 1113.1989491869608, 1188.5626219924247, 1628.2529491653243, 1635.9806990443872, 1675.191585542135, 1672.2145085087086, 1695.3601587423955, 1742.7028070274066, 1916.9077541431402, 1903.4400400519016, 1655.253094399341, 1823.46068898572, 2050.5384129283175, 2049.810623393841, 2126.332494648498, 2107.0392705127288, 2235.987734711549, 2195.294614605571, 2254.201982338048, 2309.260311328845, 2296.3492782691555, 2396.953125991124, 2361.0608017725594, 2423.669005805808], \"yaxis\": \"y\"}, {\"hovertemplate\": \"Scenario=New Resources<br>Climate=Climate Change<br>Year=%{x}<br>value=%{y}<extra></extra>\", \"legendgroup\": \"New Resources\", \"line\": {\"color\": \"#E45756\", \"dash\": \"solid\"}, \"mode\": \"lines\", \"name\": \"New Resources\", \"orientation\": \"v\", \"showlegend\": false, \"type\": \"scatter\", \"x\": [2020, 2021, 2022, 2023, 2024, 2025, 2026, 2027, 2028, 2029, 2030, 2031, 2032, 2033, 2034, 2035, 2036, 2037, 2038, 2039, 2040, 2041, 2042, 2043, 2044, 2045, 2046, 2047, 2048, 2049, 2050], \"xaxis\": \"x2\", \"y\": [717.8195277428591, 914.5976209681664, 797.5399299076682, 815.7466926613329, 965.0546318762822, 1088.1307016892993, 1144.2394559515399, 1150.6461303036033, 1266.6069472096183, 1683.2852348987146, 1743.0912679269709, 1755.090803041544, 1764.1726703555642, 1808.4078168564254, 1852.8779539426423, 2014.1217606470645, 2037.4978975134786, 1846.9113870331148, 1985.1985956753133, 2207.704172254866, 2264.31555477285, 2320.84651565227, 2326.993527421433, 2400.4199528856875, 2538.101308895751, 2478.9633625850024, 2590.3100591900256, 2568.116886080401, 2662.152667325203, 2616.237212718105, 2702.6753289335084], \"yaxis\": \"y2\"}, {\"hovertemplate\": \"Scenario=Reduce NRW to 20 percent<br>Climate=Historical Trend<br>Year=%{x}<br>value=%{y}<extra></extra>\", \"legendgroup\": \"Reduce NRW to 20 percent\", \"line\": {\"color\": \"#72B7B2\", \"dash\": \"solid\"}, \"mode\": \"lines\", \"name\": \"Reduce NRW to 20 percent\", \"orientation\": \"v\", \"showlegend\": true, \"type\": \"scatter\", \"x\": [2020, 2021, 2022, 2023, 2024, 2025, 2026, 2027, 2028, 2029, 2030, 2031, 2032, 2033, 2034, 2035, 2036, 2037, 2038, 2039, 2040, 2041, 2042, 2043, 2044, 2045, 2046, 2047, 2048, 2049, 2050], \"xaxis\": \"x\", \"y\": [733.3755809420804, 929.6027412467982, 851.0083332793195, 846.8282426954529, 989.3387756974435, 1005.7743992919274, 1016.8704087728416, 1059.4752709829827, 1136.1430286752225, 1129.3914122822086, 1113.788532298907, 1184.8161690159745, 1147.1070959247481, 1167.034631385777, 1222.7589792203657, 1399.8877578821061, 1406.8943412509275, 1159.624857019973, 1297.1583670798098, 1587.822119581051, 1646.3691258153794, 1744.0263508841954, 1783.6255125899438, 1906.1691778648296, 1900.8325353242117, 1971.1261065811755, 2047.3746830777623, 2050.0764491369955, 2180.971706046202, 2165.05012603861, 2261.3632967411095], \"yaxis\": \"y\"}, {\"hovertemplate\": \"Scenario=Reduce NRW to 20 percent<br>Climate=Climate Change<br>Year=%{x}<br>value=%{y}<extra></extra>\", \"legendgroup\": \"Reduce NRW to 20 percent\", \"line\": {\"color\": \"#72B7B2\", \"dash\": \"solid\"}, \"mode\": \"lines\", \"name\": \"Reduce NRW to 20 percent\", \"orientation\": \"v\", \"showlegend\": false, \"type\": \"scatter\", \"x\": [2020, 2021, 2022, 2023, 2024, 2025, 2026, 2027, 2028, 2029, 2030, 2031, 2032, 2033, 2034, 2035, 2036, 2037, 2038, 2039, 2040, 2041, 2042, 2043, 2044, 2045, 2046, 2047, 2048, 2049, 2050], \"xaxis\": \"x2\", \"y\": [744.404492855984, 942.9268531138221, 846.3547586360506, 878.5251941236943, 1013.1638581444009, 1066.7382202572273, 1097.6329367283183, 1128.0278960686387, 1229.955668920051, 1198.7928278919235, 1214.4176023155621, 1287.5697703011801, 1243.5279724558727, 1272.5505991751565, 1341.2119514875703, 1506.611498290422, 1542.2312184183702, 1339.7010351830254, 1481.6438258638198, 1761.5108240187435, 1852.8408757333173, 1937.3523522720925, 1975.4151742976069, 2087.13998827845, 2208.948605971247, 2213.1382444023293, 2337.7794318293686, 2285.4790223680866, 2453.0722080523838, 2410.9838400674535, 2562.768369349597], \"yaxis\": \"y2\"}],                        {\"annotations\": [{\"font\": {}, \"showarrow\": false, \"text\": \"Historical Trend\", \"x\": 0.235, \"xanchor\": \"center\", \"xref\": \"paper\", \"y\": 1.0, \"yanchor\": \"bottom\", \"yref\": \"paper\"}, {\"font\": {}, \"showarrow\": false, \"text\": \"Climate Change\", \"x\": 0.765, \"xanchor\": \"center\", \"xref\": \"paper\", \"y\": 1.0, \"yanchor\": \"bottom\", \"yref\": \"paper\"}], \"autosize\": true, \"font\": {\"color\": \"#7f7f7f\", \"size\": 18}, \"height\": 500, \"hoverlabel\": {\"align\": \"left\"}, \"hovermode\": \"closest\", \"legend\": {\"font\": {\"size\": 16}, \"orientation\": \"h\", \"title\": {\"text\": \"\"}, \"tracegroupgap\": 0}, \"margin\": {\"b\": 0, \"l\": 0, \"r\": 0, \"t\": 50}, \"paper_bgcolor\": \"#fff\", \"plot_bgcolor\": \"#fff\", \"showlegend\": true, \"template\": {\"data\": {\"bar\": [{\"error_x\": {\"color\": \"#2a3f5f\"}, \"error_y\": {\"color\": \"#2a3f5f\"}, \"marker\": {\"line\": {\"color\": \"white\", \"width\": 0.5}}, \"type\": \"bar\"}], \"barpolar\": [{\"marker\": {\"line\": {\"color\": \"white\", \"width\": 0.5}}, \"type\": \"barpolar\"}], \"carpet\": [{\"aaxis\": {\"endlinecolor\": \"#2a3f5f\", \"gridcolor\": \"#C8D4E3\", \"linecolor\": \"#C8D4E3\", \"minorgridcolor\": \"#C8D4E3\", \"startlinecolor\": \"#2a3f5f\"}, \"baxis\": {\"endlinecolor\": \"#2a3f5f\", \"gridcolor\": \"#C8D4E3\", \"linecolor\": \"#C8D4E3\", \"minorgridcolor\": \"#C8D4E3\", \"startlinecolor\": \"#2a3f5f\"}, \"type\": \"carpet\"}], \"choropleth\": [{\"colorbar\": {\"outlinewidth\": 0, \"ticks\": \"\"}, \"type\": \"choropleth\"}], \"contour\": [{\"colorbar\": {\"outlinewidth\": 0, \"ticks\": \"\"}, \"colorscale\": [[0.0, \"#0d0887\"], [0.1111111111111111, \"#46039f\"], [0.2222222222222222, \"#7201a8\"], [0.3333333333333333, \"#9c179e\"], [0.4444444444444444, \"#bd3786\"], [0.5555555555555556, \"#d8576b\"], [0.6666666666666666, \"#ed7953\"], [0.7777777777777778, \"#fb9f3a\"], [0.8888888888888888, \"#fdca26\"], [1.0, \"#f0f921\"]], \"type\": \"contour\"}], \"contourcarpet\": [{\"colorbar\": {\"outlinewidth\": 0, \"ticks\": \"\"}, \"type\": \"contourcarpet\"}], \"heatmap\": [{\"colorbar\": {\"outlinewidth\": 0, \"ticks\": \"\"}, \"colorscale\": [[0.0, \"#0d0887\"], [0.1111111111111111, \"#46039f\"], [0.2222222222222222, \"#7201a8\"], [0.3333333333333333, \"#9c179e\"], [0.4444444444444444, \"#bd3786\"], [0.5555555555555556, \"#d8576b\"], [0.6666666666666666, \"#ed7953\"], [0.7777777777777778, \"#fb9f3a\"], [0.8888888888888888, \"#fdca26\"], [1.0, \"#f0f921\"]], \"type\": \"heatmap\"}], \"heatmapgl\": [{\"colorbar\": {\"outlinewidth\": 0, \"ticks\": \"\"}, \"colorscale\": [[0.0, \"#0d0887\"], [0.1111111111111111, \"#46039f\"], [0.2222222222222222, \"#7201a8\"], [0.3333333333333333, \"#9c179e\"], [0.4444444444444444, \"#bd3786\"], [0.5555555555555556, \"#d8576b\"], [0.6666666666666666, \"#ed7953\"], [0.7777777777777778, \"#fb9f3a\"], [0.8888888888888888, \"#fdca26\"], [1.0, \"#f0f921\"]], \"type\": \"heatmapgl\"}], \"histogram\": [{\"marker\": {\"colorbar\": {\"outlinewidth\": 0, \"ticks\": \"\"}}, \"type\": \"histogram\"}], \"histogram2d\": [{\"colorbar\": {\"outlinewidth\": 0, \"ticks\": \"\"}, \"colorscale\": [[0.0, \"#0d0887\"], [0.1111111111111111, \"#46039f\"], [0.2222222222222222, \"#7201a8\"], [0.3333333333333333, \"#9c179e\"], [0.4444444444444444, \"#bd3786\"], [0.5555555555555556, \"#d8576b\"], [0.6666666666666666, \"#ed7953\"], [0.7777777777777778, \"#fb9f3a\"], [0.8888888888888888, \"#fdca26\"], [1.0, \"#f0f921\"]], \"type\": \"histogram2d\"}], \"histogram2dcontour\": [{\"colorbar\": {\"outlinewidth\": 0, \"ticks\": \"\"}, \"colorscale\": [[0.0, \"#0d0887\"], [0.1111111111111111, \"#46039f\"], [0.2222222222222222, \"#7201a8\"], [0.3333333333333333, \"#9c179e\"], [0.4444444444444444, \"#bd3786\"], [0.5555555555555556, \"#d8576b\"], [0.6666666666666666, \"#ed7953\"], [0.7777777777777778, \"#fb9f3a\"], [0.8888888888888888, \"#fdca26\"], [1.0, \"#f0f921\"]], \"type\": \"histogram2dcontour\"}], \"mesh3d\": [{\"colorbar\": {\"outlinewidth\": 0, \"ticks\": \"\"}, \"type\": \"mesh3d\"}], \"parcoords\": [{\"line\": {\"colorbar\": {\"outlinewidth\": 0, \"ticks\": \"\"}}, \"type\": \"parcoords\"}], \"pie\": [{\"automargin\": true, \"type\": \"pie\"}], \"scatter\": [{\"marker\": {\"colorbar\": {\"outlinewidth\": 0, \"ticks\": \"\"}}, \"type\": \"scatter\"}], \"scatter3d\": [{\"line\": {\"colorbar\": {\"outlinewidth\": 0, \"ticks\": \"\"}}, \"marker\": {\"colorbar\": {\"outlinewidth\": 0, \"ticks\": \"\"}}, \"type\": \"scatter3d\"}], \"scattercarpet\": [{\"marker\": {\"colorbar\": {\"outlinewidth\": 0, \"ticks\": \"\"}}, \"type\": \"scattercarpet\"}], \"scattergeo\": [{\"marker\": {\"colorbar\": {\"outlinewidth\": 0, \"ticks\": \"\"}}, \"type\": \"scattergeo\"}], \"scattergl\": [{\"marker\": {\"colorbar\": {\"outlinewidth\": 0, \"ticks\": \"\"}}, \"type\": \"scattergl\"}], \"scattermapbox\": [{\"marker\": {\"colorbar\": {\"outlinewidth\": 0, \"ticks\": \"\"}}, \"type\": \"scattermapbox\"}], \"scatterpolar\": [{\"marker\": {\"colorbar\": {\"outlinewidth\": 0, \"ticks\": \"\"}}, \"type\": \"scatterpolar\"}], \"scatterpolargl\": [{\"marker\": {\"colorbar\": {\"outlinewidth\": 0, \"ticks\": \"\"}}, \"type\": \"scatterpolargl\"}], \"scatterternary\": [{\"marker\": {\"colorbar\": {\"outlinewidth\": 0, \"ticks\": \"\"}}, \"type\": \"scatterternary\"}], \"surface\": [{\"colorbar\": {\"outlinewidth\": 0, \"ticks\": \"\"}, \"colorscale\": [[0.0, \"#0d0887\"], [0.1111111111111111, \"#46039f\"], [0.2222222222222222, \"#7201a8\"], [0.3333333333333333, \"#9c179e\"], [0.4444444444444444, \"#bd3786\"], [0.5555555555555556, \"#d8576b\"], [0.6666666666666666, \"#ed7953\"], [0.7777777777777778, \"#fb9f3a\"], [0.8888888888888888, \"#fdca26\"], [1.0, \"#f0f921\"]], \"type\": \"surface\"}], \"table\": [{\"cells\": {\"fill\": {\"color\": \"#EBF0F8\"}, \"line\": {\"color\": \"white\"}}, \"header\": {\"fill\": {\"color\": \"#C8D4E3\"}, \"line\": {\"color\": \"white\"}}, \"type\": \"table\"}]}, \"layout\": {\"annotationdefaults\": {\"arrowcolor\": \"#2a3f5f\", \"arrowhead\": 0, \"arrowwidth\": 1}, \"coloraxis\": {\"colorbar\": {\"outlinewidth\": 0, \"ticks\": \"\"}}, \"colorscale\": {\"diverging\": [[0, \"#8e0152\"], [0.1, \"#c51b7d\"], [0.2, \"#de77ae\"], [0.3, \"#f1b6da\"], [0.4, \"#fde0ef\"], [0.5, \"#f7f7f7\"], [0.6, \"#e6f5d0\"], [0.7, \"#b8e186\"], [0.8, \"#7fbc41\"], [0.9, \"#4d9221\"], [1, \"#276419\"]], \"sequential\": [[0.0, \"#0d0887\"], [0.1111111111111111, \"#46039f\"], [0.2222222222222222, \"#7201a8\"], [0.3333333333333333, \"#9c179e\"], [0.4444444444444444, \"#bd3786\"], [0.5555555555555556, \"#d8576b\"], [0.6666666666666666, \"#ed7953\"], [0.7777777777777778, \"#fb9f3a\"], [0.8888888888888888, \"#fdca26\"], [1.0, \"#f0f921\"]], \"sequentialminus\": [[0.0, \"#0d0887\"], [0.1111111111111111, \"#46039f\"], [0.2222222222222222, \"#7201a8\"], [0.3333333333333333, \"#9c179e\"], [0.4444444444444444, \"#bd3786\"], [0.5555555555555556, \"#d8576b\"], [0.6666666666666666, \"#ed7953\"], [0.7777777777777778, \"#fb9f3a\"], [0.8888888888888888, \"#fdca26\"], [1.0, \"#f0f921\"]]}, \"colorway\": [\"#636efa\", \"#EF553B\", \"#00cc96\", \"#ab63fa\", \"#FFA15A\", \"#19d3f3\", \"#FF6692\", \"#B6E880\", \"#FF97FF\", \"#FECB52\"], \"font\": {\"color\": \"#2a3f5f\"}, \"geo\": {\"bgcolor\": \"white\", \"lakecolor\": \"white\", \"landcolor\": \"white\", \"showlakes\": true, \"showland\": true, \"subunitcolor\": \"#C8D4E3\"}, \"hoverlabel\": {\"align\": \"left\"}, \"hovermode\": \"closest\", \"mapbox\": {\"style\": \"light\"}, \"paper_bgcolor\": \"white\", \"plot_bgcolor\": \"white\", \"polar\": {\"angularaxis\": {\"gridcolor\": \"#EBF0F8\", \"linecolor\": \"#EBF0F8\", \"ticks\": \"\"}, \"bgcolor\": \"white\", \"radialaxis\": {\"gridcolor\": \"#EBF0F8\", \"linecolor\": \"#EBF0F8\", \"ticks\": \"\"}}, \"scene\": {\"xaxis\": {\"backgroundcolor\": \"white\", \"gridcolor\": \"#DFE8F3\", \"gridwidth\": 2, \"linecolor\": \"#EBF0F8\", \"showbackground\": true, \"ticks\": \"\", \"zerolinecolor\": \"#EBF0F8\"}, \"yaxis\": {\"backgroundcolor\": \"white\", \"gridcolor\": \"#DFE8F3\", \"gridwidth\": 2, \"linecolor\": \"#EBF0F8\", \"showbackground\": true, \"ticks\": \"\", \"zerolinecolor\": \"#EBF0F8\"}, \"zaxis\": {\"backgroundcolor\": \"white\", \"gridcolor\": \"#DFE8F3\", \"gridwidth\": 2, \"linecolor\": \"#EBF0F8\", \"showbackground\": true, \"ticks\": \"\", \"zerolinecolor\": \"#EBF0F8\"}}, \"shapedefaults\": {\"line\": {\"color\": \"#2a3f5f\"}}, \"ternary\": {\"aaxis\": {\"gridcolor\": \"#DFE8F3\", \"linecolor\": \"#A2B1C6\", \"ticks\": \"\"}, \"baxis\": {\"gridcolor\": \"#DFE8F3\", \"linecolor\": \"#A2B1C6\", \"ticks\": \"\"}, \"bgcolor\": \"white\", \"caxis\": {\"gridcolor\": \"#DFE8F3\", \"linecolor\": \"#A2B1C6\", \"ticks\": \"\"}}, \"title\": {\"x\": 0.05}, \"xaxis\": {\"automargin\": true, \"gridcolor\": \"#EBF0F8\", \"linecolor\": \"#EBF0F8\", \"ticks\": \"\", \"title\": {\"standoff\": 15}, \"zerolinecolor\": \"#EBF0F8\", \"zerolinewidth\": 2}, \"yaxis\": {\"automargin\": true, \"gridcolor\": \"#EBF0F8\", \"linecolor\": \"#EBF0F8\", \"ticks\": \"\", \"title\": {\"standoff\": 15}, \"zerolinecolor\": \"#EBF0F8\", \"zerolinewidth\": 2}}}, \"xaxis\": {\"anchor\": \"y\", \"domain\": [0.0, 0.47], \"title\": {\"text\": \"\"}}, \"xaxis2\": {\"anchor\": \"y2\", \"domain\": [0.53, 1.0], \"matches\": \"x\", \"title\": {\"text\": \"\"}}, \"yaxis\": {\"anchor\": \"x\", \"domain\": [0.0, 1.0], \"title\": {\"text\": \"Energy demand (GWh)\"}}, \"yaxis2\": {\"anchor\": \"x2\", \"domain\": [0.0, 1.0], \"matches\": \"y\", \"showticklabels\": false}},                        {\"responsive\": true}                    ).then(function(){\n",
       "                            \n",
       "var gd = document.getElementById('f3718c7f-d15f-4c93-b43c-12a8025803fd');\n",
       "var x = new MutationObserver(function (mutations, observer) {{\n",
       "        var display = window.getComputedStyle(gd).display;\n",
       "        if (!display || display === 'none') {{\n",
       "            console.log([gd, 'removed!']);\n",
       "            Plotly.purge(gd);\n",
       "            observer.disconnect();\n",
       "        }}\n",
       "}});\n",
       "\n",
       "// Listen for the removal of the full notebook cells\n",
       "var notebookContainer = gd.closest('#notebook-container');\n",
       "if (notebookContainer) {{\n",
       "    x.observe(notebookContainer, {childList: true});\n",
       "}}\n",
       "\n",
       "// Listen for the clearing of the current output cell\n",
       "var outputEl = gd.closest('.output');\n",
       "if (outputEl) {{\n",
       "    x.observe(outputEl, {childList: true});\n",
       "}}\n",
       "\n",
       "                        })                };                });            </script>        </div>"
      ]
     },
     "metadata": {},
     "output_type": "display_data"
    }
   ],
   "source": [
    "dff_energy = pd.DataFrame()\n",
    "\n",
    "for df in [df_wwtp, df_desal, df_gw, df_pipelines]:\n",
    "    dff = df.groupby(['Scenario', 'Climate', 'Year', 'type'])['SWPA_E_'].sum() / (1000000)\n",
    "    dff = dff.reset_index()\n",
    "    dff_energy = dff_energy.append(dff, sort=False)\n",
    "dff_energy.rename(columns={'SWPA_E_': 'value'}, inplace=True)\n",
    "\n",
    "dff = dff_energy.groupby(['Scenario', 'Climate', 'Year']).agg({'value': 'sum'}).reset_index()\n",
    "\n",
    "fig = px.line(dff, x='Year', y='value', color='Scenario', facet_col='Climate',\n",
    "              color_discrete_sequence=px.colors.qualitative.T10,\n",
    "              facet_col_spacing=0.06, labels=names, category_orders=category_orders)\n",
    "fig.update_layout(layout, yaxis_title_text='Energy demand (GWh)')\n",
    "update_labels(fig)\n",
    "fig.show()\n",
    "fig.write_image(\"High level results/energyDemand.png\", scale=4, width=900, height=500)\n",
    "fig.write_html(\"High level results/energyDemand.html\", include_plotlyjs='cdn')"
   ]
  },
  {
   "cell_type": "code",
   "execution_count": null,
   "metadata": {},
   "outputs": [],
   "source": []
  }
 ],
 "metadata": {
  "kernelspec": {
   "display_name": "Python 3",
   "language": "python",
   "name": "python3"
  },
  "language_info": {
   "codemirror_mode": {
    "name": "ipython",
    "version": 3
   },
   "file_extension": ".py",
   "mimetype": "text/x-python",
   "name": "python",
   "nbconvert_exporter": "python",
   "pygments_lexer": "ipython3",
   "version": "3.8.5"
  }
 },
 "nbformat": 4,
 "nbformat_minor": 4
}
