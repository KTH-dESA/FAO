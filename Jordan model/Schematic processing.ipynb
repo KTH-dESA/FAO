{
 "cells": [
  {
   "cell_type": "code",
   "execution_count": null,
   "metadata": {},
   "outputs": [],
   "source": [
    "import sys\n",
    "sys.path.append(\"..\") #this is to add the avobe folder to the package directory\n",
    "import geopandas as gpd\n",
    "import pandas as pd\n",
    "import nexustool.weap_tools as wp\n",
    "from nexustool.gis_tools import get_zonal_stats\n",
    "import matplotlib.pyplot as plt\n",
    "import shapely\n",
    "import os"
   ]
  },
  {
   "cell_type": "markdown",
   "metadata": {},
   "source": [
    "## Reading files"
   ]
  },
  {
   "cell_type": "code",
   "execution_count": null,
   "metadata": {},
   "outputs": [],
   "source": [
    "gis_folder = os.path.join('data', 'gis')\n",
    "sch_folder = os.path.join('data', 'schematic')\n",
    "\n",
    "governorates = gpd.read_file(os.path.join(gis_folder, 'admin', 'JOR_adm1.shp'))\n",
    "basins = gpd.read_file(os.path.join(gis_folder, 'basins', 'groundwater_basins.shp'))\n",
    "links = gpd.read_file(os.path.join(sch_folder, 'Transmission Links.kml'))\n",
    "groundwater = gpd.read_file(os.path.join(sch_folder, 'Groundwater.kml'))\n",
    "river_withdrawals = gpd.read_file(os.path.join(sch_folder, 'River Withdrawals.kml'))\n",
    "wwtp = gpd.read_file(os.path.join(sch_folder, 'Wastewater Treatment Plants.kml'))\n",
    "other_supply = gpd.read_file(os.path.join(sch_folder, 'Other Supplies.kml'))\n",
    "demand_sites = gpd.read_file(os.path.join(sch_folder, 'Demand Sites.kml'))\n",
    "tributary_inflows = gpd.read_file(os.path.join(sch_folder, 'Tributary Inflows.kml'))\n",
    "diversion_outflows = gpd.read_file(os.path.join(sch_folder, 'Diversion Outflows.kml'))\n",
    "diversion = gpd.read_file(os.path.join(sch_folder, 'Diversions.kml'))"
   ]
  },
  {
   "cell_type": "markdown",
   "metadata": {},
   "source": [
    "## Converting geometries and dropping unecesary columns"
   ]
  },
  {
   "cell_type": "code",
   "execution_count": null,
   "metadata": {},
   "outputs": [],
   "source": [
    "for gdf in [links, groundwater, river_withdrawals, wwtp, other_supply, \n",
    "            demand_sites, tributary_inflows, diversion, diversion_outflows]:\n",
    "    gdf['geometry'] = wp.polyz_to_poly(gdf)\n",
    "    gdf.drop(columns='Description', inplace=True)"
   ]
  },
  {
   "cell_type": "markdown",
   "metadata": {},
   "source": [
    "## Defining supply, demand points and transmissions"
   ]
  },
  {
   "cell_type": "code",
   "execution_count": null,
   "metadata": {},
   "outputs": [],
   "source": [
    "for gdf in [groundwater, river_withdrawals, wwtp, other_supply, \n",
    "            diversion_outflows, demand_sites, tributary_inflows]:\n",
    "    gdf.rename(columns={'Name': 'point'}, inplace=True)\n",
    "\n",
    "links.rename(columns={'Name': 'links'}, inplace=True)\n",
    "diversion.rename(columns={'Name': 'diversion'}, inplace=True)"
   ]
  },
  {
   "cell_type": "markdown",
   "metadata": {},
   "source": [
    "## Defining types"
   ]
  },
  {
   "cell_type": "code",
   "execution_count": null,
   "metadata": {},
   "outputs": [],
   "source": [
    "groundwater['type'] = 'Groundwater supply'\n",
    "river_withdrawals['type'] = 'River/pipeline supply'\n",
    "wwtp['type'] = 'Wastewater plant'\n",
    "other_supply['type'] = 'Other supply'\n",
    "other_supply.loc[other_supply.point=='RedDead', 'type'] = 'Desalination'\n",
    "other_supply.loc[other_supply.point=='Aqaba Desal', 'type'] = 'Desalination'\n",
    "other_supply = other_supply.loc[other_supply['type']!='Other supply']\n",
    "demand_sites['type'] = 'Municipality'\n",
    "demand_sites.loc[demand_sites['point'].str.contains('Agri'), 'type'] = 'Agriculture'\n",
    "demand_sites.loc[demand_sites['point'].str.contains('Ind'), 'type'] = 'Industry'\n",
    "demand_sites.loc[demand_sites['point'] == 'KA_Agri HL', 'point'] = 'KA_AgriHL'\n",
    "tributary_inflows['type'] = 'Tributary inflow'\n",
    "diversion['type'] = 'Transmission Pipeline'\n",
    "diversion_outflows['type'] = 'Diversion Outflow'"
   ]
  },
  {
   "cell_type": "markdown",
   "metadata": {},
   "source": [
    "## Joining water transmition network points"
   ]
  },
  {
   "cell_type": "code",
   "execution_count": null,
   "metadata": {},
   "outputs": [],
   "source": [
    "points = tributary_inflows.append([diversion_outflows, river_withdrawals],\n",
    "                                  ignore_index=True, sort=False)"
   ]
  },
  {
   "cell_type": "markdown",
   "metadata": {},
   "source": [
    "## Capturing average water table depth \n",
    "Next, we use the previously generated raster data the groundwater basins and the groundwater extraction points, to capture the average water table depth for each basin."
   ]
  },
  {
   "cell_type": "code",
   "execution_count": null,
   "metadata": {},
   "outputs": [],
   "source": [
    "basins = get_zonal_stats(basins, os.path.join(gis_folder, 'wtd', 'Jordan wtd.tif'),\n",
    "                         ['mean'], all_touched=False)"
   ]
  },
  {
   "cell_type": "code",
   "execution_count": null,
   "metadata": {},
   "outputs": [],
   "source": [
    "basin_names = {'Araba North': 'Araba North',\n",
    "               'Yarmouk': 'Yarmouk',\n",
    "               'Jordan Side Valleys': 'SideWadis',\n",
    "               'Disi': 'Southern Desert',\n",
    "               'Araba South': 'Araba South',\n",
    "               'Jafr': 'Jafer',\n",
    "               'Azraq': 'Azraq',\n",
    "               'Hammad': 'Sarhan',\n",
    "               'Dead Sea': 'DeadSea',\n",
    "               'Jordan Valleys': 'JordanValley',\n",
    "               'Sirhan': 'Sirhan',\n",
    "               'Zarqa': 'AmmanZarqa'} \n",
    "basins['gw_points'] = basins.apply(lambda x: basin_names[x['basin']], axis=1) "
   ]
  },
  {
   "cell_type": "code",
   "execution_count": null,
   "metadata": {},
   "outputs": [],
   "source": [
    "groundwater['wtd_m'] = 0.0\n",
    "groundwater['basin'] = None\n",
    "\n",
    "for i, basin in basins.iterrows():\n",
    "    groundwater.loc[groundwater['point'].str.contains(basin['gw_points']), 'basin'] = basin['basin']\n",
    "    groundwater.loc[groundwater['point'].str.contains(basin['gw_points']), 'wtd_m'] = basin['mean'] \n",
    "\n",
    "groundwater.loc[groundwater['basin']=='Disi', 'wtd_m'] = 400"
   ]
  },
  {
   "cell_type": "markdown",
   "metadata": {},
   "source": [
    "## Joining all supply layers "
   ]
  },
  {
   "cell_type": "code",
   "execution_count": null,
   "metadata": {},
   "outputs": [],
   "source": [
    "supply = groundwater.append([river_withdrawals, wwtp, other_supply], \n",
    "                            ignore_index=True, sort=False)\n",
    "supply = gpd.sjoin(supply, links, how='inner', op='intersects')\n",
    "supply.drop(columns='index_right', inplace=True)"
   ]
  },
  {
   "cell_type": "markdown",
   "metadata": {},
   "source": [
    "## Joining all demand layers"
   ]
  },
  {
   "cell_type": "code",
   "execution_count": null,
   "metadata": {},
   "outputs": [],
   "source": [
    "demand = gpd.sjoin(demand_sites, links, how='inner', op='intersects')\n",
    "demand.drop(columns='index_right', inplace=True)"
   ]
  },
  {
   "cell_type": "markdown",
   "metadata": {},
   "source": [
    "## Sampling elevation data for supply and demand layers"
   ]
  },
  {
   "cell_type": "code",
   "execution_count": null,
   "metadata": {},
   "outputs": [],
   "source": [
    "points['elevation_m'] = wp.sample_raster(os.path.join(gis_folder, \n",
    "                                                      'dem', \n",
    "                                                      'DEM.tif'), \n",
    "                                         points)\n",
    "demand['elevation_m'] = wp.sample_raster(os.path.join(gis_folder, \n",
    "                                                      'dem', \n",
    "                                                      'DEM.tif'), \n",
    "                                         demand)\n",
    "supply['elevation_m'] = wp.sample_raster(os.path.join(gis_folder, \n",
    "                                                      'dem', \n",
    "                                                      'DEM.tif'), \n",
    "                                         supply)"
   ]
  },
  {
   "cell_type": "markdown",
   "metadata": {},
   "source": [
    "## Reprojecting layers"
   ]
  },
  {
   "cell_type": "code",
   "execution_count": null,
   "metadata": {},
   "outputs": [],
   "source": [
    "PalestineBelt = 28192\n",
    "for gdf in [links, groundwater, governorates, river_withdrawals, wwtp, \n",
    "            other_supply, demand_sites, tributary_inflows, diversion, \n",
    "            diversion_outflows, points, demand, supply]:\n",
    "    gdf.crs = 4326\n",
    "    gdf.to_crs(epsg=PalestineBelt, inplace=True)"
   ]
  },
  {
   "cell_type": "markdown",
   "metadata": {},
   "source": [
    "## Calculate length of distribution and transmission links"
   ]
  },
  {
   "cell_type": "code",
   "execution_count": null,
   "metadata": {},
   "outputs": [],
   "source": [
    "links['length_m'] = links.length\n",
    "diversion['pl_length_m'] = diversion.length"
   ]
  },
  {
   "cell_type": "markdown",
   "metadata": {},
   "source": [
    "## Intersect distribution links with supply and demand"
   ]
  },
  {
   "cell_type": "code",
   "execution_count": null,
   "metadata": {},
   "outputs": [],
   "source": [
    "distribution = gpd.sjoin(links, supply, how='inner', op='intersects')\n",
    "distribution.drop(columns='index_right', inplace=True)\n",
    "distribution = gpd.sjoin(distribution, demand, how='inner', op='intersects')\n",
    "distribution.drop(columns='index_right', inplace=True)\n",
    "distribution['type'] = 'Distribution link'"
   ]
  },
  {
   "cell_type": "markdown",
   "metadata": {},
   "source": [
    "## Plotting the system"
   ]
  },
  {
   "cell_type": "code",
   "execution_count": null,
   "metadata": {},
   "outputs": [],
   "source": [
    "base = governorates.plot(color='white', edgecolor='black', figsize=(12, 12))\n",
    "data = distribution.append([supply, demand, diversion, diversion_outflows], ignore_index=True, sort=False)\n",
    "data.plot(ax=base, column='type', cmap='Spectral_r', legend=True)\n",
    "plt.show()"
   ]
  },
  {
   "cell_type": "markdown",
   "metadata": {},
   "source": [
    "## Split segment in the pipeline system"
   ]
  },
  {
   "cell_type": "code",
   "execution_count": null,
   "metadata": {},
   "outputs": [],
   "source": [
    "points_coords = points.geometry.unary_union\n",
    "list_gdf = []\n",
    "i = 0\n",
    "\n",
    "for pipeline in diversion.iterrows():\n",
    "    split_pipeline = shapely.ops.split(pipeline[1].geometry, points_coords)\n",
    "    segments = [feature for feature in split_pipeline]\n",
    "    index = list(range(i, len(segments) + i))\n",
    "    gdf_segments = gpd.GeoDataFrame(index, geometry=segments)\n",
    "    gdf_segments.columns = ['index', 'geometry']\n",
    "    gdf_segments['pipeline'] = pipeline[1].diversion\n",
    "    gdf_segments['pl_length_m'] = pipeline[1].pl_length_m\n",
    "    gdf_segments.crs = f'epsg:{PalestineBelt}'\n",
    "    intersections = gpd.sjoin(gdf_segments, points, how='inner', op='intersects')\n",
    "    list_gdf.append(intersections)\n",
    "    i = list_gdf[-1]['index'].max() + 1\n",
    "    \n",
    "pipelines = gpd.GeoDataFrame(pd.concat(list_gdf, ignore_index=True))\n",
    "pipelines.crs = supply.crs"
   ]
  },
  {
   "cell_type": "markdown",
   "metadata": {},
   "source": [
    "## Calculate each segment lenght"
   ]
  },
  {
   "cell_type": "code",
   "execution_count": null,
   "metadata": {},
   "outputs": [],
   "source": [
    "pipelines['segment_length_m'] = pipelines.length"
   ]
  },
  {
   "cell_type": "markdown",
   "metadata": {},
   "source": [
    "## Plot the pipeline segments"
   ]
  },
  {
   "cell_type": "code",
   "execution_count": null,
   "metadata": {},
   "outputs": [],
   "source": [
    "x = []\n",
    "\n",
    "for name in pipelines.pipeline.unique():\n",
    "    _df = pipelines.loc[pipelines.pipeline==name].copy()\n",
    "    for index in _df['index'].unique():\n",
    "        _df2 = _df.loc[pipelines['index']==index]\n",
    "        if _df2.shape[0] == 1:\n",
    "            x.append(_df2.index.values[0])\n",
    "            \n",
    "pipelines.loc[~pipelines.index.isin(x)].plot(figsize=(12,12), column='pipeline', categorical=True)"
   ]
  },
  {
   "cell_type": "markdown",
   "metadata": {},
   "source": [
    "## Standardizing names"
   ]
  },
  {
   "cell_type": "code",
   "execution_count": null,
   "metadata": {},
   "outputs": [],
   "source": [
    "demand['point'] = demand['point'].str.replace('Agriculture', 'Agri')"
   ]
  },
  {
   "cell_type": "markdown",
   "metadata": {},
   "source": [
    "## Save the spatial layers"
   ]
  },
  {
   "cell_type": "code",
   "execution_count": null,
   "metadata": {},
   "outputs": [],
   "source": [
    "folder = os.path.join(gis_folder, 'processed layers') #Define the output folder path\n",
    "os.makedirs(folder, exist_ok=True)\n",
    "demand.to_file(os.path.join(folder, 'demand_points.gpkg'), driver='GPKG', OVERWRITE='YES')\n",
    "supply.to_file(os.path.join(folder, 'supply_points.gpkg'), driver='GPKG', OVERWRITE='YES')\n",
    "pipelines.to_file(os.path.join(folder, 'pipelines.gpkg'), driver='GPKG', OVERWRITE='YES')"
   ]
  },
  {
   "cell_type": "markdown",
   "metadata": {},
   "source": [
    "## Save coordinates for visualization"
   ]
  },
  {
   "cell_type": "code",
   "execution_count": null,
   "metadata": {},
   "outputs": [],
   "source": [
    "all_points_coords = pd.DataFrame(demand.append(supply, sort=False, ignore_index=True).to_crs(epsg=4326))\n",
    "all_points_coords.drop_duplicates(subset=\"point\", inplace=True)\n",
    "all_points_coords['lon'] = [point.xy[0][0] for point in all_points_coords.geometry]\n",
    "all_points_coords['lat'] = [point.xy[1][0] for point in all_points_coords.geometry]\n",
    "all_points_coords.drop(columns=['geometry', 'links', 'elevation_m', 'wtd_m'], inplace=True)\n",
    "\n",
    "pipe_coords = pd.DataFrame({'lon': [], 'lat': []})\n",
    "for name, point in zip(pipelines.pipeline, pipelines.to_crs(epsg=4326).geometry):\n",
    "    lon = list(point.xy[0]) + [None]\n",
    "    lat = list(point.xy[1]) + [None]\n",
    "    df_temp = pd.DataFrame({'lon': lon, 'lat': lat})\n",
    "    df_temp['name'] = name\n",
    "    pipe_coords = pipe_coords.append(df_temp, ignore_index=True)\n",
    "pipe_coords['type'] = 'pipeline'"
   ]
  },
  {
   "cell_type": "code",
   "execution_count": null,
   "metadata": {},
   "outputs": [],
   "source": [
    "folder = os.path.join('dashboard', 'spatial_data')\n",
    "all_points_coords.to_csv(os.path.join(folder, 'points_coords.csv'), index=False)\n",
    "pipe_coords.to_csv(os.path.join(folder, 'pipe_coords.csv'), index=False)"
   ]
  }
 ],
 "metadata": {
  "kernelspec": {
   "display_name": "Python 3",
   "language": "python",
   "name": "python3"
  },
  "language_info": {
   "codemirror_mode": {
    "name": "ipython",
    "version": 3
   },
   "file_extension": ".py",
   "mimetype": "text/x-python",
   "name": "python",
   "nbconvert_exporter": "python",
   "pygments_lexer": "ipython3",
   "version": "3.8.5"
  }
 },
 "nbformat": 4,
 "nbformat_minor": 4
}
