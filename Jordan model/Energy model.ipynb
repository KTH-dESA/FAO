{
 "cells": [
  {
   "cell_type": "markdown",
   "metadata": {},
   "source": [
    "# NEXUS tool: case study for the Jordan - energy demand calculations\n",
    "In this notebook a case study for the Jordan country is covered using the `nexus_tool` package. The water requirements for agricultural irrigation, residential, industrial and tourism use were previously calculated using the Water Evaluation and Planning System (WEAP) model. In this case study, the energy requirements for groundwater pumping, wastewater treatment, desalination of seawater and pumping for water conveyance are estimated.\n",
    "\n",
    "First import the package by running the following block:"
   ]
  },
  {
   "cell_type": "code",
   "execution_count": null,
   "metadata": {},
   "outputs": [],
   "source": [
    "import sys\n",
    "sys.path.append(\"..\") #this is to add the avobe folder to the package directory\n",
    "import os\n",
    "import nexus_tool\n",
    "import pandas as pd"
   ]
  },
  {
   "cell_type": "markdown",
   "metadata": {},
   "source": [
    "## 1. Read scenario data\n",
    "After importing all required packages, the input GIS data is loaded into the variable `df`. Change the `data_folder`, `scenario`, `climate` and `level` variables to reflect the name and relative location of your data file. This dataset should already have the water demand for irrigation data."
   ]
  },
  {
   "cell_type": "code",
   "execution_count": null,
   "metadata": {},
   "outputs": [],
   "source": [
    "data_folder = os.path.join('Data', 'Processed results')\n",
    "scenario = 'Reference'\n",
    "climate = 'Climate Change'\n",
    "level = 'level_1'\n",
    "input_folder = os.path.join(data_folder, scenario, climate, level)"
   ]
  },
  {
   "cell_type": "markdown",
   "metadata": {},
   "source": [
    "## 2. Create nexus model \n",
    "To create a model simply create an instance of the `nexus_tool.Model()` class and store it in a variable name. The `nexus_tool.Model()` class requires a dataframe as input data. Several other properties and parameter values can be defined by explicitly passing values to them. To see a full list of parameters and their explaination refer to the documentation of the package. We wil create a model using the `pipelines_flow.csv` data:"
   ]
  },
  {
   "cell_type": "code",
   "execution_count": null,
   "metadata": {},
   "outputs": [],
   "source": [
    "file_path = os.path.join(input_folder, 'pipelines_flow.csv')\n",
    "df = nexus_tool.read_csv(file_path)\n",
    "jordan = nexus_tool.Model(df)"
   ]
  },
  {
   "cell_type": "markdown",
   "metadata": {},
   "source": [
    "## 3. Define variable names\n",
    "The names of the properties of the model can be changed at any time. This is important for the model to know how each property is called withing your input data. To check the current property names run the `.print_properties()` method, a list with the names of each property and its current value will be displayed.\n",
    "\n",
    "Then you can provide the right names for each property, calling them and assigning a value as:\n",
    "```python\n",
    "jordan.elevation = 'elevation_delta'\n",
    "jordan.gw_depth = 'name_of_ground_water_depth'\n",
    "```\n",
    "\n",
    "In this particular case we will need to change the following default values:"
   ]
  },
  {
   "cell_type": "code",
   "execution_count": null,
   "metadata": {},
   "outputs": [],
   "source": [
    "jordan.elevation = 'elevation_delta'\n",
    "jordan.L = 'segment_length'\n",
    "jordan.peak_Q = 'value'\n",
    "jordan.avg_Q = 'value'"
   ]
  },
  {
   "cell_type": "markdown",
   "metadata": {},
   "source": [
    "## 4. Define pipelines diameters and pumping efficiency\n",
    "Now we need to define the specifications of the water network, giving pipeline / canal diameter values and surface pumping efficiency:"
   ]
  },
  {
   "cell_type": "code",
   "execution_count": null,
   "metadata": {},
   "outputs": [],
   "source": [
    "jordan.df['Pipe_diameter'] = 1 #in m\n",
    "jordan.df.loc[(df['pipeline']=='KAC'), 'Pipe_diameter'] = 4 #in m\n",
    "jordan.df.loc[(df['pipeline']=='PL_Disi'), 'Pipe_diameter'] = 1.4 #in m\n",
    "jordan.df.loc[(df['pipeline']=='PL_RedDead'), 'Pipe_diameter'] = 1.4 #in m\n",
    "jordan.df.loc[(df['pipeline']=='PS_ZaraMain'), 'Pipe_diameter'] = 1.8 #in m\n",
    "jordan.df.loc[(df['pipeline']=='PL_KACToZay'), 'Pipe_diameter'] = 1.4 #in m\n",
    "jordan.df.loc[(df['pipeline']=='PL_Dab_AinGhazal'), 'Pipe_diameter'] = 1.4 #in m\n",
    "jordan.df.loc[(df['pipeline']=='PL_ZaytoDabouq'), 'Pipe_diameter'] = 1.4 #in m\n",
    "\n",
    "jordan.SWpump_eff = 0.5 # pumping efficiency"
   ]
  },
  {
   "cell_type": "markdown",
   "metadata": {},
   "source": [
    "## 5. Calculate pumping energy requirements\n",
    "To estimate the pumping energy requirements for conveyance, first we need to calculate the Total Dinamic Head (TDH). This, is a measure in meters that accounts for the elevation difference between two points and the pressure loss in distribution.\n",
    "\n",
    "For that, the area `A`, the velocity `V`, the Reynolds number `Re` and the friction factor `f` need to be estimated. The `nexus_tool` provides simple functions that will allow for an easy estimation of these variables. Then, the TDH can be calculated by simply calling the `get_sw_tdh()` function, whereas the conveyance pumping energy requirements by calling the `nwsas.get_GWpumping_energy()` method."
   ]
  },
  {
   "cell_type": "code",
   "execution_count": null,
   "metadata": {},
   "outputs": [],
   "source": [
    "jordan.get_A(inplace=True)\n",
    "jordan.get_V(inplace=True, axis=0)\n",
    "jordan.get_Re(inplace=True, axis=0)\n",
    "jordan.get_f(inplace=True, axis=0)\n",
    "\n",
    "jordan.get_sw_tdh(inplace = True, axis=0)\n",
    "jordan.get_SWpumping_energy(inplace = True, axis=0)\n",
    "\n",
    "jordan.df.loc[(df['pipeline']=='KAC'), 'SWPA_E_'] = 0 #Setting energy for canal to 0"
   ]
  },
  {
   "cell_type": "markdown",
   "metadata": {},
   "source": [
    "## 6. Create nexus model for groundwater pumping\n",
    "The steps needed to estimate the groundwater pumping energy requirements are farily similar to the previous ones. We need to set the path to the `groundwater_supply.csv`, read it into a dataframe and create a nexus Model with it. Then, we define the pipe diameter and some required atttributes names:"
   ]
  },
  {
   "cell_type": "code",
   "execution_count": null,
   "metadata": {},
   "outputs": [],
   "source": [
    "file_path = os.path.join(input_folder, 'groundwater_supply.csv')\n",
    "df_groundwater = pd.read_csv(file_path)\n",
    "\n",
    "jordan_gw = nexus_tool.Model(df_groundwater)\n",
    "\n",
    "jordan_gw.df['Pipe_diameter'] = 0.4\n",
    "jordan_gw.elevation = 'wtd_m'\n",
    "jordan_gw.L = 'wtd_m'\n",
    "jordan_gw.peak_Q = 'value'\n",
    "jordan_gw.avg_Q = 'value'"
   ]
  },
  {
   "cell_type": "markdown",
   "metadata": {},
   "source": [
    "## 7. Calcuculate groundwater pumping energy\n",
    "The energy requirements are then calculated calling the `get_A`, `get_V`, `get_Re`, `get_f`, `get_sw_tdh` and get `SWpumping_energy` methods."
   ]
  },
  {
   "cell_type": "code",
   "execution_count": null,
   "metadata": {},
   "outputs": [],
   "source": [
    "jordan_gw.get_A(inplace=True)\n",
    "jordan_gw.get_V(inplace=True, axis=0)\n",
    "jordan_gw.get_Re(inplace=True, axis=0)\n",
    "jordan_gw.get_f(inplace=True, axis=0)\n",
    "\n",
    "jordan_gw.get_sw_tdh(inplace = True, axis=0)\n",
    "jordan_gw.get_SWpumping_energy(inplace = True, axis=0)"
   ]
  },
  {
   "cell_type": "markdown",
   "metadata": {},
   "source": [
    "## 8. Calculate wastewater treatment energy\n",
    "To estimate the energy requirements for wastewater treatment, we read the `wwtp_inflow.csv` data into a dataframe and multiply the `value` attribute, wich represents the amount of treated water, by a defined energy intensity representative of the treatment process."
   ]
  },
  {
   "cell_type": "code",
   "execution_count": null,
   "metadata": {},
   "outputs": [],
   "source": [
    "file_path = os.path.join(input_folder, 'wwtp_inflow.csv')\n",
    "df_wwtp = pd.read_csv(file_path)\n",
    "\n",
    "wwtp_energy_int = 0.6 # kWh/m3\n",
    "df_wwtp['SWPA_E_'] = df_wwtp.value * wwtp_energy_int"
   ]
  },
  {
   "cell_type": "markdown",
   "metadata": {},
   "source": [
    "## 9. Calculate desalination energy\n",
    "Finally, we need to calculate the energy requirements for desalination. Thus we read the `desalination.csv` data into a dataframe and similarly to the wastewater treatment case, we multiply the desalinated water `value` by each desalination plant, by a respective energy intensity value."
   ]
  },
  {
   "cell_type": "code",
   "execution_count": null,
   "metadata": {},
   "outputs": [],
   "source": [
    "file_path = os.path.join(input_folder, 'desalination.csv')\n",
    "df_desal = pd.read_csv(file_path)\n",
    "\n",
    "red_dead_energy_int = 3.31 # kWh/m3\n",
    "aqaba_energy_int = 5 # kWh/m3\n",
    "df_desal['SWPA_E_'] = 0\n",
    "\n",
    "df_desal.loc[df_desal.point=='RedDead', 'SWPA_E_'] = df_desal.loc[df_desal.point=='RedDead', 'value'] * red_dead_energy_int\n",
    "df_desal.loc[df_desal.point=='Aqaba Desal', 'SWPA_E_'] = df_desal.loc[df_desal.point=='Aqaba Desal', 'value'] * aqaba_energy_int"
   ]
  },
  {
   "cell_type": "markdown",
   "metadata": {},
   "source": [
    "## 10. Save result files\n",
    "The results can then be saved into a defined output folder `results_folder`:"
   ]
  },
  {
   "cell_type": "code",
   "execution_count": null,
   "metadata": {},
   "outputs": [],
   "source": [
    "results_folder = os.path.join('..','Jordan dashboard', 'data_test', scenario, climate, level)\n",
    "os.makedirs(results_folder, exist_ok=True)\n",
    "\n",
    "jordan.df.to_csv(os.path.join(results_folder, 'pipelines_data.csv'), index=False)\n",
    "jordan_gw.df.to_csv(os.path.join(results_folder, 'groundwater_pumping.csv'), index=False)\n",
    "df_wwtp.to_csv(os.path.join(results_folder, 'wwtp_data.csv'), index=False)\n",
    "df_desal.to_csv(os.path.join(results_folder, 'desal_data.csv'), index=False)"
   ]
  }
 ],
 "metadata": {
  "kernelspec": {
   "display_name": "Python 3",
   "language": "python",
   "name": "python3"
  },
  "language_info": {
   "codemirror_mode": {
    "name": "ipython",
    "version": 3
   },
   "file_extension": ".py",
   "mimetype": "text/x-python",
   "name": "python",
   "nbconvert_exporter": "python",
   "pygments_lexer": "ipython3",
   "version": "3.8.5"
  }
 },
 "nbformat": 4,
 "nbformat_minor": 4
}
