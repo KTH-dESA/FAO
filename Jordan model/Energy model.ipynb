{
 "cells": [
  {
   "cell_type": "markdown",
   "metadata": {},
   "source": [
    "# NEXUS tool: case study for the Jordan - energy demand calculations\n",
    "In this notebook a case study for the Jordan country is covered using the `nexustool` package. The water requirements for agricultural irrigation, residential, industrial and tourism use were previously calculated using the Water Evaluation and Planning System (WEAP) model. In this case study, the energy requirements for groundwater pumping, wastewater treatment, desalination of seawater and pumping for water conveyance are estimated.\n",
    "\n",
    "First import the package by running the following block:"
   ]
  },
  {
   "cell_type": "code",
   "execution_count": null,
   "metadata": {},
   "outputs": [],
   "source": [
    "import sys\n",
    "sys.path.append(\"..\") #this is to add the avobe folder to the package directory\n",
    "import os\n",
    "import nexustool\n",
    "import pandas as pd\n",
    "import plotly.express as px\n",
    "import plotly.graph_objs as go\n",
    "from scripts.functions import *"
   ]
  },
  {
   "cell_type": "markdown",
   "metadata": {},
   "source": [
    "## 1. Read scenario data\n",
    "After importing all required packages. Change the `data_folder` and `scenario` variables to reflect the name and relative location of your data file. This dataset should already have the water demand for irrigation estimations."
   ]
  },
  {
   "cell_type": "code",
   "execution_count": null,
   "metadata": {},
   "outputs": [],
   "source": [
    "data_folder = os.path.join('data', 'processed results')\n",
    "scenario = 'Reference'\n",
    "input_folder = os.path.join(data_folder, scenario)"
   ]
  },
  {
   "cell_type": "markdown",
   "metadata": {},
   "source": [
    "## 2. Create nexus model \n",
    "To create a model simply create an instance of the `nexustool.Model()` class and store it in a variable name. The `nexustool.Model()` class requires a dataframe as input data. We wil create a model using the `pipelines_flow.gz` data, for this, we read the dataset into a `pandas` dataframe `df`:"
   ]
  },
  {
   "cell_type": "code",
   "execution_count": null,
   "metadata": {},
   "outputs": [],
   "source": [
    "file_path = os.path.join(input_folder, 'pipelines_flow.gz')\n",
    "df = pd.read_csv(file_path)\n",
    "jordan = nexustool.Model(df)"
   ]
  },
  {
   "cell_type": "markdown",
   "metadata": {},
   "source": [
    "## 3. Define variable names\n",
    "The names of the properties of the model can be changed at any time. This is important for the model to know how each property is called withing your input data. To check the current property names run the `.print_properties()` method, a list with the names of each property and its current value will be displayed.\n",
    "\n",
    "Then you can provide the right names for each property, calling them and assigning a value as:\n",
    "```python\n",
    "jordan.elevation = 'elevation_delta'\n",
    "jordan.gw_depth = 'name_of_ground_water_depth'\n",
    "```\n",
    "\n",
    "In this particular case we will need to change the following default values:"
   ]
  },
  {
   "cell_type": "code",
   "execution_count": null,
   "metadata": {},
   "outputs": [],
   "source": [
    "jordan.elevation_diff = 'elevation_delta' # for the case of GW, the elevation_diff is set to be the wtd\n",
    "jordan.L = 'segment_length' # for the case of GW, the distance is set to be the wtd\n",
    "jordan.D = 'Pipe_diameter'\n",
    "\n",
    "# Defines the name of the variable for Peak Water Demand and Seasonal Scheme Water demand (monthly)\n",
    "jordan.sswd = 'sswd' # Seassonal Scheme Water Demand\n",
    "jordan.pa_e = 'pa_e' # Pumping Average Energy"
   ]
  },
  {
   "cell_type": "markdown",
   "metadata": {},
   "source": [
    "## 4. Define pipelines diameters and pumping efficiency\n",
    "Now we need to define the specifications of the water network, giving pipeline / canal diameter values and surface pumping efficiency:"
   ]
  },
  {
   "cell_type": "code",
   "execution_count": null,
   "metadata": {},
   "outputs": [],
   "source": [
    "# General specifications fo all pipelines\n",
    "jordan.set_specifications(category='pipeline', diameter=1.2, \n",
    "                          amount=1, pumping_hours_per_day=20, pump_efficiency=0.5)\n",
    "\n",
    "# Specific specifications for the King Abdullah Canal (KAC)\n",
    "jordan.set_specifications(category='pipeline', names='KAC', \n",
    "                          diameter=4, pumping_hours_per_day=20)\n",
    "\n",
    "# Specific specifications for the Disi and Red - Dead pipelines\n",
    "jordan.set_specifications(category='pipeline', names=['PL_Disi', 'PL_RedDead'], \n",
    "                          diameter=1.8, amount=1, pumping_hours_per_day=10, pump_efficiency=0.8)\n",
    "\n",
    "# Specific specifiations for the Zara Ma'in pipeline\n",
    "jordan.set_specifications(category='pipeline', names='PS_ZaraMain', \n",
    "                          diameter=1.2, amount=1, pumping_hours_per_day=24, pump_efficiency=0.8)"
   ]
  },
  {
   "cell_type": "markdown",
   "metadata": {},
   "source": [
    "## 5. Setting a pumping efficiency goal for the water network"
   ]
  },
  {
   "cell_type": "code",
   "execution_count": null,
   "metadata": {},
   "outputs": [],
   "source": [
    "efficiency_goal = {'efficiency': 0.5,\n",
    "                   'init_year': 2020,\n",
    "                   'end_year': 2050}\n",
    "jordan.set_efficiency_goal('pipeline', efficiency_goal)"
   ]
  },
  {
   "cell_type": "markdown",
   "metadata": {},
   "source": [
    "## 5. Calculate pumping energy requirements\n",
    "To estimate the pumping energy requirements for conveyance, first we need to calculate the Total Dinamic Head (TDH). This is a measure in meters that accounts for the elevation difference between two points and the pressure loss in distribution.\n",
    "\n",
    "For that, the area $A$ `.pipe_area()`, the velocity $V$ `.flow_velocity()`, the Reynolds number $Re$ `.reynolds()` and the friction factor $f$ `.friction_factor()` need to be estimated. The `nexustool` provides simple functions that allows us to make an easy estimation of these variables, which have the following formulas implemented in the background:\n",
    "\n",
    "$$\n",
    "A\\,(m^2) = \\pi\\cdot \\frac{D^2}{4}\n",
    "$$\n",
    "\n",
    "$$\n",
    "V\\,(m/s) = \\frac{SSWD\\,(m^3/month)}{PumpHours\\,(h/day)\\cdot 30\\,(day/month)\\cdot 3600\\,(s/h)\\cdot A\\,(m^2)}\n",
    "$$\n",
    "\n",
    "$$\n",
    "Re = \\frac{V\\,(m/s)\\cdot D\\,(m)}{v\\,(m^2/s)}\n",
    "$$\n",
    "\n",
    "Where $v$ is the kinematic viscosity of water at around 1.004e-06 m<sup>2</sup>/s. And the friction factor is estimated according to the Swamee–Jain equation:\n",
    "\n",
    "$$\n",
    "f = \\frac{0.25}{\\left[log_{10}\\left(\\frac{\\epsilon}{3.7D}+\\frac{5.74}{Re^{0.9}}\\right)\\right]^2}\n",
    "$$\n",
    "\n",
    "Where $\\epsilon$ is the roughness of the material (assumed at 0.061 mm for Ductile iron pipe). "
   ]
  },
  {
   "cell_type": "code",
   "execution_count": null,
   "metadata": {},
   "outputs": [],
   "source": [
    "jordan.pipe_area()\n",
    "jordan.flow_velocity()\n",
    "jordan.reynolds()\n",
    "jordan.friction_factor()"
   ]
  },
  {
   "cell_type": "markdown",
   "metadata": {},
   "source": [
    "Then, the TDH can be calculated by simply calling the `.get_tdh()` function.\n",
    "\n",
    "$$\n",
    "TDH\\,(m) = \\Delta H + f\\cdot \\frac{L\\,(m)}{D\\,(m)}\\cdot \\frac{V(m/s)^2}{2\\cdot g\\,(m/s^2)}\n",
    "$$\n",
    "\n",
    "Where $\\Delta H$ is the elevation difference between start and end points of conveyance.\n",
    "\n",
    "The conveyance pumping energy requirements are the n calculated by calling the `.get_pumping_energy()` method. The equation used to calculate the Electricity Demand ($E_D$) for pumping is as follows:\n",
    "\n",
    "$$\n",
    "E_D\\,(kW_h) = \\frac{SSWD\\,(m^3)\\cdot \\rho\\,(kg/m^3)\\cdot g\\,(m/s^2)\\cdot TDH\\,(m)}{PP_{eff}\\,(\\%)\\cdot 3600\\,(s/h)\\cdot 1000\\,(W/kW)}\n",
    "$$\n",
    "\n",
    "The variable withing the Model representing the $E_D$ is the `pa_e` or Pumping Average Electricity requirements.\n",
    "\n",
    "Moreover, the Power Demand for pumping ($PD$) is denoted by the variable `pp_e` and calculated by the following formula:\n",
    "\n",
    "$$\n",
    "PD\\,(kW) = \\frac{PWD\\,(m^3/s)\\cdot \\rho\\,(kg/m^3)\\cdot g\\,(m/s^2)\\cdot TDH\\,(m)}{PP_{eff}\\,(\\%)\\cdot 1000\\,(W/kW)}\n",
    "$$\n",
    "\n",
    "The `.get_pumping_energy()` method calculates both the $E_D$ (`pa_e`) and $PD$ (`pp_e`)."
   ]
  },
  {
   "cell_type": "code",
   "execution_count": null,
   "metadata": {},
   "outputs": [],
   "source": [
    "jordan.get_tdh(friction=True)\n",
    "jordan.get_pumping_energy()"
   ]
  },
  {
   "cell_type": "markdown",
   "metadata": {},
   "source": [
    "## 6. Create nexus model for groundwater pumping\n",
    "The steps needed to estimate the groundwater pumping energy requirements are farily similar to the previous ones. We need to set the path to the `groundwater_supply.csv`, read it into a dataframe and create a nexus Model with it. Then, we define the pipe diameter and some required atttributes names:"
   ]
  },
  {
   "cell_type": "code",
   "execution_count": null,
   "metadata": {},
   "outputs": [],
   "source": [
    "file_path = os.path.join(input_folder, 'groundwater_supply.gz')\n",
    "df_groundwater = pd.read_csv(file_path)\n",
    "\n",
    "jordan_gw = nexustool.Model(df_groundwater)\n",
    "\n",
    "jordan_gw.elevation_diff = 'wtd_m'\n",
    "jordan_gw.L = 'wtd_m'\n",
    "\n",
    "# Defines the name of the variable for Peak Water Demand and Seasonal Scheme Water demand (monthly)\n",
    "jordan_gw.sswd = 'sswd' # Seassonal Scheme Water Demand\n",
    "jordan_gw.pa_e = 'pa_e' # Pumping Average Energy\n",
    "\n",
    "# Set general specifications for groundwater wells. We pass the total amount of wells in the country \n",
    "# and distribute the mproportionally based on water extracion levels of each groundwater basin\n",
    "jordan_gw.set_specifications(category='well', diameter=0.1, \n",
    "                             amount=5000, distribute='proportionally', \n",
    "                             pumping_hours_per_day=5, pump_efficiency=0.45)\n",
    "\n",
    "# Set specifications for the wells of the Disi aquifer \n",
    "jordan_gw.set_specifications(category='well', diameter=0.3, pumping_hours_per_day=5, \n",
    "                             pump_efficiency=0.8, amount=55, names='GW_Southern Desert_Ram')"
   ]
  },
  {
   "cell_type": "markdown",
   "metadata": {},
   "source": [
    "## 8. Setting a pumping efficiency goal for wells"
   ]
  },
  {
   "cell_type": "code",
   "execution_count": null,
   "metadata": {},
   "outputs": [],
   "source": [
    "efficiency_goal = {'efficiency': 0.45,\n",
    "                   'init_year': 2020,\n",
    "                   'end_year': 2050}\n",
    "jordan_gw.set_efficiency_goal('well', efficiency_goal)"
   ]
  },
  {
   "cell_type": "markdown",
   "metadata": {},
   "source": [
    "## 7. Calculate groundwater pumping energy\n",
    "The energy requirements are then calculated calling the `.pipe_area()`, `.flow_velocity()`, `.reynolds()`, `.friction_factor()`, `.get_tdh()` and get `.get_pumping_energy()` methods."
   ]
  },
  {
   "cell_type": "code",
   "execution_count": null,
   "metadata": {},
   "outputs": [],
   "source": [
    "jordan_gw.pipe_area()\n",
    "jordan_gw.flow_velocity()\n",
    "jordan_gw.reynolds()\n",
    "jordan_gw.friction_factor()\n",
    "\n",
    "jordan_gw.get_tdh(friction=True)\n",
    "jordan_gw.get_pumping_energy()"
   ]
  },
  {
   "cell_type": "markdown",
   "metadata": {},
   "source": [
    "## 8. Calculate wastewater treatment energy\n",
    "To estimate the energy requirements for wastewater treatment, we read the `wwtp_inflow.csv` data into a dataframe and create a nexus Model. Set the specifications of the wastewater treatment plants using the `.set_treatment_energy` method. This method accepts a category (wastewater or desalination), an energy intensity of treatment (defined in kWh/m<sup>3</sup>) and a name or list of names (`names`) for the plants you whish to set specifications for. \n",
    "\n",
    "The `.get_treatment_energy` method, calculates the total energy requirements multiplying the `sswd` attribute (Seassonal Water Demand), wich represents the amount of treated water, by each defined energy intensity."
   ]
  },
  {
   "cell_type": "code",
   "execution_count": null,
   "metadata": {},
   "outputs": [],
   "source": [
    "file_path = os.path.join(input_folder, 'wwtp_inflow.gz')\n",
    "df_wwtp = pd.read_csv(file_path)\n",
    "\n",
    "jordan_ww = nexustool.Model(df_wwtp)\n",
    "jordan_ww.sswd = 'sswd' # Seassonal Scheme Water Demand\n",
    "jordan_ww.pa_e = 'pa_e' # Pumping Average Energy\n",
    "\n",
    "# Add info on treatment energy needs. This is done depending on the treatment technology used by the plant\n",
    "# In general it is assumed that all plants use the activate sludge treatment with an average energy needs of 0.8 kwh/m3\n",
    "jordan_ww.set_treatment_energy(category='wastewater', energy_int=0.8)\n",
    "\n",
    "# For the Samra wastewater treatment plant, we use a lower energy intensity at 0.6 kwh/m3\n",
    "# as that plant uses to the energy recovery\n",
    "jordan_ww.set_treatment_energy(category='wastewater', energy_int=0.6, names='WWTP_Samra')\n",
    "\n",
    "# For the Al Baqa wastewater treatment plant, the trickling filter treatment is assumed \n",
    "# with an energy intensity of 0.4 kwh/m3\n",
    "jordan_ww.set_treatment_energy(category='wastewater', energy_int=0.4, names='WWTP_Al Baqa')\n",
    "\n",
    "# Calculates the energy needs for treatment\n",
    "jordan_ww.get_treatment_energy(category='wastewater')"
   ]
  },
  {
   "cell_type": "markdown",
   "metadata": {},
   "source": [
    "## 9. Calculate desalination energy\n",
    "Finally, we need to calculate the energy requirements for desalination making use of the `desalination.gz` dataset to create a nexus Model and following the same steps described for the wastewater treatment plants."
   ]
  },
  {
   "cell_type": "code",
   "execution_count": null,
   "metadata": {},
   "outputs": [],
   "source": [
    "file_path = os.path.join(input_folder, 'desalination.gz')\n",
    "df_desal = pd.read_csv(file_path)\n",
    "\n",
    "jordan_desal = nexustool.Model(df_desal)\n",
    "jordan_desal.sswd = 'sswd' # Seassonal Scheme Water Demand\n",
    "jordan_desal.pa_e = 'pa_e' # Pumping Average Energy\n",
    "\n",
    "# For the Red-Dead desalination project we assume an energy intensity of 3.31 kwh/m3 based on avaiable information\n",
    "jordan_desal.set_treatment_energy(category='desalination', energy_int=3.31, names='RedDead')\n",
    "\n",
    "# For the Aqaba desalination plant we assume an energy intensity of 5 kwh/m3 \n",
    "# based on the high salinity content of the treated water\n",
    "jordan_desal.set_treatment_energy(category='desalination', energy_int=5, names='Aqaba Desal')\n",
    "\n",
    "# Calculates the energy needs for treatment\n",
    "jordan_desal.get_treatment_energy(category='desalination')"
   ]
  },
  {
   "cell_type": "markdown",
   "metadata": {},
   "source": [
    "## 10. Save result files\n",
    "The results can then be saved into a defined output folder `results_folder`. The `save_results` function can be used to make this process easy. It takes a path for a `results_folder` and saves all of the result files there."
   ]
  },
  {
   "cell_type": "code",
   "execution_count": null,
   "metadata": {},
   "outputs": [],
   "source": [
    "subscenario = 'Current Efficiency'\n",
    "results_folder = os.path.join('results', f'{scenario} - {subscenario}')\n",
    "\n",
    "save_results(jordan, jordan_gw, jordan_ww, jordan_desal, results_folder, input_folder)"
   ]
  },
  {
   "cell_type": "markdown",
   "metadata": {},
   "source": [
    "## 11. Plot results\n",
    "To display results for the scenario just run the following cells:"
   ]
  },
  {
   "cell_type": "markdown",
   "metadata": {},
   "source": [
    "### Water deliveries"
   ]
  },
  {
   "cell_type": "code",
   "execution_count": null,
   "metadata": {},
   "outputs": [],
   "source": [
    "water_delivered = pd.read_csv(os.path.join(results_folder, 'water_delivered.gz'))\n",
    "dff_delivered = water_delivered.groupby(['Year', 'type'])['sswd'].sum() / 1000000\n",
    "dff_delivered = dff_delivered.reset_index()\n",
    "\n",
    "fig = px.bar(dff_delivered, x='Year', y='sswd', color='type',\n",
    "             color_discrete_sequence=px.colors.qualitative.Dark2)\n",
    "fig.update_layout(title=f'Water delivered {scenario} scenario', yaxis_title='Water (Mm<sup>3</sup>)')"
   ]
  },
  {
   "cell_type": "markdown",
   "metadata": {},
   "source": [
    "### Energy demand"
   ]
  },
  {
   "cell_type": "code",
   "execution_count": null,
   "metadata": {},
   "outputs": [],
   "source": [
    "dff_energy = pd.DataFrame()\n",
    "jordan.df['type'] = 'Water conveyance'\n",
    "\n",
    "for df in [jordan_ww.df, jordan_desal.df, jordan_gw.df, jordan.df]:\n",
    "    dff = df.groupby(['Year', 'type'])['pa_e'].sum() / (1000000)\n",
    "    dff = dff.reset_index()\n",
    "    dff_energy = dff_energy.append(dff, sort=False)\n",
    "\n",
    "fig = px.bar(dff_energy, x='Year', y='pa_e', color='type',\n",
    "             color_discrete_sequence=px.colors.qualitative.Set2)\n",
    "fig.update_layout(title=f'Energy demand {scenario} scenario', yaxis_title='Energy (GWh)')"
   ]
  },
  {
   "cell_type": "markdown",
   "metadata": {},
   "source": [
    "### Crop production"
   ]
  },
  {
   "cell_type": "code",
   "execution_count": null,
   "metadata": {},
   "outputs": [],
   "source": [
    "crop_production = pd.read_csv(os.path.join(results_folder, 'crop_production.gz'))\n",
    "df_production = crop_production.groupby(['Year', 'variable']).sum() / 1000000\n",
    "df_production.reset_index(inplace=True)\n",
    "colors = ['#e6194b', '#3cb44b', '#ffe119', '#4363d8', '#f58231', '#911eb4',\n",
    "          '#46f0f0', '#f032e6', '#bcf60c', '#fabebe', '#008080', '#e6beff',\n",
    "          '#9a6324', '#fffac8', '#800000', '#aaffc3', '#808000', '#ffd8b1',\n",
    "          '#000075', '#808080', '#ffffff', '#000000']\n",
    "fig = px.bar(df_production, x='Year', y='production',\n",
    "             color='variable',\n",
    "             color_discrete_sequence=colors)\n",
    "fig.update_layout(title=f'Crop production {scenario} scenario', yaxis_title='Production (kton)')"
   ]
  },
  {
   "cell_type": "markdown",
   "metadata": {},
   "source": [
    "### Compare results\n",
    "You can compare general results for several scenarios. These include unmet demands for agriculture and municipalities, overall energy demand, and agricultural water productivity (crop per drop).\n",
    "#### Read the scenarios data\n",
    "First you will need to read the data of previously run scenarios. In the `directory_folder` variable, specify the folder containing the data folder with the scenarios results.\n",
    "\n",
    "Then add to the `scenarios` variable, the name of each scenario that you want to compare. for example:\n",
    "```python\n",
    "scenarios = ['Reference',\n",
    "             'New Resources',\n",
    "             'Increased Water Productivity',\n",
    "             'Reduce NRW to 20 percent']\n",
    "```"
   ]
  },
  {
   "cell_type": "code",
   "execution_count": null,
   "metadata": {},
   "outputs": [],
   "source": [
    "directory_folder = 'results'\n",
    "scenarios = ['Reference - Current Efficiency',\n",
    "             'Reference - 80% Efficiency']\n",
    "\n",
    "df_delivered, df_required, df_gw, df_pipelines, df_wwtp, df_desal, df_crop = merge_scenario_data(directory_folder, scenarios)\n",
    "\n",
    "names = {'sswd': 'Water delivered (Mm<sup>3</sup>)', 'production_kg': 'Crop production (ton)', \n",
    "         'swpa_e': 'Energy demand (GWh)', 'unmet_demand_year': 'Annual unmet demand (%)',\n",
    "         'wtd_m': 'Depth to groundwater (meters)'}\n",
    "\n",
    "category_orders = {'Climate': ['Historical Trend', 'Climate Change'],\n",
    "                   'Scenario': ['Reference', 'Desalination'],\n",
    "                   'type': ['Groundwater pumping', 'Surface water conveyance', 'Wastewater treatment',\n",
    "                            'Desalination', 'Desalinated water conveyance']}"
   ]
  },
  {
   "cell_type": "markdown",
   "metadata": {},
   "source": [
    "#### Comparing unmet demand\n",
    "Run the folowing cell:"
   ]
  },
  {
   "cell_type": "code",
   "execution_count": null,
   "metadata": {},
   "outputs": [],
   "source": [
    "dff_delivered = df_delivered.groupby(['Scenario', 'Year', 'type'])['sswd'].sum() / 1000000\n",
    "dff_delivered = dff_delivered.reset_index()\n",
    "dff_required = df_required.groupby(['Scenario', 'Year', 'type'])['sswd'].sum() / 1000000\n",
    "dff_required = dff_required.reset_index()\n",
    "\n",
    "dff_unmet = dff_required.copy()\n",
    "dff_unmet['value'] = (dff_unmet['sswd'] - dff_unmet.set_index(['Scenario', 'Year', 'type']).index.map(\n",
    "    dff_delivered.set_index(['Scenario', 'Year', 'type'])['sswd'])) / dff_unmet['sswd']\n",
    "\n",
    "sectors = ['Agriculture', 'Municipality']\n",
    "dff = dff_unmet.reset_index()\n",
    "dff = dff.loc[dff['type'].isin(sectors)]\n",
    "\n",
    "fig = px.line(dff, x='Year', y='value', color='Scenario', facet_row='type',\n",
    "              color_discrete_sequence=px.colors.qualitative.T10,\n",
    "              facet_col_spacing=0.06, labels=names, category_orders=category_orders)\n",
    "fig.update_yaxes(matches=None)\n",
    "fig.update_traces(line=dict(width=3))\n",
    "for axis in fig.layout:\n",
    "    if (type(fig.layout[axis]) == go.layout.YAxis):\n",
    "        fig.layout[axis].title.text = 'Unmet demand (%)'\n",
    "        fig.layout[axis].tickformat = '%'\n",
    "fig.for_each_annotation(lambda a: a.update(text=a.text.split(\"=\")[-1]))"
   ]
  },
  {
   "cell_type": "markdown",
   "metadata": {},
   "source": [
    "#### Comparing energy demand\n",
    "Run the foloing cell:"
   ]
  },
  {
   "cell_type": "code",
   "execution_count": null,
   "metadata": {},
   "outputs": [],
   "source": [
    "dff_energy = pd.DataFrame()\n",
    "\n",
    "for df in [df_wwtp, df_desal, df_gw, df_pipelines]:\n",
    "    dff = df.groupby(['Scenario', 'Year'])['pa_e'].sum() / (1000000)\n",
    "    dff = dff.reset_index()\n",
    "    dff_energy = dff_energy.append(dff, sort=False)\n",
    "\n",
    "dff = dff_energy.groupby(['Scenario', 'Year']).agg({'pa_e': 'sum'}).reset_index()\n",
    "\n",
    "fig = px.line(dff, x='Year', y='pa_e', color='Scenario', \n",
    "              color_discrete_sequence=px.colors.qualitative.T10,\n",
    "              facet_col_spacing=0.06, labels=names, category_orders=category_orders)\n",
    "\n",
    "fig.update_layout(yaxis_title_text='Energy demand (GWh)', showlegend=True)\n",
    "fig.update_traces(line=dict(width=3))"
   ]
  },
  {
   "cell_type": "markdown",
   "metadata": {},
   "source": [
    "#### Comparing agricultural water productivity\n",
    "Run the foloing cell:"
   ]
  },
  {
   "cell_type": "code",
   "execution_count": null,
   "metadata": {},
   "outputs": [],
   "source": [
    "dff_delivered = df_delivered.loc[df_delivered['type']=='Agriculture']\n",
    "dff_delivered = dff_delivered.groupby(['Scenario', 'Year']).agg({'sswd': lambda r: sum(r) / 1000000}).reset_index()\n",
    "dff_crop = df_crop.groupby(['Scenario', 'Year']).agg({'production': lambda r: sum(r) / 1000000}).reset_index()\n",
    "dff = dff_delivered[['Scenario', 'Year']]\n",
    "dff['value'] = dff_crop['production'] / dff_delivered['sswd']\n",
    "\n",
    "fig = px.line(dff, x='Year', y='value', color='Scenario',\n",
    "              color_discrete_sequence=px.colors.qualitative.T10, \n",
    "              facet_col_spacing=0.06, labels=names, category_orders=category_orders)\n",
    "fig.update_layout(yaxis_title_text='Crop per drop (kg/m<sup>3</sup>)')\n",
    "fig.update_traces(line=dict(width=3))"
   ]
  }
 ],
 "metadata": {
  "kernelspec": {
   "display_name": "Python 3",
   "language": "python",
   "name": "python3"
  },
  "language_info": {
   "codemirror_mode": {
    "name": "ipython",
    "version": 3
   },
   "file_extension": ".py",
   "mimetype": "text/x-python",
   "name": "python",
   "nbconvert_exporter": "python",
   "pygments_lexer": "ipython3",
   "version": "3.8.5"
  }
 },
 "nbformat": 4,
 "nbformat_minor": 4
}
