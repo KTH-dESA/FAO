{
 "cells": [
  {
   "cell_type": "markdown",
   "metadata": {},
   "source": [
    "# NEXUS tool: case study for the Jordan - energy demand calculations\n",
    "In this notebook a case study for the Jordan country is covered using the `nexus_tool` package. The water requirements for agricultural irrigation, residential, industrial and tourism use were previously calculated using the Water Evaluation and Planning System (WEAP) model. In this case study, the energy requirements for groundwater pumping, wastewater treatment, desalination of seawater and pumping for water conveyance are estimated.\n",
    "\n",
    "First import the package by running the following block:"
   ]
  },
  {
   "cell_type": "code",
   "execution_count": 12,
   "metadata": {},
   "outputs": [],
   "source": [
    "import sys\n",
    "sys.path.append(\"..\") #this is to add the avobe folder to the package directory\n",
    "import os\n",
    "import nexus_tool\n",
    "import pandas as pd"
   ]
  },
  {
   "cell_type": "markdown",
   "metadata": {},
   "source": [
    "## Read scenario data"
   ]
  },
  {
   "cell_type": "code",
   "execution_count": 13,
   "metadata": {},
   "outputs": [],
   "source": [
    "data_folder = os.path.join('Data', 'Processed results')\n",
    "scenario = 'Reference'\n",
    "climate = 'Climate Change'\n",
    "level = 'level_1'\n",
    "input_folder = os.path.join(data_folder, scenario, climate, level)\n",
    "results_folder = os.path.join('..','Jordan dashboard', 'data_test', scenario, climate, level)\n",
    "os.makedirs(results_folder, exist_ok=True)\n",
    "file_path = os.path.join(input_folder, 'pipelines_flow.csv')"
   ]
  },
  {
   "cell_type": "markdown",
   "metadata": {},
   "source": [
    "## Create nexus model "
   ]
  },
  {
   "cell_type": "code",
   "execution_count": 14,
   "metadata": {},
   "outputs": [],
   "source": [
    "df = nexus_tool.read_csv(file_path)\n",
    "jordan = nexus_tool.Model(df)"
   ]
  },
  {
   "cell_type": "markdown",
   "metadata": {},
   "source": [
    "## Define pipelines diameters"
   ]
  },
  {
   "cell_type": "code",
   "execution_count": 15,
   "metadata": {},
   "outputs": [],
   "source": [
    "jordan.df['Pipe_diameter'] = 1 #in m\n",
    "jordan.df.loc[(df['pipeline']=='KAC'), 'Pipe_diameter'] = 4 #in m\n",
    "jordan.df.loc[(df['pipeline']=='PL_Disi'), 'Pipe_diameter'] = 1.4 #in m\n",
    "jordan.df.loc[(df['pipeline']=='PL_RedDead'), 'Pipe_diameter'] = 1.4 #in m\n",
    "jordan.df.loc[(df['pipeline']=='PS_ZaraMain'), 'Pipe_diameter'] = 1.8 #in m\n",
    "jordan.df.loc[(df['pipeline']=='PL_KACToZay'), 'Pipe_diameter'] = 1.4 #in m\n",
    "jordan.df.loc[(df['pipeline']=='PL_Dab_AinGhazal'), 'Pipe_diameter'] = 1.4 #in m\n",
    "jordan.df.loc[(df['pipeline']=='PL_ZaytoDabouq'), 'Pipe_diameter'] = 1.4 #in m"
   ]
  },
  {
   "cell_type": "markdown",
   "metadata": {},
   "source": [
    "## Define variable names"
   ]
  },
  {
   "cell_type": "code",
   "execution_count": 16,
   "metadata": {},
   "outputs": [],
   "source": [
    "jordan.elevation = 'elevation_delta'\n",
    "jordan.L = 'segment_length'\n",
    "jordan.peak_Q = 'value'\n",
    "jordan.avg_Q = 'value'\n",
    "jordan.SWpump_eff = 1 # pumping efficiency"
   ]
  },
  {
   "cell_type": "markdown",
   "metadata": {},
   "source": [
    "## Calculate pumping energy requirements"
   ]
  },
  {
   "cell_type": "code",
   "execution_count": 17,
   "metadata": {},
   "outputs": [],
   "source": [
    "jordan.get_A(inplace=True)\n",
    "jordan.get_V(inplace=True, axis=0)\n",
    "jordan.get_Re(inplace=True, axis=0)\n",
    "jordan.get_f(inplace=True, axis=0)\n",
    "\n",
    "jordan.get_sw_tdh(inplace = True, axis=0)\n",
    "jordan.get_SWpumping_energy(inplace = True, axis=0)"
   ]
  },
  {
   "cell_type": "markdown",
   "metadata": {},
   "source": [
    "## Create nexus model for groundwater pumping"
   ]
  },
  {
   "cell_type": "code",
   "execution_count": 18,
   "metadata": {},
   "outputs": [],
   "source": [
    "# jordan.df['Q_per_meter_seg'] = jordan.df.value * jordan.df.segment_length / jordan.df.pipeline_length\n",
    "# _vec = jordan.df.groupby(['Year','Month','pipeline'])['Q_per_meter_seg'].sum()\n",
    "# jordan.df['Q_per_meter_pl'] = jordan.df.set_index(['Year', 'Month', 'pipeline']).index.map(_vec)"
   ]
  },
  {
   "cell_type": "code",
   "execution_count": 19,
   "metadata": {},
   "outputs": [],
   "source": [
    "file_path = os.path.join(input_folder, 'groundwater_supply.csv')\n",
    "df_groundwater = pd.read_csv(file_path)\n",
    "\n",
    "jordan_gw = nexus_tool.Model(df_groundwater)\n",
    "\n",
    "jordan_gw.df['Pipe_diameter'] = 0.4\n",
    "jordan_gw.elevation = 'wtd_m'\n",
    "jordan_gw.L = 'wtd_m'\n",
    "jordan_gw.peak_Q = 'value'\n",
    "jordan_gw.avg_Q = 'value'"
   ]
  },
  {
   "cell_type": "markdown",
   "metadata": {},
   "source": [
    "## Caluculate groundwater pumping energy"
   ]
  },
  {
   "cell_type": "code",
   "execution_count": 20,
   "metadata": {},
   "outputs": [],
   "source": [
    "jordan_gw.get_A(inplace=True)\n",
    "jordan_gw.get_V(inplace=True, axis=0)\n",
    "jordan_gw.get_Re(inplace=True, axis=0)\n",
    "jordan_gw.get_f(inplace=True, axis=0)\n",
    "\n",
    "jordan_gw.get_sw_tdh(inplace = True, axis=0)\n",
    "jordan_gw.get_SWpumping_energy(inplace = True, axis=0)"
   ]
  },
  {
   "cell_type": "markdown",
   "metadata": {},
   "source": [
    "## Calculate wastewater treatment energy"
   ]
  },
  {
   "cell_type": "code",
   "execution_count": 21,
   "metadata": {},
   "outputs": [],
   "source": [
    "file_path = os.path.join(input_folder, 'wwtp_inflow.csv')\n",
    "df_wwtp = pd.read_csv(file_path)\n",
    "\n",
    "wwtp_energy_int = 0.6 # kWh/m3\n",
    "df_wwtp['SWPA_E_'] = df_wwtp.value * wwtp_energy_int"
   ]
  },
  {
   "cell_type": "markdown",
   "metadata": {},
   "source": [
    "## Calculate desalination energy"
   ]
  },
  {
   "cell_type": "code",
   "execution_count": 22,
   "metadata": {},
   "outputs": [],
   "source": [
    "file_path = os.path.join(input_folder, 'Desalination.csv')\n",
    "df_desal = pd.read_csv(file_path)\n",
    "\n",
    "red_dead_energy_int = 3.31 # kWh/m3\n",
    "aqaba_energy_int = 5 # kWh/m3\n",
    "df_desal['SWPA_E_'] = 0\n",
    "\n",
    "df_desal.loc[df_desal.point=='RedDead', 'SWPA_E_'] = df_desal.loc[df_desal.point=='RedDead', 'value'] * red_dead_energy_int\n",
    "df_desal.loc[df_desal.point=='Aqaba Desal', 'SWPA_E_'] = df_desal.loc[df_desal.point=='Aqaba Desal', 'value'] * aqaba_energy_int"
   ]
  },
  {
   "cell_type": "markdown",
   "metadata": {},
   "source": [
    "## Save result files"
   ]
  },
  {
   "cell_type": "code",
   "execution_count": 24,
   "metadata": {},
   "outputs": [],
   "source": [
    "jordan.df.to_csv(os.path.join(results_folder, 'pipelines_data.csv'), index=False)\n",
    "jordan_gw.df.to_csv(os.path.join(results_folder, 'groundwater_pumping.csv'), index=False)\n",
    "df_wwtp.to_csv(os.path.join(results_folder, 'wwtp_data.csv'), index=False)\n",
    "df_desal.to_csv(os.path.join(results_folder, 'desal_data.csv'), index=False)"
   ]
  }
 ],
 "metadata": {
  "kernelspec": {
   "display_name": "Python 3",
   "language": "python",
   "name": "python3"
  },
  "language_info": {
   "codemirror_mode": {
    "name": "ipython",
    "version": 3
   },
   "file_extension": ".py",
   "mimetype": "text/x-python",
   "name": "python",
   "nbconvert_exporter": "python",
   "pygments_lexer": "ipython3",
   "version": "3.8.5"
  }
 },
 "nbformat": 4,
 "nbformat_minor": 4
}
