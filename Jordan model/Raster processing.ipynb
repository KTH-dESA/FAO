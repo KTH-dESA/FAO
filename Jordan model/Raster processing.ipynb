{
 "cells": [
  {
   "cell_type": "code",
   "execution_count": null,
   "metadata": {},
   "outputs": [],
   "source": [
    "import sys\n",
    "sys.path.append(\"..\") #this is to add the avobe folder to the package directory\n",
    "import rasterio\n",
    "from rasterio.plot import show\n",
    "import nexustool.weap_tools as wp\n",
    "from nexustool.gis_tools import download_data\n",
    "import os"
   ]
  },
  {
   "cell_type": "code",
   "execution_count": null,
   "metadata": {},
   "outputs": [],
   "source": [
    "gis_folder = os.path.join('data', 'gis') #define path to gis data folder"
   ]
  },
  {
   "cell_type": "markdown",
   "metadata": {},
   "source": [
    "## Downloading the GIS data"
   ]
  },
  {
   "cell_type": "markdown",
   "metadata": {},
   "source": [
    "### Digital Elevation Model"
   ]
  },
  {
   "cell_type": "code",
   "execution_count": null,
   "metadata": {},
   "outputs": [],
   "source": [
    "url = 'http://viewfinderpanoramas.org/dem3/H36.zip'\n",
    "file_path = os.path.join('data', 'gis', 'dem', 'H36.zip')\n",
    "download_data(url, file_path)\n",
    "\n",
    "url = 'http://viewfinderpanoramas.org/dem3/H37.zip'\n",
    "file_path = os.path.join('data', 'gis', 'dem', 'H37.zip')\n",
    "download_data(url, file_path)\n",
    "\n",
    "url = 'http://viewfinderpanoramas.org/dem3/I36.zip'\n",
    "file_path = os.path.join('data', 'gis', 'dem', 'I36.zip')\n",
    "download_data(url, file_path)\n",
    "\n",
    "url = 'http://viewfinderpanoramas.org/dem3/I37.zip'\n",
    "file_path = os.path.join('data', 'gis', 'dem', 'I37.zip')\n",
    "download_data(url, file_path)"
   ]
  },
  {
   "cell_type": "markdown",
   "metadata": {},
   "source": [
    "### Water table depth"
   ]
  },
  {
   "cell_type": "code",
   "execution_count": null,
   "metadata": {},
   "outputs": [],
   "source": [
    "url = 'https://jordan-nexus.s3.us-east-2.amazonaws.com/gis/wtd/Jordan+wtd.tif'\n",
    "file_path = os.path.join('data', 'gis', 'wtd', 'Jordan wtd.tif')\n",
    "download_data(url, file_path)"
   ]
  },
  {
   "cell_type": "markdown",
   "metadata": {},
   "source": [
    "## Mergin raster tiles"
   ]
  },
  {
   "cell_type": "code",
   "execution_count": null,
   "metadata": {},
   "outputs": [],
   "source": [
    "# merges the different DEM tiles into one tif raster\n",
    "dem_path = os.path.join(gis_folder, 'dem', 'DEM.tif')\n",
    "if not os.path.exists(dem_path):\n",
    "    wp.merge_rasters(os.path.join(gis_folder, 'dem', '*', '*.hgt'), \n",
    "                     'EPSG:4326', \n",
    "                     dem_path)\n",
    "\n",
    "with rasterio.open(os.path.join(gis_folder, 'dem', 'DEM.tif')) as src:\n",
    "    fig, ax = plt.subplots(figsize=(12, 12))\n",
    "    show(src, ax=ax, aspect='auto', cmap='terrain')"
   ]
  },
  {
   "cell_type": "markdown",
   "metadata": {},
   "source": [
    "## Mask rasters into country boundaries"
   ]
  },
  {
   "cell_type": "code",
   "execution_count": null,
   "metadata": {},
   "outputs": [],
   "source": [
    "#Masking elevation from DEM model to Jordan boundaries\n",
    "out_image, out_meta = wp.mask_raster(os.path.join(gis_folder, \n",
    "                                                  'dem', \n",
    "                                                  'DEM.tif'), \n",
    "                                     os.path.join(gis_folder, \n",
    "                                                  'admin', \n",
    "                                                  'JOR_adm0.shp'), \n",
    "                                     'EPSG:4326')\n",
    "\n",
    "#Writing masked raster to file\n",
    "with rasterio.open(os.path.join(gis_folder, \n",
    "                                'dem', \n",
    "                                'Jordan DEM.tif'), \n",
    "                   \"w\", **out_meta, compression='DEFLATE') as dest:\n",
    "    dest.write(out_image)"
   ]
  },
  {
   "cell_type": "markdown",
   "metadata": {},
   "source": [
    "## Displaying rasters"
   ]
  },
  {
   "cell_type": "code",
   "execution_count": null,
   "metadata": {},
   "outputs": [],
   "source": [
    "with rasterio.open(os.path.join(gis_folder, 'dem', 'Jordan DEM.tif')) as src:\n",
    "    fig, ax = plt.subplots(figsize=(12, 12))\n",
    "    show(src, ax=ax, aspect='auto', cmap='terrain')"
   ]
  },
  {
   "cell_type": "code",
   "execution_count": null,
   "metadata": {},
   "outputs": [],
   "source": [
    "with rasterio.open(os.path.join(gis_folder, 'wtd', 'Jordan wtd.tif')) as src:\n",
    "    fig, ax = plt.subplots(figsize=(12, 12))\n",
    "    show(src, ax=ax, aspect='auto', cmap='magma')"
   ]
  }
 ],
 "metadata": {
  "kernelspec": {
   "display_name": "Python 3",
   "language": "python",
   "name": "python3"
  },
  "language_info": {
   "codemirror_mode": {
    "name": "ipython",
    "version": 3
   },
   "file_extension": ".py",
   "mimetype": "text/x-python",
   "name": "python",
   "nbconvert_exporter": "python",
   "pygments_lexer": "ipython3",
   "version": "3.8.5"
  }
 },
 "nbformat": 4,
 "nbformat_minor": 4
}
