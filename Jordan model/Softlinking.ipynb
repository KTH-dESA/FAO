{
 "cells": [
  {
   "cell_type": "code",
   "execution_count": 3,
   "metadata": {},
   "outputs": [],
   "source": [
    "import sys\n",
    "sys.path.append(\"..\") #this is to add the avobe folder to the package directory\n",
    "import geopandas as gpd\n",
    "import pandas as pd\n",
    "import numpy as np\n",
    "import nexus_tool.weap_tools as wp\n",
    "import re\n",
    "from functools import reduce\n",
    "import os\n",
    "from shutil import copyfile"
   ]
  },
  {
   "cell_type": "code",
   "execution_count": 40,
   "metadata": {},
   "outputs": [],
   "source": [
    "def extract_weap(results, spacial_data, points, melt_on, regex):\n",
    "    df = pd.DataFrame()\n",
    "    for key, row in spacial_data.groupby(points):\n",
    "        df_temp = results.filter(regex=regex.format(key)).copy()\n",
    "        df_temp.columns = [i.split('\\\\')[-1] for i in df_temp.columns]\n",
    "        df_temp[points] = key\n",
    "        for i in melt_on:\n",
    "            df_temp[i] = results[i]\n",
    "        melt_vars = melt_on.copy()\n",
    "        melt_vars.append(points)\n",
    "        df = df.append(df_temp.melt(id_vars=melt_vars), sort=False)\n",
    "    return df.reset_index(drop=True)"
   ]
  },
  {
   "cell_type": "code",
   "execution_count": 41,
   "metadata": {},
   "outputs": [],
   "source": [
    "def extract(s, left, rigth):\n",
    "    mo = re.search(f'{left}(.*){rigth}', s)\n",
    "    if mo:\n",
    "        return mo.group(1)\n",
    "    return ''"
   ]
  },
  {
   "cell_type": "code",
   "execution_count": 42,
   "metadata": {},
   "outputs": [],
   "source": [
    "def get_demand_data(sheet_names, data, spatial_data, variable, regex):\n",
    "    merged_data = pd.DataFrame()\n",
    "    for sheet_name, value in sheet_names.items():\n",
    "        data_temp = data.parse(sheet_name, skiprows=5)\n",
    "        data_temp.rename(columns={'$Columns = Year': 'Year', ' Timestep': 'Month'}, inplace=True)\n",
    "        data_temp.columns = data_temp.columns.str.replace('\"', '')\n",
    "        merged_data_temp = extract_weap(data_temp, spatial_data, variable, ['Year','Month'], regex)\n",
    "        merged_data_temp['units'] = [extract(s, '\\[','\\]') for s in merged_data_temp.variable]\n",
    "        merged_data_temp['variable'] = [i.split('[')[0] for i in merged_data_temp.variable]\n",
    "        merged_data_temp['type'] = value\n",
    "        merged_data_temp.loc[merged_data_temp['type']=='variable', 'type'] = merged_data_temp.loc[merged_data_temp['type']=='variable', 'variable']\n",
    "\n",
    "        merged_data = merged_data.append(merged_data_temp, sort=False)\n",
    "        \n",
    "    return merged_data"
   ]
  },
  {
   "cell_type": "code",
   "execution_count": 43,
   "metadata": {},
   "outputs": [],
   "source": [
    "def enumerate_segments():\n",
    "    x = len(pl_flow.Year.unique())*12\n",
    "    pl_flow['n'] = 0\n",
    "    for key, group in pl_flow.groupby('pipeline'):\n",
    "        n = [[i]*x for i in range(int(group.shape[0]/x))]\n",
    "        n = reduce(lambda a, b: a + b, n)\n",
    "        pl_flow.loc[pl_flow.pipeline==key,'n'] = n"
   ]
  },
  {
   "cell_type": "code",
   "execution_count": 44,
   "metadata": {},
   "outputs": [],
   "source": [
    "def get_elevation_delta():  \n",
    "    pl_flow['elevation_delta'] = 0\n",
    "    for pipeline in pl_flow.pipeline.unique():\n",
    "        for n in range(pl_flow.loc[pl_flow.pipeline==pipeline, 'n'].max()):\n",
    "            elevation_1 = pl_flow.loc[(pl_flow.pipeline==pipeline) & (pl_flow.n==n), 'elevation']\n",
    "            elevation_2 = pl_flow.loc[(pl_flow.pipeline==pipeline) & (pl_flow.n==(n+1)), 'elevation']\n",
    "            pl_flow.loc[(pl_flow.pipeline==pipeline) & (pl_flow.n==n), 'elevation_delta'] = np.array(elevation_2) - np.array(elevation_1)"
   ]
  },
  {
   "cell_type": "code",
   "execution_count": 45,
   "metadata": {},
   "outputs": [],
   "source": [
    "files_dict = {'Reference': {'Eto trend': ['DataExchange - Reference.xlsm'], \n",
    "                            'Without Eto trend': ['DataExchange - Reference - No ETo Trend.xlsm']},\n",
    "              'Improve AG eff': {'Eto trend': ['DataExchange - Improve AG eff by 10percent.xlsm',\n",
    "                                               'DataExchange - Improve AG eff by 20percent.xlsm'], \n",
    "                                 'Without Eto trend': ['DataExchange - Improve AG eff by 10percent - No ETo Trend.xlsm',\n",
    "                                                       'DataExchange - Improve AG eff by 20percent - No ETo Trend.xlsm']},\n",
    "              'New Resources': {'Eto trend': ['DataExchange - New Resources.xlsm'], \n",
    "                                'Without Eto trend': ['DataExchange - New Resources - No ETo Trend.xlsm']},\n",
    "              'Reduce NRW': {'Eto trend': ['DataExchange - Reduce NRW to 40 percent.xlsm', \n",
    "                                           'DataExchange - Reduce NRW to 20 percent.xlsm'], \n",
    "                             'Without Eto trend': ['DataExchange - Reduce NRW to 40 percent - No ETo Trend.xlsm',\n",
    "                                                   'DataExchange - Reduce NRW to 20 percent - No ETo Trend.xlsm',]}}\n",
    "\n",
    "def create_folder(path):\n",
    "    if not os.path.exists(path):\n",
    "        os.mkdir(path)\n",
    "\n",
    "raw_data = os.path.join('Data/WEAP Results', 'Dec 08')\n",
    "results_path = os.path.join('Data/WEAP Results', 'Results')\n",
    "create_folder(results_path)\n",
    "for scenario, files in files_dict.items():\n",
    "    scenario_path = os.path.join(results_path, scenario)\n",
    "    create_folder(scenario_path)\n",
    "    for folder, file in files.items():\n",
    "        folder_path = os.path.join(scenario_path, folder)\n",
    "        create_folder(folder_path)\n",
    "        for i, f in enumerate(file):\n",
    "            dst = os.path.join(folder_path, f'level_{i+1}')\n",
    "            create_folder(dst)\n",
    "            copyfile(os.path.join(raw_data, f), os.path.join(dst, 'results.xlsm'))"
   ]
  },
  {
   "cell_type": "code",
   "execution_count": 46,
   "metadata": {},
   "outputs": [],
   "source": [
    "# scenarios = ['Reference', 'Improve AG eff', 'New Resources', 'Reduce NRW']\n",
    "scenarios = ['Reference']\n",
    "processed_data = os.path.join('Data/WEAP Results', 'Processed data')\n",
    "for scenario in scenarios:\n",
    "    scenario_folder = os.path.join(results_path, scenario)\n",
    "    create_folder(os.path.join(processed_data, scenario))\n",
    "    for sub_scenario in os.listdir(scenario_folder):\n",
    "        sub_scenario_folder = os.path.join(scenario_folder, sub_scenario)\n",
    "        create_folder(os.path.join(processed_data, scenario, sub_scenario))\n",
    "        for level in os.listdir(sub_scenario_folder):\n",
    "            output_folder = os.path.join(processed_data, scenario, sub_scenario, level)\n",
    "            create_folder(output_folder)\n",
    "            file = os.path.join(sub_scenario_folder, level, 'results.xlsm')\n",
    "            data = pd.ExcelFile(file)\n",
    "\n",
    "            sheet_names = {'Supply Requirement_AG': 'Agriculture', \n",
    "                           'Supply Requirement_Muni': 'Municipality', \n",
    "                           'Supply Requirement_Ind': 'Industry'}\n",
    "            required_demand = get_demand_data(sheet_names, data, demand, 'point', '^ {}')\n",
    "            required_demand['elevation_m'] = required_demand.point.map(demand.groupby('point')['elevation_m'].mean())\n",
    "\n",
    "            demand['type'] = demand.point.map(required_demand.groupby('point').agg({'type': 'first'}).type)\n",
    "\n",
    "            sheet_names = {'Supply Delivered_AG': 'Agriculture', \n",
    "                           'Supply Delivered_Muni': 'Municipality', \n",
    "                           'Supply Delivered_Ind': 'Industry'}\n",
    "            delivered_demand = get_demand_data(sheet_names, data, demand, 'point', '^ {}')\n",
    "            delivered_demand['elevation_m'] = delivered_demand.point.map(demand.groupby('point')['elevation_m'].mean())\n",
    "\n",
    "            demand.loc[demand['type'].isna(), 'type'] = demand.loc[demand['type'].isna(), 'point'].map(delivered_demand.groupby('point').agg({'type': 'first'}).type)\n",
    "\n",
    "            sheet_names = {'RedDead': 'Desalination'}\n",
    "            red_dead = get_demand_data(sheet_names, data, supply, 'point', '{}')\n",
    "            red_dead = red_dead.append(get_demand_data(sheet_names, data, demand, 'point', '{}'))\n",
    "            red_dead['point'] = 'RedDead'\n",
    "            sheet_names = {'Aqaba Desal': 'Desalination'}\n",
    "            aqaba_desal = get_demand_data(sheet_names, data, demand, 'point', '{}')\n",
    "            aqaba_desal['point'] = 'Aqaba Desal'\n",
    "            desalination = red_dead.append(aqaba_desal)\n",
    "            desalination['value'] = abs(desalination['value'])\n",
    "            desalination['variable'] = desalination.variable.str.strip()\n",
    "            \n",
    "            sheet_names = {'GW Pumping': 'Groundwater supply'}\n",
    "            gw_demand =  get_demand_data(sheet_names, data, groundwater, 'point', '^ {}')\n",
    "            gw_demand['wtd_m'] = gw_demand.point.map(groundwater.groupby('point')['wtd_m'].mean())\n",
    "\n",
    "            sheet_names = {'Groundwater': 'Thickness'}\n",
    "            gw_thickness =  get_demand_data(sheet_names, data, supply, 'point', '^ {}')\n",
    "            gw_thickness.rename(columns={'value': 'thickness', 'units': 'thickness_units'}, inplace=True)\n",
    "            gw_thickness.drop(columns='type', inplace=True)\n",
    "\n",
    "            for point in gw_thickness.point.unique():\n",
    "                _filter = (gw_thickness.point==point)\n",
    "                init_thickness = gw_thickness.loc[_filter].iloc[0].thickness\n",
    "                gw_thickness.loc[_filter, 'wtd'] = init_thickness - gw_thickness.loc[_filter, 'thickness'] + \\\n",
    "                                                   float(groundwater.loc[groundwater.point==point,'wtd_m'])\n",
    "            gw_demand = gw_demand.merge(gw_thickness, on=['Year','Month','point','variable'])\n",
    "\n",
    "            sheet_names = {'Wadis': 'River/pipeline supply'}\n",
    "            surface_water =  get_demand_data(sheet_names, data, supply, 'point', '{}')\n",
    "\n",
    "            sheet_names = {'WWTP Inflow': 'WWTP'}\n",
    "            wwtp_inflow =  get_demand_data(sheet_names, data, supply, 'point', '^ {}')\n",
    "\n",
    "            pl_flow = pd.DataFrame()\n",
    "\n",
    "            for sheet_name in ['Pipelines', 'PumpStations']:\n",
    "                pl_data = data.parse(sheet_name, skiprows=5)\n",
    "                pl_data.rename(columns={'$Columns = Year': 'Year', ' Timestep': 'Month'}, inplace=True)\n",
    "                pl_data.columns = pl_data.columns.str.replace('\"', '')\n",
    "                pl_data.columns = pl_data.columns.str.replace('  ', ' ')\n",
    "                pl_data.columns = pl_data.columns.str.strip()\n",
    "                if sheet_name == 'Pipelines':\n",
    "                    pl_data[\"PL_ZaraMain2SZ09SZ06 0 \\ Reach[Cubic Meter]\"] = pl_data[\"PL_ZaraMain2SZ09SZ06 0 \\ Headflow[Cubic Meter]\"]\n",
    "\n",
    "                df_pl_temp = extract_weap(pl_data, df_pl, 'pipeline', ['Year','Month'], '^{} [0-9]')\n",
    "                df_pl_temp['units'] = [extract(s, '\\[', '\\]') for s in df_pl_temp.variable]\n",
    "                df_pl_temp['variable'] = [(i).split('[')[0].strip() for i in df_pl_temp.variable]\n",
    "\n",
    "                pl_flow = pl_flow.append(df_pl_temp, sort=False)\n",
    "\n",
    "            \n",
    "            pl_flow = pl_flow.loc[~pl_flow.variable.str.contains('FR')]\n",
    "\n",
    "            pl_flow['point'] = np.nan\n",
    "            _vec = ~pl_flow.variable.isin(['Headflow','Reach'])\n",
    "            pl_flow.loc[_vec,'point'] = pl_flow.loc[_vec,'variable']\n",
    "\n",
    "            _df = pl_flow.loc[(pl_flow.Year==2020) & (pl_flow.Month==1)].groupby('pipeline').count()\n",
    "            idx = _df.loc[_df.point<3].index\n",
    "            _df = pl_flow.loc[pl_flow.pipeline.isin(idx)].copy()\n",
    "               \n",
    "\n",
    "            for pipeline in _df.pipeline.unique():\n",
    "                for row in df_pl.loc[df_pl.pipeline==pipeline].iterrows():\n",
    "                    if (row[1].point not in _df.loc[(_df.pipeline==pipeline), 'variable'].unique()) & (row[1].type=='Diversion Outflow'):\n",
    "                        pl_flow.loc[(pl_flow.pipeline==pipeline) & (pl_flow.variable=='Headflow'), 'point'] = row[1].point\n",
    "                    elif (row[1].point not in _df.loc[(_df.pipeline==pipeline), 'variable'].unique()) & (row[1].type=='Tributary inflow'):\n",
    "                            pl_flow.loc[(pl_flow.pipeline==pipeline) & (pl_flow.variable=='Reach'), 'point'] = row[1].point\n",
    "\n",
    "            \n",
    "            _df = df_pl[['pipeline','point','index']].groupby(['pipeline','point']).mean()\n",
    "            # _df = _df.reset_index().set_index('point')\n",
    "            _pl_flow = pl_flow.set_index(['pipeline','point'])\n",
    "            _index = _pl_flow.index.map(_df['index'].to_dict())\n",
    "            pl_flow['pl_index'] = [(i + 0.5) if i%1==0.5 else (i) for i in _index]\n",
    "            pl_flow['elevation'] = pl_flow.point.map(df_pl.groupby('point')['elevation_m'].mean().to_dict())\n",
    "            pl_flow['segment_length'] = pl_flow.pl_index.map(df_pl.groupby('index')['segment_length_m'].mean().to_dict())\n",
    "            pl_flow['pipeline_length'] = pl_flow.pipeline.map(df_pl.groupby('pipeline')['pl_length_m'].mean().to_dict())\n",
    "\n",
    "            pl_flow.dropna(subset=['point'], inplace=True)\n",
    "            \n",
    "\n",
    "            enumerate_segments()\n",
    "            get_elevation_delta()\n",
    "\n",
    "            pl_flow.loc[(pl_flow.variable=='Reach') & (pl_flow.elevation_delta!=0), 'point'] = np.nan\n",
    "            pl_flow.dropna(subset=['point'], inplace=True)\n",
    "            \n",
    "\n",
    "            enumerate_segments()\n",
    "            get_elevation_delta()\n",
    "\n",
    "            _point = supply.loc[supply['type']=='River/pipeline supply'].point.unique()\n",
    "#             _pipe = pl_flow.loc[pl_flow['point'].isin(_point)].pipeline.unique()\n",
    "            _pipe = pl_flow.pipeline.unique()\n",
    "            pl_flow['water_use'] = 0\n",
    "            for pipe in _pipe:\n",
    "#                 n = pl_flow.loc[(pl_flow['pipeline']==pipe) & pl_flow['point'].isin(_point)].n.unique()\n",
    "                n = pl_flow.loc[(pl_flow['pipeline']==pipe)].n.unique()\n",
    "                for _n in range(1,n.max()+1):\n",
    "                    \n",
    "                    value2 = np.array(pl_flow.loc[(pl_flow['pipeline']==pipe) & (pl_flow['n']==_n), 'value'])\n",
    "                    value1 = np.array(pl_flow.loc[(pl_flow['pipeline']==pipe) & (pl_flow['n']==(_n-1)), 'value'])\n",
    "                    pl_flow.loc[(pl_flow['pipeline']==pipe) & (pl_flow['n']==_n), 'water_use'] = abs(value1 - value2)\n",
    "                \n",
    "                if pl_flow.loc[(pl_flow['pipeline']==pipe)].water_use.sum() == 0:\n",
    "                    pl_flow.loc[(pl_flow['pipeline']==pipe), 'water_use'] = \\\n",
    "                                                    pl_flow.loc[(pl_flow['pipeline']==pipe), 'value'].mean()/\\\n",
    "                                                    pl_flow.loc[(pl_flow['pipeline']==pipe), 'value'].count()\n",
    "            \n",
    "            \n",
    "            pl_flow['type'] = np.nan\n",
    "            pl_flow.loc[pl_flow['point'].isin(_point), 'type'] = 'River/pipeline supply'\n",
    "            \n",
    "            desalination.to_csv(os.path.join(output_folder, 'Desalination.csv'), index=False)\n",
    "            wwtp_inflow.to_csv(os.path.join(output_folder, 'WWTP_inflow.csv'), index=False)\n",
    "            surface_water.to_csv(os.path.join(output_folder, 'Surface_water_supply.csv'), index=False)\n",
    "            gw_demand.to_csv(os.path.join(output_folder, 'Groundwater_supply.csv'), index=False)\n",
    "            delivered_demand.to_csv(os.path.join(output_folder, 'Delivered_demand.csv'), index=False)\n",
    "            required_demand.to_csv(os.path.join(output_folder, 'Required_demand.csv'), index=False)\n",
    "            pl_flow.to_csv(os.path.join(output_folder, 'Pipelines_flow.csv'), index=False)\n",
    "            "
   ]
  },
  {
   "cell_type": "code",
   "execution_count": 76,
   "metadata": {},
   "outputs": [],
   "source": [
    "def get_demand_data(sheet_names, data, spatial_data, variable, regex):\n",
    "    merged_data = pd.DataFrame()\n",
    "    for sheet_name, value in sheet_names.items():\n",
    "        data_temp = data.parse(sheet_name, skiprows=5)\n",
    "        data_temp.columns = data_temp.columns.str.replace('\"', '')\n",
    "        merged_data_temp = extract_weap(data_temp, spatial_data, variable, ['Year'], regex)\n",
    "        merged_data_temp['units'] = 'kg'\n",
    "        merged_data_temp['variable'] = [i.split('[')[0] for i in merged_data_temp.variable]\n",
    "        merged_data_temp['type'] = value\n",
    "        merged_data_temp.loc[merged_data_temp['type']=='variable', 'type'] = merged_data_temp.loc[merged_data_temp['type']=='variable', 'variable']\n",
    "\n",
    "        merged_data = merged_data.append(merged_data_temp, sort=False)\n",
    "        \n",
    "    return merged_data"
   ]
  },
  {
   "cell_type": "code",
   "execution_count": 117,
   "metadata": {},
   "outputs": [],
   "source": [
    "def extract_weap(results, spacial_data, points, melt_on, regex):\n",
    "    df = pd.DataFrame()\n",
    "    for key, row in spacial_data.groupby(points):\n",
    "        df_temp = results.filter(regex=regex.format(key.replace('Agriculture', 'Agri').replace(' ',''))).copy()\n",
    "        df_temp.columns = [i.split('\\\\')[-1] for i in df_temp.columns]\n",
    "        df_temp[points] = key\n",
    "        for i in melt_on:\n",
    "            df_temp[i] = results[i]\n",
    "        melt_vars = melt_on.copy()\n",
    "        melt_vars.append(points)\n",
    "        df = df.append(df_temp.melt(id_vars=melt_vars), sort=False)\n",
    "    return df.reset_index(drop=True)"
   ]
  },
  {
   "cell_type": "code",
   "execution_count": 118,
   "metadata": {},
   "outputs": [],
   "source": [
    "file = r\"Data\\WEAP Results\\Crop Production.xlsx\"\n",
    "data = pd.ExcelFile(file)\n",
    "sheet_names = {'WEAP Export': 'Crop production'}\n",
    "crop_production =  get_demand_data(sheet_names, data, demand, 'point', '^{}')"
   ]
  },
  {
   "cell_type": "code",
   "execution_count": 122,
   "metadata": {},
   "outputs": [],
   "source": [
    "import plotly.express as px"
   ]
  },
  {
   "cell_type": "code",
   "execution_count": 129,
   "metadata": {},
   "outputs": [
    {
     "data": {
      "application/vnd.plotly.v1+json": {
       "config": {
        "plotlyServerURL": "https://plot.ly"
       },
       "data": [
        {
         "alignmentgroup": "True",
         "hovertemplate": "variable=Barley<br>Year=%{x}<br>value=%{y}<extra></extra>",
         "legendgroup": "Barley",
         "marker": {
          "color": "#636efa"
         },
         "name": "Barley",
         "offsetgroup": "Barley",
         "orientation": "v",
         "showlegend": true,
         "textposition": "auto",
         "type": "bar",
         "x": [
          2019,
          2020,
          2021,
          2022,
          2023,
          2024,
          2025,
          2026,
          2027,
          2028,
          2029,
          2030,
          2031,
          2032,
          2033,
          2034,
          2035,
          2036,
          2037,
          2038,
          2039,
          2040,
          2041,
          2042,
          2043,
          2044,
          2045,
          2046,
          2047,
          2048,
          2049,
          2050
         ],
         "xaxis": "x",
         "y": [
          0,
          4262.400000000001,
          4262.400000000001,
          4262.400000000001,
          4262.400000000001,
          4262.400000000001,
          4262.400000000001,
          4262.400000000001,
          4262.400000000001,
          4262.400000000001,
          4262.400000000001,
          4262.400000000001,
          4262.400000000001,
          4262.400000000001,
          4262.400000000001,
          4262.400000000001,
          4262.400000000001,
          4262.400000000001,
          4262.400000000001,
          4262.400000000001,
          4262.400000000001,
          4262.400000000001,
          4262.400000000001,
          4262.400000000001,
          4262.400000000001,
          4262.400000000001,
          4262.400000000001,
          4262.400000000001,
          4262.400000000001,
          4262.400000000001,
          4262.400000000001,
          4262.400000000001
         ],
         "yaxis": "y"
        },
        {
         "alignmentgroup": "True",
         "hovertemplate": "variable=Citrus<br>Year=%{x}<br>value=%{y}<extra></extra>",
         "legendgroup": "Citrus",
         "marker": {
          "color": "#EF553B"
         },
         "name": "Citrus",
         "offsetgroup": "Citrus",
         "orientation": "v",
         "showlegend": true,
         "textposition": "auto",
         "type": "bar",
         "x": [
          2019,
          2020,
          2021,
          2022,
          2023,
          2024,
          2025,
          2026,
          2027,
          2028,
          2029,
          2030,
          2031,
          2032,
          2033,
          2034,
          2035,
          2036,
          2037,
          2038,
          2039,
          2040,
          2041,
          2042,
          2043,
          2044,
          2045,
          2046,
          2047,
          2048,
          2049,
          2050
         ],
         "xaxis": "x",
         "y": [
          216098.60000000003,
          216098.60000000003,
          216098.60000000003,
          216098.60000000003,
          216098.60000000003,
          216098.60000000003,
          216098.60000000003,
          216098.60000000003,
          216098.60000000003,
          216098.60000000003,
          216098.60000000003,
          216098.60000000003,
          216098.60000000003,
          216098.60000000003,
          216098.60000000003,
          216098.60000000003,
          216098.60000000003,
          216098.60000000003,
          216098.60000000003,
          216098.60000000003,
          216098.60000000003,
          216098.60000000003,
          216098.60000000003,
          216098.60000000003,
          216098.60000000003,
          216098.60000000003,
          216098.60000000003,
          216098.60000000003,
          216098.60000000003,
          216098.60000000003,
          216098.60000000003,
          216098.60000000003
         ],
         "yaxis": "y"
        },
        {
         "alignmentgroup": "True",
         "hovertemplate": "variable=Dates<br>Year=%{x}<br>value=%{y}<extra></extra>",
         "legendgroup": "Dates",
         "marker": {
          "color": "#00cc96"
         },
         "name": "Dates",
         "offsetgroup": "Dates",
         "orientation": "v",
         "showlegend": true,
         "textposition": "auto",
         "type": "bar",
         "x": [
          2019,
          2020,
          2021,
          2022,
          2023,
          2024,
          2025,
          2026,
          2027,
          2028,
          2029,
          2030,
          2031,
          2032,
          2033,
          2034,
          2035,
          2036,
          2037,
          2038,
          2039,
          2040,
          2041,
          2042,
          2043,
          2044,
          2045,
          2046,
          2047,
          2048,
          2049,
          2050
         ],
         "xaxis": "x",
         "y": [
          3354043.2,
          3354043.2,
          3354043.2,
          3354043.2,
          3354043.2,
          3354043.2,
          3354043.2,
          3354043.2,
          3354043.2,
          3354043.2,
          3354043.2,
          3354043.2,
          3354043.2,
          3354043.2,
          3354043.2,
          3354043.2,
          3354043.2,
          3354043.2,
          3354043.2,
          3354043.2,
          3354043.2,
          3354043.2,
          3354043.2,
          3354043.2,
          3354043.2,
          3354043.2,
          3354043.2,
          3354043.2,
          3354043.2,
          3354043.2,
          3354043.2,
          3354043.2
         ],
         "yaxis": "y"
        },
        {
         "alignmentgroup": "True",
         "hovertemplate": "variable=Grapes<br>Year=%{x}<br>value=%{y}<extra></extra>",
         "legendgroup": "Grapes",
         "marker": {
          "color": "#ab63fa"
         },
         "name": "Grapes",
         "offsetgroup": "Grapes",
         "orientation": "v",
         "showlegend": true,
         "textposition": "auto",
         "type": "bar",
         "x": [
          2019,
          2020,
          2021,
          2022,
          2023,
          2024,
          2025,
          2026,
          2027,
          2028,
          2029,
          2030,
          2031,
          2032,
          2033,
          2034,
          2035,
          2036,
          2037,
          2038,
          2039,
          2040,
          2041,
          2042,
          2043,
          2044,
          2045,
          2046,
          2047,
          2048,
          2049,
          2050
         ],
         "xaxis": "x",
         "y": [
          3789720,
          3789720,
          3789720,
          3789720,
          3789720,
          3789720,
          3789720,
          3789720,
          3789720,
          3789720,
          3789720,
          3789720,
          3789720,
          3789720,
          3789720,
          3789720,
          3789720,
          3789720,
          3789720,
          3789720,
          3789720,
          3789720,
          3789720,
          3789720,
          3789720,
          3789720,
          3789720,
          3789720,
          3789720,
          3789720,
          3789720,
          3789720
         ],
         "yaxis": "y"
        },
        {
         "alignmentgroup": "True",
         "hovertemplate": "variable=Olives<br>Year=%{x}<br>value=%{y}<extra></extra>",
         "legendgroup": "Olives",
         "marker": {
          "color": "#FFA15A"
         },
         "name": "Olives",
         "offsetgroup": "Olives",
         "orientation": "v",
         "showlegend": true,
         "textposition": "auto",
         "type": "bar",
         "x": [
          2019,
          2020,
          2021,
          2022,
          2023,
          2024,
          2025,
          2026,
          2027,
          2028,
          2029,
          2030,
          2031,
          2032,
          2033,
          2034,
          2035,
          2036,
          2037,
          2038,
          2039,
          2040,
          2041,
          2042,
          2043,
          2044,
          2045,
          2046,
          2047,
          2048,
          2049,
          2050
         ],
         "xaxis": "x",
         "y": [
          1402667.4000000001,
          1402667.4000000001,
          1402667.4000000001,
          1402667.4000000001,
          1402667.4000000001,
          1402667.4000000001,
          1402667.4000000001,
          1402667.4000000001,
          1402667.4000000001,
          1402667.4000000001,
          1402667.4000000001,
          1402667.4000000001,
          1402667.4000000001,
          1402667.4000000001,
          1402667.4000000001,
          1402667.4000000001,
          1402667.4000000001,
          1402667.4000000001,
          1402667.4000000001,
          1402667.4000000001,
          1402667.4000000001,
          1402667.4000000001,
          1402667.4000000001,
          1402667.4000000001,
          1402667.4000000001,
          1402667.4000000001,
          1402667.4000000001,
          1402667.4000000001,
          1402667.4000000001,
          1402667.4000000001,
          1402667.4000000001,
          1402667.4000000001
         ],
         "yaxis": "y"
        },
        {
         "alignmentgroup": "True",
         "hovertemplate": "variable=Other Cereals<br>Year=%{x}<br>value=%{y}<extra></extra>",
         "legendgroup": "Other Cereals",
         "marker": {
          "color": "#19d3f3"
         },
         "name": "Other Cereals",
         "offsetgroup": "Other Cereals",
         "orientation": "v",
         "showlegend": true,
         "textposition": "auto",
         "type": "bar",
         "x": [
          2019,
          2020,
          2021,
          2022,
          2023,
          2024,
          2025,
          2026,
          2027,
          2028,
          2029,
          2030,
          2031,
          2032,
          2033,
          2034,
          2035,
          2036,
          2037,
          2038,
          2039,
          2040,
          2041,
          2042,
          2043,
          2044,
          2045,
          2046,
          2047,
          2048,
          2049,
          2050
         ],
         "xaxis": "x",
         "y": [
          12605.29228459785,
          20860.104907019922,
          13832.28344119481,
          14451.189138090996,
          13977.568915731694,
          21063.13639176354,
          13508.760353406073,
          13975.06679611723,
          14720.000000000002,
          20821.226894405365,
          13555.793523200871,
          14116.31795884784,
          14578.465385276337,
          21934.589483155898,
          13438.215510086775,
          13637.398763373072,
          14570.003759881602,
          21490.461832885165,
          14565.892145853375,
          14566.888868526472,
          14561.753501893847,
          22080,
          14720.000000000002,
          13368.801658078635,
          14720.000000000002,
          22080,
          14720.000000000002,
          14720.000000000002,
          14720.000000000002,
          22080,
          13332.830393591474,
          14545.335729561233
         ],
         "yaxis": "y"
        },
        {
         "alignmentgroup": "True",
         "hovertemplate": "variable=Other Fruit Trees<br>Year=%{x}<br>value=%{y}<extra></extra>",
         "legendgroup": "Other Fruit Trees",
         "marker": {
          "color": "#FF6692"
         },
         "name": "Other Fruit Trees",
         "offsetgroup": "Other Fruit Trees",
         "orientation": "v",
         "showlegend": true,
         "textposition": "auto",
         "type": "bar",
         "x": [
          2019,
          2020,
          2021,
          2022,
          2023,
          2024,
          2025,
          2026,
          2027,
          2028,
          2029,
          2030,
          2031,
          2032,
          2033,
          2034,
          2035,
          2036,
          2037,
          2038,
          2039,
          2040,
          2041,
          2042,
          2043,
          2044,
          2045,
          2046,
          2047,
          2048,
          2049,
          2050
         ],
         "xaxis": "x",
         "y": [
          4767268.7,
          4767268.7,
          4767268.7,
          4767268.7,
          4767268.7,
          4767268.7,
          4767268.7,
          4767268.7,
          4767268.7,
          4767268.7,
          4767268.7,
          4767268.7,
          4767268.7,
          4767268.7,
          4767268.7,
          4767268.7,
          4767268.7,
          4767268.7,
          4767268.7,
          4767268.7,
          4767268.7,
          4767268.7,
          4767268.7,
          4767268.7,
          4767268.7,
          4767268.7,
          4767268.7,
          4767268.7,
          4767268.7,
          4767268.7,
          4767268.7,
          4767268.7
         ],
         "yaxis": "y"
        },
        {
         "alignmentgroup": "True",
         "hovertemplate": "variable=Summer Potatoes<br>Year=%{x}<br>value=%{y}<extra></extra>",
         "legendgroup": "Summer Potatoes",
         "marker": {
          "color": "#B6E880"
         },
         "name": "Summer Potatoes",
         "offsetgroup": "Summer Potatoes",
         "orientation": "v",
         "showlegend": true,
         "textposition": "auto",
         "type": "bar",
         "x": [
          2019,
          2020,
          2021,
          2022,
          2023,
          2024,
          2025,
          2026,
          2027,
          2028,
          2029,
          2030,
          2031,
          2032,
          2033,
          2034,
          2035,
          2036,
          2037,
          2038,
          2039,
          2040,
          2041,
          2042,
          2043,
          2044,
          2045,
          2046,
          2047,
          2048,
          2049,
          2050
         ],
         "xaxis": "x",
         "y": [
          40786875,
          40786875,
          40786875,
          40786875,
          40786875,
          40786875,
          40786875,
          40786875,
          40786875,
          40786875,
          40786875,
          40786875,
          40786875,
          40786875,
          40786875,
          40786875,
          40786875,
          40786875,
          40786875,
          40786875,
          40786875,
          40786875,
          40786875,
          40786875,
          40786875,
          40786875,
          40786875,
          40786875,
          40786875,
          40786875,
          40786875,
          40786875
         ],
         "yaxis": "y"
        },
        {
         "alignmentgroup": "True",
         "hovertemplate": "variable=Summer Tomatoes<br>Year=%{x}<br>value=%{y}<extra></extra>",
         "legendgroup": "Summer Tomatoes",
         "marker": {
          "color": "#FF97FF"
         },
         "name": "Summer Tomatoes",
         "offsetgroup": "Summer Tomatoes",
         "orientation": "v",
         "showlegend": true,
         "textposition": "auto",
         "type": "bar",
         "x": [
          2019,
          2020,
          2021,
          2022,
          2023,
          2024,
          2025,
          2026,
          2027,
          2028,
          2029,
          2030,
          2031,
          2032,
          2033,
          2034,
          2035,
          2036,
          2037,
          2038,
          2039,
          2040,
          2041,
          2042,
          2043,
          2044,
          2045,
          2046,
          2047,
          2048,
          2049,
          2050
         ],
         "xaxis": "x",
         "y": [
          358522084.80000013,
          358522084.80000013,
          358518471.31149644,
          358517237.9258641,
          358522084.80000013,
          358084195.67685807,
          358510325.7919771,
          358522084.80000013,
          358517280.90238804,
          358518365.0877106,
          358522084.80000013,
          358522084.80000013,
          358518837.1760434,
          358522084.80000013,
          358522084.80000013,
          358518749.2150284,
          358522084.80000013,
          358522084.80000013,
          358518825.47498643,
          358517426.269092,
          358516708.9020957,
          358516677.3314564,
          358516664.8259419,
          358516613.61377966,
          358516581.71852845,
          358516549.8834125,
          358517264.9121158,
          358516485.631528,
          358522084.80000013,
          358248109.8847925,
          358517141.63543,
          358522084.80000013
         ],
         "yaxis": "y"
        },
        {
         "alignmentgroup": "True",
         "hovertemplate": "variable=Summer Vegetables<br>Year=%{x}<br>value=%{y}<extra></extra>",
         "legendgroup": "Summer Vegetables",
         "marker": {
          "color": "#FECB52"
         },
         "name": "Summer Vegetables",
         "offsetgroup": "Summer Vegetables",
         "orientation": "v",
         "showlegend": true,
         "textposition": "auto",
         "type": "bar",
         "x": [
          2019,
          2020,
          2021,
          2022,
          2023,
          2024,
          2025,
          2026,
          2027,
          2028,
          2029,
          2030,
          2031,
          2032,
          2033,
          2034,
          2035,
          2036,
          2037,
          2038,
          2039,
          2040,
          2041,
          2042,
          2043,
          2044,
          2045,
          2046,
          2047,
          2048,
          2049,
          2050
         ],
         "xaxis": "x",
         "y": [
          30755202.600000005,
          30755202.600000005,
          30755202.600000005,
          30755202.600000005,
          30755202.600000005,
          30755202.600000005,
          30755202.600000005,
          30755202.600000005,
          30755202.600000005,
          30755202.600000005,
          30755202.600000005,
          30755202.600000005,
          30755202.600000005,
          30755202.600000005,
          30755202.600000005,
          30755202.600000005,
          30755202.600000005,
          30755202.600000005,
          30755202.600000005,
          30755202.600000005,
          30755202.600000005,
          30755202.600000005,
          30755202.600000005,
          30755202.600000005,
          30755202.600000005,
          30755202.600000005,
          30755202.600000005,
          30755202.600000005,
          30755202.600000005,
          30755202.600000005,
          30755202.600000005,
          30755202.600000005
         ],
         "yaxis": "y"
        },
        {
         "alignmentgroup": "True",
         "hovertemplate": "variable=Wheat<br>Year=%{x}<br>value=%{y}<extra></extra>",
         "legendgroup": "Wheat",
         "marker": {
          "color": "#636efa"
         },
         "name": "Wheat",
         "offsetgroup": "Wheat",
         "orientation": "v",
         "showlegend": true,
         "textposition": "auto",
         "type": "bar",
         "x": [
          2019,
          2020,
          2021,
          2022,
          2023,
          2024,
          2025,
          2026,
          2027,
          2028,
          2029,
          2030,
          2031,
          2032,
          2033,
          2034,
          2035,
          2036,
          2037,
          2038,
          2039,
          2040,
          2041,
          2042,
          2043,
          2044,
          2045,
          2046,
          2047,
          2048,
          2049,
          2050
         ],
         "xaxis": "x",
         "y": [
          0,
          14288.400000000001,
          14288.400000000001,
          14288.400000000001,
          14288.400000000001,
          14288.400000000001,
          14288.400000000001,
          14288.400000000001,
          14288.400000000001,
          14288.400000000001,
          14288.400000000001,
          14288.400000000001,
          14288.400000000001,
          14288.400000000001,
          14288.400000000001,
          14288.400000000001,
          14288.400000000001,
          14288.400000000001,
          14288.400000000001,
          14288.400000000001,
          14288.400000000001,
          14288.400000000001,
          14288.400000000001,
          14288.400000000001,
          14288.400000000001,
          14288.400000000001,
          14288.400000000001,
          14288.400000000001,
          14288.400000000001,
          14288.400000000001,
          14288.400000000001,
          14288.400000000001
         ],
         "yaxis": "y"
        },
        {
         "alignmentgroup": "True",
         "hovertemplate": "variable=Winter Potatoes<br>Year=%{x}<br>value=%{y}<extra></extra>",
         "legendgroup": "Winter Potatoes",
         "marker": {
          "color": "#EF553B"
         },
         "name": "Winter Potatoes",
         "offsetgroup": "Winter Potatoes",
         "orientation": "v",
         "showlegend": true,
         "textposition": "auto",
         "type": "bar",
         "x": [
          2019,
          2020,
          2021,
          2022,
          2023,
          2024,
          2025,
          2026,
          2027,
          2028,
          2029,
          2030,
          2031,
          2032,
          2033,
          2034,
          2035,
          2036,
          2037,
          2038,
          2039,
          2040,
          2041,
          2042,
          2043,
          2044,
          2045,
          2046,
          2047,
          2048,
          2049,
          2050
         ],
         "xaxis": "x",
         "y": [
          8880244,
          8875690.611159118,
          8870581.556804068,
          8880244,
          8880244,
          8880244,
          8880244,
          8880244,
          8880244,
          8875370.797735967,
          8880244,
          8880244,
          8880244,
          8880244,
          8873287.743844131,
          8880244,
          8880244,
          8880244,
          8880244,
          8880244,
          8880244,
          8880244,
          8880244,
          8872027.319017874,
          8880244,
          8880244,
          8880244,
          8880244,
          8880244,
          8880244,
          8869500.294623757,
          8880244
         ],
         "yaxis": "y"
        },
        {
         "alignmentgroup": "True",
         "hovertemplate": "variable=Winter Tomatoes<br>Year=%{x}<br>value=%{y}<extra></extra>",
         "legendgroup": "Winter Tomatoes",
         "marker": {
          "color": "#00cc96"
         },
         "name": "Winter Tomatoes",
         "offsetgroup": "Winter Tomatoes",
         "orientation": "v",
         "showlegend": true,
         "textposition": "auto",
         "type": "bar",
         "x": [
          2019,
          2020,
          2021,
          2022,
          2023,
          2024,
          2025,
          2026,
          2027,
          2028,
          2029,
          2030,
          2031,
          2032,
          2033,
          2034,
          2035,
          2036,
          2037,
          2038,
          2039,
          2040,
          2041,
          2042,
          2043,
          2044,
          2045,
          2046,
          2047,
          2048,
          2049,
          2050
         ],
         "xaxis": "x",
         "y": [
          18947354.4,
          19350489.599999998,
          19350489.599999998,
          19323822.68625572,
          19350489.599999998,
          19350252.7969948,
          19330301.00460923,
          19319843.39446116,
          19350489.599999998,
          19350489.599999998,
          19350489.599999998,
          19329648.698907066,
          19350489.599999998,
          19350489.599999998,
          19343697.561553285,
          19350489.599999998,
          19350489.599999998,
          19330123.94901769,
          19350489.599999998,
          19350489.599999998,
          19350489.599999998,
          19350489.599999998,
          19350489.599999998,
          19350489.599999998,
          19350489.599999998,
          19350489.599999998,
          19350489.599999998,
          19350489.599999998,
          19350489.599999998,
          19350489.599999998,
          19350489.599999998,
          19350489.599999998
         ],
         "yaxis": "y"
        },
        {
         "alignmentgroup": "True",
         "hovertemplate": "variable=Winter Vegetables<br>Year=%{x}<br>value=%{y}<extra></extra>",
         "legendgroup": "Winter Vegetables",
         "marker": {
          "color": "#ab63fa"
         },
         "name": "Winter Vegetables",
         "offsetgroup": "Winter Vegetables",
         "orientation": "v",
         "showlegend": true,
         "textposition": "auto",
         "type": "bar",
         "x": [
          2019,
          2020,
          2021,
          2022,
          2023,
          2024,
          2025,
          2026,
          2027,
          2028,
          2029,
          2030,
          2031,
          2032,
          2033,
          2034,
          2035,
          2036,
          2037,
          2038,
          2039,
          2040,
          2041,
          2042,
          2043,
          2044,
          2045,
          2046,
          2047,
          2048,
          2049,
          2050
         ],
         "xaxis": "x",
         "y": [
          0,
          7818294.900000001,
          7818294.900000001,
          7818294.900000001,
          7818294.900000001,
          7818294.900000001,
          7818294.900000001,
          7818294.900000001,
          7818294.900000001,
          7818294.900000001,
          7818294.900000001,
          7818294.900000001,
          7818294.900000001,
          7818294.900000001,
          7818294.900000001,
          7818294.900000001,
          7818294.900000001,
          7818294.900000001,
          7818294.900000001,
          7818294.900000001,
          7818294.900000001,
          7818294.900000001,
          7818294.900000001,
          7818294.900000001,
          7818294.900000001,
          7818294.900000001,
          7818294.900000001,
          7818294.900000001,
          7818294.900000001,
          7818294.900000001,
          7818294.900000001,
          7818294.900000001
         ],
         "yaxis": "y"
        }
       ],
       "layout": {
        "barmode": "relative",
        "legend": {
         "title": {
          "text": "variable"
         },
         "tracegroupgap": 0
        },
        "margin": {
         "t": 60
        },
        "template": {
         "data": {
          "bar": [
           {
            "error_x": {
             "color": "#2a3f5f"
            },
            "error_y": {
             "color": "#2a3f5f"
            },
            "marker": {
             "line": {
              "color": "#E5ECF6",
              "width": 0.5
             }
            },
            "type": "bar"
           }
          ],
          "barpolar": [
           {
            "marker": {
             "line": {
              "color": "#E5ECF6",
              "width": 0.5
             }
            },
            "type": "barpolar"
           }
          ],
          "carpet": [
           {
            "aaxis": {
             "endlinecolor": "#2a3f5f",
             "gridcolor": "white",
             "linecolor": "white",
             "minorgridcolor": "white",
             "startlinecolor": "#2a3f5f"
            },
            "baxis": {
             "endlinecolor": "#2a3f5f",
             "gridcolor": "white",
             "linecolor": "white",
             "minorgridcolor": "white",
             "startlinecolor": "#2a3f5f"
            },
            "type": "carpet"
           }
          ],
          "choropleth": [
           {
            "colorbar": {
             "outlinewidth": 0,
             "ticks": ""
            },
            "type": "choropleth"
           }
          ],
          "contour": [
           {
            "colorbar": {
             "outlinewidth": 0,
             "ticks": ""
            },
            "colorscale": [
             [
              0,
              "#0d0887"
             ],
             [
              0.1111111111111111,
              "#46039f"
             ],
             [
              0.2222222222222222,
              "#7201a8"
             ],
             [
              0.3333333333333333,
              "#9c179e"
             ],
             [
              0.4444444444444444,
              "#bd3786"
             ],
             [
              0.5555555555555556,
              "#d8576b"
             ],
             [
              0.6666666666666666,
              "#ed7953"
             ],
             [
              0.7777777777777778,
              "#fb9f3a"
             ],
             [
              0.8888888888888888,
              "#fdca26"
             ],
             [
              1,
              "#f0f921"
             ]
            ],
            "type": "contour"
           }
          ],
          "contourcarpet": [
           {
            "colorbar": {
             "outlinewidth": 0,
             "ticks": ""
            },
            "type": "contourcarpet"
           }
          ],
          "heatmap": [
           {
            "colorbar": {
             "outlinewidth": 0,
             "ticks": ""
            },
            "colorscale": [
             [
              0,
              "#0d0887"
             ],
             [
              0.1111111111111111,
              "#46039f"
             ],
             [
              0.2222222222222222,
              "#7201a8"
             ],
             [
              0.3333333333333333,
              "#9c179e"
             ],
             [
              0.4444444444444444,
              "#bd3786"
             ],
             [
              0.5555555555555556,
              "#d8576b"
             ],
             [
              0.6666666666666666,
              "#ed7953"
             ],
             [
              0.7777777777777778,
              "#fb9f3a"
             ],
             [
              0.8888888888888888,
              "#fdca26"
             ],
             [
              1,
              "#f0f921"
             ]
            ],
            "type": "heatmap"
           }
          ],
          "heatmapgl": [
           {
            "colorbar": {
             "outlinewidth": 0,
             "ticks": ""
            },
            "colorscale": [
             [
              0,
              "#0d0887"
             ],
             [
              0.1111111111111111,
              "#46039f"
             ],
             [
              0.2222222222222222,
              "#7201a8"
             ],
             [
              0.3333333333333333,
              "#9c179e"
             ],
             [
              0.4444444444444444,
              "#bd3786"
             ],
             [
              0.5555555555555556,
              "#d8576b"
             ],
             [
              0.6666666666666666,
              "#ed7953"
             ],
             [
              0.7777777777777778,
              "#fb9f3a"
             ],
             [
              0.8888888888888888,
              "#fdca26"
             ],
             [
              1,
              "#f0f921"
             ]
            ],
            "type": "heatmapgl"
           }
          ],
          "histogram": [
           {
            "marker": {
             "colorbar": {
              "outlinewidth": 0,
              "ticks": ""
             }
            },
            "type": "histogram"
           }
          ],
          "histogram2d": [
           {
            "colorbar": {
             "outlinewidth": 0,
             "ticks": ""
            },
            "colorscale": [
             [
              0,
              "#0d0887"
             ],
             [
              0.1111111111111111,
              "#46039f"
             ],
             [
              0.2222222222222222,
              "#7201a8"
             ],
             [
              0.3333333333333333,
              "#9c179e"
             ],
             [
              0.4444444444444444,
              "#bd3786"
             ],
             [
              0.5555555555555556,
              "#d8576b"
             ],
             [
              0.6666666666666666,
              "#ed7953"
             ],
             [
              0.7777777777777778,
              "#fb9f3a"
             ],
             [
              0.8888888888888888,
              "#fdca26"
             ],
             [
              1,
              "#f0f921"
             ]
            ],
            "type": "histogram2d"
           }
          ],
          "histogram2dcontour": [
           {
            "colorbar": {
             "outlinewidth": 0,
             "ticks": ""
            },
            "colorscale": [
             [
              0,
              "#0d0887"
             ],
             [
              0.1111111111111111,
              "#46039f"
             ],
             [
              0.2222222222222222,
              "#7201a8"
             ],
             [
              0.3333333333333333,
              "#9c179e"
             ],
             [
              0.4444444444444444,
              "#bd3786"
             ],
             [
              0.5555555555555556,
              "#d8576b"
             ],
             [
              0.6666666666666666,
              "#ed7953"
             ],
             [
              0.7777777777777778,
              "#fb9f3a"
             ],
             [
              0.8888888888888888,
              "#fdca26"
             ],
             [
              1,
              "#f0f921"
             ]
            ],
            "type": "histogram2dcontour"
           }
          ],
          "mesh3d": [
           {
            "colorbar": {
             "outlinewidth": 0,
             "ticks": ""
            },
            "type": "mesh3d"
           }
          ],
          "parcoords": [
           {
            "line": {
             "colorbar": {
              "outlinewidth": 0,
              "ticks": ""
             }
            },
            "type": "parcoords"
           }
          ],
          "pie": [
           {
            "automargin": true,
            "type": "pie"
           }
          ],
          "scatter": [
           {
            "marker": {
             "colorbar": {
              "outlinewidth": 0,
              "ticks": ""
             }
            },
            "type": "scatter"
           }
          ],
          "scatter3d": [
           {
            "line": {
             "colorbar": {
              "outlinewidth": 0,
              "ticks": ""
             }
            },
            "marker": {
             "colorbar": {
              "outlinewidth": 0,
              "ticks": ""
             }
            },
            "type": "scatter3d"
           }
          ],
          "scattercarpet": [
           {
            "marker": {
             "colorbar": {
              "outlinewidth": 0,
              "ticks": ""
             }
            },
            "type": "scattercarpet"
           }
          ],
          "scattergeo": [
           {
            "marker": {
             "colorbar": {
              "outlinewidth": 0,
              "ticks": ""
             }
            },
            "type": "scattergeo"
           }
          ],
          "scattergl": [
           {
            "marker": {
             "colorbar": {
              "outlinewidth": 0,
              "ticks": ""
             }
            },
            "type": "scattergl"
           }
          ],
          "scattermapbox": [
           {
            "marker": {
             "colorbar": {
              "outlinewidth": 0,
              "ticks": ""
             }
            },
            "type": "scattermapbox"
           }
          ],
          "scatterpolar": [
           {
            "marker": {
             "colorbar": {
              "outlinewidth": 0,
              "ticks": ""
             }
            },
            "type": "scatterpolar"
           }
          ],
          "scatterpolargl": [
           {
            "marker": {
             "colorbar": {
              "outlinewidth": 0,
              "ticks": ""
             }
            },
            "type": "scatterpolargl"
           }
          ],
          "scatterternary": [
           {
            "marker": {
             "colorbar": {
              "outlinewidth": 0,
              "ticks": ""
             }
            },
            "type": "scatterternary"
           }
          ],
          "surface": [
           {
            "colorbar": {
             "outlinewidth": 0,
             "ticks": ""
            },
            "colorscale": [
             [
              0,
              "#0d0887"
             ],
             [
              0.1111111111111111,
              "#46039f"
             ],
             [
              0.2222222222222222,
              "#7201a8"
             ],
             [
              0.3333333333333333,
              "#9c179e"
             ],
             [
              0.4444444444444444,
              "#bd3786"
             ],
             [
              0.5555555555555556,
              "#d8576b"
             ],
             [
              0.6666666666666666,
              "#ed7953"
             ],
             [
              0.7777777777777778,
              "#fb9f3a"
             ],
             [
              0.8888888888888888,
              "#fdca26"
             ],
             [
              1,
              "#f0f921"
             ]
            ],
            "type": "surface"
           }
          ],
          "table": [
           {
            "cells": {
             "fill": {
              "color": "#EBF0F8"
             },
             "line": {
              "color": "white"
             }
            },
            "header": {
             "fill": {
              "color": "#C8D4E3"
             },
             "line": {
              "color": "white"
             }
            },
            "type": "table"
           }
          ]
         },
         "layout": {
          "annotationdefaults": {
           "arrowcolor": "#2a3f5f",
           "arrowhead": 0,
           "arrowwidth": 1
          },
          "coloraxis": {
           "colorbar": {
            "outlinewidth": 0,
            "ticks": ""
           }
          },
          "colorscale": {
           "diverging": [
            [
             0,
             "#8e0152"
            ],
            [
             0.1,
             "#c51b7d"
            ],
            [
             0.2,
             "#de77ae"
            ],
            [
             0.3,
             "#f1b6da"
            ],
            [
             0.4,
             "#fde0ef"
            ],
            [
             0.5,
             "#f7f7f7"
            ],
            [
             0.6,
             "#e6f5d0"
            ],
            [
             0.7,
             "#b8e186"
            ],
            [
             0.8,
             "#7fbc41"
            ],
            [
             0.9,
             "#4d9221"
            ],
            [
             1,
             "#276419"
            ]
           ],
           "sequential": [
            [
             0,
             "#0d0887"
            ],
            [
             0.1111111111111111,
             "#46039f"
            ],
            [
             0.2222222222222222,
             "#7201a8"
            ],
            [
             0.3333333333333333,
             "#9c179e"
            ],
            [
             0.4444444444444444,
             "#bd3786"
            ],
            [
             0.5555555555555556,
             "#d8576b"
            ],
            [
             0.6666666666666666,
             "#ed7953"
            ],
            [
             0.7777777777777778,
             "#fb9f3a"
            ],
            [
             0.8888888888888888,
             "#fdca26"
            ],
            [
             1,
             "#f0f921"
            ]
           ],
           "sequentialminus": [
            [
             0,
             "#0d0887"
            ],
            [
             0.1111111111111111,
             "#46039f"
            ],
            [
             0.2222222222222222,
             "#7201a8"
            ],
            [
             0.3333333333333333,
             "#9c179e"
            ],
            [
             0.4444444444444444,
             "#bd3786"
            ],
            [
             0.5555555555555556,
             "#d8576b"
            ],
            [
             0.6666666666666666,
             "#ed7953"
            ],
            [
             0.7777777777777778,
             "#fb9f3a"
            ],
            [
             0.8888888888888888,
             "#fdca26"
            ],
            [
             1,
             "#f0f921"
            ]
           ]
          },
          "colorway": [
           "#636efa",
           "#EF553B",
           "#00cc96",
           "#ab63fa",
           "#FFA15A",
           "#19d3f3",
           "#FF6692",
           "#B6E880",
           "#FF97FF",
           "#FECB52"
          ],
          "font": {
           "color": "#2a3f5f"
          },
          "geo": {
           "bgcolor": "white",
           "lakecolor": "white",
           "landcolor": "#E5ECF6",
           "showlakes": true,
           "showland": true,
           "subunitcolor": "white"
          },
          "hoverlabel": {
           "align": "left"
          },
          "hovermode": "closest",
          "mapbox": {
           "style": "light"
          },
          "paper_bgcolor": "white",
          "plot_bgcolor": "#E5ECF6",
          "polar": {
           "angularaxis": {
            "gridcolor": "white",
            "linecolor": "white",
            "ticks": ""
           },
           "bgcolor": "#E5ECF6",
           "radialaxis": {
            "gridcolor": "white",
            "linecolor": "white",
            "ticks": ""
           }
          },
          "scene": {
           "xaxis": {
            "backgroundcolor": "#E5ECF6",
            "gridcolor": "white",
            "gridwidth": 2,
            "linecolor": "white",
            "showbackground": true,
            "ticks": "",
            "zerolinecolor": "white"
           },
           "yaxis": {
            "backgroundcolor": "#E5ECF6",
            "gridcolor": "white",
            "gridwidth": 2,
            "linecolor": "white",
            "showbackground": true,
            "ticks": "",
            "zerolinecolor": "white"
           },
           "zaxis": {
            "backgroundcolor": "#E5ECF6",
            "gridcolor": "white",
            "gridwidth": 2,
            "linecolor": "white",
            "showbackground": true,
            "ticks": "",
            "zerolinecolor": "white"
           }
          },
          "shapedefaults": {
           "line": {
            "color": "#2a3f5f"
           }
          },
          "ternary": {
           "aaxis": {
            "gridcolor": "white",
            "linecolor": "white",
            "ticks": ""
           },
           "baxis": {
            "gridcolor": "white",
            "linecolor": "white",
            "ticks": ""
           },
           "bgcolor": "#E5ECF6",
           "caxis": {
            "gridcolor": "white",
            "linecolor": "white",
            "ticks": ""
           }
          },
          "title": {
           "x": 0.05
          },
          "xaxis": {
           "automargin": true,
           "gridcolor": "white",
           "linecolor": "white",
           "ticks": "",
           "title": {
            "standoff": 15
           },
           "zerolinecolor": "white",
           "zerolinewidth": 2
          },
          "yaxis": {
           "automargin": true,
           "gridcolor": "white",
           "linecolor": "white",
           "ticks": "",
           "title": {
            "standoff": 15
           },
           "zerolinecolor": "white",
           "zerolinewidth": 2
          }
         }
        },
        "xaxis": {
         "anchor": "y",
         "domain": [
          0,
          1
         ],
         "title": {
          "text": "Year"
         }
        },
        "yaxis": {
         "anchor": "x",
         "domain": [
          0,
          1
         ],
         "title": {
          "text": "value"
         }
        }
       }
      },
      "text/html": [
       "<div>                            <div id=\"59575777-017d-4791-a273-51557d52e765\" class=\"plotly-graph-div\" style=\"height:525px; width:100%;\"></div>            <script type=\"text/javascript\">                require([\"plotly\"], function(Plotly) {                    window.PLOTLYENV=window.PLOTLYENV || {};                                    if (document.getElementById(\"59575777-017d-4791-a273-51557d52e765\")) {                    Plotly.newPlot(                        \"59575777-017d-4791-a273-51557d52e765\",                        [{\"alignmentgroup\": \"True\", \"hovertemplate\": \"variable=Barley<br>Year=%{x}<br>value=%{y}<extra></extra>\", \"legendgroup\": \"Barley\", \"marker\": {\"color\": \"#636efa\"}, \"name\": \"Barley\", \"offsetgroup\": \"Barley\", \"orientation\": \"v\", \"showlegend\": true, \"textposition\": \"auto\", \"type\": \"bar\", \"x\": [2019, 2020, 2021, 2022, 2023, 2024, 2025, 2026, 2027, 2028, 2029, 2030, 2031, 2032, 2033, 2034, 2035, 2036, 2037, 2038, 2039, 2040, 2041, 2042, 2043, 2044, 2045, 2046, 2047, 2048, 2049, 2050], \"xaxis\": \"x\", \"y\": [0.0, 4262.400000000001, 4262.400000000001, 4262.400000000001, 4262.400000000001, 4262.400000000001, 4262.400000000001, 4262.400000000001, 4262.400000000001, 4262.400000000001, 4262.400000000001, 4262.400000000001, 4262.400000000001, 4262.400000000001, 4262.400000000001, 4262.400000000001, 4262.400000000001, 4262.400000000001, 4262.400000000001, 4262.400000000001, 4262.400000000001, 4262.400000000001, 4262.400000000001, 4262.400000000001, 4262.400000000001, 4262.400000000001, 4262.400000000001, 4262.400000000001, 4262.400000000001, 4262.400000000001, 4262.400000000001, 4262.400000000001], \"yaxis\": \"y\"}, {\"alignmentgroup\": \"True\", \"hovertemplate\": \"variable=Citrus<br>Year=%{x}<br>value=%{y}<extra></extra>\", \"legendgroup\": \"Citrus\", \"marker\": {\"color\": \"#EF553B\"}, \"name\": \"Citrus\", \"offsetgroup\": \"Citrus\", \"orientation\": \"v\", \"showlegend\": true, \"textposition\": \"auto\", \"type\": \"bar\", \"x\": [2019, 2020, 2021, 2022, 2023, 2024, 2025, 2026, 2027, 2028, 2029, 2030, 2031, 2032, 2033, 2034, 2035, 2036, 2037, 2038, 2039, 2040, 2041, 2042, 2043, 2044, 2045, 2046, 2047, 2048, 2049, 2050], \"xaxis\": \"x\", \"y\": [216098.60000000003, 216098.60000000003, 216098.60000000003, 216098.60000000003, 216098.60000000003, 216098.60000000003, 216098.60000000003, 216098.60000000003, 216098.60000000003, 216098.60000000003, 216098.60000000003, 216098.60000000003, 216098.60000000003, 216098.60000000003, 216098.60000000003, 216098.60000000003, 216098.60000000003, 216098.60000000003, 216098.60000000003, 216098.60000000003, 216098.60000000003, 216098.60000000003, 216098.60000000003, 216098.60000000003, 216098.60000000003, 216098.60000000003, 216098.60000000003, 216098.60000000003, 216098.60000000003, 216098.60000000003, 216098.60000000003, 216098.60000000003], \"yaxis\": \"y\"}, {\"alignmentgroup\": \"True\", \"hovertemplate\": \"variable=Dates<br>Year=%{x}<br>value=%{y}<extra></extra>\", \"legendgroup\": \"Dates\", \"marker\": {\"color\": \"#00cc96\"}, \"name\": \"Dates\", \"offsetgroup\": \"Dates\", \"orientation\": \"v\", \"showlegend\": true, \"textposition\": \"auto\", \"type\": \"bar\", \"x\": [2019, 2020, 2021, 2022, 2023, 2024, 2025, 2026, 2027, 2028, 2029, 2030, 2031, 2032, 2033, 2034, 2035, 2036, 2037, 2038, 2039, 2040, 2041, 2042, 2043, 2044, 2045, 2046, 2047, 2048, 2049, 2050], \"xaxis\": \"x\", \"y\": [3354043.2, 3354043.2, 3354043.2, 3354043.2, 3354043.2, 3354043.2, 3354043.2, 3354043.2, 3354043.2, 3354043.2, 3354043.2, 3354043.2, 3354043.2, 3354043.2, 3354043.2, 3354043.2, 3354043.2, 3354043.2, 3354043.2, 3354043.2, 3354043.2, 3354043.2, 3354043.2, 3354043.2, 3354043.2, 3354043.2, 3354043.2, 3354043.2, 3354043.2, 3354043.2, 3354043.2, 3354043.2], \"yaxis\": \"y\"}, {\"alignmentgroup\": \"True\", \"hovertemplate\": \"variable=Grapes<br>Year=%{x}<br>value=%{y}<extra></extra>\", \"legendgroup\": \"Grapes\", \"marker\": {\"color\": \"#ab63fa\"}, \"name\": \"Grapes\", \"offsetgroup\": \"Grapes\", \"orientation\": \"v\", \"showlegend\": true, \"textposition\": \"auto\", \"type\": \"bar\", \"x\": [2019, 2020, 2021, 2022, 2023, 2024, 2025, 2026, 2027, 2028, 2029, 2030, 2031, 2032, 2033, 2034, 2035, 2036, 2037, 2038, 2039, 2040, 2041, 2042, 2043, 2044, 2045, 2046, 2047, 2048, 2049, 2050], \"xaxis\": \"x\", \"y\": [3789720.0, 3789720.0, 3789720.0, 3789720.0, 3789720.0, 3789720.0, 3789720.0, 3789720.0, 3789720.0, 3789720.0, 3789720.0, 3789720.0, 3789720.0, 3789720.0, 3789720.0, 3789720.0, 3789720.0, 3789720.0, 3789720.0, 3789720.0, 3789720.0, 3789720.0, 3789720.0, 3789720.0, 3789720.0, 3789720.0, 3789720.0, 3789720.0, 3789720.0, 3789720.0, 3789720.0, 3789720.0], \"yaxis\": \"y\"}, {\"alignmentgroup\": \"True\", \"hovertemplate\": \"variable=Olives<br>Year=%{x}<br>value=%{y}<extra></extra>\", \"legendgroup\": \"Olives\", \"marker\": {\"color\": \"#FFA15A\"}, \"name\": \"Olives\", \"offsetgroup\": \"Olives\", \"orientation\": \"v\", \"showlegend\": true, \"textposition\": \"auto\", \"type\": \"bar\", \"x\": [2019, 2020, 2021, 2022, 2023, 2024, 2025, 2026, 2027, 2028, 2029, 2030, 2031, 2032, 2033, 2034, 2035, 2036, 2037, 2038, 2039, 2040, 2041, 2042, 2043, 2044, 2045, 2046, 2047, 2048, 2049, 2050], \"xaxis\": \"x\", \"y\": [1402667.4000000001, 1402667.4000000001, 1402667.4000000001, 1402667.4000000001, 1402667.4000000001, 1402667.4000000001, 1402667.4000000001, 1402667.4000000001, 1402667.4000000001, 1402667.4000000001, 1402667.4000000001, 1402667.4000000001, 1402667.4000000001, 1402667.4000000001, 1402667.4000000001, 1402667.4000000001, 1402667.4000000001, 1402667.4000000001, 1402667.4000000001, 1402667.4000000001, 1402667.4000000001, 1402667.4000000001, 1402667.4000000001, 1402667.4000000001, 1402667.4000000001, 1402667.4000000001, 1402667.4000000001, 1402667.4000000001, 1402667.4000000001, 1402667.4000000001, 1402667.4000000001, 1402667.4000000001], \"yaxis\": \"y\"}, {\"alignmentgroup\": \"True\", \"hovertemplate\": \"variable=Other Cereals<br>Year=%{x}<br>value=%{y}<extra></extra>\", \"legendgroup\": \"Other Cereals\", \"marker\": {\"color\": \"#19d3f3\"}, \"name\": \"Other Cereals\", \"offsetgroup\": \"Other Cereals\", \"orientation\": \"v\", \"showlegend\": true, \"textposition\": \"auto\", \"type\": \"bar\", \"x\": [2019, 2020, 2021, 2022, 2023, 2024, 2025, 2026, 2027, 2028, 2029, 2030, 2031, 2032, 2033, 2034, 2035, 2036, 2037, 2038, 2039, 2040, 2041, 2042, 2043, 2044, 2045, 2046, 2047, 2048, 2049, 2050], \"xaxis\": \"x\", \"y\": [12605.29228459785, 20860.104907019922, 13832.28344119481, 14451.189138090996, 13977.568915731694, 21063.13639176354, 13508.760353406073, 13975.06679611723, 14720.000000000002, 20821.226894405365, 13555.793523200871, 14116.31795884784, 14578.465385276337, 21934.589483155898, 13438.215510086775, 13637.398763373072, 14570.003759881602, 21490.461832885165, 14565.892145853375, 14566.888868526472, 14561.753501893847, 22080.0, 14720.000000000002, 13368.801658078635, 14720.000000000002, 22080.0, 14720.000000000002, 14720.000000000002, 14720.000000000002, 22080.0, 13332.830393591474, 14545.335729561233], \"yaxis\": \"y\"}, {\"alignmentgroup\": \"True\", \"hovertemplate\": \"variable=Other Fruit Trees<br>Year=%{x}<br>value=%{y}<extra></extra>\", \"legendgroup\": \"Other Fruit Trees\", \"marker\": {\"color\": \"#FF6692\"}, \"name\": \"Other Fruit Trees\", \"offsetgroup\": \"Other Fruit Trees\", \"orientation\": \"v\", \"showlegend\": true, \"textposition\": \"auto\", \"type\": \"bar\", \"x\": [2019, 2020, 2021, 2022, 2023, 2024, 2025, 2026, 2027, 2028, 2029, 2030, 2031, 2032, 2033, 2034, 2035, 2036, 2037, 2038, 2039, 2040, 2041, 2042, 2043, 2044, 2045, 2046, 2047, 2048, 2049, 2050], \"xaxis\": \"x\", \"y\": [4767268.7, 4767268.7, 4767268.7, 4767268.7, 4767268.7, 4767268.7, 4767268.7, 4767268.7, 4767268.7, 4767268.7, 4767268.7, 4767268.7, 4767268.7, 4767268.7, 4767268.7, 4767268.7, 4767268.7, 4767268.7, 4767268.7, 4767268.7, 4767268.7, 4767268.7, 4767268.7, 4767268.7, 4767268.7, 4767268.7, 4767268.7, 4767268.7, 4767268.7, 4767268.7, 4767268.7, 4767268.7], \"yaxis\": \"y\"}, {\"alignmentgroup\": \"True\", \"hovertemplate\": \"variable=Summer Potatoes<br>Year=%{x}<br>value=%{y}<extra></extra>\", \"legendgroup\": \"Summer Potatoes\", \"marker\": {\"color\": \"#B6E880\"}, \"name\": \"Summer Potatoes\", \"offsetgroup\": \"Summer Potatoes\", \"orientation\": \"v\", \"showlegend\": true, \"textposition\": \"auto\", \"type\": \"bar\", \"x\": [2019, 2020, 2021, 2022, 2023, 2024, 2025, 2026, 2027, 2028, 2029, 2030, 2031, 2032, 2033, 2034, 2035, 2036, 2037, 2038, 2039, 2040, 2041, 2042, 2043, 2044, 2045, 2046, 2047, 2048, 2049, 2050], \"xaxis\": \"x\", \"y\": [40786875.0, 40786875.0, 40786875.0, 40786875.0, 40786875.0, 40786875.0, 40786875.0, 40786875.0, 40786875.0, 40786875.0, 40786875.0, 40786875.0, 40786875.0, 40786875.0, 40786875.0, 40786875.0, 40786875.0, 40786875.0, 40786875.0, 40786875.0, 40786875.0, 40786875.0, 40786875.0, 40786875.0, 40786875.0, 40786875.0, 40786875.0, 40786875.0, 40786875.0, 40786875.0, 40786875.0, 40786875.0], \"yaxis\": \"y\"}, {\"alignmentgroup\": \"True\", \"hovertemplate\": \"variable=Summer Tomatoes<br>Year=%{x}<br>value=%{y}<extra></extra>\", \"legendgroup\": \"Summer Tomatoes\", \"marker\": {\"color\": \"#FF97FF\"}, \"name\": \"Summer Tomatoes\", \"offsetgroup\": \"Summer Tomatoes\", \"orientation\": \"v\", \"showlegend\": true, \"textposition\": \"auto\", \"type\": \"bar\", \"x\": [2019, 2020, 2021, 2022, 2023, 2024, 2025, 2026, 2027, 2028, 2029, 2030, 2031, 2032, 2033, 2034, 2035, 2036, 2037, 2038, 2039, 2040, 2041, 2042, 2043, 2044, 2045, 2046, 2047, 2048, 2049, 2050], \"xaxis\": \"x\", \"y\": [358522084.80000013, 358522084.80000013, 358518471.31149644, 358517237.9258641, 358522084.80000013, 358084195.67685807, 358510325.7919771, 358522084.80000013, 358517280.90238804, 358518365.0877106, 358522084.80000013, 358522084.80000013, 358518837.1760434, 358522084.80000013, 358522084.80000013, 358518749.2150284, 358522084.80000013, 358522084.80000013, 358518825.47498643, 358517426.269092, 358516708.9020957, 358516677.3314564, 358516664.8259419, 358516613.61377966, 358516581.71852845, 358516549.8834125, 358517264.9121158, 358516485.631528, 358522084.80000013, 358248109.8847925, 358517141.63543, 358522084.80000013], \"yaxis\": \"y\"}, {\"alignmentgroup\": \"True\", \"hovertemplate\": \"variable=Summer Vegetables<br>Year=%{x}<br>value=%{y}<extra></extra>\", \"legendgroup\": \"Summer Vegetables\", \"marker\": {\"color\": \"#FECB52\"}, \"name\": \"Summer Vegetables\", \"offsetgroup\": \"Summer Vegetables\", \"orientation\": \"v\", \"showlegend\": true, \"textposition\": \"auto\", \"type\": \"bar\", \"x\": [2019, 2020, 2021, 2022, 2023, 2024, 2025, 2026, 2027, 2028, 2029, 2030, 2031, 2032, 2033, 2034, 2035, 2036, 2037, 2038, 2039, 2040, 2041, 2042, 2043, 2044, 2045, 2046, 2047, 2048, 2049, 2050], \"xaxis\": \"x\", \"y\": [30755202.600000005, 30755202.600000005, 30755202.600000005, 30755202.600000005, 30755202.600000005, 30755202.600000005, 30755202.600000005, 30755202.600000005, 30755202.600000005, 30755202.600000005, 30755202.600000005, 30755202.600000005, 30755202.600000005, 30755202.600000005, 30755202.600000005, 30755202.600000005, 30755202.600000005, 30755202.600000005, 30755202.600000005, 30755202.600000005, 30755202.600000005, 30755202.600000005, 30755202.600000005, 30755202.600000005, 30755202.600000005, 30755202.600000005, 30755202.600000005, 30755202.600000005, 30755202.600000005, 30755202.600000005, 30755202.600000005, 30755202.600000005], \"yaxis\": \"y\"}, {\"alignmentgroup\": \"True\", \"hovertemplate\": \"variable=Wheat<br>Year=%{x}<br>value=%{y}<extra></extra>\", \"legendgroup\": \"Wheat\", \"marker\": {\"color\": \"#636efa\"}, \"name\": \"Wheat\", \"offsetgroup\": \"Wheat\", \"orientation\": \"v\", \"showlegend\": true, \"textposition\": \"auto\", \"type\": \"bar\", \"x\": [2019, 2020, 2021, 2022, 2023, 2024, 2025, 2026, 2027, 2028, 2029, 2030, 2031, 2032, 2033, 2034, 2035, 2036, 2037, 2038, 2039, 2040, 2041, 2042, 2043, 2044, 2045, 2046, 2047, 2048, 2049, 2050], \"xaxis\": \"x\", \"y\": [0.0, 14288.400000000001, 14288.400000000001, 14288.400000000001, 14288.400000000001, 14288.400000000001, 14288.400000000001, 14288.400000000001, 14288.400000000001, 14288.400000000001, 14288.400000000001, 14288.400000000001, 14288.400000000001, 14288.400000000001, 14288.400000000001, 14288.400000000001, 14288.400000000001, 14288.400000000001, 14288.400000000001, 14288.400000000001, 14288.400000000001, 14288.400000000001, 14288.400000000001, 14288.400000000001, 14288.400000000001, 14288.400000000001, 14288.400000000001, 14288.400000000001, 14288.400000000001, 14288.400000000001, 14288.400000000001, 14288.400000000001], \"yaxis\": \"y\"}, {\"alignmentgroup\": \"True\", \"hovertemplate\": \"variable=Winter Potatoes<br>Year=%{x}<br>value=%{y}<extra></extra>\", \"legendgroup\": \"Winter Potatoes\", \"marker\": {\"color\": \"#EF553B\"}, \"name\": \"Winter Potatoes\", \"offsetgroup\": \"Winter Potatoes\", \"orientation\": \"v\", \"showlegend\": true, \"textposition\": \"auto\", \"type\": \"bar\", \"x\": [2019, 2020, 2021, 2022, 2023, 2024, 2025, 2026, 2027, 2028, 2029, 2030, 2031, 2032, 2033, 2034, 2035, 2036, 2037, 2038, 2039, 2040, 2041, 2042, 2043, 2044, 2045, 2046, 2047, 2048, 2049, 2050], \"xaxis\": \"x\", \"y\": [8880244.0, 8875690.611159118, 8870581.556804068, 8880244.0, 8880244.0, 8880244.0, 8880244.0, 8880244.0, 8880244.0, 8875370.797735967, 8880244.0, 8880244.0, 8880244.0, 8880244.0, 8873287.743844131, 8880244.0, 8880244.0, 8880244.0, 8880244.0, 8880244.0, 8880244.0, 8880244.0, 8880244.0, 8872027.319017874, 8880244.0, 8880244.0, 8880244.0, 8880244.0, 8880244.0, 8880244.0, 8869500.294623757, 8880244.0], \"yaxis\": \"y\"}, {\"alignmentgroup\": \"True\", \"hovertemplate\": \"variable=Winter Tomatoes<br>Year=%{x}<br>value=%{y}<extra></extra>\", \"legendgroup\": \"Winter Tomatoes\", \"marker\": {\"color\": \"#00cc96\"}, \"name\": \"Winter Tomatoes\", \"offsetgroup\": \"Winter Tomatoes\", \"orientation\": \"v\", \"showlegend\": true, \"textposition\": \"auto\", \"type\": \"bar\", \"x\": [2019, 2020, 2021, 2022, 2023, 2024, 2025, 2026, 2027, 2028, 2029, 2030, 2031, 2032, 2033, 2034, 2035, 2036, 2037, 2038, 2039, 2040, 2041, 2042, 2043, 2044, 2045, 2046, 2047, 2048, 2049, 2050], \"xaxis\": \"x\", \"y\": [18947354.4, 19350489.599999998, 19350489.599999998, 19323822.68625572, 19350489.599999998, 19350252.7969948, 19330301.00460923, 19319843.39446116, 19350489.599999998, 19350489.599999998, 19350489.599999998, 19329648.698907066, 19350489.599999998, 19350489.599999998, 19343697.561553285, 19350489.599999998, 19350489.599999998, 19330123.94901769, 19350489.599999998, 19350489.599999998, 19350489.599999998, 19350489.599999998, 19350489.599999998, 19350489.599999998, 19350489.599999998, 19350489.599999998, 19350489.599999998, 19350489.599999998, 19350489.599999998, 19350489.599999998, 19350489.599999998, 19350489.599999998], \"yaxis\": \"y\"}, {\"alignmentgroup\": \"True\", \"hovertemplate\": \"variable=Winter Vegetables<br>Year=%{x}<br>value=%{y}<extra></extra>\", \"legendgroup\": \"Winter Vegetables\", \"marker\": {\"color\": \"#ab63fa\"}, \"name\": \"Winter Vegetables\", \"offsetgroup\": \"Winter Vegetables\", \"orientation\": \"v\", \"showlegend\": true, \"textposition\": \"auto\", \"type\": \"bar\", \"x\": [2019, 2020, 2021, 2022, 2023, 2024, 2025, 2026, 2027, 2028, 2029, 2030, 2031, 2032, 2033, 2034, 2035, 2036, 2037, 2038, 2039, 2040, 2041, 2042, 2043, 2044, 2045, 2046, 2047, 2048, 2049, 2050], \"xaxis\": \"x\", \"y\": [0.0, 7818294.900000001, 7818294.900000001, 7818294.900000001, 7818294.900000001, 7818294.900000001, 7818294.900000001, 7818294.900000001, 7818294.900000001, 7818294.900000001, 7818294.900000001, 7818294.900000001, 7818294.900000001, 7818294.900000001, 7818294.900000001, 7818294.900000001, 7818294.900000001, 7818294.900000001, 7818294.900000001, 7818294.900000001, 7818294.900000001, 7818294.900000001, 7818294.900000001, 7818294.900000001, 7818294.900000001, 7818294.900000001, 7818294.900000001, 7818294.900000001, 7818294.900000001, 7818294.900000001, 7818294.900000001, 7818294.900000001], \"yaxis\": \"y\"}],                        {\"barmode\": \"relative\", \"legend\": {\"title\": {\"text\": \"variable\"}, \"tracegroupgap\": 0}, \"margin\": {\"t\": 60}, \"template\": {\"data\": {\"bar\": [{\"error_x\": {\"color\": \"#2a3f5f\"}, \"error_y\": {\"color\": \"#2a3f5f\"}, \"marker\": {\"line\": {\"color\": \"#E5ECF6\", \"width\": 0.5}}, \"type\": \"bar\"}], \"barpolar\": [{\"marker\": {\"line\": {\"color\": \"#E5ECF6\", \"width\": 0.5}}, \"type\": \"barpolar\"}], \"carpet\": [{\"aaxis\": {\"endlinecolor\": \"#2a3f5f\", \"gridcolor\": \"white\", \"linecolor\": \"white\", \"minorgridcolor\": \"white\", \"startlinecolor\": \"#2a3f5f\"}, \"baxis\": {\"endlinecolor\": \"#2a3f5f\", \"gridcolor\": \"white\", \"linecolor\": \"white\", \"minorgridcolor\": \"white\", \"startlinecolor\": \"#2a3f5f\"}, \"type\": \"carpet\"}], \"choropleth\": [{\"colorbar\": {\"outlinewidth\": 0, \"ticks\": \"\"}, \"type\": \"choropleth\"}], \"contour\": [{\"colorbar\": {\"outlinewidth\": 0, \"ticks\": \"\"}, \"colorscale\": [[0.0, \"#0d0887\"], [0.1111111111111111, \"#46039f\"], [0.2222222222222222, \"#7201a8\"], [0.3333333333333333, \"#9c179e\"], [0.4444444444444444, \"#bd3786\"], [0.5555555555555556, \"#d8576b\"], [0.6666666666666666, \"#ed7953\"], [0.7777777777777778, \"#fb9f3a\"], [0.8888888888888888, \"#fdca26\"], [1.0, \"#f0f921\"]], \"type\": \"contour\"}], \"contourcarpet\": [{\"colorbar\": {\"outlinewidth\": 0, \"ticks\": \"\"}, \"type\": \"contourcarpet\"}], \"heatmap\": [{\"colorbar\": {\"outlinewidth\": 0, \"ticks\": \"\"}, \"colorscale\": [[0.0, \"#0d0887\"], [0.1111111111111111, \"#46039f\"], [0.2222222222222222, \"#7201a8\"], [0.3333333333333333, \"#9c179e\"], [0.4444444444444444, \"#bd3786\"], [0.5555555555555556, \"#d8576b\"], [0.6666666666666666, \"#ed7953\"], [0.7777777777777778, \"#fb9f3a\"], [0.8888888888888888, \"#fdca26\"], [1.0, \"#f0f921\"]], \"type\": \"heatmap\"}], \"heatmapgl\": [{\"colorbar\": {\"outlinewidth\": 0, \"ticks\": \"\"}, \"colorscale\": [[0.0, \"#0d0887\"], [0.1111111111111111, \"#46039f\"], [0.2222222222222222, \"#7201a8\"], [0.3333333333333333, \"#9c179e\"], [0.4444444444444444, \"#bd3786\"], [0.5555555555555556, \"#d8576b\"], [0.6666666666666666, \"#ed7953\"], [0.7777777777777778, \"#fb9f3a\"], [0.8888888888888888, \"#fdca26\"], [1.0, \"#f0f921\"]], \"type\": \"heatmapgl\"}], \"histogram\": [{\"marker\": {\"colorbar\": {\"outlinewidth\": 0, \"ticks\": \"\"}}, \"type\": \"histogram\"}], \"histogram2d\": [{\"colorbar\": {\"outlinewidth\": 0, \"ticks\": \"\"}, \"colorscale\": [[0.0, \"#0d0887\"], [0.1111111111111111, \"#46039f\"], [0.2222222222222222, \"#7201a8\"], [0.3333333333333333, \"#9c179e\"], [0.4444444444444444, \"#bd3786\"], [0.5555555555555556, \"#d8576b\"], [0.6666666666666666, \"#ed7953\"], [0.7777777777777778, \"#fb9f3a\"], [0.8888888888888888, \"#fdca26\"], [1.0, \"#f0f921\"]], \"type\": \"histogram2d\"}], \"histogram2dcontour\": [{\"colorbar\": {\"outlinewidth\": 0, \"ticks\": \"\"}, \"colorscale\": [[0.0, \"#0d0887\"], [0.1111111111111111, \"#46039f\"], [0.2222222222222222, \"#7201a8\"], [0.3333333333333333, \"#9c179e\"], [0.4444444444444444, \"#bd3786\"], [0.5555555555555556, \"#d8576b\"], [0.6666666666666666, \"#ed7953\"], [0.7777777777777778, \"#fb9f3a\"], [0.8888888888888888, \"#fdca26\"], [1.0, \"#f0f921\"]], \"type\": \"histogram2dcontour\"}], \"mesh3d\": [{\"colorbar\": {\"outlinewidth\": 0, \"ticks\": \"\"}, \"type\": \"mesh3d\"}], \"parcoords\": [{\"line\": {\"colorbar\": {\"outlinewidth\": 0, \"ticks\": \"\"}}, \"type\": \"parcoords\"}], \"pie\": [{\"automargin\": true, \"type\": \"pie\"}], \"scatter\": [{\"marker\": {\"colorbar\": {\"outlinewidth\": 0, \"ticks\": \"\"}}, \"type\": \"scatter\"}], \"scatter3d\": [{\"line\": {\"colorbar\": {\"outlinewidth\": 0, \"ticks\": \"\"}}, \"marker\": {\"colorbar\": {\"outlinewidth\": 0, \"ticks\": \"\"}}, \"type\": \"scatter3d\"}], \"scattercarpet\": [{\"marker\": {\"colorbar\": {\"outlinewidth\": 0, \"ticks\": \"\"}}, \"type\": \"scattercarpet\"}], \"scattergeo\": [{\"marker\": {\"colorbar\": {\"outlinewidth\": 0, \"ticks\": \"\"}}, \"type\": \"scattergeo\"}], \"scattergl\": [{\"marker\": {\"colorbar\": {\"outlinewidth\": 0, \"ticks\": \"\"}}, \"type\": \"scattergl\"}], \"scattermapbox\": [{\"marker\": {\"colorbar\": {\"outlinewidth\": 0, \"ticks\": \"\"}}, \"type\": \"scattermapbox\"}], \"scatterpolar\": [{\"marker\": {\"colorbar\": {\"outlinewidth\": 0, \"ticks\": \"\"}}, \"type\": \"scatterpolar\"}], \"scatterpolargl\": [{\"marker\": {\"colorbar\": {\"outlinewidth\": 0, \"ticks\": \"\"}}, \"type\": \"scatterpolargl\"}], \"scatterternary\": [{\"marker\": {\"colorbar\": {\"outlinewidth\": 0, \"ticks\": \"\"}}, \"type\": \"scatterternary\"}], \"surface\": [{\"colorbar\": {\"outlinewidth\": 0, \"ticks\": \"\"}, \"colorscale\": [[0.0, \"#0d0887\"], [0.1111111111111111, \"#46039f\"], [0.2222222222222222, \"#7201a8\"], [0.3333333333333333, \"#9c179e\"], [0.4444444444444444, \"#bd3786\"], [0.5555555555555556, \"#d8576b\"], [0.6666666666666666, \"#ed7953\"], [0.7777777777777778, \"#fb9f3a\"], [0.8888888888888888, \"#fdca26\"], [1.0, \"#f0f921\"]], \"type\": \"surface\"}], \"table\": [{\"cells\": {\"fill\": {\"color\": \"#EBF0F8\"}, \"line\": {\"color\": \"white\"}}, \"header\": {\"fill\": {\"color\": \"#C8D4E3\"}, \"line\": {\"color\": \"white\"}}, \"type\": \"table\"}]}, \"layout\": {\"annotationdefaults\": {\"arrowcolor\": \"#2a3f5f\", \"arrowhead\": 0, \"arrowwidth\": 1}, \"coloraxis\": {\"colorbar\": {\"outlinewidth\": 0, \"ticks\": \"\"}}, \"colorscale\": {\"diverging\": [[0, \"#8e0152\"], [0.1, \"#c51b7d\"], [0.2, \"#de77ae\"], [0.3, \"#f1b6da\"], [0.4, \"#fde0ef\"], [0.5, \"#f7f7f7\"], [0.6, \"#e6f5d0\"], [0.7, \"#b8e186\"], [0.8, \"#7fbc41\"], [0.9, \"#4d9221\"], [1, \"#276419\"]], \"sequential\": [[0.0, \"#0d0887\"], [0.1111111111111111, \"#46039f\"], [0.2222222222222222, \"#7201a8\"], [0.3333333333333333, \"#9c179e\"], [0.4444444444444444, \"#bd3786\"], [0.5555555555555556, \"#d8576b\"], [0.6666666666666666, \"#ed7953\"], [0.7777777777777778, \"#fb9f3a\"], [0.8888888888888888, \"#fdca26\"], [1.0, \"#f0f921\"]], \"sequentialminus\": [[0.0, \"#0d0887\"], [0.1111111111111111, \"#46039f\"], [0.2222222222222222, \"#7201a8\"], [0.3333333333333333, \"#9c179e\"], [0.4444444444444444, \"#bd3786\"], [0.5555555555555556, \"#d8576b\"], [0.6666666666666666, \"#ed7953\"], [0.7777777777777778, \"#fb9f3a\"], [0.8888888888888888, \"#fdca26\"], [1.0, \"#f0f921\"]]}, \"colorway\": [\"#636efa\", \"#EF553B\", \"#00cc96\", \"#ab63fa\", \"#FFA15A\", \"#19d3f3\", \"#FF6692\", \"#B6E880\", \"#FF97FF\", \"#FECB52\"], \"font\": {\"color\": \"#2a3f5f\"}, \"geo\": {\"bgcolor\": \"white\", \"lakecolor\": \"white\", \"landcolor\": \"#E5ECF6\", \"showlakes\": true, \"showland\": true, \"subunitcolor\": \"white\"}, \"hoverlabel\": {\"align\": \"left\"}, \"hovermode\": \"closest\", \"mapbox\": {\"style\": \"light\"}, \"paper_bgcolor\": \"white\", \"plot_bgcolor\": \"#E5ECF6\", \"polar\": {\"angularaxis\": {\"gridcolor\": \"white\", \"linecolor\": \"white\", \"ticks\": \"\"}, \"bgcolor\": \"#E5ECF6\", \"radialaxis\": {\"gridcolor\": \"white\", \"linecolor\": \"white\", \"ticks\": \"\"}}, \"scene\": {\"xaxis\": {\"backgroundcolor\": \"#E5ECF6\", \"gridcolor\": \"white\", \"gridwidth\": 2, \"linecolor\": \"white\", \"showbackground\": true, \"ticks\": \"\", \"zerolinecolor\": \"white\"}, \"yaxis\": {\"backgroundcolor\": \"#E5ECF6\", \"gridcolor\": \"white\", \"gridwidth\": 2, \"linecolor\": \"white\", \"showbackground\": true, \"ticks\": \"\", \"zerolinecolor\": \"white\"}, \"zaxis\": {\"backgroundcolor\": \"#E5ECF6\", \"gridcolor\": \"white\", \"gridwidth\": 2, \"linecolor\": \"white\", \"showbackground\": true, \"ticks\": \"\", \"zerolinecolor\": \"white\"}}, \"shapedefaults\": {\"line\": {\"color\": \"#2a3f5f\"}}, \"ternary\": {\"aaxis\": {\"gridcolor\": \"white\", \"linecolor\": \"white\", \"ticks\": \"\"}, \"baxis\": {\"gridcolor\": \"white\", \"linecolor\": \"white\", \"ticks\": \"\"}, \"bgcolor\": \"#E5ECF6\", \"caxis\": {\"gridcolor\": \"white\", \"linecolor\": \"white\", \"ticks\": \"\"}}, \"title\": {\"x\": 0.05}, \"xaxis\": {\"automargin\": true, \"gridcolor\": \"white\", \"linecolor\": \"white\", \"ticks\": \"\", \"title\": {\"standoff\": 15}, \"zerolinecolor\": \"white\", \"zerolinewidth\": 2}, \"yaxis\": {\"automargin\": true, \"gridcolor\": \"white\", \"linecolor\": \"white\", \"ticks\": \"\", \"title\": {\"standoff\": 15}, \"zerolinecolor\": \"white\", \"zerolinewidth\": 2}}}, \"xaxis\": {\"anchor\": \"y\", \"domain\": [0.0, 1.0], \"title\": {\"text\": \"Year\"}}, \"yaxis\": {\"anchor\": \"x\", \"domain\": [0.0, 1.0], \"title\": {\"text\": \"value\"}}},                        {\"responsive\": true}                    ).then(function(){\n",
       "                            \n",
       "var gd = document.getElementById('59575777-017d-4791-a273-51557d52e765');\n",
       "var x = new MutationObserver(function (mutations, observer) {{\n",
       "        var display = window.getComputedStyle(gd).display;\n",
       "        if (!display || display === 'none') {{\n",
       "            console.log([gd, 'removed!']);\n",
       "            Plotly.purge(gd);\n",
       "            observer.disconnect();\n",
       "        }}\n",
       "}});\n",
       "\n",
       "// Listen for the removal of the full notebook cells\n",
       "var notebookContainer = gd.closest('#notebook-container');\n",
       "if (notebookContainer) {{\n",
       "    x.observe(notebookContainer, {childList: true});\n",
       "}}\n",
       "\n",
       "// Listen for the clearing of the current output cell\n",
       "var outputEl = gd.closest('.output');\n",
       "if (outputEl) {{\n",
       "    x.observe(outputEl, {childList: true});\n",
       "}}\n",
       "\n",
       "                        })                };                });            </script>        </div>"
      ]
     },
     "metadata": {},
     "output_type": "display_data"
    }
   ],
   "source": [
    "df = crop_production.loc[crop_production.point.str.contains('AQ')]\n",
    "df = df.groupby(['Year', 'variable']).sum().reset_index()\n",
    "fig = px.bar(df, x='Year', y='value', color='variable')\n",
    "fig.show()"
   ]
  },
  {
   "cell_type": "code",
   "execution_count": 112,
   "metadata": {},
   "outputs": [
    {
     "data": {
      "text/plain": [
       "array(['AJ_Agriculture', 'AJ_ROU Ajloun', 'AMMAN_Industry',\n",
       "       'AM_Agriculture', 'AM_Al Jiza', 'AM_Mwaqqar', 'AM_SZ01', 'AM_SZ02',\n",
       "       'AM_SZ03', 'AM_SZ04', 'AM_SZ05', 'AM_SZ06', 'AM_SZ07', 'AM_SZ08',\n",
       "       'AM_SZ09', 'AM_UmBasateyn', 'AQABA_Ind_Fertilizer',\n",
       "       'AQABA_Industry', 'AQ_Agri', 'AQ_Al Quwayra', 'AQ_QAqaba',\n",
       "       'BALQA_Industry', 'BQ_AgriHL', 'BQ_AgriJV', 'BQ_Ain Al Basha',\n",
       "       'BQ_Deir Alla', 'BQ_Mahis Fuhais', 'BQ_ROU_Salt', 'BQ_ShJanoubia',\n",
       "       'IRBID_Industry', 'IR_AgriHL', 'IR_AgriJV', 'IR_Al Aghwar Sh',\n",
       "       'IR_Bani Kinana', 'IR_Bani Obeid', 'IR_Koura', 'IR_RC_C City',\n",
       "       'IR_RC_KAP', 'IR_ROU_Irbid', 'IR_Ramtha', 'JA_Agriculture',\n",
       "       'JA_ROU Jerash', 'JERASH_Industry', 'KARAK_Ind_Potash',\n",
       "       'KARAK_Industry', 'KA_Agri HL', 'KA_AgriJV', 'KA_Al MazarJan',\n",
       "       'KA_Al Qasr', 'KA_Al Qatrana', 'KA_AlAg Janoub', 'KA_Ayy',\n",
       "       'KA_Fqou', 'KA_Ghor Al Mazraa', 'KA_Ind_OilShale',\n",
       "       'KA_Q  Al Karak', 'MAAN_Industry', 'MADABA_Industry',\n",
       "       'MAFRAQ_Industry', 'MA_Agriculture', 'MA_Ail', 'MA_Al Jafer',\n",
       "       'MA_Al Muraygha', 'MA_AlHusayniyya', 'MA_AshShobak', 'MA_QMaan',\n",
       "       'MA_Wadi Musa', 'MD_Agriculture', 'MD_Arid', 'MD_Qasabat Madaba',\n",
       "       'MD_Theeban', 'MF_Agri', 'MF_RC_MAF', 'MF_RC_Zatari',\n",
       "       'MF_ROU_Mafraq', 'MF_ROU_NB', 'MF_Rweyshid', 'TAFILEH_Industry',\n",
       "       'TA_Agriculture', 'TA_Al Hasa', 'TA_Busayrah',\n",
       "       'TA_Qasabat At Tafilah', 'ZARQA_Ind_Nuclear', 'ZARQA_Industry',\n",
       "       'ZA_Agriculture', 'ZA_Azraq', 'ZA_Azraq Wetland', 'ZA_Bereyn',\n",
       "       'ZA_Dulayl', 'ZA_Hashmiyya', 'ZA_Ind_OilShale', 'ZA_Qasabat Zarqa',\n",
       "       'ZA_RC_Azraq', 'ZA_Rusaifa'], dtype=object)"
      ]
     },
     "execution_count": 112,
     "metadata": {},
     "output_type": "execute_result"
    }
   ],
   "source": [
    "demand.point.unique()"
   ]
  },
  {
   "cell_type": "code",
   "execution_count": 33,
   "metadata": {},
   "outputs": [],
   "source": [
    "folder = r'../Jordan dashboard/spatial_data/'\n",
    "demand.to_file(f'{folder}Demand_points.gpkg', driver='GPKG')\n",
    "supply.to_file(f'{folder}Supply_points.gpkg', driver='GPKG')\n",
    "df_pl.to_file(f'{folder}Pipelines.gpkg', driver='GPKG')"
   ]
  }
 ],
 "metadata": {
  "kernelspec": {
   "display_name": "Python 3",
   "language": "python",
   "name": "python3"
  },
  "language_info": {
   "codemirror_mode": {
    "name": "ipython",
    "version": 3
   },
   "file_extension": ".py",
   "mimetype": "text/x-python",
   "name": "python",
   "nbconvert_exporter": "python",
   "pygments_lexer": "ipython3",
   "version": "3.8.5"
  }
 },
 "nbformat": 4,
 "nbformat_minor": 2
}
