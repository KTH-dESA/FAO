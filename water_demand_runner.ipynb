{
 "cells": [
  {
   "cell_type": "markdown",
   "metadata": {},
   "source": [
    "# NEXUS tool: case study for the NWSAS basin\n",
    "In this notebook a case study for the NWSAS basin is covered, using the `nexus_tool` package. The water requirements for agricultural irrigation are calculated, then the energy requirements for pumping and desalination of brackish water are estimated and then least-cost options to supply such energy are identified between selected technologies.\n",
    "\n",
    "First import the package by running the following block:"
   ]
  },
  {
   "cell_type": "code",
   "execution_count": 2,
   "metadata": {},
   "outputs": [],
   "source": [
    "import nexus_tool"
   ]
  },
  {
   "cell_type": "markdown",
   "metadata": {},
   "source": [
    "After importing all required packages, the input GIS data is loaded into the variable `df`. Change the `file_path` variable to reflect the name and relative location of your data file."
   ]
  },
  {
   "cell_type": "code",
   "execution_count": 3,
   "metadata": {},
   "outputs": [],
   "source": [
    "file_path = r'test_data/NWSAS_input_data.csv'\n",
    "df = nexus_tool.read_csv(file_path)"
   ]
  },
  {
   "cell_type": "markdown",
   "metadata": {},
   "source": [
    "## 1. Calculating irrigation water demand\n",
    "To be able to calculate the water demand for agricultural irrigation, it is required to define crop irrigation calendars for each crop type to be assessed. Then an excel file containing the information of the crop calendars is needed. Such file should look something like this:\n",
    "\n",
    "|crop|init_start|init_end|dev_start|dev_end|mid_start|mid_end|late_start|late_end|\n",
    "|:---|:---:|:---:|:---:|:---:|:---:|:---:|:---:|:---:|\n",
    "|dates|01/11|30/03|31/03|04/05|05/05|30/09|01/10|31/10|\n",
    "|vegetables|01/11|25/11|26/11|31/12|01/01|07/02|08/02|28/02|\n",
    "|olives|01/03|30/03|31/06|30/06|01/07|31/08|01/09|30/11|\n",
    "\n",
    "Change the `file_path` variable to reflect the name and relative location of your data file.\n"
   ]
  },
  {
   "cell_type": "code",
   "execution_count": 4,
   "metadata": {},
   "outputs": [],
   "source": [
    "file_path = r'test_data/NWSAS_crop_calendar.xlsx'\n",
    "crop_calendar = nexus_tool.read_excel(file_path)"
   ]
  },
  {
   "cell_type": "markdown",
   "metadata": {},
   "source": [
    "### 1.1. Creating the model\n",
    "Once all input data is loaded. To create a model simply create an instance of the `nexus_tool.Model()` class and store it in a variable name. The `nexus_tool.Model()` class requires a dataframe as input data and another dataframe as crop calendar data. Several other properties and parameter values can be defined by explicitly passing values to them. To see a full list of parameters and their explaination refer to the documentation of the package."
   ]
  },
  {
   "cell_type": "code",
   "execution_count": 5,
   "metadata": {},
   "outputs": [],
   "source": [
    "nwsas = nexus_tool.Model(df, crop_calendar = crop_calendar,\n",
    "                         pumping_hours_per_day=10, deff= 1, aeff= 0.65)"
   ]
  },
  {
   "cell_type": "markdown",
   "metadata": {},
   "source": [
    "After creating the model you can see the default values of the properties by running `nwsas.print_properties()`. Moreover, to define values or property names after creating the model, each property can be called individually and its value can be overwrited as:\n",
    "```python\n",
    "nwsas.eto = \"ETo_\"\n",
    "nwsas.pumping_hours_per_day = 10\n",
    "```\n"
   ]
  },
  {
   "cell_type": "code",
   "execution_count": 6,
   "metadata": {},
   "outputs": [
    {
     "name": "stdout",
     "output_type": "stream",
     "text": [
      "Properties names:\n",
      "    - Reference evapotranspiration (.eto): ETo_\n",
      "    - Latitude (.lat): lat\n",
      "    - Elevation (.elevation): elevation\n",
      "    - Wind speed (.wind): wind\n",
      "    - Solar radiation (.srad): srad\n",
      "    - Min temperature (.tmin): tmin\n",
      "    - Max temperature (.tmax): tmax\n",
      "    - Avegarage temperature (.tavg): tavg\n"
     ]
    }
   ],
   "source": [
    "nwsas.print_properties()"
   ]
  },
  {
   "cell_type": "markdown",
   "metadata": {},
   "source": [
    "### 1.2. Setting required model parameters\n",
    "To compute the irrigation water requierements, the share of cropland needs to be defined for each data point. That is, to specify the share each croptype has within each data point. To achieve this, first create a dictionary containing all the croplands of the region and assign a share for each. This share should be the default value that most of the data points should have. Specific values for different regions can also be defined, as explined later:\n",
    "```python\n",
    "crop_dic = {'crop1':0.5,'crop2':0.5,'crop3':0,...}\n",
    "```\n",
    "Then, use the `.set_cropland_share()` method to pass this dictionary to the model like:\n",
    "```python\n",
    "nwsas.set_cropland_share(crop_dic, inplace = True)\n",
    "```\n",
    "The option `inplace = True` is used to tell the model to store the dictionary in it.\n",
    "Moreover, to define different cropland share values from the default one, a new dictionary can be passed to specific provinces, cities or regions, by passing a `geo_boundary` and a `boundary_name` for the region in question:\n",
    "```python\n",
    "nwsas.set_cropland_share({'crop1':0.7,'crop2':0.3,'crop3':0,...}, \n",
    "                          geo_boundary = 'province', \n",
    "                          boundary_name = 'province name', inplace = True)\n",
    "```\n",
    "The `geo_boundary` value needs to match an existent variable in the input dataframe and the `boundary_name` value should exist within the `geo_boundary` column."
   ]
  },
  {
   "cell_type": "code",
   "execution_count": 7,
   "metadata": {},
   "outputs": [],
   "source": [
    "crop_dic = {'dates':0.5,'vegetable':0.5,'olives':0}\n",
    "nwsas.set_cropland_share(crop_dic, inplace = True)\n",
    "\n",
    "nwsas.set_cropland_share({'dates':0.7,'vegetable':0.3,'olives':0}, \n",
    "                          geo_boundary = 'province', \n",
    "                          boundary_name = 'Jufrah', inplace = True)\n",
    "nwsas.set_cropland_share({'dates':0,'vegetable':0.3,'olives':0.7}, \n",
    "                          geo_boundary = 'province', \n",
    "                          boundary_name = 'Gharyan', inplace = True)"
   ]
  },
  {
   "cell_type": "markdown",
   "metadata": {},
   "source": [
    "### 1.3. Setting the ky and kc values\n",
    "The yield responese factor (*ky*), is a coefficient that relates the water uses by a crop throughout the different growing seassons. A definition by the [FAO Irrigation and Drainage Paper](http://www.fao.org/3/i2800e/i2800e.pdf) is a follows:\n",
    ">The yield response factor (Ky) captures the essence of the complex linkages\n",
    "between production and water use by a crop, where many biological,\n",
    "physical and chemical processes are involved. \n",
    "\n",
    "The Ky values are crop specific as:\n",
    "\n",
    ">**Ky > 1**: crop response is very sensitive to water deficit with proportional larger yield reductions\n",
    "when water use is reduced because of stress.  \n",
    "**Ky < 1**: crop is more tolerant to water deficit, and recovers partially from stress, exhibiting less than proportional reductions in yield with reduced water use.  \n",
    "**Ky = 1**: yield reduction is directly proportional to reduced water use.\n",
    "\n",
    "The crop coefficient (*kc*) is a factor that relates the water requirements of a cropland during a specific growing seasson. A definition by the [FAO Irrigation and drainage paper 56](http://www.fao.org/3/x0490e/x0490e0a.htm) goes as follows:\n",
    "\n",
    ">The coefficient integrates differences in the soil evaporation and crop transpiration rate between the crop and the grass reference surface. As soil evaporation may fluctuate daily as a result of rainfall or irrigation, the single crop coefficient expresses only the time-averaged (multi-day) effects of crop evapotranspiration.\n",
    "\n",
    "To define the *ky* values, a dictionary containing the values for each crop type evaluated in the region needs to be passed to the `.ky_dict` parameter of the model. Similarly the *kc* values are passed to the `.kc_dict` parameter as a dictionary containing a list of values for each croptype (i.e. one for each season in order, i.e initial, development, mid and late season)."
   ]
  },
  {
   "cell_type": "code",
   "execution_count": 8,
   "metadata": {},
   "outputs": [],
   "source": [
    "nwsas.ky_dict = {'dates':0.5,'vegetable':1.1,'olives':0.8}\n",
    "nwsas.kc_dict = {'dates': [0.8,0.9,1,0.8], \n",
    "                 'vegetable':[0.5,1,1,0.8], \n",
    "                 'olives':[0.45,0.55,0.55,0.6]}"
   ]
  },
  {
   "cell_type": "markdown",
   "metadata": {},
   "source": [
    "### 1.4. Calculating the reference evapotranspiration"
   ]
  },
  {
   "cell_type": "code",
   "execution_count": 9,
   "metadata": {},
   "outputs": [],
   "source": [
    "nwsas.get_eto(inplace = True)"
   ]
  },
  {
   "cell_type": "markdown",
   "metadata": {},
   "source": [
    "### 1.5. Calculating the effective rainfall"
   ]
  },
  {
   "cell_type": "code",
   "execution_count": 10,
   "metadata": {},
   "outputs": [],
   "source": [
    "nwsas.get_effective_rainfall(inplace = True)"
   ]
  },
  {
   "cell_type": "markdown",
   "metadata": {},
   "source": [
    "### 1.6. Calculating the kc values and standard evapotranspiration"
   ]
  },
  {
   "cell_type": "code",
   "execution_count": 11,
   "metadata": {},
   "outputs": [],
   "source": [
    "nwsas.get_calendar_days(inplace = True)\n",
    "nwsas.get_kc_values(inplace = True)"
   ]
  },
  {
   "cell_type": "markdown",
   "metadata": {},
   "source": [
    "### 1.7. Geting the irrigation water demand"
   ]
  },
  {
   "cell_type": "code",
   "execution_count": 12,
   "metadata": {},
   "outputs": [],
   "source": [
    "nwsas.get_water_demand(inplace = True)"
   ]
  },
  {
   "cell_type": "markdown",
   "metadata": {},
   "source": [
    "## 2. Displaying and saving the results"
   ]
  },
  {
   "cell_type": "code",
   "execution_count": 13,
   "metadata": {},
   "outputs": [
    {
     "data": {
      "text/html": [
       "<div>\n",
       "<style scoped>\n",
       "    .dataframe tbody tr th:only-of-type {\n",
       "        vertical-align: middle;\n",
       "    }\n",
       "\n",
       "    .dataframe tbody tr th {\n",
       "        vertical-align: top;\n",
       "    }\n",
       "\n",
       "    .dataframe thead th {\n",
       "        text-align: right;\n",
       "    }\n",
       "</style>\n",
       "<table border=\"1\" class=\"dataframe\">\n",
       "  <thead>\n",
       "    <tr style=\"text-align: right;\">\n",
       "      <th>province</th>\n",
       "      <th>Adrar</th>\n",
       "      <th>Biskra</th>\n",
       "      <th>Djelfa</th>\n",
       "      <th>El Oued</th>\n",
       "      <th>Gabes</th>\n",
       "      <th>Ghadamis</th>\n",
       "      <th>Ghardaia</th>\n",
       "      <th>Gharyan</th>\n",
       "      <th>Illizi</th>\n",
       "      <th>Jufrah</th>\n",
       "      <th>Kebili</th>\n",
       "      <th>Khenchela</th>\n",
       "      <th>Laghouat</th>\n",
       "      <th>Musrata</th>\n",
       "      <th>Ouargla</th>\n",
       "      <th>Tamanrasset</th>\n",
       "      <th>Tataouine</th>\n",
       "      <th>Tebessa</th>\n",
       "      <th>Tozeur</th>\n",
       "    </tr>\n",
       "  </thead>\n",
       "  <tbody>\n",
       "    <tr>\n",
       "      <th>Irrigated area (ha)</th>\n",
       "      <td>24101.816848</td>\n",
       "      <td>5749.995666</td>\n",
       "      <td>3449.972096</td>\n",
       "      <td>68999.985344</td>\n",
       "      <td>2874.983928</td>\n",
       "      <td>5353.213079</td>\n",
       "      <td>34499.998422</td>\n",
       "      <td>8557.616421</td>\n",
       "      <td>1770.396215</td>\n",
       "      <td>7963.713904</td>\n",
       "      <td>27412.511949</td>\n",
       "      <td>1149.970213</td>\n",
       "      <td>5749.994721</td>\n",
       "      <td>21082.919486</td>\n",
       "      <td>32699.346634</td>\n",
       "      <td>4868.857546</td>\n",
       "      <td>1833.775565</td>\n",
       "      <td>4599.970966</td>\n",
       "      <td>9617.446033</td>\n",
       "    </tr>\n",
       "    <tr>\n",
       "      <th>Water intensity (m3/ha)</th>\n",
       "      <td>10934.163102</td>\n",
       "      <td>6946.421798</td>\n",
       "      <td>7133.087402</td>\n",
       "      <td>7940.932714</td>\n",
       "      <td>6974.411600</td>\n",
       "      <td>7279.941702</td>\n",
       "      <td>8844.340440</td>\n",
       "      <td>7489.888117</td>\n",
       "      <td>9809.723887</td>\n",
       "      <td>10463.012448</td>\n",
       "      <td>7758.884332</td>\n",
       "      <td>7498.094407</td>\n",
       "      <td>6981.596567</td>\n",
       "      <td>6155.054675</td>\n",
       "      <td>8570.160759</td>\n",
       "      <td>10839.006764</td>\n",
       "      <td>7072.361917</td>\n",
       "      <td>7565.076505</td>\n",
       "      <td>7472.868053</td>\n",
       "    </tr>\n",
       "    <tr>\n",
       "      <th>Water demand (Mm3)</th>\n",
       "      <td>263.533196</td>\n",
       "      <td>39.941895</td>\n",
       "      <td>24.608952</td>\n",
       "      <td>547.924241</td>\n",
       "      <td>20.051321</td>\n",
       "      <td>38.971079</td>\n",
       "      <td>305.129731</td>\n",
       "      <td>64.095590</td>\n",
       "      <td>17.367098</td>\n",
       "      <td>83.324438</td>\n",
       "      <td>212.690509</td>\n",
       "      <td>8.622585</td>\n",
       "      <td>40.144143</td>\n",
       "      <td>129.766522</td>\n",
       "      <td>280.238657</td>\n",
       "      <td>52.773580</td>\n",
       "      <td>12.969124</td>\n",
       "      <td>34.799132</td>\n",
       "      <td>71.869905</td>\n",
       "    </tr>\n",
       "  </tbody>\n",
       "</table>\n",
       "</div>"
      ],
      "text/plain": [
       "province                        Adrar       Biskra       Djelfa       El Oued  \\\n",
       "Irrigated area (ha)      24101.816848  5749.995666  3449.972096  68999.985344   \n",
       "Water intensity (m3/ha)  10934.163102  6946.421798  7133.087402   7940.932714   \n",
       "Water demand (Mm3)         263.533196    39.941895    24.608952    547.924241   \n",
       "\n",
       "province                       Gabes     Ghadamis      Ghardaia      Gharyan  \\\n",
       "Irrigated area (ha)      2874.983928  5353.213079  34499.998422  8557.616421   \n",
       "Water intensity (m3/ha)  6974.411600  7279.941702   8844.340440  7489.888117   \n",
       "Water demand (Mm3)         20.051321    38.971079    305.129731    64.095590   \n",
       "\n",
       "province                      Illizi        Jufrah        Kebili    Khenchela  \\\n",
       "Irrigated area (ha)      1770.396215   7963.713904  27412.511949  1149.970213   \n",
       "Water intensity (m3/ha)  9809.723887  10463.012448   7758.884332  7498.094407   \n",
       "Water demand (Mm3)         17.367098     83.324438    212.690509     8.622585   \n",
       "\n",
       "province                    Laghouat       Musrata       Ouargla  \\\n",
       "Irrigated area (ha)      5749.994721  21082.919486  32699.346634   \n",
       "Water intensity (m3/ha)  6981.596567   6155.054675   8570.160759   \n",
       "Water demand (Mm3)         40.144143    129.766522    280.238657   \n",
       "\n",
       "province                  Tamanrasset    Tataouine      Tebessa       Tozeur  \n",
       "Irrigated area (ha)       4868.857546  1833.775565  4599.970966  9617.446033  \n",
       "Water intensity (m3/ha)  10839.006764  7072.361917  7565.076505  7472.868053  \n",
       "Water demand (Mm3)          52.773580    12.969124    34.799132    71.869905  "
      ]
     },
     "execution_count": 13,
     "metadata": {},
     "output_type": "execute_result"
    }
   ],
   "source": [
    "nwsas.print_summary(geo_boundary = 'province')"
   ]
  },
  {
   "cell_type": "code",
   "execution_count": 14,
   "metadata": {},
   "outputs": [],
   "source": [
    "output_file = r'nwsas_results/water_demand.csv'\n",
    "nwsas.df.to_csv(output_file, index = False)"
   ]
  }
 ],
 "metadata": {
  "kernelspec": {
   "display_name": "Python 3",
   "language": "python",
   "name": "python3"
  },
  "language_info": {
   "codemirror_mode": {
    "name": "ipython",
    "version": 3
   },
   "file_extension": ".py",
   "mimetype": "text/x-python",
   "name": "python",
   "nbconvert_exporter": "python",
   "pygments_lexer": "ipython3",
   "version": "3.7.3"
  }
 },
 "nbformat": 4,
 "nbformat_minor": 2
}
