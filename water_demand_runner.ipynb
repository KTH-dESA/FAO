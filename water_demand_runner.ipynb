{
 "cells": [
  {
   "cell_type": "markdown",
   "metadata": {},
   "source": [
    "# NEXUS tool: case study for the NWSAS basin - irrigation water demand\n",
    "In this notebook a case study for the NWSAS basin is covered, using the `nexus_tool` package. The water requirements for agricultural irrigation are calculated, then the energy requirements for pumping and desalination of brackish water are estimated and then least-cost options to supply such energy are identified between selected technologies.\n",
    "\n",
    "First import the package by running the following block:"
   ]
  },
  {
   "cell_type": "code",
   "execution_count": 1,
   "metadata": {},
   "outputs": [],
   "source": [
    "%load_ext autoreload"
   ]
  },
  {
   "cell_type": "code",
   "execution_count": 2,
   "metadata": {},
   "outputs": [],
   "source": [
    "%autoreload\n",
    "import nexus_tool"
   ]
  },
  {
   "cell_type": "markdown",
   "metadata": {},
   "source": [
    "After importing all required packages, the input GIS data is loaded into the variable `df`. Change the `file_path` variable to reflect the name and relative location of your data file."
   ]
  },
  {
   "cell_type": "code",
   "execution_count": 3,
   "metadata": {},
   "outputs": [],
   "source": [
    "file_path = r'nwsas_data/NWSAS_input_data.csv'\n",
    "df = nexus_tool.read_csv(file_path)"
   ]
  },
  {
   "cell_type": "markdown",
   "metadata": {},
   "source": [
    "## 1. Calculating irrigation water demand\n",
    "To be able to calculate the water demand for agricultural irrigation, it is required to define crop irrigation calendars for each crop type to be assessed. Then an excel file containing the information of the crop calendars is needed. Such file should look something like this:\n",
    "\n",
    "|crop|init_start|init_end|dev_start|dev_end|mid_start|mid_end|late_start|late_end|\n",
    "|:---|:---:|:---:|:---:|:---:|:---:|:---:|:---:|:---:|\n",
    "|dates|01/11|30/03|31/03|04/05|05/05|30/09|01/10|31/10|\n",
    "|vegetables|01/11|25/11|26/11|31/12|01/01|07/02|08/02|28/02|\n",
    "|olives|01/03|30/03|31/06|30/06|01/07|31/08|01/09|30/11|\n",
    "\n",
    "Change the `file_path` variable to reflect the name and relative location of your data file.\n"
   ]
  },
  {
   "cell_type": "code",
   "execution_count": 4,
   "metadata": {},
   "outputs": [],
   "source": [
    "file_path = r'nwsas_data/NWSAS_crop_calendar.xlsx'\n",
    "crop_calendar = nexus_tool.read_excel(file_path)"
   ]
  },
  {
   "cell_type": "markdown",
   "metadata": {},
   "source": [
    "### 1.1. Creating the model\n",
    "Once all input data is loaded. To create a model simply create an instance of the `nexus_tool.Model()` class and store it in a variable name. The `nexus_tool.Model()` class requires a dataframe as input data and another dataframe as crop calendar data. Several other properties and parameter values can be defined by explicitly passing values to them. To see a full list of parameters and their explaination refer to the documentation of the package."
   ]
  },
  {
   "cell_type": "code",
   "execution_count": 5,
   "metadata": {},
   "outputs": [],
   "source": [
    "nwsas = nexus_tool.Model(df, crop_calendar = crop_calendar,\n",
    "                         pumping_hours_per_day=10, deff= 1, aeff= 0.45)"
   ]
  },
  {
   "cell_type": "markdown",
   "metadata": {},
   "source": [
    "After creating the model you can see the default values of the properties by running `nwsas.print_properties()`. Moreover, to define values or property names after creating the model, each property can be called individually and its value can be overwrited as:\n",
    "```python\n",
    "nwsas.eto = \"ETo_\"\n",
    "nwsas.pumping_hours_per_day = 10\n",
    "```\n"
   ]
  },
  {
   "cell_type": "code",
   "execution_count": 6,
   "metadata": {},
   "outputs": [
    {
     "name": "stdout",
     "output_type": "stream",
     "text": [
      "Properties names:\n",
      "    - Reference evapotranspiration (.eto): ETo_\n",
      "    - Latitude (.lat): lat\n",
      "    - Elevation (.elevation): elevation\n",
      "    - Wind speed (.wind): wind\n",
      "    - Solar radiation (.srad): srad\n",
      "    - Min temperature (.tmin): tmin\n",
      "    - Max temperature (.tmax): tmax\n",
      "    - Avegarage temperature (.tavg): tavg\n",
      "    - Cropland share column (.crop_share): crop_share\n",
      "    - Cropland area column (.crop_area): crop_area\n",
      "    - Harvest seasons names (.seasons): ['init', 'dev', 'mid', 'late']\n",
      "    - Seasson start suffix (.start): _start\n",
      "    - Seasson end suffix (.end): _end\n",
      "    - Cropland column (.crop_column): crop\n",
      "    - Groundwater table depth (.gw_depth): gw_depth\n",
      "    - Total dynamic head (.tdh_gw): tdh_gw\n"
     ]
    }
   ],
   "source": [
    "nwsas.print_properties()"
   ]
  },
  {
   "cell_type": "markdown",
   "metadata": {},
   "source": [
    "### 1.2. Setting required model parameters\n",
    "To compute the irrigation water requierements, the share of cropland needs to be defined for each data point. That is, to specify the share each croptype has within each data point. To achieve this, first create a dictionary containing all the croplands of the region and assign a share for each. This share should be the default value that most of the data points should have. Specific values for different regions can also be defined, as explined later:\n",
    "```python\n",
    "crop_dic = {'crop1':0.5,'crop2':0.5,'crop3':0,...}\n",
    "```\n",
    "Then, use the `.set_cropland_share()` method to pass this dictionary to the model like:\n",
    "```python\n",
    "nwsas.set_cropland_share(crop_dic, inplace = True)\n",
    "```\n",
    "The option `inplace = True` is used to tell the model to store the dictionary in it.\n",
    "Moreover, to define different cropland share values from the default one, a new dictionary can be passed to specific provinces, cities or regions, by passing a `geo_boundary` and a `boundary_name` for the region in question:\n",
    "```python\n",
    "nwsas.set_cropland_share({'crop1':0.7,'crop2':0.3,'crop3':0,...}, \n",
    "                          geo_boundary = 'province', \n",
    "                          boundary_name = 'province name', inplace = True)\n",
    "```\n",
    "The `geo_boundary` value needs to match an existent variable in the input dataframe and the `boundary_name` value should exist within the `geo_boundary` column."
   ]
  },
  {
   "cell_type": "code",
   "execution_count": 7,
   "metadata": {},
   "outputs": [],
   "source": [
    "crop_dic = {'dates':0.5,'vegetable':0.5,'olives':0}\n",
    "nwsas.set_cropland_share(crop_dic, inplace = True)\n",
    "\n",
    "nwsas.set_cropland_share({'dates':0.7,'vegetable':0.3,'olives':0}, \n",
    "                          geo_boundary = 'province', \n",
    "                          boundary_name = ['Jufrah'], inplace = True)\n",
    "nwsas.set_cropland_share({'dates':0,'vegetable':0.3,'olives':0.7}, \n",
    "                          geo_boundary = 'province', \n",
    "                          boundary_name = ['Gharyan'], inplace = True)"
   ]
  },
  {
   "cell_type": "markdown",
   "metadata": {},
   "source": [
    "### 1.3. Setting the ky and kc values\n",
    "The yield responese factor (*ky*), is a coefficient that relates the water uses by a crop throughout the different growing seassons. A definition by the [FAO Irrigation and Drainage Paper](http://www.fao.org/3/i2800e/i2800e.pdf) is a follows:\n",
    ">The yield response factor (Ky) captures the essence of the complex linkages\n",
    "between production and water use by a crop, where many biological,\n",
    "physical and chemical processes are involved. \n",
    "\n",
    "The Ky values are crop specific as:\n",
    "\n",
    ">**Ky > 1**: crop response is very sensitive to water deficit with proportional larger yield reductions\n",
    "when water use is reduced because of stress.  \n",
    "**Ky < 1**: crop is more tolerant to water deficit, and recovers partially from stress, exhibiting less than proportional reductions in yield with reduced water use.  \n",
    "**Ky = 1**: yield reduction is directly proportional to reduced water use.\n",
    "\n",
    "The crop coefficient (*kc*) is a factor that relates the water requirements of a cropland during a specific growing seasson. A definition by the [FAO Irrigation and drainage paper 56](http://www.fao.org/3/x0490e/x0490e0a.htm) goes as follows:\n",
    "\n",
    ">The coefficient integrates differences in the soil evaporation and crop transpiration rate between the crop and the grass reference surface. As soil evaporation may fluctuate daily as a result of rainfall or irrigation, the single crop coefficient expresses only the time-averaged (multi-day) effects of crop evapotranspiration.\n",
    "\n",
    "To define the *ky* values, a dictionary containing the values for each crop type evaluated in the region needs to be passed to the `.ky_dict` parameter of the model. Similarly the *kc* values are passed to the `.kc_dict` parameter as a dictionary containing a list of values for each croptype (i.e. one for each season in order, i.e initial, development, mid and late season)."
   ]
  },
  {
   "cell_type": "code",
   "execution_count": 8,
   "metadata": {},
   "outputs": [],
   "source": [
    "nwsas.ky_dict = {'dates':0.5,'vegetable':1.1,'olives':0.8}\n",
    "nwsas.kc_dict = {'dates': [0.8,0.9,1,0.8], \n",
    "                 'vegetable':[0.5,1,1,0.8], \n",
    "                 'olives':[0.45,0.55,0.55,0.6]}"
   ]
  },
  {
   "cell_type": "markdown",
   "metadata": {},
   "source": [
    "### 1.4. Calculating the reference evapotranspiration\n",
    "To calculate the reference evapotranspiration, make sure you have the correct definitions por all the properties in the model (check them with `nwsas.print_properties()`) and the correct input values check them with  (check them with `nwsas.print_inputs()`). Then, run the `nwsas.get_eto(inplace = True)` method."
   ]
  },
  {
   "cell_type": "code",
   "execution_count": 9,
   "metadata": {},
   "outputs": [],
   "source": [
    "nwsas.get_eto(inplace = True)"
   ]
  },
  {
   "cell_type": "markdown",
   "metadata": {},
   "source": [
    "### 1.5. Calculating the effective rainfall\n",
    "The effective rainfall stands for the actuall usable water that is stored in the root zone of the plant. Then, it substract all runoff, evapotranspiration and water that is percolated deeper in the soil and can not be reached by the plant. There are several methods available to compute the effective rainfall, depending on the soil type, climatic region, among other parameters. The one used by the `nexus_tool` package is the **(reference here)**.\n",
    "\n",
    "Get the effective ranfall for al the region by running the method `nwsas.get_effective_rainfall(inplace = True)`."
   ]
  },
  {
   "cell_type": "code",
   "execution_count": 10,
   "metadata": {},
   "outputs": [],
   "source": [
    "nwsas.get_effective_rainfall(inplace = True)"
   ]
  },
  {
   "cell_type": "markdown",
   "metadata": {},
   "source": [
    "### 1.6. Calculating the kc values and standard evapotranspiration\n",
    "To calculate the kc values and get the standar evapotranspiration, run the methods `nwsas.get_calendar_days(inplace = True)` and `nwsas.get_kc_values(inplace = True)` in that order. The former, will map the crop calendars of the crops to every region, and compute the duration of each seasson in days. Then, the *kc* values are calculated according to the days transcurred in each seassons and the values passed in the `kc_dict` input."
   ]
  },
  {
   "cell_type": "code",
   "execution_count": 11,
   "metadata": {},
   "outputs": [],
   "source": [
    "nwsas.get_calendar_days(inplace = True)\n",
    "nwsas.get_kc_values(inplace = True)"
   ]
  },
  {
   "cell_type": "markdown",
   "metadata": {},
   "source": [
    "### 1.7. Geting the irrigation water demand\n",
    "Then everything should be setup to compute the irrigation water demand. For that run the `nwsas.get_water_demand(inplace = True)` method."
   ]
  },
  {
   "cell_type": "code",
   "execution_count": 12,
   "metadata": {},
   "outputs": [],
   "source": [
    "nwsas.get_water_demand(inplace = True)"
   ]
  },
  {
   "cell_type": "markdown",
   "metadata": {},
   "source": [
    "## 2. Displaying and saving the results\n",
    "After the calculations are completed, display a summary of results by running the `nwsas.print_summary()` method. If you run the method without any argument, then the summary values will be dispayed for the entire region, under the label of \"Glogal\". However, if you like to summarize by regions, then pass the argument `geo_boundary` to the function, specifing the variable that you want the results to be grouped by. "
   ]
  },
  {
   "cell_type": "code",
   "execution_count": 13,
   "metadata": {},
   "outputs": [
    {
     "data": {
      "text/html": [
       "<div>\n",
       "<style scoped>\n",
       "    .dataframe tbody tr th:only-of-type {\n",
       "        vertical-align: middle;\n",
       "    }\n",
       "\n",
       "    .dataframe tbody tr th {\n",
       "        vertical-align: top;\n",
       "    }\n",
       "\n",
       "    .dataframe thead th {\n",
       "        text-align: right;\n",
       "    }\n",
       "</style>\n",
       "<table border=\"1\" class=\"dataframe\">\n",
       "  <thead>\n",
       "    <tr style=\"text-align: right;\">\n",
       "      <th></th>\n",
       "      <th></th>\n",
       "      <th>Irrigated area (ha)</th>\n",
       "      <th>Water demand (Mm3)</th>\n",
       "      <th>Water intensity (m3/ha)</th>\n",
       "    </tr>\n",
       "    <tr>\n",
       "      <th>country</th>\n",
       "      <th>province</th>\n",
       "      <th></th>\n",
       "      <th></th>\n",
       "      <th></th>\n",
       "    </tr>\n",
       "  </thead>\n",
       "  <tbody>\n",
       "    <tr>\n",
       "      <th rowspan=\"11\" valign=\"top\">Algeria</th>\n",
       "      <th>Adrar</th>\n",
       "      <td>24101.816848</td>\n",
       "      <td>380.659062</td>\n",
       "      <td>15793.791148</td>\n",
       "    </tr>\n",
       "    <tr>\n",
       "      <th>Biskra</th>\n",
       "      <td>5749.995666</td>\n",
       "      <td>57.693849</td>\n",
       "      <td>10033.720376</td>\n",
       "    </tr>\n",
       "    <tr>\n",
       "      <th>Djelfa</th>\n",
       "      <td>3449.972096</td>\n",
       "      <td>35.546265</td>\n",
       "      <td>10303.348469</td>\n",
       "    </tr>\n",
       "    <tr>\n",
       "      <th>El Oued</th>\n",
       "      <td>68999.985344</td>\n",
       "      <td>791.446126</td>\n",
       "      <td>11470.236142</td>\n",
       "    </tr>\n",
       "    <tr>\n",
       "      <th>Ghardaia</th>\n",
       "      <td>34499.998422</td>\n",
       "      <td>440.742945</td>\n",
       "      <td>12775.158413</td>\n",
       "    </tr>\n",
       "    <tr>\n",
       "      <th>Illizi</th>\n",
       "      <td>1770.396215</td>\n",
       "      <td>25.085808</td>\n",
       "      <td>14169.601170</td>\n",
       "    </tr>\n",
       "    <tr>\n",
       "      <th>Khenchela</th>\n",
       "      <td>1149.970213</td>\n",
       "      <td>12.454845</td>\n",
       "      <td>10830.580811</td>\n",
       "    </tr>\n",
       "    <tr>\n",
       "      <th>Laghouat</th>\n",
       "      <td>5749.994721</td>\n",
       "      <td>57.985985</td>\n",
       "      <td>10084.528374</td>\n",
       "    </tr>\n",
       "    <tr>\n",
       "      <th>Ouargla</th>\n",
       "      <td>32699.346634</td>\n",
       "      <td>404.789172</td>\n",
       "      <td>12379.121096</td>\n",
       "    </tr>\n",
       "    <tr>\n",
       "      <th>Tamanrasset</th>\n",
       "      <td>4868.857546</td>\n",
       "      <td>76.228504</td>\n",
       "      <td>15656.343103</td>\n",
       "    </tr>\n",
       "    <tr>\n",
       "      <th>Tebessa</th>\n",
       "      <td>4599.970966</td>\n",
       "      <td>50.265413</td>\n",
       "      <td>10927.332730</td>\n",
       "    </tr>\n",
       "    <tr>\n",
       "      <th rowspan=\"4\" valign=\"top\">Libya</th>\n",
       "      <th>Ghadamis</th>\n",
       "      <td>5353.213079</td>\n",
       "      <td>56.291559</td>\n",
       "      <td>10515.471347</td>\n",
       "    </tr>\n",
       "    <tr>\n",
       "      <th>Gharyan</th>\n",
       "      <td>8557.616421</td>\n",
       "      <td>92.582518</td>\n",
       "      <td>10818.727280</td>\n",
       "    </tr>\n",
       "    <tr>\n",
       "      <th>Jufrah</th>\n",
       "      <td>7963.713904</td>\n",
       "      <td>120.357521</td>\n",
       "      <td>15113.240202</td>\n",
       "    </tr>\n",
       "    <tr>\n",
       "      <th>Musrata</th>\n",
       "      <td>21082.919486</td>\n",
       "      <td>187.440532</td>\n",
       "      <td>8890.634530</td>\n",
       "    </tr>\n",
       "    <tr>\n",
       "      <th rowspan=\"4\" valign=\"top\">Tunisia</th>\n",
       "      <th>Gabes</th>\n",
       "      <td>2874.983928</td>\n",
       "      <td>28.963020</td>\n",
       "      <td>10074.150089</td>\n",
       "    </tr>\n",
       "    <tr>\n",
       "      <th>Kebili</th>\n",
       "      <td>27412.511949</td>\n",
       "      <td>307.219625</td>\n",
       "      <td>11207.277369</td>\n",
       "    </tr>\n",
       "    <tr>\n",
       "      <th>Tataouine</th>\n",
       "      <td>1833.775565</td>\n",
       "      <td>18.733180</td>\n",
       "      <td>10215.633880</td>\n",
       "    </tr>\n",
       "    <tr>\n",
       "      <th>Tozeur</th>\n",
       "      <td>9617.446033</td>\n",
       "      <td>103.812085</td>\n",
       "      <td>10794.142744</td>\n",
       "    </tr>\n",
       "  </tbody>\n",
       "</table>\n",
       "</div>"
      ],
      "text/plain": [
       "                     Irrigated area (ha)  Water demand (Mm3)  \\\n",
       "country province                                               \n",
       "Algeria Adrar               24101.816848          380.659062   \n",
       "        Biskra               5749.995666           57.693849   \n",
       "        Djelfa               3449.972096           35.546265   \n",
       "        El Oued             68999.985344          791.446126   \n",
       "        Ghardaia            34499.998422          440.742945   \n",
       "        Illizi               1770.396215           25.085808   \n",
       "        Khenchela            1149.970213           12.454845   \n",
       "        Laghouat             5749.994721           57.985985   \n",
       "        Ouargla             32699.346634          404.789172   \n",
       "        Tamanrasset          4868.857546           76.228504   \n",
       "        Tebessa              4599.970966           50.265413   \n",
       "Libya   Ghadamis             5353.213079           56.291559   \n",
       "        Gharyan              8557.616421           92.582518   \n",
       "        Jufrah               7963.713904          120.357521   \n",
       "        Musrata             21082.919486          187.440532   \n",
       "Tunisia Gabes                2874.983928           28.963020   \n",
       "        Kebili              27412.511949          307.219625   \n",
       "        Tataouine            1833.775565           18.733180   \n",
       "        Tozeur               9617.446033          103.812085   \n",
       "\n",
       "                     Water intensity (m3/ha)  \n",
       "country province                              \n",
       "Algeria Adrar                   15793.791148  \n",
       "        Biskra                  10033.720376  \n",
       "        Djelfa                  10303.348469  \n",
       "        El Oued                 11470.236142  \n",
       "        Ghardaia                12775.158413  \n",
       "        Illizi                  14169.601170  \n",
       "        Khenchela               10830.580811  \n",
       "        Laghouat                10084.528374  \n",
       "        Ouargla                 12379.121096  \n",
       "        Tamanrasset             15656.343103  \n",
       "        Tebessa                 10927.332730  \n",
       "Libya   Ghadamis                10515.471347  \n",
       "        Gharyan                 10818.727280  \n",
       "        Jufrah                  15113.240202  \n",
       "        Musrata                  8890.634530  \n",
       "Tunisia Gabes                   10074.150089  \n",
       "        Kebili                  11207.277369  \n",
       "        Tataouine               10215.633880  \n",
       "        Tozeur                  10794.142744  "
      ]
     },
     "execution_count": 13,
     "metadata": {},
     "output_type": "execute_result"
    }
   ],
   "source": [
    "nwsas.print_summary(geo_boundary = ['country','province'])"
   ]
  },
  {
   "cell_type": "markdown",
   "metadata": {},
   "source": [
    "Finally, save the results in .csv format, by specifing an output file name and location (`output_file`) and running the `nwsas.df.to_csv(output_file, index = False)` method."
   ]
  },
  {
   "cell_type": "code",
   "execution_count": 93,
   "metadata": {},
   "outputs": [],
   "source": [
    "output_file = r'nwsas_results/water_demand.csv'\n",
    "nwsas.df.to_csv(output_file, index = False)"
   ]
  }
 ],
 "metadata": {
  "kernelspec": {
   "display_name": "Python 3",
   "language": "python",
   "name": "python3"
  },
  "language_info": {
   "codemirror_mode": {
    "name": "ipython",
    "version": 3
   },
   "file_extension": ".py",
   "mimetype": "text/x-python",
   "name": "python",
   "nbconvert_exporter": "python",
   "pygments_lexer": "ipython3",
   "version": "3.6.7"
  }
 },
 "nbformat": 4,
 "nbformat_minor": 2
}
