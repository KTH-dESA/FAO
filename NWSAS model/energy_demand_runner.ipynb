{
 "cells": [
  {
   "cell_type": "markdown",
   "metadata": {},
   "source": [
    "# NEXUS tool: case study for the NWSAS basin - energy demand calculations\n",
    "In this notebook a case study for the NWSAS basin is covered using the `nexus_tool` package. The water requirements for agricultural irrigation were previously calculated (check the water demand case study). In this case study, the energy requirements for pumping and desalination of brackish water are estimated.\n",
    "\n",
    "First import the package by running the following block:"
   ]
  },
  {
   "cell_type": "code",
   "execution_count": 1,
   "metadata": {},
   "outputs": [],
   "source": [
    "%load_ext autoreload"
   ]
  },
  {
   "cell_type": "code",
   "execution_count": 2,
   "metadata": {},
   "outputs": [],
   "source": [
    "%autoreload\n",
    "import nexus_tool"
   ]
  },
  {
   "cell_type": "markdown",
   "metadata": {},
   "source": [
    "After importing all required packages, the input GIS data is loaded into the variable `df`. Change the `file_path` variable to reflect the name and relative location of your data file. This dataset should already have the water demand for irrigation data."
   ]
  },
  {
   "cell_type": "code",
   "execution_count": 3,
   "metadata": {},
   "outputs": [],
   "source": [
    "file_path = r'nwsas_results/water_demand.csv'\n",
    "df = nexus_tool.read_csv(file_path)\n",
    "df['Pipe_diameter']=10 #in m\n",
    "df['Pipeline_length']=200 #in m"
   ]
  },
  {
   "cell_type": "code",
   "execution_count": null,
   "metadata": {},
   "outputs": [],
   "source": []
  },
  {
   "cell_type": "markdown",
   "metadata": {},
   "source": [
    "## 1. Calculating pumping energy requirements\n",
    "### 1.1. Creating the model\n",
    "To create a model simply create an instance of the `nexus_tool.Model()` class and store it in a variable name. The `nexus_tool.Model()` class requires a dataframe as input data. Several other properties and parameter values can be defined by explicitly passing values to them. To see a full list of parameters and their explaination refer to the documentation of the package."
   ]
  },
  {
   "cell_type": "code",
   "execution_count": 4,
   "metadata": {},
   "outputs": [],
   "source": [
    "nwsas = nexus_tool.Model(df)"
   ]
  },
  {
   "cell_type": "markdown",
   "metadata": {},
   "source": [
    "### 1.2. Changing default values for inputs\n",
    "The names of the properties of the model can be chaned at any time. This is important for the model to know how each property is called withing your input data. To check the current property names run the `nwsas.print_properties()` method, a list with the names of each property and its current value wil be displayed:"
   ]
  },
  {
   "cell_type": "code",
   "execution_count": 5,
   "metadata": {},
   "outputs": [
    {
     "name": "stdout",
     "output_type": "stream",
     "text": [
      "Properties names:\n",
      "    - Reference evapotranspiration (.eto): ETo_\n",
      "    - Latitude (.lat): lat\n",
      "    - Elevation (.elevation): elevation\n",
      "    - Wind speed (.wind): wind\n",
      "    - Solar radiation (.srad): srad\n",
      "    - Min temperature (.tmin): tmin\n",
      "    - Max temperature (.tmax): tmax\n",
      "    - Avegarage temperature (.tavg): tavg\n",
      "    - Cropland share column (.crop_share): crop_share\n",
      "    - Cropland area column (.crop_area): crop_area\n",
      "    - Harvest seasons names (.seasons): ['init', 'dev', 'mid', 'late']\n",
      "    - Seasson start suffix (.start): _start\n",
      "    - Seasson end suffix (.end): _end\n",
      "    - Cropland column (.crop_column): crop\n",
      "    - Groundwater table depth (.gw_depth): gw_depth\n",
      "    - Total dynamic head ground water (.tdh_gw): tdh_gw\n",
      "    - Total dynamic head surface water (.tdh_sw): tdh_sw\n"
     ]
    }
   ],
   "source": [
    "nwsas.print_properties()"
   ]
  },
  {
   "cell_type": "markdown",
   "metadata": {},
   "source": [
    "Then you can provide the right names for each property, calling them and assigning a value as:\n",
    "```python\n",
    "nwsas.crop_column = 'cropland'\n",
    "nwsas.seasons = ['initial', 'development', 'mid-season', 'harvest']\n",
    "nwsas.gw_depth = 'name_of_ground_water_depth'\n",
    "```"
   ]
  },
  {
   "cell_type": "markdown",
   "metadata": {},
   "source": [
    "### 1.3. Calculating the Total Dinamic Head (tdh)\n",
    "First, we will calculate the Total Dinamic Head (tdh), which is a measure in meters that accounts for the depth to groundwater, the water drawdown (wdd), the operating application pressure (oap) and the pressure loss in distribution (pld).\n",
    "\n",
    "For that, run the `nwsas.get_gw_tdh()` method passing the `wdd`, `oap` and `pld` values (their default value is 0). Also, make sure that the name for the groundwater depth column of the dataframe, matches the name of the `gw_depth` variable in the model as described in the previous step."
   ]
  },
  {
   "cell_type": "code",
   "execution_count": 6,
   "metadata": {},
   "outputs": [],
   "source": [
    "nwsas.get_gw_tdh(inplace = True, wdd = 0, oap = 0, pld = 0)"
   ]
  },
  {
   "cell_type": "code",
   "execution_count": 7,
   "metadata": {},
   "outputs": [],
   "source": [
    "nwsas.get_A(inplace=True)\n",
    "nwsas.get_V(inplace=True)\n",
    "nwsas.get_Re(inplace=True)\n",
    "nwsas.get_f(inplace=True)\n",
    "\n",
    "nwsas.get_sw_tdh(inplace = True)\n",
    "\n"
   ]
  },
  {
   "cell_type": "markdown",
   "metadata": {},
   "source": [
    "### 1.4. Calculating the energy efficiency of the pumping system\n",
    "To second step compute the energy requirements for pumping water from a groundwater aquifer, first the pumping system efficiency needs to be defined:\n",
    "\n",
    "$$\\text{pumping plant efficiency (%)}= \\text{fuel efficiency (%)} \\times \\text{power unit eff (%)} \\times  \\text{transmission eff (%)} \\times \\text{pump eff (%)} \\times 100\\%$$\n",
    "\n",
    "**The Power Unit:** can be diesel engine or electric engine. In the first we call it (diesel powered pump) and the second (electric powered pump).\n",
    " \n",
    "Value obtained from FAO1992, pages 26-27:\n",
    "\n",
    "* Diesel powered pump:\n",
    "    * Worst case: $0.9\\times 0.3\\times 0.9\\times 0.4 = 10\\%\\ (0.1)$\n",
    "    * Best case: $1\\times 0.4\\times 1\\times 0.8 = 32\\%\\ (0.32)$\n",
    "    \n",
    "* Electric powered pump:\n",
    "    * Worst case: $0.9\\times 0.75\\times 0.9\\times 0.4 = 25\\%\\ (0.25)$\n",
    "    * Best case: $1\\times 0.85\\times 1\\times0.8 = 70\\%\\ (0.7)$\n",
    "\n",
    "The $\\text{fuel efficiency}$ and the $\\text{power unit efficiency}$ values can be directly passed to the `.get_pumping_energy()` method, whereas the remaining two efficiency values can be accounted later in the least-cost supply options calculations.\n",
    "\n",
    "After all required inputs and parameters are computed, the `nwsas.get_GWpumping_energy()` method can used to compute the groundwater pumping energy requirements."
   ]
  },
  {
   "cell_type": "code",
   "execution_count": 8,
   "metadata": {},
   "outputs": [],
   "source": [
    "nwsas.trans_eff = 0.9\n",
    "nwsas.pump_eff = 0.4\n",
    "nwsas.get_GWpumping_energy(inplace = True)\n",
    "nwsas.get_SWpumping_energy(inplace = True)\n",
    "nwsas.get_total_pumping_energy(inplace = True)\n",
    "nwsas.get_annual_electricity(inplace = True)"
   ]
  },
  {
   "cell_type": "markdown",
   "metadata": {},
   "source": [
    "## 2. Displaying and saving the results\n",
    "After the calculations are completed, display a summary of results by running the `nwsas.print_summary()` method. If you run the method without any argument, then the summary values will be dispayed for the entire region, under the label of \"Glogal\". However, if you like to summarize by regions, then pass the argument `geo_boundary` to the function, specifing the variable that you want the results to be grouped by. "
   ]
  },
  {
   "cell_type": "code",
   "execution_count": 9,
   "metadata": {},
   "outputs": [
    {
     "data": {
      "text/html": [
       "<div>\n",
       "<style scoped>\n",
       "    .dataframe tbody tr th:only-of-type {\n",
       "        vertical-align: middle;\n",
       "    }\n",
       "\n",
       "    .dataframe tbody tr th {\n",
       "        vertical-align: top;\n",
       "    }\n",
       "\n",
       "    .dataframe thead th {\n",
       "        text-align: right;\n",
       "    }\n",
       "</style>\n",
       "<table border=\"1\" class=\"dataframe\">\n",
       "  <thead>\n",
       "    <tr style=\"text-align: right;\">\n",
       "      <th></th>\n",
       "      <th>Irrigated area (ha)</th>\n",
       "      <th>Water demand (Mm3)</th>\n",
       "      <th>Water intensity (m3/ha)</th>\n",
       "      <th>Energy demand (GWh)</th>\n",
       "    </tr>\n",
       "    <tr>\n",
       "      <th>province</th>\n",
       "      <th></th>\n",
       "      <th></th>\n",
       "      <th></th>\n",
       "      <th></th>\n",
       "    </tr>\n",
       "  </thead>\n",
       "  <tbody>\n",
       "    <tr>\n",
       "      <th>Adrar</th>\n",
       "      <td>24101.816848</td>\n",
       "      <td>380.659062</td>\n",
       "      <td>15793.791148</td>\n",
       "      <td>5.613586e+10</td>\n",
       "    </tr>\n",
       "    <tr>\n",
       "      <th>Biskra</th>\n",
       "      <td>5749.995666</td>\n",
       "      <td>57.693849</td>\n",
       "      <td>10033.720376</td>\n",
       "      <td>7.551154e+07</td>\n",
       "    </tr>\n",
       "    <tr>\n",
       "      <th>Djelfa</th>\n",
       "      <td>3449.972096</td>\n",
       "      <td>35.546265</td>\n",
       "      <td>10303.348469</td>\n",
       "      <td>1.775465e+09</td>\n",
       "    </tr>\n",
       "    <tr>\n",
       "      <th>El Oued</th>\n",
       "      <td>68999.985344</td>\n",
       "      <td>791.446126</td>\n",
       "      <td>11470.236142</td>\n",
       "      <td>8.511294e+09</td>\n",
       "    </tr>\n",
       "    <tr>\n",
       "      <th>Gabes</th>\n",
       "      <td>2874.983928</td>\n",
       "      <td>28.963020</td>\n",
       "      <td>10074.150089</td>\n",
       "      <td>8.868132e+06</td>\n",
       "    </tr>\n",
       "    <tr>\n",
       "      <th>Ghadamis</th>\n",
       "      <td>5353.213079</td>\n",
       "      <td>56.291559</td>\n",
       "      <td>10515.471347</td>\n",
       "      <td>1.036799e+07</td>\n",
       "    </tr>\n",
       "    <tr>\n",
       "      <th>Ghardaia</th>\n",
       "      <td>34499.998422</td>\n",
       "      <td>440.742945</td>\n",
       "      <td>12775.158413</td>\n",
       "      <td>2.312140e+12</td>\n",
       "    </tr>\n",
       "    <tr>\n",
       "      <th>Gharyan</th>\n",
       "      <td>8557.616421</td>\n",
       "      <td>92.582518</td>\n",
       "      <td>10818.727280</td>\n",
       "      <td>1.225502e+06</td>\n",
       "    </tr>\n",
       "    <tr>\n",
       "      <th>Illizi</th>\n",
       "      <td>1770.396215</td>\n",
       "      <td>25.085808</td>\n",
       "      <td>14169.601170</td>\n",
       "      <td>1.625109e+07</td>\n",
       "    </tr>\n",
       "    <tr>\n",
       "      <th>Jufrah</th>\n",
       "      <td>7963.713904</td>\n",
       "      <td>120.357521</td>\n",
       "      <td>15113.240202</td>\n",
       "      <td>4.737207e+09</td>\n",
       "    </tr>\n",
       "    <tr>\n",
       "      <th>Kebili</th>\n",
       "      <td>27412.511949</td>\n",
       "      <td>307.219625</td>\n",
       "      <td>11207.277369</td>\n",
       "      <td>8.250173e+13</td>\n",
       "    </tr>\n",
       "    <tr>\n",
       "      <th>Khenchela</th>\n",
       "      <td>1149.970213</td>\n",
       "      <td>12.454845</td>\n",
       "      <td>10830.580811</td>\n",
       "      <td>6.874997e+08</td>\n",
       "    </tr>\n",
       "    <tr>\n",
       "      <th>Laghouat</th>\n",
       "      <td>5749.994721</td>\n",
       "      <td>57.985985</td>\n",
       "      <td>10084.528374</td>\n",
       "      <td>3.927188e+09</td>\n",
       "    </tr>\n",
       "    <tr>\n",
       "      <th>Musrata</th>\n",
       "      <td>21082.919486</td>\n",
       "      <td>187.440532</td>\n",
       "      <td>8890.634530</td>\n",
       "      <td>5.946968e+07</td>\n",
       "    </tr>\n",
       "    <tr>\n",
       "      <th>Ouargla</th>\n",
       "      <td>32699.346634</td>\n",
       "      <td>404.789172</td>\n",
       "      <td>12379.121096</td>\n",
       "      <td>2.930033e+13</td>\n",
       "    </tr>\n",
       "    <tr>\n",
       "      <th>Tamanrasset</th>\n",
       "      <td>4868.857546</td>\n",
       "      <td>76.228504</td>\n",
       "      <td>15656.343103</td>\n",
       "      <td>1.148100e+10</td>\n",
       "    </tr>\n",
       "    <tr>\n",
       "      <th>Tataouine</th>\n",
       "      <td>1833.775565</td>\n",
       "      <td>18.733180</td>\n",
       "      <td>10215.633880</td>\n",
       "      <td>2.121063e+05</td>\n",
       "    </tr>\n",
       "    <tr>\n",
       "      <th>Tebessa</th>\n",
       "      <td>4599.970966</td>\n",
       "      <td>50.265413</td>\n",
       "      <td>10927.332730</td>\n",
       "      <td>1.690261e+09</td>\n",
       "    </tr>\n",
       "    <tr>\n",
       "      <th>Tozeur</th>\n",
       "      <td>9617.446033</td>\n",
       "      <td>103.812085</td>\n",
       "      <td>10794.142744</td>\n",
       "      <td>1.179765e+10</td>\n",
       "    </tr>\n",
       "  </tbody>\n",
       "</table>\n",
       "</div>"
      ],
      "text/plain": [
       "             Irrigated area (ha)  Water demand (Mm3)  Water intensity (m3/ha)  \\\n",
       "province                                                                        \n",
       "Adrar               24101.816848          380.659062             15793.791148   \n",
       "Biskra               5749.995666           57.693849             10033.720376   \n",
       "Djelfa               3449.972096           35.546265             10303.348469   \n",
       "El Oued             68999.985344          791.446126             11470.236142   \n",
       "Gabes                2874.983928           28.963020             10074.150089   \n",
       "Ghadamis             5353.213079           56.291559             10515.471347   \n",
       "Ghardaia            34499.998422          440.742945             12775.158413   \n",
       "Gharyan              8557.616421           92.582518             10818.727280   \n",
       "Illizi               1770.396215           25.085808             14169.601170   \n",
       "Jufrah               7963.713904          120.357521             15113.240202   \n",
       "Kebili              27412.511949          307.219625             11207.277369   \n",
       "Khenchela            1149.970213           12.454845             10830.580811   \n",
       "Laghouat             5749.994721           57.985985             10084.528374   \n",
       "Musrata             21082.919486          187.440532              8890.634530   \n",
       "Ouargla             32699.346634          404.789172             12379.121096   \n",
       "Tamanrasset          4868.857546           76.228504             15656.343103   \n",
       "Tataouine            1833.775565           18.733180             10215.633880   \n",
       "Tebessa              4599.970966           50.265413             10927.332730   \n",
       "Tozeur               9617.446033          103.812085             10794.142744   \n",
       "\n",
       "             Energy demand (GWh)  \n",
       "province                          \n",
       "Adrar               5.613586e+10  \n",
       "Biskra              7.551154e+07  \n",
       "Djelfa              1.775465e+09  \n",
       "El Oued             8.511294e+09  \n",
       "Gabes               8.868132e+06  \n",
       "Ghadamis            1.036799e+07  \n",
       "Ghardaia            2.312140e+12  \n",
       "Gharyan             1.225502e+06  \n",
       "Illizi              1.625109e+07  \n",
       "Jufrah              4.737207e+09  \n",
       "Kebili              8.250173e+13  \n",
       "Khenchela           6.874997e+08  \n",
       "Laghouat            3.927188e+09  \n",
       "Musrata             5.946968e+07  \n",
       "Ouargla             2.930033e+13  \n",
       "Tamanrasset         1.148100e+10  \n",
       "Tataouine           2.121063e+05  \n",
       "Tebessa             1.690261e+09  \n",
       "Tozeur              1.179765e+10  "
      ]
     },
     "execution_count": 9,
     "metadata": {},
     "output_type": "execute_result"
    }
   ],
   "source": [
    "nwsas.print_summary(geo_boundary = 'province')"
   ]
  },
  {
   "cell_type": "code",
   "execution_count": 10,
   "metadata": {},
   "outputs": [
    {
     "data": {
      "text/plain": [
       "0           364.530088\n",
       "1           409.765334\n",
       "2           355.120540\n",
       "3           372.006414\n",
       "4           363.100846\n",
       "5           408.036006\n",
       "6           580.596433\n",
       "7           353.786929\n",
       "8           351.169580\n",
       "9           756.850602\n",
       "10          514.483022\n",
       "11          403.720574\n",
       "12          385.916261\n",
       "13          352.225038\n",
       "14          352.219055\n",
       "15          403.364278\n",
       "16          775.891011\n",
       "17          392.942549\n",
       "18          401.227786\n",
       "19         2689.090338\n",
       "20          373.910329\n",
       "21          389.581309\n",
       "22          352.055442\n",
       "23          352.787222\n",
       "24          400.250268\n",
       "25          400.276081\n",
       "26          391.476706\n",
       "27          377.611036\n",
       "28       129335.552554\n",
       "29          852.815634\n",
       "             ...      \n",
       "31378       307.119612\n",
       "31379       318.006810\n",
       "31380       330.140183\n",
       "31381       343.173535\n",
       "31382       343.002536\n",
       "31383       361.032420\n",
       "31384       367.293820\n",
       "31385       305.002589\n",
       "31386       311.859360\n",
       "31387       319.512546\n",
       "31388       323.021755\n",
       "31389       344.211327\n",
       "31390       342.112769\n",
       "31391       353.012664\n",
       "31392       312.013316\n",
       "31393       323.000554\n",
       "31394       326.952127\n",
       "31395       329.136239\n",
       "31396       301.091351\n",
       "31397       360.884030\n",
       "31398       313.379025\n",
       "31399       331.597070\n",
       "31400       303.021836\n",
       "31401       321.862221\n",
       "31402       331.365443\n",
       "31403       342.449162\n",
       "31404       326.346769\n",
       "31405       339.196250\n",
       "31406       357.256075\n",
       "31407       353.608925\n",
       "Name: tdh_sw, Length: 31408, dtype: float64"
      ]
     },
     "execution_count": 10,
     "metadata": {},
     "output_type": "execute_result"
    }
   ],
   "source": [
    "df['tdh_sw']"
   ]
  },
  {
   "cell_type": "markdown",
   "metadata": {},
   "source": [
    "Finally, save the results in .csv format, by specifing an output file name and location (`output_file`) and running the `nwsas.df.to_csv(output_file, index = False)` method."
   ]
  },
  {
   "cell_type": "code",
   "execution_count": 11,
   "metadata": {},
   "outputs": [],
   "source": [
    "output_file = r'nwsas_results/pumping_energy.csv'\n",
    "nwsas.df.to_csv(output_file, index = False)"
   ]
  },
  {
   "cell_type": "code",
   "execution_count": 1,
   "metadata": {},
   "outputs": [],
   "source": []
  },
  {
   "cell_type": "code",
   "execution_count": 10,
   "metadata": {},
   "outputs": [],
   "source": []
  },
  {
   "cell_type": "code",
   "execution_count": null,
   "metadata": {},
   "outputs": [],
   "source": []
  },
  {
   "cell_type": "code",
   "execution_count": null,
   "metadata": {},
   "outputs": [],
   "source": []
  },
  {
   "cell_type": "code",
   "execution_count": 6,
   "metadata": {},
   "outputs": [],
   "source": []
  },
  {
   "cell_type": "code",
   "execution_count": 13,
   "metadata": {},
   "outputs": [],
   "source": []
  },
  {
   "cell_type": "code",
   "execution_count": null,
   "metadata": {},
   "outputs": [],
   "source": []
  },
  {
   "cell_type": "code",
   "execution_count": null,
   "metadata": {},
   "outputs": [],
   "source": []
  }
 ],
 "metadata": {
  "kernelspec": {
   "display_name": "Python 3",
   "language": "python",
   "name": "python3"
  },
  "language_info": {
   "codemirror_mode": {
    "name": "ipython",
    "version": 3
   },
   "file_extension": ".py",
   "mimetype": "text/x-python",
   "name": "python",
   "nbconvert_exporter": "python",
   "pygments_lexer": "ipython3",
   "version": "3.7.3"
  }
 },
 "nbformat": 4,
 "nbformat_minor": 2
}
