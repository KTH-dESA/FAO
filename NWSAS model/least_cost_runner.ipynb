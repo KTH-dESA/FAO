{
 "cells": [
  {
   "cell_type": "markdown",
   "metadata": {},
   "source": [
    "# NEXUS tool: case study for the NWSAS basin - least-cost options calculations\n",
    "In this notebook a case study for the NWSAS basin is covered using the `nexus_tool` package. The energy requirements for agricultural irrigation were previously calculated (check the water demand and energy demand case studies). In this case study, the least-cost options to supply the energy needs for agricultural irrigation are identified.\n",
    "\n",
    "First import the package by running the following block:"
   ]
  },
  {
   "cell_type": "code",
   "execution_count": 14,
   "metadata": {},
   "outputs": [
    {
     "name": "stdout",
     "output_type": "stream",
     "text": [
      "The autoreload extension is already loaded. To reload it, use:\n",
      "  %reload_ext autoreload\n"
     ]
    }
   ],
   "source": [
    "%load_ext autoreload"
   ]
  },
  {
   "cell_type": "code",
   "execution_count": 15,
   "metadata": {},
   "outputs": [],
   "source": [
    "%autoreload\n",
    "import sys\n",
    "sys.path.append(\"..\") #this is to add the avobe folder to the package directory\n",
    "import nexus_tool"
   ]
  },
  {
   "cell_type": "markdown",
   "metadata": {},
   "source": [
    "After importing all required packages, the input GIS data is loaded into the variable `df`. Change the `file_path` variable to reflect the name and relative location of your data file. This dataset should already have the water demand for irrigation and energy demand data."
   ]
  },
  {
   "cell_type": "code",
   "execution_count": 16,
   "metadata": {},
   "outputs": [],
   "source": [
    "file_path = r'nwsas_results/pumping_energy.csv'\n",
    "df = nexus_tool.read_csv(file_path)"
   ]
  },
  {
   "cell_type": "markdown",
   "metadata": {},
   "source": [
    "An excel file containing the fuels and energy data is required. Such file should look something like this:\n",
    "\n",
    "|Country|Diesel_price_1|Diesel_price_2|El_price_1|El_price_2|\n",
    "|:---|---|---|---|---|\n",
    "|Country A|0.17|0.25|0.03|0.05|\n",
    "|Country B|0.3|0.4|0.1|0.15|\n",
    "|Country C|0.11|0.18|0.16|0.2|\n",
    "\n",
    "Change the `file_path` variable to reflect the name and relative location of your data file."
   ]
  },
  {
   "cell_type": "code",
   "execution_count": 17,
   "metadata": {},
   "outputs": [],
   "source": [
    "file_path = r'nwsas_data/Fuel_prices.xlsx'\n",
    "fuel_price = nexus_tool.read_excel(file_path)"
   ]
  },
  {
   "cell_type": "markdown",
   "metadata": {},
   "source": [
    "## 1. Choosing least-cost energy supply options\n",
    "### 1.1. Creating the model\n",
    "To create a model simply create an instance of the `nexus_tool.Model()` class and store it in a variable name. The `nexus_tool.Model()` class requires a dataframe as input data. Several other properties and parameter values can be defined by explicitly passing values to them. To see a full list of parameters and their explaination refer to the documentation of the package."
   ]
  },
  {
   "cell_type": "code",
   "execution_count": 18,
   "metadata": {},
   "outputs": [],
   "source": [
    "nwsas = nexus_tool.Model(df)\n",
    "nwsas.end_year = 2030\n",
    "nwsas.start_year = 2016\n",
    "nwsas.discount_rate = 0.05"
   ]
  },
  {
   "cell_type": "markdown",
   "metadata": {},
   "source": [
    "After creating the model and defining the start and end year, and the discount rate, proceed to merge the `fuel_price` dataframe with the main dataframe of the model. For that run the following block and pass the `on = ` argument with the relevant comon field in both dataframes."
   ]
  },
  {
   "cell_type": "code",
   "execution_count": 19,
   "metadata": {},
   "outputs": [],
   "source": [
    "nwsas.df = nwsas.df.merge(fuel_price, on='country')"
   ]
  },
  {
   "cell_type": "markdown",
   "metadata": {},
   "source": [
    "### 1.2. Creating technologies\n",
    "The `nexus_tool` model, currently provides three different power generation technology classes to choose from. These are `wind turbines`, `solar PV systems` and a `standard technology` which can be used to simulate technologies as `diesel generators` or `electricity from the grid`. Any amount of technologies can be created and compared in the model. In the following blocks we create a `wind turbine` technology, with a `life` span of 20 years, operation and mantainance costs (`om_cost`) of 1% the capital cost, a capital cost (`capital_cost`) of 1140 USD/kW and a system `efficiency` of 70%. \n",
    "\n",
    "The characteristics of the turbine can be specified by changing the power curve (`p_curve`), availability factor (`mu`), rated power (`p_rated`), hub height (`z`), velocity measurement height (`zr`), losses in wind electricity (`0.85`) and wind speed range (`u_arr`). If non of this parameters are passed, the turbine will be created with the default values. To see any of the default values you can call them as `model.technologies['name-of-technology'].p_rated`.\n",
    "\n",
    "In a similar way, the other technologies can be created calling the right method and passing the required values."
   ]
  },
  {
   "cell_type": "code",
   "execution_count": 20,
   "metadata": {},
   "outputs": [],
   "source": [
    "nwsas.create_wind_turbine('Wind power', life=20,\n",
    "                          om_cost=0.02, capital_cost=1300,\n",
    "                          efficiency=0.6)"
   ]
  },
  {
   "cell_type": "code",
   "execution_count": 21,
   "metadata": {},
   "outputs": [],
   "source": [
    "nwsas.create_pv_system('Solar PV', life=15,\n",
    "                       om_cost=0.01, capital_cost=1140,\n",
    "                       efficiency=0.7)"
   ]
  },
  {
   "cell_type": "code",
   "execution_count": 22,
   "metadata": {},
   "outputs": [],
   "source": [
    "nwsas.create_standard_tech('Diesel set', life=10, om_cost=0.1,\n",
    "                           capital_cost=938, fuel_cost=nwsas.df['Dprice1'],\n",
    "                           fuel_req=0.095, efficiency=0.27, cf = 0.5,\n",
    "                           emission_factor=2.7, env_cost=0)"
   ]
  },
  {
   "cell_type": "code",
   "execution_count": 23,
   "metadata": {},
   "outputs": [],
   "source": [
    "nwsas.create_standard_tech('Grid pump', life=10, om_cost=0.1,\n",
    "                           capital_cost=845, fuel_cost=nwsas.df['Epricelow'],\n",
    "                           fuel_req=1, efficiency=0.55, cf = 0.8,\n",
    "                           emission_factor=0.728, env_cost=0)"
   ]
  },
  {
   "cell_type": "markdown",
   "metadata": {},
   "source": [
    "### 1.3. Getting the LCOE values\n",
    "To calculate the LCOE values, first the capacity factors, required installed capacity per month and max capacity throughout the year need to be calculated for each technology. For that, run the `get_cf`, `get_installed_capacity` and `get_max_capacity` methods passing a list with the technology names you wish to compute. For example, note that for the `get_cf` method we only pass the wind power and solar PV technology names, as the capacity factors for the grid pumps and diesel sets where passed exogenously when creating the technologies and the `standar_tech` category does not have a defined `get_cf` method. Moreover, to select all technologies a keyword as `'all'`, `'a'` or `everything` can be passed.\n",
    "\n",
    "After running the aforementioned methods, run the `get_lcoe` method (no argument needs to be passed). This will compute the LCOE values for each technology in each location and store it on a dataframe inside each technology instance."
   ]
  },
  {
   "cell_type": "code",
   "execution_count": 24,
   "metadata": {},
   "outputs": [],
   "source": [
    "nwsas.get_cf(['Wind power', 'Solar PV'])\n",
    "nwsas.get_installed_capacity('all')\n",
    "nwsas.get_max_capacity('a')\n",
    "nwsas.get_lcoe()"
   ]
  },
  {
   "cell_type": "markdown",
   "metadata": {},
   "source": [
    "### 1.4. Getting the least cost option\n",
    "To get the least-cost option in each location between all technologies, run the `get_least_cost(technologies = 'all')` method with the `'all'` keyword for the technologies to compare. \n",
    "\n",
    "Alternatively, define a dictionary whose keys are the regions and the values a list of technologies to compare withing each region. Pass that dictionary to the `technologies` option of the `get_least_cost` method and specify the `geo_boundary` in which the algorithm should look for the dictionary regions (keys)."
   ]
  },
  {
   "cell_type": "code",
   "execution_count": 25,
   "metadata": {
    "scrolled": true
   },
   "outputs": [],
   "source": [
    "comp_vars = {'Algeria':['Diesel set','Solar PV','Wind power'],\n",
    "            'Tunisia':['Diesel set','Solar PV','Wind power'],\n",
    "            'Libya':['Grid pump','Solar PV','Wind power']}\n",
    "nwsas.get_least_cost(technologies = comp_vars, geo_boundary = 'country')"
   ]
  },
  {
   "cell_type": "markdown",
   "metadata": {},
   "source": [
    "### 1.5. Getting the pumping cost\n",
    "Once the least-cost options are identified in each location, then the total pumping cost and pumping cost per m3 of water can be calculated. For it just runb the `get_pumping_cost` and `get_unit_pumping_cost` methods with the `inplace = True` option."
   ]
  },
  {
   "cell_type": "code",
   "execution_count": 26,
   "metadata": {},
   "outputs": [],
   "source": [
    "nwsas.get_pumping_cost(inplace = True)\n",
    "nwsas.get_unit_pumping_cost(inplace=True)"
   ]
  },
  {
   "cell_type": "markdown",
   "metadata": {},
   "source": [
    "## 2. Displaying and saving the results\n",
    "After the calculations are completed, display a summary of results by running the `nwsas.print_summary()` method. If you run the method without any argument, then the summary values will be dispayed for the entire region, under the label of \"Glogal\". However, if you like to summarize by regions, then pass a list specifing the variables that you want the results to be grouped by, as:"
   ]
  },
  {
   "cell_type": "code",
   "execution_count": 28,
   "metadata": {},
   "outputs": [
    {
     "data": {
      "text/html": [
       "<div>\n",
       "<style scoped>\n",
       "    .dataframe tbody tr th:only-of-type {\n",
       "        vertical-align: middle;\n",
       "    }\n",
       "\n",
       "    .dataframe tbody tr th {\n",
       "        vertical-align: top;\n",
       "    }\n",
       "\n",
       "    .dataframe thead th {\n",
       "        text-align: right;\n",
       "    }\n",
       "</style>\n",
       "<table border=\"1\" class=\"dataframe\">\n",
       "  <thead>\n",
       "    <tr style=\"text-align: right;\">\n",
       "      <th></th>\n",
       "      <th></th>\n",
       "      <th>Irrigated area (ha)</th>\n",
       "      <th>Water demand (Mm3)</th>\n",
       "      <th>Water intensity (m3/ha)</th>\n",
       "      <th>Energy demand (GWh)</th>\n",
       "      <th>Average lcoe ($/kWh)</th>\n",
       "      <th>Pumping cost (M$)</th>\n",
       "      <th>Pumping cost ($/m3)</th>\n",
       "    </tr>\n",
       "    <tr>\n",
       "      <th>country</th>\n",
       "      <th>province</th>\n",
       "      <th></th>\n",
       "      <th></th>\n",
       "      <th></th>\n",
       "      <th></th>\n",
       "      <th></th>\n",
       "      <th></th>\n",
       "      <th></th>\n",
       "    </tr>\n",
       "  </thead>\n",
       "  <tbody>\n",
       "    <tr>\n",
       "      <th rowspan=\"11\" valign=\"top\">Algeria</th>\n",
       "      <th>Adrar</th>\n",
       "      <td>24101.816848</td>\n",
       "      <td>380.659062</td>\n",
       "      <td>15793.791148</td>\n",
       "      <td>649.340755</td>\n",
       "      <td>0.121589</td>\n",
       "      <td>89.773551</td>\n",
       "      <td>0.235837</td>\n",
       "    </tr>\n",
       "    <tr>\n",
       "      <th>Biskra</th>\n",
       "      <td>5749.995666</td>\n",
       "      <td>57.693849</td>\n",
       "      <td>10033.720376</td>\n",
       "      <td>54.541856</td>\n",
       "      <td>0.250540</td>\n",
       "      <td>13.566975</td>\n",
       "      <td>0.235155</td>\n",
       "    </tr>\n",
       "    <tr>\n",
       "      <th>Djelfa</th>\n",
       "      <td>3449.972096</td>\n",
       "      <td>35.546265</td>\n",
       "      <td>10303.348469</td>\n",
       "      <td>87.876094</td>\n",
       "      <td>0.063951</td>\n",
       "      <td>2.625885</td>\n",
       "      <td>0.073872</td>\n",
       "    </tr>\n",
       "    <tr>\n",
       "      <th>El Oued</th>\n",
       "      <td>68999.985344</td>\n",
       "      <td>791.446126</td>\n",
       "      <td>11470.236142</td>\n",
       "      <td>435.985168</td>\n",
       "      <td>0.284214</td>\n",
       "      <td>134.875955</td>\n",
       "      <td>0.170417</td>\n",
       "    </tr>\n",
       "    <tr>\n",
       "      <th>Ghardaia</th>\n",
       "      <td>34499.998422</td>\n",
       "      <td>440.742945</td>\n",
       "      <td>12775.158413</td>\n",
       "      <td>893.124973</td>\n",
       "      <td>0.098506</td>\n",
       "      <td>67.148698</td>\n",
       "      <td>0.152353</td>\n",
       "    </tr>\n",
       "    <tr>\n",
       "      <th>Illizi</th>\n",
       "      <td>1770.396215</td>\n",
       "      <td>25.085808</td>\n",
       "      <td>14169.601170</td>\n",
       "      <td>54.883742</td>\n",
       "      <td>0.123353</td>\n",
       "      <td>6.038370</td>\n",
       "      <td>0.240709</td>\n",
       "    </tr>\n",
       "    <tr>\n",
       "      <th>Khenchela</th>\n",
       "      <td>1149.970213</td>\n",
       "      <td>12.454845</td>\n",
       "      <td>10830.580811</td>\n",
       "      <td>11.228029</td>\n",
       "      <td>0.210472</td>\n",
       "      <td>3.294333</td>\n",
       "      <td>0.264502</td>\n",
       "    </tr>\n",
       "    <tr>\n",
       "      <th>Laghouat</th>\n",
       "      <td>5749.994721</td>\n",
       "      <td>57.985985</td>\n",
       "      <td>10084.528374</td>\n",
       "      <td>180.576835</td>\n",
       "      <td>0.021990</td>\n",
       "      <td>1.389450</td>\n",
       "      <td>0.023962</td>\n",
       "    </tr>\n",
       "    <tr>\n",
       "      <th>Ouargla</th>\n",
       "      <td>32699.346634</td>\n",
       "      <td>404.789172</td>\n",
       "      <td>12379.121096</td>\n",
       "      <td>246.859438</td>\n",
       "      <td>0.154253</td>\n",
       "      <td>35.989705</td>\n",
       "      <td>0.088910</td>\n",
       "    </tr>\n",
       "    <tr>\n",
       "      <th>Tamanrasset</th>\n",
       "      <td>4868.857546</td>\n",
       "      <td>76.228504</td>\n",
       "      <td>15656.343103</td>\n",
       "      <td>125.332787</td>\n",
       "      <td>0.122965</td>\n",
       "      <td>8.400368</td>\n",
       "      <td>0.110200</td>\n",
       "    </tr>\n",
       "    <tr>\n",
       "      <th>Tebessa</th>\n",
       "      <td>4599.970966</td>\n",
       "      <td>50.265413</td>\n",
       "      <td>10927.332730</td>\n",
       "      <td>26.614150</td>\n",
       "      <td>0.340703</td>\n",
       "      <td>8.929215</td>\n",
       "      <td>0.177641</td>\n",
       "    </tr>\n",
       "    <tr>\n",
       "      <th rowspan=\"4\" valign=\"top\">Libya</th>\n",
       "      <th>Ghadamis</th>\n",
       "      <td>5353.213079</td>\n",
       "      <td>56.291559</td>\n",
       "      <td>10515.471347</td>\n",
       "      <td>169.482599</td>\n",
       "      <td>0.186324</td>\n",
       "      <td>29.217052</td>\n",
       "      <td>0.519031</td>\n",
       "    </tr>\n",
       "    <tr>\n",
       "      <th>Gharyan</th>\n",
       "      <td>8557.616421</td>\n",
       "      <td>92.582518</td>\n",
       "      <td>10818.727280</td>\n",
       "      <td>233.882444</td>\n",
       "      <td>0.186770</td>\n",
       "      <td>42.068437</td>\n",
       "      <td>0.454389</td>\n",
       "    </tr>\n",
       "    <tr>\n",
       "      <th>Jufrah</th>\n",
       "      <td>7963.713904</td>\n",
       "      <td>120.357521</td>\n",
       "      <td>15113.240202</td>\n",
       "      <td>197.796049</td>\n",
       "      <td>0.089216</td>\n",
       "      <td>16.502241</td>\n",
       "      <td>0.137110</td>\n",
       "    </tr>\n",
       "    <tr>\n",
       "      <th>Musrata</th>\n",
       "      <td>21082.919486</td>\n",
       "      <td>187.440532</td>\n",
       "      <td>8890.634530</td>\n",
       "      <td>91.454461</td>\n",
       "      <td>0.035859</td>\n",
       "      <td>41.932490</td>\n",
       "      <td>0.223711</td>\n",
       "    </tr>\n",
       "    <tr>\n",
       "      <th rowspan=\"4\" valign=\"top\">Tunisia</th>\n",
       "      <th>Gabes</th>\n",
       "      <td>2874.983928</td>\n",
       "      <td>28.963020</td>\n",
       "      <td>10074.150089</td>\n",
       "      <td>24.976582</td>\n",
       "      <td>0.430325</td>\n",
       "      <td>10.208565</td>\n",
       "      <td>0.352469</td>\n",
       "    </tr>\n",
       "    <tr>\n",
       "      <th>Kebili</th>\n",
       "      <td>27412.511949</td>\n",
       "      <td>307.219625</td>\n",
       "      <td>11207.277369</td>\n",
       "      <td>85.394184</td>\n",
       "      <td>0.228944</td>\n",
       "      <td>18.593596</td>\n",
       "      <td>0.060522</td>\n",
       "    </tr>\n",
       "    <tr>\n",
       "      <th>Tataouine</th>\n",
       "      <td>1833.775565</td>\n",
       "      <td>18.733180</td>\n",
       "      <td>10215.633880</td>\n",
       "      <td>45.333200</td>\n",
       "      <td>0.204843</td>\n",
       "      <td>9.032260</td>\n",
       "      <td>0.482153</td>\n",
       "    </tr>\n",
       "    <tr>\n",
       "      <th>Tozeur</th>\n",
       "      <td>9617.446033</td>\n",
       "      <td>103.812085</td>\n",
       "      <td>10794.142744</td>\n",
       "      <td>47.604692</td>\n",
       "      <td>0.417571</td>\n",
       "      <td>23.114353</td>\n",
       "      <td>0.222656</td>\n",
       "    </tr>\n",
       "  </tbody>\n",
       "</table>\n",
       "</div>"
      ],
      "text/plain": [
       "                     Irrigated area (ha)  Water demand (Mm3)  \\\n",
       "country province                                               \n",
       "Algeria Adrar               24101.816848          380.659062   \n",
       "        Biskra               5749.995666           57.693849   \n",
       "        Djelfa               3449.972096           35.546265   \n",
       "        El Oued             68999.985344          791.446126   \n",
       "        Ghardaia            34499.998422          440.742945   \n",
       "        Illizi               1770.396215           25.085808   \n",
       "        Khenchela            1149.970213           12.454845   \n",
       "        Laghouat             5749.994721           57.985985   \n",
       "        Ouargla             32699.346634          404.789172   \n",
       "        Tamanrasset          4868.857546           76.228504   \n",
       "        Tebessa              4599.970966           50.265413   \n",
       "Libya   Ghadamis             5353.213079           56.291559   \n",
       "        Gharyan              8557.616421           92.582518   \n",
       "        Jufrah               7963.713904          120.357521   \n",
       "        Musrata             21082.919486          187.440532   \n",
       "Tunisia Gabes                2874.983928           28.963020   \n",
       "        Kebili              27412.511949          307.219625   \n",
       "        Tataouine            1833.775565           18.733180   \n",
       "        Tozeur               9617.446033          103.812085   \n",
       "\n",
       "                     Water intensity (m3/ha)  Energy demand (GWh)  \\\n",
       "country province                                                    \n",
       "Algeria Adrar                   15793.791148           649.340755   \n",
       "        Biskra                  10033.720376            54.541856   \n",
       "        Djelfa                  10303.348469            87.876094   \n",
       "        El Oued                 11470.236142           435.985168   \n",
       "        Ghardaia                12775.158413           893.124973   \n",
       "        Illizi                  14169.601170            54.883742   \n",
       "        Khenchela               10830.580811            11.228029   \n",
       "        Laghouat                10084.528374           180.576835   \n",
       "        Ouargla                 12379.121096           246.859438   \n",
       "        Tamanrasset             15656.343103           125.332787   \n",
       "        Tebessa                 10927.332730            26.614150   \n",
       "Libya   Ghadamis                10515.471347           169.482599   \n",
       "        Gharyan                 10818.727280           233.882444   \n",
       "        Jufrah                  15113.240202           197.796049   \n",
       "        Musrata                  8890.634530            91.454461   \n",
       "Tunisia Gabes                   10074.150089            24.976582   \n",
       "        Kebili                  11207.277369            85.394184   \n",
       "        Tataouine               10215.633880            45.333200   \n",
       "        Tozeur                  10794.142744            47.604692   \n",
       "\n",
       "                     Average lcoe ($/kWh)  Pumping cost (M$)  \\\n",
       "country province                                               \n",
       "Algeria Adrar                    0.121589          89.773551   \n",
       "        Biskra                   0.250540          13.566975   \n",
       "        Djelfa                   0.063951           2.625885   \n",
       "        El Oued                  0.284214         134.875955   \n",
       "        Ghardaia                 0.098506          67.148698   \n",
       "        Illizi                   0.123353           6.038370   \n",
       "        Khenchela                0.210472           3.294333   \n",
       "        Laghouat                 0.021990           1.389450   \n",
       "        Ouargla                  0.154253          35.989705   \n",
       "        Tamanrasset              0.122965           8.400368   \n",
       "        Tebessa                  0.340703           8.929215   \n",
       "Libya   Ghadamis                 0.186324          29.217052   \n",
       "        Gharyan                  0.186770          42.068437   \n",
       "        Jufrah                   0.089216          16.502241   \n",
       "        Musrata                  0.035859          41.932490   \n",
       "Tunisia Gabes                    0.430325          10.208565   \n",
       "        Kebili                   0.228944          18.593596   \n",
       "        Tataouine                0.204843           9.032260   \n",
       "        Tozeur                   0.417571          23.114353   \n",
       "\n",
       "                     Pumping cost ($/m3)  \n",
       "country province                          \n",
       "Algeria Adrar                   0.235837  \n",
       "        Biskra                  0.235155  \n",
       "        Djelfa                  0.073872  \n",
       "        El Oued                 0.170417  \n",
       "        Ghardaia                0.152353  \n",
       "        Illizi                  0.240709  \n",
       "        Khenchela               0.264502  \n",
       "        Laghouat                0.023962  \n",
       "        Ouargla                 0.088910  \n",
       "        Tamanrasset             0.110200  \n",
       "        Tebessa                 0.177641  \n",
       "Libya   Ghadamis                0.519031  \n",
       "        Gharyan                 0.454389  \n",
       "        Jufrah                  0.137110  \n",
       "        Musrata                 0.223711  \n",
       "Tunisia Gabes                   0.352469  \n",
       "        Kebili                  0.060522  \n",
       "        Tataouine               0.482153  \n",
       "        Tozeur                  0.222656  "
      ]
     },
     "execution_count": 28,
     "metadata": {},
     "output_type": "execute_result"
    }
   ],
   "source": [
    "nwsas.print_summary(['country','province'])"
   ]
  },
  {
   "cell_type": "markdown",
   "metadata": {},
   "source": [
    "Finally, save the results in .csv format, by specifing an output file name and location (`output_file`) and running the `nwsas.df.to_csv(output_file, index = False)` method."
   ]
  },
  {
   "cell_type": "code",
   "execution_count": 29,
   "metadata": {},
   "outputs": [],
   "source": [
    "output_file = r'nwsas_results/least_cost.csv'\n",
    "nwsas.df.to_csv(output_file, index = False)"
   ]
  }
 ],
 "metadata": {
  "kernelspec": {
   "display_name": "Python 3",
   "language": "python",
   "name": "python3"
  },
  "language_info": {
   "codemirror_mode": {
    "name": "ipython",
    "version": 3
   },
   "file_extension": ".py",
   "mimetype": "text/x-python",
   "name": "python",
   "nbconvert_exporter": "python",
   "pygments_lexer": "ipython3",
   "version": "3.8.2"
  }
 },
 "nbformat": 4,
 "nbformat_minor": 2
}
