{
 "cells": [
  {
   "cell_type": "code",
   "execution_count": 37,
   "metadata": {},
   "outputs": [],
   "source": [
    "#import the required Python packages\n",
    "import pandas as pd\n",
    "import numpy as np"
   ]
  },
  {
   "cell_type": "code",
   "execution_count": 38,
   "metadata": {},
   "outputs": [],
   "source": [
    "#Note: You might need to add a column for tds level:\n",
    "\n",
    "scenario = 'drip85_TDS3k'\n",
    "df=pd.read_csv('drip85_waterdemand.csv') "
   ]
  },
  {
   "cell_type": "code",
   "execution_count": 39,
   "metadata": {},
   "outputs": [],
   "source": [
    "tds=pd.read_excel('phase2_tds.xlsx')\n",
    "tds.set_index('ref',inplace=True)"
   ]
  },
  {
   "cell_type": "code",
   "execution_count": 40,
   "metadata": {},
   "outputs": [],
   "source": [
    "#Set the default values\n",
    "for i in range (1,13):\n",
    "    df['osmotic_pressure'.format(i)] = 0\n",
    "    df['Edesal_GWh_{}'.format(i)] = 0\n",
    "df['TDS'] = df['Province'].map(tds['TDS'])"
   ]
  },
  {
   "cell_type": "code",
   "execution_count": 41,
   "metadata": {},
   "outputs": [],
   "source": [
    "#Define inputs:\n",
    "\n",
    "osm_coeff = 0.95 #osmotic coefficient =1 \n",
    "molar_mass = 58440 # molar mass of NaCl = 58.44 mg/mol\n",
    "dissociation = 2 #NaCL dissociation is to 2 ions Na and Cl\n",
    "concentration = df['TDS'] \n",
    "gas_const = 0.083145  #universal gas constant (R) = 0.083145\n",
    "wtemp = 25 + 273 #water temperature in Kalven (Tc+273): 25 degree is an assumption\n",
    "threshold = 3000 #Min TDS content for desalination\n",
    "#solute_concentration = dissociation * concentration / molar_mass\n",
    "\n",
    "#osmotic_pressure = osm_coeff * solute_concentration * gas_const * temp\n",
    "\n",
    "#if (df['tds'] > 2000):\n",
    "#    return df['osmotic_pressure'] = osm_coeff * (dissociation *df['tds']/molar_mass) *  gas_const * wtemp\n",
    "#else:\n",
    "#    return df['osmotic_pressure'] = 0\n",
    "\n",
    "delta = df.TDS[df['TDS']>threshold] - threshold #the difference between the inlet water quality and the final quality level.\n",
    "\n",
    "df['osmotic_pressure'] = osm_coeff * (dissociation *delta/molar_mass) *  gas_const * wtemp\n",
    "\n",
    "df['osmotic_pressure'] = df['osmotic_pressure'].fillna(0)\n",
    "\n",
    "#df.tds[df['tds']>2000]: This set the criteria that for tds>2000 desalination required"
   ]
  },
  {
   "cell_type": "code",
   "execution_count": 42,
   "metadata": {},
   "outputs": [],
   "source": [
    "efficiency = 0.85 #overall efficiency\n",
    "Pf = 55 #feed pressure in bar\n",
    "Pp = 10 #permeate pressure in bar\n",
    "Rm = 0.9*(10**14) #mebrane resistance\n",
    "A = 37 #area m2\n",
    "N = 15 #number of envelopes\n",
    "Q = 1\n",
    "u = 0.00096 #viscosity of water (Ns/m2)\n",
    "\n",
    "SEC_f = 0.194 #membrane filtration resistance\n",
    "SEC_R = 0.036 #friction losses, retentate\n",
    "SEC_p = 0.0016 #friction losses, permeate\n",
    "SEC_cp = 0.005 #concentration polarization\n",
    "SEC_inef = 0.068 #pump & ERD inefficiency"
   ]
  },
  {
   "cell_type": "code",
   "execution_count": 43,
   "metadata": {},
   "outputs": [],
   "source": [
    "#Energy intensity in Kwh/m3\n",
    "\n",
    "df['Einten_KWh/m3'] = df.loc[df['osmotic_pressure']!=0,'osmotic_pressure']/36 + SEC_f + SEC_R + SEC_p + SEC_cp + SEC_inef\n",
    "df['Einten_KWh/m3'].fillna(0,inplace=True) "
   ]
  },
  {
   "cell_type": "code",
   "execution_count": 44,
   "metadata": {},
   "outputs": [],
   "source": [
    "for i in range(1,13):\n",
    "    Edesal_GWh = 'Edesal_GWh_{}'.format(i)\n",
    "    SSWD = 'SSWD_{}'.format(i)\n",
    "    \n",
    "    df[Edesal_GWh] = (df['Einten_KWh/m3'] * df[SSWD]) /1000000"
   ]
  },
  {
   "cell_type": "code",
   "execution_count": 45,
   "metadata": {},
   "outputs": [
    {
     "data": {
      "text/plain": [
       "NAME_1\n",
       "Adrar            0.000000\n",
       "Biskra           9.418350\n",
       "Djelfa           0.000000\n",
       "El Oued        130.430245\n",
       "Gabes            0.000000\n",
       "Ghadamis         9.744364\n",
       "Ghardaia         0.000000\n",
       "Gharyan          0.000000\n",
       "Illizi           0.000000\n",
       "Jufrah           0.000000\n",
       "Kebili          50.713999\n",
       "Khenchela        0.000000\n",
       "Laghouat         0.000000\n",
       "Musrata         31.336689\n",
       "Ouargla         69.327688\n",
       "Tamanrasset      0.000000\n",
       "Tataouine        3.044172\n",
       "Tebessa          0.000000\n",
       "Tozeur           0.000000\n",
       "dtype: float64"
      ]
     },
     "execution_count": 45,
     "metadata": {},
     "output_type": "execute_result"
    }
   ],
   "source": [
    "#Filter data by provenence: \n",
    "df2=df.groupby('NAME_1', as_index=True).sum()\n",
    "sswd = df2.filter(like='sswd_').sum(axis=1)\n",
    "Edesal = df2.filter(like='Edesal_GWh_').sum(axis=1)\n",
    "\n",
    "#final = df2.filter(['area_m2','sswd_','TDS','osmotic_pressure','Edesal_GWh_','country'])\n",
    "#df2.filter(like='Edesal_GWh_').sum(axis=1)\n",
    "Edesal"
   ]
  },
  {
   "cell_type": "code",
   "execution_count": 46,
   "metadata": {},
   "outputs": [
    {
     "data": {
      "text/html": [
       "<div>\n",
       "<style scoped>\n",
       "    .dataframe tbody tr th:only-of-type {\n",
       "        vertical-align: middle;\n",
       "    }\n",
       "\n",
       "    .dataframe tbody tr th {\n",
       "        vertical-align: top;\n",
       "    }\n",
       "\n",
       "    .dataframe thead th {\n",
       "        text-align: right;\n",
       "    }\n",
       "</style>\n",
       "<table border=\"1\" class=\"dataframe\">\n",
       "  <thead>\n",
       "    <tr style=\"text-align: right;\">\n",
       "      <th></th>\n",
       "      <th>Irrigated area (ha)</th>\n",
       "      <th>Water demand (m3/ha)</th>\n",
       "      <th>Edesal (GWh)</th>\n",
       "    </tr>\n",
       "    <tr>\n",
       "      <th>NAME_1</th>\n",
       "      <th></th>\n",
       "      <th></th>\n",
       "      <th></th>\n",
       "    </tr>\n",
       "  </thead>\n",
       "  <tbody>\n",
       "    <tr>\n",
       "      <th>Adrar</th>\n",
       "      <td>24101.816848</td>\n",
       "      <td>8361.418843</td>\n",
       "      <td>0.000000</td>\n",
       "    </tr>\n",
       "    <tr>\n",
       "      <th>Biskra</th>\n",
       "      <td>5749.995666</td>\n",
       "      <td>5311.969611</td>\n",
       "      <td>9.418350</td>\n",
       "    </tr>\n",
       "    <tr>\n",
       "      <th>Djelfa</th>\n",
       "      <td>3449.972096</td>\n",
       "      <td>5454.713895</td>\n",
       "      <td>0.000000</td>\n",
       "    </tr>\n",
       "    <tr>\n",
       "      <th>El Oued</th>\n",
       "      <td>68999.985344</td>\n",
       "      <td>6072.477958</td>\n",
       "      <td>130.430245</td>\n",
       "    </tr>\n",
       "    <tr>\n",
       "      <th>Gabes</th>\n",
       "      <td>2874.983928</td>\n",
       "      <td>5333.373577</td>\n",
       "      <td>0.000000</td>\n",
       "    </tr>\n",
       "    <tr>\n",
       "      <th>Ghadamis</th>\n",
       "      <td>5353.213079</td>\n",
       "      <td>5567.014243</td>\n",
       "      <td>9.744364</td>\n",
       "    </tr>\n",
       "    <tr>\n",
       "      <th>Ghardaia</th>\n",
       "      <td>34499.998422</td>\n",
       "      <td>6763.319160</td>\n",
       "      <td>0.000000</td>\n",
       "    </tr>\n",
       "    <tr>\n",
       "      <th>Gharyan</th>\n",
       "      <td>8557.616421</td>\n",
       "      <td>5727.561501</td>\n",
       "      <td>0.000000</td>\n",
       "    </tr>\n",
       "    <tr>\n",
       "      <th>Illizi</th>\n",
       "      <td>1770.396215</td>\n",
       "      <td>7501.553561</td>\n",
       "      <td>0.000000</td>\n",
       "    </tr>\n",
       "    <tr>\n",
       "      <th>Jufrah</th>\n",
       "      <td>7963.713904</td>\n",
       "      <td>8001.127166</td>\n",
       "      <td>0.000000</td>\n",
       "    </tr>\n",
       "    <tr>\n",
       "      <th>Kebili</th>\n",
       "      <td>27412.511949</td>\n",
       "      <td>5933.264489</td>\n",
       "      <td>50.713999</td>\n",
       "    </tr>\n",
       "    <tr>\n",
       "      <th>Khenchela</th>\n",
       "      <td>1149.970213</td>\n",
       "      <td>5733.836900</td>\n",
       "      <td>0.000000</td>\n",
       "    </tr>\n",
       "    <tr>\n",
       "      <th>Laghouat</th>\n",
       "      <td>5749.994721</td>\n",
       "      <td>5338.867963</td>\n",
       "      <td>0.000000</td>\n",
       "    </tr>\n",
       "    <tr>\n",
       "      <th>Musrata</th>\n",
       "      <td>21082.919486</td>\n",
       "      <td>4706.806516</td>\n",
       "      <td>31.336689</td>\n",
       "    </tr>\n",
       "    <tr>\n",
       "      <th>Ouargla</th>\n",
       "      <td>32699.346634</td>\n",
       "      <td>6553.652345</td>\n",
       "      <td>69.327688</td>\n",
       "    </tr>\n",
       "    <tr>\n",
       "      <th>Tamanrasset</th>\n",
       "      <td>4868.857546</td>\n",
       "      <td>8288.652231</td>\n",
       "      <td>0.000000</td>\n",
       "    </tr>\n",
       "    <tr>\n",
       "      <th>Tataouine</th>\n",
       "      <td>1833.775565</td>\n",
       "      <td>5408.276760</td>\n",
       "      <td>3.044172</td>\n",
       "    </tr>\n",
       "    <tr>\n",
       "      <th>Tebessa</th>\n",
       "      <td>4599.970966</td>\n",
       "      <td>5785.058504</td>\n",
       "      <td>0.000000</td>\n",
       "    </tr>\n",
       "    <tr>\n",
       "      <th>Tozeur</th>\n",
       "      <td>9617.446033</td>\n",
       "      <td>5714.546158</td>\n",
       "      <td>0.000000</td>\n",
       "    </tr>\n",
       "  </tbody>\n",
       "</table>\n",
       "</div>"
      ],
      "text/plain": [
       "             Irrigated area (ha)  Water demand (m3/ha)  Edesal (GWh)\n",
       "NAME_1                                                              \n",
       "Adrar               24101.816848           8361.418843      0.000000\n",
       "Biskra               5749.995666           5311.969611      9.418350\n",
       "Djelfa               3449.972096           5454.713895      0.000000\n",
       "El Oued             68999.985344           6072.477958    130.430245\n",
       "Gabes                2874.983928           5333.373577      0.000000\n",
       "Ghadamis             5353.213079           5567.014243      9.744364\n",
       "Ghardaia            34499.998422           6763.319160      0.000000\n",
       "Gharyan              8557.616421           5727.561501      0.000000\n",
       "Illizi               1770.396215           7501.553561      0.000000\n",
       "Jufrah               7963.713904           8001.127166      0.000000\n",
       "Kebili              27412.511949           5933.264489     50.713999\n",
       "Khenchela            1149.970213           5733.836900      0.000000\n",
       "Laghouat             5749.994721           5338.867963      0.000000\n",
       "Musrata             21082.919486           4706.806516     31.336689\n",
       "Ouargla             32699.346634           6553.652345     69.327688\n",
       "Tamanrasset          4868.857546           8288.652231      0.000000\n",
       "Tataouine            1833.775565           5408.276760      3.044172\n",
       "Tebessa              4599.970966           5785.058504      0.000000\n",
       "Tozeur               9617.446033           5714.546158      0.000000"
      ]
     },
     "execution_count": 46,
     "metadata": {},
     "output_type": "execute_result"
    }
   ],
   "source": [
    "final=df.groupby('NAME_1').sum()\n",
    "summary = pd.DataFrame({'Irrigated area (ha)':final['area_ha'],\n",
    "                        'Water demand (m3/ha)':final.filter(like='SSWD_').sum(axis=1)/final['area_ha'],\n",
    "                        'Edesal (GWh)':final.filter(like='Edesal_GWh_').sum(axis=1)})\n",
    "summary"
   ]
  },
  {
   "cell_type": "code",
   "execution_count": null,
   "metadata": {},
   "outputs": [],
   "source": []
  },
  {
   "cell_type": "code",
   "execution_count": 47,
   "metadata": {},
   "outputs": [
    {
     "data": {
      "text/plain": [
       "0.14130494065900223"
      ]
     },
     "execution_count": 47,
     "metadata": {},
     "output_type": "execute_result"
    }
   ],
   "source": [
    "df['Einten_KWh/m3'].mean()"
   ]
  },
  {
   "cell_type": "code",
   "execution_count": 48,
   "metadata": {},
   "outputs": [],
   "source": [
    "df.to_csv(scenario + '.csv', index=False)"
   ]
  },
  {
   "cell_type": "code",
   "execution_count": 39,
   "metadata": {},
   "outputs": [],
   "source": [
    "##Create a Pandas Excel writer using XlsxWriter as the engine.\n",
    "writer = pd.ExcelWriter(scenario + '.xlsx', engine='xlsxwriter')\n",
    "writer.book.use_zip64()\n",
    "\n",
    "## Convert the dataframe to an XlsxWriter Excel object.\n",
    "df.to_excel(writer, sheet_name='All')\n",
    "#df2.to_excel(writer, sheet_name='Prov')\n",
    "##sswd.to_excel(writer, sheet_name='SSWD in m3')\n",
    "summary.to_excel(writer, sheet_name='summary')\n",
    "\n",
    "## Close the Pandas Excel writer and output the Excel file.\n",
    "writer.save()"
   ]
  },
  {
   "cell_type": "code",
   "execution_count": null,
   "metadata": {},
   "outputs": [],
   "source": []
  }
 ],
 "metadata": {
  "anaconda-cloud": {},
  "kernelspec": {
   "display_name": "Python 3",
   "language": "python",
   "name": "python3"
  },
  "language_info": {
   "codemirror_mode": {
    "name": "ipython",
    "version": 3
   },
   "file_extension": ".py",
   "mimetype": "text/x-python",
   "name": "python",
   "nbconvert_exporter": "python",
   "pygments_lexer": "ipython3",
   "version": "3.7.3"
  }
 },
 "nbformat": 4,
 "nbformat_minor": 2
}
