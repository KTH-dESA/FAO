{
 "cells": [
  {
   "cell_type": "code",
   "execution_count": 1,
   "metadata": {},
   "outputs": [],
   "source": [
    "#import the required Python packages\n",
    "\n",
    "import pandas as pd\n",
    "#import datetime   #check this\n",
    "import numpy as np\n",
    "import math\n",
    "from pandas import DataFrame\n",
    "\n",
    "math.exp = np.exp\n",
    "math.pow = np.power\n",
    "math.sqrt = np.sqrt"
   ]
  },
  {
   "cell_type": "code",
   "execution_count": 2,
   "metadata": {},
   "outputs": [],
   "source": [
    "#df=pd.read_excel(r'Data/NWSAS_input_data.xlsx')\n"
   ]
  },
  {
   "cell_type": "code",
   "execution_count": 35,
   "metadata": {},
   "outputs": [
    {
     "ename": "ModuleNotFoundError",
     "evalue": "No module named 'nexus_tool'",
     "output_type": "error",
     "traceback": [
      "\u001b[1;31m---------------------------------------------------------------------------\u001b[0m",
      "\u001b[1;31mModuleNotFoundError\u001b[0m                       Traceback (most recent call last)",
      "\u001b[1;32m<ipython-input-35-e56aa15a20d6>\u001b[0m in \u001b[0;36m<module>\u001b[1;34m\u001b[0m\n\u001b[1;32m----> 1\u001b[1;33m \u001b[1;32mimport\u001b[0m \u001b[0mnexus_tool\u001b[0m\u001b[1;33m\u001b[0m\u001b[1;33m\u001b[0m\u001b[0m\n\u001b[0m",
      "\u001b[1;31mModuleNotFoundError\u001b[0m: No module named 'nexus_tool'"
     ]
    }
   ],
   "source": [
    "import nexus_tool"
   ]
  },
  {
   "cell_type": "markdown",
   "metadata": {},
   "source": [
    "# This notebook illustrates the main equations used for surface water pumping\n",
    "\n",
    "**Source**: *The mathematics of pumping water*\n",
    "\n",
    "This source is a manual for certain calculations which should be backed up with academic literature\n",
    "\n",
    "# Step1: Calculate the head\n",
    "\n",
    "Htot = Hstat + Hd + (Prt - Pres)\n",
    "\n",
    "where: \n",
    "\n",
    "Htot: Total head\n",
    "\n",
    "Hstat: Static head (It can be assumed in this case as the elevation difference)\n",
    "\n",
    "Hd: Dynamic Head\n",
    "\n",
    "Prt: Pressure on the surface of water in the receiving  tank.\n",
    "\n",
    "Pres: Pressure on the surface of water in the reservoir.\n"
   ]
  },
  {
   "cell_type": "markdown",
   "metadata": {},
   "source": [
    "## How to calculate the hydraulic head\n",
    "\n",
    "Darct Weisbach Equation is used to calculate the hydraulic head\n",
    "\n",
    "Hd = (K*V2)/(2*g)\n",
    "\n",
    "Where: \n",
    "\n",
    "K: loss coefficient\n",
    "V: velocity in the pipe in (m/sec)\n",
    "g: Acceleration due to gravity=9.81 (m/sec2)\n",
    "\n",
    "K = K_fitting + K_pipe\n",
    "\n",
    "K_fitting: Depends on fitting items * number of items used. (see table in the source)\n",
    "\n",
    "In long pipelines these local head losses (K_fitting) are often minor in comparison with energy losses due to friction and may be neglected.\n",
    "\n",
    "so the main losses are due to friction\n",
    "\n",
    "K_pipe = (f*l)/D \n",
    "\n",
    "f: friction coofcient \n",
    "L: lenght of the pipe in m\n",
    "D: Diameter in m. \n",
    "\n",
    "f = 0.25/[log{(K/3.7*D)+(5.74/Re**0.9)}]**2\n",
    "\n",
    "Where: \n",
    "K: Roughness factor (m): is a standard value obtained from standard tables and based upon the material of the pipe. \n",
    "Re: Reynolds number Re=(V*D)/v  \n",
    "v: is the kinematic viscosity (m2/sec)\n",
    "\n",
    "This equation can be simplified for laminar flow as follows: \n",
    "f = 64/Re\n",
    "\n"
   ]
  },
  {
   "cell_type": "markdown",
   "metadata": {},
   "source": [
    "# Step2: Calculate the water flow\n",
    "\n",
    "In this case the water flow will be calculated using WEAP. It will represent the flow in (m3/sec) and will be calculated for every pipeline.  \n",
    "\n"
   ]
  },
  {
   "cell_type": "code",
   "execution_count": 31,
   "metadata": {},
   "outputs": [],
   "source": [
    "## INPUTS\n",
    "\n",
    "#H_static = df['elevation']  #this is a gis layer\n",
    "H_static =10\n",
    "\n",
    "#L = df['pipe_lenght']      #Lenght of the pipeline segment in m\n",
    "L=5\n",
    "\n",
    "#D = df['diameter']        #this will be assumed for each pipeline segment\n",
    "D=4\n",
    "\n",
    "\n",
    "g = 9.81               #gravitational acceleration in m/sec2\n",
    "\n",
    "Ken_visc=1.004**-6          #Kinematic Viscosity in (m2/s) value taken from https://www.engineersedge.com/physics/water__density_viscosity_specific_weight_13146.htm\n",
    "\n",
    "\n",
    "\n",
    "Q=30                #assumption for testing"
   ]
  },
  {
   "cell_type": "code",
   "execution_count": 32,
   "metadata": {},
   "outputs": [],
   "source": [
    "pi=3.14\n",
    "A = (pi*D**2)/4\n",
    "V = Q/A\n",
    "\n",
    "dens = 1000 #density of water = 1000 kg/m3\n",
    "Re = (V*D)/Ken_visc\n",
    "pump_eff = 0.6\n",
    "\n",
    "#f =0.25/[log{(k/(3.7*D))+(5.74/(Re*0.9))}]**2\n",
    "#k = roughness factor k is a standard value obtained from standard tables and is based opon the material of the pipe, including any internal coatings and the internal condition of the pipeline i.e. good, normal or poor. \n",
    "f=64/Re\n",
    "\n",
    "#K_pipe = (f*L)/D\n",
    "\n",
    "\n",
    "\n",
    "#K_loss = Kfit_tot + K_pipe  #Loss coefficient \n",
    "\n",
    "#H_dynamic = (K_loss*V**2)/(2*g)\n",
    "\n",
    "#OR\n",
    "\n",
    "H_dynamic = ((f*L*16*Q**2)/((D**5)*2*g*(pi**2)))\n",
    "\n",
    "\n",
    "H_total = H_static + H_dynamic"
   ]
  },
  {
   "cell_type": "code",
   "execution_count": 33,
   "metadata": {},
   "outputs": [
    {
     "data": {
      "text/plain": [
       "12.377170494165817"
      ]
     },
     "execution_count": 33,
     "metadata": {},
     "output_type": "execute_result"
    }
   ],
   "source": [
    "H_total"
   ]
  },
  {
   "cell_type": "markdown",
   "metadata": {},
   "source": [
    "# Step3: Calculate energy demand for surface water pumping\n",
    "\n",
    "P = (Q * H * g * dens)/(pump_eff)\n",
    "\n",
    "Where: \n",
    "P: is the energy requirement in (watts)\n",
    "Q: water flow rate in (m3/sec)\n",
    "H: total head in (m)\n",
    "dens: is the density of water = 1000 kg/m3\n",
    "\n"
   ]
  },
  {
   "cell_type": "code",
   "execution_count": 34,
   "metadata": {},
   "outputs": [
    {
     "data": {
      "text/plain": [
       "6071.002127388333"
      ]
     },
     "execution_count": 34,
     "metadata": {},
     "output_type": "execute_result"
    }
   ],
   "source": [
    "P = (Q * H_total * g * dens)/(pump_eff)\n",
    "\n",
    "P/1000"
   ]
  },
  {
   "cell_type": "code",
   "execution_count": null,
   "metadata": {},
   "outputs": [],
   "source": []
  },
  {
   "cell_type": "code",
   "execution_count": 27,
   "metadata": {},
   "outputs": [],
   "source": [
    "######### input variables ##############3\n",
    "pumping_hours_per_day=10 #is this an assumption?? \n",
    "deff= 1\n",
    "aeff= 0.45  #Surface irrigation, low efficiency:0.45 , high: 0.65  // Drip irrigation: 0.9\n",
    "ky_dict = {'dates':0.5,'vegetable':1.1,'olives':0.8} #ky values for each crop\n",
    "kc_dict = {'dates': [0.8,0.9,1,0.8], 'vegetable':[0.5,1,1,0.8], 'olives':[0.45,0.55,0.55,0.6]} #kc values for each crop in each growing season\n",
    "\n",
    "#defines the agricultural mode for each region, i.e. specifying the percentage of land cultivated per crop type \n",
    "df['Mode']=[{'dates':0.5,'vegetable':0.5,'olives':0}]*df.shape[0]\n",
    "df.loc[df['NAME_1']=='Jufrah','Mode'] = [{'dates':0.7,'vegetable':0.3,'olives':0}]\n",
    "df.loc[df['NAME_1']=='Gharyan','Mode'] = [{'dates':0,'vegetable':0.3,'olives':0.7}]\n",
    "\n",
    "output_file = 'surf45_waterdemand' #output file name"
   ]
  },
  {
   "cell_type": "code",
   "execution_count": 31,
   "metadata": {},
   "outputs": [],
   "source": [
    "#Effective rainfall function \n",
    "\n",
    "def eff_rainfall(prec,eto):\n",
    "    return (1.253*((prec**0.824)-2.935))*10**(0.001*eto)  #Find the source"
   ]
  },
  {
   "cell_type": "code",
   "execution_count": 32,
   "metadata": {},
   "outputs": [],
   "source": [
    "#calculate eff rainfall for each row for each month\n",
    "#This source: http://www.fao.org/docrep/S2022E/s2022e08.htm was initially used but the updated equaiton of the effective rainfall comes form another source: \n",
    "\n",
    "for i in range(1,13):\n",
    "    df['eff_{}'.format(i)]=0\n",
    "    \n",
    "for i in range(1,13):\n",
    "    df.loc[df['prec{}'.format(i)] < 12.5, 'eff_{}'.format(i)] = df['prec{}'.format(i)]/30\n",
    "    df.loc[df['prec{}'.format(i)] >= 12.5, 'eff_{}'.format(i)] = eff_rainfall(df['prec{}'.format(i)],df['ETo_{}'.format(i)])/30 "
   ]
  },
  {
   "cell_type": "code",
   "execution_count": null,
   "metadata": {},
   "outputs": [],
   "source": []
  },
  {
   "cell_type": "code",
   "execution_count": 36,
   "metadata": {},
   "outputs": [],
   "source": [
    "\n",
    "def get_harvest_fraction(i,crop,init,late):\n",
    "    if i != 12:\n",
    "        current_date = pd.to_datetime((i+1),format='%m')\n",
    "    else:\n",
    "        current_date = pd.to_datetime(1,format='%m')\n",
    "    start = pd.to_datetime(mode.loc[mode['Mode']==crop,init+'_start'], format='%d/%m') #defining the plant start date from excel and setting the correct month and days sequence to read.\n",
    "    length = mode.loc[mode['Mode']==crop,init+'_days'].iloc[0]\n",
    "    days = ((current_date - start).iloc[0].days) % 365\n",
    "    late_end = pd.to_datetime(mode.loc[mode['Mode']==crop,late+'_end'], format='%d/%m').iloc[0]\n",
    "    all_days = ((late_end - start).iloc[0].days+1) % 365\n",
    "    if all_days == 0:\n",
    "        all_days = 365\n",
    "   \n",
    "    if days == 0:\n",
    "        start = pd.to_datetime(mode.loc[mode['Mode']==crop,late+'_start'], format='%d/%m') #defining the plant start date from excel and setting the correct month and days sequence to read.\n",
    "        length = mode.loc[mode['Mode']==crop,late+'_days'].iloc[0]\n",
    "        days = ((current_date - start).iloc[0].days) % 365\n",
    "        if days <= length:\n",
    "            return 1 #- days / length\n",
    "        else:\n",
    "            return 0\n",
    "    elif days <= length:\n",
    "        return days / length\n",
    "    elif days <= all_days:\n",
    "        return 1\n",
    "    else:\n",
    "        return 0"
   ]
  },
  {
   "cell_type": "code",
   "execution_count": 37,
   "metadata": {},
   "outputs": [],
   "source": [
    "for i in range (1,13):\n",
    "    df['PCWR_{}'.format(i)]=0       #PCWR: Peak Crop Water Requirement (l/s/ha) or \"Duty\", Previously PDWR\n",
    "    df['PWD_{}'.format(i)]=0        #PWD: Peak Water Demand in (l/s)\n",
    "    df['SSWD_{}'.format(i)]=0       #SSWD: Seasonal Scheme Water Demand in (m3)\n",
    "    \n",
    "#STEP 1: Compute the ACWR from ETc - check FAO1992- page 43-\n",
    "\n",
    "#acwr=row['ETo_{}'.format(i)]*30*row['kc_{}'.format(i)] - row['eff_{}'.format(i)]*30 - row['awc']/12 ))\n",
    "#once the available water content layer is obtained, the last past should be added to the equation\n",
    "\n",
    "for crop in mode['Mode']:\n",
    "    for i in range(1,13):\n",
    "        eto = f'ETo_{i}'\n",
    "        kc = f'kc_{i}'\n",
    "        eff = f'eff_{i}'\n",
    "        acwr = f'ACWR_{i}_'+crop\n",
    "        pcwr = f'PCWR_{i}'\n",
    "        pwd = f'PWD_{i}'\n",
    "        sswd = f'SSWD_{i}'\n",
    "        df[kc+'_'+crop] = float(mode.loc[mode['Mode']==crop,kc])\n",
    "        ky=ky_dict[crop] #Yield response factor coeff = 0.8 for date palms, source TABLE 53-FAO: http://www.fao.org/3/y4360e/y4360e0b.htm \n",
    "        df[acwr] = (df[eto]*30*df[kc+'_'+crop]*ky - df[eff]*30 - (0.12*df[eff])*30) #Assumption: awc=12% effective rainfall\n",
    "        df.loc[df[acwr]<0,acwr] = 0\n",
    "        df[pcwr] += ((df[acwr]*10)/30)*2*0.012\n",
    "        \n",
    "        df[f'harvest_{i}_'+crop] = df['area_ha'] * np.array([x[crop] for x in df['Mode']]) * get_harvest_fraction(i,crop,'init','late')\n",
    "        df[pwd] += (df[pcwr] *(df[f'harvest_{i}_'+crop]*24))/(pumping_hours_per_day*aeff*deff)\n",
    "        df[sswd] += (df[acwr]*10*(df[f'harvest_{i}_'+crop])/(aeff*deff))"
   ]
  },
  {
   "cell_type": "code",
   "execution_count": 38,
   "metadata": {},
   "outputs": [],
   "source": [
    "# Calculating the annual precipitation: which is the sum of precipitation values\n",
    "\n",
    "df['precipitation_annual']=df.filter(like='prec').sum(axis=1)  #Filter is used to specify the column of interest\n"
   ]
  },
  {
   "cell_type": "code",
   "execution_count": 39,
   "metadata": {},
   "outputs": [
    {
     "data": {
      "text/html": [
       "<div>\n",
       "<style scoped>\n",
       "    .dataframe tbody tr th:only-of-type {\n",
       "        vertical-align: middle;\n",
       "    }\n",
       "\n",
       "    .dataframe tbody tr th {\n",
       "        vertical-align: top;\n",
       "    }\n",
       "\n",
       "    .dataframe thead th {\n",
       "        text-align: right;\n",
       "    }\n",
       "</style>\n",
       "<table border=\"1\" class=\"dataframe\">\n",
       "  <thead>\n",
       "    <tr style=\"text-align: right;\">\n",
       "      <th>NAME_1</th>\n",
       "      <th>Adrar</th>\n",
       "      <th>Biskra</th>\n",
       "      <th>Djelfa</th>\n",
       "      <th>El Oued</th>\n",
       "      <th>Gabes</th>\n",
       "      <th>Ghadamis</th>\n",
       "      <th>Ghardaia</th>\n",
       "      <th>Gharyan</th>\n",
       "      <th>Illizi</th>\n",
       "      <th>Jufrah</th>\n",
       "      <th>Kebili</th>\n",
       "      <th>Khenchela</th>\n",
       "      <th>Laghouat</th>\n",
       "      <th>Musrata</th>\n",
       "      <th>Ouargla</th>\n",
       "      <th>Tamanrasset</th>\n",
       "      <th>Tataouine</th>\n",
       "      <th>Tebessa</th>\n",
       "      <th>Tozeur</th>\n",
       "    </tr>\n",
       "  </thead>\n",
       "  <tbody>\n",
       "    <tr>\n",
       "      <th>Irrigated area (ha)</th>\n",
       "      <td>24101.816848</td>\n",
       "      <td>5749.995666</td>\n",
       "      <td>3449.972096</td>\n",
       "      <td>68999.985344</td>\n",
       "      <td>2874.983928</td>\n",
       "      <td>5353.213079</td>\n",
       "      <td>34499.998422</td>\n",
       "      <td>8557.616421</td>\n",
       "      <td>1770.396215</td>\n",
       "      <td>7963.713904</td>\n",
       "      <td>27412.511949</td>\n",
       "      <td>1149.970213</td>\n",
       "      <td>5749.994721</td>\n",
       "      <td>21082.919486</td>\n",
       "      <td>32699.346634</td>\n",
       "      <td>4868.857546</td>\n",
       "      <td>1833.775565</td>\n",
       "      <td>4599.970966</td>\n",
       "      <td>9617.446033</td>\n",
       "    </tr>\n",
       "    <tr>\n",
       "      <th>Water intensity (m3/ha)</th>\n",
       "      <td>15793.791148</td>\n",
       "      <td>10033.720376</td>\n",
       "      <td>10303.348469</td>\n",
       "      <td>11470.236142</td>\n",
       "      <td>10074.150089</td>\n",
       "      <td>10515.471347</td>\n",
       "      <td>12775.158413</td>\n",
       "      <td>10818.727280</td>\n",
       "      <td>14169.601170</td>\n",
       "      <td>15113.240202</td>\n",
       "      <td>11207.277369</td>\n",
       "      <td>10830.580811</td>\n",
       "      <td>10084.528374</td>\n",
       "      <td>8890.634530</td>\n",
       "      <td>12379.121096</td>\n",
       "      <td>15656.343103</td>\n",
       "      <td>10215.633880</td>\n",
       "      <td>10927.332730</td>\n",
       "      <td>10794.142744</td>\n",
       "    </tr>\n",
       "    <tr>\n",
       "      <th>Water demand (Mm3)</th>\n",
       "      <td>380.659062</td>\n",
       "      <td>57.693849</td>\n",
       "      <td>35.546265</td>\n",
       "      <td>791.446126</td>\n",
       "      <td>28.963020</td>\n",
       "      <td>56.291559</td>\n",
       "      <td>440.742945</td>\n",
       "      <td>92.582518</td>\n",
       "      <td>25.085808</td>\n",
       "      <td>120.357521</td>\n",
       "      <td>307.219625</td>\n",
       "      <td>12.454845</td>\n",
       "      <td>57.985985</td>\n",
       "      <td>187.440532</td>\n",
       "      <td>404.789172</td>\n",
       "      <td>76.228504</td>\n",
       "      <td>18.733180</td>\n",
       "      <td>50.265413</td>\n",
       "      <td>103.812085</td>\n",
       "    </tr>\n",
       "  </tbody>\n",
       "</table>\n",
       "</div>"
      ],
      "text/plain": [
       "NAME_1                          Adrar        Biskra        Djelfa  \\\n",
       "Irrigated area (ha)      24101.816848   5749.995666   3449.972096   \n",
       "Water intensity (m3/ha)  15793.791148  10033.720376  10303.348469   \n",
       "Water demand (Mm3)         380.659062     57.693849     35.546265   \n",
       "\n",
       "NAME_1                        El Oued         Gabes      Ghadamis  \\\n",
       "Irrigated area (ha)      68999.985344   2874.983928   5353.213079   \n",
       "Water intensity (m3/ha)  11470.236142  10074.150089  10515.471347   \n",
       "Water demand (Mm3)         791.446126     28.963020     56.291559   \n",
       "\n",
       "NAME_1                       Ghardaia       Gharyan        Illizi  \\\n",
       "Irrigated area (ha)      34499.998422   8557.616421   1770.396215   \n",
       "Water intensity (m3/ha)  12775.158413  10818.727280  14169.601170   \n",
       "Water demand (Mm3)         440.742945     92.582518     25.085808   \n",
       "\n",
       "NAME_1                         Jufrah        Kebili     Khenchela  \\\n",
       "Irrigated area (ha)       7963.713904  27412.511949   1149.970213   \n",
       "Water intensity (m3/ha)  15113.240202  11207.277369  10830.580811   \n",
       "Water demand (Mm3)         120.357521    307.219625     12.454845   \n",
       "\n",
       "NAME_1                       Laghouat       Musrata       Ouargla  \\\n",
       "Irrigated area (ha)       5749.994721  21082.919486  32699.346634   \n",
       "Water intensity (m3/ha)  10084.528374   8890.634530  12379.121096   \n",
       "Water demand (Mm3)          57.985985    187.440532    404.789172   \n",
       "\n",
       "NAME_1                    Tamanrasset     Tataouine       Tebessa  \\\n",
       "Irrigated area (ha)       4868.857546   1833.775565   4599.970966   \n",
       "Water intensity (m3/ha)  15656.343103  10215.633880  10927.332730   \n",
       "Water demand (Mm3)          76.228504     18.733180     50.265413   \n",
       "\n",
       "NAME_1                         Tozeur  \n",
       "Irrigated area (ha)       9617.446033  \n",
       "Water intensity (m3/ha)  10794.142744  \n",
       "Water demand (Mm3)         103.812085  "
      ]
     },
     "execution_count": 39,
     "metadata": {},
     "output_type": "execute_result"
    }
   ],
   "source": [
    "final=df.groupby('NAME_1').sum()\n",
    "summary = pd.DataFrame({'Irrigated area (ha)':final['area_ha'],\n",
    "                        'Water intensity (m3/ha)':final.filter(like='SSWD_').sum(axis=1)/final['area_ha'],\n",
    "                        'Water demand (Mm3)':final.filter(like='SSWD_').sum(axis=1)/1000000})\n",
    "summary.round(decimals=3)\n",
    "summary.T"
   ]
  },
  {
   "cell_type": "code",
   "execution_count": 40,
   "metadata": {},
   "outputs": [],
   "source": [
    "df.to_csv(output_file+'.csv',index=False)"
   ]
  },
  {
   "cell_type": "code",
   "execution_count": null,
   "metadata": {},
   "outputs": [],
   "source": [
    "# Create a Pandas Excel writer using XlsxWriter as the engine.\n",
    "writer = pd.ExcelWriter(output_file + '.xlsx', engine='xlsxwriter')\n",
    "\n",
    "## Convert the dataframe to an XlsxWriter Excel object.\n",
    "df.to_excel(writer, sheet_name='3crops')\n",
    "summary.to_excel(writer, sheet_name='summary')\n",
    "\n",
    "## Close the Pandas Excel writer and output the Excel file.\n",
    "writer.save()"
   ]
  },
  {
   "cell_type": "code",
   "execution_count": null,
   "metadata": {},
   "outputs": [],
   "source": []
  }
 ],
 "metadata": {
  "anaconda-cloud": {},
  "kernelspec": {
   "display_name": "Python 3",
   "language": "python",
   "name": "python3"
  },
  "language_info": {
   "codemirror_mode": {
    "name": "ipython",
    "version": 3
   },
   "file_extension": ".py",
   "mimetype": "text/x-python",
   "name": "python",
   "nbconvert_exporter": "python",
   "pygments_lexer": "ipython3",
   "version": "3.7.3"
  }
 },
 "nbformat": 4,
 "nbformat_minor": 2
}
