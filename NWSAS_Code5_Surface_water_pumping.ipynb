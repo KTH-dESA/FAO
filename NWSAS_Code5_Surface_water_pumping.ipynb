{
 "cells": [
  {
   "cell_type": "code",
   "execution_count": 45,
   "metadata": {},
   "outputs": [],
   "source": [
    "#import the required Python packages\n",
    "\n",
    "import pandas as pd\n",
    "#import datetime   #check this\n",
    "import numpy as np\n",
    "import math\n",
    "from pandas import DataFrame\n",
    "\n",
    "math.exp = np.exp\n",
    "math.pow = np.power\n",
    "math.sqrt = np.sqrt"
   ]
  },
  {
   "cell_type": "code",
   "execution_count": 52,
   "metadata": {},
   "outputs": [
    {
     "name": "stdout",
     "output_type": "stream",
     "text": [
      "The autoreload extension is already loaded. To reload it, use:\n",
      "  %reload_ext autoreload\n"
     ]
    }
   ],
   "source": [
    "#df=pd.read_excel(r'Data/NWSAS_input_data.xlsx')\n",
    "%load_ext autoreload"
   ]
  },
  {
   "cell_type": "code",
   "execution_count": 53,
   "metadata": {},
   "outputs": [
    {
     "name": "stderr",
     "output_type": "stream",
     "text": [
      "[autoreload of nexus_tool failed: Traceback (most recent call last):\n",
      "  File \"C:\\Users\\almulla\\AppData\\Local\\Continuum\\anaconda3\\lib\\site-packages\\IPython\\extensions\\autoreload.py\", line 245, in check\n",
      "    superreload(m, reload, self.old_objects)\n",
      "  File \"C:\\Users\\almulla\\AppData\\Local\\Continuum\\anaconda3\\lib\\site-packages\\IPython\\extensions\\autoreload.py\", line 450, in superreload\n",
      "    update_generic(old_obj, new_obj)\n",
      "  File \"C:\\Users\\almulla\\AppData\\Local\\Continuum\\anaconda3\\lib\\site-packages\\IPython\\extensions\\autoreload.py\", line 387, in update_generic\n",
      "    update(a, b)\n",
      "  File \"C:\\Users\\almulla\\AppData\\Local\\Continuum\\anaconda3\\lib\\site-packages\\IPython\\extensions\\autoreload.py\", line 342, in update_class\n",
      "    if update_generic(old_obj, new_obj): continue\n",
      "  File \"C:\\Users\\almulla\\AppData\\Local\\Continuum\\anaconda3\\lib\\site-packages\\IPython\\extensions\\autoreload.py\", line 387, in update_generic\n",
      "    update(a, b)\n",
      "  File \"C:\\Users\\almulla\\AppData\\Local\\Continuum\\anaconda3\\lib\\site-packages\\IPython\\extensions\\autoreload.py\", line 357, in update_class\n",
      "    update_instances(old, new)\n",
      "  File \"C:\\Users\\almulla\\AppData\\Local\\Continuum\\anaconda3\\lib\\site-packages\\IPython\\extensions\\autoreload.py\", line 280, in update_instances\n",
      "    frame = next(frame_nfo.frame for frame_nfo in inspect.stack()\n",
      "StopIteration\n",
      "]\n"
     ]
    }
   ],
   "source": [
    "%autoreload\n",
    "import nexus_tool"
   ]
  },
  {
   "cell_type": "code",
   "execution_count": 6,
   "metadata": {},
   "outputs": [],
   "source": [
    "nexus_tool.get_sw_tdh"
   ]
  },
  {
   "cell_type": "code",
   "execution_count": null,
   "metadata": {},
   "outputs": [],
   "source": []
  },
  {
   "cell_type": "code",
   "execution_count": null,
   "metadata": {},
   "outputs": [],
   "source": []
  },
  {
   "cell_type": "markdown",
   "metadata": {},
   "source": [
    "# This notebook illustrates the main equations used for surface water pumping\n",
    "\n",
    "**Source**: *The mathematics of pumping water*\n",
    "\n",
    "This source is a manual for certain calculations which should be backed up with academic literature\n",
    "\n",
    "# Step1: Calculate the head\n",
    "\n",
    "Htot = Hstat + Hd + (Prt - Pres)\n",
    "\n",
    "where: \n",
    "\n",
    "Htot: Total head\n",
    "\n",
    "Hstat: Static head (It can be assumed in this case as the elevation difference)\n",
    "\n",
    "Hd: Dynamic Head\n",
    "\n",
    "Prt: Pressure on the surface of water in the receiving  tank.\n",
    "\n",
    "Pres: Pressure on the surface of water in the reservoir.\n"
   ]
  },
  {
   "cell_type": "markdown",
   "metadata": {},
   "source": [
    "## How to calculate the hydraulic head\n",
    "\n",
    "Darct Weisbach Equation is used to calculate the hydraulic head\n",
    "\n",
    "Hd = (K*V2)/(2*g)\n",
    "\n",
    "Where: \n",
    "\n",
    "K: loss coefficient\n",
    "V: velocity in the pipe in (m/sec)\n",
    "g: Acceleration due to gravity=9.81 (m/sec2)\n",
    "\n",
    "K = K_fitting + K_pipe\n",
    "\n",
    "K_fitting: Depends on fitting items * number of items used. (see table in the source)\n",
    "\n",
    "In long pipelines these local head losses (K_fitting) are often minor in comparison with energy losses due to friction and may be neglected.\n",
    "\n",
    "so the main losses are due to friction\n",
    "\n",
    "K_pipe = (f*l)/D \n",
    "\n",
    "f: friction coofcient \n",
    "L: lenght of the pipe in m\n",
    "D: Diameter in m. \n",
    "\n",
    "f = 0.25/[log{(K/3.7*D)+(5.74/Re**0.9)}]**2\n",
    "\n",
    "Where: \n",
    "K: Roughness factor (m): is a standard value obtained from standard tables and based upon the material of the pipe. \n",
    "Re: Reynolds number Re=(V*D)/v  \n",
    "v: is the kinematic viscosity (m2/sec)\n",
    "\n",
    "This equation can be simplified for laminar flow as follows: \n",
    "f = 64/Re\n",
    "\n"
   ]
  },
  {
   "cell_type": "markdown",
   "metadata": {},
   "source": [
    "# Step2: Calculate the water flow\n",
    "\n",
    "In this case the water flow will be calculated using WEAP. It will represent the flow in (m3/sec) and will be calculated for every pipeline.  \n",
    "\n"
   ]
  },
  {
   "cell_type": "code",
   "execution_count": 18,
   "metadata": {},
   "outputs": [],
   "source": [
    "## INPUTS\n",
    "\n",
    "#H_static = df['elevation']  #this is a gis layer\n",
    "H_static =10\n",
    "\n",
    "#L = df['pipe_lenght']      #Lenght of the pipeline segment in m\n",
    "L=5\n",
    "\n",
    "#D = df['diameter']        #this will be assumed for each pipeline segment\n",
    "D=4\n",
    "\n",
    "\n",
    "g = 9.81               #gravitational acceleration in m/sec2\n",
    "\n",
    "Ken_visc=1.004**-6          #Kinematic Viscosity in (m2/s) value taken from https://www.engineersedge.com/physics/water__density_viscosity_specific_weight_13146.htm\n",
    "\n",
    "\n",
    "\n",
    "Q=30                #assumption for testing"
   ]
  },
  {
   "cell_type": "code",
   "execution_count": 34,
   "metadata": {},
   "outputs": [],
   "source": [
    "pi=3.14\n",
    "A = (pi*D**2)/4\n",
    "V = Q/A\n",
    "\n",
    "dens = 1000 #density of water = 1000 kg/m3\n",
    "Re = (V*D)/Ken_visc\n",
    "pump_eff = 0.6\n",
    "k=0.26  #roughness for cast iron https://www.engineersedge.com/fluid_flow/pipe-roughness.htm \n",
    "\n",
    "f =0.25/(np.log((k/(3.7*D))+(5.74/(Re*0.9)))**2)\n",
    "#k = roughness factor k is a standard value obtained from standard tables and is based opon the material of the pipe, including any internal coatings and the internal condition of the pipeline i.e. good, normal or poor. \n",
    "#f=64/Re\n",
    "\n",
    "#K_pipe = (f*L)/D\n",
    "\n",
    "\n",
    "\n",
    "#K_loss = Kfit_tot + K_pipe  #Loss coefficient \n",
    "\n",
    "#H_dynamic = (K_loss*V**2)/(2*g)\n",
    "\n",
    "#OR\n",
    "\n",
    "H_dynamic = ((f*L*16*Q**2)/((D**5)*2*g*(pi**2)))\n",
    "\n",
    "\n",
    "H_total = H_static + H_dynamic"
   ]
  },
  {
   "cell_type": "code",
   "execution_count": 35,
   "metadata": {},
   "outputs": [
    {
     "data": {
      "text/plain": [
       "1.5507768212000188"
      ]
     },
     "execution_count": 35,
     "metadata": {},
     "output_type": "execute_result"
    }
   ],
   "source": [
    "f\n",
    "#H_total"
   ]
  },
  {
   "cell_type": "code",
   "execution_count": 36,
   "metadata": {},
   "outputs": [
    {
     "data": {
      "text/plain": [
       "0.5636682097206777"
      ]
     },
     "execution_count": 36,
     "metadata": {},
     "output_type": "execute_result"
    }
   ],
   "source": [
    "H_dynamic"
   ]
  },
  {
   "cell_type": "markdown",
   "metadata": {},
   "source": [
    "# Step3: Calculate energy demand for surface water pumping\n",
    "\n",
    "P = (Q * H * g * dens)/(pump_eff)\n",
    "\n",
    "Where: \n",
    "P: is the energy requirement in (watts)\n",
    "Q: water flow rate in (m3/sec)\n",
    "H: total head in (m)\n",
    "dens: is the density of water = 1000 kg/m3\n",
    "\n"
   ]
  },
  {
   "cell_type": "code",
   "execution_count": 34,
   "metadata": {},
   "outputs": [
    {
     "data": {
      "text/plain": [
       "6071.002127388333"
      ]
     },
     "execution_count": 34,
     "metadata": {},
     "output_type": "execute_result"
    }
   ],
   "source": [
    "P = (Q * H_total * g * dens)/(pump_eff)\n",
    "\n",
    "P/1000"
   ]
  },
  {
   "cell_type": "code",
   "execution_count": null,
   "metadata": {},
   "outputs": [],
   "source": []
  },
  {
   "cell_type": "code",
   "execution_count": null,
   "metadata": {},
   "outputs": [],
   "source": [
    "##ORIGINAL CODE\n",
    "\n",
    "\n",
    "def get_gw_tdh(df, gw_depth, wdd, oap, pld, tdh_gw, interp_method = 'nearest'):\n",
    "    df[tdh_gw] = df[gw_depth] + wdd + oap + pld\n",
    "    df[tdh_gw].replace(0, np.nan, inplace=True)\n",
    "    # df[tdh_gw].interpolate(method = interp_method, axis=0, inplace=True)\n",
    "    return df\n",
    "    \n",
    "def get_pumping_energy(df, trans_eff, pump_eff, pd_e, pwd, sswd, ed_e, tdh_gw, \n",
    "                       des_int, des_ener, desalination = False):\n",
    "    Epump_plant_eff = trans_eff * pump_eff\n",
    "    \n",
    "    for i in range (1,13):\n",
    "        _pd_e = '{}{}'.format(pd_e, i)\n",
    "        _pwd = '{}{}'.format(pwd, i)\n",
    "        _sswd = '{}{}'.format(sswd, i)\n",
    "        _ed_e = '{}{}'.format(ed_e, i)\n",
    "        \n",
    "        df[_pd_e]=(9.81*(df[_pwd]/1000)*df[tdh_gw])/Epump_plant_eff\n",
    "        df[_ed_e]=(df[_sswd]*df[tdh_gw]*0.00272)/Epump_plant_eff\n",
    "        \n",
    "        if desalination:\n",
    "            df[_pd_e] += (df[_pwd]*df[des_int]*3600/1000)\n",
    "            df[_ed_e] += (df['{}{}'.format(des_ener, i)]*1000000)\n",
    "    return df\n",
    "    \n",
    "def get_annual_electricity(df, ed_e):\n",
    "    df['annual_el_demand'] = df.filter(like=ed_e).sum(axis=1)\n",
    "    return df"
   ]
  },
  {
   "cell_type": "code",
   "execution_count": 37,
   "metadata": {},
   "outputs": [],
   "source": [
    "## TEST CODE FOR SURFACE WATER PUMPING\n",
    "\n",
    "#Should define the following paramters: \n",
    "#L: length #paramter in the function\n",
    "#D: Diameter #paramter in the function\n",
    "#g: 9.81\n",
    "#pi=3.14\n",
    "#k=0.26 pipe roughness for cast iron \n",
    "#Ken_visc=1.004**-6          #Kinematic Viscosity in (m2/s) value taken from https://www.engineersedge.com/physics/water__density_viscosity_specific_weight_13146.htm\n",
    "#H_static = df['elevation']  #this is a gis layer\n",
    "H_static =10\n",
    "V = Q/A\n",
    "dens = 1000 #density of water = 1000 kg/m3\n",
    "\n",
    "pump_eff = 0.6  #make sure that we have different naming for different pumps (surface water pump/ground water pump)\n",
    "\n",
    "\n",
    "def get_gw_tdh(df, gw_depth, wdd, oap, pld, tdh_gw, interp_method = 'nearest'):\n",
    "    df[tdh_gw] = df[gw_depth] + wdd + oap + pld\n",
    "    df[tdh_gw].replace(0, np.nan, inplace=True)\n",
    "    # df[tdh_gw].interpolate(method = interp_method, axis=0, inplace=True)\n",
    "    return df\n",
    "\n",
    "def Re(df,V,D,Ken_visc):\n",
    "    Re = (V*D)/Ken_visc\n",
    "    return df\n",
    "\n",
    "def f(k,D,Re):\n",
    "    f =0.25/(np.log((k/(3.7*D))+(5.74/(Re*0.9)))**2)\n",
    "    return df\n",
    "\n",
    "def get_sw_tdh(df, tdh_sw, elevation, f, L, w_flow, D, g, pi, interp_method = 'nearest'):\n",
    "    df[tdh_sw] = df['elevation'] + ((f*L*16*(df[w_flow]**2))/((D**5)*2*g*(pi**2))) \n",
    "    df[tdh_sw].replace(0, np.nan, inplace=True)\n",
    "    # df[tdh_sw].interpolate(method = interp_method, axis=0, inplace=True)\n",
    "    return df\n",
    "\n",
    "\n",
    "def get_pumping_energy(df, trans_eff, pump_eff, pd_e, pwd, sswd, ed_e, tdh_gw, tdh_sw \n",
    "                       des_int, des_ener, desalination = False):\n",
    "    Epump_plant_eff = trans_eff * pump_eff\n",
    "    \n",
    "    for i in range (1,13):\n",
    "        _pd_e = '{}{}'.format(pd_e, i)\n",
    "        _pwd = '{}{}'.format(pwd, i)\n",
    "        _sswd = '{}{}'.format(sswd, i)\n",
    "        _ed_e = '{}{}'.format(ed_e, i)\n",
    "        _w_flow = '{}{}'.format(w_flow, i) #this should be WEAP output\n",
    "        \n",
    "        df[_pd_e]=(9.81*(df[_pwd]/1000)*df[tdh_gw])/Epump_plant_eff\n",
    "        df[_ed_e]=(df[_sswd]*df[tdh_gw]*0.00272)/Epump_plant_eff\n",
    "        \n",
    "        if desalination:\n",
    "            df[_pd_e] += (df[_pwd]*df[des_int]*3600/1000)\n",
    "            df[_ed_e] += (df['{}{}'.format(des_ener, i)]*1000000)\n",
    "    return df\n",
    "    \n",
    "def get_annual_electricity(df, ed_e):\n",
    "    df['annual_el_demand'] = df.filter(like=ed_e).sum(axis=1)\n",
    "    return df"
   ]
  },
  {
   "cell_type": "code",
   "execution_count": null,
   "metadata": {},
   "outputs": [],
   "source": []
  },
  {
   "cell_type": "code",
   "execution_count": 27,
   "metadata": {},
   "outputs": [],
   "source": []
  },
  {
   "cell_type": "code",
   "execution_count": 31,
   "metadata": {},
   "outputs": [],
   "source": []
  },
  {
   "cell_type": "code",
   "execution_count": 32,
   "metadata": {},
   "outputs": [],
   "source": []
  },
  {
   "cell_type": "code",
   "execution_count": null,
   "metadata": {},
   "outputs": [],
   "source": []
  },
  {
   "cell_type": "code",
   "execution_count": 36,
   "metadata": {},
   "outputs": [],
   "source": [
    "\n"
   ]
  },
  {
   "cell_type": "code",
   "execution_count": 37,
   "metadata": {},
   "outputs": [],
   "source": [
    "for i in range (1,13):\n",
    "    df['PCWR_{}'.format(i)]=0       #PCWR: Peak Crop Water Requirement (l/s/ha) or \"Duty\", Previously PDWR\n",
    "    df['PWD_{}'.format(i)]=0        #PWD: Peak Water Demand in (l/s)\n",
    "    df['SSWD_{}'.format(i)]=0       #SSWD: Seasonal Scheme Water Demand in (m3)\n",
    "    \n",
    "#STEP 1: Compute the ACWR from ETc - check FAO1992- page 43-\n",
    "\n",
    "#acwr=row['ETo_{}'.format(i)]*30*row['kc_{}'.format(i)] - row['eff_{}'.format(i)]*30 - row['awc']/12 ))\n",
    "#once the available water content layer is obtained, the last past should be added to the equation\n",
    "\n",
    "for crop in mode['Mode']:\n",
    "    for i in range(1,13):\n",
    "        eto = f'ETo_{i}'\n",
    "        kc = f'kc_{i}'\n",
    "        eff = f'eff_{i}'\n",
    "        acwr = f'ACWR_{i}_'+crop\n",
    "        pcwr = f'PCWR_{i}'\n",
    "        pwd = f'PWD_{i}'\n",
    "        sswd = f'SSWD_{i}'\n",
    "        df[kc+'_'+crop] = float(mode.loc[mode['Mode']==crop,kc])\n",
    "        ky=ky_dict[crop] #Yield response factor coeff = 0.8 for date palms, source TABLE 53-FAO: http://www.fao.org/3/y4360e/y4360e0b.htm \n",
    "        df[acwr] = (df[eto]*30*df[kc+'_'+crop]*ky - df[eff]*30 - (0.12*df[eff])*30) #Assumption: awc=12% effective rainfall\n",
    "        df.loc[df[acwr]<0,acwr] = 0\n",
    "        df[pcwr] += ((df[acwr]*10)/30)*2*0.012\n",
    "        \n",
    "        df[f'harvest_{i}_'+crop] = df['area_ha'] * np.array([x[crop] for x in df['Mode']]) * get_harvest_fraction(i,crop,'init','late')\n",
    "        df[pwd] += (df[pcwr] *(df[f'harvest_{i}_'+crop]*24))/(pumping_hours_per_day*aeff*deff)\n",
    "        df[sswd] += (df[acwr]*10*(df[f'harvest_{i}_'+crop])/(aeff*deff))"
   ]
  },
  {
   "cell_type": "code",
   "execution_count": 38,
   "metadata": {},
   "outputs": [],
   "source": []
  },
  {
   "cell_type": "code",
   "execution_count": null,
   "metadata": {},
   "outputs": [],
   "source": []
  },
  {
   "cell_type": "code",
   "execution_count": 40,
   "metadata": {},
   "outputs": [],
   "source": [
    "df.to_csv(output_file+'.csv',index=False)"
   ]
  },
  {
   "cell_type": "code",
   "execution_count": null,
   "metadata": {},
   "outputs": [],
   "source": [
    "# Create a Pandas Excel writer using XlsxWriter as the engine.\n",
    "writer = pd.ExcelWriter(output_file + '.xlsx', engine='xlsxwriter')\n",
    "\n",
    "## Convert the dataframe to an XlsxWriter Excel object.\n",
    "df.to_excel(writer, sheet_name='3crops')\n",
    "summary.to_excel(writer, sheet_name='summary')\n",
    "\n",
    "## Close the Pandas Excel writer and output the Excel file.\n",
    "writer.save()"
   ]
  },
  {
   "cell_type": "code",
   "execution_count": null,
   "metadata": {},
   "outputs": [],
   "source": []
  }
 ],
 "metadata": {
  "anaconda-cloud": {},
  "kernelspec": {
   "display_name": "Python 3",
   "language": "python",
   "name": "python3"
  },
  "language_info": {
   "codemirror_mode": {
    "name": "ipython",
    "version": 3
   },
   "file_extension": ".py",
   "mimetype": "text/x-python",
   "name": "python",
   "nbconvert_exporter": "python",
   "pygments_lexer": "ipython3",
   "version": "3.7.3"
  }
 },
 "nbformat": 4,
 "nbformat_minor": 2
}
