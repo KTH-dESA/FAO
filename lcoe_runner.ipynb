{
 "cells": [
  {
   "cell_type": "markdown",
   "metadata": {},
   "source": [
    "# NEXUS tool: case study for the NWSAS basin - least-cost options calculations\n",
    "In this notebook a case study for the NWSAS basin is covered using the `nexus_tool` package. The energy requirements for agricultural irrigation were previously calculated (check the water demand and energy demand case studies). In this case study, the least-cost options to supply the energy needs for agricultural irrigation are identified.\n",
    "\n",
    "First import the package by running the following block:"
   ]
  },
  {
   "cell_type": "code",
   "execution_count": 156,
   "metadata": {},
   "outputs": [
    {
     "name": "stdout",
     "output_type": "stream",
     "text": [
      "The autoreload extension is already loaded. To reload it, use:\n",
      "  %reload_ext autoreload\n"
     ]
    }
   ],
   "source": [
    "%load_ext autoreload"
   ]
  },
  {
   "cell_type": "code",
   "execution_count": 157,
   "metadata": {},
   "outputs": [],
   "source": [
    "%autoreload\n",
    "import nexus_tool"
   ]
  },
  {
   "cell_type": "code",
   "execution_count": 158,
   "metadata": {},
   "outputs": [],
   "source": [
    "file_path = r'nwsas_results/pumping_energy.csv'\n",
    "df = nexus_tool.read_csv(file_path)"
   ]
  },
  {
   "cell_type": "code",
   "execution_count": 159,
   "metadata": {},
   "outputs": [],
   "source": [
    "file_path = r'nwsas_data/Fuel_prices.xlsx'\n",
    "fuel_price = nexus_tool.read_excel(file_path)"
   ]
  },
  {
   "cell_type": "code",
   "execution_count": 160,
   "metadata": {},
   "outputs": [],
   "source": [
    "nwsas = nexus_tool.Model(df)"
   ]
  },
  {
   "cell_type": "code",
   "execution_count": 161,
   "metadata": {},
   "outputs": [],
   "source": [
    "nwsas.df = nwsas.df.merge(fuel_price, on='country')"
   ]
  },
  {
   "cell_type": "code",
   "execution_count": 162,
   "metadata": {},
   "outputs": [],
   "source": [
    "nwsas.create_wind_turbine('Wind power', life=20,\n",
    "                          om_cost=0.02, capital_cost=1300,\n",
    "                          efficiency=0.6)"
   ]
  },
  {
   "cell_type": "code",
   "execution_count": 163,
   "metadata": {},
   "outputs": [],
   "source": [
    "nwsas.create_pv_system('Solar PV', life=15,\n",
    "                       om_cost=0.01, capital_cost=1140,\n",
    "                       efficiency=0.7)"
   ]
  },
  {
   "cell_type": "code",
   "execution_count": 164,
   "metadata": {},
   "outputs": [],
   "source": [
    "nwsas.create_diesel_genset('Diesel set', life=10, om_cost=0.1,\n",
    "                           capital_cost=938, fuel_cost=nwsas.df['Dprice1'],\n",
    "                           fuel_req=0.095, efficiency=0.27, cf = 0.5,\n",
    "                           emission_factor=2.7,env_cost=0)"
   ]
  },
  {
   "cell_type": "code",
   "execution_count": 165,
   "metadata": {},
   "outputs": [],
   "source": [
    "nwsas.create_diesel_genset('Grid pump', life=10, om_cost=0.1,\n",
    "                           capital_cost=845, fuel_cost=nwsas.df['Dprice1'],\n",
    "                           fuel_req=1, efficiency=0.55, cf = 0.8,\n",
    "                           emission_factor=0.728,env_cost=0)"
   ]
  },
  {
   "cell_type": "code",
   "execution_count": 167,
   "metadata": {},
   "outputs": [],
   "source": [
    "nwsas.get_cf(['Wind power', 'Solar PV'])\n",
    "nwsas.get_installed_capacity(['Wind power', 'Solar PV', 'Diesel set', 'Grid pump'])\n",
    "nwsas.get_max_capacity(['Wind power', 'Solar PV', 'Diesel set', 'Grid pump'])\n",
    "nwsas.end_year = 2030\n",
    "nwsas.start_year = 2016\n",
    "nwsas.discount_rate = 0.05\n",
    "nwsas.get_lcoe(['Wind power', 'Solar PV', 'Diesel set', 'Grid pump'])"
   ]
  },
  {
   "cell_type": "code",
   "execution_count": 168,
   "metadata": {},
   "outputs": [
    {
     "data": {
      "text/html": [
       "<div>\n",
       "<style scoped>\n",
       "    .dataframe tbody tr th:only-of-type {\n",
       "        vertical-align: middle;\n",
       "    }\n",
       "\n",
       "    .dataframe tbody tr th {\n",
       "        vertical-align: top;\n",
       "    }\n",
       "\n",
       "    .dataframe thead th {\n",
       "        text-align: right;\n",
       "    }\n",
       "</style>\n",
       "<table border=\"1\" class=\"dataframe\">\n",
       "  <thead>\n",
       "    <tr style=\"text-align: right;\">\n",
       "      <th></th>\n",
       "      <th>wind_lcoe</th>\n",
       "      <th>pv_lcoe</th>\n",
       "      <th>diesel_lcoe</th>\n",
       "      <th>grid_lcoe</th>\n",
       "    </tr>\n",
       "    <tr>\n",
       "      <th>province</th>\n",
       "      <th></th>\n",
       "      <th></th>\n",
       "      <th></th>\n",
       "      <th></th>\n",
       "    </tr>\n",
       "  </thead>\n",
       "  <tbody>\n",
       "    <tr>\n",
       "      <th>Adrar</th>\n",
       "      <td>10.359339</td>\n",
       "      <td>0.770447</td>\n",
       "      <td>0.552987</td>\n",
       "      <td>0.311350</td>\n",
       "    </tr>\n",
       "    <tr>\n",
       "      <th>Biskra</th>\n",
       "      <td>22.287251</td>\n",
       "      <td>0.950498</td>\n",
       "      <td>0.505705</td>\n",
       "      <td>0.284729</td>\n",
       "    </tr>\n",
       "    <tr>\n",
       "      <th>Djelfa</th>\n",
       "      <td>12.942626</td>\n",
       "      <td>0.897963</td>\n",
       "      <td>0.508724</td>\n",
       "      <td>0.286428</td>\n",
       "    </tr>\n",
       "    <tr>\n",
       "      <th>El Oued</th>\n",
       "      <td>18.697837</td>\n",
       "      <td>0.910149</td>\n",
       "      <td>0.541222</td>\n",
       "      <td>0.304726</td>\n",
       "    </tr>\n",
       "    <tr>\n",
       "      <th>Gabes</th>\n",
       "      <td>15.892456</td>\n",
       "      <td>0.940353</td>\n",
       "      <td>0.547916</td>\n",
       "      <td>0.308495</td>\n",
       "    </tr>\n",
       "    <tr>\n",
       "      <th>Ghadamis</th>\n",
       "      <td>11.332625</td>\n",
       "      <td>0.845636</td>\n",
       "      <td>0.520903</td>\n",
       "      <td>0.293286</td>\n",
       "    </tr>\n",
       "    <tr>\n",
       "      <th>Ghardaia</th>\n",
       "      <td>8.050849</td>\n",
       "      <td>0.814292</td>\n",
       "      <td>0.533570</td>\n",
       "      <td>0.300418</td>\n",
       "    </tr>\n",
       "    <tr>\n",
       "      <th>Gharyan</th>\n",
       "      <td>20.290699</td>\n",
       "      <td>1.140647</td>\n",
       "      <td>0.906686</td>\n",
       "      <td>0.510494</td>\n",
       "    </tr>\n",
       "    <tr>\n",
       "      <th>Illizi</th>\n",
       "      <td>10.186315</td>\n",
       "      <td>0.759492</td>\n",
       "      <td>0.537884</td>\n",
       "      <td>0.302847</td>\n",
       "    </tr>\n",
       "    <tr>\n",
       "      <th>Jufrah</th>\n",
       "      <td>9.897229</td>\n",
       "      <td>0.542032</td>\n",
       "      <td>0.373057</td>\n",
       "      <td>0.210044</td>\n",
       "    </tr>\n",
       "    <tr>\n",
       "      <th>Kebili</th>\n",
       "      <td>33.818374</td>\n",
       "      <td>0.892538</td>\n",
       "      <td>0.519366</td>\n",
       "      <td>0.292420</td>\n",
       "    </tr>\n",
       "    <tr>\n",
       "      <th>Khenchela</th>\n",
       "      <td>13.160667</td>\n",
       "      <td>0.936482</td>\n",
       "      <td>0.518608</td>\n",
       "      <td>0.291993</td>\n",
       "    </tr>\n",
       "    <tr>\n",
       "      <th>Laghouat</th>\n",
       "      <td>15.905003</td>\n",
       "      <td>0.892408</td>\n",
       "      <td>0.491782</td>\n",
       "      <td>0.276890</td>\n",
       "    </tr>\n",
       "    <tr>\n",
       "      <th>Musrata</th>\n",
       "      <td>7.111094</td>\n",
       "      <td>0.915122</td>\n",
       "      <td>0.530497</td>\n",
       "      <td>0.298687</td>\n",
       "    </tr>\n",
       "    <tr>\n",
       "      <th>Ouargla</th>\n",
       "      <td>14.562422</td>\n",
       "      <td>0.849041</td>\n",
       "      <td>0.543685</td>\n",
       "      <td>0.306112</td>\n",
       "    </tr>\n",
       "    <tr>\n",
       "      <th>Tamanrasset</th>\n",
       "      <td>5.487767</td>\n",
       "      <td>0.728551</td>\n",
       "      <td>0.534338</td>\n",
       "      <td>0.300850</td>\n",
       "    </tr>\n",
       "    <tr>\n",
       "      <th>Tataouine</th>\n",
       "      <td>13.776067</td>\n",
       "      <td>0.879681</td>\n",
       "      <td>0.528359</td>\n",
       "      <td>0.297484</td>\n",
       "    </tr>\n",
       "    <tr>\n",
       "      <th>Tebessa</th>\n",
       "      <td>17.680302</td>\n",
       "      <td>0.963059</td>\n",
       "      <td>0.547066</td>\n",
       "      <td>0.308016</td>\n",
       "    </tr>\n",
       "    <tr>\n",
       "      <th>Tozeur</th>\n",
       "      <td>22.624485</td>\n",
       "      <td>0.944065</td>\n",
       "      <td>0.538481</td>\n",
       "      <td>0.303182</td>\n",
       "    </tr>\n",
       "  </tbody>\n",
       "</table>\n",
       "</div>"
      ],
      "text/plain": [
       "             wind_lcoe   pv_lcoe  diesel_lcoe  grid_lcoe\n",
       "province                                                \n",
       "Adrar        10.359339  0.770447     0.552987   0.311350\n",
       "Biskra       22.287251  0.950498     0.505705   0.284729\n",
       "Djelfa       12.942626  0.897963     0.508724   0.286428\n",
       "El Oued      18.697837  0.910149     0.541222   0.304726\n",
       "Gabes        15.892456  0.940353     0.547916   0.308495\n",
       "Ghadamis     11.332625  0.845636     0.520903   0.293286\n",
       "Ghardaia      8.050849  0.814292     0.533570   0.300418\n",
       "Gharyan      20.290699  1.140647     0.906686   0.510494\n",
       "Illizi       10.186315  0.759492     0.537884   0.302847\n",
       "Jufrah        9.897229  0.542032     0.373057   0.210044\n",
       "Kebili       33.818374  0.892538     0.519366   0.292420\n",
       "Khenchela    13.160667  0.936482     0.518608   0.291993\n",
       "Laghouat     15.905003  0.892408     0.491782   0.276890\n",
       "Musrata       7.111094  0.915122     0.530497   0.298687\n",
       "Ouargla      14.562422  0.849041     0.543685   0.306112\n",
       "Tamanrasset   5.487767  0.728551     0.534338   0.300850\n",
       "Tataouine    13.776067  0.879681     0.528359   0.297484\n",
       "Tebessa      17.680302  0.963059     0.547066   0.308016\n",
       "Tozeur       22.624485  0.944065     0.538481   0.303182"
      ]
     },
     "execution_count": 168,
     "metadata": {},
     "output_type": "execute_result"
    }
   ],
   "source": [
    "nwsas.df['wind_lcoe'] = nwsas.technologies['Wind power'].df['lcoe']\n",
    "nwsas.df['pv_lcoe'] = nwsas.technologies['Solar PV'].df['lcoe']\n",
    "nwsas.df['diesel_lcoe'] = nwsas.technologies['Diesel set'].df['lcoe']\n",
    "nwsas.df['grid_lcoe'] = nwsas.technologies['Grid pump'].df['lcoe']\n",
    "nwsas.df[['province','wind_lcoe','pv_lcoe', 'diesel_lcoe', 'grid_lcoe']].groupby('province').mean()"
   ]
  },
  {
   "cell_type": "code",
   "execution_count": null,
   "metadata": {},
   "outputs": [],
   "source": []
  }
 ],
 "metadata": {
  "kernelspec": {
   "display_name": "Python 3",
   "language": "python",
   "name": "python3"
  },
  "language_info": {
   "codemirror_mode": {
    "name": "ipython",
    "version": 3
   },
   "file_extension": ".py",
   "mimetype": "text/x-python",
   "name": "python",
   "nbconvert_exporter": "python",
   "pygments_lexer": "ipython3",
   "version": "3.7.3"
  }
 },
 "nbformat": 4,
 "nbformat_minor": 2
}
