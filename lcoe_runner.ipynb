{
 "cells": [
  {
   "cell_type": "markdown",
   "metadata": {},
   "source": [
    "# NEXUS tool: case study for the NWSAS basin - least-cost options calculations\n",
    "In this notebook a case study for the NWSAS basin is covered using the `nexus_tool` package. The energy requirements for agricultural irrigation were previously calculated (check the water demand and energy demand case studies). In this case study, the least-cost options to supply the energy needs for agricultural irrigation are identified.\n",
    "\n",
    "First import the package by running the following block:"
   ]
  },
  {
   "cell_type": "code",
   "execution_count": 107,
   "metadata": {},
   "outputs": [
    {
     "name": "stdout",
     "output_type": "stream",
     "text": [
      "The autoreload extension is already loaded. To reload it, use:\n",
      "  %reload_ext autoreload\n"
     ]
    }
   ],
   "source": [
    "%load_ext autoreload"
   ]
  },
  {
   "cell_type": "code",
   "execution_count": 108,
   "metadata": {},
   "outputs": [
    {
     "name": "stderr",
     "output_type": "stream",
     "text": [
      "[autoreload of nexus_tool failed: Traceback (most recent call last):\n",
      "  File \"C:\\Users\\camilorg\\AppData\\Local\\Continuum\\anaconda3\\lib\\site-packages\\IPython\\extensions\\autoreload.py\", line 245, in check\n",
      "    superreload(m, reload, self.old_objects)\n",
      "  File \"C:\\Users\\camilorg\\AppData\\Local\\Continuum\\anaconda3\\lib\\site-packages\\IPython\\extensions\\autoreload.py\", line 450, in superreload\n",
      "    update_generic(old_obj, new_obj)\n",
      "  File \"C:\\Users\\camilorg\\AppData\\Local\\Continuum\\anaconda3\\lib\\site-packages\\IPython\\extensions\\autoreload.py\", line 387, in update_generic\n",
      "    update(a, b)\n",
      "  File \"C:\\Users\\camilorg\\AppData\\Local\\Continuum\\anaconda3\\lib\\site-packages\\IPython\\extensions\\autoreload.py\", line 342, in update_class\n",
      "    if update_generic(old_obj, new_obj): continue\n",
      "  File \"C:\\Users\\camilorg\\AppData\\Local\\Continuum\\anaconda3\\lib\\site-packages\\IPython\\extensions\\autoreload.py\", line 387, in update_generic\n",
      "    update(a, b)\n",
      "  File \"C:\\Users\\camilorg\\AppData\\Local\\Continuum\\anaconda3\\lib\\site-packages\\IPython\\extensions\\autoreload.py\", line 357, in update_class\n",
      "    update_instances(old, new)\n",
      "  File \"C:\\Users\\camilorg\\AppData\\Local\\Continuum\\anaconda3\\lib\\site-packages\\IPython\\extensions\\autoreload.py\", line 280, in update_instances\n",
      "    frame = next(frame_nfo.frame for frame_nfo in inspect.stack()\n",
      "StopIteration\n",
      "]\n"
     ]
    }
   ],
   "source": [
    "%autoreload\n",
    "import nexus_tool"
   ]
  },
  {
   "cell_type": "code",
   "execution_count": 109,
   "metadata": {},
   "outputs": [],
   "source": [
    "file_path = r'nwsas_results/pumping_energy.csv'\n",
    "df = nexus_tool.read_csv(file_path)"
   ]
  },
  {
   "cell_type": "code",
   "execution_count": 110,
   "metadata": {},
   "outputs": [],
   "source": [
    "file_path = r'nwsas_data/Fuel_prices.xlsx'\n",
    "fuel_price = nexus_tool.read_excel(file_path)"
   ]
  },
  {
   "cell_type": "code",
   "execution_count": 111,
   "metadata": {},
   "outputs": [],
   "source": [
    "nwsas = nexus_tool.Model(df)\n",
    "nwsas.end_year = 2030\n",
    "nwsas.start_year = 2016\n",
    "nwsas.discount_rate = 0.05"
   ]
  },
  {
   "cell_type": "code",
   "execution_count": 112,
   "metadata": {},
   "outputs": [],
   "source": [
    "nwsas.df = nwsas.df.merge(fuel_price, on='country')"
   ]
  },
  {
   "cell_type": "code",
   "execution_count": 113,
   "metadata": {},
   "outputs": [],
   "source": [
    "nwsas.create_wind_turbine('Wind power', life=20,\n",
    "                          om_cost=0.02, capital_cost=1300,\n",
    "                          efficiency=0.6)"
   ]
  },
  {
   "cell_type": "code",
   "execution_count": 114,
   "metadata": {},
   "outputs": [],
   "source": [
    "nwsas.create_pv_system('Solar PV', life=15,\n",
    "                       om_cost=0.01, capital_cost=1140,\n",
    "                       efficiency=0.7)"
   ]
  },
  {
   "cell_type": "code",
   "execution_count": 115,
   "metadata": {},
   "outputs": [],
   "source": [
    "nwsas.create_standard_tech('Diesel set', life=10, om_cost=0.1,\n",
    "                           capital_cost=938, fuel_cost=nwsas.df['Dprice1'],\n",
    "                           fuel_req=0.095, efficiency=0.27, cf = 0.5,\n",
    "                           emission_factor=2.7, env_cost=0)"
   ]
  },
  {
   "cell_type": "code",
   "execution_count": 116,
   "metadata": {},
   "outputs": [],
   "source": [
    "nwsas.create_standard_tech('Grid pump', life=10, om_cost=0.1,\n",
    "                           capital_cost=845, fuel_cost=nwsas.df['Epricelow'],\n",
    "                           fuel_req=1, efficiency=0.55, cf = 0.8,\n",
    "                           emission_factor=0.728, env_cost=0)"
   ]
  },
  {
   "cell_type": "code",
   "execution_count": 122,
   "metadata": {},
   "outputs": [],
   "source": [
    "nwsas.get_cf(['Wind power', 'Solar PV'])\n",
    "nwsas.get_installed_capacity('all')\n",
    "nwsas.get_max_capacity('a')\n",
    "nwsas.get_lcoe()"
   ]
  },
  {
   "cell_type": "code",
   "execution_count": 123,
   "metadata": {},
   "outputs": [
    {
     "data": {
      "text/html": [
       "<div>\n",
       "<style scoped>\n",
       "    .dataframe tbody tr th:only-of-type {\n",
       "        vertical-align: middle;\n",
       "    }\n",
       "\n",
       "    .dataframe tbody tr th {\n",
       "        vertical-align: top;\n",
       "    }\n",
       "\n",
       "    .dataframe thead th {\n",
       "        text-align: right;\n",
       "    }\n",
       "</style>\n",
       "<table border=\"1\" class=\"dataframe\">\n",
       "  <thead>\n",
       "    <tr style=\"text-align: right;\">\n",
       "      <th></th>\n",
       "      <th>wind_lcoe</th>\n",
       "      <th>pv_lcoe</th>\n",
       "      <th>diesel_lcoe</th>\n",
       "      <th>grid_lcoe</th>\n",
       "    </tr>\n",
       "    <tr>\n",
       "      <th>province</th>\n",
       "      <th></th>\n",
       "      <th></th>\n",
       "      <th></th>\n",
       "      <th></th>\n",
       "    </tr>\n",
       "  </thead>\n",
       "  <tbody>\n",
       "    <tr>\n",
       "      <th>Adrar</th>\n",
       "      <td>10.359339</td>\n",
       "      <td>0.770447</td>\n",
       "      <td>0.612801</td>\n",
       "      <td>0.362259</td>\n",
       "    </tr>\n",
       "    <tr>\n",
       "      <th>Biskra</th>\n",
       "      <td>22.287251</td>\n",
       "      <td>0.950498</td>\n",
       "      <td>0.565520</td>\n",
       "      <td>0.335638</td>\n",
       "    </tr>\n",
       "    <tr>\n",
       "      <th>Djelfa</th>\n",
       "      <td>12.942626</td>\n",
       "      <td>0.897963</td>\n",
       "      <td>0.568539</td>\n",
       "      <td>0.337337</td>\n",
       "    </tr>\n",
       "    <tr>\n",
       "      <th>El Oued</th>\n",
       "      <td>18.697837</td>\n",
       "      <td>0.910149</td>\n",
       "      <td>0.601037</td>\n",
       "      <td>0.355635</td>\n",
       "    </tr>\n",
       "    <tr>\n",
       "      <th>Gabes</th>\n",
       "      <td>15.892456</td>\n",
       "      <td>0.940353</td>\n",
       "      <td>0.766064</td>\n",
       "      <td>0.490313</td>\n",
       "    </tr>\n",
       "    <tr>\n",
       "      <th>Ghadamis</th>\n",
       "      <td>11.332625</td>\n",
       "      <td>0.845636</td>\n",
       "      <td>0.559607</td>\n",
       "      <td>0.598376</td>\n",
       "    </tr>\n",
       "    <tr>\n",
       "      <th>Ghardaia</th>\n",
       "      <td>8.050849</td>\n",
       "      <td>0.814292</td>\n",
       "      <td>0.593385</td>\n",
       "      <td>0.351327</td>\n",
       "    </tr>\n",
       "    <tr>\n",
       "      <th>Gharyan</th>\n",
       "      <td>20.290699</td>\n",
       "      <td>1.140647</td>\n",
       "      <td>0.945389</td>\n",
       "      <td>0.815585</td>\n",
       "    </tr>\n",
       "    <tr>\n",
       "      <th>Illizi</th>\n",
       "      <td>10.186315</td>\n",
       "      <td>0.759492</td>\n",
       "      <td>0.597699</td>\n",
       "      <td>0.353756</td>\n",
       "    </tr>\n",
       "    <tr>\n",
       "      <th>Jufrah</th>\n",
       "      <td>9.897229</td>\n",
       "      <td>0.542032</td>\n",
       "      <td>0.411761</td>\n",
       "      <td>0.515134</td>\n",
       "    </tr>\n",
       "    <tr>\n",
       "      <th>Kebili</th>\n",
       "      <td>33.818374</td>\n",
       "      <td>0.892538</td>\n",
       "      <td>0.737514</td>\n",
       "      <td>0.474238</td>\n",
       "    </tr>\n",
       "    <tr>\n",
       "      <th>Khenchela</th>\n",
       "      <td>13.160667</td>\n",
       "      <td>0.936482</td>\n",
       "      <td>0.578422</td>\n",
       "      <td>0.342902</td>\n",
       "    </tr>\n",
       "    <tr>\n",
       "      <th>Laghouat</th>\n",
       "      <td>15.905003</td>\n",
       "      <td>0.892408</td>\n",
       "      <td>0.551597</td>\n",
       "      <td>0.327799</td>\n",
       "    </tr>\n",
       "    <tr>\n",
       "      <th>Musrata</th>\n",
       "      <td>7.111094</td>\n",
       "      <td>0.915122</td>\n",
       "      <td>0.569200</td>\n",
       "      <td>0.603778</td>\n",
       "    </tr>\n",
       "    <tr>\n",
       "      <th>Ouargla</th>\n",
       "      <td>14.562422</td>\n",
       "      <td>0.849041</td>\n",
       "      <td>0.603499</td>\n",
       "      <td>0.357021</td>\n",
       "    </tr>\n",
       "    <tr>\n",
       "      <th>Tamanrasset</th>\n",
       "      <td>5.487767</td>\n",
       "      <td>0.728551</td>\n",
       "      <td>0.594153</td>\n",
       "      <td>0.351759</td>\n",
       "    </tr>\n",
       "    <tr>\n",
       "      <th>Tataouine</th>\n",
       "      <td>13.776067</td>\n",
       "      <td>0.879681</td>\n",
       "      <td>0.746507</td>\n",
       "      <td>0.479302</td>\n",
       "    </tr>\n",
       "    <tr>\n",
       "      <th>Tebessa</th>\n",
       "      <td>17.680302</td>\n",
       "      <td>0.963059</td>\n",
       "      <td>0.606881</td>\n",
       "      <td>0.358925</td>\n",
       "    </tr>\n",
       "    <tr>\n",
       "      <th>Tozeur</th>\n",
       "      <td>22.624485</td>\n",
       "      <td>0.944065</td>\n",
       "      <td>0.756629</td>\n",
       "      <td>0.485001</td>\n",
       "    </tr>\n",
       "  </tbody>\n",
       "</table>\n",
       "</div>"
      ],
      "text/plain": [
       "             wind_lcoe   pv_lcoe  diesel_lcoe  grid_lcoe\n",
       "province                                                \n",
       "Adrar        10.359339  0.770447     0.612801   0.362259\n",
       "Biskra       22.287251  0.950498     0.565520   0.335638\n",
       "Djelfa       12.942626  0.897963     0.568539   0.337337\n",
       "El Oued      18.697837  0.910149     0.601037   0.355635\n",
       "Gabes        15.892456  0.940353     0.766064   0.490313\n",
       "Ghadamis     11.332625  0.845636     0.559607   0.598376\n",
       "Ghardaia      8.050849  0.814292     0.593385   0.351327\n",
       "Gharyan      20.290699  1.140647     0.945389   0.815585\n",
       "Illizi       10.186315  0.759492     0.597699   0.353756\n",
       "Jufrah        9.897229  0.542032     0.411761   0.515134\n",
       "Kebili       33.818374  0.892538     0.737514   0.474238\n",
       "Khenchela    13.160667  0.936482     0.578422   0.342902\n",
       "Laghouat     15.905003  0.892408     0.551597   0.327799\n",
       "Musrata       7.111094  0.915122     0.569200   0.603778\n",
       "Ouargla      14.562422  0.849041     0.603499   0.357021\n",
       "Tamanrasset   5.487767  0.728551     0.594153   0.351759\n",
       "Tataouine    13.776067  0.879681     0.746507   0.479302\n",
       "Tebessa      17.680302  0.963059     0.606881   0.358925\n",
       "Tozeur       22.624485  0.944065     0.756629   0.485001"
      ]
     },
     "execution_count": 123,
     "metadata": {},
     "output_type": "execute_result"
    }
   ],
   "source": [
    "nwsas.df['wind_lcoe'] = nwsas.technologies['Wind power'].df['lcoe']\n",
    "nwsas.df['pv_lcoe'] = nwsas.technologies['Solar PV'].df['lcoe']\n",
    "nwsas.df['diesel_lcoe'] = nwsas.technologies['Diesel set'].df['lcoe']\n",
    "nwsas.df['grid_lcoe'] = nwsas.technologies['Grid pump'].df['lcoe']\n",
    "nwsas.df[['province','wind_lcoe','pv_lcoe', 'diesel_lcoe', 'grid_lcoe']].groupby('province').mean()"
   ]
  },
  {
   "cell_type": "code",
   "execution_count": null,
   "metadata": {},
   "outputs": [],
   "source": []
  }
 ],
 "metadata": {
  "kernelspec": {
   "display_name": "Python 3",
   "language": "python",
   "name": "python3"
  },
  "language_info": {
   "codemirror_mode": {
    "name": "ipython",
    "version": 3
   },
   "file_extension": ".py",
   "mimetype": "text/x-python",
   "name": "python",
   "nbconvert_exporter": "python",
   "pygments_lexer": "ipython3",
   "version": "3.7.3"
  }
 },
 "nbformat": 4,
 "nbformat_minor": 2
}
