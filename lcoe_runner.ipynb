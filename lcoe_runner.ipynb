{
 "cells": [
  {
   "cell_type": "markdown",
   "metadata": {},
   "source": [
    "# NEXUS tool: case study for the NWSAS basin - least-cost options calculations\n",
    "In this notebook a case study for the NWSAS basin is covered using the `nexus_tool` package. The energy requirements for agricultural irrigation were previously calculated (check the water demand and energy demand case studies). In this case study, the least-cost options to supply the energy needs for agricultural irrigation are identified.\n",
    "\n",
    "First import the package by running the following block:"
   ]
  },
  {
   "cell_type": "code",
   "execution_count": 70,
   "metadata": {},
   "outputs": [
    {
     "name": "stdout",
     "output_type": "stream",
     "text": [
      "The autoreload extension is already loaded. To reload it, use:\n",
      "  %reload_ext autoreload\n"
     ]
    }
   ],
   "source": [
    "%load_ext autoreload"
   ]
  },
  {
   "cell_type": "code",
   "execution_count": 71,
   "metadata": {},
   "outputs": [
    {
     "name": "stderr",
     "output_type": "stream",
     "text": [
      "[autoreload of nexus_tool failed: Traceback (most recent call last):\n",
      "  File \"C:\\Users\\camilorg\\AppData\\Local\\Continuum\\anaconda3\\lib\\site-packages\\IPython\\extensions\\autoreload.py\", line 245, in check\n",
      "    superreload(m, reload, self.old_objects)\n",
      "  File \"C:\\Users\\camilorg\\AppData\\Local\\Continuum\\anaconda3\\lib\\site-packages\\IPython\\extensions\\autoreload.py\", line 450, in superreload\n",
      "    update_generic(old_obj, new_obj)\n",
      "  File \"C:\\Users\\camilorg\\AppData\\Local\\Continuum\\anaconda3\\lib\\site-packages\\IPython\\extensions\\autoreload.py\", line 387, in update_generic\n",
      "    update(a, b)\n",
      "  File \"C:\\Users\\camilorg\\AppData\\Local\\Continuum\\anaconda3\\lib\\site-packages\\IPython\\extensions\\autoreload.py\", line 342, in update_class\n",
      "    if update_generic(old_obj, new_obj): continue\n",
      "  File \"C:\\Users\\camilorg\\AppData\\Local\\Continuum\\anaconda3\\lib\\site-packages\\IPython\\extensions\\autoreload.py\", line 387, in update_generic\n",
      "    update(a, b)\n",
      "  File \"C:\\Users\\camilorg\\AppData\\Local\\Continuum\\anaconda3\\lib\\site-packages\\IPython\\extensions\\autoreload.py\", line 357, in update_class\n",
      "    update_instances(old, new)\n",
      "  File \"C:\\Users\\camilorg\\AppData\\Local\\Continuum\\anaconda3\\lib\\site-packages\\IPython\\extensions\\autoreload.py\", line 280, in update_instances\n",
      "    frame = next(frame_nfo.frame for frame_nfo in inspect.stack()\n",
      "StopIteration\n",
      "]\n"
     ]
    }
   ],
   "source": [
    "%autoreload\n",
    "import nexus_tool"
   ]
  },
  {
   "cell_type": "code",
   "execution_count": 72,
   "metadata": {},
   "outputs": [],
   "source": [
    "file_path = r'nwsas_results/pumping_energy.csv'\n",
    "df = nexus_tool.read_csv(file_path)"
   ]
  },
  {
   "cell_type": "code",
   "execution_count": 73,
   "metadata": {},
   "outputs": [],
   "source": [
    "nwsas = nexus_tool.Model(df)"
   ]
  },
  {
   "cell_type": "code",
   "execution_count": 74,
   "metadata": {},
   "outputs": [],
   "source": [
    "nwsas.create_wind_turbine('Wind power', life=20,\n",
    "                          om_cost=0.02, capital_cost=1300,\n",
    "                          efficiency=0.6)"
   ]
  },
  {
   "cell_type": "code",
   "execution_count": 75,
   "metadata": {},
   "outputs": [],
   "source": [
    "nwsas.get_wind_cf('Wind power')\n",
    "nwsas.get_installed_capacity('Wind power')\n",
    "nwsas.get_max_capacity('Wind power')"
   ]
  },
  {
   "cell_type": "code",
   "execution_count": 76,
   "metadata": {},
   "outputs": [],
   "source": [
    "nwsas.end_year = 2030\n",
    "nwsas.start_year = 2016\n",
    "nwsas.discount_rate = 0.05\n",
    "nwsas.get_lcoe('Wind power')"
   ]
  },
  {
   "cell_type": "code",
   "execution_count": 77,
   "metadata": {},
   "outputs": [],
   "source": [
    "nwsas.create_pv_system('Solar PV', life=15,\n",
    "                       om_cost=0.01, capital_cost=1140,\n",
    "                       efficiency=0.7)"
   ]
  },
  {
   "cell_type": "code",
   "execution_count": 78,
   "metadata": {},
   "outputs": [],
   "source": [
    "nwsas.get_pv_cf('Solar PV')\n",
    "nwsas.get_installed_capacity('Solar PV')\n",
    "nwsas.get_max_capacity('Solar PV')"
   ]
  },
  {
   "cell_type": "code",
   "execution_count": 79,
   "metadata": {},
   "outputs": [],
   "source": [
    "nwsas.end_year = 2030\n",
    "nwsas.start_year = 2016\n",
    "nwsas.discount_rate = 0.05\n",
    "nwsas.get_lcoe('Solar PV')"
   ]
  },
  {
   "cell_type": "code",
   "execution_count": 80,
   "metadata": {},
   "outputs": [
    {
     "data": {
      "text/html": [
       "<div>\n",
       "<style scoped>\n",
       "    .dataframe tbody tr th:only-of-type {\n",
       "        vertical-align: middle;\n",
       "    }\n",
       "\n",
       "    .dataframe tbody tr th {\n",
       "        vertical-align: top;\n",
       "    }\n",
       "\n",
       "    .dataframe thead th {\n",
       "        text-align: right;\n",
       "    }\n",
       "</style>\n",
       "<table border=\"1\" class=\"dataframe\">\n",
       "  <thead>\n",
       "    <tr style=\"text-align: right;\">\n",
       "      <th></th>\n",
       "      <th>wind_lcoe</th>\n",
       "      <th>pv_lcoe</th>\n",
       "    </tr>\n",
       "    <tr>\n",
       "      <th>province</th>\n",
       "      <th></th>\n",
       "      <th></th>\n",
       "    </tr>\n",
       "  </thead>\n",
       "  <tbody>\n",
       "    <tr>\n",
       "      <th>Adrar</th>\n",
       "      <td>10.359339</td>\n",
       "      <td>0.770447</td>\n",
       "    </tr>\n",
       "    <tr>\n",
       "      <th>Biskra</th>\n",
       "      <td>22.287251</td>\n",
       "      <td>0.950498</td>\n",
       "    </tr>\n",
       "    <tr>\n",
       "      <th>Djelfa</th>\n",
       "      <td>12.942626</td>\n",
       "      <td>0.897963</td>\n",
       "    </tr>\n",
       "    <tr>\n",
       "      <th>El Oued</th>\n",
       "      <td>18.697837</td>\n",
       "      <td>0.910149</td>\n",
       "    </tr>\n",
       "    <tr>\n",
       "      <th>Gabes</th>\n",
       "      <td>15.892456</td>\n",
       "      <td>0.940353</td>\n",
       "    </tr>\n",
       "    <tr>\n",
       "      <th>Ghadamis</th>\n",
       "      <td>11.332625</td>\n",
       "      <td>0.845636</td>\n",
       "    </tr>\n",
       "    <tr>\n",
       "      <th>Ghardaia</th>\n",
       "      <td>8.050849</td>\n",
       "      <td>0.814292</td>\n",
       "    </tr>\n",
       "    <tr>\n",
       "      <th>Gharyan</th>\n",
       "      <td>20.290699</td>\n",
       "      <td>1.140647</td>\n",
       "    </tr>\n",
       "    <tr>\n",
       "      <th>Illizi</th>\n",
       "      <td>10.186315</td>\n",
       "      <td>0.759492</td>\n",
       "    </tr>\n",
       "    <tr>\n",
       "      <th>Jufrah</th>\n",
       "      <td>9.897229</td>\n",
       "      <td>0.542032</td>\n",
       "    </tr>\n",
       "    <tr>\n",
       "      <th>Kebili</th>\n",
       "      <td>33.818374</td>\n",
       "      <td>0.892538</td>\n",
       "    </tr>\n",
       "    <tr>\n",
       "      <th>Khenchela</th>\n",
       "      <td>13.160667</td>\n",
       "      <td>0.936482</td>\n",
       "    </tr>\n",
       "    <tr>\n",
       "      <th>Laghouat</th>\n",
       "      <td>15.905003</td>\n",
       "      <td>0.892408</td>\n",
       "    </tr>\n",
       "    <tr>\n",
       "      <th>Musrata</th>\n",
       "      <td>7.111094</td>\n",
       "      <td>0.915122</td>\n",
       "    </tr>\n",
       "    <tr>\n",
       "      <th>Ouargla</th>\n",
       "      <td>14.562422</td>\n",
       "      <td>0.849041</td>\n",
       "    </tr>\n",
       "    <tr>\n",
       "      <th>Tamanrasset</th>\n",
       "      <td>5.487767</td>\n",
       "      <td>0.728551</td>\n",
       "    </tr>\n",
       "    <tr>\n",
       "      <th>Tataouine</th>\n",
       "      <td>13.776067</td>\n",
       "      <td>0.879681</td>\n",
       "    </tr>\n",
       "    <tr>\n",
       "      <th>Tebessa</th>\n",
       "      <td>17.680302</td>\n",
       "      <td>0.963059</td>\n",
       "    </tr>\n",
       "    <tr>\n",
       "      <th>Tozeur</th>\n",
       "      <td>22.624485</td>\n",
       "      <td>0.944065</td>\n",
       "    </tr>\n",
       "  </tbody>\n",
       "</table>\n",
       "</div>"
      ],
      "text/plain": [
       "             wind_lcoe   pv_lcoe\n",
       "province                        \n",
       "Adrar        10.359339  0.770447\n",
       "Biskra       22.287251  0.950498\n",
       "Djelfa       12.942626  0.897963\n",
       "El Oued      18.697837  0.910149\n",
       "Gabes        15.892456  0.940353\n",
       "Ghadamis     11.332625  0.845636\n",
       "Ghardaia      8.050849  0.814292\n",
       "Gharyan      20.290699  1.140647\n",
       "Illizi       10.186315  0.759492\n",
       "Jufrah        9.897229  0.542032\n",
       "Kebili       33.818374  0.892538\n",
       "Khenchela    13.160667  0.936482\n",
       "Laghouat     15.905003  0.892408\n",
       "Musrata       7.111094  0.915122\n",
       "Ouargla      14.562422  0.849041\n",
       "Tamanrasset   5.487767  0.728551\n",
       "Tataouine    13.776067  0.879681\n",
       "Tebessa      17.680302  0.963059\n",
       "Tozeur       22.624485  0.944065"
      ]
     },
     "execution_count": 80,
     "metadata": {},
     "output_type": "execute_result"
    }
   ],
   "source": [
    "nwsas.df['wind_lcoe'] = nwsas.technologies['Wind power'].df['lcoe']\n",
    "nwsas.df['pv_lcoe'] = nwsas.technologies['Solar PV'].df['lcoe']\n",
    "nwsas.df[['province','wind_lcoe','pv_lcoe']].groupby('province').mean()"
   ]
  },
  {
   "cell_type": "code",
   "execution_count": null,
   "metadata": {},
   "outputs": [],
   "source": []
  }
 ],
 "metadata": {
  "kernelspec": {
   "display_name": "Python 3",
   "language": "python",
   "name": "python3"
  },
  "language_info": {
   "codemirror_mode": {
    "name": "ipython",
    "version": 3
   },
   "file_extension": ".py",
   "mimetype": "text/x-python",
   "name": "python",
   "nbconvert_exporter": "python",
   "pygments_lexer": "ipython3",
   "version": "3.7.3"
  }
 },
 "nbformat": 4,
 "nbformat_minor": 2
}
